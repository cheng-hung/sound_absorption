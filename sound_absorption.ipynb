{
 "cells": [
  {
   "cell_type": "code",
   "execution_count": 1,
   "metadata": {
    "collapsed": false,
    "jupyter": {
     "outputs_hidden": false
    }
   },
   "outputs": [],
   "source": [
    "import numpy as np\n",
    "import matplotlib.pyplot as plt"
   ]
  },
  {
   "cell_type": "code",
   "execution_count": 2,
   "metadata": {},
   "outputs": [],
   "source": [
    "%matplotlib widget"
   ]
  },
  {
   "cell_type": "markdown",
   "metadata": {},
   "source": [
    "### Reference: Influence of hole shape on sound absorption of underwater anechoic layers\n",
    "#### https://www.sciencedirect.com/science/article/abs/pii/S0022460X1830227X"
   ]
  },
  {
   "cell_type": "markdown",
   "metadata": {},
   "source": [
    "### Start at eq(15) in the paper"
   ]
  },
  {
   "cell_type": "code",
   "execution_count": 3,
   "metadata": {},
   "outputs": [],
   "source": [
    "## The effective density: (15)\n",
    "## ai represents the inner radii of the pipe in the i th layer\n",
    "def ith_effect_density(ai, cell_radius, rubber_den, air_den):\n",
    "    return rubber_den*(1-(ai/cell_radius)**2) + air_den*(ai/cell_radius)**2\n",
    "\n",
    "\n",
    "\n",
    "## The effective impedance of the i th segment: (16)\n",
    "def ith_effect_impedance(ith_effect_density, omega, wave_number):\n",
    "    return ith_effect_density*omega/wave_number\n",
    "\n",
    "\n",
    "## The transfer matrix of the i th segment: (17)\n",
    "def ith_tran_matrix(wave_number, li, ith_impedance):\n",
    "    ti = np.zeros((2,2), dtype=complex)\n",
    "    ti[0,0] = np.cos(wave_number*li)\n",
    "    ti[0,1] = -1j*np.sin(wave_number*li)*ith_impedance\n",
    "    ti[1,0] = -1j*np.sin(wave_number*li)/ith_impedance\n",
    "    ti[1,1] = np.cos(wave_number*li)\n",
    "    return ti\n",
    "\n",
    "## The successive multi-plication of the transfer matrix of each segment: (18)\n",
    "def total_tran_matrix(wave_number, lh, n, impedance):\n",
    "    li = lh/n\n",
    "    \n",
    "    try:\n",
    "        t0 = ith_tran_matrix(wave_number[0], li, impedance[0])\n",
    "        tn=t0\n",
    "        for i in range(1, n):\n",
    "            tn = np.matmul(tn, ith_tran_matrix(wave_number[i], li, impedance[i]))\n",
    "        \n",
    "    except IndexError:\n",
    "        t0 = ith_tran_matrix(wave_number, li, impedance[0])\n",
    "        tn=t0\n",
    "        for i in range(1, n):\n",
    "            tn = np.matmul(tn, ith_tran_matrix(wave_number, li, impedance[i]))        \n",
    "    \n",
    "    return tn\n",
    "    \n",
    "\n",
    "## The impedance of the front interface Zf: (22)\n",
    "def imped_front(tn):\n",
    "    # zf = np.absolute(tn[0,0]/tn[1,0])\n",
    "    zf = (tn[0,0]/tn[1,0])\n",
    "    return zf\n",
    "\n",
    "\n",
    "## The reflection coefficient of the anechoic layer: (23)\n",
    "def reflection_coefficient(zf,zw):\n",
    "    return (zf-zw)/(zf+zw)\n",
    "\n",
    "\n",
    "## The sound absorption coefficient: (24)\n",
    "def absorption_coefficient(reflection):\n",
    "    return 1-np.absolute(reflection)**2"
   ]
  },
  {
   "cell_type": "code",
   "execution_count": 4,
   "metadata": {},
   "outputs": [],
   "source": [
    "## Effective radius of cone shape: (25-27)\n",
    "def effective_radius(pcone, qcone, lh, num_segments, shape='cone'):\n",
    "    if shape == 'cone':\n",
    "        alpha = (qcone-pcone)/lh\n",
    "        beta = pcone\n",
    "        lh_n = np.linspace(0, lh, num_segments)\n",
    "        r_effective = alpha*lh_n + beta\n",
    "    return r_effective\n"
   ]
  },
  {
   "cell_type": "code",
   "execution_count": null,
   "metadata": {},
   "outputs": [],
   "source": []
  },
  {
   "cell_type": "code",
   "execution_count": null,
   "metadata": {},
   "outputs": [],
   "source": []
  },
  {
   "cell_type": "code",
   "execution_count": null,
   "metadata": {},
   "outputs": [],
   "source": []
  },
  {
   "cell_type": "markdown",
   "metadata": {
    "tags": []
   },
   "source": [
    "## Constants and Modulus\n",
    "\n",
    "#### https://en.wikipedia.org/wiki/Lam%C3%A9_parameters\n",
    "#### https://en.wikipedia.org/wiki/Shear_modulus\n",
    "\n",
    "#### shear_modulus = Young_modulus/(2*(1+Poisson_ratio))\n",
    "#### lame_const = Young_modulus*Poisson_ratio/((1+Poisson_ratio)*(1-2*Poisson_ratio))\n",
    "#### longitudinal_modulus = lame_const + 2*shear_modulus\n",
    "#### Young's modulus of rubber (GPa): 0.14\n",
    "#### Loss factor of rubber 0.23\n",
    "#### Poisson ratio of rubber 0.49\n",
    "\n",
    "All units are in SI\n",
    "\n",
    "Density of rubber (kg/m3): 1100\n",
    "\n",
    "Density of air (kg/m3): 1.21\n",
    "\n",
    "Assume the pipe has a conical shape, as Fig. 7(a) in the paper:\n",
    "\n",
    "pcone = 4 mm\n",
    "\n",
    "qcone = 8 mm\n",
    "\n",
    "lh = 40 mm\n",
    "\n",
    "cell_radius = 15 mm\n",
    "\n",
    "Assume 100 segments: num_segments = 100\n",
    "\n",
    "Density of water (kg/m3): 998\n",
    "\n",
    "Sound speed of water (m/s): 1483"
   ]
  },
  {
   "cell_type": "code",
   "execution_count": 5,
   "metadata": {},
   "outputs": [],
   "source": [
    "# def shear_m(Young_m, Poisson_r):\n",
    "#     return Young_m/(2*(1+Poisson_r))\n",
    "\n",
    "# def lame_const(Young_m, Poisson_r):\n",
    "#     return Young_m*Poisson_r/((1+Poisson_r)*(1-2*Poisson_r))\n",
    "\n",
    "def longitudinal_m(Yong_m, Poisson_r, loss_factor):\n",
    "    return Yong_m*(1-Poisson_r)*(1-1j*loss_factor)/((1+Poisson_r)*(1-2*Poisson_r))\n",
    "    \n",
    "def ith_effect_speed(longitudinal_m, density, loss_factor):\n",
    "    speed = np.sqrt(longitudinal_m/density)\n",
    "    # damping = np.sqrt(1+1j*loss_factor)\n",
    "    return speed"
   ]
  },
  {
   "cell_type": "markdown",
   "metadata": {},
   "source": [
    "### Test above defined functions for a single frequency"
   ]
  },
  {
   "cell_type": "code",
   "execution_count": 6,
   "metadata": {},
   "outputs": [],
   "source": [
    "frequency = 8000 #np.arange(0.1, 10000, 50)\n",
    "omega = frequency * 2 * np.pi\n",
    "\n",
    "Young_molulus = 0.14*(10**9)\n",
    "Poisson_ratio = 0.49\n",
    "loss_factor = 0.23\n",
    "# shear_modulus = shear_m(Young_molulus, 0.49)\n",
    "# lame_constant = lame_const(Young_molulus, 0.49)\n",
    "longitudinal_modulus = longitudinal_m(Young_molulus, Poisson_ratio, loss_factor)\n",
    "\n",
    "ai = effective_radius(4*0.001, 8*0.001, 40*0.001, 100, shape='cone')\n",
    "effective_density = ith_effect_density(ai, 15*0.001, 1100, 1.21)\n",
    "\n",
    "effective_speed = ith_effect_speed(longitudinal_modulus, effective_density, loss_factor)\n",
    "\n",
    "wave_number = omega / effective_speed\n",
    "\n",
    "effective_impedance = ith_effect_impedance(effective_density, omega, wave_number)\n",
    "tn = total_tran_matrix(wave_number, 40*0.001, 100, effective_impedance)\n",
    "\n",
    "## Acoustic impdedance of water: 1.48 MPa.s.m−1\n",
    "## https://www.animations.physics.unsw.edu.au/jw/sound-impedance-intensity.htm\n",
    "\n",
    "zw = 998*1483\n",
    "zf = imped_front(tn)\n",
    "ref = reflection_coefficient(zf, zw)\n",
    "alpha = absorption_coefficient(ref)"
   ]
  },
  {
   "cell_type": "code",
   "execution_count": 7,
   "metadata": {},
   "outputs": [
    {
     "data": {
      "text/plain": [
       "(1541.2066835430624-174.9548074285534j)"
      ]
     },
     "execution_count": 7,
     "metadata": {},
     "output_type": "execute_result"
    }
   ],
   "source": [
    "effective_speed[0]"
   ]
  },
  {
   "cell_type": "code",
   "execution_count": 8,
   "metadata": {},
   "outputs": [
    {
     "data": {
      "text/plain": [
       "0.5180072310934158"
      ]
     },
     "execution_count": 8,
     "metadata": {},
     "output_type": "execute_result"
    }
   ],
   "source": [
    "alpha"
   ]
  },
  {
   "cell_type": "code",
   "execution_count": null,
   "metadata": {},
   "outputs": [],
   "source": []
  },
  {
   "cell_type": "markdown",
   "metadata": {},
   "source": [
    "### Integrate all calculations into one function"
   ]
  },
  {
   "cell_type": "code",
   "execution_count": 9,
   "metadata": {},
   "outputs": [],
   "source": [
    "def absorption_frequency(frequency_array, pcone, qcone, lh, num_segments, \n",
    "                         Young_m, Poisson_r, loss_factor, \n",
    "                         cell_radius, rubber_den, air_den):\n",
    "    \n",
    "    frequency_array = np.asarray(frequency_array)\n",
    "    absorption_list = []\n",
    "    \n",
    "    for frequency in frequency_array:\n",
    "       \n",
    "        omega = frequency * 2 * np.pi\n",
    "\n",
    "        ai = effective_radius(pcone, qcone, lh, num_segments, shape='cone')\n",
    "        effective_density = ith_effect_density(ai, cell_radius, rubber_den, air_den)\n",
    "        \n",
    "        longitudinal_modulus = longitudinal_m(Young_m, Poisson_r, loss_factor)\n",
    "        \n",
    "        effective_speed = ith_effect_speed(longitudinal_modulus, effective_density, loss_factor)\n",
    "        wave_number = omega / effective_speed\n",
    "        \n",
    "        effective_impedance = ith_effect_impedance(effective_density, omega, wave_number)\n",
    "        tn = total_tran_matrix(wave_number, lh, num_segments, effective_impedance)\n",
    "\n",
    "        ## Acoustic impdedance of water: 1.48 MPa.s.m−1\n",
    "        ## https://www.animations.physics.unsw.edu.au/jw/sound-impedance-intensity.htm\n",
    "\n",
    "        zw = 998*1483\n",
    "        zf = imped_front(tn)\n",
    "        ref = reflection_coefficient(zf, zw)\n",
    "        alpha = absorption_coefficient(ref)   \n",
    "        absorption_list.append(alpha)\n",
    "        \n",
    "    return np.asarray(absorption_list)\n"
   ]
  },
  {
   "cell_type": "code",
   "execution_count": 10,
   "metadata": {},
   "outputs": [],
   "source": [
    "frequency_array = np.arange(0.1, 10000, 50)\n",
    "absorption_array = absorption_frequency(frequency_array, 4*0.001, 8*0.001, 40*0.001, 100,\n",
    "                                        0.14*(10**9), 0.49, 0.23, \n",
    "                                        15*0.001, 1100, 1.21)"
   ]
  },
  {
   "cell_type": "code",
   "execution_count": null,
   "metadata": {},
   "outputs": [],
   "source": []
  },
  {
   "cell_type": "code",
   "execution_count": 11,
   "metadata": {},
   "outputs": [
    {
     "data": {
      "text/plain": [
       "[<matplotlib.lines.Line2D at 0x7f9e9878d490>]"
      ]
     },
     "execution_count": 11,
     "metadata": {},
     "output_type": "execute_result"
    },
    {
     "data": {
      "application/vnd.jupyter.widget-view+json": {
       "model_id": "1ab8783da992430a82962a2521338ff6",
       "version_major": 2,
       "version_minor": 0
      },
      "image/png": "[encoded data removed]",
      "text/html": [
       "\n",
       "            <div style=\"display: inline-block;\">\n",
       "                <div class=\"jupyter-widgets widget-label\" style=\"text-align: center;\">\n",
       "                    Figure\n",
       "                </div>\n",
       "                <img src='data:image/png;base64,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' width=600.0/>\n",
       "            </div>\n",
       "        "
      ],
      "text/plain": [
       "Canvas(toolbar=Toolbar(toolitems=[('Home', 'Reset original view', 'home', 'home'), ('Back', 'Back to previous …"
      ]
     },
     "metadata": {},
     "output_type": "display_data"
    }
   ],
   "source": [
    "rows = 1\n",
    "cols = 1\n",
    "f1, ax1 = plt.subplots(rows, cols, figsize = (6, 4), constrained_layout=True)\n",
    "ax1.plot(frequency_array, absorption_array)"
   ]
  },
  {
   "cell_type": "code",
   "execution_count": null,
   "metadata": {},
   "outputs": [],
   "source": []
  },
  {
   "cell_type": "code",
   "execution_count": null,
   "metadata": {},
   "outputs": [],
   "source": []
  },
  {
   "cell_type": "code",
   "execution_count": null,
   "metadata": {},
   "outputs": [],
   "source": []
  }
 ],
 "metadata": {
  "anaconda-cloud": {},
  "kernelspec": {
   "display_name": "Python 3 (ipykernel)",
   "language": "python",
   "name": "python3"
  },
  "language_info": {
   "codemirror_mode": {
    "name": "ipython",
    "version": 3
   },
   "file_extension": ".py",
   "mimetype": "text/x-python",
   "name": "python",
   "nbconvert_exporter": "python",
   "pygments_lexer": "ipython3",
   "version": "3.9.7"
  }
 },
 "nbformat": 4,
 "nbformat_minor": 4
}
