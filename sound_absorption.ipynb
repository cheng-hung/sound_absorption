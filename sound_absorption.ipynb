{
 "cells": [
  {
   "cell_type": "code",
   "execution_count": 1,
   "metadata": {
    "collapsed": false,
    "jupyter": {
     "outputs_hidden": false
    }
   },
   "outputs": [],
   "source": [
    "import numpy as np\n",
    "import matplotlib.pyplot as plt\n",
    "import pandas as pd"
   ]
  },
  {
   "cell_type": "code",
   "execution_count": 2,
   "metadata": {},
   "outputs": [],
   "source": [
    "%matplotlib widget"
   ]
  },
  {
   "cell_type": "code",
   "execution_count": 3,
   "metadata": {},
   "outputs": [],
   "source": [
    "import warnings\n",
    "warnings.filterwarnings(\"ignore\", category=RuntimeWarning)"
   ]
  },
  {
   "cell_type": "markdown",
   "metadata": {},
   "source": [
    "### Reference: Influence of hole shape on sound absorption of underwater anechoic layers\n",
    "#### https://www.sciencedirect.com/science/article/abs/pii/S0022460X1830227X"
   ]
  },
  {
   "cell_type": "markdown",
   "metadata": {},
   "source": [
    "### Import pre-defined class and function"
   ]
  },
  {
   "cell_type": "code",
   "execution_count": 4,
   "metadata": {},
   "outputs": [],
   "source": [
    "%run -i hole_shape_sound_absorption.py"
   ]
  },
  {
   "cell_type": "markdown",
   "metadata": {},
   "source": [
    "### Define the determinant of the coefficient matrix of eq(14) in the paper"
   ]
  },
  {
   "cell_type": "code",
   "execution_count": 5,
   "metadata": {},
   "outputs": [
    {
     "data": {
      "text/latex": [
       "$\\displaystyle \\left[\\begin{matrix}- \\sqrt{- kz^{2} + \\frac{\\omega^{2}}{cl^{2}}} J_{1}\\left(b \\sqrt{- kz^{2} + \\frac{\\omega^{2}}{cl^{2}}}\\right) & - \\sqrt{- kz^{2} + \\frac{\\omega^{2}}{cl^{2}}} Y_{1}\\left(b \\sqrt{- kz^{2} + \\frac{\\omega^{2}}{cl^{2}}}\\right) & - i kz \\sqrt{- kz^{2} + \\frac{\\omega^{2}}{ct^{2}}} J_{1}\\left(b \\sqrt{- kz^{2} + \\frac{\\omega^{2}}{ct^{2}}}\\right) & - i kz \\sqrt{- kz^{2} + \\frac{\\omega^{2}}{ct^{2}}} Y_{1}\\left(b \\sqrt{- kz^{2} + \\frac{\\omega^{2}}{ct^{2}}}\\right)\\\\\\left(- 2 \\mu \\left(- kz^{2} + \\frac{\\omega^{2}}{cl^{2}}\\right) - \\frac{\\lambda \\omega^{2}}{cl^{2}}\\right) J_{0}\\left(a \\sqrt{- kz^{2} + \\frac{\\omega^{2}}{cl^{2}}}\\right) + \\frac{2 \\mu \\sqrt{- kz^{2} + \\frac{\\omega^{2}}{cl^{2}}} J_{1}\\left(a \\sqrt{- kz^{2} + \\frac{\\omega^{2}}{cl^{2}}}\\right)}{a} & \\left(- 2 \\mu \\left(- kz^{2} + \\frac{\\omega^{2}}{cl^{2}}\\right) - \\frac{\\lambda \\omega^{2}}{cl^{2}}\\right) Y_{0}\\left(a \\sqrt{- kz^{2} + \\frac{\\omega^{2}}{cl^{2}}}\\right) + \\frac{2 \\mu \\sqrt{- kz^{2} + \\frac{\\omega^{2}}{cl^{2}}} Y_{1}\\left(a \\sqrt{- kz^{2} + \\frac{\\omega^{2}}{cl^{2}}}\\right)}{a} & 2 i kz \\mu \\sqrt{- kz^{2} + \\frac{\\omega^{2}}{ct^{2}}} \\left(- \\sqrt{- kz^{2} + \\frac{\\omega^{2}}{ct^{2}}} J_{0}\\left(a \\sqrt{- kz^{2} + \\frac{\\omega^{2}}{ct^{2}}}\\right) + \\frac{J_{1}\\left(a \\sqrt{- kz^{2} + \\frac{\\omega^{2}}{ct^{2}}}\\right)}{a}\\right) & 2 i kz \\mu \\sqrt{- kz^{2} + \\frac{\\omega^{2}}{ct^{2}}} \\left(- \\sqrt{- kz^{2} + \\frac{\\omega^{2}}{ct^{2}}} Y_{0}\\left(a \\sqrt{- kz^{2} + \\frac{\\omega^{2}}{ct^{2}}}\\right) + \\frac{Y_{1}\\left(a \\sqrt{- kz^{2} + \\frac{\\omega^{2}}{ct^{2}}}\\right)}{a}\\right)\\\\- 2 i kz \\mu \\sqrt{- kz^{2} + \\frac{\\omega^{2}}{cl^{2}}} J_{1}\\left(a \\sqrt{- kz^{2} + \\frac{\\omega^{2}}{cl^{2}}}\\right) & - 2 i kz \\mu \\sqrt{- kz^{2} + \\frac{\\omega^{2}}{cl^{2}}} Y_{1}\\left(a \\sqrt{- kz^{2} + \\frac{\\omega^{2}}{cl^{2}}}\\right) & \\mu \\sqrt{- kz^{2} + \\frac{\\omega^{2}}{ct^{2}}} \\left(2 kz^{2} - \\frac{\\omega^{2}}{ct^{2}}\\right) J_{1}\\left(a \\sqrt{- kz^{2} + \\frac{\\omega^{2}}{ct^{2}}}\\right) & \\mu \\sqrt{- kz^{2} + \\frac{\\omega^{2}}{ct^{2}}} \\left(2 kz^{2} - \\frac{\\omega^{2}}{ct^{2}}\\right) Y_{1}\\left(a \\sqrt{- kz^{2} + \\frac{\\omega^{2}}{ct^{2}}}\\right)\\\\- 2 i kz \\mu \\sqrt{- kz^{2} + \\frac{\\omega^{2}}{cl^{2}}} J_{1}\\left(b \\sqrt{- kz^{2} + \\frac{\\omega^{2}}{cl^{2}}}\\right) & - 2 i kz \\mu \\sqrt{- kz^{2} + \\frac{\\omega^{2}}{cl^{2}}} Y_{1}\\left(b \\sqrt{- kz^{2} + \\frac{\\omega^{2}}{cl^{2}}}\\right) & \\mu \\sqrt{- kz^{2} + \\frac{\\omega^{2}}{ct^{2}}} \\left(2 kz^{2} - \\frac{\\omega^{2}}{ct^{2}}\\right) J_{1}\\left(b \\sqrt{- kz^{2} + \\frac{\\omega^{2}}{ct^{2}}}\\right) & \\mu \\sqrt{- kz^{2} + \\frac{\\omega^{2}}{ct^{2}}} \\left(2 kz^{2} - \\frac{\\omega^{2}}{ct^{2}}\\right) Y_{1}\\left(b \\sqrt{- kz^{2} + \\frac{\\omega^{2}}{ct^{2}}}\\right)\\end{matrix}\\right]$"
      ],
      "text/plain": [
       "Matrix([\n",
       "[                                                                                                              -sqrt(-kz**2 + omega**2/cl**2)*besselj(1, b*sqrt(-kz**2 + omega**2/cl**2)),                                                                                                               -sqrt(-kz**2 + omega**2/cl**2)*bessely(1, b*sqrt(-kz**2 + omega**2/cl**2)),                                                                                      -I*kz*sqrt(-kz**2 + omega**2/ct**2)*besselj(1, b*sqrt(-kz**2 + omega**2/ct**2)),                                                                                      -I*kz*sqrt(-kz**2 + omega**2/ct**2)*bessely(1, b*sqrt(-kz**2 + omega**2/ct**2))],\n",
       "[(-2*mu*(-kz**2 + omega**2/cl**2) - lambda*omega**2/cl**2)*besselj(0, a*sqrt(-kz**2 + omega**2/cl**2)) + 2*mu*sqrt(-kz**2 + omega**2/cl**2)*besselj(1, a*sqrt(-kz**2 + omega**2/cl**2))/a, (-2*mu*(-kz**2 + omega**2/cl**2) - lambda*omega**2/cl**2)*bessely(0, a*sqrt(-kz**2 + omega**2/cl**2)) + 2*mu*sqrt(-kz**2 + omega**2/cl**2)*bessely(1, a*sqrt(-kz**2 + omega**2/cl**2))/a, 2*I*kz*mu*sqrt(-kz**2 + omega**2/ct**2)*(-sqrt(-kz**2 + omega**2/ct**2)*besselj(0, a*sqrt(-kz**2 + omega**2/ct**2)) + besselj(1, a*sqrt(-kz**2 + omega**2/ct**2))/a), 2*I*kz*mu*sqrt(-kz**2 + omega**2/ct**2)*(-sqrt(-kz**2 + omega**2/ct**2)*bessely(0, a*sqrt(-kz**2 + omega**2/ct**2)) + bessely(1, a*sqrt(-kz**2 + omega**2/ct**2))/a)],\n",
       "[                                                                                                    -2*I*kz*mu*sqrt(-kz**2 + omega**2/cl**2)*besselj(1, a*sqrt(-kz**2 + omega**2/cl**2)),                                                                                                     -2*I*kz*mu*sqrt(-kz**2 + omega**2/cl**2)*bessely(1, a*sqrt(-kz**2 + omega**2/cl**2)),                                                              mu*sqrt(-kz**2 + omega**2/ct**2)*(2*kz**2 - omega**2/ct**2)*besselj(1, a*sqrt(-kz**2 + omega**2/ct**2)),                                                              mu*sqrt(-kz**2 + omega**2/ct**2)*(2*kz**2 - omega**2/ct**2)*bessely(1, a*sqrt(-kz**2 + omega**2/ct**2))],\n",
       "[                                                                                                    -2*I*kz*mu*sqrt(-kz**2 + omega**2/cl**2)*besselj(1, b*sqrt(-kz**2 + omega**2/cl**2)),                                                                                                     -2*I*kz*mu*sqrt(-kz**2 + omega**2/cl**2)*bessely(1, b*sqrt(-kz**2 + omega**2/cl**2)),                                                              mu*sqrt(-kz**2 + omega**2/ct**2)*(2*kz**2 - omega**2/ct**2)*besselj(1, b*sqrt(-kz**2 + omega**2/ct**2)),                                                              mu*sqrt(-kz**2 + omega**2/ct**2)*(2*kz**2 - omega**2/ct**2)*bessely(1, b*sqrt(-kz**2 + omega**2/ct**2))]])"
      ]
     },
     "execution_count": 5,
     "metadata": {},
     "output_type": "execute_result"
    }
   ],
   "source": [
    "determinant, mat = determinant_from_matrix()\n",
    "mat"
   ]
  },
  {
   "cell_type": "code",
   "execution_count": null,
   "metadata": {},
   "outputs": [],
   "source": []
  },
  {
   "cell_type": "markdown",
   "metadata": {},
   "source": [
    "### Define the frequency array by np.arange"
   ]
  },
  {
   "cell_type": "code",
   "execution_count": 6,
   "metadata": {},
   "outputs": [
    {
     "data": {
      "text/plain": [
       "\u001b[0;31mDocstring:\u001b[0m\n",
       "arange([start,] stop[, step,], dtype=None, *, like=None)\n",
       "\n",
       "Return evenly spaced values within a given interval.\n",
       "\n",
       "Values are generated within the half-open interval ``[start, stop)``\n",
       "(in other words, the interval including `start` but excluding `stop`).\n",
       "For integer arguments the function is equivalent to the Python built-in\n",
       "`range` function, but returns an ndarray rather than a list.\n",
       "\n",
       "When using a non-integer step, such as 0.1, the results will often not\n",
       "be consistent.  It is better to use `numpy.linspace` for these cases.\n",
       "\n",
       "Parameters\n",
       "----------\n",
       "start : integer or real, optional\n",
       "    Start of interval.  The interval includes this value.  The default\n",
       "    start value is 0.\n",
       "stop : integer or real\n",
       "    End of interval.  The interval does not include this value, except\n",
       "    in some cases where `step` is not an integer and floating point\n",
       "    round-off affects the length of `out`.\n",
       "step : integer or real, optional\n",
       "    Spacing between values.  For any output `out`, this is the distance\n",
       "    between two adjacent values, ``out[i+1] - out[i]``.  The default\n",
       "    step size is 1.  If `step` is specified as a position argument,\n",
       "    `start` must also be given.\n",
       "dtype : dtype\n",
       "    The type of the output array.  If `dtype` is not given, infer the data\n",
       "    type from the other input arguments.\n",
       "like : array_like\n",
       "    Reference object to allow the creation of arrays which are not\n",
       "    NumPy arrays. If an array-like passed in as ``like`` supports\n",
       "    the ``__array_function__`` protocol, the result will be defined\n",
       "    by it. In this case, it ensures the creation of an array object\n",
       "    compatible with that passed in via this argument.\n",
       "\n",
       "    .. note::\n",
       "        The ``like`` keyword is an experimental feature pending on\n",
       "        acceptance of :ref:`NEP 35 <NEP35>`.\n",
       "\n",
       "    .. versionadded:: 1.20.0\n",
       "\n",
       "Returns\n",
       "-------\n",
       "arange : ndarray\n",
       "    Array of evenly spaced values.\n",
       "\n",
       "    For floating point arguments, the length of the result is\n",
       "    ``ceil((stop - start)/step)``.  Because of floating point overflow,\n",
       "    this rule may result in the last element of `out` being greater\n",
       "    than `stop`.\n",
       "\n",
       "See Also\n",
       "--------\n",
       "numpy.linspace : Evenly spaced numbers with careful handling of endpoints.\n",
       "numpy.ogrid: Arrays of evenly spaced numbers in N-dimensions.\n",
       "numpy.mgrid: Grid-shaped arrays of evenly spaced numbers in N-dimensions.\n",
       "\n",
       "Examples\n",
       "--------\n",
       ">>> np.arange(3)\n",
       "array([0, 1, 2])\n",
       ">>> np.arange(3.0)\n",
       "array([ 0.,  1.,  2.])\n",
       ">>> np.arange(3,7)\n",
       "array([3, 4, 5, 6])\n",
       ">>> np.arange(3,7,2)\n",
       "array([3, 5])\n",
       "\u001b[0;31mType:\u001b[0m      builtin_function_or_method\n"
      ]
     },
     "metadata": {},
     "output_type": "display_data"
    }
   ],
   "source": [
    "np.arange?"
   ]
  },
  {
   "cell_type": "code",
   "execution_count": 7,
   "metadata": {},
   "outputs": [
    {
     "data": {
      "text/plain": [
       "array([   20,   220,   420,   620,   820,  1020,  1220,  1420,  1620,\n",
       "        1820,  2020,  2220,  2420,  2620,  2820,  3020,  3220,  3420,\n",
       "        3620,  3820,  4020,  4220,  4420,  4620,  4820,  5020,  5220,\n",
       "        5420,  5620,  5820,  6020,  6220,  6420,  6620,  6820,  7020,\n",
       "        7220,  7420,  7620,  7820,  8020,  8220,  8420,  8620,  8820,\n",
       "        9020,  9220,  9420,  9620,  9820, 10020])"
      ]
     },
     "execution_count": 7,
     "metadata": {},
     "output_type": "execute_result"
    }
   ],
   "source": [
    "frequency_array = np.arange(20, 10021, 200)\n",
    "frequency_array"
   ]
  },
  {
   "cell_type": "markdown",
   "metadata": {
    "tags": []
   },
   "source": [
    "## Define an object of sound_performance for calculating sound absorption\n",
    "### The default values are listed as below (all in SI units)\n",
    "\n",
    "Material of anechoic layer: rubber\n",
    "\n",
    "Young's modulus of rubber (GPa): 0.14\n",
    "\n",
    "Loss factor of rubber 0.23\n",
    "\n",
    "Poisson ratio of rubber 0.49\n",
    "\n",
    "Density of rubber (kg/m3): 1100\n",
    "\n",
    "Density of air (kg/m3): 1.21\n",
    "\n",
    "Shape: cone\n",
    "\n",
    "p = 4 mm\n",
    "\n",
    "q = 8 mm\n",
    "\n",
    "lh = 40 mm\n",
    "\n",
    "cell_radius = 15 mm\n",
    "\n",
    "num_segments = 100\n",
    "\n",
    "Density of water (kg/m3): 998\n",
    "\n",
    "Sound speed of water (m/s): 1483\n",
    "\n",
    "#### https://en.wikipedia.org/wiki/Lam%C3%A9_parameters"
   ]
  },
  {
   "cell_type": "code",
   "execution_count": null,
   "metadata": {},
   "outputs": [],
   "source": []
  },
  {
   "cell_type": "markdown",
   "metadata": {},
   "source": [
    "### Example 01: default case"
   ]
  },
  {
   "cell_type": "code",
   "execution_count": 8,
   "metadata": {},
   "outputs": [],
   "source": [
    "cone_4_8 = sound_performance(determinant, frequency_array)"
   ]
  },
  {
   "cell_type": "code",
   "execution_count": 9,
   "metadata": {},
   "outputs": [
    {
     "data": {
      "text/plain": [
       "'rubber'"
      ]
     },
     "execution_count": 9,
     "metadata": {},
     "output_type": "execute_result"
    }
   ],
   "source": [
    "cone_4_8.material"
   ]
  },
  {
   "cell_type": "code",
   "execution_count": 10,
   "metadata": {},
   "outputs": [
    {
     "data": {
      "text/plain": [
       "'cone'"
      ]
     },
     "execution_count": 10,
     "metadata": {},
     "output_type": "execute_result"
    }
   ],
   "source": [
    "cone_4_8.shape"
   ]
  },
  {
   "cell_type": "code",
   "execution_count": 11,
   "metadata": {},
   "outputs": [
    {
     "data": {
      "text/plain": [
       "0.004"
      ]
     },
     "execution_count": 11,
     "metadata": {},
     "output_type": "execute_result"
    }
   ],
   "source": [
    "cone_4_8.p_hole"
   ]
  },
  {
   "cell_type": "code",
   "execution_count": 12,
   "metadata": {
    "tags": []
   },
   "outputs": [
    {
     "data": {
      "text/plain": [
       "0.04"
      ]
     },
     "execution_count": 12,
     "metadata": {},
     "output_type": "execute_result"
    }
   ],
   "source": [
    "cone_4_8.h_hole"
   ]
  },
  {
   "cell_type": "code",
   "execution_count": 13,
   "metadata": {},
   "outputs": [
    {
     "data": {
      "text/plain": [
       "100"
      ]
     },
     "execution_count": 13,
     "metadata": {},
     "output_type": "execute_result"
    }
   ],
   "source": [
    "cone_4_8.segments"
   ]
  },
  {
   "cell_type": "code",
   "execution_count": 14,
   "metadata": {},
   "outputs": [
    {
     "data": {
      "text/plain": [
       "140000000.0"
      ]
     },
     "execution_count": 14,
     "metadata": {},
     "output_type": "execute_result"
    }
   ],
   "source": [
    "cone_4_8.Young"
   ]
  },
  {
   "cell_type": "code",
   "execution_count": 15,
   "metadata": {},
   "outputs": [
    {
     "name": "stdout",
     "output_type": "stream",
     "text": [
      "Solving determinant at frequency = 20 is done.\n",
      "Solving determinant at frequency = 220 is done.\n",
      "Solving determinant at frequency = 420 is done.\n",
      "Solving determinant at frequency = 620 is done.\n",
      "Solving determinant at frequency = 820 is done.\n",
      "Solving determinant at frequency = 1020 is done.\n",
      "Solving determinant at frequency = 1220 is done.\n",
      "Solving determinant at frequency = 1420 is done.\n",
      "Solving determinant at frequency = 1620 is done.\n",
      "Solving determinant at frequency = 1820 is done.\n",
      "Solving determinant at frequency = 2020 is done.\n",
      "Solving determinant at frequency = 2220 is done.\n",
      "Solving determinant at frequency = 2420 is done.\n",
      "Solving determinant at frequency = 2620 is done.\n",
      "Solving determinant at frequency = 2820 is done.\n",
      "First try of finding root at frequency = 3020.00, i = 0 / 100 failed.\n",
      "Try again...\n",
      "Solving determinant at frequency = 3020 is done.\n",
      "Solving determinant at frequency = 3220 is done.\n",
      "Solving determinant at frequency = 3420 is done.\n",
      "Solving determinant at frequency = 3620 is done.\n",
      "Solving determinant at frequency = 3820 is done.\n",
      "Solving determinant at frequency = 4020 is done.\n",
      "Solving determinant at frequency = 4220 is done.\n",
      "Solving determinant at frequency = 4420 is done.\n",
      "Solving determinant at frequency = 4620 is done.\n",
      "Solving determinant at frequency = 4820 is done.\n",
      "Solving determinant at frequency = 5020 is done.\n",
      "Solving determinant at frequency = 5220 is done.\n",
      "First try of finding root at frequency = 5420.00, i = 0 / 100 failed.\n",
      "Try again...\n",
      "Solving determinant at frequency = 5420 is done.\n",
      "Solving determinant at frequency = 5620 is done.\n",
      "Solving determinant at frequency = 5820 is done.\n",
      "Solving determinant at frequency = 6020 is done.\n",
      "Solving determinant at frequency = 6220 is done.\n",
      "Solving determinant at frequency = 6420 is done.\n",
      "Solving determinant at frequency = 6620 is done.\n",
      "Solving determinant at frequency = 6820 is done.\n",
      "Solving determinant at frequency = 7020 is done.\n",
      "Solving determinant at frequency = 7220 is done.\n",
      "Solving determinant at frequency = 7420 is done.\n",
      "Solving determinant at frequency = 7620 is done.\n",
      "Solving determinant at frequency = 7820 is done.\n",
      "Solving determinant at frequency = 8020 is done.\n",
      "Solving determinant at frequency = 8220 is done.\n",
      "Solving determinant at frequency = 8420 is done.\n",
      "First try of finding root at frequency = 8620.00, i = 0 / 100 failed.\n",
      "Try again...\n",
      "Solving determinant at frequency = 8620 is done.\n",
      "Solving determinant at frequency = 8820 is done.\n",
      "Solving determinant at frequency = 9020 is done.\n",
      "Solving determinant at frequency = 9220 is done.\n",
      "Solving determinant at frequency = 9420 is done.\n",
      "Solving determinant at frequency = 9620 is done.\n",
      "Solving determinant at frequency = 9820 is done.\n",
      "Solving determinant at frequency = 10020 is done.\n"
     ]
    }
   ],
   "source": [
    "## Find roots of wavenumber in the equation of determinant\n",
    "cone_4_8.wavenumer_array, cone_4_8.failed_root = cone_4_8.axial_wavenumber_array()"
   ]
  },
  {
   "cell_type": "code",
   "execution_count": 16,
   "metadata": {},
   "outputs": [
    {
     "name": "stdout",
     "output_type": "stream",
     "text": [
      "self.frequency_array.shape[0] = 51 is same as self.wavenumer_array.shape[0] = 51\n"
     ]
    },
    {
     "data": {
      "text/plain": [
       "array([0.01640976, 0.1616465 , 0.26690127, 0.33390387, 0.3708973 ,\n",
       "       0.3869547 , 0.38948497, 0.38378726, 0.37340279, 0.36061385,\n",
       "       0.34686371, 0.3330575 , 0.31976359, 0.3073442 , 0.29603944,\n",
       "       0.28602158, 0.27743085, 0.27040001, 0.26507212, 0.26161477,\n",
       "       0.26023237, 0.26117801, 0.26476535, 0.27138096, 0.28149655,\n",
       "       0.29567962, 0.31459965, 0.33902405, 0.36979451, 0.40776893,\n",
       "       0.4537083 , 0.5080842 , 0.57078909, 0.64075935, 0.71558538,\n",
       "       0.79127917, 0.86244737, 0.92306744, 0.96779632, 0.99335239,\n",
       "       0.99932689, 0.98804911, 0.96367242, 0.93100863, 0.89459203,\n",
       "       0.85817178, 0.82458373, 0.79585628, 0.77342692, 0.75840159,\n",
       "       0.75176633])"
      ]
     },
     "execution_count": 16,
     "metadata": {},
     "output_type": "execute_result"
    }
   ],
   "source": [
    "## Calculate sound absorption of cone_4_8\n",
    "cone_4_8.absorption_frequency()"
   ]
  },
  {
   "cell_type": "code",
   "execution_count": 17,
   "metadata": {},
   "outputs": [
    {
     "name": "stdout",
     "output_type": "stream",
     "text": [
      "self.frequency_array.shape[0] = 51 is same as self.wavenumer_array.shape[0] = 51\n",
      "Save file to /Users/chenghunglin/Documents/cone_4_8.xlsx\n"
     ]
    }
   ],
   "source": [
    "## Save the data\n",
    "fp = '/Users/chenghunglin/Documents/'\n",
    "fn = 'cone_4_8.xlsx'\n",
    "cone_4_8.save_data(fp, fn)"
   ]
  },
  {
   "cell_type": "code",
   "execution_count": null,
   "metadata": {},
   "outputs": [],
   "source": []
  },
  {
   "cell_type": "markdown",
   "metadata": {},
   "source": [
    "### Example 02: change shape, p, q"
   ]
  },
  {
   "cell_type": "code",
   "execution_count": 18,
   "metadata": {},
   "outputs": [],
   "source": [
    "horn_1_11 = sound_performance(determinant, frequency_array)"
   ]
  },
  {
   "cell_type": "code",
   "execution_count": 19,
   "metadata": {},
   "outputs": [],
   "source": [
    "horn_1_11.shape = 'horn'\n",
    "horn_1_11.p_hole = 1e-3\n",
    "horn_1_11.q_hole = 11e-3"
   ]
  },
  {
   "cell_type": "code",
   "execution_count": 20,
   "metadata": {},
   "outputs": [
    {
     "name": "stdout",
     "output_type": "stream",
     "text": [
      "Solving determinant at frequency = 20 is done.\n",
      "Solving determinant at frequency = 220 is done.\n",
      "Solving determinant at frequency = 420 is done.\n",
      "Solving determinant at frequency = 620 is done.\n",
      "Solving determinant at frequency = 820 is done.\n",
      "Solving determinant at frequency = 1020 is done.\n",
      "Solving determinant at frequency = 1220 is done.\n",
      "Solving determinant at frequency = 1420 is done.\n",
      "Solving determinant at frequency = 1620 is done.\n",
      "Solving determinant at frequency = 1820 is done.\n",
      "Solving determinant at frequency = 2020 is done.\n",
      "Solving determinant at frequency = 2220 is done.\n",
      "Solving determinant at frequency = 2420 is done.\n",
      "Solving determinant at frequency = 2620 is done.\n",
      "Solving determinant at frequency = 2820 is done.\n",
      "Solving determinant at frequency = 3020 is done.\n",
      "Solving determinant at frequency = 3220 is done.\n",
      "Solving determinant at frequency = 3420 is done.\n",
      "Solving determinant at frequency = 3620 is done.\n",
      "Solving determinant at frequency = 3820 is done.\n",
      "Solving determinant at frequency = 4020 is done.\n",
      "Solving determinant at frequency = 4220 is done.\n",
      "Solving determinant at frequency = 4420 is done.\n",
      "Solving determinant at frequency = 4620 is done.\n",
      "Solving determinant at frequency = 4820 is done.\n",
      "Solving determinant at frequency = 5020 is done.\n",
      "Solving determinant at frequency = 5220 is done.\n",
      "Solving determinant at frequency = 5420 is done.\n",
      "Solving determinant at frequency = 5620 is done.\n",
      "Solving determinant at frequency = 5820 is done.\n",
      "Solving determinant at frequency = 6020 is done.\n",
      "Solving determinant at frequency = 6220 is done.\n",
      "Solving determinant at frequency = 6420 is done.\n",
      "Solving determinant at frequency = 6620 is done.\n",
      "Solving determinant at frequency = 6820 is done.\n",
      "Solving determinant at frequency = 7020 is done.\n",
      "Solving determinant at frequency = 7220 is done.\n",
      "Solving determinant at frequency = 7420 is done.\n",
      "Solving determinant at frequency = 7620 is done.\n",
      "Solving determinant at frequency = 7820 is done.\n",
      "Solving determinant at frequency = 8020 is done.\n",
      "Solving determinant at frequency = 8220 is done.\n",
      "Solving determinant at frequency = 8420 is done.\n",
      "Solving determinant at frequency = 8620 is done.\n",
      "Solving determinant at frequency = 8820 is done.\n",
      "Solving determinant at frequency = 9020 is done.\n",
      "Solving determinant at frequency = 9220 is done.\n",
      "Solving determinant at frequency = 9420 is done.\n",
      "Solving determinant at frequency = 9620 is done.\n",
      "Solving determinant at frequency = 9820 is done.\n",
      "Solving determinant at frequency = 10020 is done.\n"
     ]
    }
   ],
   "source": [
    "## Find roots of wavenumber in the equation of determinant\n",
    "horn_1_11.wavenumer_array, horn_1_11.failed_root = horn_1_11.axial_wavenumber_array()"
   ]
  },
  {
   "cell_type": "code",
   "execution_count": 21,
   "metadata": {},
   "outputs": [
    {
     "name": "stdout",
     "output_type": "stream",
     "text": [
      "self.frequency_array.shape[0] = 51 is same as self.wavenumer_array.shape[0] = 51\n",
      "Save file to /Users/chenghunglin/Documents/horn_1_11.xlsx\n"
     ]
    }
   ],
   "source": [
    "## Save the data\n",
    "fp = '/Users/chenghunglin/Documents/'\n",
    "fn = 'horn_1_11.xlsx'\n",
    "horn_1_11.save_data(fp, fn)"
   ]
  },
  {
   "cell_type": "code",
   "execution_count": null,
   "metadata": {},
   "outputs": [],
   "source": []
  },
  {
   "cell_type": "markdown",
   "metadata": {},
   "source": [
    "## Plot data to compare with the paper"
   ]
  },
  {
   "cell_type": "code",
   "execution_count": 22,
   "metadata": {},
   "outputs": [
    {
     "name": "stdout",
     "output_type": "stream",
     "text": [
      "self.frequency_array.shape[0] = 51 is same as self.wavenumer_array.shape[0] = 51\n",
      "self.frequency_array.shape[0] = 51 is same as self.wavenumer_array.shape[0] = 51\n"
     ]
    },
    {
     "data": {
      "text/plain": [
       "<matplotlib.legend.Legend at 0x7f9e10453640>"
      ]
     },
     "execution_count": 22,
     "metadata": {},
     "output_type": "execute_result"
    },
    {
     "data": {
      "application/vnd.jupyter.widget-view+json": {
       "model_id": "d7ef7bd683144850bebab8391fc7d3d0",
       "version_major": 2,
       "version_minor": 0
      },
      "image/png": "[encoded data removed]",
      "text/html": [
       "\n",
       "            <div style=\"display: inline-block;\">\n",
       "                <div class=\"jupyter-widgets widget-label\" style=\"text-align: center;\">\n",
       "                    Figure\n",
       "                </div>\n",
       "                <img src='data:image/png;base64,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' width=640.0/>\n",
       "            </div>\n",
       "        "
      ],
      "text/plain": [
       "Canvas(toolbar=Toolbar(toolitems=[('Home', 'Reset original view', 'home', 'home'), ('Back', 'Back to previous …"
      ]
     },
     "metadata": {},
     "output_type": "display_data"
    }
   ],
   "source": [
    "plt.figure()\n",
    "plt.plot(cone_4_8.frequency_array, cone_4_8.absorption_frequency(), label='cone, p=4, q=8')\n",
    "plt.plot(horn_1_11.frequency_array, horn_1_11.absorption_frequency(), label='horn, p=1, q=11')\n",
    "plt.legend()"
   ]
  },
  {
   "cell_type": "code",
   "execution_count": null,
   "metadata": {},
   "outputs": [],
   "source": []
  },
  {
   "cell_type": "code",
   "execution_count": null,
   "metadata": {},
   "outputs": [],
   "source": []
  }
 ],
 "metadata": {
  "anaconda-cloud": {},
  "kernelspec": {
   "display_name": "Python 3 (ipykernel)",
   "language": "python",
   "name": "python3"
  },
  "language_info": {
   "codemirror_mode": {
    "name": "ipython",
    "version": 3
   },
   "file_extension": ".py",
   "mimetype": "text/x-python",
   "name": "python",
   "nbconvert_exporter": "python",
   "pygments_lexer": "ipython3",
   "version": "3.9.7"
  }
 },
 "nbformat": 4,
 "nbformat_minor": 4
}
