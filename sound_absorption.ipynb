{
 "cells": [
  {
   "cell_type": "code",
   "execution_count": null,
   "metadata": {
    "collapsed": false,
    "jupyter": {
     "outputs_hidden": false
    }
   },
   "outputs": [],
   "source": [
    "import numpy as np\n",
    "import matplotlib.pyplot as plt\n",
    "import pandas as pd"
   ]
  },
  {
   "cell_type": "code",
   "execution_count": null,
   "metadata": {},
   "outputs": [],
   "source": [
    "%matplotlib widget"
   ]
  },
  {
   "cell_type": "markdown",
   "metadata": {},
   "source": [
    "### Reference: Influence of hole shape on sound absorption of underwater anechoic layers\n",
    "#### https://www.sciencedirect.com/science/article/abs/pii/S0022460X1830227X"
   ]
  },
  {
   "cell_type": "markdown",
   "metadata": {},
   "source": [
    "### Start at eq(15) in the paper"
   ]
  },
  {
   "cell_type": "code",
   "execution_count": null,
   "metadata": {},
   "outputs": [],
   "source": [
    "# ## The effective density: (15)\n",
    "# ## ai represents the inner radii of the pipe in the i th layer\n",
    "# def ith_effect_density(ai, cell_radius, rubber_den, air_den):\n",
    "#     return rubber_den*(1-(ai/cell_radius)**2) + air_den*(ai/cell_radius)**2\n",
    "\n",
    "\n",
    "\n",
    "# ## The effective impedance of the i th segment: (16)\n",
    "# def ith_effect_impedance(ith_effect_density, omega, wave_number):\n",
    "#     return ith_effect_density*omega/wave_number\n",
    "\n",
    "\n",
    "# ## The transfer matrix of the i th segment: (17)\n",
    "# def ith_tran_matrix(wave_number, li, ith_impedance):\n",
    "#     ti = np.zeros((2,2), dtype=complex)\n",
    "#     ti[0,0] = np.cos(wave_number*li)\n",
    "#     ti[0,1] = -1j*np.sin(wave_number*li)*ith_impedance\n",
    "#     ti[1,0] = -1j*np.sin(wave_number*li)/ith_impedance\n",
    "#     ti[1,1] = np.cos(wave_number*li)\n",
    "#     return ti\n",
    "\n",
    "# ## The successive multi-plication of the transfer matrix of each segment: (18)\n",
    "# def total_tran_matrix(wave_number, lh, n, impedance):\n",
    "#     li = lh/n\n",
    "    \n",
    "#     try:\n",
    "#         t0 = ith_tran_matrix(wave_number[0], li, impedance[0])\n",
    "#         tn=t0\n",
    "#         for i in range(1, n):\n",
    "#             tn = np.matmul(tn, ith_tran_matrix(wave_number[i], li, impedance[i]))\n",
    "        \n",
    "#     except IndexError:\n",
    "#         t0 = ith_tran_matrix(wave_number, li, impedance[0])\n",
    "#         tn=t0\n",
    "#         for i in range(1, n):\n",
    "#             tn = np.matmul(tn, ith_tran_matrix(wave_number, li, impedance[i]))        \n",
    "    \n",
    "#     return tn\n",
    "    \n",
    "\n",
    "# ## The impedance of the front interface Zf: (22)\n",
    "# def imped_front(tn):\n",
    "#     # zf = np.absolute(tn[0,0]/tn[1,0])\n",
    "#     zf = (tn[0,0]/tn[1,0])\n",
    "#     return zf\n",
    "\n",
    "\n",
    "# ## The reflection coefficient of the anechoic layer: (23)\n",
    "# def reflection_coefficient(zf,zw):\n",
    "#     return (zf-zw)/(zf+zw)\n",
    "\n",
    "\n",
    "# ## The sound absorption coefficient: (24)\n",
    "# def absorption_coefficient(reflection):\n",
    "#     return 1-np.absolute(reflection)**2"
   ]
  },
  {
   "cell_type": "code",
   "execution_count": null,
   "metadata": {},
   "outputs": [],
   "source": [
    "# ## Effective radius of cone shape: (25-27)\n",
    "# def effective_radius(p, q, lh, num_segments, shape='cone'):\n",
    "#     lh_n = np.linspace(0, lh, num_segments)\n",
    "    \n",
    "#     if shape == 'cone':\n",
    "#         # print(f'The input shape is {shape}.')\n",
    "#         pcone, qcone = p, q\n",
    "#         alpha = (qcone-pcone)/lh\n",
    "#         beta = pcone\n",
    "#         r_effective = alpha*lh_n + beta\n",
    "        \n",
    "#     elif shape == 'horn':\n",
    "#         # print(f'The input shape is {shape}.')\n",
    "#         phorn, qhorn = p, q\n",
    "#         gamma = phorn\n",
    "#         delta = (1/lh)*np.log(qhorn/phorn)\n",
    "#         r_effective = gamma*np.exp(delta*lh_n)\n",
    "    \n",
    "#     return r_effective, lh_n\n"
   ]
  },
  {
   "cell_type": "code",
   "execution_count": null,
   "metadata": {},
   "outputs": [],
   "source": [
    "# ai, lh_n = effective_radius(1,11, 40, 100, shape='horn')\n",
    "# ai[-1]"
   ]
  },
  {
   "cell_type": "code",
   "execution_count": null,
   "metadata": {},
   "outputs": [],
   "source": [
    "# plt.figure()\n",
    "# plt.plot(lh_n, ai)"
   ]
  },
  {
   "cell_type": "code",
   "execution_count": null,
   "metadata": {},
   "outputs": [],
   "source": []
  },
  {
   "cell_type": "markdown",
   "metadata": {
    "tags": []
   },
   "source": [
    "## Constants and Modulus\n",
    "\n",
    "#### https://en.wikipedia.org/wiki/Lam%C3%A9_parameters\n",
    "#### https://en.wikipedia.org/wiki/Shear_modulus\n",
    "\n",
    "#### shear_modulus = Young_modulus/(2*(1+Poisson_ratio))\n",
    "#### lame_const = Young_modulus*Poisson_ratio/((1+Poisson_ratio)*(1-2*Poisson_ratio))\n",
    "#### longitudinal_modulus = lame_const + 2*shear_modulus\n",
    "#### Young's modulus of rubber (GPa): 0.14 (incorrect) --> 14 MPa\n",
    "#### Loss factor of rubber 0.23\n",
    "#### Poisson ratio of rubber 0.49\n",
    "\n",
    "All units are in SI\n",
    "\n",
    "Density of rubber (kg/m3): 1100\n",
    "\n",
    "Density of air (kg/m3): 1.21\n",
    "\n",
    "Assume the pipe has a conical shape, as Fig. 7(a) in the paper:\n",
    "\n",
    "pcone = 4 mm\n",
    "\n",
    "qcone = 8 mm\n",
    "\n",
    "lh = 40 mm\n",
    "\n",
    "cell_radius = 15 mm\n",
    "\n",
    "Assume 100 segments: num_segments = 100\n",
    "\n",
    "Density of water (kg/m3): 998\n",
    "\n",
    "Sound speed of water (m/s): 1483"
   ]
  },
  {
   "cell_type": "code",
   "execution_count": null,
   "metadata": {},
   "outputs": [],
   "source": [
    "# def shear_m(Young_m, Poisson_r, loss_factor):\n",
    "#     return Young_m*(1-1j*loss_factor)/(2*(1+Poisson_r))\n",
    "\n",
    "# # def lame_const(Young_m, Poisson_r):\n",
    "# #     return Young_m*Poisson_r/((1+Poisson_r)*(1-2*Poisson_r))\n",
    "\n",
    "# def longitudinal_m(Yong_m, Poisson_r, loss_factor):\n",
    "#     return Yong_m*(1-Poisson_r)*(1-1j*loss_factor)/((1+Poisson_r)*(1-2*Poisson_r))\n",
    "    \n",
    "# ## eq.(1-13b), in book page 26\n",
    "# def ith_longitudinal_speed(longitudinal_m, density):\n",
    "#     speed = np.sqrt(longitudinal_m/density)\n",
    "#     # damping = np.sqrt(1+1j*loss_factor)\n",
    "#     return speed    \n",
    "\n",
    "# ## eq.(1-14), in book page 27\n",
    "# def ith_transverse_speed(shear_m, density):\n",
    "#     speed = np.sqrt(shear_m/density)\n",
    "#     # damping = np.sqrt(1+1j*loss_factor)\n",
    "#     return speed\n"
   ]
  },
  {
   "cell_type": "markdown",
   "metadata": {},
   "source": [
    "### Test above defined functions for a single frequency"
   ]
  },
  {
   "cell_type": "code",
   "execution_count": null,
   "metadata": {},
   "outputs": [],
   "source": [
    "frequency = 8000 #np.arange(0.1, 10000, 50)\n",
    "omega = frequency * 2 * np.pi\n",
    "\n",
    "Young_molulus = 14*(10**6)\n",
    "Poisson_ratio = 0.49\n",
    "loss_factor = 0.23\n",
    "shear_modulus = shear_m(Young_molulus, Poisson_ratio, loss_factor)\n",
    "# lame_constant = lame_const(Young_molulus, 0.49)\n",
    "longitudinal_modulus = longitudinal_m(Young_molulus, Poisson_ratio, loss_factor)\n",
    "\n",
    "ai, _ = effective_radius(4*0.001, 8*0.001, 40*0.001, 3, shape='cone')\n",
    "effective_density = ith_effect_density(ai, 15*0.001, 1100, 1.21)\n",
    "\n",
    "effective_speed = ith_longitudinal_speed(longitudinal_modulus, effective_density)\n",
    "\n",
    "wave_number = ith_effect_wavenumber(omega, effective_speed)\n",
    "\n",
    "\n",
    "effective_impedance = ith_effect_impedance(effective_density, omega, wave_number)\n",
    "tn = total_tran_matrix(wave_number, 40*0.001, 3, effective_impedance)\n",
    "\n",
    "## Acoustic impdedance of water: 1.48 MPa.s.m−1\n",
    "## https://www.animations.physics.unsw.edu.au/jw/sound-impedance-intensity.htm\n",
    "\n",
    "zw = 998*1483\n",
    "zf = imped_front(tn)\n",
    "ref = reflection_coefficient(zf, zw)\n",
    "alpha = absorption_coefficient(ref)"
   ]
  },
  {
   "cell_type": "code",
   "execution_count": null,
   "metadata": {},
   "outputs": [],
   "source": [
    "alpha"
   ]
  },
  {
   "cell_type": "code",
   "execution_count": null,
   "metadata": {},
   "outputs": [],
   "source": []
  },
  {
   "cell_type": "code",
   "execution_count": null,
   "metadata": {},
   "outputs": [],
   "source": []
  },
  {
   "cell_type": "code",
   "execution_count": null,
   "metadata": {},
   "outputs": [],
   "source": []
  },
  {
   "cell_type": "markdown",
   "metadata": {},
   "source": [
    "### Integrate all calculations into one function"
   ]
  },
  {
   "cell_type": "code",
   "execution_count": null,
   "metadata": {},
   "outputs": [],
   "source": [
    "def absorption_frequency(frequency_array, p, q, lh, num_segments, \n",
    "                         Young_m, Poisson_r, loss_factor, \n",
    "                         cell_radius, shape='cone', rubber_den=1100, air_den=1.21):\n",
    "    \n",
    "    frequency_array = np.asarray(frequency_array)\n",
    "    absorption_list = []\n",
    "    \n",
    "    for frequency in frequency_array:\n",
    "       \n",
    "        omega = frequency * 2 * np.pi\n",
    "\n",
    "        ai, _ = effective_radius(p, q, lh, num_segments, shape=shape)\n",
    "        effective_density = ith_effect_density(ai, cell_radius, rubber_den, air_den)\n",
    "        \n",
    "        longitudinal_modulus = longitudinal_m(Young_m, Poisson_r, loss_factor)\n",
    "        # shear_modulus = shear_m(Young_m, Poisson_r, loss_factor)\n",
    "        \n",
    "        effective_speed = ith_longitudinal_speed(longitudinal_modulus, effective_density)\n",
    "        wave_number = ith_effect_wavenumber(omega, effective_speed)\n",
    "        \n",
    "        effective_impedance = ith_effect_impedance(effective_density, omega, wave_number)\n",
    "        tn = total_tran_matrix(wave_number, lh, num_segments, effective_impedance)\n",
    "\n",
    "        ## Acoustic impdedance of water: 1.48 MPa.s.m−1\n",
    "        ## https://www.animations.physics.unsw.edu.au/jw/sound-impedance-intensity.htm\n",
    "\n",
    "        zw = 998*1483\n",
    "        zf = imped_front(tn)\n",
    "        ref = reflection_coefficient(zf, zw)\n",
    "        alpha = absorption_coefficient(ref)   \n",
    "        absorption_list.append(alpha)\n",
    "        \n",
    "    return np.asarray(absorption_list)\n"
   ]
  },
  {
   "cell_type": "code",
   "execution_count": null,
   "metadata": {},
   "outputs": [],
   "source": [
    "frequency_array = np.arange(0.1, 10000, 100)\n",
    "absorption_array = absorption_frequency(frequency_array, 4*0.001, 8*0.001, 40*0.001, 1000,\n",
    "                                        0.014*(10**9), 0.49, 0.23, \n",
    "                                        15*0.001, shape='cone')"
   ]
  },
  {
   "cell_type": "code",
   "execution_count": null,
   "metadata": {},
   "outputs": [],
   "source": [
    "df = pd.DataFrame()\n",
    "df['KHZ'] = frequency_array*0.001\n",
    "df['alpha-4-8mm'] = absorption_array\n",
    "\n",
    "fn_path = '/Users/chenghunglin/Library/CloudStorage/OneDrive-BrookhavenNationalLaboratory/sound_absorption/'\n",
    "fn = 'absorption_4-8mm_theoretical.csv'\n",
    "# df.to_csv(fn_path+fn, header=True, sep=' ', float_format='{:.8e}'.format)"
   ]
  },
  {
   "cell_type": "code",
   "execution_count": null,
   "metadata": {},
   "outputs": [],
   "source": []
  },
  {
   "cell_type": "code",
   "execution_count": null,
   "metadata": {},
   "outputs": [],
   "source": [
    "rows = 1\n",
    "cols = 1\n",
    "f1, ax1 = plt.subplots(rows, cols, figsize = (6, 4), constrained_layout=True)\n",
    "ax1.plot(frequency_array, absorption_array)\n",
    "# plt.show()"
   ]
  },
  {
   "cell_type": "code",
   "execution_count": null,
   "metadata": {},
   "outputs": [],
   "source": [
    "# plt.close('all')"
   ]
  },
  {
   "cell_type": "markdown",
   "metadata": {},
   "source": [
    "## Plot more figures to compare with the paper"
   ]
  },
  {
   "cell_type": "code",
   "execution_count": null,
   "metadata": {},
   "outputs": [],
   "source": [
    "## Set up constants\n",
    "lh = 40 * 0.001\n",
    "num_segments = 1000\n",
    "Young_molulus = 14*(10**6)\n",
    "Poisson_ratio = 0.49\n",
    "loss_factor = 0.23\n",
    "cell_radius = 15 * 0.001"
   ]
  },
  {
   "cell_type": "code",
   "execution_count": null,
   "metadata": {},
   "outputs": [],
   "source": [
    "abs_cone_4_0 = absorption_frequency(frequency_array, 4*0.001, 0*0.001, lh, num_segments,\n",
    "                                    Young_molulus, Poisson_ratio, loss_factor, \n",
    "                                    cell_radius, shape='cone')"
   ]
  },
  {
   "cell_type": "code",
   "execution_count": null,
   "metadata": {},
   "outputs": [],
   "source": [
    "abs_cone_4_4 = absorption_frequency(frequency_array, 4*0.001, 4*0.001, lh, num_segments,\n",
    "                                    Young_molulus, Poisson_ratio, loss_factor, \n",
    "                                    cell_radius, shape='cone')"
   ]
  },
  {
   "cell_type": "code",
   "execution_count": null,
   "metadata": {},
   "outputs": [],
   "source": [
    "abs_cone_4_8 = absorption_frequency(frequency_array, 4*0.001, 8*0.001, lh, num_segments,\n",
    "                                    Young_molulus, Poisson_ratio, loss_factor, \n",
    "                                    cell_radius, shape='cone')"
   ]
  },
  {
   "cell_type": "code",
   "execution_count": null,
   "metadata": {},
   "outputs": [],
   "source": [
    "rows = 1\n",
    "cols = 1\n",
    "f2, ax2 = plt.subplots(rows, cols, figsize = (6, 4), constrained_layout=True)\n",
    "ax2.plot(frequency_array, abs_cone_4_0, label='Cone, p=4, q=0')\n",
    "ax2.plot(frequency_array, abs_cone_4_4, label='Cone, p=4, q=4')\n",
    "ax2.plot(frequency_array, abs_cone_4_8, label='Cone, p=4, q=8')\n",
    "ax2.legend()"
   ]
  },
  {
   "cell_type": "code",
   "execution_count": null,
   "metadata": {},
   "outputs": [],
   "source": []
  },
  {
   "cell_type": "code",
   "execution_count": null,
   "metadata": {},
   "outputs": [],
   "source": [
    "abs_horn_1_7 = absorption_frequency(frequency_array, 1*0.001, 7*0.001, lh, num_segments,\n",
    "                                    Young_molulus, Poisson_ratio, loss_factor, \n",
    "                                    cell_radius, shape='horn')"
   ]
  },
  {
   "cell_type": "code",
   "execution_count": null,
   "metadata": {},
   "outputs": [],
   "source": [
    "abs_horn_1_9 = absorption_frequency(frequency_array, 1*0.001, 9*0.001, lh, num_segments,\n",
    "                                    Young_molulus, Poisson_ratio, loss_factor, \n",
    "                                    cell_radius, shape='horn')"
   ]
  },
  {
   "cell_type": "code",
   "execution_count": null,
   "metadata": {},
   "outputs": [],
   "source": [
    "abs_horn_1_11 = absorption_frequency(frequency_array, 1*0.001, 11*0.001, lh, num_segments,\n",
    "                                    Young_molulus, Poisson_ratio, loss_factor, \n",
    "                                    cell_radius, shape='horn')"
   ]
  },
  {
   "cell_type": "code",
   "execution_count": null,
   "metadata": {},
   "outputs": [],
   "source": [
    "rows = 1\n",
    "cols = 1\n",
    "f3, ax3 = plt.subplots(rows, cols, figsize = (6, 4), constrained_layout=True)\n",
    "ax3.plot(frequency_array, abs_horn_1_7, label='Horn, p=1, q=7')\n",
    "ax3.plot(frequency_array, abs_horn_1_9, label='Horn, p=1, q=9')\n",
    "ax3.plot(frequency_array, abs_horn_1_11, label='Horn, p=1, q=11')\n",
    "ax3.legend()"
   ]
  },
  {
   "cell_type": "code",
   "execution_count": null,
   "metadata": {},
   "outputs": [],
   "source": []
  },
  {
   "cell_type": "code",
   "execution_count": null,
   "metadata": {},
   "outputs": [],
   "source": [
    "abs_cone_0_3 = absorption_frequency(frequency_array, 0*0.001, 3*0.001, lh, num_segments,\n",
    "                                    Young_molulus, Poisson_ratio, loss_factor, \n",
    "                                    cell_radius, shape='cone')"
   ]
  },
  {
   "cell_type": "code",
   "execution_count": null,
   "metadata": {},
   "outputs": [],
   "source": [
    "abs_cone_3_3 = absorption_frequency(frequency_array, 3*0.001, 3*0.001, lh, num_segments,\n",
    "                                    Young_molulus, Poisson_ratio, loss_factor, \n",
    "                                    cell_radius, shape='cone')"
   ]
  },
  {
   "cell_type": "code",
   "execution_count": null,
   "metadata": {},
   "outputs": [],
   "source": [
    "abs_cone_6_3 = absorption_frequency(frequency_array, 6*0.001, 3*0.001, lh, num_segments,\n",
    "                                    Young_molulus, Poisson_ratio, loss_factor, \n",
    "                                    cell_radius, shape='cone')"
   ]
  },
  {
   "cell_type": "code",
   "execution_count": null,
   "metadata": {},
   "outputs": [],
   "source": [
    "rows = 1\n",
    "cols = 1\n",
    "f4, ax4 = plt.subplots(rows, cols, figsize = (6, 4), constrained_layout=True)\n",
    "ax4.plot(frequency_array, abs_cone_0_3, label='Cone, p=0, q=3')\n",
    "ax4.plot(frequency_array, abs_cone_3_3, label='Cone, p=3, q=3')\n",
    "ax4.plot(frequency_array, abs_cone_6_3, label='Cone, p=6, q=3')\n",
    "ax4.legend()"
   ]
  },
  {
   "cell_type": "code",
   "execution_count": null,
   "metadata": {},
   "outputs": [],
   "source": []
  },
  {
   "cell_type": "code",
   "execution_count": null,
   "metadata": {},
   "outputs": [],
   "source": [
    "abs_horn_01_9 = absorption_frequency(frequency_array, 0.1*0.001, 9*0.001, lh, num_segments,\n",
    "                                    Young_molulus, Poisson_ratio, loss_factor, \n",
    "                                    cell_radius, shape='horn')"
   ]
  },
  {
   "cell_type": "code",
   "execution_count": null,
   "metadata": {},
   "outputs": [],
   "source": [
    "abs_horn_1_9 = absorption_frequency(frequency_array, 1*0.001, 9*0.001, lh, num_segments,\n",
    "                                    Young_molulus, Poisson_ratio, loss_factor, \n",
    "                                    cell_radius, shape='horn')"
   ]
  },
  {
   "cell_type": "code",
   "execution_count": null,
   "metadata": {},
   "outputs": [],
   "source": [
    "abs_horn_4_9 = absorption_frequency(frequency_array, 4*0.001, 9*0.001, lh, num_segments,\n",
    "                                    Young_molulus, Poisson_ratio, loss_factor, \n",
    "                                    cell_radius, shape='horn')"
   ]
  },
  {
   "cell_type": "code",
   "execution_count": null,
   "metadata": {},
   "outputs": [],
   "source": [
    "rows = 1\n",
    "cols = 1\n",
    "f5, ax5 = plt.subplots(rows, cols, figsize = (6, 4), constrained_layout=True)\n",
    "ax5.plot(frequency_array, abs_horn_01_9, label='Horn, p=0.1, q=9')\n",
    "ax5.plot(frequency_array, abs_horn_1_9, label='Horn, p=1, q=9')\n",
    "ax5.plot(frequency_array, abs_horn_4_9, label='Horn, p=4, q=9')\n",
    "ax5.legend()"
   ]
  },
  {
   "cell_type": "code",
   "execution_count": null,
   "metadata": {},
   "outputs": [],
   "source": []
  },
  {
   "cell_type": "code",
   "execution_count": null,
   "metadata": {},
   "outputs": [],
   "source": []
  },
  {
   "cell_type": "code",
   "execution_count": null,
   "metadata": {},
   "outputs": [],
   "source": []
  },
  {
   "cell_type": "code",
   "execution_count": null,
   "metadata": {},
   "outputs": [],
   "source": []
  },
  {
   "cell_type": "code",
   "execution_count": null,
   "metadata": {},
   "outputs": [],
   "source": []
  }
 ],
 "metadata": {
  "anaconda-cloud": {},
  "kernelspec": {
   "display_name": "Python 3 (ipykernel)",
   "language": "python",
   "name": "python3"
  },
  "language_info": {
   "codemirror_mode": {
    "name": "ipython",
    "version": 3
   },
   "file_extension": ".py",
   "mimetype": "text/x-python",
   "name": "python",
   "nbconvert_exporter": "python",
   "pygments_lexer": "ipython3",
   "version": "3.9.19"
  }
 },
 "nbformat": 4,
 "nbformat_minor": 4
}
