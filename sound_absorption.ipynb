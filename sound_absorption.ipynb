{
 "cells": [
  {
   "cell_type": "code",
   "execution_count": 1,
   "metadata": {
    "collapsed": false,
    "jupyter": {
     "outputs_hidden": false
    }
   },
   "outputs": [],
   "source": [
    "import numpy as np\n",
    "import matplotlib.pyplot as plt\n",
    "import pandas as pd"
   ]
  },
  {
   "cell_type": "code",
   "execution_count": 2,
   "metadata": {},
   "outputs": [],
   "source": [
    "%matplotlib widget"
   ]
  },
  {
   "cell_type": "code",
   "execution_count": 3,
   "metadata": {},
   "outputs": [],
   "source": [
    "import warnings\n",
    "warnings.filterwarnings(\"ignore\", category=RuntimeWarning)\n",
    "warnings.filterwarnings(\"ignore\", category=pd.errors.PerformanceWarning)"
   ]
  },
  {
   "cell_type": "markdown",
   "metadata": {
    "tags": []
   },
   "source": [
    "### Reference: Influence of hole shape on sound absorption of underwater anechoic layers\n",
    "#### https://www.sciencedirect.com/science/article/abs/pii/S0022460X1830227X"
   ]
  },
  {
   "cell_type": "markdown",
   "metadata": {},
   "source": [
    "### Import pre-defined class and function"
   ]
  },
  {
   "cell_type": "code",
   "execution_count": 4,
   "metadata": {},
   "outputs": [],
   "source": [
    "%run -i hole_shape_sound_absorption.py"
   ]
  },
  {
   "cell_type": "markdown",
   "metadata": {},
   "source": [
    "### Define the determinant of the coefficient matrix of eq(14) in the paper"
   ]
  },
  {
   "cell_type": "code",
   "execution_count": 5,
   "metadata": {},
   "outputs": [
    {
     "data": {
      "text/latex": [
       "$\\displaystyle \\left[\\begin{matrix}- \\sqrt{- kz^{2} + \\frac{\\omega^{2}}{cl^{2}}} J_{1}\\left(b \\sqrt{- kz^{2} + \\frac{\\omega^{2}}{cl^{2}}}\\right) & - \\sqrt{- kz^{2} + \\frac{\\omega^{2}}{cl^{2}}} Y_{1}\\left(b \\sqrt{- kz^{2} + \\frac{\\omega^{2}}{cl^{2}}}\\right) & - i kz \\sqrt{- kz^{2} + \\frac{\\omega^{2}}{ct^{2}}} J_{1}\\left(b \\sqrt{- kz^{2} + \\frac{\\omega^{2}}{ct^{2}}}\\right) & - i kz \\sqrt{- kz^{2} + \\frac{\\omega^{2}}{ct^{2}}} Y_{1}\\left(b \\sqrt{- kz^{2} + \\frac{\\omega^{2}}{ct^{2}}}\\right)\\\\\\left(- 2 \\mu \\left(- kz^{2} + \\frac{\\omega^{2}}{cl^{2}}\\right) - \\frac{\\lambda \\omega^{2}}{cl^{2}}\\right) J_{0}\\left(a \\sqrt{- kz^{2} + \\frac{\\omega^{2}}{cl^{2}}}\\right) + \\frac{2 \\mu \\sqrt{- kz^{2} + \\frac{\\omega^{2}}{cl^{2}}} J_{1}\\left(a \\sqrt{- kz^{2} + \\frac{\\omega^{2}}{cl^{2}}}\\right)}{a} & \\left(- 2 \\mu \\left(- kz^{2} + \\frac{\\omega^{2}}{cl^{2}}\\right) - \\frac{\\lambda \\omega^{2}}{cl^{2}}\\right) Y_{0}\\left(a \\sqrt{- kz^{2} + \\frac{\\omega^{2}}{cl^{2}}}\\right) + \\frac{2 \\mu \\sqrt{- kz^{2} + \\frac{\\omega^{2}}{cl^{2}}} Y_{1}\\left(a \\sqrt{- kz^{2} + \\frac{\\omega^{2}}{cl^{2}}}\\right)}{a} & 2 i kz \\mu \\sqrt{- kz^{2} + \\frac{\\omega^{2}}{ct^{2}}} \\left(- \\sqrt{- kz^{2} + \\frac{\\omega^{2}}{ct^{2}}} J_{0}\\left(a \\sqrt{- kz^{2} + \\frac{\\omega^{2}}{ct^{2}}}\\right) + \\frac{J_{1}\\left(a \\sqrt{- kz^{2} + \\frac{\\omega^{2}}{ct^{2}}}\\right)}{a}\\right) & 2 i kz \\mu \\sqrt{- kz^{2} + \\frac{\\omega^{2}}{ct^{2}}} \\left(- \\sqrt{- kz^{2} + \\frac{\\omega^{2}}{ct^{2}}} Y_{0}\\left(a \\sqrt{- kz^{2} + \\frac{\\omega^{2}}{ct^{2}}}\\right) + \\frac{Y_{1}\\left(a \\sqrt{- kz^{2} + \\frac{\\omega^{2}}{ct^{2}}}\\right)}{a}\\right)\\\\- 2 i kz \\mu \\sqrt{- kz^{2} + \\frac{\\omega^{2}}{cl^{2}}} J_{1}\\left(a \\sqrt{- kz^{2} + \\frac{\\omega^{2}}{cl^{2}}}\\right) & - 2 i kz \\mu \\sqrt{- kz^{2} + \\frac{\\omega^{2}}{cl^{2}}} Y_{1}\\left(a \\sqrt{- kz^{2} + \\frac{\\omega^{2}}{cl^{2}}}\\right) & \\mu \\sqrt{- kz^{2} + \\frac{\\omega^{2}}{ct^{2}}} \\cdot \\left(2 kz^{2} - \\frac{\\omega^{2}}{ct^{2}}\\right) J_{1}\\left(a \\sqrt{- kz^{2} + \\frac{\\omega^{2}}{ct^{2}}}\\right) & \\mu \\sqrt{- kz^{2} + \\frac{\\omega^{2}}{ct^{2}}} \\cdot \\left(2 kz^{2} - \\frac{\\omega^{2}}{ct^{2}}\\right) Y_{1}\\left(a \\sqrt{- kz^{2} + \\frac{\\omega^{2}}{ct^{2}}}\\right)\\\\- 2 i kz \\mu \\sqrt{- kz^{2} + \\frac{\\omega^{2}}{cl^{2}}} J_{1}\\left(b \\sqrt{- kz^{2} + \\frac{\\omega^{2}}{cl^{2}}}\\right) & - 2 i kz \\mu \\sqrt{- kz^{2} + \\frac{\\omega^{2}}{cl^{2}}} Y_{1}\\left(b \\sqrt{- kz^{2} + \\frac{\\omega^{2}}{cl^{2}}}\\right) & \\mu \\sqrt{- kz^{2} + \\frac{\\omega^{2}}{ct^{2}}} \\cdot \\left(2 kz^{2} - \\frac{\\omega^{2}}{ct^{2}}\\right) J_{1}\\left(b \\sqrt{- kz^{2} + \\frac{\\omega^{2}}{ct^{2}}}\\right) & \\mu \\sqrt{- kz^{2} + \\frac{\\omega^{2}}{ct^{2}}} \\cdot \\left(2 kz^{2} - \\frac{\\omega^{2}}{ct^{2}}\\right) Y_{1}\\left(b \\sqrt{- kz^{2} + \\frac{\\omega^{2}}{ct^{2}}}\\right)\\end{matrix}\\right]$"
      ],
      "text/plain": [
       "Matrix([\n",
       "[                                                                                                              -sqrt(-kz**2 + omega**2/cl**2)*besselj(1, b*sqrt(-kz**2 + omega**2/cl**2)),                                                                                                               -sqrt(-kz**2 + omega**2/cl**2)*bessely(1, b*sqrt(-kz**2 + omega**2/cl**2)),                                                                                      -I*kz*sqrt(-kz**2 + omega**2/ct**2)*besselj(1, b*sqrt(-kz**2 + omega**2/ct**2)),                                                                                      -I*kz*sqrt(-kz**2 + omega**2/ct**2)*bessely(1, b*sqrt(-kz**2 + omega**2/ct**2))],\n",
       "[(-2*mu*(-kz**2 + omega**2/cl**2) - lambda*omega**2/cl**2)*besselj(0, a*sqrt(-kz**2 + omega**2/cl**2)) + 2*mu*sqrt(-kz**2 + omega**2/cl**2)*besselj(1, a*sqrt(-kz**2 + omega**2/cl**2))/a, (-2*mu*(-kz**2 + omega**2/cl**2) - lambda*omega**2/cl**2)*bessely(0, a*sqrt(-kz**2 + omega**2/cl**2)) + 2*mu*sqrt(-kz**2 + omega**2/cl**2)*bessely(1, a*sqrt(-kz**2 + omega**2/cl**2))/a, 2*I*kz*mu*sqrt(-kz**2 + omega**2/ct**2)*(-sqrt(-kz**2 + omega**2/ct**2)*besselj(0, a*sqrt(-kz**2 + omega**2/ct**2)) + besselj(1, a*sqrt(-kz**2 + omega**2/ct**2))/a), 2*I*kz*mu*sqrt(-kz**2 + omega**2/ct**2)*(-sqrt(-kz**2 + omega**2/ct**2)*bessely(0, a*sqrt(-kz**2 + omega**2/ct**2)) + bessely(1, a*sqrt(-kz**2 + omega**2/ct**2))/a)],\n",
       "[                                                                                                    -2*I*kz*mu*sqrt(-kz**2 + omega**2/cl**2)*besselj(1, a*sqrt(-kz**2 + omega**2/cl**2)),                                                                                                     -2*I*kz*mu*sqrt(-kz**2 + omega**2/cl**2)*bessely(1, a*sqrt(-kz**2 + omega**2/cl**2)),                                                              mu*sqrt(-kz**2 + omega**2/ct**2)*(2*kz**2 - omega**2/ct**2)*besselj(1, a*sqrt(-kz**2 + omega**2/ct**2)),                                                              mu*sqrt(-kz**2 + omega**2/ct**2)*(2*kz**2 - omega**2/ct**2)*bessely(1, a*sqrt(-kz**2 + omega**2/ct**2))],\n",
       "[                                                                                                    -2*I*kz*mu*sqrt(-kz**2 + omega**2/cl**2)*besselj(1, b*sqrt(-kz**2 + omega**2/cl**2)),                                                                                                     -2*I*kz*mu*sqrt(-kz**2 + omega**2/cl**2)*bessely(1, b*sqrt(-kz**2 + omega**2/cl**2)),                                                              mu*sqrt(-kz**2 + omega**2/ct**2)*(2*kz**2 - omega**2/ct**2)*besselj(1, b*sqrt(-kz**2 + omega**2/ct**2)),                                                              mu*sqrt(-kz**2 + omega**2/ct**2)*(2*kz**2 - omega**2/ct**2)*bessely(1, b*sqrt(-kz**2 + omega**2/ct**2))]])"
      ]
     },
     "execution_count": 5,
     "metadata": {},
     "output_type": "execute_result"
    }
   ],
   "source": [
    "determinant, mat = determinant_from_matrix()\n",
    "mat"
   ]
  },
  {
   "cell_type": "code",
   "execution_count": null,
   "metadata": {},
   "outputs": [],
   "source": []
  },
  {
   "cell_type": "markdown",
   "metadata": {},
   "source": [
    "### Define the frequency array by np.arange"
   ]
  },
  {
   "cell_type": "code",
   "execution_count": 6,
   "metadata": {},
   "outputs": [],
   "source": [
    "# np.arange?"
   ]
  },
  {
   "cell_type": "code",
   "execution_count": 7,
   "metadata": {},
   "outputs": [],
   "source": [
    "# frequency_array = np.arange(20, 10021, 100)\n",
    "# frequency_array"
   ]
  },
  {
   "cell_type": "markdown",
   "metadata": {
    "tags": []
   },
   "source": [
    "## Define an object of sound_performance for calculating sound absorption\n",
    "### The default values are listed as below (all in SI units)\n",
    "\n",
    "Material of anechoic layer: rubber\n",
    "\n",
    "Young's modulus of rubber (GPa): 0.14\n",
    "\n",
    "Loss factor of rubber 0.23\n",
    "\n",
    "Poisson ratio of rubber 0.49\n",
    "\n",
    "Density of rubber (kg/m3): 1100\n",
    "\n",
    "Density of air (kg/m3): 1.21\n",
    "\n",
    "Shape: cone\n",
    "\n",
    "p = 4 mm\n",
    "\n",
    "q = 8 mm\n",
    "\n",
    "lh = 40 mm\n",
    "\n",
    "cell_radius = 15 mm\n",
    "\n",
    "num_segments = 100\n",
    "\n",
    "Density of water (kg/m3): 998\n",
    "\n",
    "Sound speed of water (m/s): 1483\n",
    "\n",
    "#### https://en.wikipedia.org/wiki/Lam%C3%A9_parameters"
   ]
  },
  {
   "cell_type": "code",
   "execution_count": 8,
   "metadata": {},
   "outputs": [
    {
     "data": {
      "text/plain": [
       "(252,)"
      ]
     },
     "execution_count": 8,
     "metadata": {},
     "output_type": "execute_result"
    }
   ],
   "source": [
    "frequency_array = np.arange(2, 10052, 40)\n",
    "# frequency_array2 = np.arange(2, 10022, 20)\n",
    "frequency_array.shape"
   ]
  },
  {
   "cell_type": "markdown",
   "metadata": {},
   "source": [
    "### Example 01: define all parameters by nechoic_sound_absorption()"
   ]
  },
  {
   "cell_type": "code",
   "execution_count": 9,
   "metadata": {},
   "outputs": [
    {
     "name": "stdout",
     "output_type": "stream",
     "text": [
      "Solving wavenumber in determinant for shape = cone, p = 0.006, q = 0.003, Young's = 140000000.0\n"
     ]
    },
    {
     "data": {
      "application/vnd.jupyter.widget-view+json": {
       "model_id": "1a87d8dcfeea4bb7a34dfe944d2a1213",
       "version_major": 2,
       "version_minor": 0
      },
      "text/plain": [
       "Solving for all frequencies:   0%|          | 0/252 [00:00<?, ?it/s]"
      ]
     },
     "metadata": {},
     "output_type": "display_data"
    },
    {
     "data": {
      "application/vnd.jupyter.widget-view+json": {
       "model_id": "",
       "version_major": 2,
       "version_minor": 0
      },
      "text/plain": [
       "  ... working at frequency = 2.0 Hz:   0%|          | 0/100 [00:00<?, ?it/s]"
      ]
     },
     "metadata": {},
     "output_type": "display_data"
    },
    {
     "data": {
      "application/vnd.jupyter.widget-view+json": {
       "model_id": "",
       "version_major": 2,
       "version_minor": 0
      },
      "text/plain": [
       "  ... working at frequency = 42.0 Hz:   0%|          | 0/100 [00:00<?, ?it/s]"
      ]
     },
     "metadata": {},
     "output_type": "display_data"
    },
    {
     "data": {
      "application/vnd.jupyter.widget-view+json": {
       "model_id": "",
       "version_major": 2,
       "version_minor": 0
      },
      "text/plain": [
       "  ... working at frequency = 82.0 Hz:   0%|          | 0/100 [00:00<?, ?it/s]"
      ]
     },
     "metadata": {},
     "output_type": "display_data"
    },
    {
     "data": {
      "application/vnd.jupyter.widget-view+json": {
       "model_id": "",
       "version_major": 2,
       "version_minor": 0
      },
      "text/plain": [
       "  ... working at frequency = 122.0 Hz:   0%|          | 0/100 [00:00<?, ?it/s]"
      ]
     },
     "metadata": {},
     "output_type": "display_data"
    },
    {
     "data": {
      "application/vnd.jupyter.widget-view+json": {
       "model_id": "",
       "version_major": 2,
       "version_minor": 0
      },
      "text/plain": [
       "  ... working at frequency = 162.0 Hz:   0%|          | 0/100 [00:00<?, ?it/s]"
      ]
     },
     "metadata": {},
     "output_type": "display_data"
    },
    {
     "data": {
      "application/vnd.jupyter.widget-view+json": {
       "model_id": "",
       "version_major": 2,
       "version_minor": 0
      },
      "text/plain": [
       "  ... working at frequency = 202.0 Hz:   0%|          | 0/100 [00:00<?, ?it/s]"
      ]
     },
     "metadata": {},
     "output_type": "display_data"
    },
    {
     "data": {
      "application/vnd.jupyter.widget-view+json": {
       "model_id": "",
       "version_major": 2,
       "version_minor": 0
      },
      "text/plain": [
       "  ... working at frequency = 242.0 Hz:   0%|          | 0/100 [00:00<?, ?it/s]"
      ]
     },
     "metadata": {},
     "output_type": "display_data"
    },
    {
     "data": {
      "application/vnd.jupyter.widget-view+json": {
       "model_id": "",
       "version_major": 2,
       "version_minor": 0
      },
      "text/plain": [
       "  ... working at frequency = 282.0 Hz:   0%|          | 0/100 [00:00<?, ?it/s]"
      ]
     },
     "metadata": {},
     "output_type": "display_data"
    },
    {
     "data": {
      "application/vnd.jupyter.widget-view+json": {
       "model_id": "",
       "version_major": 2,
       "version_minor": 0
      },
      "text/plain": [
       "  ... working at frequency = 322.0 Hz:   0%|          | 0/100 [00:00<?, ?it/s]"
      ]
     },
     "metadata": {},
     "output_type": "display_data"
    },
    {
     "data": {
      "application/vnd.jupyter.widget-view+json": {
       "model_id": "",
       "version_major": 2,
       "version_minor": 0
      },
      "text/plain": [
       "  ... working at frequency = 362.0 Hz:   0%|          | 0/100 [00:00<?, ?it/s]"
      ]
     },
     "metadata": {},
     "output_type": "display_data"
    },
    {
     "data": {
      "application/vnd.jupyter.widget-view+json": {
       "model_id": "",
       "version_major": 2,
       "version_minor": 0
      },
      "text/plain": [
       "  ... working at frequency = 402.0 Hz:   0%|          | 0/100 [00:00<?, ?it/s]"
      ]
     },
     "metadata": {},
     "output_type": "display_data"
    },
    {
     "data": {
      "application/vnd.jupyter.widget-view+json": {
       "model_id": "",
       "version_major": 2,
       "version_minor": 0
      },
      "text/plain": [
       "  ... working at frequency = 442.0 Hz:   0%|          | 0/100 [00:00<?, ?it/s]"
      ]
     },
     "metadata": {},
     "output_type": "display_data"
    },
    {
     "data": {
      "application/vnd.jupyter.widget-view+json": {
       "model_id": "",
       "version_major": 2,
       "version_minor": 0
      },
      "text/plain": [
       "  ... working at frequency = 482.0 Hz:   0%|          | 0/100 [00:00<?, ?it/s]"
      ]
     },
     "metadata": {},
     "output_type": "display_data"
    },
    {
     "data": {
      "application/vnd.jupyter.widget-view+json": {
       "model_id": "",
       "version_major": 2,
       "version_minor": 0
      },
      "text/plain": [
       "  ... working at frequency = 522.0 Hz:   0%|          | 0/100 [00:00<?, ?it/s]"
      ]
     },
     "metadata": {},
     "output_type": "display_data"
    },
    {
     "data": {
      "application/vnd.jupyter.widget-view+json": {
       "model_id": "",
       "version_major": 2,
       "version_minor": 0
      },
      "text/plain": [
       "  ... working at frequency = 562.0 Hz:   0%|          | 0/100 [00:00<?, ?it/s]"
      ]
     },
     "metadata": {},
     "output_type": "display_data"
    },
    {
     "data": {
      "application/vnd.jupyter.widget-view+json": {
       "model_id": "",
       "version_major": 2,
       "version_minor": 0
      },
      "text/plain": [
       "  ... working at frequency = 602.0 Hz:   0%|          | 0/100 [00:00<?, ?it/s]"
      ]
     },
     "metadata": {},
     "output_type": "display_data"
    },
    {
     "data": {
      "application/vnd.jupyter.widget-view+json": {
       "model_id": "",
       "version_major": 2,
       "version_minor": 0
      },
      "text/plain": [
       "  ... working at frequency = 642.0 Hz:   0%|          | 0/100 [00:00<?, ?it/s]"
      ]
     },
     "metadata": {},
     "output_type": "display_data"
    },
    {
     "data": {
      "application/vnd.jupyter.widget-view+json": {
       "model_id": "",
       "version_major": 2,
       "version_minor": 0
      },
      "text/plain": [
       "  ... working at frequency = 682.0 Hz:   0%|          | 0/100 [00:00<?, ?it/s]"
      ]
     },
     "metadata": {},
     "output_type": "display_data"
    },
    {
     "data": {
      "application/vnd.jupyter.widget-view+json": {
       "model_id": "",
       "version_major": 2,
       "version_minor": 0
      },
      "text/plain": [
       "  ... working at frequency = 722.0 Hz:   0%|          | 0/100 [00:00<?, ?it/s]"
      ]
     },
     "metadata": {},
     "output_type": "display_data"
    },
    {
     "data": {
      "application/vnd.jupyter.widget-view+json": {
       "model_id": "",
       "version_major": 2,
       "version_minor": 0
      },
      "text/plain": [
       "  ... working at frequency = 762.0 Hz:   0%|          | 0/100 [00:00<?, ?it/s]"
      ]
     },
     "metadata": {},
     "output_type": "display_data"
    },
    {
     "data": {
      "application/vnd.jupyter.widget-view+json": {
       "model_id": "",
       "version_major": 2,
       "version_minor": 0
      },
      "text/plain": [
       "  ... working at frequency = 802.0 Hz:   0%|          | 0/100 [00:00<?, ?it/s]"
      ]
     },
     "metadata": {},
     "output_type": "display_data"
    },
    {
     "data": {
      "application/vnd.jupyter.widget-view+json": {
       "model_id": "",
       "version_major": 2,
       "version_minor": 0
      },
      "text/plain": [
       "  ... working at frequency = 842.0 Hz:   0%|          | 0/100 [00:00<?, ?it/s]"
      ]
     },
     "metadata": {},
     "output_type": "display_data"
    },
    {
     "data": {
      "application/vnd.jupyter.widget-view+json": {
       "model_id": "",
       "version_major": 2,
       "version_minor": 0
      },
      "text/plain": [
       "  ... working at frequency = 882.0 Hz:   0%|          | 0/100 [00:00<?, ?it/s]"
      ]
     },
     "metadata": {},
     "output_type": "display_data"
    },
    {
     "data": {
      "application/vnd.jupyter.widget-view+json": {
       "model_id": "",
       "version_major": 2,
       "version_minor": 0
      },
      "text/plain": [
       "  ... working at frequency = 922.0 Hz:   0%|          | 0/100 [00:00<?, ?it/s]"
      ]
     },
     "metadata": {},
     "output_type": "display_data"
    },
    {
     "data": {
      "application/vnd.jupyter.widget-view+json": {
       "model_id": "",
       "version_major": 2,
       "version_minor": 0
      },
      "text/plain": [
       "  ... working at frequency = 962.0 Hz:   0%|          | 0/100 [00:00<?, ?it/s]"
      ]
     },
     "metadata": {},
     "output_type": "display_data"
    },
    {
     "data": {
      "application/vnd.jupyter.widget-view+json": {
       "model_id": "",
       "version_major": 2,
       "version_minor": 0
      },
      "text/plain": [
       "  ... working at frequency = 1002.0 Hz:   0%|          | 0/100 [00:00<?, ?it/s]"
      ]
     },
     "metadata": {},
     "output_type": "display_data"
    },
    {
     "data": {
      "application/vnd.jupyter.widget-view+json": {
       "model_id": "",
       "version_major": 2,
       "version_minor": 0
      },
      "text/plain": [
       "  ... working at frequency = 1042.0 Hz:   0%|          | 0/100 [00:00<?, ?it/s]"
      ]
     },
     "metadata": {},
     "output_type": "display_data"
    },
    {
     "data": {
      "application/vnd.jupyter.widget-view+json": {
       "model_id": "",
       "version_major": 2,
       "version_minor": 0
      },
      "text/plain": [
       "  ... working at frequency = 1082.0 Hz:   0%|          | 0/100 [00:00<?, ?it/s]"
      ]
     },
     "metadata": {},
     "output_type": "display_data"
    },
    {
     "data": {
      "application/vnd.jupyter.widget-view+json": {
       "model_id": "",
       "version_major": 2,
       "version_minor": 0
      },
      "text/plain": [
       "  ... working at frequency = 1122.0 Hz:   0%|          | 0/100 [00:00<?, ?it/s]"
      ]
     },
     "metadata": {},
     "output_type": "display_data"
    },
    {
     "data": {
      "application/vnd.jupyter.widget-view+json": {
       "model_id": "",
       "version_major": 2,
       "version_minor": 0
      },
      "text/plain": [
       "  ... working at frequency = 1162.0 Hz:   0%|          | 0/100 [00:00<?, ?it/s]"
      ]
     },
     "metadata": {},
     "output_type": "display_data"
    },
    {
     "data": {
      "application/vnd.jupyter.widget-view+json": {
       "model_id": "",
       "version_major": 2,
       "version_minor": 0
      },
      "text/plain": [
       "  ... working at frequency = 1202.0 Hz:   0%|          | 0/100 [00:00<?, ?it/s]"
      ]
     },
     "metadata": {},
     "output_type": "display_data"
    },
    {
     "data": {
      "application/vnd.jupyter.widget-view+json": {
       "model_id": "",
       "version_major": 2,
       "version_minor": 0
      },
      "text/plain": [
       "  ... working at frequency = 1242.0 Hz:   0%|          | 0/100 [00:00<?, ?it/s]"
      ]
     },
     "metadata": {},
     "output_type": "display_data"
    },
    {
     "data": {
      "application/vnd.jupyter.widget-view+json": {
       "model_id": "",
       "version_major": 2,
       "version_minor": 0
      },
      "text/plain": [
       "  ... working at frequency = 1282.0 Hz:   0%|          | 0/100 [00:00<?, ?it/s]"
      ]
     },
     "metadata": {},
     "output_type": "display_data"
    },
    {
     "data": {
      "application/vnd.jupyter.widget-view+json": {
       "model_id": "",
       "version_major": 2,
       "version_minor": 0
      },
      "text/plain": [
       "  ... working at frequency = 1322.0 Hz:   0%|          | 0/100 [00:00<?, ?it/s]"
      ]
     },
     "metadata": {},
     "output_type": "display_data"
    },
    {
     "data": {
      "application/vnd.jupyter.widget-view+json": {
       "model_id": "",
       "version_major": 2,
       "version_minor": 0
      },
      "text/plain": [
       "  ... working at frequency = 1362.0 Hz:   0%|          | 0/100 [00:00<?, ?it/s]"
      ]
     },
     "metadata": {},
     "output_type": "display_data"
    },
    {
     "data": {
      "application/vnd.jupyter.widget-view+json": {
       "model_id": "",
       "version_major": 2,
       "version_minor": 0
      },
      "text/plain": [
       "  ... working at frequency = 1402.0 Hz:   0%|          | 0/100 [00:00<?, ?it/s]"
      ]
     },
     "metadata": {},
     "output_type": "display_data"
    },
    {
     "data": {
      "application/vnd.jupyter.widget-view+json": {
       "model_id": "",
       "version_major": 2,
       "version_minor": 0
      },
      "text/plain": [
       "  ... working at frequency = 1442.0 Hz:   0%|          | 0/100 [00:00<?, ?it/s]"
      ]
     },
     "metadata": {},
     "output_type": "display_data"
    },
    {
     "data": {
      "application/vnd.jupyter.widget-view+json": {
       "model_id": "",
       "version_major": 2,
       "version_minor": 0
      },
      "text/plain": [
       "  ... working at frequency = 1482.0 Hz:   0%|          | 0/100 [00:00<?, ?it/s]"
      ]
     },
     "metadata": {},
     "output_type": "display_data"
    },
    {
     "data": {
      "application/vnd.jupyter.widget-view+json": {
       "model_id": "",
       "version_major": 2,
       "version_minor": 0
      },
      "text/plain": [
       "  ... working at frequency = 1522.0 Hz:   0%|          | 0/100 [00:00<?, ?it/s]"
      ]
     },
     "metadata": {},
     "output_type": "display_data"
    },
    {
     "data": {
      "application/vnd.jupyter.widget-view+json": {
       "model_id": "",
       "version_major": 2,
       "version_minor": 0
      },
      "text/plain": [
       "  ... working at frequency = 1562.0 Hz:   0%|          | 0/100 [00:00<?, ?it/s]"
      ]
     },
     "metadata": {},
     "output_type": "display_data"
    },
    {
     "data": {
      "application/vnd.jupyter.widget-view+json": {
       "model_id": "",
       "version_major": 2,
       "version_minor": 0
      },
      "text/plain": [
       "  ... working at frequency = 1602.0 Hz:   0%|          | 0/100 [00:00<?, ?it/s]"
      ]
     },
     "metadata": {},
     "output_type": "display_data"
    },
    {
     "data": {
      "application/vnd.jupyter.widget-view+json": {
       "model_id": "",
       "version_major": 2,
       "version_minor": 0
      },
      "text/plain": [
       "  ... working at frequency = 1642.0 Hz:   0%|          | 0/100 [00:00<?, ?it/s]"
      ]
     },
     "metadata": {},
     "output_type": "display_data"
    },
    {
     "data": {
      "application/vnd.jupyter.widget-view+json": {
       "model_id": "",
       "version_major": 2,
       "version_minor": 0
      },
      "text/plain": [
       "  ... working at frequency = 1682.0 Hz:   0%|          | 0/100 [00:00<?, ?it/s]"
      ]
     },
     "metadata": {},
     "output_type": "display_data"
    },
    {
     "data": {
      "application/vnd.jupyter.widget-view+json": {
       "model_id": "",
       "version_major": 2,
       "version_minor": 0
      },
      "text/plain": [
       "  ... working at frequency = 1722.0 Hz:   0%|          | 0/100 [00:00<?, ?it/s]"
      ]
     },
     "metadata": {},
     "output_type": "display_data"
    },
    {
     "data": {
      "application/vnd.jupyter.widget-view+json": {
       "model_id": "",
       "version_major": 2,
       "version_minor": 0
      },
      "text/plain": [
       "  ... working at frequency = 1762.0 Hz:   0%|          | 0/100 [00:00<?, ?it/s]"
      ]
     },
     "metadata": {},
     "output_type": "display_data"
    },
    {
     "data": {
      "application/vnd.jupyter.widget-view+json": {
       "model_id": "",
       "version_major": 2,
       "version_minor": 0
      },
      "text/plain": [
       "  ... working at frequency = 1802.0 Hz:   0%|          | 0/100 [00:00<?, ?it/s]"
      ]
     },
     "metadata": {},
     "output_type": "display_data"
    },
    {
     "data": {
      "application/vnd.jupyter.widget-view+json": {
       "model_id": "",
       "version_major": 2,
       "version_minor": 0
      },
      "text/plain": [
       "  ... working at frequency = 1842.0 Hz:   0%|          | 0/100 [00:00<?, ?it/s]"
      ]
     },
     "metadata": {},
     "output_type": "display_data"
    },
    {
     "data": {
      "application/vnd.jupyter.widget-view+json": {
       "model_id": "",
       "version_major": 2,
       "version_minor": 0
      },
      "text/plain": [
       "  ... working at frequency = 1882.0 Hz:   0%|          | 0/100 [00:00<?, ?it/s]"
      ]
     },
     "metadata": {},
     "output_type": "display_data"
    },
    {
     "data": {
      "application/vnd.jupyter.widget-view+json": {
       "model_id": "",
       "version_major": 2,
       "version_minor": 0
      },
      "text/plain": [
       "  ... working at frequency = 1922.0 Hz:   0%|          | 0/100 [00:00<?, ?it/s]"
      ]
     },
     "metadata": {},
     "output_type": "display_data"
    },
    {
     "data": {
      "application/vnd.jupyter.widget-view+json": {
       "model_id": "",
       "version_major": 2,
       "version_minor": 0
      },
      "text/plain": [
       "  ... working at frequency = 1962.0 Hz:   0%|          | 0/100 [00:00<?, ?it/s]"
      ]
     },
     "metadata": {},
     "output_type": "display_data"
    },
    {
     "data": {
      "application/vnd.jupyter.widget-view+json": {
       "model_id": "",
       "version_major": 2,
       "version_minor": 0
      },
      "text/plain": [
       "  ... working at frequency = 2002.0 Hz:   0%|          | 0/100 [00:00<?, ?it/s]"
      ]
     },
     "metadata": {},
     "output_type": "display_data"
    },
    {
     "data": {
      "application/vnd.jupyter.widget-view+json": {
       "model_id": "",
       "version_major": 2,
       "version_minor": 0
      },
      "text/plain": [
       "  ... working at frequency = 2042.0 Hz:   0%|          | 0/100 [00:00<?, ?it/s]"
      ]
     },
     "metadata": {},
     "output_type": "display_data"
    },
    {
     "data": {
      "application/vnd.jupyter.widget-view+json": {
       "model_id": "",
       "version_major": 2,
       "version_minor": 0
      },
      "text/plain": [
       "  ... working at frequency = 2082.0 Hz:   0%|          | 0/100 [00:00<?, ?it/s]"
      ]
     },
     "metadata": {},
     "output_type": "display_data"
    },
    {
     "data": {
      "application/vnd.jupyter.widget-view+json": {
       "model_id": "",
       "version_major": 2,
       "version_minor": 0
      },
      "text/plain": [
       "  ... working at frequency = 2122.0 Hz:   0%|          | 0/100 [00:00<?, ?it/s]"
      ]
     },
     "metadata": {},
     "output_type": "display_data"
    },
    {
     "data": {
      "application/vnd.jupyter.widget-view+json": {
       "model_id": "",
       "version_major": 2,
       "version_minor": 0
      },
      "text/plain": [
       "  ... working at frequency = 2162.0 Hz:   0%|          | 0/100 [00:00<?, ?it/s]"
      ]
     },
     "metadata": {},
     "output_type": "display_data"
    },
    {
     "data": {
      "application/vnd.jupyter.widget-view+json": {
       "model_id": "",
       "version_major": 2,
       "version_minor": 0
      },
      "text/plain": [
       "  ... working at frequency = 2202.0 Hz:   0%|          | 0/100 [00:00<?, ?it/s]"
      ]
     },
     "metadata": {},
     "output_type": "display_data"
    },
    {
     "data": {
      "application/vnd.jupyter.widget-view+json": {
       "model_id": "",
       "version_major": 2,
       "version_minor": 0
      },
      "text/plain": [
       "  ... working at frequency = 2242.0 Hz:   0%|          | 0/100 [00:00<?, ?it/s]"
      ]
     },
     "metadata": {},
     "output_type": "display_data"
    },
    {
     "data": {
      "application/vnd.jupyter.widget-view+json": {
       "model_id": "",
       "version_major": 2,
       "version_minor": 0
      },
      "text/plain": [
       "  ... working at frequency = 2282.0 Hz:   0%|          | 0/100 [00:00<?, ?it/s]"
      ]
     },
     "metadata": {},
     "output_type": "display_data"
    },
    {
     "data": {
      "application/vnd.jupyter.widget-view+json": {
       "model_id": "",
       "version_major": 2,
       "version_minor": 0
      },
      "text/plain": [
       "  ... working at frequency = 2322.0 Hz:   0%|          | 0/100 [00:00<?, ?it/s]"
      ]
     },
     "metadata": {},
     "output_type": "display_data"
    },
    {
     "data": {
      "application/vnd.jupyter.widget-view+json": {
       "model_id": "",
       "version_major": 2,
       "version_minor": 0
      },
      "text/plain": [
       "  ... working at frequency = 2362.0 Hz:   0%|          | 0/100 [00:00<?, ?it/s]"
      ]
     },
     "metadata": {},
     "output_type": "display_data"
    },
    {
     "data": {
      "application/vnd.jupyter.widget-view+json": {
       "model_id": "",
       "version_major": 2,
       "version_minor": 0
      },
      "text/plain": [
       "  ... working at frequency = 2402.0 Hz:   0%|          | 0/100 [00:00<?, ?it/s]"
      ]
     },
     "metadata": {},
     "output_type": "display_data"
    },
    {
     "data": {
      "application/vnd.jupyter.widget-view+json": {
       "model_id": "",
       "version_major": 2,
       "version_minor": 0
      },
      "text/plain": [
       "  ... working at frequency = 2442.0 Hz:   0%|          | 0/100 [00:00<?, ?it/s]"
      ]
     },
     "metadata": {},
     "output_type": "display_data"
    },
    {
     "data": {
      "application/vnd.jupyter.widget-view+json": {
       "model_id": "",
       "version_major": 2,
       "version_minor": 0
      },
      "text/plain": [
       "  ... working at frequency = 2482.0 Hz:   0%|          | 0/100 [00:00<?, ?it/s]"
      ]
     },
     "metadata": {},
     "output_type": "display_data"
    },
    {
     "data": {
      "application/vnd.jupyter.widget-view+json": {
       "model_id": "",
       "version_major": 2,
       "version_minor": 0
      },
      "text/plain": [
       "  ... working at frequency = 2522.0 Hz:   0%|          | 0/100 [00:00<?, ?it/s]"
      ]
     },
     "metadata": {},
     "output_type": "display_data"
    },
    {
     "data": {
      "application/vnd.jupyter.widget-view+json": {
       "model_id": "",
       "version_major": 2,
       "version_minor": 0
      },
      "text/plain": [
       "  ... working at frequency = 2562.0 Hz:   0%|          | 0/100 [00:00<?, ?it/s]"
      ]
     },
     "metadata": {},
     "output_type": "display_data"
    },
    {
     "data": {
      "application/vnd.jupyter.widget-view+json": {
       "model_id": "",
       "version_major": 2,
       "version_minor": 0
      },
      "text/plain": [
       "  ... working at frequency = 2602.0 Hz:   0%|          | 0/100 [00:00<?, ?it/s]"
      ]
     },
     "metadata": {},
     "output_type": "display_data"
    },
    {
     "data": {
      "application/vnd.jupyter.widget-view+json": {
       "model_id": "",
       "version_major": 2,
       "version_minor": 0
      },
      "text/plain": [
       "  ... working at frequency = 2642.0 Hz:   0%|          | 0/100 [00:00<?, ?it/s]"
      ]
     },
     "metadata": {},
     "output_type": "display_data"
    },
    {
     "data": {
      "application/vnd.jupyter.widget-view+json": {
       "model_id": "",
       "version_major": 2,
       "version_minor": 0
      },
      "text/plain": [
       "  ... working at frequency = 2682.0 Hz:   0%|          | 0/100 [00:00<?, ?it/s]"
      ]
     },
     "metadata": {},
     "output_type": "display_data"
    },
    {
     "data": {
      "application/vnd.jupyter.widget-view+json": {
       "model_id": "",
       "version_major": 2,
       "version_minor": 0
      },
      "text/plain": [
       "  ... working at frequency = 2722.0 Hz:   0%|          | 0/100 [00:00<?, ?it/s]"
      ]
     },
     "metadata": {},
     "output_type": "display_data"
    },
    {
     "data": {
      "application/vnd.jupyter.widget-view+json": {
       "model_id": "",
       "version_major": 2,
       "version_minor": 0
      },
      "text/plain": [
       "  ... working at frequency = 2762.0 Hz:   0%|          | 0/100 [00:00<?, ?it/s]"
      ]
     },
     "metadata": {},
     "output_type": "display_data"
    },
    {
     "data": {
      "application/vnd.jupyter.widget-view+json": {
       "model_id": "",
       "version_major": 2,
       "version_minor": 0
      },
      "text/plain": [
       "  ... working at frequency = 2802.0 Hz:   0%|          | 0/100 [00:00<?, ?it/s]"
      ]
     },
     "metadata": {},
     "output_type": "display_data"
    },
    {
     "data": {
      "application/vnd.jupyter.widget-view+json": {
       "model_id": "",
       "version_major": 2,
       "version_minor": 0
      },
      "text/plain": [
       "  ... working at frequency = 2842.0 Hz:   0%|          | 0/100 [00:00<?, ?it/s]"
      ]
     },
     "metadata": {},
     "output_type": "display_data"
    },
    {
     "data": {
      "application/vnd.jupyter.widget-view+json": {
       "model_id": "",
       "version_major": 2,
       "version_minor": 0
      },
      "text/plain": [
       "  ... working at frequency = 2882.0 Hz:   0%|          | 0/100 [00:00<?, ?it/s]"
      ]
     },
     "metadata": {},
     "output_type": "display_data"
    },
    {
     "data": {
      "application/vnd.jupyter.widget-view+json": {
       "model_id": "",
       "version_major": 2,
       "version_minor": 0
      },
      "text/plain": [
       "  ... working at frequency = 2922.0 Hz:   0%|          | 0/100 [00:00<?, ?it/s]"
      ]
     },
     "metadata": {},
     "output_type": "display_data"
    },
    {
     "data": {
      "application/vnd.jupyter.widget-view+json": {
       "model_id": "",
       "version_major": 2,
       "version_minor": 0
      },
      "text/plain": [
       "  ... working at frequency = 2962.0 Hz:   0%|          | 0/100 [00:00<?, ?it/s]"
      ]
     },
     "metadata": {},
     "output_type": "display_data"
    },
    {
     "data": {
      "application/vnd.jupyter.widget-view+json": {
       "model_id": "",
       "version_major": 2,
       "version_minor": 0
      },
      "text/plain": [
       "  ... working at frequency = 3002.0 Hz:   0%|          | 0/100 [00:00<?, ?it/s]"
      ]
     },
     "metadata": {},
     "output_type": "display_data"
    },
    {
     "data": {
      "application/vnd.jupyter.widget-view+json": {
       "model_id": "",
       "version_major": 2,
       "version_minor": 0
      },
      "text/plain": [
       "  ... working at frequency = 3042.0 Hz:   0%|          | 0/100 [00:00<?, ?it/s]"
      ]
     },
     "metadata": {},
     "output_type": "display_data"
    },
    {
     "data": {
      "application/vnd.jupyter.widget-view+json": {
       "model_id": "",
       "version_major": 2,
       "version_minor": 0
      },
      "text/plain": [
       "  ... working at frequency = 3082.0 Hz:   0%|          | 0/100 [00:00<?, ?it/s]"
      ]
     },
     "metadata": {},
     "output_type": "display_data"
    },
    {
     "data": {
      "application/vnd.jupyter.widget-view+json": {
       "model_id": "",
       "version_major": 2,
       "version_minor": 0
      },
      "text/plain": [
       "  ... working at frequency = 3122.0 Hz:   0%|          | 0/100 [00:00<?, ?it/s]"
      ]
     },
     "metadata": {},
     "output_type": "display_data"
    },
    {
     "data": {
      "application/vnd.jupyter.widget-view+json": {
       "model_id": "",
       "version_major": 2,
       "version_minor": 0
      },
      "text/plain": [
       "  ... working at frequency = 3162.0 Hz:   0%|          | 0/100 [00:00<?, ?it/s]"
      ]
     },
     "metadata": {},
     "output_type": "display_data"
    },
    {
     "data": {
      "application/vnd.jupyter.widget-view+json": {
       "model_id": "",
       "version_major": 2,
       "version_minor": 0
      },
      "text/plain": [
       "  ... working at frequency = 3202.0 Hz:   0%|          | 0/100 [00:00<?, ?it/s]"
      ]
     },
     "metadata": {},
     "output_type": "display_data"
    },
    {
     "data": {
      "application/vnd.jupyter.widget-view+json": {
       "model_id": "",
       "version_major": 2,
       "version_minor": 0
      },
      "text/plain": [
       "  ... working at frequency = 3242.0 Hz:   0%|          | 0/100 [00:00<?, ?it/s]"
      ]
     },
     "metadata": {},
     "output_type": "display_data"
    },
    {
     "data": {
      "application/vnd.jupyter.widget-view+json": {
       "model_id": "",
       "version_major": 2,
       "version_minor": 0
      },
      "text/plain": [
       "  ... working at frequency = 3282.0 Hz:   0%|          | 0/100 [00:00<?, ?it/s]"
      ]
     },
     "metadata": {},
     "output_type": "display_data"
    },
    {
     "data": {
      "application/vnd.jupyter.widget-view+json": {
       "model_id": "",
       "version_major": 2,
       "version_minor": 0
      },
      "text/plain": [
       "  ... working at frequency = 3322.0 Hz:   0%|          | 0/100 [00:00<?, ?it/s]"
      ]
     },
     "metadata": {},
     "output_type": "display_data"
    },
    {
     "data": {
      "application/vnd.jupyter.widget-view+json": {
       "model_id": "",
       "version_major": 2,
       "version_minor": 0
      },
      "text/plain": [
       "  ... working at frequency = 3362.0 Hz:   0%|          | 0/100 [00:00<?, ?it/s]"
      ]
     },
     "metadata": {},
     "output_type": "display_data"
    },
    {
     "data": {
      "application/vnd.jupyter.widget-view+json": {
       "model_id": "",
       "version_major": 2,
       "version_minor": 0
      },
      "text/plain": [
       "  ... working at frequency = 3402.0 Hz:   0%|          | 0/100 [00:00<?, ?it/s]"
      ]
     },
     "metadata": {},
     "output_type": "display_data"
    },
    {
     "data": {
      "application/vnd.jupyter.widget-view+json": {
       "model_id": "",
       "version_major": 2,
       "version_minor": 0
      },
      "text/plain": [
       "  ... working at frequency = 3442.0 Hz:   0%|          | 0/100 [00:00<?, ?it/s]"
      ]
     },
     "metadata": {},
     "output_type": "display_data"
    },
    {
     "data": {
      "application/vnd.jupyter.widget-view+json": {
       "model_id": "",
       "version_major": 2,
       "version_minor": 0
      },
      "text/plain": [
       "  ... working at frequency = 3482.0 Hz:   0%|          | 0/100 [00:00<?, ?it/s]"
      ]
     },
     "metadata": {},
     "output_type": "display_data"
    },
    {
     "data": {
      "application/vnd.jupyter.widget-view+json": {
       "model_id": "",
       "version_major": 2,
       "version_minor": 0
      },
      "text/plain": [
       "  ... working at frequency = 3522.0 Hz:   0%|          | 0/100 [00:00<?, ?it/s]"
      ]
     },
     "metadata": {},
     "output_type": "display_data"
    },
    {
     "data": {
      "application/vnd.jupyter.widget-view+json": {
       "model_id": "",
       "version_major": 2,
       "version_minor": 0
      },
      "text/plain": [
       "  ... working at frequency = 3562.0 Hz:   0%|          | 0/100 [00:00<?, ?it/s]"
      ]
     },
     "metadata": {},
     "output_type": "display_data"
    },
    {
     "data": {
      "application/vnd.jupyter.widget-view+json": {
       "model_id": "",
       "version_major": 2,
       "version_minor": 0
      },
      "text/plain": [
       "  ... working at frequency = 3602.0 Hz:   0%|          | 0/100 [00:00<?, ?it/s]"
      ]
     },
     "metadata": {},
     "output_type": "display_data"
    },
    {
     "data": {
      "application/vnd.jupyter.widget-view+json": {
       "model_id": "",
       "version_major": 2,
       "version_minor": 0
      },
      "text/plain": [
       "  ... working at frequency = 3642.0 Hz:   0%|          | 0/100 [00:00<?, ?it/s]"
      ]
     },
     "metadata": {},
     "output_type": "display_data"
    },
    {
     "data": {
      "application/vnd.jupyter.widget-view+json": {
       "model_id": "",
       "version_major": 2,
       "version_minor": 0
      },
      "text/plain": [
       "  ... working at frequency = 3682.0 Hz:   0%|          | 0/100 [00:00<?, ?it/s]"
      ]
     },
     "metadata": {},
     "output_type": "display_data"
    },
    {
     "data": {
      "application/vnd.jupyter.widget-view+json": {
       "model_id": "",
       "version_major": 2,
       "version_minor": 0
      },
      "text/plain": [
       "  ... working at frequency = 3722.0 Hz:   0%|          | 0/100 [00:00<?, ?it/s]"
      ]
     },
     "metadata": {},
     "output_type": "display_data"
    },
    {
     "data": {
      "application/vnd.jupyter.widget-view+json": {
       "model_id": "",
       "version_major": 2,
       "version_minor": 0
      },
      "text/plain": [
       "  ... working at frequency = 3762.0 Hz:   0%|          | 0/100 [00:00<?, ?it/s]"
      ]
     },
     "metadata": {},
     "output_type": "display_data"
    },
    {
     "data": {
      "application/vnd.jupyter.widget-view+json": {
       "model_id": "",
       "version_major": 2,
       "version_minor": 0
      },
      "text/plain": [
       "  ... working at frequency = 3802.0 Hz:   0%|          | 0/100 [00:00<?, ?it/s]"
      ]
     },
     "metadata": {},
     "output_type": "display_data"
    },
    {
     "data": {
      "application/vnd.jupyter.widget-view+json": {
       "model_id": "",
       "version_major": 2,
       "version_minor": 0
      },
      "text/plain": [
       "  ... working at frequency = 3842.0 Hz:   0%|          | 0/100 [00:00<?, ?it/s]"
      ]
     },
     "metadata": {},
     "output_type": "display_data"
    },
    {
     "data": {
      "application/vnd.jupyter.widget-view+json": {
       "model_id": "",
       "version_major": 2,
       "version_minor": 0
      },
      "text/plain": [
       "  ... working at frequency = 3882.0 Hz:   0%|          | 0/100 [00:00<?, ?it/s]"
      ]
     },
     "metadata": {},
     "output_type": "display_data"
    },
    {
     "data": {
      "application/vnd.jupyter.widget-view+json": {
       "model_id": "",
       "version_major": 2,
       "version_minor": 0
      },
      "text/plain": [
       "  ... working at frequency = 3922.0 Hz:   0%|          | 0/100 [00:00<?, ?it/s]"
      ]
     },
     "metadata": {},
     "output_type": "display_data"
    },
    {
     "data": {
      "application/vnd.jupyter.widget-view+json": {
       "model_id": "",
       "version_major": 2,
       "version_minor": 0
      },
      "text/plain": [
       "  ... working at frequency = 3962.0 Hz:   0%|          | 0/100 [00:00<?, ?it/s]"
      ]
     },
     "metadata": {},
     "output_type": "display_data"
    },
    {
     "data": {
      "application/vnd.jupyter.widget-view+json": {
       "model_id": "",
       "version_major": 2,
       "version_minor": 0
      },
      "text/plain": [
       "  ... working at frequency = 4002.0 Hz:   0%|          | 0/100 [00:00<?, ?it/s]"
      ]
     },
     "metadata": {},
     "output_type": "display_data"
    },
    {
     "data": {
      "application/vnd.jupyter.widget-view+json": {
       "model_id": "",
       "version_major": 2,
       "version_minor": 0
      },
      "text/plain": [
       "  ... working at frequency = 4042.0 Hz:   0%|          | 0/100 [00:00<?, ?it/s]"
      ]
     },
     "metadata": {},
     "output_type": "display_data"
    },
    {
     "data": {
      "application/vnd.jupyter.widget-view+json": {
       "model_id": "",
       "version_major": 2,
       "version_minor": 0
      },
      "text/plain": [
       "  ... working at frequency = 4082.0 Hz:   0%|          | 0/100 [00:00<?, ?it/s]"
      ]
     },
     "metadata": {},
     "output_type": "display_data"
    },
    {
     "data": {
      "application/vnd.jupyter.widget-view+json": {
       "model_id": "",
       "version_major": 2,
       "version_minor": 0
      },
      "text/plain": [
       "  ... working at frequency = 4122.0 Hz:   0%|          | 0/100 [00:00<?, ?it/s]"
      ]
     },
     "metadata": {},
     "output_type": "display_data"
    },
    {
     "data": {
      "application/vnd.jupyter.widget-view+json": {
       "model_id": "",
       "version_major": 2,
       "version_minor": 0
      },
      "text/plain": [
       "  ... working at frequency = 4162.0 Hz:   0%|          | 0/100 [00:00<?, ?it/s]"
      ]
     },
     "metadata": {},
     "output_type": "display_data"
    },
    {
     "data": {
      "application/vnd.jupyter.widget-view+json": {
       "model_id": "",
       "version_major": 2,
       "version_minor": 0
      },
      "text/plain": [
       "  ... working at frequency = 4202.0 Hz:   0%|          | 0/100 [00:00<?, ?it/s]"
      ]
     },
     "metadata": {},
     "output_type": "display_data"
    },
    {
     "data": {
      "application/vnd.jupyter.widget-view+json": {
       "model_id": "",
       "version_major": 2,
       "version_minor": 0
      },
      "text/plain": [
       "  ... working at frequency = 4242.0 Hz:   0%|          | 0/100 [00:00<?, ?it/s]"
      ]
     },
     "metadata": {},
     "output_type": "display_data"
    },
    {
     "data": {
      "application/vnd.jupyter.widget-view+json": {
       "model_id": "",
       "version_major": 2,
       "version_minor": 0
      },
      "text/plain": [
       "  ... working at frequency = 4282.0 Hz:   0%|          | 0/100 [00:00<?, ?it/s]"
      ]
     },
     "metadata": {},
     "output_type": "display_data"
    },
    {
     "data": {
      "application/vnd.jupyter.widget-view+json": {
       "model_id": "",
       "version_major": 2,
       "version_minor": 0
      },
      "text/plain": [
       "  ... working at frequency = 4322.0 Hz:   0%|          | 0/100 [00:00<?, ?it/s]"
      ]
     },
     "metadata": {},
     "output_type": "display_data"
    },
    {
     "data": {
      "application/vnd.jupyter.widget-view+json": {
       "model_id": "",
       "version_major": 2,
       "version_minor": 0
      },
      "text/plain": [
       "  ... working at frequency = 4362.0 Hz:   0%|          | 0/100 [00:00<?, ?it/s]"
      ]
     },
     "metadata": {},
     "output_type": "display_data"
    },
    {
     "data": {
      "application/vnd.jupyter.widget-view+json": {
       "model_id": "",
       "version_major": 2,
       "version_minor": 0
      },
      "text/plain": [
       "  ... working at frequency = 4402.0 Hz:   0%|          | 0/100 [00:00<?, ?it/s]"
      ]
     },
     "metadata": {},
     "output_type": "display_data"
    },
    {
     "data": {
      "application/vnd.jupyter.widget-view+json": {
       "model_id": "",
       "version_major": 2,
       "version_minor": 0
      },
      "text/plain": [
       "  ... working at frequency = 4442.0 Hz:   0%|          | 0/100 [00:00<?, ?it/s]"
      ]
     },
     "metadata": {},
     "output_type": "display_data"
    },
    {
     "data": {
      "application/vnd.jupyter.widget-view+json": {
       "model_id": "",
       "version_major": 2,
       "version_minor": 0
      },
      "text/plain": [
       "  ... working at frequency = 4482.0 Hz:   0%|          | 0/100 [00:00<?, ?it/s]"
      ]
     },
     "metadata": {},
     "output_type": "display_data"
    },
    {
     "data": {
      "application/vnd.jupyter.widget-view+json": {
       "model_id": "",
       "version_major": 2,
       "version_minor": 0
      },
      "text/plain": [
       "  ... working at frequency = 4522.0 Hz:   0%|          | 0/100 [00:00<?, ?it/s]"
      ]
     },
     "metadata": {},
     "output_type": "display_data"
    },
    {
     "data": {
      "application/vnd.jupyter.widget-view+json": {
       "model_id": "",
       "version_major": 2,
       "version_minor": 0
      },
      "text/plain": [
       "  ... working at frequency = 4562.0 Hz:   0%|          | 0/100 [00:00<?, ?it/s]"
      ]
     },
     "metadata": {},
     "output_type": "display_data"
    },
    {
     "data": {
      "application/vnd.jupyter.widget-view+json": {
       "model_id": "",
       "version_major": 2,
       "version_minor": 0
      },
      "text/plain": [
       "  ... working at frequency = 4602.0 Hz:   0%|          | 0/100 [00:00<?, ?it/s]"
      ]
     },
     "metadata": {},
     "output_type": "display_data"
    },
    {
     "data": {
      "application/vnd.jupyter.widget-view+json": {
       "model_id": "",
       "version_major": 2,
       "version_minor": 0
      },
      "text/plain": [
       "  ... working at frequency = 4642.0 Hz:   0%|          | 0/100 [00:00<?, ?it/s]"
      ]
     },
     "metadata": {},
     "output_type": "display_data"
    },
    {
     "data": {
      "application/vnd.jupyter.widget-view+json": {
       "model_id": "",
       "version_major": 2,
       "version_minor": 0
      },
      "text/plain": [
       "  ... working at frequency = 4682.0 Hz:   0%|          | 0/100 [00:00<?, ?it/s]"
      ]
     },
     "metadata": {},
     "output_type": "display_data"
    },
    {
     "data": {
      "application/vnd.jupyter.widget-view+json": {
       "model_id": "",
       "version_major": 2,
       "version_minor": 0
      },
      "text/plain": [
       "  ... working at frequency = 4722.0 Hz:   0%|          | 0/100 [00:00<?, ?it/s]"
      ]
     },
     "metadata": {},
     "output_type": "display_data"
    },
    {
     "data": {
      "application/vnd.jupyter.widget-view+json": {
       "model_id": "",
       "version_major": 2,
       "version_minor": 0
      },
      "text/plain": [
       "  ... working at frequency = 4762.0 Hz:   0%|          | 0/100 [00:00<?, ?it/s]"
      ]
     },
     "metadata": {},
     "output_type": "display_data"
    },
    {
     "data": {
      "application/vnd.jupyter.widget-view+json": {
       "model_id": "",
       "version_major": 2,
       "version_minor": 0
      },
      "text/plain": [
       "  ... working at frequency = 4802.0 Hz:   0%|          | 0/100 [00:00<?, ?it/s]"
      ]
     },
     "metadata": {},
     "output_type": "display_data"
    },
    {
     "data": {
      "application/vnd.jupyter.widget-view+json": {
       "model_id": "",
       "version_major": 2,
       "version_minor": 0
      },
      "text/plain": [
       "  ... working at frequency = 4842.0 Hz:   0%|          | 0/100 [00:00<?, ?it/s]"
      ]
     },
     "metadata": {},
     "output_type": "display_data"
    },
    {
     "data": {
      "application/vnd.jupyter.widget-view+json": {
       "model_id": "",
       "version_major": 2,
       "version_minor": 0
      },
      "text/plain": [
       "  ... working at frequency = 4882.0 Hz:   0%|          | 0/100 [00:00<?, ?it/s]"
      ]
     },
     "metadata": {},
     "output_type": "display_data"
    },
    {
     "data": {
      "application/vnd.jupyter.widget-view+json": {
       "model_id": "",
       "version_major": 2,
       "version_minor": 0
      },
      "text/plain": [
       "  ... working at frequency = 4922.0 Hz:   0%|          | 0/100 [00:00<?, ?it/s]"
      ]
     },
     "metadata": {},
     "output_type": "display_data"
    },
    {
     "data": {
      "application/vnd.jupyter.widget-view+json": {
       "model_id": "",
       "version_major": 2,
       "version_minor": 0
      },
      "text/plain": [
       "  ... working at frequency = 4962.0 Hz:   0%|          | 0/100 [00:00<?, ?it/s]"
      ]
     },
     "metadata": {},
     "output_type": "display_data"
    },
    {
     "data": {
      "application/vnd.jupyter.widget-view+json": {
       "model_id": "",
       "version_major": 2,
       "version_minor": 0
      },
      "text/plain": [
       "  ... working at frequency = 5002.0 Hz:   0%|          | 0/100 [00:00<?, ?it/s]"
      ]
     },
     "metadata": {},
     "output_type": "display_data"
    },
    {
     "data": {
      "application/vnd.jupyter.widget-view+json": {
       "model_id": "",
       "version_major": 2,
       "version_minor": 0
      },
      "text/plain": [
       "  ... working at frequency = 5042.0 Hz:   0%|          | 0/100 [00:00<?, ?it/s]"
      ]
     },
     "metadata": {},
     "output_type": "display_data"
    },
    {
     "data": {
      "application/vnd.jupyter.widget-view+json": {
       "model_id": "",
       "version_major": 2,
       "version_minor": 0
      },
      "text/plain": [
       "  ... working at frequency = 5082.0 Hz:   0%|          | 0/100 [00:00<?, ?it/s]"
      ]
     },
     "metadata": {},
     "output_type": "display_data"
    },
    {
     "data": {
      "application/vnd.jupyter.widget-view+json": {
       "model_id": "",
       "version_major": 2,
       "version_minor": 0
      },
      "text/plain": [
       "  ... working at frequency = 5122.0 Hz:   0%|          | 0/100 [00:00<?, ?it/s]"
      ]
     },
     "metadata": {},
     "output_type": "display_data"
    },
    {
     "data": {
      "application/vnd.jupyter.widget-view+json": {
       "model_id": "",
       "version_major": 2,
       "version_minor": 0
      },
      "text/plain": [
       "  ... working at frequency = 5162.0 Hz:   0%|          | 0/100 [00:00<?, ?it/s]"
      ]
     },
     "metadata": {},
     "output_type": "display_data"
    },
    {
     "data": {
      "application/vnd.jupyter.widget-view+json": {
       "model_id": "",
       "version_major": 2,
       "version_minor": 0
      },
      "text/plain": [
       "  ... working at frequency = 5202.0 Hz:   0%|          | 0/100 [00:00<?, ?it/s]"
      ]
     },
     "metadata": {},
     "output_type": "display_data"
    },
    {
     "data": {
      "application/vnd.jupyter.widget-view+json": {
       "model_id": "",
       "version_major": 2,
       "version_minor": 0
      },
      "text/plain": [
       "  ... working at frequency = 5242.0 Hz:   0%|          | 0/100 [00:00<?, ?it/s]"
      ]
     },
     "metadata": {},
     "output_type": "display_data"
    },
    {
     "data": {
      "application/vnd.jupyter.widget-view+json": {
       "model_id": "",
       "version_major": 2,
       "version_minor": 0
      },
      "text/plain": [
       "  ... working at frequency = 5282.0 Hz:   0%|          | 0/100 [00:00<?, ?it/s]"
      ]
     },
     "metadata": {},
     "output_type": "display_data"
    },
    {
     "data": {
      "application/vnd.jupyter.widget-view+json": {
       "model_id": "",
       "version_major": 2,
       "version_minor": 0
      },
      "text/plain": [
       "  ... working at frequency = 5322.0 Hz:   0%|          | 0/100 [00:00<?, ?it/s]"
      ]
     },
     "metadata": {},
     "output_type": "display_data"
    },
    {
     "data": {
      "application/vnd.jupyter.widget-view+json": {
       "model_id": "",
       "version_major": 2,
       "version_minor": 0
      },
      "text/plain": [
       "  ... working at frequency = 5362.0 Hz:   0%|          | 0/100 [00:00<?, ?it/s]"
      ]
     },
     "metadata": {},
     "output_type": "display_data"
    },
    {
     "data": {
      "application/vnd.jupyter.widget-view+json": {
       "model_id": "",
       "version_major": 2,
       "version_minor": 0
      },
      "text/plain": [
       "  ... working at frequency = 5402.0 Hz:   0%|          | 0/100 [00:00<?, ?it/s]"
      ]
     },
     "metadata": {},
     "output_type": "display_data"
    },
    {
     "data": {
      "application/vnd.jupyter.widget-view+json": {
       "model_id": "",
       "version_major": 2,
       "version_minor": 0
      },
      "text/plain": [
       "  ... working at frequency = 5442.0 Hz:   0%|          | 0/100 [00:00<?, ?it/s]"
      ]
     },
     "metadata": {},
     "output_type": "display_data"
    },
    {
     "data": {
      "application/vnd.jupyter.widget-view+json": {
       "model_id": "",
       "version_major": 2,
       "version_minor": 0
      },
      "text/plain": [
       "  ... working at frequency = 5482.0 Hz:   0%|          | 0/100 [00:00<?, ?it/s]"
      ]
     },
     "metadata": {},
     "output_type": "display_data"
    },
    {
     "data": {
      "application/vnd.jupyter.widget-view+json": {
       "model_id": "",
       "version_major": 2,
       "version_minor": 0
      },
      "text/plain": [
       "  ... working at frequency = 5522.0 Hz:   0%|          | 0/100 [00:00<?, ?it/s]"
      ]
     },
     "metadata": {},
     "output_type": "display_data"
    },
    {
     "data": {
      "application/vnd.jupyter.widget-view+json": {
       "model_id": "",
       "version_major": 2,
       "version_minor": 0
      },
      "text/plain": [
       "  ... working at frequency = 5562.0 Hz:   0%|          | 0/100 [00:00<?, ?it/s]"
      ]
     },
     "metadata": {},
     "output_type": "display_data"
    },
    {
     "data": {
      "application/vnd.jupyter.widget-view+json": {
       "model_id": "",
       "version_major": 2,
       "version_minor": 0
      },
      "text/plain": [
       "  ... working at frequency = 5602.0 Hz:   0%|          | 0/100 [00:00<?, ?it/s]"
      ]
     },
     "metadata": {},
     "output_type": "display_data"
    },
    {
     "data": {
      "application/vnd.jupyter.widget-view+json": {
       "model_id": "",
       "version_major": 2,
       "version_minor": 0
      },
      "text/plain": [
       "  ... working at frequency = 5642.0 Hz:   0%|          | 0/100 [00:00<?, ?it/s]"
      ]
     },
     "metadata": {},
     "output_type": "display_data"
    },
    {
     "data": {
      "application/vnd.jupyter.widget-view+json": {
       "model_id": "",
       "version_major": 2,
       "version_minor": 0
      },
      "text/plain": [
       "  ... working at frequency = 5682.0 Hz:   0%|          | 0/100 [00:00<?, ?it/s]"
      ]
     },
     "metadata": {},
     "output_type": "display_data"
    },
    {
     "data": {
      "application/vnd.jupyter.widget-view+json": {
       "model_id": "",
       "version_major": 2,
       "version_minor": 0
      },
      "text/plain": [
       "  ... working at frequency = 5722.0 Hz:   0%|          | 0/100 [00:00<?, ?it/s]"
      ]
     },
     "metadata": {},
     "output_type": "display_data"
    },
    {
     "data": {
      "application/vnd.jupyter.widget-view+json": {
       "model_id": "",
       "version_major": 2,
       "version_minor": 0
      },
      "text/plain": [
       "  ... working at frequency = 5762.0 Hz:   0%|          | 0/100 [00:00<?, ?it/s]"
      ]
     },
     "metadata": {},
     "output_type": "display_data"
    },
    {
     "data": {
      "application/vnd.jupyter.widget-view+json": {
       "model_id": "",
       "version_major": 2,
       "version_minor": 0
      },
      "text/plain": [
       "  ... working at frequency = 5802.0 Hz:   0%|          | 0/100 [00:00<?, ?it/s]"
      ]
     },
     "metadata": {},
     "output_type": "display_data"
    },
    {
     "data": {
      "application/vnd.jupyter.widget-view+json": {
       "model_id": "",
       "version_major": 2,
       "version_minor": 0
      },
      "text/plain": [
       "  ... working at frequency = 5842.0 Hz:   0%|          | 0/100 [00:00<?, ?it/s]"
      ]
     },
     "metadata": {},
     "output_type": "display_data"
    },
    {
     "data": {
      "application/vnd.jupyter.widget-view+json": {
       "model_id": "",
       "version_major": 2,
       "version_minor": 0
      },
      "text/plain": [
       "  ... working at frequency = 5882.0 Hz:   0%|          | 0/100 [00:00<?, ?it/s]"
      ]
     },
     "metadata": {},
     "output_type": "display_data"
    },
    {
     "data": {
      "application/vnd.jupyter.widget-view+json": {
       "model_id": "",
       "version_major": 2,
       "version_minor": 0
      },
      "text/plain": [
       "  ... working at frequency = 5922.0 Hz:   0%|          | 0/100 [00:00<?, ?it/s]"
      ]
     },
     "metadata": {},
     "output_type": "display_data"
    },
    {
     "data": {
      "application/vnd.jupyter.widget-view+json": {
       "model_id": "",
       "version_major": 2,
       "version_minor": 0
      },
      "text/plain": [
       "  ... working at frequency = 5962.0 Hz:   0%|          | 0/100 [00:00<?, ?it/s]"
      ]
     },
     "metadata": {},
     "output_type": "display_data"
    },
    {
     "data": {
      "application/vnd.jupyter.widget-view+json": {
       "model_id": "",
       "version_major": 2,
       "version_minor": 0
      },
      "text/plain": [
       "  ... working at frequency = 6002.0 Hz:   0%|          | 0/100 [00:00<?, ?it/s]"
      ]
     },
     "metadata": {},
     "output_type": "display_data"
    },
    {
     "data": {
      "application/vnd.jupyter.widget-view+json": {
       "model_id": "",
       "version_major": 2,
       "version_minor": 0
      },
      "text/plain": [
       "  ... working at frequency = 6042.0 Hz:   0%|          | 0/100 [00:00<?, ?it/s]"
      ]
     },
     "metadata": {},
     "output_type": "display_data"
    },
    {
     "data": {
      "application/vnd.jupyter.widget-view+json": {
       "model_id": "",
       "version_major": 2,
       "version_minor": 0
      },
      "text/plain": [
       "  ... working at frequency = 6082.0 Hz:   0%|          | 0/100 [00:00<?, ?it/s]"
      ]
     },
     "metadata": {},
     "output_type": "display_data"
    },
    {
     "data": {
      "application/vnd.jupyter.widget-view+json": {
       "model_id": "",
       "version_major": 2,
       "version_minor": 0
      },
      "text/plain": [
       "  ... working at frequency = 6122.0 Hz:   0%|          | 0/100 [00:00<?, ?it/s]"
      ]
     },
     "metadata": {},
     "output_type": "display_data"
    },
    {
     "data": {
      "application/vnd.jupyter.widget-view+json": {
       "model_id": "",
       "version_major": 2,
       "version_minor": 0
      },
      "text/plain": [
       "  ... working at frequency = 6162.0 Hz:   0%|          | 0/100 [00:00<?, ?it/s]"
      ]
     },
     "metadata": {},
     "output_type": "display_data"
    },
    {
     "data": {
      "application/vnd.jupyter.widget-view+json": {
       "model_id": "",
       "version_major": 2,
       "version_minor": 0
      },
      "text/plain": [
       "  ... working at frequency = 6202.0 Hz:   0%|          | 0/100 [00:00<?, ?it/s]"
      ]
     },
     "metadata": {},
     "output_type": "display_data"
    },
    {
     "data": {
      "application/vnd.jupyter.widget-view+json": {
       "model_id": "",
       "version_major": 2,
       "version_minor": 0
      },
      "text/plain": [
       "  ... working at frequency = 6242.0 Hz:   0%|          | 0/100 [00:00<?, ?it/s]"
      ]
     },
     "metadata": {},
     "output_type": "display_data"
    },
    {
     "data": {
      "application/vnd.jupyter.widget-view+json": {
       "model_id": "",
       "version_major": 2,
       "version_minor": 0
      },
      "text/plain": [
       "  ... working at frequency = 6282.0 Hz:   0%|          | 0/100 [00:00<?, ?it/s]"
      ]
     },
     "metadata": {},
     "output_type": "display_data"
    },
    {
     "data": {
      "application/vnd.jupyter.widget-view+json": {
       "model_id": "",
       "version_major": 2,
       "version_minor": 0
      },
      "text/plain": [
       "  ... working at frequency = 6322.0 Hz:   0%|          | 0/100 [00:00<?, ?it/s]"
      ]
     },
     "metadata": {},
     "output_type": "display_data"
    },
    {
     "data": {
      "application/vnd.jupyter.widget-view+json": {
       "model_id": "",
       "version_major": 2,
       "version_minor": 0
      },
      "text/plain": [
       "  ... working at frequency = 6362.0 Hz:   0%|          | 0/100 [00:00<?, ?it/s]"
      ]
     },
     "metadata": {},
     "output_type": "display_data"
    },
    {
     "data": {
      "application/vnd.jupyter.widget-view+json": {
       "model_id": "",
       "version_major": 2,
       "version_minor": 0
      },
      "text/plain": [
       "  ... working at frequency = 6402.0 Hz:   0%|          | 0/100 [00:00<?, ?it/s]"
      ]
     },
     "metadata": {},
     "output_type": "display_data"
    },
    {
     "data": {
      "application/vnd.jupyter.widget-view+json": {
       "model_id": "",
       "version_major": 2,
       "version_minor": 0
      },
      "text/plain": [
       "  ... working at frequency = 6442.0 Hz:   0%|          | 0/100 [00:00<?, ?it/s]"
      ]
     },
     "metadata": {},
     "output_type": "display_data"
    },
    {
     "data": {
      "application/vnd.jupyter.widget-view+json": {
       "model_id": "",
       "version_major": 2,
       "version_minor": 0
      },
      "text/plain": [
       "  ... working at frequency = 6482.0 Hz:   0%|          | 0/100 [00:00<?, ?it/s]"
      ]
     },
     "metadata": {},
     "output_type": "display_data"
    },
    {
     "data": {
      "application/vnd.jupyter.widget-view+json": {
       "model_id": "",
       "version_major": 2,
       "version_minor": 0
      },
      "text/plain": [
       "  ... working at frequency = 6522.0 Hz:   0%|          | 0/100 [00:00<?, ?it/s]"
      ]
     },
     "metadata": {},
     "output_type": "display_data"
    },
    {
     "data": {
      "application/vnd.jupyter.widget-view+json": {
       "model_id": "",
       "version_major": 2,
       "version_minor": 0
      },
      "text/plain": [
       "  ... working at frequency = 6562.0 Hz:   0%|          | 0/100 [00:00<?, ?it/s]"
      ]
     },
     "metadata": {},
     "output_type": "display_data"
    },
    {
     "data": {
      "application/vnd.jupyter.widget-view+json": {
       "model_id": "",
       "version_major": 2,
       "version_minor": 0
      },
      "text/plain": [
       "  ... working at frequency = 6602.0 Hz:   0%|          | 0/100 [00:00<?, ?it/s]"
      ]
     },
     "metadata": {},
     "output_type": "display_data"
    },
    {
     "data": {
      "application/vnd.jupyter.widget-view+json": {
       "model_id": "",
       "version_major": 2,
       "version_minor": 0
      },
      "text/plain": [
       "  ... working at frequency = 6642.0 Hz:   0%|          | 0/100 [00:00<?, ?it/s]"
      ]
     },
     "metadata": {},
     "output_type": "display_data"
    },
    {
     "data": {
      "application/vnd.jupyter.widget-view+json": {
       "model_id": "",
       "version_major": 2,
       "version_minor": 0
      },
      "text/plain": [
       "  ... working at frequency = 6682.0 Hz:   0%|          | 0/100 [00:00<?, ?it/s]"
      ]
     },
     "metadata": {},
     "output_type": "display_data"
    },
    {
     "data": {
      "application/vnd.jupyter.widget-view+json": {
       "model_id": "",
       "version_major": 2,
       "version_minor": 0
      },
      "text/plain": [
       "  ... working at frequency = 6722.0 Hz:   0%|          | 0/100 [00:00<?, ?it/s]"
      ]
     },
     "metadata": {},
     "output_type": "display_data"
    },
    {
     "data": {
      "application/vnd.jupyter.widget-view+json": {
       "model_id": "",
       "version_major": 2,
       "version_minor": 0
      },
      "text/plain": [
       "  ... working at frequency = 6762.0 Hz:   0%|          | 0/100 [00:00<?, ?it/s]"
      ]
     },
     "metadata": {},
     "output_type": "display_data"
    },
    {
     "data": {
      "application/vnd.jupyter.widget-view+json": {
       "model_id": "",
       "version_major": 2,
       "version_minor": 0
      },
      "text/plain": [
       "  ... working at frequency = 6802.0 Hz:   0%|          | 0/100 [00:00<?, ?it/s]"
      ]
     },
     "metadata": {},
     "output_type": "display_data"
    },
    {
     "data": {
      "application/vnd.jupyter.widget-view+json": {
       "model_id": "",
       "version_major": 2,
       "version_minor": 0
      },
      "text/plain": [
       "  ... working at frequency = 6842.0 Hz:   0%|          | 0/100 [00:00<?, ?it/s]"
      ]
     },
     "metadata": {},
     "output_type": "display_data"
    },
    {
     "data": {
      "application/vnd.jupyter.widget-view+json": {
       "model_id": "",
       "version_major": 2,
       "version_minor": 0
      },
      "text/plain": [
       "  ... working at frequency = 6882.0 Hz:   0%|          | 0/100 [00:00<?, ?it/s]"
      ]
     },
     "metadata": {},
     "output_type": "display_data"
    },
    {
     "data": {
      "application/vnd.jupyter.widget-view+json": {
       "model_id": "",
       "version_major": 2,
       "version_minor": 0
      },
      "text/plain": [
       "  ... working at frequency = 6922.0 Hz:   0%|          | 0/100 [00:00<?, ?it/s]"
      ]
     },
     "metadata": {},
     "output_type": "display_data"
    },
    {
     "data": {
      "application/vnd.jupyter.widget-view+json": {
       "model_id": "",
       "version_major": 2,
       "version_minor": 0
      },
      "text/plain": [
       "  ... working at frequency = 6962.0 Hz:   0%|          | 0/100 [00:00<?, ?it/s]"
      ]
     },
     "metadata": {},
     "output_type": "display_data"
    },
    {
     "data": {
      "application/vnd.jupyter.widget-view+json": {
       "model_id": "",
       "version_major": 2,
       "version_minor": 0
      },
      "text/plain": [
       "  ... working at frequency = 7002.0 Hz:   0%|          | 0/100 [00:00<?, ?it/s]"
      ]
     },
     "metadata": {},
     "output_type": "display_data"
    },
    {
     "data": {
      "application/vnd.jupyter.widget-view+json": {
       "model_id": "",
       "version_major": 2,
       "version_minor": 0
      },
      "text/plain": [
       "  ... working at frequency = 7042.0 Hz:   0%|          | 0/100 [00:00<?, ?it/s]"
      ]
     },
     "metadata": {},
     "output_type": "display_data"
    },
    {
     "data": {
      "application/vnd.jupyter.widget-view+json": {
       "model_id": "",
       "version_major": 2,
       "version_minor": 0
      },
      "text/plain": [
       "  ... working at frequency = 7082.0 Hz:   0%|          | 0/100 [00:00<?, ?it/s]"
      ]
     },
     "metadata": {},
     "output_type": "display_data"
    },
    {
     "data": {
      "application/vnd.jupyter.widget-view+json": {
       "model_id": "",
       "version_major": 2,
       "version_minor": 0
      },
      "text/plain": [
       "  ... working at frequency = 7122.0 Hz:   0%|          | 0/100 [00:00<?, ?it/s]"
      ]
     },
     "metadata": {},
     "output_type": "display_data"
    },
    {
     "data": {
      "application/vnd.jupyter.widget-view+json": {
       "model_id": "",
       "version_major": 2,
       "version_minor": 0
      },
      "text/plain": [
       "  ... working at frequency = 7162.0 Hz:   0%|          | 0/100 [00:00<?, ?it/s]"
      ]
     },
     "metadata": {},
     "output_type": "display_data"
    },
    {
     "data": {
      "application/vnd.jupyter.widget-view+json": {
       "model_id": "",
       "version_major": 2,
       "version_minor": 0
      },
      "text/plain": [
       "  ... working at frequency = 7202.0 Hz:   0%|          | 0/100 [00:00<?, ?it/s]"
      ]
     },
     "metadata": {},
     "output_type": "display_data"
    },
    {
     "data": {
      "application/vnd.jupyter.widget-view+json": {
       "model_id": "",
       "version_major": 2,
       "version_minor": 0
      },
      "text/plain": [
       "  ... working at frequency = 7242.0 Hz:   0%|          | 0/100 [00:00<?, ?it/s]"
      ]
     },
     "metadata": {},
     "output_type": "display_data"
    },
    {
     "data": {
      "application/vnd.jupyter.widget-view+json": {
       "model_id": "",
       "version_major": 2,
       "version_minor": 0
      },
      "text/plain": [
       "  ... working at frequency = 7282.0 Hz:   0%|          | 0/100 [00:00<?, ?it/s]"
      ]
     },
     "metadata": {},
     "output_type": "display_data"
    },
    {
     "data": {
      "application/vnd.jupyter.widget-view+json": {
       "model_id": "",
       "version_major": 2,
       "version_minor": 0
      },
      "text/plain": [
       "  ... working at frequency = 7322.0 Hz:   0%|          | 0/100 [00:00<?, ?it/s]"
      ]
     },
     "metadata": {},
     "output_type": "display_data"
    },
    {
     "data": {
      "application/vnd.jupyter.widget-view+json": {
       "model_id": "",
       "version_major": 2,
       "version_minor": 0
      },
      "text/plain": [
       "  ... working at frequency = 7362.0 Hz:   0%|          | 0/100 [00:00<?, ?it/s]"
      ]
     },
     "metadata": {},
     "output_type": "display_data"
    },
    {
     "data": {
      "application/vnd.jupyter.widget-view+json": {
       "model_id": "",
       "version_major": 2,
       "version_minor": 0
      },
      "text/plain": [
       "  ... working at frequency = 7402.0 Hz:   0%|          | 0/100 [00:00<?, ?it/s]"
      ]
     },
     "metadata": {},
     "output_type": "display_data"
    },
    {
     "data": {
      "application/vnd.jupyter.widget-view+json": {
       "model_id": "",
       "version_major": 2,
       "version_minor": 0
      },
      "text/plain": [
       "  ... working at frequency = 7442.0 Hz:   0%|          | 0/100 [00:00<?, ?it/s]"
      ]
     },
     "metadata": {},
     "output_type": "display_data"
    },
    {
     "data": {
      "application/vnd.jupyter.widget-view+json": {
       "model_id": "",
       "version_major": 2,
       "version_minor": 0
      },
      "text/plain": [
       "  ... working at frequency = 7482.0 Hz:   0%|          | 0/100 [00:00<?, ?it/s]"
      ]
     },
     "metadata": {},
     "output_type": "display_data"
    },
    {
     "data": {
      "application/vnd.jupyter.widget-view+json": {
       "model_id": "",
       "version_major": 2,
       "version_minor": 0
      },
      "text/plain": [
       "  ... working at frequency = 7522.0 Hz:   0%|          | 0/100 [00:00<?, ?it/s]"
      ]
     },
     "metadata": {},
     "output_type": "display_data"
    },
    {
     "data": {
      "application/vnd.jupyter.widget-view+json": {
       "model_id": "",
       "version_major": 2,
       "version_minor": 0
      },
      "text/plain": [
       "  ... working at frequency = 7562.0 Hz:   0%|          | 0/100 [00:00<?, ?it/s]"
      ]
     },
     "metadata": {},
     "output_type": "display_data"
    },
    {
     "data": {
      "application/vnd.jupyter.widget-view+json": {
       "model_id": "",
       "version_major": 2,
       "version_minor": 0
      },
      "text/plain": [
       "  ... working at frequency = 7602.0 Hz:   0%|          | 0/100 [00:00<?, ?it/s]"
      ]
     },
     "metadata": {},
     "output_type": "display_data"
    },
    {
     "data": {
      "application/vnd.jupyter.widget-view+json": {
       "model_id": "",
       "version_major": 2,
       "version_minor": 0
      },
      "text/plain": [
       "  ... working at frequency = 7642.0 Hz:   0%|          | 0/100 [00:00<?, ?it/s]"
      ]
     },
     "metadata": {},
     "output_type": "display_data"
    },
    {
     "data": {
      "application/vnd.jupyter.widget-view+json": {
       "model_id": "",
       "version_major": 2,
       "version_minor": 0
      },
      "text/plain": [
       "  ... working at frequency = 7682.0 Hz:   0%|          | 0/100 [00:00<?, ?it/s]"
      ]
     },
     "metadata": {},
     "output_type": "display_data"
    },
    {
     "data": {
      "application/vnd.jupyter.widget-view+json": {
       "model_id": "",
       "version_major": 2,
       "version_minor": 0
      },
      "text/plain": [
       "  ... working at frequency = 7722.0 Hz:   0%|          | 0/100 [00:00<?, ?it/s]"
      ]
     },
     "metadata": {},
     "output_type": "display_data"
    },
    {
     "data": {
      "application/vnd.jupyter.widget-view+json": {
       "model_id": "",
       "version_major": 2,
       "version_minor": 0
      },
      "text/plain": [
       "  ... working at frequency = 7762.0 Hz:   0%|          | 0/100 [00:00<?, ?it/s]"
      ]
     },
     "metadata": {},
     "output_type": "display_data"
    },
    {
     "data": {
      "application/vnd.jupyter.widget-view+json": {
       "model_id": "",
       "version_major": 2,
       "version_minor": 0
      },
      "text/plain": [
       "  ... working at frequency = 7802.0 Hz:   0%|          | 0/100 [00:00<?, ?it/s]"
      ]
     },
     "metadata": {},
     "output_type": "display_data"
    },
    {
     "data": {
      "application/vnd.jupyter.widget-view+json": {
       "model_id": "",
       "version_major": 2,
       "version_minor": 0
      },
      "text/plain": [
       "  ... working at frequency = 7842.0 Hz:   0%|          | 0/100 [00:00<?, ?it/s]"
      ]
     },
     "metadata": {},
     "output_type": "display_data"
    },
    {
     "data": {
      "application/vnd.jupyter.widget-view+json": {
       "model_id": "",
       "version_major": 2,
       "version_minor": 0
      },
      "text/plain": [
       "  ... working at frequency = 7882.0 Hz:   0%|          | 0/100 [00:00<?, ?it/s]"
      ]
     },
     "metadata": {},
     "output_type": "display_data"
    },
    {
     "data": {
      "application/vnd.jupyter.widget-view+json": {
       "model_id": "",
       "version_major": 2,
       "version_minor": 0
      },
      "text/plain": [
       "  ... working at frequency = 7922.0 Hz:   0%|          | 0/100 [00:00<?, ?it/s]"
      ]
     },
     "metadata": {},
     "output_type": "display_data"
    },
    {
     "data": {
      "application/vnd.jupyter.widget-view+json": {
       "model_id": "",
       "version_major": 2,
       "version_minor": 0
      },
      "text/plain": [
       "  ... working at frequency = 7962.0 Hz:   0%|          | 0/100 [00:00<?, ?it/s]"
      ]
     },
     "metadata": {},
     "output_type": "display_data"
    },
    {
     "data": {
      "application/vnd.jupyter.widget-view+json": {
       "model_id": "",
       "version_major": 2,
       "version_minor": 0
      },
      "text/plain": [
       "  ... working at frequency = 8002.0 Hz:   0%|          | 0/100 [00:00<?, ?it/s]"
      ]
     },
     "metadata": {},
     "output_type": "display_data"
    },
    {
     "data": {
      "application/vnd.jupyter.widget-view+json": {
       "model_id": "",
       "version_major": 2,
       "version_minor": 0
      },
      "text/plain": [
       "  ... working at frequency = 8042.0 Hz:   0%|          | 0/100 [00:00<?, ?it/s]"
      ]
     },
     "metadata": {},
     "output_type": "display_data"
    },
    {
     "data": {
      "application/vnd.jupyter.widget-view+json": {
       "model_id": "",
       "version_major": 2,
       "version_minor": 0
      },
      "text/plain": [
       "  ... working at frequency = 8082.0 Hz:   0%|          | 0/100 [00:00<?, ?it/s]"
      ]
     },
     "metadata": {},
     "output_type": "display_data"
    },
    {
     "data": {
      "application/vnd.jupyter.widget-view+json": {
       "model_id": "",
       "version_major": 2,
       "version_minor": 0
      },
      "text/plain": [
       "  ... working at frequency = 8122.0 Hz:   0%|          | 0/100 [00:00<?, ?it/s]"
      ]
     },
     "metadata": {},
     "output_type": "display_data"
    },
    {
     "data": {
      "application/vnd.jupyter.widget-view+json": {
       "model_id": "",
       "version_major": 2,
       "version_minor": 0
      },
      "text/plain": [
       "  ... working at frequency = 8162.0 Hz:   0%|          | 0/100 [00:00<?, ?it/s]"
      ]
     },
     "metadata": {},
     "output_type": "display_data"
    },
    {
     "data": {
      "application/vnd.jupyter.widget-view+json": {
       "model_id": "",
       "version_major": 2,
       "version_minor": 0
      },
      "text/plain": [
       "  ... working at frequency = 8202.0 Hz:   0%|          | 0/100 [00:00<?, ?it/s]"
      ]
     },
     "metadata": {},
     "output_type": "display_data"
    },
    {
     "data": {
      "application/vnd.jupyter.widget-view+json": {
       "model_id": "",
       "version_major": 2,
       "version_minor": 0
      },
      "text/plain": [
       "  ... working at frequency = 8242.0 Hz:   0%|          | 0/100 [00:00<?, ?it/s]"
      ]
     },
     "metadata": {},
     "output_type": "display_data"
    },
    {
     "data": {
      "application/vnd.jupyter.widget-view+json": {
       "model_id": "",
       "version_major": 2,
       "version_minor": 0
      },
      "text/plain": [
       "  ... working at frequency = 8282.0 Hz:   0%|          | 0/100 [00:00<?, ?it/s]"
      ]
     },
     "metadata": {},
     "output_type": "display_data"
    },
    {
     "data": {
      "application/vnd.jupyter.widget-view+json": {
       "model_id": "",
       "version_major": 2,
       "version_minor": 0
      },
      "text/plain": [
       "  ... working at frequency = 8322.0 Hz:   0%|          | 0/100 [00:00<?, ?it/s]"
      ]
     },
     "metadata": {},
     "output_type": "display_data"
    },
    {
     "data": {
      "application/vnd.jupyter.widget-view+json": {
       "model_id": "",
       "version_major": 2,
       "version_minor": 0
      },
      "text/plain": [
       "  ... working at frequency = 8362.0 Hz:   0%|          | 0/100 [00:00<?, ?it/s]"
      ]
     },
     "metadata": {},
     "output_type": "display_data"
    },
    {
     "data": {
      "application/vnd.jupyter.widget-view+json": {
       "model_id": "",
       "version_major": 2,
       "version_minor": 0
      },
      "text/plain": [
       "  ... working at frequency = 8402.0 Hz:   0%|          | 0/100 [00:00<?, ?it/s]"
      ]
     },
     "metadata": {},
     "output_type": "display_data"
    },
    {
     "data": {
      "application/vnd.jupyter.widget-view+json": {
       "model_id": "",
       "version_major": 2,
       "version_minor": 0
      },
      "text/plain": [
       "  ... working at frequency = 8442.0 Hz:   0%|          | 0/100 [00:00<?, ?it/s]"
      ]
     },
     "metadata": {},
     "output_type": "display_data"
    },
    {
     "data": {
      "application/vnd.jupyter.widget-view+json": {
       "model_id": "",
       "version_major": 2,
       "version_minor": 0
      },
      "text/plain": [
       "  ... working at frequency = 8482.0 Hz:   0%|          | 0/100 [00:00<?, ?it/s]"
      ]
     },
     "metadata": {},
     "output_type": "display_data"
    },
    {
     "data": {
      "application/vnd.jupyter.widget-view+json": {
       "model_id": "",
       "version_major": 2,
       "version_minor": 0
      },
      "text/plain": [
       "  ... working at frequency = 8522.0 Hz:   0%|          | 0/100 [00:00<?, ?it/s]"
      ]
     },
     "metadata": {},
     "output_type": "display_data"
    },
    {
     "data": {
      "application/vnd.jupyter.widget-view+json": {
       "model_id": "",
       "version_major": 2,
       "version_minor": 0
      },
      "text/plain": [
       "  ... working at frequency = 8562.0 Hz:   0%|          | 0/100 [00:00<?, ?it/s]"
      ]
     },
     "metadata": {},
     "output_type": "display_data"
    },
    {
     "data": {
      "application/vnd.jupyter.widget-view+json": {
       "model_id": "",
       "version_major": 2,
       "version_minor": 0
      },
      "text/plain": [
       "  ... working at frequency = 8602.0 Hz:   0%|          | 0/100 [00:00<?, ?it/s]"
      ]
     },
     "metadata": {},
     "output_type": "display_data"
    },
    {
     "data": {
      "application/vnd.jupyter.widget-view+json": {
       "model_id": "",
       "version_major": 2,
       "version_minor": 0
      },
      "text/plain": [
       "  ... working at frequency = 8642.0 Hz:   0%|          | 0/100 [00:00<?, ?it/s]"
      ]
     },
     "metadata": {},
     "output_type": "display_data"
    },
    {
     "data": {
      "application/vnd.jupyter.widget-view+json": {
       "model_id": "",
       "version_major": 2,
       "version_minor": 0
      },
      "text/plain": [
       "  ... working at frequency = 8682.0 Hz:   0%|          | 0/100 [00:00<?, ?it/s]"
      ]
     },
     "metadata": {},
     "output_type": "display_data"
    },
    {
     "data": {
      "application/vnd.jupyter.widget-view+json": {
       "model_id": "",
       "version_major": 2,
       "version_minor": 0
      },
      "text/plain": [
       "  ... working at frequency = 8722.0 Hz:   0%|          | 0/100 [00:00<?, ?it/s]"
      ]
     },
     "metadata": {},
     "output_type": "display_data"
    },
    {
     "data": {
      "application/vnd.jupyter.widget-view+json": {
       "model_id": "",
       "version_major": 2,
       "version_minor": 0
      },
      "text/plain": [
       "  ... working at frequency = 8762.0 Hz:   0%|          | 0/100 [00:00<?, ?it/s]"
      ]
     },
     "metadata": {},
     "output_type": "display_data"
    },
    {
     "data": {
      "application/vnd.jupyter.widget-view+json": {
       "model_id": "",
       "version_major": 2,
       "version_minor": 0
      },
      "text/plain": [
       "  ... working at frequency = 8802.0 Hz:   0%|          | 0/100 [00:00<?, ?it/s]"
      ]
     },
     "metadata": {},
     "output_type": "display_data"
    },
    {
     "data": {
      "application/vnd.jupyter.widget-view+json": {
       "model_id": "",
       "version_major": 2,
       "version_minor": 0
      },
      "text/plain": [
       "  ... working at frequency = 8842.0 Hz:   0%|          | 0/100 [00:00<?, ?it/s]"
      ]
     },
     "metadata": {},
     "output_type": "display_data"
    },
    {
     "data": {
      "application/vnd.jupyter.widget-view+json": {
       "model_id": "",
       "version_major": 2,
       "version_minor": 0
      },
      "text/plain": [
       "  ... working at frequency = 8882.0 Hz:   0%|          | 0/100 [00:00<?, ?it/s]"
      ]
     },
     "metadata": {},
     "output_type": "display_data"
    },
    {
     "data": {
      "application/vnd.jupyter.widget-view+json": {
       "model_id": "",
       "version_major": 2,
       "version_minor": 0
      },
      "text/plain": [
       "  ... working at frequency = 8922.0 Hz:   0%|          | 0/100 [00:00<?, ?it/s]"
      ]
     },
     "metadata": {},
     "output_type": "display_data"
    },
    {
     "data": {
      "application/vnd.jupyter.widget-view+json": {
       "model_id": "",
       "version_major": 2,
       "version_minor": 0
      },
      "text/plain": [
       "  ... working at frequency = 8962.0 Hz:   0%|          | 0/100 [00:00<?, ?it/s]"
      ]
     },
     "metadata": {},
     "output_type": "display_data"
    },
    {
     "data": {
      "application/vnd.jupyter.widget-view+json": {
       "model_id": "",
       "version_major": 2,
       "version_minor": 0
      },
      "text/plain": [
       "  ... working at frequency = 9002.0 Hz:   0%|          | 0/100 [00:00<?, ?it/s]"
      ]
     },
     "metadata": {},
     "output_type": "display_data"
    },
    {
     "data": {
      "application/vnd.jupyter.widget-view+json": {
       "model_id": "",
       "version_major": 2,
       "version_minor": 0
      },
      "text/plain": [
       "  ... working at frequency = 9042.0 Hz:   0%|          | 0/100 [00:00<?, ?it/s]"
      ]
     },
     "metadata": {},
     "output_type": "display_data"
    },
    {
     "data": {
      "application/vnd.jupyter.widget-view+json": {
       "model_id": "",
       "version_major": 2,
       "version_minor": 0
      },
      "text/plain": [
       "  ... working at frequency = 9082.0 Hz:   0%|          | 0/100 [00:00<?, ?it/s]"
      ]
     },
     "metadata": {},
     "output_type": "display_data"
    },
    {
     "data": {
      "application/vnd.jupyter.widget-view+json": {
       "model_id": "",
       "version_major": 2,
       "version_minor": 0
      },
      "text/plain": [
       "  ... working at frequency = 9122.0 Hz:   0%|          | 0/100 [00:00<?, ?it/s]"
      ]
     },
     "metadata": {},
     "output_type": "display_data"
    },
    {
     "data": {
      "application/vnd.jupyter.widget-view+json": {
       "model_id": "",
       "version_major": 2,
       "version_minor": 0
      },
      "text/plain": [
       "  ... working at frequency = 9162.0 Hz:   0%|          | 0/100 [00:00<?, ?it/s]"
      ]
     },
     "metadata": {},
     "output_type": "display_data"
    },
    {
     "data": {
      "application/vnd.jupyter.widget-view+json": {
       "model_id": "",
       "version_major": 2,
       "version_minor": 0
      },
      "text/plain": [
       "  ... working at frequency = 9202.0 Hz:   0%|          | 0/100 [00:00<?, ?it/s]"
      ]
     },
     "metadata": {},
     "output_type": "display_data"
    },
    {
     "data": {
      "application/vnd.jupyter.widget-view+json": {
       "model_id": "",
       "version_major": 2,
       "version_minor": 0
      },
      "text/plain": [
       "  ... working at frequency = 9242.0 Hz:   0%|          | 0/100 [00:00<?, ?it/s]"
      ]
     },
     "metadata": {},
     "output_type": "display_data"
    },
    {
     "data": {
      "application/vnd.jupyter.widget-view+json": {
       "model_id": "",
       "version_major": 2,
       "version_minor": 0
      },
      "text/plain": [
       "  ... working at frequency = 9282.0 Hz:   0%|          | 0/100 [00:00<?, ?it/s]"
      ]
     },
     "metadata": {},
     "output_type": "display_data"
    },
    {
     "data": {
      "application/vnd.jupyter.widget-view+json": {
       "model_id": "",
       "version_major": 2,
       "version_minor": 0
      },
      "text/plain": [
       "  ... working at frequency = 9322.0 Hz:   0%|          | 0/100 [00:00<?, ?it/s]"
      ]
     },
     "metadata": {},
     "output_type": "display_data"
    },
    {
     "data": {
      "application/vnd.jupyter.widget-view+json": {
       "model_id": "",
       "version_major": 2,
       "version_minor": 0
      },
      "text/plain": [
       "  ... working at frequency = 9362.0 Hz:   0%|          | 0/100 [00:00<?, ?it/s]"
      ]
     },
     "metadata": {},
     "output_type": "display_data"
    },
    {
     "data": {
      "application/vnd.jupyter.widget-view+json": {
       "model_id": "",
       "version_major": 2,
       "version_minor": 0
      },
      "text/plain": [
       "  ... working at frequency = 9402.0 Hz:   0%|          | 0/100 [00:00<?, ?it/s]"
      ]
     },
     "metadata": {},
     "output_type": "display_data"
    },
    {
     "data": {
      "application/vnd.jupyter.widget-view+json": {
       "model_id": "",
       "version_major": 2,
       "version_minor": 0
      },
      "text/plain": [
       "  ... working at frequency = 9442.0 Hz:   0%|          | 0/100 [00:00<?, ?it/s]"
      ]
     },
     "metadata": {},
     "output_type": "display_data"
    },
    {
     "data": {
      "application/vnd.jupyter.widget-view+json": {
       "model_id": "",
       "version_major": 2,
       "version_minor": 0
      },
      "text/plain": [
       "  ... working at frequency = 9482.0 Hz:   0%|          | 0/100 [00:00<?, ?it/s]"
      ]
     },
     "metadata": {},
     "output_type": "display_data"
    },
    {
     "data": {
      "application/vnd.jupyter.widget-view+json": {
       "model_id": "",
       "version_major": 2,
       "version_minor": 0
      },
      "text/plain": [
       "  ... working at frequency = 9522.0 Hz:   0%|          | 0/100 [00:00<?, ?it/s]"
      ]
     },
     "metadata": {},
     "output_type": "display_data"
    },
    {
     "data": {
      "application/vnd.jupyter.widget-view+json": {
       "model_id": "",
       "version_major": 2,
       "version_minor": 0
      },
      "text/plain": [
       "  ... working at frequency = 9562.0 Hz:   0%|          | 0/100 [00:00<?, ?it/s]"
      ]
     },
     "metadata": {},
     "output_type": "display_data"
    },
    {
     "data": {
      "application/vnd.jupyter.widget-view+json": {
       "model_id": "",
       "version_major": 2,
       "version_minor": 0
      },
      "text/plain": [
       "  ... working at frequency = 9602.0 Hz:   0%|          | 0/100 [00:00<?, ?it/s]"
      ]
     },
     "metadata": {},
     "output_type": "display_data"
    },
    {
     "data": {
      "application/vnd.jupyter.widget-view+json": {
       "model_id": "",
       "version_major": 2,
       "version_minor": 0
      },
      "text/plain": [
       "  ... working at frequency = 9642.0 Hz:   0%|          | 0/100 [00:00<?, ?it/s]"
      ]
     },
     "metadata": {},
     "output_type": "display_data"
    },
    {
     "data": {
      "application/vnd.jupyter.widget-view+json": {
       "model_id": "",
       "version_major": 2,
       "version_minor": 0
      },
      "text/plain": [
       "  ... working at frequency = 9682.0 Hz:   0%|          | 0/100 [00:00<?, ?it/s]"
      ]
     },
     "metadata": {},
     "output_type": "display_data"
    },
    {
     "data": {
      "application/vnd.jupyter.widget-view+json": {
       "model_id": "",
       "version_major": 2,
       "version_minor": 0
      },
      "text/plain": [
       "  ... working at frequency = 9722.0 Hz:   0%|          | 0/100 [00:00<?, ?it/s]"
      ]
     },
     "metadata": {},
     "output_type": "display_data"
    },
    {
     "data": {
      "application/vnd.jupyter.widget-view+json": {
       "model_id": "",
       "version_major": 2,
       "version_minor": 0
      },
      "text/plain": [
       "  ... working at frequency = 9762.0 Hz:   0%|          | 0/100 [00:00<?, ?it/s]"
      ]
     },
     "metadata": {},
     "output_type": "display_data"
    },
    {
     "data": {
      "application/vnd.jupyter.widget-view+json": {
       "model_id": "",
       "version_major": 2,
       "version_minor": 0
      },
      "text/plain": [
       "  ... working at frequency = 9802.0 Hz:   0%|          | 0/100 [00:00<?, ?it/s]"
      ]
     },
     "metadata": {},
     "output_type": "display_data"
    },
    {
     "data": {
      "application/vnd.jupyter.widget-view+json": {
       "model_id": "",
       "version_major": 2,
       "version_minor": 0
      },
      "text/plain": [
       "  ... working at frequency = 9842.0 Hz:   0%|          | 0/100 [00:00<?, ?it/s]"
      ]
     },
     "metadata": {},
     "output_type": "display_data"
    },
    {
     "data": {
      "application/vnd.jupyter.widget-view+json": {
       "model_id": "",
       "version_major": 2,
       "version_minor": 0
      },
      "text/plain": [
       "  ... working at frequency = 9882.0 Hz:   0%|          | 0/100 [00:00<?, ?it/s]"
      ]
     },
     "metadata": {},
     "output_type": "display_data"
    },
    {
     "data": {
      "application/vnd.jupyter.widget-view+json": {
       "model_id": "",
       "version_major": 2,
       "version_minor": 0
      },
      "text/plain": [
       "  ... working at frequency = 9922.0 Hz:   0%|          | 0/100 [00:00<?, ?it/s]"
      ]
     },
     "metadata": {},
     "output_type": "display_data"
    },
    {
     "data": {
      "application/vnd.jupyter.widget-view+json": {
       "model_id": "",
       "version_major": 2,
       "version_minor": 0
      },
      "text/plain": [
       "  ... working at frequency = 9962.0 Hz:   0%|          | 0/100 [00:00<?, ?it/s]"
      ]
     },
     "metadata": {},
     "output_type": "display_data"
    },
    {
     "data": {
      "application/vnd.jupyter.widget-view+json": {
       "model_id": "",
       "version_major": 2,
       "version_minor": 0
      },
      "text/plain": [
       "  ... working at frequency = 10002.0 Hz:   0%|          | 0/100 [00:00<?, ?it/s]"
      ]
     },
     "metadata": {},
     "output_type": "display_data"
    },
    {
     "data": {
      "application/vnd.jupyter.widget-view+json": {
       "model_id": "4d97b2734e3845059a24878a36e6088f",
       "version_major": 2,
       "version_minor": 0
      },
      "text/plain": [
       "  ... working at frequency = 10042.0 Hz:   0%|          | 0/100 [00:00<?, ?it/s]"
      ]
     },
     "metadata": {},
     "output_type": "display_data"
    },
    {
     "name": "stdout",
     "output_type": "stream",
     "text": [
      "\n",
      "\n",
      "self.frequency_array.shape[0] = 252 is same as self.wavenumer_array.shape[0] = 252\n",
      "Save file to /Users/chenghunglin/Documents/cone_6_3_fr50.xlsx\n"
     ]
    }
   ],
   "source": [
    "cone_6_3 = anechoic_sound_absorption(determinant, frequency_array,\n",
    "                              fp = '/Users/chenghunglin/Documents/', \n",
    "                              fn = 'cone_6_3_fr50.xlsx', \n",
    "                              material='rubber', shape='cone', \n",
    "                              p=6e-3, q=3e-3, lh=40e-3, cell_radius=15e-3, \n",
    "                              num_segments=100, layer_density=1100, air_density=1.21, \n",
    "                              Young_modulus=0.14e9, Poisson_ratio=0.49, loss_factor=0.23, \n",
    "                              medium_density=998, sound_speed_medium=1483)"
   ]
  },
  {
   "cell_type": "code",
   "execution_count": null,
   "metadata": {},
   "outputs": [],
   "source": []
  },
  {
   "cell_type": "code",
   "execution_count": 10,
   "metadata": {},
   "outputs": [
    {
     "name": "stdout",
     "output_type": "stream",
     "text": [
      "self.frequency_array.shape[0] = 252 is same as self.wavenumer_array.shape[0] = 252\n"
     ]
    },
    {
     "data": {
      "text/plain": [
       "<matplotlib.legend.Legend at 0x1593e6240>"
      ]
     },
     "execution_count": 10,
     "metadata": {},
     "output_type": "execute_result"
    },
    {
     "data": {
      "application/vnd.jupyter.widget-view+json": {
       "model_id": "0daf9ba790314768ba44c9cf3cbaf06f",
       "version_major": 2,
       "version_minor": 0
      },
      "image/png": "[encoded data removed]",
      "text/html": [
       "\n",
       "            <div style=\"display: inline-block;\">\n",
       "                <div class=\"jupyter-widgets widget-label\" style=\"text-align: center;\">\n",
       "                    Figure\n",
       "                </div>\n",
       "                <img src='data:image/png;base64,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' width=640.0/>\n",
       "            </div>\n",
       "        "
      ],
      "text/plain": [
       "Canvas(toolbar=Toolbar(toolitems=[('Home', 'Reset original view', 'home', 'home'), ('Back', 'Back to previous …"
      ]
     },
     "metadata": {},
     "output_type": "display_data"
    }
   ],
   "source": [
    "plt.figure()\n",
    "plt.plot(cone_6_3.frequency_array, cone_6_3.absorption_frequency(), label='cone, p=6, q=3, Young=0.14 Gpa')\n",
    "# plt.plot(cone_4_8.frequency_array, cone_4_8.absorption_frequency(), label='cone, p=4, q=8, Young=0.14 Gpa')\n",
    "# plt.plot(cone_4_8_3.frequency_array, cone_4_8_3.absorption_frequency(), '--', color='orange', label='cone, p=4, q=8, Young=0.014 Gpa')\n",
    "# plt.plot(horn_1_11.frequency_array, horn_1_11.absorption_frequency(), label='horn, p=1, q=11, seg=50, fr=50')\n",
    "# plt.plot(horn_1_11_seg100.frequency_array, horn_1_11_seg100.absorption_frequency(), label='horn, p=1, q=11, seg=100, fr=50')\n",
    "# plt.plot(horn_1_11_fr20.frequency_array, horn_1_11_fr20.absorption_frequency(), label='horn, p=1, q=11, seg=100, fr=20')\n",
    "plt.legend()"
   ]
  },
  {
   "cell_type": "code",
   "execution_count": null,
   "metadata": {},
   "outputs": [],
   "source": []
  },
  {
   "cell_type": "markdown",
   "metadata": {},
   "source": [
    "### Example 02: change parameters through sound_performance() objects"
   ]
  },
  {
   "cell_type": "code",
   "execution_count": 11,
   "metadata": {},
   "outputs": [],
   "source": [
    "horn_1_11 = sound_performance(determinant, frequency_array)"
   ]
  },
  {
   "cell_type": "code",
   "execution_count": 12,
   "metadata": {},
   "outputs": [],
   "source": [
    "horn_1_11.shape = 'horn'\n",
    "horn_1_11.p_hole = 1e-3\n",
    "horn_1_11.q_hole = 11e-3"
   ]
  },
  {
   "cell_type": "code",
   "execution_count": 13,
   "metadata": {},
   "outputs": [
    {
     "name": "stdout",
     "output_type": "stream",
     "text": [
      "Solving wavenumber in determinant for shape = horn, p = 0.001, q = 0.011, Young's = 140000000.0\n"
     ]
    },
    {
     "data": {
      "application/vnd.jupyter.widget-view+json": {
       "model_id": "c4651bafee60420695e431737f144f5c",
       "version_major": 2,
       "version_minor": 0
      },
      "text/plain": [
       "Solving for all frequencies:   0%|          | 0/252 [00:00<?, ?it/s]"
      ]
     },
     "metadata": {},
     "output_type": "display_data"
    },
    {
     "data": {
      "application/vnd.jupyter.widget-view+json": {
       "model_id": "",
       "version_major": 2,
       "version_minor": 0
      },
      "text/plain": [
       "  ... working at frequency = 2.0 Hz:   0%|          | 0/100 [00:00<?, ?it/s]"
      ]
     },
     "metadata": {},
     "output_type": "display_data"
    },
    {
     "data": {
      "application/vnd.jupyter.widget-view+json": {
       "model_id": "",
       "version_major": 2,
       "version_minor": 0
      },
      "text/plain": [
       "  ... working at frequency = 42.0 Hz:   0%|          | 0/100 [00:00<?, ?it/s]"
      ]
     },
     "metadata": {},
     "output_type": "display_data"
    },
    {
     "data": {
      "application/vnd.jupyter.widget-view+json": {
       "model_id": "",
       "version_major": 2,
       "version_minor": 0
      },
      "text/plain": [
       "  ... working at frequency = 82.0 Hz:   0%|          | 0/100 [00:00<?, ?it/s]"
      ]
     },
     "metadata": {},
     "output_type": "display_data"
    },
    {
     "data": {
      "application/vnd.jupyter.widget-view+json": {
       "model_id": "",
       "version_major": 2,
       "version_minor": 0
      },
      "text/plain": [
       "  ... working at frequency = 122.0 Hz:   0%|          | 0/100 [00:00<?, ?it/s]"
      ]
     },
     "metadata": {},
     "output_type": "display_data"
    },
    {
     "data": {
      "application/vnd.jupyter.widget-view+json": {
       "model_id": "",
       "version_major": 2,
       "version_minor": 0
      },
      "text/plain": [
       "  ... working at frequency = 162.0 Hz:   0%|          | 0/100 [00:00<?, ?it/s]"
      ]
     },
     "metadata": {},
     "output_type": "display_data"
    },
    {
     "data": {
      "application/vnd.jupyter.widget-view+json": {
       "model_id": "",
       "version_major": 2,
       "version_minor": 0
      },
      "text/plain": [
       "  ... working at frequency = 202.0 Hz:   0%|          | 0/100 [00:00<?, ?it/s]"
      ]
     },
     "metadata": {},
     "output_type": "display_data"
    },
    {
     "data": {
      "application/vnd.jupyter.widget-view+json": {
       "model_id": "",
       "version_major": 2,
       "version_minor": 0
      },
      "text/plain": [
       "  ... working at frequency = 242.0 Hz:   0%|          | 0/100 [00:00<?, ?it/s]"
      ]
     },
     "metadata": {},
     "output_type": "display_data"
    },
    {
     "data": {
      "application/vnd.jupyter.widget-view+json": {
       "model_id": "",
       "version_major": 2,
       "version_minor": 0
      },
      "text/plain": [
       "  ... working at frequency = 282.0 Hz:   0%|          | 0/100 [00:00<?, ?it/s]"
      ]
     },
     "metadata": {},
     "output_type": "display_data"
    },
    {
     "data": {
      "application/vnd.jupyter.widget-view+json": {
       "model_id": "",
       "version_major": 2,
       "version_minor": 0
      },
      "text/plain": [
       "  ... working at frequency = 322.0 Hz:   0%|          | 0/100 [00:00<?, ?it/s]"
      ]
     },
     "metadata": {},
     "output_type": "display_data"
    },
    {
     "data": {
      "application/vnd.jupyter.widget-view+json": {
       "model_id": "",
       "version_major": 2,
       "version_minor": 0
      },
      "text/plain": [
       "  ... working at frequency = 362.0 Hz:   0%|          | 0/100 [00:00<?, ?it/s]"
      ]
     },
     "metadata": {},
     "output_type": "display_data"
    },
    {
     "data": {
      "application/vnd.jupyter.widget-view+json": {
       "model_id": "",
       "version_major": 2,
       "version_minor": 0
      },
      "text/plain": [
       "  ... working at frequency = 402.0 Hz:   0%|          | 0/100 [00:00<?, ?it/s]"
      ]
     },
     "metadata": {},
     "output_type": "display_data"
    },
    {
     "data": {
      "application/vnd.jupyter.widget-view+json": {
       "model_id": "",
       "version_major": 2,
       "version_minor": 0
      },
      "text/plain": [
       "  ... working at frequency = 442.0 Hz:   0%|          | 0/100 [00:00<?, ?it/s]"
      ]
     },
     "metadata": {},
     "output_type": "display_data"
    },
    {
     "data": {
      "application/vnd.jupyter.widget-view+json": {
       "model_id": "",
       "version_major": 2,
       "version_minor": 0
      },
      "text/plain": [
       "  ... working at frequency = 482.0 Hz:   0%|          | 0/100 [00:00<?, ?it/s]"
      ]
     },
     "metadata": {},
     "output_type": "display_data"
    },
    {
     "data": {
      "application/vnd.jupyter.widget-view+json": {
       "model_id": "",
       "version_major": 2,
       "version_minor": 0
      },
      "text/plain": [
       "  ... working at frequency = 522.0 Hz:   0%|          | 0/100 [00:00<?, ?it/s]"
      ]
     },
     "metadata": {},
     "output_type": "display_data"
    },
    {
     "data": {
      "application/vnd.jupyter.widget-view+json": {
       "model_id": "",
       "version_major": 2,
       "version_minor": 0
      },
      "text/plain": [
       "  ... working at frequency = 562.0 Hz:   0%|          | 0/100 [00:00<?, ?it/s]"
      ]
     },
     "metadata": {},
     "output_type": "display_data"
    },
    {
     "data": {
      "application/vnd.jupyter.widget-view+json": {
       "model_id": "",
       "version_major": 2,
       "version_minor": 0
      },
      "text/plain": [
       "  ... working at frequency = 602.0 Hz:   0%|          | 0/100 [00:00<?, ?it/s]"
      ]
     },
     "metadata": {},
     "output_type": "display_data"
    },
    {
     "data": {
      "application/vnd.jupyter.widget-view+json": {
       "model_id": "",
       "version_major": 2,
       "version_minor": 0
      },
      "text/plain": [
       "  ... working at frequency = 642.0 Hz:   0%|          | 0/100 [00:00<?, ?it/s]"
      ]
     },
     "metadata": {},
     "output_type": "display_data"
    },
    {
     "data": {
      "application/vnd.jupyter.widget-view+json": {
       "model_id": "",
       "version_major": 2,
       "version_minor": 0
      },
      "text/plain": [
       "  ... working at frequency = 682.0 Hz:   0%|          | 0/100 [00:00<?, ?it/s]"
      ]
     },
     "metadata": {},
     "output_type": "display_data"
    },
    {
     "data": {
      "application/vnd.jupyter.widget-view+json": {
       "model_id": "",
       "version_major": 2,
       "version_minor": 0
      },
      "text/plain": [
       "  ... working at frequency = 722.0 Hz:   0%|          | 0/100 [00:00<?, ?it/s]"
      ]
     },
     "metadata": {},
     "output_type": "display_data"
    },
    {
     "data": {
      "application/vnd.jupyter.widget-view+json": {
       "model_id": "",
       "version_major": 2,
       "version_minor": 0
      },
      "text/plain": [
       "  ... working at frequency = 762.0 Hz:   0%|          | 0/100 [00:00<?, ?it/s]"
      ]
     },
     "metadata": {},
     "output_type": "display_data"
    },
    {
     "data": {
      "application/vnd.jupyter.widget-view+json": {
       "model_id": "",
       "version_major": 2,
       "version_minor": 0
      },
      "text/plain": [
       "  ... working at frequency = 802.0 Hz:   0%|          | 0/100 [00:00<?, ?it/s]"
      ]
     },
     "metadata": {},
     "output_type": "display_data"
    },
    {
     "data": {
      "application/vnd.jupyter.widget-view+json": {
       "model_id": "",
       "version_major": 2,
       "version_minor": 0
      },
      "text/plain": [
       "  ... working at frequency = 842.0 Hz:   0%|          | 0/100 [00:00<?, ?it/s]"
      ]
     },
     "metadata": {},
     "output_type": "display_data"
    },
    {
     "data": {
      "application/vnd.jupyter.widget-view+json": {
       "model_id": "",
       "version_major": 2,
       "version_minor": 0
      },
      "text/plain": [
       "  ... working at frequency = 882.0 Hz:   0%|          | 0/100 [00:00<?, ?it/s]"
      ]
     },
     "metadata": {},
     "output_type": "display_data"
    },
    {
     "data": {
      "application/vnd.jupyter.widget-view+json": {
       "model_id": "",
       "version_major": 2,
       "version_minor": 0
      },
      "text/plain": [
       "  ... working at frequency = 922.0 Hz:   0%|          | 0/100 [00:00<?, ?it/s]"
      ]
     },
     "metadata": {},
     "output_type": "display_data"
    },
    {
     "data": {
      "application/vnd.jupyter.widget-view+json": {
       "model_id": "",
       "version_major": 2,
       "version_minor": 0
      },
      "text/plain": [
       "  ... working at frequency = 962.0 Hz:   0%|          | 0/100 [00:00<?, ?it/s]"
      ]
     },
     "metadata": {},
     "output_type": "display_data"
    },
    {
     "data": {
      "application/vnd.jupyter.widget-view+json": {
       "model_id": "",
       "version_major": 2,
       "version_minor": 0
      },
      "text/plain": [
       "  ... working at frequency = 1002.0 Hz:   0%|          | 0/100 [00:00<?, ?it/s]"
      ]
     },
     "metadata": {},
     "output_type": "display_data"
    },
    {
     "data": {
      "application/vnd.jupyter.widget-view+json": {
       "model_id": "",
       "version_major": 2,
       "version_minor": 0
      },
      "text/plain": [
       "  ... working at frequency = 1042.0 Hz:   0%|          | 0/100 [00:00<?, ?it/s]"
      ]
     },
     "metadata": {},
     "output_type": "display_data"
    },
    {
     "data": {
      "application/vnd.jupyter.widget-view+json": {
       "model_id": "",
       "version_major": 2,
       "version_minor": 0
      },
      "text/plain": [
       "  ... working at frequency = 1082.0 Hz:   0%|          | 0/100 [00:00<?, ?it/s]"
      ]
     },
     "metadata": {},
     "output_type": "display_data"
    },
    {
     "data": {
      "application/vnd.jupyter.widget-view+json": {
       "model_id": "",
       "version_major": 2,
       "version_minor": 0
      },
      "text/plain": [
       "  ... working at frequency = 1122.0 Hz:   0%|          | 0/100 [00:00<?, ?it/s]"
      ]
     },
     "metadata": {},
     "output_type": "display_data"
    },
    {
     "data": {
      "application/vnd.jupyter.widget-view+json": {
       "model_id": "",
       "version_major": 2,
       "version_minor": 0
      },
      "text/plain": [
       "  ... working at frequency = 1162.0 Hz:   0%|          | 0/100 [00:00<?, ?it/s]"
      ]
     },
     "metadata": {},
     "output_type": "display_data"
    },
    {
     "data": {
      "application/vnd.jupyter.widget-view+json": {
       "model_id": "",
       "version_major": 2,
       "version_minor": 0
      },
      "text/plain": [
       "  ... working at frequency = 1202.0 Hz:   0%|          | 0/100 [00:00<?, ?it/s]"
      ]
     },
     "metadata": {},
     "output_type": "display_data"
    },
    {
     "data": {
      "application/vnd.jupyter.widget-view+json": {
       "model_id": "",
       "version_major": 2,
       "version_minor": 0
      },
      "text/plain": [
       "  ... working at frequency = 1242.0 Hz:   0%|          | 0/100 [00:00<?, ?it/s]"
      ]
     },
     "metadata": {},
     "output_type": "display_data"
    },
    {
     "data": {
      "application/vnd.jupyter.widget-view+json": {
       "model_id": "",
       "version_major": 2,
       "version_minor": 0
      },
      "text/plain": [
       "  ... working at frequency = 1282.0 Hz:   0%|          | 0/100 [00:00<?, ?it/s]"
      ]
     },
     "metadata": {},
     "output_type": "display_data"
    },
    {
     "data": {
      "application/vnd.jupyter.widget-view+json": {
       "model_id": "",
       "version_major": 2,
       "version_minor": 0
      },
      "text/plain": [
       "  ... working at frequency = 1322.0 Hz:   0%|          | 0/100 [00:00<?, ?it/s]"
      ]
     },
     "metadata": {},
     "output_type": "display_data"
    },
    {
     "data": {
      "application/vnd.jupyter.widget-view+json": {
       "model_id": "",
       "version_major": 2,
       "version_minor": 0
      },
      "text/plain": [
       "  ... working at frequency = 1362.0 Hz:   0%|          | 0/100 [00:00<?, ?it/s]"
      ]
     },
     "metadata": {},
     "output_type": "display_data"
    },
    {
     "data": {
      "application/vnd.jupyter.widget-view+json": {
       "model_id": "",
       "version_major": 2,
       "version_minor": 0
      },
      "text/plain": [
       "  ... working at frequency = 1402.0 Hz:   0%|          | 0/100 [00:00<?, ?it/s]"
      ]
     },
     "metadata": {},
     "output_type": "display_data"
    },
    {
     "data": {
      "application/vnd.jupyter.widget-view+json": {
       "model_id": "",
       "version_major": 2,
       "version_minor": 0
      },
      "text/plain": [
       "  ... working at frequency = 1442.0 Hz:   0%|          | 0/100 [00:00<?, ?it/s]"
      ]
     },
     "metadata": {},
     "output_type": "display_data"
    },
    {
     "data": {
      "application/vnd.jupyter.widget-view+json": {
       "model_id": "",
       "version_major": 2,
       "version_minor": 0
      },
      "text/plain": [
       "  ... working at frequency = 1482.0 Hz:   0%|          | 0/100 [00:00<?, ?it/s]"
      ]
     },
     "metadata": {},
     "output_type": "display_data"
    },
    {
     "data": {
      "application/vnd.jupyter.widget-view+json": {
       "model_id": "",
       "version_major": 2,
       "version_minor": 0
      },
      "text/plain": [
       "  ... working at frequency = 1522.0 Hz:   0%|          | 0/100 [00:00<?, ?it/s]"
      ]
     },
     "metadata": {},
     "output_type": "display_data"
    },
    {
     "data": {
      "application/vnd.jupyter.widget-view+json": {
       "model_id": "",
       "version_major": 2,
       "version_minor": 0
      },
      "text/plain": [
       "  ... working at frequency = 1562.0 Hz:   0%|          | 0/100 [00:00<?, ?it/s]"
      ]
     },
     "metadata": {},
     "output_type": "display_data"
    },
    {
     "data": {
      "application/vnd.jupyter.widget-view+json": {
       "model_id": "",
       "version_major": 2,
       "version_minor": 0
      },
      "text/plain": [
       "  ... working at frequency = 1602.0 Hz:   0%|          | 0/100 [00:00<?, ?it/s]"
      ]
     },
     "metadata": {},
     "output_type": "display_data"
    },
    {
     "data": {
      "application/vnd.jupyter.widget-view+json": {
       "model_id": "",
       "version_major": 2,
       "version_minor": 0
      },
      "text/plain": [
       "  ... working at frequency = 1642.0 Hz:   0%|          | 0/100 [00:00<?, ?it/s]"
      ]
     },
     "metadata": {},
     "output_type": "display_data"
    },
    {
     "data": {
      "application/vnd.jupyter.widget-view+json": {
       "model_id": "",
       "version_major": 2,
       "version_minor": 0
      },
      "text/plain": [
       "  ... working at frequency = 1682.0 Hz:   0%|          | 0/100 [00:00<?, ?it/s]"
      ]
     },
     "metadata": {},
     "output_type": "display_data"
    },
    {
     "data": {
      "application/vnd.jupyter.widget-view+json": {
       "model_id": "",
       "version_major": 2,
       "version_minor": 0
      },
      "text/plain": [
       "  ... working at frequency = 1722.0 Hz:   0%|          | 0/100 [00:00<?, ?it/s]"
      ]
     },
     "metadata": {},
     "output_type": "display_data"
    },
    {
     "data": {
      "application/vnd.jupyter.widget-view+json": {
       "model_id": "",
       "version_major": 2,
       "version_minor": 0
      },
      "text/plain": [
       "  ... working at frequency = 1762.0 Hz:   0%|          | 0/100 [00:00<?, ?it/s]"
      ]
     },
     "metadata": {},
     "output_type": "display_data"
    },
    {
     "data": {
      "application/vnd.jupyter.widget-view+json": {
       "model_id": "",
       "version_major": 2,
       "version_minor": 0
      },
      "text/plain": [
       "  ... working at frequency = 1802.0 Hz:   0%|          | 0/100 [00:00<?, ?it/s]"
      ]
     },
     "metadata": {},
     "output_type": "display_data"
    },
    {
     "data": {
      "application/vnd.jupyter.widget-view+json": {
       "model_id": "",
       "version_major": 2,
       "version_minor": 0
      },
      "text/plain": [
       "  ... working at frequency = 1842.0 Hz:   0%|          | 0/100 [00:00<?, ?it/s]"
      ]
     },
     "metadata": {},
     "output_type": "display_data"
    },
    {
     "data": {
      "application/vnd.jupyter.widget-view+json": {
       "model_id": "",
       "version_major": 2,
       "version_minor": 0
      },
      "text/plain": [
       "  ... working at frequency = 1882.0 Hz:   0%|          | 0/100 [00:00<?, ?it/s]"
      ]
     },
     "metadata": {},
     "output_type": "display_data"
    },
    {
     "data": {
      "application/vnd.jupyter.widget-view+json": {
       "model_id": "",
       "version_major": 2,
       "version_minor": 0
      },
      "text/plain": [
       "  ... working at frequency = 1922.0 Hz:   0%|          | 0/100 [00:00<?, ?it/s]"
      ]
     },
     "metadata": {},
     "output_type": "display_data"
    },
    {
     "data": {
      "application/vnd.jupyter.widget-view+json": {
       "model_id": "",
       "version_major": 2,
       "version_minor": 0
      },
      "text/plain": [
       "  ... working at frequency = 1962.0 Hz:   0%|          | 0/100 [00:00<?, ?it/s]"
      ]
     },
     "metadata": {},
     "output_type": "display_data"
    },
    {
     "data": {
      "application/vnd.jupyter.widget-view+json": {
       "model_id": "",
       "version_major": 2,
       "version_minor": 0
      },
      "text/plain": [
       "  ... working at frequency = 2002.0 Hz:   0%|          | 0/100 [00:00<?, ?it/s]"
      ]
     },
     "metadata": {},
     "output_type": "display_data"
    },
    {
     "data": {
      "application/vnd.jupyter.widget-view+json": {
       "model_id": "",
       "version_major": 2,
       "version_minor": 0
      },
      "text/plain": [
       "  ... working at frequency = 2042.0 Hz:   0%|          | 0/100 [00:00<?, ?it/s]"
      ]
     },
     "metadata": {},
     "output_type": "display_data"
    },
    {
     "data": {
      "application/vnd.jupyter.widget-view+json": {
       "model_id": "",
       "version_major": 2,
       "version_minor": 0
      },
      "text/plain": [
       "  ... working at frequency = 2082.0 Hz:   0%|          | 0/100 [00:00<?, ?it/s]"
      ]
     },
     "metadata": {},
     "output_type": "display_data"
    },
    {
     "data": {
      "application/vnd.jupyter.widget-view+json": {
       "model_id": "",
       "version_major": 2,
       "version_minor": 0
      },
      "text/plain": [
       "  ... working at frequency = 2122.0 Hz:   0%|          | 0/100 [00:00<?, ?it/s]"
      ]
     },
     "metadata": {},
     "output_type": "display_data"
    },
    {
     "data": {
      "application/vnd.jupyter.widget-view+json": {
       "model_id": "",
       "version_major": 2,
       "version_minor": 0
      },
      "text/plain": [
       "  ... working at frequency = 2162.0 Hz:   0%|          | 0/100 [00:00<?, ?it/s]"
      ]
     },
     "metadata": {},
     "output_type": "display_data"
    },
    {
     "data": {
      "application/vnd.jupyter.widget-view+json": {
       "model_id": "",
       "version_major": 2,
       "version_minor": 0
      },
      "text/plain": [
       "  ... working at frequency = 2202.0 Hz:   0%|          | 0/100 [00:00<?, ?it/s]"
      ]
     },
     "metadata": {},
     "output_type": "display_data"
    },
    {
     "data": {
      "application/vnd.jupyter.widget-view+json": {
       "model_id": "",
       "version_major": 2,
       "version_minor": 0
      },
      "text/plain": [
       "  ... working at frequency = 2242.0 Hz:   0%|          | 0/100 [00:00<?, ?it/s]"
      ]
     },
     "metadata": {},
     "output_type": "display_data"
    },
    {
     "data": {
      "application/vnd.jupyter.widget-view+json": {
       "model_id": "",
       "version_major": 2,
       "version_minor": 0
      },
      "text/plain": [
       "  ... working at frequency = 2282.0 Hz:   0%|          | 0/100 [00:00<?, ?it/s]"
      ]
     },
     "metadata": {},
     "output_type": "display_data"
    },
    {
     "data": {
      "application/vnd.jupyter.widget-view+json": {
       "model_id": "",
       "version_major": 2,
       "version_minor": 0
      },
      "text/plain": [
       "  ... working at frequency = 2322.0 Hz:   0%|          | 0/100 [00:00<?, ?it/s]"
      ]
     },
     "metadata": {},
     "output_type": "display_data"
    },
    {
     "data": {
      "application/vnd.jupyter.widget-view+json": {
       "model_id": "",
       "version_major": 2,
       "version_minor": 0
      },
      "text/plain": [
       "  ... working at frequency = 2362.0 Hz:   0%|          | 0/100 [00:00<?, ?it/s]"
      ]
     },
     "metadata": {},
     "output_type": "display_data"
    },
    {
     "data": {
      "application/vnd.jupyter.widget-view+json": {
       "model_id": "",
       "version_major": 2,
       "version_minor": 0
      },
      "text/plain": [
       "  ... working at frequency = 2402.0 Hz:   0%|          | 0/100 [00:00<?, ?it/s]"
      ]
     },
     "metadata": {},
     "output_type": "display_data"
    },
    {
     "data": {
      "application/vnd.jupyter.widget-view+json": {
       "model_id": "",
       "version_major": 2,
       "version_minor": 0
      },
      "text/plain": [
       "  ... working at frequency = 2442.0 Hz:   0%|          | 0/100 [00:00<?, ?it/s]"
      ]
     },
     "metadata": {},
     "output_type": "display_data"
    },
    {
     "data": {
      "application/vnd.jupyter.widget-view+json": {
       "model_id": "",
       "version_major": 2,
       "version_minor": 0
      },
      "text/plain": [
       "  ... working at frequency = 2482.0 Hz:   0%|          | 0/100 [00:00<?, ?it/s]"
      ]
     },
     "metadata": {},
     "output_type": "display_data"
    },
    {
     "data": {
      "application/vnd.jupyter.widget-view+json": {
       "model_id": "",
       "version_major": 2,
       "version_minor": 0
      },
      "text/plain": [
       "  ... working at frequency = 2522.0 Hz:   0%|          | 0/100 [00:00<?, ?it/s]"
      ]
     },
     "metadata": {},
     "output_type": "display_data"
    },
    {
     "data": {
      "application/vnd.jupyter.widget-view+json": {
       "model_id": "",
       "version_major": 2,
       "version_minor": 0
      },
      "text/plain": [
       "  ... working at frequency = 2562.0 Hz:   0%|          | 0/100 [00:00<?, ?it/s]"
      ]
     },
     "metadata": {},
     "output_type": "display_data"
    },
    {
     "data": {
      "application/vnd.jupyter.widget-view+json": {
       "model_id": "",
       "version_major": 2,
       "version_minor": 0
      },
      "text/plain": [
       "  ... working at frequency = 2602.0 Hz:   0%|          | 0/100 [00:00<?, ?it/s]"
      ]
     },
     "metadata": {},
     "output_type": "display_data"
    },
    {
     "data": {
      "application/vnd.jupyter.widget-view+json": {
       "model_id": "",
       "version_major": 2,
       "version_minor": 0
      },
      "text/plain": [
       "  ... working at frequency = 2642.0 Hz:   0%|          | 0/100 [00:00<?, ?it/s]"
      ]
     },
     "metadata": {},
     "output_type": "display_data"
    },
    {
     "data": {
      "application/vnd.jupyter.widget-view+json": {
       "model_id": "",
       "version_major": 2,
       "version_minor": 0
      },
      "text/plain": [
       "  ... working at frequency = 2682.0 Hz:   0%|          | 0/100 [00:00<?, ?it/s]"
      ]
     },
     "metadata": {},
     "output_type": "display_data"
    },
    {
     "data": {
      "application/vnd.jupyter.widget-view+json": {
       "model_id": "",
       "version_major": 2,
       "version_minor": 0
      },
      "text/plain": [
       "  ... working at frequency = 2722.0 Hz:   0%|          | 0/100 [00:00<?, ?it/s]"
      ]
     },
     "metadata": {},
     "output_type": "display_data"
    },
    {
     "data": {
      "application/vnd.jupyter.widget-view+json": {
       "model_id": "",
       "version_major": 2,
       "version_minor": 0
      },
      "text/plain": [
       "  ... working at frequency = 2762.0 Hz:   0%|          | 0/100 [00:00<?, ?it/s]"
      ]
     },
     "metadata": {},
     "output_type": "display_data"
    },
    {
     "data": {
      "application/vnd.jupyter.widget-view+json": {
       "model_id": "",
       "version_major": 2,
       "version_minor": 0
      },
      "text/plain": [
       "  ... working at frequency = 2802.0 Hz:   0%|          | 0/100 [00:00<?, ?it/s]"
      ]
     },
     "metadata": {},
     "output_type": "display_data"
    },
    {
     "data": {
      "application/vnd.jupyter.widget-view+json": {
       "model_id": "",
       "version_major": 2,
       "version_minor": 0
      },
      "text/plain": [
       "  ... working at frequency = 2842.0 Hz:   0%|          | 0/100 [00:00<?, ?it/s]"
      ]
     },
     "metadata": {},
     "output_type": "display_data"
    },
    {
     "data": {
      "application/vnd.jupyter.widget-view+json": {
       "model_id": "",
       "version_major": 2,
       "version_minor": 0
      },
      "text/plain": [
       "  ... working at frequency = 2882.0 Hz:   0%|          | 0/100 [00:00<?, ?it/s]"
      ]
     },
     "metadata": {},
     "output_type": "display_data"
    },
    {
     "data": {
      "application/vnd.jupyter.widget-view+json": {
       "model_id": "",
       "version_major": 2,
       "version_minor": 0
      },
      "text/plain": [
       "  ... working at frequency = 2922.0 Hz:   0%|          | 0/100 [00:00<?, ?it/s]"
      ]
     },
     "metadata": {},
     "output_type": "display_data"
    },
    {
     "data": {
      "application/vnd.jupyter.widget-view+json": {
       "model_id": "",
       "version_major": 2,
       "version_minor": 0
      },
      "text/plain": [
       "  ... working at frequency = 2962.0 Hz:   0%|          | 0/100 [00:00<?, ?it/s]"
      ]
     },
     "metadata": {},
     "output_type": "display_data"
    },
    {
     "data": {
      "application/vnd.jupyter.widget-view+json": {
       "model_id": "",
       "version_major": 2,
       "version_minor": 0
      },
      "text/plain": [
       "  ... working at frequency = 3002.0 Hz:   0%|          | 0/100 [00:00<?, ?it/s]"
      ]
     },
     "metadata": {},
     "output_type": "display_data"
    },
    {
     "data": {
      "application/vnd.jupyter.widget-view+json": {
       "model_id": "",
       "version_major": 2,
       "version_minor": 0
      },
      "text/plain": [
       "  ... working at frequency = 3042.0 Hz:   0%|          | 0/100 [00:00<?, ?it/s]"
      ]
     },
     "metadata": {},
     "output_type": "display_data"
    },
    {
     "data": {
      "application/vnd.jupyter.widget-view+json": {
       "model_id": "",
       "version_major": 2,
       "version_minor": 0
      },
      "text/plain": [
       "  ... working at frequency = 3082.0 Hz:   0%|          | 0/100 [00:00<?, ?it/s]"
      ]
     },
     "metadata": {},
     "output_type": "display_data"
    },
    {
     "data": {
      "application/vnd.jupyter.widget-view+json": {
       "model_id": "",
       "version_major": 2,
       "version_minor": 0
      },
      "text/plain": [
       "  ... working at frequency = 3122.0 Hz:   0%|          | 0/100 [00:00<?, ?it/s]"
      ]
     },
     "metadata": {},
     "output_type": "display_data"
    },
    {
     "data": {
      "application/vnd.jupyter.widget-view+json": {
       "model_id": "",
       "version_major": 2,
       "version_minor": 0
      },
      "text/plain": [
       "  ... working at frequency = 3162.0 Hz:   0%|          | 0/100 [00:00<?, ?it/s]"
      ]
     },
     "metadata": {},
     "output_type": "display_data"
    },
    {
     "data": {
      "application/vnd.jupyter.widget-view+json": {
       "model_id": "",
       "version_major": 2,
       "version_minor": 0
      },
      "text/plain": [
       "  ... working at frequency = 3202.0 Hz:   0%|          | 0/100 [00:00<?, ?it/s]"
      ]
     },
     "metadata": {},
     "output_type": "display_data"
    },
    {
     "data": {
      "application/vnd.jupyter.widget-view+json": {
       "model_id": "",
       "version_major": 2,
       "version_minor": 0
      },
      "text/plain": [
       "  ... working at frequency = 3242.0 Hz:   0%|          | 0/100 [00:00<?, ?it/s]"
      ]
     },
     "metadata": {},
     "output_type": "display_data"
    },
    {
     "data": {
      "application/vnd.jupyter.widget-view+json": {
       "model_id": "",
       "version_major": 2,
       "version_minor": 0
      },
      "text/plain": [
       "  ... working at frequency = 3282.0 Hz:   0%|          | 0/100 [00:00<?, ?it/s]"
      ]
     },
     "metadata": {},
     "output_type": "display_data"
    },
    {
     "data": {
      "application/vnd.jupyter.widget-view+json": {
       "model_id": "",
       "version_major": 2,
       "version_minor": 0
      },
      "text/plain": [
       "  ... working at frequency = 3322.0 Hz:   0%|          | 0/100 [00:00<?, ?it/s]"
      ]
     },
     "metadata": {},
     "output_type": "display_data"
    },
    {
     "data": {
      "application/vnd.jupyter.widget-view+json": {
       "model_id": "",
       "version_major": 2,
       "version_minor": 0
      },
      "text/plain": [
       "  ... working at frequency = 3362.0 Hz:   0%|          | 0/100 [00:00<?, ?it/s]"
      ]
     },
     "metadata": {},
     "output_type": "display_data"
    },
    {
     "data": {
      "application/vnd.jupyter.widget-view+json": {
       "model_id": "",
       "version_major": 2,
       "version_minor": 0
      },
      "text/plain": [
       "  ... working at frequency = 3402.0 Hz:   0%|          | 0/100 [00:00<?, ?it/s]"
      ]
     },
     "metadata": {},
     "output_type": "display_data"
    },
    {
     "data": {
      "application/vnd.jupyter.widget-view+json": {
       "model_id": "",
       "version_major": 2,
       "version_minor": 0
      },
      "text/plain": [
       "  ... working at frequency = 3442.0 Hz:   0%|          | 0/100 [00:00<?, ?it/s]"
      ]
     },
     "metadata": {},
     "output_type": "display_data"
    },
    {
     "data": {
      "application/vnd.jupyter.widget-view+json": {
       "model_id": "",
       "version_major": 2,
       "version_minor": 0
      },
      "text/plain": [
       "  ... working at frequency = 3482.0 Hz:   0%|          | 0/100 [00:00<?, ?it/s]"
      ]
     },
     "metadata": {},
     "output_type": "display_data"
    },
    {
     "data": {
      "application/vnd.jupyter.widget-view+json": {
       "model_id": "",
       "version_major": 2,
       "version_minor": 0
      },
      "text/plain": [
       "  ... working at frequency = 3522.0 Hz:   0%|          | 0/100 [00:00<?, ?it/s]"
      ]
     },
     "metadata": {},
     "output_type": "display_data"
    },
    {
     "data": {
      "application/vnd.jupyter.widget-view+json": {
       "model_id": "",
       "version_major": 2,
       "version_minor": 0
      },
      "text/plain": [
       "  ... working at frequency = 3562.0 Hz:   0%|          | 0/100 [00:00<?, ?it/s]"
      ]
     },
     "metadata": {},
     "output_type": "display_data"
    },
    {
     "data": {
      "application/vnd.jupyter.widget-view+json": {
       "model_id": "",
       "version_major": 2,
       "version_minor": 0
      },
      "text/plain": [
       "  ... working at frequency = 3602.0 Hz:   0%|          | 0/100 [00:00<?, ?it/s]"
      ]
     },
     "metadata": {},
     "output_type": "display_data"
    },
    {
     "data": {
      "application/vnd.jupyter.widget-view+json": {
       "model_id": "",
       "version_major": 2,
       "version_minor": 0
      },
      "text/plain": [
       "  ... working at frequency = 3642.0 Hz:   0%|          | 0/100 [00:00<?, ?it/s]"
      ]
     },
     "metadata": {},
     "output_type": "display_data"
    },
    {
     "data": {
      "application/vnd.jupyter.widget-view+json": {
       "model_id": "",
       "version_major": 2,
       "version_minor": 0
      },
      "text/plain": [
       "  ... working at frequency = 3682.0 Hz:   0%|          | 0/100 [00:00<?, ?it/s]"
      ]
     },
     "metadata": {},
     "output_type": "display_data"
    },
    {
     "data": {
      "application/vnd.jupyter.widget-view+json": {
       "model_id": "",
       "version_major": 2,
       "version_minor": 0
      },
      "text/plain": [
       "  ... working at frequency = 3722.0 Hz:   0%|          | 0/100 [00:00<?, ?it/s]"
      ]
     },
     "metadata": {},
     "output_type": "display_data"
    },
    {
     "data": {
      "application/vnd.jupyter.widget-view+json": {
       "model_id": "",
       "version_major": 2,
       "version_minor": 0
      },
      "text/plain": [
       "  ... working at frequency = 3762.0 Hz:   0%|          | 0/100 [00:00<?, ?it/s]"
      ]
     },
     "metadata": {},
     "output_type": "display_data"
    },
    {
     "data": {
      "application/vnd.jupyter.widget-view+json": {
       "model_id": "",
       "version_major": 2,
       "version_minor": 0
      },
      "text/plain": [
       "  ... working at frequency = 3802.0 Hz:   0%|          | 0/100 [00:00<?, ?it/s]"
      ]
     },
     "metadata": {},
     "output_type": "display_data"
    },
    {
     "data": {
      "application/vnd.jupyter.widget-view+json": {
       "model_id": "",
       "version_major": 2,
       "version_minor": 0
      },
      "text/plain": [
       "  ... working at frequency = 3842.0 Hz:   0%|          | 0/100 [00:00<?, ?it/s]"
      ]
     },
     "metadata": {},
     "output_type": "display_data"
    },
    {
     "data": {
      "application/vnd.jupyter.widget-view+json": {
       "model_id": "",
       "version_major": 2,
       "version_minor": 0
      },
      "text/plain": [
       "  ... working at frequency = 3882.0 Hz:   0%|          | 0/100 [00:00<?, ?it/s]"
      ]
     },
     "metadata": {},
     "output_type": "display_data"
    },
    {
     "data": {
      "application/vnd.jupyter.widget-view+json": {
       "model_id": "",
       "version_major": 2,
       "version_minor": 0
      },
      "text/plain": [
       "  ... working at frequency = 3922.0 Hz:   0%|          | 0/100 [00:00<?, ?it/s]"
      ]
     },
     "metadata": {},
     "output_type": "display_data"
    },
    {
     "data": {
      "application/vnd.jupyter.widget-view+json": {
       "model_id": "",
       "version_major": 2,
       "version_minor": 0
      },
      "text/plain": [
       "  ... working at frequency = 3962.0 Hz:   0%|          | 0/100 [00:00<?, ?it/s]"
      ]
     },
     "metadata": {},
     "output_type": "display_data"
    },
    {
     "data": {
      "application/vnd.jupyter.widget-view+json": {
       "model_id": "",
       "version_major": 2,
       "version_minor": 0
      },
      "text/plain": [
       "  ... working at frequency = 4002.0 Hz:   0%|          | 0/100 [00:00<?, ?it/s]"
      ]
     },
     "metadata": {},
     "output_type": "display_data"
    },
    {
     "data": {
      "application/vnd.jupyter.widget-view+json": {
       "model_id": "",
       "version_major": 2,
       "version_minor": 0
      },
      "text/plain": [
       "  ... working at frequency = 4042.0 Hz:   0%|          | 0/100 [00:00<?, ?it/s]"
      ]
     },
     "metadata": {},
     "output_type": "display_data"
    },
    {
     "data": {
      "application/vnd.jupyter.widget-view+json": {
       "model_id": "",
       "version_major": 2,
       "version_minor": 0
      },
      "text/plain": [
       "  ... working at frequency = 4082.0 Hz:   0%|          | 0/100 [00:00<?, ?it/s]"
      ]
     },
     "metadata": {},
     "output_type": "display_data"
    },
    {
     "data": {
      "application/vnd.jupyter.widget-view+json": {
       "model_id": "",
       "version_major": 2,
       "version_minor": 0
      },
      "text/plain": [
       "  ... working at frequency = 4122.0 Hz:   0%|          | 0/100 [00:00<?, ?it/s]"
      ]
     },
     "metadata": {},
     "output_type": "display_data"
    },
    {
     "data": {
      "application/vnd.jupyter.widget-view+json": {
       "model_id": "",
       "version_major": 2,
       "version_minor": 0
      },
      "text/plain": [
       "  ... working at frequency = 4162.0 Hz:   0%|          | 0/100 [00:00<?, ?it/s]"
      ]
     },
     "metadata": {},
     "output_type": "display_data"
    },
    {
     "data": {
      "application/vnd.jupyter.widget-view+json": {
       "model_id": "",
       "version_major": 2,
       "version_minor": 0
      },
      "text/plain": [
       "  ... working at frequency = 4202.0 Hz:   0%|          | 0/100 [00:00<?, ?it/s]"
      ]
     },
     "metadata": {},
     "output_type": "display_data"
    },
    {
     "data": {
      "application/vnd.jupyter.widget-view+json": {
       "model_id": "",
       "version_major": 2,
       "version_minor": 0
      },
      "text/plain": [
       "  ... working at frequency = 4242.0 Hz:   0%|          | 0/100 [00:00<?, ?it/s]"
      ]
     },
     "metadata": {},
     "output_type": "display_data"
    },
    {
     "data": {
      "application/vnd.jupyter.widget-view+json": {
       "model_id": "",
       "version_major": 2,
       "version_minor": 0
      },
      "text/plain": [
       "  ... working at frequency = 4282.0 Hz:   0%|          | 0/100 [00:00<?, ?it/s]"
      ]
     },
     "metadata": {},
     "output_type": "display_data"
    },
    {
     "data": {
      "application/vnd.jupyter.widget-view+json": {
       "model_id": "",
       "version_major": 2,
       "version_minor": 0
      },
      "text/plain": [
       "  ... working at frequency = 4322.0 Hz:   0%|          | 0/100 [00:00<?, ?it/s]"
      ]
     },
     "metadata": {},
     "output_type": "display_data"
    },
    {
     "data": {
      "application/vnd.jupyter.widget-view+json": {
       "model_id": "",
       "version_major": 2,
       "version_minor": 0
      },
      "text/plain": [
       "  ... working at frequency = 4362.0 Hz:   0%|          | 0/100 [00:00<?, ?it/s]"
      ]
     },
     "metadata": {},
     "output_type": "display_data"
    },
    {
     "data": {
      "application/vnd.jupyter.widget-view+json": {
       "model_id": "",
       "version_major": 2,
       "version_minor": 0
      },
      "text/plain": [
       "  ... working at frequency = 4402.0 Hz:   0%|          | 0/100 [00:00<?, ?it/s]"
      ]
     },
     "metadata": {},
     "output_type": "display_data"
    },
    {
     "data": {
      "application/vnd.jupyter.widget-view+json": {
       "model_id": "",
       "version_major": 2,
       "version_minor": 0
      },
      "text/plain": [
       "  ... working at frequency = 4442.0 Hz:   0%|          | 0/100 [00:00<?, ?it/s]"
      ]
     },
     "metadata": {},
     "output_type": "display_data"
    },
    {
     "data": {
      "application/vnd.jupyter.widget-view+json": {
       "model_id": "",
       "version_major": 2,
       "version_minor": 0
      },
      "text/plain": [
       "  ... working at frequency = 4482.0 Hz:   0%|          | 0/100 [00:00<?, ?it/s]"
      ]
     },
     "metadata": {},
     "output_type": "display_data"
    },
    {
     "data": {
      "application/vnd.jupyter.widget-view+json": {
       "model_id": "",
       "version_major": 2,
       "version_minor": 0
      },
      "text/plain": [
       "  ... working at frequency = 4522.0 Hz:   0%|          | 0/100 [00:00<?, ?it/s]"
      ]
     },
     "metadata": {},
     "output_type": "display_data"
    },
    {
     "data": {
      "application/vnd.jupyter.widget-view+json": {
       "model_id": "",
       "version_major": 2,
       "version_minor": 0
      },
      "text/plain": [
       "  ... working at frequency = 4562.0 Hz:   0%|          | 0/100 [00:00<?, ?it/s]"
      ]
     },
     "metadata": {},
     "output_type": "display_data"
    },
    {
     "data": {
      "application/vnd.jupyter.widget-view+json": {
       "model_id": "",
       "version_major": 2,
       "version_minor": 0
      },
      "text/plain": [
       "  ... working at frequency = 4602.0 Hz:   0%|          | 0/100 [00:00<?, ?it/s]"
      ]
     },
     "metadata": {},
     "output_type": "display_data"
    },
    {
     "data": {
      "application/vnd.jupyter.widget-view+json": {
       "model_id": "",
       "version_major": 2,
       "version_minor": 0
      },
      "text/plain": [
       "  ... working at frequency = 4642.0 Hz:   0%|          | 0/100 [00:00<?, ?it/s]"
      ]
     },
     "metadata": {},
     "output_type": "display_data"
    },
    {
     "data": {
      "application/vnd.jupyter.widget-view+json": {
       "model_id": "",
       "version_major": 2,
       "version_minor": 0
      },
      "text/plain": [
       "  ... working at frequency = 4682.0 Hz:   0%|          | 0/100 [00:00<?, ?it/s]"
      ]
     },
     "metadata": {},
     "output_type": "display_data"
    },
    {
     "data": {
      "application/vnd.jupyter.widget-view+json": {
       "model_id": "",
       "version_major": 2,
       "version_minor": 0
      },
      "text/plain": [
       "  ... working at frequency = 4722.0 Hz:   0%|          | 0/100 [00:00<?, ?it/s]"
      ]
     },
     "metadata": {},
     "output_type": "display_data"
    },
    {
     "data": {
      "application/vnd.jupyter.widget-view+json": {
       "model_id": "",
       "version_major": 2,
       "version_minor": 0
      },
      "text/plain": [
       "  ... working at frequency = 4762.0 Hz:   0%|          | 0/100 [00:00<?, ?it/s]"
      ]
     },
     "metadata": {},
     "output_type": "display_data"
    },
    {
     "data": {
      "application/vnd.jupyter.widget-view+json": {
       "model_id": "",
       "version_major": 2,
       "version_minor": 0
      },
      "text/plain": [
       "  ... working at frequency = 4802.0 Hz:   0%|          | 0/100 [00:00<?, ?it/s]"
      ]
     },
     "metadata": {},
     "output_type": "display_data"
    },
    {
     "data": {
      "application/vnd.jupyter.widget-view+json": {
       "model_id": "",
       "version_major": 2,
       "version_minor": 0
      },
      "text/plain": [
       "  ... working at frequency = 4842.0 Hz:   0%|          | 0/100 [00:00<?, ?it/s]"
      ]
     },
     "metadata": {},
     "output_type": "display_data"
    },
    {
     "data": {
      "application/vnd.jupyter.widget-view+json": {
       "model_id": "",
       "version_major": 2,
       "version_minor": 0
      },
      "text/plain": [
       "  ... working at frequency = 4882.0 Hz:   0%|          | 0/100 [00:00<?, ?it/s]"
      ]
     },
     "metadata": {},
     "output_type": "display_data"
    },
    {
     "data": {
      "application/vnd.jupyter.widget-view+json": {
       "model_id": "",
       "version_major": 2,
       "version_minor": 0
      },
      "text/plain": [
       "  ... working at frequency = 4922.0 Hz:   0%|          | 0/100 [00:00<?, ?it/s]"
      ]
     },
     "metadata": {},
     "output_type": "display_data"
    },
    {
     "data": {
      "application/vnd.jupyter.widget-view+json": {
       "model_id": "",
       "version_major": 2,
       "version_minor": 0
      },
      "text/plain": [
       "  ... working at frequency = 4962.0 Hz:   0%|          | 0/100 [00:00<?, ?it/s]"
      ]
     },
     "metadata": {},
     "output_type": "display_data"
    },
    {
     "data": {
      "application/vnd.jupyter.widget-view+json": {
       "model_id": "",
       "version_major": 2,
       "version_minor": 0
      },
      "text/plain": [
       "  ... working at frequency = 5002.0 Hz:   0%|          | 0/100 [00:00<?, ?it/s]"
      ]
     },
     "metadata": {},
     "output_type": "display_data"
    },
    {
     "data": {
      "application/vnd.jupyter.widget-view+json": {
       "model_id": "",
       "version_major": 2,
       "version_minor": 0
      },
      "text/plain": [
       "  ... working at frequency = 5042.0 Hz:   0%|          | 0/100 [00:00<?, ?it/s]"
      ]
     },
     "metadata": {},
     "output_type": "display_data"
    },
    {
     "data": {
      "application/vnd.jupyter.widget-view+json": {
       "model_id": "",
       "version_major": 2,
       "version_minor": 0
      },
      "text/plain": [
       "  ... working at frequency = 5082.0 Hz:   0%|          | 0/100 [00:00<?, ?it/s]"
      ]
     },
     "metadata": {},
     "output_type": "display_data"
    },
    {
     "data": {
      "application/vnd.jupyter.widget-view+json": {
       "model_id": "",
       "version_major": 2,
       "version_minor": 0
      },
      "text/plain": [
       "  ... working at frequency = 5122.0 Hz:   0%|          | 0/100 [00:00<?, ?it/s]"
      ]
     },
     "metadata": {},
     "output_type": "display_data"
    },
    {
     "data": {
      "application/vnd.jupyter.widget-view+json": {
       "model_id": "",
       "version_major": 2,
       "version_minor": 0
      },
      "text/plain": [
       "  ... working at frequency = 5162.0 Hz:   0%|          | 0/100 [00:00<?, ?it/s]"
      ]
     },
     "metadata": {},
     "output_type": "display_data"
    },
    {
     "data": {
      "application/vnd.jupyter.widget-view+json": {
       "model_id": "",
       "version_major": 2,
       "version_minor": 0
      },
      "text/plain": [
       "  ... working at frequency = 5202.0 Hz:   0%|          | 0/100 [00:00<?, ?it/s]"
      ]
     },
     "metadata": {},
     "output_type": "display_data"
    },
    {
     "data": {
      "application/vnd.jupyter.widget-view+json": {
       "model_id": "",
       "version_major": 2,
       "version_minor": 0
      },
      "text/plain": [
       "  ... working at frequency = 5242.0 Hz:   0%|          | 0/100 [00:00<?, ?it/s]"
      ]
     },
     "metadata": {},
     "output_type": "display_data"
    },
    {
     "data": {
      "application/vnd.jupyter.widget-view+json": {
       "model_id": "",
       "version_major": 2,
       "version_minor": 0
      },
      "text/plain": [
       "  ... working at frequency = 5282.0 Hz:   0%|          | 0/100 [00:00<?, ?it/s]"
      ]
     },
     "metadata": {},
     "output_type": "display_data"
    },
    {
     "data": {
      "application/vnd.jupyter.widget-view+json": {
       "model_id": "",
       "version_major": 2,
       "version_minor": 0
      },
      "text/plain": [
       "  ... working at frequency = 5322.0 Hz:   0%|          | 0/100 [00:00<?, ?it/s]"
      ]
     },
     "metadata": {},
     "output_type": "display_data"
    },
    {
     "data": {
      "application/vnd.jupyter.widget-view+json": {
       "model_id": "",
       "version_major": 2,
       "version_minor": 0
      },
      "text/plain": [
       "  ... working at frequency = 5362.0 Hz:   0%|          | 0/100 [00:00<?, ?it/s]"
      ]
     },
     "metadata": {},
     "output_type": "display_data"
    },
    {
     "data": {
      "application/vnd.jupyter.widget-view+json": {
       "model_id": "",
       "version_major": 2,
       "version_minor": 0
      },
      "text/plain": [
       "  ... working at frequency = 5402.0 Hz:   0%|          | 0/100 [00:00<?, ?it/s]"
      ]
     },
     "metadata": {},
     "output_type": "display_data"
    },
    {
     "data": {
      "application/vnd.jupyter.widget-view+json": {
       "model_id": "",
       "version_major": 2,
       "version_minor": 0
      },
      "text/plain": [
       "  ... working at frequency = 5442.0 Hz:   0%|          | 0/100 [00:00<?, ?it/s]"
      ]
     },
     "metadata": {},
     "output_type": "display_data"
    },
    {
     "data": {
      "application/vnd.jupyter.widget-view+json": {
       "model_id": "",
       "version_major": 2,
       "version_minor": 0
      },
      "text/plain": [
       "  ... working at frequency = 5482.0 Hz:   0%|          | 0/100 [00:00<?, ?it/s]"
      ]
     },
     "metadata": {},
     "output_type": "display_data"
    },
    {
     "data": {
      "application/vnd.jupyter.widget-view+json": {
       "model_id": "",
       "version_major": 2,
       "version_minor": 0
      },
      "text/plain": [
       "  ... working at frequency = 5522.0 Hz:   0%|          | 0/100 [00:00<?, ?it/s]"
      ]
     },
     "metadata": {},
     "output_type": "display_data"
    },
    {
     "data": {
      "application/vnd.jupyter.widget-view+json": {
       "model_id": "",
       "version_major": 2,
       "version_minor": 0
      },
      "text/plain": [
       "  ... working at frequency = 5562.0 Hz:   0%|          | 0/100 [00:00<?, ?it/s]"
      ]
     },
     "metadata": {},
     "output_type": "display_data"
    },
    {
     "data": {
      "application/vnd.jupyter.widget-view+json": {
       "model_id": "",
       "version_major": 2,
       "version_minor": 0
      },
      "text/plain": [
       "  ... working at frequency = 5602.0 Hz:   0%|          | 0/100 [00:00<?, ?it/s]"
      ]
     },
     "metadata": {},
     "output_type": "display_data"
    },
    {
     "data": {
      "application/vnd.jupyter.widget-view+json": {
       "model_id": "",
       "version_major": 2,
       "version_minor": 0
      },
      "text/plain": [
       "  ... working at frequency = 5642.0 Hz:   0%|          | 0/100 [00:00<?, ?it/s]"
      ]
     },
     "metadata": {},
     "output_type": "display_data"
    },
    {
     "data": {
      "application/vnd.jupyter.widget-view+json": {
       "model_id": "",
       "version_major": 2,
       "version_minor": 0
      },
      "text/plain": [
       "  ... working at frequency = 5682.0 Hz:   0%|          | 0/100 [00:00<?, ?it/s]"
      ]
     },
     "metadata": {},
     "output_type": "display_data"
    },
    {
     "data": {
      "application/vnd.jupyter.widget-view+json": {
       "model_id": "",
       "version_major": 2,
       "version_minor": 0
      },
      "text/plain": [
       "  ... working at frequency = 5722.0 Hz:   0%|          | 0/100 [00:00<?, ?it/s]"
      ]
     },
     "metadata": {},
     "output_type": "display_data"
    },
    {
     "data": {
      "application/vnd.jupyter.widget-view+json": {
       "model_id": "",
       "version_major": 2,
       "version_minor": 0
      },
      "text/plain": [
       "  ... working at frequency = 5762.0 Hz:   0%|          | 0/100 [00:00<?, ?it/s]"
      ]
     },
     "metadata": {},
     "output_type": "display_data"
    },
    {
     "data": {
      "application/vnd.jupyter.widget-view+json": {
       "model_id": "",
       "version_major": 2,
       "version_minor": 0
      },
      "text/plain": [
       "  ... working at frequency = 5802.0 Hz:   0%|          | 0/100 [00:00<?, ?it/s]"
      ]
     },
     "metadata": {},
     "output_type": "display_data"
    },
    {
     "data": {
      "application/vnd.jupyter.widget-view+json": {
       "model_id": "",
       "version_major": 2,
       "version_minor": 0
      },
      "text/plain": [
       "  ... working at frequency = 5842.0 Hz:   0%|          | 0/100 [00:00<?, ?it/s]"
      ]
     },
     "metadata": {},
     "output_type": "display_data"
    },
    {
     "data": {
      "application/vnd.jupyter.widget-view+json": {
       "model_id": "",
       "version_major": 2,
       "version_minor": 0
      },
      "text/plain": [
       "  ... working at frequency = 5882.0 Hz:   0%|          | 0/100 [00:00<?, ?it/s]"
      ]
     },
     "metadata": {},
     "output_type": "display_data"
    },
    {
     "data": {
      "application/vnd.jupyter.widget-view+json": {
       "model_id": "",
       "version_major": 2,
       "version_minor": 0
      },
      "text/plain": [
       "  ... working at frequency = 5922.0 Hz:   0%|          | 0/100 [00:00<?, ?it/s]"
      ]
     },
     "metadata": {},
     "output_type": "display_data"
    },
    {
     "data": {
      "application/vnd.jupyter.widget-view+json": {
       "model_id": "",
       "version_major": 2,
       "version_minor": 0
      },
      "text/plain": [
       "  ... working at frequency = 5962.0 Hz:   0%|          | 0/100 [00:00<?, ?it/s]"
      ]
     },
     "metadata": {},
     "output_type": "display_data"
    },
    {
     "data": {
      "application/vnd.jupyter.widget-view+json": {
       "model_id": "",
       "version_major": 2,
       "version_minor": 0
      },
      "text/plain": [
       "  ... working at frequency = 6002.0 Hz:   0%|          | 0/100 [00:00<?, ?it/s]"
      ]
     },
     "metadata": {},
     "output_type": "display_data"
    },
    {
     "data": {
      "application/vnd.jupyter.widget-view+json": {
       "model_id": "",
       "version_major": 2,
       "version_minor": 0
      },
      "text/plain": [
       "  ... working at frequency = 6042.0 Hz:   0%|          | 0/100 [00:00<?, ?it/s]"
      ]
     },
     "metadata": {},
     "output_type": "display_data"
    },
    {
     "data": {
      "application/vnd.jupyter.widget-view+json": {
       "model_id": "",
       "version_major": 2,
       "version_minor": 0
      },
      "text/plain": [
       "  ... working at frequency = 6082.0 Hz:   0%|          | 0/100 [00:00<?, ?it/s]"
      ]
     },
     "metadata": {},
     "output_type": "display_data"
    },
    {
     "data": {
      "application/vnd.jupyter.widget-view+json": {
       "model_id": "",
       "version_major": 2,
       "version_minor": 0
      },
      "text/plain": [
       "  ... working at frequency = 6122.0 Hz:   0%|          | 0/100 [00:00<?, ?it/s]"
      ]
     },
     "metadata": {},
     "output_type": "display_data"
    },
    {
     "data": {
      "application/vnd.jupyter.widget-view+json": {
       "model_id": "",
       "version_major": 2,
       "version_minor": 0
      },
      "text/plain": [
       "  ... working at frequency = 6162.0 Hz:   0%|          | 0/100 [00:00<?, ?it/s]"
      ]
     },
     "metadata": {},
     "output_type": "display_data"
    },
    {
     "data": {
      "application/vnd.jupyter.widget-view+json": {
       "model_id": "",
       "version_major": 2,
       "version_minor": 0
      },
      "text/plain": [
       "  ... working at frequency = 6202.0 Hz:   0%|          | 0/100 [00:00<?, ?it/s]"
      ]
     },
     "metadata": {},
     "output_type": "display_data"
    },
    {
     "data": {
      "application/vnd.jupyter.widget-view+json": {
       "model_id": "",
       "version_major": 2,
       "version_minor": 0
      },
      "text/plain": [
       "  ... working at frequency = 6242.0 Hz:   0%|          | 0/100 [00:00<?, ?it/s]"
      ]
     },
     "metadata": {},
     "output_type": "display_data"
    },
    {
     "data": {
      "application/vnd.jupyter.widget-view+json": {
       "model_id": "",
       "version_major": 2,
       "version_minor": 0
      },
      "text/plain": [
       "  ... working at frequency = 6282.0 Hz:   0%|          | 0/100 [00:00<?, ?it/s]"
      ]
     },
     "metadata": {},
     "output_type": "display_data"
    },
    {
     "data": {
      "application/vnd.jupyter.widget-view+json": {
       "model_id": "",
       "version_major": 2,
       "version_minor": 0
      },
      "text/plain": [
       "  ... working at frequency = 6322.0 Hz:   0%|          | 0/100 [00:00<?, ?it/s]"
      ]
     },
     "metadata": {},
     "output_type": "display_data"
    },
    {
     "data": {
      "application/vnd.jupyter.widget-view+json": {
       "model_id": "",
       "version_major": 2,
       "version_minor": 0
      },
      "text/plain": [
       "  ... working at frequency = 6362.0 Hz:   0%|          | 0/100 [00:00<?, ?it/s]"
      ]
     },
     "metadata": {},
     "output_type": "display_data"
    },
    {
     "data": {
      "application/vnd.jupyter.widget-view+json": {
       "model_id": "",
       "version_major": 2,
       "version_minor": 0
      },
      "text/plain": [
       "  ... working at frequency = 6402.0 Hz:   0%|          | 0/100 [00:00<?, ?it/s]"
      ]
     },
     "metadata": {},
     "output_type": "display_data"
    },
    {
     "data": {
      "application/vnd.jupyter.widget-view+json": {
       "model_id": "",
       "version_major": 2,
       "version_minor": 0
      },
      "text/plain": [
       "  ... working at frequency = 6442.0 Hz:   0%|          | 0/100 [00:00<?, ?it/s]"
      ]
     },
     "metadata": {},
     "output_type": "display_data"
    },
    {
     "data": {
      "application/vnd.jupyter.widget-view+json": {
       "model_id": "",
       "version_major": 2,
       "version_minor": 0
      },
      "text/plain": [
       "  ... working at frequency = 6482.0 Hz:   0%|          | 0/100 [00:00<?, ?it/s]"
      ]
     },
     "metadata": {},
     "output_type": "display_data"
    },
    {
     "data": {
      "application/vnd.jupyter.widget-view+json": {
       "model_id": "",
       "version_major": 2,
       "version_minor": 0
      },
      "text/plain": [
       "  ... working at frequency = 6522.0 Hz:   0%|          | 0/100 [00:00<?, ?it/s]"
      ]
     },
     "metadata": {},
     "output_type": "display_data"
    },
    {
     "data": {
      "application/vnd.jupyter.widget-view+json": {
       "model_id": "",
       "version_major": 2,
       "version_minor": 0
      },
      "text/plain": [
       "  ... working at frequency = 6562.0 Hz:   0%|          | 0/100 [00:00<?, ?it/s]"
      ]
     },
     "metadata": {},
     "output_type": "display_data"
    },
    {
     "data": {
      "application/vnd.jupyter.widget-view+json": {
       "model_id": "",
       "version_major": 2,
       "version_minor": 0
      },
      "text/plain": [
       "  ... working at frequency = 6602.0 Hz:   0%|          | 0/100 [00:00<?, ?it/s]"
      ]
     },
     "metadata": {},
     "output_type": "display_data"
    },
    {
     "data": {
      "application/vnd.jupyter.widget-view+json": {
       "model_id": "",
       "version_major": 2,
       "version_minor": 0
      },
      "text/plain": [
       "  ... working at frequency = 6642.0 Hz:   0%|          | 0/100 [00:00<?, ?it/s]"
      ]
     },
     "metadata": {},
     "output_type": "display_data"
    },
    {
     "data": {
      "application/vnd.jupyter.widget-view+json": {
       "model_id": "",
       "version_major": 2,
       "version_minor": 0
      },
      "text/plain": [
       "  ... working at frequency = 6682.0 Hz:   0%|          | 0/100 [00:00<?, ?it/s]"
      ]
     },
     "metadata": {},
     "output_type": "display_data"
    },
    {
     "data": {
      "application/vnd.jupyter.widget-view+json": {
       "model_id": "",
       "version_major": 2,
       "version_minor": 0
      },
      "text/plain": [
       "  ... working at frequency = 6722.0 Hz:   0%|          | 0/100 [00:00<?, ?it/s]"
      ]
     },
     "metadata": {},
     "output_type": "display_data"
    },
    {
     "data": {
      "application/vnd.jupyter.widget-view+json": {
       "model_id": "",
       "version_major": 2,
       "version_minor": 0
      },
      "text/plain": [
       "  ... working at frequency = 6762.0 Hz:   0%|          | 0/100 [00:00<?, ?it/s]"
      ]
     },
     "metadata": {},
     "output_type": "display_data"
    },
    {
     "data": {
      "application/vnd.jupyter.widget-view+json": {
       "model_id": "",
       "version_major": 2,
       "version_minor": 0
      },
      "text/plain": [
       "  ... working at frequency = 6802.0 Hz:   0%|          | 0/100 [00:00<?, ?it/s]"
      ]
     },
     "metadata": {},
     "output_type": "display_data"
    },
    {
     "data": {
      "application/vnd.jupyter.widget-view+json": {
       "model_id": "",
       "version_major": 2,
       "version_minor": 0
      },
      "text/plain": [
       "  ... working at frequency = 6842.0 Hz:   0%|          | 0/100 [00:00<?, ?it/s]"
      ]
     },
     "metadata": {},
     "output_type": "display_data"
    },
    {
     "data": {
      "application/vnd.jupyter.widget-view+json": {
       "model_id": "",
       "version_major": 2,
       "version_minor": 0
      },
      "text/plain": [
       "  ... working at frequency = 6882.0 Hz:   0%|          | 0/100 [00:00<?, ?it/s]"
      ]
     },
     "metadata": {},
     "output_type": "display_data"
    },
    {
     "data": {
      "application/vnd.jupyter.widget-view+json": {
       "model_id": "",
       "version_major": 2,
       "version_minor": 0
      },
      "text/plain": [
       "  ... working at frequency = 6922.0 Hz:   0%|          | 0/100 [00:00<?, ?it/s]"
      ]
     },
     "metadata": {},
     "output_type": "display_data"
    },
    {
     "data": {
      "application/vnd.jupyter.widget-view+json": {
       "model_id": "",
       "version_major": 2,
       "version_minor": 0
      },
      "text/plain": [
       "  ... working at frequency = 6962.0 Hz:   0%|          | 0/100 [00:00<?, ?it/s]"
      ]
     },
     "metadata": {},
     "output_type": "display_data"
    },
    {
     "data": {
      "application/vnd.jupyter.widget-view+json": {
       "model_id": "",
       "version_major": 2,
       "version_minor": 0
      },
      "text/plain": [
       "  ... working at frequency = 7002.0 Hz:   0%|          | 0/100 [00:00<?, ?it/s]"
      ]
     },
     "metadata": {},
     "output_type": "display_data"
    },
    {
     "data": {
      "application/vnd.jupyter.widget-view+json": {
       "model_id": "",
       "version_major": 2,
       "version_minor": 0
      },
      "text/plain": [
       "  ... working at frequency = 7042.0 Hz:   0%|          | 0/100 [00:00<?, ?it/s]"
      ]
     },
     "metadata": {},
     "output_type": "display_data"
    },
    {
     "data": {
      "application/vnd.jupyter.widget-view+json": {
       "model_id": "",
       "version_major": 2,
       "version_minor": 0
      },
      "text/plain": [
       "  ... working at frequency = 7082.0 Hz:   0%|          | 0/100 [00:00<?, ?it/s]"
      ]
     },
     "metadata": {},
     "output_type": "display_data"
    },
    {
     "data": {
      "application/vnd.jupyter.widget-view+json": {
       "model_id": "",
       "version_major": 2,
       "version_minor": 0
      },
      "text/plain": [
       "  ... working at frequency = 7122.0 Hz:   0%|          | 0/100 [00:00<?, ?it/s]"
      ]
     },
     "metadata": {},
     "output_type": "display_data"
    },
    {
     "data": {
      "application/vnd.jupyter.widget-view+json": {
       "model_id": "",
       "version_major": 2,
       "version_minor": 0
      },
      "text/plain": [
       "  ... working at frequency = 7162.0 Hz:   0%|          | 0/100 [00:00<?, ?it/s]"
      ]
     },
     "metadata": {},
     "output_type": "display_data"
    },
    {
     "data": {
      "application/vnd.jupyter.widget-view+json": {
       "model_id": "",
       "version_major": 2,
       "version_minor": 0
      },
      "text/plain": [
       "  ... working at frequency = 7202.0 Hz:   0%|          | 0/100 [00:00<?, ?it/s]"
      ]
     },
     "metadata": {},
     "output_type": "display_data"
    },
    {
     "data": {
      "application/vnd.jupyter.widget-view+json": {
       "model_id": "",
       "version_major": 2,
       "version_minor": 0
      },
      "text/plain": [
       "  ... working at frequency = 7242.0 Hz:   0%|          | 0/100 [00:00<?, ?it/s]"
      ]
     },
     "metadata": {},
     "output_type": "display_data"
    },
    {
     "data": {
      "application/vnd.jupyter.widget-view+json": {
       "model_id": "",
       "version_major": 2,
       "version_minor": 0
      },
      "text/plain": [
       "  ... working at frequency = 7282.0 Hz:   0%|          | 0/100 [00:00<?, ?it/s]"
      ]
     },
     "metadata": {},
     "output_type": "display_data"
    },
    {
     "data": {
      "application/vnd.jupyter.widget-view+json": {
       "model_id": "",
       "version_major": 2,
       "version_minor": 0
      },
      "text/plain": [
       "  ... working at frequency = 7322.0 Hz:   0%|          | 0/100 [00:00<?, ?it/s]"
      ]
     },
     "metadata": {},
     "output_type": "display_data"
    },
    {
     "data": {
      "application/vnd.jupyter.widget-view+json": {
       "model_id": "",
       "version_major": 2,
       "version_minor": 0
      },
      "text/plain": [
       "  ... working at frequency = 7362.0 Hz:   0%|          | 0/100 [00:00<?, ?it/s]"
      ]
     },
     "metadata": {},
     "output_type": "display_data"
    },
    {
     "data": {
      "application/vnd.jupyter.widget-view+json": {
       "model_id": "",
       "version_major": 2,
       "version_minor": 0
      },
      "text/plain": [
       "  ... working at frequency = 7402.0 Hz:   0%|          | 0/100 [00:00<?, ?it/s]"
      ]
     },
     "metadata": {},
     "output_type": "display_data"
    },
    {
     "data": {
      "application/vnd.jupyter.widget-view+json": {
       "model_id": "",
       "version_major": 2,
       "version_minor": 0
      },
      "text/plain": [
       "  ... working at frequency = 7442.0 Hz:   0%|          | 0/100 [00:00<?, ?it/s]"
      ]
     },
     "metadata": {},
     "output_type": "display_data"
    },
    {
     "data": {
      "application/vnd.jupyter.widget-view+json": {
       "model_id": "",
       "version_major": 2,
       "version_minor": 0
      },
      "text/plain": [
       "  ... working at frequency = 7482.0 Hz:   0%|          | 0/100 [00:00<?, ?it/s]"
      ]
     },
     "metadata": {},
     "output_type": "display_data"
    },
    {
     "data": {
      "application/vnd.jupyter.widget-view+json": {
       "model_id": "",
       "version_major": 2,
       "version_minor": 0
      },
      "text/plain": [
       "  ... working at frequency = 7522.0 Hz:   0%|          | 0/100 [00:00<?, ?it/s]"
      ]
     },
     "metadata": {},
     "output_type": "display_data"
    },
    {
     "data": {
      "application/vnd.jupyter.widget-view+json": {
       "model_id": "",
       "version_major": 2,
       "version_minor": 0
      },
      "text/plain": [
       "  ... working at frequency = 7562.0 Hz:   0%|          | 0/100 [00:00<?, ?it/s]"
      ]
     },
     "metadata": {},
     "output_type": "display_data"
    },
    {
     "data": {
      "application/vnd.jupyter.widget-view+json": {
       "model_id": "",
       "version_major": 2,
       "version_minor": 0
      },
      "text/plain": [
       "  ... working at frequency = 7602.0 Hz:   0%|          | 0/100 [00:00<?, ?it/s]"
      ]
     },
     "metadata": {},
     "output_type": "display_data"
    },
    {
     "data": {
      "application/vnd.jupyter.widget-view+json": {
       "model_id": "",
       "version_major": 2,
       "version_minor": 0
      },
      "text/plain": [
       "  ... working at frequency = 7642.0 Hz:   0%|          | 0/100 [00:00<?, ?it/s]"
      ]
     },
     "metadata": {},
     "output_type": "display_data"
    },
    {
     "data": {
      "application/vnd.jupyter.widget-view+json": {
       "model_id": "",
       "version_major": 2,
       "version_minor": 0
      },
      "text/plain": [
       "  ... working at frequency = 7682.0 Hz:   0%|          | 0/100 [00:00<?, ?it/s]"
      ]
     },
     "metadata": {},
     "output_type": "display_data"
    },
    {
     "data": {
      "application/vnd.jupyter.widget-view+json": {
       "model_id": "",
       "version_major": 2,
       "version_minor": 0
      },
      "text/plain": [
       "  ... working at frequency = 7722.0 Hz:   0%|          | 0/100 [00:00<?, ?it/s]"
      ]
     },
     "metadata": {},
     "output_type": "display_data"
    },
    {
     "data": {
      "application/vnd.jupyter.widget-view+json": {
       "model_id": "",
       "version_major": 2,
       "version_minor": 0
      },
      "text/plain": [
       "  ... working at frequency = 7762.0 Hz:   0%|          | 0/100 [00:00<?, ?it/s]"
      ]
     },
     "metadata": {},
     "output_type": "display_data"
    },
    {
     "data": {
      "application/vnd.jupyter.widget-view+json": {
       "model_id": "",
       "version_major": 2,
       "version_minor": 0
      },
      "text/plain": [
       "  ... working at frequency = 7802.0 Hz:   0%|          | 0/100 [00:00<?, ?it/s]"
      ]
     },
     "metadata": {},
     "output_type": "display_data"
    },
    {
     "data": {
      "application/vnd.jupyter.widget-view+json": {
       "model_id": "",
       "version_major": 2,
       "version_minor": 0
      },
      "text/plain": [
       "  ... working at frequency = 7842.0 Hz:   0%|          | 0/100 [00:00<?, ?it/s]"
      ]
     },
     "metadata": {},
     "output_type": "display_data"
    },
    {
     "data": {
      "application/vnd.jupyter.widget-view+json": {
       "model_id": "",
       "version_major": 2,
       "version_minor": 0
      },
      "text/plain": [
       "  ... working at frequency = 7882.0 Hz:   0%|          | 0/100 [00:00<?, ?it/s]"
      ]
     },
     "metadata": {},
     "output_type": "display_data"
    },
    {
     "data": {
      "application/vnd.jupyter.widget-view+json": {
       "model_id": "",
       "version_major": 2,
       "version_minor": 0
      },
      "text/plain": [
       "  ... working at frequency = 7922.0 Hz:   0%|          | 0/100 [00:00<?, ?it/s]"
      ]
     },
     "metadata": {},
     "output_type": "display_data"
    },
    {
     "data": {
      "application/vnd.jupyter.widget-view+json": {
       "model_id": "",
       "version_major": 2,
       "version_minor": 0
      },
      "text/plain": [
       "  ... working at frequency = 7962.0 Hz:   0%|          | 0/100 [00:00<?, ?it/s]"
      ]
     },
     "metadata": {},
     "output_type": "display_data"
    },
    {
     "data": {
      "application/vnd.jupyter.widget-view+json": {
       "model_id": "",
       "version_major": 2,
       "version_minor": 0
      },
      "text/plain": [
       "  ... working at frequency = 8002.0 Hz:   0%|          | 0/100 [00:00<?, ?it/s]"
      ]
     },
     "metadata": {},
     "output_type": "display_data"
    },
    {
     "data": {
      "application/vnd.jupyter.widget-view+json": {
       "model_id": "",
       "version_major": 2,
       "version_minor": 0
      },
      "text/plain": [
       "  ... working at frequency = 8042.0 Hz:   0%|          | 0/100 [00:00<?, ?it/s]"
      ]
     },
     "metadata": {},
     "output_type": "display_data"
    },
    {
     "data": {
      "application/vnd.jupyter.widget-view+json": {
       "model_id": "",
       "version_major": 2,
       "version_minor": 0
      },
      "text/plain": [
       "  ... working at frequency = 8082.0 Hz:   0%|          | 0/100 [00:00<?, ?it/s]"
      ]
     },
     "metadata": {},
     "output_type": "display_data"
    },
    {
     "data": {
      "application/vnd.jupyter.widget-view+json": {
       "model_id": "",
       "version_major": 2,
       "version_minor": 0
      },
      "text/plain": [
       "  ... working at frequency = 8122.0 Hz:   0%|          | 0/100 [00:00<?, ?it/s]"
      ]
     },
     "metadata": {},
     "output_type": "display_data"
    },
    {
     "data": {
      "application/vnd.jupyter.widget-view+json": {
       "model_id": "",
       "version_major": 2,
       "version_minor": 0
      },
      "text/plain": [
       "  ... working at frequency = 8162.0 Hz:   0%|          | 0/100 [00:00<?, ?it/s]"
      ]
     },
     "metadata": {},
     "output_type": "display_data"
    },
    {
     "data": {
      "application/vnd.jupyter.widget-view+json": {
       "model_id": "",
       "version_major": 2,
       "version_minor": 0
      },
      "text/plain": [
       "  ... working at frequency = 8202.0 Hz:   0%|          | 0/100 [00:00<?, ?it/s]"
      ]
     },
     "metadata": {},
     "output_type": "display_data"
    },
    {
     "data": {
      "application/vnd.jupyter.widget-view+json": {
       "model_id": "",
       "version_major": 2,
       "version_minor": 0
      },
      "text/plain": [
       "  ... working at frequency = 8242.0 Hz:   0%|          | 0/100 [00:00<?, ?it/s]"
      ]
     },
     "metadata": {},
     "output_type": "display_data"
    },
    {
     "data": {
      "application/vnd.jupyter.widget-view+json": {
       "model_id": "",
       "version_major": 2,
       "version_minor": 0
      },
      "text/plain": [
       "  ... working at frequency = 8282.0 Hz:   0%|          | 0/100 [00:00<?, ?it/s]"
      ]
     },
     "metadata": {},
     "output_type": "display_data"
    },
    {
     "data": {
      "application/vnd.jupyter.widget-view+json": {
       "model_id": "",
       "version_major": 2,
       "version_minor": 0
      },
      "text/plain": [
       "  ... working at frequency = 8322.0 Hz:   0%|          | 0/100 [00:00<?, ?it/s]"
      ]
     },
     "metadata": {},
     "output_type": "display_data"
    },
    {
     "data": {
      "application/vnd.jupyter.widget-view+json": {
       "model_id": "",
       "version_major": 2,
       "version_minor": 0
      },
      "text/plain": [
       "  ... working at frequency = 8362.0 Hz:   0%|          | 0/100 [00:00<?, ?it/s]"
      ]
     },
     "metadata": {},
     "output_type": "display_data"
    },
    {
     "data": {
      "application/vnd.jupyter.widget-view+json": {
       "model_id": "",
       "version_major": 2,
       "version_minor": 0
      },
      "text/plain": [
       "  ... working at frequency = 8402.0 Hz:   0%|          | 0/100 [00:00<?, ?it/s]"
      ]
     },
     "metadata": {},
     "output_type": "display_data"
    },
    {
     "data": {
      "application/vnd.jupyter.widget-view+json": {
       "model_id": "",
       "version_major": 2,
       "version_minor": 0
      },
      "text/plain": [
       "  ... working at frequency = 8442.0 Hz:   0%|          | 0/100 [00:00<?, ?it/s]"
      ]
     },
     "metadata": {},
     "output_type": "display_data"
    },
    {
     "data": {
      "application/vnd.jupyter.widget-view+json": {
       "model_id": "",
       "version_major": 2,
       "version_minor": 0
      },
      "text/plain": [
       "  ... working at frequency = 8482.0 Hz:   0%|          | 0/100 [00:00<?, ?it/s]"
      ]
     },
     "metadata": {},
     "output_type": "display_data"
    },
    {
     "data": {
      "application/vnd.jupyter.widget-view+json": {
       "model_id": "",
       "version_major": 2,
       "version_minor": 0
      },
      "text/plain": [
       "  ... working at frequency = 8522.0 Hz:   0%|          | 0/100 [00:00<?, ?it/s]"
      ]
     },
     "metadata": {},
     "output_type": "display_data"
    },
    {
     "data": {
      "application/vnd.jupyter.widget-view+json": {
       "model_id": "",
       "version_major": 2,
       "version_minor": 0
      },
      "text/plain": [
       "  ... working at frequency = 8562.0 Hz:   0%|          | 0/100 [00:00<?, ?it/s]"
      ]
     },
     "metadata": {},
     "output_type": "display_data"
    },
    {
     "data": {
      "application/vnd.jupyter.widget-view+json": {
       "model_id": "",
       "version_major": 2,
       "version_minor": 0
      },
      "text/plain": [
       "  ... working at frequency = 8602.0 Hz:   0%|          | 0/100 [00:00<?, ?it/s]"
      ]
     },
     "metadata": {},
     "output_type": "display_data"
    },
    {
     "data": {
      "application/vnd.jupyter.widget-view+json": {
       "model_id": "",
       "version_major": 2,
       "version_minor": 0
      },
      "text/plain": [
       "  ... working at frequency = 8642.0 Hz:   0%|          | 0/100 [00:00<?, ?it/s]"
      ]
     },
     "metadata": {},
     "output_type": "display_data"
    },
    {
     "data": {
      "application/vnd.jupyter.widget-view+json": {
       "model_id": "",
       "version_major": 2,
       "version_minor": 0
      },
      "text/plain": [
       "  ... working at frequency = 8682.0 Hz:   0%|          | 0/100 [00:00<?, ?it/s]"
      ]
     },
     "metadata": {},
     "output_type": "display_data"
    },
    {
     "data": {
      "application/vnd.jupyter.widget-view+json": {
       "model_id": "",
       "version_major": 2,
       "version_minor": 0
      },
      "text/plain": [
       "  ... working at frequency = 8722.0 Hz:   0%|          | 0/100 [00:00<?, ?it/s]"
      ]
     },
     "metadata": {},
     "output_type": "display_data"
    },
    {
     "data": {
      "application/vnd.jupyter.widget-view+json": {
       "model_id": "",
       "version_major": 2,
       "version_minor": 0
      },
      "text/plain": [
       "  ... working at frequency = 8762.0 Hz:   0%|          | 0/100 [00:00<?, ?it/s]"
      ]
     },
     "metadata": {},
     "output_type": "display_data"
    },
    {
     "data": {
      "application/vnd.jupyter.widget-view+json": {
       "model_id": "",
       "version_major": 2,
       "version_minor": 0
      },
      "text/plain": [
       "  ... working at frequency = 8802.0 Hz:   0%|          | 0/100 [00:00<?, ?it/s]"
      ]
     },
     "metadata": {},
     "output_type": "display_data"
    },
    {
     "data": {
      "application/vnd.jupyter.widget-view+json": {
       "model_id": "",
       "version_major": 2,
       "version_minor": 0
      },
      "text/plain": [
       "  ... working at frequency = 8842.0 Hz:   0%|          | 0/100 [00:00<?, ?it/s]"
      ]
     },
     "metadata": {},
     "output_type": "display_data"
    },
    {
     "data": {
      "application/vnd.jupyter.widget-view+json": {
       "model_id": "",
       "version_major": 2,
       "version_minor": 0
      },
      "text/plain": [
       "  ... working at frequency = 8882.0 Hz:   0%|          | 0/100 [00:00<?, ?it/s]"
      ]
     },
     "metadata": {},
     "output_type": "display_data"
    },
    {
     "data": {
      "application/vnd.jupyter.widget-view+json": {
       "model_id": "",
       "version_major": 2,
       "version_minor": 0
      },
      "text/plain": [
       "  ... working at frequency = 8922.0 Hz:   0%|          | 0/100 [00:00<?, ?it/s]"
      ]
     },
     "metadata": {},
     "output_type": "display_data"
    },
    {
     "data": {
      "application/vnd.jupyter.widget-view+json": {
       "model_id": "",
       "version_major": 2,
       "version_minor": 0
      },
      "text/plain": [
       "  ... working at frequency = 8962.0 Hz:   0%|          | 0/100 [00:00<?, ?it/s]"
      ]
     },
     "metadata": {},
     "output_type": "display_data"
    },
    {
     "data": {
      "application/vnd.jupyter.widget-view+json": {
       "model_id": "",
       "version_major": 2,
       "version_minor": 0
      },
      "text/plain": [
       "  ... working at frequency = 9002.0 Hz:   0%|          | 0/100 [00:00<?, ?it/s]"
      ]
     },
     "metadata": {},
     "output_type": "display_data"
    },
    {
     "data": {
      "application/vnd.jupyter.widget-view+json": {
       "model_id": "",
       "version_major": 2,
       "version_minor": 0
      },
      "text/plain": [
       "  ... working at frequency = 9042.0 Hz:   0%|          | 0/100 [00:00<?, ?it/s]"
      ]
     },
     "metadata": {},
     "output_type": "display_data"
    },
    {
     "data": {
      "application/vnd.jupyter.widget-view+json": {
       "model_id": "",
       "version_major": 2,
       "version_minor": 0
      },
      "text/plain": [
       "  ... working at frequency = 9082.0 Hz:   0%|          | 0/100 [00:00<?, ?it/s]"
      ]
     },
     "metadata": {},
     "output_type": "display_data"
    },
    {
     "data": {
      "application/vnd.jupyter.widget-view+json": {
       "model_id": "",
       "version_major": 2,
       "version_minor": 0
      },
      "text/plain": [
       "  ... working at frequency = 9122.0 Hz:   0%|          | 0/100 [00:00<?, ?it/s]"
      ]
     },
     "metadata": {},
     "output_type": "display_data"
    },
    {
     "data": {
      "application/vnd.jupyter.widget-view+json": {
       "model_id": "",
       "version_major": 2,
       "version_minor": 0
      },
      "text/plain": [
       "  ... working at frequency = 9162.0 Hz:   0%|          | 0/100 [00:00<?, ?it/s]"
      ]
     },
     "metadata": {},
     "output_type": "display_data"
    },
    {
     "data": {
      "application/vnd.jupyter.widget-view+json": {
       "model_id": "",
       "version_major": 2,
       "version_minor": 0
      },
      "text/plain": [
       "  ... working at frequency = 9202.0 Hz:   0%|          | 0/100 [00:00<?, ?it/s]"
      ]
     },
     "metadata": {},
     "output_type": "display_data"
    },
    {
     "data": {
      "application/vnd.jupyter.widget-view+json": {
       "model_id": "",
       "version_major": 2,
       "version_minor": 0
      },
      "text/plain": [
       "  ... working at frequency = 9242.0 Hz:   0%|          | 0/100 [00:00<?, ?it/s]"
      ]
     },
     "metadata": {},
     "output_type": "display_data"
    },
    {
     "data": {
      "application/vnd.jupyter.widget-view+json": {
       "model_id": "",
       "version_major": 2,
       "version_minor": 0
      },
      "text/plain": [
       "  ... working at frequency = 9282.0 Hz:   0%|          | 0/100 [00:00<?, ?it/s]"
      ]
     },
     "metadata": {},
     "output_type": "display_data"
    },
    {
     "data": {
      "application/vnd.jupyter.widget-view+json": {
       "model_id": "",
       "version_major": 2,
       "version_minor": 0
      },
      "text/plain": [
       "  ... working at frequency = 9322.0 Hz:   0%|          | 0/100 [00:00<?, ?it/s]"
      ]
     },
     "metadata": {},
     "output_type": "display_data"
    },
    {
     "data": {
      "application/vnd.jupyter.widget-view+json": {
       "model_id": "",
       "version_major": 2,
       "version_minor": 0
      },
      "text/plain": [
       "  ... working at frequency = 9362.0 Hz:   0%|          | 0/100 [00:00<?, ?it/s]"
      ]
     },
     "metadata": {},
     "output_type": "display_data"
    },
    {
     "data": {
      "application/vnd.jupyter.widget-view+json": {
       "model_id": "",
       "version_major": 2,
       "version_minor": 0
      },
      "text/plain": [
       "  ... working at frequency = 9402.0 Hz:   0%|          | 0/100 [00:00<?, ?it/s]"
      ]
     },
     "metadata": {},
     "output_type": "display_data"
    },
    {
     "data": {
      "application/vnd.jupyter.widget-view+json": {
       "model_id": "",
       "version_major": 2,
       "version_minor": 0
      },
      "text/plain": [
       "  ... working at frequency = 9442.0 Hz:   0%|          | 0/100 [00:00<?, ?it/s]"
      ]
     },
     "metadata": {},
     "output_type": "display_data"
    },
    {
     "data": {
      "application/vnd.jupyter.widget-view+json": {
       "model_id": "",
       "version_major": 2,
       "version_minor": 0
      },
      "text/plain": [
       "  ... working at frequency = 9482.0 Hz:   0%|          | 0/100 [00:00<?, ?it/s]"
      ]
     },
     "metadata": {},
     "output_type": "display_data"
    },
    {
     "data": {
      "application/vnd.jupyter.widget-view+json": {
       "model_id": "",
       "version_major": 2,
       "version_minor": 0
      },
      "text/plain": [
       "  ... working at frequency = 9522.0 Hz:   0%|          | 0/100 [00:00<?, ?it/s]"
      ]
     },
     "metadata": {},
     "output_type": "display_data"
    },
    {
     "data": {
      "application/vnd.jupyter.widget-view+json": {
       "model_id": "",
       "version_major": 2,
       "version_minor": 0
      },
      "text/plain": [
       "  ... working at frequency = 9562.0 Hz:   0%|          | 0/100 [00:00<?, ?it/s]"
      ]
     },
     "metadata": {},
     "output_type": "display_data"
    },
    {
     "data": {
      "application/vnd.jupyter.widget-view+json": {
       "model_id": "",
       "version_major": 2,
       "version_minor": 0
      },
      "text/plain": [
       "  ... working at frequency = 9602.0 Hz:   0%|          | 0/100 [00:00<?, ?it/s]"
      ]
     },
     "metadata": {},
     "output_type": "display_data"
    },
    {
     "data": {
      "application/vnd.jupyter.widget-view+json": {
       "model_id": "",
       "version_major": 2,
       "version_minor": 0
      },
      "text/plain": [
       "  ... working at frequency = 9642.0 Hz:   0%|          | 0/100 [00:00<?, ?it/s]"
      ]
     },
     "metadata": {},
     "output_type": "display_data"
    },
    {
     "data": {
      "application/vnd.jupyter.widget-view+json": {
       "model_id": "",
       "version_major": 2,
       "version_minor": 0
      },
      "text/plain": [
       "  ... working at frequency = 9682.0 Hz:   0%|          | 0/100 [00:00<?, ?it/s]"
      ]
     },
     "metadata": {},
     "output_type": "display_data"
    },
    {
     "data": {
      "application/vnd.jupyter.widget-view+json": {
       "model_id": "",
       "version_major": 2,
       "version_minor": 0
      },
      "text/plain": [
       "  ... working at frequency = 9722.0 Hz:   0%|          | 0/100 [00:00<?, ?it/s]"
      ]
     },
     "metadata": {},
     "output_type": "display_data"
    },
    {
     "data": {
      "application/vnd.jupyter.widget-view+json": {
       "model_id": "",
       "version_major": 2,
       "version_minor": 0
      },
      "text/plain": [
       "  ... working at frequency = 9762.0 Hz:   0%|          | 0/100 [00:00<?, ?it/s]"
      ]
     },
     "metadata": {},
     "output_type": "display_data"
    },
    {
     "data": {
      "application/vnd.jupyter.widget-view+json": {
       "model_id": "",
       "version_major": 2,
       "version_minor": 0
      },
      "text/plain": [
       "  ... working at frequency = 9802.0 Hz:   0%|          | 0/100 [00:00<?, ?it/s]"
      ]
     },
     "metadata": {},
     "output_type": "display_data"
    },
    {
     "data": {
      "application/vnd.jupyter.widget-view+json": {
       "model_id": "",
       "version_major": 2,
       "version_minor": 0
      },
      "text/plain": [
       "  ... working at frequency = 9842.0 Hz:   0%|          | 0/100 [00:00<?, ?it/s]"
      ]
     },
     "metadata": {},
     "output_type": "display_data"
    },
    {
     "data": {
      "application/vnd.jupyter.widget-view+json": {
       "model_id": "",
       "version_major": 2,
       "version_minor": 0
      },
      "text/plain": [
       "  ... working at frequency = 9882.0 Hz:   0%|          | 0/100 [00:00<?, ?it/s]"
      ]
     },
     "metadata": {},
     "output_type": "display_data"
    },
    {
     "data": {
      "application/vnd.jupyter.widget-view+json": {
       "model_id": "",
       "version_major": 2,
       "version_minor": 0
      },
      "text/plain": [
       "  ... working at frequency = 9922.0 Hz:   0%|          | 0/100 [00:00<?, ?it/s]"
      ]
     },
     "metadata": {},
     "output_type": "display_data"
    },
    {
     "data": {
      "application/vnd.jupyter.widget-view+json": {
       "model_id": "",
       "version_major": 2,
       "version_minor": 0
      },
      "text/plain": [
       "  ... working at frequency = 9962.0 Hz:   0%|          | 0/100 [00:00<?, ?it/s]"
      ]
     },
     "metadata": {},
     "output_type": "display_data"
    },
    {
     "data": {
      "application/vnd.jupyter.widget-view+json": {
       "model_id": "",
       "version_major": 2,
       "version_minor": 0
      },
      "text/plain": [
       "  ... working at frequency = 10002.0 Hz:   0%|          | 0/100 [00:00<?, ?it/s]"
      ]
     },
     "metadata": {},
     "output_type": "display_data"
    },
    {
     "data": {
      "application/vnd.jupyter.widget-view+json": {
       "model_id": "8c0cebddfd79478295efb0676c07208a",
       "version_major": 2,
       "version_minor": 0
      },
      "text/plain": [
       "  ... working at frequency = 10042.0 Hz:   0%|          | 0/100 [00:00<?, ?it/s]"
      ]
     },
     "metadata": {},
     "output_type": "display_data"
    },
    {
     "name": "stdout",
     "output_type": "stream",
     "text": [
      "\n",
      "\n"
     ]
    }
   ],
   "source": [
    "## Find roots of wavenumber in the equation of determinant\n",
    "horn_1_11.wavenumer_array, horn_1_11.failed_root = horn_1_11.axial_wavenumber_array()"
   ]
  },
  {
   "cell_type": "code",
   "execution_count": 14,
   "metadata": {},
   "outputs": [
    {
     "name": "stdout",
     "output_type": "stream",
     "text": [
      "self.frequency_array.shape[0] = 252 is same as self.wavenumer_array.shape[0] = 252\n",
      "Save file to /Users/chenghunglin/Documents/horn_1_11.xlsx\n"
     ]
    }
   ],
   "source": [
    "## Save the data\n",
    "fp = '/Users/chenghunglin/Documents/'\n",
    "fn = 'horn_1_11.xlsx'\n",
    "horn_1_11.save_data(fp, fn)"
   ]
  },
  {
   "cell_type": "code",
   "execution_count": null,
   "metadata": {},
   "outputs": [],
   "source": []
  },
  {
   "cell_type": "markdown",
   "metadata": {},
   "source": [
    "## Plot data to compare with the paper"
   ]
  },
  {
   "cell_type": "code",
   "execution_count": 15,
   "metadata": {},
   "outputs": [
    {
     "name": "stdout",
     "output_type": "stream",
     "text": [
      "self.frequency_array.shape[0] = 252 is same as self.wavenumer_array.shape[0] = 252\n"
     ]
    },
    {
     "data": {
      "text/plain": [
       "<matplotlib.legend.Legend at 0x15967eba0>"
      ]
     },
     "execution_count": 15,
     "metadata": {},
     "output_type": "execute_result"
    },
    {
     "data": {
      "application/vnd.jupyter.widget-view+json": {
       "model_id": "f7557acf747f411fbc980162f3f72162",
       "version_major": 2,
       "version_minor": 0
      },
      "image/png": "[encoded data removed]",
      "text/html": [
       "\n",
       "            <div style=\"display: inline-block;\">\n",
       "                <div class=\"jupyter-widgets widget-label\" style=\"text-align: center;\">\n",
       "                    Figure\n",
       "                </div>\n",
       "                <img src='data:image/png;base64,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' width=640.0/>\n",
       "            </div>\n",
       "        "
      ],
      "text/plain": [
       "Canvas(toolbar=Toolbar(toolitems=[('Home', 'Reset original view', 'home', 'home'), ('Back', 'Back to previous …"
      ]
     },
     "metadata": {},
     "output_type": "display_data"
    }
   ],
   "source": [
    "plt.figure()\n",
    "# plt.plot(cone_4_8.frequency_array, cone_4_8.absorption_frequency(), label='cone, p=4, q=8, Young=0.14 Gpa')\n",
    "# plt.plot(cone_4_8_1.frequency_array, cone_4_8_1.absorption_frequency(), label='cone, p=4, q=8, Young=0.014 Gpa')\n",
    "# plt.plot(cone_4_8_3.frequency_array, cone_4_8_3.absorption_frequency(), '--', color='orange', label='cone, p=4, q=8, Young=0.014 Gpa')\n",
    "plt.plot(horn_1_11.frequency_array, horn_1_11.absorption_frequency(), label='horn, p=1, q=11')\n",
    "plt.legend()"
   ]
  },
  {
   "cell_type": "code",
   "execution_count": null,
   "metadata": {},
   "outputs": [],
   "source": [
    "# plt.figure()\n",
    "# plt.plot(cone_4_8.frequency_array, cone_4_8.absorption_frequency(), color='blue', label='cone, p=4, q=8, Young=0.14 Gpa, step=200Hz')\n",
    "# plt.plot(cone_4_8_4.frequency_array, cone_4_8_4.absorption_frequency(), '--', color='blue',label='cone, p=4, q=8, Young=0.14 Gpa, step=25Hz')\n",
    "# plt.plot(cone_4_8_1.frequency_array, cone_4_8_1.absorption_frequency(), color='orange', label='cone, p=4, q=8, Young=0.014 Gpa, step=200Hz')\n",
    "# plt.plot(cone_4_8_5.frequency_array, cone_4_8_5.absorption_frequency(), '--', color='orange', label='cone, p=4, q=8, Young=0.014 Gpa, step=25Hz')\n",
    "# plt.plot(horn_1_11.frequency_array, horn_1_11.absorption_frequency(), label='horn, p=1, q=11')\n",
    "# legend_properties = {'weight':'regular', 'size':8}    \n",
    "# plt.legend(prop=legend_properties, loc='upper left') #, bbox_to_anchor=(1, 0.5))\n",
    "# plt.legend()"
   ]
  },
  {
   "cell_type": "code",
   "execution_count": null,
   "metadata": {},
   "outputs": [],
   "source": []
  }
 ],
 "metadata": {
  "anaconda-cloud": {},
  "kernelspec": {
   "display_name": "Python 3 (ipykernel)",
   "language": "python",
   "name": "python3"
  },
  "language_info": {
   "codemirror_mode": {
    "name": "ipython",
    "version": 3
   },
   "file_extension": ".py",
   "mimetype": "text/x-python",
   "name": "python",
   "nbconvert_exporter": "python",
   "pygments_lexer": "ipython3",
   "version": "3.12.2"
  }
 },
 "nbformat": 4,
 "nbformat_minor": 4
}
