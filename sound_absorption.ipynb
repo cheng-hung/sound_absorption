{
 "cells": [
  {
   "cell_type": "code",
   "execution_count": 1,
   "metadata": {
    "collapsed": false,
    "jupyter": {
     "outputs_hidden": false
    }
   },
   "outputs": [],
   "source": [
    "import numpy as np\n",
    "import matplotlib.pyplot as plt\n",
    "import pandas as pd"
   ]
  },
  {
   "cell_type": "code",
   "execution_count": 2,
   "metadata": {},
   "outputs": [],
   "source": [
    "%matplotlib widget"
   ]
  },
  {
   "cell_type": "code",
   "execution_count": 23,
   "metadata": {},
   "outputs": [],
   "source": [
    "import warnings\n",
    "warnings.filterwarnings(\"ignore\", category=RuntimeWarning)\n",
    "warnings.filterwarnings(\"ignore\", category=pd.errors.PerformanceWarning)"
   ]
  },
  {
   "cell_type": "markdown",
   "metadata": {
    "tags": []
   },
   "source": [
    "### Reference: Influence of hole shape on sound absorption of underwater anechoic layers\n",
    "#### https://www.sciencedirect.com/science/article/abs/pii/S0022460X1830227X"
   ]
  },
  {
   "cell_type": "markdown",
   "metadata": {},
   "source": [
    "### Import pre-defined class and function"
   ]
  },
  {
   "cell_type": "code",
   "execution_count": 4,
   "metadata": {},
   "outputs": [],
   "source": [
    "%run -i hole_shape_sound_absorption.py"
   ]
  },
  {
   "cell_type": "markdown",
   "metadata": {},
   "source": [
    "### Define the determinant of the coefficient matrix of eq(14) in the paper"
   ]
  },
  {
   "cell_type": "code",
   "execution_count": 5,
   "metadata": {},
   "outputs": [
    {
     "data": {
      "text/latex": [
       "$\\displaystyle \\left[\\begin{matrix}- \\sqrt{- kz^{2} + \\frac{\\omega^{2}}{cl^{2}}} J_{1}\\left(b \\sqrt{- kz^{2} + \\frac{\\omega^{2}}{cl^{2}}}\\right) & - \\sqrt{- kz^{2} + \\frac{\\omega^{2}}{cl^{2}}} Y_{1}\\left(b \\sqrt{- kz^{2} + \\frac{\\omega^{2}}{cl^{2}}}\\right) & - i kz \\sqrt{- kz^{2} + \\frac{\\omega^{2}}{ct^{2}}} J_{1}\\left(b \\sqrt{- kz^{2} + \\frac{\\omega^{2}}{ct^{2}}}\\right) & - i kz \\sqrt{- kz^{2} + \\frac{\\omega^{2}}{ct^{2}}} Y_{1}\\left(b \\sqrt{- kz^{2} + \\frac{\\omega^{2}}{ct^{2}}}\\right)\\\\\\left(- 2 \\mu \\left(- kz^{2} + \\frac{\\omega^{2}}{cl^{2}}\\right) - \\frac{\\lambda \\omega^{2}}{cl^{2}}\\right) J_{0}\\left(a \\sqrt{- kz^{2} + \\frac{\\omega^{2}}{cl^{2}}}\\right) + \\frac{2 \\mu \\sqrt{- kz^{2} + \\frac{\\omega^{2}}{cl^{2}}} J_{1}\\left(a \\sqrt{- kz^{2} + \\frac{\\omega^{2}}{cl^{2}}}\\right)}{a} & \\left(- 2 \\mu \\left(- kz^{2} + \\frac{\\omega^{2}}{cl^{2}}\\right) - \\frac{\\lambda \\omega^{2}}{cl^{2}}\\right) Y_{0}\\left(a \\sqrt{- kz^{2} + \\frac{\\omega^{2}}{cl^{2}}}\\right) + \\frac{2 \\mu \\sqrt{- kz^{2} + \\frac{\\omega^{2}}{cl^{2}}} Y_{1}\\left(a \\sqrt{- kz^{2} + \\frac{\\omega^{2}}{cl^{2}}}\\right)}{a} & 2 i kz \\mu \\sqrt{- kz^{2} + \\frac{\\omega^{2}}{ct^{2}}} \\left(- \\sqrt{- kz^{2} + \\frac{\\omega^{2}}{ct^{2}}} J_{0}\\left(a \\sqrt{- kz^{2} + \\frac{\\omega^{2}}{ct^{2}}}\\right) + \\frac{J_{1}\\left(a \\sqrt{- kz^{2} + \\frac{\\omega^{2}}{ct^{2}}}\\right)}{a}\\right) & 2 i kz \\mu \\sqrt{- kz^{2} + \\frac{\\omega^{2}}{ct^{2}}} \\left(- \\sqrt{- kz^{2} + \\frac{\\omega^{2}}{ct^{2}}} Y_{0}\\left(a \\sqrt{- kz^{2} + \\frac{\\omega^{2}}{ct^{2}}}\\right) + \\frac{Y_{1}\\left(a \\sqrt{- kz^{2} + \\frac{\\omega^{2}}{ct^{2}}}\\right)}{a}\\right)\\\\- 2 i kz \\mu \\sqrt{- kz^{2} + \\frac{\\omega^{2}}{cl^{2}}} J_{1}\\left(a \\sqrt{- kz^{2} + \\frac{\\omega^{2}}{cl^{2}}}\\right) & - 2 i kz \\mu \\sqrt{- kz^{2} + \\frac{\\omega^{2}}{cl^{2}}} Y_{1}\\left(a \\sqrt{- kz^{2} + \\frac{\\omega^{2}}{cl^{2}}}\\right) & \\mu \\sqrt{- kz^{2} + \\frac{\\omega^{2}}{ct^{2}}} \\cdot \\left(2 kz^{2} - \\frac{\\omega^{2}}{ct^{2}}\\right) J_{1}\\left(a \\sqrt{- kz^{2} + \\frac{\\omega^{2}}{ct^{2}}}\\right) & \\mu \\sqrt{- kz^{2} + \\frac{\\omega^{2}}{ct^{2}}} \\cdot \\left(2 kz^{2} - \\frac{\\omega^{2}}{ct^{2}}\\right) Y_{1}\\left(a \\sqrt{- kz^{2} + \\frac{\\omega^{2}}{ct^{2}}}\\right)\\\\- 2 i kz \\mu \\sqrt{- kz^{2} + \\frac{\\omega^{2}}{cl^{2}}} J_{1}\\left(b \\sqrt{- kz^{2} + \\frac{\\omega^{2}}{cl^{2}}}\\right) & - 2 i kz \\mu \\sqrt{- kz^{2} + \\frac{\\omega^{2}}{cl^{2}}} Y_{1}\\left(b \\sqrt{- kz^{2} + \\frac{\\omega^{2}}{cl^{2}}}\\right) & \\mu \\sqrt{- kz^{2} + \\frac{\\omega^{2}}{ct^{2}}} \\cdot \\left(2 kz^{2} - \\frac{\\omega^{2}}{ct^{2}}\\right) J_{1}\\left(b \\sqrt{- kz^{2} + \\frac{\\omega^{2}}{ct^{2}}}\\right) & \\mu \\sqrt{- kz^{2} + \\frac{\\omega^{2}}{ct^{2}}} \\cdot \\left(2 kz^{2} - \\frac{\\omega^{2}}{ct^{2}}\\right) Y_{1}\\left(b \\sqrt{- kz^{2} + \\frac{\\omega^{2}}{ct^{2}}}\\right)\\end{matrix}\\right]$"
      ],
      "text/plain": [
       "Matrix([\n",
       "[                                                                                                              -sqrt(-kz**2 + omega**2/cl**2)*besselj(1, b*sqrt(-kz**2 + omega**2/cl**2)),                                                                                                               -sqrt(-kz**2 + omega**2/cl**2)*bessely(1, b*sqrt(-kz**2 + omega**2/cl**2)),                                                                                      -I*kz*sqrt(-kz**2 + omega**2/ct**2)*besselj(1, b*sqrt(-kz**2 + omega**2/ct**2)),                                                                                      -I*kz*sqrt(-kz**2 + omega**2/ct**2)*bessely(1, b*sqrt(-kz**2 + omega**2/ct**2))],\n",
       "[(-2*mu*(-kz**2 + omega**2/cl**2) - lambda*omega**2/cl**2)*besselj(0, a*sqrt(-kz**2 + omega**2/cl**2)) + 2*mu*sqrt(-kz**2 + omega**2/cl**2)*besselj(1, a*sqrt(-kz**2 + omega**2/cl**2))/a, (-2*mu*(-kz**2 + omega**2/cl**2) - lambda*omega**2/cl**2)*bessely(0, a*sqrt(-kz**2 + omega**2/cl**2)) + 2*mu*sqrt(-kz**2 + omega**2/cl**2)*bessely(1, a*sqrt(-kz**2 + omega**2/cl**2))/a, 2*I*kz*mu*sqrt(-kz**2 + omega**2/ct**2)*(-sqrt(-kz**2 + omega**2/ct**2)*besselj(0, a*sqrt(-kz**2 + omega**2/ct**2)) + besselj(1, a*sqrt(-kz**2 + omega**2/ct**2))/a), 2*I*kz*mu*sqrt(-kz**2 + omega**2/ct**2)*(-sqrt(-kz**2 + omega**2/ct**2)*bessely(0, a*sqrt(-kz**2 + omega**2/ct**2)) + bessely(1, a*sqrt(-kz**2 + omega**2/ct**2))/a)],\n",
       "[                                                                                                    -2*I*kz*mu*sqrt(-kz**2 + omega**2/cl**2)*besselj(1, a*sqrt(-kz**2 + omega**2/cl**2)),                                                                                                     -2*I*kz*mu*sqrt(-kz**2 + omega**2/cl**2)*bessely(1, a*sqrt(-kz**2 + omega**2/cl**2)),                                                              mu*sqrt(-kz**2 + omega**2/ct**2)*(2*kz**2 - omega**2/ct**2)*besselj(1, a*sqrt(-kz**2 + omega**2/ct**2)),                                                              mu*sqrt(-kz**2 + omega**2/ct**2)*(2*kz**2 - omega**2/ct**2)*bessely(1, a*sqrt(-kz**2 + omega**2/ct**2))],\n",
       "[                                                                                                    -2*I*kz*mu*sqrt(-kz**2 + omega**2/cl**2)*besselj(1, b*sqrt(-kz**2 + omega**2/cl**2)),                                                                                                     -2*I*kz*mu*sqrt(-kz**2 + omega**2/cl**2)*bessely(1, b*sqrt(-kz**2 + omega**2/cl**2)),                                                              mu*sqrt(-kz**2 + omega**2/ct**2)*(2*kz**2 - omega**2/ct**2)*besselj(1, b*sqrt(-kz**2 + omega**2/ct**2)),                                                              mu*sqrt(-kz**2 + omega**2/ct**2)*(2*kz**2 - omega**2/ct**2)*bessely(1, b*sqrt(-kz**2 + omega**2/ct**2))]])"
      ]
     },
     "execution_count": 5,
     "metadata": {},
     "output_type": "execute_result"
    }
   ],
   "source": [
    "determinant, mat = determinant_from_matrix()\n",
    "mat"
   ]
  },
  {
   "cell_type": "code",
   "execution_count": null,
   "metadata": {},
   "outputs": [],
   "source": []
  },
  {
   "cell_type": "markdown",
   "metadata": {},
   "source": [
    "### Define the frequency array by np.arange"
   ]
  },
  {
   "cell_type": "code",
   "execution_count": 6,
   "metadata": {},
   "outputs": [],
   "source": [
    "# np.arange?"
   ]
  },
  {
   "cell_type": "code",
   "execution_count": 7,
   "metadata": {},
   "outputs": [],
   "source": [
    "# frequency_array = np.arange(20, 10021, 100)\n",
    "# frequency_array"
   ]
  },
  {
   "cell_type": "markdown",
   "metadata": {
    "tags": []
   },
   "source": [
    "## Define an object of sound_performance for calculating sound absorption\n",
    "### The default values are listed as below (all in SI units)\n",
    "\n",
    "Material of anechoic layer: rubber\n",
    "\n",
    "Young's modulus of rubber (GPa): 0.14\n",
    "\n",
    "Loss factor of rubber 0.23\n",
    "\n",
    "Poisson ratio of rubber 0.49\n",
    "\n",
    "Density of rubber (kg/m3): 1100\n",
    "\n",
    "Density of air (kg/m3): 1.21\n",
    "\n",
    "Shape: cone\n",
    "\n",
    "p = 4 mm\n",
    "\n",
    "q = 8 mm\n",
    "\n",
    "lh = 40 mm\n",
    "\n",
    "cell_radius = 15 mm\n",
    "\n",
    "num_segments = 100\n",
    "\n",
    "Density of water (kg/m3): 998\n",
    "\n",
    "Sound speed of water (m/s): 1483\n",
    "\n",
    "#### https://en.wikipedia.org/wiki/Lam%C3%A9_parameters"
   ]
  },
  {
   "cell_type": "code",
   "execution_count": 8,
   "metadata": {},
   "outputs": [
    {
     "data": {
      "text/plain": [
       "(201,)"
      ]
     },
     "execution_count": 8,
     "metadata": {},
     "output_type": "execute_result"
    }
   ],
   "source": [
    "frequency_array = np.arange(2, 10052, 50)\n",
    "frequency_array.shape"
   ]
  },
  {
   "cell_type": "markdown",
   "metadata": {},
   "source": [
    "### Example 01: default case"
   ]
  },
  {
   "cell_type": "code",
   "execution_count": 9,
   "metadata": {},
   "outputs": [],
   "source": [
    "# frequency_array = np.asarray([20, 4620])\n",
    "# cone_4_8_4 = sound_performance(determinant, frequency_array)\n",
    "cone_4_8 = sound_performance(determinant, frequency_array)\n",
    "cone_6_3 = sound_performance(determinant, frequency_array)"
   ]
  },
  {
   "cell_type": "code",
   "execution_count": 10,
   "metadata": {},
   "outputs": [
    {
     "name": "stdout",
     "output_type": "stream",
     "text": [
      "cone_6_3.material = 'rubber'\n",
      "cone_6_3.shape = 'cone'\n",
      "cone_6_3.Young = 140000000.0\n",
      "cone_4_8.p_hole = 0.004\n",
      "cone_4_8.q_hole = 0.008\n"
     ]
    }
   ],
   "source": [
    "print(f'{cone_6_3.material = }')\n",
    "print(f'{cone_6_3.shape = }')\n",
    "print(f'{cone_6_3.Young = }')\n",
    "print(f'{cone_4_8.p_hole = }')\n",
    "print(f'{cone_4_8.q_hole = }')"
   ]
  },
  {
   "cell_type": "code",
   "execution_count": 11,
   "metadata": {},
   "outputs": [],
   "source": [
    "# cone_4_8_4.segments = 50\n",
    "cone_4_8.segments = 50\n",
    "cone_6_3.segments = 50"
   ]
  },
  {
   "cell_type": "code",
   "execution_count": 12,
   "metadata": {},
   "outputs": [],
   "source": [
    "# cone_4_8_5.Young = 1.4e7"
   ]
  },
  {
   "cell_type": "code",
   "execution_count": 13,
   "metadata": {},
   "outputs": [],
   "source": [
    "cone_6_3.p_hole = 0.006"
   ]
  },
  {
   "cell_type": "code",
   "execution_count": 14,
   "metadata": {},
   "outputs": [],
   "source": [
    "cone_6_3.q_hole = 0.003"
   ]
  },
  {
   "cell_type": "code",
   "execution_count": 15,
   "metadata": {},
   "outputs": [],
   "source": [
    "# cone_4_8.Young = 150\n",
    "# cone_4_8.shape = 'horn'"
   ]
  },
  {
   "cell_type": "code",
   "execution_count": null,
   "metadata": {},
   "outputs": [],
   "source": []
  },
  {
   "cell_type": "code",
   "execution_count": 16,
   "metadata": {},
   "outputs": [
    {
     "name": "stdout",
     "output_type": "stream",
     "text": [
      "Solving wavenumber in determinant for shape = cone, p = 0.004, q = 0.008, Young's = 140000000.0\n"
     ]
    },
    {
     "data": {
      "application/vnd.jupyter.widget-view+json": {
       "model_id": "16b85fec9d674863ba6d59e96ad85298",
       "version_major": 2,
       "version_minor": 0
      },
      "text/plain": [
       "Solving for all frequencies:   0%|          | 0/201 [00:00<?, ?it/s]"
      ]
     },
     "metadata": {},
     "output_type": "display_data"
    },
    {
     "data": {
      "application/vnd.jupyter.widget-view+json": {
       "model_id": "",
       "version_major": 2,
       "version_minor": 0
      },
      "text/plain": [
       "  ... working at frequency = 2.0 Hz:   0%|          | 0/50 [00:00<?, ?it/s]"
      ]
     },
     "metadata": {},
     "output_type": "display_data"
    },
    {
     "data": {
      "application/vnd.jupyter.widget-view+json": {
       "model_id": "",
       "version_major": 2,
       "version_minor": 0
      },
      "text/plain": [
       "  ... working at frequency = 52.0 Hz:   0%|          | 0/50 [00:00<?, ?it/s]"
      ]
     },
     "metadata": {},
     "output_type": "display_data"
    },
    {
     "data": {
      "application/vnd.jupyter.widget-view+json": {
       "model_id": "",
       "version_major": 2,
       "version_minor": 0
      },
      "text/plain": [
       "  ... working at frequency = 102.0 Hz:   0%|          | 0/50 [00:00<?, ?it/s]"
      ]
     },
     "metadata": {},
     "output_type": "display_data"
    },
    {
     "data": {
      "application/vnd.jupyter.widget-view+json": {
       "model_id": "",
       "version_major": 2,
       "version_minor": 0
      },
      "text/plain": [
       "  ... working at frequency = 152.0 Hz:   0%|          | 0/50 [00:00<?, ?it/s]"
      ]
     },
     "metadata": {},
     "output_type": "display_data"
    },
    {
     "data": {
      "application/vnd.jupyter.widget-view+json": {
       "model_id": "",
       "version_major": 2,
       "version_minor": 0
      },
      "text/plain": [
       "  ... working at frequency = 202.0 Hz:   0%|          | 0/50 [00:00<?, ?it/s]"
      ]
     },
     "metadata": {},
     "output_type": "display_data"
    },
    {
     "data": {
      "application/vnd.jupyter.widget-view+json": {
       "model_id": "",
       "version_major": 2,
       "version_minor": 0
      },
      "text/plain": [
       "  ... working at frequency = 252.0 Hz:   0%|          | 0/50 [00:00<?, ?it/s]"
      ]
     },
     "metadata": {},
     "output_type": "display_data"
    },
    {
     "data": {
      "application/vnd.jupyter.widget-view+json": {
       "model_id": "",
       "version_major": 2,
       "version_minor": 0
      },
      "text/plain": [
       "  ... working at frequency = 302.0 Hz:   0%|          | 0/50 [00:00<?, ?it/s]"
      ]
     },
     "metadata": {},
     "output_type": "display_data"
    },
    {
     "data": {
      "application/vnd.jupyter.widget-view+json": {
       "model_id": "",
       "version_major": 2,
       "version_minor": 0
      },
      "text/plain": [
       "  ... working at frequency = 352.0 Hz:   0%|          | 0/50 [00:00<?, ?it/s]"
      ]
     },
     "metadata": {},
     "output_type": "display_data"
    },
    {
     "data": {
      "application/vnd.jupyter.widget-view+json": {
       "model_id": "",
       "version_major": 2,
       "version_minor": 0
      },
      "text/plain": [
       "  ... working at frequency = 402.0 Hz:   0%|          | 0/50 [00:00<?, ?it/s]"
      ]
     },
     "metadata": {},
     "output_type": "display_data"
    },
    {
     "data": {
      "application/vnd.jupyter.widget-view+json": {
       "model_id": "",
       "version_major": 2,
       "version_minor": 0
      },
      "text/plain": [
       "  ... working at frequency = 452.0 Hz:   0%|          | 0/50 [00:00<?, ?it/s]"
      ]
     },
     "metadata": {},
     "output_type": "display_data"
    },
    {
     "data": {
      "application/vnd.jupyter.widget-view+json": {
       "model_id": "",
       "version_major": 2,
       "version_minor": 0
      },
      "text/plain": [
       "  ... working at frequency = 502.0 Hz:   0%|          | 0/50 [00:00<?, ?it/s]"
      ]
     },
     "metadata": {},
     "output_type": "display_data"
    },
    {
     "data": {
      "application/vnd.jupyter.widget-view+json": {
       "model_id": "",
       "version_major": 2,
       "version_minor": 0
      },
      "text/plain": [
       "  ... working at frequency = 552.0 Hz:   0%|          | 0/50 [00:00<?, ?it/s]"
      ]
     },
     "metadata": {},
     "output_type": "display_data"
    },
    {
     "data": {
      "application/vnd.jupyter.widget-view+json": {
       "model_id": "",
       "version_major": 2,
       "version_minor": 0
      },
      "text/plain": [
       "  ... working at frequency = 602.0 Hz:   0%|          | 0/50 [00:00<?, ?it/s]"
      ]
     },
     "metadata": {},
     "output_type": "display_data"
    },
    {
     "data": {
      "application/vnd.jupyter.widget-view+json": {
       "model_id": "",
       "version_major": 2,
       "version_minor": 0
      },
      "text/plain": [
       "  ... working at frequency = 652.0 Hz:   0%|          | 0/50 [00:00<?, ?it/s]"
      ]
     },
     "metadata": {},
     "output_type": "display_data"
    },
    {
     "data": {
      "application/vnd.jupyter.widget-view+json": {
       "model_id": "",
       "version_major": 2,
       "version_minor": 0
      },
      "text/plain": [
       "  ... working at frequency = 702.0 Hz:   0%|          | 0/50 [00:00<?, ?it/s]"
      ]
     },
     "metadata": {},
     "output_type": "display_data"
    },
    {
     "data": {
      "application/vnd.jupyter.widget-view+json": {
       "model_id": "",
       "version_major": 2,
       "version_minor": 0
      },
      "text/plain": [
       "  ... working at frequency = 752.0 Hz:   0%|          | 0/50 [00:00<?, ?it/s]"
      ]
     },
     "metadata": {},
     "output_type": "display_data"
    },
    {
     "data": {
      "application/vnd.jupyter.widget-view+json": {
       "model_id": "",
       "version_major": 2,
       "version_minor": 0
      },
      "text/plain": [
       "  ... working at frequency = 802.0 Hz:   0%|          | 0/50 [00:00<?, ?it/s]"
      ]
     },
     "metadata": {},
     "output_type": "display_data"
    },
    {
     "data": {
      "application/vnd.jupyter.widget-view+json": {
       "model_id": "",
       "version_major": 2,
       "version_minor": 0
      },
      "text/plain": [
       "  ... working at frequency = 852.0 Hz:   0%|          | 0/50 [00:00<?, ?it/s]"
      ]
     },
     "metadata": {},
     "output_type": "display_data"
    },
    {
     "data": {
      "application/vnd.jupyter.widget-view+json": {
       "model_id": "",
       "version_major": 2,
       "version_minor": 0
      },
      "text/plain": [
       "  ... working at frequency = 902.0 Hz:   0%|          | 0/50 [00:00<?, ?it/s]"
      ]
     },
     "metadata": {},
     "output_type": "display_data"
    },
    {
     "data": {
      "application/vnd.jupyter.widget-view+json": {
       "model_id": "",
       "version_major": 2,
       "version_minor": 0
      },
      "text/plain": [
       "  ... working at frequency = 952.0 Hz:   0%|          | 0/50 [00:00<?, ?it/s]"
      ]
     },
     "metadata": {},
     "output_type": "display_data"
    },
    {
     "data": {
      "application/vnd.jupyter.widget-view+json": {
       "model_id": "",
       "version_major": 2,
       "version_minor": 0
      },
      "text/plain": [
       "  ... working at frequency = 1002.0 Hz:   0%|          | 0/50 [00:00<?, ?it/s]"
      ]
     },
     "metadata": {},
     "output_type": "display_data"
    },
    {
     "data": {
      "application/vnd.jupyter.widget-view+json": {
       "model_id": "",
       "version_major": 2,
       "version_minor": 0
      },
      "text/plain": [
       "  ... working at frequency = 1052.0 Hz:   0%|          | 0/50 [00:00<?, ?it/s]"
      ]
     },
     "metadata": {},
     "output_type": "display_data"
    },
    {
     "data": {
      "application/vnd.jupyter.widget-view+json": {
       "model_id": "",
       "version_major": 2,
       "version_minor": 0
      },
      "text/plain": [
       "  ... working at frequency = 1102.0 Hz:   0%|          | 0/50 [00:00<?, ?it/s]"
      ]
     },
     "metadata": {},
     "output_type": "display_data"
    },
    {
     "data": {
      "application/vnd.jupyter.widget-view+json": {
       "model_id": "",
       "version_major": 2,
       "version_minor": 0
      },
      "text/plain": [
       "  ... working at frequency = 1152.0 Hz:   0%|          | 0/50 [00:00<?, ?it/s]"
      ]
     },
     "metadata": {},
     "output_type": "display_data"
    },
    {
     "data": {
      "application/vnd.jupyter.widget-view+json": {
       "model_id": "",
       "version_major": 2,
       "version_minor": 0
      },
      "text/plain": [
       "  ... working at frequency = 1202.0 Hz:   0%|          | 0/50 [00:00<?, ?it/s]"
      ]
     },
     "metadata": {},
     "output_type": "display_data"
    },
    {
     "data": {
      "application/vnd.jupyter.widget-view+json": {
       "model_id": "",
       "version_major": 2,
       "version_minor": 0
      },
      "text/plain": [
       "  ... working at frequency = 1252.0 Hz:   0%|          | 0/50 [00:00<?, ?it/s]"
      ]
     },
     "metadata": {},
     "output_type": "display_data"
    },
    {
     "data": {
      "application/vnd.jupyter.widget-view+json": {
       "model_id": "",
       "version_major": 2,
       "version_minor": 0
      },
      "text/plain": [
       "  ... working at frequency = 1302.0 Hz:   0%|          | 0/50 [00:00<?, ?it/s]"
      ]
     },
     "metadata": {},
     "output_type": "display_data"
    },
    {
     "data": {
      "application/vnd.jupyter.widget-view+json": {
       "model_id": "",
       "version_major": 2,
       "version_minor": 0
      },
      "text/plain": [
       "  ... working at frequency = 1352.0 Hz:   0%|          | 0/50 [00:00<?, ?it/s]"
      ]
     },
     "metadata": {},
     "output_type": "display_data"
    },
    {
     "data": {
      "application/vnd.jupyter.widget-view+json": {
       "model_id": "",
       "version_major": 2,
       "version_minor": 0
      },
      "text/plain": [
       "  ... working at frequency = 1402.0 Hz:   0%|          | 0/50 [00:00<?, ?it/s]"
      ]
     },
     "metadata": {},
     "output_type": "display_data"
    },
    {
     "data": {
      "application/vnd.jupyter.widget-view+json": {
       "model_id": "",
       "version_major": 2,
       "version_minor": 0
      },
      "text/plain": [
       "  ... working at frequency = 1452.0 Hz:   0%|          | 0/50 [00:00<?, ?it/s]"
      ]
     },
     "metadata": {},
     "output_type": "display_data"
    },
    {
     "data": {
      "application/vnd.jupyter.widget-view+json": {
       "model_id": "",
       "version_major": 2,
       "version_minor": 0
      },
      "text/plain": [
       "  ... working at frequency = 1502.0 Hz:   0%|          | 0/50 [00:00<?, ?it/s]"
      ]
     },
     "metadata": {},
     "output_type": "display_data"
    },
    {
     "data": {
      "application/vnd.jupyter.widget-view+json": {
       "model_id": "",
       "version_major": 2,
       "version_minor": 0
      },
      "text/plain": [
       "  ... working at frequency = 1552.0 Hz:   0%|          | 0/50 [00:00<?, ?it/s]"
      ]
     },
     "metadata": {},
     "output_type": "display_data"
    },
    {
     "data": {
      "application/vnd.jupyter.widget-view+json": {
       "model_id": "",
       "version_major": 2,
       "version_minor": 0
      },
      "text/plain": [
       "  ... working at frequency = 1602.0 Hz:   0%|          | 0/50 [00:00<?, ?it/s]"
      ]
     },
     "metadata": {},
     "output_type": "display_data"
    },
    {
     "data": {
      "application/vnd.jupyter.widget-view+json": {
       "model_id": "",
       "version_major": 2,
       "version_minor": 0
      },
      "text/plain": [
       "  ... working at frequency = 1652.0 Hz:   0%|          | 0/50 [00:00<?, ?it/s]"
      ]
     },
     "metadata": {},
     "output_type": "display_data"
    },
    {
     "data": {
      "application/vnd.jupyter.widget-view+json": {
       "model_id": "",
       "version_major": 2,
       "version_minor": 0
      },
      "text/plain": [
       "  ... working at frequency = 1702.0 Hz:   0%|          | 0/50 [00:00<?, ?it/s]"
      ]
     },
     "metadata": {},
     "output_type": "display_data"
    },
    {
     "data": {
      "application/vnd.jupyter.widget-view+json": {
       "model_id": "",
       "version_major": 2,
       "version_minor": 0
      },
      "text/plain": [
       "  ... working at frequency = 1752.0 Hz:   0%|          | 0/50 [00:00<?, ?it/s]"
      ]
     },
     "metadata": {},
     "output_type": "display_data"
    },
    {
     "data": {
      "application/vnd.jupyter.widget-view+json": {
       "model_id": "",
       "version_major": 2,
       "version_minor": 0
      },
      "text/plain": [
       "  ... working at frequency = 1802.0 Hz:   0%|          | 0/50 [00:00<?, ?it/s]"
      ]
     },
     "metadata": {},
     "output_type": "display_data"
    },
    {
     "data": {
      "application/vnd.jupyter.widget-view+json": {
       "model_id": "",
       "version_major": 2,
       "version_minor": 0
      },
      "text/plain": [
       "  ... working at frequency = 1852.0 Hz:   0%|          | 0/50 [00:00<?, ?it/s]"
      ]
     },
     "metadata": {},
     "output_type": "display_data"
    },
    {
     "data": {
      "application/vnd.jupyter.widget-view+json": {
       "model_id": "",
       "version_major": 2,
       "version_minor": 0
      },
      "text/plain": [
       "  ... working at frequency = 1902.0 Hz:   0%|          | 0/50 [00:00<?, ?it/s]"
      ]
     },
     "metadata": {},
     "output_type": "display_data"
    },
    {
     "data": {
      "application/vnd.jupyter.widget-view+json": {
       "model_id": "",
       "version_major": 2,
       "version_minor": 0
      },
      "text/plain": [
       "  ... working at frequency = 1952.0 Hz:   0%|          | 0/50 [00:00<?, ?it/s]"
      ]
     },
     "metadata": {},
     "output_type": "display_data"
    },
    {
     "data": {
      "application/vnd.jupyter.widget-view+json": {
       "model_id": "",
       "version_major": 2,
       "version_minor": 0
      },
      "text/plain": [
       "  ... working at frequency = 2002.0 Hz:   0%|          | 0/50 [00:00<?, ?it/s]"
      ]
     },
     "metadata": {},
     "output_type": "display_data"
    },
    {
     "data": {
      "application/vnd.jupyter.widget-view+json": {
       "model_id": "",
       "version_major": 2,
       "version_minor": 0
      },
      "text/plain": [
       "  ... working at frequency = 2052.0 Hz:   0%|          | 0/50 [00:00<?, ?it/s]"
      ]
     },
     "metadata": {},
     "output_type": "display_data"
    },
    {
     "data": {
      "application/vnd.jupyter.widget-view+json": {
       "model_id": "",
       "version_major": 2,
       "version_minor": 0
      },
      "text/plain": [
       "  ... working at frequency = 2102.0 Hz:   0%|          | 0/50 [00:00<?, ?it/s]"
      ]
     },
     "metadata": {},
     "output_type": "display_data"
    },
    {
     "data": {
      "application/vnd.jupyter.widget-view+json": {
       "model_id": "",
       "version_major": 2,
       "version_minor": 0
      },
      "text/plain": [
       "  ... working at frequency = 2152.0 Hz:   0%|          | 0/50 [00:00<?, ?it/s]"
      ]
     },
     "metadata": {},
     "output_type": "display_data"
    },
    {
     "data": {
      "application/vnd.jupyter.widget-view+json": {
       "model_id": "",
       "version_major": 2,
       "version_minor": 0
      },
      "text/plain": [
       "  ... working at frequency = 2202.0 Hz:   0%|          | 0/50 [00:00<?, ?it/s]"
      ]
     },
     "metadata": {},
     "output_type": "display_data"
    },
    {
     "data": {
      "application/vnd.jupyter.widget-view+json": {
       "model_id": "",
       "version_major": 2,
       "version_minor": 0
      },
      "text/plain": [
       "  ... working at frequency = 2252.0 Hz:   0%|          | 0/50 [00:00<?, ?it/s]"
      ]
     },
     "metadata": {},
     "output_type": "display_data"
    },
    {
     "data": {
      "application/vnd.jupyter.widget-view+json": {
       "model_id": "",
       "version_major": 2,
       "version_minor": 0
      },
      "text/plain": [
       "  ... working at frequency = 2302.0 Hz:   0%|          | 0/50 [00:00<?, ?it/s]"
      ]
     },
     "metadata": {},
     "output_type": "display_data"
    },
    {
     "data": {
      "application/vnd.jupyter.widget-view+json": {
       "model_id": "",
       "version_major": 2,
       "version_minor": 0
      },
      "text/plain": [
       "  ... working at frequency = 2352.0 Hz:   0%|          | 0/50 [00:00<?, ?it/s]"
      ]
     },
     "metadata": {},
     "output_type": "display_data"
    },
    {
     "data": {
      "application/vnd.jupyter.widget-view+json": {
       "model_id": "",
       "version_major": 2,
       "version_minor": 0
      },
      "text/plain": [
       "  ... working at frequency = 2402.0 Hz:   0%|          | 0/50 [00:00<?, ?it/s]"
      ]
     },
     "metadata": {},
     "output_type": "display_data"
    },
    {
     "data": {
      "application/vnd.jupyter.widget-view+json": {
       "model_id": "",
       "version_major": 2,
       "version_minor": 0
      },
      "text/plain": [
       "  ... working at frequency = 2452.0 Hz:   0%|          | 0/50 [00:00<?, ?it/s]"
      ]
     },
     "metadata": {},
     "output_type": "display_data"
    },
    {
     "data": {
      "application/vnd.jupyter.widget-view+json": {
       "model_id": "",
       "version_major": 2,
       "version_minor": 0
      },
      "text/plain": [
       "  ... working at frequency = 2502.0 Hz:   0%|          | 0/50 [00:00<?, ?it/s]"
      ]
     },
     "metadata": {},
     "output_type": "display_data"
    },
    {
     "data": {
      "application/vnd.jupyter.widget-view+json": {
       "model_id": "",
       "version_major": 2,
       "version_minor": 0
      },
      "text/plain": [
       "  ... working at frequency = 2552.0 Hz:   0%|          | 0/50 [00:00<?, ?it/s]"
      ]
     },
     "metadata": {},
     "output_type": "display_data"
    },
    {
     "data": {
      "application/vnd.jupyter.widget-view+json": {
       "model_id": "",
       "version_major": 2,
       "version_minor": 0
      },
      "text/plain": [
       "  ... working at frequency = 2602.0 Hz:   0%|          | 0/50 [00:00<?, ?it/s]"
      ]
     },
     "metadata": {},
     "output_type": "display_data"
    },
    {
     "data": {
      "application/vnd.jupyter.widget-view+json": {
       "model_id": "",
       "version_major": 2,
       "version_minor": 0
      },
      "text/plain": [
       "  ... working at frequency = 2652.0 Hz:   0%|          | 0/50 [00:00<?, ?it/s]"
      ]
     },
     "metadata": {},
     "output_type": "display_data"
    },
    {
     "data": {
      "application/vnd.jupyter.widget-view+json": {
       "model_id": "",
       "version_major": 2,
       "version_minor": 0
      },
      "text/plain": [
       "  ... working at frequency = 2702.0 Hz:   0%|          | 0/50 [00:00<?, ?it/s]"
      ]
     },
     "metadata": {},
     "output_type": "display_data"
    },
    {
     "data": {
      "application/vnd.jupyter.widget-view+json": {
       "model_id": "",
       "version_major": 2,
       "version_minor": 0
      },
      "text/plain": [
       "  ... working at frequency = 2752.0 Hz:   0%|          | 0/50 [00:00<?, ?it/s]"
      ]
     },
     "metadata": {},
     "output_type": "display_data"
    },
    {
     "data": {
      "application/vnd.jupyter.widget-view+json": {
       "model_id": "",
       "version_major": 2,
       "version_minor": 0
      },
      "text/plain": [
       "  ... working at frequency = 2802.0 Hz:   0%|          | 0/50 [00:00<?, ?it/s]"
      ]
     },
     "metadata": {},
     "output_type": "display_data"
    },
    {
     "data": {
      "application/vnd.jupyter.widget-view+json": {
       "model_id": "",
       "version_major": 2,
       "version_minor": 0
      },
      "text/plain": [
       "  ... working at frequency = 2852.0 Hz:   0%|          | 0/50 [00:00<?, ?it/s]"
      ]
     },
     "metadata": {},
     "output_type": "display_data"
    },
    {
     "data": {
      "application/vnd.jupyter.widget-view+json": {
       "model_id": "",
       "version_major": 2,
       "version_minor": 0
      },
      "text/plain": [
       "  ... working at frequency = 2902.0 Hz:   0%|          | 0/50 [00:00<?, ?it/s]"
      ]
     },
     "metadata": {},
     "output_type": "display_data"
    },
    {
     "data": {
      "application/vnd.jupyter.widget-view+json": {
       "model_id": "",
       "version_major": 2,
       "version_minor": 0
      },
      "text/plain": [
       "  ... working at frequency = 2952.0 Hz:   0%|          | 0/50 [00:00<?, ?it/s]"
      ]
     },
     "metadata": {},
     "output_type": "display_data"
    },
    {
     "data": {
      "application/vnd.jupyter.widget-view+json": {
       "model_id": "",
       "version_major": 2,
       "version_minor": 0
      },
      "text/plain": [
       "  ... working at frequency = 3002.0 Hz:   0%|          | 0/50 [00:00<?, ?it/s]"
      ]
     },
     "metadata": {},
     "output_type": "display_data"
    },
    {
     "data": {
      "application/vnd.jupyter.widget-view+json": {
       "model_id": "",
       "version_major": 2,
       "version_minor": 0
      },
      "text/plain": [
       "  ... working at frequency = 3052.0 Hz:   0%|          | 0/50 [00:00<?, ?it/s]"
      ]
     },
     "metadata": {},
     "output_type": "display_data"
    },
    {
     "data": {
      "application/vnd.jupyter.widget-view+json": {
       "model_id": "",
       "version_major": 2,
       "version_minor": 0
      },
      "text/plain": [
       "  ... working at frequency = 3102.0 Hz:   0%|          | 0/50 [00:00<?, ?it/s]"
      ]
     },
     "metadata": {},
     "output_type": "display_data"
    },
    {
     "data": {
      "application/vnd.jupyter.widget-view+json": {
       "model_id": "",
       "version_major": 2,
       "version_minor": 0
      },
      "text/plain": [
       "  ... working at frequency = 3152.0 Hz:   0%|          | 0/50 [00:00<?, ?it/s]"
      ]
     },
     "metadata": {},
     "output_type": "display_data"
    },
    {
     "data": {
      "application/vnd.jupyter.widget-view+json": {
       "model_id": "",
       "version_major": 2,
       "version_minor": 0
      },
      "text/plain": [
       "  ... working at frequency = 3202.0 Hz:   0%|          | 0/50 [00:00<?, ?it/s]"
      ]
     },
     "metadata": {},
     "output_type": "display_data"
    },
    {
     "data": {
      "application/vnd.jupyter.widget-view+json": {
       "model_id": "",
       "version_major": 2,
       "version_minor": 0
      },
      "text/plain": [
       "  ... working at frequency = 3252.0 Hz:   0%|          | 0/50 [00:00<?, ?it/s]"
      ]
     },
     "metadata": {},
     "output_type": "display_data"
    },
    {
     "data": {
      "application/vnd.jupyter.widget-view+json": {
       "model_id": "",
       "version_major": 2,
       "version_minor": 0
      },
      "text/plain": [
       "  ... working at frequency = 3302.0 Hz:   0%|          | 0/50 [00:00<?, ?it/s]"
      ]
     },
     "metadata": {},
     "output_type": "display_data"
    },
    {
     "data": {
      "application/vnd.jupyter.widget-view+json": {
       "model_id": "",
       "version_major": 2,
       "version_minor": 0
      },
      "text/plain": [
       "  ... working at frequency = 3352.0 Hz:   0%|          | 0/50 [00:00<?, ?it/s]"
      ]
     },
     "metadata": {},
     "output_type": "display_data"
    },
    {
     "data": {
      "application/vnd.jupyter.widget-view+json": {
       "model_id": "",
       "version_major": 2,
       "version_minor": 0
      },
      "text/plain": [
       "  ... working at frequency = 3402.0 Hz:   0%|          | 0/50 [00:00<?, ?it/s]"
      ]
     },
     "metadata": {},
     "output_type": "display_data"
    },
    {
     "data": {
      "application/vnd.jupyter.widget-view+json": {
       "model_id": "",
       "version_major": 2,
       "version_minor": 0
      },
      "text/plain": [
       "  ... working at frequency = 3452.0 Hz:   0%|          | 0/50 [00:00<?, ?it/s]"
      ]
     },
     "metadata": {},
     "output_type": "display_data"
    },
    {
     "data": {
      "application/vnd.jupyter.widget-view+json": {
       "model_id": "",
       "version_major": 2,
       "version_minor": 0
      },
      "text/plain": [
       "  ... working at frequency = 3502.0 Hz:   0%|          | 0/50 [00:00<?, ?it/s]"
      ]
     },
     "metadata": {},
     "output_type": "display_data"
    },
    {
     "data": {
      "application/vnd.jupyter.widget-view+json": {
       "model_id": "",
       "version_major": 2,
       "version_minor": 0
      },
      "text/plain": [
       "  ... working at frequency = 3552.0 Hz:   0%|          | 0/50 [00:00<?, ?it/s]"
      ]
     },
     "metadata": {},
     "output_type": "display_data"
    },
    {
     "data": {
      "application/vnd.jupyter.widget-view+json": {
       "model_id": "",
       "version_major": 2,
       "version_minor": 0
      },
      "text/plain": [
       "  ... working at frequency = 3602.0 Hz:   0%|          | 0/50 [00:00<?, ?it/s]"
      ]
     },
     "metadata": {},
     "output_type": "display_data"
    },
    {
     "data": {
      "application/vnd.jupyter.widget-view+json": {
       "model_id": "",
       "version_major": 2,
       "version_minor": 0
      },
      "text/plain": [
       "  ... working at frequency = 3652.0 Hz:   0%|          | 0/50 [00:00<?, ?it/s]"
      ]
     },
     "metadata": {},
     "output_type": "display_data"
    },
    {
     "data": {
      "application/vnd.jupyter.widget-view+json": {
       "model_id": "",
       "version_major": 2,
       "version_minor": 0
      },
      "text/plain": [
       "  ... working at frequency = 3702.0 Hz:   0%|          | 0/50 [00:00<?, ?it/s]"
      ]
     },
     "metadata": {},
     "output_type": "display_data"
    },
    {
     "data": {
      "application/vnd.jupyter.widget-view+json": {
       "model_id": "",
       "version_major": 2,
       "version_minor": 0
      },
      "text/plain": [
       "  ... working at frequency = 3752.0 Hz:   0%|          | 0/50 [00:00<?, ?it/s]"
      ]
     },
     "metadata": {},
     "output_type": "display_data"
    },
    {
     "data": {
      "application/vnd.jupyter.widget-view+json": {
       "model_id": "",
       "version_major": 2,
       "version_minor": 0
      },
      "text/plain": [
       "  ... working at frequency = 3802.0 Hz:   0%|          | 0/50 [00:00<?, ?it/s]"
      ]
     },
     "metadata": {},
     "output_type": "display_data"
    },
    {
     "data": {
      "application/vnd.jupyter.widget-view+json": {
       "model_id": "",
       "version_major": 2,
       "version_minor": 0
      },
      "text/plain": [
       "  ... working at frequency = 3852.0 Hz:   0%|          | 0/50 [00:00<?, ?it/s]"
      ]
     },
     "metadata": {},
     "output_type": "display_data"
    },
    {
     "data": {
      "application/vnd.jupyter.widget-view+json": {
       "model_id": "",
       "version_major": 2,
       "version_minor": 0
      },
      "text/plain": [
       "  ... working at frequency = 3902.0 Hz:   0%|          | 0/50 [00:00<?, ?it/s]"
      ]
     },
     "metadata": {},
     "output_type": "display_data"
    },
    {
     "data": {
      "application/vnd.jupyter.widget-view+json": {
       "model_id": "",
       "version_major": 2,
       "version_minor": 0
      },
      "text/plain": [
       "  ... working at frequency = 3952.0 Hz:   0%|          | 0/50 [00:00<?, ?it/s]"
      ]
     },
     "metadata": {},
     "output_type": "display_data"
    },
    {
     "data": {
      "application/vnd.jupyter.widget-view+json": {
       "model_id": "",
       "version_major": 2,
       "version_minor": 0
      },
      "text/plain": [
       "  ... working at frequency = 4002.0 Hz:   0%|          | 0/50 [00:00<?, ?it/s]"
      ]
     },
     "metadata": {},
     "output_type": "display_data"
    },
    {
     "data": {
      "application/vnd.jupyter.widget-view+json": {
       "model_id": "",
       "version_major": 2,
       "version_minor": 0
      },
      "text/plain": [
       "  ... working at frequency = 4052.0 Hz:   0%|          | 0/50 [00:00<?, ?it/s]"
      ]
     },
     "metadata": {},
     "output_type": "display_data"
    },
    {
     "data": {
      "application/vnd.jupyter.widget-view+json": {
       "model_id": "",
       "version_major": 2,
       "version_minor": 0
      },
      "text/plain": [
       "  ... working at frequency = 4102.0 Hz:   0%|          | 0/50 [00:00<?, ?it/s]"
      ]
     },
     "metadata": {},
     "output_type": "display_data"
    },
    {
     "data": {
      "application/vnd.jupyter.widget-view+json": {
       "model_id": "",
       "version_major": 2,
       "version_minor": 0
      },
      "text/plain": [
       "  ... working at frequency = 4152.0 Hz:   0%|          | 0/50 [00:00<?, ?it/s]"
      ]
     },
     "metadata": {},
     "output_type": "display_data"
    },
    {
     "data": {
      "application/vnd.jupyter.widget-view+json": {
       "model_id": "",
       "version_major": 2,
       "version_minor": 0
      },
      "text/plain": [
       "  ... working at frequency = 4202.0 Hz:   0%|          | 0/50 [00:00<?, ?it/s]"
      ]
     },
     "metadata": {},
     "output_type": "display_data"
    },
    {
     "data": {
      "application/vnd.jupyter.widget-view+json": {
       "model_id": "",
       "version_major": 2,
       "version_minor": 0
      },
      "text/plain": [
       "  ... working at frequency = 4252.0 Hz:   0%|          | 0/50 [00:00<?, ?it/s]"
      ]
     },
     "metadata": {},
     "output_type": "display_data"
    },
    {
     "data": {
      "application/vnd.jupyter.widget-view+json": {
       "model_id": "",
       "version_major": 2,
       "version_minor": 0
      },
      "text/plain": [
       "  ... working at frequency = 4302.0 Hz:   0%|          | 0/50 [00:00<?, ?it/s]"
      ]
     },
     "metadata": {},
     "output_type": "display_data"
    },
    {
     "data": {
      "application/vnd.jupyter.widget-view+json": {
       "model_id": "",
       "version_major": 2,
       "version_minor": 0
      },
      "text/plain": [
       "  ... working at frequency = 4352.0 Hz:   0%|          | 0/50 [00:00<?, ?it/s]"
      ]
     },
     "metadata": {},
     "output_type": "display_data"
    },
    {
     "data": {
      "application/vnd.jupyter.widget-view+json": {
       "model_id": "",
       "version_major": 2,
       "version_minor": 0
      },
      "text/plain": [
       "  ... working at frequency = 4402.0 Hz:   0%|          | 0/50 [00:00<?, ?it/s]"
      ]
     },
     "metadata": {},
     "output_type": "display_data"
    },
    {
     "data": {
      "application/vnd.jupyter.widget-view+json": {
       "model_id": "",
       "version_major": 2,
       "version_minor": 0
      },
      "text/plain": [
       "  ... working at frequency = 4452.0 Hz:   0%|          | 0/50 [00:00<?, ?it/s]"
      ]
     },
     "metadata": {},
     "output_type": "display_data"
    },
    {
     "data": {
      "application/vnd.jupyter.widget-view+json": {
       "model_id": "",
       "version_major": 2,
       "version_minor": 0
      },
      "text/plain": [
       "  ... working at frequency = 4502.0 Hz:   0%|          | 0/50 [00:00<?, ?it/s]"
      ]
     },
     "metadata": {},
     "output_type": "display_data"
    },
    {
     "data": {
      "application/vnd.jupyter.widget-view+json": {
       "model_id": "",
       "version_major": 2,
       "version_minor": 0
      },
      "text/plain": [
       "  ... working at frequency = 4552.0 Hz:   0%|          | 0/50 [00:00<?, ?it/s]"
      ]
     },
     "metadata": {},
     "output_type": "display_data"
    },
    {
     "data": {
      "application/vnd.jupyter.widget-view+json": {
       "model_id": "",
       "version_major": 2,
       "version_minor": 0
      },
      "text/plain": [
       "  ... working at frequency = 4602.0 Hz:   0%|          | 0/50 [00:00<?, ?it/s]"
      ]
     },
     "metadata": {},
     "output_type": "display_data"
    },
    {
     "data": {
      "application/vnd.jupyter.widget-view+json": {
       "model_id": "",
       "version_major": 2,
       "version_minor": 0
      },
      "text/plain": [
       "  ... working at frequency = 4652.0 Hz:   0%|          | 0/50 [00:00<?, ?it/s]"
      ]
     },
     "metadata": {},
     "output_type": "display_data"
    },
    {
     "data": {
      "application/vnd.jupyter.widget-view+json": {
       "model_id": "",
       "version_major": 2,
       "version_minor": 0
      },
      "text/plain": [
       "  ... working at frequency = 4702.0 Hz:   0%|          | 0/50 [00:00<?, ?it/s]"
      ]
     },
     "metadata": {},
     "output_type": "display_data"
    },
    {
     "data": {
      "application/vnd.jupyter.widget-view+json": {
       "model_id": "",
       "version_major": 2,
       "version_minor": 0
      },
      "text/plain": [
       "  ... working at frequency = 4752.0 Hz:   0%|          | 0/50 [00:00<?, ?it/s]"
      ]
     },
     "metadata": {},
     "output_type": "display_data"
    },
    {
     "data": {
      "application/vnd.jupyter.widget-view+json": {
       "model_id": "",
       "version_major": 2,
       "version_minor": 0
      },
      "text/plain": [
       "  ... working at frequency = 4802.0 Hz:   0%|          | 0/50 [00:00<?, ?it/s]"
      ]
     },
     "metadata": {},
     "output_type": "display_data"
    },
    {
     "data": {
      "application/vnd.jupyter.widget-view+json": {
       "model_id": "",
       "version_major": 2,
       "version_minor": 0
      },
      "text/plain": [
       "  ... working at frequency = 4852.0 Hz:   0%|          | 0/50 [00:00<?, ?it/s]"
      ]
     },
     "metadata": {},
     "output_type": "display_data"
    },
    {
     "data": {
      "application/vnd.jupyter.widget-view+json": {
       "model_id": "",
       "version_major": 2,
       "version_minor": 0
      },
      "text/plain": [
       "  ... working at frequency = 4902.0 Hz:   0%|          | 0/50 [00:00<?, ?it/s]"
      ]
     },
     "metadata": {},
     "output_type": "display_data"
    },
    {
     "data": {
      "application/vnd.jupyter.widget-view+json": {
       "model_id": "",
       "version_major": 2,
       "version_minor": 0
      },
      "text/plain": [
       "  ... working at frequency = 4952.0 Hz:   0%|          | 0/50 [00:00<?, ?it/s]"
      ]
     },
     "metadata": {},
     "output_type": "display_data"
    },
    {
     "data": {
      "application/vnd.jupyter.widget-view+json": {
       "model_id": "",
       "version_major": 2,
       "version_minor": 0
      },
      "text/plain": [
       "  ... working at frequency = 5002.0 Hz:   0%|          | 0/50 [00:00<?, ?it/s]"
      ]
     },
     "metadata": {},
     "output_type": "display_data"
    },
    {
     "data": {
      "application/vnd.jupyter.widget-view+json": {
       "model_id": "",
       "version_major": 2,
       "version_minor": 0
      },
      "text/plain": [
       "  ... working at frequency = 5052.0 Hz:   0%|          | 0/50 [00:00<?, ?it/s]"
      ]
     },
     "metadata": {},
     "output_type": "display_data"
    },
    {
     "data": {
      "application/vnd.jupyter.widget-view+json": {
       "model_id": "",
       "version_major": 2,
       "version_minor": 0
      },
      "text/plain": [
       "  ... working at frequency = 5102.0 Hz:   0%|          | 0/50 [00:00<?, ?it/s]"
      ]
     },
     "metadata": {},
     "output_type": "display_data"
    },
    {
     "data": {
      "application/vnd.jupyter.widget-view+json": {
       "model_id": "",
       "version_major": 2,
       "version_minor": 0
      },
      "text/plain": [
       "  ... working at frequency = 5152.0 Hz:   0%|          | 0/50 [00:00<?, ?it/s]"
      ]
     },
     "metadata": {},
     "output_type": "display_data"
    },
    {
     "data": {
      "application/vnd.jupyter.widget-view+json": {
       "model_id": "",
       "version_major": 2,
       "version_minor": 0
      },
      "text/plain": [
       "  ... working at frequency = 5202.0 Hz:   0%|          | 0/50 [00:00<?, ?it/s]"
      ]
     },
     "metadata": {},
     "output_type": "display_data"
    },
    {
     "data": {
      "application/vnd.jupyter.widget-view+json": {
       "model_id": "",
       "version_major": 2,
       "version_minor": 0
      },
      "text/plain": [
       "  ... working at frequency = 5252.0 Hz:   0%|          | 0/50 [00:00<?, ?it/s]"
      ]
     },
     "metadata": {},
     "output_type": "display_data"
    },
    {
     "data": {
      "application/vnd.jupyter.widget-view+json": {
       "model_id": "",
       "version_major": 2,
       "version_minor": 0
      },
      "text/plain": [
       "  ... working at frequency = 5302.0 Hz:   0%|          | 0/50 [00:00<?, ?it/s]"
      ]
     },
     "metadata": {},
     "output_type": "display_data"
    },
    {
     "data": {
      "application/vnd.jupyter.widget-view+json": {
       "model_id": "",
       "version_major": 2,
       "version_minor": 0
      },
      "text/plain": [
       "  ... working at frequency = 5352.0 Hz:   0%|          | 0/50 [00:00<?, ?it/s]"
      ]
     },
     "metadata": {},
     "output_type": "display_data"
    },
    {
     "data": {
      "application/vnd.jupyter.widget-view+json": {
       "model_id": "",
       "version_major": 2,
       "version_minor": 0
      },
      "text/plain": [
       "  ... working at frequency = 5402.0 Hz:   0%|          | 0/50 [00:00<?, ?it/s]"
      ]
     },
     "metadata": {},
     "output_type": "display_data"
    },
    {
     "data": {
      "application/vnd.jupyter.widget-view+json": {
       "model_id": "",
       "version_major": 2,
       "version_minor": 0
      },
      "text/plain": [
       "  ... working at frequency = 5452.0 Hz:   0%|          | 0/50 [00:00<?, ?it/s]"
      ]
     },
     "metadata": {},
     "output_type": "display_data"
    },
    {
     "data": {
      "application/vnd.jupyter.widget-view+json": {
       "model_id": "",
       "version_major": 2,
       "version_minor": 0
      },
      "text/plain": [
       "  ... working at frequency = 5502.0 Hz:   0%|          | 0/50 [00:00<?, ?it/s]"
      ]
     },
     "metadata": {},
     "output_type": "display_data"
    },
    {
     "data": {
      "application/vnd.jupyter.widget-view+json": {
       "model_id": "",
       "version_major": 2,
       "version_minor": 0
      },
      "text/plain": [
       "  ... working at frequency = 5552.0 Hz:   0%|          | 0/50 [00:00<?, ?it/s]"
      ]
     },
     "metadata": {},
     "output_type": "display_data"
    },
    {
     "data": {
      "application/vnd.jupyter.widget-view+json": {
       "model_id": "",
       "version_major": 2,
       "version_minor": 0
      },
      "text/plain": [
       "  ... working at frequency = 5602.0 Hz:   0%|          | 0/50 [00:00<?, ?it/s]"
      ]
     },
     "metadata": {},
     "output_type": "display_data"
    },
    {
     "data": {
      "application/vnd.jupyter.widget-view+json": {
       "model_id": "",
       "version_major": 2,
       "version_minor": 0
      },
      "text/plain": [
       "  ... working at frequency = 5652.0 Hz:   0%|          | 0/50 [00:00<?, ?it/s]"
      ]
     },
     "metadata": {},
     "output_type": "display_data"
    },
    {
     "data": {
      "application/vnd.jupyter.widget-view+json": {
       "model_id": "",
       "version_major": 2,
       "version_minor": 0
      },
      "text/plain": [
       "  ... working at frequency = 5702.0 Hz:   0%|          | 0/50 [00:00<?, ?it/s]"
      ]
     },
     "metadata": {},
     "output_type": "display_data"
    },
    {
     "data": {
      "application/vnd.jupyter.widget-view+json": {
       "model_id": "",
       "version_major": 2,
       "version_minor": 0
      },
      "text/plain": [
       "  ... working at frequency = 5752.0 Hz:   0%|          | 0/50 [00:00<?, ?it/s]"
      ]
     },
     "metadata": {},
     "output_type": "display_data"
    },
    {
     "data": {
      "application/vnd.jupyter.widget-view+json": {
       "model_id": "",
       "version_major": 2,
       "version_minor": 0
      },
      "text/plain": [
       "  ... working at frequency = 5802.0 Hz:   0%|          | 0/50 [00:00<?, ?it/s]"
      ]
     },
     "metadata": {},
     "output_type": "display_data"
    },
    {
     "data": {
      "application/vnd.jupyter.widget-view+json": {
       "model_id": "",
       "version_major": 2,
       "version_minor": 0
      },
      "text/plain": [
       "  ... working at frequency = 5852.0 Hz:   0%|          | 0/50 [00:00<?, ?it/s]"
      ]
     },
     "metadata": {},
     "output_type": "display_data"
    },
    {
     "data": {
      "application/vnd.jupyter.widget-view+json": {
       "model_id": "",
       "version_major": 2,
       "version_minor": 0
      },
      "text/plain": [
       "  ... working at frequency = 5902.0 Hz:   0%|          | 0/50 [00:00<?, ?it/s]"
      ]
     },
     "metadata": {},
     "output_type": "display_data"
    },
    {
     "data": {
      "application/vnd.jupyter.widget-view+json": {
       "model_id": "",
       "version_major": 2,
       "version_minor": 0
      },
      "text/plain": [
       "  ... working at frequency = 5952.0 Hz:   0%|          | 0/50 [00:00<?, ?it/s]"
      ]
     },
     "metadata": {},
     "output_type": "display_data"
    },
    {
     "data": {
      "application/vnd.jupyter.widget-view+json": {
       "model_id": "",
       "version_major": 2,
       "version_minor": 0
      },
      "text/plain": [
       "  ... working at frequency = 6002.0 Hz:   0%|          | 0/50 [00:00<?, ?it/s]"
      ]
     },
     "metadata": {},
     "output_type": "display_data"
    },
    {
     "data": {
      "application/vnd.jupyter.widget-view+json": {
       "model_id": "",
       "version_major": 2,
       "version_minor": 0
      },
      "text/plain": [
       "  ... working at frequency = 6052.0 Hz:   0%|          | 0/50 [00:00<?, ?it/s]"
      ]
     },
     "metadata": {},
     "output_type": "display_data"
    },
    {
     "data": {
      "application/vnd.jupyter.widget-view+json": {
       "model_id": "",
       "version_major": 2,
       "version_minor": 0
      },
      "text/plain": [
       "  ... working at frequency = 6102.0 Hz:   0%|          | 0/50 [00:00<?, ?it/s]"
      ]
     },
     "metadata": {},
     "output_type": "display_data"
    },
    {
     "data": {
      "application/vnd.jupyter.widget-view+json": {
       "model_id": "",
       "version_major": 2,
       "version_minor": 0
      },
      "text/plain": [
       "  ... working at frequency = 6152.0 Hz:   0%|          | 0/50 [00:00<?, ?it/s]"
      ]
     },
     "metadata": {},
     "output_type": "display_data"
    },
    {
     "data": {
      "application/vnd.jupyter.widget-view+json": {
       "model_id": "",
       "version_major": 2,
       "version_minor": 0
      },
      "text/plain": [
       "  ... working at frequency = 6202.0 Hz:   0%|          | 0/50 [00:00<?, ?it/s]"
      ]
     },
     "metadata": {},
     "output_type": "display_data"
    },
    {
     "data": {
      "application/vnd.jupyter.widget-view+json": {
       "model_id": "",
       "version_major": 2,
       "version_minor": 0
      },
      "text/plain": [
       "  ... working at frequency = 6252.0 Hz:   0%|          | 0/50 [00:00<?, ?it/s]"
      ]
     },
     "metadata": {},
     "output_type": "display_data"
    },
    {
     "data": {
      "application/vnd.jupyter.widget-view+json": {
       "model_id": "",
       "version_major": 2,
       "version_minor": 0
      },
      "text/plain": [
       "  ... working at frequency = 6302.0 Hz:   0%|          | 0/50 [00:00<?, ?it/s]"
      ]
     },
     "metadata": {},
     "output_type": "display_data"
    },
    {
     "data": {
      "application/vnd.jupyter.widget-view+json": {
       "model_id": "",
       "version_major": 2,
       "version_minor": 0
      },
      "text/plain": [
       "  ... working at frequency = 6352.0 Hz:   0%|          | 0/50 [00:00<?, ?it/s]"
      ]
     },
     "metadata": {},
     "output_type": "display_data"
    },
    {
     "data": {
      "application/vnd.jupyter.widget-view+json": {
       "model_id": "",
       "version_major": 2,
       "version_minor": 0
      },
      "text/plain": [
       "  ... working at frequency = 6402.0 Hz:   0%|          | 0/50 [00:00<?, ?it/s]"
      ]
     },
     "metadata": {},
     "output_type": "display_data"
    },
    {
     "data": {
      "application/vnd.jupyter.widget-view+json": {
       "model_id": "",
       "version_major": 2,
       "version_minor": 0
      },
      "text/plain": [
       "  ... working at frequency = 6452.0 Hz:   0%|          | 0/50 [00:00<?, ?it/s]"
      ]
     },
     "metadata": {},
     "output_type": "display_data"
    },
    {
     "data": {
      "application/vnd.jupyter.widget-view+json": {
       "model_id": "",
       "version_major": 2,
       "version_minor": 0
      },
      "text/plain": [
       "  ... working at frequency = 6502.0 Hz:   0%|          | 0/50 [00:00<?, ?it/s]"
      ]
     },
     "metadata": {},
     "output_type": "display_data"
    },
    {
     "data": {
      "application/vnd.jupyter.widget-view+json": {
       "model_id": "",
       "version_major": 2,
       "version_minor": 0
      },
      "text/plain": [
       "  ... working at frequency = 6552.0 Hz:   0%|          | 0/50 [00:00<?, ?it/s]"
      ]
     },
     "metadata": {},
     "output_type": "display_data"
    },
    {
     "data": {
      "application/vnd.jupyter.widget-view+json": {
       "model_id": "",
       "version_major": 2,
       "version_minor": 0
      },
      "text/plain": [
       "  ... working at frequency = 6602.0 Hz:   0%|          | 0/50 [00:00<?, ?it/s]"
      ]
     },
     "metadata": {},
     "output_type": "display_data"
    },
    {
     "data": {
      "application/vnd.jupyter.widget-view+json": {
       "model_id": "",
       "version_major": 2,
       "version_minor": 0
      },
      "text/plain": [
       "  ... working at frequency = 6652.0 Hz:   0%|          | 0/50 [00:00<?, ?it/s]"
      ]
     },
     "metadata": {},
     "output_type": "display_data"
    },
    {
     "data": {
      "application/vnd.jupyter.widget-view+json": {
       "model_id": "",
       "version_major": 2,
       "version_minor": 0
      },
      "text/plain": [
       "  ... working at frequency = 6702.0 Hz:   0%|          | 0/50 [00:00<?, ?it/s]"
      ]
     },
     "metadata": {},
     "output_type": "display_data"
    },
    {
     "data": {
      "application/vnd.jupyter.widget-view+json": {
       "model_id": "",
       "version_major": 2,
       "version_minor": 0
      },
      "text/plain": [
       "  ... working at frequency = 6752.0 Hz:   0%|          | 0/50 [00:00<?, ?it/s]"
      ]
     },
     "metadata": {},
     "output_type": "display_data"
    },
    {
     "data": {
      "application/vnd.jupyter.widget-view+json": {
       "model_id": "",
       "version_major": 2,
       "version_minor": 0
      },
      "text/plain": [
       "  ... working at frequency = 6802.0 Hz:   0%|          | 0/50 [00:00<?, ?it/s]"
      ]
     },
     "metadata": {},
     "output_type": "display_data"
    },
    {
     "data": {
      "application/vnd.jupyter.widget-view+json": {
       "model_id": "",
       "version_major": 2,
       "version_minor": 0
      },
      "text/plain": [
       "  ... working at frequency = 6852.0 Hz:   0%|          | 0/50 [00:00<?, ?it/s]"
      ]
     },
     "metadata": {},
     "output_type": "display_data"
    },
    {
     "data": {
      "application/vnd.jupyter.widget-view+json": {
       "model_id": "",
       "version_major": 2,
       "version_minor": 0
      },
      "text/plain": [
       "  ... working at frequency = 6902.0 Hz:   0%|          | 0/50 [00:00<?, ?it/s]"
      ]
     },
     "metadata": {},
     "output_type": "display_data"
    },
    {
     "data": {
      "application/vnd.jupyter.widget-view+json": {
       "model_id": "",
       "version_major": 2,
       "version_minor": 0
      },
      "text/plain": [
       "  ... working at frequency = 6952.0 Hz:   0%|          | 0/50 [00:00<?, ?it/s]"
      ]
     },
     "metadata": {},
     "output_type": "display_data"
    },
    {
     "data": {
      "application/vnd.jupyter.widget-view+json": {
       "model_id": "",
       "version_major": 2,
       "version_minor": 0
      },
      "text/plain": [
       "  ... working at frequency = 7002.0 Hz:   0%|          | 0/50 [00:00<?, ?it/s]"
      ]
     },
     "metadata": {},
     "output_type": "display_data"
    },
    {
     "data": {
      "application/vnd.jupyter.widget-view+json": {
       "model_id": "",
       "version_major": 2,
       "version_minor": 0
      },
      "text/plain": [
       "  ... working at frequency = 7052.0 Hz:   0%|          | 0/50 [00:00<?, ?it/s]"
      ]
     },
     "metadata": {},
     "output_type": "display_data"
    },
    {
     "data": {
      "application/vnd.jupyter.widget-view+json": {
       "model_id": "",
       "version_major": 2,
       "version_minor": 0
      },
      "text/plain": [
       "  ... working at frequency = 7102.0 Hz:   0%|          | 0/50 [00:00<?, ?it/s]"
      ]
     },
     "metadata": {},
     "output_type": "display_data"
    },
    {
     "data": {
      "application/vnd.jupyter.widget-view+json": {
       "model_id": "",
       "version_major": 2,
       "version_minor": 0
      },
      "text/plain": [
       "  ... working at frequency = 7152.0 Hz:   0%|          | 0/50 [00:00<?, ?it/s]"
      ]
     },
     "metadata": {},
     "output_type": "display_data"
    },
    {
     "data": {
      "application/vnd.jupyter.widget-view+json": {
       "model_id": "",
       "version_major": 2,
       "version_minor": 0
      },
      "text/plain": [
       "  ... working at frequency = 7202.0 Hz:   0%|          | 0/50 [00:00<?, ?it/s]"
      ]
     },
     "metadata": {},
     "output_type": "display_data"
    },
    {
     "data": {
      "application/vnd.jupyter.widget-view+json": {
       "model_id": "",
       "version_major": 2,
       "version_minor": 0
      },
      "text/plain": [
       "  ... working at frequency = 7252.0 Hz:   0%|          | 0/50 [00:00<?, ?it/s]"
      ]
     },
     "metadata": {},
     "output_type": "display_data"
    },
    {
     "data": {
      "application/vnd.jupyter.widget-view+json": {
       "model_id": "",
       "version_major": 2,
       "version_minor": 0
      },
      "text/plain": [
       "  ... working at frequency = 7302.0 Hz:   0%|          | 0/50 [00:00<?, ?it/s]"
      ]
     },
     "metadata": {},
     "output_type": "display_data"
    },
    {
     "data": {
      "application/vnd.jupyter.widget-view+json": {
       "model_id": "",
       "version_major": 2,
       "version_minor": 0
      },
      "text/plain": [
       "  ... working at frequency = 7352.0 Hz:   0%|          | 0/50 [00:00<?, ?it/s]"
      ]
     },
     "metadata": {},
     "output_type": "display_data"
    },
    {
     "data": {
      "application/vnd.jupyter.widget-view+json": {
       "model_id": "",
       "version_major": 2,
       "version_minor": 0
      },
      "text/plain": [
       "  ... working at frequency = 7402.0 Hz:   0%|          | 0/50 [00:00<?, ?it/s]"
      ]
     },
     "metadata": {},
     "output_type": "display_data"
    },
    {
     "data": {
      "application/vnd.jupyter.widget-view+json": {
       "model_id": "",
       "version_major": 2,
       "version_minor": 0
      },
      "text/plain": [
       "  ... working at frequency = 7452.0 Hz:   0%|          | 0/50 [00:00<?, ?it/s]"
      ]
     },
     "metadata": {},
     "output_type": "display_data"
    },
    {
     "data": {
      "application/vnd.jupyter.widget-view+json": {
       "model_id": "",
       "version_major": 2,
       "version_minor": 0
      },
      "text/plain": [
       "  ... working at frequency = 7502.0 Hz:   0%|          | 0/50 [00:00<?, ?it/s]"
      ]
     },
     "metadata": {},
     "output_type": "display_data"
    },
    {
     "data": {
      "application/vnd.jupyter.widget-view+json": {
       "model_id": "",
       "version_major": 2,
       "version_minor": 0
      },
      "text/plain": [
       "  ... working at frequency = 7552.0 Hz:   0%|          | 0/50 [00:00<?, ?it/s]"
      ]
     },
     "metadata": {},
     "output_type": "display_data"
    },
    {
     "data": {
      "application/vnd.jupyter.widget-view+json": {
       "model_id": "",
       "version_major": 2,
       "version_minor": 0
      },
      "text/plain": [
       "  ... working at frequency = 7602.0 Hz:   0%|          | 0/50 [00:00<?, ?it/s]"
      ]
     },
     "metadata": {},
     "output_type": "display_data"
    },
    {
     "data": {
      "application/vnd.jupyter.widget-view+json": {
       "model_id": "",
       "version_major": 2,
       "version_minor": 0
      },
      "text/plain": [
       "  ... working at frequency = 7652.0 Hz:   0%|          | 0/50 [00:00<?, ?it/s]"
      ]
     },
     "metadata": {},
     "output_type": "display_data"
    },
    {
     "data": {
      "application/vnd.jupyter.widget-view+json": {
       "model_id": "",
       "version_major": 2,
       "version_minor": 0
      },
      "text/plain": [
       "  ... working at frequency = 7702.0 Hz:   0%|          | 0/50 [00:00<?, ?it/s]"
      ]
     },
     "metadata": {},
     "output_type": "display_data"
    },
    {
     "data": {
      "application/vnd.jupyter.widget-view+json": {
       "model_id": "",
       "version_major": 2,
       "version_minor": 0
      },
      "text/plain": [
       "  ... working at frequency = 7752.0 Hz:   0%|          | 0/50 [00:00<?, ?it/s]"
      ]
     },
     "metadata": {},
     "output_type": "display_data"
    },
    {
     "data": {
      "application/vnd.jupyter.widget-view+json": {
       "model_id": "",
       "version_major": 2,
       "version_minor": 0
      },
      "text/plain": [
       "  ... working at frequency = 7802.0 Hz:   0%|          | 0/50 [00:00<?, ?it/s]"
      ]
     },
     "metadata": {},
     "output_type": "display_data"
    },
    {
     "data": {
      "application/vnd.jupyter.widget-view+json": {
       "model_id": "",
       "version_major": 2,
       "version_minor": 0
      },
      "text/plain": [
       "  ... working at frequency = 7852.0 Hz:   0%|          | 0/50 [00:00<?, ?it/s]"
      ]
     },
     "metadata": {},
     "output_type": "display_data"
    },
    {
     "data": {
      "application/vnd.jupyter.widget-view+json": {
       "model_id": "",
       "version_major": 2,
       "version_minor": 0
      },
      "text/plain": [
       "  ... working at frequency = 7902.0 Hz:   0%|          | 0/50 [00:00<?, ?it/s]"
      ]
     },
     "metadata": {},
     "output_type": "display_data"
    },
    {
     "data": {
      "application/vnd.jupyter.widget-view+json": {
       "model_id": "",
       "version_major": 2,
       "version_minor": 0
      },
      "text/plain": [
       "  ... working at frequency = 7952.0 Hz:   0%|          | 0/50 [00:00<?, ?it/s]"
      ]
     },
     "metadata": {},
     "output_type": "display_data"
    },
    {
     "data": {
      "application/vnd.jupyter.widget-view+json": {
       "model_id": "",
       "version_major": 2,
       "version_minor": 0
      },
      "text/plain": [
       "  ... working at frequency = 8002.0 Hz:   0%|          | 0/50 [00:00<?, ?it/s]"
      ]
     },
     "metadata": {},
     "output_type": "display_data"
    },
    {
     "data": {
      "application/vnd.jupyter.widget-view+json": {
       "model_id": "",
       "version_major": 2,
       "version_minor": 0
      },
      "text/plain": [
       "  ... working at frequency = 8052.0 Hz:   0%|          | 0/50 [00:00<?, ?it/s]"
      ]
     },
     "metadata": {},
     "output_type": "display_data"
    },
    {
     "data": {
      "application/vnd.jupyter.widget-view+json": {
       "model_id": "",
       "version_major": 2,
       "version_minor": 0
      },
      "text/plain": [
       "  ... working at frequency = 8102.0 Hz:   0%|          | 0/50 [00:00<?, ?it/s]"
      ]
     },
     "metadata": {},
     "output_type": "display_data"
    },
    {
     "data": {
      "application/vnd.jupyter.widget-view+json": {
       "model_id": "",
       "version_major": 2,
       "version_minor": 0
      },
      "text/plain": [
       "  ... working at frequency = 8152.0 Hz:   0%|          | 0/50 [00:00<?, ?it/s]"
      ]
     },
     "metadata": {},
     "output_type": "display_data"
    },
    {
     "data": {
      "application/vnd.jupyter.widget-view+json": {
       "model_id": "",
       "version_major": 2,
       "version_minor": 0
      },
      "text/plain": [
       "  ... working at frequency = 8202.0 Hz:   0%|          | 0/50 [00:00<?, ?it/s]"
      ]
     },
     "metadata": {},
     "output_type": "display_data"
    },
    {
     "data": {
      "application/vnd.jupyter.widget-view+json": {
       "model_id": "",
       "version_major": 2,
       "version_minor": 0
      },
      "text/plain": [
       "  ... working at frequency = 8252.0 Hz:   0%|          | 0/50 [00:00<?, ?it/s]"
      ]
     },
     "metadata": {},
     "output_type": "display_data"
    },
    {
     "data": {
      "application/vnd.jupyter.widget-view+json": {
       "model_id": "",
       "version_major": 2,
       "version_minor": 0
      },
      "text/plain": [
       "  ... working at frequency = 8302.0 Hz:   0%|          | 0/50 [00:00<?, ?it/s]"
      ]
     },
     "metadata": {},
     "output_type": "display_data"
    },
    {
     "data": {
      "application/vnd.jupyter.widget-view+json": {
       "model_id": "",
       "version_major": 2,
       "version_minor": 0
      },
      "text/plain": [
       "  ... working at frequency = 8352.0 Hz:   0%|          | 0/50 [00:00<?, ?it/s]"
      ]
     },
     "metadata": {},
     "output_type": "display_data"
    },
    {
     "data": {
      "application/vnd.jupyter.widget-view+json": {
       "model_id": "",
       "version_major": 2,
       "version_minor": 0
      },
      "text/plain": [
       "  ... working at frequency = 8402.0 Hz:   0%|          | 0/50 [00:00<?, ?it/s]"
      ]
     },
     "metadata": {},
     "output_type": "display_data"
    },
    {
     "data": {
      "application/vnd.jupyter.widget-view+json": {
       "model_id": "",
       "version_major": 2,
       "version_minor": 0
      },
      "text/plain": [
       "  ... working at frequency = 8452.0 Hz:   0%|          | 0/50 [00:00<?, ?it/s]"
      ]
     },
     "metadata": {},
     "output_type": "display_data"
    },
    {
     "data": {
      "application/vnd.jupyter.widget-view+json": {
       "model_id": "",
       "version_major": 2,
       "version_minor": 0
      },
      "text/plain": [
       "  ... working at frequency = 8502.0 Hz:   0%|          | 0/50 [00:00<?, ?it/s]"
      ]
     },
     "metadata": {},
     "output_type": "display_data"
    },
    {
     "data": {
      "application/vnd.jupyter.widget-view+json": {
       "model_id": "",
       "version_major": 2,
       "version_minor": 0
      },
      "text/plain": [
       "  ... working at frequency = 8552.0 Hz:   0%|          | 0/50 [00:00<?, ?it/s]"
      ]
     },
     "metadata": {},
     "output_type": "display_data"
    },
    {
     "data": {
      "application/vnd.jupyter.widget-view+json": {
       "model_id": "",
       "version_major": 2,
       "version_minor": 0
      },
      "text/plain": [
       "  ... working at frequency = 8602.0 Hz:   0%|          | 0/50 [00:00<?, ?it/s]"
      ]
     },
     "metadata": {},
     "output_type": "display_data"
    },
    {
     "data": {
      "application/vnd.jupyter.widget-view+json": {
       "model_id": "",
       "version_major": 2,
       "version_minor": 0
      },
      "text/plain": [
       "  ... working at frequency = 8652.0 Hz:   0%|          | 0/50 [00:00<?, ?it/s]"
      ]
     },
     "metadata": {},
     "output_type": "display_data"
    },
    {
     "data": {
      "application/vnd.jupyter.widget-view+json": {
       "model_id": "",
       "version_major": 2,
       "version_minor": 0
      },
      "text/plain": [
       "  ... working at frequency = 8702.0 Hz:   0%|          | 0/50 [00:00<?, ?it/s]"
      ]
     },
     "metadata": {},
     "output_type": "display_data"
    },
    {
     "data": {
      "application/vnd.jupyter.widget-view+json": {
       "model_id": "",
       "version_major": 2,
       "version_minor": 0
      },
      "text/plain": [
       "  ... working at frequency = 8752.0 Hz:   0%|          | 0/50 [00:00<?, ?it/s]"
      ]
     },
     "metadata": {},
     "output_type": "display_data"
    },
    {
     "data": {
      "application/vnd.jupyter.widget-view+json": {
       "model_id": "",
       "version_major": 2,
       "version_minor": 0
      },
      "text/plain": [
       "  ... working at frequency = 8802.0 Hz:   0%|          | 0/50 [00:00<?, ?it/s]"
      ]
     },
     "metadata": {},
     "output_type": "display_data"
    },
    {
     "data": {
      "application/vnd.jupyter.widget-view+json": {
       "model_id": "",
       "version_major": 2,
       "version_minor": 0
      },
      "text/plain": [
       "  ... working at frequency = 8852.0 Hz:   0%|          | 0/50 [00:00<?, ?it/s]"
      ]
     },
     "metadata": {},
     "output_type": "display_data"
    },
    {
     "data": {
      "application/vnd.jupyter.widget-view+json": {
       "model_id": "",
       "version_major": 2,
       "version_minor": 0
      },
      "text/plain": [
       "  ... working at frequency = 8902.0 Hz:   0%|          | 0/50 [00:00<?, ?it/s]"
      ]
     },
     "metadata": {},
     "output_type": "display_data"
    },
    {
     "data": {
      "application/vnd.jupyter.widget-view+json": {
       "model_id": "",
       "version_major": 2,
       "version_minor": 0
      },
      "text/plain": [
       "  ... working at frequency = 8952.0 Hz:   0%|          | 0/50 [00:00<?, ?it/s]"
      ]
     },
     "metadata": {},
     "output_type": "display_data"
    },
    {
     "data": {
      "application/vnd.jupyter.widget-view+json": {
       "model_id": "",
       "version_major": 2,
       "version_minor": 0
      },
      "text/plain": [
       "  ... working at frequency = 9002.0 Hz:   0%|          | 0/50 [00:00<?, ?it/s]"
      ]
     },
     "metadata": {},
     "output_type": "display_data"
    },
    {
     "data": {
      "application/vnd.jupyter.widget-view+json": {
       "model_id": "",
       "version_major": 2,
       "version_minor": 0
      },
      "text/plain": [
       "  ... working at frequency = 9052.0 Hz:   0%|          | 0/50 [00:00<?, ?it/s]"
      ]
     },
     "metadata": {},
     "output_type": "display_data"
    },
    {
     "data": {
      "application/vnd.jupyter.widget-view+json": {
       "model_id": "",
       "version_major": 2,
       "version_minor": 0
      },
      "text/plain": [
       "  ... working at frequency = 9102.0 Hz:   0%|          | 0/50 [00:00<?, ?it/s]"
      ]
     },
     "metadata": {},
     "output_type": "display_data"
    },
    {
     "data": {
      "application/vnd.jupyter.widget-view+json": {
       "model_id": "",
       "version_major": 2,
       "version_minor": 0
      },
      "text/plain": [
       "  ... working at frequency = 9152.0 Hz:   0%|          | 0/50 [00:00<?, ?it/s]"
      ]
     },
     "metadata": {},
     "output_type": "display_data"
    },
    {
     "data": {
      "application/vnd.jupyter.widget-view+json": {
       "model_id": "",
       "version_major": 2,
       "version_minor": 0
      },
      "text/plain": [
       "  ... working at frequency = 9202.0 Hz:   0%|          | 0/50 [00:00<?, ?it/s]"
      ]
     },
     "metadata": {},
     "output_type": "display_data"
    },
    {
     "data": {
      "application/vnd.jupyter.widget-view+json": {
       "model_id": "",
       "version_major": 2,
       "version_minor": 0
      },
      "text/plain": [
       "  ... working at frequency = 9252.0 Hz:   0%|          | 0/50 [00:00<?, ?it/s]"
      ]
     },
     "metadata": {},
     "output_type": "display_data"
    },
    {
     "data": {
      "application/vnd.jupyter.widget-view+json": {
       "model_id": "",
       "version_major": 2,
       "version_minor": 0
      },
      "text/plain": [
       "  ... working at frequency = 9302.0 Hz:   0%|          | 0/50 [00:00<?, ?it/s]"
      ]
     },
     "metadata": {},
     "output_type": "display_data"
    },
    {
     "data": {
      "application/vnd.jupyter.widget-view+json": {
       "model_id": "",
       "version_major": 2,
       "version_minor": 0
      },
      "text/plain": [
       "  ... working at frequency = 9352.0 Hz:   0%|          | 0/50 [00:00<?, ?it/s]"
      ]
     },
     "metadata": {},
     "output_type": "display_data"
    },
    {
     "data": {
      "application/vnd.jupyter.widget-view+json": {
       "model_id": "",
       "version_major": 2,
       "version_minor": 0
      },
      "text/plain": [
       "  ... working at frequency = 9402.0 Hz:   0%|          | 0/50 [00:00<?, ?it/s]"
      ]
     },
     "metadata": {},
     "output_type": "display_data"
    },
    {
     "data": {
      "application/vnd.jupyter.widget-view+json": {
       "model_id": "",
       "version_major": 2,
       "version_minor": 0
      },
      "text/plain": [
       "  ... working at frequency = 9452.0 Hz:   0%|          | 0/50 [00:00<?, ?it/s]"
      ]
     },
     "metadata": {},
     "output_type": "display_data"
    },
    {
     "data": {
      "application/vnd.jupyter.widget-view+json": {
       "model_id": "",
       "version_major": 2,
       "version_minor": 0
      },
      "text/plain": [
       "  ... working at frequency = 9502.0 Hz:   0%|          | 0/50 [00:00<?, ?it/s]"
      ]
     },
     "metadata": {},
     "output_type": "display_data"
    },
    {
     "data": {
      "application/vnd.jupyter.widget-view+json": {
       "model_id": "",
       "version_major": 2,
       "version_minor": 0
      },
      "text/plain": [
       "  ... working at frequency = 9552.0 Hz:   0%|          | 0/50 [00:00<?, ?it/s]"
      ]
     },
     "metadata": {},
     "output_type": "display_data"
    },
    {
     "data": {
      "application/vnd.jupyter.widget-view+json": {
       "model_id": "",
       "version_major": 2,
       "version_minor": 0
      },
      "text/plain": [
       "  ... working at frequency = 9602.0 Hz:   0%|          | 0/50 [00:00<?, ?it/s]"
      ]
     },
     "metadata": {},
     "output_type": "display_data"
    },
    {
     "data": {
      "application/vnd.jupyter.widget-view+json": {
       "model_id": "",
       "version_major": 2,
       "version_minor": 0
      },
      "text/plain": [
       "  ... working at frequency = 9652.0 Hz:   0%|          | 0/50 [00:00<?, ?it/s]"
      ]
     },
     "metadata": {},
     "output_type": "display_data"
    },
    {
     "data": {
      "application/vnd.jupyter.widget-view+json": {
       "model_id": "",
       "version_major": 2,
       "version_minor": 0
      },
      "text/plain": [
       "  ... working at frequency = 9702.0 Hz:   0%|          | 0/50 [00:00<?, ?it/s]"
      ]
     },
     "metadata": {},
     "output_type": "display_data"
    },
    {
     "data": {
      "application/vnd.jupyter.widget-view+json": {
       "model_id": "",
       "version_major": 2,
       "version_minor": 0
      },
      "text/plain": [
       "  ... working at frequency = 9752.0 Hz:   0%|          | 0/50 [00:00<?, ?it/s]"
      ]
     },
     "metadata": {},
     "output_type": "display_data"
    },
    {
     "data": {
      "application/vnd.jupyter.widget-view+json": {
       "model_id": "",
       "version_major": 2,
       "version_minor": 0
      },
      "text/plain": [
       "  ... working at frequency = 9802.0 Hz:   0%|          | 0/50 [00:00<?, ?it/s]"
      ]
     },
     "metadata": {},
     "output_type": "display_data"
    },
    {
     "data": {
      "application/vnd.jupyter.widget-view+json": {
       "model_id": "",
       "version_major": 2,
       "version_minor": 0
      },
      "text/plain": [
       "  ... working at frequency = 9852.0 Hz:   0%|          | 0/50 [00:00<?, ?it/s]"
      ]
     },
     "metadata": {},
     "output_type": "display_data"
    },
    {
     "data": {
      "application/vnd.jupyter.widget-view+json": {
       "model_id": "",
       "version_major": 2,
       "version_minor": 0
      },
      "text/plain": [
       "  ... working at frequency = 9902.0 Hz:   0%|          | 0/50 [00:00<?, ?it/s]"
      ]
     },
     "metadata": {},
     "output_type": "display_data"
    },
    {
     "data": {
      "application/vnd.jupyter.widget-view+json": {
       "model_id": "",
       "version_major": 2,
       "version_minor": 0
      },
      "text/plain": [
       "  ... working at frequency = 9952.0 Hz:   0%|          | 0/50 [00:00<?, ?it/s]"
      ]
     },
     "metadata": {},
     "output_type": "display_data"
    },
    {
     "data": {
      "application/vnd.jupyter.widget-view+json": {
       "model_id": "697e441ce09845748414847de2a815d2",
       "version_major": 2,
       "version_minor": 0
      },
      "text/plain": [
       "  ... working at frequency = 10002.0 Hz:   0%|          | 0/50 [00:00<?, ?it/s]"
      ]
     },
     "metadata": {},
     "output_type": "display_data"
    },
    {
     "name": "stdout",
     "output_type": "stream",
     "text": [
      "\n",
      "\n",
      "Solving wavenumber in determinant for shape = cone, p = 0.006, q = 0.003, Young's = 140000000.0\n"
     ]
    },
    {
     "data": {
      "application/vnd.jupyter.widget-view+json": {
       "model_id": "0db6920408574ad6b6e80e26cfa966f0",
       "version_major": 2,
       "version_minor": 0
      },
      "text/plain": [
       "Solving for all frequencies:   0%|          | 0/201 [00:00<?, ?it/s]"
      ]
     },
     "metadata": {},
     "output_type": "display_data"
    },
    {
     "data": {
      "application/vnd.jupyter.widget-view+json": {
       "model_id": "",
       "version_major": 2,
       "version_minor": 0
      },
      "text/plain": [
       "  ... working at frequency = 2.0 Hz:   0%|          | 0/50 [00:00<?, ?it/s]"
      ]
     },
     "metadata": {},
     "output_type": "display_data"
    },
    {
     "data": {
      "application/vnd.jupyter.widget-view+json": {
       "model_id": "",
       "version_major": 2,
       "version_minor": 0
      },
      "text/plain": [
       "  ... working at frequency = 52.0 Hz:   0%|          | 0/50 [00:00<?, ?it/s]"
      ]
     },
     "metadata": {},
     "output_type": "display_data"
    },
    {
     "data": {
      "application/vnd.jupyter.widget-view+json": {
       "model_id": "",
       "version_major": 2,
       "version_minor": 0
      },
      "text/plain": [
       "  ... working at frequency = 102.0 Hz:   0%|          | 0/50 [00:00<?, ?it/s]"
      ]
     },
     "metadata": {},
     "output_type": "display_data"
    },
    {
     "data": {
      "application/vnd.jupyter.widget-view+json": {
       "model_id": "",
       "version_major": 2,
       "version_minor": 0
      },
      "text/plain": [
       "  ... working at frequency = 152.0 Hz:   0%|          | 0/50 [00:00<?, ?it/s]"
      ]
     },
     "metadata": {},
     "output_type": "display_data"
    },
    {
     "data": {
      "application/vnd.jupyter.widget-view+json": {
       "model_id": "",
       "version_major": 2,
       "version_minor": 0
      },
      "text/plain": [
       "  ... working at frequency = 202.0 Hz:   0%|          | 0/50 [00:00<?, ?it/s]"
      ]
     },
     "metadata": {},
     "output_type": "display_data"
    },
    {
     "data": {
      "application/vnd.jupyter.widget-view+json": {
       "model_id": "",
       "version_major": 2,
       "version_minor": 0
      },
      "text/plain": [
       "  ... working at frequency = 252.0 Hz:   0%|          | 0/50 [00:00<?, ?it/s]"
      ]
     },
     "metadata": {},
     "output_type": "display_data"
    },
    {
     "data": {
      "application/vnd.jupyter.widget-view+json": {
       "model_id": "",
       "version_major": 2,
       "version_minor": 0
      },
      "text/plain": [
       "  ... working at frequency = 302.0 Hz:   0%|          | 0/50 [00:00<?, ?it/s]"
      ]
     },
     "metadata": {},
     "output_type": "display_data"
    },
    {
     "data": {
      "application/vnd.jupyter.widget-view+json": {
       "model_id": "",
       "version_major": 2,
       "version_minor": 0
      },
      "text/plain": [
       "  ... working at frequency = 352.0 Hz:   0%|          | 0/50 [00:00<?, ?it/s]"
      ]
     },
     "metadata": {},
     "output_type": "display_data"
    },
    {
     "data": {
      "application/vnd.jupyter.widget-view+json": {
       "model_id": "",
       "version_major": 2,
       "version_minor": 0
      },
      "text/plain": [
       "  ... working at frequency = 402.0 Hz:   0%|          | 0/50 [00:00<?, ?it/s]"
      ]
     },
     "metadata": {},
     "output_type": "display_data"
    },
    {
     "data": {
      "application/vnd.jupyter.widget-view+json": {
       "model_id": "",
       "version_major": 2,
       "version_minor": 0
      },
      "text/plain": [
       "  ... working at frequency = 452.0 Hz:   0%|          | 0/50 [00:00<?, ?it/s]"
      ]
     },
     "metadata": {},
     "output_type": "display_data"
    },
    {
     "data": {
      "application/vnd.jupyter.widget-view+json": {
       "model_id": "",
       "version_major": 2,
       "version_minor": 0
      },
      "text/plain": [
       "  ... working at frequency = 502.0 Hz:   0%|          | 0/50 [00:00<?, ?it/s]"
      ]
     },
     "metadata": {},
     "output_type": "display_data"
    },
    {
     "data": {
      "application/vnd.jupyter.widget-view+json": {
       "model_id": "",
       "version_major": 2,
       "version_minor": 0
      },
      "text/plain": [
       "  ... working at frequency = 552.0 Hz:   0%|          | 0/50 [00:00<?, ?it/s]"
      ]
     },
     "metadata": {},
     "output_type": "display_data"
    },
    {
     "data": {
      "application/vnd.jupyter.widget-view+json": {
       "model_id": "",
       "version_major": 2,
       "version_minor": 0
      },
      "text/plain": [
       "  ... working at frequency = 602.0 Hz:   0%|          | 0/50 [00:00<?, ?it/s]"
      ]
     },
     "metadata": {},
     "output_type": "display_data"
    },
    {
     "data": {
      "application/vnd.jupyter.widget-view+json": {
       "model_id": "",
       "version_major": 2,
       "version_minor": 0
      },
      "text/plain": [
       "  ... working at frequency = 652.0 Hz:   0%|          | 0/50 [00:00<?, ?it/s]"
      ]
     },
     "metadata": {},
     "output_type": "display_data"
    },
    {
     "data": {
      "application/vnd.jupyter.widget-view+json": {
       "model_id": "",
       "version_major": 2,
       "version_minor": 0
      },
      "text/plain": [
       "  ... working at frequency = 702.0 Hz:   0%|          | 0/50 [00:00<?, ?it/s]"
      ]
     },
     "metadata": {},
     "output_type": "display_data"
    },
    {
     "data": {
      "application/vnd.jupyter.widget-view+json": {
       "model_id": "",
       "version_major": 2,
       "version_minor": 0
      },
      "text/plain": [
       "  ... working at frequency = 752.0 Hz:   0%|          | 0/50 [00:00<?, ?it/s]"
      ]
     },
     "metadata": {},
     "output_type": "display_data"
    },
    {
     "data": {
      "application/vnd.jupyter.widget-view+json": {
       "model_id": "",
       "version_major": 2,
       "version_minor": 0
      },
      "text/plain": [
       "  ... working at frequency = 802.0 Hz:   0%|          | 0/50 [00:00<?, ?it/s]"
      ]
     },
     "metadata": {},
     "output_type": "display_data"
    },
    {
     "data": {
      "application/vnd.jupyter.widget-view+json": {
       "model_id": "",
       "version_major": 2,
       "version_minor": 0
      },
      "text/plain": [
       "  ... working at frequency = 852.0 Hz:   0%|          | 0/50 [00:00<?, ?it/s]"
      ]
     },
     "metadata": {},
     "output_type": "display_data"
    },
    {
     "data": {
      "application/vnd.jupyter.widget-view+json": {
       "model_id": "",
       "version_major": 2,
       "version_minor": 0
      },
      "text/plain": [
       "  ... working at frequency = 902.0 Hz:   0%|          | 0/50 [00:00<?, ?it/s]"
      ]
     },
     "metadata": {},
     "output_type": "display_data"
    },
    {
     "data": {
      "application/vnd.jupyter.widget-view+json": {
       "model_id": "",
       "version_major": 2,
       "version_minor": 0
      },
      "text/plain": [
       "  ... working at frequency = 952.0 Hz:   0%|          | 0/50 [00:00<?, ?it/s]"
      ]
     },
     "metadata": {},
     "output_type": "display_data"
    },
    {
     "data": {
      "application/vnd.jupyter.widget-view+json": {
       "model_id": "",
       "version_major": 2,
       "version_minor": 0
      },
      "text/plain": [
       "  ... working at frequency = 1002.0 Hz:   0%|          | 0/50 [00:00<?, ?it/s]"
      ]
     },
     "metadata": {},
     "output_type": "display_data"
    },
    {
     "data": {
      "application/vnd.jupyter.widget-view+json": {
       "model_id": "",
       "version_major": 2,
       "version_minor": 0
      },
      "text/plain": [
       "  ... working at frequency = 1052.0 Hz:   0%|          | 0/50 [00:00<?, ?it/s]"
      ]
     },
     "metadata": {},
     "output_type": "display_data"
    },
    {
     "data": {
      "application/vnd.jupyter.widget-view+json": {
       "model_id": "",
       "version_major": 2,
       "version_minor": 0
      },
      "text/plain": [
       "  ... working at frequency = 1102.0 Hz:   0%|          | 0/50 [00:00<?, ?it/s]"
      ]
     },
     "metadata": {},
     "output_type": "display_data"
    },
    {
     "data": {
      "application/vnd.jupyter.widget-view+json": {
       "model_id": "",
       "version_major": 2,
       "version_minor": 0
      },
      "text/plain": [
       "  ... working at frequency = 1152.0 Hz:   0%|          | 0/50 [00:00<?, ?it/s]"
      ]
     },
     "metadata": {},
     "output_type": "display_data"
    },
    {
     "data": {
      "application/vnd.jupyter.widget-view+json": {
       "model_id": "",
       "version_major": 2,
       "version_minor": 0
      },
      "text/plain": [
       "  ... working at frequency = 1202.0 Hz:   0%|          | 0/50 [00:00<?, ?it/s]"
      ]
     },
     "metadata": {},
     "output_type": "display_data"
    },
    {
     "data": {
      "application/vnd.jupyter.widget-view+json": {
       "model_id": "",
       "version_major": 2,
       "version_minor": 0
      },
      "text/plain": [
       "  ... working at frequency = 1252.0 Hz:   0%|          | 0/50 [00:00<?, ?it/s]"
      ]
     },
     "metadata": {},
     "output_type": "display_data"
    },
    {
     "data": {
      "application/vnd.jupyter.widget-view+json": {
       "model_id": "",
       "version_major": 2,
       "version_minor": 0
      },
      "text/plain": [
       "  ... working at frequency = 1302.0 Hz:   0%|          | 0/50 [00:00<?, ?it/s]"
      ]
     },
     "metadata": {},
     "output_type": "display_data"
    },
    {
     "data": {
      "application/vnd.jupyter.widget-view+json": {
       "model_id": "",
       "version_major": 2,
       "version_minor": 0
      },
      "text/plain": [
       "  ... working at frequency = 1352.0 Hz:   0%|          | 0/50 [00:00<?, ?it/s]"
      ]
     },
     "metadata": {},
     "output_type": "display_data"
    },
    {
     "data": {
      "application/vnd.jupyter.widget-view+json": {
       "model_id": "",
       "version_major": 2,
       "version_minor": 0
      },
      "text/plain": [
       "  ... working at frequency = 1402.0 Hz:   0%|          | 0/50 [00:00<?, ?it/s]"
      ]
     },
     "metadata": {},
     "output_type": "display_data"
    },
    {
     "data": {
      "application/vnd.jupyter.widget-view+json": {
       "model_id": "",
       "version_major": 2,
       "version_minor": 0
      },
      "text/plain": [
       "  ... working at frequency = 1452.0 Hz:   0%|          | 0/50 [00:00<?, ?it/s]"
      ]
     },
     "metadata": {},
     "output_type": "display_data"
    },
    {
     "data": {
      "application/vnd.jupyter.widget-view+json": {
       "model_id": "",
       "version_major": 2,
       "version_minor": 0
      },
      "text/plain": [
       "  ... working at frequency = 1502.0 Hz:   0%|          | 0/50 [00:00<?, ?it/s]"
      ]
     },
     "metadata": {},
     "output_type": "display_data"
    },
    {
     "data": {
      "application/vnd.jupyter.widget-view+json": {
       "model_id": "",
       "version_major": 2,
       "version_minor": 0
      },
      "text/plain": [
       "  ... working at frequency = 1552.0 Hz:   0%|          | 0/50 [00:00<?, ?it/s]"
      ]
     },
     "metadata": {},
     "output_type": "display_data"
    },
    {
     "data": {
      "application/vnd.jupyter.widget-view+json": {
       "model_id": "",
       "version_major": 2,
       "version_minor": 0
      },
      "text/plain": [
       "  ... working at frequency = 1602.0 Hz:   0%|          | 0/50 [00:00<?, ?it/s]"
      ]
     },
     "metadata": {},
     "output_type": "display_data"
    },
    {
     "data": {
      "application/vnd.jupyter.widget-view+json": {
       "model_id": "",
       "version_major": 2,
       "version_minor": 0
      },
      "text/plain": [
       "  ... working at frequency = 1652.0 Hz:   0%|          | 0/50 [00:00<?, ?it/s]"
      ]
     },
     "metadata": {},
     "output_type": "display_data"
    },
    {
     "data": {
      "application/vnd.jupyter.widget-view+json": {
       "model_id": "",
       "version_major": 2,
       "version_minor": 0
      },
      "text/plain": [
       "  ... working at frequency = 1702.0 Hz:   0%|          | 0/50 [00:00<?, ?it/s]"
      ]
     },
     "metadata": {},
     "output_type": "display_data"
    },
    {
     "data": {
      "application/vnd.jupyter.widget-view+json": {
       "model_id": "",
       "version_major": 2,
       "version_minor": 0
      },
      "text/plain": [
       "  ... working at frequency = 1752.0 Hz:   0%|          | 0/50 [00:00<?, ?it/s]"
      ]
     },
     "metadata": {},
     "output_type": "display_data"
    },
    {
     "data": {
      "application/vnd.jupyter.widget-view+json": {
       "model_id": "",
       "version_major": 2,
       "version_minor": 0
      },
      "text/plain": [
       "  ... working at frequency = 1802.0 Hz:   0%|          | 0/50 [00:00<?, ?it/s]"
      ]
     },
     "metadata": {},
     "output_type": "display_data"
    },
    {
     "data": {
      "application/vnd.jupyter.widget-view+json": {
       "model_id": "",
       "version_major": 2,
       "version_minor": 0
      },
      "text/plain": [
       "  ... working at frequency = 1852.0 Hz:   0%|          | 0/50 [00:00<?, ?it/s]"
      ]
     },
     "metadata": {},
     "output_type": "display_data"
    },
    {
     "data": {
      "application/vnd.jupyter.widget-view+json": {
       "model_id": "",
       "version_major": 2,
       "version_minor": 0
      },
      "text/plain": [
       "  ... working at frequency = 1902.0 Hz:   0%|          | 0/50 [00:00<?, ?it/s]"
      ]
     },
     "metadata": {},
     "output_type": "display_data"
    },
    {
     "data": {
      "application/vnd.jupyter.widget-view+json": {
       "model_id": "",
       "version_major": 2,
       "version_minor": 0
      },
      "text/plain": [
       "  ... working at frequency = 1952.0 Hz:   0%|          | 0/50 [00:00<?, ?it/s]"
      ]
     },
     "metadata": {},
     "output_type": "display_data"
    },
    {
     "data": {
      "application/vnd.jupyter.widget-view+json": {
       "model_id": "",
       "version_major": 2,
       "version_minor": 0
      },
      "text/plain": [
       "  ... working at frequency = 2002.0 Hz:   0%|          | 0/50 [00:00<?, ?it/s]"
      ]
     },
     "metadata": {},
     "output_type": "display_data"
    },
    {
     "data": {
      "application/vnd.jupyter.widget-view+json": {
       "model_id": "",
       "version_major": 2,
       "version_minor": 0
      },
      "text/plain": [
       "  ... working at frequency = 2052.0 Hz:   0%|          | 0/50 [00:00<?, ?it/s]"
      ]
     },
     "metadata": {},
     "output_type": "display_data"
    },
    {
     "data": {
      "application/vnd.jupyter.widget-view+json": {
       "model_id": "",
       "version_major": 2,
       "version_minor": 0
      },
      "text/plain": [
       "  ... working at frequency = 2102.0 Hz:   0%|          | 0/50 [00:00<?, ?it/s]"
      ]
     },
     "metadata": {},
     "output_type": "display_data"
    },
    {
     "data": {
      "application/vnd.jupyter.widget-view+json": {
       "model_id": "",
       "version_major": 2,
       "version_minor": 0
      },
      "text/plain": [
       "  ... working at frequency = 2152.0 Hz:   0%|          | 0/50 [00:00<?, ?it/s]"
      ]
     },
     "metadata": {},
     "output_type": "display_data"
    },
    {
     "data": {
      "application/vnd.jupyter.widget-view+json": {
       "model_id": "",
       "version_major": 2,
       "version_minor": 0
      },
      "text/plain": [
       "  ... working at frequency = 2202.0 Hz:   0%|          | 0/50 [00:00<?, ?it/s]"
      ]
     },
     "metadata": {},
     "output_type": "display_data"
    },
    {
     "data": {
      "application/vnd.jupyter.widget-view+json": {
       "model_id": "",
       "version_major": 2,
       "version_minor": 0
      },
      "text/plain": [
       "  ... working at frequency = 2252.0 Hz:   0%|          | 0/50 [00:00<?, ?it/s]"
      ]
     },
     "metadata": {},
     "output_type": "display_data"
    },
    {
     "data": {
      "application/vnd.jupyter.widget-view+json": {
       "model_id": "",
       "version_major": 2,
       "version_minor": 0
      },
      "text/plain": [
       "  ... working at frequency = 2302.0 Hz:   0%|          | 0/50 [00:00<?, ?it/s]"
      ]
     },
     "metadata": {},
     "output_type": "display_data"
    },
    {
     "data": {
      "application/vnd.jupyter.widget-view+json": {
       "model_id": "",
       "version_major": 2,
       "version_minor": 0
      },
      "text/plain": [
       "  ... working at frequency = 2352.0 Hz:   0%|          | 0/50 [00:00<?, ?it/s]"
      ]
     },
     "metadata": {},
     "output_type": "display_data"
    },
    {
     "data": {
      "application/vnd.jupyter.widget-view+json": {
       "model_id": "",
       "version_major": 2,
       "version_minor": 0
      },
      "text/plain": [
       "  ... working at frequency = 2402.0 Hz:   0%|          | 0/50 [00:00<?, ?it/s]"
      ]
     },
     "metadata": {},
     "output_type": "display_data"
    },
    {
     "data": {
      "application/vnd.jupyter.widget-view+json": {
       "model_id": "",
       "version_major": 2,
       "version_minor": 0
      },
      "text/plain": [
       "  ... working at frequency = 2452.0 Hz:   0%|          | 0/50 [00:00<?, ?it/s]"
      ]
     },
     "metadata": {},
     "output_type": "display_data"
    },
    {
     "data": {
      "application/vnd.jupyter.widget-view+json": {
       "model_id": "",
       "version_major": 2,
       "version_minor": 0
      },
      "text/plain": [
       "  ... working at frequency = 2502.0 Hz:   0%|          | 0/50 [00:00<?, ?it/s]"
      ]
     },
     "metadata": {},
     "output_type": "display_data"
    },
    {
     "data": {
      "application/vnd.jupyter.widget-view+json": {
       "model_id": "",
       "version_major": 2,
       "version_minor": 0
      },
      "text/plain": [
       "  ... working at frequency = 2552.0 Hz:   0%|          | 0/50 [00:00<?, ?it/s]"
      ]
     },
     "metadata": {},
     "output_type": "display_data"
    },
    {
     "data": {
      "application/vnd.jupyter.widget-view+json": {
       "model_id": "",
       "version_major": 2,
       "version_minor": 0
      },
      "text/plain": [
       "  ... working at frequency = 2602.0 Hz:   0%|          | 0/50 [00:00<?, ?it/s]"
      ]
     },
     "metadata": {},
     "output_type": "display_data"
    },
    {
     "data": {
      "application/vnd.jupyter.widget-view+json": {
       "model_id": "",
       "version_major": 2,
       "version_minor": 0
      },
      "text/plain": [
       "  ... working at frequency = 2652.0 Hz:   0%|          | 0/50 [00:00<?, ?it/s]"
      ]
     },
     "metadata": {},
     "output_type": "display_data"
    },
    {
     "data": {
      "application/vnd.jupyter.widget-view+json": {
       "model_id": "",
       "version_major": 2,
       "version_minor": 0
      },
      "text/plain": [
       "  ... working at frequency = 2702.0 Hz:   0%|          | 0/50 [00:00<?, ?it/s]"
      ]
     },
     "metadata": {},
     "output_type": "display_data"
    },
    {
     "data": {
      "application/vnd.jupyter.widget-view+json": {
       "model_id": "",
       "version_major": 2,
       "version_minor": 0
      },
      "text/plain": [
       "  ... working at frequency = 2752.0 Hz:   0%|          | 0/50 [00:00<?, ?it/s]"
      ]
     },
     "metadata": {},
     "output_type": "display_data"
    },
    {
     "data": {
      "application/vnd.jupyter.widget-view+json": {
       "model_id": "",
       "version_major": 2,
       "version_minor": 0
      },
      "text/plain": [
       "  ... working at frequency = 2802.0 Hz:   0%|          | 0/50 [00:00<?, ?it/s]"
      ]
     },
     "metadata": {},
     "output_type": "display_data"
    },
    {
     "data": {
      "application/vnd.jupyter.widget-view+json": {
       "model_id": "",
       "version_major": 2,
       "version_minor": 0
      },
      "text/plain": [
       "  ... working at frequency = 2852.0 Hz:   0%|          | 0/50 [00:00<?, ?it/s]"
      ]
     },
     "metadata": {},
     "output_type": "display_data"
    },
    {
     "data": {
      "application/vnd.jupyter.widget-view+json": {
       "model_id": "",
       "version_major": 2,
       "version_minor": 0
      },
      "text/plain": [
       "  ... working at frequency = 2902.0 Hz:   0%|          | 0/50 [00:00<?, ?it/s]"
      ]
     },
     "metadata": {},
     "output_type": "display_data"
    },
    {
     "data": {
      "application/vnd.jupyter.widget-view+json": {
       "model_id": "",
       "version_major": 2,
       "version_minor": 0
      },
      "text/plain": [
       "  ... working at frequency = 2952.0 Hz:   0%|          | 0/50 [00:00<?, ?it/s]"
      ]
     },
     "metadata": {},
     "output_type": "display_data"
    },
    {
     "data": {
      "application/vnd.jupyter.widget-view+json": {
       "model_id": "",
       "version_major": 2,
       "version_minor": 0
      },
      "text/plain": [
       "  ... working at frequency = 3002.0 Hz:   0%|          | 0/50 [00:00<?, ?it/s]"
      ]
     },
     "metadata": {},
     "output_type": "display_data"
    },
    {
     "data": {
      "application/vnd.jupyter.widget-view+json": {
       "model_id": "",
       "version_major": 2,
       "version_minor": 0
      },
      "text/plain": [
       "  ... working at frequency = 3052.0 Hz:   0%|          | 0/50 [00:00<?, ?it/s]"
      ]
     },
     "metadata": {},
     "output_type": "display_data"
    },
    {
     "data": {
      "application/vnd.jupyter.widget-view+json": {
       "model_id": "",
       "version_major": 2,
       "version_minor": 0
      },
      "text/plain": [
       "  ... working at frequency = 3102.0 Hz:   0%|          | 0/50 [00:00<?, ?it/s]"
      ]
     },
     "metadata": {},
     "output_type": "display_data"
    },
    {
     "data": {
      "application/vnd.jupyter.widget-view+json": {
       "model_id": "",
       "version_major": 2,
       "version_minor": 0
      },
      "text/plain": [
       "  ... working at frequency = 3152.0 Hz:   0%|          | 0/50 [00:00<?, ?it/s]"
      ]
     },
     "metadata": {},
     "output_type": "display_data"
    },
    {
     "data": {
      "application/vnd.jupyter.widget-view+json": {
       "model_id": "",
       "version_major": 2,
       "version_minor": 0
      },
      "text/plain": [
       "  ... working at frequency = 3202.0 Hz:   0%|          | 0/50 [00:00<?, ?it/s]"
      ]
     },
     "metadata": {},
     "output_type": "display_data"
    },
    {
     "data": {
      "application/vnd.jupyter.widget-view+json": {
       "model_id": "",
       "version_major": 2,
       "version_minor": 0
      },
      "text/plain": [
       "  ... working at frequency = 3252.0 Hz:   0%|          | 0/50 [00:00<?, ?it/s]"
      ]
     },
     "metadata": {},
     "output_type": "display_data"
    },
    {
     "data": {
      "application/vnd.jupyter.widget-view+json": {
       "model_id": "",
       "version_major": 2,
       "version_minor": 0
      },
      "text/plain": [
       "  ... working at frequency = 3302.0 Hz:   0%|          | 0/50 [00:00<?, ?it/s]"
      ]
     },
     "metadata": {},
     "output_type": "display_data"
    },
    {
     "data": {
      "application/vnd.jupyter.widget-view+json": {
       "model_id": "",
       "version_major": 2,
       "version_minor": 0
      },
      "text/plain": [
       "  ... working at frequency = 3352.0 Hz:   0%|          | 0/50 [00:00<?, ?it/s]"
      ]
     },
     "metadata": {},
     "output_type": "display_data"
    },
    {
     "data": {
      "application/vnd.jupyter.widget-view+json": {
       "model_id": "",
       "version_major": 2,
       "version_minor": 0
      },
      "text/plain": [
       "  ... working at frequency = 3402.0 Hz:   0%|          | 0/50 [00:00<?, ?it/s]"
      ]
     },
     "metadata": {},
     "output_type": "display_data"
    },
    {
     "data": {
      "application/vnd.jupyter.widget-view+json": {
       "model_id": "",
       "version_major": 2,
       "version_minor": 0
      },
      "text/plain": [
       "  ... working at frequency = 3452.0 Hz:   0%|          | 0/50 [00:00<?, ?it/s]"
      ]
     },
     "metadata": {},
     "output_type": "display_data"
    },
    {
     "data": {
      "application/vnd.jupyter.widget-view+json": {
       "model_id": "",
       "version_major": 2,
       "version_minor": 0
      },
      "text/plain": [
       "  ... working at frequency = 3502.0 Hz:   0%|          | 0/50 [00:00<?, ?it/s]"
      ]
     },
     "metadata": {},
     "output_type": "display_data"
    },
    {
     "data": {
      "application/vnd.jupyter.widget-view+json": {
       "model_id": "",
       "version_major": 2,
       "version_minor": 0
      },
      "text/plain": [
       "  ... working at frequency = 3552.0 Hz:   0%|          | 0/50 [00:00<?, ?it/s]"
      ]
     },
     "metadata": {},
     "output_type": "display_data"
    },
    {
     "data": {
      "application/vnd.jupyter.widget-view+json": {
       "model_id": "",
       "version_major": 2,
       "version_minor": 0
      },
      "text/plain": [
       "  ... working at frequency = 3602.0 Hz:   0%|          | 0/50 [00:00<?, ?it/s]"
      ]
     },
     "metadata": {},
     "output_type": "display_data"
    },
    {
     "data": {
      "application/vnd.jupyter.widget-view+json": {
       "model_id": "",
       "version_major": 2,
       "version_minor": 0
      },
      "text/plain": [
       "  ... working at frequency = 3652.0 Hz:   0%|          | 0/50 [00:00<?, ?it/s]"
      ]
     },
     "metadata": {},
     "output_type": "display_data"
    },
    {
     "data": {
      "application/vnd.jupyter.widget-view+json": {
       "model_id": "",
       "version_major": 2,
       "version_minor": 0
      },
      "text/plain": [
       "  ... working at frequency = 3702.0 Hz:   0%|          | 0/50 [00:00<?, ?it/s]"
      ]
     },
     "metadata": {},
     "output_type": "display_data"
    },
    {
     "data": {
      "application/vnd.jupyter.widget-view+json": {
       "model_id": "",
       "version_major": 2,
       "version_minor": 0
      },
      "text/plain": [
       "  ... working at frequency = 3752.0 Hz:   0%|          | 0/50 [00:00<?, ?it/s]"
      ]
     },
     "metadata": {},
     "output_type": "display_data"
    },
    {
     "data": {
      "application/vnd.jupyter.widget-view+json": {
       "model_id": "",
       "version_major": 2,
       "version_minor": 0
      },
      "text/plain": [
       "  ... working at frequency = 3802.0 Hz:   0%|          | 0/50 [00:00<?, ?it/s]"
      ]
     },
     "metadata": {},
     "output_type": "display_data"
    },
    {
     "data": {
      "application/vnd.jupyter.widget-view+json": {
       "model_id": "",
       "version_major": 2,
       "version_minor": 0
      },
      "text/plain": [
       "  ... working at frequency = 3852.0 Hz:   0%|          | 0/50 [00:00<?, ?it/s]"
      ]
     },
     "metadata": {},
     "output_type": "display_data"
    },
    {
     "data": {
      "application/vnd.jupyter.widget-view+json": {
       "model_id": "",
       "version_major": 2,
       "version_minor": 0
      },
      "text/plain": [
       "  ... working at frequency = 3902.0 Hz:   0%|          | 0/50 [00:00<?, ?it/s]"
      ]
     },
     "metadata": {},
     "output_type": "display_data"
    },
    {
     "data": {
      "application/vnd.jupyter.widget-view+json": {
       "model_id": "",
       "version_major": 2,
       "version_minor": 0
      },
      "text/plain": [
       "  ... working at frequency = 3952.0 Hz:   0%|          | 0/50 [00:00<?, ?it/s]"
      ]
     },
     "metadata": {},
     "output_type": "display_data"
    },
    {
     "data": {
      "application/vnd.jupyter.widget-view+json": {
       "model_id": "",
       "version_major": 2,
       "version_minor": 0
      },
      "text/plain": [
       "  ... working at frequency = 4002.0 Hz:   0%|          | 0/50 [00:00<?, ?it/s]"
      ]
     },
     "metadata": {},
     "output_type": "display_data"
    },
    {
     "data": {
      "application/vnd.jupyter.widget-view+json": {
       "model_id": "",
       "version_major": 2,
       "version_minor": 0
      },
      "text/plain": [
       "  ... working at frequency = 4052.0 Hz:   0%|          | 0/50 [00:00<?, ?it/s]"
      ]
     },
     "metadata": {},
     "output_type": "display_data"
    },
    {
     "data": {
      "application/vnd.jupyter.widget-view+json": {
       "model_id": "",
       "version_major": 2,
       "version_minor": 0
      },
      "text/plain": [
       "  ... working at frequency = 4102.0 Hz:   0%|          | 0/50 [00:00<?, ?it/s]"
      ]
     },
     "metadata": {},
     "output_type": "display_data"
    },
    {
     "data": {
      "application/vnd.jupyter.widget-view+json": {
       "model_id": "",
       "version_major": 2,
       "version_minor": 0
      },
      "text/plain": [
       "  ... working at frequency = 4152.0 Hz:   0%|          | 0/50 [00:00<?, ?it/s]"
      ]
     },
     "metadata": {},
     "output_type": "display_data"
    },
    {
     "data": {
      "application/vnd.jupyter.widget-view+json": {
       "model_id": "",
       "version_major": 2,
       "version_minor": 0
      },
      "text/plain": [
       "  ... working at frequency = 4202.0 Hz:   0%|          | 0/50 [00:00<?, ?it/s]"
      ]
     },
     "metadata": {},
     "output_type": "display_data"
    },
    {
     "data": {
      "application/vnd.jupyter.widget-view+json": {
       "model_id": "",
       "version_major": 2,
       "version_minor": 0
      },
      "text/plain": [
       "  ... working at frequency = 4252.0 Hz:   0%|          | 0/50 [00:00<?, ?it/s]"
      ]
     },
     "metadata": {},
     "output_type": "display_data"
    },
    {
     "data": {
      "application/vnd.jupyter.widget-view+json": {
       "model_id": "",
       "version_major": 2,
       "version_minor": 0
      },
      "text/plain": [
       "  ... working at frequency = 4302.0 Hz:   0%|          | 0/50 [00:00<?, ?it/s]"
      ]
     },
     "metadata": {},
     "output_type": "display_data"
    },
    {
     "data": {
      "application/vnd.jupyter.widget-view+json": {
       "model_id": "",
       "version_major": 2,
       "version_minor": 0
      },
      "text/plain": [
       "  ... working at frequency = 4352.0 Hz:   0%|          | 0/50 [00:00<?, ?it/s]"
      ]
     },
     "metadata": {},
     "output_type": "display_data"
    },
    {
     "data": {
      "application/vnd.jupyter.widget-view+json": {
       "model_id": "",
       "version_major": 2,
       "version_minor": 0
      },
      "text/plain": [
       "  ... working at frequency = 4402.0 Hz:   0%|          | 0/50 [00:00<?, ?it/s]"
      ]
     },
     "metadata": {},
     "output_type": "display_data"
    },
    {
     "data": {
      "application/vnd.jupyter.widget-view+json": {
       "model_id": "",
       "version_major": 2,
       "version_minor": 0
      },
      "text/plain": [
       "  ... working at frequency = 4452.0 Hz:   0%|          | 0/50 [00:00<?, ?it/s]"
      ]
     },
     "metadata": {},
     "output_type": "display_data"
    },
    {
     "data": {
      "application/vnd.jupyter.widget-view+json": {
       "model_id": "",
       "version_major": 2,
       "version_minor": 0
      },
      "text/plain": [
       "  ... working at frequency = 4502.0 Hz:   0%|          | 0/50 [00:00<?, ?it/s]"
      ]
     },
     "metadata": {},
     "output_type": "display_data"
    },
    {
     "data": {
      "application/vnd.jupyter.widget-view+json": {
       "model_id": "",
       "version_major": 2,
       "version_minor": 0
      },
      "text/plain": [
       "  ... working at frequency = 4552.0 Hz:   0%|          | 0/50 [00:00<?, ?it/s]"
      ]
     },
     "metadata": {},
     "output_type": "display_data"
    },
    {
     "data": {
      "application/vnd.jupyter.widget-view+json": {
       "model_id": "",
       "version_major": 2,
       "version_minor": 0
      },
      "text/plain": [
       "  ... working at frequency = 4602.0 Hz:   0%|          | 0/50 [00:00<?, ?it/s]"
      ]
     },
     "metadata": {},
     "output_type": "display_data"
    },
    {
     "data": {
      "application/vnd.jupyter.widget-view+json": {
       "model_id": "",
       "version_major": 2,
       "version_minor": 0
      },
      "text/plain": [
       "  ... working at frequency = 4652.0 Hz:   0%|          | 0/50 [00:00<?, ?it/s]"
      ]
     },
     "metadata": {},
     "output_type": "display_data"
    },
    {
     "data": {
      "application/vnd.jupyter.widget-view+json": {
       "model_id": "",
       "version_major": 2,
       "version_minor": 0
      },
      "text/plain": [
       "  ... working at frequency = 4702.0 Hz:   0%|          | 0/50 [00:00<?, ?it/s]"
      ]
     },
     "metadata": {},
     "output_type": "display_data"
    },
    {
     "data": {
      "application/vnd.jupyter.widget-view+json": {
       "model_id": "",
       "version_major": 2,
       "version_minor": 0
      },
      "text/plain": [
       "  ... working at frequency = 4752.0 Hz:   0%|          | 0/50 [00:00<?, ?it/s]"
      ]
     },
     "metadata": {},
     "output_type": "display_data"
    },
    {
     "data": {
      "application/vnd.jupyter.widget-view+json": {
       "model_id": "",
       "version_major": 2,
       "version_minor": 0
      },
      "text/plain": [
       "  ... working at frequency = 4802.0 Hz:   0%|          | 0/50 [00:00<?, ?it/s]"
      ]
     },
     "metadata": {},
     "output_type": "display_data"
    },
    {
     "data": {
      "application/vnd.jupyter.widget-view+json": {
       "model_id": "",
       "version_major": 2,
       "version_minor": 0
      },
      "text/plain": [
       "  ... working at frequency = 4852.0 Hz:   0%|          | 0/50 [00:00<?, ?it/s]"
      ]
     },
     "metadata": {},
     "output_type": "display_data"
    },
    {
     "data": {
      "application/vnd.jupyter.widget-view+json": {
       "model_id": "",
       "version_major": 2,
       "version_minor": 0
      },
      "text/plain": [
       "  ... working at frequency = 4902.0 Hz:   0%|          | 0/50 [00:00<?, ?it/s]"
      ]
     },
     "metadata": {},
     "output_type": "display_data"
    },
    {
     "data": {
      "application/vnd.jupyter.widget-view+json": {
       "model_id": "",
       "version_major": 2,
       "version_minor": 0
      },
      "text/plain": [
       "  ... working at frequency = 4952.0 Hz:   0%|          | 0/50 [00:00<?, ?it/s]"
      ]
     },
     "metadata": {},
     "output_type": "display_data"
    },
    {
     "data": {
      "application/vnd.jupyter.widget-view+json": {
       "model_id": "",
       "version_major": 2,
       "version_minor": 0
      },
      "text/plain": [
       "  ... working at frequency = 5002.0 Hz:   0%|          | 0/50 [00:00<?, ?it/s]"
      ]
     },
     "metadata": {},
     "output_type": "display_data"
    },
    {
     "data": {
      "application/vnd.jupyter.widget-view+json": {
       "model_id": "",
       "version_major": 2,
       "version_minor": 0
      },
      "text/plain": [
       "  ... working at frequency = 5052.0 Hz:   0%|          | 0/50 [00:00<?, ?it/s]"
      ]
     },
     "metadata": {},
     "output_type": "display_data"
    },
    {
     "data": {
      "application/vnd.jupyter.widget-view+json": {
       "model_id": "",
       "version_major": 2,
       "version_minor": 0
      },
      "text/plain": [
       "  ... working at frequency = 5102.0 Hz:   0%|          | 0/50 [00:00<?, ?it/s]"
      ]
     },
     "metadata": {},
     "output_type": "display_data"
    },
    {
     "data": {
      "application/vnd.jupyter.widget-view+json": {
       "model_id": "",
       "version_major": 2,
       "version_minor": 0
      },
      "text/plain": [
       "  ... working at frequency = 5152.0 Hz:   0%|          | 0/50 [00:00<?, ?it/s]"
      ]
     },
     "metadata": {},
     "output_type": "display_data"
    },
    {
     "data": {
      "application/vnd.jupyter.widget-view+json": {
       "model_id": "",
       "version_major": 2,
       "version_minor": 0
      },
      "text/plain": [
       "  ... working at frequency = 5202.0 Hz:   0%|          | 0/50 [00:00<?, ?it/s]"
      ]
     },
     "metadata": {},
     "output_type": "display_data"
    },
    {
     "data": {
      "application/vnd.jupyter.widget-view+json": {
       "model_id": "",
       "version_major": 2,
       "version_minor": 0
      },
      "text/plain": [
       "  ... working at frequency = 5252.0 Hz:   0%|          | 0/50 [00:00<?, ?it/s]"
      ]
     },
     "metadata": {},
     "output_type": "display_data"
    },
    {
     "data": {
      "application/vnd.jupyter.widget-view+json": {
       "model_id": "",
       "version_major": 2,
       "version_minor": 0
      },
      "text/plain": [
       "  ... working at frequency = 5302.0 Hz:   0%|          | 0/50 [00:00<?, ?it/s]"
      ]
     },
     "metadata": {},
     "output_type": "display_data"
    },
    {
     "data": {
      "application/vnd.jupyter.widget-view+json": {
       "model_id": "",
       "version_major": 2,
       "version_minor": 0
      },
      "text/plain": [
       "  ... working at frequency = 5352.0 Hz:   0%|          | 0/50 [00:00<?, ?it/s]"
      ]
     },
     "metadata": {},
     "output_type": "display_data"
    },
    {
     "data": {
      "application/vnd.jupyter.widget-view+json": {
       "model_id": "",
       "version_major": 2,
       "version_minor": 0
      },
      "text/plain": [
       "  ... working at frequency = 5402.0 Hz:   0%|          | 0/50 [00:00<?, ?it/s]"
      ]
     },
     "metadata": {},
     "output_type": "display_data"
    },
    {
     "data": {
      "application/vnd.jupyter.widget-view+json": {
       "model_id": "",
       "version_major": 2,
       "version_minor": 0
      },
      "text/plain": [
       "  ... working at frequency = 5452.0 Hz:   0%|          | 0/50 [00:00<?, ?it/s]"
      ]
     },
     "metadata": {},
     "output_type": "display_data"
    },
    {
     "data": {
      "application/vnd.jupyter.widget-view+json": {
       "model_id": "",
       "version_major": 2,
       "version_minor": 0
      },
      "text/plain": [
       "  ... working at frequency = 5502.0 Hz:   0%|          | 0/50 [00:00<?, ?it/s]"
      ]
     },
     "metadata": {},
     "output_type": "display_data"
    },
    {
     "data": {
      "application/vnd.jupyter.widget-view+json": {
       "model_id": "",
       "version_major": 2,
       "version_minor": 0
      },
      "text/plain": [
       "  ... working at frequency = 5552.0 Hz:   0%|          | 0/50 [00:00<?, ?it/s]"
      ]
     },
     "metadata": {},
     "output_type": "display_data"
    },
    {
     "data": {
      "application/vnd.jupyter.widget-view+json": {
       "model_id": "",
       "version_major": 2,
       "version_minor": 0
      },
      "text/plain": [
       "  ... working at frequency = 5602.0 Hz:   0%|          | 0/50 [00:00<?, ?it/s]"
      ]
     },
     "metadata": {},
     "output_type": "display_data"
    },
    {
     "data": {
      "application/vnd.jupyter.widget-view+json": {
       "model_id": "",
       "version_major": 2,
       "version_minor": 0
      },
      "text/plain": [
       "  ... working at frequency = 5652.0 Hz:   0%|          | 0/50 [00:00<?, ?it/s]"
      ]
     },
     "metadata": {},
     "output_type": "display_data"
    },
    {
     "data": {
      "application/vnd.jupyter.widget-view+json": {
       "model_id": "",
       "version_major": 2,
       "version_minor": 0
      },
      "text/plain": [
       "  ... working at frequency = 5702.0 Hz:   0%|          | 0/50 [00:00<?, ?it/s]"
      ]
     },
     "metadata": {},
     "output_type": "display_data"
    },
    {
     "data": {
      "application/vnd.jupyter.widget-view+json": {
       "model_id": "",
       "version_major": 2,
       "version_minor": 0
      },
      "text/plain": [
       "  ... working at frequency = 5752.0 Hz:   0%|          | 0/50 [00:00<?, ?it/s]"
      ]
     },
     "metadata": {},
     "output_type": "display_data"
    },
    {
     "data": {
      "application/vnd.jupyter.widget-view+json": {
       "model_id": "",
       "version_major": 2,
       "version_minor": 0
      },
      "text/plain": [
       "  ... working at frequency = 5802.0 Hz:   0%|          | 0/50 [00:00<?, ?it/s]"
      ]
     },
     "metadata": {},
     "output_type": "display_data"
    },
    {
     "data": {
      "application/vnd.jupyter.widget-view+json": {
       "model_id": "",
       "version_major": 2,
       "version_minor": 0
      },
      "text/plain": [
       "  ... working at frequency = 5852.0 Hz:   0%|          | 0/50 [00:00<?, ?it/s]"
      ]
     },
     "metadata": {},
     "output_type": "display_data"
    },
    {
     "data": {
      "application/vnd.jupyter.widget-view+json": {
       "model_id": "",
       "version_major": 2,
       "version_minor": 0
      },
      "text/plain": [
       "  ... working at frequency = 5902.0 Hz:   0%|          | 0/50 [00:00<?, ?it/s]"
      ]
     },
     "metadata": {},
     "output_type": "display_data"
    },
    {
     "data": {
      "application/vnd.jupyter.widget-view+json": {
       "model_id": "",
       "version_major": 2,
       "version_minor": 0
      },
      "text/plain": [
       "  ... working at frequency = 5952.0 Hz:   0%|          | 0/50 [00:00<?, ?it/s]"
      ]
     },
     "metadata": {},
     "output_type": "display_data"
    },
    {
     "data": {
      "application/vnd.jupyter.widget-view+json": {
       "model_id": "",
       "version_major": 2,
       "version_minor": 0
      },
      "text/plain": [
       "  ... working at frequency = 6002.0 Hz:   0%|          | 0/50 [00:00<?, ?it/s]"
      ]
     },
     "metadata": {},
     "output_type": "display_data"
    },
    {
     "data": {
      "application/vnd.jupyter.widget-view+json": {
       "model_id": "",
       "version_major": 2,
       "version_minor": 0
      },
      "text/plain": [
       "  ... working at frequency = 6052.0 Hz:   0%|          | 0/50 [00:00<?, ?it/s]"
      ]
     },
     "metadata": {},
     "output_type": "display_data"
    },
    {
     "data": {
      "application/vnd.jupyter.widget-view+json": {
       "model_id": "",
       "version_major": 2,
       "version_minor": 0
      },
      "text/plain": [
       "  ... working at frequency = 6102.0 Hz:   0%|          | 0/50 [00:00<?, ?it/s]"
      ]
     },
     "metadata": {},
     "output_type": "display_data"
    },
    {
     "data": {
      "application/vnd.jupyter.widget-view+json": {
       "model_id": "",
       "version_major": 2,
       "version_minor": 0
      },
      "text/plain": [
       "  ... working at frequency = 6152.0 Hz:   0%|          | 0/50 [00:00<?, ?it/s]"
      ]
     },
     "metadata": {},
     "output_type": "display_data"
    },
    {
     "data": {
      "application/vnd.jupyter.widget-view+json": {
       "model_id": "",
       "version_major": 2,
       "version_minor": 0
      },
      "text/plain": [
       "  ... working at frequency = 6202.0 Hz:   0%|          | 0/50 [00:00<?, ?it/s]"
      ]
     },
     "metadata": {},
     "output_type": "display_data"
    },
    {
     "data": {
      "application/vnd.jupyter.widget-view+json": {
       "model_id": "",
       "version_major": 2,
       "version_minor": 0
      },
      "text/plain": [
       "  ... working at frequency = 6252.0 Hz:   0%|          | 0/50 [00:00<?, ?it/s]"
      ]
     },
     "metadata": {},
     "output_type": "display_data"
    },
    {
     "data": {
      "application/vnd.jupyter.widget-view+json": {
       "model_id": "",
       "version_major": 2,
       "version_minor": 0
      },
      "text/plain": [
       "  ... working at frequency = 6302.0 Hz:   0%|          | 0/50 [00:00<?, ?it/s]"
      ]
     },
     "metadata": {},
     "output_type": "display_data"
    },
    {
     "data": {
      "application/vnd.jupyter.widget-view+json": {
       "model_id": "",
       "version_major": 2,
       "version_minor": 0
      },
      "text/plain": [
       "  ... working at frequency = 6352.0 Hz:   0%|          | 0/50 [00:00<?, ?it/s]"
      ]
     },
     "metadata": {},
     "output_type": "display_data"
    },
    {
     "data": {
      "application/vnd.jupyter.widget-view+json": {
       "model_id": "",
       "version_major": 2,
       "version_minor": 0
      },
      "text/plain": [
       "  ... working at frequency = 6402.0 Hz:   0%|          | 0/50 [00:00<?, ?it/s]"
      ]
     },
     "metadata": {},
     "output_type": "display_data"
    },
    {
     "data": {
      "application/vnd.jupyter.widget-view+json": {
       "model_id": "",
       "version_major": 2,
       "version_minor": 0
      },
      "text/plain": [
       "  ... working at frequency = 6452.0 Hz:   0%|          | 0/50 [00:00<?, ?it/s]"
      ]
     },
     "metadata": {},
     "output_type": "display_data"
    },
    {
     "data": {
      "application/vnd.jupyter.widget-view+json": {
       "model_id": "",
       "version_major": 2,
       "version_minor": 0
      },
      "text/plain": [
       "  ... working at frequency = 6502.0 Hz:   0%|          | 0/50 [00:00<?, ?it/s]"
      ]
     },
     "metadata": {},
     "output_type": "display_data"
    },
    {
     "data": {
      "application/vnd.jupyter.widget-view+json": {
       "model_id": "",
       "version_major": 2,
       "version_minor": 0
      },
      "text/plain": [
       "  ... working at frequency = 6552.0 Hz:   0%|          | 0/50 [00:00<?, ?it/s]"
      ]
     },
     "metadata": {},
     "output_type": "display_data"
    },
    {
     "data": {
      "application/vnd.jupyter.widget-view+json": {
       "model_id": "",
       "version_major": 2,
       "version_minor": 0
      },
      "text/plain": [
       "  ... working at frequency = 6602.0 Hz:   0%|          | 0/50 [00:00<?, ?it/s]"
      ]
     },
     "metadata": {},
     "output_type": "display_data"
    },
    {
     "data": {
      "application/vnd.jupyter.widget-view+json": {
       "model_id": "",
       "version_major": 2,
       "version_minor": 0
      },
      "text/plain": [
       "  ... working at frequency = 6652.0 Hz:   0%|          | 0/50 [00:00<?, ?it/s]"
      ]
     },
     "metadata": {},
     "output_type": "display_data"
    },
    {
     "data": {
      "application/vnd.jupyter.widget-view+json": {
       "model_id": "",
       "version_major": 2,
       "version_minor": 0
      },
      "text/plain": [
       "  ... working at frequency = 6702.0 Hz:   0%|          | 0/50 [00:00<?, ?it/s]"
      ]
     },
     "metadata": {},
     "output_type": "display_data"
    },
    {
     "data": {
      "application/vnd.jupyter.widget-view+json": {
       "model_id": "",
       "version_major": 2,
       "version_minor": 0
      },
      "text/plain": [
       "  ... working at frequency = 6752.0 Hz:   0%|          | 0/50 [00:00<?, ?it/s]"
      ]
     },
     "metadata": {},
     "output_type": "display_data"
    },
    {
     "data": {
      "application/vnd.jupyter.widget-view+json": {
       "model_id": "",
       "version_major": 2,
       "version_minor": 0
      },
      "text/plain": [
       "  ... working at frequency = 6802.0 Hz:   0%|          | 0/50 [00:00<?, ?it/s]"
      ]
     },
     "metadata": {},
     "output_type": "display_data"
    },
    {
     "data": {
      "application/vnd.jupyter.widget-view+json": {
       "model_id": "",
       "version_major": 2,
       "version_minor": 0
      },
      "text/plain": [
       "  ... working at frequency = 6852.0 Hz:   0%|          | 0/50 [00:00<?, ?it/s]"
      ]
     },
     "metadata": {},
     "output_type": "display_data"
    },
    {
     "data": {
      "application/vnd.jupyter.widget-view+json": {
       "model_id": "",
       "version_major": 2,
       "version_minor": 0
      },
      "text/plain": [
       "  ... working at frequency = 6902.0 Hz:   0%|          | 0/50 [00:00<?, ?it/s]"
      ]
     },
     "metadata": {},
     "output_type": "display_data"
    },
    {
     "data": {
      "application/vnd.jupyter.widget-view+json": {
       "model_id": "",
       "version_major": 2,
       "version_minor": 0
      },
      "text/plain": [
       "  ... working at frequency = 6952.0 Hz:   0%|          | 0/50 [00:00<?, ?it/s]"
      ]
     },
     "metadata": {},
     "output_type": "display_data"
    },
    {
     "data": {
      "application/vnd.jupyter.widget-view+json": {
       "model_id": "",
       "version_major": 2,
       "version_minor": 0
      },
      "text/plain": [
       "  ... working at frequency = 7002.0 Hz:   0%|          | 0/50 [00:00<?, ?it/s]"
      ]
     },
     "metadata": {},
     "output_type": "display_data"
    },
    {
     "data": {
      "application/vnd.jupyter.widget-view+json": {
       "model_id": "",
       "version_major": 2,
       "version_minor": 0
      },
      "text/plain": [
       "  ... working at frequency = 7052.0 Hz:   0%|          | 0/50 [00:00<?, ?it/s]"
      ]
     },
     "metadata": {},
     "output_type": "display_data"
    },
    {
     "data": {
      "application/vnd.jupyter.widget-view+json": {
       "model_id": "",
       "version_major": 2,
       "version_minor": 0
      },
      "text/plain": [
       "  ... working at frequency = 7102.0 Hz:   0%|          | 0/50 [00:00<?, ?it/s]"
      ]
     },
     "metadata": {},
     "output_type": "display_data"
    },
    {
     "data": {
      "application/vnd.jupyter.widget-view+json": {
       "model_id": "",
       "version_major": 2,
       "version_minor": 0
      },
      "text/plain": [
       "  ... working at frequency = 7152.0 Hz:   0%|          | 0/50 [00:00<?, ?it/s]"
      ]
     },
     "metadata": {},
     "output_type": "display_data"
    },
    {
     "data": {
      "application/vnd.jupyter.widget-view+json": {
       "model_id": "",
       "version_major": 2,
       "version_minor": 0
      },
      "text/plain": [
       "  ... working at frequency = 7202.0 Hz:   0%|          | 0/50 [00:00<?, ?it/s]"
      ]
     },
     "metadata": {},
     "output_type": "display_data"
    },
    {
     "data": {
      "application/vnd.jupyter.widget-view+json": {
       "model_id": "",
       "version_major": 2,
       "version_minor": 0
      },
      "text/plain": [
       "  ... working at frequency = 7252.0 Hz:   0%|          | 0/50 [00:00<?, ?it/s]"
      ]
     },
     "metadata": {},
     "output_type": "display_data"
    },
    {
     "data": {
      "application/vnd.jupyter.widget-view+json": {
       "model_id": "",
       "version_major": 2,
       "version_minor": 0
      },
      "text/plain": [
       "  ... working at frequency = 7302.0 Hz:   0%|          | 0/50 [00:00<?, ?it/s]"
      ]
     },
     "metadata": {},
     "output_type": "display_data"
    },
    {
     "data": {
      "application/vnd.jupyter.widget-view+json": {
       "model_id": "",
       "version_major": 2,
       "version_minor": 0
      },
      "text/plain": [
       "  ... working at frequency = 7352.0 Hz:   0%|          | 0/50 [00:00<?, ?it/s]"
      ]
     },
     "metadata": {},
     "output_type": "display_data"
    },
    {
     "data": {
      "application/vnd.jupyter.widget-view+json": {
       "model_id": "",
       "version_major": 2,
       "version_minor": 0
      },
      "text/plain": [
       "  ... working at frequency = 7402.0 Hz:   0%|          | 0/50 [00:00<?, ?it/s]"
      ]
     },
     "metadata": {},
     "output_type": "display_data"
    },
    {
     "data": {
      "application/vnd.jupyter.widget-view+json": {
       "model_id": "",
       "version_major": 2,
       "version_minor": 0
      },
      "text/plain": [
       "  ... working at frequency = 7452.0 Hz:   0%|          | 0/50 [00:00<?, ?it/s]"
      ]
     },
     "metadata": {},
     "output_type": "display_data"
    },
    {
     "data": {
      "application/vnd.jupyter.widget-view+json": {
       "model_id": "",
       "version_major": 2,
       "version_minor": 0
      },
      "text/plain": [
       "  ... working at frequency = 7502.0 Hz:   0%|          | 0/50 [00:00<?, ?it/s]"
      ]
     },
     "metadata": {},
     "output_type": "display_data"
    },
    {
     "data": {
      "application/vnd.jupyter.widget-view+json": {
       "model_id": "",
       "version_major": 2,
       "version_minor": 0
      },
      "text/plain": [
       "  ... working at frequency = 7552.0 Hz:   0%|          | 0/50 [00:00<?, ?it/s]"
      ]
     },
     "metadata": {},
     "output_type": "display_data"
    },
    {
     "data": {
      "application/vnd.jupyter.widget-view+json": {
       "model_id": "",
       "version_major": 2,
       "version_minor": 0
      },
      "text/plain": [
       "  ... working at frequency = 7602.0 Hz:   0%|          | 0/50 [00:00<?, ?it/s]"
      ]
     },
     "metadata": {},
     "output_type": "display_data"
    },
    {
     "data": {
      "application/vnd.jupyter.widget-view+json": {
       "model_id": "",
       "version_major": 2,
       "version_minor": 0
      },
      "text/plain": [
       "  ... working at frequency = 7652.0 Hz:   0%|          | 0/50 [00:00<?, ?it/s]"
      ]
     },
     "metadata": {},
     "output_type": "display_data"
    },
    {
     "data": {
      "application/vnd.jupyter.widget-view+json": {
       "model_id": "",
       "version_major": 2,
       "version_minor": 0
      },
      "text/plain": [
       "  ... working at frequency = 7702.0 Hz:   0%|          | 0/50 [00:00<?, ?it/s]"
      ]
     },
     "metadata": {},
     "output_type": "display_data"
    },
    {
     "data": {
      "application/vnd.jupyter.widget-view+json": {
       "model_id": "",
       "version_major": 2,
       "version_minor": 0
      },
      "text/plain": [
       "  ... working at frequency = 7752.0 Hz:   0%|          | 0/50 [00:00<?, ?it/s]"
      ]
     },
     "metadata": {},
     "output_type": "display_data"
    },
    {
     "data": {
      "application/vnd.jupyter.widget-view+json": {
       "model_id": "",
       "version_major": 2,
       "version_minor": 0
      },
      "text/plain": [
       "  ... working at frequency = 7802.0 Hz:   0%|          | 0/50 [00:00<?, ?it/s]"
      ]
     },
     "metadata": {},
     "output_type": "display_data"
    },
    {
     "data": {
      "application/vnd.jupyter.widget-view+json": {
       "model_id": "",
       "version_major": 2,
       "version_minor": 0
      },
      "text/plain": [
       "  ... working at frequency = 7852.0 Hz:   0%|          | 0/50 [00:00<?, ?it/s]"
      ]
     },
     "metadata": {},
     "output_type": "display_data"
    },
    {
     "data": {
      "application/vnd.jupyter.widget-view+json": {
       "model_id": "",
       "version_major": 2,
       "version_minor": 0
      },
      "text/plain": [
       "  ... working at frequency = 7902.0 Hz:   0%|          | 0/50 [00:00<?, ?it/s]"
      ]
     },
     "metadata": {},
     "output_type": "display_data"
    },
    {
     "data": {
      "application/vnd.jupyter.widget-view+json": {
       "model_id": "",
       "version_major": 2,
       "version_minor": 0
      },
      "text/plain": [
       "  ... working at frequency = 7952.0 Hz:   0%|          | 0/50 [00:00<?, ?it/s]"
      ]
     },
     "metadata": {},
     "output_type": "display_data"
    },
    {
     "data": {
      "application/vnd.jupyter.widget-view+json": {
       "model_id": "",
       "version_major": 2,
       "version_minor": 0
      },
      "text/plain": [
       "  ... working at frequency = 8002.0 Hz:   0%|          | 0/50 [00:00<?, ?it/s]"
      ]
     },
     "metadata": {},
     "output_type": "display_data"
    },
    {
     "data": {
      "application/vnd.jupyter.widget-view+json": {
       "model_id": "",
       "version_major": 2,
       "version_minor": 0
      },
      "text/plain": [
       "  ... working at frequency = 8052.0 Hz:   0%|          | 0/50 [00:00<?, ?it/s]"
      ]
     },
     "metadata": {},
     "output_type": "display_data"
    },
    {
     "data": {
      "application/vnd.jupyter.widget-view+json": {
       "model_id": "",
       "version_major": 2,
       "version_minor": 0
      },
      "text/plain": [
       "  ... working at frequency = 8102.0 Hz:   0%|          | 0/50 [00:00<?, ?it/s]"
      ]
     },
     "metadata": {},
     "output_type": "display_data"
    },
    {
     "data": {
      "application/vnd.jupyter.widget-view+json": {
       "model_id": "",
       "version_major": 2,
       "version_minor": 0
      },
      "text/plain": [
       "  ... working at frequency = 8152.0 Hz:   0%|          | 0/50 [00:00<?, ?it/s]"
      ]
     },
     "metadata": {},
     "output_type": "display_data"
    },
    {
     "data": {
      "application/vnd.jupyter.widget-view+json": {
       "model_id": "",
       "version_major": 2,
       "version_minor": 0
      },
      "text/plain": [
       "  ... working at frequency = 8202.0 Hz:   0%|          | 0/50 [00:00<?, ?it/s]"
      ]
     },
     "metadata": {},
     "output_type": "display_data"
    },
    {
     "data": {
      "application/vnd.jupyter.widget-view+json": {
       "model_id": "",
       "version_major": 2,
       "version_minor": 0
      },
      "text/plain": [
       "  ... working at frequency = 8252.0 Hz:   0%|          | 0/50 [00:00<?, ?it/s]"
      ]
     },
     "metadata": {},
     "output_type": "display_data"
    },
    {
     "data": {
      "application/vnd.jupyter.widget-view+json": {
       "model_id": "",
       "version_major": 2,
       "version_minor": 0
      },
      "text/plain": [
       "  ... working at frequency = 8302.0 Hz:   0%|          | 0/50 [00:00<?, ?it/s]"
      ]
     },
     "metadata": {},
     "output_type": "display_data"
    },
    {
     "data": {
      "application/vnd.jupyter.widget-view+json": {
       "model_id": "",
       "version_major": 2,
       "version_minor": 0
      },
      "text/plain": [
       "  ... working at frequency = 8352.0 Hz:   0%|          | 0/50 [00:00<?, ?it/s]"
      ]
     },
     "metadata": {},
     "output_type": "display_data"
    },
    {
     "data": {
      "application/vnd.jupyter.widget-view+json": {
       "model_id": "",
       "version_major": 2,
       "version_minor": 0
      },
      "text/plain": [
       "  ... working at frequency = 8402.0 Hz:   0%|          | 0/50 [00:00<?, ?it/s]"
      ]
     },
     "metadata": {},
     "output_type": "display_data"
    },
    {
     "data": {
      "application/vnd.jupyter.widget-view+json": {
       "model_id": "",
       "version_major": 2,
       "version_minor": 0
      },
      "text/plain": [
       "  ... working at frequency = 8452.0 Hz:   0%|          | 0/50 [00:00<?, ?it/s]"
      ]
     },
     "metadata": {},
     "output_type": "display_data"
    },
    {
     "data": {
      "application/vnd.jupyter.widget-view+json": {
       "model_id": "",
       "version_major": 2,
       "version_minor": 0
      },
      "text/plain": [
       "  ... working at frequency = 8502.0 Hz:   0%|          | 0/50 [00:00<?, ?it/s]"
      ]
     },
     "metadata": {},
     "output_type": "display_data"
    },
    {
     "data": {
      "application/vnd.jupyter.widget-view+json": {
       "model_id": "",
       "version_major": 2,
       "version_minor": 0
      },
      "text/plain": [
       "  ... working at frequency = 8552.0 Hz:   0%|          | 0/50 [00:00<?, ?it/s]"
      ]
     },
     "metadata": {},
     "output_type": "display_data"
    },
    {
     "data": {
      "application/vnd.jupyter.widget-view+json": {
       "model_id": "",
       "version_major": 2,
       "version_minor": 0
      },
      "text/plain": [
       "  ... working at frequency = 8602.0 Hz:   0%|          | 0/50 [00:00<?, ?it/s]"
      ]
     },
     "metadata": {},
     "output_type": "display_data"
    },
    {
     "data": {
      "application/vnd.jupyter.widget-view+json": {
       "model_id": "",
       "version_major": 2,
       "version_minor": 0
      },
      "text/plain": [
       "  ... working at frequency = 8652.0 Hz:   0%|          | 0/50 [00:00<?, ?it/s]"
      ]
     },
     "metadata": {},
     "output_type": "display_data"
    },
    {
     "data": {
      "application/vnd.jupyter.widget-view+json": {
       "model_id": "",
       "version_major": 2,
       "version_minor": 0
      },
      "text/plain": [
       "  ... working at frequency = 8702.0 Hz:   0%|          | 0/50 [00:00<?, ?it/s]"
      ]
     },
     "metadata": {},
     "output_type": "display_data"
    },
    {
     "data": {
      "application/vnd.jupyter.widget-view+json": {
       "model_id": "",
       "version_major": 2,
       "version_minor": 0
      },
      "text/plain": [
       "  ... working at frequency = 8752.0 Hz:   0%|          | 0/50 [00:00<?, ?it/s]"
      ]
     },
     "metadata": {},
     "output_type": "display_data"
    },
    {
     "data": {
      "application/vnd.jupyter.widget-view+json": {
       "model_id": "",
       "version_major": 2,
       "version_minor": 0
      },
      "text/plain": [
       "  ... working at frequency = 8802.0 Hz:   0%|          | 0/50 [00:00<?, ?it/s]"
      ]
     },
     "metadata": {},
     "output_type": "display_data"
    },
    {
     "data": {
      "application/vnd.jupyter.widget-view+json": {
       "model_id": "",
       "version_major": 2,
       "version_minor": 0
      },
      "text/plain": [
       "  ... working at frequency = 8852.0 Hz:   0%|          | 0/50 [00:00<?, ?it/s]"
      ]
     },
     "metadata": {},
     "output_type": "display_data"
    },
    {
     "data": {
      "application/vnd.jupyter.widget-view+json": {
       "model_id": "",
       "version_major": 2,
       "version_minor": 0
      },
      "text/plain": [
       "  ... working at frequency = 8902.0 Hz:   0%|          | 0/50 [00:00<?, ?it/s]"
      ]
     },
     "metadata": {},
     "output_type": "display_data"
    },
    {
     "data": {
      "application/vnd.jupyter.widget-view+json": {
       "model_id": "",
       "version_major": 2,
       "version_minor": 0
      },
      "text/plain": [
       "  ... working at frequency = 8952.0 Hz:   0%|          | 0/50 [00:00<?, ?it/s]"
      ]
     },
     "metadata": {},
     "output_type": "display_data"
    },
    {
     "data": {
      "application/vnd.jupyter.widget-view+json": {
       "model_id": "",
       "version_major": 2,
       "version_minor": 0
      },
      "text/plain": [
       "  ... working at frequency = 9002.0 Hz:   0%|          | 0/50 [00:00<?, ?it/s]"
      ]
     },
     "metadata": {},
     "output_type": "display_data"
    },
    {
     "data": {
      "application/vnd.jupyter.widget-view+json": {
       "model_id": "",
       "version_major": 2,
       "version_minor": 0
      },
      "text/plain": [
       "  ... working at frequency = 9052.0 Hz:   0%|          | 0/50 [00:00<?, ?it/s]"
      ]
     },
     "metadata": {},
     "output_type": "display_data"
    },
    {
     "data": {
      "application/vnd.jupyter.widget-view+json": {
       "model_id": "",
       "version_major": 2,
       "version_minor": 0
      },
      "text/plain": [
       "  ... working at frequency = 9102.0 Hz:   0%|          | 0/50 [00:00<?, ?it/s]"
      ]
     },
     "metadata": {},
     "output_type": "display_data"
    },
    {
     "data": {
      "application/vnd.jupyter.widget-view+json": {
       "model_id": "",
       "version_major": 2,
       "version_minor": 0
      },
      "text/plain": [
       "  ... working at frequency = 9152.0 Hz:   0%|          | 0/50 [00:00<?, ?it/s]"
      ]
     },
     "metadata": {},
     "output_type": "display_data"
    },
    {
     "data": {
      "application/vnd.jupyter.widget-view+json": {
       "model_id": "",
       "version_major": 2,
       "version_minor": 0
      },
      "text/plain": [
       "  ... working at frequency = 9202.0 Hz:   0%|          | 0/50 [00:00<?, ?it/s]"
      ]
     },
     "metadata": {},
     "output_type": "display_data"
    },
    {
     "data": {
      "application/vnd.jupyter.widget-view+json": {
       "model_id": "",
       "version_major": 2,
       "version_minor": 0
      },
      "text/plain": [
       "  ... working at frequency = 9252.0 Hz:   0%|          | 0/50 [00:00<?, ?it/s]"
      ]
     },
     "metadata": {},
     "output_type": "display_data"
    },
    {
     "data": {
      "application/vnd.jupyter.widget-view+json": {
       "model_id": "",
       "version_major": 2,
       "version_minor": 0
      },
      "text/plain": [
       "  ... working at frequency = 9302.0 Hz:   0%|          | 0/50 [00:00<?, ?it/s]"
      ]
     },
     "metadata": {},
     "output_type": "display_data"
    },
    {
     "data": {
      "application/vnd.jupyter.widget-view+json": {
       "model_id": "",
       "version_major": 2,
       "version_minor": 0
      },
      "text/plain": [
       "  ... working at frequency = 9352.0 Hz:   0%|          | 0/50 [00:00<?, ?it/s]"
      ]
     },
     "metadata": {},
     "output_type": "display_data"
    },
    {
     "data": {
      "application/vnd.jupyter.widget-view+json": {
       "model_id": "",
       "version_major": 2,
       "version_minor": 0
      },
      "text/plain": [
       "  ... working at frequency = 9402.0 Hz:   0%|          | 0/50 [00:00<?, ?it/s]"
      ]
     },
     "metadata": {},
     "output_type": "display_data"
    },
    {
     "data": {
      "application/vnd.jupyter.widget-view+json": {
       "model_id": "",
       "version_major": 2,
       "version_minor": 0
      },
      "text/plain": [
       "  ... working at frequency = 9452.0 Hz:   0%|          | 0/50 [00:00<?, ?it/s]"
      ]
     },
     "metadata": {},
     "output_type": "display_data"
    },
    {
     "data": {
      "application/vnd.jupyter.widget-view+json": {
       "model_id": "",
       "version_major": 2,
       "version_minor": 0
      },
      "text/plain": [
       "  ... working at frequency = 9502.0 Hz:   0%|          | 0/50 [00:00<?, ?it/s]"
      ]
     },
     "metadata": {},
     "output_type": "display_data"
    },
    {
     "data": {
      "application/vnd.jupyter.widget-view+json": {
       "model_id": "",
       "version_major": 2,
       "version_minor": 0
      },
      "text/plain": [
       "  ... working at frequency = 9552.0 Hz:   0%|          | 0/50 [00:00<?, ?it/s]"
      ]
     },
     "metadata": {},
     "output_type": "display_data"
    },
    {
     "data": {
      "application/vnd.jupyter.widget-view+json": {
       "model_id": "",
       "version_major": 2,
       "version_minor": 0
      },
      "text/plain": [
       "  ... working at frequency = 9602.0 Hz:   0%|          | 0/50 [00:00<?, ?it/s]"
      ]
     },
     "metadata": {},
     "output_type": "display_data"
    },
    {
     "data": {
      "application/vnd.jupyter.widget-view+json": {
       "model_id": "",
       "version_major": 2,
       "version_minor": 0
      },
      "text/plain": [
       "  ... working at frequency = 9652.0 Hz:   0%|          | 0/50 [00:00<?, ?it/s]"
      ]
     },
     "metadata": {},
     "output_type": "display_data"
    },
    {
     "data": {
      "application/vnd.jupyter.widget-view+json": {
       "model_id": "",
       "version_major": 2,
       "version_minor": 0
      },
      "text/plain": [
       "  ... working at frequency = 9702.0 Hz:   0%|          | 0/50 [00:00<?, ?it/s]"
      ]
     },
     "metadata": {},
     "output_type": "display_data"
    },
    {
     "data": {
      "application/vnd.jupyter.widget-view+json": {
       "model_id": "",
       "version_major": 2,
       "version_minor": 0
      },
      "text/plain": [
       "  ... working at frequency = 9752.0 Hz:   0%|          | 0/50 [00:00<?, ?it/s]"
      ]
     },
     "metadata": {},
     "output_type": "display_data"
    },
    {
     "data": {
      "application/vnd.jupyter.widget-view+json": {
       "model_id": "",
       "version_major": 2,
       "version_minor": 0
      },
      "text/plain": [
       "  ... working at frequency = 9802.0 Hz:   0%|          | 0/50 [00:00<?, ?it/s]"
      ]
     },
     "metadata": {},
     "output_type": "display_data"
    },
    {
     "data": {
      "application/vnd.jupyter.widget-view+json": {
       "model_id": "",
       "version_major": 2,
       "version_minor": 0
      },
      "text/plain": [
       "  ... working at frequency = 9852.0 Hz:   0%|          | 0/50 [00:00<?, ?it/s]"
      ]
     },
     "metadata": {},
     "output_type": "display_data"
    },
    {
     "data": {
      "application/vnd.jupyter.widget-view+json": {
       "model_id": "",
       "version_major": 2,
       "version_minor": 0
      },
      "text/plain": [
       "  ... working at frequency = 9902.0 Hz:   0%|          | 0/50 [00:00<?, ?it/s]"
      ]
     },
     "metadata": {},
     "output_type": "display_data"
    },
    {
     "data": {
      "application/vnd.jupyter.widget-view+json": {
       "model_id": "",
       "version_major": 2,
       "version_minor": 0
      },
      "text/plain": [
       "  ... working at frequency = 9952.0 Hz:   0%|          | 0/50 [00:00<?, ?it/s]"
      ]
     },
     "metadata": {},
     "output_type": "display_data"
    },
    {
     "data": {
      "application/vnd.jupyter.widget-view+json": {
       "model_id": "76f0a557a0b04648a324ccd974bc8b9e",
       "version_major": 2,
       "version_minor": 0
      },
      "text/plain": [
       "  ... working at frequency = 10002.0 Hz:   0%|          | 0/50 [00:00<?, ?it/s]"
      ]
     },
     "metadata": {},
     "output_type": "display_data"
    },
    {
     "name": "stdout",
     "output_type": "stream",
     "text": [
      "\n",
      "\n"
     ]
    }
   ],
   "source": [
    "## Find roots of wavenumber in the equation of determinant\n",
    "# cone_4_8_4.wavenumer_array, cone_4_8_4.failed_root = cone_4_8_4.axial_wavenumber_array()\n",
    "cone_4_8.wavenumer_array, cone_4_8.failed_root = cone_4_8.axial_wavenumber_array()\n",
    "cone_6_3.wavenumer_array, cone_6_3.failed_root = cone_6_3.axial_wavenumber_array()"
   ]
  },
  {
   "cell_type": "code",
   "execution_count": 17,
   "metadata": {},
   "outputs": [
    {
     "data": {
      "text/plain": [
       "dict_keys(['zw', 'wavenumer_array', 'failed_root', 'determinant', 'frequency_array', 'Young', 'Poisson', 'loss_factor', 'material', 'shape', 'p_hole', 'q_hole', 'h_hole', 'cell_r', 'segments', 'layer_density', 'air_density'])"
      ]
     },
     "execution_count": 17,
     "metadata": {},
     "output_type": "execute_result"
    }
   ],
   "source": [
    "cone_6_3.__dict__.keys()"
   ]
  },
  {
   "cell_type": "code",
   "execution_count": 18,
   "metadata": {},
   "outputs": [],
   "source": [
    "# ## Calculate sound absorption of cone_4_8\n",
    "# cone_4_8.absorption_frequency()"
   ]
  },
  {
   "cell_type": "code",
   "execution_count": 19,
   "metadata": {},
   "outputs": [
    {
     "data": {
      "text/plain": [
       "(201,)"
      ]
     },
     "execution_count": 19,
     "metadata": {},
     "output_type": "execute_result"
    }
   ],
   "source": [
    "cone_6_3.omega_array().shape"
   ]
  },
  {
   "cell_type": "code",
   "execution_count": 24,
   "metadata": {},
   "outputs": [
    {
     "name": "stdout",
     "output_type": "stream",
     "text": [
      "self.frequency_array.shape[0] = 201 is same as self.wavenumer_array.shape[0] = 201\n",
      "Save file to /Users/chenghunglin/Documents/cone_6_3.xlsx\n"
     ]
    }
   ],
   "source": [
    "## Save the data\n",
    "fp = '/Users/chenghunglin/Documents/'\n",
    "fn = 'cone_6_3.xlsx'\n",
    "# fn5 = 'cone_4_8_5.xlsx'\n",
    "cone_6_3.save_data(fp, fn)\n",
    "# cone_4_8_5.save_data(fp, fn5)"
   ]
  },
  {
   "cell_type": "code",
   "execution_count": null,
   "metadata": {},
   "outputs": [],
   "source": []
  },
  {
   "cell_type": "code",
   "execution_count": 21,
   "metadata": {},
   "outputs": [
    {
     "name": "stdout",
     "output_type": "stream",
     "text": [
      "self.frequency_array.shape[0] = 201 is same as self.wavenumer_array.shape[0] = 201\n",
      "self.frequency_array.shape[0] = 201 is same as self.wavenumer_array.shape[0] = 201\n"
     ]
    },
    {
     "data": {
      "text/plain": [
       "<matplotlib.legend.Legend at 0x150ddc920>"
      ]
     },
     "execution_count": 21,
     "metadata": {},
     "output_type": "execute_result"
    },
    {
     "data": {
      "application/vnd.jupyter.widget-view+json": {
       "model_id": "5ef6e362771b45ef81ab7eaad0250eef",
       "version_major": 2,
       "version_minor": 0
      },
      "image/png": "[encoded data removed]",
      "text/html": [
       "\n",
       "            <div style=\"display: inline-block;\">\n",
       "                <div class=\"jupyter-widgets widget-label\" style=\"text-align: center;\">\n",
       "                    Figure\n",
       "                </div>\n",
       "                <img src='data:image/png;base64,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' width=640.0/>\n",
       "            </div>\n",
       "        "
      ],
      "text/plain": [
       "Canvas(toolbar=Toolbar(toolitems=[('Home', 'Reset original view', 'home', 'home'), ('Back', 'Back to previous …"
      ]
     },
     "metadata": {},
     "output_type": "display_data"
    }
   ],
   "source": [
    "plt.figure()\n",
    "plt.plot(cone_6_3.frequency_array, cone_6_3.absorption_frequency(), label='cone, p=6, q=3, Young=0.14 Gpa')\n",
    "plt.plot(cone_4_8.frequency_array, cone_4_8.absorption_frequency(), label='cone, p=4, q=8, Young=0.14 Gpa')\n",
    "# plt.plot(cone_4_8_3.frequency_array, cone_4_8_3.absorption_frequency(), '--', color='orange', label='cone, p=4, q=8, Young=0.014 Gpa')\n",
    "# plt.plot(horn_1_11.frequency_array, horn_1_11.absorption_frequency(), label='horn, p=1, q=11')\n",
    "plt.legend()"
   ]
  },
  {
   "cell_type": "code",
   "execution_count": null,
   "metadata": {},
   "outputs": [],
   "source": []
  },
  {
   "cell_type": "markdown",
   "metadata": {},
   "source": [
    "### Example 02: change shape, p, q"
   ]
  },
  {
   "cell_type": "code",
   "execution_count": null,
   "metadata": {},
   "outputs": [],
   "source": [
    "horn_1_11 = sound_performance(determinant, frequency_array)"
   ]
  },
  {
   "cell_type": "code",
   "execution_count": null,
   "metadata": {},
   "outputs": [],
   "source": [
    "horn_1_11.shape = 'horn'\n",
    "horn_1_11.p_hole = 1e-3\n",
    "horn_1_11.q_hole = 11e-3"
   ]
  },
  {
   "cell_type": "code",
   "execution_count": null,
   "metadata": {},
   "outputs": [],
   "source": [
    "## Find roots of wavenumber in the equation of determinant\n",
    "horn_1_11.wavenumer_array, horn_1_11.failed_root = horn_1_11.axial_wavenumber_array()"
   ]
  },
  {
   "cell_type": "code",
   "execution_count": null,
   "metadata": {},
   "outputs": [],
   "source": [
    "## Save the data\n",
    "fp = '/Users/chenghunglin/Documents/'\n",
    "fn = 'horn_1_11.xlsx'\n",
    "horn_1_11.save_data(fp, fn)"
   ]
  },
  {
   "cell_type": "code",
   "execution_count": null,
   "metadata": {},
   "outputs": [],
   "source": []
  },
  {
   "cell_type": "markdown",
   "metadata": {},
   "source": [
    "## Plot data to compare with the paper"
   ]
  },
  {
   "cell_type": "code",
   "execution_count": null,
   "metadata": {},
   "outputs": [],
   "source": [
    "plt.figure()\n",
    "plt.plot(cone_4_8.frequency_array, cone_4_8.absorption_frequency(), label='cone, p=4, q=8, Young=0.14 Gpa')\n",
    "plt.plot(cone_4_8_1.frequency_array, cone_4_8_1.absorption_frequency(), label='cone, p=4, q=8, Young=0.014 Gpa')\n",
    "plt.plot(cone_4_8_3.frequency_array, cone_4_8_3.absorption_frequency(), '--', color='orange', label='cone, p=4, q=8, Young=0.014 Gpa')\n",
    "# plt.plot(horn_1_11.frequency_array, horn_1_11.absorption_frequency(), label='horn, p=1, q=11')\n",
    "plt.legend()"
   ]
  },
  {
   "cell_type": "code",
   "execution_count": null,
   "metadata": {},
   "outputs": [],
   "source": [
    "plt.figure()\n",
    "plt.plot(cone_4_8.frequency_array, cone_4_8.absorption_frequency(), color='blue', label='cone, p=4, q=8, Young=0.14 Gpa, step=200Hz')\n",
    "plt.plot(cone_4_8_4.frequency_array, cone_4_8_4.absorption_frequency(), '--', color='blue',label='cone, p=4, q=8, Young=0.14 Gpa, step=25Hz')\n",
    "plt.plot(cone_4_8_1.frequency_array, cone_4_8_1.absorption_frequency(), color='orange', label='cone, p=4, q=8, Young=0.014 Gpa, step=200Hz')\n",
    "plt.plot(cone_4_8_5.frequency_array, cone_4_8_5.absorption_frequency(), '--', color='orange', label='cone, p=4, q=8, Young=0.014 Gpa, step=25Hz')\n",
    "# plt.plot(horn_1_11.frequency_array, horn_1_11.absorption_frequency(), label='horn, p=1, q=11')\n",
    "legend_properties = {'weight':'regular', 'size':8}    \n",
    "plt.legend(prop=legend_properties, loc='upper left') #, bbox_to_anchor=(1, 0.5))\n",
    "# plt.legend()"
   ]
  },
  {
   "cell_type": "code",
   "execution_count": null,
   "metadata": {},
   "outputs": [],
   "source": []
  }
 ],
 "metadata": {
  "anaconda-cloud": {},
  "kernelspec": {
   "display_name": "Python 3 (ipykernel)",
   "language": "python",
   "name": "python3"
  },
  "language_info": {
   "codemirror_mode": {
    "name": "ipython",
    "version": 3
   },
   "file_extension": ".py",
   "mimetype": "text/x-python",
   "name": "python",
   "nbconvert_exporter": "python",
   "pygments_lexer": "ipython3",
   "version": "3.12.2"
  }
 },
 "nbformat": 4,
 "nbformat_minor": 4
}
