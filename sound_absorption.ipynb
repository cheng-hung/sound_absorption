{
 "cells": [
  {
   "cell_type": "code",
   "execution_count": 1,
   "metadata": {
    "collapsed": false,
    "jupyter": {
     "outputs_hidden": false
    }
   },
   "outputs": [],
   "source": [
    "import numpy as np\n",
    "import matplotlib.pyplot as plt"
   ]
  },
  {
   "cell_type": "markdown",
   "metadata": {},
   "source": [
    "### Reference: Influence of hole shape on sound absorption of underwater anechoic layers\n",
    "#### https://www.sciencedirect.com/science/article/abs/pii/S0022460X1830227X"
   ]
  },
  {
   "cell_type": "markdown",
   "metadata": {},
   "source": [
    "### Start at eq(15) in the paper"
   ]
  },
  {
   "cell_type": "code",
   "execution_count": 2,
   "metadata": {},
   "outputs": [],
   "source": [
    "## The effective density: (15)\n",
    "## ai represents the inner radii of the pipe in the i th layer\n",
    "def ith_effect_density(ai, cell_radius, rubber_den, air_den):\n",
    "    return rubber_den*(1-(ai/cell_radius)**2) + air_den*(ai/cell_radius)**2\n",
    "\n",
    "\n",
    "def ith_effect_speed(ai, cell_radius, rubber_speed, air_speed):\n",
    "    rubber_speed = rubber_speed*(1-0.23j)\n",
    "    return rubber_speed*(1-(ai/cell_radius)**2) + air_speed*(ai/cell_radius)**2\n",
    "\n",
    "\n",
    "## The effective impedance of the i th segment: (16)\n",
    "def ith_effect_impedance(ith_effect_density, omega, wave_number):\n",
    "    return ith_effect_density*omega/wave_number\n",
    "\n",
    "\n",
    "## The transfer matrix of the i th segment: (17)\n",
    "def ith_tran_matrix(wave_number, li, ith_impedance):\n",
    "    ti = np.zeros((2,2), dtype=complex)\n",
    "    ti[0,0] = np.cos(wave_number*li)\n",
    "    ti[0,1] = -1j*np.sin(wave_number*li)*ith_impedance\n",
    "    ti[1,0] = -1j*np.sin(wave_number*li)/ith_impedance\n",
    "    ti[1,1] = np.cos(wave_number*li)\n",
    "    return ti\n",
    "\n",
    "## The successive multi-plication of the transfer matrix of each segment: (18)\n",
    "def total_tran_matrix(wave_number, lh, n, impedance):\n",
    "    li = lh/n\n",
    "    t0 = ith_tran_matrix(wave_number[0], li, impedance[0])\n",
    "    tn=t0\n",
    "    for i in range(1, n):\n",
    "        tn = np.matmul(tn, ith_tran_matrix(wave_number[i], li, impedance[i]))\n",
    "    return tn\n",
    "    \n",
    "\n",
    "## The impedance of the front interface Zf: (22)\n",
    "def imped_front(tn):\n",
    "    zf = np.absolute(tn[0,0]/tn[1,0])\n",
    "#     zf = (tn[0,0]/tn[1,0])\n",
    "    return zf\n",
    "\n",
    "\n",
    "## The reflection coefficient of the anechoic layer: (23)\n",
    "def reflection_coefficient(zf,zw):\n",
    "    return (zf-zw)/(zf+zw)\n",
    "\n",
    "\n",
    "## The sound absorption coefficient: (24)\n",
    "def absorption_coefficient(reflection):\n",
    "    return 1-np.absolute(reflection)**2"
   ]
  },
  {
   "cell_type": "code",
   "execution_count": 3,
   "metadata": {},
   "outputs": [],
   "source": [
    "'''\n",
    "All units are in SI\n",
    "Density of rubber (kg/m3): 1100\n",
    "Density of air (kg/m3): 1.21\n",
    "Assume the pipe has a conical shape, as Fig. 7(a) in the paper:\n",
    "\n",
    "pcone = 4 mm\n",
    "qcone = 8 mm\n",
    "lh = 40 mm\n",
    "cell_radius = 15 mm\n",
    "\n",
    "Assume 100 segments: num_segments = 100\n",
    "\n",
    "Sound speed of water (m/s): 1483\n",
    "'''\n",
    "\n",
    "def effective_radius(pcone, qcone, lh, num_segments, shape='cone'):\n",
    "    if shape == 'cone':\n",
    "        alpha = (qcone-pcone)/lh\n",
    "        beta = pcone\n",
    "        lh_n = np.linspace(0, lh, num_segments)\n",
    "        r_effective = alpha*lh_n + beta\n",
    "    return r_effective\n"
   ]
  },
  {
   "cell_type": "code",
   "execution_count": null,
   "metadata": {},
   "outputs": [],
   "source": []
  },
  {
   "cell_type": "markdown",
   "metadata": {},
   "source": [
    "### Test above defined functions for a single frequency"
   ]
  },
  {
   "cell_type": "code",
   "execution_count": 4,
   "metadata": {},
   "outputs": [],
   "source": [
    "frequency = 5000 #np.arange(0.1, 10000, 50)\n",
    "omega = frequency * 2 * np.pi\n",
    "\n",
    "## https://www.vibrationdata.com/tutorials_alt/speed.pdf\n",
    "## sound speed = square_root(Young’s modulus / density)\n",
    "## Young's modulus of rubber (GPa): 0.14\n",
    "# Young_modulus = 0.14 * (10**9)\n",
    "\n",
    "\n",
    "ai = effective_radius(4*0.001, 8*0.001, 40*0.001, 100, shape='cone')\n",
    "effective_density = ith_effect_density(ai, 15*0.001, 1100, 1.21)\n",
    "\n",
    "# effective_speed = np.sqrt(Young_modulus/effective_density)\n",
    "effective_speed = ith_effect_speed(ai, 15*0.001, 60, 343)\n",
    "\n",
    "\n",
    "\n",
    "wave_number = omega / effective_speed\n",
    "\n",
    "effective_impedance = ith_effect_impedance(effective_density, omega, wave_number)\n",
    "tn = total_tran_matrix(wave_number, 40*0.001, 100, effective_impedance)\n",
    "\n",
    "## Acoustic impdedance of water: 1.48 MPa.s.m−1\n",
    "## https://www.animations.physics.unsw.edu.au/jw/sound-impedance-intensity.htm\n",
    "\n",
    "zw = 1.48*(10**6)\n",
    "zf = imped_front(tn)\n",
    "ref = reflection_coefficient(zf, zw)\n",
    "alpha = absorption_coefficient(ref)"
   ]
  },
  {
   "cell_type": "code",
   "execution_count": null,
   "metadata": {},
   "outputs": [],
   "source": []
  },
  {
   "cell_type": "code",
   "execution_count": 5,
   "metadata": {},
   "outputs": [
    {
     "data": {
      "text/plain": [
       "0.2054959428415296"
      ]
     },
     "execution_count": 5,
     "metadata": {},
     "output_type": "execute_result"
    }
   ],
   "source": [
    "alpha"
   ]
  },
  {
   "cell_type": "code",
   "execution_count": null,
   "metadata": {},
   "outputs": [],
   "source": []
  },
  {
   "cell_type": "markdown",
   "metadata": {},
   "source": [
    "### Integrate all calculations into one function"
   ]
  },
  {
   "cell_type": "code",
   "execution_count": 6,
   "metadata": {},
   "outputs": [],
   "source": [
    "def absorption_frequency(frequency_array, pcone, qcone, lh, num_segments, \n",
    "                         cell_radius, rubber_den, air_den, rubber_speed, air_speed):\n",
    "    \n",
    "    frequency_array = np.asarray(frequency_array)\n",
    "    absorption_list = []\n",
    "    \n",
    "    for frequency in frequency_array:\n",
    "       \n",
    "        omega = frequency * 2 * np.pi\n",
    "        \n",
    "        ## https://www.vibrationdata.com/tutorials_alt/speed.pdf\n",
    "        ## sound speed = square_root(Young’s modulus / density)\n",
    "        ## Young's modulus of rubber (GPa): 0.14\n",
    "#         Young_modulus = Young_rubber\n",
    "\n",
    "        ai = effective_radius(pcone, qcone, lh, num_segments, shape='cone')\n",
    "        effective_density = ith_effect_density(ai, cell_radius, rubber_den, air_den)\n",
    "        effective_speed = ith_effect_speed(ai, cell_radius, rubber_speed, air_speed)\n",
    "        wave_number = omega / effective_speed\n",
    "        \n",
    "        effective_impedance = ith_effect_impedance(effective_density, omega, wave_number)\n",
    "        tn = total_tran_matrix(wave_number, lh, num_segments, effective_impedance)\n",
    "\n",
    "        ## Acoustic impdedance of water: 1.48 MPa.s.m−1\n",
    "        ## https://www.animations.physics.unsw.edu.au/jw/sound-impedance-intensity.htm\n",
    "\n",
    "        zw = 1.48*(10**6)\n",
    "        zf = imped_front(tn)\n",
    "        ref = reflection_coefficient(zf, zw)\n",
    "        alpha = absorption_coefficient(ref)   \n",
    "        absorption_list.append(alpha)\n",
    "        \n",
    "    return np.asarray(absorption_list)\n"
   ]
  },
  {
   "cell_type": "code",
   "execution_count": 7,
   "metadata": {},
   "outputs": [],
   "source": [
    "frequency_array = np.arange(0.1, 10000, 50)\n",
    "absorption_array = absorption_frequency(frequency_array, 4*0.001, 8*0.001, 40*0.001, 1000, \n",
    "                                        15*0.001, 1100, 1.21, 60, 343)"
   ]
  },
  {
   "cell_type": "code",
   "execution_count": null,
   "metadata": {},
   "outputs": [],
   "source": []
  },
  {
   "cell_type": "code",
   "execution_count": 8,
   "metadata": {},
   "outputs": [
    {
     "data": {
      "text/plain": [
       "[<matplotlib.lines.Line2D at 0x7fee8886a510>]"
      ]
     },
     "execution_count": 8,
     "metadata": {},
     "output_type": "execute_result"
    },
    {
     "data": {
      "image/png": "[encoded data removed]",
      "text/plain": [
       "<Figure size 576x432 with 1 Axes>"
      ]
     },
     "metadata": {
      "needs_background": "light"
     },
     "output_type": "display_data"
    }
   ],
   "source": [
    "rows = 1\n",
    "cols = 1\n",
    "f1, ax1 = plt.subplots(rows, cols, figsize = (8, 6), constrained_layout=True)\n",
    "ax1.plot(frequency_array, absorption_array)"
   ]
  },
  {
   "cell_type": "code",
   "execution_count": null,
   "metadata": {},
   "outputs": [],
   "source": []
  },
  {
   "cell_type": "code",
   "execution_count": null,
   "metadata": {},
   "outputs": [],
   "source": []
  },
  {
   "cell_type": "code",
   "execution_count": null,
   "metadata": {},
   "outputs": [],
   "source": []
  }
 ],
 "metadata": {
  "anaconda-cloud": {},
  "kernelspec": {
   "display_name": "Python 3",
   "language": "python",
   "name": "python3"
  },
  "language_info": {
   "codemirror_mode": {
    "name": "ipython",
    "version": 3
   },
   "file_extension": ".py",
   "mimetype": "text/x-python",
   "name": "python",
   "nbconvert_exporter": "python",
   "pygments_lexer": "ipython3",
   "version": "3.7.6"
  }
 },
 "nbformat": 4,
 "nbformat_minor": 4
}
