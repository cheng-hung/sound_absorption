{
 "cells": [
  {
   "cell_type": "code",
   "execution_count": 1,
   "metadata": {
    "collapsed": false,
    "jupyter": {
     "outputs_hidden": false
    }
   },
   "outputs": [],
   "source": [
    "import numpy as np\n",
    "import matplotlib.pyplot as plt\n",
    "import pandas as pd"
   ]
  },
  {
   "cell_type": "code",
   "execution_count": 2,
   "metadata": {},
   "outputs": [],
   "source": [
    "%matplotlib widget"
   ]
  },
  {
   "cell_type": "code",
   "execution_count": 3,
   "metadata": {},
   "outputs": [],
   "source": [
    "import warnings\n",
    "warnings.filterwarnings(\"ignore\", category=RuntimeWarning)\n",
    "warnings.filterwarnings(\"ignore\", category=pd.errors.PerformanceWarning)"
   ]
  },
  {
   "cell_type": "markdown",
   "metadata": {
    "tags": []
   },
   "source": [
    "### Reference: Influence of hole shape on sound absorption of underwater anechoic layers\n",
    "#### https://www.sciencedirect.com/science/article/abs/pii/S0022460X1830227X"
   ]
  },
  {
   "cell_type": "markdown",
   "metadata": {},
   "source": [
    "### Import pre-defined class and function"
   ]
  },
  {
   "cell_type": "code",
   "execution_count": 4,
   "metadata": {},
   "outputs": [],
   "source": [
    "%run -i hole_shape_sound_absorption.py"
   ]
  },
  {
   "cell_type": "markdown",
   "metadata": {},
   "source": [
    "### Define the determinant of the coefficient matrix of eq(14) in the paper"
   ]
  },
  {
   "cell_type": "code",
   "execution_count": 5,
   "metadata": {},
   "outputs": [
    {
     "data": {
      "text/latex": [
       "$\\displaystyle \\left[\\begin{matrix}- \\sqrt{- kz^{2} + \\frac{\\omega^{2}}{cl^{2}}} J_{1}\\left(b \\sqrt{- kz^{2} + \\frac{\\omega^{2}}{cl^{2}}}\\right) & - \\sqrt{- kz^{2} + \\frac{\\omega^{2}}{cl^{2}}} Y_{1}\\left(b \\sqrt{- kz^{2} + \\frac{\\omega^{2}}{cl^{2}}}\\right) & - i kz \\sqrt{- kz^{2} + \\frac{\\omega^{2}}{ct^{2}}} J_{1}\\left(b \\sqrt{- kz^{2} + \\frac{\\omega^{2}}{ct^{2}}}\\right) & - i kz \\sqrt{- kz^{2} + \\frac{\\omega^{2}}{ct^{2}}} Y_{1}\\left(b \\sqrt{- kz^{2} + \\frac{\\omega^{2}}{ct^{2}}}\\right)\\\\\\left(- 2 \\mu \\left(- kz^{2} + \\frac{\\omega^{2}}{cl^{2}}\\right) - \\frac{\\lambda \\omega^{2}}{cl^{2}}\\right) J_{0}\\left(a \\sqrt{- kz^{2} + \\frac{\\omega^{2}}{cl^{2}}}\\right) + \\frac{2 \\mu \\sqrt{- kz^{2} + \\frac{\\omega^{2}}{cl^{2}}} J_{1}\\left(a \\sqrt{- kz^{2} + \\frac{\\omega^{2}}{cl^{2}}}\\right)}{a} & \\left(- 2 \\mu \\left(- kz^{2} + \\frac{\\omega^{2}}{cl^{2}}\\right) - \\frac{\\lambda \\omega^{2}}{cl^{2}}\\right) Y_{0}\\left(a \\sqrt{- kz^{2} + \\frac{\\omega^{2}}{cl^{2}}}\\right) + \\frac{2 \\mu \\sqrt{- kz^{2} + \\frac{\\omega^{2}}{cl^{2}}} Y_{1}\\left(a \\sqrt{- kz^{2} + \\frac{\\omega^{2}}{cl^{2}}}\\right)}{a} & 2 i kz \\mu \\sqrt{- kz^{2} + \\frac{\\omega^{2}}{ct^{2}}} \\left(- \\sqrt{- kz^{2} + \\frac{\\omega^{2}}{ct^{2}}} J_{0}\\left(a \\sqrt{- kz^{2} + \\frac{\\omega^{2}}{ct^{2}}}\\right) + \\frac{J_{1}\\left(a \\sqrt{- kz^{2} + \\frac{\\omega^{2}}{ct^{2}}}\\right)}{a}\\right) & 2 i kz \\mu \\sqrt{- kz^{2} + \\frac{\\omega^{2}}{ct^{2}}} \\left(- \\sqrt{- kz^{2} + \\frac{\\omega^{2}}{ct^{2}}} Y_{0}\\left(a \\sqrt{- kz^{2} + \\frac{\\omega^{2}}{ct^{2}}}\\right) + \\frac{Y_{1}\\left(a \\sqrt{- kz^{2} + \\frac{\\omega^{2}}{ct^{2}}}\\right)}{a}\\right)\\\\- 2 i kz \\mu \\sqrt{- kz^{2} + \\frac{\\omega^{2}}{cl^{2}}} J_{1}\\left(a \\sqrt{- kz^{2} + \\frac{\\omega^{2}}{cl^{2}}}\\right) & - 2 i kz \\mu \\sqrt{- kz^{2} + \\frac{\\omega^{2}}{cl^{2}}} Y_{1}\\left(a \\sqrt{- kz^{2} + \\frac{\\omega^{2}}{cl^{2}}}\\right) & \\mu \\sqrt{- kz^{2} + \\frac{\\omega^{2}}{ct^{2}}} \\left(2 kz^{2} - \\frac{\\omega^{2}}{ct^{2}}\\right) J_{1}\\left(a \\sqrt{- kz^{2} + \\frac{\\omega^{2}}{ct^{2}}}\\right) & \\mu \\sqrt{- kz^{2} + \\frac{\\omega^{2}}{ct^{2}}} \\left(2 kz^{2} - \\frac{\\omega^{2}}{ct^{2}}\\right) Y_{1}\\left(a \\sqrt{- kz^{2} + \\frac{\\omega^{2}}{ct^{2}}}\\right)\\\\- 2 i kz \\mu \\sqrt{- kz^{2} + \\frac{\\omega^{2}}{cl^{2}}} J_{1}\\left(b \\sqrt{- kz^{2} + \\frac{\\omega^{2}}{cl^{2}}}\\right) & - 2 i kz \\mu \\sqrt{- kz^{2} + \\frac{\\omega^{2}}{cl^{2}}} Y_{1}\\left(b \\sqrt{- kz^{2} + \\frac{\\omega^{2}}{cl^{2}}}\\right) & \\mu \\sqrt{- kz^{2} + \\frac{\\omega^{2}}{ct^{2}}} \\left(2 kz^{2} - \\frac{\\omega^{2}}{ct^{2}}\\right) J_{1}\\left(b \\sqrt{- kz^{2} + \\frac{\\omega^{2}}{ct^{2}}}\\right) & \\mu \\sqrt{- kz^{2} + \\frac{\\omega^{2}}{ct^{2}}} \\left(2 kz^{2} - \\frac{\\omega^{2}}{ct^{2}}\\right) Y_{1}\\left(b \\sqrt{- kz^{2} + \\frac{\\omega^{2}}{ct^{2}}}\\right)\\end{matrix}\\right]$"
      ],
      "text/plain": [
       "Matrix([\n",
       "[                                                                                                              -sqrt(-kz**2 + omega**2/cl**2)*besselj(1, b*sqrt(-kz**2 + omega**2/cl**2)),                                                                                                               -sqrt(-kz**2 + omega**2/cl**2)*bessely(1, b*sqrt(-kz**2 + omega**2/cl**2)),                                                                                      -I*kz*sqrt(-kz**2 + omega**2/ct**2)*besselj(1, b*sqrt(-kz**2 + omega**2/ct**2)),                                                                                      -I*kz*sqrt(-kz**2 + omega**2/ct**2)*bessely(1, b*sqrt(-kz**2 + omega**2/ct**2))],\n",
       "[(-2*mu*(-kz**2 + omega**2/cl**2) - lambda*omega**2/cl**2)*besselj(0, a*sqrt(-kz**2 + omega**2/cl**2)) + 2*mu*sqrt(-kz**2 + omega**2/cl**2)*besselj(1, a*sqrt(-kz**2 + omega**2/cl**2))/a, (-2*mu*(-kz**2 + omega**2/cl**2) - lambda*omega**2/cl**2)*bessely(0, a*sqrt(-kz**2 + omega**2/cl**2)) + 2*mu*sqrt(-kz**2 + omega**2/cl**2)*bessely(1, a*sqrt(-kz**2 + omega**2/cl**2))/a, 2*I*kz*mu*sqrt(-kz**2 + omega**2/ct**2)*(-sqrt(-kz**2 + omega**2/ct**2)*besselj(0, a*sqrt(-kz**2 + omega**2/ct**2)) + besselj(1, a*sqrt(-kz**2 + omega**2/ct**2))/a), 2*I*kz*mu*sqrt(-kz**2 + omega**2/ct**2)*(-sqrt(-kz**2 + omega**2/ct**2)*bessely(0, a*sqrt(-kz**2 + omega**2/ct**2)) + bessely(1, a*sqrt(-kz**2 + omega**2/ct**2))/a)],\n",
       "[                                                                                                    -2*I*kz*mu*sqrt(-kz**2 + omega**2/cl**2)*besselj(1, a*sqrt(-kz**2 + omega**2/cl**2)),                                                                                                     -2*I*kz*mu*sqrt(-kz**2 + omega**2/cl**2)*bessely(1, a*sqrt(-kz**2 + omega**2/cl**2)),                                                              mu*sqrt(-kz**2 + omega**2/ct**2)*(2*kz**2 - omega**2/ct**2)*besselj(1, a*sqrt(-kz**2 + omega**2/ct**2)),                                                              mu*sqrt(-kz**2 + omega**2/ct**2)*(2*kz**2 - omega**2/ct**2)*bessely(1, a*sqrt(-kz**2 + omega**2/ct**2))],\n",
       "[                                                                                                    -2*I*kz*mu*sqrt(-kz**2 + omega**2/cl**2)*besselj(1, b*sqrt(-kz**2 + omega**2/cl**2)),                                                                                                     -2*I*kz*mu*sqrt(-kz**2 + omega**2/cl**2)*bessely(1, b*sqrt(-kz**2 + omega**2/cl**2)),                                                              mu*sqrt(-kz**2 + omega**2/ct**2)*(2*kz**2 - omega**2/ct**2)*besselj(1, b*sqrt(-kz**2 + omega**2/ct**2)),                                                              mu*sqrt(-kz**2 + omega**2/ct**2)*(2*kz**2 - omega**2/ct**2)*bessely(1, b*sqrt(-kz**2 + omega**2/ct**2))]])"
      ]
     },
     "execution_count": 5,
     "metadata": {},
     "output_type": "execute_result"
    }
   ],
   "source": [
    "determinant, mat = determinant_from_matrix()\n",
    "mat"
   ]
  },
  {
   "cell_type": "code",
   "execution_count": null,
   "metadata": {},
   "outputs": [],
   "source": []
  },
  {
   "cell_type": "markdown",
   "metadata": {
    "tags": []
   },
   "source": [
    "## Define an object of sound_performance for calculating sound absorption\n",
    "### The default values are listed as below (all in SI units)\n",
    "\n",
    "Material of anechoic layer: rubber\n",
    "\n",
    "Young's modulus of rubber (GPa): 0.14\n",
    "\n",
    "Loss factor of rubber 0.23\n",
    "\n",
    "Poisson ratio of rubber 0.49\n",
    "\n",
    "Density of rubber (kg/m3): 1100\n",
    "\n",
    "Density of air (kg/m3): 1.21\n",
    "\n",
    "Shape: cone\n",
    "\n",
    "p = 4 mm\n",
    "\n",
    "q = 8 mm\n",
    "\n",
    "lh = 40 mm\n",
    "\n",
    "cell_radius = 15 mm\n",
    "\n",
    "num_segments = 100\n",
    "\n",
    "Density of water (kg/m3): 998\n",
    "\n",
    "Sound speed of water (m/s): 1483\n",
    "\n",
    "#### https://en.wikipedia.org/wiki/Lam%C3%A9_parameters"
   ]
  },
  {
   "cell_type": "markdown",
   "metadata": {},
   "source": [
    "### Define the frequency array by np.arange"
   ]
  },
  {
   "cell_type": "code",
   "execution_count": 8,
   "metadata": {},
   "outputs": [],
   "source": [
    "# f_step = 25; Seg = 50\n",
    "# f_step = 25; Seg = 100\n",
    "# f_step = 50; Seg = 50\n",
    "# f_step = 50; Seg = 100\n",
    "# f_step = 100; Seg = 50\n",
    "# f_step = 100; Seg = 100"
   ]
  },
  {
   "cell_type": "code",
   "execution_count": 10,
   "metadata": {},
   "outputs": [
    {
     "data": {
      "text/plain": [
       "(402,)"
      ]
     },
     "execution_count": 10,
     "metadata": {},
     "output_type": "execute_result"
    }
   ],
   "source": [
    "frequency_array = np.arange(10, 10052, 25)\n",
    "# frequency_array2 = np.arange(2, 10022, 20)\n",
    "frequency_array.shape"
   ]
  },
  {
   "cell_type": "markdown",
   "metadata": {},
   "source": [
    "### Example 01: define all parameters by anechoic_sound_absorption()"
   ]
  },
  {
   "cell_type": "code",
   "execution_count": 11,
   "metadata": {},
   "outputs": [
    {
     "data": {
      "application/vnd.jupyter.widget-view+json": {
       "model_id": "72ff6b4a354f4ad68e414b523492475d",
       "version_major": 2,
       "version_minor": 0
      },
      "image/png": "[encoded data removed]",
      "text/html": [
       "\n",
       "            <div style=\"display: inline-block;\">\n",
       "                <div class=\"jupyter-widgets widget-label\" style=\"text-align: center;\">\n",
       "                    Figure\n",
       "                </div>\n",
       "                <img src='data:image/png;base64,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' width=640.0/>\n",
       "            </div>\n",
       "        "
      ],
      "text/plain": [
       "Canvas(toolbar=Toolbar(toolitems=[('Home', 'Reset original view', 'home', 'home'), ('Back', 'Back to previous …"
      ]
     },
     "metadata": {},
     "output_type": "display_data"
    },
    {
     "name": "stdout",
     "output_type": "stream",
     "text": [
      "Solving wavenumber in determinant for shape = horn, p = 0.001, q = 0.007, Young's = 140000000.0\n"
     ]
    },
    {
     "data": {
      "application/vnd.jupyter.widget-view+json": {
       "model_id": "79b0c9923e56488489a2336acbb8144e",
       "version_major": 2,
       "version_minor": 0
      },
      "text/plain": [
       "Solving for all frequencies:   0%|          | 0/402 [00:00<?, ?it/s]"
      ]
     },
     "metadata": {},
     "output_type": "display_data"
    },
    {
     "data": {
      "application/vnd.jupyter.widget-view+json": {
       "model_id": "",
       "version_major": 2,
       "version_minor": 0
      },
      "text/plain": [
       "  ... working at frequency = 10.0 Hz:   0%|          | 0/50 [00:00<?, ?it/s]"
      ]
     },
     "metadata": {},
     "output_type": "display_data"
    },
    {
     "data": {
      "application/vnd.jupyter.widget-view+json": {
       "model_id": "",
       "version_major": 2,
       "version_minor": 0
      },
      "text/plain": [
       "  ... working at frequency = 35.0 Hz:   0%|          | 0/50 [00:00<?, ?it/s]"
      ]
     },
     "metadata": {},
     "output_type": "display_data"
    },
    {
     "data": {
      "application/vnd.jupyter.widget-view+json": {
       "model_id": "",
       "version_major": 2,
       "version_minor": 0
      },
      "text/plain": [
       "  ... working at frequency = 60.0 Hz:   0%|          | 0/50 [00:00<?, ?it/s]"
      ]
     },
     "metadata": {},
     "output_type": "display_data"
    },
    {
     "data": {
      "application/vnd.jupyter.widget-view+json": {
       "model_id": "",
       "version_major": 2,
       "version_minor": 0
      },
      "text/plain": [
       "  ... working at frequency = 85.0 Hz:   0%|          | 0/50 [00:00<?, ?it/s]"
      ]
     },
     "metadata": {},
     "output_type": "display_data"
    },
    {
     "data": {
      "application/vnd.jupyter.widget-view+json": {
       "model_id": "",
       "version_major": 2,
       "version_minor": 0
      },
      "text/plain": [
       "  ... working at frequency = 110.0 Hz:   0%|          | 0/50 [00:00<?, ?it/s]"
      ]
     },
     "metadata": {},
     "output_type": "display_data"
    },
    {
     "data": {
      "application/vnd.jupyter.widget-view+json": {
       "model_id": "",
       "version_major": 2,
       "version_minor": 0
      },
      "text/plain": [
       "  ... working at frequency = 135.0 Hz:   0%|          | 0/50 [00:00<?, ?it/s]"
      ]
     },
     "metadata": {},
     "output_type": "display_data"
    },
    {
     "data": {
      "application/vnd.jupyter.widget-view+json": {
       "model_id": "",
       "version_major": 2,
       "version_minor": 0
      },
      "text/plain": [
       "  ... working at frequency = 160.0 Hz:   0%|          | 0/50 [00:00<?, ?it/s]"
      ]
     },
     "metadata": {},
     "output_type": "display_data"
    },
    {
     "data": {
      "application/vnd.jupyter.widget-view+json": {
       "model_id": "",
       "version_major": 2,
       "version_minor": 0
      },
      "text/plain": [
       "  ... working at frequency = 185.0 Hz:   0%|          | 0/50 [00:00<?, ?it/s]"
      ]
     },
     "metadata": {},
     "output_type": "display_data"
    },
    {
     "data": {
      "application/vnd.jupyter.widget-view+json": {
       "model_id": "",
       "version_major": 2,
       "version_minor": 0
      },
      "text/plain": [
       "  ... working at frequency = 210.0 Hz:   0%|          | 0/50 [00:00<?, ?it/s]"
      ]
     },
     "metadata": {},
     "output_type": "display_data"
    },
    {
     "data": {
      "application/vnd.jupyter.widget-view+json": {
       "model_id": "",
       "version_major": 2,
       "version_minor": 0
      },
      "text/plain": [
       "  ... working at frequency = 235.0 Hz:   0%|          | 0/50 [00:00<?, ?it/s]"
      ]
     },
     "metadata": {},
     "output_type": "display_data"
    },
    {
     "data": {
      "application/vnd.jupyter.widget-view+json": {
       "model_id": "",
       "version_major": 2,
       "version_minor": 0
      },
      "text/plain": [
       "  ... working at frequency = 260.0 Hz:   0%|          | 0/50 [00:00<?, ?it/s]"
      ]
     },
     "metadata": {},
     "output_type": "display_data"
    },
    {
     "data": {
      "application/vnd.jupyter.widget-view+json": {
       "model_id": "",
       "version_major": 2,
       "version_minor": 0
      },
      "text/plain": [
       "  ... working at frequency = 285.0 Hz:   0%|          | 0/50 [00:00<?, ?it/s]"
      ]
     },
     "metadata": {},
     "output_type": "display_data"
    },
    {
     "data": {
      "application/vnd.jupyter.widget-view+json": {
       "model_id": "",
       "version_major": 2,
       "version_minor": 0
      },
      "text/plain": [
       "  ... working at frequency = 310.0 Hz:   0%|          | 0/50 [00:00<?, ?it/s]"
      ]
     },
     "metadata": {},
     "output_type": "display_data"
    },
    {
     "data": {
      "application/vnd.jupyter.widget-view+json": {
       "model_id": "",
       "version_major": 2,
       "version_minor": 0
      },
      "text/plain": [
       "  ... working at frequency = 335.0 Hz:   0%|          | 0/50 [00:00<?, ?it/s]"
      ]
     },
     "metadata": {},
     "output_type": "display_data"
    },
    {
     "data": {
      "application/vnd.jupyter.widget-view+json": {
       "model_id": "",
       "version_major": 2,
       "version_minor": 0
      },
      "text/plain": [
       "  ... working at frequency = 360.0 Hz:   0%|          | 0/50 [00:00<?, ?it/s]"
      ]
     },
     "metadata": {},
     "output_type": "display_data"
    },
    {
     "data": {
      "application/vnd.jupyter.widget-view+json": {
       "model_id": "",
       "version_major": 2,
       "version_minor": 0
      },
      "text/plain": [
       "  ... working at frequency = 385.0 Hz:   0%|          | 0/50 [00:00<?, ?it/s]"
      ]
     },
     "metadata": {},
     "output_type": "display_data"
    },
    {
     "data": {
      "application/vnd.jupyter.widget-view+json": {
       "model_id": "",
       "version_major": 2,
       "version_minor": 0
      },
      "text/plain": [
       "  ... working at frequency = 410.0 Hz:   0%|          | 0/50 [00:00<?, ?it/s]"
      ]
     },
     "metadata": {},
     "output_type": "display_data"
    },
    {
     "data": {
      "application/vnd.jupyter.widget-view+json": {
       "model_id": "",
       "version_major": 2,
       "version_minor": 0
      },
      "text/plain": [
       "  ... working at frequency = 435.0 Hz:   0%|          | 0/50 [00:00<?, ?it/s]"
      ]
     },
     "metadata": {},
     "output_type": "display_data"
    },
    {
     "data": {
      "application/vnd.jupyter.widget-view+json": {
       "model_id": "",
       "version_major": 2,
       "version_minor": 0
      },
      "text/plain": [
       "  ... working at frequency = 460.0 Hz:   0%|          | 0/50 [00:00<?, ?it/s]"
      ]
     },
     "metadata": {},
     "output_type": "display_data"
    },
    {
     "data": {
      "application/vnd.jupyter.widget-view+json": {
       "model_id": "",
       "version_major": 2,
       "version_minor": 0
      },
      "text/plain": [
       "  ... working at frequency = 485.0 Hz:   0%|          | 0/50 [00:00<?, ?it/s]"
      ]
     },
     "metadata": {},
     "output_type": "display_data"
    },
    {
     "data": {
      "application/vnd.jupyter.widget-view+json": {
       "model_id": "",
       "version_major": 2,
       "version_minor": 0
      },
      "text/plain": [
       "  ... working at frequency = 510.0 Hz:   0%|          | 0/50 [00:00<?, ?it/s]"
      ]
     },
     "metadata": {},
     "output_type": "display_data"
    },
    {
     "data": {
      "application/vnd.jupyter.widget-view+json": {
       "model_id": "",
       "version_major": 2,
       "version_minor": 0
      },
      "text/plain": [
       "  ... working at frequency = 535.0 Hz:   0%|          | 0/50 [00:00<?, ?it/s]"
      ]
     },
     "metadata": {},
     "output_type": "display_data"
    },
    {
     "data": {
      "application/vnd.jupyter.widget-view+json": {
       "model_id": "",
       "version_major": 2,
       "version_minor": 0
      },
      "text/plain": [
       "  ... working at frequency = 560.0 Hz:   0%|          | 0/50 [00:00<?, ?it/s]"
      ]
     },
     "metadata": {},
     "output_type": "display_data"
    },
    {
     "data": {
      "application/vnd.jupyter.widget-view+json": {
       "model_id": "",
       "version_major": 2,
       "version_minor": 0
      },
      "text/plain": [
       "  ... working at frequency = 585.0 Hz:   0%|          | 0/50 [00:00<?, ?it/s]"
      ]
     },
     "metadata": {},
     "output_type": "display_data"
    },
    {
     "data": {
      "application/vnd.jupyter.widget-view+json": {
       "model_id": "",
       "version_major": 2,
       "version_minor": 0
      },
      "text/plain": [
       "  ... working at frequency = 610.0 Hz:   0%|          | 0/50 [00:00<?, ?it/s]"
      ]
     },
     "metadata": {},
     "output_type": "display_data"
    },
    {
     "data": {
      "application/vnd.jupyter.widget-view+json": {
       "model_id": "",
       "version_major": 2,
       "version_minor": 0
      },
      "text/plain": [
       "  ... working at frequency = 635.0 Hz:   0%|          | 0/50 [00:00<?, ?it/s]"
      ]
     },
     "metadata": {},
     "output_type": "display_data"
    },
    {
     "data": {
      "application/vnd.jupyter.widget-view+json": {
       "model_id": "",
       "version_major": 2,
       "version_minor": 0
      },
      "text/plain": [
       "  ... working at frequency = 660.0 Hz:   0%|          | 0/50 [00:00<?, ?it/s]"
      ]
     },
     "metadata": {},
     "output_type": "display_data"
    },
    {
     "data": {
      "application/vnd.jupyter.widget-view+json": {
       "model_id": "",
       "version_major": 2,
       "version_minor": 0
      },
      "text/plain": [
       "  ... working at frequency = 685.0 Hz:   0%|          | 0/50 [00:00<?, ?it/s]"
      ]
     },
     "metadata": {},
     "output_type": "display_data"
    },
    {
     "data": {
      "application/vnd.jupyter.widget-view+json": {
       "model_id": "",
       "version_major": 2,
       "version_minor": 0
      },
      "text/plain": [
       "  ... working at frequency = 710.0 Hz:   0%|          | 0/50 [00:00<?, ?it/s]"
      ]
     },
     "metadata": {},
     "output_type": "display_data"
    },
    {
     "data": {
      "application/vnd.jupyter.widget-view+json": {
       "model_id": "",
       "version_major": 2,
       "version_minor": 0
      },
      "text/plain": [
       "  ... working at frequency = 735.0 Hz:   0%|          | 0/50 [00:00<?, ?it/s]"
      ]
     },
     "metadata": {},
     "output_type": "display_data"
    },
    {
     "data": {
      "application/vnd.jupyter.widget-view+json": {
       "model_id": "",
       "version_major": 2,
       "version_minor": 0
      },
      "text/plain": [
       "  ... working at frequency = 760.0 Hz:   0%|          | 0/50 [00:00<?, ?it/s]"
      ]
     },
     "metadata": {},
     "output_type": "display_data"
    },
    {
     "data": {
      "application/vnd.jupyter.widget-view+json": {
       "model_id": "",
       "version_major": 2,
       "version_minor": 0
      },
      "text/plain": [
       "  ... working at frequency = 785.0 Hz:   0%|          | 0/50 [00:00<?, ?it/s]"
      ]
     },
     "metadata": {},
     "output_type": "display_data"
    },
    {
     "data": {
      "application/vnd.jupyter.widget-view+json": {
       "model_id": "",
       "version_major": 2,
       "version_minor": 0
      },
      "text/plain": [
       "  ... working at frequency = 810.0 Hz:   0%|          | 0/50 [00:00<?, ?it/s]"
      ]
     },
     "metadata": {},
     "output_type": "display_data"
    },
    {
     "data": {
      "application/vnd.jupyter.widget-view+json": {
       "model_id": "",
       "version_major": 2,
       "version_minor": 0
      },
      "text/plain": [
       "  ... working at frequency = 835.0 Hz:   0%|          | 0/50 [00:00<?, ?it/s]"
      ]
     },
     "metadata": {},
     "output_type": "display_data"
    },
    {
     "data": {
      "application/vnd.jupyter.widget-view+json": {
       "model_id": "",
       "version_major": 2,
       "version_minor": 0
      },
      "text/plain": [
       "  ... working at frequency = 860.0 Hz:   0%|          | 0/50 [00:00<?, ?it/s]"
      ]
     },
     "metadata": {},
     "output_type": "display_data"
    },
    {
     "data": {
      "application/vnd.jupyter.widget-view+json": {
       "model_id": "",
       "version_major": 2,
       "version_minor": 0
      },
      "text/plain": [
       "  ... working at frequency = 885.0 Hz:   0%|          | 0/50 [00:00<?, ?it/s]"
      ]
     },
     "metadata": {},
     "output_type": "display_data"
    },
    {
     "data": {
      "application/vnd.jupyter.widget-view+json": {
       "model_id": "",
       "version_major": 2,
       "version_minor": 0
      },
      "text/plain": [
       "  ... working at frequency = 910.0 Hz:   0%|          | 0/50 [00:00<?, ?it/s]"
      ]
     },
     "metadata": {},
     "output_type": "display_data"
    },
    {
     "data": {
      "application/vnd.jupyter.widget-view+json": {
       "model_id": "",
       "version_major": 2,
       "version_minor": 0
      },
      "text/plain": [
       "  ... working at frequency = 935.0 Hz:   0%|          | 0/50 [00:00<?, ?it/s]"
      ]
     },
     "metadata": {},
     "output_type": "display_data"
    },
    {
     "data": {
      "application/vnd.jupyter.widget-view+json": {
       "model_id": "",
       "version_major": 2,
       "version_minor": 0
      },
      "text/plain": [
       "  ... working at frequency = 960.0 Hz:   0%|          | 0/50 [00:00<?, ?it/s]"
      ]
     },
     "metadata": {},
     "output_type": "display_data"
    },
    {
     "data": {
      "application/vnd.jupyter.widget-view+json": {
       "model_id": "",
       "version_major": 2,
       "version_minor": 0
      },
      "text/plain": [
       "  ... working at frequency = 985.0 Hz:   0%|          | 0/50 [00:00<?, ?it/s]"
      ]
     },
     "metadata": {},
     "output_type": "display_data"
    },
    {
     "data": {
      "application/vnd.jupyter.widget-view+json": {
       "model_id": "",
       "version_major": 2,
       "version_minor": 0
      },
      "text/plain": [
       "  ... working at frequency = 1010.0 Hz:   0%|          | 0/50 [00:00<?, ?it/s]"
      ]
     },
     "metadata": {},
     "output_type": "display_data"
    },
    {
     "data": {
      "application/vnd.jupyter.widget-view+json": {
       "model_id": "",
       "version_major": 2,
       "version_minor": 0
      },
      "text/plain": [
       "  ... working at frequency = 1035.0 Hz:   0%|          | 0/50 [00:00<?, ?it/s]"
      ]
     },
     "metadata": {},
     "output_type": "display_data"
    },
    {
     "data": {
      "application/vnd.jupyter.widget-view+json": {
       "model_id": "",
       "version_major": 2,
       "version_minor": 0
      },
      "text/plain": [
       "  ... working at frequency = 1060.0 Hz:   0%|          | 0/50 [00:00<?, ?it/s]"
      ]
     },
     "metadata": {},
     "output_type": "display_data"
    },
    {
     "data": {
      "application/vnd.jupyter.widget-view+json": {
       "model_id": "",
       "version_major": 2,
       "version_minor": 0
      },
      "text/plain": [
       "  ... working at frequency = 1085.0 Hz:   0%|          | 0/50 [00:00<?, ?it/s]"
      ]
     },
     "metadata": {},
     "output_type": "display_data"
    },
    {
     "data": {
      "application/vnd.jupyter.widget-view+json": {
       "model_id": "",
       "version_major": 2,
       "version_minor": 0
      },
      "text/plain": [
       "  ... working at frequency = 1110.0 Hz:   0%|          | 0/50 [00:00<?, ?it/s]"
      ]
     },
     "metadata": {},
     "output_type": "display_data"
    },
    {
     "data": {
      "application/vnd.jupyter.widget-view+json": {
       "model_id": "",
       "version_major": 2,
       "version_minor": 0
      },
      "text/plain": [
       "  ... working at frequency = 1135.0 Hz:   0%|          | 0/50 [00:00<?, ?it/s]"
      ]
     },
     "metadata": {},
     "output_type": "display_data"
    },
    {
     "data": {
      "application/vnd.jupyter.widget-view+json": {
       "model_id": "",
       "version_major": 2,
       "version_minor": 0
      },
      "text/plain": [
       "  ... working at frequency = 1160.0 Hz:   0%|          | 0/50 [00:00<?, ?it/s]"
      ]
     },
     "metadata": {},
     "output_type": "display_data"
    },
    {
     "data": {
      "application/vnd.jupyter.widget-view+json": {
       "model_id": "",
       "version_major": 2,
       "version_minor": 0
      },
      "text/plain": [
       "  ... working at frequency = 1185.0 Hz:   0%|          | 0/50 [00:00<?, ?it/s]"
      ]
     },
     "metadata": {},
     "output_type": "display_data"
    },
    {
     "data": {
      "application/vnd.jupyter.widget-view+json": {
       "model_id": "",
       "version_major": 2,
       "version_minor": 0
      },
      "text/plain": [
       "  ... working at frequency = 1210.0 Hz:   0%|          | 0/50 [00:00<?, ?it/s]"
      ]
     },
     "metadata": {},
     "output_type": "display_data"
    },
    {
     "data": {
      "application/vnd.jupyter.widget-view+json": {
       "model_id": "",
       "version_major": 2,
       "version_minor": 0
      },
      "text/plain": [
       "  ... working at frequency = 1235.0 Hz:   0%|          | 0/50 [00:00<?, ?it/s]"
      ]
     },
     "metadata": {},
     "output_type": "display_data"
    },
    {
     "data": {
      "application/vnd.jupyter.widget-view+json": {
       "model_id": "",
       "version_major": 2,
       "version_minor": 0
      },
      "text/plain": [
       "  ... working at frequency = 1260.0 Hz:   0%|          | 0/50 [00:00<?, ?it/s]"
      ]
     },
     "metadata": {},
     "output_type": "display_data"
    },
    {
     "data": {
      "application/vnd.jupyter.widget-view+json": {
       "model_id": "",
       "version_major": 2,
       "version_minor": 0
      },
      "text/plain": [
       "  ... working at frequency = 1285.0 Hz:   0%|          | 0/50 [00:00<?, ?it/s]"
      ]
     },
     "metadata": {},
     "output_type": "display_data"
    },
    {
     "data": {
      "application/vnd.jupyter.widget-view+json": {
       "model_id": "",
       "version_major": 2,
       "version_minor": 0
      },
      "text/plain": [
       "  ... working at frequency = 1310.0 Hz:   0%|          | 0/50 [00:00<?, ?it/s]"
      ]
     },
     "metadata": {},
     "output_type": "display_data"
    },
    {
     "data": {
      "application/vnd.jupyter.widget-view+json": {
       "model_id": "",
       "version_major": 2,
       "version_minor": 0
      },
      "text/plain": [
       "  ... working at frequency = 1335.0 Hz:   0%|          | 0/50 [00:00<?, ?it/s]"
      ]
     },
     "metadata": {},
     "output_type": "display_data"
    },
    {
     "data": {
      "application/vnd.jupyter.widget-view+json": {
       "model_id": "",
       "version_major": 2,
       "version_minor": 0
      },
      "text/plain": [
       "  ... working at frequency = 1360.0 Hz:   0%|          | 0/50 [00:00<?, ?it/s]"
      ]
     },
     "metadata": {},
     "output_type": "display_data"
    },
    {
     "data": {
      "application/vnd.jupyter.widget-view+json": {
       "model_id": "",
       "version_major": 2,
       "version_minor": 0
      },
      "text/plain": [
       "  ... working at frequency = 1385.0 Hz:   0%|          | 0/50 [00:00<?, ?it/s]"
      ]
     },
     "metadata": {},
     "output_type": "display_data"
    },
    {
     "data": {
      "application/vnd.jupyter.widget-view+json": {
       "model_id": "",
       "version_major": 2,
       "version_minor": 0
      },
      "text/plain": [
       "  ... working at frequency = 1410.0 Hz:   0%|          | 0/50 [00:00<?, ?it/s]"
      ]
     },
     "metadata": {},
     "output_type": "display_data"
    },
    {
     "data": {
      "application/vnd.jupyter.widget-view+json": {
       "model_id": "",
       "version_major": 2,
       "version_minor": 0
      },
      "text/plain": [
       "  ... working at frequency = 1435.0 Hz:   0%|          | 0/50 [00:00<?, ?it/s]"
      ]
     },
     "metadata": {},
     "output_type": "display_data"
    },
    {
     "data": {
      "application/vnd.jupyter.widget-view+json": {
       "model_id": "",
       "version_major": 2,
       "version_minor": 0
      },
      "text/plain": [
       "  ... working at frequency = 1460.0 Hz:   0%|          | 0/50 [00:00<?, ?it/s]"
      ]
     },
     "metadata": {},
     "output_type": "display_data"
    },
    {
     "data": {
      "application/vnd.jupyter.widget-view+json": {
       "model_id": "",
       "version_major": 2,
       "version_minor": 0
      },
      "text/plain": [
       "  ... working at frequency = 1485.0 Hz:   0%|          | 0/50 [00:00<?, ?it/s]"
      ]
     },
     "metadata": {},
     "output_type": "display_data"
    },
    {
     "data": {
      "application/vnd.jupyter.widget-view+json": {
       "model_id": "",
       "version_major": 2,
       "version_minor": 0
      },
      "text/plain": [
       "  ... working at frequency = 1510.0 Hz:   0%|          | 0/50 [00:00<?, ?it/s]"
      ]
     },
     "metadata": {},
     "output_type": "display_data"
    },
    {
     "data": {
      "application/vnd.jupyter.widget-view+json": {
       "model_id": "",
       "version_major": 2,
       "version_minor": 0
      },
      "text/plain": [
       "  ... working at frequency = 1535.0 Hz:   0%|          | 0/50 [00:00<?, ?it/s]"
      ]
     },
     "metadata": {},
     "output_type": "display_data"
    },
    {
     "data": {
      "application/vnd.jupyter.widget-view+json": {
       "model_id": "",
       "version_major": 2,
       "version_minor": 0
      },
      "text/plain": [
       "  ... working at frequency = 1560.0 Hz:   0%|          | 0/50 [00:00<?, ?it/s]"
      ]
     },
     "metadata": {},
     "output_type": "display_data"
    },
    {
     "data": {
      "application/vnd.jupyter.widget-view+json": {
       "model_id": "",
       "version_major": 2,
       "version_minor": 0
      },
      "text/plain": [
       "  ... working at frequency = 1585.0 Hz:   0%|          | 0/50 [00:00<?, ?it/s]"
      ]
     },
     "metadata": {},
     "output_type": "display_data"
    },
    {
     "data": {
      "application/vnd.jupyter.widget-view+json": {
       "model_id": "",
       "version_major": 2,
       "version_minor": 0
      },
      "text/plain": [
       "  ... working at frequency = 1610.0 Hz:   0%|          | 0/50 [00:00<?, ?it/s]"
      ]
     },
     "metadata": {},
     "output_type": "display_data"
    },
    {
     "data": {
      "application/vnd.jupyter.widget-view+json": {
       "model_id": "",
       "version_major": 2,
       "version_minor": 0
      },
      "text/plain": [
       "  ... working at frequency = 1635.0 Hz:   0%|          | 0/50 [00:00<?, ?it/s]"
      ]
     },
     "metadata": {},
     "output_type": "display_data"
    },
    {
     "data": {
      "application/vnd.jupyter.widget-view+json": {
       "model_id": "",
       "version_major": 2,
       "version_minor": 0
      },
      "text/plain": [
       "  ... working at frequency = 1660.0 Hz:   0%|          | 0/50 [00:00<?, ?it/s]"
      ]
     },
     "metadata": {},
     "output_type": "display_data"
    },
    {
     "data": {
      "application/vnd.jupyter.widget-view+json": {
       "model_id": "",
       "version_major": 2,
       "version_minor": 0
      },
      "text/plain": [
       "  ... working at frequency = 1685.0 Hz:   0%|          | 0/50 [00:00<?, ?it/s]"
      ]
     },
     "metadata": {},
     "output_type": "display_data"
    },
    {
     "data": {
      "application/vnd.jupyter.widget-view+json": {
       "model_id": "",
       "version_major": 2,
       "version_minor": 0
      },
      "text/plain": [
       "  ... working at frequency = 1710.0 Hz:   0%|          | 0/50 [00:00<?, ?it/s]"
      ]
     },
     "metadata": {},
     "output_type": "display_data"
    },
    {
     "data": {
      "application/vnd.jupyter.widget-view+json": {
       "model_id": "",
       "version_major": 2,
       "version_minor": 0
      },
      "text/plain": [
       "  ... working at frequency = 1735.0 Hz:   0%|          | 0/50 [00:00<?, ?it/s]"
      ]
     },
     "metadata": {},
     "output_type": "display_data"
    },
    {
     "data": {
      "application/vnd.jupyter.widget-view+json": {
       "model_id": "",
       "version_major": 2,
       "version_minor": 0
      },
      "text/plain": [
       "  ... working at frequency = 1760.0 Hz:   0%|          | 0/50 [00:00<?, ?it/s]"
      ]
     },
     "metadata": {},
     "output_type": "display_data"
    },
    {
     "data": {
      "application/vnd.jupyter.widget-view+json": {
       "model_id": "",
       "version_major": 2,
       "version_minor": 0
      },
      "text/plain": [
       "  ... working at frequency = 1785.0 Hz:   0%|          | 0/50 [00:00<?, ?it/s]"
      ]
     },
     "metadata": {},
     "output_type": "display_data"
    },
    {
     "data": {
      "application/vnd.jupyter.widget-view+json": {
       "model_id": "",
       "version_major": 2,
       "version_minor": 0
      },
      "text/plain": [
       "  ... working at frequency = 1810.0 Hz:   0%|          | 0/50 [00:00<?, ?it/s]"
      ]
     },
     "metadata": {},
     "output_type": "display_data"
    },
    {
     "data": {
      "application/vnd.jupyter.widget-view+json": {
       "model_id": "",
       "version_major": 2,
       "version_minor": 0
      },
      "text/plain": [
       "  ... working at frequency = 1835.0 Hz:   0%|          | 0/50 [00:00<?, ?it/s]"
      ]
     },
     "metadata": {},
     "output_type": "display_data"
    },
    {
     "data": {
      "application/vnd.jupyter.widget-view+json": {
       "model_id": "",
       "version_major": 2,
       "version_minor": 0
      },
      "text/plain": [
       "  ... working at frequency = 1860.0 Hz:   0%|          | 0/50 [00:00<?, ?it/s]"
      ]
     },
     "metadata": {},
     "output_type": "display_data"
    },
    {
     "data": {
      "application/vnd.jupyter.widget-view+json": {
       "model_id": "",
       "version_major": 2,
       "version_minor": 0
      },
      "text/plain": [
       "  ... working at frequency = 1885.0 Hz:   0%|          | 0/50 [00:00<?, ?it/s]"
      ]
     },
     "metadata": {},
     "output_type": "display_data"
    },
    {
     "data": {
      "application/vnd.jupyter.widget-view+json": {
       "model_id": "",
       "version_major": 2,
       "version_minor": 0
      },
      "text/plain": [
       "  ... working at frequency = 1910.0 Hz:   0%|          | 0/50 [00:00<?, ?it/s]"
      ]
     },
     "metadata": {},
     "output_type": "display_data"
    },
    {
     "data": {
      "application/vnd.jupyter.widget-view+json": {
       "model_id": "",
       "version_major": 2,
       "version_minor": 0
      },
      "text/plain": [
       "  ... working at frequency = 1935.0 Hz:   0%|          | 0/50 [00:00<?, ?it/s]"
      ]
     },
     "metadata": {},
     "output_type": "display_data"
    },
    {
     "data": {
      "application/vnd.jupyter.widget-view+json": {
       "model_id": "",
       "version_major": 2,
       "version_minor": 0
      },
      "text/plain": [
       "  ... working at frequency = 1960.0 Hz:   0%|          | 0/50 [00:00<?, ?it/s]"
      ]
     },
     "metadata": {},
     "output_type": "display_data"
    },
    {
     "data": {
      "application/vnd.jupyter.widget-view+json": {
       "model_id": "",
       "version_major": 2,
       "version_minor": 0
      },
      "text/plain": [
       "  ... working at frequency = 1985.0 Hz:   0%|          | 0/50 [00:00<?, ?it/s]"
      ]
     },
     "metadata": {},
     "output_type": "display_data"
    },
    {
     "data": {
      "application/vnd.jupyter.widget-view+json": {
       "model_id": "",
       "version_major": 2,
       "version_minor": 0
      },
      "text/plain": [
       "  ... working at frequency = 2010.0 Hz:   0%|          | 0/50 [00:00<?, ?it/s]"
      ]
     },
     "metadata": {},
     "output_type": "display_data"
    },
    {
     "data": {
      "application/vnd.jupyter.widget-view+json": {
       "model_id": "",
       "version_major": 2,
       "version_minor": 0
      },
      "text/plain": [
       "  ... working at frequency = 2035.0 Hz:   0%|          | 0/50 [00:00<?, ?it/s]"
      ]
     },
     "metadata": {},
     "output_type": "display_data"
    },
    {
     "data": {
      "application/vnd.jupyter.widget-view+json": {
       "model_id": "",
       "version_major": 2,
       "version_minor": 0
      },
      "text/plain": [
       "  ... working at frequency = 2060.0 Hz:   0%|          | 0/50 [00:00<?, ?it/s]"
      ]
     },
     "metadata": {},
     "output_type": "display_data"
    },
    {
     "data": {
      "application/vnd.jupyter.widget-view+json": {
       "model_id": "",
       "version_major": 2,
       "version_minor": 0
      },
      "text/plain": [
       "  ... working at frequency = 2085.0 Hz:   0%|          | 0/50 [00:00<?, ?it/s]"
      ]
     },
     "metadata": {},
     "output_type": "display_data"
    },
    {
     "data": {
      "application/vnd.jupyter.widget-view+json": {
       "model_id": "",
       "version_major": 2,
       "version_minor": 0
      },
      "text/plain": [
       "  ... working at frequency = 2110.0 Hz:   0%|          | 0/50 [00:00<?, ?it/s]"
      ]
     },
     "metadata": {},
     "output_type": "display_data"
    },
    {
     "data": {
      "application/vnd.jupyter.widget-view+json": {
       "model_id": "",
       "version_major": 2,
       "version_minor": 0
      },
      "text/plain": [
       "  ... working at frequency = 2135.0 Hz:   0%|          | 0/50 [00:00<?, ?it/s]"
      ]
     },
     "metadata": {},
     "output_type": "display_data"
    },
    {
     "data": {
      "application/vnd.jupyter.widget-view+json": {
       "model_id": "",
       "version_major": 2,
       "version_minor": 0
      },
      "text/plain": [
       "  ... working at frequency = 2160.0 Hz:   0%|          | 0/50 [00:00<?, ?it/s]"
      ]
     },
     "metadata": {},
     "output_type": "display_data"
    },
    {
     "data": {
      "application/vnd.jupyter.widget-view+json": {
       "model_id": "",
       "version_major": 2,
       "version_minor": 0
      },
      "text/plain": [
       "  ... working at frequency = 2185.0 Hz:   0%|          | 0/50 [00:00<?, ?it/s]"
      ]
     },
     "metadata": {},
     "output_type": "display_data"
    },
    {
     "data": {
      "application/vnd.jupyter.widget-view+json": {
       "model_id": "",
       "version_major": 2,
       "version_minor": 0
      },
      "text/plain": [
       "  ... working at frequency = 2210.0 Hz:   0%|          | 0/50 [00:00<?, ?it/s]"
      ]
     },
     "metadata": {},
     "output_type": "display_data"
    },
    {
     "data": {
      "application/vnd.jupyter.widget-view+json": {
       "model_id": "",
       "version_major": 2,
       "version_minor": 0
      },
      "text/plain": [
       "  ... working at frequency = 2235.0 Hz:   0%|          | 0/50 [00:00<?, ?it/s]"
      ]
     },
     "metadata": {},
     "output_type": "display_data"
    },
    {
     "data": {
      "application/vnd.jupyter.widget-view+json": {
       "model_id": "",
       "version_major": 2,
       "version_minor": 0
      },
      "text/plain": [
       "  ... working at frequency = 2260.0 Hz:   0%|          | 0/50 [00:00<?, ?it/s]"
      ]
     },
     "metadata": {},
     "output_type": "display_data"
    },
    {
     "data": {
      "application/vnd.jupyter.widget-view+json": {
       "model_id": "",
       "version_major": 2,
       "version_minor": 0
      },
      "text/plain": [
       "  ... working at frequency = 2285.0 Hz:   0%|          | 0/50 [00:00<?, ?it/s]"
      ]
     },
     "metadata": {},
     "output_type": "display_data"
    },
    {
     "data": {
      "application/vnd.jupyter.widget-view+json": {
       "model_id": "",
       "version_major": 2,
       "version_minor": 0
      },
      "text/plain": [
       "  ... working at frequency = 2310.0 Hz:   0%|          | 0/50 [00:00<?, ?it/s]"
      ]
     },
     "metadata": {},
     "output_type": "display_data"
    },
    {
     "data": {
      "application/vnd.jupyter.widget-view+json": {
       "model_id": "",
       "version_major": 2,
       "version_minor": 0
      },
      "text/plain": [
       "  ... working at frequency = 2335.0 Hz:   0%|          | 0/50 [00:00<?, ?it/s]"
      ]
     },
     "metadata": {},
     "output_type": "display_data"
    },
    {
     "data": {
      "application/vnd.jupyter.widget-view+json": {
       "model_id": "",
       "version_major": 2,
       "version_minor": 0
      },
      "text/plain": [
       "  ... working at frequency = 2360.0 Hz:   0%|          | 0/50 [00:00<?, ?it/s]"
      ]
     },
     "metadata": {},
     "output_type": "display_data"
    },
    {
     "data": {
      "application/vnd.jupyter.widget-view+json": {
       "model_id": "",
       "version_major": 2,
       "version_minor": 0
      },
      "text/plain": [
       "  ... working at frequency = 2385.0 Hz:   0%|          | 0/50 [00:00<?, ?it/s]"
      ]
     },
     "metadata": {},
     "output_type": "display_data"
    },
    {
     "data": {
      "application/vnd.jupyter.widget-view+json": {
       "model_id": "",
       "version_major": 2,
       "version_minor": 0
      },
      "text/plain": [
       "  ... working at frequency = 2410.0 Hz:   0%|          | 0/50 [00:00<?, ?it/s]"
      ]
     },
     "metadata": {},
     "output_type": "display_data"
    },
    {
     "data": {
      "application/vnd.jupyter.widget-view+json": {
       "model_id": "",
       "version_major": 2,
       "version_minor": 0
      },
      "text/plain": [
       "  ... working at frequency = 2435.0 Hz:   0%|          | 0/50 [00:00<?, ?it/s]"
      ]
     },
     "metadata": {},
     "output_type": "display_data"
    },
    {
     "data": {
      "application/vnd.jupyter.widget-view+json": {
       "model_id": "",
       "version_major": 2,
       "version_minor": 0
      },
      "text/plain": [
       "  ... working at frequency = 2460.0 Hz:   0%|          | 0/50 [00:00<?, ?it/s]"
      ]
     },
     "metadata": {},
     "output_type": "display_data"
    },
    {
     "data": {
      "application/vnd.jupyter.widget-view+json": {
       "model_id": "",
       "version_major": 2,
       "version_minor": 0
      },
      "text/plain": [
       "  ... working at frequency = 2485.0 Hz:   0%|          | 0/50 [00:00<?, ?it/s]"
      ]
     },
     "metadata": {},
     "output_type": "display_data"
    },
    {
     "data": {
      "application/vnd.jupyter.widget-view+json": {
       "model_id": "",
       "version_major": 2,
       "version_minor": 0
      },
      "text/plain": [
       "  ... working at frequency = 2510.0 Hz:   0%|          | 0/50 [00:00<?, ?it/s]"
      ]
     },
     "metadata": {},
     "output_type": "display_data"
    },
    {
     "data": {
      "application/vnd.jupyter.widget-view+json": {
       "model_id": "",
       "version_major": 2,
       "version_minor": 0
      },
      "text/plain": [
       "  ... working at frequency = 2535.0 Hz:   0%|          | 0/50 [00:00<?, ?it/s]"
      ]
     },
     "metadata": {},
     "output_type": "display_data"
    },
    {
     "data": {
      "application/vnd.jupyter.widget-view+json": {
       "model_id": "",
       "version_major": 2,
       "version_minor": 0
      },
      "text/plain": [
       "  ... working at frequency = 2560.0 Hz:   0%|          | 0/50 [00:00<?, ?it/s]"
      ]
     },
     "metadata": {},
     "output_type": "display_data"
    },
    {
     "data": {
      "application/vnd.jupyter.widget-view+json": {
       "model_id": "",
       "version_major": 2,
       "version_minor": 0
      },
      "text/plain": [
       "  ... working at frequency = 2585.0 Hz:   0%|          | 0/50 [00:00<?, ?it/s]"
      ]
     },
     "metadata": {},
     "output_type": "display_data"
    },
    {
     "data": {
      "application/vnd.jupyter.widget-view+json": {
       "model_id": "",
       "version_major": 2,
       "version_minor": 0
      },
      "text/plain": [
       "  ... working at frequency = 2610.0 Hz:   0%|          | 0/50 [00:00<?, ?it/s]"
      ]
     },
     "metadata": {},
     "output_type": "display_data"
    },
    {
     "data": {
      "application/vnd.jupyter.widget-view+json": {
       "model_id": "",
       "version_major": 2,
       "version_minor": 0
      },
      "text/plain": [
       "  ... working at frequency = 2635.0 Hz:   0%|          | 0/50 [00:00<?, ?it/s]"
      ]
     },
     "metadata": {},
     "output_type": "display_data"
    },
    {
     "data": {
      "application/vnd.jupyter.widget-view+json": {
       "model_id": "",
       "version_major": 2,
       "version_minor": 0
      },
      "text/plain": [
       "  ... working at frequency = 2660.0 Hz:   0%|          | 0/50 [00:00<?, ?it/s]"
      ]
     },
     "metadata": {},
     "output_type": "display_data"
    },
    {
     "data": {
      "application/vnd.jupyter.widget-view+json": {
       "model_id": "",
       "version_major": 2,
       "version_minor": 0
      },
      "text/plain": [
       "  ... working at frequency = 2685.0 Hz:   0%|          | 0/50 [00:00<?, ?it/s]"
      ]
     },
     "metadata": {},
     "output_type": "display_data"
    },
    {
     "data": {
      "application/vnd.jupyter.widget-view+json": {
       "model_id": "",
       "version_major": 2,
       "version_minor": 0
      },
      "text/plain": [
       "  ... working at frequency = 2710.0 Hz:   0%|          | 0/50 [00:00<?, ?it/s]"
      ]
     },
     "metadata": {},
     "output_type": "display_data"
    },
    {
     "data": {
      "application/vnd.jupyter.widget-view+json": {
       "model_id": "",
       "version_major": 2,
       "version_minor": 0
      },
      "text/plain": [
       "  ... working at frequency = 2735.0 Hz:   0%|          | 0/50 [00:00<?, ?it/s]"
      ]
     },
     "metadata": {},
     "output_type": "display_data"
    },
    {
     "data": {
      "application/vnd.jupyter.widget-view+json": {
       "model_id": "",
       "version_major": 2,
       "version_minor": 0
      },
      "text/plain": [
       "  ... working at frequency = 2760.0 Hz:   0%|          | 0/50 [00:00<?, ?it/s]"
      ]
     },
     "metadata": {},
     "output_type": "display_data"
    },
    {
     "data": {
      "application/vnd.jupyter.widget-view+json": {
       "model_id": "",
       "version_major": 2,
       "version_minor": 0
      },
      "text/plain": [
       "  ... working at frequency = 2785.0 Hz:   0%|          | 0/50 [00:00<?, ?it/s]"
      ]
     },
     "metadata": {},
     "output_type": "display_data"
    },
    {
     "data": {
      "application/vnd.jupyter.widget-view+json": {
       "model_id": "",
       "version_major": 2,
       "version_minor": 0
      },
      "text/plain": [
       "  ... working at frequency = 2810.0 Hz:   0%|          | 0/50 [00:00<?, ?it/s]"
      ]
     },
     "metadata": {},
     "output_type": "display_data"
    },
    {
     "data": {
      "application/vnd.jupyter.widget-view+json": {
       "model_id": "",
       "version_major": 2,
       "version_minor": 0
      },
      "text/plain": [
       "  ... working at frequency = 2835.0 Hz:   0%|          | 0/50 [00:00<?, ?it/s]"
      ]
     },
     "metadata": {},
     "output_type": "display_data"
    },
    {
     "data": {
      "application/vnd.jupyter.widget-view+json": {
       "model_id": "",
       "version_major": 2,
       "version_minor": 0
      },
      "text/plain": [
       "  ... working at frequency = 2860.0 Hz:   0%|          | 0/50 [00:00<?, ?it/s]"
      ]
     },
     "metadata": {},
     "output_type": "display_data"
    },
    {
     "data": {
      "application/vnd.jupyter.widget-view+json": {
       "model_id": "",
       "version_major": 2,
       "version_minor": 0
      },
      "text/plain": [
       "  ... working at frequency = 2885.0 Hz:   0%|          | 0/50 [00:00<?, ?it/s]"
      ]
     },
     "metadata": {},
     "output_type": "display_data"
    },
    {
     "data": {
      "application/vnd.jupyter.widget-view+json": {
       "model_id": "",
       "version_major": 2,
       "version_minor": 0
      },
      "text/plain": [
       "  ... working at frequency = 2910.0 Hz:   0%|          | 0/50 [00:00<?, ?it/s]"
      ]
     },
     "metadata": {},
     "output_type": "display_data"
    },
    {
     "data": {
      "application/vnd.jupyter.widget-view+json": {
       "model_id": "",
       "version_major": 2,
       "version_minor": 0
      },
      "text/plain": [
       "  ... working at frequency = 2935.0 Hz:   0%|          | 0/50 [00:00<?, ?it/s]"
      ]
     },
     "metadata": {},
     "output_type": "display_data"
    },
    {
     "data": {
      "application/vnd.jupyter.widget-view+json": {
       "model_id": "",
       "version_major": 2,
       "version_minor": 0
      },
      "text/plain": [
       "  ... working at frequency = 2960.0 Hz:   0%|          | 0/50 [00:00<?, ?it/s]"
      ]
     },
     "metadata": {},
     "output_type": "display_data"
    },
    {
     "data": {
      "application/vnd.jupyter.widget-view+json": {
       "model_id": "",
       "version_major": 2,
       "version_minor": 0
      },
      "text/plain": [
       "  ... working at frequency = 2985.0 Hz:   0%|          | 0/50 [00:00<?, ?it/s]"
      ]
     },
     "metadata": {},
     "output_type": "display_data"
    },
    {
     "data": {
      "application/vnd.jupyter.widget-view+json": {
       "model_id": "",
       "version_major": 2,
       "version_minor": 0
      },
      "text/plain": [
       "  ... working at frequency = 3010.0 Hz:   0%|          | 0/50 [00:00<?, ?it/s]"
      ]
     },
     "metadata": {},
     "output_type": "display_data"
    },
    {
     "data": {
      "application/vnd.jupyter.widget-view+json": {
       "model_id": "",
       "version_major": 2,
       "version_minor": 0
      },
      "text/plain": [
       "  ... working at frequency = 3035.0 Hz:   0%|          | 0/50 [00:00<?, ?it/s]"
      ]
     },
     "metadata": {},
     "output_type": "display_data"
    },
    {
     "data": {
      "application/vnd.jupyter.widget-view+json": {
       "model_id": "",
       "version_major": 2,
       "version_minor": 0
      },
      "text/plain": [
       "  ... working at frequency = 3060.0 Hz:   0%|          | 0/50 [00:00<?, ?it/s]"
      ]
     },
     "metadata": {},
     "output_type": "display_data"
    },
    {
     "data": {
      "application/vnd.jupyter.widget-view+json": {
       "model_id": "",
       "version_major": 2,
       "version_minor": 0
      },
      "text/plain": [
       "  ... working at frequency = 3085.0 Hz:   0%|          | 0/50 [00:00<?, ?it/s]"
      ]
     },
     "metadata": {},
     "output_type": "display_data"
    },
    {
     "data": {
      "application/vnd.jupyter.widget-view+json": {
       "model_id": "",
       "version_major": 2,
       "version_minor": 0
      },
      "text/plain": [
       "  ... working at frequency = 3110.0 Hz:   0%|          | 0/50 [00:00<?, ?it/s]"
      ]
     },
     "metadata": {},
     "output_type": "display_data"
    },
    {
     "data": {
      "application/vnd.jupyter.widget-view+json": {
       "model_id": "",
       "version_major": 2,
       "version_minor": 0
      },
      "text/plain": [
       "  ... working at frequency = 3135.0 Hz:   0%|          | 0/50 [00:00<?, ?it/s]"
      ]
     },
     "metadata": {},
     "output_type": "display_data"
    },
    {
     "data": {
      "application/vnd.jupyter.widget-view+json": {
       "model_id": "",
       "version_major": 2,
       "version_minor": 0
      },
      "text/plain": [
       "  ... working at frequency = 3160.0 Hz:   0%|          | 0/50 [00:00<?, ?it/s]"
      ]
     },
     "metadata": {},
     "output_type": "display_data"
    },
    {
     "data": {
      "application/vnd.jupyter.widget-view+json": {
       "model_id": "",
       "version_major": 2,
       "version_minor": 0
      },
      "text/plain": [
       "  ... working at frequency = 3185.0 Hz:   0%|          | 0/50 [00:00<?, ?it/s]"
      ]
     },
     "metadata": {},
     "output_type": "display_data"
    },
    {
     "data": {
      "application/vnd.jupyter.widget-view+json": {
       "model_id": "",
       "version_major": 2,
       "version_minor": 0
      },
      "text/plain": [
       "  ... working at frequency = 3210.0 Hz:   0%|          | 0/50 [00:00<?, ?it/s]"
      ]
     },
     "metadata": {},
     "output_type": "display_data"
    },
    {
     "data": {
      "application/vnd.jupyter.widget-view+json": {
       "model_id": "",
       "version_major": 2,
       "version_minor": 0
      },
      "text/plain": [
       "  ... working at frequency = 3235.0 Hz:   0%|          | 0/50 [00:00<?, ?it/s]"
      ]
     },
     "metadata": {},
     "output_type": "display_data"
    },
    {
     "data": {
      "application/vnd.jupyter.widget-view+json": {
       "model_id": "",
       "version_major": 2,
       "version_minor": 0
      },
      "text/plain": [
       "  ... working at frequency = 3260.0 Hz:   0%|          | 0/50 [00:00<?, ?it/s]"
      ]
     },
     "metadata": {},
     "output_type": "display_data"
    },
    {
     "data": {
      "application/vnd.jupyter.widget-view+json": {
       "model_id": "",
       "version_major": 2,
       "version_minor": 0
      },
      "text/plain": [
       "  ... working at frequency = 3285.0 Hz:   0%|          | 0/50 [00:00<?, ?it/s]"
      ]
     },
     "metadata": {},
     "output_type": "display_data"
    },
    {
     "data": {
      "application/vnd.jupyter.widget-view+json": {
       "model_id": "",
       "version_major": 2,
       "version_minor": 0
      },
      "text/plain": [
       "  ... working at frequency = 3310.0 Hz:   0%|          | 0/50 [00:00<?, ?it/s]"
      ]
     },
     "metadata": {},
     "output_type": "display_data"
    },
    {
     "data": {
      "application/vnd.jupyter.widget-view+json": {
       "model_id": "",
       "version_major": 2,
       "version_minor": 0
      },
      "text/plain": [
       "  ... working at frequency = 3335.0 Hz:   0%|          | 0/50 [00:00<?, ?it/s]"
      ]
     },
     "metadata": {},
     "output_type": "display_data"
    },
    {
     "data": {
      "application/vnd.jupyter.widget-view+json": {
       "model_id": "",
       "version_major": 2,
       "version_minor": 0
      },
      "text/plain": [
       "  ... working at frequency = 3360.0 Hz:   0%|          | 0/50 [00:00<?, ?it/s]"
      ]
     },
     "metadata": {},
     "output_type": "display_data"
    },
    {
     "data": {
      "application/vnd.jupyter.widget-view+json": {
       "model_id": "",
       "version_major": 2,
       "version_minor": 0
      },
      "text/plain": [
       "  ... working at frequency = 3385.0 Hz:   0%|          | 0/50 [00:00<?, ?it/s]"
      ]
     },
     "metadata": {},
     "output_type": "display_data"
    },
    {
     "data": {
      "application/vnd.jupyter.widget-view+json": {
       "model_id": "",
       "version_major": 2,
       "version_minor": 0
      },
      "text/plain": [
       "  ... working at frequency = 3410.0 Hz:   0%|          | 0/50 [00:00<?, ?it/s]"
      ]
     },
     "metadata": {},
     "output_type": "display_data"
    },
    {
     "data": {
      "application/vnd.jupyter.widget-view+json": {
       "model_id": "",
       "version_major": 2,
       "version_minor": 0
      },
      "text/plain": [
       "  ... working at frequency = 3435.0 Hz:   0%|          | 0/50 [00:00<?, ?it/s]"
      ]
     },
     "metadata": {},
     "output_type": "display_data"
    },
    {
     "data": {
      "application/vnd.jupyter.widget-view+json": {
       "model_id": "",
       "version_major": 2,
       "version_minor": 0
      },
      "text/plain": [
       "  ... working at frequency = 3460.0 Hz:   0%|          | 0/50 [00:00<?, ?it/s]"
      ]
     },
     "metadata": {},
     "output_type": "display_data"
    },
    {
     "data": {
      "application/vnd.jupyter.widget-view+json": {
       "model_id": "",
       "version_major": 2,
       "version_minor": 0
      },
      "text/plain": [
       "  ... working at frequency = 3485.0 Hz:   0%|          | 0/50 [00:00<?, ?it/s]"
      ]
     },
     "metadata": {},
     "output_type": "display_data"
    },
    {
     "data": {
      "application/vnd.jupyter.widget-view+json": {
       "model_id": "",
       "version_major": 2,
       "version_minor": 0
      },
      "text/plain": [
       "  ... working at frequency = 3510.0 Hz:   0%|          | 0/50 [00:00<?, ?it/s]"
      ]
     },
     "metadata": {},
     "output_type": "display_data"
    },
    {
     "data": {
      "application/vnd.jupyter.widget-view+json": {
       "model_id": "",
       "version_major": 2,
       "version_minor": 0
      },
      "text/plain": [
       "  ... working at frequency = 3535.0 Hz:   0%|          | 0/50 [00:00<?, ?it/s]"
      ]
     },
     "metadata": {},
     "output_type": "display_data"
    },
    {
     "data": {
      "application/vnd.jupyter.widget-view+json": {
       "model_id": "",
       "version_major": 2,
       "version_minor": 0
      },
      "text/plain": [
       "  ... working at frequency = 3560.0 Hz:   0%|          | 0/50 [00:00<?, ?it/s]"
      ]
     },
     "metadata": {},
     "output_type": "display_data"
    },
    {
     "data": {
      "application/vnd.jupyter.widget-view+json": {
       "model_id": "",
       "version_major": 2,
       "version_minor": 0
      },
      "text/plain": [
       "  ... working at frequency = 3585.0 Hz:   0%|          | 0/50 [00:00<?, ?it/s]"
      ]
     },
     "metadata": {},
     "output_type": "display_data"
    },
    {
     "data": {
      "application/vnd.jupyter.widget-view+json": {
       "model_id": "",
       "version_major": 2,
       "version_minor": 0
      },
      "text/plain": [
       "  ... working at frequency = 3610.0 Hz:   0%|          | 0/50 [00:00<?, ?it/s]"
      ]
     },
     "metadata": {},
     "output_type": "display_data"
    },
    {
     "data": {
      "application/vnd.jupyter.widget-view+json": {
       "model_id": "",
       "version_major": 2,
       "version_minor": 0
      },
      "text/plain": [
       "  ... working at frequency = 3635.0 Hz:   0%|          | 0/50 [00:00<?, ?it/s]"
      ]
     },
     "metadata": {},
     "output_type": "display_data"
    },
    {
     "data": {
      "application/vnd.jupyter.widget-view+json": {
       "model_id": "",
       "version_major": 2,
       "version_minor": 0
      },
      "text/plain": [
       "  ... working at frequency = 3660.0 Hz:   0%|          | 0/50 [00:00<?, ?it/s]"
      ]
     },
     "metadata": {},
     "output_type": "display_data"
    },
    {
     "data": {
      "application/vnd.jupyter.widget-view+json": {
       "model_id": "",
       "version_major": 2,
       "version_minor": 0
      },
      "text/plain": [
       "  ... working at frequency = 3685.0 Hz:   0%|          | 0/50 [00:00<?, ?it/s]"
      ]
     },
     "metadata": {},
     "output_type": "display_data"
    },
    {
     "data": {
      "application/vnd.jupyter.widget-view+json": {
       "model_id": "",
       "version_major": 2,
       "version_minor": 0
      },
      "text/plain": [
       "  ... working at frequency = 3710.0 Hz:   0%|          | 0/50 [00:00<?, ?it/s]"
      ]
     },
     "metadata": {},
     "output_type": "display_data"
    },
    {
     "data": {
      "application/vnd.jupyter.widget-view+json": {
       "model_id": "",
       "version_major": 2,
       "version_minor": 0
      },
      "text/plain": [
       "  ... working at frequency = 3735.0 Hz:   0%|          | 0/50 [00:00<?, ?it/s]"
      ]
     },
     "metadata": {},
     "output_type": "display_data"
    },
    {
     "data": {
      "application/vnd.jupyter.widget-view+json": {
       "model_id": "",
       "version_major": 2,
       "version_minor": 0
      },
      "text/plain": [
       "  ... working at frequency = 3760.0 Hz:   0%|          | 0/50 [00:00<?, ?it/s]"
      ]
     },
     "metadata": {},
     "output_type": "display_data"
    },
    {
     "data": {
      "application/vnd.jupyter.widget-view+json": {
       "model_id": "",
       "version_major": 2,
       "version_minor": 0
      },
      "text/plain": [
       "  ... working at frequency = 3785.0 Hz:   0%|          | 0/50 [00:00<?, ?it/s]"
      ]
     },
     "metadata": {},
     "output_type": "display_data"
    },
    {
     "data": {
      "application/vnd.jupyter.widget-view+json": {
       "model_id": "",
       "version_major": 2,
       "version_minor": 0
      },
      "text/plain": [
       "  ... working at frequency = 3810.0 Hz:   0%|          | 0/50 [00:00<?, ?it/s]"
      ]
     },
     "metadata": {},
     "output_type": "display_data"
    },
    {
     "data": {
      "application/vnd.jupyter.widget-view+json": {
       "model_id": "",
       "version_major": 2,
       "version_minor": 0
      },
      "text/plain": [
       "  ... working at frequency = 3835.0 Hz:   0%|          | 0/50 [00:00<?, ?it/s]"
      ]
     },
     "metadata": {},
     "output_type": "display_data"
    },
    {
     "data": {
      "application/vnd.jupyter.widget-view+json": {
       "model_id": "",
       "version_major": 2,
       "version_minor": 0
      },
      "text/plain": [
       "  ... working at frequency = 3860.0 Hz:   0%|          | 0/50 [00:00<?, ?it/s]"
      ]
     },
     "metadata": {},
     "output_type": "display_data"
    },
    {
     "data": {
      "application/vnd.jupyter.widget-view+json": {
       "model_id": "",
       "version_major": 2,
       "version_minor": 0
      },
      "text/plain": [
       "  ... working at frequency = 3885.0 Hz:   0%|          | 0/50 [00:00<?, ?it/s]"
      ]
     },
     "metadata": {},
     "output_type": "display_data"
    },
    {
     "data": {
      "application/vnd.jupyter.widget-view+json": {
       "model_id": "",
       "version_major": 2,
       "version_minor": 0
      },
      "text/plain": [
       "  ... working at frequency = 3910.0 Hz:   0%|          | 0/50 [00:00<?, ?it/s]"
      ]
     },
     "metadata": {},
     "output_type": "display_data"
    },
    {
     "data": {
      "application/vnd.jupyter.widget-view+json": {
       "model_id": "",
       "version_major": 2,
       "version_minor": 0
      },
      "text/plain": [
       "  ... working at frequency = 3935.0 Hz:   0%|          | 0/50 [00:00<?, ?it/s]"
      ]
     },
     "metadata": {},
     "output_type": "display_data"
    },
    {
     "data": {
      "application/vnd.jupyter.widget-view+json": {
       "model_id": "",
       "version_major": 2,
       "version_minor": 0
      },
      "text/plain": [
       "  ... working at frequency = 3960.0 Hz:   0%|          | 0/50 [00:00<?, ?it/s]"
      ]
     },
     "metadata": {},
     "output_type": "display_data"
    },
    {
     "data": {
      "application/vnd.jupyter.widget-view+json": {
       "model_id": "",
       "version_major": 2,
       "version_minor": 0
      },
      "text/plain": [
       "  ... working at frequency = 3985.0 Hz:   0%|          | 0/50 [00:00<?, ?it/s]"
      ]
     },
     "metadata": {},
     "output_type": "display_data"
    },
    {
     "data": {
      "application/vnd.jupyter.widget-view+json": {
       "model_id": "",
       "version_major": 2,
       "version_minor": 0
      },
      "text/plain": [
       "  ... working at frequency = 4010.0 Hz:   0%|          | 0/50 [00:00<?, ?it/s]"
      ]
     },
     "metadata": {},
     "output_type": "display_data"
    },
    {
     "data": {
      "application/vnd.jupyter.widget-view+json": {
       "model_id": "",
       "version_major": 2,
       "version_minor": 0
      },
      "text/plain": [
       "  ... working at frequency = 4035.0 Hz:   0%|          | 0/50 [00:00<?, ?it/s]"
      ]
     },
     "metadata": {},
     "output_type": "display_data"
    },
    {
     "data": {
      "application/vnd.jupyter.widget-view+json": {
       "model_id": "",
       "version_major": 2,
       "version_minor": 0
      },
      "text/plain": [
       "  ... working at frequency = 4060.0 Hz:   0%|          | 0/50 [00:00<?, ?it/s]"
      ]
     },
     "metadata": {},
     "output_type": "display_data"
    },
    {
     "data": {
      "application/vnd.jupyter.widget-view+json": {
       "model_id": "",
       "version_major": 2,
       "version_minor": 0
      },
      "text/plain": [
       "  ... working at frequency = 4085.0 Hz:   0%|          | 0/50 [00:00<?, ?it/s]"
      ]
     },
     "metadata": {},
     "output_type": "display_data"
    },
    {
     "data": {
      "application/vnd.jupyter.widget-view+json": {
       "model_id": "",
       "version_major": 2,
       "version_minor": 0
      },
      "text/plain": [
       "  ... working at frequency = 4110.0 Hz:   0%|          | 0/50 [00:00<?, ?it/s]"
      ]
     },
     "metadata": {},
     "output_type": "display_data"
    },
    {
     "data": {
      "application/vnd.jupyter.widget-view+json": {
       "model_id": "",
       "version_major": 2,
       "version_minor": 0
      },
      "text/plain": [
       "  ... working at frequency = 4135.0 Hz:   0%|          | 0/50 [00:00<?, ?it/s]"
      ]
     },
     "metadata": {},
     "output_type": "display_data"
    },
    {
     "data": {
      "application/vnd.jupyter.widget-view+json": {
       "model_id": "",
       "version_major": 2,
       "version_minor": 0
      },
      "text/plain": [
       "  ... working at frequency = 4160.0 Hz:   0%|          | 0/50 [00:00<?, ?it/s]"
      ]
     },
     "metadata": {},
     "output_type": "display_data"
    },
    {
     "data": {
      "application/vnd.jupyter.widget-view+json": {
       "model_id": "",
       "version_major": 2,
       "version_minor": 0
      },
      "text/plain": [
       "  ... working at frequency = 4185.0 Hz:   0%|          | 0/50 [00:00<?, ?it/s]"
      ]
     },
     "metadata": {},
     "output_type": "display_data"
    },
    {
     "data": {
      "application/vnd.jupyter.widget-view+json": {
       "model_id": "",
       "version_major": 2,
       "version_minor": 0
      },
      "text/plain": [
       "  ... working at frequency = 4210.0 Hz:   0%|          | 0/50 [00:00<?, ?it/s]"
      ]
     },
     "metadata": {},
     "output_type": "display_data"
    },
    {
     "data": {
      "application/vnd.jupyter.widget-view+json": {
       "model_id": "",
       "version_major": 2,
       "version_minor": 0
      },
      "text/plain": [
       "  ... working at frequency = 4235.0 Hz:   0%|          | 0/50 [00:00<?, ?it/s]"
      ]
     },
     "metadata": {},
     "output_type": "display_data"
    },
    {
     "data": {
      "application/vnd.jupyter.widget-view+json": {
       "model_id": "",
       "version_major": 2,
       "version_minor": 0
      },
      "text/plain": [
       "  ... working at frequency = 4260.0 Hz:   0%|          | 0/50 [00:00<?, ?it/s]"
      ]
     },
     "metadata": {},
     "output_type": "display_data"
    },
    {
     "data": {
      "application/vnd.jupyter.widget-view+json": {
       "model_id": "",
       "version_major": 2,
       "version_minor": 0
      },
      "text/plain": [
       "  ... working at frequency = 4285.0 Hz:   0%|          | 0/50 [00:00<?, ?it/s]"
      ]
     },
     "metadata": {},
     "output_type": "display_data"
    },
    {
     "data": {
      "application/vnd.jupyter.widget-view+json": {
       "model_id": "",
       "version_major": 2,
       "version_minor": 0
      },
      "text/plain": [
       "  ... working at frequency = 4310.0 Hz:   0%|          | 0/50 [00:00<?, ?it/s]"
      ]
     },
     "metadata": {},
     "output_type": "display_data"
    },
    {
     "data": {
      "application/vnd.jupyter.widget-view+json": {
       "model_id": "",
       "version_major": 2,
       "version_minor": 0
      },
      "text/plain": [
       "  ... working at frequency = 4335.0 Hz:   0%|          | 0/50 [00:00<?, ?it/s]"
      ]
     },
     "metadata": {},
     "output_type": "display_data"
    },
    {
     "data": {
      "application/vnd.jupyter.widget-view+json": {
       "model_id": "",
       "version_major": 2,
       "version_minor": 0
      },
      "text/plain": [
       "  ... working at frequency = 4360.0 Hz:   0%|          | 0/50 [00:00<?, ?it/s]"
      ]
     },
     "metadata": {},
     "output_type": "display_data"
    },
    {
     "data": {
      "application/vnd.jupyter.widget-view+json": {
       "model_id": "",
       "version_major": 2,
       "version_minor": 0
      },
      "text/plain": [
       "  ... working at frequency = 4385.0 Hz:   0%|          | 0/50 [00:00<?, ?it/s]"
      ]
     },
     "metadata": {},
     "output_type": "display_data"
    },
    {
     "data": {
      "application/vnd.jupyter.widget-view+json": {
       "model_id": "",
       "version_major": 2,
       "version_minor": 0
      },
      "text/plain": [
       "  ... working at frequency = 4410.0 Hz:   0%|          | 0/50 [00:00<?, ?it/s]"
      ]
     },
     "metadata": {},
     "output_type": "display_data"
    },
    {
     "data": {
      "application/vnd.jupyter.widget-view+json": {
       "model_id": "",
       "version_major": 2,
       "version_minor": 0
      },
      "text/plain": [
       "  ... working at frequency = 4435.0 Hz:   0%|          | 0/50 [00:00<?, ?it/s]"
      ]
     },
     "metadata": {},
     "output_type": "display_data"
    },
    {
     "data": {
      "application/vnd.jupyter.widget-view+json": {
       "model_id": "",
       "version_major": 2,
       "version_minor": 0
      },
      "text/plain": [
       "  ... working at frequency = 4460.0 Hz:   0%|          | 0/50 [00:00<?, ?it/s]"
      ]
     },
     "metadata": {},
     "output_type": "display_data"
    },
    {
     "data": {
      "application/vnd.jupyter.widget-view+json": {
       "model_id": "",
       "version_major": 2,
       "version_minor": 0
      },
      "text/plain": [
       "  ... working at frequency = 4485.0 Hz:   0%|          | 0/50 [00:00<?, ?it/s]"
      ]
     },
     "metadata": {},
     "output_type": "display_data"
    },
    {
     "data": {
      "application/vnd.jupyter.widget-view+json": {
       "model_id": "",
       "version_major": 2,
       "version_minor": 0
      },
      "text/plain": [
       "  ... working at frequency = 4510.0 Hz:   0%|          | 0/50 [00:00<?, ?it/s]"
      ]
     },
     "metadata": {},
     "output_type": "display_data"
    },
    {
     "data": {
      "application/vnd.jupyter.widget-view+json": {
       "model_id": "",
       "version_major": 2,
       "version_minor": 0
      },
      "text/plain": [
       "  ... working at frequency = 4535.0 Hz:   0%|          | 0/50 [00:00<?, ?it/s]"
      ]
     },
     "metadata": {},
     "output_type": "display_data"
    },
    {
     "data": {
      "application/vnd.jupyter.widget-view+json": {
       "model_id": "",
       "version_major": 2,
       "version_minor": 0
      },
      "text/plain": [
       "  ... working at frequency = 4560.0 Hz:   0%|          | 0/50 [00:00<?, ?it/s]"
      ]
     },
     "metadata": {},
     "output_type": "display_data"
    },
    {
     "data": {
      "application/vnd.jupyter.widget-view+json": {
       "model_id": "",
       "version_major": 2,
       "version_minor": 0
      },
      "text/plain": [
       "  ... working at frequency = 4585.0 Hz:   0%|          | 0/50 [00:00<?, ?it/s]"
      ]
     },
     "metadata": {},
     "output_type": "display_data"
    },
    {
     "data": {
      "application/vnd.jupyter.widget-view+json": {
       "model_id": "",
       "version_major": 2,
       "version_minor": 0
      },
      "text/plain": [
       "  ... working at frequency = 4610.0 Hz:   0%|          | 0/50 [00:00<?, ?it/s]"
      ]
     },
     "metadata": {},
     "output_type": "display_data"
    },
    {
     "data": {
      "application/vnd.jupyter.widget-view+json": {
       "model_id": "",
       "version_major": 2,
       "version_minor": 0
      },
      "text/plain": [
       "  ... working at frequency = 4635.0 Hz:   0%|          | 0/50 [00:00<?, ?it/s]"
      ]
     },
     "metadata": {},
     "output_type": "display_data"
    },
    {
     "data": {
      "application/vnd.jupyter.widget-view+json": {
       "model_id": "",
       "version_major": 2,
       "version_minor": 0
      },
      "text/plain": [
       "  ... working at frequency = 4660.0 Hz:   0%|          | 0/50 [00:00<?, ?it/s]"
      ]
     },
     "metadata": {},
     "output_type": "display_data"
    },
    {
     "data": {
      "application/vnd.jupyter.widget-view+json": {
       "model_id": "",
       "version_major": 2,
       "version_minor": 0
      },
      "text/plain": [
       "  ... working at frequency = 4685.0 Hz:   0%|          | 0/50 [00:00<?, ?it/s]"
      ]
     },
     "metadata": {},
     "output_type": "display_data"
    },
    {
     "data": {
      "application/vnd.jupyter.widget-view+json": {
       "model_id": "",
       "version_major": 2,
       "version_minor": 0
      },
      "text/plain": [
       "  ... working at frequency = 4710.0 Hz:   0%|          | 0/50 [00:00<?, ?it/s]"
      ]
     },
     "metadata": {},
     "output_type": "display_data"
    },
    {
     "data": {
      "application/vnd.jupyter.widget-view+json": {
       "model_id": "",
       "version_major": 2,
       "version_minor": 0
      },
      "text/plain": [
       "  ... working at frequency = 4735.0 Hz:   0%|          | 0/50 [00:00<?, ?it/s]"
      ]
     },
     "metadata": {},
     "output_type": "display_data"
    },
    {
     "data": {
      "application/vnd.jupyter.widget-view+json": {
       "model_id": "",
       "version_major": 2,
       "version_minor": 0
      },
      "text/plain": [
       "  ... working at frequency = 4760.0 Hz:   0%|          | 0/50 [00:00<?, ?it/s]"
      ]
     },
     "metadata": {},
     "output_type": "display_data"
    },
    {
     "data": {
      "application/vnd.jupyter.widget-view+json": {
       "model_id": "",
       "version_major": 2,
       "version_minor": 0
      },
      "text/plain": [
       "  ... working at frequency = 4785.0 Hz:   0%|          | 0/50 [00:00<?, ?it/s]"
      ]
     },
     "metadata": {},
     "output_type": "display_data"
    },
    {
     "data": {
      "application/vnd.jupyter.widget-view+json": {
       "model_id": "",
       "version_major": 2,
       "version_minor": 0
      },
      "text/plain": [
       "  ... working at frequency = 4810.0 Hz:   0%|          | 0/50 [00:00<?, ?it/s]"
      ]
     },
     "metadata": {},
     "output_type": "display_data"
    },
    {
     "data": {
      "application/vnd.jupyter.widget-view+json": {
       "model_id": "",
       "version_major": 2,
       "version_minor": 0
      },
      "text/plain": [
       "  ... working at frequency = 4835.0 Hz:   0%|          | 0/50 [00:00<?, ?it/s]"
      ]
     },
     "metadata": {},
     "output_type": "display_data"
    },
    {
     "data": {
      "application/vnd.jupyter.widget-view+json": {
       "model_id": "",
       "version_major": 2,
       "version_minor": 0
      },
      "text/plain": [
       "  ... working at frequency = 4860.0 Hz:   0%|          | 0/50 [00:00<?, ?it/s]"
      ]
     },
     "metadata": {},
     "output_type": "display_data"
    },
    {
     "data": {
      "application/vnd.jupyter.widget-view+json": {
       "model_id": "",
       "version_major": 2,
       "version_minor": 0
      },
      "text/plain": [
       "  ... working at frequency = 4885.0 Hz:   0%|          | 0/50 [00:00<?, ?it/s]"
      ]
     },
     "metadata": {},
     "output_type": "display_data"
    },
    {
     "data": {
      "application/vnd.jupyter.widget-view+json": {
       "model_id": "",
       "version_major": 2,
       "version_minor": 0
      },
      "text/plain": [
       "  ... working at frequency = 4910.0 Hz:   0%|          | 0/50 [00:00<?, ?it/s]"
      ]
     },
     "metadata": {},
     "output_type": "display_data"
    },
    {
     "data": {
      "application/vnd.jupyter.widget-view+json": {
       "model_id": "",
       "version_major": 2,
       "version_minor": 0
      },
      "text/plain": [
       "  ... working at frequency = 4935.0 Hz:   0%|          | 0/50 [00:00<?, ?it/s]"
      ]
     },
     "metadata": {},
     "output_type": "display_data"
    },
    {
     "data": {
      "application/vnd.jupyter.widget-view+json": {
       "model_id": "",
       "version_major": 2,
       "version_minor": 0
      },
      "text/plain": [
       "  ... working at frequency = 4960.0 Hz:   0%|          | 0/50 [00:00<?, ?it/s]"
      ]
     },
     "metadata": {},
     "output_type": "display_data"
    },
    {
     "data": {
      "application/vnd.jupyter.widget-view+json": {
       "model_id": "",
       "version_major": 2,
       "version_minor": 0
      },
      "text/plain": [
       "  ... working at frequency = 4985.0 Hz:   0%|          | 0/50 [00:00<?, ?it/s]"
      ]
     },
     "metadata": {},
     "output_type": "display_data"
    },
    {
     "data": {
      "application/vnd.jupyter.widget-view+json": {
       "model_id": "",
       "version_major": 2,
       "version_minor": 0
      },
      "text/plain": [
       "  ... working at frequency = 5010.0 Hz:   0%|          | 0/50 [00:00<?, ?it/s]"
      ]
     },
     "metadata": {},
     "output_type": "display_data"
    },
    {
     "data": {
      "application/vnd.jupyter.widget-view+json": {
       "model_id": "",
       "version_major": 2,
       "version_minor": 0
      },
      "text/plain": [
       "  ... working at frequency = 5035.0 Hz:   0%|          | 0/50 [00:00<?, ?it/s]"
      ]
     },
     "metadata": {},
     "output_type": "display_data"
    },
    {
     "data": {
      "application/vnd.jupyter.widget-view+json": {
       "model_id": "",
       "version_major": 2,
       "version_minor": 0
      },
      "text/plain": [
       "  ... working at frequency = 5060.0 Hz:   0%|          | 0/50 [00:00<?, ?it/s]"
      ]
     },
     "metadata": {},
     "output_type": "display_data"
    },
    {
     "data": {
      "application/vnd.jupyter.widget-view+json": {
       "model_id": "",
       "version_major": 2,
       "version_minor": 0
      },
      "text/plain": [
       "  ... working at frequency = 5085.0 Hz:   0%|          | 0/50 [00:00<?, ?it/s]"
      ]
     },
     "metadata": {},
     "output_type": "display_data"
    },
    {
     "data": {
      "application/vnd.jupyter.widget-view+json": {
       "model_id": "",
       "version_major": 2,
       "version_minor": 0
      },
      "text/plain": [
       "  ... working at frequency = 5110.0 Hz:   0%|          | 0/50 [00:00<?, ?it/s]"
      ]
     },
     "metadata": {},
     "output_type": "display_data"
    },
    {
     "data": {
      "application/vnd.jupyter.widget-view+json": {
       "model_id": "",
       "version_major": 2,
       "version_minor": 0
      },
      "text/plain": [
       "  ... working at frequency = 5135.0 Hz:   0%|          | 0/50 [00:00<?, ?it/s]"
      ]
     },
     "metadata": {},
     "output_type": "display_data"
    },
    {
     "data": {
      "application/vnd.jupyter.widget-view+json": {
       "model_id": "",
       "version_major": 2,
       "version_minor": 0
      },
      "text/plain": [
       "  ... working at frequency = 5160.0 Hz:   0%|          | 0/50 [00:00<?, ?it/s]"
      ]
     },
     "metadata": {},
     "output_type": "display_data"
    },
    {
     "data": {
      "application/vnd.jupyter.widget-view+json": {
       "model_id": "",
       "version_major": 2,
       "version_minor": 0
      },
      "text/plain": [
       "  ... working at frequency = 5185.0 Hz:   0%|          | 0/50 [00:00<?, ?it/s]"
      ]
     },
     "metadata": {},
     "output_type": "display_data"
    },
    {
     "data": {
      "application/vnd.jupyter.widget-view+json": {
       "model_id": "",
       "version_major": 2,
       "version_minor": 0
      },
      "text/plain": [
       "  ... working at frequency = 5210.0 Hz:   0%|          | 0/50 [00:00<?, ?it/s]"
      ]
     },
     "metadata": {},
     "output_type": "display_data"
    },
    {
     "data": {
      "application/vnd.jupyter.widget-view+json": {
       "model_id": "",
       "version_major": 2,
       "version_minor": 0
      },
      "text/plain": [
       "  ... working at frequency = 5235.0 Hz:   0%|          | 0/50 [00:00<?, ?it/s]"
      ]
     },
     "metadata": {},
     "output_type": "display_data"
    },
    {
     "data": {
      "application/vnd.jupyter.widget-view+json": {
       "model_id": "",
       "version_major": 2,
       "version_minor": 0
      },
      "text/plain": [
       "  ... working at frequency = 5260.0 Hz:   0%|          | 0/50 [00:00<?, ?it/s]"
      ]
     },
     "metadata": {},
     "output_type": "display_data"
    },
    {
     "data": {
      "application/vnd.jupyter.widget-view+json": {
       "model_id": "",
       "version_major": 2,
       "version_minor": 0
      },
      "text/plain": [
       "  ... working at frequency = 5285.0 Hz:   0%|          | 0/50 [00:00<?, ?it/s]"
      ]
     },
     "metadata": {},
     "output_type": "display_data"
    },
    {
     "data": {
      "application/vnd.jupyter.widget-view+json": {
       "model_id": "",
       "version_major": 2,
       "version_minor": 0
      },
      "text/plain": [
       "  ... working at frequency = 5310.0 Hz:   0%|          | 0/50 [00:00<?, ?it/s]"
      ]
     },
     "metadata": {},
     "output_type": "display_data"
    },
    {
     "data": {
      "application/vnd.jupyter.widget-view+json": {
       "model_id": "",
       "version_major": 2,
       "version_minor": 0
      },
      "text/plain": [
       "  ... working at frequency = 5335.0 Hz:   0%|          | 0/50 [00:00<?, ?it/s]"
      ]
     },
     "metadata": {},
     "output_type": "display_data"
    },
    {
     "data": {
      "application/vnd.jupyter.widget-view+json": {
       "model_id": "",
       "version_major": 2,
       "version_minor": 0
      },
      "text/plain": [
       "  ... working at frequency = 5360.0 Hz:   0%|          | 0/50 [00:00<?, ?it/s]"
      ]
     },
     "metadata": {},
     "output_type": "display_data"
    },
    {
     "data": {
      "application/vnd.jupyter.widget-view+json": {
       "model_id": "",
       "version_major": 2,
       "version_minor": 0
      },
      "text/plain": [
       "  ... working at frequency = 5385.0 Hz:   0%|          | 0/50 [00:00<?, ?it/s]"
      ]
     },
     "metadata": {},
     "output_type": "display_data"
    },
    {
     "data": {
      "application/vnd.jupyter.widget-view+json": {
       "model_id": "",
       "version_major": 2,
       "version_minor": 0
      },
      "text/plain": [
       "  ... working at frequency = 5410.0 Hz:   0%|          | 0/50 [00:00<?, ?it/s]"
      ]
     },
     "metadata": {},
     "output_type": "display_data"
    },
    {
     "data": {
      "application/vnd.jupyter.widget-view+json": {
       "model_id": "",
       "version_major": 2,
       "version_minor": 0
      },
      "text/plain": [
       "  ... working at frequency = 5435.0 Hz:   0%|          | 0/50 [00:00<?, ?it/s]"
      ]
     },
     "metadata": {},
     "output_type": "display_data"
    },
    {
     "data": {
      "application/vnd.jupyter.widget-view+json": {
       "model_id": "",
       "version_major": 2,
       "version_minor": 0
      },
      "text/plain": [
       "  ... working at frequency = 5460.0 Hz:   0%|          | 0/50 [00:00<?, ?it/s]"
      ]
     },
     "metadata": {},
     "output_type": "display_data"
    },
    {
     "data": {
      "application/vnd.jupyter.widget-view+json": {
       "model_id": "",
       "version_major": 2,
       "version_minor": 0
      },
      "text/plain": [
       "  ... working at frequency = 5485.0 Hz:   0%|          | 0/50 [00:00<?, ?it/s]"
      ]
     },
     "metadata": {},
     "output_type": "display_data"
    },
    {
     "data": {
      "application/vnd.jupyter.widget-view+json": {
       "model_id": "",
       "version_major": 2,
       "version_minor": 0
      },
      "text/plain": [
       "  ... working at frequency = 5510.0 Hz:   0%|          | 0/50 [00:00<?, ?it/s]"
      ]
     },
     "metadata": {},
     "output_type": "display_data"
    },
    {
     "data": {
      "application/vnd.jupyter.widget-view+json": {
       "model_id": "",
       "version_major": 2,
       "version_minor": 0
      },
      "text/plain": [
       "  ... working at frequency = 5535.0 Hz:   0%|          | 0/50 [00:00<?, ?it/s]"
      ]
     },
     "metadata": {},
     "output_type": "display_data"
    },
    {
     "data": {
      "application/vnd.jupyter.widget-view+json": {
       "model_id": "",
       "version_major": 2,
       "version_minor": 0
      },
      "text/plain": [
       "  ... working at frequency = 5560.0 Hz:   0%|          | 0/50 [00:00<?, ?it/s]"
      ]
     },
     "metadata": {},
     "output_type": "display_data"
    },
    {
     "data": {
      "application/vnd.jupyter.widget-view+json": {
       "model_id": "",
       "version_major": 2,
       "version_minor": 0
      },
      "text/plain": [
       "  ... working at frequency = 5585.0 Hz:   0%|          | 0/50 [00:00<?, ?it/s]"
      ]
     },
     "metadata": {},
     "output_type": "display_data"
    },
    {
     "data": {
      "application/vnd.jupyter.widget-view+json": {
       "model_id": "",
       "version_major": 2,
       "version_minor": 0
      },
      "text/plain": [
       "  ... working at frequency = 5610.0 Hz:   0%|          | 0/50 [00:00<?, ?it/s]"
      ]
     },
     "metadata": {},
     "output_type": "display_data"
    },
    {
     "data": {
      "application/vnd.jupyter.widget-view+json": {
       "model_id": "",
       "version_major": 2,
       "version_minor": 0
      },
      "text/plain": [
       "  ... working at frequency = 5635.0 Hz:   0%|          | 0/50 [00:00<?, ?it/s]"
      ]
     },
     "metadata": {},
     "output_type": "display_data"
    },
    {
     "data": {
      "application/vnd.jupyter.widget-view+json": {
       "model_id": "",
       "version_major": 2,
       "version_minor": 0
      },
      "text/plain": [
       "  ... working at frequency = 5660.0 Hz:   0%|          | 0/50 [00:00<?, ?it/s]"
      ]
     },
     "metadata": {},
     "output_type": "display_data"
    },
    {
     "data": {
      "application/vnd.jupyter.widget-view+json": {
       "model_id": "",
       "version_major": 2,
       "version_minor": 0
      },
      "text/plain": [
       "  ... working at frequency = 5685.0 Hz:   0%|          | 0/50 [00:00<?, ?it/s]"
      ]
     },
     "metadata": {},
     "output_type": "display_data"
    },
    {
     "data": {
      "application/vnd.jupyter.widget-view+json": {
       "model_id": "",
       "version_major": 2,
       "version_minor": 0
      },
      "text/plain": [
       "  ... working at frequency = 5710.0 Hz:   0%|          | 0/50 [00:00<?, ?it/s]"
      ]
     },
     "metadata": {},
     "output_type": "display_data"
    },
    {
     "data": {
      "application/vnd.jupyter.widget-view+json": {
       "model_id": "",
       "version_major": 2,
       "version_minor": 0
      },
      "text/plain": [
       "  ... working at frequency = 5735.0 Hz:   0%|          | 0/50 [00:00<?, ?it/s]"
      ]
     },
     "metadata": {},
     "output_type": "display_data"
    },
    {
     "data": {
      "application/vnd.jupyter.widget-view+json": {
       "model_id": "",
       "version_major": 2,
       "version_minor": 0
      },
      "text/plain": [
       "  ... working at frequency = 5760.0 Hz:   0%|          | 0/50 [00:00<?, ?it/s]"
      ]
     },
     "metadata": {},
     "output_type": "display_data"
    },
    {
     "data": {
      "application/vnd.jupyter.widget-view+json": {
       "model_id": "",
       "version_major": 2,
       "version_minor": 0
      },
      "text/plain": [
       "  ... working at frequency = 5785.0 Hz:   0%|          | 0/50 [00:00<?, ?it/s]"
      ]
     },
     "metadata": {},
     "output_type": "display_data"
    },
    {
     "data": {
      "application/vnd.jupyter.widget-view+json": {
       "model_id": "",
       "version_major": 2,
       "version_minor": 0
      },
      "text/plain": [
       "  ... working at frequency = 5810.0 Hz:   0%|          | 0/50 [00:00<?, ?it/s]"
      ]
     },
     "metadata": {},
     "output_type": "display_data"
    },
    {
     "data": {
      "application/vnd.jupyter.widget-view+json": {
       "model_id": "",
       "version_major": 2,
       "version_minor": 0
      },
      "text/plain": [
       "  ... working at frequency = 5835.0 Hz:   0%|          | 0/50 [00:00<?, ?it/s]"
      ]
     },
     "metadata": {},
     "output_type": "display_data"
    },
    {
     "data": {
      "application/vnd.jupyter.widget-view+json": {
       "model_id": "",
       "version_major": 2,
       "version_minor": 0
      },
      "text/plain": [
       "  ... working at frequency = 5860.0 Hz:   0%|          | 0/50 [00:00<?, ?it/s]"
      ]
     },
     "metadata": {},
     "output_type": "display_data"
    },
    {
     "data": {
      "application/vnd.jupyter.widget-view+json": {
       "model_id": "",
       "version_major": 2,
       "version_minor": 0
      },
      "text/plain": [
       "  ... working at frequency = 5885.0 Hz:   0%|          | 0/50 [00:00<?, ?it/s]"
      ]
     },
     "metadata": {},
     "output_type": "display_data"
    },
    {
     "data": {
      "application/vnd.jupyter.widget-view+json": {
       "model_id": "",
       "version_major": 2,
       "version_minor": 0
      },
      "text/plain": [
       "  ... working at frequency = 5910.0 Hz:   0%|          | 0/50 [00:00<?, ?it/s]"
      ]
     },
     "metadata": {},
     "output_type": "display_data"
    },
    {
     "data": {
      "application/vnd.jupyter.widget-view+json": {
       "model_id": "",
       "version_major": 2,
       "version_minor": 0
      },
      "text/plain": [
       "  ... working at frequency = 5935.0 Hz:   0%|          | 0/50 [00:00<?, ?it/s]"
      ]
     },
     "metadata": {},
     "output_type": "display_data"
    },
    {
     "data": {
      "application/vnd.jupyter.widget-view+json": {
       "model_id": "",
       "version_major": 2,
       "version_minor": 0
      },
      "text/plain": [
       "  ... working at frequency = 5960.0 Hz:   0%|          | 0/50 [00:00<?, ?it/s]"
      ]
     },
     "metadata": {},
     "output_type": "display_data"
    },
    {
     "data": {
      "application/vnd.jupyter.widget-view+json": {
       "model_id": "",
       "version_major": 2,
       "version_minor": 0
      },
      "text/plain": [
       "  ... working at frequency = 5985.0 Hz:   0%|          | 0/50 [00:00<?, ?it/s]"
      ]
     },
     "metadata": {},
     "output_type": "display_data"
    },
    {
     "data": {
      "application/vnd.jupyter.widget-view+json": {
       "model_id": "",
       "version_major": 2,
       "version_minor": 0
      },
      "text/plain": [
       "  ... working at frequency = 6010.0 Hz:   0%|          | 0/50 [00:00<?, ?it/s]"
      ]
     },
     "metadata": {},
     "output_type": "display_data"
    },
    {
     "data": {
      "application/vnd.jupyter.widget-view+json": {
       "model_id": "",
       "version_major": 2,
       "version_minor": 0
      },
      "text/plain": [
       "  ... working at frequency = 6035.0 Hz:   0%|          | 0/50 [00:00<?, ?it/s]"
      ]
     },
     "metadata": {},
     "output_type": "display_data"
    },
    {
     "data": {
      "application/vnd.jupyter.widget-view+json": {
       "model_id": "",
       "version_major": 2,
       "version_minor": 0
      },
      "text/plain": [
       "  ... working at frequency = 6060.0 Hz:   0%|          | 0/50 [00:00<?, ?it/s]"
      ]
     },
     "metadata": {},
     "output_type": "display_data"
    },
    {
     "data": {
      "application/vnd.jupyter.widget-view+json": {
       "model_id": "",
       "version_major": 2,
       "version_minor": 0
      },
      "text/plain": [
       "  ... working at frequency = 6085.0 Hz:   0%|          | 0/50 [00:00<?, ?it/s]"
      ]
     },
     "metadata": {},
     "output_type": "display_data"
    },
    {
     "data": {
      "application/vnd.jupyter.widget-view+json": {
       "model_id": "",
       "version_major": 2,
       "version_minor": 0
      },
      "text/plain": [
       "  ... working at frequency = 6110.0 Hz:   0%|          | 0/50 [00:00<?, ?it/s]"
      ]
     },
     "metadata": {},
     "output_type": "display_data"
    },
    {
     "data": {
      "application/vnd.jupyter.widget-view+json": {
       "model_id": "",
       "version_major": 2,
       "version_minor": 0
      },
      "text/plain": [
       "  ... working at frequency = 6135.0 Hz:   0%|          | 0/50 [00:00<?, ?it/s]"
      ]
     },
     "metadata": {},
     "output_type": "display_data"
    },
    {
     "data": {
      "application/vnd.jupyter.widget-view+json": {
       "model_id": "",
       "version_major": 2,
       "version_minor": 0
      },
      "text/plain": [
       "  ... working at frequency = 6160.0 Hz:   0%|          | 0/50 [00:00<?, ?it/s]"
      ]
     },
     "metadata": {},
     "output_type": "display_data"
    },
    {
     "data": {
      "application/vnd.jupyter.widget-view+json": {
       "model_id": "",
       "version_major": 2,
       "version_minor": 0
      },
      "text/plain": [
       "  ... working at frequency = 6185.0 Hz:   0%|          | 0/50 [00:00<?, ?it/s]"
      ]
     },
     "metadata": {},
     "output_type": "display_data"
    },
    {
     "data": {
      "application/vnd.jupyter.widget-view+json": {
       "model_id": "",
       "version_major": 2,
       "version_minor": 0
      },
      "text/plain": [
       "  ... working at frequency = 6210.0 Hz:   0%|          | 0/50 [00:00<?, ?it/s]"
      ]
     },
     "metadata": {},
     "output_type": "display_data"
    },
    {
     "data": {
      "application/vnd.jupyter.widget-view+json": {
       "model_id": "",
       "version_major": 2,
       "version_minor": 0
      },
      "text/plain": [
       "  ... working at frequency = 6235.0 Hz:   0%|          | 0/50 [00:00<?, ?it/s]"
      ]
     },
     "metadata": {},
     "output_type": "display_data"
    },
    {
     "data": {
      "application/vnd.jupyter.widget-view+json": {
       "model_id": "",
       "version_major": 2,
       "version_minor": 0
      },
      "text/plain": [
       "  ... working at frequency = 6260.0 Hz:   0%|          | 0/50 [00:00<?, ?it/s]"
      ]
     },
     "metadata": {},
     "output_type": "display_data"
    },
    {
     "data": {
      "application/vnd.jupyter.widget-view+json": {
       "model_id": "",
       "version_major": 2,
       "version_minor": 0
      },
      "text/plain": [
       "  ... working at frequency = 6285.0 Hz:   0%|          | 0/50 [00:00<?, ?it/s]"
      ]
     },
     "metadata": {},
     "output_type": "display_data"
    },
    {
     "data": {
      "application/vnd.jupyter.widget-view+json": {
       "model_id": "",
       "version_major": 2,
       "version_minor": 0
      },
      "text/plain": [
       "  ... working at frequency = 6310.0 Hz:   0%|          | 0/50 [00:00<?, ?it/s]"
      ]
     },
     "metadata": {},
     "output_type": "display_data"
    },
    {
     "data": {
      "application/vnd.jupyter.widget-view+json": {
       "model_id": "",
       "version_major": 2,
       "version_minor": 0
      },
      "text/plain": [
       "  ... working at frequency = 6335.0 Hz:   0%|          | 0/50 [00:00<?, ?it/s]"
      ]
     },
     "metadata": {},
     "output_type": "display_data"
    },
    {
     "data": {
      "application/vnd.jupyter.widget-view+json": {
       "model_id": "",
       "version_major": 2,
       "version_minor": 0
      },
      "text/plain": [
       "  ... working at frequency = 6360.0 Hz:   0%|          | 0/50 [00:00<?, ?it/s]"
      ]
     },
     "metadata": {},
     "output_type": "display_data"
    },
    {
     "data": {
      "application/vnd.jupyter.widget-view+json": {
       "model_id": "",
       "version_major": 2,
       "version_minor": 0
      },
      "text/plain": [
       "  ... working at frequency = 6385.0 Hz:   0%|          | 0/50 [00:00<?, ?it/s]"
      ]
     },
     "metadata": {},
     "output_type": "display_data"
    },
    {
     "data": {
      "application/vnd.jupyter.widget-view+json": {
       "model_id": "",
       "version_major": 2,
       "version_minor": 0
      },
      "text/plain": [
       "  ... working at frequency = 6410.0 Hz:   0%|          | 0/50 [00:00<?, ?it/s]"
      ]
     },
     "metadata": {},
     "output_type": "display_data"
    },
    {
     "data": {
      "application/vnd.jupyter.widget-view+json": {
       "model_id": "",
       "version_major": 2,
       "version_minor": 0
      },
      "text/plain": [
       "  ... working at frequency = 6435.0 Hz:   0%|          | 0/50 [00:00<?, ?it/s]"
      ]
     },
     "metadata": {},
     "output_type": "display_data"
    },
    {
     "data": {
      "application/vnd.jupyter.widget-view+json": {
       "model_id": "",
       "version_major": 2,
       "version_minor": 0
      },
      "text/plain": [
       "  ... working at frequency = 6460.0 Hz:   0%|          | 0/50 [00:00<?, ?it/s]"
      ]
     },
     "metadata": {},
     "output_type": "display_data"
    },
    {
     "data": {
      "application/vnd.jupyter.widget-view+json": {
       "model_id": "",
       "version_major": 2,
       "version_minor": 0
      },
      "text/plain": [
       "  ... working at frequency = 6485.0 Hz:   0%|          | 0/50 [00:00<?, ?it/s]"
      ]
     },
     "metadata": {},
     "output_type": "display_data"
    },
    {
     "data": {
      "application/vnd.jupyter.widget-view+json": {
       "model_id": "",
       "version_major": 2,
       "version_minor": 0
      },
      "text/plain": [
       "  ... working at frequency = 6510.0 Hz:   0%|          | 0/50 [00:00<?, ?it/s]"
      ]
     },
     "metadata": {},
     "output_type": "display_data"
    },
    {
     "data": {
      "application/vnd.jupyter.widget-view+json": {
       "model_id": "",
       "version_major": 2,
       "version_minor": 0
      },
      "text/plain": [
       "  ... working at frequency = 6535.0 Hz:   0%|          | 0/50 [00:00<?, ?it/s]"
      ]
     },
     "metadata": {},
     "output_type": "display_data"
    },
    {
     "data": {
      "application/vnd.jupyter.widget-view+json": {
       "model_id": "",
       "version_major": 2,
       "version_minor": 0
      },
      "text/plain": [
       "  ... working at frequency = 6560.0 Hz:   0%|          | 0/50 [00:00<?, ?it/s]"
      ]
     },
     "metadata": {},
     "output_type": "display_data"
    },
    {
     "data": {
      "application/vnd.jupyter.widget-view+json": {
       "model_id": "",
       "version_major": 2,
       "version_minor": 0
      },
      "text/plain": [
       "  ... working at frequency = 6585.0 Hz:   0%|          | 0/50 [00:00<?, ?it/s]"
      ]
     },
     "metadata": {},
     "output_type": "display_data"
    },
    {
     "data": {
      "application/vnd.jupyter.widget-view+json": {
       "model_id": "",
       "version_major": 2,
       "version_minor": 0
      },
      "text/plain": [
       "  ... working at frequency = 6610.0 Hz:   0%|          | 0/50 [00:00<?, ?it/s]"
      ]
     },
     "metadata": {},
     "output_type": "display_data"
    },
    {
     "data": {
      "application/vnd.jupyter.widget-view+json": {
       "model_id": "",
       "version_major": 2,
       "version_minor": 0
      },
      "text/plain": [
       "  ... working at frequency = 6635.0 Hz:   0%|          | 0/50 [00:00<?, ?it/s]"
      ]
     },
     "metadata": {},
     "output_type": "display_data"
    },
    {
     "data": {
      "application/vnd.jupyter.widget-view+json": {
       "model_id": "",
       "version_major": 2,
       "version_minor": 0
      },
      "text/plain": [
       "  ... working at frequency = 6660.0 Hz:   0%|          | 0/50 [00:00<?, ?it/s]"
      ]
     },
     "metadata": {},
     "output_type": "display_data"
    },
    {
     "data": {
      "application/vnd.jupyter.widget-view+json": {
       "model_id": "",
       "version_major": 2,
       "version_minor": 0
      },
      "text/plain": [
       "  ... working at frequency = 6685.0 Hz:   0%|          | 0/50 [00:00<?, ?it/s]"
      ]
     },
     "metadata": {},
     "output_type": "display_data"
    },
    {
     "data": {
      "application/vnd.jupyter.widget-view+json": {
       "model_id": "",
       "version_major": 2,
       "version_minor": 0
      },
      "text/plain": [
       "  ... working at frequency = 6710.0 Hz:   0%|          | 0/50 [00:00<?, ?it/s]"
      ]
     },
     "metadata": {},
     "output_type": "display_data"
    },
    {
     "data": {
      "application/vnd.jupyter.widget-view+json": {
       "model_id": "",
       "version_major": 2,
       "version_minor": 0
      },
      "text/plain": [
       "  ... working at frequency = 6735.0 Hz:   0%|          | 0/50 [00:00<?, ?it/s]"
      ]
     },
     "metadata": {},
     "output_type": "display_data"
    },
    {
     "data": {
      "application/vnd.jupyter.widget-view+json": {
       "model_id": "",
       "version_major": 2,
       "version_minor": 0
      },
      "text/plain": [
       "  ... working at frequency = 6760.0 Hz:   0%|          | 0/50 [00:00<?, ?it/s]"
      ]
     },
     "metadata": {},
     "output_type": "display_data"
    },
    {
     "data": {
      "application/vnd.jupyter.widget-view+json": {
       "model_id": "",
       "version_major": 2,
       "version_minor": 0
      },
      "text/plain": [
       "  ... working at frequency = 6785.0 Hz:   0%|          | 0/50 [00:00<?, ?it/s]"
      ]
     },
     "metadata": {},
     "output_type": "display_data"
    },
    {
     "data": {
      "application/vnd.jupyter.widget-view+json": {
       "model_id": "",
       "version_major": 2,
       "version_minor": 0
      },
      "text/plain": [
       "  ... working at frequency = 6810.0 Hz:   0%|          | 0/50 [00:00<?, ?it/s]"
      ]
     },
     "metadata": {},
     "output_type": "display_data"
    },
    {
     "data": {
      "application/vnd.jupyter.widget-view+json": {
       "model_id": "",
       "version_major": 2,
       "version_minor": 0
      },
      "text/plain": [
       "  ... working at frequency = 6835.0 Hz:   0%|          | 0/50 [00:00<?, ?it/s]"
      ]
     },
     "metadata": {},
     "output_type": "display_data"
    },
    {
     "data": {
      "application/vnd.jupyter.widget-view+json": {
       "model_id": "",
       "version_major": 2,
       "version_minor": 0
      },
      "text/plain": [
       "  ... working at frequency = 6860.0 Hz:   0%|          | 0/50 [00:00<?, ?it/s]"
      ]
     },
     "metadata": {},
     "output_type": "display_data"
    },
    {
     "data": {
      "application/vnd.jupyter.widget-view+json": {
       "model_id": "",
       "version_major": 2,
       "version_minor": 0
      },
      "text/plain": [
       "  ... working at frequency = 6885.0 Hz:   0%|          | 0/50 [00:00<?, ?it/s]"
      ]
     },
     "metadata": {},
     "output_type": "display_data"
    },
    {
     "data": {
      "application/vnd.jupyter.widget-view+json": {
       "model_id": "",
       "version_major": 2,
       "version_minor": 0
      },
      "text/plain": [
       "  ... working at frequency = 6910.0 Hz:   0%|          | 0/50 [00:00<?, ?it/s]"
      ]
     },
     "metadata": {},
     "output_type": "display_data"
    },
    {
     "data": {
      "application/vnd.jupyter.widget-view+json": {
       "model_id": "",
       "version_major": 2,
       "version_minor": 0
      },
      "text/plain": [
       "  ... working at frequency = 6935.0 Hz:   0%|          | 0/50 [00:00<?, ?it/s]"
      ]
     },
     "metadata": {},
     "output_type": "display_data"
    },
    {
     "data": {
      "application/vnd.jupyter.widget-view+json": {
       "model_id": "",
       "version_major": 2,
       "version_minor": 0
      },
      "text/plain": [
       "  ... working at frequency = 6960.0 Hz:   0%|          | 0/50 [00:00<?, ?it/s]"
      ]
     },
     "metadata": {},
     "output_type": "display_data"
    },
    {
     "data": {
      "application/vnd.jupyter.widget-view+json": {
       "model_id": "",
       "version_major": 2,
       "version_minor": 0
      },
      "text/plain": [
       "  ... working at frequency = 6985.0 Hz:   0%|          | 0/50 [00:00<?, ?it/s]"
      ]
     },
     "metadata": {},
     "output_type": "display_data"
    },
    {
     "data": {
      "application/vnd.jupyter.widget-view+json": {
       "model_id": "",
       "version_major": 2,
       "version_minor": 0
      },
      "text/plain": [
       "  ... working at frequency = 7010.0 Hz:   0%|          | 0/50 [00:00<?, ?it/s]"
      ]
     },
     "metadata": {},
     "output_type": "display_data"
    },
    {
     "data": {
      "application/vnd.jupyter.widget-view+json": {
       "model_id": "",
       "version_major": 2,
       "version_minor": 0
      },
      "text/plain": [
       "  ... working at frequency = 7035.0 Hz:   0%|          | 0/50 [00:00<?, ?it/s]"
      ]
     },
     "metadata": {},
     "output_type": "display_data"
    },
    {
     "data": {
      "application/vnd.jupyter.widget-view+json": {
       "model_id": "",
       "version_major": 2,
       "version_minor": 0
      },
      "text/plain": [
       "  ... working at frequency = 7060.0 Hz:   0%|          | 0/50 [00:00<?, ?it/s]"
      ]
     },
     "metadata": {},
     "output_type": "display_data"
    },
    {
     "data": {
      "application/vnd.jupyter.widget-view+json": {
       "model_id": "",
       "version_major": 2,
       "version_minor": 0
      },
      "text/plain": [
       "  ... working at frequency = 7085.0 Hz:   0%|          | 0/50 [00:00<?, ?it/s]"
      ]
     },
     "metadata": {},
     "output_type": "display_data"
    },
    {
     "data": {
      "application/vnd.jupyter.widget-view+json": {
       "model_id": "",
       "version_major": 2,
       "version_minor": 0
      },
      "text/plain": [
       "  ... working at frequency = 7110.0 Hz:   0%|          | 0/50 [00:00<?, ?it/s]"
      ]
     },
     "metadata": {},
     "output_type": "display_data"
    },
    {
     "data": {
      "application/vnd.jupyter.widget-view+json": {
       "model_id": "",
       "version_major": 2,
       "version_minor": 0
      },
      "text/plain": [
       "  ... working at frequency = 7135.0 Hz:   0%|          | 0/50 [00:00<?, ?it/s]"
      ]
     },
     "metadata": {},
     "output_type": "display_data"
    },
    {
     "data": {
      "application/vnd.jupyter.widget-view+json": {
       "model_id": "",
       "version_major": 2,
       "version_minor": 0
      },
      "text/plain": [
       "  ... working at frequency = 7160.0 Hz:   0%|          | 0/50 [00:00<?, ?it/s]"
      ]
     },
     "metadata": {},
     "output_type": "display_data"
    },
    {
     "data": {
      "application/vnd.jupyter.widget-view+json": {
       "model_id": "",
       "version_major": 2,
       "version_minor": 0
      },
      "text/plain": [
       "  ... working at frequency = 7185.0 Hz:   0%|          | 0/50 [00:00<?, ?it/s]"
      ]
     },
     "metadata": {},
     "output_type": "display_data"
    },
    {
     "data": {
      "application/vnd.jupyter.widget-view+json": {
       "model_id": "",
       "version_major": 2,
       "version_minor": 0
      },
      "text/plain": [
       "  ... working at frequency = 7210.0 Hz:   0%|          | 0/50 [00:00<?, ?it/s]"
      ]
     },
     "metadata": {},
     "output_type": "display_data"
    },
    {
     "data": {
      "application/vnd.jupyter.widget-view+json": {
       "model_id": "",
       "version_major": 2,
       "version_minor": 0
      },
      "text/plain": [
       "  ... working at frequency = 7235.0 Hz:   0%|          | 0/50 [00:00<?, ?it/s]"
      ]
     },
     "metadata": {},
     "output_type": "display_data"
    },
    {
     "data": {
      "application/vnd.jupyter.widget-view+json": {
       "model_id": "",
       "version_major": 2,
       "version_minor": 0
      },
      "text/plain": [
       "  ... working at frequency = 7260.0 Hz:   0%|          | 0/50 [00:00<?, ?it/s]"
      ]
     },
     "metadata": {},
     "output_type": "display_data"
    },
    {
     "data": {
      "application/vnd.jupyter.widget-view+json": {
       "model_id": "",
       "version_major": 2,
       "version_minor": 0
      },
      "text/plain": [
       "  ... working at frequency = 7285.0 Hz:   0%|          | 0/50 [00:00<?, ?it/s]"
      ]
     },
     "metadata": {},
     "output_type": "display_data"
    },
    {
     "data": {
      "application/vnd.jupyter.widget-view+json": {
       "model_id": "",
       "version_major": 2,
       "version_minor": 0
      },
      "text/plain": [
       "  ... working at frequency = 7310.0 Hz:   0%|          | 0/50 [00:00<?, ?it/s]"
      ]
     },
     "metadata": {},
     "output_type": "display_data"
    },
    {
     "data": {
      "application/vnd.jupyter.widget-view+json": {
       "model_id": "",
       "version_major": 2,
       "version_minor": 0
      },
      "text/plain": [
       "  ... working at frequency = 7335.0 Hz:   0%|          | 0/50 [00:00<?, ?it/s]"
      ]
     },
     "metadata": {},
     "output_type": "display_data"
    },
    {
     "data": {
      "application/vnd.jupyter.widget-view+json": {
       "model_id": "",
       "version_major": 2,
       "version_minor": 0
      },
      "text/plain": [
       "  ... working at frequency = 7360.0 Hz:   0%|          | 0/50 [00:00<?, ?it/s]"
      ]
     },
     "metadata": {},
     "output_type": "display_data"
    },
    {
     "data": {
      "application/vnd.jupyter.widget-view+json": {
       "model_id": "",
       "version_major": 2,
       "version_minor": 0
      },
      "text/plain": [
       "  ... working at frequency = 7385.0 Hz:   0%|          | 0/50 [00:00<?, ?it/s]"
      ]
     },
     "metadata": {},
     "output_type": "display_data"
    },
    {
     "data": {
      "application/vnd.jupyter.widget-view+json": {
       "model_id": "",
       "version_major": 2,
       "version_minor": 0
      },
      "text/plain": [
       "  ... working at frequency = 7410.0 Hz:   0%|          | 0/50 [00:00<?, ?it/s]"
      ]
     },
     "metadata": {},
     "output_type": "display_data"
    },
    {
     "data": {
      "application/vnd.jupyter.widget-view+json": {
       "model_id": "",
       "version_major": 2,
       "version_minor": 0
      },
      "text/plain": [
       "  ... working at frequency = 7435.0 Hz:   0%|          | 0/50 [00:00<?, ?it/s]"
      ]
     },
     "metadata": {},
     "output_type": "display_data"
    },
    {
     "data": {
      "application/vnd.jupyter.widget-view+json": {
       "model_id": "",
       "version_major": 2,
       "version_minor": 0
      },
      "text/plain": [
       "  ... working at frequency = 7460.0 Hz:   0%|          | 0/50 [00:00<?, ?it/s]"
      ]
     },
     "metadata": {},
     "output_type": "display_data"
    },
    {
     "data": {
      "application/vnd.jupyter.widget-view+json": {
       "model_id": "",
       "version_major": 2,
       "version_minor": 0
      },
      "text/plain": [
       "  ... working at frequency = 7485.0 Hz:   0%|          | 0/50 [00:00<?, ?it/s]"
      ]
     },
     "metadata": {},
     "output_type": "display_data"
    },
    {
     "data": {
      "application/vnd.jupyter.widget-view+json": {
       "model_id": "",
       "version_major": 2,
       "version_minor": 0
      },
      "text/plain": [
       "  ... working at frequency = 7510.0 Hz:   0%|          | 0/50 [00:00<?, ?it/s]"
      ]
     },
     "metadata": {},
     "output_type": "display_data"
    },
    {
     "data": {
      "application/vnd.jupyter.widget-view+json": {
       "model_id": "",
       "version_major": 2,
       "version_minor": 0
      },
      "text/plain": [
       "  ... working at frequency = 7535.0 Hz:   0%|          | 0/50 [00:00<?, ?it/s]"
      ]
     },
     "metadata": {},
     "output_type": "display_data"
    },
    {
     "data": {
      "application/vnd.jupyter.widget-view+json": {
       "model_id": "",
       "version_major": 2,
       "version_minor": 0
      },
      "text/plain": [
       "  ... working at frequency = 7560.0 Hz:   0%|          | 0/50 [00:00<?, ?it/s]"
      ]
     },
     "metadata": {},
     "output_type": "display_data"
    },
    {
     "data": {
      "application/vnd.jupyter.widget-view+json": {
       "model_id": "",
       "version_major": 2,
       "version_minor": 0
      },
      "text/plain": [
       "  ... working at frequency = 7585.0 Hz:   0%|          | 0/50 [00:00<?, ?it/s]"
      ]
     },
     "metadata": {},
     "output_type": "display_data"
    },
    {
     "data": {
      "application/vnd.jupyter.widget-view+json": {
       "model_id": "",
       "version_major": 2,
       "version_minor": 0
      },
      "text/plain": [
       "  ... working at frequency = 7610.0 Hz:   0%|          | 0/50 [00:00<?, ?it/s]"
      ]
     },
     "metadata": {},
     "output_type": "display_data"
    },
    {
     "data": {
      "application/vnd.jupyter.widget-view+json": {
       "model_id": "",
       "version_major": 2,
       "version_minor": 0
      },
      "text/plain": [
       "  ... working at frequency = 7635.0 Hz:   0%|          | 0/50 [00:00<?, ?it/s]"
      ]
     },
     "metadata": {},
     "output_type": "display_data"
    },
    {
     "data": {
      "application/vnd.jupyter.widget-view+json": {
       "model_id": "",
       "version_major": 2,
       "version_minor": 0
      },
      "text/plain": [
       "  ... working at frequency = 7660.0 Hz:   0%|          | 0/50 [00:00<?, ?it/s]"
      ]
     },
     "metadata": {},
     "output_type": "display_data"
    },
    {
     "data": {
      "application/vnd.jupyter.widget-view+json": {
       "model_id": "",
       "version_major": 2,
       "version_minor": 0
      },
      "text/plain": [
       "  ... working at frequency = 7685.0 Hz:   0%|          | 0/50 [00:00<?, ?it/s]"
      ]
     },
     "metadata": {},
     "output_type": "display_data"
    },
    {
     "data": {
      "application/vnd.jupyter.widget-view+json": {
       "model_id": "",
       "version_major": 2,
       "version_minor": 0
      },
      "text/plain": [
       "  ... working at frequency = 7710.0 Hz:   0%|          | 0/50 [00:00<?, ?it/s]"
      ]
     },
     "metadata": {},
     "output_type": "display_data"
    },
    {
     "data": {
      "application/vnd.jupyter.widget-view+json": {
       "model_id": "",
       "version_major": 2,
       "version_minor": 0
      },
      "text/plain": [
       "  ... working at frequency = 7735.0 Hz:   0%|          | 0/50 [00:00<?, ?it/s]"
      ]
     },
     "metadata": {},
     "output_type": "display_data"
    },
    {
     "data": {
      "application/vnd.jupyter.widget-view+json": {
       "model_id": "",
       "version_major": 2,
       "version_minor": 0
      },
      "text/plain": [
       "  ... working at frequency = 7760.0 Hz:   0%|          | 0/50 [00:00<?, ?it/s]"
      ]
     },
     "metadata": {},
     "output_type": "display_data"
    },
    {
     "data": {
      "application/vnd.jupyter.widget-view+json": {
       "model_id": "",
       "version_major": 2,
       "version_minor": 0
      },
      "text/plain": [
       "  ... working at frequency = 7785.0 Hz:   0%|          | 0/50 [00:00<?, ?it/s]"
      ]
     },
     "metadata": {},
     "output_type": "display_data"
    },
    {
     "data": {
      "application/vnd.jupyter.widget-view+json": {
       "model_id": "",
       "version_major": 2,
       "version_minor": 0
      },
      "text/plain": [
       "  ... working at frequency = 7810.0 Hz:   0%|          | 0/50 [00:00<?, ?it/s]"
      ]
     },
     "metadata": {},
     "output_type": "display_data"
    },
    {
     "data": {
      "application/vnd.jupyter.widget-view+json": {
       "model_id": "",
       "version_major": 2,
       "version_minor": 0
      },
      "text/plain": [
       "  ... working at frequency = 7835.0 Hz:   0%|          | 0/50 [00:00<?, ?it/s]"
      ]
     },
     "metadata": {},
     "output_type": "display_data"
    },
    {
     "data": {
      "application/vnd.jupyter.widget-view+json": {
       "model_id": "",
       "version_major": 2,
       "version_minor": 0
      },
      "text/plain": [
       "  ... working at frequency = 7860.0 Hz:   0%|          | 0/50 [00:00<?, ?it/s]"
      ]
     },
     "metadata": {},
     "output_type": "display_data"
    },
    {
     "data": {
      "application/vnd.jupyter.widget-view+json": {
       "model_id": "",
       "version_major": 2,
       "version_minor": 0
      },
      "text/plain": [
       "  ... working at frequency = 7885.0 Hz:   0%|          | 0/50 [00:00<?, ?it/s]"
      ]
     },
     "metadata": {},
     "output_type": "display_data"
    },
    {
     "data": {
      "application/vnd.jupyter.widget-view+json": {
       "model_id": "",
       "version_major": 2,
       "version_minor": 0
      },
      "text/plain": [
       "  ... working at frequency = 7910.0 Hz:   0%|          | 0/50 [00:00<?, ?it/s]"
      ]
     },
     "metadata": {},
     "output_type": "display_data"
    },
    {
     "data": {
      "application/vnd.jupyter.widget-view+json": {
       "model_id": "",
       "version_major": 2,
       "version_minor": 0
      },
      "text/plain": [
       "  ... working at frequency = 7935.0 Hz:   0%|          | 0/50 [00:00<?, ?it/s]"
      ]
     },
     "metadata": {},
     "output_type": "display_data"
    },
    {
     "data": {
      "application/vnd.jupyter.widget-view+json": {
       "model_id": "",
       "version_major": 2,
       "version_minor": 0
      },
      "text/plain": [
       "  ... working at frequency = 7960.0 Hz:   0%|          | 0/50 [00:00<?, ?it/s]"
      ]
     },
     "metadata": {},
     "output_type": "display_data"
    },
    {
     "data": {
      "application/vnd.jupyter.widget-view+json": {
       "model_id": "",
       "version_major": 2,
       "version_minor": 0
      },
      "text/plain": [
       "  ... working at frequency = 7985.0 Hz:   0%|          | 0/50 [00:00<?, ?it/s]"
      ]
     },
     "metadata": {},
     "output_type": "display_data"
    },
    {
     "data": {
      "application/vnd.jupyter.widget-view+json": {
       "model_id": "",
       "version_major": 2,
       "version_minor": 0
      },
      "text/plain": [
       "  ... working at frequency = 8010.0 Hz:   0%|          | 0/50 [00:00<?, ?it/s]"
      ]
     },
     "metadata": {},
     "output_type": "display_data"
    },
    {
     "data": {
      "application/vnd.jupyter.widget-view+json": {
       "model_id": "",
       "version_major": 2,
       "version_minor": 0
      },
      "text/plain": [
       "  ... working at frequency = 8035.0 Hz:   0%|          | 0/50 [00:00<?, ?it/s]"
      ]
     },
     "metadata": {},
     "output_type": "display_data"
    },
    {
     "data": {
      "application/vnd.jupyter.widget-view+json": {
       "model_id": "",
       "version_major": 2,
       "version_minor": 0
      },
      "text/plain": [
       "  ... working at frequency = 8060.0 Hz:   0%|          | 0/50 [00:00<?, ?it/s]"
      ]
     },
     "metadata": {},
     "output_type": "display_data"
    },
    {
     "data": {
      "application/vnd.jupyter.widget-view+json": {
       "model_id": "",
       "version_major": 2,
       "version_minor": 0
      },
      "text/plain": [
       "  ... working at frequency = 8085.0 Hz:   0%|          | 0/50 [00:00<?, ?it/s]"
      ]
     },
     "metadata": {},
     "output_type": "display_data"
    },
    {
     "data": {
      "application/vnd.jupyter.widget-view+json": {
       "model_id": "",
       "version_major": 2,
       "version_minor": 0
      },
      "text/plain": [
       "  ... working at frequency = 8110.0 Hz:   0%|          | 0/50 [00:00<?, ?it/s]"
      ]
     },
     "metadata": {},
     "output_type": "display_data"
    },
    {
     "data": {
      "application/vnd.jupyter.widget-view+json": {
       "model_id": "",
       "version_major": 2,
       "version_minor": 0
      },
      "text/plain": [
       "  ... working at frequency = 8135.0 Hz:   0%|          | 0/50 [00:00<?, ?it/s]"
      ]
     },
     "metadata": {},
     "output_type": "display_data"
    },
    {
     "data": {
      "application/vnd.jupyter.widget-view+json": {
       "model_id": "",
       "version_major": 2,
       "version_minor": 0
      },
      "text/plain": [
       "  ... working at frequency = 8160.0 Hz:   0%|          | 0/50 [00:00<?, ?it/s]"
      ]
     },
     "metadata": {},
     "output_type": "display_data"
    },
    {
     "data": {
      "application/vnd.jupyter.widget-view+json": {
       "model_id": "",
       "version_major": 2,
       "version_minor": 0
      },
      "text/plain": [
       "  ... working at frequency = 8185.0 Hz:   0%|          | 0/50 [00:00<?, ?it/s]"
      ]
     },
     "metadata": {},
     "output_type": "display_data"
    },
    {
     "data": {
      "application/vnd.jupyter.widget-view+json": {
       "model_id": "",
       "version_major": 2,
       "version_minor": 0
      },
      "text/plain": [
       "  ... working at frequency = 8210.0 Hz:   0%|          | 0/50 [00:00<?, ?it/s]"
      ]
     },
     "metadata": {},
     "output_type": "display_data"
    },
    {
     "data": {
      "application/vnd.jupyter.widget-view+json": {
       "model_id": "",
       "version_major": 2,
       "version_minor": 0
      },
      "text/plain": [
       "  ... working at frequency = 8235.0 Hz:   0%|          | 0/50 [00:00<?, ?it/s]"
      ]
     },
     "metadata": {},
     "output_type": "display_data"
    },
    {
     "data": {
      "application/vnd.jupyter.widget-view+json": {
       "model_id": "",
       "version_major": 2,
       "version_minor": 0
      },
      "text/plain": [
       "  ... working at frequency = 8260.0 Hz:   0%|          | 0/50 [00:00<?, ?it/s]"
      ]
     },
     "metadata": {},
     "output_type": "display_data"
    },
    {
     "data": {
      "application/vnd.jupyter.widget-view+json": {
       "model_id": "",
       "version_major": 2,
       "version_minor": 0
      },
      "text/plain": [
       "  ... working at frequency = 8285.0 Hz:   0%|          | 0/50 [00:00<?, ?it/s]"
      ]
     },
     "metadata": {},
     "output_type": "display_data"
    },
    {
     "data": {
      "application/vnd.jupyter.widget-view+json": {
       "model_id": "",
       "version_major": 2,
       "version_minor": 0
      },
      "text/plain": [
       "  ... working at frequency = 8310.0 Hz:   0%|          | 0/50 [00:00<?, ?it/s]"
      ]
     },
     "metadata": {},
     "output_type": "display_data"
    },
    {
     "data": {
      "application/vnd.jupyter.widget-view+json": {
       "model_id": "",
       "version_major": 2,
       "version_minor": 0
      },
      "text/plain": [
       "  ... working at frequency = 8335.0 Hz:   0%|          | 0/50 [00:00<?, ?it/s]"
      ]
     },
     "metadata": {},
     "output_type": "display_data"
    },
    {
     "data": {
      "application/vnd.jupyter.widget-view+json": {
       "model_id": "",
       "version_major": 2,
       "version_minor": 0
      },
      "text/plain": [
       "  ... working at frequency = 8360.0 Hz:   0%|          | 0/50 [00:00<?, ?it/s]"
      ]
     },
     "metadata": {},
     "output_type": "display_data"
    },
    {
     "data": {
      "application/vnd.jupyter.widget-view+json": {
       "model_id": "",
       "version_major": 2,
       "version_minor": 0
      },
      "text/plain": [
       "  ... working at frequency = 8385.0 Hz:   0%|          | 0/50 [00:00<?, ?it/s]"
      ]
     },
     "metadata": {},
     "output_type": "display_data"
    },
    {
     "data": {
      "application/vnd.jupyter.widget-view+json": {
       "model_id": "",
       "version_major": 2,
       "version_minor": 0
      },
      "text/plain": [
       "  ... working at frequency = 8410.0 Hz:   0%|          | 0/50 [00:00<?, ?it/s]"
      ]
     },
     "metadata": {},
     "output_type": "display_data"
    },
    {
     "data": {
      "application/vnd.jupyter.widget-view+json": {
       "model_id": "",
       "version_major": 2,
       "version_minor": 0
      },
      "text/plain": [
       "  ... working at frequency = 8435.0 Hz:   0%|          | 0/50 [00:00<?, ?it/s]"
      ]
     },
     "metadata": {},
     "output_type": "display_data"
    },
    {
     "data": {
      "application/vnd.jupyter.widget-view+json": {
       "model_id": "",
       "version_major": 2,
       "version_minor": 0
      },
      "text/plain": [
       "  ... working at frequency = 8460.0 Hz:   0%|          | 0/50 [00:00<?, ?it/s]"
      ]
     },
     "metadata": {},
     "output_type": "display_data"
    },
    {
     "data": {
      "application/vnd.jupyter.widget-view+json": {
       "model_id": "",
       "version_major": 2,
       "version_minor": 0
      },
      "text/plain": [
       "  ... working at frequency = 8485.0 Hz:   0%|          | 0/50 [00:00<?, ?it/s]"
      ]
     },
     "metadata": {},
     "output_type": "display_data"
    },
    {
     "data": {
      "application/vnd.jupyter.widget-view+json": {
       "model_id": "",
       "version_major": 2,
       "version_minor": 0
      },
      "text/plain": [
       "  ... working at frequency = 8510.0 Hz:   0%|          | 0/50 [00:00<?, ?it/s]"
      ]
     },
     "metadata": {},
     "output_type": "display_data"
    },
    {
     "data": {
      "application/vnd.jupyter.widget-view+json": {
       "model_id": "",
       "version_major": 2,
       "version_minor": 0
      },
      "text/plain": [
       "  ... working at frequency = 8535.0 Hz:   0%|          | 0/50 [00:00<?, ?it/s]"
      ]
     },
     "metadata": {},
     "output_type": "display_data"
    },
    {
     "data": {
      "application/vnd.jupyter.widget-view+json": {
       "model_id": "",
       "version_major": 2,
       "version_minor": 0
      },
      "text/plain": [
       "  ... working at frequency = 8560.0 Hz:   0%|          | 0/50 [00:00<?, ?it/s]"
      ]
     },
     "metadata": {},
     "output_type": "display_data"
    },
    {
     "data": {
      "application/vnd.jupyter.widget-view+json": {
       "model_id": "",
       "version_major": 2,
       "version_minor": 0
      },
      "text/plain": [
       "  ... working at frequency = 8585.0 Hz:   0%|          | 0/50 [00:00<?, ?it/s]"
      ]
     },
     "metadata": {},
     "output_type": "display_data"
    },
    {
     "data": {
      "application/vnd.jupyter.widget-view+json": {
       "model_id": "",
       "version_major": 2,
       "version_minor": 0
      },
      "text/plain": [
       "  ... working at frequency = 8610.0 Hz:   0%|          | 0/50 [00:00<?, ?it/s]"
      ]
     },
     "metadata": {},
     "output_type": "display_data"
    },
    {
     "data": {
      "application/vnd.jupyter.widget-view+json": {
       "model_id": "",
       "version_major": 2,
       "version_minor": 0
      },
      "text/plain": [
       "  ... working at frequency = 8635.0 Hz:   0%|          | 0/50 [00:00<?, ?it/s]"
      ]
     },
     "metadata": {},
     "output_type": "display_data"
    },
    {
     "data": {
      "application/vnd.jupyter.widget-view+json": {
       "model_id": "",
       "version_major": 2,
       "version_minor": 0
      },
      "text/plain": [
       "  ... working at frequency = 8660.0 Hz:   0%|          | 0/50 [00:00<?, ?it/s]"
      ]
     },
     "metadata": {},
     "output_type": "display_data"
    },
    {
     "data": {
      "application/vnd.jupyter.widget-view+json": {
       "model_id": "",
       "version_major": 2,
       "version_minor": 0
      },
      "text/plain": [
       "  ... working at frequency = 8685.0 Hz:   0%|          | 0/50 [00:00<?, ?it/s]"
      ]
     },
     "metadata": {},
     "output_type": "display_data"
    },
    {
     "data": {
      "application/vnd.jupyter.widget-view+json": {
       "model_id": "",
       "version_major": 2,
       "version_minor": 0
      },
      "text/plain": [
       "  ... working at frequency = 8710.0 Hz:   0%|          | 0/50 [00:00<?, ?it/s]"
      ]
     },
     "metadata": {},
     "output_type": "display_data"
    },
    {
     "data": {
      "application/vnd.jupyter.widget-view+json": {
       "model_id": "",
       "version_major": 2,
       "version_minor": 0
      },
      "text/plain": [
       "  ... working at frequency = 8735.0 Hz:   0%|          | 0/50 [00:00<?, ?it/s]"
      ]
     },
     "metadata": {},
     "output_type": "display_data"
    },
    {
     "data": {
      "application/vnd.jupyter.widget-view+json": {
       "model_id": "",
       "version_major": 2,
       "version_minor": 0
      },
      "text/plain": [
       "  ... working at frequency = 8760.0 Hz:   0%|          | 0/50 [00:00<?, ?it/s]"
      ]
     },
     "metadata": {},
     "output_type": "display_data"
    },
    {
     "data": {
      "application/vnd.jupyter.widget-view+json": {
       "model_id": "",
       "version_major": 2,
       "version_minor": 0
      },
      "text/plain": [
       "  ... working at frequency = 8785.0 Hz:   0%|          | 0/50 [00:00<?, ?it/s]"
      ]
     },
     "metadata": {},
     "output_type": "display_data"
    },
    {
     "data": {
      "application/vnd.jupyter.widget-view+json": {
       "model_id": "",
       "version_major": 2,
       "version_minor": 0
      },
      "text/plain": [
       "  ... working at frequency = 8810.0 Hz:   0%|          | 0/50 [00:00<?, ?it/s]"
      ]
     },
     "metadata": {},
     "output_type": "display_data"
    },
    {
     "data": {
      "application/vnd.jupyter.widget-view+json": {
       "model_id": "",
       "version_major": 2,
       "version_minor": 0
      },
      "text/plain": [
       "  ... working at frequency = 8835.0 Hz:   0%|          | 0/50 [00:00<?, ?it/s]"
      ]
     },
     "metadata": {},
     "output_type": "display_data"
    },
    {
     "data": {
      "application/vnd.jupyter.widget-view+json": {
       "model_id": "",
       "version_major": 2,
       "version_minor": 0
      },
      "text/plain": [
       "  ... working at frequency = 8860.0 Hz:   0%|          | 0/50 [00:00<?, ?it/s]"
      ]
     },
     "metadata": {},
     "output_type": "display_data"
    },
    {
     "data": {
      "application/vnd.jupyter.widget-view+json": {
       "model_id": "",
       "version_major": 2,
       "version_minor": 0
      },
      "text/plain": [
       "  ... working at frequency = 8885.0 Hz:   0%|          | 0/50 [00:00<?, ?it/s]"
      ]
     },
     "metadata": {},
     "output_type": "display_data"
    },
    {
     "data": {
      "application/vnd.jupyter.widget-view+json": {
       "model_id": "",
       "version_major": 2,
       "version_minor": 0
      },
      "text/plain": [
       "  ... working at frequency = 8910.0 Hz:   0%|          | 0/50 [00:00<?, ?it/s]"
      ]
     },
     "metadata": {},
     "output_type": "display_data"
    },
    {
     "data": {
      "application/vnd.jupyter.widget-view+json": {
       "model_id": "",
       "version_major": 2,
       "version_minor": 0
      },
      "text/plain": [
       "  ... working at frequency = 8935.0 Hz:   0%|          | 0/50 [00:00<?, ?it/s]"
      ]
     },
     "metadata": {},
     "output_type": "display_data"
    },
    {
     "data": {
      "application/vnd.jupyter.widget-view+json": {
       "model_id": "",
       "version_major": 2,
       "version_minor": 0
      },
      "text/plain": [
       "  ... working at frequency = 8960.0 Hz:   0%|          | 0/50 [00:00<?, ?it/s]"
      ]
     },
     "metadata": {},
     "output_type": "display_data"
    },
    {
     "data": {
      "application/vnd.jupyter.widget-view+json": {
       "model_id": "",
       "version_major": 2,
       "version_minor": 0
      },
      "text/plain": [
       "  ... working at frequency = 8985.0 Hz:   0%|          | 0/50 [00:00<?, ?it/s]"
      ]
     },
     "metadata": {},
     "output_type": "display_data"
    },
    {
     "data": {
      "application/vnd.jupyter.widget-view+json": {
       "model_id": "",
       "version_major": 2,
       "version_minor": 0
      },
      "text/plain": [
       "  ... working at frequency = 9010.0 Hz:   0%|          | 0/50 [00:00<?, ?it/s]"
      ]
     },
     "metadata": {},
     "output_type": "display_data"
    },
    {
     "data": {
      "application/vnd.jupyter.widget-view+json": {
       "model_id": "",
       "version_major": 2,
       "version_minor": 0
      },
      "text/plain": [
       "  ... working at frequency = 9035.0 Hz:   0%|          | 0/50 [00:00<?, ?it/s]"
      ]
     },
     "metadata": {},
     "output_type": "display_data"
    },
    {
     "data": {
      "application/vnd.jupyter.widget-view+json": {
       "model_id": "",
       "version_major": 2,
       "version_minor": 0
      },
      "text/plain": [
       "  ... working at frequency = 9060.0 Hz:   0%|          | 0/50 [00:00<?, ?it/s]"
      ]
     },
     "metadata": {},
     "output_type": "display_data"
    },
    {
     "data": {
      "application/vnd.jupyter.widget-view+json": {
       "model_id": "",
       "version_major": 2,
       "version_minor": 0
      },
      "text/plain": [
       "  ... working at frequency = 9085.0 Hz:   0%|          | 0/50 [00:00<?, ?it/s]"
      ]
     },
     "metadata": {},
     "output_type": "display_data"
    },
    {
     "data": {
      "application/vnd.jupyter.widget-view+json": {
       "model_id": "",
       "version_major": 2,
       "version_minor": 0
      },
      "text/plain": [
       "  ... working at frequency = 9110.0 Hz:   0%|          | 0/50 [00:00<?, ?it/s]"
      ]
     },
     "metadata": {},
     "output_type": "display_data"
    },
    {
     "data": {
      "application/vnd.jupyter.widget-view+json": {
       "model_id": "",
       "version_major": 2,
       "version_minor": 0
      },
      "text/plain": [
       "  ... working at frequency = 9135.0 Hz:   0%|          | 0/50 [00:00<?, ?it/s]"
      ]
     },
     "metadata": {},
     "output_type": "display_data"
    },
    {
     "data": {
      "application/vnd.jupyter.widget-view+json": {
       "model_id": "",
       "version_major": 2,
       "version_minor": 0
      },
      "text/plain": [
       "  ... working at frequency = 9160.0 Hz:   0%|          | 0/50 [00:00<?, ?it/s]"
      ]
     },
     "metadata": {},
     "output_type": "display_data"
    },
    {
     "data": {
      "application/vnd.jupyter.widget-view+json": {
       "model_id": "",
       "version_major": 2,
       "version_minor": 0
      },
      "text/plain": [
       "  ... working at frequency = 9185.0 Hz:   0%|          | 0/50 [00:00<?, ?it/s]"
      ]
     },
     "metadata": {},
     "output_type": "display_data"
    },
    {
     "data": {
      "application/vnd.jupyter.widget-view+json": {
       "model_id": "",
       "version_major": 2,
       "version_minor": 0
      },
      "text/plain": [
       "  ... working at frequency = 9210.0 Hz:   0%|          | 0/50 [00:00<?, ?it/s]"
      ]
     },
     "metadata": {},
     "output_type": "display_data"
    },
    {
     "data": {
      "application/vnd.jupyter.widget-view+json": {
       "model_id": "",
       "version_major": 2,
       "version_minor": 0
      },
      "text/plain": [
       "  ... working at frequency = 9235.0 Hz:   0%|          | 0/50 [00:00<?, ?it/s]"
      ]
     },
     "metadata": {},
     "output_type": "display_data"
    },
    {
     "data": {
      "application/vnd.jupyter.widget-view+json": {
       "model_id": "",
       "version_major": 2,
       "version_minor": 0
      },
      "text/plain": [
       "  ... working at frequency = 9260.0 Hz:   0%|          | 0/50 [00:00<?, ?it/s]"
      ]
     },
     "metadata": {},
     "output_type": "display_data"
    },
    {
     "data": {
      "application/vnd.jupyter.widget-view+json": {
       "model_id": "",
       "version_major": 2,
       "version_minor": 0
      },
      "text/plain": [
       "  ... working at frequency = 9285.0 Hz:   0%|          | 0/50 [00:00<?, ?it/s]"
      ]
     },
     "metadata": {},
     "output_type": "display_data"
    },
    {
     "data": {
      "application/vnd.jupyter.widget-view+json": {
       "model_id": "",
       "version_major": 2,
       "version_minor": 0
      },
      "text/plain": [
       "  ... working at frequency = 9310.0 Hz:   0%|          | 0/50 [00:00<?, ?it/s]"
      ]
     },
     "metadata": {},
     "output_type": "display_data"
    },
    {
     "data": {
      "application/vnd.jupyter.widget-view+json": {
       "model_id": "",
       "version_major": 2,
       "version_minor": 0
      },
      "text/plain": [
       "  ... working at frequency = 9335.0 Hz:   0%|          | 0/50 [00:00<?, ?it/s]"
      ]
     },
     "metadata": {},
     "output_type": "display_data"
    },
    {
     "data": {
      "application/vnd.jupyter.widget-view+json": {
       "model_id": "",
       "version_major": 2,
       "version_minor": 0
      },
      "text/plain": [
       "  ... working at frequency = 9360.0 Hz:   0%|          | 0/50 [00:00<?, ?it/s]"
      ]
     },
     "metadata": {},
     "output_type": "display_data"
    },
    {
     "data": {
      "application/vnd.jupyter.widget-view+json": {
       "model_id": "",
       "version_major": 2,
       "version_minor": 0
      },
      "text/plain": [
       "  ... working at frequency = 9385.0 Hz:   0%|          | 0/50 [00:00<?, ?it/s]"
      ]
     },
     "metadata": {},
     "output_type": "display_data"
    },
    {
     "data": {
      "application/vnd.jupyter.widget-view+json": {
       "model_id": "",
       "version_major": 2,
       "version_minor": 0
      },
      "text/plain": [
       "  ... working at frequency = 9410.0 Hz:   0%|          | 0/50 [00:00<?, ?it/s]"
      ]
     },
     "metadata": {},
     "output_type": "display_data"
    },
    {
     "data": {
      "application/vnd.jupyter.widget-view+json": {
       "model_id": "",
       "version_major": 2,
       "version_minor": 0
      },
      "text/plain": [
       "  ... working at frequency = 9435.0 Hz:   0%|          | 0/50 [00:00<?, ?it/s]"
      ]
     },
     "metadata": {},
     "output_type": "display_data"
    },
    {
     "data": {
      "application/vnd.jupyter.widget-view+json": {
       "model_id": "",
       "version_major": 2,
       "version_minor": 0
      },
      "text/plain": [
       "  ... working at frequency = 9460.0 Hz:   0%|          | 0/50 [00:00<?, ?it/s]"
      ]
     },
     "metadata": {},
     "output_type": "display_data"
    },
    {
     "data": {
      "application/vnd.jupyter.widget-view+json": {
       "model_id": "",
       "version_major": 2,
       "version_minor": 0
      },
      "text/plain": [
       "  ... working at frequency = 9485.0 Hz:   0%|          | 0/50 [00:00<?, ?it/s]"
      ]
     },
     "metadata": {},
     "output_type": "display_data"
    },
    {
     "data": {
      "application/vnd.jupyter.widget-view+json": {
       "model_id": "",
       "version_major": 2,
       "version_minor": 0
      },
      "text/plain": [
       "  ... working at frequency = 9510.0 Hz:   0%|          | 0/50 [00:00<?, ?it/s]"
      ]
     },
     "metadata": {},
     "output_type": "display_data"
    },
    {
     "data": {
      "application/vnd.jupyter.widget-view+json": {
       "model_id": "",
       "version_major": 2,
       "version_minor": 0
      },
      "text/plain": [
       "  ... working at frequency = 9535.0 Hz:   0%|          | 0/50 [00:00<?, ?it/s]"
      ]
     },
     "metadata": {},
     "output_type": "display_data"
    },
    {
     "data": {
      "application/vnd.jupyter.widget-view+json": {
       "model_id": "",
       "version_major": 2,
       "version_minor": 0
      },
      "text/plain": [
       "  ... working at frequency = 9560.0 Hz:   0%|          | 0/50 [00:00<?, ?it/s]"
      ]
     },
     "metadata": {},
     "output_type": "display_data"
    },
    {
     "data": {
      "application/vnd.jupyter.widget-view+json": {
       "model_id": "",
       "version_major": 2,
       "version_minor": 0
      },
      "text/plain": [
       "  ... working at frequency = 9585.0 Hz:   0%|          | 0/50 [00:00<?, ?it/s]"
      ]
     },
     "metadata": {},
     "output_type": "display_data"
    },
    {
     "data": {
      "application/vnd.jupyter.widget-view+json": {
       "model_id": "",
       "version_major": 2,
       "version_minor": 0
      },
      "text/plain": [
       "  ... working at frequency = 9610.0 Hz:   0%|          | 0/50 [00:00<?, ?it/s]"
      ]
     },
     "metadata": {},
     "output_type": "display_data"
    },
    {
     "data": {
      "application/vnd.jupyter.widget-view+json": {
       "model_id": "",
       "version_major": 2,
       "version_minor": 0
      },
      "text/plain": [
       "  ... working at frequency = 9635.0 Hz:   0%|          | 0/50 [00:00<?, ?it/s]"
      ]
     },
     "metadata": {},
     "output_type": "display_data"
    },
    {
     "data": {
      "application/vnd.jupyter.widget-view+json": {
       "model_id": "",
       "version_major": 2,
       "version_minor": 0
      },
      "text/plain": [
       "  ... working at frequency = 9660.0 Hz:   0%|          | 0/50 [00:00<?, ?it/s]"
      ]
     },
     "metadata": {},
     "output_type": "display_data"
    },
    {
     "data": {
      "application/vnd.jupyter.widget-view+json": {
       "model_id": "",
       "version_major": 2,
       "version_minor": 0
      },
      "text/plain": [
       "  ... working at frequency = 9685.0 Hz:   0%|          | 0/50 [00:00<?, ?it/s]"
      ]
     },
     "metadata": {},
     "output_type": "display_data"
    },
    {
     "data": {
      "application/vnd.jupyter.widget-view+json": {
       "model_id": "",
       "version_major": 2,
       "version_minor": 0
      },
      "text/plain": [
       "  ... working at frequency = 9710.0 Hz:   0%|          | 0/50 [00:00<?, ?it/s]"
      ]
     },
     "metadata": {},
     "output_type": "display_data"
    },
    {
     "data": {
      "application/vnd.jupyter.widget-view+json": {
       "model_id": "",
       "version_major": 2,
       "version_minor": 0
      },
      "text/plain": [
       "  ... working at frequency = 9735.0 Hz:   0%|          | 0/50 [00:00<?, ?it/s]"
      ]
     },
     "metadata": {},
     "output_type": "display_data"
    },
    {
     "data": {
      "application/vnd.jupyter.widget-view+json": {
       "model_id": "",
       "version_major": 2,
       "version_minor": 0
      },
      "text/plain": [
       "  ... working at frequency = 9760.0 Hz:   0%|          | 0/50 [00:00<?, ?it/s]"
      ]
     },
     "metadata": {},
     "output_type": "display_data"
    },
    {
     "data": {
      "application/vnd.jupyter.widget-view+json": {
       "model_id": "",
       "version_major": 2,
       "version_minor": 0
      },
      "text/plain": [
       "  ... working at frequency = 9785.0 Hz:   0%|          | 0/50 [00:00<?, ?it/s]"
      ]
     },
     "metadata": {},
     "output_type": "display_data"
    },
    {
     "data": {
      "application/vnd.jupyter.widget-view+json": {
       "model_id": "",
       "version_major": 2,
       "version_minor": 0
      },
      "text/plain": [
       "  ... working at frequency = 9810.0 Hz:   0%|          | 0/50 [00:00<?, ?it/s]"
      ]
     },
     "metadata": {},
     "output_type": "display_data"
    },
    {
     "data": {
      "application/vnd.jupyter.widget-view+json": {
       "model_id": "",
       "version_major": 2,
       "version_minor": 0
      },
      "text/plain": [
       "  ... working at frequency = 9835.0 Hz:   0%|          | 0/50 [00:00<?, ?it/s]"
      ]
     },
     "metadata": {},
     "output_type": "display_data"
    },
    {
     "data": {
      "application/vnd.jupyter.widget-view+json": {
       "model_id": "",
       "version_major": 2,
       "version_minor": 0
      },
      "text/plain": [
       "  ... working at frequency = 9860.0 Hz:   0%|          | 0/50 [00:00<?, ?it/s]"
      ]
     },
     "metadata": {},
     "output_type": "display_data"
    },
    {
     "data": {
      "application/vnd.jupyter.widget-view+json": {
       "model_id": "",
       "version_major": 2,
       "version_minor": 0
      },
      "text/plain": [
       "  ... working at frequency = 9885.0 Hz:   0%|          | 0/50 [00:00<?, ?it/s]"
      ]
     },
     "metadata": {},
     "output_type": "display_data"
    },
    {
     "data": {
      "application/vnd.jupyter.widget-view+json": {
       "model_id": "",
       "version_major": 2,
       "version_minor": 0
      },
      "text/plain": [
       "  ... working at frequency = 9910.0 Hz:   0%|          | 0/50 [00:00<?, ?it/s]"
      ]
     },
     "metadata": {},
     "output_type": "display_data"
    },
    {
     "data": {
      "application/vnd.jupyter.widget-view+json": {
       "model_id": "",
       "version_major": 2,
       "version_minor": 0
      },
      "text/plain": [
       "  ... working at frequency = 9935.0 Hz:   0%|          | 0/50 [00:00<?, ?it/s]"
      ]
     },
     "metadata": {},
     "output_type": "display_data"
    },
    {
     "data": {
      "application/vnd.jupyter.widget-view+json": {
       "model_id": "",
       "version_major": 2,
       "version_minor": 0
      },
      "text/plain": [
       "  ... working at frequency = 9960.0 Hz:   0%|          | 0/50 [00:00<?, ?it/s]"
      ]
     },
     "metadata": {},
     "output_type": "display_data"
    },
    {
     "data": {
      "application/vnd.jupyter.widget-view+json": {
       "model_id": "",
       "version_major": 2,
       "version_minor": 0
      },
      "text/plain": [
       "  ... working at frequency = 9985.0 Hz:   0%|          | 0/50 [00:00<?, ?it/s]"
      ]
     },
     "metadata": {},
     "output_type": "display_data"
    },
    {
     "data": {
      "application/vnd.jupyter.widget-view+json": {
       "model_id": "",
       "version_major": 2,
       "version_minor": 0
      },
      "text/plain": [
       "  ... working at frequency = 10010.0 Hz:   0%|          | 0/50 [00:00<?, ?it/s]"
      ]
     },
     "metadata": {},
     "output_type": "display_data"
    },
    {
     "data": {
      "application/vnd.jupyter.widget-view+json": {
       "model_id": "62fad9d0a4124ffe941044387c6f5874",
       "version_major": 2,
       "version_minor": 0
      },
      "text/plain": [
       "  ... working at frequency = 10035.0 Hz:   0%|          | 0/50 [00:00<?, ?it/s]"
      ]
     },
     "metadata": {},
     "output_type": "display_data"
    },
    {
     "name": "stdout",
     "output_type": "stream",
     "text": [
      "\n",
      "\n",
      "self.frequency_array.shape[0] = 402 is same as self.wavenumer_array.shape[0] = 402\n",
      "Save file to /Users/chenghunglin/Documents/sound_absorption_test/horn_1_7_vol_v1_01.xlsx\n"
     ]
    }
   ],
   "source": [
    "horn_1_7_vol_v1_01 = anechoic_sound_absorption(determinant, frequency_array,\n",
    "                              fp = '/Users/chenghunglin/Documents/sound_absorption_test/', \n",
    "                              fn = 'horn_1_7_vol_v1_01.xlsx', \n",
    "                              material='rubber', shape='horn', \n",
    "                              p=1e-3, q=7e-3, lh=40e-3, cell_radius=15e-3, \n",
    "                              theta=0.5, phi=3e-3, length_unit='m',\n",
    "                              num_segments=50, layer_density=1100, air_density=1.21, \n",
    "                              Young_modulus=0.14e9, Poisson_ratio=0.49, loss_factor=0.23, \n",
    "                              medium_density=998, sound_speed_medium=1483, \n",
    "                              use_volume=True)"
   ]
  },
  {
   "cell_type": "code",
   "execution_count": null,
   "metadata": {},
   "outputs": [],
   "source": []
  },
  {
   "cell_type": "code",
   "execution_count": null,
   "metadata": {},
   "outputs": [],
   "source": []
  },
  {
   "cell_type": "code",
   "execution_count": null,
   "metadata": {},
   "outputs": [],
   "source": [
    "frequency_array = np.arange(10, 10052, 25)\n",
    "sin_3_4_05_vol_v1_01 = anechoic_sound_absorption(determinant, frequency_array,\n",
    "                              fp = '/Users/chenghunglin/Documents/sound_absorption_test/', \n",
    "                              fn = 'sin_3_4_05_vol_v1_01.xlsx', \n",
    "                              material='rubber', shape='sin', \n",
    "                              p=3e-3, q=4e-3, lh=40e-3, cell_radius=15e-3, \n",
    "                              theta=0.5, phi=3e-3, length_unit='m',\n",
    "                              num_segments=50, layer_density=1100, air_density=1.21, \n",
    "                              Young_modulus=0.14e9, Poisson_ratio=0.49, loss_factor=0.23, \n",
    "                              medium_density=998, sound_speed_medium=1483, \n",
    "                              use_volume=True)"
   ]
  },
  {
   "cell_type": "code",
   "execution_count": null,
   "metadata": {},
   "outputs": [],
   "source": [
    "frequency_array = np.arange(10, 10052, 25)\n",
    "sin_3_4_05_vol_v1_02 = anechoic_sound_absorption(determinant, frequency_array,\n",
    "                              fp = '/Users/chenghunglin/Documents/sound_absorption_test/', \n",
    "                              fn = 'sin_3_4_05_vol_v1_02.xlsx', \n",
    "                              material='rubber', shape='sin', \n",
    "                              p=3e-3, q=4e-3, lh=40e-3, cell_radius=15e-3, \n",
    "                              theta=0.5, phi=3e-3, length_unit='m',\n",
    "                              num_segments=100, layer_density=1100, air_density=1.21, \n",
    "                              Young_modulus=0.14e9, Poisson_ratio=0.49, loss_factor=0.23, \n",
    "                              medium_density=998, sound_speed_medium=1483, \n",
    "                              use_volume=True)"
   ]
  },
  {
   "cell_type": "code",
   "execution_count": null,
   "metadata": {},
   "outputs": [],
   "source": [
    "frequency_array = np.arange(10, 10052, 50)\n",
    "sin_3_4_05_vol_v1_03 = anechoic_sound_absorption(determinant, frequency_array,\n",
    "                              fp = '/Users/chenghunglin/Documents/sound_absorption_test/', \n",
    "                              fn = 'sin_3_4_05_vol_v1_03.xlsx', \n",
    "                              material='rubber', shape='sin', \n",
    "                              p=3e-3, q=4e-3, lh=40e-3, cell_radius=15e-3, \n",
    "                              theta=0.5, phi=3e-3, length_unit='m',\n",
    "                              num_segments=50, layer_density=1100, air_density=1.21, \n",
    "                              Young_modulus=0.14e9, Poisson_ratio=0.49, loss_factor=0.23, \n",
    "                              medium_density=998, sound_speed_medium=1483, \n",
    "                              use_volume=True)"
   ]
  },
  {
   "cell_type": "code",
   "execution_count": null,
   "metadata": {},
   "outputs": [],
   "source": [
    "frequency_array = np.arange(10, 10052, 50)\n",
    "sin_3_4_05_vol_v1_04 = anechoic_sound_absorption(determinant, frequency_array,\n",
    "                              fp = '/Users/chenghunglin/Documents/sound_absorption_test/', \n",
    "                              fn = 'sin_3_4_05_vol_v1_04.xlsx', \n",
    "                              material='rubber', shape='sin', \n",
    "                              p=3e-3, q=4e-3, lh=40e-3, cell_radius=15e-3, \n",
    "                              theta=0.5, phi=3e-3, length_unit='m',\n",
    "                              num_segments=100, layer_density=1100, air_density=1.21, \n",
    "                              Young_modulus=0.14e9, Poisson_ratio=0.49, loss_factor=0.23, \n",
    "                              medium_density=998, sound_speed_medium=1483, \n",
    "                              use_volume=True)"
   ]
  },
  {
   "cell_type": "code",
   "execution_count": null,
   "metadata": {},
   "outputs": [],
   "source": [
    "frequency_array = np.arange(10, 10052, 100)\n",
    "sin_3_4_05_vol_v1_05 = anechoic_sound_absorption(determinant, frequency_array,\n",
    "                              fp = '/Users/chenghunglin/Documents/sound_absorption_test/', \n",
    "                              fn = 'sin_3_4_05_vol_v1_05.xlsx', \n",
    "                              material='rubber', shape='sin', \n",
    "                              p=3e-3, q=4e-3, lh=40e-3, cell_radius=15e-3, \n",
    "                              theta=0.5, phi=3e-3, length_unit='m',\n",
    "                              num_segments=50, layer_density=1100, air_density=1.21, \n",
    "                              Young_modulus=0.14e9, Poisson_ratio=0.49, loss_factor=0.23, \n",
    "                              medium_density=998, sound_speed_medium=1483, \n",
    "                              use_volume=True)"
   ]
  },
  {
   "cell_type": "code",
   "execution_count": null,
   "metadata": {},
   "outputs": [],
   "source": [
    "frequency_array = np.arange(10, 10052, 100)\n",
    "sin_3_4_05_vol_v1_06 = anechoic_sound_absorption(determinant, frequency_array,\n",
    "                              fp = '/Users/chenghunglin/Documents/sound_absorption_test/', \n",
    "                              fn = 'sin_3_4_05_vol_v1_06.xlsx', \n",
    "                              material='rubber', shape='sin', \n",
    "                              p=3e-3, q=4e-3, lh=40e-3, cell_radius=15e-3, \n",
    "                              theta=0.5, phi=3e-3, length_unit='m',\n",
    "                              num_segments=100, layer_density=1100, air_density=1.21, \n",
    "                              Young_modulus=0.14e9, Poisson_ratio=0.49, loss_factor=0.23, \n",
    "                              medium_density=998, sound_speed_medium=1483, \n",
    "                              use_volume=True)"
   ]
  },
  {
   "cell_type": "code",
   "execution_count": null,
   "metadata": {},
   "outputs": [],
   "source": []
  },
  {
   "cell_type": "code",
   "execution_count": null,
   "metadata": {},
   "outputs": [],
   "source": [
    "frequency_array = np.arange(10, 10052, 100)\n",
    "cone_2_4_rad_v1 = anechoic_sound_absorption(determinant, frequency_array,\n",
    "                              fp = '/Users/chenghunglin/Documents/sound_absorption_test/', \n",
    "                              fn = 'cone_2_4_rad_v1.xlsx', \n",
    "                              material='rubber', shape='cone', \n",
    "                              p=2e-3, q=4e-3, lh=40e-3, cell_radius=15e-3, \n",
    "                              theta=0.5, phi=3e-3, length_unit='m',\n",
    "                              num_segments=100, layer_density=1100, air_density=1.21, \n",
    "                              Young_modulus=0.14e9, Poisson_ratio=0.49, loss_factor=0.23, \n",
    "                              medium_density=998, sound_speed_medium=1483, \n",
    "                              use_volume=False)"
   ]
  },
  {
   "cell_type": "code",
   "execution_count": null,
   "metadata": {},
   "outputs": [],
   "source": [
    "frequency_array = np.arange(10, 10052, 100)\n",
    "cone_2_4_vol_v1 = anechoic_sound_absorption(determinant, frequency_array,\n",
    "                              fp = '/Users/chenghunglin/Documents/sound_absorption_test/', \n",
    "                              fn = 'cone_2_4_vol_v1.xlsx', \n",
    "                              material='rubber', shape='cone', \n",
    "                              p=2e-3, q=4e-3, lh=40e-3, cell_radius=15e-3, \n",
    "                              theta=0.5, phi=3e-3, length_unit='m',\n",
    "                              num_segments=100, layer_density=1100, air_density=1.21, \n",
    "                              Young_modulus=0.14e9, Poisson_ratio=0.49, loss_factor=0.23, \n",
    "                              medium_density=998, sound_speed_medium=1483, \n",
    "                              use_volume=True)"
   ]
  },
  {
   "cell_type": "code",
   "execution_count": null,
   "metadata": {},
   "outputs": [],
   "source": [
    "frequency_array = np.arange(10, 10052, 100)\n",
    "cone_3_3_rad_v1 = anechoic_sound_absorption(determinant, frequency_array,\n",
    "                              fp = '/Users/chenghunglin/Documents/sound_absorption_test/', \n",
    "                              fn = 'cone_3_3_rad_v1.xlsx', \n",
    "                              material='rubber', shape='cone', \n",
    "                              p=3e-3, q=3e-3, lh=40e-3, cell_radius=15e-3, \n",
    "                              theta=0.5, phi=3e-3, length_unit='m',\n",
    "                              num_segments=100, layer_density=1100, air_density=1.21, \n",
    "                              Young_modulus=0.14e9, Poisson_ratio=0.49, loss_factor=0.23, \n",
    "                              medium_density=998, sound_speed_medium=1483, \n",
    "                              use_volume=False)"
   ]
  },
  {
   "cell_type": "code",
   "execution_count": null,
   "metadata": {},
   "outputs": [],
   "source": [
    "frequency_array = np.arange(10, 10052, 100)\n",
    "cone_3_3_vol_v1 = anechoic_sound_absorption(determinant, frequency_array,\n",
    "                              fp = '/Users/chenghunglin/Documents/sound_absorption_test/', \n",
    "                              fn = 'cone_3_3_vol_v1.xlsx', \n",
    "                              material='rubber', shape='cone', \n",
    "                              p=3e-3, q=3e-3, lh=40e-3, cell_radius=15e-3, \n",
    "                              theta=0.5, phi=3e-3, length_unit='m',\n",
    "                              num_segments=100, layer_density=1100, air_density=1.21, \n",
    "                              Young_modulus=0.14e9, Poisson_ratio=0.49, loss_factor=0.23, \n",
    "                              medium_density=998, sound_speed_medium=1483, \n",
    "                              use_volume=True)"
   ]
  },
  {
   "cell_type": "markdown",
   "metadata": {},
   "source": [
    "### Example 01-1: compare using effective radius"
   ]
  },
  {
   "cell_type": "code",
   "execution_count": null,
   "metadata": {},
   "outputs": [],
   "source": [
    "sin_3_4_05_rad = anechoic_sound_absorption(determinant, frequency_array,\n",
    "                              fp = '/Users/chenghunglin/Documents/', \n",
    "                              fn = 'sin_3_4_05_rad.xlsx', \n",
    "                              material='rubber', shape='sin', \n",
    "                              p=3e-3, q=4e-3, lh=40e-3, cell_radius=15e-3, \n",
    "                              theta=0.5, phi=3e-3, length_unit='m',\n",
    "                              num_segments=100, layer_density=1100, air_density=1.21, \n",
    "                              Young_modulus=0.14e9, Poisson_ratio=0.49, loss_factor=0.23, \n",
    "                              medium_density=998, sound_speed_medium=1483, \n",
    "                              use_volume=False)"
   ]
  },
  {
   "cell_type": "code",
   "execution_count": null,
   "metadata": {},
   "outputs": [],
   "source": [
    "plt.figure()\n",
    "plt.plot(sin_3_4_05_vol.frequency_array, sin_3_4_05_vol.absorption_frequency(), label='sin, p=3, q=4, fr100, seg100, vol')\n",
    "plt.plot(sin_3_4_05_rad.frequency_array, sin_3_4_05_rad.absorption_frequency(), label='sin, p=3, q=4, fr100, seg100, rad')\n",
    "# plt.plot(horn_1_11.frequency_array, horn_1_11.absorption_frequency(), label='horn, p=1, q=11, volume')\n",
    "plt.legend()"
   ]
  },
  {
   "cell_type": "code",
   "execution_count": null,
   "metadata": {},
   "outputs": [],
   "source": []
  },
  {
   "cell_type": "markdown",
   "metadata": {},
   "source": [
    "### Example 01-2: compare finer frequency & segment steps"
   ]
  },
  {
   "cell_type": "code",
   "execution_count": 14,
   "metadata": {},
   "outputs": [],
   "source": [
    "# frequency_array = np.arange(2, 10052, 50)"
   ]
  },
  {
   "cell_type": "code",
   "execution_count": 15,
   "metadata": {},
   "outputs": [],
   "source": [
    "# sin_3_4_05_vol_2 = anechoic_sound_absorption(determinant, frequency_array,\n",
    "#                               fp = '/Users/chenghunglin/Documents/', \n",
    "#                               fn = 'sin_3_4_05_vol_2.xlsx', \n",
    "#                               material='rubber', shape='sin', \n",
    "#                               p=3e-3, q=4e-3, lh=40e-3, cell_radius=15e-3, \n",
    "#                               theta=0.5, phi=3e-3, length_unit='m',\n",
    "#                               num_segments=200, layer_density=1100, air_density=1.21, \n",
    "#                               Young_modulus=0.14e9, Poisson_ratio=0.49, loss_factor=0.23, \n",
    "#                               medium_density=998, sound_speed_medium=1483, \n",
    "#                               use_volume=True)"
   ]
  },
  {
   "cell_type": "code",
   "execution_count": null,
   "metadata": {},
   "outputs": [],
   "source": []
  },
  {
   "cell_type": "code",
   "execution_count": null,
   "metadata": {},
   "outputs": [],
   "source": []
  },
  {
   "cell_type": "markdown",
   "metadata": {},
   "source": [
    "### Example 02: change parameters through sound_performance() objects"
   ]
  },
  {
   "cell_type": "code",
   "execution_count": null,
   "metadata": {},
   "outputs": [],
   "source": [
    "# horn_1_11 = sound_performance(determinant, frequency_array)"
   ]
  },
  {
   "cell_type": "code",
   "execution_count": null,
   "metadata": {},
   "outputs": [],
   "source": [
    "# horn_1_11.shape = 'horn'\n",
    "# horn_1_11.p_hole = 1e-3\n",
    "# horn_1_11.q_hole = 11e-3"
   ]
  },
  {
   "cell_type": "code",
   "execution_count": null,
   "metadata": {},
   "outputs": [],
   "source": [
    "# ## Find roots of wavenumber in the equation of determinant\n",
    "# horn_1_11.wavenumer_array, horn_1_11.failed_root = horn_1_11.axial_wavenumber_array()"
   ]
  },
  {
   "cell_type": "code",
   "execution_count": null,
   "metadata": {},
   "outputs": [],
   "source": [
    "# ## Save the data\n",
    "# fp = '/Users/chenghunglin/Documents/'\n",
    "# fn = 'horn_1_11.xlsx'\n",
    "# horn_1_11.save_data(fp, fn)"
   ]
  },
  {
   "cell_type": "code",
   "execution_count": null,
   "metadata": {},
   "outputs": [],
   "source": []
  },
  {
   "cell_type": "markdown",
   "metadata": {},
   "source": []
  },
  {
   "cell_type": "code",
   "execution_count": null,
   "metadata": {},
   "outputs": [],
   "source": []
  },
  {
   "cell_type": "code",
   "execution_count": null,
   "metadata": {},
   "outputs": [],
   "source": []
  },
  {
   "cell_type": "code",
   "execution_count": null,
   "metadata": {},
   "outputs": [],
   "source": []
  }
 ],
 "metadata": {
  "anaconda-cloud": {},
  "kernelspec": {
   "display_name": "Python 3 (ipykernel)",
   "language": "python",
   "name": "python3"
  },
  "language_info": {
   "codemirror_mode": {
    "name": "ipython",
    "version": 3
   },
   "file_extension": ".py",
   "mimetype": "text/x-python",
   "name": "python",
   "nbconvert_exporter": "python",
   "pygments_lexer": "ipython3",
   "version": "3.12.2"
  }
 },
 "nbformat": 4,
 "nbformat_minor": 4
}
