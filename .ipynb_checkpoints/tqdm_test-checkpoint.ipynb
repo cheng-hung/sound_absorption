{
 "cells": [
  {
   "cell_type": "markdown",
   "id": "76e8a7d6-2247-4eec-89cf-037aff35270a",
   "metadata": {},
   "source": [
    "## Using tqdm for nested progress bar in jupyter lab"
   ]
  },
  {
   "cell_type": "code",
   "execution_count": 6,
   "id": "3f255193-414b-402c-bfb8-88ab2b0b0203",
   "metadata": {},
   "outputs": [
    {
     "data": {
      "application/vnd.jupyter.widget-view+json": {
       "model_id": "bdb3ddb96032430785f26abb25e1b159",
       "version_major": 2,
       "version_minor": 0
      },
      "text/plain": [
       "Outter:   0%|          | 0/5 [00:00<?, ?it/s]"
      ]
     },
     "metadata": {},
     "output_type": "display_data"
    },
    {
     "data": {
      "application/vnd.jupyter.widget-view+json": {
       "model_id": "",
       "version_major": 2,
       "version_minor": 0
      },
      "text/plain": [
       "Inner:   0%|          | 0/3 [00:00<?, ?it/s]"
      ]
     },
     "metadata": {},
     "output_type": "display_data"
    },
    {
     "data": {
      "application/vnd.jupyter.widget-view+json": {
       "model_id": "",
       "version_major": 2,
       "version_minor": 0
      },
      "text/plain": [
       "Inner:   0%|          | 0/3 [00:00<?, ?it/s]"
      ]
     },
     "metadata": {},
     "output_type": "display_data"
    },
    {
     "data": {
      "application/vnd.jupyter.widget-view+json": {
       "model_id": "",
       "version_major": 2,
       "version_minor": 0
      },
      "text/plain": [
       "Inner:   0%|          | 0/3 [00:00<?, ?it/s]"
      ]
     },
     "metadata": {},
     "output_type": "display_data"
    },
    {
     "data": {
      "application/vnd.jupyter.widget-view+json": {
       "model_id": "",
       "version_major": 2,
       "version_minor": 0
      },
      "text/plain": [
       "Inner:   0%|          | 0/3 [00:00<?, ?it/s]"
      ]
     },
     "metadata": {},
     "output_type": "display_data"
    },
    {
     "data": {
      "application/vnd.jupyter.widget-view+json": {
       "model_id": "bca1d97661264777a9341f1e1e598dbe",
       "version_major": 2,
       "version_minor": 0
      },
      "text/plain": [
       "Inner:   0%|          | 0/3 [00:00<?, ?it/s]"
      ]
     },
     "metadata": {},
     "output_type": "display_data"
    }
   ],
   "source": [
    "import tqdm.notebook\n",
    "from time import sleep\n",
    "def test48():\n",
    "    with tqdm.notebook.trange(5, position=0, desc='Outter', leave=True, maxinterval=1) as outter_range:\n",
    "        for i in outter_range:\n",
    "            leave = i == len(outter_range) - 1\n",
    "            # outter_range.refresh()\n",
    "            # outter_range.reset()\n",
    "            # outter_range.update()\n",
    "            \n",
    "            with tqdm.notebook.trange(3, position=1, desc='Inner', leave=leave) as inner_range:\n",
    "                for _ in inner_range:\n",
    "                    # inner_range.reset()\n",
    "                    # inner_range.update()\n",
    "                    sleep(.3)\n",
    "        \n",
    "test48()"
   ]
  },
  {
   "cell_type": "markdown",
   "id": "7fd4796f-47e1-4d69-ac7c-c207e7bfc237",
   "metadata": {},
   "source": [
    "## Using tqdm for nested progress bar in ipython"
   ]
  },
  {
   "cell_type": "code",
   "execution_count": 4,
   "id": "aed93912-9f8d-4bcb-adc9-305c1403bb12",
   "metadata": {},
   "outputs": [
    {
     "data": {
      "application/vnd.jupyter.widget-view+json": {
       "model_id": "947430cc990b4a7f90df20f5b938c9b2",
       "version_major": 2,
       "version_minor": 0
      },
      "text/plain": [
       "Outter:   0%|          | 0/10 [00:00<?, ?it/s]"
      ]
     },
     "metadata": {},
     "output_type": "display_data"
    },
    {
     "data": {
      "application/vnd.jupyter.widget-view+json": {
       "model_id": "",
       "version_major": 2,
       "version_minor": 0
      },
      "text/plain": [
       "Inner:   0%|          | 0/3 [00:00<?, ?it/s]"
      ]
     },
     "metadata": {},
     "output_type": "display_data"
    },
    {
     "data": {
      "application/vnd.jupyter.widget-view+json": {
       "model_id": "",
       "version_major": 2,
       "version_minor": 0
      },
      "text/plain": [
       "Inner:   0%|          | 0/3 [00:00<?, ?it/s]"
      ]
     },
     "metadata": {},
     "output_type": "display_data"
    },
    {
     "data": {
      "application/vnd.jupyter.widget-view+json": {
       "model_id": "",
       "version_major": 2,
       "version_minor": 0
      },
      "text/plain": [
       "Inner:   0%|          | 0/3 [00:00<?, ?it/s]"
      ]
     },
     "metadata": {},
     "output_type": "display_data"
    },
    {
     "data": {
      "application/vnd.jupyter.widget-view+json": {
       "model_id": "",
       "version_major": 2,
       "version_minor": 0
      },
      "text/plain": [
       "Inner:   0%|          | 0/3 [00:00<?, ?it/s]"
      ]
     },
     "metadata": {},
     "output_type": "display_data"
    },
    {
     "data": {
      "application/vnd.jupyter.widget-view+json": {
       "model_id": "",
       "version_major": 2,
       "version_minor": 0
      },
      "text/plain": [
       "Inner:   0%|          | 0/3 [00:00<?, ?it/s]"
      ]
     },
     "metadata": {},
     "output_type": "display_data"
    },
    {
     "data": {
      "application/vnd.jupyter.widget-view+json": {
       "model_id": "",
       "version_major": 2,
       "version_minor": 0
      },
      "text/plain": [
       "Inner:   0%|          | 0/3 [00:00<?, ?it/s]"
      ]
     },
     "metadata": {},
     "output_type": "display_data"
    },
    {
     "data": {
      "application/vnd.jupyter.widget-view+json": {
       "model_id": "",
       "version_major": 2,
       "version_minor": 0
      },
      "text/plain": [
       "Inner:   0%|          | 0/3 [00:00<?, ?it/s]"
      ]
     },
     "metadata": {},
     "output_type": "display_data"
    },
    {
     "data": {
      "application/vnd.jupyter.widget-view+json": {
       "model_id": "",
       "version_major": 2,
       "version_minor": 0
      },
      "text/plain": [
       "Inner:   0%|          | 0/3 [00:00<?, ?it/s]"
      ]
     },
     "metadata": {},
     "output_type": "display_data"
    },
    {
     "data": {
      "application/vnd.jupyter.widget-view+json": {
       "model_id": "",
       "version_major": 2,
       "version_minor": 0
      },
      "text/plain": [
       "Inner:   0%|          | 0/3 [00:00<?, ?it/s]"
      ]
     },
     "metadata": {},
     "output_type": "display_data"
    },
    {
     "data": {
      "application/vnd.jupyter.widget-view+json": {
       "model_id": "c4b799e6ce7547f5ae32693e1568b834",
       "version_major": 2,
       "version_minor": 0
      },
      "text/plain": [
       "Inner:   0%|          | 0/3 [00:00<?, ?it/s]"
      ]
     },
     "metadata": {},
     "output_type": "display_data"
    }
   ],
   "source": [
    "from tqdm.auto import tqdm\n",
    "from time import sleep\n",
    "def test50():\n",
    "    with tqdm(range(10), position=0, desc='Outter', leave=True, maxinterval=1) as outter_range:\n",
    "        for i in outter_range:\n",
    "            leave = i == len(outter_range) - 1\n",
    "            # outter_range.refresh()\n",
    "            # outter_range.reset()\n",
    "            # outter_range.update()\n",
    "            \n",
    "            with tqdm(range(3), position=1, desc='Inner', leave=leave) as inner_range:\n",
    "                for _ in inner_range:\n",
    "                    # inner_range.reset()\n",
    "                    # inner_range.update()\n",
    "                    sleep(.3)\n",
    "        \n",
    "test50()"
   ]
  },
  {
   "cell_type": "code",
   "execution_count": null,
   "id": "37633073-dcc3-49b4-8bfb-dedd00348223",
   "metadata": {},
   "outputs": [],
   "source": []
  }
 ],
 "metadata": {
  "kernelspec": {
   "display_name": "Python 3 (ipykernel)",
   "language": "python",
   "name": "python3"
  },
  "language_info": {
   "codemirror_mode": {
    "name": "ipython",
    "version": 3
   },
   "file_extension": ".py",
   "mimetype": "text/x-python",
   "name": "python",
   "nbconvert_exporter": "python",
   "pygments_lexer": "ipython3",
   "version": "3.12.2"
  }
 },
 "nbformat": 4,
 "nbformat_minor": 5
}
