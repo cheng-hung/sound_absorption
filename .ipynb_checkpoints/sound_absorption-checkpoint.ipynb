{
 "cells": [
  {
   "cell_type": "code",
   "execution_count": 1,
   "metadata": {
    "collapsed": false,
    "jupyter": {
     "outputs_hidden": false
    }
   },
   "outputs": [],
   "source": [
    "import numpy as np\n",
    "import matplotlib.pyplot as plt\n",
    "import pandas as pd"
   ]
  },
  {
   "cell_type": "code",
   "execution_count": 2,
   "metadata": {},
   "outputs": [],
   "source": [
    "%matplotlib widget"
   ]
  },
  {
   "cell_type": "markdown",
   "metadata": {},
   "source": [
    "### Reference: Influence of hole shape on sound absorption of underwater anechoic layers\n",
    "#### https://www.sciencedirect.com/science/article/abs/pii/S0022460X1830227X"
   ]
  },
  {
   "cell_type": "markdown",
   "metadata": {},
   "source": [
    "### Start at eq(15) in the paper"
   ]
  },
  {
   "cell_type": "code",
   "execution_count": 3,
   "metadata": {},
   "outputs": [],
   "source": [
    "## The effective density: (15)\n",
    "## ai represents the inner radii of the pipe in the i th layer\n",
    "def ith_effect_density(ai, cell_radius, rubber_den, air_den):\n",
    "    return rubber_den*(1-(ai/cell_radius)**2) + air_den*(ai/cell_radius)**2\n",
    "\n",
    "\n",
    "\n",
    "## The effective impedance of the i th segment: (16)\n",
    "def ith_effect_impedance(ith_effect_density, omega, wave_number):\n",
    "    return ith_effect_density*omega/wave_number\n",
    "\n",
    "\n",
    "## The transfer matrix of the i th segment: (17)\n",
    "def ith_tran_matrix(wave_number, li, ith_impedance):\n",
    "    ti = np.zeros((2,2), dtype=complex)\n",
    "    ti[0,0] = np.cos(wave_number*li)\n",
    "    ti[0,1] = -1j*np.sin(wave_number*li)*ith_impedance\n",
    "    ti[1,0] = -1j*np.sin(wave_number*li)/ith_impedance\n",
    "    ti[1,1] = np.cos(wave_number*li)\n",
    "    return ti\n",
    "\n",
    "## The successive multi-plication of the transfer matrix of each segment: (18)\n",
    "def total_tran_matrix(wave_number, lh, n, impedance):\n",
    "    li = lh/n\n",
    "    \n",
    "    try:\n",
    "        t0 = ith_tran_matrix(wave_number[0], li, impedance[0])\n",
    "        tn=t0\n",
    "        for i in range(1, n):\n",
    "            tn = np.matmul(tn, ith_tran_matrix(wave_number[i], li, impedance[i]))\n",
    "        \n",
    "    except IndexError:\n",
    "        t0 = ith_tran_matrix(wave_number, li, impedance[0])\n",
    "        tn=t0\n",
    "        for i in range(1, n):\n",
    "            tn = np.matmul(tn, ith_tran_matrix(wave_number, li, impedance[i]))        \n",
    "    \n",
    "    return tn\n",
    "    \n",
    "\n",
    "## The impedance of the front interface Zf: (22)\n",
    "def imped_front(tn):\n",
    "    # zf = np.absolute(tn[0,0]/tn[1,0])\n",
    "    zf = (tn[0,0]/tn[1,0])\n",
    "    return zf\n",
    "\n",
    "\n",
    "## The reflection coefficient of the anechoic layer: (23)\n",
    "def reflection_coefficient(zf,zw):\n",
    "    return (zf-zw)/(zf+zw)\n",
    "\n",
    "\n",
    "## The sound absorption coefficient: (24)\n",
    "def absorption_coefficient(reflection):\n",
    "    return 1-np.absolute(reflection)**2"
   ]
  },
  {
   "cell_type": "code",
   "execution_count": 4,
   "metadata": {},
   "outputs": [],
   "source": [
    "## Effective radius of cone shape: (25-27)\n",
    "def effective_radius(pcone, qcone, lh, num_segments, shape='cone'):\n",
    "    if shape == 'cone':\n",
    "        alpha = (qcone-pcone)/lh\n",
    "        beta = pcone\n",
    "        lh_n = np.linspace(0, lh, num_segments)\n",
    "        r_effective = alpha*lh_n + beta\n",
    "    return r_effective\n"
   ]
  },
  {
   "cell_type": "code",
   "execution_count": null,
   "metadata": {},
   "outputs": [],
   "source": []
  },
  {
   "cell_type": "code",
   "execution_count": null,
   "metadata": {},
   "outputs": [],
   "source": []
  },
  {
   "cell_type": "code",
   "execution_count": null,
   "metadata": {},
   "outputs": [],
   "source": []
  },
  {
   "cell_type": "markdown",
   "metadata": {
    "tags": []
   },
   "source": [
    "## Constants and Modulus\n",
    "\n",
    "#### https://en.wikipedia.org/wiki/Lam%C3%A9_parameters\n",
    "#### https://en.wikipedia.org/wiki/Shear_modulus\n",
    "\n",
    "#### shear_modulus = Young_modulus/(2*(1+Poisson_ratio))\n",
    "#### lame_const = Young_modulus*Poisson_ratio/((1+Poisson_ratio)*(1-2*Poisson_ratio))\n",
    "#### longitudinal_modulus = lame_const + 2*shear_modulus\n",
    "#### Young's modulus of rubber (GPa): 0.14 (incorrect) --> 14 MPa\n",
    "#### Loss factor of rubber 0.23\n",
    "#### Poisson ratio of rubber 0.49\n",
    "\n",
    "All units are in SI\n",
    "\n",
    "Density of rubber (kg/m3): 1100\n",
    "\n",
    "Density of air (kg/m3): 1.21\n",
    "\n",
    "Assume the pipe has a conical shape, as Fig. 7(a) in the paper:\n",
    "\n",
    "pcone = 4 mm\n",
    "\n",
    "qcone = 8 mm\n",
    "\n",
    "lh = 40 mm\n",
    "\n",
    "cell_radius = 15 mm\n",
    "\n",
    "Assume 100 segments: num_segments = 100\n",
    "\n",
    "Density of water (kg/m3): 998\n",
    "\n",
    "Sound speed of water (m/s): 1483"
   ]
  },
  {
   "cell_type": "code",
   "execution_count": 5,
   "metadata": {},
   "outputs": [],
   "source": [
    "# def shear_m(Young_m, Poisson_r):\n",
    "#     return Young_m/(2*(1+Poisson_r))\n",
    "\n",
    "# def lame_const(Young_m, Poisson_r):\n",
    "#     return Young_m*Poisson_r/((1+Poisson_r)*(1-2*Poisson_r))\n",
    "\n",
    "def longitudinal_m(Yong_m, Poisson_r, loss_factor):\n",
    "    return Yong_m*(1-Poisson_r)*(1-1j*loss_factor)/((1+Poisson_r)*(1-2*Poisson_r))\n",
    "    \n",
    "def ith_effect_speed(longitudinal_m, density, loss_factor):\n",
    "    speed = np.sqrt(longitudinal_m/density)\n",
    "    # damping = np.sqrt(1+1j*loss_factor)\n",
    "    return speed"
   ]
  },
  {
   "cell_type": "markdown",
   "metadata": {},
   "source": [
    "### Test above defined functions for a single frequency"
   ]
  },
  {
   "cell_type": "code",
   "execution_count": 6,
   "metadata": {},
   "outputs": [],
   "source": [
    "frequency = 8000 #np.arange(0.1, 10000, 50)\n",
    "omega = frequency * 2 * np.pi\n",
    "\n",
    "Young_molulus = 14*(10**6)\n",
    "Poisson_ratio = 0.49\n",
    "loss_factor = 0.23\n",
    "# shear_modulus = shear_m(Young_molulus, 0.49)\n",
    "# lame_constant = lame_const(Young_molulus, 0.49)\n",
    "longitudinal_modulus = longitudinal_m(Young_molulus, Poisson_ratio, loss_factor)\n",
    "\n",
    "ai = effective_radius(4*0.001, 8*0.001, 40*0.001, 100, shape='cone')\n",
    "effective_density = ith_effect_density(ai, 15*0.001, 1100, 1.21)\n",
    "\n",
    "effective_speed = ith_effect_speed(longitudinal_modulus, effective_density, loss_factor)\n",
    "\n",
    "wave_number = omega / effective_speed\n",
    "\n",
    "effective_impedance = ith_effect_impedance(effective_density, omega, wave_number)\n",
    "tn = total_tran_matrix(wave_number, 40*0.001, 100, effective_impedance)\n",
    "\n",
    "## Acoustic impdedance of water: 1.48 MPa.s.m−1\n",
    "## https://www.animations.physics.unsw.edu.au/jw/sound-impedance-intensity.htm\n",
    "\n",
    "zw = 998*1483\n",
    "zf = imped_front(tn)\n",
    "ref = reflection_coefficient(zf, zw)\n",
    "alpha = absorption_coefficient(ref)"
   ]
  },
  {
   "cell_type": "code",
   "execution_count": 7,
   "metadata": {},
   "outputs": [
    {
     "data": {
      "text/plain": [
       "(487.3723465070423-55.325567907037524j)"
      ]
     },
     "execution_count": 7,
     "metadata": {},
     "output_type": "execute_result"
    }
   ],
   "source": [
    "effective_speed[0]"
   ]
  },
  {
   "cell_type": "code",
   "execution_count": 8,
   "metadata": {},
   "outputs": [
    {
     "data": {
      "text/plain": [
       "0.6744405904873706"
      ]
     },
     "execution_count": 8,
     "metadata": {},
     "output_type": "execute_result"
    }
   ],
   "source": [
    "alpha"
   ]
  },
  {
   "cell_type": "code",
   "execution_count": null,
   "metadata": {},
   "outputs": [],
   "source": []
  },
  {
   "cell_type": "markdown",
   "metadata": {},
   "source": [
    "### Integrate all calculations into one function"
   ]
  },
  {
   "cell_type": "code",
   "execution_count": 9,
   "metadata": {},
   "outputs": [],
   "source": [
    "def absorption_frequency(frequency_array, pcone, qcone, lh, num_segments, \n",
    "                         Young_m, Poisson_r, loss_factor, \n",
    "                         cell_radius, rubber_den, air_den):\n",
    "    \n",
    "    frequency_array = np.asarray(frequency_array)\n",
    "    absorption_list = []\n",
    "    \n",
    "    for frequency in frequency_array:\n",
    "       \n",
    "        omega = frequency * 2 * np.pi\n",
    "\n",
    "        ai = effective_radius(pcone, qcone, lh, num_segments, shape='cone')\n",
    "        effective_density = ith_effect_density(ai, cell_radius, rubber_den, air_den)\n",
    "        \n",
    "        longitudinal_modulus = longitudinal_m(Young_m, Poisson_r, loss_factor)\n",
    "        \n",
    "        effective_speed = ith_effect_speed(longitudinal_modulus, effective_density, loss_factor)\n",
    "        wave_number = omega / effective_speed\n",
    "        \n",
    "        effective_impedance = ith_effect_impedance(effective_density, omega, wave_number)\n",
    "        tn = total_tran_matrix(wave_number, lh, num_segments, effective_impedance)\n",
    "\n",
    "        ## Acoustic impdedance of water: 1.48 MPa.s.m−1\n",
    "        ## https://www.animations.physics.unsw.edu.au/jw/sound-impedance-intensity.htm\n",
    "\n",
    "        zw = 998*1483\n",
    "        zf = imped_front(tn)\n",
    "        ref = reflection_coefficient(zf, zw)\n",
    "        alpha = absorption_coefficient(ref)   \n",
    "        absorption_list.append(alpha)\n",
    "        \n",
    "    return np.asarray(absorption_list)\n"
   ]
  },
  {
   "cell_type": "code",
   "execution_count": 10,
   "metadata": {},
   "outputs": [],
   "source": [
    "frequency_array = np.arange(0.1, 10000, 50)\n",
    "absorption_array = absorption_frequency(frequency_array, 4*0.001, 8*0.001, 40*0.001, 100,\n",
    "                                        14*(10**6), 0.49, 0.23, \n",
    "                                        15*0.001, 1100, 1.21)"
   ]
  },
  {
   "cell_type": "code",
   "execution_count": 12,
   "metadata": {},
   "outputs": [],
   "source": [
    "df = pd.DataFrame()\n",
    "df['KHZ'] = frequency_array*0.001\n",
    "df['alpha-4-8mm'] = absorption_array\n",
    "\n",
    "fn_path = '/Users/chenghunglin/Library/CloudStorage/OneDrive-BrookhavenNationalLaboratory/sound_absorption/'\n",
    "fn = 'absorption_4-8mm_theoretical.csv'\n",
    "df.to_csv(fn_path+fn, header=True, sep=' ', float_format='{:.8e}'.format)"
   ]
  },
  {
   "cell_type": "code",
   "execution_count": 11,
   "metadata": {},
   "outputs": [
    {
     "data": {
      "text/plain": [
       "[<matplotlib.lines.Line2D at 0x7faef02bb280>]"
      ]
     },
     "execution_count": 11,
     "metadata": {},
     "output_type": "execute_result"
    },
    {
     "data": {
      "application/vnd.jupyter.widget-view+json": {
       "model_id": "549caafa44cf42be8d109798804fde63",
       "version_major": 2,
       "version_minor": 0
      },
      "image/png": "[encoded data removed]",
      "text/html": [
       "\n",
       "            <div style=\"display: inline-block;\">\n",
       "                <div class=\"jupyter-widgets widget-label\" style=\"text-align: center;\">\n",
       "                    Figure\n",
       "                </div>\n",
       "                <img src='data:image/png;base64,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' width=600.0/>\n",
       "            </div>\n",
       "        "
      ],
      "text/plain": [
       "Canvas(toolbar=Toolbar(toolitems=[('Home', 'Reset original view', 'home', 'home'), ('Back', 'Back to previous …"
      ]
     },
     "metadata": {},
     "output_type": "display_data"
    }
   ],
   "source": [
    "rows = 1\n",
    "cols = 1\n",
    "f1, ax1 = plt.subplots(rows, cols, figsize = (6, 4), constrained_layout=True)\n",
    "ax1.plot(frequency_array, absorption_array)"
   ]
  },
  {
   "cell_type": "code",
   "execution_count": null,
   "metadata": {},
   "outputs": [],
   "source": []
  },
  {
   "cell_type": "code",
   "execution_count": null,
   "metadata": {},
   "outputs": [],
   "source": []
  },
  {
   "cell_type": "code",
   "execution_count": null,
   "metadata": {},
   "outputs": [],
   "source": []
  }
 ],
 "metadata": {
  "anaconda-cloud": {},
  "kernelspec": {
   "display_name": "Python 3 (ipykernel)",
   "language": "python",
   "name": "python3"
  },
  "language_info": {
   "codemirror_mode": {
    "name": "ipython",
    "version": 3
   },
   "file_extension": ".py",
   "mimetype": "text/x-python",
   "name": "python",
   "nbconvert_exporter": "python",
   "pygments_lexer": "ipython3",
   "version": "3.9.7"
  }
 },
 "nbformat": 4,
 "nbformat_minor": 4
}
