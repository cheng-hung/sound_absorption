{
 "cells": [
  {
   "cell_type": "code",
   "execution_count": 1,
   "metadata": {
    "collapsed": false,
    "jupyter": {
     "outputs_hidden": false
    }
   },
   "outputs": [],
   "source": [
    "import numpy as np\n",
    "import matplotlib.pyplot as plt\n",
    "import pandas as pd"
   ]
  },
  {
   "cell_type": "code",
   "execution_count": 2,
   "metadata": {},
   "outputs": [],
   "source": [
    "%matplotlib widget"
   ]
  },
  {
   "cell_type": "code",
   "execution_count": 3,
   "metadata": {},
   "outputs": [],
   "source": [
    "import warnings\n",
    "warnings.filterwarnings(\"ignore\", category=RuntimeWarning)\n",
    "warnings.filterwarnings(\"ignore\", category=pd.errors.PerformanceWarning)"
   ]
  },
  {
   "cell_type": "markdown",
   "metadata": {
    "tags": []
   },
   "source": [
    "### Reference: Influence of hole shape on sound absorption of underwater anechoic layers\n",
    "#### https://www.sciencedirect.com/science/article/abs/pii/S0022460X1830227X"
   ]
  },
  {
   "cell_type": "markdown",
   "metadata": {},
   "source": [
    "### Import pre-defined class and function"
   ]
  },
  {
   "cell_type": "code",
   "execution_count": 4,
   "metadata": {},
   "outputs": [],
   "source": [
    "%run -i hole_shape_sound_absorption.py"
   ]
  },
  {
   "cell_type": "markdown",
   "metadata": {},
   "source": [
    "### Define the determinant of the coefficient matrix of eq(14) in the paper"
   ]
  },
  {
   "cell_type": "code",
   "execution_count": 5,
   "metadata": {},
   "outputs": [
    {
     "data": {
      "text/latex": [
       "$\\displaystyle \\left[\\begin{matrix}- \\sqrt{- kz^{2} + \\frac{\\omega^{2}}{cl^{2}}} J_{1}\\left(b \\sqrt{- kz^{2} + \\frac{\\omega^{2}}{cl^{2}}}\\right) & - \\sqrt{- kz^{2} + \\frac{\\omega^{2}}{cl^{2}}} Y_{1}\\left(b \\sqrt{- kz^{2} + \\frac{\\omega^{2}}{cl^{2}}}\\right) & - i kz \\sqrt{- kz^{2} + \\frac{\\omega^{2}}{ct^{2}}} J_{1}\\left(b \\sqrt{- kz^{2} + \\frac{\\omega^{2}}{ct^{2}}}\\right) & - i kz \\sqrt{- kz^{2} + \\frac{\\omega^{2}}{ct^{2}}} Y_{1}\\left(b \\sqrt{- kz^{2} + \\frac{\\omega^{2}}{ct^{2}}}\\right)\\\\\\left(- 2 \\mu \\left(- kz^{2} + \\frac{\\omega^{2}}{cl^{2}}\\right) - \\frac{\\lambda \\omega^{2}}{cl^{2}}\\right) J_{0}\\left(a \\sqrt{- kz^{2} + \\frac{\\omega^{2}}{cl^{2}}}\\right) + \\frac{2 \\mu \\sqrt{- kz^{2} + \\frac{\\omega^{2}}{cl^{2}}} J_{1}\\left(a \\sqrt{- kz^{2} + \\frac{\\omega^{2}}{cl^{2}}}\\right)}{a} & \\left(- 2 \\mu \\left(- kz^{2} + \\frac{\\omega^{2}}{cl^{2}}\\right) - \\frac{\\lambda \\omega^{2}}{cl^{2}}\\right) Y_{0}\\left(a \\sqrt{- kz^{2} + \\frac{\\omega^{2}}{cl^{2}}}\\right) + \\frac{2 \\mu \\sqrt{- kz^{2} + \\frac{\\omega^{2}}{cl^{2}}} Y_{1}\\left(a \\sqrt{- kz^{2} + \\frac{\\omega^{2}}{cl^{2}}}\\right)}{a} & 2 i kz \\mu \\sqrt{- kz^{2} + \\frac{\\omega^{2}}{ct^{2}}} \\left(- \\sqrt{- kz^{2} + \\frac{\\omega^{2}}{ct^{2}}} J_{0}\\left(a \\sqrt{- kz^{2} + \\frac{\\omega^{2}}{ct^{2}}}\\right) + \\frac{J_{1}\\left(a \\sqrt{- kz^{2} + \\frac{\\omega^{2}}{ct^{2}}}\\right)}{a}\\right) & 2 i kz \\mu \\sqrt{- kz^{2} + \\frac{\\omega^{2}}{ct^{2}}} \\left(- \\sqrt{- kz^{2} + \\frac{\\omega^{2}}{ct^{2}}} Y_{0}\\left(a \\sqrt{- kz^{2} + \\frac{\\omega^{2}}{ct^{2}}}\\right) + \\frac{Y_{1}\\left(a \\sqrt{- kz^{2} + \\frac{\\omega^{2}}{ct^{2}}}\\right)}{a}\\right)\\\\- 2 i kz \\mu \\sqrt{- kz^{2} + \\frac{\\omega^{2}}{cl^{2}}} J_{1}\\left(a \\sqrt{- kz^{2} + \\frac{\\omega^{2}}{cl^{2}}}\\right) & - 2 i kz \\mu \\sqrt{- kz^{2} + \\frac{\\omega^{2}}{cl^{2}}} Y_{1}\\left(a \\sqrt{- kz^{2} + \\frac{\\omega^{2}}{cl^{2}}}\\right) & \\mu \\sqrt{- kz^{2} + \\frac{\\omega^{2}}{ct^{2}}} \\left(2 kz^{2} - \\frac{\\omega^{2}}{ct^{2}}\\right) J_{1}\\left(a \\sqrt{- kz^{2} + \\frac{\\omega^{2}}{ct^{2}}}\\right) & \\mu \\sqrt{- kz^{2} + \\frac{\\omega^{2}}{ct^{2}}} \\left(2 kz^{2} - \\frac{\\omega^{2}}{ct^{2}}\\right) Y_{1}\\left(a \\sqrt{- kz^{2} + \\frac{\\omega^{2}}{ct^{2}}}\\right)\\\\- 2 i kz \\mu \\sqrt{- kz^{2} + \\frac{\\omega^{2}}{cl^{2}}} J_{1}\\left(b \\sqrt{- kz^{2} + \\frac{\\omega^{2}}{cl^{2}}}\\right) & - 2 i kz \\mu \\sqrt{- kz^{2} + \\frac{\\omega^{2}}{cl^{2}}} Y_{1}\\left(b \\sqrt{- kz^{2} + \\frac{\\omega^{2}}{cl^{2}}}\\right) & \\mu \\sqrt{- kz^{2} + \\frac{\\omega^{2}}{ct^{2}}} \\left(2 kz^{2} - \\frac{\\omega^{2}}{ct^{2}}\\right) J_{1}\\left(b \\sqrt{- kz^{2} + \\frac{\\omega^{2}}{ct^{2}}}\\right) & \\mu \\sqrt{- kz^{2} + \\frac{\\omega^{2}}{ct^{2}}} \\left(2 kz^{2} - \\frac{\\omega^{2}}{ct^{2}}\\right) Y_{1}\\left(b \\sqrt{- kz^{2} + \\frac{\\omega^{2}}{ct^{2}}}\\right)\\end{matrix}\\right]$"
      ],
      "text/plain": [
       "Matrix([\n",
       "[                                                                                                              -sqrt(-kz**2 + omega**2/cl**2)*besselj(1, b*sqrt(-kz**2 + omega**2/cl**2)),                                                                                                               -sqrt(-kz**2 + omega**2/cl**2)*bessely(1, b*sqrt(-kz**2 + omega**2/cl**2)),                                                                                      -I*kz*sqrt(-kz**2 + omega**2/ct**2)*besselj(1, b*sqrt(-kz**2 + omega**2/ct**2)),                                                                                      -I*kz*sqrt(-kz**2 + omega**2/ct**2)*bessely(1, b*sqrt(-kz**2 + omega**2/ct**2))],\n",
       "[(-2*mu*(-kz**2 + omega**2/cl**2) - lambda*omega**2/cl**2)*besselj(0, a*sqrt(-kz**2 + omega**2/cl**2)) + 2*mu*sqrt(-kz**2 + omega**2/cl**2)*besselj(1, a*sqrt(-kz**2 + omega**2/cl**2))/a, (-2*mu*(-kz**2 + omega**2/cl**2) - lambda*omega**2/cl**2)*bessely(0, a*sqrt(-kz**2 + omega**2/cl**2)) + 2*mu*sqrt(-kz**2 + omega**2/cl**2)*bessely(1, a*sqrt(-kz**2 + omega**2/cl**2))/a, 2*I*kz*mu*sqrt(-kz**2 + omega**2/ct**2)*(-sqrt(-kz**2 + omega**2/ct**2)*besselj(0, a*sqrt(-kz**2 + omega**2/ct**2)) + besselj(1, a*sqrt(-kz**2 + omega**2/ct**2))/a), 2*I*kz*mu*sqrt(-kz**2 + omega**2/ct**2)*(-sqrt(-kz**2 + omega**2/ct**2)*bessely(0, a*sqrt(-kz**2 + omega**2/ct**2)) + bessely(1, a*sqrt(-kz**2 + omega**2/ct**2))/a)],\n",
       "[                                                                                                    -2*I*kz*mu*sqrt(-kz**2 + omega**2/cl**2)*besselj(1, a*sqrt(-kz**2 + omega**2/cl**2)),                                                                                                     -2*I*kz*mu*sqrt(-kz**2 + omega**2/cl**2)*bessely(1, a*sqrt(-kz**2 + omega**2/cl**2)),                                                              mu*sqrt(-kz**2 + omega**2/ct**2)*(2*kz**2 - omega**2/ct**2)*besselj(1, a*sqrt(-kz**2 + omega**2/ct**2)),                                                              mu*sqrt(-kz**2 + omega**2/ct**2)*(2*kz**2 - omega**2/ct**2)*bessely(1, a*sqrt(-kz**2 + omega**2/ct**2))],\n",
       "[                                                                                                    -2*I*kz*mu*sqrt(-kz**2 + omega**2/cl**2)*besselj(1, b*sqrt(-kz**2 + omega**2/cl**2)),                                                                                                     -2*I*kz*mu*sqrt(-kz**2 + omega**2/cl**2)*bessely(1, b*sqrt(-kz**2 + omega**2/cl**2)),                                                              mu*sqrt(-kz**2 + omega**2/ct**2)*(2*kz**2 - omega**2/ct**2)*besselj(1, b*sqrt(-kz**2 + omega**2/ct**2)),                                                              mu*sqrt(-kz**2 + omega**2/ct**2)*(2*kz**2 - omega**2/ct**2)*bessely(1, b*sqrt(-kz**2 + omega**2/ct**2))]])"
      ]
     },
     "execution_count": 5,
     "metadata": {},
     "output_type": "execute_result"
    }
   ],
   "source": [
    "determinant, mat = determinant_from_matrix()\n",
    "mat"
   ]
  },
  {
   "cell_type": "code",
   "execution_count": null,
   "metadata": {},
   "outputs": [],
   "source": []
  },
  {
   "cell_type": "markdown",
   "metadata": {
    "tags": []
   },
   "source": [
    "## Define an object of sound_performance for calculating sound absorption\n",
    "### The default values are listed as below (all in SI units)\n",
    "\n",
    "Material of anechoic layer: rubber\n",
    "\n",
    "Young's modulus of rubber (GPa): 0.14\n",
    "\n",
    "Loss factor of rubber 0.23\n",
    "\n",
    "Poisson ratio of rubber 0.49\n",
    "\n",
    "Density of rubber (kg/m3): 1100\n",
    "\n",
    "Density of air (kg/m3): 1.21\n",
    "\n",
    "Shape: cone\n",
    "\n",
    "p = 4 mm\n",
    "\n",
    "q = 8 mm\n",
    "\n",
    "lh = 40 mm\n",
    "\n",
    "cell_radius = 15 mm\n",
    "\n",
    "num_segments = 100\n",
    "\n",
    "Density of water (kg/m3): 998\n",
    "\n",
    "Sound speed of water (m/s): 1483\n",
    "\n",
    "#### https://en.wikipedia.org/wiki/Lam%C3%A9_parameters"
   ]
  },
  {
   "cell_type": "markdown",
   "metadata": {},
   "source": [
    "### Define the frequency array by np.arange"
   ]
  },
  {
   "cell_type": "code",
   "execution_count": 6,
   "metadata": {},
   "outputs": [],
   "source": [
    "# f_step = 25; Seg = 50\n",
    "# f_step = 25; Seg = 100\n",
    "# f_step = 50; Seg = 50\n",
    "# f_step = 50; Seg = 100\n",
    "# f_step = 100; Seg = 50\n",
    "# f_step = 100; Seg = 100"
   ]
  },
  {
   "cell_type": "code",
   "execution_count": 7,
   "metadata": {},
   "outputs": [
    {
     "data": {
      "text/plain": [
       "(3,)"
      ]
     },
     "execution_count": 7,
     "metadata": {},
     "output_type": "execute_result"
    }
   ],
   "source": [
    "frequency_array = np.arange(10, 75, 25)\n",
    "# frequency_array2 = np.arange(2, 10022, 20)\n",
    "frequency_array.shape"
   ]
  },
  {
   "cell_type": "markdown",
   "metadata": {},
   "source": [
    "### Example 01: define all parameters by anechoic_sound_absorption()"
   ]
  },
  {
   "cell_type": "code",
   "execution_count": 8,
   "metadata": {},
   "outputs": [
    {
     "data": {
      "application/vnd.jupyter.widget-view+json": {
       "model_id": "c8ef803777db48df8caa99b20f353506",
       "version_major": 2,
       "version_minor": 0
      },
      "image/png": "[encoded data removed]",
      "text/html": [
       "\n",
       "            <div style=\"display: inline-block;\">\n",
       "                <div class=\"jupyter-widgets widget-label\" style=\"text-align: center;\">\n",
       "                    Figure\n",
       "                </div>\n",
       "                <img src='data:image/png;base64,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' width=640.0/>\n",
       "            </div>\n",
       "        "
      ],
      "text/plain": [
       "Canvas(toolbar=Toolbar(toolitems=[('Home', 'Reset original view', 'home', 'home'), ('Back', 'Back to previous …"
      ]
     },
     "metadata": {},
     "output_type": "display_data"
    },
    {
     "name": "stdout",
     "output_type": "stream",
     "text": [
      "Solving wavenumber in determinant for shape = horn, p = 0.001, q = 0.007, Young's = 140000000.0\n"
     ]
    },
    {
     "data": {
      "application/vnd.jupyter.widget-view+json": {
       "model_id": "1681e60ce24b4ff789a572b9e23dc700",
       "version_major": 2,
       "version_minor": 0
      },
      "text/plain": [
       "Solving for all frequencies:   0%|          | 0/3 [00:00<?, ?it/s]"
      ]
     },
     "metadata": {},
     "output_type": "display_data"
    },
    {
     "data": {
      "application/vnd.jupyter.widget-view+json": {
       "model_id": "",
       "version_major": 2,
       "version_minor": 0
      },
      "text/plain": [
       "  ... working at frequency = 10.0 Hz:   0%|          | 0/50 [00:00<?, ?it/s]"
      ]
     },
     "metadata": {},
     "output_type": "display_data"
    },
    {
     "data": {
      "application/vnd.jupyter.widget-view+json": {
       "model_id": "",
       "version_major": 2,
       "version_minor": 0
      },
      "text/plain": [
       "  ... working at frequency = 35.0 Hz:   0%|          | 0/50 [00:00<?, ?it/s]"
      ]
     },
     "metadata": {},
     "output_type": "display_data"
    },
    {
     "data": {
      "application/vnd.jupyter.widget-view+json": {
       "model_id": "cb3adb69625f4a2d9086b2467f282d8e",
       "version_major": 2,
       "version_minor": 0
      },
      "text/plain": [
       "  ... working at frequency = 60.0 Hz:   0%|          | 0/50 [00:00<?, ?it/s]"
      ]
     },
     "metadata": {},
     "output_type": "display_data"
    },
    {
     "name": "stdout",
     "output_type": "stream",
     "text": [
      "\n",
      "\n",
      "self.frequency_array.shape[0] = 3 is same as self.wavenumer_array.shape[0] = 3\n",
      "Save file to /Users/chenghung/python_temp/test_20241005_02.xlsx\n"
     ]
    }
   ],
   "source": [
    "horn_1_7_vol_v1_01 = anechoic_sound_absorption(determinant, frequency_array,\n",
    "                              fp = '/Users/chenghung/python_temp/', \n",
    "                              fn = 'test_20241005_02.xlsx', \n",
    "                              material='rubber', shape='horn', \n",
    "                              p=1e-3, q=7e-3, la=0.06, lh=40e-3, cell_radius=15e-3, \n",
    "                              theta=0.5, phi=3e-3, length_unit='m',\n",
    "                              num_segments=50, layer_density=1100, air_density=1.21, \n",
    "                              Young_modulus=0.14e9, Poisson_ratio=0.49, loss_factor=0.23, \n",
    "                              medium_density=998, sound_speed_medium=1483, \n",
    "                              use_volume=True)"
   ]
  },
  {
   "cell_type": "code",
   "execution_count": null,
   "metadata": {},
   "outputs": [],
   "source": []
  },
  {
   "cell_type": "code",
   "execution_count": null,
   "metadata": {},
   "outputs": [],
   "source": []
  },
  {
   "cell_type": "code",
   "execution_count": null,
   "metadata": {},
   "outputs": [],
   "source": [
    "frequency_array = np.arange(10, 10052, 25)\n",
    "sin_3_4_05_vol_v1_01 = anechoic_sound_absorption(determinant, frequency_array,\n",
    "                              fp = '/Users/chenghunglin/Documents/sound_absorption_test/', \n",
    "                              fn = 'sin_3_4_05_vol_v1_01.xlsx', \n",
    "                              material='rubber', shape='sin', \n",
    "                              p=3e-3, q=4e-3, lh=40e-3, cell_radius=15e-3, \n",
    "                              theta=0.5, phi=3e-3, length_unit='m',\n",
    "                              num_segments=50, layer_density=1100, air_density=1.21, \n",
    "                              Young_modulus=0.14e9, Poisson_ratio=0.49, loss_factor=0.23, \n",
    "                              medium_density=998, sound_speed_medium=1483, \n",
    "                              use_volume=True)"
   ]
  },
  {
   "cell_type": "code",
   "execution_count": null,
   "metadata": {},
   "outputs": [],
   "source": [
    "frequency_array = np.arange(10, 10052, 25)\n",
    "sin_3_4_05_vol_v1_02 = anechoic_sound_absorption(determinant, frequency_array,\n",
    "                              fp = '/Users/chenghunglin/Documents/sound_absorption_test/', \n",
    "                              fn = 'sin_3_4_05_vol_v1_02.xlsx', \n",
    "                              material='rubber', shape='sin', \n",
    "                              p=3e-3, q=4e-3, lh=40e-3, cell_radius=15e-3, \n",
    "                              theta=0.5, phi=3e-3, length_unit='m',\n",
    "                              num_segments=100, layer_density=1100, air_density=1.21, \n",
    "                              Young_modulus=0.14e9, Poisson_ratio=0.49, loss_factor=0.23, \n",
    "                              medium_density=998, sound_speed_medium=1483, \n",
    "                              use_volume=True)"
   ]
  },
  {
   "cell_type": "code",
   "execution_count": null,
   "metadata": {},
   "outputs": [],
   "source": [
    "frequency_array = np.arange(10, 10052, 50)\n",
    "sin_3_4_05_vol_v1_03 = anechoic_sound_absorption(determinant, frequency_array,\n",
    "                              fp = '/Users/chenghunglin/Documents/sound_absorption_test/', \n",
    "                              fn = 'sin_3_4_05_vol_v1_03.xlsx', \n",
    "                              material='rubber', shape='sin', \n",
    "                              p=3e-3, q=4e-3, lh=40e-3, cell_radius=15e-3, \n",
    "                              theta=0.5, phi=3e-3, length_unit='m',\n",
    "                              num_segments=50, layer_density=1100, air_density=1.21, \n",
    "                              Young_modulus=0.14e9, Poisson_ratio=0.49, loss_factor=0.23, \n",
    "                              medium_density=998, sound_speed_medium=1483, \n",
    "                              use_volume=True)"
   ]
  },
  {
   "cell_type": "code",
   "execution_count": null,
   "metadata": {},
   "outputs": [],
   "source": [
    "frequency_array = np.arange(10, 10052, 50)\n",
    "sin_3_4_05_vol_v1_04 = anechoic_sound_absorption(determinant, frequency_array,\n",
    "                              fp = '/Users/chenghunglin/Documents/sound_absorption_test/', \n",
    "                              fn = 'sin_3_4_05_vol_v1_04.xlsx', \n",
    "                              material='rubber', shape='sin', \n",
    "                              p=3e-3, q=4e-3, lh=40e-3, cell_radius=15e-3, \n",
    "                              theta=0.5, phi=3e-3, length_unit='m',\n",
    "                              num_segments=100, layer_density=1100, air_density=1.21, \n",
    "                              Young_modulus=0.14e9, Poisson_ratio=0.49, loss_factor=0.23, \n",
    "                              medium_density=998, sound_speed_medium=1483, \n",
    "                              use_volume=True)"
   ]
  },
  {
   "cell_type": "code",
   "execution_count": null,
   "metadata": {},
   "outputs": [],
   "source": [
    "frequency_array = np.arange(10, 10052, 100)\n",
    "sin_3_4_05_vol_v1_05 = anechoic_sound_absorption(determinant, frequency_array,\n",
    "                              fp = '/Users/chenghunglin/Documents/sound_absorption_test/', \n",
    "                              fn = 'sin_3_4_05_vol_v1_05.xlsx', \n",
    "                              material='rubber', shape='sin', \n",
    "                              p=3e-3, q=4e-3, lh=40e-3, cell_radius=15e-3, \n",
    "                              theta=0.5, phi=3e-3, length_unit='m',\n",
    "                              num_segments=50, layer_density=1100, air_density=1.21, \n",
    "                              Young_modulus=0.14e9, Poisson_ratio=0.49, loss_factor=0.23, \n",
    "                              medium_density=998, sound_speed_medium=1483, \n",
    "                              use_volume=True)"
   ]
  },
  {
   "cell_type": "code",
   "execution_count": null,
   "metadata": {},
   "outputs": [],
   "source": [
    "frequency_array = np.arange(10, 10052, 100)\n",
    "sin_3_4_05_vol_v1_06 = anechoic_sound_absorption(determinant, frequency_array,\n",
    "                              fp = '/Users/chenghunglin/Documents/sound_absorption_test/', \n",
    "                              fn = 'sin_3_4_05_vol_v1_06.xlsx', \n",
    "                              material='rubber', shape='sin', \n",
    "                              p=3e-3, q=4e-3, lh=40e-3, cell_radius=15e-3, \n",
    "                              theta=0.5, phi=3e-3, length_unit='m',\n",
    "                              num_segments=100, layer_density=1100, air_density=1.21, \n",
    "                              Young_modulus=0.14e9, Poisson_ratio=0.49, loss_factor=0.23, \n",
    "                              medium_density=998, sound_speed_medium=1483, \n",
    "                              use_volume=True)"
   ]
  },
  {
   "cell_type": "code",
   "execution_count": null,
   "metadata": {},
   "outputs": [],
   "source": []
  },
  {
   "cell_type": "code",
   "execution_count": null,
   "metadata": {},
   "outputs": [],
   "source": [
    "frequency_array = np.arange(10, 10052, 100)\n",
    "cone_2_4_rad_v1 = anechoic_sound_absorption(determinant, frequency_array,\n",
    "                              fp = '/Users/chenghunglin/Documents/sound_absorption_test/', \n",
    "                              fn = 'cone_2_4_rad_v1.xlsx', \n",
    "                              material='rubber', shape='cone', \n",
    "                              p=2e-3, q=4e-3, lh=40e-3, cell_radius=15e-3, \n",
    "                              theta=0.5, phi=3e-3, length_unit='m',\n",
    "                              num_segments=100, layer_density=1100, air_density=1.21, \n",
    "                              Young_modulus=0.14e9, Poisson_ratio=0.49, loss_factor=0.23, \n",
    "                              medium_density=998, sound_speed_medium=1483, \n",
    "                              use_volume=False)"
   ]
  },
  {
   "cell_type": "code",
   "execution_count": null,
   "metadata": {},
   "outputs": [],
   "source": [
    "frequency_array = np.arange(10, 10052, 100)\n",
    "cone_2_4_vol_v1 = anechoic_sound_absorption(determinant, frequency_array,\n",
    "                              fp = '/Users/chenghunglin/Documents/sound_absorption_test/', \n",
    "                              fn = 'cone_2_4_vol_v1.xlsx', \n",
    "                              material='rubber', shape='cone', \n",
    "                              p=2e-3, q=4e-3, lh=40e-3, cell_radius=15e-3, \n",
    "                              theta=0.5, phi=3e-3, length_unit='m',\n",
    "                              num_segments=100, layer_density=1100, air_density=1.21, \n",
    "                              Young_modulus=0.14e9, Poisson_ratio=0.49, loss_factor=0.23, \n",
    "                              medium_density=998, sound_speed_medium=1483, \n",
    "                              use_volume=True)"
   ]
  },
  {
   "cell_type": "code",
   "execution_count": null,
   "metadata": {},
   "outputs": [],
   "source": [
    "frequency_array = np.arange(10, 10052, 100)\n",
    "cone_3_3_rad_v1 = anechoic_sound_absorption(determinant, frequency_array,\n",
    "                              fp = '/Users/chenghunglin/Documents/sound_absorption_test/', \n",
    "                              fn = 'cone_3_3_rad_v1.xlsx', \n",
    "                              material='rubber', shape='cone', \n",
    "                              p=3e-3, q=3e-3, lh=40e-3, cell_radius=15e-3, \n",
    "                              theta=0.5, phi=3e-3, length_unit='m',\n",
    "                              num_segments=100, layer_density=1100, air_density=1.21, \n",
    "                              Young_modulus=0.14e9, Poisson_ratio=0.49, loss_factor=0.23, \n",
    "                              medium_density=998, sound_speed_medium=1483, \n",
    "                              use_volume=False)"
   ]
  },
  {
   "cell_type": "code",
   "execution_count": null,
   "metadata": {},
   "outputs": [],
   "source": [
    "frequency_array = np.arange(10, 10052, 100)\n",
    "cone_3_3_vol_v1 = anechoic_sound_absorption(determinant, frequency_array,\n",
    "                              fp = '/Users/chenghunglin/Documents/sound_absorption_test/', \n",
    "                              fn = 'cone_3_3_vol_v1.xlsx', \n",
    "                              material='rubber', shape='cone', \n",
    "                              p=3e-3, q=3e-3, lh=40e-3, cell_radius=15e-3, \n",
    "                              theta=0.5, phi=3e-3, length_unit='m',\n",
    "                              num_segments=100, layer_density=1100, air_density=1.21, \n",
    "                              Young_modulus=0.14e9, Poisson_ratio=0.49, loss_factor=0.23, \n",
    "                              medium_density=998, sound_speed_medium=1483, \n",
    "                              use_volume=True)"
   ]
  },
  {
   "cell_type": "markdown",
   "metadata": {},
   "source": [
    "### Example 01-1: compare using effective radius"
   ]
  },
  {
   "cell_type": "code",
   "execution_count": null,
   "metadata": {},
   "outputs": [],
   "source": [
    "sin_3_4_05_rad = anechoic_sound_absorption(determinant, frequency_array,\n",
    "                              fp = '/Users/chenghunglin/Documents/', \n",
    "                              fn = 'sin_3_4_05_rad.xlsx', \n",
    "                              material='rubber', shape='sin', \n",
    "                              p=3e-3, q=4e-3, lh=40e-3, cell_radius=15e-3, \n",
    "                              theta=0.5, phi=3e-3, length_unit='m',\n",
    "                              num_segments=100, layer_density=1100, air_density=1.21, \n",
    "                              Young_modulus=0.14e9, Poisson_ratio=0.49, loss_factor=0.23, \n",
    "                              medium_density=998, sound_speed_medium=1483, \n",
    "                              use_volume=False)"
   ]
  },
  {
   "cell_type": "code",
   "execution_count": null,
   "metadata": {},
   "outputs": [],
   "source": [
    "plt.figure()\n",
    "plt.plot(sin_3_4_05_vol.frequency_array, sin_3_4_05_vol.absorption_frequency(), label='sin, p=3, q=4, fr100, seg100, vol')\n",
    "plt.plot(sin_3_4_05_rad.frequency_array, sin_3_4_05_rad.absorption_frequency(), label='sin, p=3, q=4, fr100, seg100, rad')\n",
    "# plt.plot(horn_1_11.frequency_array, horn_1_11.absorption_frequency(), label='horn, p=1, q=11, volume')\n",
    "plt.legend()"
   ]
  },
  {
   "cell_type": "code",
   "execution_count": null,
   "metadata": {},
   "outputs": [],
   "source": []
  },
  {
   "cell_type": "markdown",
   "metadata": {},
   "source": [
    "### Example 01-2: compare finer frequency & segment steps"
   ]
  },
  {
   "cell_type": "code",
   "execution_count": 14,
   "metadata": {},
   "outputs": [],
   "source": [
    "# frequency_array = np.arange(2, 10052, 50)"
   ]
  },
  {
   "cell_type": "code",
   "execution_count": 15,
   "metadata": {},
   "outputs": [],
   "source": [
    "# sin_3_4_05_vol_2 = anechoic_sound_absorption(determinant, frequency_array,\n",
    "#                               fp = '/Users/chenghunglin/Documents/', \n",
    "#                               fn = 'sin_3_4_05_vol_2.xlsx', \n",
    "#                               material='rubber', shape='sin', \n",
    "#                               p=3e-3, q=4e-3, lh=40e-3, cell_radius=15e-3, \n",
    "#                               theta=0.5, phi=3e-3, length_unit='m',\n",
    "#                               num_segments=200, layer_density=1100, air_density=1.21, \n",
    "#                               Young_modulus=0.14e9, Poisson_ratio=0.49, loss_factor=0.23, \n",
    "#                               medium_density=998, sound_speed_medium=1483, \n",
    "#                               use_volume=True)"
   ]
  },
  {
   "cell_type": "code",
   "execution_count": null,
   "metadata": {},
   "outputs": [],
   "source": []
  },
  {
   "cell_type": "code",
   "execution_count": null,
   "metadata": {},
   "outputs": [],
   "source": []
  },
  {
   "cell_type": "markdown",
   "metadata": {},
   "source": [
    "### Example 02: change parameters through sound_performance() objects"
   ]
  },
  {
   "cell_type": "code",
   "execution_count": null,
   "metadata": {},
   "outputs": [],
   "source": [
    "# horn_1_11 = sound_performance(determinant, frequency_array)"
   ]
  },
  {
   "cell_type": "code",
   "execution_count": null,
   "metadata": {},
   "outputs": [],
   "source": [
    "# horn_1_11.shape = 'horn'\n",
    "# horn_1_11.p_hole = 1e-3\n",
    "# horn_1_11.q_hole = 11e-3"
   ]
  },
  {
   "cell_type": "code",
   "execution_count": null,
   "metadata": {},
   "outputs": [],
   "source": [
    "# ## Find roots of wavenumber in the equation of determinant\n",
    "# horn_1_11.wavenumer_array, horn_1_11.failed_root = horn_1_11.axial_wavenumber_array()"
   ]
  },
  {
   "cell_type": "code",
   "execution_count": null,
   "metadata": {},
   "outputs": [],
   "source": [
    "# ## Save the data\n",
    "# fp = '/Users/chenghunglin/Documents/'\n",
    "# fn = 'horn_1_11.xlsx'\n",
    "# horn_1_11.save_data(fp, fn)"
   ]
  },
  {
   "cell_type": "code",
   "execution_count": null,
   "metadata": {},
   "outputs": [],
   "source": []
  },
  {
   "cell_type": "markdown",
   "metadata": {},
   "source": []
  },
  {
   "cell_type": "code",
   "execution_count": null,
   "metadata": {},
   "outputs": [],
   "source": []
  },
  {
   "cell_type": "code",
   "execution_count": null,
   "metadata": {},
   "outputs": [],
   "source": []
  },
  {
   "cell_type": "code",
   "execution_count": null,
   "metadata": {},
   "outputs": [],
   "source": []
  }
 ],
 "metadata": {
  "anaconda-cloud": {},
  "kernelspec": {
   "display_name": "Python 3 (ipykernel)",
   "language": "python",
   "name": "python3"
  },
  "language_info": {
   "codemirror_mode": {
    "name": "ipython",
    "version": 3
   },
   "file_extension": ".py",
   "mimetype": "text/x-python",
   "name": "python",
   "nbconvert_exporter": "python",
   "pygments_lexer": "ipython3",
   "version": "3.12.2"
  }
 },
 "nbformat": 4,
 "nbformat_minor": 4
}
