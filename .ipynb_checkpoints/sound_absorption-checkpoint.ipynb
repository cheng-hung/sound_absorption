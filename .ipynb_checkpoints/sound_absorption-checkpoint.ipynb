{
 "cells": [
  {
   "cell_type": "code",
   "execution_count": 1,
   "metadata": {
    "collapsed": false,
    "jupyter": {
     "outputs_hidden": false
    }
   },
   "outputs": [],
   "source": [
    "import numpy as np\n",
    "import matplotlib.pyplot as plt\n",
    "import pandas as pd"
   ]
  },
  {
   "cell_type": "code",
   "execution_count": 2,
   "metadata": {},
   "outputs": [],
   "source": [
    "%matplotlib widget"
   ]
  },
  {
   "cell_type": "code",
   "execution_count": 3,
   "metadata": {},
   "outputs": [],
   "source": [
    "import warnings\n",
    "warnings.filterwarnings(\"ignore\", category=RuntimeWarning)\n",
    "warnings.filterwarnings(\"ignore\", category=pd.errors.PerformanceWarning)"
   ]
  },
  {
   "cell_type": "markdown",
   "metadata": {
    "tags": []
   },
   "source": [
    "### Reference: Influence of hole shape on sound absorption of underwater anechoic layers\n",
    "#### https://www.sciencedirect.com/science/article/abs/pii/S0022460X1830227X"
   ]
  },
  {
   "cell_type": "markdown",
   "metadata": {},
   "source": [
    "### Import pre-defined class and function"
   ]
  },
  {
   "cell_type": "code",
   "execution_count": 4,
   "metadata": {},
   "outputs": [],
   "source": [
    "%run -i hole_shape_sound_absorption.py"
   ]
  },
  {
   "cell_type": "markdown",
   "metadata": {},
   "source": [
    "### Define the determinant of the coefficient matrix of eq(14) in the paper"
   ]
  },
  {
   "cell_type": "code",
   "execution_count": 5,
   "metadata": {},
   "outputs": [
    {
     "data": {
      "text/latex": [
       "$\\displaystyle \\left[\\begin{matrix}- \\sqrt{- kz^{2} + \\frac{\\omega^{2}}{cl^{2}}} J_{1}\\left(b \\sqrt{- kz^{2} + \\frac{\\omega^{2}}{cl^{2}}}\\right) & - \\sqrt{- kz^{2} + \\frac{\\omega^{2}}{cl^{2}}} Y_{1}\\left(b \\sqrt{- kz^{2} + \\frac{\\omega^{2}}{cl^{2}}}\\right) & - i kz \\sqrt{- kz^{2} + \\frac{\\omega^{2}}{ct^{2}}} J_{1}\\left(b \\sqrt{- kz^{2} + \\frac{\\omega^{2}}{ct^{2}}}\\right) & - i kz \\sqrt{- kz^{2} + \\frac{\\omega^{2}}{ct^{2}}} Y_{1}\\left(b \\sqrt{- kz^{2} + \\frac{\\omega^{2}}{ct^{2}}}\\right)\\\\\\left(- 2 \\mu \\left(- kz^{2} + \\frac{\\omega^{2}}{cl^{2}}\\right) - \\frac{\\lambda \\omega^{2}}{cl^{2}}\\right) J_{0}\\left(a \\sqrt{- kz^{2} + \\frac{\\omega^{2}}{cl^{2}}}\\right) + \\frac{2 \\mu \\sqrt{- kz^{2} + \\frac{\\omega^{2}}{cl^{2}}} J_{1}\\left(a \\sqrt{- kz^{2} + \\frac{\\omega^{2}}{cl^{2}}}\\right)}{a} & \\left(- 2 \\mu \\left(- kz^{2} + \\frac{\\omega^{2}}{cl^{2}}\\right) - \\frac{\\lambda \\omega^{2}}{cl^{2}}\\right) Y_{0}\\left(a \\sqrt{- kz^{2} + \\frac{\\omega^{2}}{cl^{2}}}\\right) + \\frac{2 \\mu \\sqrt{- kz^{2} + \\frac{\\omega^{2}}{cl^{2}}} Y_{1}\\left(a \\sqrt{- kz^{2} + \\frac{\\omega^{2}}{cl^{2}}}\\right)}{a} & 2 i kz \\mu \\sqrt{- kz^{2} + \\frac{\\omega^{2}}{ct^{2}}} \\left(- \\sqrt{- kz^{2} + \\frac{\\omega^{2}}{ct^{2}}} J_{0}\\left(a \\sqrt{- kz^{2} + \\frac{\\omega^{2}}{ct^{2}}}\\right) + \\frac{J_{1}\\left(a \\sqrt{- kz^{2} + \\frac{\\omega^{2}}{ct^{2}}}\\right)}{a}\\right) & 2 i kz \\mu \\sqrt{- kz^{2} + \\frac{\\omega^{2}}{ct^{2}}} \\left(- \\sqrt{- kz^{2} + \\frac{\\omega^{2}}{ct^{2}}} Y_{0}\\left(a \\sqrt{- kz^{2} + \\frac{\\omega^{2}}{ct^{2}}}\\right) + \\frac{Y_{1}\\left(a \\sqrt{- kz^{2} + \\frac{\\omega^{2}}{ct^{2}}}\\right)}{a}\\right)\\\\- 2 i kz \\mu \\sqrt{- kz^{2} + \\frac{\\omega^{2}}{cl^{2}}} J_{1}\\left(a \\sqrt{- kz^{2} + \\frac{\\omega^{2}}{cl^{2}}}\\right) & - 2 i kz \\mu \\sqrt{- kz^{2} + \\frac{\\omega^{2}}{cl^{2}}} Y_{1}\\left(a \\sqrt{- kz^{2} + \\frac{\\omega^{2}}{cl^{2}}}\\right) & \\mu \\sqrt{- kz^{2} + \\frac{\\omega^{2}}{ct^{2}}} \\cdot \\left(2 kz^{2} - \\frac{\\omega^{2}}{ct^{2}}\\right) J_{1}\\left(a \\sqrt{- kz^{2} + \\frac{\\omega^{2}}{ct^{2}}}\\right) & \\mu \\sqrt{- kz^{2} + \\frac{\\omega^{2}}{ct^{2}}} \\cdot \\left(2 kz^{2} - \\frac{\\omega^{2}}{ct^{2}}\\right) Y_{1}\\left(a \\sqrt{- kz^{2} + \\frac{\\omega^{2}}{ct^{2}}}\\right)\\\\- 2 i kz \\mu \\sqrt{- kz^{2} + \\frac{\\omega^{2}}{cl^{2}}} J_{1}\\left(b \\sqrt{- kz^{2} + \\frac{\\omega^{2}}{cl^{2}}}\\right) & - 2 i kz \\mu \\sqrt{- kz^{2} + \\frac{\\omega^{2}}{cl^{2}}} Y_{1}\\left(b \\sqrt{- kz^{2} + \\frac{\\omega^{2}}{cl^{2}}}\\right) & \\mu \\sqrt{- kz^{2} + \\frac{\\omega^{2}}{ct^{2}}} \\cdot \\left(2 kz^{2} - \\frac{\\omega^{2}}{ct^{2}}\\right) J_{1}\\left(b \\sqrt{- kz^{2} + \\frac{\\omega^{2}}{ct^{2}}}\\right) & \\mu \\sqrt{- kz^{2} + \\frac{\\omega^{2}}{ct^{2}}} \\cdot \\left(2 kz^{2} - \\frac{\\omega^{2}}{ct^{2}}\\right) Y_{1}\\left(b \\sqrt{- kz^{2} + \\frac{\\omega^{2}}{ct^{2}}}\\right)\\end{matrix}\\right]$"
      ],
      "text/plain": [
       "Matrix([\n",
       "[                                                                                                              -sqrt(-kz**2 + omega**2/cl**2)*besselj(1, b*sqrt(-kz**2 + omega**2/cl**2)),                                                                                                               -sqrt(-kz**2 + omega**2/cl**2)*bessely(1, b*sqrt(-kz**2 + omega**2/cl**2)),                                                                                      -I*kz*sqrt(-kz**2 + omega**2/ct**2)*besselj(1, b*sqrt(-kz**2 + omega**2/ct**2)),                                                                                      -I*kz*sqrt(-kz**2 + omega**2/ct**2)*bessely(1, b*sqrt(-kz**2 + omega**2/ct**2))],\n",
       "[(-2*mu*(-kz**2 + omega**2/cl**2) - lambda*omega**2/cl**2)*besselj(0, a*sqrt(-kz**2 + omega**2/cl**2)) + 2*mu*sqrt(-kz**2 + omega**2/cl**2)*besselj(1, a*sqrt(-kz**2 + omega**2/cl**2))/a, (-2*mu*(-kz**2 + omega**2/cl**2) - lambda*omega**2/cl**2)*bessely(0, a*sqrt(-kz**2 + omega**2/cl**2)) + 2*mu*sqrt(-kz**2 + omega**2/cl**2)*bessely(1, a*sqrt(-kz**2 + omega**2/cl**2))/a, 2*I*kz*mu*sqrt(-kz**2 + omega**2/ct**2)*(-sqrt(-kz**2 + omega**2/ct**2)*besselj(0, a*sqrt(-kz**2 + omega**2/ct**2)) + besselj(1, a*sqrt(-kz**2 + omega**2/ct**2))/a), 2*I*kz*mu*sqrt(-kz**2 + omega**2/ct**2)*(-sqrt(-kz**2 + omega**2/ct**2)*bessely(0, a*sqrt(-kz**2 + omega**2/ct**2)) + bessely(1, a*sqrt(-kz**2 + omega**2/ct**2))/a)],\n",
       "[                                                                                                    -2*I*kz*mu*sqrt(-kz**2 + omega**2/cl**2)*besselj(1, a*sqrt(-kz**2 + omega**2/cl**2)),                                                                                                     -2*I*kz*mu*sqrt(-kz**2 + omega**2/cl**2)*bessely(1, a*sqrt(-kz**2 + omega**2/cl**2)),                                                              mu*sqrt(-kz**2 + omega**2/ct**2)*(2*kz**2 - omega**2/ct**2)*besselj(1, a*sqrt(-kz**2 + omega**2/ct**2)),                                                              mu*sqrt(-kz**2 + omega**2/ct**2)*(2*kz**2 - omega**2/ct**2)*bessely(1, a*sqrt(-kz**2 + omega**2/ct**2))],\n",
       "[                                                                                                    -2*I*kz*mu*sqrt(-kz**2 + omega**2/cl**2)*besselj(1, b*sqrt(-kz**2 + omega**2/cl**2)),                                                                                                     -2*I*kz*mu*sqrt(-kz**2 + omega**2/cl**2)*bessely(1, b*sqrt(-kz**2 + omega**2/cl**2)),                                                              mu*sqrt(-kz**2 + omega**2/ct**2)*(2*kz**2 - omega**2/ct**2)*besselj(1, b*sqrt(-kz**2 + omega**2/ct**2)),                                                              mu*sqrt(-kz**2 + omega**2/ct**2)*(2*kz**2 - omega**2/ct**2)*bessely(1, b*sqrt(-kz**2 + omega**2/ct**2))]])"
      ]
     },
     "execution_count": 5,
     "metadata": {},
     "output_type": "execute_result"
    }
   ],
   "source": [
    "determinant, mat = determinant_from_matrix()\n",
    "mat"
   ]
  },
  {
   "cell_type": "code",
   "execution_count": null,
   "metadata": {},
   "outputs": [],
   "source": []
  },
  {
   "cell_type": "markdown",
   "metadata": {},
   "source": [
    "### Define the frequency array by np.arange"
   ]
  },
  {
   "cell_type": "code",
   "execution_count": 6,
   "metadata": {},
   "outputs": [],
   "source": [
    "# np.arange?"
   ]
  },
  {
   "cell_type": "code",
   "execution_count": 7,
   "metadata": {},
   "outputs": [],
   "source": [
    "# frequency_array = np.arange(20, 10021, 100)\n",
    "# frequency_array"
   ]
  },
  {
   "cell_type": "markdown",
   "metadata": {
    "tags": []
   },
   "source": [
    "## Define an object of sound_performance for calculating sound absorption\n",
    "### The default values are listed as below (all in SI units)\n",
    "\n",
    "Material of anechoic layer: rubber\n",
    "\n",
    "Young's modulus of rubber (GPa): 0.14\n",
    "\n",
    "Loss factor of rubber 0.23\n",
    "\n",
    "Poisson ratio of rubber 0.49\n",
    "\n",
    "Density of rubber (kg/m3): 1100\n",
    "\n",
    "Density of air (kg/m3): 1.21\n",
    "\n",
    "Shape: cone\n",
    "\n",
    "p = 4 mm\n",
    "\n",
    "q = 8 mm\n",
    "\n",
    "lh = 40 mm\n",
    "\n",
    "cell_radius = 15 mm\n",
    "\n",
    "num_segments = 100\n",
    "\n",
    "Density of water (kg/m3): 998\n",
    "\n",
    "Sound speed of water (m/s): 1483\n",
    "\n",
    "#### https://en.wikipedia.org/wiki/Lam%C3%A9_parameters"
   ]
  },
  {
   "cell_type": "code",
   "execution_count": 8,
   "metadata": {},
   "outputs": [
    {
     "data": {
      "text/plain": [
       "(201,)"
      ]
     },
     "execution_count": 8,
     "metadata": {},
     "output_type": "execute_result"
    }
   ],
   "source": [
    "frequency_array = np.arange(2, 10052, 50)\n",
    "# frequency_array2 = np.arange(2, 10022, 20)\n",
    "frequency_array.shape"
   ]
  },
  {
   "cell_type": "markdown",
   "metadata": {},
   "source": [
    "### Example 01: define all parameters by nechoic_sound_absorption()"
   ]
  },
  {
   "cell_type": "code",
   "execution_count": 10,
   "metadata": {},
   "outputs": [
    {
     "data": {
      "application/vnd.jupyter.widget-view+json": {
       "model_id": "ebdb5081eb5d4a5997a3394bd161faf1",
       "version_major": 2,
       "version_minor": 0
      },
      "image/png": "[encoded data removed]",
      "text/html": [
       "\n",
       "            <div style=\"display: inline-block;\">\n",
       "                <div class=\"jupyter-widgets widget-label\" style=\"text-align: center;\">\n",
       "                    Figure\n",
       "                </div>\n",
       "                <img src='data:image/png;base64,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' width=640.0/>\n",
       "            </div>\n",
       "        "
      ],
      "text/plain": [
       "Canvas(toolbar=Toolbar(toolitems=[('Home', 'Reset original view', 'home', 'home'), ('Back', 'Back to previous …"
      ]
     },
     "metadata": {},
     "output_type": "display_data"
    },
    {
     "name": "stdout",
     "output_type": "stream",
     "text": [
      "Solving wavenumber in determinant for shape = cone, p = 0.006, q = 0.003, Young's = 140000000.0\n"
     ]
    },
    {
     "data": {
      "application/vnd.jupyter.widget-view+json": {
       "model_id": "b6e9e8bb75b44c6fb511c1cc07e31cc7",
       "version_major": 2,
       "version_minor": 0
      },
      "text/plain": [
       "Solving for all frequencies:   0%|          | 0/201 [00:00<?, ?it/s]"
      ]
     },
     "metadata": {},
     "output_type": "display_data"
    },
    {
     "data": {
      "application/vnd.jupyter.widget-view+json": {
       "model_id": "",
       "version_major": 2,
       "version_minor": 0
      },
      "text/plain": [
       "  ... working at frequency = 2.0 Hz:   0%|          | 0/100 [00:00<?, ?it/s]"
      ]
     },
     "metadata": {},
     "output_type": "display_data"
    },
    {
     "data": {
      "application/vnd.jupyter.widget-view+json": {
       "model_id": "",
       "version_major": 2,
       "version_minor": 0
      },
      "text/plain": [
       "  ... working at frequency = 52.0 Hz:   0%|          | 0/100 [00:00<?, ?it/s]"
      ]
     },
     "metadata": {},
     "output_type": "display_data"
    },
    {
     "data": {
      "application/vnd.jupyter.widget-view+json": {
       "model_id": "",
       "version_major": 2,
       "version_minor": 0
      },
      "text/plain": [
       "  ... working at frequency = 102.0 Hz:   0%|          | 0/100 [00:00<?, ?it/s]"
      ]
     },
     "metadata": {},
     "output_type": "display_data"
    },
    {
     "data": {
      "application/vnd.jupyter.widget-view+json": {
       "model_id": "",
       "version_major": 2,
       "version_minor": 0
      },
      "text/plain": [
       "  ... working at frequency = 152.0 Hz:   0%|          | 0/100 [00:00<?, ?it/s]"
      ]
     },
     "metadata": {},
     "output_type": "display_data"
    },
    {
     "data": {
      "application/vnd.jupyter.widget-view+json": {
       "model_id": "",
       "version_major": 2,
       "version_minor": 0
      },
      "text/plain": [
       "  ... working at frequency = 202.0 Hz:   0%|          | 0/100 [00:00<?, ?it/s]"
      ]
     },
     "metadata": {},
     "output_type": "display_data"
    },
    {
     "data": {
      "application/vnd.jupyter.widget-view+json": {
       "model_id": "",
       "version_major": 2,
       "version_minor": 0
      },
      "text/plain": [
       "  ... working at frequency = 252.0 Hz:   0%|          | 0/100 [00:00<?, ?it/s]"
      ]
     },
     "metadata": {},
     "output_type": "display_data"
    },
    {
     "data": {
      "application/vnd.jupyter.widget-view+json": {
       "model_id": "",
       "version_major": 2,
       "version_minor": 0
      },
      "text/plain": [
       "  ... working at frequency = 302.0 Hz:   0%|          | 0/100 [00:00<?, ?it/s]"
      ]
     },
     "metadata": {},
     "output_type": "display_data"
    },
    {
     "data": {
      "application/vnd.jupyter.widget-view+json": {
       "model_id": "",
       "version_major": 2,
       "version_minor": 0
      },
      "text/plain": [
       "  ... working at frequency = 352.0 Hz:   0%|          | 0/100 [00:00<?, ?it/s]"
      ]
     },
     "metadata": {},
     "output_type": "display_data"
    },
    {
     "data": {
      "application/vnd.jupyter.widget-view+json": {
       "model_id": "",
       "version_major": 2,
       "version_minor": 0
      },
      "text/plain": [
       "  ... working at frequency = 402.0 Hz:   0%|          | 0/100 [00:00<?, ?it/s]"
      ]
     },
     "metadata": {},
     "output_type": "display_data"
    },
    {
     "data": {
      "application/vnd.jupyter.widget-view+json": {
       "model_id": "",
       "version_major": 2,
       "version_minor": 0
      },
      "text/plain": [
       "  ... working at frequency = 452.0 Hz:   0%|          | 0/100 [00:00<?, ?it/s]"
      ]
     },
     "metadata": {},
     "output_type": "display_data"
    },
    {
     "data": {
      "application/vnd.jupyter.widget-view+json": {
       "model_id": "",
       "version_major": 2,
       "version_minor": 0
      },
      "text/plain": [
       "  ... working at frequency = 502.0 Hz:   0%|          | 0/100 [00:00<?, ?it/s]"
      ]
     },
     "metadata": {},
     "output_type": "display_data"
    },
    {
     "data": {
      "application/vnd.jupyter.widget-view+json": {
       "model_id": "",
       "version_major": 2,
       "version_minor": 0
      },
      "text/plain": [
       "  ... working at frequency = 552.0 Hz:   0%|          | 0/100 [00:00<?, ?it/s]"
      ]
     },
     "metadata": {},
     "output_type": "display_data"
    },
    {
     "data": {
      "application/vnd.jupyter.widget-view+json": {
       "model_id": "",
       "version_major": 2,
       "version_minor": 0
      },
      "text/plain": [
       "  ... working at frequency = 602.0 Hz:   0%|          | 0/100 [00:00<?, ?it/s]"
      ]
     },
     "metadata": {},
     "output_type": "display_data"
    },
    {
     "data": {
      "application/vnd.jupyter.widget-view+json": {
       "model_id": "",
       "version_major": 2,
       "version_minor": 0
      },
      "text/plain": [
       "  ... working at frequency = 652.0 Hz:   0%|          | 0/100 [00:00<?, ?it/s]"
      ]
     },
     "metadata": {},
     "output_type": "display_data"
    },
    {
     "data": {
      "application/vnd.jupyter.widget-view+json": {
       "model_id": "",
       "version_major": 2,
       "version_minor": 0
      },
      "text/plain": [
       "  ... working at frequency = 702.0 Hz:   0%|          | 0/100 [00:00<?, ?it/s]"
      ]
     },
     "metadata": {},
     "output_type": "display_data"
    },
    {
     "data": {
      "application/vnd.jupyter.widget-view+json": {
       "model_id": "",
       "version_major": 2,
       "version_minor": 0
      },
      "text/plain": [
       "  ... working at frequency = 752.0 Hz:   0%|          | 0/100 [00:00<?, ?it/s]"
      ]
     },
     "metadata": {},
     "output_type": "display_data"
    },
    {
     "data": {
      "application/vnd.jupyter.widget-view+json": {
       "model_id": "",
       "version_major": 2,
       "version_minor": 0
      },
      "text/plain": [
       "  ... working at frequency = 802.0 Hz:   0%|          | 0/100 [00:00<?, ?it/s]"
      ]
     },
     "metadata": {},
     "output_type": "display_data"
    },
    {
     "data": {
      "application/vnd.jupyter.widget-view+json": {
       "model_id": "",
       "version_major": 2,
       "version_minor": 0
      },
      "text/plain": [
       "  ... working at frequency = 852.0 Hz:   0%|          | 0/100 [00:00<?, ?it/s]"
      ]
     },
     "metadata": {},
     "output_type": "display_data"
    },
    {
     "data": {
      "application/vnd.jupyter.widget-view+json": {
       "model_id": "",
       "version_major": 2,
       "version_minor": 0
      },
      "text/plain": [
       "  ... working at frequency = 902.0 Hz:   0%|          | 0/100 [00:00<?, ?it/s]"
      ]
     },
     "metadata": {},
     "output_type": "display_data"
    },
    {
     "data": {
      "application/vnd.jupyter.widget-view+json": {
       "model_id": "",
       "version_major": 2,
       "version_minor": 0
      },
      "text/plain": [
       "  ... working at frequency = 952.0 Hz:   0%|          | 0/100 [00:00<?, ?it/s]"
      ]
     },
     "metadata": {},
     "output_type": "display_data"
    },
    {
     "data": {
      "application/vnd.jupyter.widget-view+json": {
       "model_id": "",
       "version_major": 2,
       "version_minor": 0
      },
      "text/plain": [
       "  ... working at frequency = 1002.0 Hz:   0%|          | 0/100 [00:00<?, ?it/s]"
      ]
     },
     "metadata": {},
     "output_type": "display_data"
    },
    {
     "data": {
      "application/vnd.jupyter.widget-view+json": {
       "model_id": "",
       "version_major": 2,
       "version_minor": 0
      },
      "text/plain": [
       "  ... working at frequency = 1052.0 Hz:   0%|          | 0/100 [00:00<?, ?it/s]"
      ]
     },
     "metadata": {},
     "output_type": "display_data"
    },
    {
     "data": {
      "application/vnd.jupyter.widget-view+json": {
       "model_id": "",
       "version_major": 2,
       "version_minor": 0
      },
      "text/plain": [
       "  ... working at frequency = 1102.0 Hz:   0%|          | 0/100 [00:00<?, ?it/s]"
      ]
     },
     "metadata": {},
     "output_type": "display_data"
    },
    {
     "data": {
      "application/vnd.jupyter.widget-view+json": {
       "model_id": "",
       "version_major": 2,
       "version_minor": 0
      },
      "text/plain": [
       "  ... working at frequency = 1152.0 Hz:   0%|          | 0/100 [00:00<?, ?it/s]"
      ]
     },
     "metadata": {},
     "output_type": "display_data"
    },
    {
     "data": {
      "application/vnd.jupyter.widget-view+json": {
       "model_id": "",
       "version_major": 2,
       "version_minor": 0
      },
      "text/plain": [
       "  ... working at frequency = 1202.0 Hz:   0%|          | 0/100 [00:00<?, ?it/s]"
      ]
     },
     "metadata": {},
     "output_type": "display_data"
    },
    {
     "data": {
      "application/vnd.jupyter.widget-view+json": {
       "model_id": "",
       "version_major": 2,
       "version_minor": 0
      },
      "text/plain": [
       "  ... working at frequency = 1252.0 Hz:   0%|          | 0/100 [00:00<?, ?it/s]"
      ]
     },
     "metadata": {},
     "output_type": "display_data"
    },
    {
     "data": {
      "application/vnd.jupyter.widget-view+json": {
       "model_id": "",
       "version_major": 2,
       "version_minor": 0
      },
      "text/plain": [
       "  ... working at frequency = 1302.0 Hz:   0%|          | 0/100 [00:00<?, ?it/s]"
      ]
     },
     "metadata": {},
     "output_type": "display_data"
    },
    {
     "data": {
      "application/vnd.jupyter.widget-view+json": {
       "model_id": "",
       "version_major": 2,
       "version_minor": 0
      },
      "text/plain": [
       "  ... working at frequency = 1352.0 Hz:   0%|          | 0/100 [00:00<?, ?it/s]"
      ]
     },
     "metadata": {},
     "output_type": "display_data"
    },
    {
     "data": {
      "application/vnd.jupyter.widget-view+json": {
       "model_id": "",
       "version_major": 2,
       "version_minor": 0
      },
      "text/plain": [
       "  ... working at frequency = 1402.0 Hz:   0%|          | 0/100 [00:00<?, ?it/s]"
      ]
     },
     "metadata": {},
     "output_type": "display_data"
    },
    {
     "data": {
      "application/vnd.jupyter.widget-view+json": {
       "model_id": "",
       "version_major": 2,
       "version_minor": 0
      },
      "text/plain": [
       "  ... working at frequency = 1452.0 Hz:   0%|          | 0/100 [00:00<?, ?it/s]"
      ]
     },
     "metadata": {},
     "output_type": "display_data"
    },
    {
     "data": {
      "application/vnd.jupyter.widget-view+json": {
       "model_id": "",
       "version_major": 2,
       "version_minor": 0
      },
      "text/plain": [
       "  ... working at frequency = 1502.0 Hz:   0%|          | 0/100 [00:00<?, ?it/s]"
      ]
     },
     "metadata": {},
     "output_type": "display_data"
    },
    {
     "data": {
      "application/vnd.jupyter.widget-view+json": {
       "model_id": "",
       "version_major": 2,
       "version_minor": 0
      },
      "text/plain": [
       "  ... working at frequency = 1552.0 Hz:   0%|          | 0/100 [00:00<?, ?it/s]"
      ]
     },
     "metadata": {},
     "output_type": "display_data"
    },
    {
     "data": {
      "application/vnd.jupyter.widget-view+json": {
       "model_id": "",
       "version_major": 2,
       "version_minor": 0
      },
      "text/plain": [
       "  ... working at frequency = 1602.0 Hz:   0%|          | 0/100 [00:00<?, ?it/s]"
      ]
     },
     "metadata": {},
     "output_type": "display_data"
    },
    {
     "data": {
      "application/vnd.jupyter.widget-view+json": {
       "model_id": "",
       "version_major": 2,
       "version_minor": 0
      },
      "text/plain": [
       "  ... working at frequency = 1652.0 Hz:   0%|          | 0/100 [00:00<?, ?it/s]"
      ]
     },
     "metadata": {},
     "output_type": "display_data"
    },
    {
     "data": {
      "application/vnd.jupyter.widget-view+json": {
       "model_id": "",
       "version_major": 2,
       "version_minor": 0
      },
      "text/plain": [
       "  ... working at frequency = 1702.0 Hz:   0%|          | 0/100 [00:00<?, ?it/s]"
      ]
     },
     "metadata": {},
     "output_type": "display_data"
    },
    {
     "data": {
      "application/vnd.jupyter.widget-view+json": {
       "model_id": "",
       "version_major": 2,
       "version_minor": 0
      },
      "text/plain": [
       "  ... working at frequency = 1752.0 Hz:   0%|          | 0/100 [00:00<?, ?it/s]"
      ]
     },
     "metadata": {},
     "output_type": "display_data"
    },
    {
     "data": {
      "application/vnd.jupyter.widget-view+json": {
       "model_id": "",
       "version_major": 2,
       "version_minor": 0
      },
      "text/plain": [
       "  ... working at frequency = 1802.0 Hz:   0%|          | 0/100 [00:00<?, ?it/s]"
      ]
     },
     "metadata": {},
     "output_type": "display_data"
    },
    {
     "data": {
      "application/vnd.jupyter.widget-view+json": {
       "model_id": "",
       "version_major": 2,
       "version_minor": 0
      },
      "text/plain": [
       "  ... working at frequency = 1852.0 Hz:   0%|          | 0/100 [00:00<?, ?it/s]"
      ]
     },
     "metadata": {},
     "output_type": "display_data"
    },
    {
     "data": {
      "application/vnd.jupyter.widget-view+json": {
       "model_id": "",
       "version_major": 2,
       "version_minor": 0
      },
      "text/plain": [
       "  ... working at frequency = 1902.0 Hz:   0%|          | 0/100 [00:00<?, ?it/s]"
      ]
     },
     "metadata": {},
     "output_type": "display_data"
    },
    {
     "data": {
      "application/vnd.jupyter.widget-view+json": {
       "model_id": "",
       "version_major": 2,
       "version_minor": 0
      },
      "text/plain": [
       "  ... working at frequency = 1952.0 Hz:   0%|          | 0/100 [00:00<?, ?it/s]"
      ]
     },
     "metadata": {},
     "output_type": "display_data"
    },
    {
     "data": {
      "application/vnd.jupyter.widget-view+json": {
       "model_id": "",
       "version_major": 2,
       "version_minor": 0
      },
      "text/plain": [
       "  ... working at frequency = 2002.0 Hz:   0%|          | 0/100 [00:00<?, ?it/s]"
      ]
     },
     "metadata": {},
     "output_type": "display_data"
    },
    {
     "data": {
      "application/vnd.jupyter.widget-view+json": {
       "model_id": "",
       "version_major": 2,
       "version_minor": 0
      },
      "text/plain": [
       "  ... working at frequency = 2052.0 Hz:   0%|          | 0/100 [00:00<?, ?it/s]"
      ]
     },
     "metadata": {},
     "output_type": "display_data"
    },
    {
     "data": {
      "application/vnd.jupyter.widget-view+json": {
       "model_id": "",
       "version_major": 2,
       "version_minor": 0
      },
      "text/plain": [
       "  ... working at frequency = 2102.0 Hz:   0%|          | 0/100 [00:00<?, ?it/s]"
      ]
     },
     "metadata": {},
     "output_type": "display_data"
    },
    {
     "data": {
      "application/vnd.jupyter.widget-view+json": {
       "model_id": "",
       "version_major": 2,
       "version_minor": 0
      },
      "text/plain": [
       "  ... working at frequency = 2152.0 Hz:   0%|          | 0/100 [00:00<?, ?it/s]"
      ]
     },
     "metadata": {},
     "output_type": "display_data"
    },
    {
     "data": {
      "application/vnd.jupyter.widget-view+json": {
       "model_id": "",
       "version_major": 2,
       "version_minor": 0
      },
      "text/plain": [
       "  ... working at frequency = 2202.0 Hz:   0%|          | 0/100 [00:00<?, ?it/s]"
      ]
     },
     "metadata": {},
     "output_type": "display_data"
    },
    {
     "data": {
      "application/vnd.jupyter.widget-view+json": {
       "model_id": "",
       "version_major": 2,
       "version_minor": 0
      },
      "text/plain": [
       "  ... working at frequency = 2252.0 Hz:   0%|          | 0/100 [00:00<?, ?it/s]"
      ]
     },
     "metadata": {},
     "output_type": "display_data"
    },
    {
     "data": {
      "application/vnd.jupyter.widget-view+json": {
       "model_id": "",
       "version_major": 2,
       "version_minor": 0
      },
      "text/plain": [
       "  ... working at frequency = 2302.0 Hz:   0%|          | 0/100 [00:00<?, ?it/s]"
      ]
     },
     "metadata": {},
     "output_type": "display_data"
    },
    {
     "data": {
      "application/vnd.jupyter.widget-view+json": {
       "model_id": "",
       "version_major": 2,
       "version_minor": 0
      },
      "text/plain": [
       "  ... working at frequency = 2352.0 Hz:   0%|          | 0/100 [00:00<?, ?it/s]"
      ]
     },
     "metadata": {},
     "output_type": "display_data"
    },
    {
     "data": {
      "application/vnd.jupyter.widget-view+json": {
       "model_id": "",
       "version_major": 2,
       "version_minor": 0
      },
      "text/plain": [
       "  ... working at frequency = 2402.0 Hz:   0%|          | 0/100 [00:00<?, ?it/s]"
      ]
     },
     "metadata": {},
     "output_type": "display_data"
    },
    {
     "data": {
      "application/vnd.jupyter.widget-view+json": {
       "model_id": "",
       "version_major": 2,
       "version_minor": 0
      },
      "text/plain": [
       "  ... working at frequency = 2452.0 Hz:   0%|          | 0/100 [00:00<?, ?it/s]"
      ]
     },
     "metadata": {},
     "output_type": "display_data"
    },
    {
     "data": {
      "application/vnd.jupyter.widget-view+json": {
       "model_id": "",
       "version_major": 2,
       "version_minor": 0
      },
      "text/plain": [
       "  ... working at frequency = 2502.0 Hz:   0%|          | 0/100 [00:00<?, ?it/s]"
      ]
     },
     "metadata": {},
     "output_type": "display_data"
    },
    {
     "data": {
      "application/vnd.jupyter.widget-view+json": {
       "model_id": "",
       "version_major": 2,
       "version_minor": 0
      },
      "text/plain": [
       "  ... working at frequency = 2552.0 Hz:   0%|          | 0/100 [00:00<?, ?it/s]"
      ]
     },
     "metadata": {},
     "output_type": "display_data"
    },
    {
     "data": {
      "application/vnd.jupyter.widget-view+json": {
       "model_id": "",
       "version_major": 2,
       "version_minor": 0
      },
      "text/plain": [
       "  ... working at frequency = 2602.0 Hz:   0%|          | 0/100 [00:00<?, ?it/s]"
      ]
     },
     "metadata": {},
     "output_type": "display_data"
    },
    {
     "data": {
      "application/vnd.jupyter.widget-view+json": {
       "model_id": "",
       "version_major": 2,
       "version_minor": 0
      },
      "text/plain": [
       "  ... working at frequency = 2652.0 Hz:   0%|          | 0/100 [00:00<?, ?it/s]"
      ]
     },
     "metadata": {},
     "output_type": "display_data"
    },
    {
     "data": {
      "application/vnd.jupyter.widget-view+json": {
       "model_id": "",
       "version_major": 2,
       "version_minor": 0
      },
      "text/plain": [
       "  ... working at frequency = 2702.0 Hz:   0%|          | 0/100 [00:00<?, ?it/s]"
      ]
     },
     "metadata": {},
     "output_type": "display_data"
    },
    {
     "data": {
      "application/vnd.jupyter.widget-view+json": {
       "model_id": "",
       "version_major": 2,
       "version_minor": 0
      },
      "text/plain": [
       "  ... working at frequency = 2752.0 Hz:   0%|          | 0/100 [00:00<?, ?it/s]"
      ]
     },
     "metadata": {},
     "output_type": "display_data"
    },
    {
     "data": {
      "application/vnd.jupyter.widget-view+json": {
       "model_id": "",
       "version_major": 2,
       "version_minor": 0
      },
      "text/plain": [
       "  ... working at frequency = 2802.0 Hz:   0%|          | 0/100 [00:00<?, ?it/s]"
      ]
     },
     "metadata": {},
     "output_type": "display_data"
    },
    {
     "data": {
      "application/vnd.jupyter.widget-view+json": {
       "model_id": "",
       "version_major": 2,
       "version_minor": 0
      },
      "text/plain": [
       "  ... working at frequency = 2852.0 Hz:   0%|          | 0/100 [00:00<?, ?it/s]"
      ]
     },
     "metadata": {},
     "output_type": "display_data"
    },
    {
     "data": {
      "application/vnd.jupyter.widget-view+json": {
       "model_id": "",
       "version_major": 2,
       "version_minor": 0
      },
      "text/plain": [
       "  ... working at frequency = 2902.0 Hz:   0%|          | 0/100 [00:00<?, ?it/s]"
      ]
     },
     "metadata": {},
     "output_type": "display_data"
    },
    {
     "data": {
      "application/vnd.jupyter.widget-view+json": {
       "model_id": "",
       "version_major": 2,
       "version_minor": 0
      },
      "text/plain": [
       "  ... working at frequency = 2952.0 Hz:   0%|          | 0/100 [00:00<?, ?it/s]"
      ]
     },
     "metadata": {},
     "output_type": "display_data"
    },
    {
     "data": {
      "application/vnd.jupyter.widget-view+json": {
       "model_id": "",
       "version_major": 2,
       "version_minor": 0
      },
      "text/plain": [
       "  ... working at frequency = 3002.0 Hz:   0%|          | 0/100 [00:00<?, ?it/s]"
      ]
     },
     "metadata": {},
     "output_type": "display_data"
    },
    {
     "data": {
      "application/vnd.jupyter.widget-view+json": {
       "model_id": "",
       "version_major": 2,
       "version_minor": 0
      },
      "text/plain": [
       "  ... working at frequency = 3052.0 Hz:   0%|          | 0/100 [00:00<?, ?it/s]"
      ]
     },
     "metadata": {},
     "output_type": "display_data"
    },
    {
     "data": {
      "application/vnd.jupyter.widget-view+json": {
       "model_id": "",
       "version_major": 2,
       "version_minor": 0
      },
      "text/plain": [
       "  ... working at frequency = 3102.0 Hz:   0%|          | 0/100 [00:00<?, ?it/s]"
      ]
     },
     "metadata": {},
     "output_type": "display_data"
    },
    {
     "data": {
      "application/vnd.jupyter.widget-view+json": {
       "model_id": "",
       "version_major": 2,
       "version_minor": 0
      },
      "text/plain": [
       "  ... working at frequency = 3152.0 Hz:   0%|          | 0/100 [00:00<?, ?it/s]"
      ]
     },
     "metadata": {},
     "output_type": "display_data"
    },
    {
     "data": {
      "application/vnd.jupyter.widget-view+json": {
       "model_id": "",
       "version_major": 2,
       "version_minor": 0
      },
      "text/plain": [
       "  ... working at frequency = 3202.0 Hz:   0%|          | 0/100 [00:00<?, ?it/s]"
      ]
     },
     "metadata": {},
     "output_type": "display_data"
    },
    {
     "data": {
      "application/vnd.jupyter.widget-view+json": {
       "model_id": "",
       "version_major": 2,
       "version_minor": 0
      },
      "text/plain": [
       "  ... working at frequency = 3252.0 Hz:   0%|          | 0/100 [00:00<?, ?it/s]"
      ]
     },
     "metadata": {},
     "output_type": "display_data"
    },
    {
     "data": {
      "application/vnd.jupyter.widget-view+json": {
       "model_id": "",
       "version_major": 2,
       "version_minor": 0
      },
      "text/plain": [
       "  ... working at frequency = 3302.0 Hz:   0%|          | 0/100 [00:00<?, ?it/s]"
      ]
     },
     "metadata": {},
     "output_type": "display_data"
    },
    {
     "data": {
      "application/vnd.jupyter.widget-view+json": {
       "model_id": "",
       "version_major": 2,
       "version_minor": 0
      },
      "text/plain": [
       "  ... working at frequency = 3352.0 Hz:   0%|          | 0/100 [00:00<?, ?it/s]"
      ]
     },
     "metadata": {},
     "output_type": "display_data"
    },
    {
     "data": {
      "application/vnd.jupyter.widget-view+json": {
       "model_id": "",
       "version_major": 2,
       "version_minor": 0
      },
      "text/plain": [
       "  ... working at frequency = 3402.0 Hz:   0%|          | 0/100 [00:00<?, ?it/s]"
      ]
     },
     "metadata": {},
     "output_type": "display_data"
    },
    {
     "data": {
      "application/vnd.jupyter.widget-view+json": {
       "model_id": "",
       "version_major": 2,
       "version_minor": 0
      },
      "text/plain": [
       "  ... working at frequency = 3452.0 Hz:   0%|          | 0/100 [00:00<?, ?it/s]"
      ]
     },
     "metadata": {},
     "output_type": "display_data"
    },
    {
     "data": {
      "application/vnd.jupyter.widget-view+json": {
       "model_id": "",
       "version_major": 2,
       "version_minor": 0
      },
      "text/plain": [
       "  ... working at frequency = 3502.0 Hz:   0%|          | 0/100 [00:00<?, ?it/s]"
      ]
     },
     "metadata": {},
     "output_type": "display_data"
    },
    {
     "data": {
      "application/vnd.jupyter.widget-view+json": {
       "model_id": "",
       "version_major": 2,
       "version_minor": 0
      },
      "text/plain": [
       "  ... working at frequency = 3552.0 Hz:   0%|          | 0/100 [00:00<?, ?it/s]"
      ]
     },
     "metadata": {},
     "output_type": "display_data"
    },
    {
     "data": {
      "application/vnd.jupyter.widget-view+json": {
       "model_id": "",
       "version_major": 2,
       "version_minor": 0
      },
      "text/plain": [
       "  ... working at frequency = 3602.0 Hz:   0%|          | 0/100 [00:00<?, ?it/s]"
      ]
     },
     "metadata": {},
     "output_type": "display_data"
    },
    {
     "data": {
      "application/vnd.jupyter.widget-view+json": {
       "model_id": "",
       "version_major": 2,
       "version_minor": 0
      },
      "text/plain": [
       "  ... working at frequency = 3652.0 Hz:   0%|          | 0/100 [00:00<?, ?it/s]"
      ]
     },
     "metadata": {},
     "output_type": "display_data"
    },
    {
     "data": {
      "application/vnd.jupyter.widget-view+json": {
       "model_id": "",
       "version_major": 2,
       "version_minor": 0
      },
      "text/plain": [
       "  ... working at frequency = 3702.0 Hz:   0%|          | 0/100 [00:00<?, ?it/s]"
      ]
     },
     "metadata": {},
     "output_type": "display_data"
    },
    {
     "data": {
      "application/vnd.jupyter.widget-view+json": {
       "model_id": "",
       "version_major": 2,
       "version_minor": 0
      },
      "text/plain": [
       "  ... working at frequency = 3752.0 Hz:   0%|          | 0/100 [00:00<?, ?it/s]"
      ]
     },
     "metadata": {},
     "output_type": "display_data"
    },
    {
     "data": {
      "application/vnd.jupyter.widget-view+json": {
       "model_id": "",
       "version_major": 2,
       "version_minor": 0
      },
      "text/plain": [
       "  ... working at frequency = 3802.0 Hz:   0%|          | 0/100 [00:00<?, ?it/s]"
      ]
     },
     "metadata": {},
     "output_type": "display_data"
    },
    {
     "data": {
      "application/vnd.jupyter.widget-view+json": {
       "model_id": "",
       "version_major": 2,
       "version_minor": 0
      },
      "text/plain": [
       "  ... working at frequency = 3852.0 Hz:   0%|          | 0/100 [00:00<?, ?it/s]"
      ]
     },
     "metadata": {},
     "output_type": "display_data"
    },
    {
     "data": {
      "application/vnd.jupyter.widget-view+json": {
       "model_id": "",
       "version_major": 2,
       "version_minor": 0
      },
      "text/plain": [
       "  ... working at frequency = 3902.0 Hz:   0%|          | 0/100 [00:00<?, ?it/s]"
      ]
     },
     "metadata": {},
     "output_type": "display_data"
    },
    {
     "data": {
      "application/vnd.jupyter.widget-view+json": {
       "model_id": "",
       "version_major": 2,
       "version_minor": 0
      },
      "text/plain": [
       "  ... working at frequency = 3952.0 Hz:   0%|          | 0/100 [00:00<?, ?it/s]"
      ]
     },
     "metadata": {},
     "output_type": "display_data"
    },
    {
     "data": {
      "application/vnd.jupyter.widget-view+json": {
       "model_id": "",
       "version_major": 2,
       "version_minor": 0
      },
      "text/plain": [
       "  ... working at frequency = 4002.0 Hz:   0%|          | 0/100 [00:00<?, ?it/s]"
      ]
     },
     "metadata": {},
     "output_type": "display_data"
    },
    {
     "data": {
      "application/vnd.jupyter.widget-view+json": {
       "model_id": "",
       "version_major": 2,
       "version_minor": 0
      },
      "text/plain": [
       "  ... working at frequency = 4052.0 Hz:   0%|          | 0/100 [00:00<?, ?it/s]"
      ]
     },
     "metadata": {},
     "output_type": "display_data"
    },
    {
     "data": {
      "application/vnd.jupyter.widget-view+json": {
       "model_id": "",
       "version_major": 2,
       "version_minor": 0
      },
      "text/plain": [
       "  ... working at frequency = 4102.0 Hz:   0%|          | 0/100 [00:00<?, ?it/s]"
      ]
     },
     "metadata": {},
     "output_type": "display_data"
    },
    {
     "data": {
      "application/vnd.jupyter.widget-view+json": {
       "model_id": "",
       "version_major": 2,
       "version_minor": 0
      },
      "text/plain": [
       "  ... working at frequency = 4152.0 Hz:   0%|          | 0/100 [00:00<?, ?it/s]"
      ]
     },
     "metadata": {},
     "output_type": "display_data"
    },
    {
     "data": {
      "application/vnd.jupyter.widget-view+json": {
       "model_id": "",
       "version_major": 2,
       "version_minor": 0
      },
      "text/plain": [
       "  ... working at frequency = 4202.0 Hz:   0%|          | 0/100 [00:00<?, ?it/s]"
      ]
     },
     "metadata": {},
     "output_type": "display_data"
    },
    {
     "data": {
      "application/vnd.jupyter.widget-view+json": {
       "model_id": "",
       "version_major": 2,
       "version_minor": 0
      },
      "text/plain": [
       "  ... working at frequency = 4252.0 Hz:   0%|          | 0/100 [00:00<?, ?it/s]"
      ]
     },
     "metadata": {},
     "output_type": "display_data"
    },
    {
     "data": {
      "application/vnd.jupyter.widget-view+json": {
       "model_id": "",
       "version_major": 2,
       "version_minor": 0
      },
      "text/plain": [
       "  ... working at frequency = 4302.0 Hz:   0%|          | 0/100 [00:00<?, ?it/s]"
      ]
     },
     "metadata": {},
     "output_type": "display_data"
    },
    {
     "data": {
      "application/vnd.jupyter.widget-view+json": {
       "model_id": "",
       "version_major": 2,
       "version_minor": 0
      },
      "text/plain": [
       "  ... working at frequency = 4352.0 Hz:   0%|          | 0/100 [00:00<?, ?it/s]"
      ]
     },
     "metadata": {},
     "output_type": "display_data"
    },
    {
     "data": {
      "application/vnd.jupyter.widget-view+json": {
       "model_id": "",
       "version_major": 2,
       "version_minor": 0
      },
      "text/plain": [
       "  ... working at frequency = 4402.0 Hz:   0%|          | 0/100 [00:00<?, ?it/s]"
      ]
     },
     "metadata": {},
     "output_type": "display_data"
    },
    {
     "data": {
      "application/vnd.jupyter.widget-view+json": {
       "model_id": "",
       "version_major": 2,
       "version_minor": 0
      },
      "text/plain": [
       "  ... working at frequency = 4452.0 Hz:   0%|          | 0/100 [00:00<?, ?it/s]"
      ]
     },
     "metadata": {},
     "output_type": "display_data"
    },
    {
     "data": {
      "application/vnd.jupyter.widget-view+json": {
       "model_id": "",
       "version_major": 2,
       "version_minor": 0
      },
      "text/plain": [
       "  ... working at frequency = 4502.0 Hz:   0%|          | 0/100 [00:00<?, ?it/s]"
      ]
     },
     "metadata": {},
     "output_type": "display_data"
    },
    {
     "data": {
      "application/vnd.jupyter.widget-view+json": {
       "model_id": "",
       "version_major": 2,
       "version_minor": 0
      },
      "text/plain": [
       "  ... working at frequency = 4552.0 Hz:   0%|          | 0/100 [00:00<?, ?it/s]"
      ]
     },
     "metadata": {},
     "output_type": "display_data"
    },
    {
     "data": {
      "application/vnd.jupyter.widget-view+json": {
       "model_id": "",
       "version_major": 2,
       "version_minor": 0
      },
      "text/plain": [
       "  ... working at frequency = 4602.0 Hz:   0%|          | 0/100 [00:00<?, ?it/s]"
      ]
     },
     "metadata": {},
     "output_type": "display_data"
    },
    {
     "data": {
      "application/vnd.jupyter.widget-view+json": {
       "model_id": "",
       "version_major": 2,
       "version_minor": 0
      },
      "text/plain": [
       "  ... working at frequency = 4652.0 Hz:   0%|          | 0/100 [00:00<?, ?it/s]"
      ]
     },
     "metadata": {},
     "output_type": "display_data"
    },
    {
     "data": {
      "application/vnd.jupyter.widget-view+json": {
       "model_id": "",
       "version_major": 2,
       "version_minor": 0
      },
      "text/plain": [
       "  ... working at frequency = 4702.0 Hz:   0%|          | 0/100 [00:00<?, ?it/s]"
      ]
     },
     "metadata": {},
     "output_type": "display_data"
    },
    {
     "data": {
      "application/vnd.jupyter.widget-view+json": {
       "model_id": "",
       "version_major": 2,
       "version_minor": 0
      },
      "text/plain": [
       "  ... working at frequency = 4752.0 Hz:   0%|          | 0/100 [00:00<?, ?it/s]"
      ]
     },
     "metadata": {},
     "output_type": "display_data"
    },
    {
     "data": {
      "application/vnd.jupyter.widget-view+json": {
       "model_id": "",
       "version_major": 2,
       "version_minor": 0
      },
      "text/plain": [
       "  ... working at frequency = 4802.0 Hz:   0%|          | 0/100 [00:00<?, ?it/s]"
      ]
     },
     "metadata": {},
     "output_type": "display_data"
    },
    {
     "data": {
      "application/vnd.jupyter.widget-view+json": {
       "model_id": "",
       "version_major": 2,
       "version_minor": 0
      },
      "text/plain": [
       "  ... working at frequency = 4852.0 Hz:   0%|          | 0/100 [00:00<?, ?it/s]"
      ]
     },
     "metadata": {},
     "output_type": "display_data"
    },
    {
     "data": {
      "application/vnd.jupyter.widget-view+json": {
       "model_id": "",
       "version_major": 2,
       "version_minor": 0
      },
      "text/plain": [
       "  ... working at frequency = 4902.0 Hz:   0%|          | 0/100 [00:00<?, ?it/s]"
      ]
     },
     "metadata": {},
     "output_type": "display_data"
    },
    {
     "data": {
      "application/vnd.jupyter.widget-view+json": {
       "model_id": "",
       "version_major": 2,
       "version_minor": 0
      },
      "text/plain": [
       "  ... working at frequency = 4952.0 Hz:   0%|          | 0/100 [00:00<?, ?it/s]"
      ]
     },
     "metadata": {},
     "output_type": "display_data"
    },
    {
     "data": {
      "application/vnd.jupyter.widget-view+json": {
       "model_id": "",
       "version_major": 2,
       "version_minor": 0
      },
      "text/plain": [
       "  ... working at frequency = 5002.0 Hz:   0%|          | 0/100 [00:00<?, ?it/s]"
      ]
     },
     "metadata": {},
     "output_type": "display_data"
    },
    {
     "data": {
      "application/vnd.jupyter.widget-view+json": {
       "model_id": "",
       "version_major": 2,
       "version_minor": 0
      },
      "text/plain": [
       "  ... working at frequency = 5052.0 Hz:   0%|          | 0/100 [00:00<?, ?it/s]"
      ]
     },
     "metadata": {},
     "output_type": "display_data"
    },
    {
     "data": {
      "application/vnd.jupyter.widget-view+json": {
       "model_id": "",
       "version_major": 2,
       "version_minor": 0
      },
      "text/plain": [
       "  ... working at frequency = 5102.0 Hz:   0%|          | 0/100 [00:00<?, ?it/s]"
      ]
     },
     "metadata": {},
     "output_type": "display_data"
    },
    {
     "data": {
      "application/vnd.jupyter.widget-view+json": {
       "model_id": "",
       "version_major": 2,
       "version_minor": 0
      },
      "text/plain": [
       "  ... working at frequency = 5152.0 Hz:   0%|          | 0/100 [00:00<?, ?it/s]"
      ]
     },
     "metadata": {},
     "output_type": "display_data"
    },
    {
     "data": {
      "application/vnd.jupyter.widget-view+json": {
       "model_id": "",
       "version_major": 2,
       "version_minor": 0
      },
      "text/plain": [
       "  ... working at frequency = 5202.0 Hz:   0%|          | 0/100 [00:00<?, ?it/s]"
      ]
     },
     "metadata": {},
     "output_type": "display_data"
    },
    {
     "data": {
      "application/vnd.jupyter.widget-view+json": {
       "model_id": "",
       "version_major": 2,
       "version_minor": 0
      },
      "text/plain": [
       "  ... working at frequency = 5252.0 Hz:   0%|          | 0/100 [00:00<?, ?it/s]"
      ]
     },
     "metadata": {},
     "output_type": "display_data"
    },
    {
     "data": {
      "application/vnd.jupyter.widget-view+json": {
       "model_id": "",
       "version_major": 2,
       "version_minor": 0
      },
      "text/plain": [
       "  ... working at frequency = 5302.0 Hz:   0%|          | 0/100 [00:00<?, ?it/s]"
      ]
     },
     "metadata": {},
     "output_type": "display_data"
    },
    {
     "data": {
      "application/vnd.jupyter.widget-view+json": {
       "model_id": "",
       "version_major": 2,
       "version_minor": 0
      },
      "text/plain": [
       "  ... working at frequency = 5352.0 Hz:   0%|          | 0/100 [00:00<?, ?it/s]"
      ]
     },
     "metadata": {},
     "output_type": "display_data"
    },
    {
     "data": {
      "application/vnd.jupyter.widget-view+json": {
       "model_id": "",
       "version_major": 2,
       "version_minor": 0
      },
      "text/plain": [
       "  ... working at frequency = 5402.0 Hz:   0%|          | 0/100 [00:00<?, ?it/s]"
      ]
     },
     "metadata": {},
     "output_type": "display_data"
    },
    {
     "data": {
      "application/vnd.jupyter.widget-view+json": {
       "model_id": "",
       "version_major": 2,
       "version_minor": 0
      },
      "text/plain": [
       "  ... working at frequency = 5452.0 Hz:   0%|          | 0/100 [00:00<?, ?it/s]"
      ]
     },
     "metadata": {},
     "output_type": "display_data"
    },
    {
     "data": {
      "application/vnd.jupyter.widget-view+json": {
       "model_id": "",
       "version_major": 2,
       "version_minor": 0
      },
      "text/plain": [
       "  ... working at frequency = 5502.0 Hz:   0%|          | 0/100 [00:00<?, ?it/s]"
      ]
     },
     "metadata": {},
     "output_type": "display_data"
    },
    {
     "data": {
      "application/vnd.jupyter.widget-view+json": {
       "model_id": "",
       "version_major": 2,
       "version_minor": 0
      },
      "text/plain": [
       "  ... working at frequency = 5552.0 Hz:   0%|          | 0/100 [00:00<?, ?it/s]"
      ]
     },
     "metadata": {},
     "output_type": "display_data"
    },
    {
     "data": {
      "application/vnd.jupyter.widget-view+json": {
       "model_id": "",
       "version_major": 2,
       "version_minor": 0
      },
      "text/plain": [
       "  ... working at frequency = 5602.0 Hz:   0%|          | 0/100 [00:00<?, ?it/s]"
      ]
     },
     "metadata": {},
     "output_type": "display_data"
    },
    {
     "data": {
      "application/vnd.jupyter.widget-view+json": {
       "model_id": "",
       "version_major": 2,
       "version_minor": 0
      },
      "text/plain": [
       "  ... working at frequency = 5652.0 Hz:   0%|          | 0/100 [00:00<?, ?it/s]"
      ]
     },
     "metadata": {},
     "output_type": "display_data"
    },
    {
     "data": {
      "application/vnd.jupyter.widget-view+json": {
       "model_id": "",
       "version_major": 2,
       "version_minor": 0
      },
      "text/plain": [
       "  ... working at frequency = 5702.0 Hz:   0%|          | 0/100 [00:00<?, ?it/s]"
      ]
     },
     "metadata": {},
     "output_type": "display_data"
    },
    {
     "data": {
      "application/vnd.jupyter.widget-view+json": {
       "model_id": "",
       "version_major": 2,
       "version_minor": 0
      },
      "text/plain": [
       "  ... working at frequency = 5752.0 Hz:   0%|          | 0/100 [00:00<?, ?it/s]"
      ]
     },
     "metadata": {},
     "output_type": "display_data"
    },
    {
     "data": {
      "application/vnd.jupyter.widget-view+json": {
       "model_id": "",
       "version_major": 2,
       "version_minor": 0
      },
      "text/plain": [
       "  ... working at frequency = 5802.0 Hz:   0%|          | 0/100 [00:00<?, ?it/s]"
      ]
     },
     "metadata": {},
     "output_type": "display_data"
    },
    {
     "data": {
      "application/vnd.jupyter.widget-view+json": {
       "model_id": "",
       "version_major": 2,
       "version_minor": 0
      },
      "text/plain": [
       "  ... working at frequency = 5852.0 Hz:   0%|          | 0/100 [00:00<?, ?it/s]"
      ]
     },
     "metadata": {},
     "output_type": "display_data"
    },
    {
     "data": {
      "application/vnd.jupyter.widget-view+json": {
       "model_id": "",
       "version_major": 2,
       "version_minor": 0
      },
      "text/plain": [
       "  ... working at frequency = 5902.0 Hz:   0%|          | 0/100 [00:00<?, ?it/s]"
      ]
     },
     "metadata": {},
     "output_type": "display_data"
    },
    {
     "data": {
      "application/vnd.jupyter.widget-view+json": {
       "model_id": "",
       "version_major": 2,
       "version_minor": 0
      },
      "text/plain": [
       "  ... working at frequency = 5952.0 Hz:   0%|          | 0/100 [00:00<?, ?it/s]"
      ]
     },
     "metadata": {},
     "output_type": "display_data"
    },
    {
     "data": {
      "application/vnd.jupyter.widget-view+json": {
       "model_id": "",
       "version_major": 2,
       "version_minor": 0
      },
      "text/plain": [
       "  ... working at frequency = 6002.0 Hz:   0%|          | 0/100 [00:00<?, ?it/s]"
      ]
     },
     "metadata": {},
     "output_type": "display_data"
    },
    {
     "data": {
      "application/vnd.jupyter.widget-view+json": {
       "model_id": "",
       "version_major": 2,
       "version_minor": 0
      },
      "text/plain": [
       "  ... working at frequency = 6052.0 Hz:   0%|          | 0/100 [00:00<?, ?it/s]"
      ]
     },
     "metadata": {},
     "output_type": "display_data"
    },
    {
     "data": {
      "application/vnd.jupyter.widget-view+json": {
       "model_id": "",
       "version_major": 2,
       "version_minor": 0
      },
      "text/plain": [
       "  ... working at frequency = 6102.0 Hz:   0%|          | 0/100 [00:00<?, ?it/s]"
      ]
     },
     "metadata": {},
     "output_type": "display_data"
    },
    {
     "data": {
      "application/vnd.jupyter.widget-view+json": {
       "model_id": "",
       "version_major": 2,
       "version_minor": 0
      },
      "text/plain": [
       "  ... working at frequency = 6152.0 Hz:   0%|          | 0/100 [00:00<?, ?it/s]"
      ]
     },
     "metadata": {},
     "output_type": "display_data"
    },
    {
     "data": {
      "application/vnd.jupyter.widget-view+json": {
       "model_id": "",
       "version_major": 2,
       "version_minor": 0
      },
      "text/plain": [
       "  ... working at frequency = 6202.0 Hz:   0%|          | 0/100 [00:00<?, ?it/s]"
      ]
     },
     "metadata": {},
     "output_type": "display_data"
    },
    {
     "data": {
      "application/vnd.jupyter.widget-view+json": {
       "model_id": "",
       "version_major": 2,
       "version_minor": 0
      },
      "text/plain": [
       "  ... working at frequency = 6252.0 Hz:   0%|          | 0/100 [00:00<?, ?it/s]"
      ]
     },
     "metadata": {},
     "output_type": "display_data"
    },
    {
     "data": {
      "application/vnd.jupyter.widget-view+json": {
       "model_id": "",
       "version_major": 2,
       "version_minor": 0
      },
      "text/plain": [
       "  ... working at frequency = 6302.0 Hz:   0%|          | 0/100 [00:00<?, ?it/s]"
      ]
     },
     "metadata": {},
     "output_type": "display_data"
    },
    {
     "data": {
      "application/vnd.jupyter.widget-view+json": {
       "model_id": "",
       "version_major": 2,
       "version_minor": 0
      },
      "text/plain": [
       "  ... working at frequency = 6352.0 Hz:   0%|          | 0/100 [00:00<?, ?it/s]"
      ]
     },
     "metadata": {},
     "output_type": "display_data"
    },
    {
     "data": {
      "application/vnd.jupyter.widget-view+json": {
       "model_id": "",
       "version_major": 2,
       "version_minor": 0
      },
      "text/plain": [
       "  ... working at frequency = 6402.0 Hz:   0%|          | 0/100 [00:00<?, ?it/s]"
      ]
     },
     "metadata": {},
     "output_type": "display_data"
    },
    {
     "data": {
      "application/vnd.jupyter.widget-view+json": {
       "model_id": "",
       "version_major": 2,
       "version_minor": 0
      },
      "text/plain": [
       "  ... working at frequency = 6452.0 Hz:   0%|          | 0/100 [00:00<?, ?it/s]"
      ]
     },
     "metadata": {},
     "output_type": "display_data"
    },
    {
     "data": {
      "application/vnd.jupyter.widget-view+json": {
       "model_id": "",
       "version_major": 2,
       "version_minor": 0
      },
      "text/plain": [
       "  ... working at frequency = 6502.0 Hz:   0%|          | 0/100 [00:00<?, ?it/s]"
      ]
     },
     "metadata": {},
     "output_type": "display_data"
    },
    {
     "data": {
      "application/vnd.jupyter.widget-view+json": {
       "model_id": "",
       "version_major": 2,
       "version_minor": 0
      },
      "text/plain": [
       "  ... working at frequency = 6552.0 Hz:   0%|          | 0/100 [00:00<?, ?it/s]"
      ]
     },
     "metadata": {},
     "output_type": "display_data"
    },
    {
     "data": {
      "application/vnd.jupyter.widget-view+json": {
       "model_id": "",
       "version_major": 2,
       "version_minor": 0
      },
      "text/plain": [
       "  ... working at frequency = 6602.0 Hz:   0%|          | 0/100 [00:00<?, ?it/s]"
      ]
     },
     "metadata": {},
     "output_type": "display_data"
    },
    {
     "data": {
      "application/vnd.jupyter.widget-view+json": {
       "model_id": "",
       "version_major": 2,
       "version_minor": 0
      },
      "text/plain": [
       "  ... working at frequency = 6652.0 Hz:   0%|          | 0/100 [00:00<?, ?it/s]"
      ]
     },
     "metadata": {},
     "output_type": "display_data"
    },
    {
     "data": {
      "application/vnd.jupyter.widget-view+json": {
       "model_id": "",
       "version_major": 2,
       "version_minor": 0
      },
      "text/plain": [
       "  ... working at frequency = 6702.0 Hz:   0%|          | 0/100 [00:00<?, ?it/s]"
      ]
     },
     "metadata": {},
     "output_type": "display_data"
    },
    {
     "data": {
      "application/vnd.jupyter.widget-view+json": {
       "model_id": "",
       "version_major": 2,
       "version_minor": 0
      },
      "text/plain": [
       "  ... working at frequency = 6752.0 Hz:   0%|          | 0/100 [00:00<?, ?it/s]"
      ]
     },
     "metadata": {},
     "output_type": "display_data"
    },
    {
     "data": {
      "application/vnd.jupyter.widget-view+json": {
       "model_id": "",
       "version_major": 2,
       "version_minor": 0
      },
      "text/plain": [
       "  ... working at frequency = 6802.0 Hz:   0%|          | 0/100 [00:00<?, ?it/s]"
      ]
     },
     "metadata": {},
     "output_type": "display_data"
    },
    {
     "data": {
      "application/vnd.jupyter.widget-view+json": {
       "model_id": "",
       "version_major": 2,
       "version_minor": 0
      },
      "text/plain": [
       "  ... working at frequency = 6852.0 Hz:   0%|          | 0/100 [00:00<?, ?it/s]"
      ]
     },
     "metadata": {},
     "output_type": "display_data"
    },
    {
     "data": {
      "application/vnd.jupyter.widget-view+json": {
       "model_id": "",
       "version_major": 2,
       "version_minor": 0
      },
      "text/plain": [
       "  ... working at frequency = 6902.0 Hz:   0%|          | 0/100 [00:00<?, ?it/s]"
      ]
     },
     "metadata": {},
     "output_type": "display_data"
    },
    {
     "data": {
      "application/vnd.jupyter.widget-view+json": {
       "model_id": "",
       "version_major": 2,
       "version_minor": 0
      },
      "text/plain": [
       "  ... working at frequency = 6952.0 Hz:   0%|          | 0/100 [00:00<?, ?it/s]"
      ]
     },
     "metadata": {},
     "output_type": "display_data"
    },
    {
     "data": {
      "application/vnd.jupyter.widget-view+json": {
       "model_id": "",
       "version_major": 2,
       "version_minor": 0
      },
      "text/plain": [
       "  ... working at frequency = 7002.0 Hz:   0%|          | 0/100 [00:00<?, ?it/s]"
      ]
     },
     "metadata": {},
     "output_type": "display_data"
    },
    {
     "data": {
      "application/vnd.jupyter.widget-view+json": {
       "model_id": "",
       "version_major": 2,
       "version_minor": 0
      },
      "text/plain": [
       "  ... working at frequency = 7052.0 Hz:   0%|          | 0/100 [00:00<?, ?it/s]"
      ]
     },
     "metadata": {},
     "output_type": "display_data"
    },
    {
     "data": {
      "application/vnd.jupyter.widget-view+json": {
       "model_id": "",
       "version_major": 2,
       "version_minor": 0
      },
      "text/plain": [
       "  ... working at frequency = 7102.0 Hz:   0%|          | 0/100 [00:00<?, ?it/s]"
      ]
     },
     "metadata": {},
     "output_type": "display_data"
    },
    {
     "data": {
      "application/vnd.jupyter.widget-view+json": {
       "model_id": "",
       "version_major": 2,
       "version_minor": 0
      },
      "text/plain": [
       "  ... working at frequency = 7152.0 Hz:   0%|          | 0/100 [00:00<?, ?it/s]"
      ]
     },
     "metadata": {},
     "output_type": "display_data"
    },
    {
     "data": {
      "application/vnd.jupyter.widget-view+json": {
       "model_id": "",
       "version_major": 2,
       "version_minor": 0
      },
      "text/plain": [
       "  ... working at frequency = 7202.0 Hz:   0%|          | 0/100 [00:00<?, ?it/s]"
      ]
     },
     "metadata": {},
     "output_type": "display_data"
    },
    {
     "data": {
      "application/vnd.jupyter.widget-view+json": {
       "model_id": "",
       "version_major": 2,
       "version_minor": 0
      },
      "text/plain": [
       "  ... working at frequency = 7252.0 Hz:   0%|          | 0/100 [00:00<?, ?it/s]"
      ]
     },
     "metadata": {},
     "output_type": "display_data"
    },
    {
     "data": {
      "application/vnd.jupyter.widget-view+json": {
       "model_id": "",
       "version_major": 2,
       "version_minor": 0
      },
      "text/plain": [
       "  ... working at frequency = 7302.0 Hz:   0%|          | 0/100 [00:00<?, ?it/s]"
      ]
     },
     "metadata": {},
     "output_type": "display_data"
    },
    {
     "data": {
      "application/vnd.jupyter.widget-view+json": {
       "model_id": "",
       "version_major": 2,
       "version_minor": 0
      },
      "text/plain": [
       "  ... working at frequency = 7352.0 Hz:   0%|          | 0/100 [00:00<?, ?it/s]"
      ]
     },
     "metadata": {},
     "output_type": "display_data"
    },
    {
     "data": {
      "application/vnd.jupyter.widget-view+json": {
       "model_id": "",
       "version_major": 2,
       "version_minor": 0
      },
      "text/plain": [
       "  ... working at frequency = 7402.0 Hz:   0%|          | 0/100 [00:00<?, ?it/s]"
      ]
     },
     "metadata": {},
     "output_type": "display_data"
    },
    {
     "data": {
      "application/vnd.jupyter.widget-view+json": {
       "model_id": "",
       "version_major": 2,
       "version_minor": 0
      },
      "text/plain": [
       "  ... working at frequency = 7452.0 Hz:   0%|          | 0/100 [00:00<?, ?it/s]"
      ]
     },
     "metadata": {},
     "output_type": "display_data"
    },
    {
     "data": {
      "application/vnd.jupyter.widget-view+json": {
       "model_id": "",
       "version_major": 2,
       "version_minor": 0
      },
      "text/plain": [
       "  ... working at frequency = 7502.0 Hz:   0%|          | 0/100 [00:00<?, ?it/s]"
      ]
     },
     "metadata": {},
     "output_type": "display_data"
    },
    {
     "data": {
      "application/vnd.jupyter.widget-view+json": {
       "model_id": "",
       "version_major": 2,
       "version_minor": 0
      },
      "text/plain": [
       "  ... working at frequency = 7552.0 Hz:   0%|          | 0/100 [00:00<?, ?it/s]"
      ]
     },
     "metadata": {},
     "output_type": "display_data"
    },
    {
     "data": {
      "application/vnd.jupyter.widget-view+json": {
       "model_id": "",
       "version_major": 2,
       "version_minor": 0
      },
      "text/plain": [
       "  ... working at frequency = 7602.0 Hz:   0%|          | 0/100 [00:00<?, ?it/s]"
      ]
     },
     "metadata": {},
     "output_type": "display_data"
    },
    {
     "data": {
      "application/vnd.jupyter.widget-view+json": {
       "model_id": "",
       "version_major": 2,
       "version_minor": 0
      },
      "text/plain": [
       "  ... working at frequency = 7652.0 Hz:   0%|          | 0/100 [00:00<?, ?it/s]"
      ]
     },
     "metadata": {},
     "output_type": "display_data"
    },
    {
     "data": {
      "application/vnd.jupyter.widget-view+json": {
       "model_id": "",
       "version_major": 2,
       "version_minor": 0
      },
      "text/plain": [
       "  ... working at frequency = 7702.0 Hz:   0%|          | 0/100 [00:00<?, ?it/s]"
      ]
     },
     "metadata": {},
     "output_type": "display_data"
    },
    {
     "data": {
      "application/vnd.jupyter.widget-view+json": {
       "model_id": "",
       "version_major": 2,
       "version_minor": 0
      },
      "text/plain": [
       "  ... working at frequency = 7752.0 Hz:   0%|          | 0/100 [00:00<?, ?it/s]"
      ]
     },
     "metadata": {},
     "output_type": "display_data"
    },
    {
     "data": {
      "application/vnd.jupyter.widget-view+json": {
       "model_id": "",
       "version_major": 2,
       "version_minor": 0
      },
      "text/plain": [
       "  ... working at frequency = 7802.0 Hz:   0%|          | 0/100 [00:00<?, ?it/s]"
      ]
     },
     "metadata": {},
     "output_type": "display_data"
    },
    {
     "data": {
      "application/vnd.jupyter.widget-view+json": {
       "model_id": "",
       "version_major": 2,
       "version_minor": 0
      },
      "text/plain": [
       "  ... working at frequency = 7852.0 Hz:   0%|          | 0/100 [00:00<?, ?it/s]"
      ]
     },
     "metadata": {},
     "output_type": "display_data"
    },
    {
     "data": {
      "application/vnd.jupyter.widget-view+json": {
       "model_id": "",
       "version_major": 2,
       "version_minor": 0
      },
      "text/plain": [
       "  ... working at frequency = 7902.0 Hz:   0%|          | 0/100 [00:00<?, ?it/s]"
      ]
     },
     "metadata": {},
     "output_type": "display_data"
    },
    {
     "data": {
      "application/vnd.jupyter.widget-view+json": {
       "model_id": "",
       "version_major": 2,
       "version_minor": 0
      },
      "text/plain": [
       "  ... working at frequency = 7952.0 Hz:   0%|          | 0/100 [00:00<?, ?it/s]"
      ]
     },
     "metadata": {},
     "output_type": "display_data"
    },
    {
     "data": {
      "application/vnd.jupyter.widget-view+json": {
       "model_id": "",
       "version_major": 2,
       "version_minor": 0
      },
      "text/plain": [
       "  ... working at frequency = 8002.0 Hz:   0%|          | 0/100 [00:00<?, ?it/s]"
      ]
     },
     "metadata": {},
     "output_type": "display_data"
    },
    {
     "data": {
      "application/vnd.jupyter.widget-view+json": {
       "model_id": "",
       "version_major": 2,
       "version_minor": 0
      },
      "text/plain": [
       "  ... working at frequency = 8052.0 Hz:   0%|          | 0/100 [00:00<?, ?it/s]"
      ]
     },
     "metadata": {},
     "output_type": "display_data"
    },
    {
     "data": {
      "application/vnd.jupyter.widget-view+json": {
       "model_id": "",
       "version_major": 2,
       "version_minor": 0
      },
      "text/plain": [
       "  ... working at frequency = 8102.0 Hz:   0%|          | 0/100 [00:00<?, ?it/s]"
      ]
     },
     "metadata": {},
     "output_type": "display_data"
    },
    {
     "data": {
      "application/vnd.jupyter.widget-view+json": {
       "model_id": "",
       "version_major": 2,
       "version_minor": 0
      },
      "text/plain": [
       "  ... working at frequency = 8152.0 Hz:   0%|          | 0/100 [00:00<?, ?it/s]"
      ]
     },
     "metadata": {},
     "output_type": "display_data"
    },
    {
     "data": {
      "application/vnd.jupyter.widget-view+json": {
       "model_id": "",
       "version_major": 2,
       "version_minor": 0
      },
      "text/plain": [
       "  ... working at frequency = 8202.0 Hz:   0%|          | 0/100 [00:00<?, ?it/s]"
      ]
     },
     "metadata": {},
     "output_type": "display_data"
    },
    {
     "data": {
      "application/vnd.jupyter.widget-view+json": {
       "model_id": "",
       "version_major": 2,
       "version_minor": 0
      },
      "text/plain": [
       "  ... working at frequency = 8252.0 Hz:   0%|          | 0/100 [00:00<?, ?it/s]"
      ]
     },
     "metadata": {},
     "output_type": "display_data"
    },
    {
     "data": {
      "application/vnd.jupyter.widget-view+json": {
       "model_id": "",
       "version_major": 2,
       "version_minor": 0
      },
      "text/plain": [
       "  ... working at frequency = 8302.0 Hz:   0%|          | 0/100 [00:00<?, ?it/s]"
      ]
     },
     "metadata": {},
     "output_type": "display_data"
    },
    {
     "data": {
      "application/vnd.jupyter.widget-view+json": {
       "model_id": "",
       "version_major": 2,
       "version_minor": 0
      },
      "text/plain": [
       "  ... working at frequency = 8352.0 Hz:   0%|          | 0/100 [00:00<?, ?it/s]"
      ]
     },
     "metadata": {},
     "output_type": "display_data"
    },
    {
     "data": {
      "application/vnd.jupyter.widget-view+json": {
       "model_id": "",
       "version_major": 2,
       "version_minor": 0
      },
      "text/plain": [
       "  ... working at frequency = 8402.0 Hz:   0%|          | 0/100 [00:00<?, ?it/s]"
      ]
     },
     "metadata": {},
     "output_type": "display_data"
    },
    {
     "data": {
      "application/vnd.jupyter.widget-view+json": {
       "model_id": "",
       "version_major": 2,
       "version_minor": 0
      },
      "text/plain": [
       "  ... working at frequency = 8452.0 Hz:   0%|          | 0/100 [00:00<?, ?it/s]"
      ]
     },
     "metadata": {},
     "output_type": "display_data"
    },
    {
     "data": {
      "application/vnd.jupyter.widget-view+json": {
       "model_id": "",
       "version_major": 2,
       "version_minor": 0
      },
      "text/plain": [
       "  ... working at frequency = 8502.0 Hz:   0%|          | 0/100 [00:00<?, ?it/s]"
      ]
     },
     "metadata": {},
     "output_type": "display_data"
    },
    {
     "data": {
      "application/vnd.jupyter.widget-view+json": {
       "model_id": "",
       "version_major": 2,
       "version_minor": 0
      },
      "text/plain": [
       "  ... working at frequency = 8552.0 Hz:   0%|          | 0/100 [00:00<?, ?it/s]"
      ]
     },
     "metadata": {},
     "output_type": "display_data"
    },
    {
     "data": {
      "application/vnd.jupyter.widget-view+json": {
       "model_id": "",
       "version_major": 2,
       "version_minor": 0
      },
      "text/plain": [
       "  ... working at frequency = 8602.0 Hz:   0%|          | 0/100 [00:00<?, ?it/s]"
      ]
     },
     "metadata": {},
     "output_type": "display_data"
    },
    {
     "data": {
      "application/vnd.jupyter.widget-view+json": {
       "model_id": "",
       "version_major": 2,
       "version_minor": 0
      },
      "text/plain": [
       "  ... working at frequency = 8652.0 Hz:   0%|          | 0/100 [00:00<?, ?it/s]"
      ]
     },
     "metadata": {},
     "output_type": "display_data"
    },
    {
     "data": {
      "application/vnd.jupyter.widget-view+json": {
       "model_id": "",
       "version_major": 2,
       "version_minor": 0
      },
      "text/plain": [
       "  ... working at frequency = 8702.0 Hz:   0%|          | 0/100 [00:00<?, ?it/s]"
      ]
     },
     "metadata": {},
     "output_type": "display_data"
    },
    {
     "data": {
      "application/vnd.jupyter.widget-view+json": {
       "model_id": "",
       "version_major": 2,
       "version_minor": 0
      },
      "text/plain": [
       "  ... working at frequency = 8752.0 Hz:   0%|          | 0/100 [00:00<?, ?it/s]"
      ]
     },
     "metadata": {},
     "output_type": "display_data"
    },
    {
     "data": {
      "application/vnd.jupyter.widget-view+json": {
       "model_id": "",
       "version_major": 2,
       "version_minor": 0
      },
      "text/plain": [
       "  ... working at frequency = 8802.0 Hz:   0%|          | 0/100 [00:00<?, ?it/s]"
      ]
     },
     "metadata": {},
     "output_type": "display_data"
    },
    {
     "data": {
      "application/vnd.jupyter.widget-view+json": {
       "model_id": "",
       "version_major": 2,
       "version_minor": 0
      },
      "text/plain": [
       "  ... working at frequency = 8852.0 Hz:   0%|          | 0/100 [00:00<?, ?it/s]"
      ]
     },
     "metadata": {},
     "output_type": "display_data"
    },
    {
     "data": {
      "application/vnd.jupyter.widget-view+json": {
       "model_id": "",
       "version_major": 2,
       "version_minor": 0
      },
      "text/plain": [
       "  ... working at frequency = 8902.0 Hz:   0%|          | 0/100 [00:00<?, ?it/s]"
      ]
     },
     "metadata": {},
     "output_type": "display_data"
    },
    {
     "data": {
      "application/vnd.jupyter.widget-view+json": {
       "model_id": "",
       "version_major": 2,
       "version_minor": 0
      },
      "text/plain": [
       "  ... working at frequency = 8952.0 Hz:   0%|          | 0/100 [00:00<?, ?it/s]"
      ]
     },
     "metadata": {},
     "output_type": "display_data"
    },
    {
     "data": {
      "application/vnd.jupyter.widget-view+json": {
       "model_id": "",
       "version_major": 2,
       "version_minor": 0
      },
      "text/plain": [
       "  ... working at frequency = 9002.0 Hz:   0%|          | 0/100 [00:00<?, ?it/s]"
      ]
     },
     "metadata": {},
     "output_type": "display_data"
    },
    {
     "data": {
      "application/vnd.jupyter.widget-view+json": {
       "model_id": "",
       "version_major": 2,
       "version_minor": 0
      },
      "text/plain": [
       "  ... working at frequency = 9052.0 Hz:   0%|          | 0/100 [00:00<?, ?it/s]"
      ]
     },
     "metadata": {},
     "output_type": "display_data"
    },
    {
     "data": {
      "application/vnd.jupyter.widget-view+json": {
       "model_id": "",
       "version_major": 2,
       "version_minor": 0
      },
      "text/plain": [
       "  ... working at frequency = 9102.0 Hz:   0%|          | 0/100 [00:00<?, ?it/s]"
      ]
     },
     "metadata": {},
     "output_type": "display_data"
    },
    {
     "data": {
      "application/vnd.jupyter.widget-view+json": {
       "model_id": "",
       "version_major": 2,
       "version_minor": 0
      },
      "text/plain": [
       "  ... working at frequency = 9152.0 Hz:   0%|          | 0/100 [00:00<?, ?it/s]"
      ]
     },
     "metadata": {},
     "output_type": "display_data"
    },
    {
     "data": {
      "application/vnd.jupyter.widget-view+json": {
       "model_id": "",
       "version_major": 2,
       "version_minor": 0
      },
      "text/plain": [
       "  ... working at frequency = 9202.0 Hz:   0%|          | 0/100 [00:00<?, ?it/s]"
      ]
     },
     "metadata": {},
     "output_type": "display_data"
    },
    {
     "data": {
      "application/vnd.jupyter.widget-view+json": {
       "model_id": "",
       "version_major": 2,
       "version_minor": 0
      },
      "text/plain": [
       "  ... working at frequency = 9252.0 Hz:   0%|          | 0/100 [00:00<?, ?it/s]"
      ]
     },
     "metadata": {},
     "output_type": "display_data"
    },
    {
     "data": {
      "application/vnd.jupyter.widget-view+json": {
       "model_id": "",
       "version_major": 2,
       "version_minor": 0
      },
      "text/plain": [
       "  ... working at frequency = 9302.0 Hz:   0%|          | 0/100 [00:00<?, ?it/s]"
      ]
     },
     "metadata": {},
     "output_type": "display_data"
    },
    {
     "data": {
      "application/vnd.jupyter.widget-view+json": {
       "model_id": "",
       "version_major": 2,
       "version_minor": 0
      },
      "text/plain": [
       "  ... working at frequency = 9352.0 Hz:   0%|          | 0/100 [00:00<?, ?it/s]"
      ]
     },
     "metadata": {},
     "output_type": "display_data"
    },
    {
     "data": {
      "application/vnd.jupyter.widget-view+json": {
       "model_id": "",
       "version_major": 2,
       "version_minor": 0
      },
      "text/plain": [
       "  ... working at frequency = 9402.0 Hz:   0%|          | 0/100 [00:00<?, ?it/s]"
      ]
     },
     "metadata": {},
     "output_type": "display_data"
    },
    {
     "data": {
      "application/vnd.jupyter.widget-view+json": {
       "model_id": "",
       "version_major": 2,
       "version_minor": 0
      },
      "text/plain": [
       "  ... working at frequency = 9452.0 Hz:   0%|          | 0/100 [00:00<?, ?it/s]"
      ]
     },
     "metadata": {},
     "output_type": "display_data"
    },
    {
     "data": {
      "application/vnd.jupyter.widget-view+json": {
       "model_id": "",
       "version_major": 2,
       "version_minor": 0
      },
      "text/plain": [
       "  ... working at frequency = 9502.0 Hz:   0%|          | 0/100 [00:00<?, ?it/s]"
      ]
     },
     "metadata": {},
     "output_type": "display_data"
    },
    {
     "data": {
      "application/vnd.jupyter.widget-view+json": {
       "model_id": "",
       "version_major": 2,
       "version_minor": 0
      },
      "text/plain": [
       "  ... working at frequency = 9552.0 Hz:   0%|          | 0/100 [00:00<?, ?it/s]"
      ]
     },
     "metadata": {},
     "output_type": "display_data"
    },
    {
     "data": {
      "application/vnd.jupyter.widget-view+json": {
       "model_id": "",
       "version_major": 2,
       "version_minor": 0
      },
      "text/plain": [
       "  ... working at frequency = 9602.0 Hz:   0%|          | 0/100 [00:00<?, ?it/s]"
      ]
     },
     "metadata": {},
     "output_type": "display_data"
    },
    {
     "data": {
      "application/vnd.jupyter.widget-view+json": {
       "model_id": "",
       "version_major": 2,
       "version_minor": 0
      },
      "text/plain": [
       "  ... working at frequency = 9652.0 Hz:   0%|          | 0/100 [00:00<?, ?it/s]"
      ]
     },
     "metadata": {},
     "output_type": "display_data"
    },
    {
     "data": {
      "application/vnd.jupyter.widget-view+json": {
       "model_id": "",
       "version_major": 2,
       "version_minor": 0
      },
      "text/plain": [
       "  ... working at frequency = 9702.0 Hz:   0%|          | 0/100 [00:00<?, ?it/s]"
      ]
     },
     "metadata": {},
     "output_type": "display_data"
    },
    {
     "data": {
      "application/vnd.jupyter.widget-view+json": {
       "model_id": "",
       "version_major": 2,
       "version_minor": 0
      },
      "text/plain": [
       "  ... working at frequency = 9752.0 Hz:   0%|          | 0/100 [00:00<?, ?it/s]"
      ]
     },
     "metadata": {},
     "output_type": "display_data"
    },
    {
     "data": {
      "application/vnd.jupyter.widget-view+json": {
       "model_id": "",
       "version_major": 2,
       "version_minor": 0
      },
      "text/plain": [
       "  ... working at frequency = 9802.0 Hz:   0%|          | 0/100 [00:00<?, ?it/s]"
      ]
     },
     "metadata": {},
     "output_type": "display_data"
    },
    {
     "data": {
      "application/vnd.jupyter.widget-view+json": {
       "model_id": "",
       "version_major": 2,
       "version_minor": 0
      },
      "text/plain": [
       "  ... working at frequency = 9852.0 Hz:   0%|          | 0/100 [00:00<?, ?it/s]"
      ]
     },
     "metadata": {},
     "output_type": "display_data"
    },
    {
     "data": {
      "application/vnd.jupyter.widget-view+json": {
       "model_id": "",
       "version_major": 2,
       "version_minor": 0
      },
      "text/plain": [
       "  ... working at frequency = 9902.0 Hz:   0%|          | 0/100 [00:00<?, ?it/s]"
      ]
     },
     "metadata": {},
     "output_type": "display_data"
    },
    {
     "data": {
      "application/vnd.jupyter.widget-view+json": {
       "model_id": "",
       "version_major": 2,
       "version_minor": 0
      },
      "text/plain": [
       "  ... working at frequency = 9952.0 Hz:   0%|          | 0/100 [00:00<?, ?it/s]"
      ]
     },
     "metadata": {},
     "output_type": "display_data"
    },
    {
     "data": {
      "application/vnd.jupyter.widget-view+json": {
       "model_id": "aea9bd07621b44e29dc474390738440c",
       "version_major": 2,
       "version_minor": 0
      },
      "text/plain": [
       "  ... working at frequency = 10002.0 Hz:   0%|          | 0/100 [00:00<?, ?it/s]"
      ]
     },
     "metadata": {},
     "output_type": "display_data"
    },
    {
     "name": "stdout",
     "output_type": "stream",
     "text": [
      "\n",
      "\n",
      "self.frequency_array.shape[0] = 201 is same as self.wavenumer_array.shape[0] = 201\n",
      "Save file to /Users/chenghunglin/Documents/cone_6_3_fr50.xlsx\n"
     ]
    }
   ],
   "source": [
    "cone_6_3 = anechoic_sound_absorption(determinant, frequency_array,\n",
    "                              fp = '/Users/chenghunglin/Documents/', \n",
    "                              fn = 'cone_6_3_fr50.xlsx', \n",
    "                              material='rubber', shape='cone', \n",
    "                              p=6e-3, q=3e-3, lh=40e-3, cell_radius=15e-3, \n",
    "                              theta=0.203, phi=0.002, length_unit='m',\n",
    "                              num_segments=100, layer_density=1100, air_density=1.21, \n",
    "                              Young_modulus=0.14e9, Poisson_ratio=0.49, loss_factor=0.23, \n",
    "                              medium_density=998, sound_speed_medium=1483)"
   ]
  },
  {
   "cell_type": "code",
   "execution_count": null,
   "metadata": {},
   "outputs": [],
   "source": []
  },
  {
   "cell_type": "code",
   "execution_count": 11,
   "metadata": {},
   "outputs": [
    {
     "name": "stdout",
     "output_type": "stream",
     "text": [
      "self.frequency_array.shape[0] = 201 is same as self.wavenumer_array.shape[0] = 201\n"
     ]
    },
    {
     "data": {
      "text/plain": [
       "<matplotlib.legend.Legend at 0x15508f620>"
      ]
     },
     "execution_count": 11,
     "metadata": {},
     "output_type": "execute_result"
    },
    {
     "data": {
      "application/vnd.jupyter.widget-view+json": {
       "model_id": "9697373db58e4e5aa9fed44eab51a8d3",
       "version_major": 2,
       "version_minor": 0
      },
      "image/png": "[encoded data removed]",
      "text/html": [
       "\n",
       "            <div style=\"display: inline-block;\">\n",
       "                <div class=\"jupyter-widgets widget-label\" style=\"text-align: center;\">\n",
       "                    Figure\n",
       "                </div>\n",
       "                <img src='data:image/png;base64,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' width=640.0/>\n",
       "            </div>\n",
       "        "
      ],
      "text/plain": [
       "Canvas(toolbar=Toolbar(toolitems=[('Home', 'Reset original view', 'home', 'home'), ('Back', 'Back to previous …"
      ]
     },
     "metadata": {},
     "output_type": "display_data"
    }
   ],
   "source": [
    "plt.figure()\n",
    "plt.plot(cone_6_3.frequency_array, cone_6_3.absorption_frequency(), label='cone, p=6, q=3, Young=0.14 Gpa')\n",
    "# plt.plot(cone_4_8.frequency_array, cone_4_8.absorption_frequency(), label='cone, p=4, q=8, Young=0.14 Gpa')\n",
    "# plt.plot(cone_4_8_3.frequency_array, cone_4_8_3.absorption_frequency(), '--', color='orange', label='cone, p=4, q=8, Young=0.014 Gpa')\n",
    "# plt.plot(horn_1_11.frequency_array, horn_1_11.absorption_frequency(), label='horn, p=1, q=11, seg=50, fr=50')\n",
    "# plt.plot(horn_1_11_seg100.frequency_array, horn_1_11_seg100.absorption_frequency(), label='horn, p=1, q=11, seg=100, fr=50')\n",
    "# plt.plot(horn_1_11_fr20.frequency_array, horn_1_11_fr20.absorption_frequency(), label='horn, p=1, q=11, seg=100, fr=20')\n",
    "plt.legend()"
   ]
  },
  {
   "cell_type": "code",
   "execution_count": null,
   "metadata": {},
   "outputs": [],
   "source": []
  },
  {
   "cell_type": "markdown",
   "metadata": {},
   "source": [
    "### Example 01-1: try sin shape"
   ]
  },
  {
   "cell_type": "code",
   "execution_count": 12,
   "metadata": {},
   "outputs": [
    {
     "data": {
      "application/vnd.jupyter.widget-view+json": {
       "model_id": "b37ed6f54a214f86a875e057f7fd3798",
       "version_major": 2,
       "version_minor": 0
      },
      "image/png": "[encoded data removed]",
      "text/html": [
       "\n",
       "            <div style=\"display: inline-block;\">\n",
       "                <div class=\"jupyter-widgets widget-label\" style=\"text-align: center;\">\n",
       "                    Figure\n",
       "                </div>\n",
       "                <img src='data:image/png;base64,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' width=640.0/>\n",
       "            </div>\n",
       "        "
      ],
      "text/plain": [
       "Canvas(toolbar=Toolbar(toolitems=[('Home', 'Reset original view', 'home', 'home'), ('Back', 'Back to previous …"
      ]
     },
     "metadata": {},
     "output_type": "display_data"
    },
    {
     "name": "stdout",
     "output_type": "stream",
     "text": [
      "Solving wavenumber in determinant for shape = sin, p = 0.002, q = 0.003, Young's = 140000000.0\n"
     ]
    },
    {
     "data": {
      "application/vnd.jupyter.widget-view+json": {
       "model_id": "230da2bc9e2e499fa80ae85a01b1cd87",
       "version_major": 2,
       "version_minor": 0
      },
      "text/plain": [
       "Solving for all frequencies:   0%|          | 0/201 [00:00<?, ?it/s]"
      ]
     },
     "metadata": {},
     "output_type": "display_data"
    },
    {
     "data": {
      "application/vnd.jupyter.widget-view+json": {
       "model_id": "",
       "version_major": 2,
       "version_minor": 0
      },
      "text/plain": [
       "  ... working at frequency = 2.0 Hz:   0%|          | 0/100 [00:00<?, ?it/s]"
      ]
     },
     "metadata": {},
     "output_type": "display_data"
    },
    {
     "data": {
      "application/vnd.jupyter.widget-view+json": {
       "model_id": "",
       "version_major": 2,
       "version_minor": 0
      },
      "text/plain": [
       "  ... working at frequency = 52.0 Hz:   0%|          | 0/100 [00:00<?, ?it/s]"
      ]
     },
     "metadata": {},
     "output_type": "display_data"
    },
    {
     "data": {
      "application/vnd.jupyter.widget-view+json": {
       "model_id": "",
       "version_major": 2,
       "version_minor": 0
      },
      "text/plain": [
       "  ... working at frequency = 102.0 Hz:   0%|          | 0/100 [00:00<?, ?it/s]"
      ]
     },
     "metadata": {},
     "output_type": "display_data"
    },
    {
     "data": {
      "application/vnd.jupyter.widget-view+json": {
       "model_id": "",
       "version_major": 2,
       "version_minor": 0
      },
      "text/plain": [
       "  ... working at frequency = 152.0 Hz:   0%|          | 0/100 [00:00<?, ?it/s]"
      ]
     },
     "metadata": {},
     "output_type": "display_data"
    },
    {
     "data": {
      "application/vnd.jupyter.widget-view+json": {
       "model_id": "",
       "version_major": 2,
       "version_minor": 0
      },
      "text/plain": [
       "  ... working at frequency = 202.0 Hz:   0%|          | 0/100 [00:00<?, ?it/s]"
      ]
     },
     "metadata": {},
     "output_type": "display_data"
    },
    {
     "data": {
      "application/vnd.jupyter.widget-view+json": {
       "model_id": "",
       "version_major": 2,
       "version_minor": 0
      },
      "text/plain": [
       "  ... working at frequency = 252.0 Hz:   0%|          | 0/100 [00:00<?, ?it/s]"
      ]
     },
     "metadata": {},
     "output_type": "display_data"
    },
    {
     "data": {
      "application/vnd.jupyter.widget-view+json": {
       "model_id": "",
       "version_major": 2,
       "version_minor": 0
      },
      "text/plain": [
       "  ... working at frequency = 302.0 Hz:   0%|          | 0/100 [00:00<?, ?it/s]"
      ]
     },
     "metadata": {},
     "output_type": "display_data"
    },
    {
     "data": {
      "application/vnd.jupyter.widget-view+json": {
       "model_id": "",
       "version_major": 2,
       "version_minor": 0
      },
      "text/plain": [
       "  ... working at frequency = 352.0 Hz:   0%|          | 0/100 [00:00<?, ?it/s]"
      ]
     },
     "metadata": {},
     "output_type": "display_data"
    },
    {
     "data": {
      "application/vnd.jupyter.widget-view+json": {
       "model_id": "",
       "version_major": 2,
       "version_minor": 0
      },
      "text/plain": [
       "  ... working at frequency = 402.0 Hz:   0%|          | 0/100 [00:00<?, ?it/s]"
      ]
     },
     "metadata": {},
     "output_type": "display_data"
    },
    {
     "data": {
      "application/vnd.jupyter.widget-view+json": {
       "model_id": "",
       "version_major": 2,
       "version_minor": 0
      },
      "text/plain": [
       "  ... working at frequency = 452.0 Hz:   0%|          | 0/100 [00:00<?, ?it/s]"
      ]
     },
     "metadata": {},
     "output_type": "display_data"
    },
    {
     "data": {
      "application/vnd.jupyter.widget-view+json": {
       "model_id": "",
       "version_major": 2,
       "version_minor": 0
      },
      "text/plain": [
       "  ... working at frequency = 502.0 Hz:   0%|          | 0/100 [00:00<?, ?it/s]"
      ]
     },
     "metadata": {},
     "output_type": "display_data"
    },
    {
     "data": {
      "application/vnd.jupyter.widget-view+json": {
       "model_id": "",
       "version_major": 2,
       "version_minor": 0
      },
      "text/plain": [
       "  ... working at frequency = 552.0 Hz:   0%|          | 0/100 [00:00<?, ?it/s]"
      ]
     },
     "metadata": {},
     "output_type": "display_data"
    },
    {
     "data": {
      "application/vnd.jupyter.widget-view+json": {
       "model_id": "",
       "version_major": 2,
       "version_minor": 0
      },
      "text/plain": [
       "  ... working at frequency = 602.0 Hz:   0%|          | 0/100 [00:00<?, ?it/s]"
      ]
     },
     "metadata": {},
     "output_type": "display_data"
    },
    {
     "data": {
      "application/vnd.jupyter.widget-view+json": {
       "model_id": "",
       "version_major": 2,
       "version_minor": 0
      },
      "text/plain": [
       "  ... working at frequency = 652.0 Hz:   0%|          | 0/100 [00:00<?, ?it/s]"
      ]
     },
     "metadata": {},
     "output_type": "display_data"
    },
    {
     "data": {
      "application/vnd.jupyter.widget-view+json": {
       "model_id": "",
       "version_major": 2,
       "version_minor": 0
      },
      "text/plain": [
       "  ... working at frequency = 702.0 Hz:   0%|          | 0/100 [00:00<?, ?it/s]"
      ]
     },
     "metadata": {},
     "output_type": "display_data"
    },
    {
     "data": {
      "application/vnd.jupyter.widget-view+json": {
       "model_id": "",
       "version_major": 2,
       "version_minor": 0
      },
      "text/plain": [
       "  ... working at frequency = 752.0 Hz:   0%|          | 0/100 [00:00<?, ?it/s]"
      ]
     },
     "metadata": {},
     "output_type": "display_data"
    },
    {
     "data": {
      "application/vnd.jupyter.widget-view+json": {
       "model_id": "",
       "version_major": 2,
       "version_minor": 0
      },
      "text/plain": [
       "  ... working at frequency = 802.0 Hz:   0%|          | 0/100 [00:00<?, ?it/s]"
      ]
     },
     "metadata": {},
     "output_type": "display_data"
    },
    {
     "data": {
      "application/vnd.jupyter.widget-view+json": {
       "model_id": "",
       "version_major": 2,
       "version_minor": 0
      },
      "text/plain": [
       "  ... working at frequency = 852.0 Hz:   0%|          | 0/100 [00:00<?, ?it/s]"
      ]
     },
     "metadata": {},
     "output_type": "display_data"
    },
    {
     "data": {
      "application/vnd.jupyter.widget-view+json": {
       "model_id": "",
       "version_major": 2,
       "version_minor": 0
      },
      "text/plain": [
       "  ... working at frequency = 902.0 Hz:   0%|          | 0/100 [00:00<?, ?it/s]"
      ]
     },
     "metadata": {},
     "output_type": "display_data"
    },
    {
     "data": {
      "application/vnd.jupyter.widget-view+json": {
       "model_id": "",
       "version_major": 2,
       "version_minor": 0
      },
      "text/plain": [
       "  ... working at frequency = 952.0 Hz:   0%|          | 0/100 [00:00<?, ?it/s]"
      ]
     },
     "metadata": {},
     "output_type": "display_data"
    },
    {
     "data": {
      "application/vnd.jupyter.widget-view+json": {
       "model_id": "",
       "version_major": 2,
       "version_minor": 0
      },
      "text/plain": [
       "  ... working at frequency = 1002.0 Hz:   0%|          | 0/100 [00:00<?, ?it/s]"
      ]
     },
     "metadata": {},
     "output_type": "display_data"
    },
    {
     "data": {
      "application/vnd.jupyter.widget-view+json": {
       "model_id": "",
       "version_major": 2,
       "version_minor": 0
      },
      "text/plain": [
       "  ... working at frequency = 1052.0 Hz:   0%|          | 0/100 [00:00<?, ?it/s]"
      ]
     },
     "metadata": {},
     "output_type": "display_data"
    },
    {
     "data": {
      "application/vnd.jupyter.widget-view+json": {
       "model_id": "",
       "version_major": 2,
       "version_minor": 0
      },
      "text/plain": [
       "  ... working at frequency = 1102.0 Hz:   0%|          | 0/100 [00:00<?, ?it/s]"
      ]
     },
     "metadata": {},
     "output_type": "display_data"
    },
    {
     "data": {
      "application/vnd.jupyter.widget-view+json": {
       "model_id": "",
       "version_major": 2,
       "version_minor": 0
      },
      "text/plain": [
       "  ... working at frequency = 1152.0 Hz:   0%|          | 0/100 [00:00<?, ?it/s]"
      ]
     },
     "metadata": {},
     "output_type": "display_data"
    },
    {
     "data": {
      "application/vnd.jupyter.widget-view+json": {
       "model_id": "",
       "version_major": 2,
       "version_minor": 0
      },
      "text/plain": [
       "  ... working at frequency = 1202.0 Hz:   0%|          | 0/100 [00:00<?, ?it/s]"
      ]
     },
     "metadata": {},
     "output_type": "display_data"
    },
    {
     "data": {
      "application/vnd.jupyter.widget-view+json": {
       "model_id": "",
       "version_major": 2,
       "version_minor": 0
      },
      "text/plain": [
       "  ... working at frequency = 1252.0 Hz:   0%|          | 0/100 [00:00<?, ?it/s]"
      ]
     },
     "metadata": {},
     "output_type": "display_data"
    },
    {
     "data": {
      "application/vnd.jupyter.widget-view+json": {
       "model_id": "",
       "version_major": 2,
       "version_minor": 0
      },
      "text/plain": [
       "  ... working at frequency = 1302.0 Hz:   0%|          | 0/100 [00:00<?, ?it/s]"
      ]
     },
     "metadata": {},
     "output_type": "display_data"
    },
    {
     "data": {
      "application/vnd.jupyter.widget-view+json": {
       "model_id": "",
       "version_major": 2,
       "version_minor": 0
      },
      "text/plain": [
       "  ... working at frequency = 1352.0 Hz:   0%|          | 0/100 [00:00<?, ?it/s]"
      ]
     },
     "metadata": {},
     "output_type": "display_data"
    },
    {
     "data": {
      "application/vnd.jupyter.widget-view+json": {
       "model_id": "",
       "version_major": 2,
       "version_minor": 0
      },
      "text/plain": [
       "  ... working at frequency = 1402.0 Hz:   0%|          | 0/100 [00:00<?, ?it/s]"
      ]
     },
     "metadata": {},
     "output_type": "display_data"
    },
    {
     "data": {
      "application/vnd.jupyter.widget-view+json": {
       "model_id": "",
       "version_major": 2,
       "version_minor": 0
      },
      "text/plain": [
       "  ... working at frequency = 1452.0 Hz:   0%|          | 0/100 [00:00<?, ?it/s]"
      ]
     },
     "metadata": {},
     "output_type": "display_data"
    },
    {
     "data": {
      "application/vnd.jupyter.widget-view+json": {
       "model_id": "",
       "version_major": 2,
       "version_minor": 0
      },
      "text/plain": [
       "  ... working at frequency = 1502.0 Hz:   0%|          | 0/100 [00:00<?, ?it/s]"
      ]
     },
     "metadata": {},
     "output_type": "display_data"
    },
    {
     "data": {
      "application/vnd.jupyter.widget-view+json": {
       "model_id": "",
       "version_major": 2,
       "version_minor": 0
      },
      "text/plain": [
       "  ... working at frequency = 1552.0 Hz:   0%|          | 0/100 [00:00<?, ?it/s]"
      ]
     },
     "metadata": {},
     "output_type": "display_data"
    },
    {
     "data": {
      "application/vnd.jupyter.widget-view+json": {
       "model_id": "",
       "version_major": 2,
       "version_minor": 0
      },
      "text/plain": [
       "  ... working at frequency = 1602.0 Hz:   0%|          | 0/100 [00:00<?, ?it/s]"
      ]
     },
     "metadata": {},
     "output_type": "display_data"
    },
    {
     "data": {
      "application/vnd.jupyter.widget-view+json": {
       "model_id": "",
       "version_major": 2,
       "version_minor": 0
      },
      "text/plain": [
       "  ... working at frequency = 1652.0 Hz:   0%|          | 0/100 [00:00<?, ?it/s]"
      ]
     },
     "metadata": {},
     "output_type": "display_data"
    },
    {
     "data": {
      "application/vnd.jupyter.widget-view+json": {
       "model_id": "",
       "version_major": 2,
       "version_minor": 0
      },
      "text/plain": [
       "  ... working at frequency = 1702.0 Hz:   0%|          | 0/100 [00:00<?, ?it/s]"
      ]
     },
     "metadata": {},
     "output_type": "display_data"
    },
    {
     "data": {
      "application/vnd.jupyter.widget-view+json": {
       "model_id": "",
       "version_major": 2,
       "version_minor": 0
      },
      "text/plain": [
       "  ... working at frequency = 1752.0 Hz:   0%|          | 0/100 [00:00<?, ?it/s]"
      ]
     },
     "metadata": {},
     "output_type": "display_data"
    },
    {
     "data": {
      "application/vnd.jupyter.widget-view+json": {
       "model_id": "",
       "version_major": 2,
       "version_minor": 0
      },
      "text/plain": [
       "  ... working at frequency = 1802.0 Hz:   0%|          | 0/100 [00:00<?, ?it/s]"
      ]
     },
     "metadata": {},
     "output_type": "display_data"
    },
    {
     "data": {
      "application/vnd.jupyter.widget-view+json": {
       "model_id": "",
       "version_major": 2,
       "version_minor": 0
      },
      "text/plain": [
       "  ... working at frequency = 1852.0 Hz:   0%|          | 0/100 [00:00<?, ?it/s]"
      ]
     },
     "metadata": {},
     "output_type": "display_data"
    },
    {
     "data": {
      "application/vnd.jupyter.widget-view+json": {
       "model_id": "",
       "version_major": 2,
       "version_minor": 0
      },
      "text/plain": [
       "  ... working at frequency = 1902.0 Hz:   0%|          | 0/100 [00:00<?, ?it/s]"
      ]
     },
     "metadata": {},
     "output_type": "display_data"
    },
    {
     "data": {
      "application/vnd.jupyter.widget-view+json": {
       "model_id": "",
       "version_major": 2,
       "version_minor": 0
      },
      "text/plain": [
       "  ... working at frequency = 1952.0 Hz:   0%|          | 0/100 [00:00<?, ?it/s]"
      ]
     },
     "metadata": {},
     "output_type": "display_data"
    },
    {
     "data": {
      "application/vnd.jupyter.widget-view+json": {
       "model_id": "",
       "version_major": 2,
       "version_minor": 0
      },
      "text/plain": [
       "  ... working at frequency = 2002.0 Hz:   0%|          | 0/100 [00:00<?, ?it/s]"
      ]
     },
     "metadata": {},
     "output_type": "display_data"
    },
    {
     "data": {
      "application/vnd.jupyter.widget-view+json": {
       "model_id": "",
       "version_major": 2,
       "version_minor": 0
      },
      "text/plain": [
       "  ... working at frequency = 2052.0 Hz:   0%|          | 0/100 [00:00<?, ?it/s]"
      ]
     },
     "metadata": {},
     "output_type": "display_data"
    },
    {
     "data": {
      "application/vnd.jupyter.widget-view+json": {
       "model_id": "",
       "version_major": 2,
       "version_minor": 0
      },
      "text/plain": [
       "  ... working at frequency = 2102.0 Hz:   0%|          | 0/100 [00:00<?, ?it/s]"
      ]
     },
     "metadata": {},
     "output_type": "display_data"
    },
    {
     "data": {
      "application/vnd.jupyter.widget-view+json": {
       "model_id": "",
       "version_major": 2,
       "version_minor": 0
      },
      "text/plain": [
       "  ... working at frequency = 2152.0 Hz:   0%|          | 0/100 [00:00<?, ?it/s]"
      ]
     },
     "metadata": {},
     "output_type": "display_data"
    },
    {
     "data": {
      "application/vnd.jupyter.widget-view+json": {
       "model_id": "",
       "version_major": 2,
       "version_minor": 0
      },
      "text/plain": [
       "  ... working at frequency = 2202.0 Hz:   0%|          | 0/100 [00:00<?, ?it/s]"
      ]
     },
     "metadata": {},
     "output_type": "display_data"
    },
    {
     "data": {
      "application/vnd.jupyter.widget-view+json": {
       "model_id": "",
       "version_major": 2,
       "version_minor": 0
      },
      "text/plain": [
       "  ... working at frequency = 2252.0 Hz:   0%|          | 0/100 [00:00<?, ?it/s]"
      ]
     },
     "metadata": {},
     "output_type": "display_data"
    },
    {
     "data": {
      "application/vnd.jupyter.widget-view+json": {
       "model_id": "",
       "version_major": 2,
       "version_minor": 0
      },
      "text/plain": [
       "  ... working at frequency = 2302.0 Hz:   0%|          | 0/100 [00:00<?, ?it/s]"
      ]
     },
     "metadata": {},
     "output_type": "display_data"
    },
    {
     "data": {
      "application/vnd.jupyter.widget-view+json": {
       "model_id": "",
       "version_major": 2,
       "version_minor": 0
      },
      "text/plain": [
       "  ... working at frequency = 2352.0 Hz:   0%|          | 0/100 [00:00<?, ?it/s]"
      ]
     },
     "metadata": {},
     "output_type": "display_data"
    },
    {
     "data": {
      "application/vnd.jupyter.widget-view+json": {
       "model_id": "",
       "version_major": 2,
       "version_minor": 0
      },
      "text/plain": [
       "  ... working at frequency = 2402.0 Hz:   0%|          | 0/100 [00:00<?, ?it/s]"
      ]
     },
     "metadata": {},
     "output_type": "display_data"
    },
    {
     "data": {
      "application/vnd.jupyter.widget-view+json": {
       "model_id": "",
       "version_major": 2,
       "version_minor": 0
      },
      "text/plain": [
       "  ... working at frequency = 2452.0 Hz:   0%|          | 0/100 [00:00<?, ?it/s]"
      ]
     },
     "metadata": {},
     "output_type": "display_data"
    },
    {
     "data": {
      "application/vnd.jupyter.widget-view+json": {
       "model_id": "",
       "version_major": 2,
       "version_minor": 0
      },
      "text/plain": [
       "  ... working at frequency = 2502.0 Hz:   0%|          | 0/100 [00:00<?, ?it/s]"
      ]
     },
     "metadata": {},
     "output_type": "display_data"
    },
    {
     "data": {
      "application/vnd.jupyter.widget-view+json": {
       "model_id": "",
       "version_major": 2,
       "version_minor": 0
      },
      "text/plain": [
       "  ... working at frequency = 2552.0 Hz:   0%|          | 0/100 [00:00<?, ?it/s]"
      ]
     },
     "metadata": {},
     "output_type": "display_data"
    },
    {
     "data": {
      "application/vnd.jupyter.widget-view+json": {
       "model_id": "",
       "version_major": 2,
       "version_minor": 0
      },
      "text/plain": [
       "  ... working at frequency = 2602.0 Hz:   0%|          | 0/100 [00:00<?, ?it/s]"
      ]
     },
     "metadata": {},
     "output_type": "display_data"
    },
    {
     "data": {
      "application/vnd.jupyter.widget-view+json": {
       "model_id": "",
       "version_major": 2,
       "version_minor": 0
      },
      "text/plain": [
       "  ... working at frequency = 2652.0 Hz:   0%|          | 0/100 [00:00<?, ?it/s]"
      ]
     },
     "metadata": {},
     "output_type": "display_data"
    },
    {
     "data": {
      "application/vnd.jupyter.widget-view+json": {
       "model_id": "",
       "version_major": 2,
       "version_minor": 0
      },
      "text/plain": [
       "  ... working at frequency = 2702.0 Hz:   0%|          | 0/100 [00:00<?, ?it/s]"
      ]
     },
     "metadata": {},
     "output_type": "display_data"
    },
    {
     "data": {
      "application/vnd.jupyter.widget-view+json": {
       "model_id": "",
       "version_major": 2,
       "version_minor": 0
      },
      "text/plain": [
       "  ... working at frequency = 2752.0 Hz:   0%|          | 0/100 [00:00<?, ?it/s]"
      ]
     },
     "metadata": {},
     "output_type": "display_data"
    },
    {
     "data": {
      "application/vnd.jupyter.widget-view+json": {
       "model_id": "",
       "version_major": 2,
       "version_minor": 0
      },
      "text/plain": [
       "  ... working at frequency = 2802.0 Hz:   0%|          | 0/100 [00:00<?, ?it/s]"
      ]
     },
     "metadata": {},
     "output_type": "display_data"
    },
    {
     "data": {
      "application/vnd.jupyter.widget-view+json": {
       "model_id": "",
       "version_major": 2,
       "version_minor": 0
      },
      "text/plain": [
       "  ... working at frequency = 2852.0 Hz:   0%|          | 0/100 [00:00<?, ?it/s]"
      ]
     },
     "metadata": {},
     "output_type": "display_data"
    },
    {
     "data": {
      "application/vnd.jupyter.widget-view+json": {
       "model_id": "",
       "version_major": 2,
       "version_minor": 0
      },
      "text/plain": [
       "  ... working at frequency = 2902.0 Hz:   0%|          | 0/100 [00:00<?, ?it/s]"
      ]
     },
     "metadata": {},
     "output_type": "display_data"
    },
    {
     "data": {
      "application/vnd.jupyter.widget-view+json": {
       "model_id": "",
       "version_major": 2,
       "version_minor": 0
      },
      "text/plain": [
       "  ... working at frequency = 2952.0 Hz:   0%|          | 0/100 [00:00<?, ?it/s]"
      ]
     },
     "metadata": {},
     "output_type": "display_data"
    },
    {
     "data": {
      "application/vnd.jupyter.widget-view+json": {
       "model_id": "",
       "version_major": 2,
       "version_minor": 0
      },
      "text/plain": [
       "  ... working at frequency = 3002.0 Hz:   0%|          | 0/100 [00:00<?, ?it/s]"
      ]
     },
     "metadata": {},
     "output_type": "display_data"
    },
    {
     "data": {
      "application/vnd.jupyter.widget-view+json": {
       "model_id": "",
       "version_major": 2,
       "version_minor": 0
      },
      "text/plain": [
       "  ... working at frequency = 3052.0 Hz:   0%|          | 0/100 [00:00<?, ?it/s]"
      ]
     },
     "metadata": {},
     "output_type": "display_data"
    },
    {
     "data": {
      "application/vnd.jupyter.widget-view+json": {
       "model_id": "",
       "version_major": 2,
       "version_minor": 0
      },
      "text/plain": [
       "  ... working at frequency = 3102.0 Hz:   0%|          | 0/100 [00:00<?, ?it/s]"
      ]
     },
     "metadata": {},
     "output_type": "display_data"
    },
    {
     "data": {
      "application/vnd.jupyter.widget-view+json": {
       "model_id": "",
       "version_major": 2,
       "version_minor": 0
      },
      "text/plain": [
       "  ... working at frequency = 3152.0 Hz:   0%|          | 0/100 [00:00<?, ?it/s]"
      ]
     },
     "metadata": {},
     "output_type": "display_data"
    },
    {
     "data": {
      "application/vnd.jupyter.widget-view+json": {
       "model_id": "",
       "version_major": 2,
       "version_minor": 0
      },
      "text/plain": [
       "  ... working at frequency = 3202.0 Hz:   0%|          | 0/100 [00:00<?, ?it/s]"
      ]
     },
     "metadata": {},
     "output_type": "display_data"
    },
    {
     "data": {
      "application/vnd.jupyter.widget-view+json": {
       "model_id": "",
       "version_major": 2,
       "version_minor": 0
      },
      "text/plain": [
       "  ... working at frequency = 3252.0 Hz:   0%|          | 0/100 [00:00<?, ?it/s]"
      ]
     },
     "metadata": {},
     "output_type": "display_data"
    },
    {
     "data": {
      "application/vnd.jupyter.widget-view+json": {
       "model_id": "",
       "version_major": 2,
       "version_minor": 0
      },
      "text/plain": [
       "  ... working at frequency = 3302.0 Hz:   0%|          | 0/100 [00:00<?, ?it/s]"
      ]
     },
     "metadata": {},
     "output_type": "display_data"
    },
    {
     "data": {
      "application/vnd.jupyter.widget-view+json": {
       "model_id": "",
       "version_major": 2,
       "version_minor": 0
      },
      "text/plain": [
       "  ... working at frequency = 3352.0 Hz:   0%|          | 0/100 [00:00<?, ?it/s]"
      ]
     },
     "metadata": {},
     "output_type": "display_data"
    },
    {
     "data": {
      "application/vnd.jupyter.widget-view+json": {
       "model_id": "",
       "version_major": 2,
       "version_minor": 0
      },
      "text/plain": [
       "  ... working at frequency = 3402.0 Hz:   0%|          | 0/100 [00:00<?, ?it/s]"
      ]
     },
     "metadata": {},
     "output_type": "display_data"
    },
    {
     "data": {
      "application/vnd.jupyter.widget-view+json": {
       "model_id": "",
       "version_major": 2,
       "version_minor": 0
      },
      "text/plain": [
       "  ... working at frequency = 3452.0 Hz:   0%|          | 0/100 [00:00<?, ?it/s]"
      ]
     },
     "metadata": {},
     "output_type": "display_data"
    },
    {
     "data": {
      "application/vnd.jupyter.widget-view+json": {
       "model_id": "",
       "version_major": 2,
       "version_minor": 0
      },
      "text/plain": [
       "  ... working at frequency = 3502.0 Hz:   0%|          | 0/100 [00:00<?, ?it/s]"
      ]
     },
     "metadata": {},
     "output_type": "display_data"
    },
    {
     "data": {
      "application/vnd.jupyter.widget-view+json": {
       "model_id": "",
       "version_major": 2,
       "version_minor": 0
      },
      "text/plain": [
       "  ... working at frequency = 3552.0 Hz:   0%|          | 0/100 [00:00<?, ?it/s]"
      ]
     },
     "metadata": {},
     "output_type": "display_data"
    },
    {
     "data": {
      "application/vnd.jupyter.widget-view+json": {
       "model_id": "",
       "version_major": 2,
       "version_minor": 0
      },
      "text/plain": [
       "  ... working at frequency = 3602.0 Hz:   0%|          | 0/100 [00:00<?, ?it/s]"
      ]
     },
     "metadata": {},
     "output_type": "display_data"
    },
    {
     "data": {
      "application/vnd.jupyter.widget-view+json": {
       "model_id": "",
       "version_major": 2,
       "version_minor": 0
      },
      "text/plain": [
       "  ... working at frequency = 3652.0 Hz:   0%|          | 0/100 [00:00<?, ?it/s]"
      ]
     },
     "metadata": {},
     "output_type": "display_data"
    },
    {
     "data": {
      "application/vnd.jupyter.widget-view+json": {
       "model_id": "",
       "version_major": 2,
       "version_minor": 0
      },
      "text/plain": [
       "  ... working at frequency = 3702.0 Hz:   0%|          | 0/100 [00:00<?, ?it/s]"
      ]
     },
     "metadata": {},
     "output_type": "display_data"
    },
    {
     "data": {
      "application/vnd.jupyter.widget-view+json": {
       "model_id": "",
       "version_major": 2,
       "version_minor": 0
      },
      "text/plain": [
       "  ... working at frequency = 3752.0 Hz:   0%|          | 0/100 [00:00<?, ?it/s]"
      ]
     },
     "metadata": {},
     "output_type": "display_data"
    },
    {
     "data": {
      "application/vnd.jupyter.widget-view+json": {
       "model_id": "",
       "version_major": 2,
       "version_minor": 0
      },
      "text/plain": [
       "  ... working at frequency = 3802.0 Hz:   0%|          | 0/100 [00:00<?, ?it/s]"
      ]
     },
     "metadata": {},
     "output_type": "display_data"
    },
    {
     "data": {
      "application/vnd.jupyter.widget-view+json": {
       "model_id": "",
       "version_major": 2,
       "version_minor": 0
      },
      "text/plain": [
       "  ... working at frequency = 3852.0 Hz:   0%|          | 0/100 [00:00<?, ?it/s]"
      ]
     },
     "metadata": {},
     "output_type": "display_data"
    },
    {
     "data": {
      "application/vnd.jupyter.widget-view+json": {
       "model_id": "",
       "version_major": 2,
       "version_minor": 0
      },
      "text/plain": [
       "  ... working at frequency = 3902.0 Hz:   0%|          | 0/100 [00:00<?, ?it/s]"
      ]
     },
     "metadata": {},
     "output_type": "display_data"
    },
    {
     "data": {
      "application/vnd.jupyter.widget-view+json": {
       "model_id": "",
       "version_major": 2,
       "version_minor": 0
      },
      "text/plain": [
       "  ... working at frequency = 3952.0 Hz:   0%|          | 0/100 [00:00<?, ?it/s]"
      ]
     },
     "metadata": {},
     "output_type": "display_data"
    },
    {
     "data": {
      "application/vnd.jupyter.widget-view+json": {
       "model_id": "",
       "version_major": 2,
       "version_minor": 0
      },
      "text/plain": [
       "  ... working at frequency = 4002.0 Hz:   0%|          | 0/100 [00:00<?, ?it/s]"
      ]
     },
     "metadata": {},
     "output_type": "display_data"
    },
    {
     "data": {
      "application/vnd.jupyter.widget-view+json": {
       "model_id": "",
       "version_major": 2,
       "version_minor": 0
      },
      "text/plain": [
       "  ... working at frequency = 4052.0 Hz:   0%|          | 0/100 [00:00<?, ?it/s]"
      ]
     },
     "metadata": {},
     "output_type": "display_data"
    },
    {
     "data": {
      "application/vnd.jupyter.widget-view+json": {
       "model_id": "",
       "version_major": 2,
       "version_minor": 0
      },
      "text/plain": [
       "  ... working at frequency = 4102.0 Hz:   0%|          | 0/100 [00:00<?, ?it/s]"
      ]
     },
     "metadata": {},
     "output_type": "display_data"
    },
    {
     "data": {
      "application/vnd.jupyter.widget-view+json": {
       "model_id": "",
       "version_major": 2,
       "version_minor": 0
      },
      "text/plain": [
       "  ... working at frequency = 4152.0 Hz:   0%|          | 0/100 [00:00<?, ?it/s]"
      ]
     },
     "metadata": {},
     "output_type": "display_data"
    },
    {
     "data": {
      "application/vnd.jupyter.widget-view+json": {
       "model_id": "",
       "version_major": 2,
       "version_minor": 0
      },
      "text/plain": [
       "  ... working at frequency = 4202.0 Hz:   0%|          | 0/100 [00:00<?, ?it/s]"
      ]
     },
     "metadata": {},
     "output_type": "display_data"
    },
    {
     "data": {
      "application/vnd.jupyter.widget-view+json": {
       "model_id": "",
       "version_major": 2,
       "version_minor": 0
      },
      "text/plain": [
       "  ... working at frequency = 4252.0 Hz:   0%|          | 0/100 [00:00<?, ?it/s]"
      ]
     },
     "metadata": {},
     "output_type": "display_data"
    },
    {
     "data": {
      "application/vnd.jupyter.widget-view+json": {
       "model_id": "",
       "version_major": 2,
       "version_minor": 0
      },
      "text/plain": [
       "  ... working at frequency = 4302.0 Hz:   0%|          | 0/100 [00:00<?, ?it/s]"
      ]
     },
     "metadata": {},
     "output_type": "display_data"
    },
    {
     "data": {
      "application/vnd.jupyter.widget-view+json": {
       "model_id": "",
       "version_major": 2,
       "version_minor": 0
      },
      "text/plain": [
       "  ... working at frequency = 4352.0 Hz:   0%|          | 0/100 [00:00<?, ?it/s]"
      ]
     },
     "metadata": {},
     "output_type": "display_data"
    },
    {
     "data": {
      "application/vnd.jupyter.widget-view+json": {
       "model_id": "",
       "version_major": 2,
       "version_minor": 0
      },
      "text/plain": [
       "  ... working at frequency = 4402.0 Hz:   0%|          | 0/100 [00:00<?, ?it/s]"
      ]
     },
     "metadata": {},
     "output_type": "display_data"
    },
    {
     "data": {
      "application/vnd.jupyter.widget-view+json": {
       "model_id": "",
       "version_major": 2,
       "version_minor": 0
      },
      "text/plain": [
       "  ... working at frequency = 4452.0 Hz:   0%|          | 0/100 [00:00<?, ?it/s]"
      ]
     },
     "metadata": {},
     "output_type": "display_data"
    },
    {
     "data": {
      "application/vnd.jupyter.widget-view+json": {
       "model_id": "",
       "version_major": 2,
       "version_minor": 0
      },
      "text/plain": [
       "  ... working at frequency = 4502.0 Hz:   0%|          | 0/100 [00:00<?, ?it/s]"
      ]
     },
     "metadata": {},
     "output_type": "display_data"
    },
    {
     "data": {
      "application/vnd.jupyter.widget-view+json": {
       "model_id": "",
       "version_major": 2,
       "version_minor": 0
      },
      "text/plain": [
       "  ... working at frequency = 4552.0 Hz:   0%|          | 0/100 [00:00<?, ?it/s]"
      ]
     },
     "metadata": {},
     "output_type": "display_data"
    },
    {
     "data": {
      "application/vnd.jupyter.widget-view+json": {
       "model_id": "",
       "version_major": 2,
       "version_minor": 0
      },
      "text/plain": [
       "  ... working at frequency = 4602.0 Hz:   0%|          | 0/100 [00:00<?, ?it/s]"
      ]
     },
     "metadata": {},
     "output_type": "display_data"
    },
    {
     "data": {
      "application/vnd.jupyter.widget-view+json": {
       "model_id": "",
       "version_major": 2,
       "version_minor": 0
      },
      "text/plain": [
       "  ... working at frequency = 4652.0 Hz:   0%|          | 0/100 [00:00<?, ?it/s]"
      ]
     },
     "metadata": {},
     "output_type": "display_data"
    },
    {
     "data": {
      "application/vnd.jupyter.widget-view+json": {
       "model_id": "",
       "version_major": 2,
       "version_minor": 0
      },
      "text/plain": [
       "  ... working at frequency = 4702.0 Hz:   0%|          | 0/100 [00:00<?, ?it/s]"
      ]
     },
     "metadata": {},
     "output_type": "display_data"
    },
    {
     "data": {
      "application/vnd.jupyter.widget-view+json": {
       "model_id": "",
       "version_major": 2,
       "version_minor": 0
      },
      "text/plain": [
       "  ... working at frequency = 4752.0 Hz:   0%|          | 0/100 [00:00<?, ?it/s]"
      ]
     },
     "metadata": {},
     "output_type": "display_data"
    },
    {
     "data": {
      "application/vnd.jupyter.widget-view+json": {
       "model_id": "",
       "version_major": 2,
       "version_minor": 0
      },
      "text/plain": [
       "  ... working at frequency = 4802.0 Hz:   0%|          | 0/100 [00:00<?, ?it/s]"
      ]
     },
     "metadata": {},
     "output_type": "display_data"
    },
    {
     "data": {
      "application/vnd.jupyter.widget-view+json": {
       "model_id": "",
       "version_major": 2,
       "version_minor": 0
      },
      "text/plain": [
       "  ... working at frequency = 4852.0 Hz:   0%|          | 0/100 [00:00<?, ?it/s]"
      ]
     },
     "metadata": {},
     "output_type": "display_data"
    },
    {
     "data": {
      "application/vnd.jupyter.widget-view+json": {
       "model_id": "",
       "version_major": 2,
       "version_minor": 0
      },
      "text/plain": [
       "  ... working at frequency = 4902.0 Hz:   0%|          | 0/100 [00:00<?, ?it/s]"
      ]
     },
     "metadata": {},
     "output_type": "display_data"
    },
    {
     "data": {
      "application/vnd.jupyter.widget-view+json": {
       "model_id": "",
       "version_major": 2,
       "version_minor": 0
      },
      "text/plain": [
       "  ... working at frequency = 4952.0 Hz:   0%|          | 0/100 [00:00<?, ?it/s]"
      ]
     },
     "metadata": {},
     "output_type": "display_data"
    },
    {
     "data": {
      "application/vnd.jupyter.widget-view+json": {
       "model_id": "",
       "version_major": 2,
       "version_minor": 0
      },
      "text/plain": [
       "  ... working at frequency = 5002.0 Hz:   0%|          | 0/100 [00:00<?, ?it/s]"
      ]
     },
     "metadata": {},
     "output_type": "display_data"
    },
    {
     "data": {
      "application/vnd.jupyter.widget-view+json": {
       "model_id": "",
       "version_major": 2,
       "version_minor": 0
      },
      "text/plain": [
       "  ... working at frequency = 5052.0 Hz:   0%|          | 0/100 [00:00<?, ?it/s]"
      ]
     },
     "metadata": {},
     "output_type": "display_data"
    },
    {
     "data": {
      "application/vnd.jupyter.widget-view+json": {
       "model_id": "",
       "version_major": 2,
       "version_minor": 0
      },
      "text/plain": [
       "  ... working at frequency = 5102.0 Hz:   0%|          | 0/100 [00:00<?, ?it/s]"
      ]
     },
     "metadata": {},
     "output_type": "display_data"
    },
    {
     "data": {
      "application/vnd.jupyter.widget-view+json": {
       "model_id": "",
       "version_major": 2,
       "version_minor": 0
      },
      "text/plain": [
       "  ... working at frequency = 5152.0 Hz:   0%|          | 0/100 [00:00<?, ?it/s]"
      ]
     },
     "metadata": {},
     "output_type": "display_data"
    },
    {
     "data": {
      "application/vnd.jupyter.widget-view+json": {
       "model_id": "",
       "version_major": 2,
       "version_minor": 0
      },
      "text/plain": [
       "  ... working at frequency = 5202.0 Hz:   0%|          | 0/100 [00:00<?, ?it/s]"
      ]
     },
     "metadata": {},
     "output_type": "display_data"
    },
    {
     "data": {
      "application/vnd.jupyter.widget-view+json": {
       "model_id": "",
       "version_major": 2,
       "version_minor": 0
      },
      "text/plain": [
       "  ... working at frequency = 5252.0 Hz:   0%|          | 0/100 [00:00<?, ?it/s]"
      ]
     },
     "metadata": {},
     "output_type": "display_data"
    },
    {
     "data": {
      "application/vnd.jupyter.widget-view+json": {
       "model_id": "",
       "version_major": 2,
       "version_minor": 0
      },
      "text/plain": [
       "  ... working at frequency = 5302.0 Hz:   0%|          | 0/100 [00:00<?, ?it/s]"
      ]
     },
     "metadata": {},
     "output_type": "display_data"
    },
    {
     "data": {
      "application/vnd.jupyter.widget-view+json": {
       "model_id": "",
       "version_major": 2,
       "version_minor": 0
      },
      "text/plain": [
       "  ... working at frequency = 5352.0 Hz:   0%|          | 0/100 [00:00<?, ?it/s]"
      ]
     },
     "metadata": {},
     "output_type": "display_data"
    },
    {
     "data": {
      "application/vnd.jupyter.widget-view+json": {
       "model_id": "",
       "version_major": 2,
       "version_minor": 0
      },
      "text/plain": [
       "  ... working at frequency = 5402.0 Hz:   0%|          | 0/100 [00:00<?, ?it/s]"
      ]
     },
     "metadata": {},
     "output_type": "display_data"
    },
    {
     "data": {
      "application/vnd.jupyter.widget-view+json": {
       "model_id": "",
       "version_major": 2,
       "version_minor": 0
      },
      "text/plain": [
       "  ... working at frequency = 5452.0 Hz:   0%|          | 0/100 [00:00<?, ?it/s]"
      ]
     },
     "metadata": {},
     "output_type": "display_data"
    },
    {
     "data": {
      "application/vnd.jupyter.widget-view+json": {
       "model_id": "",
       "version_major": 2,
       "version_minor": 0
      },
      "text/plain": [
       "  ... working at frequency = 5502.0 Hz:   0%|          | 0/100 [00:00<?, ?it/s]"
      ]
     },
     "metadata": {},
     "output_type": "display_data"
    },
    {
     "data": {
      "application/vnd.jupyter.widget-view+json": {
       "model_id": "",
       "version_major": 2,
       "version_minor": 0
      },
      "text/plain": [
       "  ... working at frequency = 5552.0 Hz:   0%|          | 0/100 [00:00<?, ?it/s]"
      ]
     },
     "metadata": {},
     "output_type": "display_data"
    },
    {
     "data": {
      "application/vnd.jupyter.widget-view+json": {
       "model_id": "",
       "version_major": 2,
       "version_minor": 0
      },
      "text/plain": [
       "  ... working at frequency = 5602.0 Hz:   0%|          | 0/100 [00:00<?, ?it/s]"
      ]
     },
     "metadata": {},
     "output_type": "display_data"
    },
    {
     "data": {
      "application/vnd.jupyter.widget-view+json": {
       "model_id": "",
       "version_major": 2,
       "version_minor": 0
      },
      "text/plain": [
       "  ... working at frequency = 5652.0 Hz:   0%|          | 0/100 [00:00<?, ?it/s]"
      ]
     },
     "metadata": {},
     "output_type": "display_data"
    },
    {
     "data": {
      "application/vnd.jupyter.widget-view+json": {
       "model_id": "",
       "version_major": 2,
       "version_minor": 0
      },
      "text/plain": [
       "  ... working at frequency = 5702.0 Hz:   0%|          | 0/100 [00:00<?, ?it/s]"
      ]
     },
     "metadata": {},
     "output_type": "display_data"
    },
    {
     "data": {
      "application/vnd.jupyter.widget-view+json": {
       "model_id": "",
       "version_major": 2,
       "version_minor": 0
      },
      "text/plain": [
       "  ... working at frequency = 5752.0 Hz:   0%|          | 0/100 [00:00<?, ?it/s]"
      ]
     },
     "metadata": {},
     "output_type": "display_data"
    },
    {
     "data": {
      "application/vnd.jupyter.widget-view+json": {
       "model_id": "",
       "version_major": 2,
       "version_minor": 0
      },
      "text/plain": [
       "  ... working at frequency = 5802.0 Hz:   0%|          | 0/100 [00:00<?, ?it/s]"
      ]
     },
     "metadata": {},
     "output_type": "display_data"
    },
    {
     "data": {
      "application/vnd.jupyter.widget-view+json": {
       "model_id": "",
       "version_major": 2,
       "version_minor": 0
      },
      "text/plain": [
       "  ... working at frequency = 5852.0 Hz:   0%|          | 0/100 [00:00<?, ?it/s]"
      ]
     },
     "metadata": {},
     "output_type": "display_data"
    },
    {
     "data": {
      "application/vnd.jupyter.widget-view+json": {
       "model_id": "",
       "version_major": 2,
       "version_minor": 0
      },
      "text/plain": [
       "  ... working at frequency = 5902.0 Hz:   0%|          | 0/100 [00:00<?, ?it/s]"
      ]
     },
     "metadata": {},
     "output_type": "display_data"
    },
    {
     "data": {
      "application/vnd.jupyter.widget-view+json": {
       "model_id": "",
       "version_major": 2,
       "version_minor": 0
      },
      "text/plain": [
       "  ... working at frequency = 5952.0 Hz:   0%|          | 0/100 [00:00<?, ?it/s]"
      ]
     },
     "metadata": {},
     "output_type": "display_data"
    },
    {
     "data": {
      "application/vnd.jupyter.widget-view+json": {
       "model_id": "",
       "version_major": 2,
       "version_minor": 0
      },
      "text/plain": [
       "  ... working at frequency = 6002.0 Hz:   0%|          | 0/100 [00:00<?, ?it/s]"
      ]
     },
     "metadata": {},
     "output_type": "display_data"
    },
    {
     "data": {
      "application/vnd.jupyter.widget-view+json": {
       "model_id": "",
       "version_major": 2,
       "version_minor": 0
      },
      "text/plain": [
       "  ... working at frequency = 6052.0 Hz:   0%|          | 0/100 [00:00<?, ?it/s]"
      ]
     },
     "metadata": {},
     "output_type": "display_data"
    },
    {
     "data": {
      "application/vnd.jupyter.widget-view+json": {
       "model_id": "",
       "version_major": 2,
       "version_minor": 0
      },
      "text/plain": [
       "  ... working at frequency = 6102.0 Hz:   0%|          | 0/100 [00:00<?, ?it/s]"
      ]
     },
     "metadata": {},
     "output_type": "display_data"
    },
    {
     "data": {
      "application/vnd.jupyter.widget-view+json": {
       "model_id": "",
       "version_major": 2,
       "version_minor": 0
      },
      "text/plain": [
       "  ... working at frequency = 6152.0 Hz:   0%|          | 0/100 [00:00<?, ?it/s]"
      ]
     },
     "metadata": {},
     "output_type": "display_data"
    },
    {
     "data": {
      "application/vnd.jupyter.widget-view+json": {
       "model_id": "",
       "version_major": 2,
       "version_minor": 0
      },
      "text/plain": [
       "  ... working at frequency = 6202.0 Hz:   0%|          | 0/100 [00:00<?, ?it/s]"
      ]
     },
     "metadata": {},
     "output_type": "display_data"
    },
    {
     "data": {
      "application/vnd.jupyter.widget-view+json": {
       "model_id": "",
       "version_major": 2,
       "version_minor": 0
      },
      "text/plain": [
       "  ... working at frequency = 6252.0 Hz:   0%|          | 0/100 [00:00<?, ?it/s]"
      ]
     },
     "metadata": {},
     "output_type": "display_data"
    },
    {
     "data": {
      "application/vnd.jupyter.widget-view+json": {
       "model_id": "",
       "version_major": 2,
       "version_minor": 0
      },
      "text/plain": [
       "  ... working at frequency = 6302.0 Hz:   0%|          | 0/100 [00:00<?, ?it/s]"
      ]
     },
     "metadata": {},
     "output_type": "display_data"
    },
    {
     "data": {
      "application/vnd.jupyter.widget-view+json": {
       "model_id": "",
       "version_major": 2,
       "version_minor": 0
      },
      "text/plain": [
       "  ... working at frequency = 6352.0 Hz:   0%|          | 0/100 [00:00<?, ?it/s]"
      ]
     },
     "metadata": {},
     "output_type": "display_data"
    },
    {
     "data": {
      "application/vnd.jupyter.widget-view+json": {
       "model_id": "",
       "version_major": 2,
       "version_minor": 0
      },
      "text/plain": [
       "  ... working at frequency = 6402.0 Hz:   0%|          | 0/100 [00:00<?, ?it/s]"
      ]
     },
     "metadata": {},
     "output_type": "display_data"
    },
    {
     "data": {
      "application/vnd.jupyter.widget-view+json": {
       "model_id": "",
       "version_major": 2,
       "version_minor": 0
      },
      "text/plain": [
       "  ... working at frequency = 6452.0 Hz:   0%|          | 0/100 [00:00<?, ?it/s]"
      ]
     },
     "metadata": {},
     "output_type": "display_data"
    },
    {
     "data": {
      "application/vnd.jupyter.widget-view+json": {
       "model_id": "",
       "version_major": 2,
       "version_minor": 0
      },
      "text/plain": [
       "  ... working at frequency = 6502.0 Hz:   0%|          | 0/100 [00:00<?, ?it/s]"
      ]
     },
     "metadata": {},
     "output_type": "display_data"
    },
    {
     "data": {
      "application/vnd.jupyter.widget-view+json": {
       "model_id": "",
       "version_major": 2,
       "version_minor": 0
      },
      "text/plain": [
       "  ... working at frequency = 6552.0 Hz:   0%|          | 0/100 [00:00<?, ?it/s]"
      ]
     },
     "metadata": {},
     "output_type": "display_data"
    },
    {
     "data": {
      "application/vnd.jupyter.widget-view+json": {
       "model_id": "",
       "version_major": 2,
       "version_minor": 0
      },
      "text/plain": [
       "  ... working at frequency = 6602.0 Hz:   0%|          | 0/100 [00:00<?, ?it/s]"
      ]
     },
     "metadata": {},
     "output_type": "display_data"
    },
    {
     "data": {
      "application/vnd.jupyter.widget-view+json": {
       "model_id": "",
       "version_major": 2,
       "version_minor": 0
      },
      "text/plain": [
       "  ... working at frequency = 6652.0 Hz:   0%|          | 0/100 [00:00<?, ?it/s]"
      ]
     },
     "metadata": {},
     "output_type": "display_data"
    },
    {
     "data": {
      "application/vnd.jupyter.widget-view+json": {
       "model_id": "",
       "version_major": 2,
       "version_minor": 0
      },
      "text/plain": [
       "  ... working at frequency = 6702.0 Hz:   0%|          | 0/100 [00:00<?, ?it/s]"
      ]
     },
     "metadata": {},
     "output_type": "display_data"
    },
    {
     "data": {
      "application/vnd.jupyter.widget-view+json": {
       "model_id": "",
       "version_major": 2,
       "version_minor": 0
      },
      "text/plain": [
       "  ... working at frequency = 6752.0 Hz:   0%|          | 0/100 [00:00<?, ?it/s]"
      ]
     },
     "metadata": {},
     "output_type": "display_data"
    },
    {
     "data": {
      "application/vnd.jupyter.widget-view+json": {
       "model_id": "",
       "version_major": 2,
       "version_minor": 0
      },
      "text/plain": [
       "  ... working at frequency = 6802.0 Hz:   0%|          | 0/100 [00:00<?, ?it/s]"
      ]
     },
     "metadata": {},
     "output_type": "display_data"
    },
    {
     "data": {
      "application/vnd.jupyter.widget-view+json": {
       "model_id": "",
       "version_major": 2,
       "version_minor": 0
      },
      "text/plain": [
       "  ... working at frequency = 6852.0 Hz:   0%|          | 0/100 [00:00<?, ?it/s]"
      ]
     },
     "metadata": {},
     "output_type": "display_data"
    },
    {
     "data": {
      "application/vnd.jupyter.widget-view+json": {
       "model_id": "",
       "version_major": 2,
       "version_minor": 0
      },
      "text/plain": [
       "  ... working at frequency = 6902.0 Hz:   0%|          | 0/100 [00:00<?, ?it/s]"
      ]
     },
     "metadata": {},
     "output_type": "display_data"
    },
    {
     "data": {
      "application/vnd.jupyter.widget-view+json": {
       "model_id": "",
       "version_major": 2,
       "version_minor": 0
      },
      "text/plain": [
       "  ... working at frequency = 6952.0 Hz:   0%|          | 0/100 [00:00<?, ?it/s]"
      ]
     },
     "metadata": {},
     "output_type": "display_data"
    },
    {
     "data": {
      "application/vnd.jupyter.widget-view+json": {
       "model_id": "",
       "version_major": 2,
       "version_minor": 0
      },
      "text/plain": [
       "  ... working at frequency = 7002.0 Hz:   0%|          | 0/100 [00:00<?, ?it/s]"
      ]
     },
     "metadata": {},
     "output_type": "display_data"
    },
    {
     "data": {
      "application/vnd.jupyter.widget-view+json": {
       "model_id": "",
       "version_major": 2,
       "version_minor": 0
      },
      "text/plain": [
       "  ... working at frequency = 7052.0 Hz:   0%|          | 0/100 [00:00<?, ?it/s]"
      ]
     },
     "metadata": {},
     "output_type": "display_data"
    },
    {
     "data": {
      "application/vnd.jupyter.widget-view+json": {
       "model_id": "",
       "version_major": 2,
       "version_minor": 0
      },
      "text/plain": [
       "  ... working at frequency = 7102.0 Hz:   0%|          | 0/100 [00:00<?, ?it/s]"
      ]
     },
     "metadata": {},
     "output_type": "display_data"
    },
    {
     "data": {
      "application/vnd.jupyter.widget-view+json": {
       "model_id": "",
       "version_major": 2,
       "version_minor": 0
      },
      "text/plain": [
       "  ... working at frequency = 7152.0 Hz:   0%|          | 0/100 [00:00<?, ?it/s]"
      ]
     },
     "metadata": {},
     "output_type": "display_data"
    },
    {
     "data": {
      "application/vnd.jupyter.widget-view+json": {
       "model_id": "",
       "version_major": 2,
       "version_minor": 0
      },
      "text/plain": [
       "  ... working at frequency = 7202.0 Hz:   0%|          | 0/100 [00:00<?, ?it/s]"
      ]
     },
     "metadata": {},
     "output_type": "display_data"
    },
    {
     "data": {
      "application/vnd.jupyter.widget-view+json": {
       "model_id": "",
       "version_major": 2,
       "version_minor": 0
      },
      "text/plain": [
       "  ... working at frequency = 7252.0 Hz:   0%|          | 0/100 [00:00<?, ?it/s]"
      ]
     },
     "metadata": {},
     "output_type": "display_data"
    },
    {
     "data": {
      "application/vnd.jupyter.widget-view+json": {
       "model_id": "",
       "version_major": 2,
       "version_minor": 0
      },
      "text/plain": [
       "  ... working at frequency = 7302.0 Hz:   0%|          | 0/100 [00:00<?, ?it/s]"
      ]
     },
     "metadata": {},
     "output_type": "display_data"
    },
    {
     "data": {
      "application/vnd.jupyter.widget-view+json": {
       "model_id": "",
       "version_major": 2,
       "version_minor": 0
      },
      "text/plain": [
       "  ... working at frequency = 7352.0 Hz:   0%|          | 0/100 [00:00<?, ?it/s]"
      ]
     },
     "metadata": {},
     "output_type": "display_data"
    },
    {
     "data": {
      "application/vnd.jupyter.widget-view+json": {
       "model_id": "",
       "version_major": 2,
       "version_minor": 0
      },
      "text/plain": [
       "  ... working at frequency = 7402.0 Hz:   0%|          | 0/100 [00:00<?, ?it/s]"
      ]
     },
     "metadata": {},
     "output_type": "display_data"
    },
    {
     "data": {
      "application/vnd.jupyter.widget-view+json": {
       "model_id": "",
       "version_major": 2,
       "version_minor": 0
      },
      "text/plain": [
       "  ... working at frequency = 7452.0 Hz:   0%|          | 0/100 [00:00<?, ?it/s]"
      ]
     },
     "metadata": {},
     "output_type": "display_data"
    },
    {
     "data": {
      "application/vnd.jupyter.widget-view+json": {
       "model_id": "",
       "version_major": 2,
       "version_minor": 0
      },
      "text/plain": [
       "  ... working at frequency = 7502.0 Hz:   0%|          | 0/100 [00:00<?, ?it/s]"
      ]
     },
     "metadata": {},
     "output_type": "display_data"
    },
    {
     "data": {
      "application/vnd.jupyter.widget-view+json": {
       "model_id": "",
       "version_major": 2,
       "version_minor": 0
      },
      "text/plain": [
       "  ... working at frequency = 7552.0 Hz:   0%|          | 0/100 [00:00<?, ?it/s]"
      ]
     },
     "metadata": {},
     "output_type": "display_data"
    },
    {
     "data": {
      "application/vnd.jupyter.widget-view+json": {
       "model_id": "",
       "version_major": 2,
       "version_minor": 0
      },
      "text/plain": [
       "  ... working at frequency = 7602.0 Hz:   0%|          | 0/100 [00:00<?, ?it/s]"
      ]
     },
     "metadata": {},
     "output_type": "display_data"
    },
    {
     "data": {
      "application/vnd.jupyter.widget-view+json": {
       "model_id": "",
       "version_major": 2,
       "version_minor": 0
      },
      "text/plain": [
       "  ... working at frequency = 7652.0 Hz:   0%|          | 0/100 [00:00<?, ?it/s]"
      ]
     },
     "metadata": {},
     "output_type": "display_data"
    },
    {
     "data": {
      "application/vnd.jupyter.widget-view+json": {
       "model_id": "",
       "version_major": 2,
       "version_minor": 0
      },
      "text/plain": [
       "  ... working at frequency = 7702.0 Hz:   0%|          | 0/100 [00:00<?, ?it/s]"
      ]
     },
     "metadata": {},
     "output_type": "display_data"
    },
    {
     "data": {
      "application/vnd.jupyter.widget-view+json": {
       "model_id": "",
       "version_major": 2,
       "version_minor": 0
      },
      "text/plain": [
       "  ... working at frequency = 7752.0 Hz:   0%|          | 0/100 [00:00<?, ?it/s]"
      ]
     },
     "metadata": {},
     "output_type": "display_data"
    },
    {
     "data": {
      "application/vnd.jupyter.widget-view+json": {
       "model_id": "",
       "version_major": 2,
       "version_minor": 0
      },
      "text/plain": [
       "  ... working at frequency = 7802.0 Hz:   0%|          | 0/100 [00:00<?, ?it/s]"
      ]
     },
     "metadata": {},
     "output_type": "display_data"
    },
    {
     "data": {
      "application/vnd.jupyter.widget-view+json": {
       "model_id": "",
       "version_major": 2,
       "version_minor": 0
      },
      "text/plain": [
       "  ... working at frequency = 7852.0 Hz:   0%|          | 0/100 [00:00<?, ?it/s]"
      ]
     },
     "metadata": {},
     "output_type": "display_data"
    },
    {
     "data": {
      "application/vnd.jupyter.widget-view+json": {
       "model_id": "",
       "version_major": 2,
       "version_minor": 0
      },
      "text/plain": [
       "  ... working at frequency = 7902.0 Hz:   0%|          | 0/100 [00:00<?, ?it/s]"
      ]
     },
     "metadata": {},
     "output_type": "display_data"
    },
    {
     "data": {
      "application/vnd.jupyter.widget-view+json": {
       "model_id": "",
       "version_major": 2,
       "version_minor": 0
      },
      "text/plain": [
       "  ... working at frequency = 7952.0 Hz:   0%|          | 0/100 [00:00<?, ?it/s]"
      ]
     },
     "metadata": {},
     "output_type": "display_data"
    },
    {
     "data": {
      "application/vnd.jupyter.widget-view+json": {
       "model_id": "",
       "version_major": 2,
       "version_minor": 0
      },
      "text/plain": [
       "  ... working at frequency = 8002.0 Hz:   0%|          | 0/100 [00:00<?, ?it/s]"
      ]
     },
     "metadata": {},
     "output_type": "display_data"
    },
    {
     "data": {
      "application/vnd.jupyter.widget-view+json": {
       "model_id": "",
       "version_major": 2,
       "version_minor": 0
      },
      "text/plain": [
       "  ... working at frequency = 8052.0 Hz:   0%|          | 0/100 [00:00<?, ?it/s]"
      ]
     },
     "metadata": {},
     "output_type": "display_data"
    },
    {
     "data": {
      "application/vnd.jupyter.widget-view+json": {
       "model_id": "",
       "version_major": 2,
       "version_minor": 0
      },
      "text/plain": [
       "  ... working at frequency = 8102.0 Hz:   0%|          | 0/100 [00:00<?, ?it/s]"
      ]
     },
     "metadata": {},
     "output_type": "display_data"
    },
    {
     "data": {
      "application/vnd.jupyter.widget-view+json": {
       "model_id": "",
       "version_major": 2,
       "version_minor": 0
      },
      "text/plain": [
       "  ... working at frequency = 8152.0 Hz:   0%|          | 0/100 [00:00<?, ?it/s]"
      ]
     },
     "metadata": {},
     "output_type": "display_data"
    },
    {
     "data": {
      "application/vnd.jupyter.widget-view+json": {
       "model_id": "",
       "version_major": 2,
       "version_minor": 0
      },
      "text/plain": [
       "  ... working at frequency = 8202.0 Hz:   0%|          | 0/100 [00:00<?, ?it/s]"
      ]
     },
     "metadata": {},
     "output_type": "display_data"
    },
    {
     "data": {
      "application/vnd.jupyter.widget-view+json": {
       "model_id": "",
       "version_major": 2,
       "version_minor": 0
      },
      "text/plain": [
       "  ... working at frequency = 8252.0 Hz:   0%|          | 0/100 [00:00<?, ?it/s]"
      ]
     },
     "metadata": {},
     "output_type": "display_data"
    },
    {
     "data": {
      "application/vnd.jupyter.widget-view+json": {
       "model_id": "",
       "version_major": 2,
       "version_minor": 0
      },
      "text/plain": [
       "  ... working at frequency = 8302.0 Hz:   0%|          | 0/100 [00:00<?, ?it/s]"
      ]
     },
     "metadata": {},
     "output_type": "display_data"
    },
    {
     "data": {
      "application/vnd.jupyter.widget-view+json": {
       "model_id": "",
       "version_major": 2,
       "version_minor": 0
      },
      "text/plain": [
       "  ... working at frequency = 8352.0 Hz:   0%|          | 0/100 [00:00<?, ?it/s]"
      ]
     },
     "metadata": {},
     "output_type": "display_data"
    },
    {
     "data": {
      "application/vnd.jupyter.widget-view+json": {
       "model_id": "",
       "version_major": 2,
       "version_minor": 0
      },
      "text/plain": [
       "  ... working at frequency = 8402.0 Hz:   0%|          | 0/100 [00:00<?, ?it/s]"
      ]
     },
     "metadata": {},
     "output_type": "display_data"
    },
    {
     "data": {
      "application/vnd.jupyter.widget-view+json": {
       "model_id": "",
       "version_major": 2,
       "version_minor": 0
      },
      "text/plain": [
       "  ... working at frequency = 8452.0 Hz:   0%|          | 0/100 [00:00<?, ?it/s]"
      ]
     },
     "metadata": {},
     "output_type": "display_data"
    },
    {
     "data": {
      "application/vnd.jupyter.widget-view+json": {
       "model_id": "",
       "version_major": 2,
       "version_minor": 0
      },
      "text/plain": [
       "  ... working at frequency = 8502.0 Hz:   0%|          | 0/100 [00:00<?, ?it/s]"
      ]
     },
     "metadata": {},
     "output_type": "display_data"
    },
    {
     "data": {
      "application/vnd.jupyter.widget-view+json": {
       "model_id": "",
       "version_major": 2,
       "version_minor": 0
      },
      "text/plain": [
       "  ... working at frequency = 8552.0 Hz:   0%|          | 0/100 [00:00<?, ?it/s]"
      ]
     },
     "metadata": {},
     "output_type": "display_data"
    },
    {
     "data": {
      "application/vnd.jupyter.widget-view+json": {
       "model_id": "",
       "version_major": 2,
       "version_minor": 0
      },
      "text/plain": [
       "  ... working at frequency = 8602.0 Hz:   0%|          | 0/100 [00:00<?, ?it/s]"
      ]
     },
     "metadata": {},
     "output_type": "display_data"
    },
    {
     "data": {
      "application/vnd.jupyter.widget-view+json": {
       "model_id": "",
       "version_major": 2,
       "version_minor": 0
      },
      "text/plain": [
       "  ... working at frequency = 8652.0 Hz:   0%|          | 0/100 [00:00<?, ?it/s]"
      ]
     },
     "metadata": {},
     "output_type": "display_data"
    },
    {
     "data": {
      "application/vnd.jupyter.widget-view+json": {
       "model_id": "",
       "version_major": 2,
       "version_minor": 0
      },
      "text/plain": [
       "  ... working at frequency = 8702.0 Hz:   0%|          | 0/100 [00:00<?, ?it/s]"
      ]
     },
     "metadata": {},
     "output_type": "display_data"
    },
    {
     "data": {
      "application/vnd.jupyter.widget-view+json": {
       "model_id": "",
       "version_major": 2,
       "version_minor": 0
      },
      "text/plain": [
       "  ... working at frequency = 8752.0 Hz:   0%|          | 0/100 [00:00<?, ?it/s]"
      ]
     },
     "metadata": {},
     "output_type": "display_data"
    },
    {
     "data": {
      "application/vnd.jupyter.widget-view+json": {
       "model_id": "",
       "version_major": 2,
       "version_minor": 0
      },
      "text/plain": [
       "  ... working at frequency = 8802.0 Hz:   0%|          | 0/100 [00:00<?, ?it/s]"
      ]
     },
     "metadata": {},
     "output_type": "display_data"
    },
    {
     "data": {
      "application/vnd.jupyter.widget-view+json": {
       "model_id": "",
       "version_major": 2,
       "version_minor": 0
      },
      "text/plain": [
       "  ... working at frequency = 8852.0 Hz:   0%|          | 0/100 [00:00<?, ?it/s]"
      ]
     },
     "metadata": {},
     "output_type": "display_data"
    },
    {
     "data": {
      "application/vnd.jupyter.widget-view+json": {
       "model_id": "",
       "version_major": 2,
       "version_minor": 0
      },
      "text/plain": [
       "  ... working at frequency = 8902.0 Hz:   0%|          | 0/100 [00:00<?, ?it/s]"
      ]
     },
     "metadata": {},
     "output_type": "display_data"
    },
    {
     "data": {
      "application/vnd.jupyter.widget-view+json": {
       "model_id": "",
       "version_major": 2,
       "version_minor": 0
      },
      "text/plain": [
       "  ... working at frequency = 8952.0 Hz:   0%|          | 0/100 [00:00<?, ?it/s]"
      ]
     },
     "metadata": {},
     "output_type": "display_data"
    },
    {
     "data": {
      "application/vnd.jupyter.widget-view+json": {
       "model_id": "",
       "version_major": 2,
       "version_minor": 0
      },
      "text/plain": [
       "  ... working at frequency = 9002.0 Hz:   0%|          | 0/100 [00:00<?, ?it/s]"
      ]
     },
     "metadata": {},
     "output_type": "display_data"
    },
    {
     "data": {
      "application/vnd.jupyter.widget-view+json": {
       "model_id": "",
       "version_major": 2,
       "version_minor": 0
      },
      "text/plain": [
       "  ... working at frequency = 9052.0 Hz:   0%|          | 0/100 [00:00<?, ?it/s]"
      ]
     },
     "metadata": {},
     "output_type": "display_data"
    },
    {
     "data": {
      "application/vnd.jupyter.widget-view+json": {
       "model_id": "",
       "version_major": 2,
       "version_minor": 0
      },
      "text/plain": [
       "  ... working at frequency = 9102.0 Hz:   0%|          | 0/100 [00:00<?, ?it/s]"
      ]
     },
     "metadata": {},
     "output_type": "display_data"
    },
    {
     "data": {
      "application/vnd.jupyter.widget-view+json": {
       "model_id": "",
       "version_major": 2,
       "version_minor": 0
      },
      "text/plain": [
       "  ... working at frequency = 9152.0 Hz:   0%|          | 0/100 [00:00<?, ?it/s]"
      ]
     },
     "metadata": {},
     "output_type": "display_data"
    },
    {
     "data": {
      "application/vnd.jupyter.widget-view+json": {
       "model_id": "",
       "version_major": 2,
       "version_minor": 0
      },
      "text/plain": [
       "  ... working at frequency = 9202.0 Hz:   0%|          | 0/100 [00:00<?, ?it/s]"
      ]
     },
     "metadata": {},
     "output_type": "display_data"
    },
    {
     "data": {
      "application/vnd.jupyter.widget-view+json": {
       "model_id": "",
       "version_major": 2,
       "version_minor": 0
      },
      "text/plain": [
       "  ... working at frequency = 9252.0 Hz:   0%|          | 0/100 [00:00<?, ?it/s]"
      ]
     },
     "metadata": {},
     "output_type": "display_data"
    },
    {
     "data": {
      "application/vnd.jupyter.widget-view+json": {
       "model_id": "",
       "version_major": 2,
       "version_minor": 0
      },
      "text/plain": [
       "  ... working at frequency = 9302.0 Hz:   0%|          | 0/100 [00:00<?, ?it/s]"
      ]
     },
     "metadata": {},
     "output_type": "display_data"
    },
    {
     "data": {
      "application/vnd.jupyter.widget-view+json": {
       "model_id": "",
       "version_major": 2,
       "version_minor": 0
      },
      "text/plain": [
       "  ... working at frequency = 9352.0 Hz:   0%|          | 0/100 [00:00<?, ?it/s]"
      ]
     },
     "metadata": {},
     "output_type": "display_data"
    },
    {
     "data": {
      "application/vnd.jupyter.widget-view+json": {
       "model_id": "",
       "version_major": 2,
       "version_minor": 0
      },
      "text/plain": [
       "  ... working at frequency = 9402.0 Hz:   0%|          | 0/100 [00:00<?, ?it/s]"
      ]
     },
     "metadata": {},
     "output_type": "display_data"
    },
    {
     "data": {
      "application/vnd.jupyter.widget-view+json": {
       "model_id": "",
       "version_major": 2,
       "version_minor": 0
      },
      "text/plain": [
       "  ... working at frequency = 9452.0 Hz:   0%|          | 0/100 [00:00<?, ?it/s]"
      ]
     },
     "metadata": {},
     "output_type": "display_data"
    },
    {
     "data": {
      "application/vnd.jupyter.widget-view+json": {
       "model_id": "",
       "version_major": 2,
       "version_minor": 0
      },
      "text/plain": [
       "  ... working at frequency = 9502.0 Hz:   0%|          | 0/100 [00:00<?, ?it/s]"
      ]
     },
     "metadata": {},
     "output_type": "display_data"
    },
    {
     "data": {
      "application/vnd.jupyter.widget-view+json": {
       "model_id": "",
       "version_major": 2,
       "version_minor": 0
      },
      "text/plain": [
       "  ... working at frequency = 9552.0 Hz:   0%|          | 0/100 [00:00<?, ?it/s]"
      ]
     },
     "metadata": {},
     "output_type": "display_data"
    },
    {
     "data": {
      "application/vnd.jupyter.widget-view+json": {
       "model_id": "",
       "version_major": 2,
       "version_minor": 0
      },
      "text/plain": [
       "  ... working at frequency = 9602.0 Hz:   0%|          | 0/100 [00:00<?, ?it/s]"
      ]
     },
     "metadata": {},
     "output_type": "display_data"
    },
    {
     "data": {
      "application/vnd.jupyter.widget-view+json": {
       "model_id": "",
       "version_major": 2,
       "version_minor": 0
      },
      "text/plain": [
       "  ... working at frequency = 9652.0 Hz:   0%|          | 0/100 [00:00<?, ?it/s]"
      ]
     },
     "metadata": {},
     "output_type": "display_data"
    },
    {
     "data": {
      "application/vnd.jupyter.widget-view+json": {
       "model_id": "",
       "version_major": 2,
       "version_minor": 0
      },
      "text/plain": [
       "  ... working at frequency = 9702.0 Hz:   0%|          | 0/100 [00:00<?, ?it/s]"
      ]
     },
     "metadata": {},
     "output_type": "display_data"
    },
    {
     "data": {
      "application/vnd.jupyter.widget-view+json": {
       "model_id": "",
       "version_major": 2,
       "version_minor": 0
      },
      "text/plain": [
       "  ... working at frequency = 9752.0 Hz:   0%|          | 0/100 [00:00<?, ?it/s]"
      ]
     },
     "metadata": {},
     "output_type": "display_data"
    },
    {
     "data": {
      "application/vnd.jupyter.widget-view+json": {
       "model_id": "",
       "version_major": 2,
       "version_minor": 0
      },
      "text/plain": [
       "  ... working at frequency = 9802.0 Hz:   0%|          | 0/100 [00:00<?, ?it/s]"
      ]
     },
     "metadata": {},
     "output_type": "display_data"
    },
    {
     "data": {
      "application/vnd.jupyter.widget-view+json": {
       "model_id": "",
       "version_major": 2,
       "version_minor": 0
      },
      "text/plain": [
       "  ... working at frequency = 9852.0 Hz:   0%|          | 0/100 [00:00<?, ?it/s]"
      ]
     },
     "metadata": {},
     "output_type": "display_data"
    },
    {
     "data": {
      "application/vnd.jupyter.widget-view+json": {
       "model_id": "",
       "version_major": 2,
       "version_minor": 0
      },
      "text/plain": [
       "  ... working at frequency = 9902.0 Hz:   0%|          | 0/100 [00:00<?, ?it/s]"
      ]
     },
     "metadata": {},
     "output_type": "display_data"
    },
    {
     "data": {
      "application/vnd.jupyter.widget-view+json": {
       "model_id": "",
       "version_major": 2,
       "version_minor": 0
      },
      "text/plain": [
       "  ... working at frequency = 9952.0 Hz:   0%|          | 0/100 [00:00<?, ?it/s]"
      ]
     },
     "metadata": {},
     "output_type": "display_data"
    },
    {
     "data": {
      "application/vnd.jupyter.widget-view+json": {
       "model_id": "3b404f3ac14c4467afb4c31bb028674c",
       "version_major": 2,
       "version_minor": 0
      },
      "text/plain": [
       "  ... working at frequency = 10002.0 Hz:   0%|          | 0/100 [00:00<?, ?it/s]"
      ]
     },
     "metadata": {},
     "output_type": "display_data"
    },
    {
     "name": "stdout",
     "output_type": "stream",
     "text": [
      "\n",
      "\n",
      "self.frequency_array.shape[0] = 201 is same as self.wavenumer_array.shape[0] = 201\n",
      "Save file to /Users/chenghunglin/Documents/sin_2_3_01_fr50.xlsx\n"
     ]
    }
   ],
   "source": [
    "sin_2_3_01 = anechoic_sound_absorption(determinant, frequency_array,\n",
    "                              fp = '/Users/chenghunglin/Documents/', \n",
    "                              fn = 'sin_2_3_01_fr50.xlsx', \n",
    "                              material='rubber', shape='sin', \n",
    "                              p=2e-3, q=3e-3, lh=40e-3, cell_radius=15e-3,\n",
    "                              theta=0.203, phi=0.002, length_unit='m',\n",
    "                              num_segments=100, layer_density=1100, air_density=1.21, \n",
    "                              Young_modulus=0.14e9, Poisson_ratio=0.49, loss_factor=0.23, \n",
    "                              medium_density=998, sound_speed_medium=1483)"
   ]
  },
  {
   "cell_type": "code",
   "execution_count": 13,
   "metadata": {},
   "outputs": [
    {
     "name": "stdout",
     "output_type": "stream",
     "text": [
      "self.frequency_array.shape[0] = 201 is same as self.wavenumer_array.shape[0] = 201\n"
     ]
    },
    {
     "data": {
      "text/plain": [
       "<matplotlib.legend.Legend at 0x15564daf0>"
      ]
     },
     "execution_count": 13,
     "metadata": {},
     "output_type": "execute_result"
    },
    {
     "data": {
      "application/vnd.jupyter.widget-view+json": {
       "model_id": "51c57941d4f4473f8f0e2f4546d914ec",
       "version_major": 2,
       "version_minor": 0
      },
      "image/png": "[encoded data removed]",
      "text/html": [
       "\n",
       "            <div style=\"display: inline-block;\">\n",
       "                <div class=\"jupyter-widgets widget-label\" style=\"text-align: center;\">\n",
       "                    Figure\n",
       "                </div>\n",
       "                <img src='data:image/png;base64,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' width=640.0/>\n",
       "            </div>\n",
       "        "
      ],
      "text/plain": [
       "Canvas(toolbar=Toolbar(toolitems=[('Home', 'Reset original view', 'home', 'home'), ('Back', 'Back to previous …"
      ]
     },
     "metadata": {},
     "output_type": "display_data"
    }
   ],
   "source": [
    "plt.figure()\n",
    "plt.plot(sin_2_3_01.frequency_array, sin_2_3_01.absorption_frequency(), label='sin, p=2, q=3, theta=0.203')\n",
    "plt.legend()"
   ]
  },
  {
   "cell_type": "code",
   "execution_count": null,
   "metadata": {},
   "outputs": [],
   "source": []
  },
  {
   "cell_type": "markdown",
   "metadata": {},
   "source": [
    "### Example 02: change parameters through sound_performance() objects"
   ]
  },
  {
   "cell_type": "code",
   "execution_count": null,
   "metadata": {},
   "outputs": [],
   "source": [
    "horn_1_11 = sound_performance(determinant, frequency_array)"
   ]
  },
  {
   "cell_type": "code",
   "execution_count": null,
   "metadata": {},
   "outputs": [],
   "source": [
    "horn_1_11.shape = 'horn'\n",
    "horn_1_11.p_hole = 1e-3\n",
    "horn_1_11.q_hole = 11e-3"
   ]
  },
  {
   "cell_type": "code",
   "execution_count": null,
   "metadata": {},
   "outputs": [],
   "source": [
    "## Find roots of wavenumber in the equation of determinant\n",
    "horn_1_11.wavenumer_array, horn_1_11.failed_root = horn_1_11.axial_wavenumber_array()"
   ]
  },
  {
   "cell_type": "code",
   "execution_count": null,
   "metadata": {},
   "outputs": [],
   "source": [
    "## Save the data\n",
    "fp = '/Users/chenghunglin/Documents/'\n",
    "fn = 'horn_1_11.xlsx'\n",
    "horn_1_11.save_data(fp, fn)"
   ]
  },
  {
   "cell_type": "code",
   "execution_count": null,
   "metadata": {},
   "outputs": [],
   "source": []
  },
  {
   "cell_type": "markdown",
   "metadata": {},
   "source": [
    "## Plot data to compare with the paper"
   ]
  },
  {
   "cell_type": "code",
   "execution_count": null,
   "metadata": {},
   "outputs": [],
   "source": [
    "plt.figure()\n",
    "# plt.plot(cone_4_8.frequency_array, cone_4_8.absorption_frequency(), label='cone, p=4, q=8, Young=0.14 Gpa')\n",
    "# plt.plot(cone_4_8_1.frequency_array, cone_4_8_1.absorption_frequency(), label='cone, p=4, q=8, Young=0.014 Gpa')\n",
    "# plt.plot(cone_4_8_3.frequency_array, cone_4_8_3.absorption_frequency(), '--', color='orange', label='cone, p=4, q=8, Young=0.014 Gpa')\n",
    "plt.plot(horn_1_11.frequency_array, horn_1_11.absorption_frequency(), label='horn, p=1, q=11')\n",
    "plt.legend()"
   ]
  },
  {
   "cell_type": "code",
   "execution_count": null,
   "metadata": {},
   "outputs": [],
   "source": [
    "# plt.figure()\n",
    "# plt.plot(cone_4_8.frequency_array, cone_4_8.absorption_frequency(), color='blue', label='cone, p=4, q=8, Young=0.14 Gpa, step=200Hz')\n",
    "# plt.plot(cone_4_8_4.frequency_array, cone_4_8_4.absorption_frequency(), '--', color='blue',label='cone, p=4, q=8, Young=0.14 Gpa, step=25Hz')\n",
    "# plt.plot(cone_4_8_1.frequency_array, cone_4_8_1.absorption_frequency(), color='orange', label='cone, p=4, q=8, Young=0.014 Gpa, step=200Hz')\n",
    "# plt.plot(cone_4_8_5.frequency_array, cone_4_8_5.absorption_frequency(), '--', color='orange', label='cone, p=4, q=8, Young=0.014 Gpa, step=25Hz')\n",
    "# plt.plot(horn_1_11.frequency_array, horn_1_11.absorption_frequency(), label='horn, p=1, q=11')\n",
    "# legend_properties = {'weight':'regular', 'size':8}    \n",
    "# plt.legend(prop=legend_properties, loc='upper left') #, bbox_to_anchor=(1, 0.5))\n",
    "# plt.legend()"
   ]
  },
  {
   "cell_type": "code",
   "execution_count": null,
   "metadata": {},
   "outputs": [],
   "source": []
  }
 ],
 "metadata": {
  "anaconda-cloud": {},
  "kernelspec": {
   "display_name": "Python 3 (ipykernel)",
   "language": "python",
   "name": "python3"
  },
  "language_info": {
   "codemirror_mode": {
    "name": "ipython",
    "version": 3
   },
   "file_extension": ".py",
   "mimetype": "text/x-python",
   "name": "python",
   "nbconvert_exporter": "python",
   "pygments_lexer": "ipython3",
   "version": "3.12.2"
  }
 },
 "nbformat": 4,
 "nbformat_minor": 4
}
