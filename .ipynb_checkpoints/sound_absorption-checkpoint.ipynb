{
 "cells": [
  {
   "cell_type": "code",
   "execution_count": 1,
   "metadata": {
    "collapsed": false,
    "jupyter": {
     "outputs_hidden": false
    }
   },
   "outputs": [],
   "source": [
    "import numpy as np\n",
    "import matplotlib.pyplot as plt"
   ]
  },
  {
   "cell_type": "code",
   "execution_count": 2,
   "metadata": {},
   "outputs": [],
   "source": [
    "%matplotlib widget"
   ]
  },
  {
   "cell_type": "markdown",
   "metadata": {},
   "source": [
    "### Reference: Influence of hole shape on sound absorption of underwater anechoic layers\n",
    "#### https://www.sciencedirect.com/science/article/abs/pii/S0022460X1830227X"
   ]
  },
  {
   "cell_type": "markdown",
   "metadata": {},
   "source": [
    "### Start at eq(15) in the paper"
   ]
  },
  {
   "cell_type": "code",
   "execution_count": 3,
   "metadata": {},
   "outputs": [],
   "source": [
    "## The effective density: (15)\n",
    "## ai represents the inner radii of the pipe in the i th layer\n",
    "def ith_effect_density(ai, cell_radius, rubber_den, air_den):\n",
    "    return rubber_den*(1-(ai/cell_radius)**2) + air_den*(ai/cell_radius)**2\n",
    "\n",
    "\n",
    "\n",
    "## The effective impedance of the i th segment: (16)\n",
    "def ith_effect_impedance(ith_effect_density, omega, wave_number):\n",
    "    return ith_effect_density*omega/wave_number\n",
    "\n",
    "\n",
    "## The transfer matrix of the i th segment: (17)\n",
    "def ith_tran_matrix(wave_number, li, ith_impedance):\n",
    "    ti = np.zeros((2,2), dtype=complex)\n",
    "    ti[0,0] = np.cos(wave_number*li)\n",
    "    ti[0,1] = -1j*np.sin(wave_number*li)*ith_impedance\n",
    "    ti[1,0] = -1j*np.sin(wave_number*li)/ith_impedance\n",
    "    ti[1,1] = np.cos(wave_number*li)\n",
    "    return ti\n",
    "\n",
    "## The successive multi-plication of the transfer matrix of each segment: (18)\n",
    "def total_tran_matrix(wave_number, lh, n, impedance):\n",
    "    li = lh/n\n",
    "    \n",
    "    try:\n",
    "        t0 = ith_tran_matrix(wave_number[0], li, impedance[0])\n",
    "        tn=t0\n",
    "        for i in range(1, n):\n",
    "            tn = np.matmul(tn, ith_tran_matrix(wave_number[i], li, impedance[i]))\n",
    "        \n",
    "    except IndexError:\n",
    "        t0 = ith_tran_matrix(wave_number, li, impedance[0])\n",
    "        tn=t0\n",
    "        for i in range(1, n):\n",
    "            tn = np.matmul(tn, ith_tran_matrix(wave_number, li, impedance[i]))        \n",
    "    \n",
    "    return tn\n",
    "    \n",
    "\n",
    "## The impedance of the front interface Zf: (22)\n",
    "def imped_front(tn):\n",
    "    # zf = np.absolute(tn[0,0]/tn[1,0])\n",
    "    zf = (tn[0,0]/tn[1,0])\n",
    "    return zf\n",
    "\n",
    "\n",
    "## The reflection coefficient of the anechoic layer: (23)\n",
    "def reflection_coefficient(zf,zw):\n",
    "    return (zf-zw)/(zf+zw)\n",
    "\n",
    "\n",
    "## The sound absorption coefficient: (24)\n",
    "def absorption_coefficient(reflection):\n",
    "    return 1-np.absolute(reflection)**2"
   ]
  },
  {
   "cell_type": "code",
   "execution_count": 4,
   "metadata": {},
   "outputs": [],
   "source": [
    "## Effective radius of cone shape: (25-27)\n",
    "def effective_radius(pcone, qcone, lh, num_segments, shape='cone'):\n",
    "    if shape == 'cone':\n",
    "        alpha = (qcone-pcone)/lh\n",
    "        beta = pcone\n",
    "        lh_n = np.linspace(0, lh, num_segments)\n",
    "        r_effective = alpha*lh_n + beta\n",
    "    return r_effective\n"
   ]
  },
  {
   "cell_type": "code",
   "execution_count": null,
   "metadata": {},
   "outputs": [],
   "source": []
  },
  {
   "cell_type": "markdown",
   "metadata": {},
   "source": [
    "## Constants and Modulus\n",
    "\n",
    "#### https://en.wikipedia.org/wiki/Lam%C3%A9_parameters\n",
    "#### https://en.wikipedia.org/wiki/Shear_modulus\n",
    "\n",
    "#### shear_modulus = Young_modulus/(2*(1+Poisson_ratio))\n",
    "#### lame_const = Young_modulus*Poisson_ratio/((1+Poisson_ratio)*(1-2*Poisson_ratio))\n",
    "#### longitudinal_modulus = lame_const + 2*shear_modulus\n",
    "#### Young's modulus of rubber (GPa): 0.14\n",
    "#### Loss factor of rubber 0.23\n",
    "#### Poisson ratio of rubber 0.49\n",
    "\n",
    "All units are in SI\n",
    "\n",
    "Density of rubber (kg/m3): 1100\n",
    "\n",
    "Density of air (kg/m3): 1.21\n",
    "\n",
    "Assume the pipe has a conical shape, as Fig. 7(a) in the paper:\n",
    "\n",
    "pcone = 4 mm\n",
    "\n",
    "qcone = 8 mm\n",
    "\n",
    "lh = 40 mm\n",
    "\n",
    "cell_radius = 15 mm\n",
    "\n",
    "Assume 100 segments: num_segments = 100\n",
    "\n",
    "Density of water (kg/m3): 998\n",
    "\n",
    "Sound speed of water (m/s): 1483"
   ]
  },
  {
   "cell_type": "code",
   "execution_count": 5,
   "metadata": {},
   "outputs": [],
   "source": [
    "def shear_m(Young_m, Poisson_r):\n",
    "    return Young_m/(2*(1+Poisson_r))\n",
    "\n",
    "def lame_const(Young_m, Poisson_r):\n",
    "    return Young_m*Poisson_r/((1+Poisson_r)*(1-2*Poisson_r))\n",
    "\n",
    "def longitudinal_m(shear_m, lame_const):\n",
    "    return lame_const+2*shear_m\n",
    "    \n",
    "def ith_effect_speed(longitudinal_m, density, loss_factor):\n",
    "    ini_speed = np.sqrt(longitudinal_m/density)\n",
    "    damping = np.sqrt(1+1j*loss_factor)\n",
    "    return ini_speed*damping"
   ]
  },
  {
   "cell_type": "markdown",
   "metadata": {},
   "source": [
    "### Test above defined functions for a single frequency"
   ]
  },
  {
   "cell_type": "code",
   "execution_count": 6,
   "metadata": {},
   "outputs": [],
   "source": [
    "frequency = 8000 #np.arange(0.1, 10000, 50)\n",
    "omega = frequency * 2 * np.pi\n",
    "\n",
    "Young_molulus = 0.14*(10**9)   ##*(1+0.23j)\n",
    "shear_modulus = shear_m(Young_molulus, 0.49)\n",
    "lame_constant = lame_const(Young_molulus, 0.49)\n",
    "longitudinal_modulus = longitudinal_m(shear_modulus, lame_constant)\n",
    "\n",
    "ai = effective_radius(4*0.001, 8*0.001, 40*0.001, 100, shape='cone')\n",
    "effective_density = ith_effect_density(ai, 15*0.001, 1100, 1.21)\n",
    "\n",
    "effective_speed = ith_effect_speed(longitudinal_modulus, effective_density, 0.23)\n",
    "\n",
    "wave_number = omega / effective_speed\n",
    "\n",
    "effective_impedance = ith_effect_impedance(effective_density, omega, wave_number)\n",
    "tn = total_tran_matrix(wave_number, 40*0.001, 100, effective_impedance)\n",
    "\n",
    "## Acoustic impdedance of water: 1.48 MPa.s.m−1\n",
    "## https://www.animations.physics.unsw.edu.au/jw/sound-impedance-intensity.htm\n",
    "\n",
    "zw = 998*1483\n",
    "zf = imped_front(tn)\n",
    "ref = reflection_coefficient(zf, zw)\n",
    "alpha = absorption_coefficient(ref)"
   ]
  },
  {
   "cell_type": "code",
   "execution_count": 7,
   "metadata": {},
   "outputs": [
    {
     "data": {
      "text/plain": [
       "array([[ 3.19020138e-01+1.35871722e-01j,  8.89525373e+04-1.42578870e+06j],\n",
       "       [-1.02543758e-07-6.23268382e-07j,  3.73814491e-01+1.25301207e-01j]])"
      ]
     },
     "execution_count": 7,
     "metadata": {},
     "output_type": "execute_result"
    }
   ],
   "source": [
    "tn"
   ]
  },
  {
   "cell_type": "code",
   "execution_count": null,
   "metadata": {},
   "outputs": [],
   "source": []
  },
  {
   "cell_type": "code",
   "execution_count": null,
   "metadata": {},
   "outputs": [],
   "source": []
  },
  {
   "cell_type": "markdown",
   "metadata": {},
   "source": [
    "### Integrate all calculations into one function"
   ]
  },
  {
   "cell_type": "code",
   "execution_count": 8,
   "metadata": {},
   "outputs": [],
   "source": [
    "def absorption_frequency(frequency_array, pcone, qcone, lh, num_segments, \n",
    "                         Young_m, Poisson_r, loss_factor, \n",
    "                         cell_radius, rubber_den, air_den, rubber_speed, air_speed):\n",
    "    \n",
    "    frequency_array = np.asarray(frequency_array)\n",
    "    absorption_list = []\n",
    "    \n",
    "    for frequency in frequency_array:\n",
    "       \n",
    "        omega = frequency * 2 * np.pi\n",
    "        \n",
    "        ## https://www.vibrationdata.com/tutorials_alt/speed.pdf\n",
    "        ## sound speed = square_root(Young’s modulus / density)\n",
    "        ## Young's modulus of rubber (GPa): 0.14\n",
    "#         Young_modulus = Young_rubber\n",
    "\n",
    "        ai = effective_radius(pcone, qcone, lh, num_segments, shape='cone')\n",
    "        effective_density = ith_effect_density(ai, cell_radius, rubber_den, air_den)\n",
    "        \n",
    "        shear_modulus = shear_m(Young_m, Poisson_r)\n",
    "        lame_constant = lame_const(Young_m, Poisson_r)\n",
    "        longitudinal_modulus = longitudinal_m(shear_modulus, lame_constant)\n",
    "        effective_speed = ith_effect_speed(longitudinal_modulus, effective_density, loss_factor)\n",
    "        wave_number = omega / effective_speed\n",
    "        \n",
    "        effective_impedance = ith_effect_impedance(effective_density, omega, wave_number)\n",
    "        tn = total_tran_matrix(wave_number, lh, num_segments, effective_impedance)\n",
    "\n",
    "        ## Acoustic impdedance of water: 1.48 MPa.s.m−1\n",
    "        ## https://www.animations.physics.unsw.edu.au/jw/sound-impedance-intensity.htm\n",
    "\n",
    "        zw = 998*1483\n",
    "        zf = imped_front(tn)\n",
    "        ref = reflection_coefficient(zf, zw)\n",
    "        alpha = absorption_coefficient(ref)   \n",
    "        absorption_list.append(alpha)\n",
    "        \n",
    "    return np.asarray(absorption_list)\n"
   ]
  },
  {
   "cell_type": "code",
   "execution_count": 9,
   "metadata": {},
   "outputs": [],
   "source": [
    "frequency_array = np.arange(0.1, 10000, 50)\n",
    "absorption_array = absorption_frequency(frequency_array, 4*0.001, 8*0.001, 40*0.001, 1000,\n",
    "                                        0.14*(10**9), 0.49, 0.23, \n",
    "                                        15*0.001, 1100, 1.21, 60, 343)"
   ]
  },
  {
   "cell_type": "code",
   "execution_count": null,
   "metadata": {},
   "outputs": [],
   "source": []
  },
  {
   "cell_type": "code",
   "execution_count": 10,
   "metadata": {},
   "outputs": [
    {
     "data": {
      "text/plain": [
       "[<matplotlib.lines.Line2D at 0x7fc790299d60>]"
      ]
     },
     "execution_count": 10,
     "metadata": {},
     "output_type": "execute_result"
    },
    {
     "data": {
      "application/vnd.jupyter.widget-view+json": {
       "model_id": "f334ed77905e4ce19f19d3b58a226fd6",
       "version_major": 2,
       "version_minor": 0
      },
      "image/png": "[encoded data removed]",
      "text/html": [
       "\n",
       "            <div style=\"display: inline-block;\">\n",
       "                <div class=\"jupyter-widgets widget-label\" style=\"text-align: center;\">\n",
       "                    Figure\n",
       "                </div>\n",
       "                <img src='data:image/png;base64,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' width=600.0/>\n",
       "            </div>\n",
       "        "
      ],
      "text/plain": [
       "Canvas(toolbar=Toolbar(toolitems=[('Home', 'Reset original view', 'home', 'home'), ('Back', 'Back to previous …"
      ]
     },
     "metadata": {},
     "output_type": "display_data"
    }
   ],
   "source": [
    "rows = 1\n",
    "cols = 1\n",
    "f1, ax1 = plt.subplots(rows, cols, figsize = (6, 4), constrained_layout=True)\n",
    "ax1.plot(frequency_array, absorption_array)"
   ]
  },
  {
   "cell_type": "code",
   "execution_count": null,
   "metadata": {},
   "outputs": [],
   "source": []
  },
  {
   "cell_type": "code",
   "execution_count": null,
   "metadata": {},
   "outputs": [],
   "source": []
  },
  {
   "cell_type": "code",
   "execution_count": null,
   "metadata": {},
   "outputs": [],
   "source": []
  }
 ],
 "metadata": {
  "anaconda-cloud": {},
  "kernelspec": {
   "display_name": "Python 3 (ipykernel)",
   "language": "python",
   "name": "python3"
  },
  "language_info": {
   "codemirror_mode": {
    "name": "ipython",
    "version": 3
   },
   "file_extension": ".py",
   "mimetype": "text/x-python",
   "name": "python",
   "nbconvert_exporter": "python",
   "pygments_lexer": "ipython3",
   "version": "3.9.7"
  }
 },
 "nbformat": 4,
 "nbformat_minor": 4
}
