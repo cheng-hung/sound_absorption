{
 "cells": [
  {
   "cell_type": "code",
   "execution_count": 1,
   "metadata": {
    "collapsed": false,
    "jupyter": {
     "outputs_hidden": false
    }
   },
   "outputs": [],
   "source": [
    "import numpy as np\n",
    "import matplotlib.pyplot as plt\n",
    "import pandas as pd"
   ]
  },
  {
   "cell_type": "code",
   "execution_count": 2,
   "metadata": {},
   "outputs": [],
   "source": [
    "%matplotlib widget"
   ]
  },
  {
   "cell_type": "code",
   "execution_count": 3,
   "metadata": {},
   "outputs": [],
   "source": [
    "import warnings\n",
    "warnings.filterwarnings(\"ignore\", category=RuntimeWarning)\n",
    "warnings.filterwarnings(\"ignore\", category=pd.errors.PerformanceWarning)"
   ]
  },
  {
   "cell_type": "markdown",
   "metadata": {
    "tags": []
   },
   "source": [
    "### Reference: Influence of hole shape on sound absorption of underwater anechoic layers\n",
    "#### https://www.sciencedirect.com/science/article/abs/pii/S0022460X1830227X"
   ]
  },
  {
   "cell_type": "markdown",
   "metadata": {},
   "source": [
    "### Import pre-defined class and function"
   ]
  },
  {
   "cell_type": "code",
   "execution_count": 4,
   "metadata": {},
   "outputs": [],
   "source": [
    "%run -i hole_shape_sound_absorption.py"
   ]
  },
  {
   "cell_type": "markdown",
   "metadata": {},
   "source": [
    "### Define the determinant of the coefficient matrix of eq(14) in the paper"
   ]
  },
  {
   "cell_type": "code",
   "execution_count": 5,
   "metadata": {},
   "outputs": [
    {
     "data": {
      "text/latex": [
       "$\\displaystyle \\left[\\begin{matrix}- \\sqrt{- kz^{2} + \\frac{\\omega^{2}}{cl^{2}}} J_{1}\\left(b \\sqrt{- kz^{2} + \\frac{\\omega^{2}}{cl^{2}}}\\right) & - \\sqrt{- kz^{2} + \\frac{\\omega^{2}}{cl^{2}}} Y_{1}\\left(b \\sqrt{- kz^{2} + \\frac{\\omega^{2}}{cl^{2}}}\\right) & - i kz \\sqrt{- kz^{2} + \\frac{\\omega^{2}}{ct^{2}}} J_{1}\\left(b \\sqrt{- kz^{2} + \\frac{\\omega^{2}}{ct^{2}}}\\right) & - i kz \\sqrt{- kz^{2} + \\frac{\\omega^{2}}{ct^{2}}} Y_{1}\\left(b \\sqrt{- kz^{2} + \\frac{\\omega^{2}}{ct^{2}}}\\right)\\\\\\left(- 2 \\mu \\left(- kz^{2} + \\frac{\\omega^{2}}{cl^{2}}\\right) - \\frac{\\lambda \\omega^{2}}{cl^{2}}\\right) J_{0}\\left(a \\sqrt{- kz^{2} + \\frac{\\omega^{2}}{cl^{2}}}\\right) + \\frac{2 \\mu \\sqrt{- kz^{2} + \\frac{\\omega^{2}}{cl^{2}}} J_{1}\\left(a \\sqrt{- kz^{2} + \\frac{\\omega^{2}}{cl^{2}}}\\right)}{a} & \\left(- 2 \\mu \\left(- kz^{2} + \\frac{\\omega^{2}}{cl^{2}}\\right) - \\frac{\\lambda \\omega^{2}}{cl^{2}}\\right) Y_{0}\\left(a \\sqrt{- kz^{2} + \\frac{\\omega^{2}}{cl^{2}}}\\right) + \\frac{2 \\mu \\sqrt{- kz^{2} + \\frac{\\omega^{2}}{cl^{2}}} Y_{1}\\left(a \\sqrt{- kz^{2} + \\frac{\\omega^{2}}{cl^{2}}}\\right)}{a} & 2 i kz \\mu \\sqrt{- kz^{2} + \\frac{\\omega^{2}}{ct^{2}}} \\left(- \\sqrt{- kz^{2} + \\frac{\\omega^{2}}{ct^{2}}} J_{0}\\left(a \\sqrt{- kz^{2} + \\frac{\\omega^{2}}{ct^{2}}}\\right) + \\frac{J_{1}\\left(a \\sqrt{- kz^{2} + \\frac{\\omega^{2}}{ct^{2}}}\\right)}{a}\\right) & 2 i kz \\mu \\sqrt{- kz^{2} + \\frac{\\omega^{2}}{ct^{2}}} \\left(- \\sqrt{- kz^{2} + \\frac{\\omega^{2}}{ct^{2}}} Y_{0}\\left(a \\sqrt{- kz^{2} + \\frac{\\omega^{2}}{ct^{2}}}\\right) + \\frac{Y_{1}\\left(a \\sqrt{- kz^{2} + \\frac{\\omega^{2}}{ct^{2}}}\\right)}{a}\\right)\\\\- 2 i kz \\mu \\sqrt{- kz^{2} + \\frac{\\omega^{2}}{cl^{2}}} J_{1}\\left(a \\sqrt{- kz^{2} + \\frac{\\omega^{2}}{cl^{2}}}\\right) & - 2 i kz \\mu \\sqrt{- kz^{2} + \\frac{\\omega^{2}}{cl^{2}}} Y_{1}\\left(a \\sqrt{- kz^{2} + \\frac{\\omega^{2}}{cl^{2}}}\\right) & \\mu \\sqrt{- kz^{2} + \\frac{\\omega^{2}}{ct^{2}}} \\left(2 kz^{2} - \\frac{\\omega^{2}}{ct^{2}}\\right) J_{1}\\left(a \\sqrt{- kz^{2} + \\frac{\\omega^{2}}{ct^{2}}}\\right) & \\mu \\sqrt{- kz^{2} + \\frac{\\omega^{2}}{ct^{2}}} \\left(2 kz^{2} - \\frac{\\omega^{2}}{ct^{2}}\\right) Y_{1}\\left(a \\sqrt{- kz^{2} + \\frac{\\omega^{2}}{ct^{2}}}\\right)\\\\- 2 i kz \\mu \\sqrt{- kz^{2} + \\frac{\\omega^{2}}{cl^{2}}} J_{1}\\left(b \\sqrt{- kz^{2} + \\frac{\\omega^{2}}{cl^{2}}}\\right) & - 2 i kz \\mu \\sqrt{- kz^{2} + \\frac{\\omega^{2}}{cl^{2}}} Y_{1}\\left(b \\sqrt{- kz^{2} + \\frac{\\omega^{2}}{cl^{2}}}\\right) & \\mu \\sqrt{- kz^{2} + \\frac{\\omega^{2}}{ct^{2}}} \\left(2 kz^{2} - \\frac{\\omega^{2}}{ct^{2}}\\right) J_{1}\\left(b \\sqrt{- kz^{2} + \\frac{\\omega^{2}}{ct^{2}}}\\right) & \\mu \\sqrt{- kz^{2} + \\frac{\\omega^{2}}{ct^{2}}} \\left(2 kz^{2} - \\frac{\\omega^{2}}{ct^{2}}\\right) Y_{1}\\left(b \\sqrt{- kz^{2} + \\frac{\\omega^{2}}{ct^{2}}}\\right)\\end{matrix}\\right]$"
      ],
      "text/plain": [
       "Matrix([\n",
       "[                                                                                                              -sqrt(-kz**2 + omega**2/cl**2)*besselj(1, b*sqrt(-kz**2 + omega**2/cl**2)),                                                                                                               -sqrt(-kz**2 + omega**2/cl**2)*bessely(1, b*sqrt(-kz**2 + omega**2/cl**2)),                                                                                      -I*kz*sqrt(-kz**2 + omega**2/ct**2)*besselj(1, b*sqrt(-kz**2 + omega**2/ct**2)),                                                                                      -I*kz*sqrt(-kz**2 + omega**2/ct**2)*bessely(1, b*sqrt(-kz**2 + omega**2/ct**2))],\n",
       "[(-2*mu*(-kz**2 + omega**2/cl**2) - lambda*omega**2/cl**2)*besselj(0, a*sqrt(-kz**2 + omega**2/cl**2)) + 2*mu*sqrt(-kz**2 + omega**2/cl**2)*besselj(1, a*sqrt(-kz**2 + omega**2/cl**2))/a, (-2*mu*(-kz**2 + omega**2/cl**2) - lambda*omega**2/cl**2)*bessely(0, a*sqrt(-kz**2 + omega**2/cl**2)) + 2*mu*sqrt(-kz**2 + omega**2/cl**2)*bessely(1, a*sqrt(-kz**2 + omega**2/cl**2))/a, 2*I*kz*mu*sqrt(-kz**2 + omega**2/ct**2)*(-sqrt(-kz**2 + omega**2/ct**2)*besselj(0, a*sqrt(-kz**2 + omega**2/ct**2)) + besselj(1, a*sqrt(-kz**2 + omega**2/ct**2))/a), 2*I*kz*mu*sqrt(-kz**2 + omega**2/ct**2)*(-sqrt(-kz**2 + omega**2/ct**2)*bessely(0, a*sqrt(-kz**2 + omega**2/ct**2)) + bessely(1, a*sqrt(-kz**2 + omega**2/ct**2))/a)],\n",
       "[                                                                                                    -2*I*kz*mu*sqrt(-kz**2 + omega**2/cl**2)*besselj(1, a*sqrt(-kz**2 + omega**2/cl**2)),                                                                                                     -2*I*kz*mu*sqrt(-kz**2 + omega**2/cl**2)*bessely(1, a*sqrt(-kz**2 + omega**2/cl**2)),                                                              mu*sqrt(-kz**2 + omega**2/ct**2)*(2*kz**2 - omega**2/ct**2)*besselj(1, a*sqrt(-kz**2 + omega**2/ct**2)),                                                              mu*sqrt(-kz**2 + omega**2/ct**2)*(2*kz**2 - omega**2/ct**2)*bessely(1, a*sqrt(-kz**2 + omega**2/ct**2))],\n",
       "[                                                                                                    -2*I*kz*mu*sqrt(-kz**2 + omega**2/cl**2)*besselj(1, b*sqrt(-kz**2 + omega**2/cl**2)),                                                                                                     -2*I*kz*mu*sqrt(-kz**2 + omega**2/cl**2)*bessely(1, b*sqrt(-kz**2 + omega**2/cl**2)),                                                              mu*sqrt(-kz**2 + omega**2/ct**2)*(2*kz**2 - omega**2/ct**2)*besselj(1, b*sqrt(-kz**2 + omega**2/ct**2)),                                                              mu*sqrt(-kz**2 + omega**2/ct**2)*(2*kz**2 - omega**2/ct**2)*bessely(1, b*sqrt(-kz**2 + omega**2/ct**2))]])"
      ]
     },
     "execution_count": 5,
     "metadata": {},
     "output_type": "execute_result"
    }
   ],
   "source": [
    "determinant, mat = determinant_from_matrix()\n",
    "mat"
   ]
  },
  {
   "cell_type": "code",
   "execution_count": null,
   "metadata": {},
   "outputs": [],
   "source": []
  },
  {
   "cell_type": "markdown",
   "metadata": {
    "tags": []
   },
   "source": [
    "## Define an object of sound_performance for calculating sound absorption\n",
    "### The default values are listed as below (all in SI units)\n",
    "\n",
    "Material of anechoic layer: rubber\n",
    "\n",
    "Young's modulus of rubber (GPa): 0.14\n",
    "\n",
    "Loss factor of rubber 0.23\n",
    "\n",
    "Poisson ratio of rubber 0.49\n",
    "\n",
    "Density of rubber (kg/m3): 1100\n",
    "\n",
    "Density of air (kg/m3): 1.21\n",
    "\n",
    "Shape: cone\n",
    "\n",
    "p = 4 mm\n",
    "\n",
    "q = 8 mm\n",
    "\n",
    "lh = 40 mm\n",
    "\n",
    "cell_radius = 15 mm\n",
    "\n",
    "num_segments = 100\n",
    "\n",
    "Density of water (kg/m3): 998\n",
    "\n",
    "Sound speed of water (m/s): 1483\n",
    "\n",
    "#### https://en.wikipedia.org/wiki/Lam%C3%A9_parameters"
   ]
  },
  {
   "cell_type": "markdown",
   "metadata": {},
   "source": [
    "### Define the frequency array by np.arange"
   ]
  },
  {
   "cell_type": "code",
   "execution_count": 6,
   "metadata": {},
   "outputs": [
    {
     "data": {
      "text/plain": [
       "(101,)"
      ]
     },
     "execution_count": 6,
     "metadata": {},
     "output_type": "execute_result"
    }
   ],
   "source": [
    "frequency_array = np.arange(2, 10052, 100)\n",
    "# frequency_array2 = np.arange(2, 10022, 20)\n",
    "frequency_array.shape"
   ]
  },
  {
   "cell_type": "markdown",
   "metadata": {},
   "source": [
    "### Example 01: define all parameters by anechoic_sound_absorption()"
   ]
  },
  {
   "cell_type": "code",
   "execution_count": 7,
   "metadata": {},
   "outputs": [
    {
     "data": {
      "application/vnd.jupyter.widget-view+json": {
       "model_id": "a3ae5178a99941689b146f49ca9be73f",
       "version_major": 2,
       "version_minor": 0
      },
      "image/png": "[encoded data removed]",
      "text/html": [
       "\n",
       "            <div style=\"display: inline-block;\">\n",
       "                <div class=\"jupyter-widgets widget-label\" style=\"text-align: center;\">\n",
       "                    Figure\n",
       "                </div>\n",
       "                <img src='data:image/png;base64,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' width=640.0/>\n",
       "            </div>\n",
       "        "
      ],
      "text/plain": [
       "Canvas(toolbar=Toolbar(toolitems=[('Home', 'Reset original view', 'home', 'home'), ('Back', 'Back to previous …"
      ]
     },
     "metadata": {},
     "output_type": "display_data"
    },
    {
     "name": "stdout",
     "output_type": "stream",
     "text": [
      "Solving wavenumber in determinant for shape = sin, p = 0.003, q = 0.004, Young's = 140000000.0\n"
     ]
    },
    {
     "data": {
      "application/vnd.jupyter.widget-view+json": {
       "model_id": "aa3968b62936446387cc694e710e12a6",
       "version_major": 2,
       "version_minor": 0
      },
      "text/plain": [
       "Solving for all frequencies:   0%|          | 0/101 [00:00<?, ?it/s]"
      ]
     },
     "metadata": {},
     "output_type": "display_data"
    },
    {
     "data": {
      "application/vnd.jupyter.widget-view+json": {
       "model_id": "",
       "version_major": 2,
       "version_minor": 0
      },
      "text/plain": [
       "  ... working at frequency = 2.0 Hz:   0%|          | 0/100 [00:00<?, ?it/s]"
      ]
     },
     "metadata": {},
     "output_type": "display_data"
    },
    {
     "data": {
      "application/vnd.jupyter.widget-view+json": {
       "model_id": "",
       "version_major": 2,
       "version_minor": 0
      },
      "text/plain": [
       "  ... working at frequency = 102.0 Hz:   0%|          | 0/100 [00:00<?, ?it/s]"
      ]
     },
     "metadata": {},
     "output_type": "display_data"
    },
    {
     "data": {
      "application/vnd.jupyter.widget-view+json": {
       "model_id": "",
       "version_major": 2,
       "version_minor": 0
      },
      "text/plain": [
       "  ... working at frequency = 202.0 Hz:   0%|          | 0/100 [00:00<?, ?it/s]"
      ]
     },
     "metadata": {},
     "output_type": "display_data"
    },
    {
     "data": {
      "application/vnd.jupyter.widget-view+json": {
       "model_id": "",
       "version_major": 2,
       "version_minor": 0
      },
      "text/plain": [
       "  ... working at frequency = 302.0 Hz:   0%|          | 0/100 [00:00<?, ?it/s]"
      ]
     },
     "metadata": {},
     "output_type": "display_data"
    },
    {
     "data": {
      "application/vnd.jupyter.widget-view+json": {
       "model_id": "",
       "version_major": 2,
       "version_minor": 0
      },
      "text/plain": [
       "  ... working at frequency = 402.0 Hz:   0%|          | 0/100 [00:00<?, ?it/s]"
      ]
     },
     "metadata": {},
     "output_type": "display_data"
    },
    {
     "data": {
      "application/vnd.jupyter.widget-view+json": {
       "model_id": "",
       "version_major": 2,
       "version_minor": 0
      },
      "text/plain": [
       "  ... working at frequency = 502.0 Hz:   0%|          | 0/100 [00:00<?, ?it/s]"
      ]
     },
     "metadata": {},
     "output_type": "display_data"
    },
    {
     "data": {
      "application/vnd.jupyter.widget-view+json": {
       "model_id": "",
       "version_major": 2,
       "version_minor": 0
      },
      "text/plain": [
       "  ... working at frequency = 602.0 Hz:   0%|          | 0/100 [00:00<?, ?it/s]"
      ]
     },
     "metadata": {},
     "output_type": "display_data"
    },
    {
     "data": {
      "application/vnd.jupyter.widget-view+json": {
       "model_id": "",
       "version_major": 2,
       "version_minor": 0
      },
      "text/plain": [
       "  ... working at frequency = 702.0 Hz:   0%|          | 0/100 [00:00<?, ?it/s]"
      ]
     },
     "metadata": {},
     "output_type": "display_data"
    },
    {
     "data": {
      "application/vnd.jupyter.widget-view+json": {
       "model_id": "",
       "version_major": 2,
       "version_minor": 0
      },
      "text/plain": [
       "  ... working at frequency = 802.0 Hz:   0%|          | 0/100 [00:00<?, ?it/s]"
      ]
     },
     "metadata": {},
     "output_type": "display_data"
    },
    {
     "data": {
      "application/vnd.jupyter.widget-view+json": {
       "model_id": "",
       "version_major": 2,
       "version_minor": 0
      },
      "text/plain": [
       "  ... working at frequency = 902.0 Hz:   0%|          | 0/100 [00:00<?, ?it/s]"
      ]
     },
     "metadata": {},
     "output_type": "display_data"
    },
    {
     "data": {
      "application/vnd.jupyter.widget-view+json": {
       "model_id": "",
       "version_major": 2,
       "version_minor": 0
      },
      "text/plain": [
       "  ... working at frequency = 1002.0 Hz:   0%|          | 0/100 [00:00<?, ?it/s]"
      ]
     },
     "metadata": {},
     "output_type": "display_data"
    },
    {
     "data": {
      "application/vnd.jupyter.widget-view+json": {
       "model_id": "",
       "version_major": 2,
       "version_minor": 0
      },
      "text/plain": [
       "  ... working at frequency = 1102.0 Hz:   0%|          | 0/100 [00:00<?, ?it/s]"
      ]
     },
     "metadata": {},
     "output_type": "display_data"
    },
    {
     "data": {
      "application/vnd.jupyter.widget-view+json": {
       "model_id": "",
       "version_major": 2,
       "version_minor": 0
      },
      "text/plain": [
       "  ... working at frequency = 1202.0 Hz:   0%|          | 0/100 [00:00<?, ?it/s]"
      ]
     },
     "metadata": {},
     "output_type": "display_data"
    },
    {
     "data": {
      "application/vnd.jupyter.widget-view+json": {
       "model_id": "",
       "version_major": 2,
       "version_minor": 0
      },
      "text/plain": [
       "  ... working at frequency = 1302.0 Hz:   0%|          | 0/100 [00:00<?, ?it/s]"
      ]
     },
     "metadata": {},
     "output_type": "display_data"
    },
    {
     "data": {
      "application/vnd.jupyter.widget-view+json": {
       "model_id": "",
       "version_major": 2,
       "version_minor": 0
      },
      "text/plain": [
       "  ... working at frequency = 1402.0 Hz:   0%|          | 0/100 [00:00<?, ?it/s]"
      ]
     },
     "metadata": {},
     "output_type": "display_data"
    },
    {
     "data": {
      "application/vnd.jupyter.widget-view+json": {
       "model_id": "",
       "version_major": 2,
       "version_minor": 0
      },
      "text/plain": [
       "  ... working at frequency = 1502.0 Hz:   0%|          | 0/100 [00:00<?, ?it/s]"
      ]
     },
     "metadata": {},
     "output_type": "display_data"
    },
    {
     "data": {
      "application/vnd.jupyter.widget-view+json": {
       "model_id": "",
       "version_major": 2,
       "version_minor": 0
      },
      "text/plain": [
       "  ... working at frequency = 1602.0 Hz:   0%|          | 0/100 [00:00<?, ?it/s]"
      ]
     },
     "metadata": {},
     "output_type": "display_data"
    },
    {
     "data": {
      "application/vnd.jupyter.widget-view+json": {
       "model_id": "",
       "version_major": 2,
       "version_minor": 0
      },
      "text/plain": [
       "  ... working at frequency = 1702.0 Hz:   0%|          | 0/100 [00:00<?, ?it/s]"
      ]
     },
     "metadata": {},
     "output_type": "display_data"
    },
    {
     "data": {
      "application/vnd.jupyter.widget-view+json": {
       "model_id": "",
       "version_major": 2,
       "version_minor": 0
      },
      "text/plain": [
       "  ... working at frequency = 1802.0 Hz:   0%|          | 0/100 [00:00<?, ?it/s]"
      ]
     },
     "metadata": {},
     "output_type": "display_data"
    },
    {
     "data": {
      "application/vnd.jupyter.widget-view+json": {
       "model_id": "",
       "version_major": 2,
       "version_minor": 0
      },
      "text/plain": [
       "  ... working at frequency = 1902.0 Hz:   0%|          | 0/100 [00:00<?, ?it/s]"
      ]
     },
     "metadata": {},
     "output_type": "display_data"
    },
    {
     "data": {
      "application/vnd.jupyter.widget-view+json": {
       "model_id": "",
       "version_major": 2,
       "version_minor": 0
      },
      "text/plain": [
       "  ... working at frequency = 2002.0 Hz:   0%|          | 0/100 [00:00<?, ?it/s]"
      ]
     },
     "metadata": {},
     "output_type": "display_data"
    },
    {
     "data": {
      "application/vnd.jupyter.widget-view+json": {
       "model_id": "",
       "version_major": 2,
       "version_minor": 0
      },
      "text/plain": [
       "  ... working at frequency = 2102.0 Hz:   0%|          | 0/100 [00:00<?, ?it/s]"
      ]
     },
     "metadata": {},
     "output_type": "display_data"
    },
    {
     "data": {
      "application/vnd.jupyter.widget-view+json": {
       "model_id": "",
       "version_major": 2,
       "version_minor": 0
      },
      "text/plain": [
       "  ... working at frequency = 2202.0 Hz:   0%|          | 0/100 [00:00<?, ?it/s]"
      ]
     },
     "metadata": {},
     "output_type": "display_data"
    },
    {
     "data": {
      "application/vnd.jupyter.widget-view+json": {
       "model_id": "",
       "version_major": 2,
       "version_minor": 0
      },
      "text/plain": [
       "  ... working at frequency = 2302.0 Hz:   0%|          | 0/100 [00:00<?, ?it/s]"
      ]
     },
     "metadata": {},
     "output_type": "display_data"
    },
    {
     "data": {
      "application/vnd.jupyter.widget-view+json": {
       "model_id": "",
       "version_major": 2,
       "version_minor": 0
      },
      "text/plain": [
       "  ... working at frequency = 2402.0 Hz:   0%|          | 0/100 [00:00<?, ?it/s]"
      ]
     },
     "metadata": {},
     "output_type": "display_data"
    },
    {
     "data": {
      "application/vnd.jupyter.widget-view+json": {
       "model_id": "",
       "version_major": 2,
       "version_minor": 0
      },
      "text/plain": [
       "  ... working at frequency = 2502.0 Hz:   0%|          | 0/100 [00:00<?, ?it/s]"
      ]
     },
     "metadata": {},
     "output_type": "display_data"
    },
    {
     "data": {
      "application/vnd.jupyter.widget-view+json": {
       "model_id": "",
       "version_major": 2,
       "version_minor": 0
      },
      "text/plain": [
       "  ... working at frequency = 2602.0 Hz:   0%|          | 0/100 [00:00<?, ?it/s]"
      ]
     },
     "metadata": {},
     "output_type": "display_data"
    },
    {
     "data": {
      "application/vnd.jupyter.widget-view+json": {
       "model_id": "",
       "version_major": 2,
       "version_minor": 0
      },
      "text/plain": [
       "  ... working at frequency = 2702.0 Hz:   0%|          | 0/100 [00:00<?, ?it/s]"
      ]
     },
     "metadata": {},
     "output_type": "display_data"
    },
    {
     "data": {
      "application/vnd.jupyter.widget-view+json": {
       "model_id": "",
       "version_major": 2,
       "version_minor": 0
      },
      "text/plain": [
       "  ... working at frequency = 2802.0 Hz:   0%|          | 0/100 [00:00<?, ?it/s]"
      ]
     },
     "metadata": {},
     "output_type": "display_data"
    },
    {
     "data": {
      "application/vnd.jupyter.widget-view+json": {
       "model_id": "",
       "version_major": 2,
       "version_minor": 0
      },
      "text/plain": [
       "  ... working at frequency = 2902.0 Hz:   0%|          | 0/100 [00:00<?, ?it/s]"
      ]
     },
     "metadata": {},
     "output_type": "display_data"
    },
    {
     "data": {
      "application/vnd.jupyter.widget-view+json": {
       "model_id": "",
       "version_major": 2,
       "version_minor": 0
      },
      "text/plain": [
       "  ... working at frequency = 3002.0 Hz:   0%|          | 0/100 [00:00<?, ?it/s]"
      ]
     },
     "metadata": {},
     "output_type": "display_data"
    },
    {
     "data": {
      "application/vnd.jupyter.widget-view+json": {
       "model_id": "",
       "version_major": 2,
       "version_minor": 0
      },
      "text/plain": [
       "  ... working at frequency = 3102.0 Hz:   0%|          | 0/100 [00:00<?, ?it/s]"
      ]
     },
     "metadata": {},
     "output_type": "display_data"
    },
    {
     "data": {
      "application/vnd.jupyter.widget-view+json": {
       "model_id": "",
       "version_major": 2,
       "version_minor": 0
      },
      "text/plain": [
       "  ... working at frequency = 3202.0 Hz:   0%|          | 0/100 [00:00<?, ?it/s]"
      ]
     },
     "metadata": {},
     "output_type": "display_data"
    },
    {
     "data": {
      "application/vnd.jupyter.widget-view+json": {
       "model_id": "",
       "version_major": 2,
       "version_minor": 0
      },
      "text/plain": [
       "  ... working at frequency = 3302.0 Hz:   0%|          | 0/100 [00:00<?, ?it/s]"
      ]
     },
     "metadata": {},
     "output_type": "display_data"
    },
    {
     "data": {
      "application/vnd.jupyter.widget-view+json": {
       "model_id": "",
       "version_major": 2,
       "version_minor": 0
      },
      "text/plain": [
       "  ... working at frequency = 3402.0 Hz:   0%|          | 0/100 [00:00<?, ?it/s]"
      ]
     },
     "metadata": {},
     "output_type": "display_data"
    },
    {
     "data": {
      "application/vnd.jupyter.widget-view+json": {
       "model_id": "",
       "version_major": 2,
       "version_minor": 0
      },
      "text/plain": [
       "  ... working at frequency = 3502.0 Hz:   0%|          | 0/100 [00:00<?, ?it/s]"
      ]
     },
     "metadata": {},
     "output_type": "display_data"
    },
    {
     "data": {
      "application/vnd.jupyter.widget-view+json": {
       "model_id": "",
       "version_major": 2,
       "version_minor": 0
      },
      "text/plain": [
       "  ... working at frequency = 3602.0 Hz:   0%|          | 0/100 [00:00<?, ?it/s]"
      ]
     },
     "metadata": {},
     "output_type": "display_data"
    },
    {
     "data": {
      "application/vnd.jupyter.widget-view+json": {
       "model_id": "",
       "version_major": 2,
       "version_minor": 0
      },
      "text/plain": [
       "  ... working at frequency = 3702.0 Hz:   0%|          | 0/100 [00:00<?, ?it/s]"
      ]
     },
     "metadata": {},
     "output_type": "display_data"
    },
    {
     "data": {
      "application/vnd.jupyter.widget-view+json": {
       "model_id": "",
       "version_major": 2,
       "version_minor": 0
      },
      "text/plain": [
       "  ... working at frequency = 3802.0 Hz:   0%|          | 0/100 [00:00<?, ?it/s]"
      ]
     },
     "metadata": {},
     "output_type": "display_data"
    },
    {
     "data": {
      "application/vnd.jupyter.widget-view+json": {
       "model_id": "",
       "version_major": 2,
       "version_minor": 0
      },
      "text/plain": [
       "  ... working at frequency = 3902.0 Hz:   0%|          | 0/100 [00:00<?, ?it/s]"
      ]
     },
     "metadata": {},
     "output_type": "display_data"
    },
    {
     "data": {
      "application/vnd.jupyter.widget-view+json": {
       "model_id": "",
       "version_major": 2,
       "version_minor": 0
      },
      "text/plain": [
       "  ... working at frequency = 4002.0 Hz:   0%|          | 0/100 [00:00<?, ?it/s]"
      ]
     },
     "metadata": {},
     "output_type": "display_data"
    },
    {
     "data": {
      "application/vnd.jupyter.widget-view+json": {
       "model_id": "",
       "version_major": 2,
       "version_minor": 0
      },
      "text/plain": [
       "  ... working at frequency = 4102.0 Hz:   0%|          | 0/100 [00:00<?, ?it/s]"
      ]
     },
     "metadata": {},
     "output_type": "display_data"
    },
    {
     "data": {
      "application/vnd.jupyter.widget-view+json": {
       "model_id": "",
       "version_major": 2,
       "version_minor": 0
      },
      "text/plain": [
       "  ... working at frequency = 4202.0 Hz:   0%|          | 0/100 [00:00<?, ?it/s]"
      ]
     },
     "metadata": {},
     "output_type": "display_data"
    },
    {
     "data": {
      "application/vnd.jupyter.widget-view+json": {
       "model_id": "",
       "version_major": 2,
       "version_minor": 0
      },
      "text/plain": [
       "  ... working at frequency = 4302.0 Hz:   0%|          | 0/100 [00:00<?, ?it/s]"
      ]
     },
     "metadata": {},
     "output_type": "display_data"
    },
    {
     "data": {
      "application/vnd.jupyter.widget-view+json": {
       "model_id": "",
       "version_major": 2,
       "version_minor": 0
      },
      "text/plain": [
       "  ... working at frequency = 4402.0 Hz:   0%|          | 0/100 [00:00<?, ?it/s]"
      ]
     },
     "metadata": {},
     "output_type": "display_data"
    },
    {
     "data": {
      "application/vnd.jupyter.widget-view+json": {
       "model_id": "",
       "version_major": 2,
       "version_minor": 0
      },
      "text/plain": [
       "  ... working at frequency = 4502.0 Hz:   0%|          | 0/100 [00:00<?, ?it/s]"
      ]
     },
     "metadata": {},
     "output_type": "display_data"
    },
    {
     "data": {
      "application/vnd.jupyter.widget-view+json": {
       "model_id": "",
       "version_major": 2,
       "version_minor": 0
      },
      "text/plain": [
       "  ... working at frequency = 4602.0 Hz:   0%|          | 0/100 [00:00<?, ?it/s]"
      ]
     },
     "metadata": {},
     "output_type": "display_data"
    },
    {
     "data": {
      "application/vnd.jupyter.widget-view+json": {
       "model_id": "",
       "version_major": 2,
       "version_minor": 0
      },
      "text/plain": [
       "  ... working at frequency = 4702.0 Hz:   0%|          | 0/100 [00:00<?, ?it/s]"
      ]
     },
     "metadata": {},
     "output_type": "display_data"
    },
    {
     "data": {
      "application/vnd.jupyter.widget-view+json": {
       "model_id": "",
       "version_major": 2,
       "version_minor": 0
      },
      "text/plain": [
       "  ... working at frequency = 4802.0 Hz:   0%|          | 0/100 [00:00<?, ?it/s]"
      ]
     },
     "metadata": {},
     "output_type": "display_data"
    },
    {
     "data": {
      "application/vnd.jupyter.widget-view+json": {
       "model_id": "",
       "version_major": 2,
       "version_minor": 0
      },
      "text/plain": [
       "  ... working at frequency = 4902.0 Hz:   0%|          | 0/100 [00:00<?, ?it/s]"
      ]
     },
     "metadata": {},
     "output_type": "display_data"
    },
    {
     "data": {
      "application/vnd.jupyter.widget-view+json": {
       "model_id": "",
       "version_major": 2,
       "version_minor": 0
      },
      "text/plain": [
       "  ... working at frequency = 5002.0 Hz:   0%|          | 0/100 [00:00<?, ?it/s]"
      ]
     },
     "metadata": {},
     "output_type": "display_data"
    },
    {
     "data": {
      "application/vnd.jupyter.widget-view+json": {
       "model_id": "",
       "version_major": 2,
       "version_minor": 0
      },
      "text/plain": [
       "  ... working at frequency = 5102.0 Hz:   0%|          | 0/100 [00:00<?, ?it/s]"
      ]
     },
     "metadata": {},
     "output_type": "display_data"
    },
    {
     "data": {
      "application/vnd.jupyter.widget-view+json": {
       "model_id": "",
       "version_major": 2,
       "version_minor": 0
      },
      "text/plain": [
       "  ... working at frequency = 5202.0 Hz:   0%|          | 0/100 [00:00<?, ?it/s]"
      ]
     },
     "metadata": {},
     "output_type": "display_data"
    },
    {
     "data": {
      "application/vnd.jupyter.widget-view+json": {
       "model_id": "",
       "version_major": 2,
       "version_minor": 0
      },
      "text/plain": [
       "  ... working at frequency = 5302.0 Hz:   0%|          | 0/100 [00:00<?, ?it/s]"
      ]
     },
     "metadata": {},
     "output_type": "display_data"
    },
    {
     "data": {
      "application/vnd.jupyter.widget-view+json": {
       "model_id": "",
       "version_major": 2,
       "version_minor": 0
      },
      "text/plain": [
       "  ... working at frequency = 5402.0 Hz:   0%|          | 0/100 [00:00<?, ?it/s]"
      ]
     },
     "metadata": {},
     "output_type": "display_data"
    },
    {
     "data": {
      "application/vnd.jupyter.widget-view+json": {
       "model_id": "",
       "version_major": 2,
       "version_minor": 0
      },
      "text/plain": [
       "  ... working at frequency = 5502.0 Hz:   0%|          | 0/100 [00:00<?, ?it/s]"
      ]
     },
     "metadata": {},
     "output_type": "display_data"
    },
    {
     "data": {
      "application/vnd.jupyter.widget-view+json": {
       "model_id": "",
       "version_major": 2,
       "version_minor": 0
      },
      "text/plain": [
       "  ... working at frequency = 5602.0 Hz:   0%|          | 0/100 [00:00<?, ?it/s]"
      ]
     },
     "metadata": {},
     "output_type": "display_data"
    },
    {
     "data": {
      "application/vnd.jupyter.widget-view+json": {
       "model_id": "",
       "version_major": 2,
       "version_minor": 0
      },
      "text/plain": [
       "  ... working at frequency = 5702.0 Hz:   0%|          | 0/100 [00:00<?, ?it/s]"
      ]
     },
     "metadata": {},
     "output_type": "display_data"
    },
    {
     "data": {
      "application/vnd.jupyter.widget-view+json": {
       "model_id": "",
       "version_major": 2,
       "version_minor": 0
      },
      "text/plain": [
       "  ... working at frequency = 5802.0 Hz:   0%|          | 0/100 [00:00<?, ?it/s]"
      ]
     },
     "metadata": {},
     "output_type": "display_data"
    },
    {
     "data": {
      "application/vnd.jupyter.widget-view+json": {
       "model_id": "",
       "version_major": 2,
       "version_minor": 0
      },
      "text/plain": [
       "  ... working at frequency = 5902.0 Hz:   0%|          | 0/100 [00:00<?, ?it/s]"
      ]
     },
     "metadata": {},
     "output_type": "display_data"
    },
    {
     "data": {
      "application/vnd.jupyter.widget-view+json": {
       "model_id": "",
       "version_major": 2,
       "version_minor": 0
      },
      "text/plain": [
       "  ... working at frequency = 6002.0 Hz:   0%|          | 0/100 [00:00<?, ?it/s]"
      ]
     },
     "metadata": {},
     "output_type": "display_data"
    },
    {
     "data": {
      "application/vnd.jupyter.widget-view+json": {
       "model_id": "",
       "version_major": 2,
       "version_minor": 0
      },
      "text/plain": [
       "  ... working at frequency = 6102.0 Hz:   0%|          | 0/100 [00:00<?, ?it/s]"
      ]
     },
     "metadata": {},
     "output_type": "display_data"
    },
    {
     "data": {
      "application/vnd.jupyter.widget-view+json": {
       "model_id": "",
       "version_major": 2,
       "version_minor": 0
      },
      "text/plain": [
       "  ... working at frequency = 6202.0 Hz:   0%|          | 0/100 [00:00<?, ?it/s]"
      ]
     },
     "metadata": {},
     "output_type": "display_data"
    },
    {
     "data": {
      "application/vnd.jupyter.widget-view+json": {
       "model_id": "",
       "version_major": 2,
       "version_minor": 0
      },
      "text/plain": [
       "  ... working at frequency = 6302.0 Hz:   0%|          | 0/100 [00:00<?, ?it/s]"
      ]
     },
     "metadata": {},
     "output_type": "display_data"
    },
    {
     "data": {
      "application/vnd.jupyter.widget-view+json": {
       "model_id": "",
       "version_major": 2,
       "version_minor": 0
      },
      "text/plain": [
       "  ... working at frequency = 6402.0 Hz:   0%|          | 0/100 [00:00<?, ?it/s]"
      ]
     },
     "metadata": {},
     "output_type": "display_data"
    },
    {
     "data": {
      "application/vnd.jupyter.widget-view+json": {
       "model_id": "",
       "version_major": 2,
       "version_minor": 0
      },
      "text/plain": [
       "  ... working at frequency = 6502.0 Hz:   0%|          | 0/100 [00:00<?, ?it/s]"
      ]
     },
     "metadata": {},
     "output_type": "display_data"
    },
    {
     "data": {
      "application/vnd.jupyter.widget-view+json": {
       "model_id": "",
       "version_major": 2,
       "version_minor": 0
      },
      "text/plain": [
       "  ... working at frequency = 6602.0 Hz:   0%|          | 0/100 [00:00<?, ?it/s]"
      ]
     },
     "metadata": {},
     "output_type": "display_data"
    },
    {
     "data": {
      "application/vnd.jupyter.widget-view+json": {
       "model_id": "",
       "version_major": 2,
       "version_minor": 0
      },
      "text/plain": [
       "  ... working at frequency = 6702.0 Hz:   0%|          | 0/100 [00:00<?, ?it/s]"
      ]
     },
     "metadata": {},
     "output_type": "display_data"
    },
    {
     "data": {
      "application/vnd.jupyter.widget-view+json": {
       "model_id": "",
       "version_major": 2,
       "version_minor": 0
      },
      "text/plain": [
       "  ... working at frequency = 6802.0 Hz:   0%|          | 0/100 [00:00<?, ?it/s]"
      ]
     },
     "metadata": {},
     "output_type": "display_data"
    },
    {
     "data": {
      "application/vnd.jupyter.widget-view+json": {
       "model_id": "",
       "version_major": 2,
       "version_minor": 0
      },
      "text/plain": [
       "  ... working at frequency = 6902.0 Hz:   0%|          | 0/100 [00:00<?, ?it/s]"
      ]
     },
     "metadata": {},
     "output_type": "display_data"
    },
    {
     "data": {
      "application/vnd.jupyter.widget-view+json": {
       "model_id": "",
       "version_major": 2,
       "version_minor": 0
      },
      "text/plain": [
       "  ... working at frequency = 7002.0 Hz:   0%|          | 0/100 [00:00<?, ?it/s]"
      ]
     },
     "metadata": {},
     "output_type": "display_data"
    },
    {
     "data": {
      "application/vnd.jupyter.widget-view+json": {
       "model_id": "",
       "version_major": 2,
       "version_minor": 0
      },
      "text/plain": [
       "  ... working at frequency = 7102.0 Hz:   0%|          | 0/100 [00:00<?, ?it/s]"
      ]
     },
     "metadata": {},
     "output_type": "display_data"
    },
    {
     "data": {
      "application/vnd.jupyter.widget-view+json": {
       "model_id": "",
       "version_major": 2,
       "version_minor": 0
      },
      "text/plain": [
       "  ... working at frequency = 7202.0 Hz:   0%|          | 0/100 [00:00<?, ?it/s]"
      ]
     },
     "metadata": {},
     "output_type": "display_data"
    },
    {
     "data": {
      "application/vnd.jupyter.widget-view+json": {
       "model_id": "",
       "version_major": 2,
       "version_minor": 0
      },
      "text/plain": [
       "  ... working at frequency = 7302.0 Hz:   0%|          | 0/100 [00:00<?, ?it/s]"
      ]
     },
     "metadata": {},
     "output_type": "display_data"
    },
    {
     "data": {
      "application/vnd.jupyter.widget-view+json": {
       "model_id": "",
       "version_major": 2,
       "version_minor": 0
      },
      "text/plain": [
       "  ... working at frequency = 7402.0 Hz:   0%|          | 0/100 [00:00<?, ?it/s]"
      ]
     },
     "metadata": {},
     "output_type": "display_data"
    },
    {
     "data": {
      "application/vnd.jupyter.widget-view+json": {
       "model_id": "",
       "version_major": 2,
       "version_minor": 0
      },
      "text/plain": [
       "  ... working at frequency = 7502.0 Hz:   0%|          | 0/100 [00:00<?, ?it/s]"
      ]
     },
     "metadata": {},
     "output_type": "display_data"
    },
    {
     "data": {
      "application/vnd.jupyter.widget-view+json": {
       "model_id": "",
       "version_major": 2,
       "version_minor": 0
      },
      "text/plain": [
       "  ... working at frequency = 7602.0 Hz:   0%|          | 0/100 [00:00<?, ?it/s]"
      ]
     },
     "metadata": {},
     "output_type": "display_data"
    },
    {
     "data": {
      "application/vnd.jupyter.widget-view+json": {
       "model_id": "",
       "version_major": 2,
       "version_minor": 0
      },
      "text/plain": [
       "  ... working at frequency = 7702.0 Hz:   0%|          | 0/100 [00:00<?, ?it/s]"
      ]
     },
     "metadata": {},
     "output_type": "display_data"
    },
    {
     "data": {
      "application/vnd.jupyter.widget-view+json": {
       "model_id": "",
       "version_major": 2,
       "version_minor": 0
      },
      "text/plain": [
       "  ... working at frequency = 7802.0 Hz:   0%|          | 0/100 [00:00<?, ?it/s]"
      ]
     },
     "metadata": {},
     "output_type": "display_data"
    },
    {
     "data": {
      "application/vnd.jupyter.widget-view+json": {
       "model_id": "",
       "version_major": 2,
       "version_minor": 0
      },
      "text/plain": [
       "  ... working at frequency = 7902.0 Hz:   0%|          | 0/100 [00:00<?, ?it/s]"
      ]
     },
     "metadata": {},
     "output_type": "display_data"
    },
    {
     "data": {
      "application/vnd.jupyter.widget-view+json": {
       "model_id": "",
       "version_major": 2,
       "version_minor": 0
      },
      "text/plain": [
       "  ... working at frequency = 8002.0 Hz:   0%|          | 0/100 [00:00<?, ?it/s]"
      ]
     },
     "metadata": {},
     "output_type": "display_data"
    },
    {
     "data": {
      "application/vnd.jupyter.widget-view+json": {
       "model_id": "",
       "version_major": 2,
       "version_minor": 0
      },
      "text/plain": [
       "  ... working at frequency = 8102.0 Hz:   0%|          | 0/100 [00:00<?, ?it/s]"
      ]
     },
     "metadata": {},
     "output_type": "display_data"
    },
    {
     "data": {
      "application/vnd.jupyter.widget-view+json": {
       "model_id": "",
       "version_major": 2,
       "version_minor": 0
      },
      "text/plain": [
       "  ... working at frequency = 8202.0 Hz:   0%|          | 0/100 [00:00<?, ?it/s]"
      ]
     },
     "metadata": {},
     "output_type": "display_data"
    },
    {
     "data": {
      "application/vnd.jupyter.widget-view+json": {
       "model_id": "",
       "version_major": 2,
       "version_minor": 0
      },
      "text/plain": [
       "  ... working at frequency = 8302.0 Hz:   0%|          | 0/100 [00:00<?, ?it/s]"
      ]
     },
     "metadata": {},
     "output_type": "display_data"
    },
    {
     "data": {
      "application/vnd.jupyter.widget-view+json": {
       "model_id": "",
       "version_major": 2,
       "version_minor": 0
      },
      "text/plain": [
       "  ... working at frequency = 8402.0 Hz:   0%|          | 0/100 [00:00<?, ?it/s]"
      ]
     },
     "metadata": {},
     "output_type": "display_data"
    },
    {
     "data": {
      "application/vnd.jupyter.widget-view+json": {
       "model_id": "",
       "version_major": 2,
       "version_minor": 0
      },
      "text/plain": [
       "  ... working at frequency = 8502.0 Hz:   0%|          | 0/100 [00:00<?, ?it/s]"
      ]
     },
     "metadata": {},
     "output_type": "display_data"
    },
    {
     "data": {
      "application/vnd.jupyter.widget-view+json": {
       "model_id": "",
       "version_major": 2,
       "version_minor": 0
      },
      "text/plain": [
       "  ... working at frequency = 8602.0 Hz:   0%|          | 0/100 [00:00<?, ?it/s]"
      ]
     },
     "metadata": {},
     "output_type": "display_data"
    },
    {
     "data": {
      "application/vnd.jupyter.widget-view+json": {
       "model_id": "",
       "version_major": 2,
       "version_minor": 0
      },
      "text/plain": [
       "  ... working at frequency = 8702.0 Hz:   0%|          | 0/100 [00:00<?, ?it/s]"
      ]
     },
     "metadata": {},
     "output_type": "display_data"
    },
    {
     "data": {
      "application/vnd.jupyter.widget-view+json": {
       "model_id": "",
       "version_major": 2,
       "version_minor": 0
      },
      "text/plain": [
       "  ... working at frequency = 8802.0 Hz:   0%|          | 0/100 [00:00<?, ?it/s]"
      ]
     },
     "metadata": {},
     "output_type": "display_data"
    },
    {
     "data": {
      "application/vnd.jupyter.widget-view+json": {
       "model_id": "",
       "version_major": 2,
       "version_minor": 0
      },
      "text/plain": [
       "  ... working at frequency = 8902.0 Hz:   0%|          | 0/100 [00:00<?, ?it/s]"
      ]
     },
     "metadata": {},
     "output_type": "display_data"
    },
    {
     "data": {
      "application/vnd.jupyter.widget-view+json": {
       "model_id": "",
       "version_major": 2,
       "version_minor": 0
      },
      "text/plain": [
       "  ... working at frequency = 9002.0 Hz:   0%|          | 0/100 [00:00<?, ?it/s]"
      ]
     },
     "metadata": {},
     "output_type": "display_data"
    },
    {
     "data": {
      "application/vnd.jupyter.widget-view+json": {
       "model_id": "",
       "version_major": 2,
       "version_minor": 0
      },
      "text/plain": [
       "  ... working at frequency = 9102.0 Hz:   0%|          | 0/100 [00:00<?, ?it/s]"
      ]
     },
     "metadata": {},
     "output_type": "display_data"
    },
    {
     "data": {
      "application/vnd.jupyter.widget-view+json": {
       "model_id": "",
       "version_major": 2,
       "version_minor": 0
      },
      "text/plain": [
       "  ... working at frequency = 9202.0 Hz:   0%|          | 0/100 [00:00<?, ?it/s]"
      ]
     },
     "metadata": {},
     "output_type": "display_data"
    },
    {
     "data": {
      "application/vnd.jupyter.widget-view+json": {
       "model_id": "",
       "version_major": 2,
       "version_minor": 0
      },
      "text/plain": [
       "  ... working at frequency = 9302.0 Hz:   0%|          | 0/100 [00:00<?, ?it/s]"
      ]
     },
     "metadata": {},
     "output_type": "display_data"
    },
    {
     "data": {
      "application/vnd.jupyter.widget-view+json": {
       "model_id": "",
       "version_major": 2,
       "version_minor": 0
      },
      "text/plain": [
       "  ... working at frequency = 9402.0 Hz:   0%|          | 0/100 [00:00<?, ?it/s]"
      ]
     },
     "metadata": {},
     "output_type": "display_data"
    },
    {
     "data": {
      "application/vnd.jupyter.widget-view+json": {
       "model_id": "",
       "version_major": 2,
       "version_minor": 0
      },
      "text/plain": [
       "  ... working at frequency = 9502.0 Hz:   0%|          | 0/100 [00:00<?, ?it/s]"
      ]
     },
     "metadata": {},
     "output_type": "display_data"
    },
    {
     "data": {
      "application/vnd.jupyter.widget-view+json": {
       "model_id": "",
       "version_major": 2,
       "version_minor": 0
      },
      "text/plain": [
       "  ... working at frequency = 9602.0 Hz:   0%|          | 0/100 [00:00<?, ?it/s]"
      ]
     },
     "metadata": {},
     "output_type": "display_data"
    },
    {
     "data": {
      "application/vnd.jupyter.widget-view+json": {
       "model_id": "",
       "version_major": 2,
       "version_minor": 0
      },
      "text/plain": [
       "  ... working at frequency = 9702.0 Hz:   0%|          | 0/100 [00:00<?, ?it/s]"
      ]
     },
     "metadata": {},
     "output_type": "display_data"
    },
    {
     "data": {
      "application/vnd.jupyter.widget-view+json": {
       "model_id": "",
       "version_major": 2,
       "version_minor": 0
      },
      "text/plain": [
       "  ... working at frequency = 9802.0 Hz:   0%|          | 0/100 [00:00<?, ?it/s]"
      ]
     },
     "metadata": {},
     "output_type": "display_data"
    },
    {
     "data": {
      "application/vnd.jupyter.widget-view+json": {
       "model_id": "",
       "version_major": 2,
       "version_minor": 0
      },
      "text/plain": [
       "  ... working at frequency = 9902.0 Hz:   0%|          | 0/100 [00:00<?, ?it/s]"
      ]
     },
     "metadata": {},
     "output_type": "display_data"
    },
    {
     "data": {
      "application/vnd.jupyter.widget-view+json": {
       "model_id": "aca0fd51863048a9ac8aac9ca695600c",
       "version_major": 2,
       "version_minor": 0
      },
      "text/plain": [
       "  ... working at frequency = 10002.0 Hz:   0%|          | 0/100 [00:00<?, ?it/s]"
      ]
     },
     "metadata": {},
     "output_type": "display_data"
    },
    {
     "name": "stdout",
     "output_type": "stream",
     "text": [
      "\n",
      "\n",
      "self.frequency_array.shape[0] = 101 is same as self.wavenumer_array.shape[0] = 101\n",
      "Save file to /Users/chenghunglin/Documents/sin_3_4_05_vol.xlsx\n"
     ]
    }
   ],
   "source": [
    "sin_3_4_05_vol = anechoic_sound_absorption(determinant, frequency_array,\n",
    "                              fp = '/Users/chenghunglin/Documents/', \n",
    "                              fn = 'sin_3_4_05_vol.xlsx', \n",
    "                              material='rubber', shape='sin', \n",
    "                              p=3e-3, q=4e-3, lh=40e-3, cell_radius=15e-3, \n",
    "                              theta=0.5, phi=3e-3, length_unit='m',\n",
    "                              num_segments=100, layer_density=1100, air_density=1.21, \n",
    "                              Young_modulus=0.14e9, Poisson_ratio=0.49, loss_factor=0.23, \n",
    "                              medium_density=998, sound_speed_medium=1483, \n",
    "                              use_volume=True)"
   ]
  },
  {
   "cell_type": "code",
   "execution_count": null,
   "metadata": {},
   "outputs": [],
   "source": []
  },
  {
   "cell_type": "code",
   "execution_count": 8,
   "metadata": {},
   "outputs": [
    {
     "name": "stdout",
     "output_type": "stream",
     "text": [
      "self.frequency_array.shape[0] = 101 is same as self.wavenumer_array.shape[0] = 101\n"
     ]
    },
    {
     "data": {
      "text/plain": [
       "<matplotlib.legend.Legend at 0x155cb64e0>"
      ]
     },
     "execution_count": 8,
     "metadata": {},
     "output_type": "execute_result"
    },
    {
     "data": {
      "application/vnd.jupyter.widget-view+json": {
       "model_id": "cc8edda2401a4084a3c2a4050762d98e",
       "version_major": 2,
       "version_minor": 0
      },
      "image/png": "[encoded data removed]",
      "text/html": [
       "\n",
       "            <div style=\"display: inline-block;\">\n",
       "                <div class=\"jupyter-widgets widget-label\" style=\"text-align: center;\">\n",
       "                    Figure\n",
       "                </div>\n",
       "                <img src='data:image/png;base64,iVBORw0KGgoAAAANSUhEUgAAAoAAAAHgCAYAAAA10dzkAAAAOXRFWHRTb2Z0d2FyZQBNYXRwbG90bGliIHZlcnNpb24zLjkuMSwgaHR0cHM6Ly9tYXRwbG90bGliLm9yZy/TGe4hAAAACXBIWXMAAA9hAAAPYQGoP6dpAABQCUlEQVR4nO3deXxU1f3/8fdkkpnsA0nIxhLCvkQUAiggAi6gIkptFRVZ1Gr51g2xrvTnQrVYa63dwK241I1qwaKlSFRQEARkk00QCIQlISSEJGSbZOb8/ohMjQkYIMlNZl7Px2MemjvnznzumSH3nXPvPddmjDECAABAwAiyugAAAAA0LQIgAABAgCEAAgAABBgCIAAAQIAhAAIAAAQYAiAAAECAIQACAAAEGAIgAABAgCEAAgAABBgCIAAAQIAhAAIAAAQYAiAAAECAIQACAAAEGAIgAABAgCEAAgAABBgCIAAAQIAhAAIAAAQYAiAAAECAIQACAAAEGAIgAABAgCEAAgAABBgCIAAAQIAhAAIAAAQYAiAAAECAIQACAAAEGAIgAABAgCEAAgAABBgCIAAAQIAhAAIAAAQYAiAAAECAIQACAAAEGAIgAABAgCEAAgAABBgCIAAAQIAhAAIAAAQYAiAAAECAIQACAAAEGAIgAABAgCEAAgAABBgCIAAAQIAhAAIAAAQYAiAAAECAIQACAAAEGAIgAABAgCEAAgAABBgCIAAAQIAhAAIAAAQYAiAAAECAIQACAAAEGAIgAABAgCEAAgAABBgCIAAAQIAhAAIAAAQYAiAAAECAIQACAAAEGAIgAABAgAm2uoCWzOv16uDBg4qKipLNZrO6HAAAUA/GGBUXFys5OVlBQYE5FkYAPAMHDx5U+/btrS4DAACchn379qldu3ZWl2EJAuAZiIqKklT9BYqOjra4GgAAUB9FRUVq3769bz8eiAiAZ+D4Yd/o6GgCIAAALUwgn74VmAe+AQAAAhgBEAAAIMAQAAEAAAIM5wA2MmOMqqqq5PF4rC4FgB+x2+0KDg4O6HOYAJw+AmAjcrvdys7OVmlpqdWlAPBD4eHhSkpKksPhsLoUAC0MAbCReL1eZWZmym63Kzk5WQ6Hg7/UATQIY4zcbrcOHz6szMxMde3aNWAnswVwegiAjcTtdsvr9ap9+/YKDw+3uhwAfiYsLEwhISHau3ev3G63QkNDrS4JQAvCn4yNjL/KATQWfr8AOF389gAAAAgwBEDU2+TJkzV27Firywh4xhjddtttiomJkc1m04YNG6wuCY3EZrPp/ffft7oMAH6IAIh6+9Of/qRXX33V6jJ+1Lx589S/f3+1atVKEREROuecc/SPf/zD6rJq2Llzp6KiotSqVatTXnfRokV69dVX9eGHHyo7O1tpaWknbPviiy9q+PDhio6Ols1m09GjR2u1KSgo0IQJE+RyueRyuTRhwoRa7bKysjRmzBhFREQoLi5Od911l9xu9ynX3tiefPJJDR48WOHh4Sfs2/psy6ZNmzRs2DCFhYWpbdu2mjFjhowxTbAFANA0uAgE9eZyuawuoV5iYmI0ffp09ejRQw6HQx9++KFuuukmxcfHa9SoUVaXp8rKSl1//fUaOnSoVqxYccrr79q1S0lJSRo8ePAJ27jdbjkcDpWWlurSSy/VpZdeqoceeqjOtjfccIP279+vRYsWSZJuu+02TZgwQR988IEkyePxaPTo0WrTpo2WL1+u/Px8TZo0ScYY/eUvfznl+huT2+3WNddco0GDBunvf/97refrsy1FRUW65JJLNGLECK1Zs0Y7duzQ5MmTFRERoXvvvbepNwkAGofBaSssLDSSTGFhYa3nysrKzNatW01ZWZkFlZ2+d99916SlpZnQ0FATExNjLrroInPs2DFjjDGTJk0yV111la/tsGHDzJ133mnuu+8+07p1a5OQkGAeffTRU3q/JUuWGEnmww8/NH369DFOp9MMHDjQfP311w24Vcb07dvX/PrXvz6ldXbs2GGGDh1qnE6n6dmzp1m8eLGRZObPn39Gtdx///3mxhtvNK+88opxuVyntO6kSZOMJN8jJSXFGFP9Wdx+++3mnnvuMbGxseaCCy6osd7xfi4oKKixfOvWrUaS+fLLL33LVq5caSSZb775xhhjzMKFC01QUJA5cOCAr83bb79tnE5nnd/9E1myZIkZMGCACQ8PNy6XywwePNjs2bPH9/yCBQtMv379jNPpNKmpqeaxxx4zlZWVvue3bdtmhgwZ4vs8MjIyTvh5nKhv67Mts2bNMi6Xy5SXl/vazJw50yQnJxuv11uvbX3++edNcnKy8Xg8NZaPGTPGTJw40ffzrFmzTKdOnUxISIjp1q2bef3112u0/7HvW0v9PQP8mP0Fpeb1lXvMTa+sNl98e7jBX/9k++9AwSHgJmSMUam7qskfpp6HrrKzs3X99dfr5ptv1rZt27R06VJdffXVJ13/tddeU0REhFatWqWnn35aM2bMUEZGxin3zX333adnnnlGa9asUXx8vK688kpVVlZKqj5kFxkZedLHlClTTtjnn3zyibZv364LLrig3vV4vV5dffXVstvt+vLLL/X888/rgQceqNWud+/eJ62rd+/eNdp/+umnevfdd/W3v/3tFHrnf/70pz9pxowZateunbKzs7VmzRrfc6+99pqCg4P1xRdf6IUXXqjX661cuVIul0vnnnuub9l5550nl8vlG51cuXKl0tLSlJyc7GszatQoVVRUaO3atfV6n6qqKo0dO1bDhg3T119/rZUrV+q2227zzY350Ucf6cYbb9Rdd92lrVu36oUXXtCrr76qJ598UlL15zF27FiFh4dr1apVevHFFzV9+vR6vfcPt/fHtmXlypUaNmyYnE5njTYHDx7Unj176vU+11xzjfLy8rRkyRLfsoKCAn300UcaP368JGn+/Pm6++67de+992rz5s36xS9+oZtuuqnGOkCgKHN7tHJXvn636BuN+uPnGvLUp/p/72/Wp9/kavHWQ1aX55c4BNyEyio96vXIR03+vltnjFK448c/6uzsbFVVVenqq69WSkqKJOmss8466Tp9+vTRo48+Kknq2rWr/vrXv+qTTz7RJZdccko1Pvroo751XnvtNbVr107z58/Xtddeq+Tk5B+90CE6OrrGz4WFhWrbtq0qKipkt9s1a9asU6rp448/1rZt27Rnzx61a9dOkvTb3/5Wl112WY12Cxcu9AXVuoSEhPj+Pz8/X5MnT9Ybb7xRq976crlcioqKkt1uV2JiYo3nunTpoqeffvqUXi8nJ0fx8fG1lsfHxysnJ8fXJiEhocbzrVu3lsPh8LX5MUVFRSosLNQVV1yhzp07S5J69uzpe/7JJ5/Ugw8+qEmTJkmSOnXqpN/85je6//779eijj2rx4sXatWuXli5d6tvuJ5988pS/Z/XZlpycHHXs2LFGm+Pr5OTkKDU19UffJyYmRpdeeqneeustXXTRRZKkd999VzExMb6fn3nmGU2ePFm//OUvJUnTpk3Tl19+qWeeeUYjRow4pe0CWhKv12h/QZm2HCzUV3sL9NXeAm05UKgq7/8GG4JsUr8OrTWiR7xG9U44yavhdBEA4XP22Wfroosu0llnnaVRo0Zp5MiR+tnPfqbWrVufcJ0+ffrU+DkpKUm5ubmn/N6DBg3y/X9MTIy6d++ubdu2SZKCg4PVpUuXU3q9qKgobdiwQceOHdMnn3yiadOmqVOnTho+fHi91t+2bZs6dOjgC38/rPG440G5Pm699VbdcMMNpzQSeSr69+9/WuvVdYcaY0yN5fVpczIxMTGaPHmyRo0apUsuuUQXX3yxrr32WiUlJUmS1q5dqzVr1vhG/KTq8/XKy8tVWlqq7du3q3379jVC78CBA+u9jd93Ott7fBT8VO7mM378eN12222aNWuWnE6n3nzzTV133XWy2+2Sqr9jt912W411hgwZoj/96U/1fg+gOXNXebW/oFR78kuUmVeqnbnF+ianWDtyilXi9tRqnxDt1HmdYnVhj3hd0LWNWkdwi8PGRABsQmEhdm2d0fQXIYSF2OvVzm63KyMjQytWrNDixYv1l7/8RdOnT9eqVatOOOrx/REuqXoH6fV6z7jm468lVR8C7tWr10nb3njjjXr++ed9PwcFBflC4znnnKNt27Zp5syZ9Q6AdR32rmvn37t3b+3du/eEr5OSkqItW7ZIqj78u2DBAj3zzDO+9/B6vQoODtaLL76om2++uV61nUhERMQpr5OYmKhDh2ofXjl8+LBv1CsxMVGrVq2q8XxBQYEqKytrjaadzCuvvKK77rpLixYt0ty5c/XrX/9aGRkZOu+88+T1evX444/r6quvrrVeaGjoKYXNk6nPtiQmJtYa2Tz+R82pbO+YMWPk9Xr1n//8RwMGDNCyZcv07LPP1mhTV9DklpFoSTxeo735Jdp9uER78ku0N7/U998DR8vk8dZ9CpEjOEhd4yPVt0Mr9U+JUXpKa7VrHcb3vwkRAJuQzWar16FYK9lsNg0ZMkRDhgzRI488opSUFM2fP1/Tpk1r1Pf98ssv1aFDB0nVO+QdO3aoR48eknRah4B/yBijioqKetfTq1cvZWVl6eDBg77zxVauXFmr3akcAl65cqU8nv/91fvvf/9bv/vd77RixQq1bdu23rU1pEGDBqmwsFCrV6/2jaitWrVKhYWFvquMBw0apCeffFLZ2dm+EbvFixfL6XQqPT39lN6vb9++6tu3rx566CENGjRIb731ls477zz169dP27dvP+FIb48ePZSVlaVDhw75Qtj3z388le39sW0ZNGiQHn74Yd+V1MfbJCcn1zo0fDJhYWG6+uqr9eabb2rnzp3q1q1bjf7q2bOnli9frokTJ/qWrVixosahcaA58XiNth4s0po9R/RNTlH1aN6hYpVXnviP/nCHXSmxEeoYG67ObSLVIylKPRKj1DE2QsF2LkOwUvNOI2hSq1at0ieffKKRI0cqPj5eq1at0uHDh5tkhzRjxgzFxsYqISFB06dPV1xcnG/S6VM9BDxz5kz1799fnTt3ltvt1sKFC/X6669r9uzZ9X6Niy++WN27d9fEiRP1hz/8QUVFRXVedHAqh4B/2I9fffWVgoKCTjqP35nKyclRTk6Odu7cKal6fruoqCh16NBBMTEx6tmzpy699FLdeuutvgtHbrvtNl1xxRXq3r27JGnkyJHq1auXJkyYoN///vc6cuSIfvWrX+nWW2+t97mMmZmZevHFF3XllVcqOTlZ27dv144dO3zh55FHHtEVV1yh9u3b65prrlFQUJC+/vprbdq0SU888YQuueQSde7cWZMmTdLTTz+t4uJi3+fx/RGDrKwsHTlyRFlZWfJ4PL4/HLp06aLIyMh6bcsNN9ygxx9/XJMnT9bDDz+sb7/9Vr/97W/1yCOPnPLoxPjx4zVmzBht2bJFN954Y43n7rvvPl177bXq16+fLrroIn3wwQeaN2+ePv7441N6D6Ax7TtSqs92HNYXO/O0cne+jpbW/oM3NCRIneIilRoXoZTYcHWMrf5valyE2kQ5GdVrriy59thP+Ns0MFu3bjWjRo0ybdq0MU6n03Tr1s385S9/8T1f1zQwd999d43XuOqqq8ykSZNqrDNs2LATvufx6Uk++OAD07t3b+NwOMyAAQPMhg0bTns7pk+fbrp06WJCQ0NN69atzaBBg8w777xTo80rr7xifuzrv337dnP++ecbh8NhunXrZhYtWtQg08B8v4YfTlWSmZlpJJklS5accL0//vGPvulfjqvrszDGmEcffbTGtDHHH6+88oqvTX5+vhk/fryJiooyUVFRZvz48bWmi9m7d68ZPXq0CQsLMzExMeaOO+6oMU2KMabW635fTk6OGTt2rElKSjIOh8OkpKSYRx55pMY0KYsWLTKDBw82YWFhJjo62gwcONC8+OKLvuePTwPjcDhMjx49zAcffGAkmUWLFvna/HCanOOP7/dnfbbl66+/9k0BlJiYaB577LEaU8DU53MyxpiqqiqTlJRkJJldu3bVep5pYNAcVVR6zAcbD5gbXlppUh74sMaj9yOLzM2vrDZ/WLzdLPz6oNl9+Jip8tRveqTmhGlgjLEZw/T2p6uoqEgul0uFhYW1RkLKy8uVmZmp1NRUhYaGWlSh9YYPH67hw4frscceq/P5pUuXasSIESooKDitu2Kcrscee0xLly7V0qVLT2k9m82m+fPnN9ot8ZYuXaqf/OQn2r1790kvvmlu9uzZo65du2rr1q3q2rVrk7znF198ofPPP187d+70XVncVJrL58TvGTSk7MIyvfrFHr23dr/yS6rvjmOzSQM6xmholzgN6RqnPm1dfnHo9mT770DBIWA0muLiYu3atUsffvih1aXU8tFHHzXLqy0XLVqkhx9+uEWFP6m67ttuu61Rw9/8+fMVGRmprl27aufOnbr77rs1ZMiQJg9/Usv9nIC6lFd69OLnuzV76S6VVVafp5wQ7dS4/u117YD2atc63OIK0RgIgGg0UVFR2rdvn9Vl1KmuCzqag6eeesrqEk7LiSbibkjFxcW6//77tW/fPsXFxeniiy/WH/7wh0Z/37q01M8J+D5jjBZuytFvF27TgaNlkqT+Ka31i2GdNaJ7G78Y6cOJEQBhqeHDh9f7TiXNQUuq1d9MnDixxhWzAE7foaJyTX1ng1buzpckJbtC9dDlPXVFnyQu2ggQBEAAAALI6swj+uWb65R3rEKhIUGaMqyzfnFBZ4U56jdnLPwDARAAgABgjNFrK/boif9sU5XXqEdilJ6/MV0d4059Enm0fATARsYhQwCNhd8vqK/ySo8enrdJ89YfkCSNOTtZv/vpWc3+5gRoPHzyjeT4HSBKS0sVFhZmcTUA/FFpaamk2rdkBL6v1F2lya+s0erMI7IH2fTQZT10y/mpnOsX4AiAjcRut6tVq1a+e4iGh4fzjw1AgzDGqLS0VLm5uWrVqpXsds7dQt3KKz269fWvtDrziKKcwXphYroGd46zuiw0AwTARpSYmCjpfzeSB4CG1KpVK9/vGeCHKqo8+sU/1uqLnfmKcNj16s0DlZ7C3JWoRgBsRDabTUlJSYqPj1dlZe37JwLA6QoJCWHkDyfkrvLq9jfX67MdhxUWYtecyQMIf6iBANgE7HY7v6gBAE3C4zWaOne9Pt52SM7gIL08qb/O7RRrdVloZpjmGwAAP/JsxnYt3JQjhz1IL0xI15AunPOH2giAAAD4icVbcvS3JbskSU//rI+Gd4+3uCI0VwRAAAD8wO7Dx3TvPzdKkiYP7qixfdtaXBGaMwIgAAAtXElFlX7xj7UqrqjSgI6tNX10T6tLQjNHAAQAoAUzxuj+977Wt7nHFB/l1N9u6KcQO7t3nBzfEAAAWrA5X+zRfzZlKzjIptk39lN8dKjVJaEFIAACANBC7cw9pt8t+kaS9OvRPZWeEmNxRWgpCIAAALRAHq/Rfe9tlLvKqwu6tdGkwR2tLgktCAEQAIAWaM7yTK3POqpIZ7Ceuvos7jePU0IABACghdl9+JieWbxdUvWh3+RWYRZXhJaGAAgAQAvi8VZf9VtR5dXQrnEaN6C91SWhBSIAAgDQgry6Yo++2ltQfej3p3049IvTQgAEAKCF2HekVL//qPqq34cv76m2HPrFaSIAAgDQQjzxn60qr/RqUKdYXT+QQ784fQRAAABagOXf5umjLYdkD7Lp8at6c+gXZ4QACABAM1fp8erxD7ZIkiacl6JuCVEWV4SWjgAIAEAz98aXe/Vt7jG1Dg/RPRd3s7oc+AECIAAAzVj+sQo9m7FDkvSrUd3lCg+xuCL4AwIgAADN2DOLd6i4vEq9kqJ13YAOVpcDP0EABACgmdp8oFDvrMmSJD12ZW/Zg7jwAw2DAAgAQDNkjNET/9kqY6QxZydrYGqM1SXBjxAAAQBohpZ9m6cvdx+Rwx6kBy/rYXU58DMEQAAAmhmv1+jp7+74MWFQCnf8QIMjAAIA0Mz8d3OONh8oUoTDrl8O72x1OfBDBEAAAJqRKo9Xf1i8XZJ06wWdFBvptLgi+CMCIAAAzch7a/drd16JYiIc+vnQTlaXAz9FAAQAoJkor/TouY+/lST9cnhnRTqDLa4I/ooACABAM/GPlXuVU1SuZFeobjwvxepy4McIgAAANAPF5ZWatXSnJGnqxd0UGmK3uCL4MwIgAADNwGsr9qigtFKd2kTo6n5trS4Hfs6vAuCsWbOUmpqq0NBQpaena9myZSdt/+abb+rss89WeHi4kpKSdNNNNyk/P7+JqgUAoNqxiiq9vDxTknT3RV0VbPer3TOaIb/5hs2dO1dTp07V9OnTtX79eg0dOlSXXXaZsrKy6my/fPlyTZw4Ubfccou2bNmid999V2vWrNHPf/7zJq4cABDoXl+5R0dLK9UpLkJX9Em2uhwEAL8JgM8++6xuueUW/fznP1fPnj313HPPqX379po9e3ad7b/88kt17NhRd911l1JTU3X++efrF7/4hb766qsmrhwAEMhKKqr00ue7JUl3XNhF9iCbxRUhEPhFAHS73Vq7dq1GjhxZY/nIkSO1YsWKOtcZPHiw9u/fr4ULF8oYo0OHDum9997T6NGjm6JkAAAkSW98uVcFpZXqGBuuK89m9A9Nwy8CYF5enjwejxISEmosT0hIUE5OTp3rDB48WG+++abGjRsnh8OhxMREtWrVSn/5y19O+D4VFRUqKiqq8QAA4HSVuqv04nejf7eP6MK5f2gyfvVNs9lqDpsbY2otO27r1q2666679Mgjj2jt2rVatGiRMjMzNWXKlBO+/syZM+VyuXyP9u3bN2j9AIDA8taqLOWXuNUhJlw/6cuVv2g6fhEA4+LiZLfba4325ebm1hoVPG7mzJkaMmSI7rvvPvXp00ejRo3SrFmzNGfOHGVnZ9e5zkMPPaTCwkLfY9++fQ2+LQCAwFDm9uj5z74794/RPzQxv/i2ORwOpaenKyMjo8byjIwMDR48uM51SktLFRRUc/Pt9upJN40xda7jdDoVHR1d4wEAwOl4e3WW8o5VqF3rMP2Eef/QxPwiAErStGnT9PLLL2vOnDnatm2b7rnnHmVlZfkO6T700EOaOHGir/2YMWM0b948zZ49W7t379YXX3yhu+66SwMHDlRyMifhAgAaT0WVRy98vkuS9MvhXRTC6B+amN/cZXrcuHHKz8/XjBkzlJ2drbS0NC1cuFApKdX3UszOzq4xJ+DkyZNVXFysv/71r7r33nvVqlUrXXjhhfrd735n1SYAAALE/HUHdKioQgnRTv00ndE/ND2bOdHxTvyooqIiuVwuFRYWcjgYAFAvHq/RRX9Yqj35pfr16J76+dBOVpcUcNh/+9EhYAAAWoKFm7K1J79UrcJDdP3ADlaXgwBFAAQAoIkYYzRrafW5f5MHd1SE02/OxEILQwAEAKCJLN1xWNuyixTusGvy4I5Wl4MARgAEAKCJzF5SPfp3w8AOahXusLgaBDICIAAATWDNniNaveeIHPYgLvyA5QiAAAA0gVlLdkqSfpreVomuUIurQaAjAAIA0Mi2ZRdpyfbDCrJJv7igs9XlAARAAAAa2wufVZ/7d/lZSeoYF2FxNQABEACARrXvSKk++DpbkjRlGKN/aB4IgAAANKK/L8+Ux2t0fpc4pbV1WV0OIIkACABAozlS4tY7a6rvQ8/oH5oTAiAAAI3k9ZV7VF7pVVrbaA3pEmt1OYAPARAAgEZQ6q7Sayv2SKoe/bPZbNYWBHwPARAAgEbwzzX7VFBaqQ4x4bq0d6LV5QA1EAABAGhgVR6vXlqWKUm69YJOCrazu0XzwjcSAIAG9p9N2TpwtExxkQ5dk97O6nKAWgiAAAA0IGOMnv9styRp8uCOCg2xW1wRUBsBEACABvT5t3nall2kcIddN56XYnU5QJ0IgAAANKDnl1bf9u36gR3UKtxhcTVA3QiAAAA0kI37jmrl7nwFB9l0y/mpVpcDnBABEACABvLC59Wjf1eek6zkVmEWVwOcGAEQAIAGkJlXov9uzpEk/eICbvuG5o0ACABAA3hp2W4ZI13YI17dE6OsLgc4KQIgAABnKLe4XO+t3S9J+sUFnSyuBvhxBEAAAM7Qayv2yF3lVd8OrTQwNcbqcoAfRQAEAOAMHKuo0j9W7pVUfe6fzWazuCLgxxEAAQA4A2+vylJReZU6xUVoZK8Eq8sB6oUACADAaaqo8ujl5dW3fZsyrLOCghj9Q8tAAAQA4DTNX3dAh4oqlBgdqqv6JltdDlBvBEAAAE6Dx2v0wufVo38/H5oqZ7Dd4oqA+iMAAgBwGj7akqPMvBK5wkJ03cAOVpcDnBICIAAAp8gYo1lLd0qSJg3uqEhnsMUVAaeGAAgAwClavjNPmw8UKTQkSJMHd7S6HOCUEQABADhFs5fukiRdN6CDYiIcFlcDnDoCIAAAp2DDvqNasStfwUE2/XxoqtXlAKeFAAgAwCmY/d25f1eek6x2rcMtrgY4PQRAAADqacehYn205ZAk6f+Gdba4GuD0EQABAKinvy2pHv27tHeiuiZEWVwNcPoIgAAA1MOevBJ9sPGgJOmOC7tYXA1wZgiAAADUw+ylu+Q10ojubZTW1mV1OcAZIQACAPAjDhwt07/W7ZfE6B/8AwEQAIAf8cJnu1TlNRrUKVbpKTFWlwOcMQIgAAAnkVtcrnfW7JMk3cnoH/wEARAAgJN4eVmm3FVe9e3QSoM6x1pdDtAgCIAAAJxAQYlbb3y5V1L16J/NZrO4IqBhEAABADiBl5btVqnbo15J0RrRPd7qcoAGQwAEAKAOR0rcem3FHknS3Rd3ZfQPfoUACABAHV5atlslbo96J0drZK8Eq8sBGhQBEACAH8g/VuEb/Zt6cTdG/+B3CIAAAPzAS8syVer2KK1ttC7uybl/8D8EQAAAvif/WIVeX7lHkjT1Ikb/4J8IgAAAfM+Ln1df+dunnUsXMfoHP0UABADgO3nHKvT6yup5/6Zy5S/8GAEQAIDvvPj5bpVVenR2Oxfz/sGvEQABAJCUU1jOlb8IGARAAAAk/fnTb1VR5VX/lNYa3r2N1eUAjYoACAAIeHvySvTPNfskSQ9c1oPRP/g9AiAAIOA9m7FDVV6jEd3baEDHGKvLARodARAAENC2HCzUgo0HJUm/GtXd4mqApkEABAAEtGc+2i5JGnN2snonuyyuBmgaBEAAQMBas+eIlmw/rOAgm+69pJvV5QBNxq8C4KxZs5SamqrQ0FClp6dr2bJlJ21fUVGh6dOnKyUlRU6nU507d9acOXOaqFoAgJWMMfrdf7+RJF07oL06xkVYXBHQdIKtLqChzJ07V1OnTtWsWbM0ZMgQvfDCC7rsssu0detWdejQoc51rr32Wh06dEh///vf1aVLF+Xm5qqqqqqJKwcAWOGTbbn6am+BnMFBuuvCrlaXAzQpmzHGWF1EQzj33HPVr18/zZ4927esZ8+eGjt2rGbOnFmr/aJFi3Tddddp9+7diok5vSu+ioqK5HK5VFhYqOjo6NOuHQDQtCo9Xo167nPtPlyiKcM668HLelhdEpoQ+28/OQTsdru1du1ajRw5ssbykSNHasWKFXWus2DBAvXv319PP/202rZtq27duulXv/qVysrKmqJkAICF3l6dpd2HSxQb4dAvR3S2uhygyfnFIeC8vDx5PB4lJCTUWJ6QkKCcnJw619m9e7eWL1+u0NBQzZ8/X3l5efrlL3+pI0eOnPA8wIqKClVUVPh+LioqariNAAA0icKySv0xY4ckaeol3RQdGmJxRUDT84sRwON+OHO7MeaEs7l7vV7ZbDa9+eabGjhwoC6//HI9++yzevXVV084Cjhz5ky5XC7fo3379g2+DQCAxjVryU4VlFaqS3ykrh/A73EEJr8IgHFxcbLb7bVG+3Jzc2uNCh6XlJSktm3byuX635xPPXv2lDFG+/fvr3Odhx56SIWFhb7Hvn37Gm4jAACNbt+RUr3yxR5J0vTLeyrY7he7QeCU+cU33+FwKD09XRkZGTWWZ2RkaPDgwXWuM2TIEB08eFDHjh3zLduxY4eCgoLUrl27OtdxOp2Kjo6u8QAAtBxPLfpGbo9X53eJ0/DubawuB7CMXwRASZo2bZpefvllzZkzR9u2bdM999yjrKwsTZkyRVL16N3EiRN97W+44QbFxsbqpptu0tatW/X555/rvvvu080336ywsDCrNgMA0EjW7i3Qf77Ols0mTR/d84SnCAGBwC8uApGkcePGKT8/XzNmzFB2drbS0tK0cOFCpaSkSJKys7OVlZXlax8ZGamMjAzdeeed6t+/v2JjY3XttdfqiSeesGoTAACNxOs1mvHhVknStent1TOJIzgIbH4zD6AVmEcIAFqGuWuy9MC/NinSGaxP7x2m+OhQq0uChdh/+9EhYAAA6nK01K3fLdouSZp6cVfCHyACIADAzz2zeLuOlLjVLSFSkwZ3tLocoFkgAAIA/NbmA4V6c1X1+d+PX5mmEKZ9ASQRAAEAfsrrNfp//94sY6QxZydrUOdYq0sCmg0CIADAL723br/WZx1VhMOu6Zf3tLocoFkhAAIA/E5haaV+999vJEl3X9xViS4u/AC+jwAIAPA7M/+7TfklbnWJj9RNQ1KtLgdodgiAAAC/smJXnt5ZU32v9t/+5Cwu/ADqwL8KAIDfKHN79NC8TZKkG8/roIGpMRZXBDRPBEAAgN947uMd2ptfqsToUD1waQ+rywGaLQIgAMAvbD5QqJeW7ZYkPTE2TVGhIRZXBDRfBEAAQItX6fHq/ve+ltdIV/RJ0sW9EqwuCWjWCIAAgBbvpWW7tTW7SK3CQ/TYlb2tLgdo9giAAIAWbVt2kZ7L+FaS9OvRvRQX6bS4IqD5IwACAFqsiiqP7pm7QW6PVxf3jNdP+7W1uiSgRSAAAgBarGcX79A3OcWKjXBo5tV9ZLPZrC4JaBEIgACAFunL3fl68burfp/6aR+1ieLQL1BfBEAAQItTVF6pe/+5UcZI1w1or0u46hc4JQRAAECL8/iCrTpwtEwdYsL16yt6WV0O0OIQAAEALcoHGw/qX+v2K8gmPXvt2Yp0BltdEtDiEAABAC3G7sPH9OC/vpYk3T6ii/p35F6/wOkgAAIAWoTySo9++eY6lbg9Ojc1Rndf1NXqkoAWiwAIAGgRHluwRd/kFCsu0qG/XN9XwXZ2YcDp4l8PAKDZm7duv95Zs082m/Tn6/oqPjrU6pKAFo0ACABo1r49VKzp8zdLkqZe1E2Du8RZXBHQ8hEAAQDNVlF5paa8sVZllR4N7RqnOy7sYnVJgF8gAAIAmiWP1+jOt9Zr1+ESJblC9cdx58gexK3egIZAAAQANEszF27TZzsOKzQkSC9N7K+4SG71BjQUAiAAoNn551f79PLyTEnSH645R2ltXRZXBPgXAiAAoFn5as8RTZ+/SZJ090VdNbpPksUVAf6HAAgAaDb2HSnVL/6xVpUeo8vSEpnsGWgkBEAAQLOQf6xCE+esVn6JW72SovWHa89WEBd9AI2CAAgAsFxJRZVufnWNMvNK1LZVmOZMHqBwR7DVZQF+iwAIALCUu8qrKW+s1cb9hWodHqLXbh6oRBd3+gAaEwEQAGAZr9fo/vc2atm3eQoLsWvO5AHqEh9pdVmA3yMAAgAsYYzRb/6zVe9vOKjgIJtm39hPfTu0trosICAQAAEATc4Yo98u3KZXvtgjSfr9NX00vHu8tUUBAYQACABoUsfD30vLqid6fmJsmn7St53FVQGBhQAIAGgydYW/G89LsbgqIPAQAAEATYLwBzQfTLIEAGh0Hq/RI//erDdXZUmSfkP4AyxFAAQANKrySo+mvrNBi7bkyGarHvkbfy7hD7ASARAA0GgKyyp12+tfaVXmETnsQXruunN0+VlJVpcFBDwCIACgURwqKtekOav1TU6xopzBemFiugZ3jrO6LAAiAAIAGsHmA4W67fWvdLCwXG2inHr1pgHqneyyuiwA3yEAAgAa1IKNB3X/extVXulVp7gIvXrTQHWIDbe6LADfQwAEADQIj9fomcXbNXvpLknS8O5t9Kfr+soVFmJxZQB+iAAIADhjhaWVuuefG/TpN7mSpCnDOuu+Ud1lD7JZXBmAuhAAAQBn5Ks9R3T3Oxt04GiZnMFBevpnfXTVOW2tLgvASRAAAQCnxeM1+tuSnXru4x3yGqljbLj+ekM/pbXlYg+guSMAAgBOWXZhmaa+s0GrMo9Ikq7u21YzxqYp0sluBWgJ+JcKAKg3Y4zmrtmnJxduU3F5lSIcdv1mbJqu7tfO6tIAnAICIACgXrLyS/XgvK+1Yle+JOnsdi49d11fpcZFWFwZgFNFAAQAnFSVx6tXV+zRM4u3q7zSq9CQIP1qZHfdNCSVq3yBFooACAA4oeXf5uk3H27V9kPFkqRBnWL11E/PUkoso35AS0YABADUkplXoif/s00fbzskSWoVHqIHLu2h6wa0l83GqB/Q0hEAAQt5vEbuKm/1w1P9kCSbpCCbTUE2KSjIptAQu0KDgxRsD7K2YPi9w8UVmr10l/7x5R5VeoyCg2yaMChFd1/UVa3CHVaXB6CBEACBBlbl8WpfQZmyjpTqUGG5coqqH7lF5SoorVRRWaWKyitVWFap8krvKb128HdhMMJpV3RoiKLDQhQVGixXWIhahzsUF+lQTIRTMREOtYlyKiHaqfioUDmCCY44ubxjFXrhs136x5d7fd/LEd3baProXuoSH2lxdQAaGgEQOE3GGO07UqavDxzV5gNF2pl7TLvzjikrv1RVXnNar+mwB8lmk4yRjIy8pnqU8Lgqr9Gxiiodq6jSoaKKer9uTIRDCdGhatsqVMmtwpTcKkxtW4WpbeswdYgJV2yEg8N6AepQUbnmLM/U6yv3qqzSI0k6p30rTbukmy7o1sbi6gA0FgIgUE/uKq827DuqFbvytHZvgb7eX6jCsso624aGBCklJkKJrlAlRocq4bv/xkQ4FB0WrOjQELnCQhThDJYzOEiO4CAFB9nqDGHGGFVUeVVe6VF5pVdllR6VVFR9N5JYVT2aWFqpI6VuHTnmVn5JhfJL3DpcXKHcogq5PV4dKXHrSIlb27KL6qw33GFX+9bhah8Tro6x4UqJi1DH2HB1jI1QcqswrvT0Q5v2F2rOF5n68OuDqvRU/5FxdjuXpl7STcO7teEPAsDPEQCBk8jMK9HiLTlavjNPX+0p8I2QHOewB6lnUpTS2rrUIzFKqXGR6tQmQonRoQpqoNBks313DmCI/ZTXNcboaGmlDhWXK/touQ4Wlung0TIdKCjTgaNl2l9QppyicpW6Pdp+qNh3pef3OexBSokNV2pchFLbRKhTXIQ6t4lUpzaRiongnLCWpKLKo4+35uq1FXu0es8R3/IBHVtryrDOurBHPMEPCBB+FQBnzZql3//+98rOzlbv3r313HPPaejQoT+63hdffKFhw4YpLS1NGzZsaPxC0WwZY7Qtu1iLtuToo805tQJRbIRDgzrH6rxOsTqnfSt1S4hq1ufX2Ww2tY5wqHWEQz0So+tsU1Hl0YGCsurzFvNLtCe/VHu/+29WfqncHq++zT2mb3OP1Vq3dXiIOrWJVOc2EeoSH6ku8ZHq3CZS7VqHM2rYjGw+UKj31u7X+xsO6Ghp9ah1cJBNV/RJ0s3np6pPu1bWFgigydmMMad3slIzM3fuXE2YMEGzZs3SkCFD9MILL+jll1/W1q1b1aFDhxOuV1hYqH79+qlLly46dOjQKQXAoqIiuVwuFRYWKjq67p0rWob8YxWat+6A5n61Tzu/F3SCg2wa1DlWI7rHa0iXOHVLiAyoERKv1+jA0TJl5pUoM69Euw8f0+68Eu0+XKIDR8tOuJ4jOKh6pDA+Ul3a/C8YdmoTcVojmTh1uw8f03835+jDr7NrHPpPjA7Vz9Lb6cbzUpToCrWwQsA67L/9KACee+656tevn2bPnu1b1rNnT40dO1YzZ8484XrXXXedunbtKrvdrvfff58AGEC8XqNlO/M0d02WMrYe8p0H5QwO0rBubXRpWqIu6pEgV3iIxZU2T6XuKmXmlWjX4RLtyj2mnYePaVdudUB0V9V9dbPNJrVrHaYubaoDYefvgmHnNhGK4UKUM+L1Gm3NLlLG1kNa9IPRa4c9SJf0TtA16e00tGsbRmcR8Nh/+8khYLfbrbVr1+rBBx+ssXzkyJFasWLFCdd75ZVXtGvXLr3xxht64oknfvR9KioqVFHxvysvi4rqPqEezVulx6sFGw7qhc93aceh/432nd3OpWsHtNeYs5MVHUro+zHhjmD1Tnapd7KrxnKP12h/Qal2HT6mnbnHtCu3RDu/+//CskrtO1KmfUfKtGT74RrrtQoPUae4CHVqE6nUuAh1bhOh1LhIpcSGM2p4ArlF5Vr2bZ6WfXtYy3fmKe+Y2/fc8dHry9KSdPlZiczhB6AGvwiAeXl58ng8SkhIqLE8ISFBOTk5da7z7bff6sEHH9SyZcsUHFy/bpg5c6Yef/zxM64X1iipqNI7a/bp78t262BhuSQp0hmsn6W307gB7dUzKTD/Cmxo9iCbUmIjlBIboQt7/O/fpDFG+SVu32jhztxj2n24RLsOH9OBo2U6WlqpdVlHtS7raK3XTHKFqmNshDrGRSglNlwpMdVXLKfEhisqQMK6x2u041Cx1u4t0Lq9BVqbVaC9+aU12oQ77BrcOU6XpiXqkp6MXgM4Mb8IgMf98PCRMabOQ0oej0c33HCDHn/8cXXr1q3er//QQw9p2rRpvp+LiorUvn370y8YTaLS49U7a/bpTx9/q7xj1SO4cZFO3Xx+R40/N0WuMHaSTcFmsyku0qm4SKfO7RRb47kyt6f6HMO8Y8o8XPLdeYbVh5OLy6uUXViu7MJyrdydX+t1W4eHqF3rcLVrXT23YbvW1fMcJrnClNQqVDHhjga7IrspGGN0+FiFMg+XaFt2kb7JKda27CJtP1Rca+Jwm006q61LQ7vGaWjXNurXoXWzvigJQPPhFwEwLi5Odru91mhfbm5urVFBSSouLtZXX32l9evX64477pAkeb1eGWMUHBysxYsX68ILL6y1ntPplNPpbJyNQIMzxuijLTl6etF27c4rkSSlxIZryrDO+knfthxWbEbCHHb1So5Wr+Sao7DGGBWUViozr6T6yuS8Eu09UqqsI9VXKOeXuFVQWqmC0kJtOlBY52s77EFKcFXfEaVNpFPx0U61iXQqLsqp1uEOxUY61Drcodbh1XdWCWnE2+0ZY1Tq9uhIiVu5xeXKKaxQTlG5DhWVa39BqfbkVV+BXeL21Ll+hMOuvh1aq19Ka6WntNY57VvxBwyA0+IXAdDhcCg9PV0ZGRn6yU9+4luekZGhq666qlb76Ohobdq0qcayWbNm6dNPP9V7772n1NTURq8ZjWvLwUI98u8tWru3QFL19C13X9xV1w/s0Kg7eDQsm82mmAiHYiIcSk9pXev5YxVVysov/W5Ow1IdKKie2zC7sEwHC8uVd6x6Iuzj5x3WR2hIkKJDq2+xF+kM9s3BGBZiV2hI9f2Yg4Nssn/3sEnyGCOPt/pCjCqvUXmVR+Vuj8oqPSp1e3SsokpHSytVWOb2XWx0MkE2qW3rMHVPiFLPpGj1SIxWz6QopcRGcAEHgAbhFwFQkqZNm6YJEyaof//+GjRokF588UVlZWVpypQpkqoP3x44cECvv/66goKClJaWVmP9+Ph4hYaG1lqOlqXM7dFzn+zQy8sy5fEahYXY9fOhqbrtgk4Bc65YIIl0Btc5cnicu8r73UhbuXKLK6rvjlJcrtyiiuq7o5S6VfDdXVKKyqskSeWVXpVXVii3uP632jtVjuAgxUc5a9wlJskVqtS46vMc27UOkzOYEWoAjcdvAuC4ceOUn5+vGTNmKDs7W2lpaVq4cKFSUlIkSdnZ2crKyrK4SjSmz3cc1vT3N/lGekaflaRHxvRSQjRznQUqR3DQd+cHhv9o2yqPV8cqqlRUVn17veLyKpW6q1T2vVvwlbs9qvIaebxeVXmNvN7q+zXbvzciGGSzKSwkSGGO/40cRjqD1SrcoVbhIWod7lBoSBBT3gCwlN/MA2gF5hFqHkoqqvTYgi16d+1+SdVXjP7mqjRd3Kv2+Z8AALD/9qMRQASmzQcKdefb65WZVyKbTZo8uKPuHdldkU6+2gAAnAh7SbRIxhjN+WKPnvrvNlV6jJJcoXpu3Dm1phcBAAC1EQDR4hwtdWvaPzfq029yJUkjeyXo6Z/14U4HAADUEwEQLcrO3GP6+WtrtCe/VI7gIP2/0T1143kpnFAPAMApIACixfh8x2Hd/tY6FZdXqW2rML00sf8Jp/8AAAAnRgBEs2eM0asr9ug3H26V10gDOrbW8zemKzaSu7IAAHA6CIBo1jxeo8cWbNE/vtwrSbomvZ2e+Ekak+QCAHAGCIBotio9Xt37z41asPGgbDbp4ct66udDUznfDwCAM0QARLNUXunRHW+t08fbchVit+m5cX01uk+S1WUBAOAXCIBodo5VVOnW177Syt35cgYH6fkJ6RrRPd7qsgAA8BsEQDQrhWWVmjRntTbsO6pIZ7BentRf5zG5MwAADYoAiGajpKJKN71SHf5ahYfo9ZsHqk+7VlaXBQCA3yEAolkor/Totn98pXVZR+UKC9Hbt56nnknM8QcAQGMIsroAoNLj1R1vrdcXO/MV4bDrtZsHEv4AAGhEBEBYyus1+tW7G/XxtkNyBgfp5UkDdE77VlaXBQCAXyMAwjLGGD26YIv+veGggoNsmn1jPw3qzAUfAAA0NgIgLPP35Zn6x5d7ZbNJfxx3ji7skWB1SQAABAQCICzx8dZDenLhNknS9Mt7aszZyRZXBABA4CAAosltPViku95ZL2Ok6wd20C3np1pdEgAAAYUAiCaVW1Sun7+2RqVujwZ3jtWMq3pzb18AAJoYARBNprzSo1v/sVYHC8vVqU2EZo9PV4idryAAAE2NvS+azCP/3qyN393lY86kAXKFh1hdEgAAAYkAiCbx7lf79M+v9ivIJv3thn7qGBdhdUkAAAQsAiAa3Tc5Rfp//94sSbrn4m4a0iXO4ooAAAhsBEA0qmMVVfrlm+tUXunVBd3a6PYRXawuCQCAgEcARKMxxuiheZu0+3CJEqND9dy4cxQUxBW/AABYjQCIRvPGqix9sLH6Nm9/G99XMREOq0sCAAAiAKKRfHuoWL/5cKsk6cHLeig9JcbiigAAwHEEQDS4So9X0/65Ue4qr4Z1a8OdPgAAaGYIgGhwf/10pzYdKJQrLERP/6wPd/oAAKCZIQCiQW3cd1R/XbJTkvTE2DQlRIdaXBEAAPghAiAaTHmlR9P+uUEer9GYs5M15uxkq0sCAAB1IACiwTy9aLt2HS5RfJRTv7mqt9XlAACAEyAAokF8uTtfc77IlCQ9/bM+ahXOlC8AADRXBECcsYoqjx6et0mSdP3ADhrePd7iigAAwMkQAHHGZi/dpd15JWoT5dRDl/ewuhwAAPAjCIA4I7sOH9OsJbskSY+N6a3o0BCLKwIAAD+GAIjTZozR9Pmb5PZ4NaJ7G11+VqLVJQEAgHogAOK0/WvdAX25+4hCQ4I046o0JnwGAKCFIADitBwpcevJ/1Tf6/eei7upfUy4xRUBAID6IgDitPx24TYVlFaqR2KUbuZevwAAtCgEQJyy9VkFem/tfknSb68+SyF2vkYAALQk7LlxSowxmvFh9aHfn6W3U78OrS2uCAAAnCoCIE7Jgo0HtT7rqMIddt03qrvV5QAAgNNAAES9lbk9euq/30iSbh/RRQnRoRZXBAAATgcBEPX2wue7lF1YrratwnQLF34AANBiEQBRL9mFZXr+s+o7fjx0eQ+FhtgtrggAAJwuAiDq5elF21Ve6dWAjq01+qwkq8sBAABngACIH7Vh31HNX39ANpv0yBW9ueMHAAAtHAEQJ2WM0VP/3SZJurpvO53VzmVxRQAA4EwRAHFSy3fm6cvdR+SwB2nayG5WlwMAABoAARAnZIzR7z/aLkkaf14HtW0VZnFFAACgIRAAcUIfbTmkr/cXKtxh1+0julhdDgAAaCAEQNTJ4zX6w+Lq0b9bzk9VXKTT4ooAAEBDIQCiTu+vP6Bvc4/JFRaiWy/oZHU5AACgAREAUYu7yqs/frxDkvR/wzsrOjTE4ooAAEBDIgCilnfWZGl/QZnio5yaNKij1eUAAIAGRgBEDeWVHv3l052SpDsv6qowB7d8AwDA3xAAUcPcNft0uLhCbVuFaVz/9laXAwAAGgEBED7uKq+e/2yXJGnK8M5yBPP1AADAH7GHh8+8dfuVXViu+CinrklvZ3U5AACgkfhVAJw1a5ZSU1MVGhqq9PR0LVu27IRt582bp0suuURt2rRRdHS0Bg0apI8++qgJq21eqjxezVpaPfr3i2GdFRrCuX8AAPgrvwmAc+fO1dSpUzV9+nStX79eQ4cO1WWXXaasrKw623/++ee65JJLtHDhQq1du1YjRozQmDFjtH79+iauvHlYsPGgso6UKjbCoesHcu4fAAD+zGaMMVYX0RDOPfdc9evXT7Nnz/Yt69mzp8aOHauZM2fW6zV69+6tcePG6ZFHHqlX+6KiIrlcLhUWFio6Ovq06m4OPF6jkX/8TLsOl+j+S7vrl8O57RsAwH/5y/77TPjFCKDb7dbatWs1cuTIGstHjhypFStW1Os1vF6viouLFRMTc8I2FRUVKioqqvHwB//dnK1dh0vkCgvRhPNSrC4HAAA0Mr8IgHl5efJ4PEpISKixPCEhQTk5OfV6jT/84Q8qKSnRtddee8I2M2fOlMvl8j3at2/5h0q9XqO/fjfv301DOiqKu34AAOD3/CIAHmez2Wr8bIyptawub7/9th577DHNnTtX8fHxJ2z30EMPqbCw0PfYt2/fGddstU++ydU3OcWKdAbrpsGpVpcDAACaQLDVBTSEuLg42e32WqN9ubm5tUYFf2ju3Lm65ZZb9O677+riiy8+aVun0ymn03nG9TYnL35efeXvjeelyBXO6B8AAIHAL0YAHQ6H0tPTlZGRUWN5RkaGBg8efML13n77bU2ePFlvvfWWRo8e3dhlNjvrswq0Zk+BQuw23TSko9XlAACAJuIXI4CSNG3aNE2YMEH9+/fXoEGD9OKLLyorK0tTpkyRVH349sCBA3r99dclVYe/iRMn6k9/+pPOO+883+hhWFiYXC6XZdvRlF5elilJuvLstkqIDrW4GgAA0FT8JgCOGzdO+fn5mjFjhrKzs5WWlqaFCxcqJaX6qtbs7OwacwK+8MILqqqq0u23367bb7/dt3zSpEl69dVXm7r8JrfvSKn+uzlbknTrBZz7BwBAIPGbeQCt0JLnEXpswRa9umKPhnaN0z9uOdfqcgAAaDItef/dUPziHECcmsLSSv3zq+ormG+7oJPF1QAAgKZGAAxAb67eq1K3Rz0So3R+lzirywEAAE2MABhg3FVevfrFHknSrUM71WueRAAA4F8IgAFmwcaDyi2uUEK0U2POTra6HAAAYAECYAAxxujlZbslSZMGd5QjmI8fAIBARAIIIKszj+ibnGKFhdg1fmCK1eUAAACLEAADyOsr90qSftKvLbd9AwAggBEAA0ROYbkWbam+28nEQYz+AQAQyAiAAeKtVXvl8RoNTI1Rj8TAnPQSAABUIwAGgIoqj95aXX0bvEmDOlpbDAAAsBwBMAAs2pyjvGNuJUQ7NbJ3gtXlAAAAixEAA8BrK/ZIksafm6IQOx85AACBjjTg5zbtL9S6rKMKsdt03cD2VpcDAACaAQKgn3t95R5J0uVnJSk+KtTaYgAAQLNAAPRjBSVu/XvjQUnSRC7+AAAA3yEA+rF31+6Tu8qrtLbR6tehldXlAACAZoIA6KeMMXpn9T5J1Rd/2Gw2iysCAADNBQHQT63KPKLdeSWKcNh15dnJVpcDAACaEQKgn3r7u4mfrzynrSKcwRZXAwAAmhMCoB86WurWfzdX3/f3eqZ+AQAAP0AA9EPz1h2Qu8qr3snROquty+pyAABAM0MA9DPGGN/h3+sGduDiDwAAUAsB0M+syyrQt7nHFBZi11XncPEHAACojQDoZ97+buqXK/okKTo0xOJqAABAc0QA9COFZZX68OvqO39cN7CDxdUAAIDmigDoRxZsOKDySq+6J0Rx5w8AAHBCBEA/cvzw73UD23PxBwAAOCECoJ/YcrBQW7OL5AgO0k/6trW6HAAA0IwRAP3Ee2v3S5Iu6ZWgVuEOi6sBAADNGQHQD7irvPr3huqLP36W3s7iagAAQHNHAPQDS7bn6kiJW/FRTg3tEmd1OQAAoJkjAPqB44d/f9KvrYLtfKQAAODkSAstXP6xCi35JleS9LN+HP4FAAA/jgDYwv17w0FVeY3ObudS14Qoq8sBAAAtAAGwhTt++JeLPwAAQH0RAFsw39x/9iCNOTvZ6nIAAEALQQBswf619oAk6eJe8cz9BwAA6o0A2EK5q7x6f0N1AOTwLwAAOBUEwBZq6Xdz/8VFOnVB1zZWlwMAAFoQAmALdXz0b+w5ycz9BwAATgnJoQUqKq/Ux9uq5/4b27etxdUAAICWhgDYAi3alCN3lVdd4yPVOzna6nIAAEALQwBsgXyHf/u2lc1ms7gaAADQ0hAAW5icwnKt3J0vSbqSuf8AAMBpIAC2MB9sPChjpP4prdU+JtzqcgAAQAtEAGxhjh/+vYqLPwAAwGkiALYgO3OLteVgkYKDbBp9VpLV5QAAgBaKANiCvL/+oCRpWLc2iong1m8AAOD0EABbCGOM/r2Rw78AAODMEQBbiHVZBdp3pEwRDrsu6ZlgdTkAAKAFIwC2EMcP/47qnagwh93iagAAQEtGAGwBSiqq9MHX1QGQw78AAOBMEQBbgFe+yNTR0kqlxIZrSOdYq8sBAAAtHAGwmTta6tYLn++WJE27pJuC7XxkAADgzJAmmrnnP9ut4vIq9UiM0pg+3PoNAACcOQJgM5ZbVK5XV2RKku4b1V1BQTaLKwIAAP6AANiM/eXTnSqv9Kpfh1a6sEe81eUAAAA/QQBsprLyS/X26ixJ0v2X9pDNxugfAABoGATAZuq5j3eoyms0tGuczuvElb8AAKDhEACboe05xZq/ofq2b/eP6mFxNQAAwN8QAJuhvy7ZKWOky9ISdVY7l9XlAAAAP+NXAXDWrFlKTU1VaGio0tPTtWzZspO2/+yzz5Senq7Q0FB16tRJzz//fBNVenKPjemlW85P1b0ju1ldCgAA8EN+EwDnzp2rqVOnavr06Vq/fr2GDh2qyy67TFlZWXW2z8zM1OWXX66hQ4dq/fr1evjhh3XXXXfpX//6VxNXXltspFP/74pe6hIfZXUpAADAD9mMMcbqIhrCueeeq379+mn27Nm+ZT179tTYsWM1c+bMWu0feOABLViwQNu2bfMtmzJlijZu3KiVK1fW6z2LiorkcrlUWFio6OjoM98IAADQ6Nh/+8kIoNvt1tq1azVy5Mgay0eOHKkVK1bUuc7KlStrtR81apS++uorVVZW1rlORUWFioqKajwAAABaGr8IgHl5efJ4PEpISKixPCEhQTk5OXWuk5OTU2f7qqoq5eXl1bnOzJkz5XK5fI/27ds3zAYAAAA0Ib8IgMf9cLJkY8xJJ1Cuq31dy4976KGHVFhY6Hvs27fvDCsGAABoesFWF9AQ4uLiZLfba4325ebm1hrlOy4xMbHO9sHBwYqNrXviZafTKafT2TBFAwAAWMQvRgAdDofS09OVkZFRY3lGRoYGDx5c5zqDBg2q1X7x4sXq37+/QkJCGq1WAAAAq/lFAJSkadOm6eWXX9acOXO0bds23XPPPcrKytKUKVMkVR++nThxoq/9lClTtHfvXk2bNk3btm3TnDlz9Pe//12/+tWvrNoEAACAJuEXh4Alady4ccrPz9eMGTOUnZ2ttLQ0LVy4UCkpKZKk7OzsGnMCpqamauHChbrnnnv0t7/9TcnJyfrzn/+sn/70p1ZtAgAAQJPwm3kArcA8QgAAtDzsv/3oEDAAAADqhwAIAAAQYAiAAAAAAYYACAAAEGD85ipgKxy/foZ7AgMA0HIc328H8nWwBMAzUFxcLEncExgAgBaouLhYLpfL6jIswTQwZ8Dr9ergwYOKioo66T2HT1VRUZHat2+vffv2Bezl6U2Fvm4a9HPToJ+bBv3cNBqzn40xKi4uVnJysoKCAvNsOEYAz0BQUJDatWvXaK8fHR3NL5cmQl83Dfq5adDPTYN+bhqN1c+BOvJ3XGDGXgAAgABGAAQAAAgwBMBmyOl06tFHH5XT6bS6FL9HXzcN+rlp0M9Ng35uGvRz4+IiEAAAgADDCCAAAECAIQACAAAEGAIgAABAgCEAAgAABBgCYDM0a9YspaamKjQ0VOnp6Vq2bJnVJTVbM2fO1IABAxQVFaX4+HiNHTtW27dvr9HGGKPHHntMycnJCgsL0/Dhw7Vly5YabSoqKnTnnXcqLi5OERERuvLKK7V///4abQoKCjRhwgS5XC65XC5NmDBBR48ebexNbJZmzpwpm82mqVOn+pbRzw3jwIEDuvHGGxUbG6vw8HCdc845Wrt2re95+vnMVVVV6de//rVSU1MVFhamTp06acaMGfJ6vb429PPp+fzzzzVmzBglJyfLZrPp/fffr/F8U/ZrVlaWxowZo4iICMXFxemuu+6S2+1ujM1umQyalXfeeceEhISYl156yWzdutXcfffdJiIiwuzdu9fq0pqlUaNGmVdeecVs3rzZbNiwwYwePdp06NDBHDt2zNfmqaeeMlFRUeZf//qX2bRpkxk3bpxJSkoyRUVFvjZTpkwxbdu2NRkZGWbdunVmxIgR5uyzzzZVVVW+NpdeeqlJS0szK1asMCtWrDBpaWnmiiuuaNLtbQ5Wr15tOnbsaPr06WPuvvtu33L6+cwdOXLEpKSkmMmTJ5tVq1aZzMxM8/HHH5udO3f62tDPZ+6JJ54wsbGx5sMPPzSZmZnm3XffNZGRkea5557ztaGfT8/ChQvN9OnTzb/+9S8jycyfP7/G803Vr1VVVSYtLc2MGDHCrFu3zmRkZJjk5GRzxx13NHoftBQEwGZm4MCBZsqUKTWW9ejRwzz44IMWVdSy5ObmGknms88+M8YY4/V6TWJionnqqad8bcrLy43L5TLPP/+8McaYo0ePmpCQEPPOO+/42hw4cMAEBQWZRYsWGWOM2bp1q5FkvvzyS1+blStXGknmm2++aYpNaxaKi4tN165dTUZGhhk2bJgvANLPDeOBBx4w559//gmfp58bxujRo83NN99cY9nVV19tbrzxRmMM/dxQfhgAm7JfFy5caIKCgsyBAwd8bd5++23jdDpNYWFho2xvS8Mh4GbE7XZr7dq1GjlyZI3lI0eO1IoVKyyqqmUpLCyUJMXExEiSMjMzlZOTU6NPnU6nhg0b5uvTtWvXqrKyskab5ORkpaWl+dqsXLlSLpdL5557rq/NeeedJ5fLFVCfze23367Ro0fr4osvrrGcfm4YCxYsUP/+/XXNNdcoPj5effv21UsvveR7nn5uGOeff74++eQT7dixQ5K0ceNGLV++XJdffrkk+rmxNGW/rly5UmlpaUpOTva1GTVqlCoqKmqcUhHIgq0uAP+Tl5cnj8ejhISEGssTEhKUk5NjUVUthzFG06ZN0/nnn6+0tDRJ8vVbXX26d+9eXxuHw6HWrVvXanN8/ZycHMXHx9d6z/j4+ID5bN555x2tW7dOa9asqfUc/dwwdu/erdmzZ2vatGl6+OGHtXr1at11111yOp2aOHEi/dxAHnjgARUWFqpHjx6y2+3yeDx68skndf3110vi+9xYmrJfc3Jyar1P69at5XA4ArLv60IAbIZsNluNn40xtZahtjvuuENff/21li9fXuu50+nTH7apq32gfDb79u3T3XffrcWLFys0NPSE7ejnM+P1etW/f3/99re/lST17dtXW7Zs0ezZszVx4kRfO/r5zMydO1dvvPGG3nrrLfXu3VsbNmzQ1KlTlZycrEmTJvna0c+No6n6lb4/OQ4BNyNxcXGy2+21/jrJzc2t9ZcMarrzzju1YMECLVmyRO3atfMtT0xMlKST9mliYqLcbrcKCgpO2ubQoUO13vfw4cMB8dmsXbtWubm5Sk9PV3BwsIKDg/XZZ5/pz3/+s4KDg319QD+fmaSkJPXq1avGsp49eyorK0sS3+eGct999+nBBx/Uddddp7POOksTJkzQPffco5kzZ0qinxtLU/ZrYmJirfcpKChQZWVlQPZ9XQiAzYjD4VB6eroyMjJqLM/IyNDgwYMtqqp5M8bojjvu0Lx58/Tpp58qNTW1xvOpqalKTEys0adut1ufffaZr0/T09MVEhJSo012drY2b97sazNo0CAVFhZq9erVvjarVq1SYWFhQHw2F110kTZt2qQNGzb4Hv3799f48eO1YcMGderUiX5uAEOGDKk1jdGOHTuUkpIiie9zQyktLVVQUM3dn91u900DQz83jqbs10GDBmnz5s3Kzs72tVm8eLGcTqfS09MbdTtbjCa+6AQ/4vg0MH//+9/N1q1bzdSpU01ERITZs2eP1aU1S//3f/9nXC6XWbp0qcnOzvY9SktLfW2eeuop43K5zLx588ymTZvM9ddfX+e0A+3atTMff/yxWbdunbnwwgvrnHagT58+ZuXKlWblypXmrLPO8uvpHH7M968CNoZ+bgirV682wcHB5sknnzTffvutefPNN014eLh54403fG3o5zM3adIk07ZtW980MPPmzTNxcXHm/vvv97Whn09PcXGxWb9+vVm/fr2RZJ599lmzfv1631RmTdWvx6eBueiii8y6devMxx9/bNq1a8c0MN9DAGyG/va3v5mUlBTjcDhMv379fFOaoDZJdT5eeeUVXxuv12seffRRk5iYaJxOp7ngggvMpk2barxOWVmZueOOO0xMTIwJCwszV1xxhcnKyqrRJj8/34wfP95ERUWZqKgoM378eFNQUNAEW9k8/TAA0s8N44MPPjBpaWnG6XSaHj16mBdffLHG8/TzmSsqKjJ333236dChgwkNDTWdOnUy06dPNxUVFb429PPpWbJkSZ2/kydNmmSMadp+3bt3rxk9erQJCwszMTEx5o477jDl5eWNufktis0YY6wZewQAAIAVOAcQAAAgwBAAAQAAAgwBEAAAIMAQAAEAAAIMARAAACDAEAABAAACDAEQAAAgwBAAAQAAAgwBEAAAIMAQAAEAAAIMARAAACDAEAABAAACDAEQAAAgwBAAAQAAAgwBEAAAIMAQAAEAAAIMARAAACDAEAABAAACDAEQAAAgwBAAAQAAAgwBEAAAIMAQAAEAAAIMARAAACDAEAABAAACDAEQAAAgwBAAAQAAAgwBEAAAIMAQAAEAAAIMARAAACDAEAABAAACDAEQAAAgwPx/1rosJI+3SCYAAAAASUVORK5CYII=' width=640.0/>\n",
       "            </div>\n",
       "        "
      ],
      "text/plain": [
       "Canvas(toolbar=Toolbar(toolitems=[('Home', 'Reset original view', 'home', 'home'), ('Back', 'Back to previous …"
      ]
     },
     "metadata": {},
     "output_type": "display_data"
    }
   ],
   "source": [
    "plt.figure()\n",
    "plt.plot(sin_3_4_05_vol.frequency_array, sin_3_4_05_vol.absorption_frequency(), label='sin, p=3, q=4, fr100, seg100, vol')\n",
    "# plt.plot(cone_4_8.frequency_array, cone_4_8.absorption_frequency(), label='cone, p=4, q=8, Young=0.14 Gpa')\n",
    "# plt.plot(cone_4_8_3.frequency_array, cone_4_8_3.absorption_frequency(), '--', color='orange', label='cone, p=4, q=8, Young=0.014 Gpa')\n",
    "# plt.plot(horn_1_11.frequency_array, horn_1_11.absorption_frequency(), label='horn, p=1, q=11, seg=50, fr=50')\n",
    "# plt.plot(horn_1_11_seg100.frequency_array, horn_1_11_seg100.absorption_frequency(), label='horn, p=1, q=11, seg=100, fr=50')\n",
    "# plt.plot(horn_1_11_fr20.frequency_array, horn_1_11_fr20.absorption_frequency(), label='horn, p=1, q=11, seg=100, fr=20')\n",
    "plt.legend()"
   ]
  },
  {
   "cell_type": "code",
   "execution_count": null,
   "metadata": {},
   "outputs": [],
   "source": []
  },
  {
   "cell_type": "markdown",
   "metadata": {},
   "source": [
    "### Example 01-1: compare using effective radius"
   ]
  },
  {
   "cell_type": "code",
   "execution_count": 9,
   "metadata": {},
   "outputs": [
    {
     "data": {
      "application/vnd.jupyter.widget-view+json": {
       "model_id": "f401555dc37649b8bcafaced49066140",
       "version_major": 2,
       "version_minor": 0
      },
      "image/png": "[encoded data removed]",
      "text/html": [
       "\n",
       "            <div style=\"display: inline-block;\">\n",
       "                <div class=\"jupyter-widgets widget-label\" style=\"text-align: center;\">\n",
       "                    Figure\n",
       "                </div>\n",
       "                <img src='data:image/png;base64,iVBORw0KGgoAAAANSUhEUgAAAoAAAAHgCAYAAAA10dzkAAAAOXRFWHRTb2Z0d2FyZQBNYXRwbG90bGliIHZlcnNpb24zLjkuMSwgaHR0cHM6Ly9tYXRwbG90bGliLm9yZy/TGe4hAAAACXBIWXMAAA9hAAAPYQGoP6dpAABhu0lEQVR4nO3deXhTVcI/8G/2dEu6J20pbWmhpewUKUWgqFAQFdefuAyvOjOOvMy8CsyMivoK6gjoOG6D6KviMjOO+r6DOC5sRQXRtqwtlLaUrUBpm+5NuiZtcn5/VCKhCy20Tcr9fp4nz9Pce+7NuadN8805954rE0IIEBEREZFkyN1dASIiIiIaWAyARERERBLDAEhEREQkMQyARERERBLDAEhEREQkMQyARERERBLDAEhEREQkMQyARERERBLDAEhEREQkMQyARERERBLDAEhEREQkMQyARERERBLDAEhEREQkMQyARERERBLDAEhEREQkMQyARERERBLDAEhEREQkMQyARERERBLDAEhEREQkMQyARERERBLDAEhEREQkMQyARERERBLDAEhEREQkMQyARERERBLDAEhEREQkMQyARERERBLDAEhEREQkMQyARERERBLDAEhEREQkMQyARERERBLDAEhEREQkMQyARERERBLDAEg0CJw6dQoymcz5mDlzZqflPvjgA5dyK1eu7JPXX7lypct+T5061Sf7vZj6+nqsXr0aU6ZMgb+/P1QqFUJCQpCQkIDrr78ey5cvx7Zt2zpsd35d77///gGpq9TNnDnT2ebR0dHurg4RXYTS3RUgIupMcXExZs6ciZMnT7osr6qqQlVVFQoLC7FlyxZkZmYiLS3NTbUkIhqcGACJyCP95je/cQl/MTExiI+Ph0KhwJkzZ1BQUIC2tjY31pDOl5qaiuDgYABAaGiom2tDRBfDAEhEHqeiogJbt251Pl+6dClefvlllzJmsxlfffUVDh8+PNDVo04888wz7q4CEfUCzwEkkpiWlhasW7cO1157LYKDg6FSqRAUFIQZM2bg1VdfRVNT0yXtt6CgAIsXL0ZCQgJ8fX3h5eWFhIQELF26FGfPnu3Vvk6ePAkhhPP5jBkzOpTR6/W49957sXr16ovur66uDkuXLsXQoUOh0WgwYsQIvPTSSy6vAbSfc/inP/0Jt956KxISEhASEgKVSgWdToexY8fikUce6TAkDQA7duxwOe/wgw8+QE5ODm655RYEBQXB29sbKSkp+Pzzz7usY3FxMf74xz9i3Lhx0Ol00Gq1GDZsGB588EEUFhZe9Bh7Uqfe2Lt3L+69914MGzYMXl5e8PLywtChQzFt2jQsXbq0w7mX3Z0DeP/997vURQiBd999F0lJSfDy8kJwcDDuvfdelJaW9vo4iegSCSLyeEVFRQKA85Gamtppuffff9+l3IoVK1zWFxcXizFjxriUufARHx8vTp486bLdihUrXMoUFRW5rH/rrbeESqXqcp/+/v7iu+++6/Hx7tu3z2X74cOHi48++khUVFT0aPvzt73uuutEbGxsp/V6+umnXbY7duxYt20DQPj4+IgffvjBZbvvvvvOpcyCBQuEWq3udPtXXnmlQ33//e9/C19f3y5fU6PRiI8//rjH7ddZnd5///0eb7tt2zahVCq7bYfrrrvOZZvU1FTnuqioKJd19913n8u2d955Z5d/e83Nzb06TiK6NBwCJhqE8vLycMcdd3RYfvr06S63EULgtttuQ25urnOZ0WjE2LFjkZ+f7+ylKywsxPz585GdnQ2l8uL/IrZt24b//M//dPam+fj4ICUlBQCwa9cuWK1W1NXV4dZbb0Vubi6GDBly0X2OHj0aOp0OFosFAHDs2DHce++9AICoqChMnToV8+bNw2233QZvb+9u9/XNN98AAJKSkiCXy7F3717nupdeegl//OMf4evr67KNwWBAVFQUQkJCAABnzpzB4cOHIYRAY2Mjfv3rXyM/Px8ymazT1/z000/h5eWFa665BpWVlS7D1H/84x8xa9YsjB49GgCQm5uLBQsWoKWlBQCgVquRkpICrVaLjIwM1NfXw2q14r777kN8fDwmTJhw0fa7XC+88ILz/EqFQoEpU6YgMDAQpaWlKCoqQk1NzWXt/3//938RFhaGUaNGITMzE42NjQDa//b++c9/4pe//OVlHwMRXYSbAygR9cCFPYA9fZzfA/j555+7rJs2bZpoaGgQQgjR3NwsZs+e7bL+o48+cm7bXQ/gpEmTnMvj4uJEeXm5c11+fr7QarXO9UuWLOnxMb/88ssXPT6j0Si++uqrDtteWO711193rvvNb37jsu78nsnGxkZRUFDQaX3WrVvnst3hw4ed6y7sbfPx8RG5ubnO9Y8++qjL+t/85jfOdXfccYdzeWBgoDh69KhzXVlZmTAYDM71t9xyS4/b73J6ABMSEpzbPf/88y7rHA6HyMrK6tAj2ZsewOnTp4vGxkYhhBAZGRku6+67774e15OILh17AIkkYvPmzS7Pn376afj4+AAAtFotnnnmGaSnpzvXb9myBffcc0+3+6yoqMC+ffucz2UyGRYvXuxSRqVSOXu3Nm/ejFdeeaVH9V26dCkCAwPx5JNPoqSkpNMyJpMJt912Gw4cOIBRo0Z1WiYqKgq//e1vnc/nzZuHt99+2/m8rKzM+bO3tzccDgcWL16MXbt24fTp02hsbITD4eiw36NHj3b5mvfee6+zhw8AnnrqKbz22muwWq0AgO+++w4A4HA4sGXLFmc5Ly8vLF++3GVf5/cypqenw263Q6FQdPq655s5c2aHcxx7Ki4uDkeOHAEA/OMf/4C/vz9GjhyJhIQEhIWFITk5GcnJyZe0b6B9XslzPbcpKSnw9/dHXV0dANffBxH1HwZAokEoNTUVO3bs6LD8gw8+wAMPPNDpNmfOnHF5fmF4ufB5d8PJ51w4IfSxY8dw7NixLstfWIeLue+++/CLX/wCu3btwrfffotdu3YhIyMDNpvNWcZms+Htt9/Ga6+91uk+xo0bB7n85+vdLhzuPRfKAGDr1q2YP3++y/67cm54ujMXtqWfnx+GDh3qbJvi4mIA7XMaNjQ0OMuVlJRgw4YNXe63sbER1dXV/T7NyuOPP47NmzfDbrejoKDAJUCHh4fjpptuwhNPPIGhQ4de0v4vHMb29fV1BsDzfx9E1H94FTCRRFzYG9TV+WuXs8+LaW5u7vVrKBQKzJw5E88++yy+++47VFZWYtGiRS5ljh492uX2AQEBHfbXlUceecQl/MXExODGG2/E7bff3uFK5O6O/WJte279pfTQXepV2r1x9dVXY8+ePfjlL3+J6Ohol+MpLS3F//zP/yA1NbXbENyd3vxOiKh/MAASSURUVJTL87y8vG6f96R358J9/uY3v4EQottHT7S0tMBsNne6TqfT4emnn3ZZ1pOLVS6mpqbGZbqVm266CSdOnMCXX36Jf/3rX/jP//zPHu/rwrZsaGhw9voBcF4IExwc7ByGB4C0tLSLtt9A3WZt4sSJWL9+PYqKitDQ0IDc3FyXuf5OnTqFTZs2DUhdiKjvMQASScTcuXNdnj/33HPO3iSr1dphIt8Ly3fGaDS6DOf94x//6HRo+vjx43juuefw1ltv9aiuJpMJ0dHRWL58eadz4G3cuNHleUJCQo/2253W1laX515eXs6er+rqaqxZs6bH+/roo4+Qn5/vfL5q1SrneZAAnPdyVigULrex2759Oz7++OMO+yspKcErr7yC5557rsd1uJx5AN9//318++23sNvtANrPjRw9erTzSuxzenKaABF5Jp4DSCQR8+fPx8SJE3HgwAEAwPfff4+4uDjnNDDn91AlJibizjvv7NF+n3vuOdx0000QQqCpqQnXXHMNxo4di6ioKDQ3N6OwsNC57xUrVvS4vnV1dVizZg3WrFmDiIgIJCQkwNvbGydOnHAJVzKZDL/4xS96vN+uGAwGDB061Hme4v/+7//i6NGjMBgM2L17d5c9kp1paGjAVVddhSlTpqCystJl6h2FQoH/+q//cj5/+umn8fXXX8Nms8HhcOCee+7BypUrMXz4cLS1teH48ePOibHvu+++yz7OntiwYQO+/vpr6HQ6REdHIyIiAna7HVlZWS7l4uLiBqQ+RNT3GACJJEIul2Pjxo2YN2+ec4iyrKysw1WXw4cPxxdffAGVStWj/d5www1Yu3YtlixZ4uxFO3ToEA4dOtShbE/P9brwHLqSkpJOrwSWyWT485//jHHjxvVovxezZs0alyufc3JyALTPzffUU0/1uAfuV7/6Ff75z3/i22+/7fQ1xowZ43w+fvx4fPzxx7jvvvucF4QcPXq00/MaB/pcOYvF0uXvcvr06bj55psHtD5E1Hc4BEwkIUOHDsXevXvx17/+FampqQgMDIRSqURAQACuvvpq/OUvf8GBAwcQGxvbq/0uXrwYubm5ePjhhzFmzBj4+flBoVAgICAASUlJ+O1vf4vNmzfjiSee6NH+oqKicPz4cbz55pv4f//v/2HcuHEICwuDSqWCt7c3RowYgfvvvx9ZWVn4/e9/fylN0am7774bn3/+OSZPngyNRgO9Xo85c+Zg165duPbaa3u8n2nTpmHv3r249dZbERgYCC8vLyQnJ2PDhg34wx/+0KH8bbfdhoKCAixfvhyTJk2CXq+HQqFw3oLul7/8Jf71r3/hzTff7LNj7c7TTz+N//7v/8Y111yD6Oho+Pr6QqlUIjg4GDNmzMBrr72G9PT0Pjn3kojcQyYudaIoIiIC0H6+3TXXXON8/v777+P+++93X4WIiC6CPYBEREREEsMASERERCQxDIBEREREEjNoAuC6desQExMDrVaLpKQk7Nq1q9vyO3fuRFJSErRaLYYNG9Zh/rHPPvsMkyZNgr+/P3x8fDB+/Hj8/e9/789DIKIr1Ln77p578Pw/IvJ0gyIAfvrpp1iyZAmefPJJZGdnY/r06bj++uu7vK9oUVER5s2bh+nTpyM7OxtPPPEEHn74YZd7bJ67yXxmZiYOHTqEBx54AA888AC2bt06UIdFRERE5BaD4irg5ORkTJw40WUKhJEjR+KWW27B6tWrO5R/7LHH8MUXX6CgoMC5bNGiRTh48CAyMzO7fJ2JEyfihhtu6NVs+0RERESDjcf3ANpsNuzfv9/ldklA+z0zMzIyOt0mMzOzQ/k5c+Zg3759HW73BLTfkP2bb75BYWFhhxu+ExEREV1pPH4Wz6qqKtjtdhgMBpflBoMBJpOp021MJlOn5dva2lBVVYWwsDAAgNlsRkREBKxWKxQKBdatW4fZs2d3WRer1Qqr1ep87nA4UFNTg6CgoA53LiAiIiLPJIRAfX09wsPDIZd7fF9Yv/D4AHjOhQFLCNFt6Oqs/IXL/fz8kJOTg4aGBnzzzTdYtmwZhg0b5rxR+4VWr16NZ5555hKPgIiIiDxJcXExhgwZ4u5quIXHB8Dg4GAoFIoOvX0VFRUdevnOMRqNnZZXKpUICgpyLpPL5c6bmY8fPx4FBQVYvXp1lwFw+fLlWLZsmfO52WzG0KFDUVxcDJ1OdymHR0RERAPMYrEgMjISfn5+7q6K23h8AFSr1UhKSkJ6ejpuvfVW5/L09PQub0SekpKCL7/80mXZtm3bMGnSpG5vcC+EcBnivZBGo4FGo+mwXKfTMQASERENMlI+fcvjAyAALFu2DAsXLsSkSZOQkpKCt99+G2fOnMGiRYsAtPfMlZSU4G9/+xuA9it+165di2XLluHBBx9EZmYm1q9fj48//ti5z9WrV2PSpEmIjY2FzWbDpk2b8Le//W3AbrZORERE5C6DIgAuWLAA1dXVePbZZ1FWVobRo0dj06ZNiIqKAgCUlZW5zAkYExODTZs2YenSpXjjjTcQHh6O119/HbfffruzTGNjIxYvXoyzZ8/Cy8sLCQkJ+Mc//oEFCxYM+PERERERDaRBMQ+gp7JYLNDr9TCbzRwCJiIiGiT4+T1IegCJiDyN3W7vdF5RInI/hUIBpVIp6XP8LoYBkIiolxoaGnD27FlwAIXIc3l7eyMsLAxqtdrdVfFIDIBERL1gt9tx9uxZeHt7IyQkhD0MRB5GCAGbzYbKykoUFRVh+PDhkp3suTsMgEREvdDa2gohBEJCQuDl5eXu6hBRJ7y8vKBSqXD69GnYbDZotVp3V8njMBITEV0C9vwReTb2+nWPrUNEREQkMQyARERERBLDAEhEREQkMQyAREREdFGvvfYaYmJi4O3tjVtuuQVms9ndVaLLwABIRER9Zt26dYiJiYFWq0VSUhJ27drVJ9tdbP2bb76JsWPHQqfTQafTISUlBZs3b+6z47oc7mqT861evRoymQxLliy5pGN44oknsHbtWnz44Yf44YcfkJ2djWeeeeaS9gX0vk1WrlwJmUzm8jAajZf8+gRA0CUzm80CgDCbze6uChENkObmZpGfny+am5vdXRWP88knnwiVSiXeeecdkZ+fLx555BHh4+MjTp8+fVnb9WS/X3zxhfj6669FYWGhKCwsFE888YRQqVTi8OHD/XrMF+PONjlnz549Ijo6WowdO1Y88sgjvT6GPXv2CLlcLvbv3+9c9vzzz4vhw4f3el+9rfs5K1asEKNGjRJlZWXOR0VFRbev0917lZ/fQjAAXgb+ARFJz2AOgKmpqeK3v/2t+O1vfyv0er0IDAwUTz75pHA4HH2y/8mTJ4tFixa5LEtISBCPP/74ZW13qfsNCAgQ7777bk+rL4QQoqGhQSxcuFD4+PgIo9EoXnrpJZGamnpJwUkI97dJfX29GD58uEhPT7/k47jzzjvFrFmzXJa9/fbbIiAgoNf7EuLS2mTFihVi3LhxvXodBsDucQiYiOgyCCHQZGtzy0Ncwq3oPvzwQyiVSuzevRuvv/46XnnlFbz77rsAgFWrVsHX17fbR1dDdTabDfv370daWprL8rS0NGRkZHRZn4ttdyn7tdvt+OSTT9DY2IiUlJSLtsn5/vjHP+K7777Dxo0bsW3bNuzYsQP79+93KdPTdvKENvntb3+LG264AbNmzepVO5xjtVrx5Zdf4tZbb3VZ3tzcDL1eD6B3fzeX2iYAcOzYMYSHhyMmJgZ33XUXTp48eUnHRO14JxAiosvQ3GpH4tNb3fLa+c/Ogbe6d//GIyMj8corr0AmkyE+Ph65ubl45ZVX8OCDD2LRokW48847u90+IiKi0+VVVVWw2+0wGAwuyw0GA0wmU5f7u9h2vdlvbm4uUlJS0NLSAl9fX2zcuBGJiYndHs/5GhoasH79evztb3/D7NmzAbQH5iFDhriU62k7ubtNPvnkExw4cAB79+7ttq7dOXDgAJqbm/H73/8ejz76qHN5a2srrrnmGgA9b4+eHFtXkpOT8be//Q0jRoxAeXk5/vSnP2Hq1KnIy8tDUFDQpR6epDEAEhFJyJQpU1zuYpKSkoK//OUvsNvtCAwMRGBg4GXt/8I7pAghenTXlItt15P9xsfHIycnB3V1ddiwYQPuu+8+7Ny5s8ch8MSJE7DZbC69hoGBgYiPj3cp19N2qq2t7XHdO3M5bVJcXIxHHnkE27Ztu6zboB09ehRarRa5ubkuy+fPn4+rr74aQM/b43y9bZPrr7/e+fOYMWOQkpKC2NhYfPjhh1i2bFmvXpvaMQASEV0GL5UC+c/Ocdtr96VVq1Zh1apV3ZbZvHkzpk+f3mF5cHAwFApFh16cioqKDr09vdmuN/tVq9WIi4sDAEyaNAl79+7Fa6+9hv/5n//p9pjO6emQek/bKTk52W1tsn//flRUVCApKcm53m634/vvv8fatWthtVqhUFz878disSA0NNTZrgBw5swZHDlyBLfffjuA3v3dXOrfyYV8fHwwZswYHDt2rMfbkCsGQCKiyyCTyXo9DOtOWVlZHZ4PHz4cCoXisoaA1Wo1kpKSkJ6e7nK+WHp6Om6++eYu93ex7S51v0B7oLNard2WOV9cXBxUKhWysrIwdOhQAO29eEePHkVqaqqzXE/byZ1tct1113XotXvggQeQkJCAxx57rEfhD2gPoxaLxaWH7vnnn8e8efOcPau9+bu5nN/n+axWKwoKCjr9MkI95J5rT64MvIqISHoG+1XAvr6+YunSpeLIkSPin//8p/Dx8RFvvfVWn+z/3PQe69evF/n5+WLJkiXCx8dHnDp1ylnmr3/9q7j22mt7tV1P9rt8+XLx/fffi6KiInHo0CHxxBNPCLlcLrZt29arY1i0aJEYOnSo2L59u8jNzRXz588Xvr6+l3wVsDvb5EKXchWwyWQSWq1WrFq1ShQVFYnnn39eGI1GcebMmV7tpzfHJkTHNvn9738vduzYIU6ePCmysrLEjTfeKPz8/Lo9Xl4F3D0GwMvAPyAi6RnsAXDx4sVi0aJFQqfTiYCAAPH444/32TQwQgjxxhtviKioKKFWq8XEiRPFzp07XdavWLFCREVF9Xq7i63/5S9/6VwfEhIirrvuug7h7/333xcX6/eor68Xv/jFL4S3t7cwGAzixRdfvKxpYHpS9/5qkwt1dhw9aZNPPvlEREZGCi8vL3HDDTeI48ePd1u+J3rbJgsWLBBhYWFCpVKJ8PBwcdttt4m8vLxuX4MBsHsyIS5hHgEC0H5uhF6vh9lshk6nc3d1iGgAtLS0oKioyHkXg8Fk5syZGD9+PF599VV3V8UtVq5ciR07dmDHjh292u5KbrdLbZPBoLv3Kj+/eQ4gERFJxNatW/Haa6+5uxoehW0iXQyAREQkCZmZme6ugsdhm0gXAyARkURcicN8A4HtRlci3gqOiIiISGIYAImIiIgkhgGQiIiISGIYAImIiIgkhgGQiOgScApVIs/G92j3GACJiHrh3D1UbTabm2tCRN1pamoCAKhUKjfXxDNxGhgiol5QKpXw9vZGZWUlVCoV5HJ+jybyJEIINDU1oaKiAv7+/s4vbeSKAZCIqBdkMhnCwsJQVFSE06dPu7s6RNQFf39/GI1Gd1fDYzEAEhH1klqtxvDhwzkMTOShVCoVe/4uggGQiOgSyOXyDjeYJyIaLHjyChEREZHEMAASERERSQwDIBEREZHEMAASERERSQwDIBEREZHEMAASERERSQwDIBEREZHEMAASERERSQwDIBEREZHEMAASERERSQwDIBEREZHEMAASERERSQwDIBEREZHEMAASERERSQwDIBEREZHEMAASERERSQwDIBEREZHEMAASERERScygCYDr1q1DTEwMtFotkpKSsGvXrm7L79y5E0lJSdBqtRg2bBjeeustl/XvvPMOpk+fjoCAAAQEBGDWrFnYs2dPfx4CERERkUcYFAHw008/xZIlS/Dkk08iOzsb06dPx/XXX48zZ850Wr6oqAjz5s3D9OnTkZ2djSeeeAIPP/wwNmzY4CyzY8cO3H333fjuu++QmZmJoUOHIi0tDSUlJQN1WERERERuIRNCCHdX4mKSk5MxceJEvPnmm85lI0eOxC233ILVq1d3KP/YY4/hiy++QEFBgXPZokWLcPDgQWRmZnb6Gna7HQEBAVi7di3+4z/+o0f1slgs0Ov1MJvN0Ol0vTwqIiIicgd+fg+CHkCbzYb9+/cjLS3NZXlaWhoyMjI63SYzM7ND+Tlz5mDfvn1obW3tdJumpia0trYiMDCwy7pYrVZYLBaXBxEREdFg4/EBsKqqCna7HQaDwWW5wWCAyWTqdBuTydRp+ba2NlRVVXW6zeOPP46IiAjMmjWry7qsXr0aer3e+YiMjOzl0RARERG5n8cHwHNkMpnLcyFEh2UXK9/ZcgB48cUX8fHHH+Ozzz6DVqvtcp/Lly+H2Wx2PoqLi3tzCEREREQeQenuClxMcHAwFApFh96+ioqKDr185xiNxk7LK5VKBAUFuSx/6aWXsGrVKmzfvh1jx47tti4ajQYajeYSjoKIiIjIc3h8D6BarUZSUhLS09Ndlqenp2Pq1KmdbpOSktKh/LZt2zBp0iSoVCrnsj//+c947rnnsGXLFkyaNKnvK09ERETkgTw+AALAsmXL8O677+K9995DQUEBli5dijNnzmDRokUA2odmz79yd9GiRTh9+jSWLVuGgoICvPfee1i/fj3+8Ic/OMu8+OKLeOqpp/Dee+8hOjoaJpMJJpMJDQ0NA358RERERAPJ44eAAWDBggWorq7Gs88+i7KyMowePRqbNm1CVFQUAKCsrMxlTsCYmBhs2rQJS5cuxRtvvIHw8HC8/vrruP32251l1q1bB5vNhjvuuMPltVasWIGVK1cOyHERERERucOgmAfQU3EeISIiosGHn9+DZAiYiIiIiPoOAyARERGRxDAAEhEREUkMAyARERGRxDAAEhEREUkMAyARERGRxDAAEhEREUkMAyARERGRxDAAEhEREUkMAyARERGRxDAAEhEREUkMAyARERGRxDAAEhEREUkMAyARERGRxDAAEhEREUkMAyARERGRxDAAEhEREUkMAyARERGRxDAAEhEREUkMAyARERGRxDAAEhEREUkMAyARERGRxCjdXQHqWpOtzd1VICIichtvNWNKf2HLerDEp7e6uwpERERuc2rNDe6uwhWLQ8AeqMnWhujHv3Z3NYiIiNwq+vGvORrWT9gD6OH2PXUdu8D7id1uR2ZGJgAgZWoKFAqFm2tERERAe0fIpD994+5qXNGYLDyct1rJANhP7HYZNEoZgPZ2ZgAkIiKp4BAwERERkcQwABIRERFJDAMgERERkcQwABIRERFJDAMgERERkcTw8lKSLLlcjsTEROfPREREUsEASJIlk8kQEhLi7moQERENOHZ7EBEREUkMewBJsoQQqKqqAgAEBwdDJpO5uUZEREQDgz2AJFkOhwP5+fnIz8+Hw+Fwd3WIiIgGDAMgERERkcQwABIRERFJDAMgERERkcQwABIRERFJDAMgERERkcQwABIRERFJDOcBJMmSyWSIj493/kxERCQVDIAkWXK5HEaj0d3VICIiGnAcAiYiIiKSGPYAkmQJIVBTUwMACAwM5DAwERFJBnsASbIcDgcOHz6Mw4cP81ZwREQkKQyARERERBLDAEhEREQkMYMmAK5btw4xMTHQarVISkrCrl27ui2/c+dOJCUlQavVYtiwYXjrrbdc1ufl5eH2229HdHQ0ZDIZXn311X6sPREREZHnGBQB8NNPP8WSJUvw5JNPIjs7G9OnT8f111+PM2fOdFq+qKgI8+bNw/Tp05GdnY0nnngCDz/8MDZs2OAs09TUhGHDhmHNmjWcCoSIiIgkZVAEwJdffhm/+tWv8Otf/xojR47Eq6++isjISLz55pudln/rrbcwdOhQvPrqqxg5ciR+/etf45e//CVeeuklZ5mrrroKf/7zn3HXXXdBo9EM1KEQERERuZ3HB0CbzYb9+/cjLS3NZXlaWhoyMjI63SYzM7ND+Tlz5mDfvn1obW3tt7oSERERDQYePw9gVVUV7HY7DAaDy3KDwQCTydTpNiaTqdPybW1tqKqqQlhY2CXVxWq1wmq1Op9bLJZL2g95BplMhri4OOfPREREUuHxPYDnXPgBLYTo9kO7s/KdLe+N1atXQ6/XOx+RkZGXvC9yP7lcjoiICEREREAuHzRvBSIiosvm8Z96wcHBUCgUHXr7KioqOvTynWM0Gjstr1QqERQUdMl1Wb58Ocxms/NRXFx8yfsiIiIichePD4BqtRpJSUlIT093WZ6eno6pU6d2uk1KSkqH8tu2bcOkSZOgUqkuuS4ajQY6nc7lQYOXEAJ1dXWoq6tz9hATERFJgccHQABYtmwZ3n33Xbz33nsoKCjA0qVLcebMGSxatAhAe8/cf/zHfzjLL1q0CKdPn8ayZctQUFCA9957D+vXr8cf/vAHZxmbzYacnBzk5OTAZrOhpKQEOTk5OH78+IAfH7mHw+HAwYMHcfDgQd4KjoiIJMXjLwIBgAULFqC6uhrPPvssysrKMHr0aGzatAlRUVEAgLKyMpc5AWNiYrBp0yYsXboUb7zxBsLDw/H666/j9ttvd5YpLS3FhAkTnM9feuklvPTSS0hNTcWOHTsG7NiIiIiIBtqgCIAAsHjxYixevLjTdR988EGHZampqThw4ECX+4uOjuawHxEREUnSoBgCJiIiIqK+wwBIREREJDEMgEREREQSwwBIREREJDGD5iIQor4mk8kwbNgw589ERERSwQBIkiWXy3k7PyIikiQOARMRERFJDHsASbKEEKivrwcA+Pn5cRiYiIgkgz2AJFkOhwPZ2dnIzs7mreCIiEhSGACJiIiIJIYBkIiIiEhiGACJiIiIJIYBkIiIiEhiGACJiIiIJIYBkIiIiEhiOA8gSZZMJkNUVJTzZyIiIqlgACTJksvliI6Odnc1iIiIBhyHgImIiIgkhj2AJFlCCDQ1NQEAvL29OQxMRESSwR5AkiyHw4F9+/Zh3759vBUcERFJCgMgERERkcQwABIRERFJDAMgERERkcQwABIRERFJDAMgERERkcQwABIRERFJDOcBJMmSyWQYMmSI82ciIiKpYAAkyZLL5YiNjXV3NYiIiAYch4CJiIiIJIY9gCRZQghYrVYAgEaj6fNh4Da7A9WNNlTWW1Hf0oZWuwO2NgfaHA5olAp4qRXwVivgp1XBqNPCS63o09eny2Nts6O0rgWldc2obbKhoaUN9S1taLLZoZADcrkMSrkM3molgnzUCPLVIMhXjQh/L2hV/F26W6vdgTM1TThV1YiKeiuqG6yoarDB0tyKNoeAXQjY7QJqpRx+WiX8tCrovJSI8PfCkABvRAZ6IcS37/8vUM8IIZw/n6pqQmK4zo21uTIxAJJkORwO7N69GwAwbdo0KBSX9qFd1WDFobN1OFregBMVDThR2YDT1U2oabLhvP9hF+Xv3R4EY4J9MMLgh3hj+yMmyAdyOT+E+ovdIXCsoh55JRYUlFmQX2bBicoGlFusl7Q/uQyICPDCsGBfxIX6YuwQPSZEBiAy0Ithop+0tNqRW2JGzpk65BTX4YjJgtPVTWhz9OIN2AlfjRKJYTqMitBhVLgek6ICEBXE+4b3h7omG/YU1WBPUQ1yS8zIKzU716XnlzMA9gMGQKJeEELgRGUDfjxejb2napBTXIeztc1dlpfLgGBfDfy0SqiVCqgVMigVcljb7Giy2dFis6OuuRVNNjvqmlpR19SKI6Z6bD5scu7D31uFiUMDkBQVgMkxgRgf6Q+VgmdvXCqHQ+BwqRmZJ6qxp6gGe0/VwNLS1mlZL5UCEQFeCPJRw0+rhK9GCS+1EkII2B0CbQ6BRmsbqhttqG6worLeikabHcU1zSiuacbOo5XOfQV4qzApOhBXxwZh2vBgxIb4Mkhcoja7AwfPmvHDsSrsOlaJnOK6TsOel0qBmGAfhOm1CPJVI9hXA72XCkqFHEq5DHK5DNZWO+pb2tBgbUNtkw0ltc04W9uMMnMzGqxt2HOqBntO1Tj3adRpMWVYIFJig3BNfChCddqBPPQrRqvdgf2na/HtkQp8f7QSheX1XX5h9tUyqvQHtirRRZibW7HzaCV2HKnAjyeqOvQMyWRAbIgvRobpEBfii9hQH8QE+8Cg0yLAWw3FRXrvhBCwtLTBZG4fbjxR2YBCUz2OltejsLwedU2t+PZIBb49UgEA8NMokRIbhOkjQnBtQigi/L367divFObmVnx/tBLfFVZgZ2ElqhttLut91AqMitAjMUyHxDAdRhj9MDTQGwHeql6FNCEEqhpsOFnZgJNVjThSZkHOWTMKSi2obWpFen450vPLAQAGnQbXJoRidqIBU2ODOWx8EY3WNuw8Won0/HJ8U1DeIbSH+GkwIdIfE4YGYHSEDrEhvjDqtJfce25rc+BkVQPySizIK7Xg0Nk6HDxbB5OlBZ/nlOLznFIAwNghelybEIq0RCNGhvkx1HejpdWOHYUV2JRrwo7Cig6/w9gQHyQPC8KESH/EhvjitjczAAB3T450R3WveDIhejNIReezWCzQ6/Uwm83Q6fque7rJ1obEp7cCAPKfnQNvNXN6f7Db7fjhhx8AdBwCLqlrxpbDJmzPL8feUzUuvQtqpRxXRQcgZVgQJgwNwJgheui0qn6pY6vdgfxSC/afrsX+07XIPFmNmgvCy+gIHdISjUgbZUC8gR9A51Q3WJGeX47Nh03IOFGFVvvPv0NfjRJThgVhyrBATI4JRGKYDsp+7FW1ttmRX2pB5slqZByvxp5TNbC1OZzrvVQKpI4IwQ1jw3DdyFC+53/SaG3D9oJyfHmwDN8fq3RpM72XClfHBWFaXAimxQUPyBB7s82O7DPt78Pvj1XhYHGdy/phwT6YNyYMN4wNQ4KR70WgPUjvKKzAV4fKsL2gHE02u3NdgLcK18SHYmZCKKYMC0So38+9qf39Odhfn9+DCQPgZWAAHNwuDIClZis25ZZh02FTh3/scaG+uG5kKFKHh2BiVIDbemvODV/uOlaFHYUV2He61mXYZFiID2746QNIimHQ3NSKrXkmfHmoFD8er8L5o4Jxob64LiEUM+NDkRQVALXSfcPoLa127C6qwfb8cmwvKEeZucW5TquS47oEA24aF4aZ8aGS6xk8Fxj+fbAU3xSUo6X159AXFeSNOaOMSEs0YMLQgIv2rve3ivoW7DhSifSCcuw86hpQRxh8cfP4CNw8PhxDArzdWMuBJ4TAgTO12Jhdgq8OlaGuqdW5LsLfC/PGGDF3tBHjI7v+HTIA9j8GwMvAADi4nR8AX89TYP+Zn086lsmAq6ICkTbKgNmJBkQF+birmt2qarDi24IKbMs34ftjVS4fQLEhPpg/LgLzx4cjJtgz698Xmmxt2F5QgS9ySrDzaKVLT9/oCB2uHx2GOaOMiAv1dWMtuyaEQF6pBZsPl+GrQ2U4Xd3kXOenUWLuaCNuHh+BlNggtwee/uJwCOz/KTB8fagM5uafA0N0kDduGhfu8V9qGqxt+KagHF8fKsOOwkrY7D+/FydHB+K2iRGYNzas30YLPEFxTRM+O1CCz7LPuvwdh/ppcNO4cNw4NgzjI/179DtkAOx/DICXgQFwcPsoswhDbGcAAA9ua0CbA0iOCcK8sWGYM8rgMhwxGNS3tJ8r+NWhMuy84ANodIQON41t/xC9EnojbG0O7DpWiS8OliI933VYKcHo5/yw8dTg3pVzYfDLg6X48mApSs/rGTz3IXrL+AiMjtB5bBDqjeMVDfg8uwSf55S4XExl0Gkwf1w4bh4fgVHhg+9Yzc2t2HK4DBuzS7C7qMbZS69RyjE70YDbJkZg+vCQK+JirvqWVmw+bMKG/Wexu+jni2W81QrMHW3ErRMiMDU2uNdfXhgA+x8D4GVgABzcDpyqxm1vZQEAnpqXgPkTIgZd6OuKpaUV6Xnl+OJgKX44XgX7eWOhE4f648ax4Zg72ojwQXQBSavdgayT1fjqYBm25JlceomGBnrj5vHhuGlcOEYY/NxYy77jcAjsO12Lz3NKsCnXdRhtWLAPbhwXjvnjwhAXOriOt7SuGV8eLMUXB0uRV2pxLvf9qbfz1gkRmDLsyuntLK1rxr9zSvHZgbM4VtHgXB7oo8ZNY8Nwy4SIHveKeYpWuwM/HKvC5zkl2Jpncg7Ty2TA1Ngg3D5xCOaONl7WZxcDYP9jALwMDICDW6O1FaNWbANwZbdzTaMNm3LL8NWhUpfeCAAYF+mP60e3n1M1LMTzhkhbWu3IOFGFzbkmpBeUu4SgED8NbhgThpvHhw+6D9DesrU5sPNoJf6dU4L0/HJYzxvqTzD64frRYZg72ogRBs+cWqakrhlbD5uw+XAZ9p6qdS5XymVIHRGCWyZEYNZIwxU9GboQAodLLPgs+yy+PFiKqoafL+aKDPTCDWPae609tcfT7hDYd6oGXxwsxabcMtSe/4UkxAe3TxyCWyZE9NmsBAyA/Y8B8DIwAA5uUmzncksLvj5Uhs2HyzpcQBId5I1rEwy4JiEEk6IC3fZhXFLXjB2FFfjuSAV+PF6N5tafh3cDfdSYM8qAm8aFIznmyukl6o0Gaxu255fjy4Ol+P6Y6zmP0UHemJ1owMz4UEyKDoBG6d6LlXYUVmJ7QTkOnTW7rJ8cE4j548Ixb0wYAn3UbqmjO7XZHfjheBU2ZpdgW165y994VJA3Zo00YNZIA66KDujXq9MvxtpmR8bxamzLNyE9v9wltAb7qjFvTBhumzgE44bo+zy0MgD2PwbAy8AAOLid3wOY90wafDRX7snZnamwtGBrfjm2HjZhd1G1S5BQK+QYH+mPKbFBuCo6AGMi9PD37vsPaodD4HRNE/afrsXuk9XYXVSDMzVNLmUMOg3mjGq/anBydKBbPxA9TV2TDdvyy7Etr+NFQF4qBVJi26e6SYoKxOgIXb8FQodD4HhlA/aear+Tw65jVS7TFclkwFXRgZj70+9xMJ160N+abfafzt0txbdHKlx6d/VeKkyNDcLUuGBMjQ3CsGCffu0ddDgEjlU0YNexSvxwvAq7T9a4hFM/rRJzRhkxf1w4psYG9et7kQGw/zFZkGQ5HI5Of5aKUJ0WC6dEYeGUKDRY2/DDsUp8e6QCu45Voczc0uEOCJGBXhgdrkdsiC+igrwRFeSDiAAvBHir4KVSdPnB5HAINNjaJ7ourmlCcU0TTlU3Ib+0/bZrDVbXyWDlMmDC0ABcmxCKmfEhSAzzzCExT+DvrcadkyJx56RINFjbsLPwp8muj1aist7qMoG4WinH2Ag9EsL8MMLQ/ogO8kGIn6bHPalCCNQ2teJsbZNzsvIjpnocOmt2OScTaD+n7+q4IMyMD8WskQaE+Gn6/PivBF5qBW4Y2z51U6O1DbuOVSI9vwLfHilHbVP7BRbn7gwU7KvBuCF6jBmix9ghegwP9UOYXntJQezcvZJPVDS030avuA4Hi+s6TM5s0GkwO9GAOaOMmDIs6Iq4cIXaMQAS0U8n4Idh7ugwCCFwuroJmSerkXWyGgeL63Cqusl5e7POqJVyBHiroFLIIZfJIJO1nzNU39KG+pZWdHdLVo1SjsRwHZJjgpA8LBCTogLgdwVPldFffDVKZ5AQQuCIqR7fH63E3lO1OHCmFjWNNuw7XYt9p2tdtpPL2s+nNOi08FEroVXJoVUpIJfJ0NJqR0ubHc02OyobrCi3WF16Gc/npVJgfKQ/JkUHYFpcMCZGBTAs9JLPee/D9tvd1SHjeDUyTlRj/5laVDVY8c2RCnzzU6gH2s+jjAz0xpAAL/h7q6H3UsLfSw21Ug4hAMdPty00N7eipsmG2kYbyswtOFPT5HJx2DlalRyTY4IwPS4Y04YHc0LrKxgDIBG5kMlkiA72QXSwD+6ePBRA+7QWeSVm5JdZcKq6Eaerm1BU1YhySwta7QK2NkeHW+RdyE+rxNBAb+cj3uiHUeF6xIb4cFi3j8lkMowM02FkmA4Ppbb33J2sasShs3U4Wt6Ao6b22wyWmVtgdwiUW6wX/f2dL9hXjeGhfog3tvckjo5ofy0Gvr6jVMiRFNU+fP9f1w1HS6sdeaVmHDprRm6JGYdLzDhV1QSb3YGiqkYUVTX2+jW81QpEB/kgMVyHcZH+mBDpj3ijH3+PEsEASEQXpfdStZ+HFBfsslwIgUabHbWNNpibW9Fqd/zU2ycAyKD3UkLnpYJOq5LcHS08iUwmQ2yIL2IvuNLb7hCoarDCZG5BRb0Vza12tLTaYW21w+4Q0KoUPz3kCPLVwKjTIlSncdvFJVKmVSmcgfAch0PAZGnBqepGlNa1oK7JBktzK8zNrbDZBWSy9h5euUwGfy8VAnzUCPRRI8RPg2HBvjDoNOzdkzAGQCK6ZDKZDL4aJXw1SvB27YOPQi6DQaeFQXdlzH8pNXK5DOH+Xryohi4J+3mJiIiIJIYBkIiIiEhiGABJss4/94XnwRARkZQwAJJkyeXyTn8mIiK60vFTj4iIiEhiBk0AXLduHWJiYqDVapGUlIRdu3Z1W37nzp1ISkqCVqvFsGHD8NZbb3Uos2HDBiQmJkKj0SAxMREbN27sr+qTBzr/Loi8IyIREUnJoAiAn376KZYsWYInn3wS2dnZmD59Oq6//nqcOXOm0/JFRUWYN28epk+fjuzsbDzxxBN4+OGHsWHDBmeZzMxMLFiwAAsXLsTBgwexcOFC3Hnnndi9e/dAHRa5mdRvBUdERNIlE4Og6yM5ORkTJ07Em2++6Vw2cuRI3HLLLVi9enWH8o899hi++OILFBQUOJctWrQIBw8eRGZmJgBgwYIFsFgs2Lx5s7PM3LlzERAQgI8//rhH9eqvm0mfuwm2WgHsf2pWpzfBlslkLuet2e32DmXOp1D8PHHrlVzW4XB025t3fllzYzPGPfctACDnqWvh56V2KSuXy50Xh1xsvyzbsawQottgff7fMMv2vizQ/XuD/yM6L9ub/xGe8D66kst29/feZGvD+Ge3wy6A/GfndPo5eDn66/N7MPH4iaBtNhv279+Pxx9/3GV5WloaMjIyOt0mMzMTaWlpLsvmzJmD9evXo7W1FSqVCpmZmVi6dGmHMq+++mqXdbFarbBaf75dksVi6eXR9M47ab44sCer03WBgYEYM2aM83lGRkaXbyS9Xo/x48c7n+/evRutra2dlvXz88PEiROdz/fu3etyzOfz9vbGVVdd5Xx+4MABNDU1dVpWo9FgypQpzucHDx5EfX19p2VVKhWmTp3qfJ6bmwuz2dxpWblcjunTpzuf5+XloaamptOyAJCamur8+dixY86f9+zeDY3S9UrgadOmOT8Mjh49ivLy8i73m5KSArW6PUCeOHECpaWlXZZNTk6GVts+8W5RURHOnj3bZdlJkybBx8cHAHDmzBmcPn26y7ITJkxw/iMrKSnByZMnuyw7btw4+Pv7AwDKyspw/PjxLsuOHj0aQUFBAICKigoUFhZ2WTYxMREhISEAgKqqKuTn53dZNj4+HkajEQBQU1ODw4cPd1k2Li4OERERAACz2YyDBw92WXbYsGGIjGyflrq+vh7Z2dldlo2KikJ0dDQAoKmpCfv27euy7JAhQxAbGwug/X9Bd6MF4eHhGD58OACgtbXV+cWzMwaDAQkJCQDaPzx/+OGHLssGBwdj1KhRzufdleX/iHaX8z+ioKAAVVVVXZbl/4h2/fU/IiVciR9K2rpcT5fH44eAq6qqYLfbYTAYXJYbDAaYTKZOtzGZTJ2Wb2trc76ZuyrT1T4BYPXq1dDr9c7HuQ8ZIiIiosHE44eAS0tLERERgYyMDKSkpDiXP//88/j73/+OI0eOdNhmxIgReOCBB7B8+XLnsh9//BHTpk1DWVkZjEYj1Go1PvzwQ9x9993OMh999BF+9atfoaWlpdO6dNYDGBkZySFgDyrLIWDPKesJw6RXclmAQ8CXUpZDwJ5TlkPA7uXxQ8DBwcFQKBQdeuYqKio69OCdYzQaOy2vVCqd3dRdlelqn0D7EIVGo7mUw7gkNnv7P6Pz/yF1pSdlpFC2N/P5nV9WoZB3+zqXul8pl5XJZD3+3bFs78sCnvGeG2xlPeG9wbLtuvt7VygE7B7dPTX4efwQsFqtRlJSEtLT012Wp6enu5wDcr6UlJQO5bdt24ZJkyZBpVJ1W6arfRIRERFdKTy+BxAAli1bhoULF2LSpElISUnB22+/jTNnzmDRokUAgOXLl6OkpAR/+9vfALRf8bt27VosW7YMDz74IDIzM7F+/XqXq3sfeeQRzJgxAy+88AJuvvlm/Pvf/8b27du7Pamariy8FRwREUnVoAiACxYsQHV1NZ599lmUlZVh9OjR2LRpE6KiogC0X6F0/pyAMTEx2LRpE5YuXYo33ngD4eHheP3113H77bc7y0ydOhWffPIJnnrqKfz3f/83YmNj8emnnyI5OXnAj4/cg7eCIyIiqRoUARAAFi9ejMWLF3e67oMPPuiwLDU1FQcOHOh2n3fccQfuuOOOvqgeERER0aDBbg8iIiIiiWEAJMk6f+qIi00jQUREdCVhACQiIiKSGAZAIiIiIokZNBeBEJFnqWuyoczcgtomG2obW1HXbEObXbTP7i8AhVwGP60Sei8VdF4qhPhqEO7vBbWS3zs9QV2TDcU1zTBZWmCytKCy3oomaxta2uxoaXXAIQS0KgW0SgW81HIE+mhg1Glh1Lf/Ho06LadPcqMmWxtOVTXhTE0jTlc3obSuGXXNrTD/9LC1OSCXySCXAXK5DHovFQK91QjwUSPUT4OYYB8MC/HB0EAfvicligGQiLplbmrF4VIzckvMyC+14FR1I05VNcLS0vubtMtlQJjeC5GBXkgw6jAqXIdR4XoMN/hCpeCHUH8QQuBsbTP2n67FobNmHC2vR2F5PSrrrRffuBt+GiWGG3wRb/TDqHA9JkUHYESoH+RyhsK+ZncI5JWasf90LXLPmnGoxIwTlQ3oixu5KuQyxIX4YnykP8ZF+mPCUH/EG/h7lAIGQCJyUVHfgqyTNcg8UY3dJ6txsqqxy7KBPmoEeKsQ4K2Gv7cKGqUCkAFymQwOh4ClpRWWn3okyswtsLY5UFLXjJK6ZmSdrHHuR6uSIykqAMkxQZgyLAjjI/3ZK3EZTOYWfH+0Et8fq8TeUzUot3Qe9kL9NDDqtTDotAj108BXo4RGpYBWJYdcJkNLa3tvYLOtDVUNtvbeQnMLyi0tqLe24cCZOhw4UwegGADgp1UiKSoA0+KCkToiBHGhvuwlvESnqxvx7ZEKZJyoRtbJatR38oUrwFuFoUE+iAr0xpAALwR4q5097hqVHBCAgECbXaCuuRW1jTbUNNlQWteCU1WNOFnZgEabHYU/fSn4dF/77zHIR42pccGYHheMGSNCYNRrB/rwaQAwABJJnN0hkH2mFt8eqcC3RypwxFTfoUxkoBfGRvhjVIQOsSG+iA7ywdBAb3ipe34PViEEKhusKK5pwqmqJuSXWXC4xIz8MgvqW9rw4/Fq/Hi8GgDgo1Zg2vBgXBMfimsSQmHQ8QOoOw6HQM7ZOmzNM2HHkUoUlrv+DpVyGUaF6zBhaAASw3QYYfTD8FBf+Ggu7SPA1uZAUVVje3AwWZBTXIfsM3Wob2nDjsJK7CisxJ++LkC4XovU+FDMHW1EyrAghvpuCCGQU1yH9PxypOeX41hFg8t6P60Sk6MDMXaIP8YO0WN0hB4hfpd3b3ohBMotVhw6W4eDZ+ucv8fqRhu+PFiKLw+WAgDGRfojLdGAOaOMiAv1vazXJM/BAEiSJeVbwVnb7Mg4Xo3Nh8uQnl+O2qZW5zqZDBhp1CElNggpw4KQFBWAAB/1Zb+mTCZDqJ8WoX5aJEUF4tx9eRwOgeOVDdh9shpZRTXYfbIaVQ02bM0rx9a8cgDA+Eh/XD/aiOtHh2FokPdl1+VKYHcI7D1Vg68PlWFbvsmll08mA8YN8ceMESFI+alHtTdh/WLUSjnijX6IN/oB48IBAG12BwrK6rG7qBrfH6tC1slqlJpb8PGeM/h4zxn4aZWYNdKAeWPCMGNEcHtvscQJIXC4xIKvDpXiq0NlKKlrdq5TyGWYHB2I6SOCcXVsMEaF66Ds49MkZDIZjHotjHoj0kYZAbSH+5ziOvxwrBLfH6vCwbN1OFjc/vjz1kLEG/wwf3w45o8LR2Qg34uDmUyIvjiLQJosFgv0ej3MZjN0Ol2f7bfJ1obEp7cCAPKfnQNvNXN6f5BaO9vaHPjheCW+Otge+uqtPw8p6bRKpMaH4rqEUMwYEYLAPgh8l8rhEMgrteDbIxX4rrACB8/WuZzrNDpCh5vGhuPGceGI8PdyWz3dQQiB7OI6fHmwFF8fKkPFeefx+WqUuCYhFLMTDZgeF9wnof1yNNvsyCqqxvb89iBf1fBzXXVaJa4fHYb548MxZVgQFBI736y4pgkbs0vweXaJyykW3moFrkkIRVqiATNHhELvrXJjLdtV1Ldge34FtuaZkHGiCq32n9+ME4b647YJEbhxbHif/7319//n/vr8HkwYAC8DA+DgVt/SijErtwG4ctvZ7hDIOlmNLw+WYvNhE8zNP/f0hfppMGeUEdePNmJyTGCf9y70lQpLC7bmmbD5sAm7i2pgd/z8L2tSVADmjw/HvDFhCPa9vOEwT3aisgH/zi7Bvw+W4nR1k3O5TqvEnFFGzBsThqlxQR7bq3buNINNuSZ8nVvq0ltp0Glw8/gI3DI+AiPD/K7Y3nhzUyu+zi3DZwfOYt/pWudyjVKO60aG4sax4bgmPrRPe2r7mrmpFVvyyvDFwVJknqjGubeiSiHDtQmhuG3iEFwTH9onQ/0MgP2PAfAyMAAObjsKK3D/+3sBALeMD8ctEyJwdVzwoL8a1eEQOHCmtr2XKNfk0vMS4qfBDWPCcMPYMCQNDRh0V/pVN1ixJc+ELw+WYndRjbNnUCGXYVpcMOaPC0faKAP8tO7vOblc5ZYWfHmwFP/OKUVuidm53FutwKyRBswfF47pg3Ao1e4Q2FNUgy8OlmJTbpnLl5J4gx9umRCBm8eHI/wK6N21tTmw82glNmafxfb8CtjsDgDtV8NfHReMW8ZHYM5oI3wv8VxMd6qwtOCLg6X47EAJ8ssszuWBPmrMHxeOO5KGYFS47pIDPQNg/2MAvAwMgIPbpkMlUFUdgxDA775thM0O+HurkJZowPVjwnB1bPCgOWn93NDgVwfLsCm3DCZLi3Odv7cK148Ow03jwpAcc+UMt5VbWvDVofbeiIPFdc7laqUc18SH4KZx4bg2IXRQvX+qG6zYmleOrw6VIvNktUvAnTE8GLdMiMDsRMOgOqbu2Noc2FFYgc9zSrC9oAK2NodzXXJMIG4eH4G5o41uPSWht859AduYXYKvc8tQd975tQlGP9w2MQLzx0VcUVfWFpRZsDG7BBuzS1ymFxoe6otbJ0bg5vERvT5dgwGw/zEAXgYGwMHNbrfjhx9+AAB8WxuIrw+bUNVgc6730ypxXUIorhtpQGp8CHQe1qtka3Mg62Q1tuWbsD2/wiX0+WqUSEs04Kbx4Zh2BfRqXsypqkZ8cbAUXxwsxfHzrp7UquRIHRGCuaONuDbBAL2XZ/0OgfaelPSCcmw5bELGieoOQ9w3/zTEHXQFD3EDgLm5FVsOl2FjdonLFEHnendvHBuGWSMNbj+3sTPnvoB9fagMm3PLUGr++b0Y6qfB/HHhuG3iECSGX9lBo83uwK7jVdiw/yy25Ze7BPrJ0YG4cVwY5o42ItTv4uGXAbD/MQBeBgbAwe38ADht2jQIyLCnqAabD5uwJc/k8k1WKZdhckwgpg8PwdVxQRgVrndLT1pxTRN2Hq3ErmOVyDhe7XIhh49agdmJBtwwNhzThwdDqxpcQ4N9QQiBI6b69iksDpWiuObnqyqVchmuig7ENQkhmBkfiuFumqPO7hDIL7Vg59EKpBdUuPReAsCYCD3mjQnDjWPDJHuVZUldM748WIqvDpXicMnPw4tyGTA5JhBpiUZcmxCKqCBvt50z2NJqR+aJanxzpBzfFFSg7LzQ56NWYO7oMNw6IQIpsVdOr3tvWFpasSXX1B7oi37uzZbJ2nt354wy4roEQ5dX9TMA9j8GwMvAADi4XRgAFYqfA5P9p2Gc7fnl2F5QjhOVrpMh671USI4JxIShARgXqcfYIf59fh5Pq92B4xUN2He6FgdO12Lf6RqXQAMAwb4azE40IG2UAVNjPfciAHcQQiC/zIIth03YctjUYV41o06LyTGBmBwTiOSYQMSG+PbLOZG2NgcKTfXILq5F5olqZJ6sdhkWBNqnuZmdaMANY8IQHezT53UYzE5WNuCrQ2XYfNiEgvPONQOAIQFemD48GFfHBWNSVGC/Dqu22R04XGpB1slqZJ6oxp6iGjS32p3rfdQKzPrpdzhjRIgkv4B1pbSuGZtyy/DVoTLkXPCFJy7UF9fEh2BqbDAmRQc4z99lAOx/DICXgQFwcOsuAF7oVNW5WfmrkHWyBg1W11n55TJgaKA3YkN8ERvqi5hgHxh1WoT4aRDip4GfVgm1Qg6FXAbZT3fJaG61o7nVjrqmVpjMLSgzN6PM3ILjFQ04Wl6PE5UNLlMuAO29WBOHBmDGiGBMHx6CMRH6QXchh7ucqmrEjsIKfFdYicyT1S7DU0D7xRUJRj8khusQb/DDkEBvRAZ4IcL/4hNeCyFQb21DZb0Vp6sbcbKyEScqG1FosuBwqaXDa/lqlJgyLBDXJhgwa2QoQjnRdY8U1zRhW3450vNN2H+6tsP7w6jTYsJQf4yO0CM2xBdxob2/160QAjWNNhTXNuNoeT3ySy3IKzUjr9SCJpvdpWyYXotrE0Ixa6QBKbFBDH09UFzThC2HTfj2SAX2nHK9ql8uA0aF6zFxqD/iQn3x3//OA8AA2F8YAC8DA+Dg1psAeL42uwOHSszYd6oGOcV1yDlT53LOT3dkMkAllzuvBrwYX40S4yP9kRQVgKSoAEwY6n9FXOHqbs02O7KLa7GnqAZ7impw4EwtWlq7/p14qxXw1Sjhq1XCW62AwwE4hECbQ6DR2obqBlu3v1O9lwrjIv0xKSoAV8cFY9wQvcdOuzNYNFrbsKeoBruOVSHzZDUKTRY4Ovk0k8uAIF8NgnzUCPHTQOelgkoug1wug1IuQ0urAw3WNjS0tKG2yYaSuuYOQe+ccz3/U4YFISU2CAnGK3famoFgbm7F90cr8cOxKuwuqsap86Y4Ot9DM4Zh+byRffraDIC8EwhRrykVckwcGoCJQwOcyyrqW3C8vAEnKhtworIRp6obUVlvRWW9FdWNNue3XCHQISj4aZQ/zcavhVGnRUyID+INfhhh8EOEvxd7+PqBl1qBqbHBmBobDKA91J+qbkReqQX5ZRacqGjA2dpmlNQ2o97ahiabHU02u8vEy53xUSsQ+VNP8LAQH8SG+GJcpD+i3Xiu2pXK56eJr69JCAXQHghzS8zIKa5Doam9B/1ERfu9bs+9Fzu7zWFnZDLA4KdFdLA3RofrMSpCh1HhesT102kCUqX3UuGmceG46ae7yZjMLdhdVI28Ugtyz5qRebL91pBBHnjhz5WAAZAkTa/X98l+zt3ibGpccId154Z7W+0O2NocaHUIaJRyeKsV0CoV/EDxAEqFHHGhfogL9cPN4yNc1pmbW2FuakW9tRX1LW1ottkhl8ugkMmgkMvgrVYg2K+9h4lDgO7jo1FiyrAgTBkW5FwmhEBlvRUVP30Rq26wwtzcCrtDwO5o78HVKOXw0yrhp1VBp1Uh3F+LiAAvnk/rBka9FjePb5825vyRsBvHhru5ZlcmBkCSLIVCgfHjx/f768jlMvgMwoleqZ3eS+WR08fQxclkMoTqtDzHcpDz9+H7rz/wJBQiIiIiiWEAJCIiIpIYjkuRZNntduzevRsAkJyc3OOrgImIiAY7BkCStNbW1osXIiIiusJwCJiIiIhIYhgAiYiIiCSGAZCIiIhIYhgAiYiIiCSGAZCIiIhIYngVMEman5+fu6tAREQ04BgASbIUCgUmTpzo7moQERENOA4BExEREUkMAyARERGRxHAImCTLbrdj7969AICrrrqKt4IjIiLJYAAkSbNare6uAhER0YDjEDARERGRxDAAEhEREUkMAyARERGRxDAAEhEREUkMAyARERGRxPAqYJI0b29vd1eBiIhowDEAkmQpFApcddVV7q4GERHRgOMQMBEREZHEMAASERERSQyHgEmy7HY7Dhw4AACYOHEibwVHRESSwQBIktbU1OTuKhAREQ04DgETERERSQwDIBEREZHEMAASERERSQwDIBEREZHEeHwArK2txcKFC6HX66HX67Fw4ULU1dV1u40QAitXrkR4eDi8vLwwc+ZM5OXluZR5++23MXPmTOh0Oshksovuk4iIiOhK4fEB8J577kFOTg62bNmCLVu2ICcnBwsXLux2mxdffBEvv/wy1q5di71798JoNGL27Nmor693lmlqasLcuXPxxBNP9PchkAfTaDTQaDTurgYREdGA8uhpYAoKCrBlyxZkZWUhOTkZAPDOO+8gJSUFhYWFiI+P77CNEAKvvvoqnnzySdx2220AgA8//BAGgwH//Oc/8dBDDwEAlixZAgDYsWPHgBwLeR6FQoEpU6a4uxpEREQDzqN7ADMzM6HX653hDwCmTJkCvV6PjIyMTrcpKiqCyWRCWlqac5lGo0FqamqX2/SU1WqFxWJxeRARERENNh4dAE0mE0JDQzssDw0Nhclk6nIbADAYDC7LDQZDl9v01OrVq53nIur1ekRGRl7W/oiIiIjcwS0BcOXKlZDJZN0+9u3bBwCQyWQdthdCdLr8fBeu78k2F7N8+XKYzWbno7i4+LL2R+517lZwBw4cgN1ud3d1iIiIBoxbzgH83e9+h7vuuqvbMtHR0Th06BDKy8s7rKusrOzQw3eO0WgE0N4TGBYW5lxeUVHR5TY9xQsGrjznXxhEREQkFW4JgMHBwQgODr5ouZSUFJjNZuzZsweTJ08GAOzevRtmsxlTp07tdJuYmBgYjUakp6djwoQJAACbzYadO3fihRde6LuDICIiIhqkPPocwJEjR2Lu3Ll48MEHkZWVhaysLDz44IO48cYbXa4ATkhIwMaNGwG0D/0uWbIEq1atwsaNG3H48GHcf//98Pb2xj333OPcxmQyIScnB8ePHwcA5ObmIicnBzU1NQN7kEREREQDzKOngQGAjz76CA8//LDzqt758+dj7dq1LmUKCwthNpudzx999FE0Nzdj8eLFqK2tRXJyMrZt2wY/Pz9nmbfeegvPPPOM8/mMGTMAAO+//z7uv//+fjwiIiIiIveSCSGEuysxWFksFuj1epjNZuh0uj7bb5OtDYlPbwUA5D87B95qj8/pg5LdbscPP/wAAJg2bRoUCoWba0RERED/fw721+f3YOLRQ8BERERE1PfYtUSSplKp3F0FIiKiAccASJKlUCi6vJqciIjoSsYhYCIiIiKJYQAkIiIikhgOAZNk2e125ObmAgDGjBnDq4CJiEgyGABJ0s6fP5KIiEgqOARMREREJDEMgEREREQSwwBIREREJDEMgEREREQSwwBIREREJDG8CpgkTS7ndyAiIpIeBkCSLIVCgenTp7u7GkRERAOO3R9EREREEsMASERERCQxHAImyXI4HMjLywMAjBo1iucDEhGRZDAAkmQJIVBTU+P8mYiISCrY5UFEREQkMQyARERERBLDAEhEREQkMQyARERERBLDi0A8XJOtzd1VuGLZ7XZY29ov/miytUGh4IUgRESegJ99/Y8B0MNN+tM37q6CNKRvd3cNiIiIBgyHgD2Qt1qJU2tucHc1iIiI3OrUmhvgrWZfVX9gq3qw/GfnuLsKREREdAViAPRg/NZDRERE/YFDwEREREQSwwBIREREJDEMgEREREQSwwBIREREJDEMgEREREQSwwBIREREJDEMgEREREQSwwBIREREJDEMgEREREQSwwBIREREJDEMgEREREQSwwBIREREJDEMgEREREQSwwBIREREJDEMgEREREQSwwBIREREJDEMgEREREQSwwBIREREJDEMgEREREQSwwBIREREJDEMgEREREQSwwBIREREJDEMgEREREQS4/EBsLa2FgsXLoRer4der8fChQtRV1fX7TZCCKxcuRLh4eHw8vLCzJkzkZeX51xfU1OD//qv/0J8fDy8vb0xdOhQPPzwwzCbzf18NERERETu5/EB8J577kFOTg62bNmCLVu2ICcnBwsXLux2mxdffBEvv/wy1q5di71798JoNGL27Nmor68HAJSWlqK0tBQvvfQScnNz8cEHH2DLli341a9+NRCHRERERORWMiGEcHclulJQUIDExERkZWUhOTkZAJCVlYWUlBQcOXIE8fHxHbYRQiA8PBxLlizBY489BgCwWq0wGAx44YUX8NBDD3X6Wv/3f/+HX/ziF2hsbIRSqexR/SwWC/R6PcxmM3Q63SUeJREREQ0kfn57eA9gZmYm9Hq9M/wBwJQpU6DX65GRkdHpNkVFRTCZTEhLS3Mu02g0SE1N7XIbAM4/gp6GPyIiIqLByqPTjslkQmhoaIfloaGhMJlMXW4DAAaDwWW5wWDA6dOnO92muroazz33XJe9g+dYrVZYrVbnc4vF0m15IiIiIk/klh7AlStXQiaTdfvYt28fAEAmk3XYXgjR6fLzXbi+q20sFgtuuOEGJCYmYsWKFd3uc/Xq1c6LUfR6PSIjIy92qEREREQexy09gL/73e9w1113dVsmOjoahw4dQnl5eYd1lZWVHXr4zjEajQDaewLDwsKcyysqKjpsU19fj7lz58LX1xcbN26ESqXqtk7Lly/HsmXLnM8tFgtDIBEREQ06bgmAwcHBCA4Ovmi5lJQUmM1m7NmzB5MnTwYA7N69G2azGVOnTu10m5iYGBiNRqSnp2PChAkAAJvNhp07d+KFF15wlrNYLJgzZw40Gg2++OILaLXai9ZHo9FAo9H05BCJiIiIPJZHXwQycuRIzJ07Fw8++CCysrKQlZWFBx98EDfeeKPLFcAJCQnYuHEjgPah3yVLlmDVqlXYuHEjDh8+jPvvvx/e3t645557ALT3/KWlpaGxsRHr16+HxWKByWSCyWSC3W53y7ESERERDRSPvggEAD766CM8/PDDzqt658+fj7Vr17qUKSwsdJnE+dFHH0VzczMWL16M2tpaJCcnY9u2bfDz8wMA7N+/H7t37wYAxMXFueyrqKgI0dHR/XhERERERO7l0fMAejrOI0RERDT48PPbw4eAiYiIiKjvMQASERERSQwDIBEREZHEMAASERERSQwDIBEREZHEMAASERERSQwDIBEREZHEMAASERERSQwDIBEREZHEMAASERERSQwDIBEREZHEMAASERERSQwDIBEREZHEMAASERERSQwDIBEREZHEMAASERERSQwDIBEREZHEMAASERERSQwDIBEREZHEMAASERERSQwDIBEREZHEMAASERERSQwDIBEREZHEMAASERERSQwDIBEREZHEMAASERERSQwDIBEREZHEMAASERERSQwDIBEREZHEMAASERERSQwDIBEREZHEMAASERERSQwDIBEREZHEMAASERERSQwDIBEREZHEMAASERERSQwDIBEREZHEMAASERERSQwDIBEREZHEMAASERERSQwDIBEREZHEMAASERERSQwDIBEREZHEMAASERERSQwDIBEREZHEMAASERERSQwDIBEREZHEMAASERERSQwDIBEREZHEMAASERERSQwDIBEREZHEeHwArK2txcKFC6HX66HX67Fw4ULU1dV1u40QAitXrkR4eDi8vLwwc+ZM5OXluZR56KGHEBsbCy8vL4SEhODmm2/GkSNH+vFIiIiIiDyDxwfAe+65Bzk5OdiyZQu2bNmCnJwcLFy4sNttXnzxRbz88stYu3Yt9u7dC6PRiNmzZ6O+vt5ZJikpCe+//z4KCgqwdetWCCGQlpYGu93e34dERERE5FYyIYRwdyW6UlBQgMTERGRlZSE5ORkAkJWVhZSUFBw5cgTx8fEdthFCIDw8HEuWLMFjjz0GALBarTAYDHjhhRfw0EMPdfpahw4dwrhx43D8+HHExsb2qH4WiwV6vR5msxk6ne4Sj5KIiIgGEj+/AaW7K9CdzMxM6PV6Z/gDgClTpkCv1yMjI6PTAFhUVASTyYS0tDTnMo1Gg9TUVGRkZHQaABsbG/H+++8jJiYGkZGRXdbHarXCarU6n5vNZgDtf0hEREQ0OJz73PbgPrB+59EB0GQyITQ0tMPy0NBQmEymLrcBAIPB4LLcYDDg9OnTLsvWrVuHRx99FI2NjUhISEB6ejrUanWX9Vm9ejWeeeaZDsu7C41ERETkmerr66HX691dDbdwSwBcuXJlp0HqfHv37gUAyGSyDuuEEJ0uP9+F6zvb5t5778Xs2bNRVlaGl156CXfeeSd+/PFHaLXaTve5fPlyLFu2zPnc4XCgpqYGQUFBF61Pb1ksFkRGRqK4uFiy3dMDge08MNjOA4PtPDDYzgOjP9tZCIH6+nqEh4f36X4HE7cEwN/97ne46667ui0THR2NQ4cOoby8vMO6ysrKDj185xiNRgDtPYFhYWHO5RUVFR22OXdl8fDhwzFlyhQEBARg48aNuPvuuzvdt0ajgUajcVnm7+/f7XFcLp1Ox38wA4DtPDDYzgOD7Tww2M4Do7/aWao9f+e4JQAGBwcjODj4ouVSUlJgNpuxZ88eTJ48GQCwe/dumM1mTJ06tdNtYmJiYDQakZ6ejgkTJgAAbDYbdu7ciRdeeKHb1xNCuJzjR0RERHQl8uhpYEaOHIm5c+fiwQcfRFZWFrKysvDggw/ixhtvdLkAJCEhARs3bgTQPvS7ZMkSrFq1Chs3bsThw4dx//33w9vbG/fccw8A4OTJk1i9ejX279+PM2fOIDMzE3feeSe8vLwwb948txwrERER0UDx6ItAAOCjjz7Cww8/7Lyqd/78+Vi7dq1LmcLCQucVuQDw6KOPorm5GYsXL0ZtbS2Sk5Oxbds2+Pn5AQC0Wi127dqFV199FbW1tTAYDJgxYwYyMjI6vejEHTQaDVasWNFhyJn6Ftt5YLCdBwbbeWCwnQcG27l/efQ8gERERETU9zx6CJiIiIiI+h4DIBEREZHEMAASERERSQwDIBEREZHEMAC6SW1tLRYuXOicjHrhwoWoq6vrdhshBFauXInw8HB4eXlh5syZyMvLcynz9ttvY+bMmdDpdJDJZBfd55Vm3bp1iImJgVarRVJSEnbt2tVt+Z07dyIpKQlarRbDhg3DW2+91aHMhg0bkJiYCI1Gg8TEROeUQ1LW1+2cl5eH22+/HdHR0ZDJZHj11Vf7sfaDR1+38zvvvIPp06cjICAAAQEBmDVrFvbs2dOfhzBo9HVbf/bZZ5g0aRL8/f3h4+OD8ePH4+9//3t/HsKg0B//o8/55JNPIJPJcMstt/Rxra9Qgtxi7ty5YvTo0SIjI0NkZGSI0aNHixtvvLHbbdasWSP8/PzEhg0bRG5urliwYIEICwsTFovFWeaVV14Rq1evFqtXrxYARG1tbT8fief45JNPhEqlEu+8847Iz88XjzzyiPDx8RGnT5/utPzJkyeFt7e3eOSRR0R+fr545513hEqlEv/617+cZTIyMoRCoRCrVq0SBQUFYtWqVUKpVIqsrKyBOiyP0x/tvGfPHvGHP/xBfPzxx8JoNIpXXnllgI7Gc/VHO99zzz3ijTfeENnZ2aKgoEA88MADQq/Xi7Nnzw7UYXmk/mjr7777Tnz22WciPz9fHD9+XLz66qtCoVCILVu2DNRheZz+aOdzTp06JSIiIsT06dPFzTff3M9HcmVgAHSD/Px8AcAlRGRmZgoA4siRI51u43A4hNFoFGvWrHEua2lpEXq9Xrz11lsdyn/33XeSC4CTJ08WixYtclmWkJAgHn/88U7LP/rooyIhIcFl2UMPPSSmTJnifH7nnXeKuXPnupSZM2eOuOuuu/qo1oNPf7Tz+aKiohgARf+3sxBCtLW1CT8/P/Hhhx9efoUHsYFoayGEmDBhgnjqqacur7KDWH+1c1tbm7j66qvFu+++K+677z4GwB7iELAbZGZmQq/XIzk52blsypQp0Ov1yMjI6HSboqIimEwm54TYQPskmampqV1uIyU2mw379+93aR8ASEtL67J9MjMzO5SfM2cO9u3bh9bW1m7LSLXN+6udydVAtXNTUxNaW1sRGBjYNxUfhAairYUQ+Oabb1BYWIgZM2b0XeUHkf5s52effRYhISH41a9+1fcVv4IxALqByWTq9I4joaGhMJlMXW4DAAaDwWW5wWDochspqaqqgt1u71X7mEymTsu3tbWhqqqq2zJSbfP+amdyNVDt/PjjjyMiIgKzZs3qm4oPQv3Z1mazGb6+vlCr1bjhhhvw17/+FbNnz+77gxgE+qudf/zxR6xfvx7vvPNO/1T8CsYA2IdWrlwJmUzW7WPfvn0A2u9ZfCEhRKfLz3fh+p5sIyW9bZ/Oyl+4nG3eUX+0M3XUn+384osv4uOPP8Znn30GrVbbB7Ud3Pqjrf38/JCTk4O9e/fi+eefx7Jly7Bjx46+q/Qg1JftXF9fj1/84hd45513EBwc3PeVvcJ5/L2AB5Pf/e53uOuuu7otEx0djUOHDqG8vLzDusrKyg7fds4xGo0A2r8RhYWFOZdXVFR0uY2UBAcHQ6FQdPgm2V37GI3GTssrlUoEBQV1W0aqbd5f7Uyu+rudX3rpJaxatQrbt2/H2LFj+7byg0x/trVcLkdcXBwAYPz48SgoKMDq1asxc+bMvj2IQaA/2jkvLw+nTp3CTTfd5FzvcDgAAEqlEoWFhYiNje3jI7lysAewDwUHByMhIaHbh1arRUpKCsxms8v0C7t374bZbMbUqVM73XdMTAyMRiPS09Ody2w2G3bu3NnlNlKiVquRlJTk0j4AkJ6e3mX7pKSkdCi/bds2TJo0CSqVqtsyUm3z/mpnctWf7fznP/8Zzz33HLZs2YJJkyb1feUHmYH8mxZCwGq1Xn6lB6H+aOeEhATk5uYiJyfH+Zg/fz6uueYa5OTkIDIyst+O54rghgtPSLRPAzN27FiRmZkpMjMzxZgxYzpMAxMfHy8+++wz5/M1a9YIvV4vPvvsM5GbmyvuvvvuDtPAlJWViezsbPHOO+8IAOL7778X2dnZorq6esCOzV3OTTGwfv16kZ+fL5YsWSJ8fHzEqVOnhBBCPP7442LhwoXO8uemGFi6dKnIz88X69ev7zDFwI8//igUCoVYs2aNKCgoEGvWrOE0MP3QzlarVWRnZ4vs7GwRFhYm/vCHP4js7Gxx7NixAT8+T9Ef7fzCCy8ItVot/vWvf4mysjLno76+fsCPz5P0R1uvWrVKbNu2TZw4cUIUFBSIv/zlL0KpVIp33nlnwI/PU/RHO1+IVwH3HAOgm1RXV4t7771X+Pn5CT8/P3Hvvfd2mLIFgHj//fedzx0Oh1ixYoUwGo1Co9GIGTNmiNzcXJdtVqxYIQB0eJy/nyvZG2+8IaKiooRarRYTJ04UO3fudK677777RGpqqkv5HTt2iAkTJgi1Wi2io6PFm2++2WGf//d//yfi4+OFSqUSCQkJYsOGDf19GB6vr9u5qKio07/bC/cjNX3dzlFRUZ2284oVKwbgaDxbX7f1k08+KeLi4oRWqxUBAQEiJSVFfPLJJwNxKB6tP/5Hn48BsOdkQvx0RiURERERSQLPASQiIiKSGAZAIiIiIolhACQiIiKSGAZAIiIiIolhACQiIiKSGAZAIiIiIolhACQiIiKSGAZAIiIiIolhACQiIiKSGAZAIiIiIolhACQiIiKSGAZAIiIiIolhACQiIiKSGAZAIiIiIolhACQiIiKSGAZAIiIiIolhACQiIiKSGAZAIiIiIolhACQiIiKSGAZAIiIiIolhACQiIiKSGAZAIiIiIolhACQiIiKSGAZAIiIiIolhACQiIiKSGAZAIiIiIolhACQiIiKSGAZAIiIiIolhACQiIiKSGAZAIiIiIolhACQiIiKSmP8PC8cjvO0hHNYAAAAASUVORK5CYII=' width=640.0/>\n",
       "            </div>\n",
       "        "
      ],
      "text/plain": [
       "Canvas(toolbar=Toolbar(toolitems=[('Home', 'Reset original view', 'home', 'home'), ('Back', 'Back to previous …"
      ]
     },
     "metadata": {},
     "output_type": "display_data"
    },
    {
     "name": "stdout",
     "output_type": "stream",
     "text": [
      "Solving wavenumber in determinant for shape = sin, p = 0.003, q = 0.004, Young's = 140000000.0\n"
     ]
    },
    {
     "data": {
      "application/vnd.jupyter.widget-view+json": {
       "model_id": "67c64c3f0f0c458894fb2164811f24b2",
       "version_major": 2,
       "version_minor": 0
      },
      "text/plain": [
       "Solving for all frequencies:   0%|          | 0/101 [00:00<?, ?it/s]"
      ]
     },
     "metadata": {},
     "output_type": "display_data"
    },
    {
     "data": {
      "application/vnd.jupyter.widget-view+json": {
       "model_id": "",
       "version_major": 2,
       "version_minor": 0
      },
      "text/plain": [
       "  ... working at frequency = 2.0 Hz:   0%|          | 0/100 [00:00<?, ?it/s]"
      ]
     },
     "metadata": {},
     "output_type": "display_data"
    },
    {
     "data": {
      "application/vnd.jupyter.widget-view+json": {
       "model_id": "",
       "version_major": 2,
       "version_minor": 0
      },
      "text/plain": [
       "  ... working at frequency = 102.0 Hz:   0%|          | 0/100 [00:00<?, ?it/s]"
      ]
     },
     "metadata": {},
     "output_type": "display_data"
    },
    {
     "data": {
      "application/vnd.jupyter.widget-view+json": {
       "model_id": "",
       "version_major": 2,
       "version_minor": 0
      },
      "text/plain": [
       "  ... working at frequency = 202.0 Hz:   0%|          | 0/100 [00:00<?, ?it/s]"
      ]
     },
     "metadata": {},
     "output_type": "display_data"
    },
    {
     "data": {
      "application/vnd.jupyter.widget-view+json": {
       "model_id": "",
       "version_major": 2,
       "version_minor": 0
      },
      "text/plain": [
       "  ... working at frequency = 302.0 Hz:   0%|          | 0/100 [00:00<?, ?it/s]"
      ]
     },
     "metadata": {},
     "output_type": "display_data"
    },
    {
     "data": {
      "application/vnd.jupyter.widget-view+json": {
       "model_id": "",
       "version_major": 2,
       "version_minor": 0
      },
      "text/plain": [
       "  ... working at frequency = 402.0 Hz:   0%|          | 0/100 [00:00<?, ?it/s]"
      ]
     },
     "metadata": {},
     "output_type": "display_data"
    },
    {
     "data": {
      "application/vnd.jupyter.widget-view+json": {
       "model_id": "",
       "version_major": 2,
       "version_minor": 0
      },
      "text/plain": [
       "  ... working at frequency = 502.0 Hz:   0%|          | 0/100 [00:00<?, ?it/s]"
      ]
     },
     "metadata": {},
     "output_type": "display_data"
    },
    {
     "data": {
      "application/vnd.jupyter.widget-view+json": {
       "model_id": "",
       "version_major": 2,
       "version_minor": 0
      },
      "text/plain": [
       "  ... working at frequency = 602.0 Hz:   0%|          | 0/100 [00:00<?, ?it/s]"
      ]
     },
     "metadata": {},
     "output_type": "display_data"
    },
    {
     "data": {
      "application/vnd.jupyter.widget-view+json": {
       "model_id": "",
       "version_major": 2,
       "version_minor": 0
      },
      "text/plain": [
       "  ... working at frequency = 702.0 Hz:   0%|          | 0/100 [00:00<?, ?it/s]"
      ]
     },
     "metadata": {},
     "output_type": "display_data"
    },
    {
     "data": {
      "application/vnd.jupyter.widget-view+json": {
       "model_id": "",
       "version_major": 2,
       "version_minor": 0
      },
      "text/plain": [
       "  ... working at frequency = 802.0 Hz:   0%|          | 0/100 [00:00<?, ?it/s]"
      ]
     },
     "metadata": {},
     "output_type": "display_data"
    },
    {
     "data": {
      "application/vnd.jupyter.widget-view+json": {
       "model_id": "",
       "version_major": 2,
       "version_minor": 0
      },
      "text/plain": [
       "  ... working at frequency = 902.0 Hz:   0%|          | 0/100 [00:00<?, ?it/s]"
      ]
     },
     "metadata": {},
     "output_type": "display_data"
    },
    {
     "data": {
      "application/vnd.jupyter.widget-view+json": {
       "model_id": "",
       "version_major": 2,
       "version_minor": 0
      },
      "text/plain": [
       "  ... working at frequency = 1002.0 Hz:   0%|          | 0/100 [00:00<?, ?it/s]"
      ]
     },
     "metadata": {},
     "output_type": "display_data"
    },
    {
     "data": {
      "application/vnd.jupyter.widget-view+json": {
       "model_id": "",
       "version_major": 2,
       "version_minor": 0
      },
      "text/plain": [
       "  ... working at frequency = 1102.0 Hz:   0%|          | 0/100 [00:00<?, ?it/s]"
      ]
     },
     "metadata": {},
     "output_type": "display_data"
    },
    {
     "data": {
      "application/vnd.jupyter.widget-view+json": {
       "model_id": "",
       "version_major": 2,
       "version_minor": 0
      },
      "text/plain": [
       "  ... working at frequency = 1202.0 Hz:   0%|          | 0/100 [00:00<?, ?it/s]"
      ]
     },
     "metadata": {},
     "output_type": "display_data"
    },
    {
     "data": {
      "application/vnd.jupyter.widget-view+json": {
       "model_id": "",
       "version_major": 2,
       "version_minor": 0
      },
      "text/plain": [
       "  ... working at frequency = 1302.0 Hz:   0%|          | 0/100 [00:00<?, ?it/s]"
      ]
     },
     "metadata": {},
     "output_type": "display_data"
    },
    {
     "data": {
      "application/vnd.jupyter.widget-view+json": {
       "model_id": "",
       "version_major": 2,
       "version_minor": 0
      },
      "text/plain": [
       "  ... working at frequency = 1402.0 Hz:   0%|          | 0/100 [00:00<?, ?it/s]"
      ]
     },
     "metadata": {},
     "output_type": "display_data"
    },
    {
     "data": {
      "application/vnd.jupyter.widget-view+json": {
       "model_id": "",
       "version_major": 2,
       "version_minor": 0
      },
      "text/plain": [
       "  ... working at frequency = 1502.0 Hz:   0%|          | 0/100 [00:00<?, ?it/s]"
      ]
     },
     "metadata": {},
     "output_type": "display_data"
    },
    {
     "data": {
      "application/vnd.jupyter.widget-view+json": {
       "model_id": "",
       "version_major": 2,
       "version_minor": 0
      },
      "text/plain": [
       "  ... working at frequency = 1602.0 Hz:   0%|          | 0/100 [00:00<?, ?it/s]"
      ]
     },
     "metadata": {},
     "output_type": "display_data"
    },
    {
     "data": {
      "application/vnd.jupyter.widget-view+json": {
       "model_id": "",
       "version_major": 2,
       "version_minor": 0
      },
      "text/plain": [
       "  ... working at frequency = 1702.0 Hz:   0%|          | 0/100 [00:00<?, ?it/s]"
      ]
     },
     "metadata": {},
     "output_type": "display_data"
    },
    {
     "data": {
      "application/vnd.jupyter.widget-view+json": {
       "model_id": "",
       "version_major": 2,
       "version_minor": 0
      },
      "text/plain": [
       "  ... working at frequency = 1802.0 Hz:   0%|          | 0/100 [00:00<?, ?it/s]"
      ]
     },
     "metadata": {},
     "output_type": "display_data"
    },
    {
     "data": {
      "application/vnd.jupyter.widget-view+json": {
       "model_id": "",
       "version_major": 2,
       "version_minor": 0
      },
      "text/plain": [
       "  ... working at frequency = 1902.0 Hz:   0%|          | 0/100 [00:00<?, ?it/s]"
      ]
     },
     "metadata": {},
     "output_type": "display_data"
    },
    {
     "data": {
      "application/vnd.jupyter.widget-view+json": {
       "model_id": "",
       "version_major": 2,
       "version_minor": 0
      },
      "text/plain": [
       "  ... working at frequency = 2002.0 Hz:   0%|          | 0/100 [00:00<?, ?it/s]"
      ]
     },
     "metadata": {},
     "output_type": "display_data"
    },
    {
     "data": {
      "application/vnd.jupyter.widget-view+json": {
       "model_id": "",
       "version_major": 2,
       "version_minor": 0
      },
      "text/plain": [
       "  ... working at frequency = 2102.0 Hz:   0%|          | 0/100 [00:00<?, ?it/s]"
      ]
     },
     "metadata": {},
     "output_type": "display_data"
    },
    {
     "data": {
      "application/vnd.jupyter.widget-view+json": {
       "model_id": "",
       "version_major": 2,
       "version_minor": 0
      },
      "text/plain": [
       "  ... working at frequency = 2202.0 Hz:   0%|          | 0/100 [00:00<?, ?it/s]"
      ]
     },
     "metadata": {},
     "output_type": "display_data"
    },
    {
     "data": {
      "application/vnd.jupyter.widget-view+json": {
       "model_id": "",
       "version_major": 2,
       "version_minor": 0
      },
      "text/plain": [
       "  ... working at frequency = 2302.0 Hz:   0%|          | 0/100 [00:00<?, ?it/s]"
      ]
     },
     "metadata": {},
     "output_type": "display_data"
    },
    {
     "data": {
      "application/vnd.jupyter.widget-view+json": {
       "model_id": "",
       "version_major": 2,
       "version_minor": 0
      },
      "text/plain": [
       "  ... working at frequency = 2402.0 Hz:   0%|          | 0/100 [00:00<?, ?it/s]"
      ]
     },
     "metadata": {},
     "output_type": "display_data"
    },
    {
     "data": {
      "application/vnd.jupyter.widget-view+json": {
       "model_id": "",
       "version_major": 2,
       "version_minor": 0
      },
      "text/plain": [
       "  ... working at frequency = 2502.0 Hz:   0%|          | 0/100 [00:00<?, ?it/s]"
      ]
     },
     "metadata": {},
     "output_type": "display_data"
    },
    {
     "data": {
      "application/vnd.jupyter.widget-view+json": {
       "model_id": "",
       "version_major": 2,
       "version_minor": 0
      },
      "text/plain": [
       "  ... working at frequency = 2602.0 Hz:   0%|          | 0/100 [00:00<?, ?it/s]"
      ]
     },
     "metadata": {},
     "output_type": "display_data"
    },
    {
     "data": {
      "application/vnd.jupyter.widget-view+json": {
       "model_id": "",
       "version_major": 2,
       "version_minor": 0
      },
      "text/plain": [
       "  ... working at frequency = 2702.0 Hz:   0%|          | 0/100 [00:00<?, ?it/s]"
      ]
     },
     "metadata": {},
     "output_type": "display_data"
    },
    {
     "data": {
      "application/vnd.jupyter.widget-view+json": {
       "model_id": "",
       "version_major": 2,
       "version_minor": 0
      },
      "text/plain": [
       "  ... working at frequency = 2802.0 Hz:   0%|          | 0/100 [00:00<?, ?it/s]"
      ]
     },
     "metadata": {},
     "output_type": "display_data"
    },
    {
     "data": {
      "application/vnd.jupyter.widget-view+json": {
       "model_id": "",
       "version_major": 2,
       "version_minor": 0
      },
      "text/plain": [
       "  ... working at frequency = 2902.0 Hz:   0%|          | 0/100 [00:00<?, ?it/s]"
      ]
     },
     "metadata": {},
     "output_type": "display_data"
    },
    {
     "data": {
      "application/vnd.jupyter.widget-view+json": {
       "model_id": "",
       "version_major": 2,
       "version_minor": 0
      },
      "text/plain": [
       "  ... working at frequency = 3002.0 Hz:   0%|          | 0/100 [00:00<?, ?it/s]"
      ]
     },
     "metadata": {},
     "output_type": "display_data"
    },
    {
     "data": {
      "application/vnd.jupyter.widget-view+json": {
       "model_id": "",
       "version_major": 2,
       "version_minor": 0
      },
      "text/plain": [
       "  ... working at frequency = 3102.0 Hz:   0%|          | 0/100 [00:00<?, ?it/s]"
      ]
     },
     "metadata": {},
     "output_type": "display_data"
    },
    {
     "data": {
      "application/vnd.jupyter.widget-view+json": {
       "model_id": "",
       "version_major": 2,
       "version_minor": 0
      },
      "text/plain": [
       "  ... working at frequency = 3202.0 Hz:   0%|          | 0/100 [00:00<?, ?it/s]"
      ]
     },
     "metadata": {},
     "output_type": "display_data"
    },
    {
     "data": {
      "application/vnd.jupyter.widget-view+json": {
       "model_id": "",
       "version_major": 2,
       "version_minor": 0
      },
      "text/plain": [
       "  ... working at frequency = 3302.0 Hz:   0%|          | 0/100 [00:00<?, ?it/s]"
      ]
     },
     "metadata": {},
     "output_type": "display_data"
    },
    {
     "data": {
      "application/vnd.jupyter.widget-view+json": {
       "model_id": "",
       "version_major": 2,
       "version_minor": 0
      },
      "text/plain": [
       "  ... working at frequency = 3402.0 Hz:   0%|          | 0/100 [00:00<?, ?it/s]"
      ]
     },
     "metadata": {},
     "output_type": "display_data"
    },
    {
     "data": {
      "application/vnd.jupyter.widget-view+json": {
       "model_id": "",
       "version_major": 2,
       "version_minor": 0
      },
      "text/plain": [
       "  ... working at frequency = 3502.0 Hz:   0%|          | 0/100 [00:00<?, ?it/s]"
      ]
     },
     "metadata": {},
     "output_type": "display_data"
    },
    {
     "data": {
      "application/vnd.jupyter.widget-view+json": {
       "model_id": "",
       "version_major": 2,
       "version_minor": 0
      },
      "text/plain": [
       "  ... working at frequency = 3602.0 Hz:   0%|          | 0/100 [00:00<?, ?it/s]"
      ]
     },
     "metadata": {},
     "output_type": "display_data"
    },
    {
     "data": {
      "application/vnd.jupyter.widget-view+json": {
       "model_id": "",
       "version_major": 2,
       "version_minor": 0
      },
      "text/plain": [
       "  ... working at frequency = 3702.0 Hz:   0%|          | 0/100 [00:00<?, ?it/s]"
      ]
     },
     "metadata": {},
     "output_type": "display_data"
    },
    {
     "data": {
      "application/vnd.jupyter.widget-view+json": {
       "model_id": "",
       "version_major": 2,
       "version_minor": 0
      },
      "text/plain": [
       "  ... working at frequency = 3802.0 Hz:   0%|          | 0/100 [00:00<?, ?it/s]"
      ]
     },
     "metadata": {},
     "output_type": "display_data"
    },
    {
     "data": {
      "application/vnd.jupyter.widget-view+json": {
       "model_id": "",
       "version_major": 2,
       "version_minor": 0
      },
      "text/plain": [
       "  ... working at frequency = 3902.0 Hz:   0%|          | 0/100 [00:00<?, ?it/s]"
      ]
     },
     "metadata": {},
     "output_type": "display_data"
    },
    {
     "data": {
      "application/vnd.jupyter.widget-view+json": {
       "model_id": "",
       "version_major": 2,
       "version_minor": 0
      },
      "text/plain": [
       "  ... working at frequency = 4002.0 Hz:   0%|          | 0/100 [00:00<?, ?it/s]"
      ]
     },
     "metadata": {},
     "output_type": "display_data"
    },
    {
     "data": {
      "application/vnd.jupyter.widget-view+json": {
       "model_id": "",
       "version_major": 2,
       "version_minor": 0
      },
      "text/plain": [
       "  ... working at frequency = 4102.0 Hz:   0%|          | 0/100 [00:00<?, ?it/s]"
      ]
     },
     "metadata": {},
     "output_type": "display_data"
    },
    {
     "data": {
      "application/vnd.jupyter.widget-view+json": {
       "model_id": "",
       "version_major": 2,
       "version_minor": 0
      },
      "text/plain": [
       "  ... working at frequency = 4202.0 Hz:   0%|          | 0/100 [00:00<?, ?it/s]"
      ]
     },
     "metadata": {},
     "output_type": "display_data"
    },
    {
     "data": {
      "application/vnd.jupyter.widget-view+json": {
       "model_id": "",
       "version_major": 2,
       "version_minor": 0
      },
      "text/plain": [
       "  ... working at frequency = 4302.0 Hz:   0%|          | 0/100 [00:00<?, ?it/s]"
      ]
     },
     "metadata": {},
     "output_type": "display_data"
    },
    {
     "data": {
      "application/vnd.jupyter.widget-view+json": {
       "model_id": "",
       "version_major": 2,
       "version_minor": 0
      },
      "text/plain": [
       "  ... working at frequency = 4402.0 Hz:   0%|          | 0/100 [00:00<?, ?it/s]"
      ]
     },
     "metadata": {},
     "output_type": "display_data"
    },
    {
     "data": {
      "application/vnd.jupyter.widget-view+json": {
       "model_id": "",
       "version_major": 2,
       "version_minor": 0
      },
      "text/plain": [
       "  ... working at frequency = 4502.0 Hz:   0%|          | 0/100 [00:00<?, ?it/s]"
      ]
     },
     "metadata": {},
     "output_type": "display_data"
    },
    {
     "data": {
      "application/vnd.jupyter.widget-view+json": {
       "model_id": "",
       "version_major": 2,
       "version_minor": 0
      },
      "text/plain": [
       "  ... working at frequency = 4602.0 Hz:   0%|          | 0/100 [00:00<?, ?it/s]"
      ]
     },
     "metadata": {},
     "output_type": "display_data"
    },
    {
     "data": {
      "application/vnd.jupyter.widget-view+json": {
       "model_id": "",
       "version_major": 2,
       "version_minor": 0
      },
      "text/plain": [
       "  ... working at frequency = 4702.0 Hz:   0%|          | 0/100 [00:00<?, ?it/s]"
      ]
     },
     "metadata": {},
     "output_type": "display_data"
    },
    {
     "data": {
      "application/vnd.jupyter.widget-view+json": {
       "model_id": "",
       "version_major": 2,
       "version_minor": 0
      },
      "text/plain": [
       "  ... working at frequency = 4802.0 Hz:   0%|          | 0/100 [00:00<?, ?it/s]"
      ]
     },
     "metadata": {},
     "output_type": "display_data"
    },
    {
     "data": {
      "application/vnd.jupyter.widget-view+json": {
       "model_id": "",
       "version_major": 2,
       "version_minor": 0
      },
      "text/plain": [
       "  ... working at frequency = 4902.0 Hz:   0%|          | 0/100 [00:00<?, ?it/s]"
      ]
     },
     "metadata": {},
     "output_type": "display_data"
    },
    {
     "data": {
      "application/vnd.jupyter.widget-view+json": {
       "model_id": "",
       "version_major": 2,
       "version_minor": 0
      },
      "text/plain": [
       "  ... working at frequency = 5002.0 Hz:   0%|          | 0/100 [00:00<?, ?it/s]"
      ]
     },
     "metadata": {},
     "output_type": "display_data"
    },
    {
     "data": {
      "application/vnd.jupyter.widget-view+json": {
       "model_id": "",
       "version_major": 2,
       "version_minor": 0
      },
      "text/plain": [
       "  ... working at frequency = 5102.0 Hz:   0%|          | 0/100 [00:00<?, ?it/s]"
      ]
     },
     "metadata": {},
     "output_type": "display_data"
    },
    {
     "data": {
      "application/vnd.jupyter.widget-view+json": {
       "model_id": "",
       "version_major": 2,
       "version_minor": 0
      },
      "text/plain": [
       "  ... working at frequency = 5202.0 Hz:   0%|          | 0/100 [00:00<?, ?it/s]"
      ]
     },
     "metadata": {},
     "output_type": "display_data"
    },
    {
     "data": {
      "application/vnd.jupyter.widget-view+json": {
       "model_id": "",
       "version_major": 2,
       "version_minor": 0
      },
      "text/plain": [
       "  ... working at frequency = 5302.0 Hz:   0%|          | 0/100 [00:00<?, ?it/s]"
      ]
     },
     "metadata": {},
     "output_type": "display_data"
    },
    {
     "data": {
      "application/vnd.jupyter.widget-view+json": {
       "model_id": "",
       "version_major": 2,
       "version_minor": 0
      },
      "text/plain": [
       "  ... working at frequency = 5402.0 Hz:   0%|          | 0/100 [00:00<?, ?it/s]"
      ]
     },
     "metadata": {},
     "output_type": "display_data"
    },
    {
     "data": {
      "application/vnd.jupyter.widget-view+json": {
       "model_id": "",
       "version_major": 2,
       "version_minor": 0
      },
      "text/plain": [
       "  ... working at frequency = 5502.0 Hz:   0%|          | 0/100 [00:00<?, ?it/s]"
      ]
     },
     "metadata": {},
     "output_type": "display_data"
    },
    {
     "data": {
      "application/vnd.jupyter.widget-view+json": {
       "model_id": "",
       "version_major": 2,
       "version_minor": 0
      },
      "text/plain": [
       "  ... working at frequency = 5602.0 Hz:   0%|          | 0/100 [00:00<?, ?it/s]"
      ]
     },
     "metadata": {},
     "output_type": "display_data"
    },
    {
     "data": {
      "application/vnd.jupyter.widget-view+json": {
       "model_id": "",
       "version_major": 2,
       "version_minor": 0
      },
      "text/plain": [
       "  ... working at frequency = 5702.0 Hz:   0%|          | 0/100 [00:00<?, ?it/s]"
      ]
     },
     "metadata": {},
     "output_type": "display_data"
    },
    {
     "data": {
      "application/vnd.jupyter.widget-view+json": {
       "model_id": "",
       "version_major": 2,
       "version_minor": 0
      },
      "text/plain": [
       "  ... working at frequency = 5802.0 Hz:   0%|          | 0/100 [00:00<?, ?it/s]"
      ]
     },
     "metadata": {},
     "output_type": "display_data"
    },
    {
     "data": {
      "application/vnd.jupyter.widget-view+json": {
       "model_id": "",
       "version_major": 2,
       "version_minor": 0
      },
      "text/plain": [
       "  ... working at frequency = 5902.0 Hz:   0%|          | 0/100 [00:00<?, ?it/s]"
      ]
     },
     "metadata": {},
     "output_type": "display_data"
    },
    {
     "data": {
      "application/vnd.jupyter.widget-view+json": {
       "model_id": "",
       "version_major": 2,
       "version_minor": 0
      },
      "text/plain": [
       "  ... working at frequency = 6002.0 Hz:   0%|          | 0/100 [00:00<?, ?it/s]"
      ]
     },
     "metadata": {},
     "output_type": "display_data"
    },
    {
     "data": {
      "application/vnd.jupyter.widget-view+json": {
       "model_id": "",
       "version_major": 2,
       "version_minor": 0
      },
      "text/plain": [
       "  ... working at frequency = 6102.0 Hz:   0%|          | 0/100 [00:00<?, ?it/s]"
      ]
     },
     "metadata": {},
     "output_type": "display_data"
    },
    {
     "data": {
      "application/vnd.jupyter.widget-view+json": {
       "model_id": "",
       "version_major": 2,
       "version_minor": 0
      },
      "text/plain": [
       "  ... working at frequency = 6202.0 Hz:   0%|          | 0/100 [00:00<?, ?it/s]"
      ]
     },
     "metadata": {},
     "output_type": "display_data"
    },
    {
     "data": {
      "application/vnd.jupyter.widget-view+json": {
       "model_id": "",
       "version_major": 2,
       "version_minor": 0
      },
      "text/plain": [
       "  ... working at frequency = 6302.0 Hz:   0%|          | 0/100 [00:00<?, ?it/s]"
      ]
     },
     "metadata": {},
     "output_type": "display_data"
    },
    {
     "data": {
      "application/vnd.jupyter.widget-view+json": {
       "model_id": "",
       "version_major": 2,
       "version_minor": 0
      },
      "text/plain": [
       "  ... working at frequency = 6402.0 Hz:   0%|          | 0/100 [00:00<?, ?it/s]"
      ]
     },
     "metadata": {},
     "output_type": "display_data"
    },
    {
     "data": {
      "application/vnd.jupyter.widget-view+json": {
       "model_id": "",
       "version_major": 2,
       "version_minor": 0
      },
      "text/plain": [
       "  ... working at frequency = 6502.0 Hz:   0%|          | 0/100 [00:00<?, ?it/s]"
      ]
     },
     "metadata": {},
     "output_type": "display_data"
    },
    {
     "data": {
      "application/vnd.jupyter.widget-view+json": {
       "model_id": "",
       "version_major": 2,
       "version_minor": 0
      },
      "text/plain": [
       "  ... working at frequency = 6602.0 Hz:   0%|          | 0/100 [00:00<?, ?it/s]"
      ]
     },
     "metadata": {},
     "output_type": "display_data"
    },
    {
     "data": {
      "application/vnd.jupyter.widget-view+json": {
       "model_id": "",
       "version_major": 2,
       "version_minor": 0
      },
      "text/plain": [
       "  ... working at frequency = 6702.0 Hz:   0%|          | 0/100 [00:00<?, ?it/s]"
      ]
     },
     "metadata": {},
     "output_type": "display_data"
    },
    {
     "data": {
      "application/vnd.jupyter.widget-view+json": {
       "model_id": "",
       "version_major": 2,
       "version_minor": 0
      },
      "text/plain": [
       "  ... working at frequency = 6802.0 Hz:   0%|          | 0/100 [00:00<?, ?it/s]"
      ]
     },
     "metadata": {},
     "output_type": "display_data"
    },
    {
     "data": {
      "application/vnd.jupyter.widget-view+json": {
       "model_id": "",
       "version_major": 2,
       "version_minor": 0
      },
      "text/plain": [
       "  ... working at frequency = 6902.0 Hz:   0%|          | 0/100 [00:00<?, ?it/s]"
      ]
     },
     "metadata": {},
     "output_type": "display_data"
    },
    {
     "data": {
      "application/vnd.jupyter.widget-view+json": {
       "model_id": "",
       "version_major": 2,
       "version_minor": 0
      },
      "text/plain": [
       "  ... working at frequency = 7002.0 Hz:   0%|          | 0/100 [00:00<?, ?it/s]"
      ]
     },
     "metadata": {},
     "output_type": "display_data"
    },
    {
     "data": {
      "application/vnd.jupyter.widget-view+json": {
       "model_id": "",
       "version_major": 2,
       "version_minor": 0
      },
      "text/plain": [
       "  ... working at frequency = 7102.0 Hz:   0%|          | 0/100 [00:00<?, ?it/s]"
      ]
     },
     "metadata": {},
     "output_type": "display_data"
    },
    {
     "data": {
      "application/vnd.jupyter.widget-view+json": {
       "model_id": "",
       "version_major": 2,
       "version_minor": 0
      },
      "text/plain": [
       "  ... working at frequency = 7202.0 Hz:   0%|          | 0/100 [00:00<?, ?it/s]"
      ]
     },
     "metadata": {},
     "output_type": "display_data"
    },
    {
     "data": {
      "application/vnd.jupyter.widget-view+json": {
       "model_id": "",
       "version_major": 2,
       "version_minor": 0
      },
      "text/plain": [
       "  ... working at frequency = 7302.0 Hz:   0%|          | 0/100 [00:00<?, ?it/s]"
      ]
     },
     "metadata": {},
     "output_type": "display_data"
    },
    {
     "data": {
      "application/vnd.jupyter.widget-view+json": {
       "model_id": "",
       "version_major": 2,
       "version_minor": 0
      },
      "text/plain": [
       "  ... working at frequency = 7402.0 Hz:   0%|          | 0/100 [00:00<?, ?it/s]"
      ]
     },
     "metadata": {},
     "output_type": "display_data"
    },
    {
     "data": {
      "application/vnd.jupyter.widget-view+json": {
       "model_id": "",
       "version_major": 2,
       "version_minor": 0
      },
      "text/plain": [
       "  ... working at frequency = 7502.0 Hz:   0%|          | 0/100 [00:00<?, ?it/s]"
      ]
     },
     "metadata": {},
     "output_type": "display_data"
    },
    {
     "data": {
      "application/vnd.jupyter.widget-view+json": {
       "model_id": "",
       "version_major": 2,
       "version_minor": 0
      },
      "text/plain": [
       "  ... working at frequency = 7602.0 Hz:   0%|          | 0/100 [00:00<?, ?it/s]"
      ]
     },
     "metadata": {},
     "output_type": "display_data"
    },
    {
     "data": {
      "application/vnd.jupyter.widget-view+json": {
       "model_id": "",
       "version_major": 2,
       "version_minor": 0
      },
      "text/plain": [
       "  ... working at frequency = 7702.0 Hz:   0%|          | 0/100 [00:00<?, ?it/s]"
      ]
     },
     "metadata": {},
     "output_type": "display_data"
    },
    {
     "data": {
      "application/vnd.jupyter.widget-view+json": {
       "model_id": "",
       "version_major": 2,
       "version_minor": 0
      },
      "text/plain": [
       "  ... working at frequency = 7802.0 Hz:   0%|          | 0/100 [00:00<?, ?it/s]"
      ]
     },
     "metadata": {},
     "output_type": "display_data"
    },
    {
     "data": {
      "application/vnd.jupyter.widget-view+json": {
       "model_id": "",
       "version_major": 2,
       "version_minor": 0
      },
      "text/plain": [
       "  ... working at frequency = 7902.0 Hz:   0%|          | 0/100 [00:00<?, ?it/s]"
      ]
     },
     "metadata": {},
     "output_type": "display_data"
    },
    {
     "data": {
      "application/vnd.jupyter.widget-view+json": {
       "model_id": "",
       "version_major": 2,
       "version_minor": 0
      },
      "text/plain": [
       "  ... working at frequency = 8002.0 Hz:   0%|          | 0/100 [00:00<?, ?it/s]"
      ]
     },
     "metadata": {},
     "output_type": "display_data"
    },
    {
     "data": {
      "application/vnd.jupyter.widget-view+json": {
       "model_id": "",
       "version_major": 2,
       "version_minor": 0
      },
      "text/plain": [
       "  ... working at frequency = 8102.0 Hz:   0%|          | 0/100 [00:00<?, ?it/s]"
      ]
     },
     "metadata": {},
     "output_type": "display_data"
    },
    {
     "data": {
      "application/vnd.jupyter.widget-view+json": {
       "model_id": "",
       "version_major": 2,
       "version_minor": 0
      },
      "text/plain": [
       "  ... working at frequency = 8202.0 Hz:   0%|          | 0/100 [00:00<?, ?it/s]"
      ]
     },
     "metadata": {},
     "output_type": "display_data"
    },
    {
     "data": {
      "application/vnd.jupyter.widget-view+json": {
       "model_id": "",
       "version_major": 2,
       "version_minor": 0
      },
      "text/plain": [
       "  ... working at frequency = 8302.0 Hz:   0%|          | 0/100 [00:00<?, ?it/s]"
      ]
     },
     "metadata": {},
     "output_type": "display_data"
    },
    {
     "data": {
      "application/vnd.jupyter.widget-view+json": {
       "model_id": "",
       "version_major": 2,
       "version_minor": 0
      },
      "text/plain": [
       "  ... working at frequency = 8402.0 Hz:   0%|          | 0/100 [00:00<?, ?it/s]"
      ]
     },
     "metadata": {},
     "output_type": "display_data"
    },
    {
     "data": {
      "application/vnd.jupyter.widget-view+json": {
       "model_id": "",
       "version_major": 2,
       "version_minor": 0
      },
      "text/plain": [
       "  ... working at frequency = 8502.0 Hz:   0%|          | 0/100 [00:00<?, ?it/s]"
      ]
     },
     "metadata": {},
     "output_type": "display_data"
    },
    {
     "data": {
      "application/vnd.jupyter.widget-view+json": {
       "model_id": "",
       "version_major": 2,
       "version_minor": 0
      },
      "text/plain": [
       "  ... working at frequency = 8602.0 Hz:   0%|          | 0/100 [00:00<?, ?it/s]"
      ]
     },
     "metadata": {},
     "output_type": "display_data"
    },
    {
     "data": {
      "application/vnd.jupyter.widget-view+json": {
       "model_id": "",
       "version_major": 2,
       "version_minor": 0
      },
      "text/plain": [
       "  ... working at frequency = 8702.0 Hz:   0%|          | 0/100 [00:00<?, ?it/s]"
      ]
     },
     "metadata": {},
     "output_type": "display_data"
    },
    {
     "data": {
      "application/vnd.jupyter.widget-view+json": {
       "model_id": "",
       "version_major": 2,
       "version_minor": 0
      },
      "text/plain": [
       "  ... working at frequency = 8802.0 Hz:   0%|          | 0/100 [00:00<?, ?it/s]"
      ]
     },
     "metadata": {},
     "output_type": "display_data"
    },
    {
     "data": {
      "application/vnd.jupyter.widget-view+json": {
       "model_id": "",
       "version_major": 2,
       "version_minor": 0
      },
      "text/plain": [
       "  ... working at frequency = 8902.0 Hz:   0%|          | 0/100 [00:00<?, ?it/s]"
      ]
     },
     "metadata": {},
     "output_type": "display_data"
    },
    {
     "data": {
      "application/vnd.jupyter.widget-view+json": {
       "model_id": "",
       "version_major": 2,
       "version_minor": 0
      },
      "text/plain": [
       "  ... working at frequency = 9002.0 Hz:   0%|          | 0/100 [00:00<?, ?it/s]"
      ]
     },
     "metadata": {},
     "output_type": "display_data"
    },
    {
     "data": {
      "application/vnd.jupyter.widget-view+json": {
       "model_id": "",
       "version_major": 2,
       "version_minor": 0
      },
      "text/plain": [
       "  ... working at frequency = 9102.0 Hz:   0%|          | 0/100 [00:00<?, ?it/s]"
      ]
     },
     "metadata": {},
     "output_type": "display_data"
    },
    {
     "data": {
      "application/vnd.jupyter.widget-view+json": {
       "model_id": "",
       "version_major": 2,
       "version_minor": 0
      },
      "text/plain": [
       "  ... working at frequency = 9202.0 Hz:   0%|          | 0/100 [00:00<?, ?it/s]"
      ]
     },
     "metadata": {},
     "output_type": "display_data"
    },
    {
     "data": {
      "application/vnd.jupyter.widget-view+json": {
       "model_id": "",
       "version_major": 2,
       "version_minor": 0
      },
      "text/plain": [
       "  ... working at frequency = 9302.0 Hz:   0%|          | 0/100 [00:00<?, ?it/s]"
      ]
     },
     "metadata": {},
     "output_type": "display_data"
    },
    {
     "data": {
      "application/vnd.jupyter.widget-view+json": {
       "model_id": "",
       "version_major": 2,
       "version_minor": 0
      },
      "text/plain": [
       "  ... working at frequency = 9402.0 Hz:   0%|          | 0/100 [00:00<?, ?it/s]"
      ]
     },
     "metadata": {},
     "output_type": "display_data"
    },
    {
     "data": {
      "application/vnd.jupyter.widget-view+json": {
       "model_id": "",
       "version_major": 2,
       "version_minor": 0
      },
      "text/plain": [
       "  ... working at frequency = 9502.0 Hz:   0%|          | 0/100 [00:00<?, ?it/s]"
      ]
     },
     "metadata": {},
     "output_type": "display_data"
    },
    {
     "data": {
      "application/vnd.jupyter.widget-view+json": {
       "model_id": "",
       "version_major": 2,
       "version_minor": 0
      },
      "text/plain": [
       "  ... working at frequency = 9602.0 Hz:   0%|          | 0/100 [00:00<?, ?it/s]"
      ]
     },
     "metadata": {},
     "output_type": "display_data"
    },
    {
     "data": {
      "application/vnd.jupyter.widget-view+json": {
       "model_id": "",
       "version_major": 2,
       "version_minor": 0
      },
      "text/plain": [
       "  ... working at frequency = 9702.0 Hz:   0%|          | 0/100 [00:00<?, ?it/s]"
      ]
     },
     "metadata": {},
     "output_type": "display_data"
    },
    {
     "data": {
      "application/vnd.jupyter.widget-view+json": {
       "model_id": "",
       "version_major": 2,
       "version_minor": 0
      },
      "text/plain": [
       "  ... working at frequency = 9802.0 Hz:   0%|          | 0/100 [00:00<?, ?it/s]"
      ]
     },
     "metadata": {},
     "output_type": "display_data"
    },
    {
     "data": {
      "application/vnd.jupyter.widget-view+json": {
       "model_id": "",
       "version_major": 2,
       "version_minor": 0
      },
      "text/plain": [
       "  ... working at frequency = 9902.0 Hz:   0%|          | 0/100 [00:00<?, ?it/s]"
      ]
     },
     "metadata": {},
     "output_type": "display_data"
    },
    {
     "data": {
      "application/vnd.jupyter.widget-view+json": {
       "model_id": "165d7d8a7d0043198350f93c8a1dfdb9",
       "version_major": 2,
       "version_minor": 0
      },
      "text/plain": [
       "  ... working at frequency = 10002.0 Hz:   0%|          | 0/100 [00:00<?, ?it/s]"
      ]
     },
     "metadata": {},
     "output_type": "display_data"
    },
    {
     "name": "stdout",
     "output_type": "stream",
     "text": [
      "\n",
      "\n",
      "self.frequency_array.shape[0] = 101 is same as self.wavenumer_array.shape[0] = 101\n",
      "Save file to /Users/chenghunglin/Documents/sin_3_4_05_rad.xlsx\n"
     ]
    }
   ],
   "source": [
    "sin_3_4_05_rad = anechoic_sound_absorption(determinant, frequency_array,\n",
    "                              fp = '/Users/chenghunglin/Documents/', \n",
    "                              fn = 'sin_3_4_05_rad.xlsx', \n",
    "                              material='rubber', shape='sin', \n",
    "                              p=3e-3, q=4e-3, lh=40e-3, cell_radius=15e-3, \n",
    "                              theta=0.5, phi=3e-3, length_unit='m',\n",
    "                              num_segments=100, layer_density=1100, air_density=1.21, \n",
    "                              Young_modulus=0.14e9, Poisson_ratio=0.49, loss_factor=0.23, \n",
    "                              medium_density=998, sound_speed_medium=1483, \n",
    "                              use_volume=False)"
   ]
  },
  {
   "cell_type": "code",
   "execution_count": 10,
   "metadata": {},
   "outputs": [
    {
     "name": "stdout",
     "output_type": "stream",
     "text": [
      "self.frequency_array.shape[0] = 101 is same as self.wavenumer_array.shape[0] = 101\n",
      "self.frequency_array.shape[0] = 101 is same as self.wavenumer_array.shape[0] = 101\n"
     ]
    },
    {
     "data": {
      "text/plain": [
       "<matplotlib.legend.Legend at 0x1562ae720>"
      ]
     },
     "execution_count": 10,
     "metadata": {},
     "output_type": "execute_result"
    },
    {
     "data": {
      "application/vnd.jupyter.widget-view+json": {
       "model_id": "67aa35936b914476aac0ffb44a1dd8e0",
       "version_major": 2,
       "version_minor": 0
      },
      "image/png": "[encoded data removed]",
      "text/html": [
       "\n",
       "            <div style=\"display: inline-block;\">\n",
       "                <div class=\"jupyter-widgets widget-label\" style=\"text-align: center;\">\n",
       "                    Figure\n",
       "                </div>\n",
       "                <img src='data:image/png;base64,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' width=640.0/>\n",
       "            </div>\n",
       "        "
      ],
      "text/plain": [
       "Canvas(toolbar=Toolbar(toolitems=[('Home', 'Reset original view', 'home', 'home'), ('Back', 'Back to previous …"
      ]
     },
     "metadata": {},
     "output_type": "display_data"
    }
   ],
   "source": [
    "plt.figure()\n",
    "plt.plot(sin_3_4_05_vol.frequency_array, sin_3_4_05_vol.absorption_frequency(), label='sin, p=3, q=4, fr100, seg100, vol')\n",
    "plt.plot(sin_3_4_05_rad.frequency_array, sin_3_4_05_rad.absorption_frequency(), label='sin, p=3, q=4, fr100, seg100, rad')\n",
    "# plt.plot(horn_1_11.frequency_array, horn_1_11.absorption_frequency(), label='horn, p=1, q=11, volume')\n",
    "plt.legend()"
   ]
  },
  {
   "cell_type": "code",
   "execution_count": null,
   "metadata": {},
   "outputs": [],
   "source": []
  },
  {
   "cell_type": "markdown",
   "metadata": {},
   "source": [
    "### Example 01-2: compare finer frequency & segment steps"
   ]
  },
  {
   "cell_type": "code",
   "execution_count": 11,
   "metadata": {},
   "outputs": [],
   "source": [
    "frequency_array = np.arange(2, 10052, 50)"
   ]
  },
  {
   "cell_type": "code",
   "execution_count": 12,
   "metadata": {},
   "outputs": [
    {
     "data": {
      "application/vnd.jupyter.widget-view+json": {
       "model_id": "6fd8ef3b13f14a21ab44ad3ec8781c36",
       "version_major": 2,
       "version_minor": 0
      },
      "image/png": "[encoded data removed]",
      "text/html": [
       "\n",
       "            <div style=\"display: inline-block;\">\n",
       "                <div class=\"jupyter-widgets widget-label\" style=\"text-align: center;\">\n",
       "                    Figure\n",
       "                </div>\n",
       "                <img src='data:image/png;base64,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' width=640.0/>\n",
       "            </div>\n",
       "        "
      ],
      "text/plain": [
       "Canvas(toolbar=Toolbar(toolitems=[('Home', 'Reset original view', 'home', 'home'), ('Back', 'Back to previous …"
      ]
     },
     "metadata": {},
     "output_type": "display_data"
    },
    {
     "name": "stdout",
     "output_type": "stream",
     "text": [
      "Solving wavenumber in determinant for shape = sin, p = 0.003, q = 0.004, Young's = 140000000.0\n"
     ]
    },
    {
     "data": {
      "application/vnd.jupyter.widget-view+json": {
       "model_id": "dfca39656af94b05b53512c762bbe6f4",
       "version_major": 2,
       "version_minor": 0
      },
      "text/plain": [
       "Solving for all frequencies:   0%|          | 0/201 [00:00<?, ?it/s]"
      ]
     },
     "metadata": {},
     "output_type": "display_data"
    },
    {
     "data": {
      "application/vnd.jupyter.widget-view+json": {
       "model_id": "",
       "version_major": 2,
       "version_minor": 0
      },
      "text/plain": [
       "  ... working at frequency = 2.0 Hz:   0%|          | 0/200 [00:00<?, ?it/s]"
      ]
     },
     "metadata": {},
     "output_type": "display_data"
    },
    {
     "data": {
      "application/vnd.jupyter.widget-view+json": {
       "model_id": "",
       "version_major": 2,
       "version_minor": 0
      },
      "text/plain": [
       "  ... working at frequency = 52.0 Hz:   0%|          | 0/200 [00:00<?, ?it/s]"
      ]
     },
     "metadata": {},
     "output_type": "display_data"
    },
    {
     "data": {
      "application/vnd.jupyter.widget-view+json": {
       "model_id": "",
       "version_major": 2,
       "version_minor": 0
      },
      "text/plain": [
       "  ... working at frequency = 102.0 Hz:   0%|          | 0/200 [00:00<?, ?it/s]"
      ]
     },
     "metadata": {},
     "output_type": "display_data"
    },
    {
     "data": {
      "application/vnd.jupyter.widget-view+json": {
       "model_id": "",
       "version_major": 2,
       "version_minor": 0
      },
      "text/plain": [
       "  ... working at frequency = 152.0 Hz:   0%|          | 0/200 [00:00<?, ?it/s]"
      ]
     },
     "metadata": {},
     "output_type": "display_data"
    },
    {
     "data": {
      "application/vnd.jupyter.widget-view+json": {
       "model_id": "",
       "version_major": 2,
       "version_minor": 0
      },
      "text/plain": [
       "  ... working at frequency = 202.0 Hz:   0%|          | 0/200 [00:00<?, ?it/s]"
      ]
     },
     "metadata": {},
     "output_type": "display_data"
    },
    {
     "data": {
      "application/vnd.jupyter.widget-view+json": {
       "model_id": "",
       "version_major": 2,
       "version_minor": 0
      },
      "text/plain": [
       "  ... working at frequency = 252.0 Hz:   0%|          | 0/200 [00:00<?, ?it/s]"
      ]
     },
     "metadata": {},
     "output_type": "display_data"
    },
    {
     "data": {
      "application/vnd.jupyter.widget-view+json": {
       "model_id": "",
       "version_major": 2,
       "version_minor": 0
      },
      "text/plain": [
       "  ... working at frequency = 302.0 Hz:   0%|          | 0/200 [00:00<?, ?it/s]"
      ]
     },
     "metadata": {},
     "output_type": "display_data"
    },
    {
     "data": {
      "application/vnd.jupyter.widget-view+json": {
       "model_id": "",
       "version_major": 2,
       "version_minor": 0
      },
      "text/plain": [
       "  ... working at frequency = 352.0 Hz:   0%|          | 0/200 [00:00<?, ?it/s]"
      ]
     },
     "metadata": {},
     "output_type": "display_data"
    },
    {
     "data": {
      "application/vnd.jupyter.widget-view+json": {
       "model_id": "",
       "version_major": 2,
       "version_minor": 0
      },
      "text/plain": [
       "  ... working at frequency = 402.0 Hz:   0%|          | 0/200 [00:00<?, ?it/s]"
      ]
     },
     "metadata": {},
     "output_type": "display_data"
    },
    {
     "data": {
      "application/vnd.jupyter.widget-view+json": {
       "model_id": "",
       "version_major": 2,
       "version_minor": 0
      },
      "text/plain": [
       "  ... working at frequency = 452.0 Hz:   0%|          | 0/200 [00:00<?, ?it/s]"
      ]
     },
     "metadata": {},
     "output_type": "display_data"
    },
    {
     "data": {
      "application/vnd.jupyter.widget-view+json": {
       "model_id": "",
       "version_major": 2,
       "version_minor": 0
      },
      "text/plain": [
       "  ... working at frequency = 502.0 Hz:   0%|          | 0/200 [00:00<?, ?it/s]"
      ]
     },
     "metadata": {},
     "output_type": "display_data"
    },
    {
     "data": {
      "application/vnd.jupyter.widget-view+json": {
       "model_id": "",
       "version_major": 2,
       "version_minor": 0
      },
      "text/plain": [
       "  ... working at frequency = 552.0 Hz:   0%|          | 0/200 [00:00<?, ?it/s]"
      ]
     },
     "metadata": {},
     "output_type": "display_data"
    },
    {
     "data": {
      "application/vnd.jupyter.widget-view+json": {
       "model_id": "",
       "version_major": 2,
       "version_minor": 0
      },
      "text/plain": [
       "  ... working at frequency = 602.0 Hz:   0%|          | 0/200 [00:00<?, ?it/s]"
      ]
     },
     "metadata": {},
     "output_type": "display_data"
    },
    {
     "data": {
      "application/vnd.jupyter.widget-view+json": {
       "model_id": "",
       "version_major": 2,
       "version_minor": 0
      },
      "text/plain": [
       "  ... working at frequency = 652.0 Hz:   0%|          | 0/200 [00:00<?, ?it/s]"
      ]
     },
     "metadata": {},
     "output_type": "display_data"
    },
    {
     "data": {
      "application/vnd.jupyter.widget-view+json": {
       "model_id": "",
       "version_major": 2,
       "version_minor": 0
      },
      "text/plain": [
       "  ... working at frequency = 702.0 Hz:   0%|          | 0/200 [00:00<?, ?it/s]"
      ]
     },
     "metadata": {},
     "output_type": "display_data"
    },
    {
     "data": {
      "application/vnd.jupyter.widget-view+json": {
       "model_id": "",
       "version_major": 2,
       "version_minor": 0
      },
      "text/plain": [
       "  ... working at frequency = 752.0 Hz:   0%|          | 0/200 [00:00<?, ?it/s]"
      ]
     },
     "metadata": {},
     "output_type": "display_data"
    },
    {
     "data": {
      "application/vnd.jupyter.widget-view+json": {
       "model_id": "",
       "version_major": 2,
       "version_minor": 0
      },
      "text/plain": [
       "  ... working at frequency = 802.0 Hz:   0%|          | 0/200 [00:00<?, ?it/s]"
      ]
     },
     "metadata": {},
     "output_type": "display_data"
    },
    {
     "data": {
      "application/vnd.jupyter.widget-view+json": {
       "model_id": "",
       "version_major": 2,
       "version_minor": 0
      },
      "text/plain": [
       "  ... working at frequency = 852.0 Hz:   0%|          | 0/200 [00:00<?, ?it/s]"
      ]
     },
     "metadata": {},
     "output_type": "display_data"
    },
    {
     "data": {
      "application/vnd.jupyter.widget-view+json": {
       "model_id": "",
       "version_major": 2,
       "version_minor": 0
      },
      "text/plain": [
       "  ... working at frequency = 902.0 Hz:   0%|          | 0/200 [00:00<?, ?it/s]"
      ]
     },
     "metadata": {},
     "output_type": "display_data"
    },
    {
     "data": {
      "application/vnd.jupyter.widget-view+json": {
       "model_id": "",
       "version_major": 2,
       "version_minor": 0
      },
      "text/plain": [
       "  ... working at frequency = 952.0 Hz:   0%|          | 0/200 [00:00<?, ?it/s]"
      ]
     },
     "metadata": {},
     "output_type": "display_data"
    },
    {
     "data": {
      "application/vnd.jupyter.widget-view+json": {
       "model_id": "",
       "version_major": 2,
       "version_minor": 0
      },
      "text/plain": [
       "  ... working at frequency = 1002.0 Hz:   0%|          | 0/200 [00:00<?, ?it/s]"
      ]
     },
     "metadata": {},
     "output_type": "display_data"
    },
    {
     "data": {
      "application/vnd.jupyter.widget-view+json": {
       "model_id": "",
       "version_major": 2,
       "version_minor": 0
      },
      "text/plain": [
       "  ... working at frequency = 1052.0 Hz:   0%|          | 0/200 [00:00<?, ?it/s]"
      ]
     },
     "metadata": {},
     "output_type": "display_data"
    },
    {
     "data": {
      "application/vnd.jupyter.widget-view+json": {
       "model_id": "",
       "version_major": 2,
       "version_minor": 0
      },
      "text/plain": [
       "  ... working at frequency = 1102.0 Hz:   0%|          | 0/200 [00:00<?, ?it/s]"
      ]
     },
     "metadata": {},
     "output_type": "display_data"
    },
    {
     "data": {
      "application/vnd.jupyter.widget-view+json": {
       "model_id": "",
       "version_major": 2,
       "version_minor": 0
      },
      "text/plain": [
       "  ... working at frequency = 1152.0 Hz:   0%|          | 0/200 [00:00<?, ?it/s]"
      ]
     },
     "metadata": {},
     "output_type": "display_data"
    },
    {
     "data": {
      "application/vnd.jupyter.widget-view+json": {
       "model_id": "",
       "version_major": 2,
       "version_minor": 0
      },
      "text/plain": [
       "  ... working at frequency = 1202.0 Hz:   0%|          | 0/200 [00:00<?, ?it/s]"
      ]
     },
     "metadata": {},
     "output_type": "display_data"
    },
    {
     "data": {
      "application/vnd.jupyter.widget-view+json": {
       "model_id": "",
       "version_major": 2,
       "version_minor": 0
      },
      "text/plain": [
       "  ... working at frequency = 1252.0 Hz:   0%|          | 0/200 [00:00<?, ?it/s]"
      ]
     },
     "metadata": {},
     "output_type": "display_data"
    },
    {
     "data": {
      "application/vnd.jupyter.widget-view+json": {
       "model_id": "",
       "version_major": 2,
       "version_minor": 0
      },
      "text/plain": [
       "  ... working at frequency = 1302.0 Hz:   0%|          | 0/200 [00:00<?, ?it/s]"
      ]
     },
     "metadata": {},
     "output_type": "display_data"
    },
    {
     "data": {
      "application/vnd.jupyter.widget-view+json": {
       "model_id": "",
       "version_major": 2,
       "version_minor": 0
      },
      "text/plain": [
       "  ... working at frequency = 1352.0 Hz:   0%|          | 0/200 [00:00<?, ?it/s]"
      ]
     },
     "metadata": {},
     "output_type": "display_data"
    },
    {
     "data": {
      "application/vnd.jupyter.widget-view+json": {
       "model_id": "",
       "version_major": 2,
       "version_minor": 0
      },
      "text/plain": [
       "  ... working at frequency = 1402.0 Hz:   0%|          | 0/200 [00:00<?, ?it/s]"
      ]
     },
     "metadata": {},
     "output_type": "display_data"
    },
    {
     "data": {
      "application/vnd.jupyter.widget-view+json": {
       "model_id": "",
       "version_major": 2,
       "version_minor": 0
      },
      "text/plain": [
       "  ... working at frequency = 1452.0 Hz:   0%|          | 0/200 [00:00<?, ?it/s]"
      ]
     },
     "metadata": {},
     "output_type": "display_data"
    },
    {
     "data": {
      "application/vnd.jupyter.widget-view+json": {
       "model_id": "",
       "version_major": 2,
       "version_minor": 0
      },
      "text/plain": [
       "  ... working at frequency = 1502.0 Hz:   0%|          | 0/200 [00:00<?, ?it/s]"
      ]
     },
     "metadata": {},
     "output_type": "display_data"
    },
    {
     "data": {
      "application/vnd.jupyter.widget-view+json": {
       "model_id": "",
       "version_major": 2,
       "version_minor": 0
      },
      "text/plain": [
       "  ... working at frequency = 1552.0 Hz:   0%|          | 0/200 [00:00<?, ?it/s]"
      ]
     },
     "metadata": {},
     "output_type": "display_data"
    },
    {
     "data": {
      "application/vnd.jupyter.widget-view+json": {
       "model_id": "",
       "version_major": 2,
       "version_minor": 0
      },
      "text/plain": [
       "  ... working at frequency = 1602.0 Hz:   0%|          | 0/200 [00:00<?, ?it/s]"
      ]
     },
     "metadata": {},
     "output_type": "display_data"
    },
    {
     "data": {
      "application/vnd.jupyter.widget-view+json": {
       "model_id": "",
       "version_major": 2,
       "version_minor": 0
      },
      "text/plain": [
       "  ... working at frequency = 1652.0 Hz:   0%|          | 0/200 [00:00<?, ?it/s]"
      ]
     },
     "metadata": {},
     "output_type": "display_data"
    },
    {
     "data": {
      "application/vnd.jupyter.widget-view+json": {
       "model_id": "",
       "version_major": 2,
       "version_minor": 0
      },
      "text/plain": [
       "  ... working at frequency = 1702.0 Hz:   0%|          | 0/200 [00:00<?, ?it/s]"
      ]
     },
     "metadata": {},
     "output_type": "display_data"
    },
    {
     "data": {
      "application/vnd.jupyter.widget-view+json": {
       "model_id": "",
       "version_major": 2,
       "version_minor": 0
      },
      "text/plain": [
       "  ... working at frequency = 1752.0 Hz:   0%|          | 0/200 [00:00<?, ?it/s]"
      ]
     },
     "metadata": {},
     "output_type": "display_data"
    },
    {
     "data": {
      "application/vnd.jupyter.widget-view+json": {
       "model_id": "",
       "version_major": 2,
       "version_minor": 0
      },
      "text/plain": [
       "  ... working at frequency = 1802.0 Hz:   0%|          | 0/200 [00:00<?, ?it/s]"
      ]
     },
     "metadata": {},
     "output_type": "display_data"
    },
    {
     "data": {
      "application/vnd.jupyter.widget-view+json": {
       "model_id": "",
       "version_major": 2,
       "version_minor": 0
      },
      "text/plain": [
       "  ... working at frequency = 1852.0 Hz:   0%|          | 0/200 [00:00<?, ?it/s]"
      ]
     },
     "metadata": {},
     "output_type": "display_data"
    },
    {
     "data": {
      "application/vnd.jupyter.widget-view+json": {
       "model_id": "",
       "version_major": 2,
       "version_minor": 0
      },
      "text/plain": [
       "  ... working at frequency = 1902.0 Hz:   0%|          | 0/200 [00:00<?, ?it/s]"
      ]
     },
     "metadata": {},
     "output_type": "display_data"
    },
    {
     "data": {
      "application/vnd.jupyter.widget-view+json": {
       "model_id": "",
       "version_major": 2,
       "version_minor": 0
      },
      "text/plain": [
       "  ... working at frequency = 1952.0 Hz:   0%|          | 0/200 [00:00<?, ?it/s]"
      ]
     },
     "metadata": {},
     "output_type": "display_data"
    },
    {
     "data": {
      "application/vnd.jupyter.widget-view+json": {
       "model_id": "",
       "version_major": 2,
       "version_minor": 0
      },
      "text/plain": [
       "  ... working at frequency = 2002.0 Hz:   0%|          | 0/200 [00:00<?, ?it/s]"
      ]
     },
     "metadata": {},
     "output_type": "display_data"
    },
    {
     "data": {
      "application/vnd.jupyter.widget-view+json": {
       "model_id": "",
       "version_major": 2,
       "version_minor": 0
      },
      "text/plain": [
       "  ... working at frequency = 2052.0 Hz:   0%|          | 0/200 [00:00<?, ?it/s]"
      ]
     },
     "metadata": {},
     "output_type": "display_data"
    },
    {
     "data": {
      "application/vnd.jupyter.widget-view+json": {
       "model_id": "",
       "version_major": 2,
       "version_minor": 0
      },
      "text/plain": [
       "  ... working at frequency = 2102.0 Hz:   0%|          | 0/200 [00:00<?, ?it/s]"
      ]
     },
     "metadata": {},
     "output_type": "display_data"
    },
    {
     "data": {
      "application/vnd.jupyter.widget-view+json": {
       "model_id": "",
       "version_major": 2,
       "version_minor": 0
      },
      "text/plain": [
       "  ... working at frequency = 2152.0 Hz:   0%|          | 0/200 [00:00<?, ?it/s]"
      ]
     },
     "metadata": {},
     "output_type": "display_data"
    },
    {
     "data": {
      "application/vnd.jupyter.widget-view+json": {
       "model_id": "",
       "version_major": 2,
       "version_minor": 0
      },
      "text/plain": [
       "  ... working at frequency = 2202.0 Hz:   0%|          | 0/200 [00:00<?, ?it/s]"
      ]
     },
     "metadata": {},
     "output_type": "display_data"
    },
    {
     "data": {
      "application/vnd.jupyter.widget-view+json": {
       "model_id": "",
       "version_major": 2,
       "version_minor": 0
      },
      "text/plain": [
       "  ... working at frequency = 2252.0 Hz:   0%|          | 0/200 [00:00<?, ?it/s]"
      ]
     },
     "metadata": {},
     "output_type": "display_data"
    },
    {
     "data": {
      "application/vnd.jupyter.widget-view+json": {
       "model_id": "",
       "version_major": 2,
       "version_minor": 0
      },
      "text/plain": [
       "  ... working at frequency = 2302.0 Hz:   0%|          | 0/200 [00:00<?, ?it/s]"
      ]
     },
     "metadata": {},
     "output_type": "display_data"
    },
    {
     "data": {
      "application/vnd.jupyter.widget-view+json": {
       "model_id": "",
       "version_major": 2,
       "version_minor": 0
      },
      "text/plain": [
       "  ... working at frequency = 2352.0 Hz:   0%|          | 0/200 [00:00<?, ?it/s]"
      ]
     },
     "metadata": {},
     "output_type": "display_data"
    },
    {
     "data": {
      "application/vnd.jupyter.widget-view+json": {
       "model_id": "",
       "version_major": 2,
       "version_minor": 0
      },
      "text/plain": [
       "  ... working at frequency = 2402.0 Hz:   0%|          | 0/200 [00:00<?, ?it/s]"
      ]
     },
     "metadata": {},
     "output_type": "display_data"
    },
    {
     "data": {
      "application/vnd.jupyter.widget-view+json": {
       "model_id": "",
       "version_major": 2,
       "version_minor": 0
      },
      "text/plain": [
       "  ... working at frequency = 2452.0 Hz:   0%|          | 0/200 [00:00<?, ?it/s]"
      ]
     },
     "metadata": {},
     "output_type": "display_data"
    },
    {
     "data": {
      "application/vnd.jupyter.widget-view+json": {
       "model_id": "",
       "version_major": 2,
       "version_minor": 0
      },
      "text/plain": [
       "  ... working at frequency = 2502.0 Hz:   0%|          | 0/200 [00:00<?, ?it/s]"
      ]
     },
     "metadata": {},
     "output_type": "display_data"
    },
    {
     "data": {
      "application/vnd.jupyter.widget-view+json": {
       "model_id": "",
       "version_major": 2,
       "version_minor": 0
      },
      "text/plain": [
       "  ... working at frequency = 2552.0 Hz:   0%|          | 0/200 [00:00<?, ?it/s]"
      ]
     },
     "metadata": {},
     "output_type": "display_data"
    },
    {
     "data": {
      "application/vnd.jupyter.widget-view+json": {
       "model_id": "",
       "version_major": 2,
       "version_minor": 0
      },
      "text/plain": [
       "  ... working at frequency = 2602.0 Hz:   0%|          | 0/200 [00:00<?, ?it/s]"
      ]
     },
     "metadata": {},
     "output_type": "display_data"
    },
    {
     "data": {
      "application/vnd.jupyter.widget-view+json": {
       "model_id": "",
       "version_major": 2,
       "version_minor": 0
      },
      "text/plain": [
       "  ... working at frequency = 2652.0 Hz:   0%|          | 0/200 [00:00<?, ?it/s]"
      ]
     },
     "metadata": {},
     "output_type": "display_data"
    },
    {
     "data": {
      "application/vnd.jupyter.widget-view+json": {
       "model_id": "",
       "version_major": 2,
       "version_minor": 0
      },
      "text/plain": [
       "  ... working at frequency = 2702.0 Hz:   0%|          | 0/200 [00:00<?, ?it/s]"
      ]
     },
     "metadata": {},
     "output_type": "display_data"
    },
    {
     "data": {
      "application/vnd.jupyter.widget-view+json": {
       "model_id": "",
       "version_major": 2,
       "version_minor": 0
      },
      "text/plain": [
       "  ... working at frequency = 2752.0 Hz:   0%|          | 0/200 [00:00<?, ?it/s]"
      ]
     },
     "metadata": {},
     "output_type": "display_data"
    },
    {
     "data": {
      "application/vnd.jupyter.widget-view+json": {
       "model_id": "",
       "version_major": 2,
       "version_minor": 0
      },
      "text/plain": [
       "  ... working at frequency = 2802.0 Hz:   0%|          | 0/200 [00:00<?, ?it/s]"
      ]
     },
     "metadata": {},
     "output_type": "display_data"
    },
    {
     "data": {
      "application/vnd.jupyter.widget-view+json": {
       "model_id": "",
       "version_major": 2,
       "version_minor": 0
      },
      "text/plain": [
       "  ... working at frequency = 2852.0 Hz:   0%|          | 0/200 [00:00<?, ?it/s]"
      ]
     },
     "metadata": {},
     "output_type": "display_data"
    },
    {
     "data": {
      "application/vnd.jupyter.widget-view+json": {
       "model_id": "",
       "version_major": 2,
       "version_minor": 0
      },
      "text/plain": [
       "  ... working at frequency = 2902.0 Hz:   0%|          | 0/200 [00:00<?, ?it/s]"
      ]
     },
     "metadata": {},
     "output_type": "display_data"
    },
    {
     "data": {
      "application/vnd.jupyter.widget-view+json": {
       "model_id": "",
       "version_major": 2,
       "version_minor": 0
      },
      "text/plain": [
       "  ... working at frequency = 2952.0 Hz:   0%|          | 0/200 [00:00<?, ?it/s]"
      ]
     },
     "metadata": {},
     "output_type": "display_data"
    },
    {
     "data": {
      "application/vnd.jupyter.widget-view+json": {
       "model_id": "",
       "version_major": 2,
       "version_minor": 0
      },
      "text/plain": [
       "  ... working at frequency = 3002.0 Hz:   0%|          | 0/200 [00:00<?, ?it/s]"
      ]
     },
     "metadata": {},
     "output_type": "display_data"
    },
    {
     "data": {
      "application/vnd.jupyter.widget-view+json": {
       "model_id": "",
       "version_major": 2,
       "version_minor": 0
      },
      "text/plain": [
       "  ... working at frequency = 3052.0 Hz:   0%|          | 0/200 [00:00<?, ?it/s]"
      ]
     },
     "metadata": {},
     "output_type": "display_data"
    },
    {
     "data": {
      "application/vnd.jupyter.widget-view+json": {
       "model_id": "",
       "version_major": 2,
       "version_minor": 0
      },
      "text/plain": [
       "  ... working at frequency = 3102.0 Hz:   0%|          | 0/200 [00:00<?, ?it/s]"
      ]
     },
     "metadata": {},
     "output_type": "display_data"
    },
    {
     "data": {
      "application/vnd.jupyter.widget-view+json": {
       "model_id": "",
       "version_major": 2,
       "version_minor": 0
      },
      "text/plain": [
       "  ... working at frequency = 3152.0 Hz:   0%|          | 0/200 [00:00<?, ?it/s]"
      ]
     },
     "metadata": {},
     "output_type": "display_data"
    },
    {
     "data": {
      "application/vnd.jupyter.widget-view+json": {
       "model_id": "",
       "version_major": 2,
       "version_minor": 0
      },
      "text/plain": [
       "  ... working at frequency = 3202.0 Hz:   0%|          | 0/200 [00:00<?, ?it/s]"
      ]
     },
     "metadata": {},
     "output_type": "display_data"
    },
    {
     "data": {
      "application/vnd.jupyter.widget-view+json": {
       "model_id": "",
       "version_major": 2,
       "version_minor": 0
      },
      "text/plain": [
       "  ... working at frequency = 3252.0 Hz:   0%|          | 0/200 [00:00<?, ?it/s]"
      ]
     },
     "metadata": {},
     "output_type": "display_data"
    },
    {
     "data": {
      "application/vnd.jupyter.widget-view+json": {
       "model_id": "",
       "version_major": 2,
       "version_minor": 0
      },
      "text/plain": [
       "  ... working at frequency = 3302.0 Hz:   0%|          | 0/200 [00:00<?, ?it/s]"
      ]
     },
     "metadata": {},
     "output_type": "display_data"
    },
    {
     "data": {
      "application/vnd.jupyter.widget-view+json": {
       "model_id": "",
       "version_major": 2,
       "version_minor": 0
      },
      "text/plain": [
       "  ... working at frequency = 3352.0 Hz:   0%|          | 0/200 [00:00<?, ?it/s]"
      ]
     },
     "metadata": {},
     "output_type": "display_data"
    },
    {
     "data": {
      "application/vnd.jupyter.widget-view+json": {
       "model_id": "",
       "version_major": 2,
       "version_minor": 0
      },
      "text/plain": [
       "  ... working at frequency = 3402.0 Hz:   0%|          | 0/200 [00:00<?, ?it/s]"
      ]
     },
     "metadata": {},
     "output_type": "display_data"
    },
    {
     "data": {
      "application/vnd.jupyter.widget-view+json": {
       "model_id": "",
       "version_major": 2,
       "version_minor": 0
      },
      "text/plain": [
       "  ... working at frequency = 3452.0 Hz:   0%|          | 0/200 [00:00<?, ?it/s]"
      ]
     },
     "metadata": {},
     "output_type": "display_data"
    },
    {
     "data": {
      "application/vnd.jupyter.widget-view+json": {
       "model_id": "",
       "version_major": 2,
       "version_minor": 0
      },
      "text/plain": [
       "  ... working at frequency = 3502.0 Hz:   0%|          | 0/200 [00:00<?, ?it/s]"
      ]
     },
     "metadata": {},
     "output_type": "display_data"
    },
    {
     "data": {
      "application/vnd.jupyter.widget-view+json": {
       "model_id": "",
       "version_major": 2,
       "version_minor": 0
      },
      "text/plain": [
       "  ... working at frequency = 3552.0 Hz:   0%|          | 0/200 [00:00<?, ?it/s]"
      ]
     },
     "metadata": {},
     "output_type": "display_data"
    },
    {
     "data": {
      "application/vnd.jupyter.widget-view+json": {
       "model_id": "",
       "version_major": 2,
       "version_minor": 0
      },
      "text/plain": [
       "  ... working at frequency = 3602.0 Hz:   0%|          | 0/200 [00:00<?, ?it/s]"
      ]
     },
     "metadata": {},
     "output_type": "display_data"
    },
    {
     "data": {
      "application/vnd.jupyter.widget-view+json": {
       "model_id": "",
       "version_major": 2,
       "version_minor": 0
      },
      "text/plain": [
       "  ... working at frequency = 3652.0 Hz:   0%|          | 0/200 [00:00<?, ?it/s]"
      ]
     },
     "metadata": {},
     "output_type": "display_data"
    },
    {
     "data": {
      "application/vnd.jupyter.widget-view+json": {
       "model_id": "",
       "version_major": 2,
       "version_minor": 0
      },
      "text/plain": [
       "  ... working at frequency = 3702.0 Hz:   0%|          | 0/200 [00:00<?, ?it/s]"
      ]
     },
     "metadata": {},
     "output_type": "display_data"
    },
    {
     "data": {
      "application/vnd.jupyter.widget-view+json": {
       "model_id": "",
       "version_major": 2,
       "version_minor": 0
      },
      "text/plain": [
       "  ... working at frequency = 3752.0 Hz:   0%|          | 0/200 [00:00<?, ?it/s]"
      ]
     },
     "metadata": {},
     "output_type": "display_data"
    },
    {
     "data": {
      "application/vnd.jupyter.widget-view+json": {
       "model_id": "",
       "version_major": 2,
       "version_minor": 0
      },
      "text/plain": [
       "  ... working at frequency = 3802.0 Hz:   0%|          | 0/200 [00:00<?, ?it/s]"
      ]
     },
     "metadata": {},
     "output_type": "display_data"
    },
    {
     "data": {
      "application/vnd.jupyter.widget-view+json": {
       "model_id": "",
       "version_major": 2,
       "version_minor": 0
      },
      "text/plain": [
       "  ... working at frequency = 3852.0 Hz:   0%|          | 0/200 [00:00<?, ?it/s]"
      ]
     },
     "metadata": {},
     "output_type": "display_data"
    },
    {
     "data": {
      "application/vnd.jupyter.widget-view+json": {
       "model_id": "",
       "version_major": 2,
       "version_minor": 0
      },
      "text/plain": [
       "  ... working at frequency = 3902.0 Hz:   0%|          | 0/200 [00:00<?, ?it/s]"
      ]
     },
     "metadata": {},
     "output_type": "display_data"
    },
    {
     "data": {
      "application/vnd.jupyter.widget-view+json": {
       "model_id": "",
       "version_major": 2,
       "version_minor": 0
      },
      "text/plain": [
       "  ... working at frequency = 3952.0 Hz:   0%|          | 0/200 [00:00<?, ?it/s]"
      ]
     },
     "metadata": {},
     "output_type": "display_data"
    },
    {
     "data": {
      "application/vnd.jupyter.widget-view+json": {
       "model_id": "",
       "version_major": 2,
       "version_minor": 0
      },
      "text/plain": [
       "  ... working at frequency = 4002.0 Hz:   0%|          | 0/200 [00:00<?, ?it/s]"
      ]
     },
     "metadata": {},
     "output_type": "display_data"
    },
    {
     "data": {
      "application/vnd.jupyter.widget-view+json": {
       "model_id": "",
       "version_major": 2,
       "version_minor": 0
      },
      "text/plain": [
       "  ... working at frequency = 4052.0 Hz:   0%|          | 0/200 [00:00<?, ?it/s]"
      ]
     },
     "metadata": {},
     "output_type": "display_data"
    },
    {
     "data": {
      "application/vnd.jupyter.widget-view+json": {
       "model_id": "",
       "version_major": 2,
       "version_minor": 0
      },
      "text/plain": [
       "  ... working at frequency = 4102.0 Hz:   0%|          | 0/200 [00:00<?, ?it/s]"
      ]
     },
     "metadata": {},
     "output_type": "display_data"
    },
    {
     "data": {
      "application/vnd.jupyter.widget-view+json": {
       "model_id": "",
       "version_major": 2,
       "version_minor": 0
      },
      "text/plain": [
       "  ... working at frequency = 4152.0 Hz:   0%|          | 0/200 [00:00<?, ?it/s]"
      ]
     },
     "metadata": {},
     "output_type": "display_data"
    },
    {
     "data": {
      "application/vnd.jupyter.widget-view+json": {
       "model_id": "",
       "version_major": 2,
       "version_minor": 0
      },
      "text/plain": [
       "  ... working at frequency = 4202.0 Hz:   0%|          | 0/200 [00:00<?, ?it/s]"
      ]
     },
     "metadata": {},
     "output_type": "display_data"
    },
    {
     "data": {
      "application/vnd.jupyter.widget-view+json": {
       "model_id": "",
       "version_major": 2,
       "version_minor": 0
      },
      "text/plain": [
       "  ... working at frequency = 4252.0 Hz:   0%|          | 0/200 [00:00<?, ?it/s]"
      ]
     },
     "metadata": {},
     "output_type": "display_data"
    },
    {
     "data": {
      "application/vnd.jupyter.widget-view+json": {
       "model_id": "",
       "version_major": 2,
       "version_minor": 0
      },
      "text/plain": [
       "  ... working at frequency = 4302.0 Hz:   0%|          | 0/200 [00:00<?, ?it/s]"
      ]
     },
     "metadata": {},
     "output_type": "display_data"
    },
    {
     "data": {
      "application/vnd.jupyter.widget-view+json": {
       "model_id": "",
       "version_major": 2,
       "version_minor": 0
      },
      "text/plain": [
       "  ... working at frequency = 4352.0 Hz:   0%|          | 0/200 [00:00<?, ?it/s]"
      ]
     },
     "metadata": {},
     "output_type": "display_data"
    },
    {
     "data": {
      "application/vnd.jupyter.widget-view+json": {
       "model_id": "",
       "version_major": 2,
       "version_minor": 0
      },
      "text/plain": [
       "  ... working at frequency = 4402.0 Hz:   0%|          | 0/200 [00:00<?, ?it/s]"
      ]
     },
     "metadata": {},
     "output_type": "display_data"
    },
    {
     "data": {
      "application/vnd.jupyter.widget-view+json": {
       "model_id": "",
       "version_major": 2,
       "version_minor": 0
      },
      "text/plain": [
       "  ... working at frequency = 4452.0 Hz:   0%|          | 0/200 [00:00<?, ?it/s]"
      ]
     },
     "metadata": {},
     "output_type": "display_data"
    },
    {
     "data": {
      "application/vnd.jupyter.widget-view+json": {
       "model_id": "",
       "version_major": 2,
       "version_minor": 0
      },
      "text/plain": [
       "  ... working at frequency = 4502.0 Hz:   0%|          | 0/200 [00:00<?, ?it/s]"
      ]
     },
     "metadata": {},
     "output_type": "display_data"
    },
    {
     "data": {
      "application/vnd.jupyter.widget-view+json": {
       "model_id": "",
       "version_major": 2,
       "version_minor": 0
      },
      "text/plain": [
       "  ... working at frequency = 4552.0 Hz:   0%|          | 0/200 [00:00<?, ?it/s]"
      ]
     },
     "metadata": {},
     "output_type": "display_data"
    },
    {
     "data": {
      "application/vnd.jupyter.widget-view+json": {
       "model_id": "",
       "version_major": 2,
       "version_minor": 0
      },
      "text/plain": [
       "  ... working at frequency = 4602.0 Hz:   0%|          | 0/200 [00:00<?, ?it/s]"
      ]
     },
     "metadata": {},
     "output_type": "display_data"
    },
    {
     "data": {
      "application/vnd.jupyter.widget-view+json": {
       "model_id": "",
       "version_major": 2,
       "version_minor": 0
      },
      "text/plain": [
       "  ... working at frequency = 4652.0 Hz:   0%|          | 0/200 [00:00<?, ?it/s]"
      ]
     },
     "metadata": {},
     "output_type": "display_data"
    },
    {
     "data": {
      "application/vnd.jupyter.widget-view+json": {
       "model_id": "",
       "version_major": 2,
       "version_minor": 0
      },
      "text/plain": [
       "  ... working at frequency = 4702.0 Hz:   0%|          | 0/200 [00:00<?, ?it/s]"
      ]
     },
     "metadata": {},
     "output_type": "display_data"
    },
    {
     "data": {
      "application/vnd.jupyter.widget-view+json": {
       "model_id": "",
       "version_major": 2,
       "version_minor": 0
      },
      "text/plain": [
       "  ... working at frequency = 4752.0 Hz:   0%|          | 0/200 [00:00<?, ?it/s]"
      ]
     },
     "metadata": {},
     "output_type": "display_data"
    },
    {
     "data": {
      "application/vnd.jupyter.widget-view+json": {
       "model_id": "",
       "version_major": 2,
       "version_minor": 0
      },
      "text/plain": [
       "  ... working at frequency = 4802.0 Hz:   0%|          | 0/200 [00:00<?, ?it/s]"
      ]
     },
     "metadata": {},
     "output_type": "display_data"
    },
    {
     "data": {
      "application/vnd.jupyter.widget-view+json": {
       "model_id": "",
       "version_major": 2,
       "version_minor": 0
      },
      "text/plain": [
       "  ... working at frequency = 4852.0 Hz:   0%|          | 0/200 [00:00<?, ?it/s]"
      ]
     },
     "metadata": {},
     "output_type": "display_data"
    },
    {
     "data": {
      "application/vnd.jupyter.widget-view+json": {
       "model_id": "",
       "version_major": 2,
       "version_minor": 0
      },
      "text/plain": [
       "  ... working at frequency = 4902.0 Hz:   0%|          | 0/200 [00:00<?, ?it/s]"
      ]
     },
     "metadata": {},
     "output_type": "display_data"
    },
    {
     "data": {
      "application/vnd.jupyter.widget-view+json": {
       "model_id": "",
       "version_major": 2,
       "version_minor": 0
      },
      "text/plain": [
       "  ... working at frequency = 4952.0 Hz:   0%|          | 0/200 [00:00<?, ?it/s]"
      ]
     },
     "metadata": {},
     "output_type": "display_data"
    },
    {
     "data": {
      "application/vnd.jupyter.widget-view+json": {
       "model_id": "",
       "version_major": 2,
       "version_minor": 0
      },
      "text/plain": [
       "  ... working at frequency = 5002.0 Hz:   0%|          | 0/200 [00:00<?, ?it/s]"
      ]
     },
     "metadata": {},
     "output_type": "display_data"
    },
    {
     "data": {
      "application/vnd.jupyter.widget-view+json": {
       "model_id": "",
       "version_major": 2,
       "version_minor": 0
      },
      "text/plain": [
       "  ... working at frequency = 5052.0 Hz:   0%|          | 0/200 [00:00<?, ?it/s]"
      ]
     },
     "metadata": {},
     "output_type": "display_data"
    },
    {
     "data": {
      "application/vnd.jupyter.widget-view+json": {
       "model_id": "",
       "version_major": 2,
       "version_minor": 0
      },
      "text/plain": [
       "  ... working at frequency = 5102.0 Hz:   0%|          | 0/200 [00:00<?, ?it/s]"
      ]
     },
     "metadata": {},
     "output_type": "display_data"
    },
    {
     "data": {
      "application/vnd.jupyter.widget-view+json": {
       "model_id": "",
       "version_major": 2,
       "version_minor": 0
      },
      "text/plain": [
       "  ... working at frequency = 5152.0 Hz:   0%|          | 0/200 [00:00<?, ?it/s]"
      ]
     },
     "metadata": {},
     "output_type": "display_data"
    },
    {
     "data": {
      "application/vnd.jupyter.widget-view+json": {
       "model_id": "",
       "version_major": 2,
       "version_minor": 0
      },
      "text/plain": [
       "  ... working at frequency = 5202.0 Hz:   0%|          | 0/200 [00:00<?, ?it/s]"
      ]
     },
     "metadata": {},
     "output_type": "display_data"
    },
    {
     "data": {
      "application/vnd.jupyter.widget-view+json": {
       "model_id": "",
       "version_major": 2,
       "version_minor": 0
      },
      "text/plain": [
       "  ... working at frequency = 5252.0 Hz:   0%|          | 0/200 [00:00<?, ?it/s]"
      ]
     },
     "metadata": {},
     "output_type": "display_data"
    },
    {
     "data": {
      "application/vnd.jupyter.widget-view+json": {
       "model_id": "",
       "version_major": 2,
       "version_minor": 0
      },
      "text/plain": [
       "  ... working at frequency = 5302.0 Hz:   0%|          | 0/200 [00:00<?, ?it/s]"
      ]
     },
     "metadata": {},
     "output_type": "display_data"
    },
    {
     "data": {
      "application/vnd.jupyter.widget-view+json": {
       "model_id": "",
       "version_major": 2,
       "version_minor": 0
      },
      "text/plain": [
       "  ... working at frequency = 5352.0 Hz:   0%|          | 0/200 [00:00<?, ?it/s]"
      ]
     },
     "metadata": {},
     "output_type": "display_data"
    },
    {
     "data": {
      "application/vnd.jupyter.widget-view+json": {
       "model_id": "",
       "version_major": 2,
       "version_minor": 0
      },
      "text/plain": [
       "  ... working at frequency = 5402.0 Hz:   0%|          | 0/200 [00:00<?, ?it/s]"
      ]
     },
     "metadata": {},
     "output_type": "display_data"
    },
    {
     "data": {
      "application/vnd.jupyter.widget-view+json": {
       "model_id": "",
       "version_major": 2,
       "version_minor": 0
      },
      "text/plain": [
       "  ... working at frequency = 5452.0 Hz:   0%|          | 0/200 [00:00<?, ?it/s]"
      ]
     },
     "metadata": {},
     "output_type": "display_data"
    },
    {
     "data": {
      "application/vnd.jupyter.widget-view+json": {
       "model_id": "",
       "version_major": 2,
       "version_minor": 0
      },
      "text/plain": [
       "  ... working at frequency = 5502.0 Hz:   0%|          | 0/200 [00:00<?, ?it/s]"
      ]
     },
     "metadata": {},
     "output_type": "display_data"
    },
    {
     "data": {
      "application/vnd.jupyter.widget-view+json": {
       "model_id": "",
       "version_major": 2,
       "version_minor": 0
      },
      "text/plain": [
       "  ... working at frequency = 5552.0 Hz:   0%|          | 0/200 [00:00<?, ?it/s]"
      ]
     },
     "metadata": {},
     "output_type": "display_data"
    },
    {
     "data": {
      "application/vnd.jupyter.widget-view+json": {
       "model_id": "",
       "version_major": 2,
       "version_minor": 0
      },
      "text/plain": [
       "  ... working at frequency = 5602.0 Hz:   0%|          | 0/200 [00:00<?, ?it/s]"
      ]
     },
     "metadata": {},
     "output_type": "display_data"
    },
    {
     "data": {
      "application/vnd.jupyter.widget-view+json": {
       "model_id": "",
       "version_major": 2,
       "version_minor": 0
      },
      "text/plain": [
       "  ... working at frequency = 5652.0 Hz:   0%|          | 0/200 [00:00<?, ?it/s]"
      ]
     },
     "metadata": {},
     "output_type": "display_data"
    },
    {
     "data": {
      "application/vnd.jupyter.widget-view+json": {
       "model_id": "",
       "version_major": 2,
       "version_minor": 0
      },
      "text/plain": [
       "  ... working at frequency = 5702.0 Hz:   0%|          | 0/200 [00:00<?, ?it/s]"
      ]
     },
     "metadata": {},
     "output_type": "display_data"
    },
    {
     "data": {
      "application/vnd.jupyter.widget-view+json": {
       "model_id": "",
       "version_major": 2,
       "version_minor": 0
      },
      "text/plain": [
       "  ... working at frequency = 5752.0 Hz:   0%|          | 0/200 [00:00<?, ?it/s]"
      ]
     },
     "metadata": {},
     "output_type": "display_data"
    },
    {
     "data": {
      "application/vnd.jupyter.widget-view+json": {
       "model_id": "",
       "version_major": 2,
       "version_minor": 0
      },
      "text/plain": [
       "  ... working at frequency = 5802.0 Hz:   0%|          | 0/200 [00:00<?, ?it/s]"
      ]
     },
     "metadata": {},
     "output_type": "display_data"
    },
    {
     "data": {
      "application/vnd.jupyter.widget-view+json": {
       "model_id": "",
       "version_major": 2,
       "version_minor": 0
      },
      "text/plain": [
       "  ... working at frequency = 5852.0 Hz:   0%|          | 0/200 [00:00<?, ?it/s]"
      ]
     },
     "metadata": {},
     "output_type": "display_data"
    },
    {
     "data": {
      "application/vnd.jupyter.widget-view+json": {
       "model_id": "",
       "version_major": 2,
       "version_minor": 0
      },
      "text/plain": [
       "  ... working at frequency = 5902.0 Hz:   0%|          | 0/200 [00:00<?, ?it/s]"
      ]
     },
     "metadata": {},
     "output_type": "display_data"
    },
    {
     "data": {
      "application/vnd.jupyter.widget-view+json": {
       "model_id": "",
       "version_major": 2,
       "version_minor": 0
      },
      "text/plain": [
       "  ... working at frequency = 5952.0 Hz:   0%|          | 0/200 [00:00<?, ?it/s]"
      ]
     },
     "metadata": {},
     "output_type": "display_data"
    },
    {
     "data": {
      "application/vnd.jupyter.widget-view+json": {
       "model_id": "",
       "version_major": 2,
       "version_minor": 0
      },
      "text/plain": [
       "  ... working at frequency = 6002.0 Hz:   0%|          | 0/200 [00:00<?, ?it/s]"
      ]
     },
     "metadata": {},
     "output_type": "display_data"
    },
    {
     "data": {
      "application/vnd.jupyter.widget-view+json": {
       "model_id": "",
       "version_major": 2,
       "version_minor": 0
      },
      "text/plain": [
       "  ... working at frequency = 6052.0 Hz:   0%|          | 0/200 [00:00<?, ?it/s]"
      ]
     },
     "metadata": {},
     "output_type": "display_data"
    },
    {
     "data": {
      "application/vnd.jupyter.widget-view+json": {
       "model_id": "",
       "version_major": 2,
       "version_minor": 0
      },
      "text/plain": [
       "  ... working at frequency = 6102.0 Hz:   0%|          | 0/200 [00:00<?, ?it/s]"
      ]
     },
     "metadata": {},
     "output_type": "display_data"
    },
    {
     "data": {
      "application/vnd.jupyter.widget-view+json": {
       "model_id": "",
       "version_major": 2,
       "version_minor": 0
      },
      "text/plain": [
       "  ... working at frequency = 6152.0 Hz:   0%|          | 0/200 [00:00<?, ?it/s]"
      ]
     },
     "metadata": {},
     "output_type": "display_data"
    },
    {
     "data": {
      "application/vnd.jupyter.widget-view+json": {
       "model_id": "",
       "version_major": 2,
       "version_minor": 0
      },
      "text/plain": [
       "  ... working at frequency = 6202.0 Hz:   0%|          | 0/200 [00:00<?, ?it/s]"
      ]
     },
     "metadata": {},
     "output_type": "display_data"
    },
    {
     "data": {
      "application/vnd.jupyter.widget-view+json": {
       "model_id": "",
       "version_major": 2,
       "version_minor": 0
      },
      "text/plain": [
       "  ... working at frequency = 6252.0 Hz:   0%|          | 0/200 [00:00<?, ?it/s]"
      ]
     },
     "metadata": {},
     "output_type": "display_data"
    },
    {
     "data": {
      "application/vnd.jupyter.widget-view+json": {
       "model_id": "",
       "version_major": 2,
       "version_minor": 0
      },
      "text/plain": [
       "  ... working at frequency = 6302.0 Hz:   0%|          | 0/200 [00:00<?, ?it/s]"
      ]
     },
     "metadata": {},
     "output_type": "display_data"
    },
    {
     "data": {
      "application/vnd.jupyter.widget-view+json": {
       "model_id": "",
       "version_major": 2,
       "version_minor": 0
      },
      "text/plain": [
       "  ... working at frequency = 6352.0 Hz:   0%|          | 0/200 [00:00<?, ?it/s]"
      ]
     },
     "metadata": {},
     "output_type": "display_data"
    },
    {
     "data": {
      "application/vnd.jupyter.widget-view+json": {
       "model_id": "",
       "version_major": 2,
       "version_minor": 0
      },
      "text/plain": [
       "  ... working at frequency = 6402.0 Hz:   0%|          | 0/200 [00:00<?, ?it/s]"
      ]
     },
     "metadata": {},
     "output_type": "display_data"
    },
    {
     "data": {
      "application/vnd.jupyter.widget-view+json": {
       "model_id": "",
       "version_major": 2,
       "version_minor": 0
      },
      "text/plain": [
       "  ... working at frequency = 6452.0 Hz:   0%|          | 0/200 [00:00<?, ?it/s]"
      ]
     },
     "metadata": {},
     "output_type": "display_data"
    },
    {
     "data": {
      "application/vnd.jupyter.widget-view+json": {
       "model_id": "",
       "version_major": 2,
       "version_minor": 0
      },
      "text/plain": [
       "  ... working at frequency = 6502.0 Hz:   0%|          | 0/200 [00:00<?, ?it/s]"
      ]
     },
     "metadata": {},
     "output_type": "display_data"
    },
    {
     "data": {
      "application/vnd.jupyter.widget-view+json": {
       "model_id": "",
       "version_major": 2,
       "version_minor": 0
      },
      "text/plain": [
       "  ... working at frequency = 6552.0 Hz:   0%|          | 0/200 [00:00<?, ?it/s]"
      ]
     },
     "metadata": {},
     "output_type": "display_data"
    },
    {
     "data": {
      "application/vnd.jupyter.widget-view+json": {
       "model_id": "",
       "version_major": 2,
       "version_minor": 0
      },
      "text/plain": [
       "  ... working at frequency = 6602.0 Hz:   0%|          | 0/200 [00:00<?, ?it/s]"
      ]
     },
     "metadata": {},
     "output_type": "display_data"
    },
    {
     "data": {
      "application/vnd.jupyter.widget-view+json": {
       "model_id": "",
       "version_major": 2,
       "version_minor": 0
      },
      "text/plain": [
       "  ... working at frequency = 6652.0 Hz:   0%|          | 0/200 [00:00<?, ?it/s]"
      ]
     },
     "metadata": {},
     "output_type": "display_data"
    },
    {
     "data": {
      "application/vnd.jupyter.widget-view+json": {
       "model_id": "",
       "version_major": 2,
       "version_minor": 0
      },
      "text/plain": [
       "  ... working at frequency = 6702.0 Hz:   0%|          | 0/200 [00:00<?, ?it/s]"
      ]
     },
     "metadata": {},
     "output_type": "display_data"
    },
    {
     "data": {
      "application/vnd.jupyter.widget-view+json": {
       "model_id": "",
       "version_major": 2,
       "version_minor": 0
      },
      "text/plain": [
       "  ... working at frequency = 6752.0 Hz:   0%|          | 0/200 [00:00<?, ?it/s]"
      ]
     },
     "metadata": {},
     "output_type": "display_data"
    },
    {
     "data": {
      "application/vnd.jupyter.widget-view+json": {
       "model_id": "",
       "version_major": 2,
       "version_minor": 0
      },
      "text/plain": [
       "  ... working at frequency = 6802.0 Hz:   0%|          | 0/200 [00:00<?, ?it/s]"
      ]
     },
     "metadata": {},
     "output_type": "display_data"
    },
    {
     "data": {
      "application/vnd.jupyter.widget-view+json": {
       "model_id": "",
       "version_major": 2,
       "version_minor": 0
      },
      "text/plain": [
       "  ... working at frequency = 6852.0 Hz:   0%|          | 0/200 [00:00<?, ?it/s]"
      ]
     },
     "metadata": {},
     "output_type": "display_data"
    },
    {
     "data": {
      "application/vnd.jupyter.widget-view+json": {
       "model_id": "",
       "version_major": 2,
       "version_minor": 0
      },
      "text/plain": [
       "  ... working at frequency = 6902.0 Hz:   0%|          | 0/200 [00:00<?, ?it/s]"
      ]
     },
     "metadata": {},
     "output_type": "display_data"
    },
    {
     "data": {
      "application/vnd.jupyter.widget-view+json": {
       "model_id": "",
       "version_major": 2,
       "version_minor": 0
      },
      "text/plain": [
       "  ... working at frequency = 6952.0 Hz:   0%|          | 0/200 [00:00<?, ?it/s]"
      ]
     },
     "metadata": {},
     "output_type": "display_data"
    },
    {
     "data": {
      "application/vnd.jupyter.widget-view+json": {
       "model_id": "",
       "version_major": 2,
       "version_minor": 0
      },
      "text/plain": [
       "  ... working at frequency = 7002.0 Hz:   0%|          | 0/200 [00:00<?, ?it/s]"
      ]
     },
     "metadata": {},
     "output_type": "display_data"
    },
    {
     "data": {
      "application/vnd.jupyter.widget-view+json": {
       "model_id": "",
       "version_major": 2,
       "version_minor": 0
      },
      "text/plain": [
       "  ... working at frequency = 7052.0 Hz:   0%|          | 0/200 [00:00<?, ?it/s]"
      ]
     },
     "metadata": {},
     "output_type": "display_data"
    },
    {
     "data": {
      "application/vnd.jupyter.widget-view+json": {
       "model_id": "",
       "version_major": 2,
       "version_minor": 0
      },
      "text/plain": [
       "  ... working at frequency = 7102.0 Hz:   0%|          | 0/200 [00:00<?, ?it/s]"
      ]
     },
     "metadata": {},
     "output_type": "display_data"
    },
    {
     "data": {
      "application/vnd.jupyter.widget-view+json": {
       "model_id": "",
       "version_major": 2,
       "version_minor": 0
      },
      "text/plain": [
       "  ... working at frequency = 7152.0 Hz:   0%|          | 0/200 [00:00<?, ?it/s]"
      ]
     },
     "metadata": {},
     "output_type": "display_data"
    },
    {
     "data": {
      "application/vnd.jupyter.widget-view+json": {
       "model_id": "",
       "version_major": 2,
       "version_minor": 0
      },
      "text/plain": [
       "  ... working at frequency = 7202.0 Hz:   0%|          | 0/200 [00:00<?, ?it/s]"
      ]
     },
     "metadata": {},
     "output_type": "display_data"
    },
    {
     "data": {
      "application/vnd.jupyter.widget-view+json": {
       "model_id": "",
       "version_major": 2,
       "version_minor": 0
      },
      "text/plain": [
       "  ... working at frequency = 7252.0 Hz:   0%|          | 0/200 [00:00<?, ?it/s]"
      ]
     },
     "metadata": {},
     "output_type": "display_data"
    },
    {
     "data": {
      "application/vnd.jupyter.widget-view+json": {
       "model_id": "",
       "version_major": 2,
       "version_minor": 0
      },
      "text/plain": [
       "  ... working at frequency = 7302.0 Hz:   0%|          | 0/200 [00:00<?, ?it/s]"
      ]
     },
     "metadata": {},
     "output_type": "display_data"
    },
    {
     "data": {
      "application/vnd.jupyter.widget-view+json": {
       "model_id": "",
       "version_major": 2,
       "version_minor": 0
      },
      "text/plain": [
       "  ... working at frequency = 7352.0 Hz:   0%|          | 0/200 [00:00<?, ?it/s]"
      ]
     },
     "metadata": {},
     "output_type": "display_data"
    },
    {
     "data": {
      "application/vnd.jupyter.widget-view+json": {
       "model_id": "",
       "version_major": 2,
       "version_minor": 0
      },
      "text/plain": [
       "  ... working at frequency = 7402.0 Hz:   0%|          | 0/200 [00:00<?, ?it/s]"
      ]
     },
     "metadata": {},
     "output_type": "display_data"
    },
    {
     "data": {
      "application/vnd.jupyter.widget-view+json": {
       "model_id": "",
       "version_major": 2,
       "version_minor": 0
      },
      "text/plain": [
       "  ... working at frequency = 7452.0 Hz:   0%|          | 0/200 [00:00<?, ?it/s]"
      ]
     },
     "metadata": {},
     "output_type": "display_data"
    },
    {
     "data": {
      "application/vnd.jupyter.widget-view+json": {
       "model_id": "",
       "version_major": 2,
       "version_minor": 0
      },
      "text/plain": [
       "  ... working at frequency = 7502.0 Hz:   0%|          | 0/200 [00:00<?, ?it/s]"
      ]
     },
     "metadata": {},
     "output_type": "display_data"
    },
    {
     "data": {
      "application/vnd.jupyter.widget-view+json": {
       "model_id": "",
       "version_major": 2,
       "version_minor": 0
      },
      "text/plain": [
       "  ... working at frequency = 7552.0 Hz:   0%|          | 0/200 [00:00<?, ?it/s]"
      ]
     },
     "metadata": {},
     "output_type": "display_data"
    },
    {
     "data": {
      "application/vnd.jupyter.widget-view+json": {
       "model_id": "",
       "version_major": 2,
       "version_minor": 0
      },
      "text/plain": [
       "  ... working at frequency = 7602.0 Hz:   0%|          | 0/200 [00:00<?, ?it/s]"
      ]
     },
     "metadata": {},
     "output_type": "display_data"
    },
    {
     "data": {
      "application/vnd.jupyter.widget-view+json": {
       "model_id": "",
       "version_major": 2,
       "version_minor": 0
      },
      "text/plain": [
       "  ... working at frequency = 7652.0 Hz:   0%|          | 0/200 [00:00<?, ?it/s]"
      ]
     },
     "metadata": {},
     "output_type": "display_data"
    },
    {
     "data": {
      "application/vnd.jupyter.widget-view+json": {
       "model_id": "",
       "version_major": 2,
       "version_minor": 0
      },
      "text/plain": [
       "  ... working at frequency = 7702.0 Hz:   0%|          | 0/200 [00:00<?, ?it/s]"
      ]
     },
     "metadata": {},
     "output_type": "display_data"
    },
    {
     "data": {
      "application/vnd.jupyter.widget-view+json": {
       "model_id": "",
       "version_major": 2,
       "version_minor": 0
      },
      "text/plain": [
       "  ... working at frequency = 7752.0 Hz:   0%|          | 0/200 [00:00<?, ?it/s]"
      ]
     },
     "metadata": {},
     "output_type": "display_data"
    },
    {
     "data": {
      "application/vnd.jupyter.widget-view+json": {
       "model_id": "",
       "version_major": 2,
       "version_minor": 0
      },
      "text/plain": [
       "  ... working at frequency = 7802.0 Hz:   0%|          | 0/200 [00:00<?, ?it/s]"
      ]
     },
     "metadata": {},
     "output_type": "display_data"
    },
    {
     "data": {
      "application/vnd.jupyter.widget-view+json": {
       "model_id": "",
       "version_major": 2,
       "version_minor": 0
      },
      "text/plain": [
       "  ... working at frequency = 7852.0 Hz:   0%|          | 0/200 [00:00<?, ?it/s]"
      ]
     },
     "metadata": {},
     "output_type": "display_data"
    },
    {
     "data": {
      "application/vnd.jupyter.widget-view+json": {
       "model_id": "",
       "version_major": 2,
       "version_minor": 0
      },
      "text/plain": [
       "  ... working at frequency = 7902.0 Hz:   0%|          | 0/200 [00:00<?, ?it/s]"
      ]
     },
     "metadata": {},
     "output_type": "display_data"
    },
    {
     "data": {
      "application/vnd.jupyter.widget-view+json": {
       "model_id": "",
       "version_major": 2,
       "version_minor": 0
      },
      "text/plain": [
       "  ... working at frequency = 7952.0 Hz:   0%|          | 0/200 [00:00<?, ?it/s]"
      ]
     },
     "metadata": {},
     "output_type": "display_data"
    },
    {
     "data": {
      "application/vnd.jupyter.widget-view+json": {
       "model_id": "",
       "version_major": 2,
       "version_minor": 0
      },
      "text/plain": [
       "  ... working at frequency = 8002.0 Hz:   0%|          | 0/200 [00:00<?, ?it/s]"
      ]
     },
     "metadata": {},
     "output_type": "display_data"
    },
    {
     "data": {
      "application/vnd.jupyter.widget-view+json": {
       "model_id": "",
       "version_major": 2,
       "version_minor": 0
      },
      "text/plain": [
       "  ... working at frequency = 8052.0 Hz:   0%|          | 0/200 [00:00<?, ?it/s]"
      ]
     },
     "metadata": {},
     "output_type": "display_data"
    },
    {
     "data": {
      "application/vnd.jupyter.widget-view+json": {
       "model_id": "",
       "version_major": 2,
       "version_minor": 0
      },
      "text/plain": [
       "  ... working at frequency = 8102.0 Hz:   0%|          | 0/200 [00:00<?, ?it/s]"
      ]
     },
     "metadata": {},
     "output_type": "display_data"
    },
    {
     "data": {
      "application/vnd.jupyter.widget-view+json": {
       "model_id": "",
       "version_major": 2,
       "version_minor": 0
      },
      "text/plain": [
       "  ... working at frequency = 8152.0 Hz:   0%|          | 0/200 [00:00<?, ?it/s]"
      ]
     },
     "metadata": {},
     "output_type": "display_data"
    },
    {
     "data": {
      "application/vnd.jupyter.widget-view+json": {
       "model_id": "",
       "version_major": 2,
       "version_minor": 0
      },
      "text/plain": [
       "  ... working at frequency = 8202.0 Hz:   0%|          | 0/200 [00:00<?, ?it/s]"
      ]
     },
     "metadata": {},
     "output_type": "display_data"
    },
    {
     "data": {
      "application/vnd.jupyter.widget-view+json": {
       "model_id": "",
       "version_major": 2,
       "version_minor": 0
      },
      "text/plain": [
       "  ... working at frequency = 8252.0 Hz:   0%|          | 0/200 [00:00<?, ?it/s]"
      ]
     },
     "metadata": {},
     "output_type": "display_data"
    },
    {
     "data": {
      "application/vnd.jupyter.widget-view+json": {
       "model_id": "",
       "version_major": 2,
       "version_minor": 0
      },
      "text/plain": [
       "  ... working at frequency = 8302.0 Hz:   0%|          | 0/200 [00:00<?, ?it/s]"
      ]
     },
     "metadata": {},
     "output_type": "display_data"
    },
    {
     "data": {
      "application/vnd.jupyter.widget-view+json": {
       "model_id": "",
       "version_major": 2,
       "version_minor": 0
      },
      "text/plain": [
       "  ... working at frequency = 8352.0 Hz:   0%|          | 0/200 [00:00<?, ?it/s]"
      ]
     },
     "metadata": {},
     "output_type": "display_data"
    },
    {
     "data": {
      "application/vnd.jupyter.widget-view+json": {
       "model_id": "",
       "version_major": 2,
       "version_minor": 0
      },
      "text/plain": [
       "  ... working at frequency = 8402.0 Hz:   0%|          | 0/200 [00:00<?, ?it/s]"
      ]
     },
     "metadata": {},
     "output_type": "display_data"
    },
    {
     "data": {
      "application/vnd.jupyter.widget-view+json": {
       "model_id": "",
       "version_major": 2,
       "version_minor": 0
      },
      "text/plain": [
       "  ... working at frequency = 8452.0 Hz:   0%|          | 0/200 [00:00<?, ?it/s]"
      ]
     },
     "metadata": {},
     "output_type": "display_data"
    },
    {
     "data": {
      "application/vnd.jupyter.widget-view+json": {
       "model_id": "",
       "version_major": 2,
       "version_minor": 0
      },
      "text/plain": [
       "  ... working at frequency = 8502.0 Hz:   0%|          | 0/200 [00:00<?, ?it/s]"
      ]
     },
     "metadata": {},
     "output_type": "display_data"
    },
    {
     "data": {
      "application/vnd.jupyter.widget-view+json": {
       "model_id": "",
       "version_major": 2,
       "version_minor": 0
      },
      "text/plain": [
       "  ... working at frequency = 8552.0 Hz:   0%|          | 0/200 [00:00<?, ?it/s]"
      ]
     },
     "metadata": {},
     "output_type": "display_data"
    },
    {
     "data": {
      "application/vnd.jupyter.widget-view+json": {
       "model_id": "",
       "version_major": 2,
       "version_minor": 0
      },
      "text/plain": [
       "  ... working at frequency = 8602.0 Hz:   0%|          | 0/200 [00:00<?, ?it/s]"
      ]
     },
     "metadata": {},
     "output_type": "display_data"
    },
    {
     "data": {
      "application/vnd.jupyter.widget-view+json": {
       "model_id": "",
       "version_major": 2,
       "version_minor": 0
      },
      "text/plain": [
       "  ... working at frequency = 8652.0 Hz:   0%|          | 0/200 [00:00<?, ?it/s]"
      ]
     },
     "metadata": {},
     "output_type": "display_data"
    },
    {
     "data": {
      "application/vnd.jupyter.widget-view+json": {
       "model_id": "",
       "version_major": 2,
       "version_minor": 0
      },
      "text/plain": [
       "  ... working at frequency = 8702.0 Hz:   0%|          | 0/200 [00:00<?, ?it/s]"
      ]
     },
     "metadata": {},
     "output_type": "display_data"
    },
    {
     "data": {
      "application/vnd.jupyter.widget-view+json": {
       "model_id": "",
       "version_major": 2,
       "version_minor": 0
      },
      "text/plain": [
       "  ... working at frequency = 8752.0 Hz:   0%|          | 0/200 [00:00<?, ?it/s]"
      ]
     },
     "metadata": {},
     "output_type": "display_data"
    },
    {
     "data": {
      "application/vnd.jupyter.widget-view+json": {
       "model_id": "",
       "version_major": 2,
       "version_minor": 0
      },
      "text/plain": [
       "  ... working at frequency = 8802.0 Hz:   0%|          | 0/200 [00:00<?, ?it/s]"
      ]
     },
     "metadata": {},
     "output_type": "display_data"
    },
    {
     "data": {
      "application/vnd.jupyter.widget-view+json": {
       "model_id": "",
       "version_major": 2,
       "version_minor": 0
      },
      "text/plain": [
       "  ... working at frequency = 8852.0 Hz:   0%|          | 0/200 [00:00<?, ?it/s]"
      ]
     },
     "metadata": {},
     "output_type": "display_data"
    },
    {
     "data": {
      "application/vnd.jupyter.widget-view+json": {
       "model_id": "",
       "version_major": 2,
       "version_minor": 0
      },
      "text/plain": [
       "  ... working at frequency = 8902.0 Hz:   0%|          | 0/200 [00:00<?, ?it/s]"
      ]
     },
     "metadata": {},
     "output_type": "display_data"
    },
    {
     "data": {
      "application/vnd.jupyter.widget-view+json": {
       "model_id": "",
       "version_major": 2,
       "version_minor": 0
      },
      "text/plain": [
       "  ... working at frequency = 8952.0 Hz:   0%|          | 0/200 [00:00<?, ?it/s]"
      ]
     },
     "metadata": {},
     "output_type": "display_data"
    },
    {
     "data": {
      "application/vnd.jupyter.widget-view+json": {
       "model_id": "",
       "version_major": 2,
       "version_minor": 0
      },
      "text/plain": [
       "  ... working at frequency = 9002.0 Hz:   0%|          | 0/200 [00:00<?, ?it/s]"
      ]
     },
     "metadata": {},
     "output_type": "display_data"
    },
    {
     "data": {
      "application/vnd.jupyter.widget-view+json": {
       "model_id": "",
       "version_major": 2,
       "version_minor": 0
      },
      "text/plain": [
       "  ... working at frequency = 9052.0 Hz:   0%|          | 0/200 [00:00<?, ?it/s]"
      ]
     },
     "metadata": {},
     "output_type": "display_data"
    },
    {
     "data": {
      "application/vnd.jupyter.widget-view+json": {
       "model_id": "",
       "version_major": 2,
       "version_minor": 0
      },
      "text/plain": [
       "  ... working at frequency = 9102.0 Hz:   0%|          | 0/200 [00:00<?, ?it/s]"
      ]
     },
     "metadata": {},
     "output_type": "display_data"
    },
    {
     "data": {
      "application/vnd.jupyter.widget-view+json": {
       "model_id": "",
       "version_major": 2,
       "version_minor": 0
      },
      "text/plain": [
       "  ... working at frequency = 9152.0 Hz:   0%|          | 0/200 [00:00<?, ?it/s]"
      ]
     },
     "metadata": {},
     "output_type": "display_data"
    },
    {
     "data": {
      "application/vnd.jupyter.widget-view+json": {
       "model_id": "",
       "version_major": 2,
       "version_minor": 0
      },
      "text/plain": [
       "  ... working at frequency = 9202.0 Hz:   0%|          | 0/200 [00:00<?, ?it/s]"
      ]
     },
     "metadata": {},
     "output_type": "display_data"
    },
    {
     "data": {
      "application/vnd.jupyter.widget-view+json": {
       "model_id": "",
       "version_major": 2,
       "version_minor": 0
      },
      "text/plain": [
       "  ... working at frequency = 9252.0 Hz:   0%|          | 0/200 [00:00<?, ?it/s]"
      ]
     },
     "metadata": {},
     "output_type": "display_data"
    },
    {
     "data": {
      "application/vnd.jupyter.widget-view+json": {
       "model_id": "",
       "version_major": 2,
       "version_minor": 0
      },
      "text/plain": [
       "  ... working at frequency = 9302.0 Hz:   0%|          | 0/200 [00:00<?, ?it/s]"
      ]
     },
     "metadata": {},
     "output_type": "display_data"
    },
    {
     "data": {
      "application/vnd.jupyter.widget-view+json": {
       "model_id": "",
       "version_major": 2,
       "version_minor": 0
      },
      "text/plain": [
       "  ... working at frequency = 9352.0 Hz:   0%|          | 0/200 [00:00<?, ?it/s]"
      ]
     },
     "metadata": {},
     "output_type": "display_data"
    },
    {
     "data": {
      "application/vnd.jupyter.widget-view+json": {
       "model_id": "",
       "version_major": 2,
       "version_minor": 0
      },
      "text/plain": [
       "  ... working at frequency = 9402.0 Hz:   0%|          | 0/200 [00:00<?, ?it/s]"
      ]
     },
     "metadata": {},
     "output_type": "display_data"
    },
    {
     "data": {
      "application/vnd.jupyter.widget-view+json": {
       "model_id": "",
       "version_major": 2,
       "version_minor": 0
      },
      "text/plain": [
       "  ... working at frequency = 9452.0 Hz:   0%|          | 0/200 [00:00<?, ?it/s]"
      ]
     },
     "metadata": {},
     "output_type": "display_data"
    },
    {
     "data": {
      "application/vnd.jupyter.widget-view+json": {
       "model_id": "",
       "version_major": 2,
       "version_minor": 0
      },
      "text/plain": [
       "  ... working at frequency = 9502.0 Hz:   0%|          | 0/200 [00:00<?, ?it/s]"
      ]
     },
     "metadata": {},
     "output_type": "display_data"
    },
    {
     "data": {
      "application/vnd.jupyter.widget-view+json": {
       "model_id": "",
       "version_major": 2,
       "version_minor": 0
      },
      "text/plain": [
       "  ... working at frequency = 9552.0 Hz:   0%|          | 0/200 [00:00<?, ?it/s]"
      ]
     },
     "metadata": {},
     "output_type": "display_data"
    },
    {
     "data": {
      "application/vnd.jupyter.widget-view+json": {
       "model_id": "",
       "version_major": 2,
       "version_minor": 0
      },
      "text/plain": [
       "  ... working at frequency = 9602.0 Hz:   0%|          | 0/200 [00:00<?, ?it/s]"
      ]
     },
     "metadata": {},
     "output_type": "display_data"
    },
    {
     "data": {
      "application/vnd.jupyter.widget-view+json": {
       "model_id": "",
       "version_major": 2,
       "version_minor": 0
      },
      "text/plain": [
       "  ... working at frequency = 9652.0 Hz:   0%|          | 0/200 [00:00<?, ?it/s]"
      ]
     },
     "metadata": {},
     "output_type": "display_data"
    },
    {
     "data": {
      "application/vnd.jupyter.widget-view+json": {
       "model_id": "",
       "version_major": 2,
       "version_minor": 0
      },
      "text/plain": [
       "  ... working at frequency = 9702.0 Hz:   0%|          | 0/200 [00:00<?, ?it/s]"
      ]
     },
     "metadata": {},
     "output_type": "display_data"
    },
    {
     "data": {
      "application/vnd.jupyter.widget-view+json": {
       "model_id": "",
       "version_major": 2,
       "version_minor": 0
      },
      "text/plain": [
       "  ... working at frequency = 9752.0 Hz:   0%|          | 0/200 [00:00<?, ?it/s]"
      ]
     },
     "metadata": {},
     "output_type": "display_data"
    },
    {
     "data": {
      "application/vnd.jupyter.widget-view+json": {
       "model_id": "",
       "version_major": 2,
       "version_minor": 0
      },
      "text/plain": [
       "  ... working at frequency = 9802.0 Hz:   0%|          | 0/200 [00:00<?, ?it/s]"
      ]
     },
     "metadata": {},
     "output_type": "display_data"
    },
    {
     "data": {
      "application/vnd.jupyter.widget-view+json": {
       "model_id": "",
       "version_major": 2,
       "version_minor": 0
      },
      "text/plain": [
       "  ... working at frequency = 9852.0 Hz:   0%|          | 0/200 [00:00<?, ?it/s]"
      ]
     },
     "metadata": {},
     "output_type": "display_data"
    },
    {
     "data": {
      "application/vnd.jupyter.widget-view+json": {
       "model_id": "",
       "version_major": 2,
       "version_minor": 0
      },
      "text/plain": [
       "  ... working at frequency = 9902.0 Hz:   0%|          | 0/200 [00:00<?, ?it/s]"
      ]
     },
     "metadata": {},
     "output_type": "display_data"
    },
    {
     "data": {
      "application/vnd.jupyter.widget-view+json": {
       "model_id": "",
       "version_major": 2,
       "version_minor": 0
      },
      "text/plain": [
       "  ... working at frequency = 9952.0 Hz:   0%|          | 0/200 [00:00<?, ?it/s]"
      ]
     },
     "metadata": {},
     "output_type": "display_data"
    },
    {
     "data": {
      "application/vnd.jupyter.widget-view+json": {
       "model_id": "84f7f681823147cfac3bba4e92bc62d9",
       "version_major": 2,
       "version_minor": 0
      },
      "text/plain": [
       "  ... working at frequency = 10002.0 Hz:   0%|          | 0/200 [00:00<?, ?it/s]"
      ]
     },
     "metadata": {},
     "output_type": "display_data"
    },
    {
     "name": "stdout",
     "output_type": "stream",
     "text": [
      "\n",
      "\n",
      "self.frequency_array.shape[0] = 201 is same as self.wavenumer_array.shape[0] = 201\n",
      "Save file to /Users/chenghunglin/Documents/sin_3_4_05_vol_2.xlsx\n"
     ]
    }
   ],
   "source": [
    "sin_3_4_05_vol_2 = anechoic_sound_absorption(determinant, frequency_array,\n",
    "                              fp = '/Users/chenghunglin/Documents/', \n",
    "                              fn = 'sin_3_4_05_vol_2.xlsx', \n",
    "                              material='rubber', shape='sin', \n",
    "                              p=3e-3, q=4e-3, lh=40e-3, cell_radius=15e-3, \n",
    "                              theta=0.5, phi=3e-3, length_unit='m',\n",
    "                              num_segments=200, layer_density=1100, air_density=1.21, \n",
    "                              Young_modulus=0.14e9, Poisson_ratio=0.49, loss_factor=0.23, \n",
    "                              medium_density=998, sound_speed_medium=1483, \n",
    "                              use_volume=True)"
   ]
  },
  {
   "cell_type": "code",
   "execution_count": 13,
   "metadata": {},
   "outputs": [
    {
     "name": "stdout",
     "output_type": "stream",
     "text": [
      "self.frequency_array.shape[0] = 101 is same as self.wavenumer_array.shape[0] = 101\n",
      "self.frequency_array.shape[0] = 101 is same as self.wavenumer_array.shape[0] = 101\n",
      "self.frequency_array.shape[0] = 201 is same as self.wavenumer_array.shape[0] = 201\n"
     ]
    },
    {
     "data": {
      "text/plain": [
       "<matplotlib.legend.Legend at 0x1568d2f90>"
      ]
     },
     "execution_count": 13,
     "metadata": {},
     "output_type": "execute_result"
    },
    {
     "data": {
      "application/vnd.jupyter.widget-view+json": {
       "model_id": "d7ed10a6e485440087004902ae18bb6f",
       "version_major": 2,
       "version_minor": 0
      },
      "image/png": "[encoded data removed]",
      "text/html": [
       "\n",
       "            <div style=\"display: inline-block;\">\n",
       "                <div class=\"jupyter-widgets widget-label\" style=\"text-align: center;\">\n",
       "                    Figure\n",
       "                </div>\n",
       "                <img src='data:image/png;base64,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' width=640.0/>\n",
       "            </div>\n",
       "        "
      ],
      "text/plain": [
       "Canvas(toolbar=Toolbar(toolitems=[('Home', 'Reset original view', 'home', 'home'), ('Back', 'Back to previous …"
      ]
     },
     "metadata": {},
     "output_type": "display_data"
    }
   ],
   "source": [
    "plt.figure()\n",
    "plt.plot(sin_3_4_05_vol.frequency_array, sin_3_4_05_vol.absorption_frequency(), label='sin, p=3, q=4, fr100, seg100, vol')\n",
    "plt.plot(sin_3_4_05_rad.frequency_array, sin_3_4_05_rad.absorption_frequency(), label='sin, p=3, q=4, fr100, seg100, rad')\n",
    "plt.plot(sin_3_4_05_vol_2.frequency_array, sin_3_4_05_vol_2.absorption_frequency(), label='sin, p=3, q=4, fr50, seg200, vol')\n",
    "# plt.plot(horn_1_11.frequency_array, horn_1_11.absorption_frequency(), label='horn, p=1, q=11, volume')\n",
    "plt.legend()"
   ]
  },
  {
   "cell_type": "code",
   "execution_count": 14,
   "metadata": {},
   "outputs": [],
   "source": [
    "frequency_array = np.arange(2, 10052, 50)"
   ]
  },
  {
   "cell_type": "code",
   "execution_count": 15,
   "metadata": {},
   "outputs": [
    {
     "data": {
      "application/vnd.jupyter.widget-view+json": {
       "model_id": "e621cf09b09642a8bd04509c6cecbf9a",
       "version_major": 2,
       "version_minor": 0
      },
      "image/png": "[encoded data removed]",
      "text/html": [
       "\n",
       "            <div style=\"display: inline-block;\">\n",
       "                <div class=\"jupyter-widgets widget-label\" style=\"text-align: center;\">\n",
       "                    Figure\n",
       "                </div>\n",
       "                <img src='data:image/png;base64,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' width=640.0/>\n",
       "            </div>\n",
       "        "
      ],
      "text/plain": [
       "Canvas(toolbar=Toolbar(toolitems=[('Home', 'Reset original view', 'home', 'home'), ('Back', 'Back to previous …"
      ]
     },
     "metadata": {},
     "output_type": "display_data"
    },
    {
     "name": "stdout",
     "output_type": "stream",
     "text": [
      "Solving wavenumber in determinant for shape = sin, p = 0.003, q = 0.004, Young's = 140000000.0\n"
     ]
    },
    {
     "data": {
      "application/vnd.jupyter.widget-view+json": {
       "model_id": "e45d1ce9fa1c4b7ca6a0add88c75617a",
       "version_major": 2,
       "version_minor": 0
      },
      "text/plain": [
       "Solving for all frequencies:   0%|          | 0/201 [00:00<?, ?it/s]"
      ]
     },
     "metadata": {},
     "output_type": "display_data"
    },
    {
     "data": {
      "application/vnd.jupyter.widget-view+json": {
       "model_id": "",
       "version_major": 2,
       "version_minor": 0
      },
      "text/plain": [
       "  ... working at frequency = 2.0 Hz:   0%|          | 0/100 [00:00<?, ?it/s]"
      ]
     },
     "metadata": {},
     "output_type": "display_data"
    },
    {
     "data": {
      "application/vnd.jupyter.widget-view+json": {
       "model_id": "",
       "version_major": 2,
       "version_minor": 0
      },
      "text/plain": [
       "  ... working at frequency = 52.0 Hz:   0%|          | 0/100 [00:00<?, ?it/s]"
      ]
     },
     "metadata": {},
     "output_type": "display_data"
    },
    {
     "data": {
      "application/vnd.jupyter.widget-view+json": {
       "model_id": "",
       "version_major": 2,
       "version_minor": 0
      },
      "text/plain": [
       "  ... working at frequency = 102.0 Hz:   0%|          | 0/100 [00:00<?, ?it/s]"
      ]
     },
     "metadata": {},
     "output_type": "display_data"
    },
    {
     "data": {
      "application/vnd.jupyter.widget-view+json": {
       "model_id": "",
       "version_major": 2,
       "version_minor": 0
      },
      "text/plain": [
       "  ... working at frequency = 152.0 Hz:   0%|          | 0/100 [00:00<?, ?it/s]"
      ]
     },
     "metadata": {},
     "output_type": "display_data"
    },
    {
     "data": {
      "application/vnd.jupyter.widget-view+json": {
       "model_id": "",
       "version_major": 2,
       "version_minor": 0
      },
      "text/plain": [
       "  ... working at frequency = 202.0 Hz:   0%|          | 0/100 [00:00<?, ?it/s]"
      ]
     },
     "metadata": {},
     "output_type": "display_data"
    },
    {
     "data": {
      "application/vnd.jupyter.widget-view+json": {
       "model_id": "",
       "version_major": 2,
       "version_minor": 0
      },
      "text/plain": [
       "  ... working at frequency = 252.0 Hz:   0%|          | 0/100 [00:00<?, ?it/s]"
      ]
     },
     "metadata": {},
     "output_type": "display_data"
    },
    {
     "data": {
      "application/vnd.jupyter.widget-view+json": {
       "model_id": "",
       "version_major": 2,
       "version_minor": 0
      },
      "text/plain": [
       "  ... working at frequency = 302.0 Hz:   0%|          | 0/100 [00:00<?, ?it/s]"
      ]
     },
     "metadata": {},
     "output_type": "display_data"
    },
    {
     "data": {
      "application/vnd.jupyter.widget-view+json": {
       "model_id": "",
       "version_major": 2,
       "version_minor": 0
      },
      "text/plain": [
       "  ... working at frequency = 352.0 Hz:   0%|          | 0/100 [00:00<?, ?it/s]"
      ]
     },
     "metadata": {},
     "output_type": "display_data"
    },
    {
     "data": {
      "application/vnd.jupyter.widget-view+json": {
       "model_id": "",
       "version_major": 2,
       "version_minor": 0
      },
      "text/plain": [
       "  ... working at frequency = 402.0 Hz:   0%|          | 0/100 [00:00<?, ?it/s]"
      ]
     },
     "metadata": {},
     "output_type": "display_data"
    },
    {
     "data": {
      "application/vnd.jupyter.widget-view+json": {
       "model_id": "",
       "version_major": 2,
       "version_minor": 0
      },
      "text/plain": [
       "  ... working at frequency = 452.0 Hz:   0%|          | 0/100 [00:00<?, ?it/s]"
      ]
     },
     "metadata": {},
     "output_type": "display_data"
    },
    {
     "data": {
      "application/vnd.jupyter.widget-view+json": {
       "model_id": "",
       "version_major": 2,
       "version_minor": 0
      },
      "text/plain": [
       "  ... working at frequency = 502.0 Hz:   0%|          | 0/100 [00:00<?, ?it/s]"
      ]
     },
     "metadata": {},
     "output_type": "display_data"
    },
    {
     "data": {
      "application/vnd.jupyter.widget-view+json": {
       "model_id": "",
       "version_major": 2,
       "version_minor": 0
      },
      "text/plain": [
       "  ... working at frequency = 552.0 Hz:   0%|          | 0/100 [00:00<?, ?it/s]"
      ]
     },
     "metadata": {},
     "output_type": "display_data"
    },
    {
     "data": {
      "application/vnd.jupyter.widget-view+json": {
       "model_id": "",
       "version_major": 2,
       "version_minor": 0
      },
      "text/plain": [
       "  ... working at frequency = 602.0 Hz:   0%|          | 0/100 [00:00<?, ?it/s]"
      ]
     },
     "metadata": {},
     "output_type": "display_data"
    },
    {
     "data": {
      "application/vnd.jupyter.widget-view+json": {
       "model_id": "",
       "version_major": 2,
       "version_minor": 0
      },
      "text/plain": [
       "  ... working at frequency = 652.0 Hz:   0%|          | 0/100 [00:00<?, ?it/s]"
      ]
     },
     "metadata": {},
     "output_type": "display_data"
    },
    {
     "data": {
      "application/vnd.jupyter.widget-view+json": {
       "model_id": "",
       "version_major": 2,
       "version_minor": 0
      },
      "text/plain": [
       "  ... working at frequency = 702.0 Hz:   0%|          | 0/100 [00:00<?, ?it/s]"
      ]
     },
     "metadata": {},
     "output_type": "display_data"
    },
    {
     "data": {
      "application/vnd.jupyter.widget-view+json": {
       "model_id": "",
       "version_major": 2,
       "version_minor": 0
      },
      "text/plain": [
       "  ... working at frequency = 752.0 Hz:   0%|          | 0/100 [00:00<?, ?it/s]"
      ]
     },
     "metadata": {},
     "output_type": "display_data"
    },
    {
     "data": {
      "application/vnd.jupyter.widget-view+json": {
       "model_id": "",
       "version_major": 2,
       "version_minor": 0
      },
      "text/plain": [
       "  ... working at frequency = 802.0 Hz:   0%|          | 0/100 [00:00<?, ?it/s]"
      ]
     },
     "metadata": {},
     "output_type": "display_data"
    },
    {
     "data": {
      "application/vnd.jupyter.widget-view+json": {
       "model_id": "",
       "version_major": 2,
       "version_minor": 0
      },
      "text/plain": [
       "  ... working at frequency = 852.0 Hz:   0%|          | 0/100 [00:00<?, ?it/s]"
      ]
     },
     "metadata": {},
     "output_type": "display_data"
    },
    {
     "data": {
      "application/vnd.jupyter.widget-view+json": {
       "model_id": "",
       "version_major": 2,
       "version_minor": 0
      },
      "text/plain": [
       "  ... working at frequency = 902.0 Hz:   0%|          | 0/100 [00:00<?, ?it/s]"
      ]
     },
     "metadata": {},
     "output_type": "display_data"
    },
    {
     "data": {
      "application/vnd.jupyter.widget-view+json": {
       "model_id": "",
       "version_major": 2,
       "version_minor": 0
      },
      "text/plain": [
       "  ... working at frequency = 952.0 Hz:   0%|          | 0/100 [00:00<?, ?it/s]"
      ]
     },
     "metadata": {},
     "output_type": "display_data"
    },
    {
     "data": {
      "application/vnd.jupyter.widget-view+json": {
       "model_id": "",
       "version_major": 2,
       "version_minor": 0
      },
      "text/plain": [
       "  ... working at frequency = 1002.0 Hz:   0%|          | 0/100 [00:00<?, ?it/s]"
      ]
     },
     "metadata": {},
     "output_type": "display_data"
    },
    {
     "data": {
      "application/vnd.jupyter.widget-view+json": {
       "model_id": "",
       "version_major": 2,
       "version_minor": 0
      },
      "text/plain": [
       "  ... working at frequency = 1052.0 Hz:   0%|          | 0/100 [00:00<?, ?it/s]"
      ]
     },
     "metadata": {},
     "output_type": "display_data"
    },
    {
     "data": {
      "application/vnd.jupyter.widget-view+json": {
       "model_id": "",
       "version_major": 2,
       "version_minor": 0
      },
      "text/plain": [
       "  ... working at frequency = 1102.0 Hz:   0%|          | 0/100 [00:00<?, ?it/s]"
      ]
     },
     "metadata": {},
     "output_type": "display_data"
    },
    {
     "data": {
      "application/vnd.jupyter.widget-view+json": {
       "model_id": "",
       "version_major": 2,
       "version_minor": 0
      },
      "text/plain": [
       "  ... working at frequency = 1152.0 Hz:   0%|          | 0/100 [00:00<?, ?it/s]"
      ]
     },
     "metadata": {},
     "output_type": "display_data"
    },
    {
     "data": {
      "application/vnd.jupyter.widget-view+json": {
       "model_id": "",
       "version_major": 2,
       "version_minor": 0
      },
      "text/plain": [
       "  ... working at frequency = 1202.0 Hz:   0%|          | 0/100 [00:00<?, ?it/s]"
      ]
     },
     "metadata": {},
     "output_type": "display_data"
    },
    {
     "data": {
      "application/vnd.jupyter.widget-view+json": {
       "model_id": "",
       "version_major": 2,
       "version_minor": 0
      },
      "text/plain": [
       "  ... working at frequency = 1252.0 Hz:   0%|          | 0/100 [00:00<?, ?it/s]"
      ]
     },
     "metadata": {},
     "output_type": "display_data"
    },
    {
     "data": {
      "application/vnd.jupyter.widget-view+json": {
       "model_id": "",
       "version_major": 2,
       "version_minor": 0
      },
      "text/plain": [
       "  ... working at frequency = 1302.0 Hz:   0%|          | 0/100 [00:00<?, ?it/s]"
      ]
     },
     "metadata": {},
     "output_type": "display_data"
    },
    {
     "data": {
      "application/vnd.jupyter.widget-view+json": {
       "model_id": "",
       "version_major": 2,
       "version_minor": 0
      },
      "text/plain": [
       "  ... working at frequency = 1352.0 Hz:   0%|          | 0/100 [00:00<?, ?it/s]"
      ]
     },
     "metadata": {},
     "output_type": "display_data"
    },
    {
     "data": {
      "application/vnd.jupyter.widget-view+json": {
       "model_id": "",
       "version_major": 2,
       "version_minor": 0
      },
      "text/plain": [
       "  ... working at frequency = 1402.0 Hz:   0%|          | 0/100 [00:00<?, ?it/s]"
      ]
     },
     "metadata": {},
     "output_type": "display_data"
    },
    {
     "data": {
      "application/vnd.jupyter.widget-view+json": {
       "model_id": "",
       "version_major": 2,
       "version_minor": 0
      },
      "text/plain": [
       "  ... working at frequency = 1452.0 Hz:   0%|          | 0/100 [00:00<?, ?it/s]"
      ]
     },
     "metadata": {},
     "output_type": "display_data"
    },
    {
     "data": {
      "application/vnd.jupyter.widget-view+json": {
       "model_id": "",
       "version_major": 2,
       "version_minor": 0
      },
      "text/plain": [
       "  ... working at frequency = 1502.0 Hz:   0%|          | 0/100 [00:00<?, ?it/s]"
      ]
     },
     "metadata": {},
     "output_type": "display_data"
    },
    {
     "data": {
      "application/vnd.jupyter.widget-view+json": {
       "model_id": "",
       "version_major": 2,
       "version_minor": 0
      },
      "text/plain": [
       "  ... working at frequency = 1552.0 Hz:   0%|          | 0/100 [00:00<?, ?it/s]"
      ]
     },
     "metadata": {},
     "output_type": "display_data"
    },
    {
     "data": {
      "application/vnd.jupyter.widget-view+json": {
       "model_id": "",
       "version_major": 2,
       "version_minor": 0
      },
      "text/plain": [
       "  ... working at frequency = 1602.0 Hz:   0%|          | 0/100 [00:00<?, ?it/s]"
      ]
     },
     "metadata": {},
     "output_type": "display_data"
    },
    {
     "data": {
      "application/vnd.jupyter.widget-view+json": {
       "model_id": "",
       "version_major": 2,
       "version_minor": 0
      },
      "text/plain": [
       "  ... working at frequency = 1652.0 Hz:   0%|          | 0/100 [00:00<?, ?it/s]"
      ]
     },
     "metadata": {},
     "output_type": "display_data"
    },
    {
     "data": {
      "application/vnd.jupyter.widget-view+json": {
       "model_id": "",
       "version_major": 2,
       "version_minor": 0
      },
      "text/plain": [
       "  ... working at frequency = 1702.0 Hz:   0%|          | 0/100 [00:00<?, ?it/s]"
      ]
     },
     "metadata": {},
     "output_type": "display_data"
    },
    {
     "data": {
      "application/vnd.jupyter.widget-view+json": {
       "model_id": "",
       "version_major": 2,
       "version_minor": 0
      },
      "text/plain": [
       "  ... working at frequency = 1752.0 Hz:   0%|          | 0/100 [00:00<?, ?it/s]"
      ]
     },
     "metadata": {},
     "output_type": "display_data"
    },
    {
     "data": {
      "application/vnd.jupyter.widget-view+json": {
       "model_id": "",
       "version_major": 2,
       "version_minor": 0
      },
      "text/plain": [
       "  ... working at frequency = 1802.0 Hz:   0%|          | 0/100 [00:00<?, ?it/s]"
      ]
     },
     "metadata": {},
     "output_type": "display_data"
    },
    {
     "data": {
      "application/vnd.jupyter.widget-view+json": {
       "model_id": "",
       "version_major": 2,
       "version_minor": 0
      },
      "text/plain": [
       "  ... working at frequency = 1852.0 Hz:   0%|          | 0/100 [00:00<?, ?it/s]"
      ]
     },
     "metadata": {},
     "output_type": "display_data"
    },
    {
     "data": {
      "application/vnd.jupyter.widget-view+json": {
       "model_id": "",
       "version_major": 2,
       "version_minor": 0
      },
      "text/plain": [
       "  ... working at frequency = 1902.0 Hz:   0%|          | 0/100 [00:00<?, ?it/s]"
      ]
     },
     "metadata": {},
     "output_type": "display_data"
    },
    {
     "data": {
      "application/vnd.jupyter.widget-view+json": {
       "model_id": "",
       "version_major": 2,
       "version_minor": 0
      },
      "text/plain": [
       "  ... working at frequency = 1952.0 Hz:   0%|          | 0/100 [00:00<?, ?it/s]"
      ]
     },
     "metadata": {},
     "output_type": "display_data"
    },
    {
     "data": {
      "application/vnd.jupyter.widget-view+json": {
       "model_id": "",
       "version_major": 2,
       "version_minor": 0
      },
      "text/plain": [
       "  ... working at frequency = 2002.0 Hz:   0%|          | 0/100 [00:00<?, ?it/s]"
      ]
     },
     "metadata": {},
     "output_type": "display_data"
    },
    {
     "data": {
      "application/vnd.jupyter.widget-view+json": {
       "model_id": "",
       "version_major": 2,
       "version_minor": 0
      },
      "text/plain": [
       "  ... working at frequency = 2052.0 Hz:   0%|          | 0/100 [00:00<?, ?it/s]"
      ]
     },
     "metadata": {},
     "output_type": "display_data"
    },
    {
     "data": {
      "application/vnd.jupyter.widget-view+json": {
       "model_id": "",
       "version_major": 2,
       "version_minor": 0
      },
      "text/plain": [
       "  ... working at frequency = 2102.0 Hz:   0%|          | 0/100 [00:00<?, ?it/s]"
      ]
     },
     "metadata": {},
     "output_type": "display_data"
    },
    {
     "data": {
      "application/vnd.jupyter.widget-view+json": {
       "model_id": "",
       "version_major": 2,
       "version_minor": 0
      },
      "text/plain": [
       "  ... working at frequency = 2152.0 Hz:   0%|          | 0/100 [00:00<?, ?it/s]"
      ]
     },
     "metadata": {},
     "output_type": "display_data"
    },
    {
     "data": {
      "application/vnd.jupyter.widget-view+json": {
       "model_id": "",
       "version_major": 2,
       "version_minor": 0
      },
      "text/plain": [
       "  ... working at frequency = 2202.0 Hz:   0%|          | 0/100 [00:00<?, ?it/s]"
      ]
     },
     "metadata": {},
     "output_type": "display_data"
    },
    {
     "data": {
      "application/vnd.jupyter.widget-view+json": {
       "model_id": "",
       "version_major": 2,
       "version_minor": 0
      },
      "text/plain": [
       "  ... working at frequency = 2252.0 Hz:   0%|          | 0/100 [00:00<?, ?it/s]"
      ]
     },
     "metadata": {},
     "output_type": "display_data"
    },
    {
     "data": {
      "application/vnd.jupyter.widget-view+json": {
       "model_id": "",
       "version_major": 2,
       "version_minor": 0
      },
      "text/plain": [
       "  ... working at frequency = 2302.0 Hz:   0%|          | 0/100 [00:00<?, ?it/s]"
      ]
     },
     "metadata": {},
     "output_type": "display_data"
    },
    {
     "data": {
      "application/vnd.jupyter.widget-view+json": {
       "model_id": "",
       "version_major": 2,
       "version_minor": 0
      },
      "text/plain": [
       "  ... working at frequency = 2352.0 Hz:   0%|          | 0/100 [00:00<?, ?it/s]"
      ]
     },
     "metadata": {},
     "output_type": "display_data"
    },
    {
     "data": {
      "application/vnd.jupyter.widget-view+json": {
       "model_id": "",
       "version_major": 2,
       "version_minor": 0
      },
      "text/plain": [
       "  ... working at frequency = 2402.0 Hz:   0%|          | 0/100 [00:00<?, ?it/s]"
      ]
     },
     "metadata": {},
     "output_type": "display_data"
    },
    {
     "data": {
      "application/vnd.jupyter.widget-view+json": {
       "model_id": "",
       "version_major": 2,
       "version_minor": 0
      },
      "text/plain": [
       "  ... working at frequency = 2452.0 Hz:   0%|          | 0/100 [00:00<?, ?it/s]"
      ]
     },
     "metadata": {},
     "output_type": "display_data"
    },
    {
     "data": {
      "application/vnd.jupyter.widget-view+json": {
       "model_id": "",
       "version_major": 2,
       "version_minor": 0
      },
      "text/plain": [
       "  ... working at frequency = 2502.0 Hz:   0%|          | 0/100 [00:00<?, ?it/s]"
      ]
     },
     "metadata": {},
     "output_type": "display_data"
    },
    {
     "data": {
      "application/vnd.jupyter.widget-view+json": {
       "model_id": "",
       "version_major": 2,
       "version_minor": 0
      },
      "text/plain": [
       "  ... working at frequency = 2552.0 Hz:   0%|          | 0/100 [00:00<?, ?it/s]"
      ]
     },
     "metadata": {},
     "output_type": "display_data"
    },
    {
     "data": {
      "application/vnd.jupyter.widget-view+json": {
       "model_id": "",
       "version_major": 2,
       "version_minor": 0
      },
      "text/plain": [
       "  ... working at frequency = 2602.0 Hz:   0%|          | 0/100 [00:00<?, ?it/s]"
      ]
     },
     "metadata": {},
     "output_type": "display_data"
    },
    {
     "data": {
      "application/vnd.jupyter.widget-view+json": {
       "model_id": "",
       "version_major": 2,
       "version_minor": 0
      },
      "text/plain": [
       "  ... working at frequency = 2652.0 Hz:   0%|          | 0/100 [00:00<?, ?it/s]"
      ]
     },
     "metadata": {},
     "output_type": "display_data"
    },
    {
     "data": {
      "application/vnd.jupyter.widget-view+json": {
       "model_id": "",
       "version_major": 2,
       "version_minor": 0
      },
      "text/plain": [
       "  ... working at frequency = 2702.0 Hz:   0%|          | 0/100 [00:00<?, ?it/s]"
      ]
     },
     "metadata": {},
     "output_type": "display_data"
    },
    {
     "data": {
      "application/vnd.jupyter.widget-view+json": {
       "model_id": "",
       "version_major": 2,
       "version_minor": 0
      },
      "text/plain": [
       "  ... working at frequency = 2752.0 Hz:   0%|          | 0/100 [00:00<?, ?it/s]"
      ]
     },
     "metadata": {},
     "output_type": "display_data"
    },
    {
     "data": {
      "application/vnd.jupyter.widget-view+json": {
       "model_id": "",
       "version_major": 2,
       "version_minor": 0
      },
      "text/plain": [
       "  ... working at frequency = 2802.0 Hz:   0%|          | 0/100 [00:00<?, ?it/s]"
      ]
     },
     "metadata": {},
     "output_type": "display_data"
    },
    {
     "data": {
      "application/vnd.jupyter.widget-view+json": {
       "model_id": "",
       "version_major": 2,
       "version_minor": 0
      },
      "text/plain": [
       "  ... working at frequency = 2852.0 Hz:   0%|          | 0/100 [00:00<?, ?it/s]"
      ]
     },
     "metadata": {},
     "output_type": "display_data"
    },
    {
     "data": {
      "application/vnd.jupyter.widget-view+json": {
       "model_id": "",
       "version_major": 2,
       "version_minor": 0
      },
      "text/plain": [
       "  ... working at frequency = 2902.0 Hz:   0%|          | 0/100 [00:00<?, ?it/s]"
      ]
     },
     "metadata": {},
     "output_type": "display_data"
    },
    {
     "data": {
      "application/vnd.jupyter.widget-view+json": {
       "model_id": "",
       "version_major": 2,
       "version_minor": 0
      },
      "text/plain": [
       "  ... working at frequency = 2952.0 Hz:   0%|          | 0/100 [00:00<?, ?it/s]"
      ]
     },
     "metadata": {},
     "output_type": "display_data"
    },
    {
     "data": {
      "application/vnd.jupyter.widget-view+json": {
       "model_id": "",
       "version_major": 2,
       "version_minor": 0
      },
      "text/plain": [
       "  ... working at frequency = 3002.0 Hz:   0%|          | 0/100 [00:00<?, ?it/s]"
      ]
     },
     "metadata": {},
     "output_type": "display_data"
    },
    {
     "data": {
      "application/vnd.jupyter.widget-view+json": {
       "model_id": "",
       "version_major": 2,
       "version_minor": 0
      },
      "text/plain": [
       "  ... working at frequency = 3052.0 Hz:   0%|          | 0/100 [00:00<?, ?it/s]"
      ]
     },
     "metadata": {},
     "output_type": "display_data"
    },
    {
     "data": {
      "application/vnd.jupyter.widget-view+json": {
       "model_id": "",
       "version_major": 2,
       "version_minor": 0
      },
      "text/plain": [
       "  ... working at frequency = 3102.0 Hz:   0%|          | 0/100 [00:00<?, ?it/s]"
      ]
     },
     "metadata": {},
     "output_type": "display_data"
    },
    {
     "data": {
      "application/vnd.jupyter.widget-view+json": {
       "model_id": "",
       "version_major": 2,
       "version_minor": 0
      },
      "text/plain": [
       "  ... working at frequency = 3152.0 Hz:   0%|          | 0/100 [00:00<?, ?it/s]"
      ]
     },
     "metadata": {},
     "output_type": "display_data"
    },
    {
     "data": {
      "application/vnd.jupyter.widget-view+json": {
       "model_id": "",
       "version_major": 2,
       "version_minor": 0
      },
      "text/plain": [
       "  ... working at frequency = 3202.0 Hz:   0%|          | 0/100 [00:00<?, ?it/s]"
      ]
     },
     "metadata": {},
     "output_type": "display_data"
    },
    {
     "data": {
      "application/vnd.jupyter.widget-view+json": {
       "model_id": "",
       "version_major": 2,
       "version_minor": 0
      },
      "text/plain": [
       "  ... working at frequency = 3252.0 Hz:   0%|          | 0/100 [00:00<?, ?it/s]"
      ]
     },
     "metadata": {},
     "output_type": "display_data"
    },
    {
     "data": {
      "application/vnd.jupyter.widget-view+json": {
       "model_id": "",
       "version_major": 2,
       "version_minor": 0
      },
      "text/plain": [
       "  ... working at frequency = 3302.0 Hz:   0%|          | 0/100 [00:00<?, ?it/s]"
      ]
     },
     "metadata": {},
     "output_type": "display_data"
    },
    {
     "data": {
      "application/vnd.jupyter.widget-view+json": {
       "model_id": "",
       "version_major": 2,
       "version_minor": 0
      },
      "text/plain": [
       "  ... working at frequency = 3352.0 Hz:   0%|          | 0/100 [00:00<?, ?it/s]"
      ]
     },
     "metadata": {},
     "output_type": "display_data"
    },
    {
     "data": {
      "application/vnd.jupyter.widget-view+json": {
       "model_id": "",
       "version_major": 2,
       "version_minor": 0
      },
      "text/plain": [
       "  ... working at frequency = 3402.0 Hz:   0%|          | 0/100 [00:00<?, ?it/s]"
      ]
     },
     "metadata": {},
     "output_type": "display_data"
    },
    {
     "data": {
      "application/vnd.jupyter.widget-view+json": {
       "model_id": "",
       "version_major": 2,
       "version_minor": 0
      },
      "text/plain": [
       "  ... working at frequency = 3452.0 Hz:   0%|          | 0/100 [00:00<?, ?it/s]"
      ]
     },
     "metadata": {},
     "output_type": "display_data"
    },
    {
     "data": {
      "application/vnd.jupyter.widget-view+json": {
       "model_id": "",
       "version_major": 2,
       "version_minor": 0
      },
      "text/plain": [
       "  ... working at frequency = 3502.0 Hz:   0%|          | 0/100 [00:00<?, ?it/s]"
      ]
     },
     "metadata": {},
     "output_type": "display_data"
    },
    {
     "data": {
      "application/vnd.jupyter.widget-view+json": {
       "model_id": "",
       "version_major": 2,
       "version_minor": 0
      },
      "text/plain": [
       "  ... working at frequency = 3552.0 Hz:   0%|          | 0/100 [00:00<?, ?it/s]"
      ]
     },
     "metadata": {},
     "output_type": "display_data"
    },
    {
     "data": {
      "application/vnd.jupyter.widget-view+json": {
       "model_id": "",
       "version_major": 2,
       "version_minor": 0
      },
      "text/plain": [
       "  ... working at frequency = 3602.0 Hz:   0%|          | 0/100 [00:00<?, ?it/s]"
      ]
     },
     "metadata": {},
     "output_type": "display_data"
    },
    {
     "data": {
      "application/vnd.jupyter.widget-view+json": {
       "model_id": "",
       "version_major": 2,
       "version_minor": 0
      },
      "text/plain": [
       "  ... working at frequency = 3652.0 Hz:   0%|          | 0/100 [00:00<?, ?it/s]"
      ]
     },
     "metadata": {},
     "output_type": "display_data"
    },
    {
     "data": {
      "application/vnd.jupyter.widget-view+json": {
       "model_id": "",
       "version_major": 2,
       "version_minor": 0
      },
      "text/plain": [
       "  ... working at frequency = 3702.0 Hz:   0%|          | 0/100 [00:00<?, ?it/s]"
      ]
     },
     "metadata": {},
     "output_type": "display_data"
    },
    {
     "data": {
      "application/vnd.jupyter.widget-view+json": {
       "model_id": "",
       "version_major": 2,
       "version_minor": 0
      },
      "text/plain": [
       "  ... working at frequency = 3752.0 Hz:   0%|          | 0/100 [00:00<?, ?it/s]"
      ]
     },
     "metadata": {},
     "output_type": "display_data"
    },
    {
     "data": {
      "application/vnd.jupyter.widget-view+json": {
       "model_id": "",
       "version_major": 2,
       "version_minor": 0
      },
      "text/plain": [
       "  ... working at frequency = 3802.0 Hz:   0%|          | 0/100 [00:00<?, ?it/s]"
      ]
     },
     "metadata": {},
     "output_type": "display_data"
    },
    {
     "data": {
      "application/vnd.jupyter.widget-view+json": {
       "model_id": "",
       "version_major": 2,
       "version_minor": 0
      },
      "text/plain": [
       "  ... working at frequency = 3852.0 Hz:   0%|          | 0/100 [00:00<?, ?it/s]"
      ]
     },
     "metadata": {},
     "output_type": "display_data"
    },
    {
     "data": {
      "application/vnd.jupyter.widget-view+json": {
       "model_id": "",
       "version_major": 2,
       "version_minor": 0
      },
      "text/plain": [
       "  ... working at frequency = 3902.0 Hz:   0%|          | 0/100 [00:00<?, ?it/s]"
      ]
     },
     "metadata": {},
     "output_type": "display_data"
    },
    {
     "data": {
      "application/vnd.jupyter.widget-view+json": {
       "model_id": "",
       "version_major": 2,
       "version_minor": 0
      },
      "text/plain": [
       "  ... working at frequency = 3952.0 Hz:   0%|          | 0/100 [00:00<?, ?it/s]"
      ]
     },
     "metadata": {},
     "output_type": "display_data"
    },
    {
     "data": {
      "application/vnd.jupyter.widget-view+json": {
       "model_id": "",
       "version_major": 2,
       "version_minor": 0
      },
      "text/plain": [
       "  ... working at frequency = 4002.0 Hz:   0%|          | 0/100 [00:00<?, ?it/s]"
      ]
     },
     "metadata": {},
     "output_type": "display_data"
    },
    {
     "data": {
      "application/vnd.jupyter.widget-view+json": {
       "model_id": "",
       "version_major": 2,
       "version_minor": 0
      },
      "text/plain": [
       "  ... working at frequency = 4052.0 Hz:   0%|          | 0/100 [00:00<?, ?it/s]"
      ]
     },
     "metadata": {},
     "output_type": "display_data"
    },
    {
     "data": {
      "application/vnd.jupyter.widget-view+json": {
       "model_id": "",
       "version_major": 2,
       "version_minor": 0
      },
      "text/plain": [
       "  ... working at frequency = 4102.0 Hz:   0%|          | 0/100 [00:00<?, ?it/s]"
      ]
     },
     "metadata": {},
     "output_type": "display_data"
    },
    {
     "data": {
      "application/vnd.jupyter.widget-view+json": {
       "model_id": "",
       "version_major": 2,
       "version_minor": 0
      },
      "text/plain": [
       "  ... working at frequency = 4152.0 Hz:   0%|          | 0/100 [00:00<?, ?it/s]"
      ]
     },
     "metadata": {},
     "output_type": "display_data"
    },
    {
     "data": {
      "application/vnd.jupyter.widget-view+json": {
       "model_id": "",
       "version_major": 2,
       "version_minor": 0
      },
      "text/plain": [
       "  ... working at frequency = 4202.0 Hz:   0%|          | 0/100 [00:00<?, ?it/s]"
      ]
     },
     "metadata": {},
     "output_type": "display_data"
    },
    {
     "data": {
      "application/vnd.jupyter.widget-view+json": {
       "model_id": "",
       "version_major": 2,
       "version_minor": 0
      },
      "text/plain": [
       "  ... working at frequency = 4252.0 Hz:   0%|          | 0/100 [00:00<?, ?it/s]"
      ]
     },
     "metadata": {},
     "output_type": "display_data"
    },
    {
     "data": {
      "application/vnd.jupyter.widget-view+json": {
       "model_id": "",
       "version_major": 2,
       "version_minor": 0
      },
      "text/plain": [
       "  ... working at frequency = 4302.0 Hz:   0%|          | 0/100 [00:00<?, ?it/s]"
      ]
     },
     "metadata": {},
     "output_type": "display_data"
    },
    {
     "data": {
      "application/vnd.jupyter.widget-view+json": {
       "model_id": "",
       "version_major": 2,
       "version_minor": 0
      },
      "text/plain": [
       "  ... working at frequency = 4352.0 Hz:   0%|          | 0/100 [00:00<?, ?it/s]"
      ]
     },
     "metadata": {},
     "output_type": "display_data"
    },
    {
     "data": {
      "application/vnd.jupyter.widget-view+json": {
       "model_id": "",
       "version_major": 2,
       "version_minor": 0
      },
      "text/plain": [
       "  ... working at frequency = 4402.0 Hz:   0%|          | 0/100 [00:00<?, ?it/s]"
      ]
     },
     "metadata": {},
     "output_type": "display_data"
    },
    {
     "data": {
      "application/vnd.jupyter.widget-view+json": {
       "model_id": "",
       "version_major": 2,
       "version_minor": 0
      },
      "text/plain": [
       "  ... working at frequency = 4452.0 Hz:   0%|          | 0/100 [00:00<?, ?it/s]"
      ]
     },
     "metadata": {},
     "output_type": "display_data"
    },
    {
     "data": {
      "application/vnd.jupyter.widget-view+json": {
       "model_id": "",
       "version_major": 2,
       "version_minor": 0
      },
      "text/plain": [
       "  ... working at frequency = 4502.0 Hz:   0%|          | 0/100 [00:00<?, ?it/s]"
      ]
     },
     "metadata": {},
     "output_type": "display_data"
    },
    {
     "data": {
      "application/vnd.jupyter.widget-view+json": {
       "model_id": "",
       "version_major": 2,
       "version_minor": 0
      },
      "text/plain": [
       "  ... working at frequency = 4552.0 Hz:   0%|          | 0/100 [00:00<?, ?it/s]"
      ]
     },
     "metadata": {},
     "output_type": "display_data"
    },
    {
     "data": {
      "application/vnd.jupyter.widget-view+json": {
       "model_id": "",
       "version_major": 2,
       "version_minor": 0
      },
      "text/plain": [
       "  ... working at frequency = 4602.0 Hz:   0%|          | 0/100 [00:00<?, ?it/s]"
      ]
     },
     "metadata": {},
     "output_type": "display_data"
    },
    {
     "data": {
      "application/vnd.jupyter.widget-view+json": {
       "model_id": "",
       "version_major": 2,
       "version_minor": 0
      },
      "text/plain": [
       "  ... working at frequency = 4652.0 Hz:   0%|          | 0/100 [00:00<?, ?it/s]"
      ]
     },
     "metadata": {},
     "output_type": "display_data"
    },
    {
     "data": {
      "application/vnd.jupyter.widget-view+json": {
       "model_id": "",
       "version_major": 2,
       "version_minor": 0
      },
      "text/plain": [
       "  ... working at frequency = 4702.0 Hz:   0%|          | 0/100 [00:00<?, ?it/s]"
      ]
     },
     "metadata": {},
     "output_type": "display_data"
    },
    {
     "data": {
      "application/vnd.jupyter.widget-view+json": {
       "model_id": "",
       "version_major": 2,
       "version_minor": 0
      },
      "text/plain": [
       "  ... working at frequency = 4752.0 Hz:   0%|          | 0/100 [00:00<?, ?it/s]"
      ]
     },
     "metadata": {},
     "output_type": "display_data"
    },
    {
     "data": {
      "application/vnd.jupyter.widget-view+json": {
       "model_id": "",
       "version_major": 2,
       "version_minor": 0
      },
      "text/plain": [
       "  ... working at frequency = 4802.0 Hz:   0%|          | 0/100 [00:00<?, ?it/s]"
      ]
     },
     "metadata": {},
     "output_type": "display_data"
    },
    {
     "data": {
      "application/vnd.jupyter.widget-view+json": {
       "model_id": "",
       "version_major": 2,
       "version_minor": 0
      },
      "text/plain": [
       "  ... working at frequency = 4852.0 Hz:   0%|          | 0/100 [00:00<?, ?it/s]"
      ]
     },
     "metadata": {},
     "output_type": "display_data"
    },
    {
     "data": {
      "application/vnd.jupyter.widget-view+json": {
       "model_id": "",
       "version_major": 2,
       "version_minor": 0
      },
      "text/plain": [
       "  ... working at frequency = 4902.0 Hz:   0%|          | 0/100 [00:00<?, ?it/s]"
      ]
     },
     "metadata": {},
     "output_type": "display_data"
    },
    {
     "data": {
      "application/vnd.jupyter.widget-view+json": {
       "model_id": "",
       "version_major": 2,
       "version_minor": 0
      },
      "text/plain": [
       "  ... working at frequency = 4952.0 Hz:   0%|          | 0/100 [00:00<?, ?it/s]"
      ]
     },
     "metadata": {},
     "output_type": "display_data"
    },
    {
     "data": {
      "application/vnd.jupyter.widget-view+json": {
       "model_id": "",
       "version_major": 2,
       "version_minor": 0
      },
      "text/plain": [
       "  ... working at frequency = 5002.0 Hz:   0%|          | 0/100 [00:00<?, ?it/s]"
      ]
     },
     "metadata": {},
     "output_type": "display_data"
    },
    {
     "data": {
      "application/vnd.jupyter.widget-view+json": {
       "model_id": "",
       "version_major": 2,
       "version_minor": 0
      },
      "text/plain": [
       "  ... working at frequency = 5052.0 Hz:   0%|          | 0/100 [00:00<?, ?it/s]"
      ]
     },
     "metadata": {},
     "output_type": "display_data"
    },
    {
     "data": {
      "application/vnd.jupyter.widget-view+json": {
       "model_id": "",
       "version_major": 2,
       "version_minor": 0
      },
      "text/plain": [
       "  ... working at frequency = 5102.0 Hz:   0%|          | 0/100 [00:00<?, ?it/s]"
      ]
     },
     "metadata": {},
     "output_type": "display_data"
    },
    {
     "data": {
      "application/vnd.jupyter.widget-view+json": {
       "model_id": "",
       "version_major": 2,
       "version_minor": 0
      },
      "text/plain": [
       "  ... working at frequency = 5152.0 Hz:   0%|          | 0/100 [00:00<?, ?it/s]"
      ]
     },
     "metadata": {},
     "output_type": "display_data"
    },
    {
     "data": {
      "application/vnd.jupyter.widget-view+json": {
       "model_id": "",
       "version_major": 2,
       "version_minor": 0
      },
      "text/plain": [
       "  ... working at frequency = 5202.0 Hz:   0%|          | 0/100 [00:00<?, ?it/s]"
      ]
     },
     "metadata": {},
     "output_type": "display_data"
    },
    {
     "data": {
      "application/vnd.jupyter.widget-view+json": {
       "model_id": "",
       "version_major": 2,
       "version_minor": 0
      },
      "text/plain": [
       "  ... working at frequency = 5252.0 Hz:   0%|          | 0/100 [00:00<?, ?it/s]"
      ]
     },
     "metadata": {},
     "output_type": "display_data"
    },
    {
     "data": {
      "application/vnd.jupyter.widget-view+json": {
       "model_id": "",
       "version_major": 2,
       "version_minor": 0
      },
      "text/plain": [
       "  ... working at frequency = 5302.0 Hz:   0%|          | 0/100 [00:00<?, ?it/s]"
      ]
     },
     "metadata": {},
     "output_type": "display_data"
    },
    {
     "data": {
      "application/vnd.jupyter.widget-view+json": {
       "model_id": "",
       "version_major": 2,
       "version_minor": 0
      },
      "text/plain": [
       "  ... working at frequency = 5352.0 Hz:   0%|          | 0/100 [00:00<?, ?it/s]"
      ]
     },
     "metadata": {},
     "output_type": "display_data"
    },
    {
     "data": {
      "application/vnd.jupyter.widget-view+json": {
       "model_id": "",
       "version_major": 2,
       "version_minor": 0
      },
      "text/plain": [
       "  ... working at frequency = 5402.0 Hz:   0%|          | 0/100 [00:00<?, ?it/s]"
      ]
     },
     "metadata": {},
     "output_type": "display_data"
    },
    {
     "data": {
      "application/vnd.jupyter.widget-view+json": {
       "model_id": "",
       "version_major": 2,
       "version_minor": 0
      },
      "text/plain": [
       "  ... working at frequency = 5452.0 Hz:   0%|          | 0/100 [00:00<?, ?it/s]"
      ]
     },
     "metadata": {},
     "output_type": "display_data"
    },
    {
     "data": {
      "application/vnd.jupyter.widget-view+json": {
       "model_id": "",
       "version_major": 2,
       "version_minor": 0
      },
      "text/plain": [
       "  ... working at frequency = 5502.0 Hz:   0%|          | 0/100 [00:00<?, ?it/s]"
      ]
     },
     "metadata": {},
     "output_type": "display_data"
    },
    {
     "data": {
      "application/vnd.jupyter.widget-view+json": {
       "model_id": "",
       "version_major": 2,
       "version_minor": 0
      },
      "text/plain": [
       "  ... working at frequency = 5552.0 Hz:   0%|          | 0/100 [00:00<?, ?it/s]"
      ]
     },
     "metadata": {},
     "output_type": "display_data"
    },
    {
     "data": {
      "application/vnd.jupyter.widget-view+json": {
       "model_id": "",
       "version_major": 2,
       "version_minor": 0
      },
      "text/plain": [
       "  ... working at frequency = 5602.0 Hz:   0%|          | 0/100 [00:00<?, ?it/s]"
      ]
     },
     "metadata": {},
     "output_type": "display_data"
    },
    {
     "data": {
      "application/vnd.jupyter.widget-view+json": {
       "model_id": "",
       "version_major": 2,
       "version_minor": 0
      },
      "text/plain": [
       "  ... working at frequency = 5652.0 Hz:   0%|          | 0/100 [00:00<?, ?it/s]"
      ]
     },
     "metadata": {},
     "output_type": "display_data"
    },
    {
     "data": {
      "application/vnd.jupyter.widget-view+json": {
       "model_id": "",
       "version_major": 2,
       "version_minor": 0
      },
      "text/plain": [
       "  ... working at frequency = 5702.0 Hz:   0%|          | 0/100 [00:00<?, ?it/s]"
      ]
     },
     "metadata": {},
     "output_type": "display_data"
    },
    {
     "data": {
      "application/vnd.jupyter.widget-view+json": {
       "model_id": "",
       "version_major": 2,
       "version_minor": 0
      },
      "text/plain": [
       "  ... working at frequency = 5752.0 Hz:   0%|          | 0/100 [00:00<?, ?it/s]"
      ]
     },
     "metadata": {},
     "output_type": "display_data"
    },
    {
     "data": {
      "application/vnd.jupyter.widget-view+json": {
       "model_id": "",
       "version_major": 2,
       "version_minor": 0
      },
      "text/plain": [
       "  ... working at frequency = 5802.0 Hz:   0%|          | 0/100 [00:00<?, ?it/s]"
      ]
     },
     "metadata": {},
     "output_type": "display_data"
    },
    {
     "data": {
      "application/vnd.jupyter.widget-view+json": {
       "model_id": "",
       "version_major": 2,
       "version_minor": 0
      },
      "text/plain": [
       "  ... working at frequency = 5852.0 Hz:   0%|          | 0/100 [00:00<?, ?it/s]"
      ]
     },
     "metadata": {},
     "output_type": "display_data"
    },
    {
     "data": {
      "application/vnd.jupyter.widget-view+json": {
       "model_id": "",
       "version_major": 2,
       "version_minor": 0
      },
      "text/plain": [
       "  ... working at frequency = 5902.0 Hz:   0%|          | 0/100 [00:00<?, ?it/s]"
      ]
     },
     "metadata": {},
     "output_type": "display_data"
    },
    {
     "data": {
      "application/vnd.jupyter.widget-view+json": {
       "model_id": "",
       "version_major": 2,
       "version_minor": 0
      },
      "text/plain": [
       "  ... working at frequency = 5952.0 Hz:   0%|          | 0/100 [00:00<?, ?it/s]"
      ]
     },
     "metadata": {},
     "output_type": "display_data"
    },
    {
     "data": {
      "application/vnd.jupyter.widget-view+json": {
       "model_id": "",
       "version_major": 2,
       "version_minor": 0
      },
      "text/plain": [
       "  ... working at frequency = 6002.0 Hz:   0%|          | 0/100 [00:00<?, ?it/s]"
      ]
     },
     "metadata": {},
     "output_type": "display_data"
    },
    {
     "data": {
      "application/vnd.jupyter.widget-view+json": {
       "model_id": "",
       "version_major": 2,
       "version_minor": 0
      },
      "text/plain": [
       "  ... working at frequency = 6052.0 Hz:   0%|          | 0/100 [00:00<?, ?it/s]"
      ]
     },
     "metadata": {},
     "output_type": "display_data"
    },
    {
     "data": {
      "application/vnd.jupyter.widget-view+json": {
       "model_id": "",
       "version_major": 2,
       "version_minor": 0
      },
      "text/plain": [
       "  ... working at frequency = 6102.0 Hz:   0%|          | 0/100 [00:00<?, ?it/s]"
      ]
     },
     "metadata": {},
     "output_type": "display_data"
    },
    {
     "data": {
      "application/vnd.jupyter.widget-view+json": {
       "model_id": "",
       "version_major": 2,
       "version_minor": 0
      },
      "text/plain": [
       "  ... working at frequency = 6152.0 Hz:   0%|          | 0/100 [00:00<?, ?it/s]"
      ]
     },
     "metadata": {},
     "output_type": "display_data"
    },
    {
     "data": {
      "application/vnd.jupyter.widget-view+json": {
       "model_id": "",
       "version_major": 2,
       "version_minor": 0
      },
      "text/plain": [
       "  ... working at frequency = 6202.0 Hz:   0%|          | 0/100 [00:00<?, ?it/s]"
      ]
     },
     "metadata": {},
     "output_type": "display_data"
    },
    {
     "data": {
      "application/vnd.jupyter.widget-view+json": {
       "model_id": "",
       "version_major": 2,
       "version_minor": 0
      },
      "text/plain": [
       "  ... working at frequency = 6252.0 Hz:   0%|          | 0/100 [00:00<?, ?it/s]"
      ]
     },
     "metadata": {},
     "output_type": "display_data"
    },
    {
     "data": {
      "application/vnd.jupyter.widget-view+json": {
       "model_id": "",
       "version_major": 2,
       "version_minor": 0
      },
      "text/plain": [
       "  ... working at frequency = 6302.0 Hz:   0%|          | 0/100 [00:00<?, ?it/s]"
      ]
     },
     "metadata": {},
     "output_type": "display_data"
    },
    {
     "data": {
      "application/vnd.jupyter.widget-view+json": {
       "model_id": "",
       "version_major": 2,
       "version_minor": 0
      },
      "text/plain": [
       "  ... working at frequency = 6352.0 Hz:   0%|          | 0/100 [00:00<?, ?it/s]"
      ]
     },
     "metadata": {},
     "output_type": "display_data"
    },
    {
     "data": {
      "application/vnd.jupyter.widget-view+json": {
       "model_id": "",
       "version_major": 2,
       "version_minor": 0
      },
      "text/plain": [
       "  ... working at frequency = 6402.0 Hz:   0%|          | 0/100 [00:00<?, ?it/s]"
      ]
     },
     "metadata": {},
     "output_type": "display_data"
    },
    {
     "data": {
      "application/vnd.jupyter.widget-view+json": {
       "model_id": "",
       "version_major": 2,
       "version_minor": 0
      },
      "text/plain": [
       "  ... working at frequency = 6452.0 Hz:   0%|          | 0/100 [00:00<?, ?it/s]"
      ]
     },
     "metadata": {},
     "output_type": "display_data"
    },
    {
     "data": {
      "application/vnd.jupyter.widget-view+json": {
       "model_id": "",
       "version_major": 2,
       "version_minor": 0
      },
      "text/plain": [
       "  ... working at frequency = 6502.0 Hz:   0%|          | 0/100 [00:00<?, ?it/s]"
      ]
     },
     "metadata": {},
     "output_type": "display_data"
    },
    {
     "data": {
      "application/vnd.jupyter.widget-view+json": {
       "model_id": "",
       "version_major": 2,
       "version_minor": 0
      },
      "text/plain": [
       "  ... working at frequency = 6552.0 Hz:   0%|          | 0/100 [00:00<?, ?it/s]"
      ]
     },
     "metadata": {},
     "output_type": "display_data"
    },
    {
     "data": {
      "application/vnd.jupyter.widget-view+json": {
       "model_id": "",
       "version_major": 2,
       "version_minor": 0
      },
      "text/plain": [
       "  ... working at frequency = 6602.0 Hz:   0%|          | 0/100 [00:00<?, ?it/s]"
      ]
     },
     "metadata": {},
     "output_type": "display_data"
    },
    {
     "data": {
      "application/vnd.jupyter.widget-view+json": {
       "model_id": "",
       "version_major": 2,
       "version_minor": 0
      },
      "text/plain": [
       "  ... working at frequency = 6652.0 Hz:   0%|          | 0/100 [00:00<?, ?it/s]"
      ]
     },
     "metadata": {},
     "output_type": "display_data"
    },
    {
     "data": {
      "application/vnd.jupyter.widget-view+json": {
       "model_id": "",
       "version_major": 2,
       "version_minor": 0
      },
      "text/plain": [
       "  ... working at frequency = 6702.0 Hz:   0%|          | 0/100 [00:00<?, ?it/s]"
      ]
     },
     "metadata": {},
     "output_type": "display_data"
    },
    {
     "data": {
      "application/vnd.jupyter.widget-view+json": {
       "model_id": "",
       "version_major": 2,
       "version_minor": 0
      },
      "text/plain": [
       "  ... working at frequency = 6752.0 Hz:   0%|          | 0/100 [00:00<?, ?it/s]"
      ]
     },
     "metadata": {},
     "output_type": "display_data"
    },
    {
     "data": {
      "application/vnd.jupyter.widget-view+json": {
       "model_id": "",
       "version_major": 2,
       "version_minor": 0
      },
      "text/plain": [
       "  ... working at frequency = 6802.0 Hz:   0%|          | 0/100 [00:00<?, ?it/s]"
      ]
     },
     "metadata": {},
     "output_type": "display_data"
    },
    {
     "data": {
      "application/vnd.jupyter.widget-view+json": {
       "model_id": "",
       "version_major": 2,
       "version_minor": 0
      },
      "text/plain": [
       "  ... working at frequency = 6852.0 Hz:   0%|          | 0/100 [00:00<?, ?it/s]"
      ]
     },
     "metadata": {},
     "output_type": "display_data"
    },
    {
     "data": {
      "application/vnd.jupyter.widget-view+json": {
       "model_id": "",
       "version_major": 2,
       "version_minor": 0
      },
      "text/plain": [
       "  ... working at frequency = 6902.0 Hz:   0%|          | 0/100 [00:00<?, ?it/s]"
      ]
     },
     "metadata": {},
     "output_type": "display_data"
    },
    {
     "data": {
      "application/vnd.jupyter.widget-view+json": {
       "model_id": "",
       "version_major": 2,
       "version_minor": 0
      },
      "text/plain": [
       "  ... working at frequency = 6952.0 Hz:   0%|          | 0/100 [00:00<?, ?it/s]"
      ]
     },
     "metadata": {},
     "output_type": "display_data"
    },
    {
     "data": {
      "application/vnd.jupyter.widget-view+json": {
       "model_id": "",
       "version_major": 2,
       "version_minor": 0
      },
      "text/plain": [
       "  ... working at frequency = 7002.0 Hz:   0%|          | 0/100 [00:00<?, ?it/s]"
      ]
     },
     "metadata": {},
     "output_type": "display_data"
    },
    {
     "data": {
      "application/vnd.jupyter.widget-view+json": {
       "model_id": "",
       "version_major": 2,
       "version_minor": 0
      },
      "text/plain": [
       "  ... working at frequency = 7052.0 Hz:   0%|          | 0/100 [00:00<?, ?it/s]"
      ]
     },
     "metadata": {},
     "output_type": "display_data"
    },
    {
     "data": {
      "application/vnd.jupyter.widget-view+json": {
       "model_id": "",
       "version_major": 2,
       "version_minor": 0
      },
      "text/plain": [
       "  ... working at frequency = 7102.0 Hz:   0%|          | 0/100 [00:00<?, ?it/s]"
      ]
     },
     "metadata": {},
     "output_type": "display_data"
    },
    {
     "data": {
      "application/vnd.jupyter.widget-view+json": {
       "model_id": "",
       "version_major": 2,
       "version_minor": 0
      },
      "text/plain": [
       "  ... working at frequency = 7152.0 Hz:   0%|          | 0/100 [00:00<?, ?it/s]"
      ]
     },
     "metadata": {},
     "output_type": "display_data"
    },
    {
     "data": {
      "application/vnd.jupyter.widget-view+json": {
       "model_id": "",
       "version_major": 2,
       "version_minor": 0
      },
      "text/plain": [
       "  ... working at frequency = 7202.0 Hz:   0%|          | 0/100 [00:00<?, ?it/s]"
      ]
     },
     "metadata": {},
     "output_type": "display_data"
    },
    {
     "data": {
      "application/vnd.jupyter.widget-view+json": {
       "model_id": "",
       "version_major": 2,
       "version_minor": 0
      },
      "text/plain": [
       "  ... working at frequency = 7252.0 Hz:   0%|          | 0/100 [00:00<?, ?it/s]"
      ]
     },
     "metadata": {},
     "output_type": "display_data"
    },
    {
     "data": {
      "application/vnd.jupyter.widget-view+json": {
       "model_id": "",
       "version_major": 2,
       "version_minor": 0
      },
      "text/plain": [
       "  ... working at frequency = 7302.0 Hz:   0%|          | 0/100 [00:00<?, ?it/s]"
      ]
     },
     "metadata": {},
     "output_type": "display_data"
    },
    {
     "data": {
      "application/vnd.jupyter.widget-view+json": {
       "model_id": "",
       "version_major": 2,
       "version_minor": 0
      },
      "text/plain": [
       "  ... working at frequency = 7352.0 Hz:   0%|          | 0/100 [00:00<?, ?it/s]"
      ]
     },
     "metadata": {},
     "output_type": "display_data"
    },
    {
     "data": {
      "application/vnd.jupyter.widget-view+json": {
       "model_id": "",
       "version_major": 2,
       "version_minor": 0
      },
      "text/plain": [
       "  ... working at frequency = 7402.0 Hz:   0%|          | 0/100 [00:00<?, ?it/s]"
      ]
     },
     "metadata": {},
     "output_type": "display_data"
    },
    {
     "data": {
      "application/vnd.jupyter.widget-view+json": {
       "model_id": "",
       "version_major": 2,
       "version_minor": 0
      },
      "text/plain": [
       "  ... working at frequency = 7452.0 Hz:   0%|          | 0/100 [00:00<?, ?it/s]"
      ]
     },
     "metadata": {},
     "output_type": "display_data"
    },
    {
     "data": {
      "application/vnd.jupyter.widget-view+json": {
       "model_id": "",
       "version_major": 2,
       "version_minor": 0
      },
      "text/plain": [
       "  ... working at frequency = 7502.0 Hz:   0%|          | 0/100 [00:00<?, ?it/s]"
      ]
     },
     "metadata": {},
     "output_type": "display_data"
    },
    {
     "data": {
      "application/vnd.jupyter.widget-view+json": {
       "model_id": "",
       "version_major": 2,
       "version_minor": 0
      },
      "text/plain": [
       "  ... working at frequency = 7552.0 Hz:   0%|          | 0/100 [00:00<?, ?it/s]"
      ]
     },
     "metadata": {},
     "output_type": "display_data"
    },
    {
     "data": {
      "application/vnd.jupyter.widget-view+json": {
       "model_id": "",
       "version_major": 2,
       "version_minor": 0
      },
      "text/plain": [
       "  ... working at frequency = 7602.0 Hz:   0%|          | 0/100 [00:00<?, ?it/s]"
      ]
     },
     "metadata": {},
     "output_type": "display_data"
    },
    {
     "data": {
      "application/vnd.jupyter.widget-view+json": {
       "model_id": "",
       "version_major": 2,
       "version_minor": 0
      },
      "text/plain": [
       "  ... working at frequency = 7652.0 Hz:   0%|          | 0/100 [00:00<?, ?it/s]"
      ]
     },
     "metadata": {},
     "output_type": "display_data"
    },
    {
     "data": {
      "application/vnd.jupyter.widget-view+json": {
       "model_id": "",
       "version_major": 2,
       "version_minor": 0
      },
      "text/plain": [
       "  ... working at frequency = 7702.0 Hz:   0%|          | 0/100 [00:00<?, ?it/s]"
      ]
     },
     "metadata": {},
     "output_type": "display_data"
    },
    {
     "data": {
      "application/vnd.jupyter.widget-view+json": {
       "model_id": "",
       "version_major": 2,
       "version_minor": 0
      },
      "text/plain": [
       "  ... working at frequency = 7752.0 Hz:   0%|          | 0/100 [00:00<?, ?it/s]"
      ]
     },
     "metadata": {},
     "output_type": "display_data"
    },
    {
     "data": {
      "application/vnd.jupyter.widget-view+json": {
       "model_id": "",
       "version_major": 2,
       "version_minor": 0
      },
      "text/plain": [
       "  ... working at frequency = 7802.0 Hz:   0%|          | 0/100 [00:00<?, ?it/s]"
      ]
     },
     "metadata": {},
     "output_type": "display_data"
    },
    {
     "data": {
      "application/vnd.jupyter.widget-view+json": {
       "model_id": "",
       "version_major": 2,
       "version_minor": 0
      },
      "text/plain": [
       "  ... working at frequency = 7852.0 Hz:   0%|          | 0/100 [00:00<?, ?it/s]"
      ]
     },
     "metadata": {},
     "output_type": "display_data"
    },
    {
     "data": {
      "application/vnd.jupyter.widget-view+json": {
       "model_id": "",
       "version_major": 2,
       "version_minor": 0
      },
      "text/plain": [
       "  ... working at frequency = 7902.0 Hz:   0%|          | 0/100 [00:00<?, ?it/s]"
      ]
     },
     "metadata": {},
     "output_type": "display_data"
    },
    {
     "data": {
      "application/vnd.jupyter.widget-view+json": {
       "model_id": "",
       "version_major": 2,
       "version_minor": 0
      },
      "text/plain": [
       "  ... working at frequency = 7952.0 Hz:   0%|          | 0/100 [00:00<?, ?it/s]"
      ]
     },
     "metadata": {},
     "output_type": "display_data"
    },
    {
     "data": {
      "application/vnd.jupyter.widget-view+json": {
       "model_id": "",
       "version_major": 2,
       "version_minor": 0
      },
      "text/plain": [
       "  ... working at frequency = 8002.0 Hz:   0%|          | 0/100 [00:00<?, ?it/s]"
      ]
     },
     "metadata": {},
     "output_type": "display_data"
    },
    {
     "data": {
      "application/vnd.jupyter.widget-view+json": {
       "model_id": "",
       "version_major": 2,
       "version_minor": 0
      },
      "text/plain": [
       "  ... working at frequency = 8052.0 Hz:   0%|          | 0/100 [00:00<?, ?it/s]"
      ]
     },
     "metadata": {},
     "output_type": "display_data"
    },
    {
     "data": {
      "application/vnd.jupyter.widget-view+json": {
       "model_id": "",
       "version_major": 2,
       "version_minor": 0
      },
      "text/plain": [
       "  ... working at frequency = 8102.0 Hz:   0%|          | 0/100 [00:00<?, ?it/s]"
      ]
     },
     "metadata": {},
     "output_type": "display_data"
    },
    {
     "data": {
      "application/vnd.jupyter.widget-view+json": {
       "model_id": "",
       "version_major": 2,
       "version_minor": 0
      },
      "text/plain": [
       "  ... working at frequency = 8152.0 Hz:   0%|          | 0/100 [00:00<?, ?it/s]"
      ]
     },
     "metadata": {},
     "output_type": "display_data"
    },
    {
     "data": {
      "application/vnd.jupyter.widget-view+json": {
       "model_id": "",
       "version_major": 2,
       "version_minor": 0
      },
      "text/plain": [
       "  ... working at frequency = 8202.0 Hz:   0%|          | 0/100 [00:00<?, ?it/s]"
      ]
     },
     "metadata": {},
     "output_type": "display_data"
    },
    {
     "data": {
      "application/vnd.jupyter.widget-view+json": {
       "model_id": "",
       "version_major": 2,
       "version_minor": 0
      },
      "text/plain": [
       "  ... working at frequency = 8252.0 Hz:   0%|          | 0/100 [00:00<?, ?it/s]"
      ]
     },
     "metadata": {},
     "output_type": "display_data"
    },
    {
     "data": {
      "application/vnd.jupyter.widget-view+json": {
       "model_id": "",
       "version_major": 2,
       "version_minor": 0
      },
      "text/plain": [
       "  ... working at frequency = 8302.0 Hz:   0%|          | 0/100 [00:00<?, ?it/s]"
      ]
     },
     "metadata": {},
     "output_type": "display_data"
    },
    {
     "data": {
      "application/vnd.jupyter.widget-view+json": {
       "model_id": "",
       "version_major": 2,
       "version_minor": 0
      },
      "text/plain": [
       "  ... working at frequency = 8352.0 Hz:   0%|          | 0/100 [00:00<?, ?it/s]"
      ]
     },
     "metadata": {},
     "output_type": "display_data"
    },
    {
     "data": {
      "application/vnd.jupyter.widget-view+json": {
       "model_id": "",
       "version_major": 2,
       "version_minor": 0
      },
      "text/plain": [
       "  ... working at frequency = 8402.0 Hz:   0%|          | 0/100 [00:00<?, ?it/s]"
      ]
     },
     "metadata": {},
     "output_type": "display_data"
    },
    {
     "data": {
      "application/vnd.jupyter.widget-view+json": {
       "model_id": "",
       "version_major": 2,
       "version_minor": 0
      },
      "text/plain": [
       "  ... working at frequency = 8452.0 Hz:   0%|          | 0/100 [00:00<?, ?it/s]"
      ]
     },
     "metadata": {},
     "output_type": "display_data"
    },
    {
     "data": {
      "application/vnd.jupyter.widget-view+json": {
       "model_id": "",
       "version_major": 2,
       "version_minor": 0
      },
      "text/plain": [
       "  ... working at frequency = 8502.0 Hz:   0%|          | 0/100 [00:00<?, ?it/s]"
      ]
     },
     "metadata": {},
     "output_type": "display_data"
    },
    {
     "data": {
      "application/vnd.jupyter.widget-view+json": {
       "model_id": "",
       "version_major": 2,
       "version_minor": 0
      },
      "text/plain": [
       "  ... working at frequency = 8552.0 Hz:   0%|          | 0/100 [00:00<?, ?it/s]"
      ]
     },
     "metadata": {},
     "output_type": "display_data"
    },
    {
     "data": {
      "application/vnd.jupyter.widget-view+json": {
       "model_id": "",
       "version_major": 2,
       "version_minor": 0
      },
      "text/plain": [
       "  ... working at frequency = 8602.0 Hz:   0%|          | 0/100 [00:00<?, ?it/s]"
      ]
     },
     "metadata": {},
     "output_type": "display_data"
    },
    {
     "data": {
      "application/vnd.jupyter.widget-view+json": {
       "model_id": "",
       "version_major": 2,
       "version_minor": 0
      },
      "text/plain": [
       "  ... working at frequency = 8652.0 Hz:   0%|          | 0/100 [00:00<?, ?it/s]"
      ]
     },
     "metadata": {},
     "output_type": "display_data"
    },
    {
     "data": {
      "application/vnd.jupyter.widget-view+json": {
       "model_id": "",
       "version_major": 2,
       "version_minor": 0
      },
      "text/plain": [
       "  ... working at frequency = 8702.0 Hz:   0%|          | 0/100 [00:00<?, ?it/s]"
      ]
     },
     "metadata": {},
     "output_type": "display_data"
    },
    {
     "data": {
      "application/vnd.jupyter.widget-view+json": {
       "model_id": "",
       "version_major": 2,
       "version_minor": 0
      },
      "text/plain": [
       "  ... working at frequency = 8752.0 Hz:   0%|          | 0/100 [00:00<?, ?it/s]"
      ]
     },
     "metadata": {},
     "output_type": "display_data"
    },
    {
     "data": {
      "application/vnd.jupyter.widget-view+json": {
       "model_id": "",
       "version_major": 2,
       "version_minor": 0
      },
      "text/plain": [
       "  ... working at frequency = 8802.0 Hz:   0%|          | 0/100 [00:00<?, ?it/s]"
      ]
     },
     "metadata": {},
     "output_type": "display_data"
    },
    {
     "data": {
      "application/vnd.jupyter.widget-view+json": {
       "model_id": "",
       "version_major": 2,
       "version_minor": 0
      },
      "text/plain": [
       "  ... working at frequency = 8852.0 Hz:   0%|          | 0/100 [00:00<?, ?it/s]"
      ]
     },
     "metadata": {},
     "output_type": "display_data"
    },
    {
     "data": {
      "application/vnd.jupyter.widget-view+json": {
       "model_id": "",
       "version_major": 2,
       "version_minor": 0
      },
      "text/plain": [
       "  ... working at frequency = 8902.0 Hz:   0%|          | 0/100 [00:00<?, ?it/s]"
      ]
     },
     "metadata": {},
     "output_type": "display_data"
    },
    {
     "data": {
      "application/vnd.jupyter.widget-view+json": {
       "model_id": "",
       "version_major": 2,
       "version_minor": 0
      },
      "text/plain": [
       "  ... working at frequency = 8952.0 Hz:   0%|          | 0/100 [00:00<?, ?it/s]"
      ]
     },
     "metadata": {},
     "output_type": "display_data"
    },
    {
     "data": {
      "application/vnd.jupyter.widget-view+json": {
       "model_id": "",
       "version_major": 2,
       "version_minor": 0
      },
      "text/plain": [
       "  ... working at frequency = 9002.0 Hz:   0%|          | 0/100 [00:00<?, ?it/s]"
      ]
     },
     "metadata": {},
     "output_type": "display_data"
    },
    {
     "data": {
      "application/vnd.jupyter.widget-view+json": {
       "model_id": "",
       "version_major": 2,
       "version_minor": 0
      },
      "text/plain": [
       "  ... working at frequency = 9052.0 Hz:   0%|          | 0/100 [00:00<?, ?it/s]"
      ]
     },
     "metadata": {},
     "output_type": "display_data"
    },
    {
     "data": {
      "application/vnd.jupyter.widget-view+json": {
       "model_id": "",
       "version_major": 2,
       "version_minor": 0
      },
      "text/plain": [
       "  ... working at frequency = 9102.0 Hz:   0%|          | 0/100 [00:00<?, ?it/s]"
      ]
     },
     "metadata": {},
     "output_type": "display_data"
    },
    {
     "data": {
      "application/vnd.jupyter.widget-view+json": {
       "model_id": "",
       "version_major": 2,
       "version_minor": 0
      },
      "text/plain": [
       "  ... working at frequency = 9152.0 Hz:   0%|          | 0/100 [00:00<?, ?it/s]"
      ]
     },
     "metadata": {},
     "output_type": "display_data"
    },
    {
     "data": {
      "application/vnd.jupyter.widget-view+json": {
       "model_id": "",
       "version_major": 2,
       "version_minor": 0
      },
      "text/plain": [
       "  ... working at frequency = 9202.0 Hz:   0%|          | 0/100 [00:00<?, ?it/s]"
      ]
     },
     "metadata": {},
     "output_type": "display_data"
    },
    {
     "data": {
      "application/vnd.jupyter.widget-view+json": {
       "model_id": "",
       "version_major": 2,
       "version_minor": 0
      },
      "text/plain": [
       "  ... working at frequency = 9252.0 Hz:   0%|          | 0/100 [00:00<?, ?it/s]"
      ]
     },
     "metadata": {},
     "output_type": "display_data"
    },
    {
     "data": {
      "application/vnd.jupyter.widget-view+json": {
       "model_id": "",
       "version_major": 2,
       "version_minor": 0
      },
      "text/plain": [
       "  ... working at frequency = 9302.0 Hz:   0%|          | 0/100 [00:00<?, ?it/s]"
      ]
     },
     "metadata": {},
     "output_type": "display_data"
    },
    {
     "data": {
      "application/vnd.jupyter.widget-view+json": {
       "model_id": "",
       "version_major": 2,
       "version_minor": 0
      },
      "text/plain": [
       "  ... working at frequency = 9352.0 Hz:   0%|          | 0/100 [00:00<?, ?it/s]"
      ]
     },
     "metadata": {},
     "output_type": "display_data"
    },
    {
     "data": {
      "application/vnd.jupyter.widget-view+json": {
       "model_id": "",
       "version_major": 2,
       "version_minor": 0
      },
      "text/plain": [
       "  ... working at frequency = 9402.0 Hz:   0%|          | 0/100 [00:00<?, ?it/s]"
      ]
     },
     "metadata": {},
     "output_type": "display_data"
    },
    {
     "data": {
      "application/vnd.jupyter.widget-view+json": {
       "model_id": "",
       "version_major": 2,
       "version_minor": 0
      },
      "text/plain": [
       "  ... working at frequency = 9452.0 Hz:   0%|          | 0/100 [00:00<?, ?it/s]"
      ]
     },
     "metadata": {},
     "output_type": "display_data"
    },
    {
     "data": {
      "application/vnd.jupyter.widget-view+json": {
       "model_id": "",
       "version_major": 2,
       "version_minor": 0
      },
      "text/plain": [
       "  ... working at frequency = 9502.0 Hz:   0%|          | 0/100 [00:00<?, ?it/s]"
      ]
     },
     "metadata": {},
     "output_type": "display_data"
    },
    {
     "data": {
      "application/vnd.jupyter.widget-view+json": {
       "model_id": "",
       "version_major": 2,
       "version_minor": 0
      },
      "text/plain": [
       "  ... working at frequency = 9552.0 Hz:   0%|          | 0/100 [00:00<?, ?it/s]"
      ]
     },
     "metadata": {},
     "output_type": "display_data"
    },
    {
     "data": {
      "application/vnd.jupyter.widget-view+json": {
       "model_id": "",
       "version_major": 2,
       "version_minor": 0
      },
      "text/plain": [
       "  ... working at frequency = 9602.0 Hz:   0%|          | 0/100 [00:00<?, ?it/s]"
      ]
     },
     "metadata": {},
     "output_type": "display_data"
    },
    {
     "data": {
      "application/vnd.jupyter.widget-view+json": {
       "model_id": "",
       "version_major": 2,
       "version_minor": 0
      },
      "text/plain": [
       "  ... working at frequency = 9652.0 Hz:   0%|          | 0/100 [00:00<?, ?it/s]"
      ]
     },
     "metadata": {},
     "output_type": "display_data"
    },
    {
     "data": {
      "application/vnd.jupyter.widget-view+json": {
       "model_id": "",
       "version_major": 2,
       "version_minor": 0
      },
      "text/plain": [
       "  ... working at frequency = 9702.0 Hz:   0%|          | 0/100 [00:00<?, ?it/s]"
      ]
     },
     "metadata": {},
     "output_type": "display_data"
    },
    {
     "data": {
      "application/vnd.jupyter.widget-view+json": {
       "model_id": "",
       "version_major": 2,
       "version_minor": 0
      },
      "text/plain": [
       "  ... working at frequency = 9752.0 Hz:   0%|          | 0/100 [00:00<?, ?it/s]"
      ]
     },
     "metadata": {},
     "output_type": "display_data"
    },
    {
     "data": {
      "application/vnd.jupyter.widget-view+json": {
       "model_id": "",
       "version_major": 2,
       "version_minor": 0
      },
      "text/plain": [
       "  ... working at frequency = 9802.0 Hz:   0%|          | 0/100 [00:00<?, ?it/s]"
      ]
     },
     "metadata": {},
     "output_type": "display_data"
    },
    {
     "data": {
      "application/vnd.jupyter.widget-view+json": {
       "model_id": "",
       "version_major": 2,
       "version_minor": 0
      },
      "text/plain": [
       "  ... working at frequency = 9852.0 Hz:   0%|          | 0/100 [00:00<?, ?it/s]"
      ]
     },
     "metadata": {},
     "output_type": "display_data"
    },
    {
     "data": {
      "application/vnd.jupyter.widget-view+json": {
       "model_id": "",
       "version_major": 2,
       "version_minor": 0
      },
      "text/plain": [
       "  ... working at frequency = 9902.0 Hz:   0%|          | 0/100 [00:00<?, ?it/s]"
      ]
     },
     "metadata": {},
     "output_type": "display_data"
    },
    {
     "data": {
      "application/vnd.jupyter.widget-view+json": {
       "model_id": "",
       "version_major": 2,
       "version_minor": 0
      },
      "text/plain": [
       "  ... working at frequency = 9952.0 Hz:   0%|          | 0/100 [00:00<?, ?it/s]"
      ]
     },
     "metadata": {},
     "output_type": "display_data"
    },
    {
     "data": {
      "application/vnd.jupyter.widget-view+json": {
       "model_id": "459ebdb9310e42d4ab6e1ec13b0b4209",
       "version_major": 2,
       "version_minor": 0
      },
      "text/plain": [
       "  ... working at frequency = 10002.0 Hz:   0%|          | 0/100 [00:00<?, ?it/s]"
      ]
     },
     "metadata": {},
     "output_type": "display_data"
    },
    {
     "name": "stdout",
     "output_type": "stream",
     "text": [
      "\n",
      "\n",
      "self.frequency_array.shape[0] = 201 is same as self.wavenumer_array.shape[0] = 201\n",
      "Save file to /Users/chenghunglin/Documents/sin_3_4_05_vol_3.xlsx\n"
     ]
    }
   ],
   "source": [
    "sin_3_4_05_vol_3 = anechoic_sound_absorption(determinant, frequency_array,\n",
    "                              fp = '/Users/chenghunglin/Documents/', \n",
    "                              fn = 'sin_3_4_05_vol_3.xlsx', \n",
    "                              material='rubber', shape='sin', \n",
    "                              p=3e-3, q=4e-3, lh=40e-3, cell_radius=15e-3, \n",
    "                              theta=0.5, phi=3e-3, length_unit='m',\n",
    "                              num_segments=100, layer_density=1100, air_density=1.21, \n",
    "                              Young_modulus=0.14e9, Poisson_ratio=0.49, loss_factor=0.23, \n",
    "                              medium_density=998, sound_speed_medium=1483, \n",
    "                              use_volume=True)"
   ]
  },
  {
   "cell_type": "code",
   "execution_count": 16,
   "metadata": {},
   "outputs": [
    {
     "name": "stdout",
     "output_type": "stream",
     "text": [
      "self.frequency_array.shape[0] = 101 is same as self.wavenumer_array.shape[0] = 101\n",
      "self.frequency_array.shape[0] = 201 is same as self.wavenumer_array.shape[0] = 201\n",
      "self.frequency_array.shape[0] = 201 is same as self.wavenumer_array.shape[0] = 201\n"
     ]
    },
    {
     "data": {
      "text/plain": [
       "<matplotlib.legend.Legend at 0x15696a510>"
      ]
     },
     "execution_count": 16,
     "metadata": {},
     "output_type": "execute_result"
    },
    {
     "data": {
      "application/vnd.jupyter.widget-view+json": {
       "model_id": "2c9de364019942be9789ad8565722bee",
       "version_major": 2,
       "version_minor": 0
      },
      "image/png": "[encoded data removed]",
      "text/html": [
       "\n",
       "            <div style=\"display: inline-block;\">\n",
       "                <div class=\"jupyter-widgets widget-label\" style=\"text-align: center;\">\n",
       "                    Figure\n",
       "                </div>\n",
       "                <img src='data:image/png;base64,iVBORw0KGgoAAAANSUhEUgAAAoAAAAHgCAYAAAA10dzkAAAAOXRFWHRTb2Z0d2FyZQBNYXRwbG90bGliIHZlcnNpb24zLjkuMSwgaHR0cHM6Ly9tYXRwbG90bGliLm9yZy/TGe4hAAAACXBIWXMAAA9hAAAPYQGoP6dpAABtwklEQVR4nO3deVxU5R4G8GcWZkCEEUQ2EcRdQVPEBXdTQVOzLFdEzdLsuuRaqeVCGaa2XUvNFrXSNDNLzVDcKhWRUHKB3BUVEEVkEZhhZt77hzm3EVBQ4MDM872f+dw45z1zfuedkXl4z5z3yIQQAkRERERkNeRSF0BEREREFYsBkIiIiMjKMAASERERWRkGQCIiIiIrwwBIREREZGUYAImIiIisDAMgERERkZVhACQiIiKyMgyARERERFaGAZCIiIjIyjAAEhEREVkZBkAiIiIiK8MASERERGRlGACJiIiIrAwDIBEREZGVYQAkIiIisjIMgERERERWhgGQiIiIyMowABIRERFZGQZAIiIiIivDAEhERERkZRgAiYiIiKwMAyARERGRlWEAJCIiIrIyDIBEREREVoYBkIiIiMjKMAASERERWRkGQCIiIiIrwwBIREREZGUYAImIiIisDAMgERERkZVhACQiIiKyMgyARERERFaGAZCIiIjIyjAAEhEREVkZBkAiIiIiK8MASERERGRlGACJiIiIrAwDIBEREZGVYQAkIiIisjIMgERERERWhgGQiIiIyMowABIRERFZGQZAIiIiIivDAEhERERkZRgAiYiIiKwMAyARERGRlWEAJCIiIrIyDIBEREREVoYBkIiIiMjKMAASERERWRkGQCIiIiIrwwBIREREZGUYAImIiIisDAMgERERkZVhACQiIiKyMkqpC6jKjEYjkpOT4eDgAJlMJnU5REREVAJCCGRnZ8PT0xNyuXWOhTEAPobk5GTUqVNH6jKIiIjoEVy5cgVeXl5SlyEJBsDH4ODgAODuG8jR0VHiaoiIiKgksrKyUKdOHdPnuDViAHwM9077Ojo6MgASERFVMdb89S3rPPFNREREZMUYAImIiIisDAMgERERkZXhdwDLmRACer0eBoNB6lKIyIIoFAoolUqr/g4TET06BsBypNPpkJKSgtzcXKlLISILVK1aNXh4eEClUkldChFVMQyA5cRoNOLixYtQKBTw9PSESqXiX+pEVCaEENDpdLhx4wYuXryIhg0bWu1ktkT0aBgAy4lOp4PRaESdOnVQrVo1qcshIgtjZ2cHGxsbXL58GTqdDra2tlKXRERVCP9kLGf8q5yIygt/vxDRo+JvDyIiIiIrwwBIJTZ69Gg888wzUpdh9YQQGDduHJydnSGTyRAfHy91SVROZDIZfvrpJ6nLICILxABIJfbxxx9jzZo1UpfxUD/++CMCAwNRo0YN2Nvbo2XLlvjmm2+kLsvMuXPn4ODggBo1apR628jISKxZswbbt29HSkoK/P39i227atUqdOvWDY6OjpDJZLh9+3ahNhkZGQgLC4NGo4FGo0FYWFihdklJSejfvz/s7e3h4uKCyZMnQ6fTlbr28rZw4UJ06NAB1apVK7ZvS3IsJ06cQNeuXWFnZ4fatWsjPDwcQogKOAIioorBi0CoxDQajdQllIizszPmzJmDJk2aQKVSYfv27XjhhRfg6uqKkJAQqctDQUEBhg0bhs6dO+PQoUOl3v78+fPw8PBAhw4dim2j0+mgUqmQm5uL3r17o3fv3pg1a1aRbYcPH46rV68iMjISADBu3DiEhYVh27ZtAACDwYC+ffuiVq1aOHDgANLT0zFq1CgIIbBs2bJS11+edDodBg0ahKCgIHz55ZeF1pfkWLKystCrVy90794dsbGxOHPmDEaPHg17e3tMnz69og+JiKh8CHpkmZmZAoDIzMwstC4vL08kJCSIvLw8CSp7dJs2bRL+/v7C1tZWODs7ix49eoicnBwhhBCjRo0SAwYMMLXt2rWrmDRpkpg5c6ZwcnISbm5uYt68eaXa3759+wQAsX37dtGiRQuhVqtF27ZtxfHjx8vwqIRo1aqVePPNN0u1zZkzZ0Tnzp2FWq0WTZs2Fbt27RIAxJYtWx6rltdee02MGDFCrF69Wmg0mlJtO2rUKAHA9PDx8RFC3H0tJkyYIKZOnSpq1qwpunTpYrbdvX7OyMgwW56QkCAAiMOHD5uWRUdHCwDi77//FkIIsWPHDiGXy8W1a9dMbb777juhVquLfO8XZ9++faJNmzaiWrVqQqPRiA4dOohLly6Z1m/dulUEBAQItVotfH19xfz580VBQYFpfWJioujYsaPp9YiKiir29Siub0tyLMuXLxcajUbk5+eb2kRERAhPT09hNBpLdKwrV64Unp6ewmAwmC3v37+/GDlypOnn5cuXi3r16gkbGxvRqFEj8fXXX5u1f9j7rar+niF6mOMpSWLmLx+Jvl+EiG/++K7Mn/9Bn9/WgqeAK5AQArk6fYU/RAlPXaWkpGDYsGEYM2YMEhMTsX//fgwcOPCB269duxb29vaIiYnB4sWLER4ejqioqFL3zcyZM7F06VLExsbC1dUVTz/9NAoKCgDcPWVXvXr1Bz7Gjx9fbJ/v2bMHp0+fRpcuXUpcj9FoxMCBA6FQKHD48GGsXLkSr7/+eqF2fn5+D6zLz8/PrP3evXuxadMmfPrpp6Xonf/7+OOPER4eDi8vL6SkpCA2Nta0bu3atVAqlTh48CA+++yzEj1fdHQ0NBoN2rVrZ1rWvn17aDQa0+hkdHQ0/P394enpaWoTEhICrVaLuLi4Eu1Hr9fjmWeeQdeuXXH8+HFER0dj3Lhxprkxd+7ciREjRmDy5MlISEjAZ599hjVr1mDhwoUA7r4ezzzzDKpVq4aYmBisWrUKc+bMKdG+7z/ehx1LdHQ0unbtCrVabdYmOTkZly5dKtF+Bg0ahJs3b2Lfvn2mZRkZGdi5cydCQ0MBAFu2bMGrr76K6dOn4+TJk3j55ZfxwgsvmG1DZC1u5ebgi9gdGPXdZHT/vBNCI5/Crze+wGXlNRw8s07q8iwSTwFXoLwCA5rN3Vnh+00ID0E11cNf6pSUFOj1egwcOBA+Pj4AgObNmz9wmxYtWmDevHkAgIYNG+KTTz7Bnj170KtXr1LVOG/ePNM2a9euhZeXF7Zs2YLBgwfD09PzoRc6ODo6mv2cmZmJ2rVrQ6vVQqFQYPny5aWqaffu3UhMTMSlS5fg5eUFAHj33XfRp08fs3Y7duwwBdWi2NjYmP47PT0do0ePxrfffluo3pLSaDRwcHCAQqGAu7u72boGDRpg8eLFpXq+1NRUuLq6Flru6uqK1NRUUxs3Nzez9U5OTlCpVKY2D5OVlYXMzEz069cP9evXBwA0bdrUtH7hwoV44403MGrUKABAvXr18Pbbb+O1117DvHnzsGvXLpw/fx779+83HffChQtL/T4rybGkpqaibt26Zm3ubZOamgpfX9+H7sfZ2Rm9e/fG+vXr0aNHDwDApk2b4OzsbPp56dKlGD16NP7zn/8AAKZNm4bDhw9j6dKl6N69e6mOi6gq0RsMiL16FvsuxuFU8mGk5p7CTeUNGO/dK+GfG9s0z9eifYEaHRoFSVarJWMAJJMnnngCPXr0QPPmzRESEoLg4GA8//zzcHJyKnabFi1amP3s4eGBtLS0Uu87KOj//8CdnZ3RuHFjJCYmAgCUSiUaNGhQqudzcHBAfHw8cnJysGfPHkybNg316tVDt27dSrR9YmIivL29TeHv/hrvuReUS2Ls2LEYPnx4qUYiSyMwMPCRtivqDjVCCLPlJWnzIM7Ozhg9ejRCQkLQq1cv9OzZE4MHD4aHhwcAIC4uDrGxsaYRP+Du9/Xy8/ORm5uL06dPo06dOmaht23btiU+xn97lOO9Nwpemrv5hIaGYty4cVi+fDnUajXWrVuHoUOHQqFQALj7Hhs3bpzZNh07dsTHH39c4n0QVWY52nz8ee0sjqWewZmb53D9dgJu664gU34LOoXh/w3/+TvZXa9H2zwd/JXu6FSvJ+q0HAbUagzwLlrlggGwAtnZKJAQXvEXIdjZKErUTqFQICoqCocOHcKuXbuwbNkyzJkzBzExMcWOevx7hAu4+wFpNBofu+Z7zwXcPQXcrFmzB7YdMWIEVq5cafpZLpebQmPLli2RmJiIiIiIEgfAok57F/Xh7+fnh8uXLxf7PD4+Pjh16hSAu6d/t27diqVLl5r2YTQaoVQqsWrVKowZM6ZEtRXH3t6+1Nu4u7vj+vXrhZbfuHHDNOrl7u6OmJgYs/UZGRkoKCgoNJr2IKtXr8bkyZMRGRmJjRs34s0330RUVBTat28Po9GIBQsWYODAgYW2s7W1LVXYfJCSHIu7u3uhkc17f9SU5nj79+8Po9GIX375BW3atMEff/yBDz74wKxNUUGTt4ykqqTAYEDctQuIu3YWf6efR3LmOWTmX8AdpOGOIhfi/rfzPx8ZaqMRjXUFaKrTw1dREwHubdHYfwDkdTsCqtL/LqPSYwCsQDKZrESnYqUkk8nQsWNHdOzYEXPnzoWPjw+2bNmCadOmlet+Dx8+DG9vbwB3P5DPnDmDJk2aAMAjnQK+nxACWq22xPU0a9YMSUlJSE5ONn1fLDo6ulC70pwCjo6OhsHw/796f/75Z7z33ns4dOgQateuXeLaylJQUBAyMzNx5MgR04haTEwMMjMzTVcZBwUFYeHChUhJSTGN2O3atQtqtRqtW7cu1f5atWqFVq1aYdasWQgKCsL69evRvn17BAQE4PTp08WO9DZp0gRJSUm4fv26KYT9+/uPpTnehx1LUFAQZs+ebbqS+l4bT0/PQqeGH8TOzg4DBw7EunXrcO7cOTRq1Misv5o2bYoDBw5g5MiRpmWHDh0yOzVOVJlo9QXYdfYv7LkQi3O3jiJDdxo58tswyu/7g/lfH3P2RiPqFhSgboEeXnoZPGxqoq6mPvzqdYZtnXaAuz+gVIMqXuVOI1ShYmJisGfPHgQHB8PV1RUxMTG4ceNGhXwghYeHo2bNmnBzc8OcOXPg4uJimnS6tKeAIyIiEBgYiPr160On02HHjh34+uuvsWLFihI/R8+ePdG4cWOMHDkS77//PrKysoq86KA0p4Dv78c///wTcrn8gfP4Pa7U1FSkpqbi3LlzAO7Ob+fg4ABvb284OzujadOm6N27N8aOHWu6cGTcuHHo168fGjduDAAIDg5Gs2bNEBYWhiVLluDWrVuYMWMGxo4dW+LvMl68eBGrVq3C008/DU9PT5w+fRpnzpwxhZ+5c+eiX79+qFOnDgYNGgS5XI7jx4/jxIkTeOedd9CrVy/Ur18fo0aNwuLFi5GdnW16Pf49YpaUlIRbt24hKSkJBoPB9IdDgwYNUL169RIdy/Dhw7FgwQKMHj0as2fPxtmzZ/Huu+9i7ty5pR6dCw0NRf/+/XHq1CmMGDHCbN3MmTMxePBgBAQEoEePHti2bRt+/PFH7N69u1T7ICpPR66cxfqTv+LE9X1IFxdhkP/r1O0/CUIpBLwL9PD5J+h5wA4edp6oX7MJatd+AnLXxoBLI8DBg6dzKxNJrj22EJY2DUxCQoIICQkRtWrVEmq1WjRq1EgsW7bMtL6oaWBeffVVs+cYMGCAGDVqlNk2Xbt2LXaf96Yn2bZtm/Dz8xMqlUq0adNGxMfHP/JxzJkzRzRo0EDY2toKJycnERQUJDZs2GDWZvXq1eJhb//Tp0+LTp06CZVKJRo1aiQiIyPLZBqYf9dw/1QlFy9eFADEvn37it3uww8/NE3/ck9Rr4UQQsybN89s2ph7j9WrV5vapKeni9DQUOHg4CAcHBxEaGhooeliLl++LPr27Svs7OyEs7OzmDhxotk0KUKIQs/7b6mpqeKZZ54RHh4eQqVSCR8fHzF37lyzaVIiIyNFhw4dhJ2dnXB0dBRt27YVq1atMq2/Nw2MSqUSTZo0Edu2bRMARGRkpKnN/dPk3Hv8uz9LcizHjx83TQHk7u4u5s+fbzYFTEleJyGE0Ov1wsPDQwAQ58+fL7Se08BQZZSemylm714pOn0ZIvzX+Js92n3VTLy4ooH4+KM6YsfHLcTpr58XuqgFQvz1vRDXjgqRnyV1+SXCaWCEkAnB6e0fVVZWFjQaDTIzMwuNhOTn5+PixYvw9fWFra2tRBVKr1u3bujWrRvmz59f5Pr9+/eje/fuyMjIeKS7Yjyq+fPnY//+/di/f3+ptpPJZNiyZUu53RJv//79ePbZZ3HhwoUHXnxT2Vy6dAkNGzZEQkICGjZsWCH7PHjwIDp16oRz586ZriyuKJXldeLvGSpLf6Vcwju/f4JzuXugl+sBAHIhEJivRac8LVrZN4S/b1cofdoDXoFANWeJK350D/r8thY8BUzlJjs7G+fPn8f27dulLqWQnTt3VsqrLSMjIzF79uwqFf6Au3WPGzeuXMPfli1bUL16dTRs2BDnzp3Dq6++io4dO1Z4+AOq7utEVJSU7BuYvnMJTuVEwigTgBzw1RVgYE4eeri0RZ3OoUD9JwFb6wxKlooBkMqNg4MDrly5InUZRSrqgo7KYNGiRVKX8EiKm4i7LGVnZ+O1117DlStX4OLigp49e+L9998v9/0Wpaq+TkT/ZjAaEL5/NbZdXo4CeQEgAwLz8hGWr0Tn1q/ApnVYlR7lowdjACRJdevWrcR3KqkMqlKtlmbkyJFmV8wS0aM7nnoRE3ZMwm3FZUAONNbqMOGOHF27zoX8iWGAgvHA0vEVJiIisiIrj/yEVSfDUaAogJ3RiP/cvoMhLf8Du06TARt+l9RaMAASERFZAYPRgPFb5+Nw5k+A4u6t1sLlddFg5AqgZsV/l5akxQBIRERk4W7n5WDI9+ORjL8AAKNuZ+OV5uNh3+01QC6XuDqSAgMgERGRBUu7cxvPbRiG28qrsBECczLyMfDZbyGr20nq0khCDIBEREQWKu1OBp7bOAS3lSlwMBixJMcGHUftApzrSV0aSYwBkIiIyAKl52Xiue8H4bbiOmoYDPgovwZav7SdU7sQAIAn/qnERo8eXW53wKCSE0Jg3LhxcHZ2hkwmM93vlqqWunXr4qOPPpK6DLJQ2do8PL8hFLfl1+FsMGCZ1gWtx/zK8EcmDIBUYh9//DHWrFkjdRkP9eOPPyIwMBA1atSAvb09WrZsiW+++UbqssycO3cODg4Oj3T7u8jISKxZswbbt29HSkoK/P39i23brVs3yGQys8fQoUPN2mRkZCAsLAwajQYajQZhYWG4fft2qesqT7du3cKkSZPQuHFjVKtWDd7e3pg8eTIyMzPN2pXkWJKSktC/f3/Y29vDxcUFkydPhk6nq8CjISpfOr0eA797ATfll2FvNGJpvjNajvkFsNVIXRpVIjwFTCWm0VSNXx7Ozs6YM2cOmjRpApVKhe3bt+OFF16Aq6srQkJCpC4PBQUFGDZsGDp37oxDhw6Vevvz58/Dw8MDHTp0KLaNTqeDSqUCAIwdOxbh4eGmdXZ2dmZthw8fjqtXryIyMhIAMG7cOISFhWHbtm2lrq28JCcnIzk5GUuXLkWzZs1w+fJljB8/HsnJyfjhhx9M7R52LAaDAX379kWtWrVw4MABpKenY9SoURBCYNmyZZIcG1FZe+HHN5AqOwUbIbA4R402L24F1A5Sl0WVjaBHlpmZKQCIzMzMQuvy8vJEQkKCyMvLk6CyR7dp0ybh7+8vbG1thbOzs+jRo4fIyckRQggxatQoMWDAAFPbrl27ikmTJomZM2cKJycn4ebmJubNm1eq/e3bt08AENu3bxctWrQQarVatG3bVhw/frwMj0qIVq1aiTfffLNU25w5c0Z07txZqNVq0bRpU7Fr1y4BQGzZsuWxannttdfEiBEjxOrVq4VGoynVtqNGjRIATA8fHx8hxN3XYsKECWLq1KmiZs2aokuXLqblr776arHPl5CQIACIw4cPm5ZFR0cLAOLvv/8ucV3x8fGiW7duonr16sLBwUEEBASI2NhY0/qDBw+Kzp07C1tbW+Hl5SUmTZpkel8JIURycrJ46qmnhK2trahbt65Yt26d8PHxER9++GGx+/z++++FSqUSBQUFJT6WHTt2CLlcLq5du2Zq89133wm1Wl3kv+OiREZGCrVaLTIyMsyWT5o0ydTvQgjxww8/iGbNmgmVSiV8fHzE0qVLzdo/7PhKoqr+nqHys3DfV8J/jb/wX+MvfvqoiRC3r0pdUqX0oM9va8FTwBVJCEB3p+IfJbx9WUpKCoYNG4YxY8YgMTER+/fvx8CBAx94+7O1a9fC3t4eMTExWLx4McLDwxEVFVXqrpk5cyaWLl2K2NhYuLq64umnn0ZBQQGAu6fsqlev/sBHcfeiFUJgz549OH36NLp06VLieoxGIwYOHAiFQoHDhw9j5cqVeP311wu18/Pze2Bdfn5+Zu337t2LTZs24dNPPy1F7/zfxx9/jPDwcHh5eSElJQWxsbGmdWvXroVSqcTBgwfx2WefmZavW7cOLi4u8PPzw4wZM5CdnW1aFx0dDY1Gg3bt2pmWtW/fHhqNplSjk6GhofDy8kJsbCzi4uLwxhtvwMbGBgBw4sQJhISEYODAgTh+/Dg2btyIAwcOYOLEiabtR44cieTkZOzfvx+bN2/GqlWrkJaW9sB9ZmZmwtHREUqlssTHEh0dDX9/f3h6eprahISEQKvVIi4urkTH2rNnT9SoUQObN282LTMYDPj+++8RGhoKAIiLi8PgwYMxdOhQnDhxAvPnz8dbb71VJb5CQVXXr2cO4/tLHwIAXrp9BwOGfA9oaktcFVVWPAVckQpygXc9H96urM1OBlT2D22WkpICvV6PgQMHwsfHBwDQvHnzB27TokULzJs3DwDQsGFDfPLJJ9izZw969epVqhLnzZtn2mbt2rXw8vLCli1bMHjwYHh6ej70QgdHR0eznzMzM1G7dm1otVooFAosX768VDXt3r0biYmJuHTpEry8vAAA7777Lvr06WPWbseOHaagWpR7IQgA0tPTMXr0aHz77beF6i0pjUYDBwcHKBQKuLu7m61r0KABFi9ebLYsNDQUvr6+cHd3x8mTJzFr1iz89ddfppCempoKV1fXQvtxdXVFampqietKSkrCzJkz0aRJEwB33wv3LFmyBMOHD8eUKVNM6/773/+ia9euWLFiBS5duoTdu3cjNjYWgYGBAIAvvvjC7Dnul56ejrfffhsvv/yyaVlJjiU1NRVubm5m652cnKBSqUp8vAqFAkOGDMH69evx4osvAgD27NmDjIwMDBo0CADwwQcfoEePHnjrrbcAAI0aNUJCQgKWLFmC0aNHl2g/RKWRnJWO+Qcmw6AQ6HEnF688uRRwf/Dvb7JuDIBk8sQTT6BHjx5o3rw5QkJCEBwcjOeffx5OTk7FbtOiRQuznz08PB46clOUoKAg0387OzujcePGSExMBAAolUo0aNCgVM/n4OCA+Ph45OTkYM+ePZg2bRrq1auHbt26lWj7xMREeHt7m8Lf/TXecy8ol8TYsWMxfPjwUo1Elsa98HT/Pu/x9/dHw4YNERgYiKNHjyIgIAAAIJPJCm0nhChyeXGmTZuGl156Cd988w169uyJQYMGoX79u7eWiouLw7lz57Bu3Tqz5zcajbh48SLOnDkDpVJpqge4G2aLe99lZWWhb9++aNasmemPj3tKcixlcbyhoaEICgpCcnIyPD09sW7dOjz11FOmmhMTEzFgwACzbTp27IiPPvoIBoMBCoWixPsiehij0YjRP45DriIP3gUFmF13OFTNB0pdFlVyDIAVyaba3dE4KfZbAgqFAlFRUTh06BB27dqFZcuWYc6cOYiJiYGvr2/RT/2vES7g7oer0Wh87JLvPRdwd3SpWbNmD2w7YsQIrFy50vSzXC43hcaWLVsiMTERERERJQ6ARZ32Liog+Pn54fLly8U+j4+PD06dOgXg7unfrVu3YunSpaZ9GI1GKJVKrFq1CmPGjClRbcWxt3/4KG9AQABsbGxw9uxZBAQEwN3dHdevXy/U7saNG4VGyh5k/vz5GD58OH755Rf8+uuvmDdvHjZs2IBnn30WRqMRL7/8MiZPnlxoO29vb5w+fbrI5yzqNcjOzkbv3r1RvXp1bNmyxez9V5JjcXd3R0xMjNn6jIwMFBQUlOp427Zti/r162PDhg145ZVXsGXLFqxevdqs9vvfLw/6KgXR45i8fSlSZGegMgosMNaGa+/5UpdEVQADYEWSyUp0KlZKMpkMHTt2RMeOHTF37lz4+Phgy5YtmDZtWrnu9/Dhw/D29gZw9wP5zJkzptOJj3IK+H5CCGi12hLX06xZMyQlJZlGeIC73x+7X2lOAUdHR8NgMJh+/vnnn/Hee+/h0KFDqF27Yr6nc+rUKRQUFMDDwwPA3VHNzMxMHDlyBG3btgUAxMTEIDMz84FXGRelUaNGaNSoEaZOnYphw4Zh9erVePbZZxEQEIBTp04VO4rbpEkT6PV6HDt2DK1btwZwd5qc+6dvycrKQkhICNRqNbZu3QpbW1uz9SU5lqCgICxcuBApKSmmPti1axfUarVp3yU1fPhwrFu3Dl5eXpDL5ejbt69pXbNmzXDgwAGz9ocOHUKjRo04+kdlas/5eBy49S0gA6Zk6RA4Zj0g53uMHo4BkExiYmKwZ88eBAcHw9XVFTExMbhx4waaNm1a7vsODw9HzZo14ebmhjlz5sDFxcU06XRpTwFHREQgMDAQ9evXh06nw44dO/D1119jxYoVJX6Onj17onHjxhg5ciTef/99ZGVlYc6cOYXaleYU8P39+Oeff0Iulz9wHr/Hcf78edOpSRcXFyQkJGD69Olo1aoVOnbsaKqpd+/eGDt2rOnCkXHjxqFfv35o3LhxifaTl5eHmTNn4vnnn4evry+uXr2K2NhYPPfccwCA119/He3bt8eECRMwduxY2NvbIzExEVFRUVi2bBmaNGmCnj17Yty4cVixYgVsbGwwffp02NnZmUbRsrOzERwcjNzcXHz77bfIyspCVlYWAKBWrVpQKBQlOpbg4GA0a9YMYWFhWLJkCW7duoUZM2Zg7Nixpf5eZmhoKBYsWICFCxfi+eefNwuk06dPR5s2bfD2229jyJAhiI6OxieffILly5eXah9ED5JXoMX8/a/CoBTodicXoX0/BxxKPpJNVk6ai48tg6VNA5OQkCBCQkJErVq1hFqtFo0aNRLLli0zrS9qGpj7pxgZMGCAGDVqlNk2Xbt2LXaf96aB2bZtm/Dz8xMqlUq0adNGxMfHP/JxzJkzRzRo0EDY2toKJycnERQUJDZs2GDWZvXq1eJhb//Tp0+LTp06CZVKJRo1aiQiIyPLZBqYf9dw/zQwFy9eFADEvn37it3uww8/NE3/ck9Rr0VSUpLo0qWLcHZ2FiqVStSvX19MnjxZpKenm7VLT08XoaGhwsHBQTg4OIjQ0NBCU5z4+PgUO8WPVqsVQ4cOFXXq1BEqlUp4enqKiRMnmr33jxw5Inr16iWqV68u7O3tRYsWLcTChQtN65OTk0WfPn2EWq0WPj4+Yv369cLV1VWsXLlSCPH/90lRj4sXL5bqWC5fviz69u0r7OzshLOzs5g4caLIz883awNArF69usjj/bc2bdoIAGLv3r2F1t2bBsbGxkZ4e3uLJUuWFOpTTgNDj+PFzbOE/xp/0fnLpuLy5olSl1OlcBoYIWRC8IspjyorKwsajcY0HcW/5efn4+LFi/D19S10qsqadOvWDd26dcP8+fOLXL9//350794dGRkZj3RXjEc1f/587N+/H/v37y/VdjKZDFu2bCm3W+Lt378fzz77LC5cuPDAi28qUl5eHpydnbFjxw507969QvZ59epV1KlTB7t370aPHj0qZJ/3XLp0CQ0bNkRCQsIDr0SuDPh7xnrtOvcnZhx4AUIGLLwtx9P/OQzY2D18QwLw4M9va8FTwFRusrOzcf78eWzfvl3qUgrZuXMnPv74Y6nLKCQyMhKzZ8+uNOEPAH777Tc8+eST5Rr+9u7di5ycHDRv3hwpKSl47bXXULdu3XK7YvpBIiMjMW7cuEof/sh65et1eOe36RBKoHdOLvo/9z3DH5UaAyCVGwcHB1y5ckXqMopU1AUdlcGiRYukLqGQ3r17o3fv3uW6j4KCAsyePRsXLlyAg4MDOnTogHXr1hW6yrwiFDepOFFlMf2XJchQ3oLGYMBErwGQeZXuAiYigAGQJNatW7cqNT1GVaq1KgkJCakU92kmquyOXDmDQ7c2AnJgUrYMPiPekbokqqIYAImIiKqIt3a/Br1coF1ePgY9tRJQlWyeV6L78V7AREREVcDywz8jWX4eSiHwavXWkDes2AukyLIwABIREVVy2dpcfHPqXQBAaFYemj/9ocQVUVXHAEhERFTJvRb5PnKUuXDT6zGm2YuAo4fUJVEVxwBIRERUiZ29mYyYWz8AAF7JkcO5a/nempOsAy8CISIiqsTe+HUeCuRGNM/XYkDPpYANJ/2mx8cRQCqx0aNHl9sdMKjkhBAYN24cnJ2dIZPJEB8fL3VJ9Ajq1q2Ljz76SOoyqJKLPB2Pc4bDAIDxsjpQNusvcUVkKRgAqcQ+/vhjrFmzRuoyHurHH39EYGAgatSoAXt7e7Rs2RLffPON1GWZOXfuHBwcHB7p9neRkZFYs2YNtm/fjpSUFPj7+xfbtlu3bpDJZGaPoUOHmrXJyMhAWFgYNBoNNBoNwsLCcPv27VLXVd5WrVqFbt26wdHRETKZrMgaS3IsSUlJ6N+/P+zt7eHi4oLJkydDp9NVzEEQlYIQAh/+8SaMMqD7nTx0eeYTQCaTuiyyEAyAVGIajaZC79f7qJydnTFnzhxER0fj+PHjeOGFF/DCCy9g586dUpcG4O5dL4YNG4bOnTs/0vbnz5+Hh4cHOnToAHd3dyiVhb/J8e9AM3bsWKSkpJgen332mVnb4cOHIz4+HpGRkYiMjER8fDzCwsIeqbbylJubi969e2P27NnFtnnYsRgMBvTt2xd37tzBgQMHsGHDBmzevBnTp0+viEMgKpUvY3ch2eYylEJgvFsPwLWp1CWRJRH0yDIzMwUAkZmZWWhdXl6eSEhIEHl5eRJU9ug2bdok/P39ha2trXB2dhY9evQQOTk5QgghRo0aJQYMGGBq27VrVzFp0iQxc+ZM4eTkJNzc3MS8efNKtb99+/YJAGL79u2iRYsWQq1Wi7Zt24rjx4+X4VEJ0apVK/Hmm2+WapszZ86Izp07C7VaLZo2bSp27dolAIgtW7Y8Vi2vvfaaGDFihFi9erXQaDSl2nbUqFECgOnh4+MjhLj7WkyYMEFMnTpV1KxZU3Tp0sW0/NVXXy32+RISEgQAcfjwYdOy6OhoAUD8/fffJa4rPj5edOvWTVSvXl04ODiIgIAAERsba1p/8OBB0blzZ2Frayu8vLzEpEmTTO8rIYRITk4WTz31lLC1tRV169YV69atEz4+PuLDDz8stK9775mMjIxSH8uOHTuEXC4X165dM7X57rvvhFqtLvLfcVEiIyOFWq0utP9JkyaZ+l0IIX744QfRrFkzoVKphI+Pj1i6dKlZ++KOrzSq6u8ZergCvV50+byz8F/jLxYsayDEnXSpS7IoD/r8thYcAaxAQgjkFuRW+EOU8PZlKSkpGDZsGMaMGYPExETs378fAwcOfOD2a9euhb29PWJiYrB48WKEh4cjKiqq1H0zc+ZMLF26FLGxsXB1dcXTTz+NgoICAHdP2VWvXv2Bj+Lu3yqEwJ49e3D69Gl06dKlxPUYjUYMHDgQCoUChw8fxsqVK/H6668Xaufn5/fAuvz8/Mza7927F5s2bcKnn35ait75v48//hjh4eHw8vJCSkoKYmNjTevWrl0LpVKJgwcPmo3yrVu3Di4uLvDz88OMGTOQnZ1tWhcdHQ2NRoN27dqZlrVv3x4ajQaHDh0qcV2hoaHw8vJCbGws4uLi8MYbb5ju43vixAmEhIRg4MCBOH78ODZu3IgDBw5g4sSJpu1HjhyJ5ORk7N+/H5s3b8aqVauQlpZWqr4pybFER0fD398fnp6epjYhISHQarWIi4sr0X569uyJGjVqYPPmzaZlBoMB33//PUJDQwEAcXFxGDx4MIYOHYoTJ05g/vz5eOutt6rEVyioclj0+ze4ZZMBe6MRLzYYDlRzlroksjC8CrgC5enz0G59u4c3LGMxw2NQzebhtwtKSUmBXq/HwIED4ePjAwBo3rz5A7dp0aIF5s2bBwBo2LAhPvnkE+zZswe9evUqVY3z5s0zbbN27Vp4eXlhy5YtGDx4MDw9PR96oYOjo6PZz5mZmahduza0Wi0UCgWWL19eqpp2796NxMREXLp0CV5eXgCAd999F3369DFrt2PHDlNQLcq9EAQA6enpGD16NL799ttC9ZaURqOBg4MDFAoF3N3dzdY1aNAAixcvNlsWGhoKX19fuLu74+TJk5g1axb++usvU0hPTU2Fq6trof24uroiNTW1xHUlJSVh5syZaNKkCYC774V7lixZguHDh2PKlCmmdf/973/RtWtXrFixApcuXcLu3bsRGxuLwMBAAMAXX3xh9hwlUZJjSU1NhZubm9l6JycnqFSqEh+vQqHAkCFDsH79erz44osAgD179iAjIwODBg0CAHzwwQfo0aMH3nrrLQBAo0aNkJCQgCVLlmD06NGlOi6yPrm6fGy/sBxQAqOyC1B7+EypSyILxABIJk888QR69OiB5s2bIyQkBMHBwXj++efh5ORU7DYtWrQw+9nDw6PUIzcAEBQUZPpvZ2dnNG7cGImJiQAApVKJBg0alOr5HBwcEB8fj5ycHOzZswfTpk1DvXr10K1btxJtn5iYCG9vb1P4u7/Ge+4F5ZIYO3Yshg8fXqqRyNK4F57u3+c9/v7+aNiwIQIDA3H06FEEBAQAAGRFfKlcCFHk8uJMmzYNL730Er755hv07NkTgwYNQv369QHcHQ07d+4c1q1bZ/b8RqMRFy9exJkzZ6BUKk31AHfD7IPed8UpybGUxfGGhoYiKCgIycnJ8PT0xLp16/DUU0+Zak5MTMSAAQPMtunYsSM++ugjGAwGKBSKEu+LrM/8PatwR5kHV70ew1tOANTVpS6JLBADYAWyU9ohZniMJPstCYVCgaioKBw6dAi7du3CsmXLMGfOHMTExMDX17fIbf49wgXc/XA1Go2PXfO95wLuji41a9bsgW1HjBiBlStXmn6Wy+Wm0NiyZUskJiYiIiKixAGwqNPeRQUEPz8/XL58udjn8fHxwalTpwDcPf27detWLF261LQPo9EIpVKJVatWYcyYMSWqrTj29vYPbRMQEAAbGxucPXsWAQEBcHd3x/Xr1wu1u3HjRqGRsgeZP38+hg8fjl9++QW//vor5s2bhw0bNuDZZ5+F0WjEyy+/jMmTJxfaztvbG6dPny7yOUv61YV7SnIs7u7uiIkx/zeYkZGBgoKCUh1v27ZtUb9+fWzYsAGvvPIKtmzZgtWrV5vVfv/7pbTHQ9bpdt4d/Ja8FlACYXdk0HQo+ustRI+LAbACyWSyEp2KlZJMJkPHjh3RsWNHzJ07Fz4+PtiyZQumTSvfmecPHz4Mb29vAHc/kM+cOWM6nfgop4DvJ4SAVqstcT3NmjVDUlKSaYQHuPv9sfuV5hRwdHQ0DAaD6eeff/4Z7733Hg4dOoTatWuXuLbHcerUKRQUFMDD4+5tpIKCgpCZmYkjR46gbdu2AICYmBhkZmaiQ4cOpXruRo0aoVGjRpg6dSqGDRuG1atX49lnn0VAQABOnTpV7ChukyZNoNfrcezYMbRu3RrA3WlySjsVTUmOJSgoCAsXLkRKSoqpD3bt2gW1Wm3ad0kNHz4c69atg5eXF+RyOfr27Wta16xZMxw4cMCs/aFDh9CoUSOO/tEDzd31CXKVOrjr9RjU/jVAqZa6JLJQDIBkEhMTgz179iA4OBiurq6IiYnBjRs30LRp+U89EB4ejpo1a8LNzQ1z5syBi4uLadLp0p4CjoiIQGBgIOrXrw+dTocdO3bg66+/xooVK0r8HD179kTjxo0xcuRIvP/++8jKysKcOXMKtSvNKeD7+/HPP/+EXC5/4Dx+j+P8+fOmU5MuLi5ISEjA9OnT0apVK3Ts2NFUU+/evTF27FjThSPjxo1Dv3790Lhx4xLtJy8vDzNnzsTzzz8PX19fXL16FbGxsXjuuecAAK+//jrat2+PCRMmYOzYsbC3t0diYiKioqKwbNkyNGnSBD179sS4ceOwYsUK2NjYYPr06bCzszMbRUtNTUVqairOnTsH4O7FJQ4ODvD29oazs3OJjiU4OBjNmjVDWFgYlixZglu3bmHGjBkYO3Zsqb+XGRoaigULFmDhwoV4/vnnYWv7/7szTJ8+HW3atMHbb7+NIUOGIDo6Gp988gmWL19eqn2QdbmRk4WYmxsAJTAyTwX7wJFSl0SWTIpLjy2FpU0Dk5CQIEJCQkStWrWEWq0WjRo1EsuWLTOtL2oamPunGBkwYIAYNWqU2TZdu3Ytdp/3pvTYtm2b8PPzEyqVSrRp00bEx8c/8nHMmTNHNGjQQNja2gonJycRFBQkNmzYYNZm9erV4mFv/9OnT4tOnToJlUolGjVqJCIjI8tkGph/13D/NDAXL14UAMS+ffuK3e7DDz80Tf9yT1GvRVJSkujSpYtwdnYWKpVK1K9fX0yePFmkp5tPJ5Geni5CQ0OFg4ODcHBwEKGhoYWmOPHx8Sl2ih+tViuGDh0q6tSpI1QqlfD09BQTJ040e+8fOXJE9OrVS1SvXl3Y29uLFi1aiIULF5rWJycniz59+gi1Wi18fHzE+vXrhaurq1i5cqWpzbx588ymwLn3WL16damO5fLly6Jv377Czs5OODs7i4kTJ4r8/HyzNvc/b3HatGkjAIi9e/cWWndvGhgbGxvh7e0tlixZYrae08DQ/V75YYHwX+MvQj5vIvKOb5a6HIvGaWCEsKgA+Omnn4q6desKtVotAgICxO+///7A9t9++61o0aKFsLOzE+7u7mL06NHi5s2bJd6fpQXA8tC1a9cHzg1Y3Jxu5W3evHkPDKbFKcsAWJR9+/aJGjVqiFu3bpXbPkorNzdX2NraFhlyysuVK1cEALF79+4K2+c9Fy9eFEqlUpw5c6bC911a/D1jOVKzb4s2X7YU/mv8xbpPA4UwGqUuyaIxAFrQPIAbN27ElClTMGfOHBw7dgydO3dGnz59kJSUVGT7AwcOYOTIkXjxxRdx6tQpbNq0CbGxsXjppZcquHLLlZ2djfPnz2PGjBlSl1LIzp07C02ZUhlERkZi9uzZj3QFbHn57bff8OSTT6J79+7lto97F8hcvHgRhw4dwtChQ1G3bt1yu2L6QSIjIzFu3LhST0ND9Djm7foQeQo9vAsK8Fz3+bzlG5U7i/kO4AcffIAXX3zRFOA++ugj7Ny5EytWrEBERESh9ocPH0bdunVNVyb6+vri5ZdfrpShoKpycHDAlStXpC6jSEVd0FEZLFq0SOoSCunduzd69+5drvsoKCjA7NmzceHCBTg4OKBDhw5Yt25doavMK0Jxk4oTlZe0nNv48/ZPgAIYqa0OdZOnpC6JrIBFjADqdDrExcUhODjYbHlwcHCxdzPo0KEDrl69ih07dkAIgevXr+OHH34wu5KPyl+3bt0ghKgS9xgG7l5NfO/iFCo7ISEhOHnyJHJzc3H9+nVs2bKlVBfYEFVlc6M+glZhgK+uAM92m8vRP6oQFhEAb968CYPBUGgeLzc3t2Jn9783wjBkyBCoVCq4u7ujRo0aWLZsWbH70Wq1yMrKMnsQERE9qlu52Tia8TMAYIS2GlTN+ktcEVkLiwiA9xQ18Wpxs/snJCRg8uTJmDt3LuLi4hAZGYmLFy8+8PRPREQENBqN6VGnTp0yrZ+IiKxLeNRK5Cn0qF2gx4Cub3L0jyqMRQRAFxcXKBSKQqN9aWlpxc7uHxERgY4dO2LmzJlo0aIFQkJCsHz5cnz11VdISUkpcptZs2YhMzPT9CjJ99sEZ/8nonLC3y9VW3Z+Po7c3AgAGKK1hdrvGWkLIqtiEQFQpVKhdevWphvc3xMVFVXs3Qxyc3Mhl5sf/r0Z+ov7papWq+Ho6Gj2KM69L6/n5uaW+DiIiErj3u8XKS6Woce3cPdXyFZq4WwwYFDH1wG5RXwkUxVhMVcBT5s2DWFhYQgMDERQUBBWrVqFpKQk0yndWbNm4dq1a/j6668BAP3798fYsWOxYsUKhISEICUlBVOmTEHbtm1Nt/56HAqFAjVq1EBaWhoAoFq1aqW62TwRUXGEEMjNzUVaWhpq1KjB28tVQXkFBYhOWQuogEF5NqjeYpDUJZGVsZgAOGTIEKSnpyM8PBwpKSnw9/fHjh07TFcSpqSkmM0JOHr0aGRnZ+OTTz7B9OnTUaNGDTz55JN47733yqwmd3d3ADCFQCKislSjRg3T7xmqWj7Y9z1uqXJhbzRiePsZgJwhniqWTPBLJI8sKysLGo0GmZmZDzwdbDAYUFBQUIGVEZGls7Gx4chfFWUwCoR80QXX1bcRmiPwxvh4QGEx4zFVQkk/vy0Z33EVQKFQ8Bc1EREBAFYc+hXX1bdhIwTCWrzI8EeS4DdOiYiIKogQAtsTPgQA9L2jR+32vPMMSYMBkIiIqIKsO3YY19SpkAuBsAbPAzZ2UpdEVooBkIiIqIJs+PPuhYY9cnVo1GWGxNWQNWMAJCIiqgC/JJ5Ekuo8ACDUoxdgV0PagsiqMQASERFVgC8OLoKQAR3y8tG6x5tSl0NWjgGQiIionEVfuoRLir8AAMM1gYCjh8QVkbVjACQiIipnH/+2GHo50Dxfiy49w6Uuh4gBkIiIqDydvp6G84YDAIBhtg0gq9VQ4oqIGACJiIjK1aI9HyFfIVBPV4C+PRZIXQ4RAAZAIiKicpOSlY3EvF8BAENFLci92khcEdFdDIBERETl5N3dK3FHqYe7Xo/nur0ldTlEJgyARERE5SA7X4ujtzYCAAbrqkHVsJfEFRH9HwMgERFROVi091tk2WihMRgwrP0MQCaTuiQiEwZAIiKiMlagN+DgtS8BAM/nyVH9icESV0RkjgGQiIiojP334M9IV2XDzmhEaKvxgFwhdUlEZhgAiYiIypAQApFnPgEADLhjQK02L0lcEVFhDIBERERlaG3cfqSqbkApBEIbDwNsbKUuiagQBkAiIqIy9H38+wCAPne0qNt5irTFEBWDAZCIiKiM7Pg7HldsLkMmBIbV7gPYaqQuiahIDIBERERl5PPoRQCAbrlaNO8xW+JqiIrHAEhERFQGjly5gAuyUwCAIU7tAAd3iSsiKh4DIBERURn4YP8iGGVAm7x8dAxeIHU5RA/EAEhERPSYzt5MxRn9YQDAEHUToGZ9iSsiejAGQCIioscUsft9FMgFmmp16MXRP6oCGACJiIgeQ1pOFk7kRgEABgsPyGsHSFwR0cMxABIRET2Ghbs/Qb7CAO+CAgx4cq7U5RCVCAMgERHRI8rR5uNI+mYAwGBdddg06C5xRUQlwwBIRET0iBbt/Qo5Sh1q6fV4vtMbgEwmdUlEJcIASERE9AgKDAb8fm0tAOD5PBvY+w+UuCKikmMAJCIiegQfHfgeGTa5cDAYMThwMiDnRypVHXy3EhERlZLRaMSvZz8FADybK+DSZpTEFRGVDgMgERFRKX0e+wtu2GTCzmjEMP8xgMJG6pKISoUBkIiIqJQ2n/wQADDgTgG8OvxH4mqISo8BkIiIqBQ2Ht+PFOUNKIXA4HpDAFU1qUsiKjUGQCIiolJY++diAEC/HC0adp8ucTVEj4YBkIiIqIQiz8TiiuIK5EJgsGcfwK6G1CURPRIGQCIiohJafvBdAEDInXw0D35T4mqIHh0DIBERUQn8cfEkLsnOAQAG1ewMVHeVuCKiR8cASEREVAIf/h4BIQO638lDm5D5UpdD9FgYAImIiB4i7to5nBfHAQBDqrcCnHwkrojo8TAAEhERPcR7eyNglAFBeXno2Dtc6nKIHhsDIBER0QMkpl3FGcMRAMAQm8aAa1OJKyJ6fAyARERED/Du7ggYZECr/Hx077NQ6nKIygQDIBERUTEu3UpDgvYPAMBgRT3IPVtKWxBRGWEAJCIiKsaCne9CJxdoqtXhqT4RUpdDVGYYAImIiIpw4dZ1HM/fCwAYJvOGvHaAxBURlR0GQCIioiIs2PX/0b8BfRZJXQ5RmWIAJCIius/59FSczNsHABgu84Lcq7XEFRGVLQZAIiKi+yzYtQg6uUAzrRZPh/C7f2R5GACJiIj+5Xx6Kk7+892/EfCC3LutxBURlT0GQCIion9ZsHMhCuQCflot+vbm6B9ZJgZAIiKif5y9mYKT2t8AAKFyH8i920lcEVH5YAAkIiL6xzu73kaBXMBfq0Xfp5ZIXQ5RuWEAJCIiAnAyNQnH/7nrx3BlQ971gywaAyARERGAt3fNhV4OtMzXom/fpVKXQ1SuGACJiMjqHbr8N/42xgEAxti1gNytqcQVEZUvBkAiIrJ67+19C0YZ0Ck3H9378bt/ZPkYAImIyKr98ncsLsj/BgCMrhEEOPtKXBFR+WMAJCIiq/bJwfkAgJCcPLR76l1piyGqIAyARERktdYd24uryiQohcALHn0AjZfUJRFVCIsKgMuXL4evry9sbW3RunVr/PHHHw9sr9VqMWfOHPj4+ECtVqN+/fr46quvKqhaIiKSktFoxJq4cABA/xwd/PqES1wRUcVRSl1AWdm4cSOmTJmC5cuXo2PHjvjss8/Qp08fJCQkwNvbu8htBg8ejOvXr+PLL79EgwYNkJaWBr1eX8GVExGRFD45+ANSbdKhNhoxqtFIwM5J6pKIKoxMCCGkLqIstGvXDgEBAVixYoVpWdOmTfHMM88gIqLwvRwjIyMxdOhQXLhwAc7Ozo+0z6ysLGg0GmRmZsLR0fGRayciooqVW6BF77WdkWGTh9BsA954+ShgYyt1WVRB+PltIaeAdTod4uLiEBwcbLY8ODgYhw4dKnKbrVu3IjAwEIsXL0bt2rXRqFEjzJgxA3l5eRVRMhERSWhe5MfIsMmDs8GAMW1nMPyR1bGIU8A3b96EwWCAm5ub2XI3NzekpqYWuc2FCxdw4MAB2NraYsuWLbh58yb+85//4NatW8V+D1Cr1UKr1Zp+zsrKKruDICKiCnE18xZ+u7EeUACj8mzhGjha6pKIKpxFjADeI5PJzH4WQhRado/RaIRMJsO6devQtm1bPPXUU/jggw+wZs2aYkcBIyIioNFoTI86deqU+TEQEVH5mv3LPOQpDKinK0Bo8GJAblEfhUQlYhHvehcXFygUikKjfWlpaYVGBe/x8PBA7dq1odFoTMuaNm0KIQSuXr1a5DazZs1CZmam6XHlypWyOwgiIip3sVfP4bhuPwBgnKgNdcOe0hZEJBGLCIAqlQqtW7dGVFSU2fKoqCh06NChyG06duyI5ORk5OTkmJadOXMGcrkcXl5FzwOlVqvh6Oho9iAioqrj7ajXYJAB7fLy0efpj6Uuh0gyFhEAAWDatGn44osv8NVXXyExMRFTp05FUlISxo8fD+Du6N3IkSNN7YcPH46aNWvihRdeQEJCAn7//XfMnDkTY8aMgZ2dnVSHQURE5WTjX/txUX4WMiHwslMXyN39pS6JSDIWcREIAAwZMgTp6ekIDw9HSkoK/P39sWPHDvj4+AAAUlJSkJSUZGpfvXp1REVFYdKkSQgMDETNmjUxePBgvPPOO1IdAhERlRO9wYDPY98CbIB+d3RoM3iJ1CURScpi5gGUAucRIiKqGt789b/4Oe1z2BuN+M7nBfg+OUPqkkhC/Py2oFPARERERUm6fQNRKXen9xqVawPfrlOkLYioErCYU8BERERFmbntdeQqDGig02F08EpAwY8+Io4AEhGRxdqWEINEQywAYIKiEewadpe4IqLKgQGQiIgskt5gwIeHXoeQASE5eeg58FOpSyKqNBgAiYjIIoXvWoEbNumoZjTiP/WHAzW8pS6JqNJgACQiIotz5XY6dqV8AQAYdUeJej3flLgiosqF34QlIiKLM+Pnybjzz/1+X+izClCqpC6JqFLhCCAREVmU1bE7kIDjAIBJdi1hV7+LxBURVT4MgEREZDEycnPw5fF5AICBOTr0HLhc4oqIKicGQCIishiv/jQLmcp8uOr1mNjmDaCas9QlEVVKDIBERGQRtiUcRrxuPwBgisENtdqMlrQeosqMAZCIiKq83AItPjg0DUIG9LqTj/7PfwXIZFKXRVRpMQASEVGV99rPC3DTJhsagwFTmo0HnOtJXRJRpcYASEREVVrk33/iYM42AMDLOmd4d5kqcUVElR8DIBERVVnZ2jwsOjAJehnQOVeL0MHfAHJ+tBE9DP+VEBFRlTVh80yk2+TA2WDA680mQO7sK3VJRFUCAyAREVVJa+N2IV73GwBgmt4NPl0mS1wRUdXBAEhERFVOctYtfBY/C0IGDMjOx4Ah3/CqX6JSYAAkIqIqZ/KPryBbqYNXQQGmtp8HaLykLomoSmEAJCKiKuW93Z/jtCwBciHwmm1L1AwcIXVJRFUOAyAREVUZf1w8hU1XlgEAQu/I0H3wlxJXRFQ1KaUugIiIqCRu593BW3tegtZGoHWeFpMHbARU9lKXRVQlcQSQiIiqhJc2vWKa8mVeo7Gw9WoldUlEVRYDIBERVXrhO1fgtDgGmRB4Ez7w7T5D6pKIqjQGQCIiqtT2nj2Gn5OXAwBeyBHoNXQdp3whekz8DiAREVVayVm3EP7bOOhsgHZ5WkwYuAmo5ix1WURVHkcAiYioUtLp9Xhp0zCk2+TDTa/HWy3fgMrzCanLIrIIDIBERFQpvbhxIq4ok2FrNCLcsQt82o+RuiQii8EASERElc7cX5chXn8QAPC61gUdBn4qcUVEloUBkIiIKpUNR3dj6/VVAIAXsg14PuxHQMGvrBOVJf6LIiKiSuPPK2fxcfx0GBRA9ztaTH5+C2BfU+qyiCwORwCJiKhSOJ+eiuk7hyFHYURjbQEWdP8vlO5+UpdFZJEYAImISHI3crIwbsvzuGWjhYdej4gmk+HUtLfUZRFZLAZAIiKS1B2tFiM2DkaaTSZqGAxYVKsfGnb5j9RlEVk0BkAiIpKM3mBA2PpQJCuvwc5oxLuqFgjov1jqsogsHgMgERFJwmg0Ysz6l3BWfhpKITDP6I3Ow77hbd6IKgADIBERVbi74e9lHDP+CQCYrnVB31E/AQobaQsjshIMgEREVKGMRiNe+O4/iDMcBgBMznPAiDG/Akq1xJURWQ8GQCIiqjD3wt/Rf+7yMeVONYx9YRdgYydxZUTWhRNBExFRhbh72nccjhpiAABTc9QY8+IuQF1d4sqIrA8DIBERlTudXo8X1o3CcRwHAEzOtceYF3cCthqJKyOyTgyARERUrjLzczFy/RBcUFyCTAhM0jph7Is7AVU1qUsjsloMgEREVG6uZt7Ci5ueQ7LNTdgIgTf0tTH4xa284INIYrwIhIiIysWp1MsYtakPkm1uorrRiAhZYwx+4ReGP6JKgAGQiIjK3PaTBzD+lwFIs8mFi96ADxy7IyRsE6DgiSeiyoD/EomIqEwtivoMm65+Ap0S8NHpEdFgHJp3nyp1WUT0LwyARERUJnR6PV75fhKOFBwA5EBQXgEWdP4AHn5PSV0aEd2HAZCIiB7blYybmLR5KM7bXAcADM8RmD7oJ6hcm0hcGREVhQGQiIgey4a4SCyPfwMZNgaojUZM1Xsi9MUfOMcfUSXGAEhERI9Ep9djyubXcDBvF4xKGeoU6PGG27Po0m8hIJNJXR4RPQADIBERldrx5POYtWM0kmxuAzIZQu7o8XqPT1Gr8ZNSl0ZEJcAASEREJWY0GrFg+3uIvLkeuTZANaMRE/TuGDlqI2DvInV5RFRCDIBERFQiMZf/RnjUeCTZpAMKoKlWj1kNxqFV9yk85UtUxTAAEhHRA+UX6DD3pzexJ+dX6GwAW6MRYdoaGD94HVTOdaUuj4geAQMgEREV66uDm/Bd4iKk2ugAOdA6rwDTGryAFj1e46gfURXGAEhERIUcvHAc7++djrM2qYANoDEYMELUxbjQ1ZA7uEldHhE9JgZAIgnp9QZk37mF7Du3oNUXoEBvACAgAyADIJcBcoUCjtWdUaO6C1QqtcQVk6U7ff0K3v91BmJxCnobGZRCoH+uAi93XYLafr2lLo+IyggDIFEZy9PewYlzcTh7LQ4pt84iPe8asvRZyDHewR2ZDjlyPXLlAvkyIF8mgyjFaTS1UcBWCKgFoDbKYCfksBc2sIMt7BX2qK50hKPaGTXsXOHq5ANfDz80qNMSdnbVyvGIyRKcvZGMxb++jqOGeOjkACBD+zw9XvYdgcCerwMKflwQWRL+iyZ6RAaDHrEJe3H03D5cykhAakEKUhW5uK4EjP8OdXIAqn9veW98r3gyIUz//e+AqJXLoDXbVgDQ/fPIApDy/x8zAVwCFIcEnA0CTgYFNMIWGrkjnFS1UKt6bXi5NEYz3/bwrd0McoXiUbqBqrhTKRfw6a45OGI8Ca0cgBzw0+oxyKkHnhu2GFDxjwciSyQT4l+fNFQqWVlZ0Gg0yMzMhKOjo9TlUDnLzMnAziPfIT5pHy5rL+KCTR5yFPIi26qNAq4GwNmgQg2ZIxyVNVDD1hkaO1c4VfeAk4M7nBxqwcnBBY4OLnCs7gKV0gayIkYDDQY9su7cQmb2TWTdyUB2bgYyc28h504mbufdRHbeDWRrbyG7IBN3DHdwB3m4Ax0yFQakKwBDCUYY7Y1GuBXIUVPYwVnhBFe7OvCu2QiNvdvAr357qNR2j91/VLlsPf4bNsYuQoLiCvT/vEeaaQswuHp7PDvgA8jtnSWukKj88PObAfCx8A1k+Q4n7MfOuLU4nXsCp1X50MnNw5TaKOBdIIcHNPCq5oN6tQLgX78TmtQNgEIp/QC7Xq/DpeS/cT75OK7ePIvrWUm4lX8dt/WZuI07SFfocVP54ICoMgp46AFXYzXUUrrAo3o91HdriZaNuqGOZ4MKOhIqC9naPHy5dyX2Xt2Ii6o7puUt8vXoV6MLhvSLYPAjq8DPbwsLgMuXL8eSJUuQkpICPz8/fPTRR+jcufNDtzt48CC6du0Kf39/xMfHl3h/fANZHiEE9h37FZF/fYa/DBeQbGO+3kVvRH19dTSwb4RWvj3ROeA5VLOrLk2xZSTzTgZOnDuMc9eO4VrGWaTlXUO6MQPp8nxcVwoUPGAE0VlvhIfeBrVkjnCzrQ1v56bwqxuE5g07cdSwEvnlxH78FPcJThpPI+efM/1KIdAtV6C/z/N4MvgNwIavF1kPfn5bUADcuHEjwsLCsHz5cnTs2BGfffYZvvjiCyQkJMDb27vY7TIzMxEQEIAGDRrg+vXrDIBW6vTleKz/fSni8o/jsur//ySUQqCJVolmdo3RtelQdAp42qq+K6fX63H83BGcunQQl2+eQmr+FdwwZiBVocOtB4wcqowCnv+MGrrauMLLoR4aerZG6ybdUbNm8f8eqewcOHcUW2NW4ERuHK6qCkzLXfUGdNa7YFjgJDRu9RwgL/prDESWjJ/fFhQA27Vrh4CAAKxYscK0rGnTpnjmmWcQERFR7HZDhw5Fw4YNoVAo8NNPPzEAWhGDwYiN+1Zh14W1iFdlm74rpxQCT2jVaOPUGQO7TIaHez2JK62c0jKScfTv/TiTHIdrWeeQVnAdabI7SLF58Kihi94Id4MNXGU14GlXB3Vr+aOFbxAa1WsHhZLT3DwqvcGAXSf2YffxtTipO4UUm/+HPhsh0CFPhm41O+HpkDeh0tSWsFIi6fHz20KuAtbpdIiLi8Mbb7xhtjw4OBiHDh0qdrvVq1fj/Pnz+Pbbb/HOO+88dD9arRZardb0c1ZW1qMXTZLJycvCim1z8Fvmb3dH+9QAIEOzfBnaVA/E0CdnwsujqdRlVnquTp7oHTQcvTHcbLmuQIf4c9FIuBSNyzcTcD3vCm7iNlIVOmQo5biplOOm0gAgHTCkA6nxQOq3UB80wlMvh5uoBjcbN3hpGqCRR2u0atIdTk6ekhxjZZeYfA7bjnyDkzcP4bw8FVn3Bqdt7v4h0zLfiFZ2fniuw0TUbtiFd+4gIhOLCIA3b96EwWCAm5v57PRubm5ITU0tcpuzZ8/ijTfewB9//AFlCb+sHxERgQULFjx2vSSNW9m38cnWmdibH410pQxQ3b2naYeCmnj2iQno1m6I1CVaBJWNCm2bdkXbpl3NlgshcDntMo79/RvOp8YhJecCbupvIE2ei1QbAa1cjosq4CJyAVwEsi8C2VHAmUVw1RtRy2ADZzjAReUKDwcf1HVtBr967VDHww8yKziNqdPrsT/xdxz++xdcyPwLV5CGNJt/TuD8811VO6MRLbQKtLb3x4A2Y+DZ6Eme4iWiIllEALzn/ik0hBDFTKthwPDhw7FgwQI0atSoxM8/a9YsTJs2zfRzVlYW6tSp8+gFU4W4k5+Dj7bMQFTugbvBTymDq96Irgo/jOn9Nrw8GktdolWQyWSo61YXdd3qAhhlti47NxdHzxzE6aQYXM1IQJr2Gm4iE6nKAmQq5EhTypGmNAC4ffeRcwbIiQIu3A3xbno5ago1nOVOcLH1gJtjXdR2boB6tZvBt7YfVKqqc4GD0WjEmeuX8NfZ35GYfARXc87juriBFKUO2ntXof8T+GRCoLHOiKaohUD3jujRYSzsXXylK56IqgyLCIAuLi5QKBSFRvvS0tIKjQoCQHZ2Nv78808cO3YMEydOBHD3l64QAkqlErt27cKTTz5ZaDu1Wg21mt9RqiqMRiM+2x6OH278gLR/gl8tvRF9bAPx8sAP4OhQU+oS6R8O1aqha8te6Nqyl9lyIQQuX7+A+DP7cTntFFKzL+NWQRpuIQfpigLcVAD5cjkuq4DL0AJIBQypQMYxIAPAeUAuBJwMAjWMCjgKNTSy6nBUOqGGbS04VquFmg7ucK3hBfeadVHbtT7s7RzK7TiNRiPSc24hKfUcLt84h2u3LiE9Owm381OQob+Fm7I7uKHUI+/f0w2ZrkSXoZrRiMY6GerJXdG0ViA6PzEInnUDeWqXiErNIgKgSqVC69atERUVhWeffda0PCoqCgMGDCjU3tHRESdOnDBbtnz5cuzduxc//PADfH35F3RVt/voL1gVOxeJtjpAKYOL3ojeqgBMHPIR7Ksz+FUVMpkMdd3ro657/SLX38rOxIlzh3Ex+S8k3z6Dm3nXcMtwC5myfNxW6JGhkMEgkyFdKUM6BID8fx43Ad3Zu3dMuQ3gyv+f084oUM0ooBIyqIUcKiGHCgqohBI2MhvIZXLIIbv7P9nd/4KQQQAwQA899CgQehTAAD0MKJAZkQ8jcuVGZCtgmnTZjOKfx92jhlwIuOuNqG1QwUteEz6ODdG8bhe09O8Dlb1TmfUvEVkviwiAADBt2jSEhYUhMDAQQUFBWLVqFZKSkjB+/HgAd0/fXrt2DV9//TXkcjn8/f3Ntnd1dYWtrW2h5VS13Lidinc2v4DfFFdgsJVBZRTobfTBlGc+R62avJDA0jg7aNC1VQi6tgopcn2eVovzVxNxKeUkUtPP4WbOVdzWpiFTn4E7Ig+5sgLckRuQLRfIlstglMmQJ5f9awTubqy7+9A9ZrX/D34qo4CzwQhngxw1hBqOcgc4qWuhjqMvGro3h1/DTnCoWZcje0RUbiwmAA4ZMgTp6ekIDw9HSkoK/P39sWPHDvj4+AAAUlJSkJSUJHGVVJ6+jfoEXyWtxA3l3XvttslXYWrn99C8WU+pSyOJ2KnV8K/fEv71Wz60rU6nxfX0JKTevITbOTeQnXsbd/JvI1eXDa0uB/n6O9Dqc2EURghhuPv/EDAKIyAzQgZAKVNBKVdDJVfBVmkLldIWaptqqK7WoKZjbdRy9oZXrXrQ1HCHXGnz0JqIiMqLxcwDKAXOI1Q53My8ibnfD8cfqhQAgEeBESPdhmJEvzc5gkJERIXw89uCRgDJOm0/9A3+m7AYKaq7P/fQOmH2c+vgWpNXZxMRERWHAZCqJKPBgAXfvYif9X/CYHP36t5XPEMxqM9sqUsjIiKq9BgAqcq5djMZs358HsfU2YBMhg551fDWgG/g5VHyOR2JiIisGQMgVSm//7UT78bOwDX13VtdDVcEYPrY1ZArFA/fmIiIiAAwAFIV8uWOhfjs+nfI++eU7+sNJiOk68tSl0VERFTlMABSpSeEwDvfvYxNukMQchma58uxsPc38PVpKXVpREREVRIDIFVqBXo9ZqwZiL02FwGZDN3zNYgI2wH7atZ52T4REVFZYACkSutOfg4mfd0HserbAIBBxvp486UfIFfwbUtERPQ4+ElKldKtrBt4ZUMfJKi1UAqBsXad8Z8hK6Qui4iIyCIwAFKlk5aZhv9s7I3T6gJUMxoxudZQhPZ7S+qyiIiILAYDIFUqKRnXMWlTH5xWF8DeaMQsnwkY8OR/pC6LiIjIojAAUqVxIzPNLPzNqzcZfTjNCxERUZljAKRK4VbWDbzyz2lfe6MR4Q1eRXDncVKXRUREZJHkUhdAlJufi/9s+P/I39x6kxn+iIiIyhEDIElKr9dj0te9cUqthZ3RiDe8J+ApnvYlIiIqVwyAJBkhBKatHYgj6gwohcBkl8F4pgcv+CAiIipvDIAkmfD147BPeREA8JJdJ4zoP0/iioiIiKwDAyBJ4rNt87G5IBoAMMhYDxOGrJS4IiIiIuvBAEgV7teY77Dq5g8QMhl65DvhzZGbpS6JiIjIqjAAUoU6nZSAxScXQieXISDfBotG/cp7+xIREVUwBkCqMNm5dzA7cgRuKmWoozNi0YAfYGtrL3VZREREVocBkCrM6+uexZl7d/lo/S483OtJXRIREZFVYgCkCrF001T8oUoBAExyeQbtAgZIXBEREZH1YgCkcrfryAasvxMFAHhW74PQ/gslroiIiMi6MQBSuUq9dQ2LT7yDApkMgXk2mMsrfomIiCTHAEjlxmg0YvYPQ3FdKYN7gRHhT38PpY1a6rKIiIisHgMglZslP8xArPo2FELg1XoTUMezgdQlERERERgAqZwcPLEPm+/sAgA8K+qj35O8xy8REVFlwQBIZS43PxfvHZ6CPLkM/lo55oRukLokIiIi+hfegoHK3FvfDcVFlRGOBiPe6rYCSpWd1CURERHRv3AEkMrUT398hV3yiwCA0Zqn0KxRJ4krIiIiovsxAFKZuZ2TgRWnPwQAdM53wNjnlkhcERERERWFAZDKzIKNYUi2AVz0Rsx+eq3U5RAREVExGACpTGz541vsVVwCALxQayC8PBpKWxAREREViwGQHlt2XjY+//s9GGUydNRWw8j+4VKXRERERA/AAEiP7Z2NL+CKCqhhMGJOvy8BmUzqkoiIiOgBGADpsfx2bCt24m8AQJgmBHU8/SWuiIiIiB6GAZAemcGgx0d/zoVBJkObfDVeeoZX/RIREVUFDID0yD76cTrOqQyoZjRiardlkCsUUpdEREREJcAASI/k8vXL2JK9GwDQT+6H5o2DJK6IiIiISooBkB7Je1tfQqZCDm+dwPTBX0hdDhEREZUCAyCV2q/RP+CgTQoA4KW6L6CanaPEFREREVFpMABSqRgMenx+4h0YZTIEae3wbK/pUpdEREREpcQASKWy7KfXcFZtgJ3RiKndPpS6HCIiInoEDIBUYjcykrE5cxcAoC+aoGmjjhJXRERERI+CAZBKbMlP/8FthQxeBUZMG8QLP4iIiKoqBkAqkZMXjmIvzgEABtZ8Gg7VnSSuiIiIiB4VAyCVyH93T4NWLkMzrQwvPv221OUQERHRY2AApIfaeeQnHFbdBACMbjwRcoVS4oqIiIjocTAA0gMJIbD22EIImQzt8+3Qp+s4qUsiIiKix8QASA+0fvcnOGGbD6UQeKUjT/0SERFZAgZAKpbBoMfGS58DALoX1EKAf4jEFREREVFZYACkYq3c9iYuqgTsjUZMDPlY6nKIiIiojDAAUpHydXn46eZ2AEAv0Qj1vFtIXBERERGVFQZAKtKnP72OVBsZnAxGTBzwidTlEBERURliAKRC7uTn4tesvQCAXgo/uNWsLXFFREREVJYYAKmQZT/NxHUbGZz1Rkx8mt/9IyIisjQMgGQmOzcHu+78BgAIUT0BJycPiSsiIiKissYASGY++Wkmbij/Gf17hqN/RERElogBkExycrMRlfcHAKC3qiUcHWpJXBERERGVBwZAMvlk6wzcUMrgojfilQEfSV0OERERlROLCoDLly+Hr68vbG1t0bp1a/zxxx/Ftv3xxx/Rq1cv1KpVC46OjggKCsLOnTsrsNrKJTcvGzvvHAQABKsCUMORo39ERESWymIC4MaNGzFlyhTMmTMHx44dQ+fOndGnTx8kJSUV2f73339Hr169sGPHDsTFxaF79+7o378/jh07VsGVVw4rtr2Bm/+M/o0f8IHU5RAREVE5kgkhhNRFlIV27dohICAAK1asMC1r2rQpnnnmGURERJToOfz8/DBkyBDMnTu3RO2zsrKg0WiQmZkJR0fHR6q7MtAV6NBvbQBSbGQYBH/MHfWd1CURERGVG0v5/H4cFjECqNPpEBcXh+DgYLPlwcHBOHToUImew2g0Ijs7G87OzsW20Wq1yMrKMntYgi9+CUeKjQwOBiNe7rtY6nKIiIionFlEALx58yYMBgPc3NzMlru5uSE1NbVEz/H+++/jzp07GDx4cLFtIiIioNFoTI86deo8Vt2VgUFvwM60rQCA7qgHN5eqf0xERET0YBYRAO+RyWRmPwshCi0rynfffYf58+dj48aNcHV1LbbdrFmzkJmZaXpcuXLlsWuW2je7l+GCWkBtFHg5eJHU5RAREVEFUEpdQFlwcXGBQqEoNNqXlpZWaFTwfhs3bsSLL76ITZs2oWfPng9sq1aroVarH7veyuTXy18DtkBXgxu8vfykLoeIiIgqgEWMAKpUKrRu3RpRUVFmy6OiotChQ4dit/vuu+8wevRorF+/Hn379i3vMiudbYfWI8G2AAoh8ELneVKXQ0RERBXEIkYAAWDatGkICwtDYGAggoKCsGrVKiQlJWH8+PEA7p6+vXbtGr7++msAd8PfyJEj8fHHH6N9+/am0UM7OztoNBrJjqMibT65DFAD7XWO8G/cRepyiIiIqIJYTAAcMmQI0tPTER4ejpSUFPj7+2PHjh3w8fEBAKSkpJjNCfjZZ59Br9djwoQJmDBhgmn5qFGjsGbNmoouv8IdObUHR1XZAGQY2mqq1OUQERFRBbKYeQClUJXnEZrwxZP43eYGAvJVWPtynNTlEBERVZiq/PldViziO4BUOpdTziFGkQYA6FdvlMTVEBERUUVjALRCn++aA61chvpa4LknJzx8AyIiIrIoDIBW5k7eHRzQnwQAPKnpBrlCIXFFREREVNEYAK3M57/MR7pSDme9ES/2e0fqcoiIiEgCDIBWxGg0Yv+tXQCArvKGsLe3juluiIiIyBwDoBX56fc1OK82wkYIvNgjXOpyiIiISCIMgFZk+5kvAADtdTXg491C4mqIiIhIKgyAVuLk+T9xVJUFABjUglf+EhERWTMGQCvx9W8LYJDJ4JevQPf2w6Quh4iIiCTEAGgFMnPScRAXAABPuvaVuBoiIiKSGgOgFfjq1wXIUsjhXmDEyKfelLocIiIikhgDoBX4LeM3AEAHRTPYqu0kroaIiIikxgBo4SKjN+C82gilEAjrMVfqcoiIiKgSYAC0cD+fWAkACNRWRwPv5hJXQ0RERJUBA6AFu5KWhD9tbgIA+jYYIXE1REREVFkwAFqwNbvmI18ug49O4Olur0hdDhEREVUSDIAWymgwIDovFgDQuVpryBUKiSsiIiKiyoIB0EL9+PsXuKICbI1GjA6eL3U5REREVIkwAFqoyLNfAwDaFtSEWy1fiashIiKiyoQB0AJdSk5EnCoTANDf70WJqyEiIqLKhgHQAq3ZEw69TIYGWhlCgsKkLoeIiIgqGQZAC2M0GBCtPQEA6OAQBJmcLzERERGZYzqwMD/9sQrJNjJUMxoRFvyW1OUQERFRJcQAaGEiz6wHALQucIZ7TS+JqyEiIqLKiAHQgiTfuIKjNhkAgJBG/O4fERERFY0B0IJ8vfsdaOUy1NEJ9O/Mq3+JiIioaAyAFiQm+zAAIEjdnHf+ICIiomIxAFqIPXFbcU5thFIIjOj+htTlEBERUSXGAGghth9bDgBoqbODb50nJK6GiIiIKjMGQAtwJzcHsfIrAIBunv0kroaIiIgqOwZAC7Au6j1kKuSoqTdiSM8ZUpdDRERElRwDoAX4/XokAKAtvGFray9xNURERFTZMQBWcWcuH8MJVR4AYEDAJImrISIioqqAAbCK2/D7EhhlMjTWytGx1VNSl0NERERVAANgFSaEQEz+CQBA2+ptJa6GiIiIqgoGwCps95FNSFIBKqPA8Cc59x8RERGVDANgFbbjxJcAgCd09vByry9xNURERFRVMABWUbn5eYiTXQUAdPHsI3E1REREVJUwAFZRG/d8jAylHBqDEUN6ce4/IiIiKjkGwCrqwNWtAIBAgzvsbKtLXA0RERFVJQyAVVBK+jX8pcoCAPRuNlLiaoiIiKiqYQCsgr7bvQhauQxeBQLB7UdIXQ4RERFVMQyAVVBM5gEAQKCyCeQKhcTVEBERUVXDAFjFnDwXg0RVAQBgYPsp0hZDREREVRIDYBWz6dAHEDIZmmoVaNWkk9TlEBERURXEAFjF/KlNAAC0cWgvcSVERERUVTEAViG/H92CJBVgIwSGdH9N6nKIiIioimIArEK2x9+99VsLrR283etJXA0RERFVVQyAVYTRYMAx4yUAQNta3SSthYiIiKo2BsAqYtvBNUi1kaGa0YhhT86UuhwiIiKqwhgAq4i9p78DADxRoIFTDVeJqyEiIqKqjAGwCsi6k4t4eQoAoFPtPhJXQ0RERFUdA2AVsGr7R7illMPBYMSgJ6dIXQ4RERFVcQyAldztXB2O3/gFANBB7gY7OweJKyIiIqKqjgGwklux9yTOVrsNAHi++VBpiyEiIiKLwABYiaVl5ePYic+Ro5DDxSDQ5onRUpdEREREFoABsBJbtvcclA5xAIDe1X2hUKokroiIiIgsgVLqAqhoSem52PpnPFT1cwHI8JRfmNQlERERkYXgCGAl9emvO+Ht/R7y5TL4GAD/ps9LXRIRERFZCI4AVkJ/HIvE0fw3kaqWw9kgsLjD25DJmdWJiIiobDAAVkKrY+cjVS2Hp17gi+DPUKdOR6lLIiIiIgtiUcNKy5cvh6+vL2xtbdG6dWv88ccfD2z/22+/oXXr1rC1tUW9evWwcuXKCqr0weY//R0665ywqPM3DH9ERERU5iwmAG7cuBFTpkzBnDlzcOzYMXTu3Bl9+vRBUlJSke0vXryIp556Cp07d8axY8cwe/ZsTJ48GZs3b67gygvzdvfF8rG/o1WjVlKXQkRERBZIJoQQUhdRFtq1a4eAgACsWLHCtKxp06Z45plnEBERUaj966+/jq1btyIxMdG0bPz48fjrr78QHR1don1mZWVBo9EgMzMTjo6Oj38QREREVO74+W0hI4A6nQ5xcXEIDg42Wx4cHIxDhw4VuU10dHSh9iEhIfjzzz9RUFBQ5DZarRZZWVlmDyIiIqKqxiIC4M2bN2EwGODm5ma23M3NDampqUVuk5qaWmR7vV6PmzdvFrlNREQENBqN6VGnTp2yOQAiIiKiCmQRAfAemUxm9rMQotCyh7Uvavk9s2bNQmZmpulx5cqVx6yYiIiIqOJZxDQwLi4uUCgUhUb70tLSCo3y3ePu7l5ke6VSiZo1axa5jVqthlqtLpuiiYiIiCRiESOAKpUKrVu3RlRUlNnyqKgodOjQochtgoKCCrXftWsXAgMDYWNjU261EhEREUnNIgIgAEybNg1ffPEFvvrqKyQmJmLq1KlISkrC+PHjAdw9fTty5EhT+/Hjx+Py5cuYNm0aEhMT8dVXX+HLL7/EjBkzpDoEIiIiogphEaeAAWDIkCFIT09HeHg4UlJS4O/vjx07dsDHxwcAkJKSYjYnoK+vL3bs2IGpU6fi008/haenJ/773//iueeek+oQiIiIiCqExcwDKAXOI0RERFT18PPbgk4BExEREVHJMAASERERWRkGQCIiIiIrwwBIREREZGUs5ipgKdy7fob3BCYiIqo67n1uW/N1sAyAjyE7OxsAeE9gIiKiKig7OxsajUbqMiTBaWAeg9FoRHJyMhwcHB54z+HSysrKQp06dXDlyhWrvTy9orCvKwb7uWKwnysG+7lilGc/CyGQnZ0NT09PyOXW+W04jgA+BrlcDi8vr3J7fkdHR/5yqSDs64rBfq4Y7OeKwX6uGOXVz9Y68nePdcZeIiIiIivGAEhERERkZRgAKyG1Wo158+ZBrVZLXYrFY19XDPZzxWA/Vwz2c8VgP5cvXgRCREREZGU4AkhERERkZRgAiYiIiKwMAyARERGRlWEAJCIiIrIyDICV0PLly+Hr6wtbW1u0bt0af/zxh9QlVVoRERFo06YNHBwc4OrqimeeeQanT582ayOEwPz58+Hp6Qk7Ozt069YNp06dMmuj1WoxadIkuLi4wN7eHk8//TSuXr1q1iYjIwNhYWHQaDTQaDQICwvD7du3y/sQK6WIiAjIZDJMmTLFtIz9XDauXbuGESNGoGbNmqhWrRpatmyJuLg403r28+PT6/V488034evrCzs7O9SrVw/h4eEwGo2mNuznR/P777+jf//+8PT0hEwmw08//WS2viL7NSkpCf3794e9vT1cXFwwefJk6HS68jjsqklQpbJhwwZhY2MjPv/8c5GQkCBeffVVYW9vLy5fvix1aZVSSEiIWL16tTh58qSIj48Xffv2Fd7e3iInJ8fUZtGiRcLBwUFs3rxZnDhxQgwZMkR4eHiIrKwsU5vx48eL2rVri6ioKHH06FHRvXt38cQTTwi9Xm9q07t3b+Hv7y8OHTokDh06JPz9/UW/fv0q9HgrgyNHjoi6deuKFi1aiFdffdW0nP38+G7duiV8fHzE6NGjRUxMjLh48aLYvXu3OHfunKkN+/nxvfPOO6JmzZpi+/bt4uLFi2LTpk2ievXq4qOPPjK1YT8/mh07dog5c+aIzZs3CwBiy5YtZusrql/1er3w9/cX3bt3F0ePHhVRUVHC09NTTJw4sdz7oKpgAKxk2rZtK8aPH2+2rEmTJuKNN96QqKKqJS0tTQAQv/32mxBCCKPRKNzd3cWiRYtMbfLz84VGoxErV64UQghx+/ZtYWNjIzZs2GBqc+3aNSGXy0VkZKQQQoiEhAQBQBw+fNjUJjo6WgAQf//9d0UcWqWQnZ0tGjZsKKKiokTXrl1NAZD9XDZef/110alTp2LXs5/LRt++fcWYMWPMlg0cOFCMGDFCCMF+Liv3B8CK7NcdO3YIuVwurl27Zmrz3XffCbVaLTIzM8vleKsangKuRHQ6HeLi4hAcHGy2PDg4GIcOHZKoqqolMzMTAODs7AwAuHjxIlJTU836VK1Wo2vXrqY+jYuLQ0FBgVkbT09P+Pv7m9pER0dDo9GgXbt2pjbt27eHRqOxqtdmwoQJ6Nu3L3r27Gm2nP1cNrZu3YrAwEAMGjQIrq6uaNWqFT7//HPTevZz2ejUqRP27NmDM2fOAAD++usvHDhwAE899RQA9nN5qch+jY6Ohr+/Pzw9PU1tQkJCoNVqzb5SYc2UUhdA/3fz5k0YDAa4ubmZLXdzc0NqaqpEVVUdQghMmzYNnTp1gr+/PwCY+q2oPr18+bKpjUqlgpOTU6E297ZPTU2Fq6troX26urpazWuzYcMGHD16FLGxsYXWsZ/LxoULF7BixQpMmzYNs2fPxpEjRzB58mSo1WqMHDmS/VxGXn/9dWRmZqJJkyZQKBQwGAxYuHAhhg0bBoDv5/JSkf2amppaaD9OTk5QqVRW2fdFYQCshGQymdnPQohCy6iwiRMn4vjx4zhw4EChdY/Sp/e3Kaq9tbw2V65cwauvvopdu3bB1ta22Hbs58djNBoRGBiId999FwDQqlUrnDp1CitWrMDIkSNN7djPj2fjxo349ttvsX79evj5+SE+Ph5TpkyBp6cnRo0aZWrHfi4fFdWv7PsH4yngSsTFxQUKhaLQXydpaWmF/pIhc5MmTcLWrVuxb98+eHl5mZa7u7sDwAP71N3dHTqdDhkZGQ9sc/369UL7vXHjhlW8NnFxcUhLS0Pr1q2hVCqhVCrx22+/4b///S+USqWpD9jPj8fDwwPNmjUzW9a0aVMkJSUB4Pu5rMycORNvvPEGhg4diubNmyMsLAxTp05FREQEAPZzeanIfnV3dy+0n4yMDBQUFFhl3xeFAbASUalUaN26NaKiosyWR0VFoUOHDhJVVbkJITBx4kT8+OOP2Lt3L3x9fc3W+/r6wt3d3axPdTodfvvtN1Oftm7dGjY2NmZtUlJScPLkSVOboKAgZGZm4siRI6Y2MTExyMzMtIrXpkePHjhx4gTi4+NNj8DAQISGhiI+Ph716tVjP5eBjh07FprG6MyZM/Dx8QHA93NZyc3NhVxu/vGnUChM08Cwn8tHRfZrUFAQTp48iZSUFFObXbt2Qa1Wo3Xr1uV6nFVGBV90Qg9xbxqYL7/8UiQkJIgpU6YIe3t7cenSJalLq5ReeeUVodFoxP79+0VKSorpkZuba2qzaNEiodFoxI8//ihOnDghhg0bVuS0A15eXmL37t3i6NGj4sknnyxy2oEWLVqI6OhoER0dLZo3b27R0zk8zL+vAhaC/VwWjhw5IpRKpVi4cKE4e/asWLdunahWrZr49ttvTW3Yz49v1KhRonbt2qZpYH788Ufh4uIiXnvtNVMb9vOjyc7OFseOHRPHjh0TAMQHH3wgjh07ZprKrKL69d40MD169BBHjx4Vu3fvFl5eXpwG5l8YACuhTz/9VPj4+AiVSiUCAgJMU5pQYQCKfKxevdrUxmg0innz5gl3d3ehVqtFly5dxIkTJ8yeJy8vT0ycOFE4OzsLOzs70a9fP5GUlGTWJj09XYSGhgoHBwfh4OAgQkNDRUZGRgUcZeV0fwBkP5eNbdu2CX9/f6FWq0WTJk3EqlWrzNaznx9fVlaWePXVV4W3t7ewtbUV9erVE3PmzBFardbUhv38aPbt21fk7+RRo0YJISq2Xy9fviz69u0r7OzshLOzs5g4caLIz88vz8OvUmRCCCHN2CMRERERSYHfASQiIiKyMgyARERERFaGAZCIiIjIyjAAEhEREVkZBkAiIiIiK8MASERERGRlGACJiIiIrAwDIBEREZGVYQAkIiIisjIMgERERERWhgGQiIiIyMowABIRERFZGQZAIiIiIivDAEhERERkZRgAiYiIiKwMAyARERGRlWEAJCIiIrIyDIBEREREVoYBkIiIiMjKMAASERERWRkGQCIiIiIrwwBIREREZGUYAImIiIisDAMgERERkZVhACQiIiKyMgyARERERFaGAZCIiIjIyjAAEhEREVkZBkAiIiIiK8MASERERGRlGACJiIiIrMz/AIu3sNPPbwerAAAAAElFTkSuQmCC' width=640.0/>\n",
       "            </div>\n",
       "        "
      ],
      "text/plain": [
       "Canvas(toolbar=Toolbar(toolitems=[('Home', 'Reset original view', 'home', 'home'), ('Back', 'Back to previous …"
      ]
     },
     "metadata": {},
     "output_type": "display_data"
    }
   ],
   "source": [
    "plt.figure()\n",
    "plt.plot(sin_3_4_05_vol.frequency_array, sin_3_4_05_vol.absorption_frequency(), label='sin, p=3, q=4, fr100, seg100, vol')\n",
    "# plt.plot(sin_3_4_05_rad.frequency_array, sin_3_4_05_rad.absorption_frequency(), label='sin, p=3, q=4, fr100, seg100, rad')\n",
    "plt.plot(sin_3_4_05_vol_2.frequency_array, sin_3_4_05_vol_2.absorption_frequency(), label='sin, p=3, q=4, fr50, seg200, vol')\n",
    "plt.plot(sin_3_4_05_vol_3.frequency_array, sin_3_4_05_vol_3.absorption_frequency(), label='sin, p=3, q=4, fr50, seg100, vol')\n",
    "plt.legend()"
   ]
  },
  {
   "cell_type": "code",
   "execution_count": 17,
   "metadata": {},
   "outputs": [],
   "source": [
    "frequency_array = np.arange(2, 10052, 100)"
   ]
  },
  {
   "cell_type": "code",
   "execution_count": 18,
   "metadata": {},
   "outputs": [
    {
     "data": {
      "application/vnd.jupyter.widget-view+json": {
       "model_id": "fb6e12a712b84c3f8a84857bdf9ce064",
       "version_major": 2,
       "version_minor": 0
      },
      "image/png": "[encoded data removed]",
      "text/html": [
       "\n",
       "            <div style=\"display: inline-block;\">\n",
       "                <div class=\"jupyter-widgets widget-label\" style=\"text-align: center;\">\n",
       "                    Figure\n",
       "                </div>\n",
       "                <img src='data:image/png;base64,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' width=640.0/>\n",
       "            </div>\n",
       "        "
      ],
      "text/plain": [
       "Canvas(toolbar=Toolbar(toolitems=[('Home', 'Reset original view', 'home', 'home'), ('Back', 'Back to previous …"
      ]
     },
     "metadata": {},
     "output_type": "display_data"
    },
    {
     "name": "stdout",
     "output_type": "stream",
     "text": [
      "Solving wavenumber in determinant for shape = sin, p = 0.003, q = 0.004, Young's = 140000000.0\n"
     ]
    },
    {
     "data": {
      "application/vnd.jupyter.widget-view+json": {
       "model_id": "11bb51eda843471993007c53100cc4b9",
       "version_major": 2,
       "version_minor": 0
      },
      "text/plain": [
       "Solving for all frequencies:   0%|          | 0/101 [00:00<?, ?it/s]"
      ]
     },
     "metadata": {},
     "output_type": "display_data"
    },
    {
     "data": {
      "application/vnd.jupyter.widget-view+json": {
       "model_id": "",
       "version_major": 2,
       "version_minor": 0
      },
      "text/plain": [
       "  ... working at frequency = 2.0 Hz:   0%|          | 0/200 [00:00<?, ?it/s]"
      ]
     },
     "metadata": {},
     "output_type": "display_data"
    },
    {
     "data": {
      "application/vnd.jupyter.widget-view+json": {
       "model_id": "",
       "version_major": 2,
       "version_minor": 0
      },
      "text/plain": [
       "  ... working at frequency = 102.0 Hz:   0%|          | 0/200 [00:00<?, ?it/s]"
      ]
     },
     "metadata": {},
     "output_type": "display_data"
    },
    {
     "data": {
      "application/vnd.jupyter.widget-view+json": {
       "model_id": "",
       "version_major": 2,
       "version_minor": 0
      },
      "text/plain": [
       "  ... working at frequency = 202.0 Hz:   0%|          | 0/200 [00:00<?, ?it/s]"
      ]
     },
     "metadata": {},
     "output_type": "display_data"
    },
    {
     "data": {
      "application/vnd.jupyter.widget-view+json": {
       "model_id": "",
       "version_major": 2,
       "version_minor": 0
      },
      "text/plain": [
       "  ... working at frequency = 302.0 Hz:   0%|          | 0/200 [00:00<?, ?it/s]"
      ]
     },
     "metadata": {},
     "output_type": "display_data"
    },
    {
     "data": {
      "application/vnd.jupyter.widget-view+json": {
       "model_id": "",
       "version_major": 2,
       "version_minor": 0
      },
      "text/plain": [
       "  ... working at frequency = 402.0 Hz:   0%|          | 0/200 [00:00<?, ?it/s]"
      ]
     },
     "metadata": {},
     "output_type": "display_data"
    },
    {
     "data": {
      "application/vnd.jupyter.widget-view+json": {
       "model_id": "",
       "version_major": 2,
       "version_minor": 0
      },
      "text/plain": [
       "  ... working at frequency = 502.0 Hz:   0%|          | 0/200 [00:00<?, ?it/s]"
      ]
     },
     "metadata": {},
     "output_type": "display_data"
    },
    {
     "data": {
      "application/vnd.jupyter.widget-view+json": {
       "model_id": "",
       "version_major": 2,
       "version_minor": 0
      },
      "text/plain": [
       "  ... working at frequency = 602.0 Hz:   0%|          | 0/200 [00:00<?, ?it/s]"
      ]
     },
     "metadata": {},
     "output_type": "display_data"
    },
    {
     "data": {
      "application/vnd.jupyter.widget-view+json": {
       "model_id": "",
       "version_major": 2,
       "version_minor": 0
      },
      "text/plain": [
       "  ... working at frequency = 702.0 Hz:   0%|          | 0/200 [00:00<?, ?it/s]"
      ]
     },
     "metadata": {},
     "output_type": "display_data"
    },
    {
     "data": {
      "application/vnd.jupyter.widget-view+json": {
       "model_id": "",
       "version_major": 2,
       "version_minor": 0
      },
      "text/plain": [
       "  ... working at frequency = 802.0 Hz:   0%|          | 0/200 [00:00<?, ?it/s]"
      ]
     },
     "metadata": {},
     "output_type": "display_data"
    },
    {
     "data": {
      "application/vnd.jupyter.widget-view+json": {
       "model_id": "",
       "version_major": 2,
       "version_minor": 0
      },
      "text/plain": [
       "  ... working at frequency = 902.0 Hz:   0%|          | 0/200 [00:00<?, ?it/s]"
      ]
     },
     "metadata": {},
     "output_type": "display_data"
    },
    {
     "data": {
      "application/vnd.jupyter.widget-view+json": {
       "model_id": "",
       "version_major": 2,
       "version_minor": 0
      },
      "text/plain": [
       "  ... working at frequency = 1002.0 Hz:   0%|          | 0/200 [00:00<?, ?it/s]"
      ]
     },
     "metadata": {},
     "output_type": "display_data"
    },
    {
     "data": {
      "application/vnd.jupyter.widget-view+json": {
       "model_id": "",
       "version_major": 2,
       "version_minor": 0
      },
      "text/plain": [
       "  ... working at frequency = 1102.0 Hz:   0%|          | 0/200 [00:00<?, ?it/s]"
      ]
     },
     "metadata": {},
     "output_type": "display_data"
    },
    {
     "data": {
      "application/vnd.jupyter.widget-view+json": {
       "model_id": "",
       "version_major": 2,
       "version_minor": 0
      },
      "text/plain": [
       "  ... working at frequency = 1202.0 Hz:   0%|          | 0/200 [00:00<?, ?it/s]"
      ]
     },
     "metadata": {},
     "output_type": "display_data"
    },
    {
     "data": {
      "application/vnd.jupyter.widget-view+json": {
       "model_id": "",
       "version_major": 2,
       "version_minor": 0
      },
      "text/plain": [
       "  ... working at frequency = 1302.0 Hz:   0%|          | 0/200 [00:00<?, ?it/s]"
      ]
     },
     "metadata": {},
     "output_type": "display_data"
    },
    {
     "data": {
      "application/vnd.jupyter.widget-view+json": {
       "model_id": "",
       "version_major": 2,
       "version_minor": 0
      },
      "text/plain": [
       "  ... working at frequency = 1402.0 Hz:   0%|          | 0/200 [00:00<?, ?it/s]"
      ]
     },
     "metadata": {},
     "output_type": "display_data"
    },
    {
     "data": {
      "application/vnd.jupyter.widget-view+json": {
       "model_id": "",
       "version_major": 2,
       "version_minor": 0
      },
      "text/plain": [
       "  ... working at frequency = 1502.0 Hz:   0%|          | 0/200 [00:00<?, ?it/s]"
      ]
     },
     "metadata": {},
     "output_type": "display_data"
    },
    {
     "data": {
      "application/vnd.jupyter.widget-view+json": {
       "model_id": "",
       "version_major": 2,
       "version_minor": 0
      },
      "text/plain": [
       "  ... working at frequency = 1602.0 Hz:   0%|          | 0/200 [00:00<?, ?it/s]"
      ]
     },
     "metadata": {},
     "output_type": "display_data"
    },
    {
     "data": {
      "application/vnd.jupyter.widget-view+json": {
       "model_id": "",
       "version_major": 2,
       "version_minor": 0
      },
      "text/plain": [
       "  ... working at frequency = 1702.0 Hz:   0%|          | 0/200 [00:00<?, ?it/s]"
      ]
     },
     "metadata": {},
     "output_type": "display_data"
    },
    {
     "data": {
      "application/vnd.jupyter.widget-view+json": {
       "model_id": "",
       "version_major": 2,
       "version_minor": 0
      },
      "text/plain": [
       "  ... working at frequency = 1802.0 Hz:   0%|          | 0/200 [00:00<?, ?it/s]"
      ]
     },
     "metadata": {},
     "output_type": "display_data"
    },
    {
     "data": {
      "application/vnd.jupyter.widget-view+json": {
       "model_id": "",
       "version_major": 2,
       "version_minor": 0
      },
      "text/plain": [
       "  ... working at frequency = 1902.0 Hz:   0%|          | 0/200 [00:00<?, ?it/s]"
      ]
     },
     "metadata": {},
     "output_type": "display_data"
    },
    {
     "data": {
      "application/vnd.jupyter.widget-view+json": {
       "model_id": "",
       "version_major": 2,
       "version_minor": 0
      },
      "text/plain": [
       "  ... working at frequency = 2002.0 Hz:   0%|          | 0/200 [00:00<?, ?it/s]"
      ]
     },
     "metadata": {},
     "output_type": "display_data"
    },
    {
     "data": {
      "application/vnd.jupyter.widget-view+json": {
       "model_id": "",
       "version_major": 2,
       "version_minor": 0
      },
      "text/plain": [
       "  ... working at frequency = 2102.0 Hz:   0%|          | 0/200 [00:00<?, ?it/s]"
      ]
     },
     "metadata": {},
     "output_type": "display_data"
    },
    {
     "data": {
      "application/vnd.jupyter.widget-view+json": {
       "model_id": "",
       "version_major": 2,
       "version_minor": 0
      },
      "text/plain": [
       "  ... working at frequency = 2202.0 Hz:   0%|          | 0/200 [00:00<?, ?it/s]"
      ]
     },
     "metadata": {},
     "output_type": "display_data"
    },
    {
     "data": {
      "application/vnd.jupyter.widget-view+json": {
       "model_id": "",
       "version_major": 2,
       "version_minor": 0
      },
      "text/plain": [
       "  ... working at frequency = 2302.0 Hz:   0%|          | 0/200 [00:00<?, ?it/s]"
      ]
     },
     "metadata": {},
     "output_type": "display_data"
    },
    {
     "data": {
      "application/vnd.jupyter.widget-view+json": {
       "model_id": "",
       "version_major": 2,
       "version_minor": 0
      },
      "text/plain": [
       "  ... working at frequency = 2402.0 Hz:   0%|          | 0/200 [00:00<?, ?it/s]"
      ]
     },
     "metadata": {},
     "output_type": "display_data"
    },
    {
     "data": {
      "application/vnd.jupyter.widget-view+json": {
       "model_id": "",
       "version_major": 2,
       "version_minor": 0
      },
      "text/plain": [
       "  ... working at frequency = 2502.0 Hz:   0%|          | 0/200 [00:00<?, ?it/s]"
      ]
     },
     "metadata": {},
     "output_type": "display_data"
    },
    {
     "data": {
      "application/vnd.jupyter.widget-view+json": {
       "model_id": "",
       "version_major": 2,
       "version_minor": 0
      },
      "text/plain": [
       "  ... working at frequency = 2602.0 Hz:   0%|          | 0/200 [00:00<?, ?it/s]"
      ]
     },
     "metadata": {},
     "output_type": "display_data"
    },
    {
     "data": {
      "application/vnd.jupyter.widget-view+json": {
       "model_id": "",
       "version_major": 2,
       "version_minor": 0
      },
      "text/plain": [
       "  ... working at frequency = 2702.0 Hz:   0%|          | 0/200 [00:00<?, ?it/s]"
      ]
     },
     "metadata": {},
     "output_type": "display_data"
    },
    {
     "data": {
      "application/vnd.jupyter.widget-view+json": {
       "model_id": "",
       "version_major": 2,
       "version_minor": 0
      },
      "text/plain": [
       "  ... working at frequency = 2802.0 Hz:   0%|          | 0/200 [00:00<?, ?it/s]"
      ]
     },
     "metadata": {},
     "output_type": "display_data"
    },
    {
     "data": {
      "application/vnd.jupyter.widget-view+json": {
       "model_id": "",
       "version_major": 2,
       "version_minor": 0
      },
      "text/plain": [
       "  ... working at frequency = 2902.0 Hz:   0%|          | 0/200 [00:00<?, ?it/s]"
      ]
     },
     "metadata": {},
     "output_type": "display_data"
    },
    {
     "data": {
      "application/vnd.jupyter.widget-view+json": {
       "model_id": "",
       "version_major": 2,
       "version_minor": 0
      },
      "text/plain": [
       "  ... working at frequency = 3002.0 Hz:   0%|          | 0/200 [00:00<?, ?it/s]"
      ]
     },
     "metadata": {},
     "output_type": "display_data"
    },
    {
     "data": {
      "application/vnd.jupyter.widget-view+json": {
       "model_id": "",
       "version_major": 2,
       "version_minor": 0
      },
      "text/plain": [
       "  ... working at frequency = 3102.0 Hz:   0%|          | 0/200 [00:00<?, ?it/s]"
      ]
     },
     "metadata": {},
     "output_type": "display_data"
    },
    {
     "data": {
      "application/vnd.jupyter.widget-view+json": {
       "model_id": "",
       "version_major": 2,
       "version_minor": 0
      },
      "text/plain": [
       "  ... working at frequency = 3202.0 Hz:   0%|          | 0/200 [00:00<?, ?it/s]"
      ]
     },
     "metadata": {},
     "output_type": "display_data"
    },
    {
     "data": {
      "application/vnd.jupyter.widget-view+json": {
       "model_id": "",
       "version_major": 2,
       "version_minor": 0
      },
      "text/plain": [
       "  ... working at frequency = 3302.0 Hz:   0%|          | 0/200 [00:00<?, ?it/s]"
      ]
     },
     "metadata": {},
     "output_type": "display_data"
    },
    {
     "data": {
      "application/vnd.jupyter.widget-view+json": {
       "model_id": "",
       "version_major": 2,
       "version_minor": 0
      },
      "text/plain": [
       "  ... working at frequency = 3402.0 Hz:   0%|          | 0/200 [00:00<?, ?it/s]"
      ]
     },
     "metadata": {},
     "output_type": "display_data"
    },
    {
     "data": {
      "application/vnd.jupyter.widget-view+json": {
       "model_id": "",
       "version_major": 2,
       "version_minor": 0
      },
      "text/plain": [
       "  ... working at frequency = 3502.0 Hz:   0%|          | 0/200 [00:00<?, ?it/s]"
      ]
     },
     "metadata": {},
     "output_type": "display_data"
    },
    {
     "data": {
      "application/vnd.jupyter.widget-view+json": {
       "model_id": "",
       "version_major": 2,
       "version_minor": 0
      },
      "text/plain": [
       "  ... working at frequency = 3602.0 Hz:   0%|          | 0/200 [00:00<?, ?it/s]"
      ]
     },
     "metadata": {},
     "output_type": "display_data"
    },
    {
     "data": {
      "application/vnd.jupyter.widget-view+json": {
       "model_id": "",
       "version_major": 2,
       "version_minor": 0
      },
      "text/plain": [
       "  ... working at frequency = 3702.0 Hz:   0%|          | 0/200 [00:00<?, ?it/s]"
      ]
     },
     "metadata": {},
     "output_type": "display_data"
    },
    {
     "data": {
      "application/vnd.jupyter.widget-view+json": {
       "model_id": "",
       "version_major": 2,
       "version_minor": 0
      },
      "text/plain": [
       "  ... working at frequency = 3802.0 Hz:   0%|          | 0/200 [00:00<?, ?it/s]"
      ]
     },
     "metadata": {},
     "output_type": "display_data"
    },
    {
     "data": {
      "application/vnd.jupyter.widget-view+json": {
       "model_id": "",
       "version_major": 2,
       "version_minor": 0
      },
      "text/plain": [
       "  ... working at frequency = 3902.0 Hz:   0%|          | 0/200 [00:00<?, ?it/s]"
      ]
     },
     "metadata": {},
     "output_type": "display_data"
    },
    {
     "data": {
      "application/vnd.jupyter.widget-view+json": {
       "model_id": "",
       "version_major": 2,
       "version_minor": 0
      },
      "text/plain": [
       "  ... working at frequency = 4002.0 Hz:   0%|          | 0/200 [00:00<?, ?it/s]"
      ]
     },
     "metadata": {},
     "output_type": "display_data"
    },
    {
     "data": {
      "application/vnd.jupyter.widget-view+json": {
       "model_id": "",
       "version_major": 2,
       "version_minor": 0
      },
      "text/plain": [
       "  ... working at frequency = 4102.0 Hz:   0%|          | 0/200 [00:00<?, ?it/s]"
      ]
     },
     "metadata": {},
     "output_type": "display_data"
    },
    {
     "data": {
      "application/vnd.jupyter.widget-view+json": {
       "model_id": "",
       "version_major": 2,
       "version_minor": 0
      },
      "text/plain": [
       "  ... working at frequency = 4202.0 Hz:   0%|          | 0/200 [00:00<?, ?it/s]"
      ]
     },
     "metadata": {},
     "output_type": "display_data"
    },
    {
     "data": {
      "application/vnd.jupyter.widget-view+json": {
       "model_id": "",
       "version_major": 2,
       "version_minor": 0
      },
      "text/plain": [
       "  ... working at frequency = 4302.0 Hz:   0%|          | 0/200 [00:00<?, ?it/s]"
      ]
     },
     "metadata": {},
     "output_type": "display_data"
    },
    {
     "data": {
      "application/vnd.jupyter.widget-view+json": {
       "model_id": "",
       "version_major": 2,
       "version_minor": 0
      },
      "text/plain": [
       "  ... working at frequency = 4402.0 Hz:   0%|          | 0/200 [00:00<?, ?it/s]"
      ]
     },
     "metadata": {},
     "output_type": "display_data"
    },
    {
     "data": {
      "application/vnd.jupyter.widget-view+json": {
       "model_id": "",
       "version_major": 2,
       "version_minor": 0
      },
      "text/plain": [
       "  ... working at frequency = 4502.0 Hz:   0%|          | 0/200 [00:00<?, ?it/s]"
      ]
     },
     "metadata": {},
     "output_type": "display_data"
    },
    {
     "data": {
      "application/vnd.jupyter.widget-view+json": {
       "model_id": "",
       "version_major": 2,
       "version_minor": 0
      },
      "text/plain": [
       "  ... working at frequency = 4602.0 Hz:   0%|          | 0/200 [00:00<?, ?it/s]"
      ]
     },
     "metadata": {},
     "output_type": "display_data"
    },
    {
     "data": {
      "application/vnd.jupyter.widget-view+json": {
       "model_id": "",
       "version_major": 2,
       "version_minor": 0
      },
      "text/plain": [
       "  ... working at frequency = 4702.0 Hz:   0%|          | 0/200 [00:00<?, ?it/s]"
      ]
     },
     "metadata": {},
     "output_type": "display_data"
    },
    {
     "data": {
      "application/vnd.jupyter.widget-view+json": {
       "model_id": "",
       "version_major": 2,
       "version_minor": 0
      },
      "text/plain": [
       "  ... working at frequency = 4802.0 Hz:   0%|          | 0/200 [00:00<?, ?it/s]"
      ]
     },
     "metadata": {},
     "output_type": "display_data"
    },
    {
     "data": {
      "application/vnd.jupyter.widget-view+json": {
       "model_id": "",
       "version_major": 2,
       "version_minor": 0
      },
      "text/plain": [
       "  ... working at frequency = 4902.0 Hz:   0%|          | 0/200 [00:00<?, ?it/s]"
      ]
     },
     "metadata": {},
     "output_type": "display_data"
    },
    {
     "data": {
      "application/vnd.jupyter.widget-view+json": {
       "model_id": "",
       "version_major": 2,
       "version_minor": 0
      },
      "text/plain": [
       "  ... working at frequency = 5002.0 Hz:   0%|          | 0/200 [00:00<?, ?it/s]"
      ]
     },
     "metadata": {},
     "output_type": "display_data"
    },
    {
     "data": {
      "application/vnd.jupyter.widget-view+json": {
       "model_id": "",
       "version_major": 2,
       "version_minor": 0
      },
      "text/plain": [
       "  ... working at frequency = 5102.0 Hz:   0%|          | 0/200 [00:00<?, ?it/s]"
      ]
     },
     "metadata": {},
     "output_type": "display_data"
    },
    {
     "data": {
      "application/vnd.jupyter.widget-view+json": {
       "model_id": "",
       "version_major": 2,
       "version_minor": 0
      },
      "text/plain": [
       "  ... working at frequency = 5202.0 Hz:   0%|          | 0/200 [00:00<?, ?it/s]"
      ]
     },
     "metadata": {},
     "output_type": "display_data"
    },
    {
     "data": {
      "application/vnd.jupyter.widget-view+json": {
       "model_id": "",
       "version_major": 2,
       "version_minor": 0
      },
      "text/plain": [
       "  ... working at frequency = 5302.0 Hz:   0%|          | 0/200 [00:00<?, ?it/s]"
      ]
     },
     "metadata": {},
     "output_type": "display_data"
    },
    {
     "data": {
      "application/vnd.jupyter.widget-view+json": {
       "model_id": "",
       "version_major": 2,
       "version_minor": 0
      },
      "text/plain": [
       "  ... working at frequency = 5402.0 Hz:   0%|          | 0/200 [00:00<?, ?it/s]"
      ]
     },
     "metadata": {},
     "output_type": "display_data"
    },
    {
     "data": {
      "application/vnd.jupyter.widget-view+json": {
       "model_id": "",
       "version_major": 2,
       "version_minor": 0
      },
      "text/plain": [
       "  ... working at frequency = 5502.0 Hz:   0%|          | 0/200 [00:00<?, ?it/s]"
      ]
     },
     "metadata": {},
     "output_type": "display_data"
    },
    {
     "data": {
      "application/vnd.jupyter.widget-view+json": {
       "model_id": "",
       "version_major": 2,
       "version_minor": 0
      },
      "text/plain": [
       "  ... working at frequency = 5602.0 Hz:   0%|          | 0/200 [00:00<?, ?it/s]"
      ]
     },
     "metadata": {},
     "output_type": "display_data"
    },
    {
     "data": {
      "application/vnd.jupyter.widget-view+json": {
       "model_id": "",
       "version_major": 2,
       "version_minor": 0
      },
      "text/plain": [
       "  ... working at frequency = 5702.0 Hz:   0%|          | 0/200 [00:00<?, ?it/s]"
      ]
     },
     "metadata": {},
     "output_type": "display_data"
    },
    {
     "data": {
      "application/vnd.jupyter.widget-view+json": {
       "model_id": "",
       "version_major": 2,
       "version_minor": 0
      },
      "text/plain": [
       "  ... working at frequency = 5802.0 Hz:   0%|          | 0/200 [00:00<?, ?it/s]"
      ]
     },
     "metadata": {},
     "output_type": "display_data"
    },
    {
     "data": {
      "application/vnd.jupyter.widget-view+json": {
       "model_id": "",
       "version_major": 2,
       "version_minor": 0
      },
      "text/plain": [
       "  ... working at frequency = 5902.0 Hz:   0%|          | 0/200 [00:00<?, ?it/s]"
      ]
     },
     "metadata": {},
     "output_type": "display_data"
    },
    {
     "data": {
      "application/vnd.jupyter.widget-view+json": {
       "model_id": "",
       "version_major": 2,
       "version_minor": 0
      },
      "text/plain": [
       "  ... working at frequency = 6002.0 Hz:   0%|          | 0/200 [00:00<?, ?it/s]"
      ]
     },
     "metadata": {},
     "output_type": "display_data"
    },
    {
     "data": {
      "application/vnd.jupyter.widget-view+json": {
       "model_id": "",
       "version_major": 2,
       "version_minor": 0
      },
      "text/plain": [
       "  ... working at frequency = 6102.0 Hz:   0%|          | 0/200 [00:00<?, ?it/s]"
      ]
     },
     "metadata": {},
     "output_type": "display_data"
    },
    {
     "data": {
      "application/vnd.jupyter.widget-view+json": {
       "model_id": "",
       "version_major": 2,
       "version_minor": 0
      },
      "text/plain": [
       "  ... working at frequency = 6202.0 Hz:   0%|          | 0/200 [00:00<?, ?it/s]"
      ]
     },
     "metadata": {},
     "output_type": "display_data"
    },
    {
     "data": {
      "application/vnd.jupyter.widget-view+json": {
       "model_id": "",
       "version_major": 2,
       "version_minor": 0
      },
      "text/plain": [
       "  ... working at frequency = 6302.0 Hz:   0%|          | 0/200 [00:00<?, ?it/s]"
      ]
     },
     "metadata": {},
     "output_type": "display_data"
    },
    {
     "data": {
      "application/vnd.jupyter.widget-view+json": {
       "model_id": "",
       "version_major": 2,
       "version_minor": 0
      },
      "text/plain": [
       "  ... working at frequency = 6402.0 Hz:   0%|          | 0/200 [00:00<?, ?it/s]"
      ]
     },
     "metadata": {},
     "output_type": "display_data"
    },
    {
     "data": {
      "application/vnd.jupyter.widget-view+json": {
       "model_id": "",
       "version_major": 2,
       "version_minor": 0
      },
      "text/plain": [
       "  ... working at frequency = 6502.0 Hz:   0%|          | 0/200 [00:00<?, ?it/s]"
      ]
     },
     "metadata": {},
     "output_type": "display_data"
    },
    {
     "data": {
      "application/vnd.jupyter.widget-view+json": {
       "model_id": "",
       "version_major": 2,
       "version_minor": 0
      },
      "text/plain": [
       "  ... working at frequency = 6602.0 Hz:   0%|          | 0/200 [00:00<?, ?it/s]"
      ]
     },
     "metadata": {},
     "output_type": "display_data"
    },
    {
     "data": {
      "application/vnd.jupyter.widget-view+json": {
       "model_id": "",
       "version_major": 2,
       "version_minor": 0
      },
      "text/plain": [
       "  ... working at frequency = 6702.0 Hz:   0%|          | 0/200 [00:00<?, ?it/s]"
      ]
     },
     "metadata": {},
     "output_type": "display_data"
    },
    {
     "data": {
      "application/vnd.jupyter.widget-view+json": {
       "model_id": "",
       "version_major": 2,
       "version_minor": 0
      },
      "text/plain": [
       "  ... working at frequency = 6802.0 Hz:   0%|          | 0/200 [00:00<?, ?it/s]"
      ]
     },
     "metadata": {},
     "output_type": "display_data"
    },
    {
     "data": {
      "application/vnd.jupyter.widget-view+json": {
       "model_id": "",
       "version_major": 2,
       "version_minor": 0
      },
      "text/plain": [
       "  ... working at frequency = 6902.0 Hz:   0%|          | 0/200 [00:00<?, ?it/s]"
      ]
     },
     "metadata": {},
     "output_type": "display_data"
    },
    {
     "data": {
      "application/vnd.jupyter.widget-view+json": {
       "model_id": "",
       "version_major": 2,
       "version_minor": 0
      },
      "text/plain": [
       "  ... working at frequency = 7002.0 Hz:   0%|          | 0/200 [00:00<?, ?it/s]"
      ]
     },
     "metadata": {},
     "output_type": "display_data"
    },
    {
     "data": {
      "application/vnd.jupyter.widget-view+json": {
       "model_id": "",
       "version_major": 2,
       "version_minor": 0
      },
      "text/plain": [
       "  ... working at frequency = 7102.0 Hz:   0%|          | 0/200 [00:00<?, ?it/s]"
      ]
     },
     "metadata": {},
     "output_type": "display_data"
    },
    {
     "data": {
      "application/vnd.jupyter.widget-view+json": {
       "model_id": "",
       "version_major": 2,
       "version_minor": 0
      },
      "text/plain": [
       "  ... working at frequency = 7202.0 Hz:   0%|          | 0/200 [00:00<?, ?it/s]"
      ]
     },
     "metadata": {},
     "output_type": "display_data"
    },
    {
     "data": {
      "application/vnd.jupyter.widget-view+json": {
       "model_id": "",
       "version_major": 2,
       "version_minor": 0
      },
      "text/plain": [
       "  ... working at frequency = 7302.0 Hz:   0%|          | 0/200 [00:00<?, ?it/s]"
      ]
     },
     "metadata": {},
     "output_type": "display_data"
    },
    {
     "data": {
      "application/vnd.jupyter.widget-view+json": {
       "model_id": "",
       "version_major": 2,
       "version_minor": 0
      },
      "text/plain": [
       "  ... working at frequency = 7402.0 Hz:   0%|          | 0/200 [00:00<?, ?it/s]"
      ]
     },
     "metadata": {},
     "output_type": "display_data"
    },
    {
     "data": {
      "application/vnd.jupyter.widget-view+json": {
       "model_id": "",
       "version_major": 2,
       "version_minor": 0
      },
      "text/plain": [
       "  ... working at frequency = 7502.0 Hz:   0%|          | 0/200 [00:00<?, ?it/s]"
      ]
     },
     "metadata": {},
     "output_type": "display_data"
    },
    {
     "data": {
      "application/vnd.jupyter.widget-view+json": {
       "model_id": "",
       "version_major": 2,
       "version_minor": 0
      },
      "text/plain": [
       "  ... working at frequency = 7602.0 Hz:   0%|          | 0/200 [00:00<?, ?it/s]"
      ]
     },
     "metadata": {},
     "output_type": "display_data"
    },
    {
     "data": {
      "application/vnd.jupyter.widget-view+json": {
       "model_id": "",
       "version_major": 2,
       "version_minor": 0
      },
      "text/plain": [
       "  ... working at frequency = 7702.0 Hz:   0%|          | 0/200 [00:00<?, ?it/s]"
      ]
     },
     "metadata": {},
     "output_type": "display_data"
    },
    {
     "data": {
      "application/vnd.jupyter.widget-view+json": {
       "model_id": "",
       "version_major": 2,
       "version_minor": 0
      },
      "text/plain": [
       "  ... working at frequency = 7802.0 Hz:   0%|          | 0/200 [00:00<?, ?it/s]"
      ]
     },
     "metadata": {},
     "output_type": "display_data"
    },
    {
     "data": {
      "application/vnd.jupyter.widget-view+json": {
       "model_id": "",
       "version_major": 2,
       "version_minor": 0
      },
      "text/plain": [
       "  ... working at frequency = 7902.0 Hz:   0%|          | 0/200 [00:00<?, ?it/s]"
      ]
     },
     "metadata": {},
     "output_type": "display_data"
    },
    {
     "data": {
      "application/vnd.jupyter.widget-view+json": {
       "model_id": "",
       "version_major": 2,
       "version_minor": 0
      },
      "text/plain": [
       "  ... working at frequency = 8002.0 Hz:   0%|          | 0/200 [00:00<?, ?it/s]"
      ]
     },
     "metadata": {},
     "output_type": "display_data"
    },
    {
     "data": {
      "application/vnd.jupyter.widget-view+json": {
       "model_id": "",
       "version_major": 2,
       "version_minor": 0
      },
      "text/plain": [
       "  ... working at frequency = 8102.0 Hz:   0%|          | 0/200 [00:00<?, ?it/s]"
      ]
     },
     "metadata": {},
     "output_type": "display_data"
    },
    {
     "data": {
      "application/vnd.jupyter.widget-view+json": {
       "model_id": "",
       "version_major": 2,
       "version_minor": 0
      },
      "text/plain": [
       "  ... working at frequency = 8202.0 Hz:   0%|          | 0/200 [00:00<?, ?it/s]"
      ]
     },
     "metadata": {},
     "output_type": "display_data"
    },
    {
     "data": {
      "application/vnd.jupyter.widget-view+json": {
       "model_id": "",
       "version_major": 2,
       "version_minor": 0
      },
      "text/plain": [
       "  ... working at frequency = 8302.0 Hz:   0%|          | 0/200 [00:00<?, ?it/s]"
      ]
     },
     "metadata": {},
     "output_type": "display_data"
    },
    {
     "data": {
      "application/vnd.jupyter.widget-view+json": {
       "model_id": "",
       "version_major": 2,
       "version_minor": 0
      },
      "text/plain": [
       "  ... working at frequency = 8402.0 Hz:   0%|          | 0/200 [00:00<?, ?it/s]"
      ]
     },
     "metadata": {},
     "output_type": "display_data"
    },
    {
     "data": {
      "application/vnd.jupyter.widget-view+json": {
       "model_id": "",
       "version_major": 2,
       "version_minor": 0
      },
      "text/plain": [
       "  ... working at frequency = 8502.0 Hz:   0%|          | 0/200 [00:00<?, ?it/s]"
      ]
     },
     "metadata": {},
     "output_type": "display_data"
    },
    {
     "data": {
      "application/vnd.jupyter.widget-view+json": {
       "model_id": "",
       "version_major": 2,
       "version_minor": 0
      },
      "text/plain": [
       "  ... working at frequency = 8602.0 Hz:   0%|          | 0/200 [00:00<?, ?it/s]"
      ]
     },
     "metadata": {},
     "output_type": "display_data"
    },
    {
     "data": {
      "application/vnd.jupyter.widget-view+json": {
       "model_id": "",
       "version_major": 2,
       "version_minor": 0
      },
      "text/plain": [
       "  ... working at frequency = 8702.0 Hz:   0%|          | 0/200 [00:00<?, ?it/s]"
      ]
     },
     "metadata": {},
     "output_type": "display_data"
    },
    {
     "data": {
      "application/vnd.jupyter.widget-view+json": {
       "model_id": "",
       "version_major": 2,
       "version_minor": 0
      },
      "text/plain": [
       "  ... working at frequency = 8802.0 Hz:   0%|          | 0/200 [00:00<?, ?it/s]"
      ]
     },
     "metadata": {},
     "output_type": "display_data"
    },
    {
     "data": {
      "application/vnd.jupyter.widget-view+json": {
       "model_id": "",
       "version_major": 2,
       "version_minor": 0
      },
      "text/plain": [
       "  ... working at frequency = 8902.0 Hz:   0%|          | 0/200 [00:00<?, ?it/s]"
      ]
     },
     "metadata": {},
     "output_type": "display_data"
    },
    {
     "data": {
      "application/vnd.jupyter.widget-view+json": {
       "model_id": "",
       "version_major": 2,
       "version_minor": 0
      },
      "text/plain": [
       "  ... working at frequency = 9002.0 Hz:   0%|          | 0/200 [00:00<?, ?it/s]"
      ]
     },
     "metadata": {},
     "output_type": "display_data"
    },
    {
     "data": {
      "application/vnd.jupyter.widget-view+json": {
       "model_id": "",
       "version_major": 2,
       "version_minor": 0
      },
      "text/plain": [
       "  ... working at frequency = 9102.0 Hz:   0%|          | 0/200 [00:00<?, ?it/s]"
      ]
     },
     "metadata": {},
     "output_type": "display_data"
    },
    {
     "data": {
      "application/vnd.jupyter.widget-view+json": {
       "model_id": "",
       "version_major": 2,
       "version_minor": 0
      },
      "text/plain": [
       "  ... working at frequency = 9202.0 Hz:   0%|          | 0/200 [00:00<?, ?it/s]"
      ]
     },
     "metadata": {},
     "output_type": "display_data"
    },
    {
     "data": {
      "application/vnd.jupyter.widget-view+json": {
       "model_id": "",
       "version_major": 2,
       "version_minor": 0
      },
      "text/plain": [
       "  ... working at frequency = 9302.0 Hz:   0%|          | 0/200 [00:00<?, ?it/s]"
      ]
     },
     "metadata": {},
     "output_type": "display_data"
    },
    {
     "data": {
      "application/vnd.jupyter.widget-view+json": {
       "model_id": "",
       "version_major": 2,
       "version_minor": 0
      },
      "text/plain": [
       "  ... working at frequency = 9402.0 Hz:   0%|          | 0/200 [00:00<?, ?it/s]"
      ]
     },
     "metadata": {},
     "output_type": "display_data"
    },
    {
     "data": {
      "application/vnd.jupyter.widget-view+json": {
       "model_id": "",
       "version_major": 2,
       "version_minor": 0
      },
      "text/plain": [
       "  ... working at frequency = 9502.0 Hz:   0%|          | 0/200 [00:00<?, ?it/s]"
      ]
     },
     "metadata": {},
     "output_type": "display_data"
    },
    {
     "data": {
      "application/vnd.jupyter.widget-view+json": {
       "model_id": "",
       "version_major": 2,
       "version_minor": 0
      },
      "text/plain": [
       "  ... working at frequency = 9602.0 Hz:   0%|          | 0/200 [00:00<?, ?it/s]"
      ]
     },
     "metadata": {},
     "output_type": "display_data"
    },
    {
     "data": {
      "application/vnd.jupyter.widget-view+json": {
       "model_id": "",
       "version_major": 2,
       "version_minor": 0
      },
      "text/plain": [
       "  ... working at frequency = 9702.0 Hz:   0%|          | 0/200 [00:00<?, ?it/s]"
      ]
     },
     "metadata": {},
     "output_type": "display_data"
    },
    {
     "data": {
      "application/vnd.jupyter.widget-view+json": {
       "model_id": "",
       "version_major": 2,
       "version_minor": 0
      },
      "text/plain": [
       "  ... working at frequency = 9802.0 Hz:   0%|          | 0/200 [00:00<?, ?it/s]"
      ]
     },
     "metadata": {},
     "output_type": "display_data"
    },
    {
     "data": {
      "application/vnd.jupyter.widget-view+json": {
       "model_id": "",
       "version_major": 2,
       "version_minor": 0
      },
      "text/plain": [
       "  ... working at frequency = 9902.0 Hz:   0%|          | 0/200 [00:00<?, ?it/s]"
      ]
     },
     "metadata": {},
     "output_type": "display_data"
    },
    {
     "data": {
      "application/vnd.jupyter.widget-view+json": {
       "model_id": "81c04f1b69f34addb270d7c59c8111cd",
       "version_major": 2,
       "version_minor": 0
      },
      "text/plain": [
       "  ... working at frequency = 10002.0 Hz:   0%|          | 0/200 [00:00<?, ?it/s]"
      ]
     },
     "metadata": {},
     "output_type": "display_data"
    },
    {
     "name": "stdout",
     "output_type": "stream",
     "text": [
      "\n",
      "\n",
      "self.frequency_array.shape[0] = 101 is same as self.wavenumer_array.shape[0] = 101\n",
      "Save file to /Users/chenghunglin/Documents/sin_3_4_05_vol_4.xlsx\n"
     ]
    }
   ],
   "source": [
    "sin_3_4_05_vol_4 = anechoic_sound_absorption(determinant, frequency_array,\n",
    "                              fp = '/Users/chenghunglin/Documents/', \n",
    "                              fn = 'sin_3_4_05_vol_4.xlsx', \n",
    "                              material='rubber', shape='sin', \n",
    "                              p=3e-3, q=4e-3, lh=40e-3, cell_radius=15e-3, \n",
    "                              theta=0.5, phi=3e-3, length_unit='m',\n",
    "                              num_segments=200, layer_density=1100, air_density=1.21, \n",
    "                              Young_modulus=0.14e9, Poisson_ratio=0.49, loss_factor=0.23, \n",
    "                              medium_density=998, sound_speed_medium=1483, \n",
    "                              use_volume=True)"
   ]
  },
  {
   "cell_type": "code",
   "execution_count": 19,
   "metadata": {},
   "outputs": [
    {
     "name": "stdout",
     "output_type": "stream",
     "text": [
      "self.frequency_array.shape[0] = 101 is same as self.wavenumer_array.shape[0] = 101\n",
      "self.frequency_array.shape[0] = 201 is same as self.wavenumer_array.shape[0] = 201\n",
      "self.frequency_array.shape[0] = 201 is same as self.wavenumer_array.shape[0] = 201\n",
      "self.frequency_array.shape[0] = 101 is same as self.wavenumer_array.shape[0] = 101\n"
     ]
    },
    {
     "data": {
      "text/plain": [
       "<matplotlib.legend.Legend at 0x156bb4f20>"
      ]
     },
     "execution_count": 19,
     "metadata": {},
     "output_type": "execute_result"
    },
    {
     "data": {
      "application/vnd.jupyter.widget-view+json": {
       "model_id": "f68122cc08e54aca8f39cd10ae321a56",
       "version_major": 2,
       "version_minor": 0
      },
      "image/png": "[encoded data removed]",
      "text/html": [
       "\n",
       "            <div style=\"display: inline-block;\">\n",
       "                <div class=\"jupyter-widgets widget-label\" style=\"text-align: center;\">\n",
       "                    Figure\n",
       "                </div>\n",
       "                <img src='data:image/png;base64,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' width=640.0/>\n",
       "            </div>\n",
       "        "
      ],
      "text/plain": [
       "Canvas(toolbar=Toolbar(toolitems=[('Home', 'Reset original view', 'home', 'home'), ('Back', 'Back to previous …"
      ]
     },
     "metadata": {},
     "output_type": "display_data"
    }
   ],
   "source": [
    "plt.figure()\n",
    "plt.plot(sin_3_4_05_vol.frequency_array, sin_3_4_05_vol.absorption_frequency(), label='sin, p=3, q=4, fr100, seg100, vol')\n",
    "# plt.plot(sin_3_4_05_rad.frequency_array, sin_3_4_05_rad.absorption_frequency(), label='sin, p=3, q=4, fr100, seg100, rad')\n",
    "plt.plot(sin_3_4_05_vol_2.frequency_array, sin_3_4_05_vol_2.absorption_frequency(), label='sin, p=3, q=4, fr50, seg200, vol')\n",
    "plt.plot(sin_3_4_05_vol_3.frequency_array, sin_3_4_05_vol_3.absorption_frequency(), label='sin, p=3, q=4, fr50, seg100, vol')\n",
    "plt.plot(sin_3_4_05_vol_4.frequency_array, sin_3_4_05_vol_4.absorption_frequency(), label='sin, p=3, q=4, fr100, seg200, vol')\n",
    "plt.legend()"
   ]
  },
  {
   "cell_type": "code",
   "execution_count": null,
   "metadata": {},
   "outputs": [],
   "source": []
  },
  {
   "cell_type": "markdown",
   "metadata": {},
   "source": [
    "### Example 02: change parameters through sound_performance() objects"
   ]
  },
  {
   "cell_type": "code",
   "execution_count": 20,
   "metadata": {},
   "outputs": [],
   "source": [
    "# horn_1_11 = sound_performance(determinant, frequency_array)"
   ]
  },
  {
   "cell_type": "code",
   "execution_count": 21,
   "metadata": {},
   "outputs": [],
   "source": [
    "# horn_1_11.shape = 'horn'\n",
    "# horn_1_11.p_hole = 1e-3\n",
    "# horn_1_11.q_hole = 11e-3"
   ]
  },
  {
   "cell_type": "code",
   "execution_count": 22,
   "metadata": {},
   "outputs": [],
   "source": [
    "# ## Find roots of wavenumber in the equation of determinant\n",
    "# horn_1_11.wavenumer_array, horn_1_11.failed_root = horn_1_11.axial_wavenumber_array()"
   ]
  },
  {
   "cell_type": "code",
   "execution_count": 23,
   "metadata": {},
   "outputs": [],
   "source": [
    "# ## Save the data\n",
    "# fp = '/Users/chenghunglin/Documents/'\n",
    "# fn = 'horn_1_11.xlsx'\n",
    "# horn_1_11.save_data(fp, fn)"
   ]
  },
  {
   "cell_type": "code",
   "execution_count": null,
   "metadata": {},
   "outputs": [],
   "source": []
  },
  {
   "cell_type": "markdown",
   "metadata": {},
   "source": [
    "## Plot data to compare with the paper"
   ]
  },
  {
   "cell_type": "code",
   "execution_count": 24,
   "metadata": {},
   "outputs": [],
   "source": [
    "# plt.figure()\n",
    "# # plt.plot(cone_4_8.frequency_array, cone_4_8.absorption_frequency(), label='cone, p=4, q=8, Young=0.14 Gpa')\n",
    "# # plt.plot(cone_4_8_1.frequency_array, cone_4_8_1.absorption_frequency(), label='cone, p=4, q=8, Young=0.014 Gpa')\n",
    "# # plt.plot(cone_4_8_3.frequency_array, cone_4_8_3.absorption_frequency(), '--', color='orange', label='cone, p=4, q=8, Young=0.014 Gpa')\n",
    "# plt.plot(horn_1_11.frequency_array, horn_1_11.absorption_frequency(), label='horn, p=1, q=11')\n",
    "# plt.legend()"
   ]
  },
  {
   "cell_type": "code",
   "execution_count": 25,
   "metadata": {},
   "outputs": [],
   "source": [
    "# plt.figure()\n",
    "# plt.plot(cone_4_8.frequency_array, cone_4_8.absorption_frequency(), color='blue', label='cone, p=4, q=8, Young=0.14 Gpa, step=200Hz')\n",
    "# plt.plot(cone_4_8_4.frequency_array, cone_4_8_4.absorption_frequency(), '--', color='blue',label='cone, p=4, q=8, Young=0.14 Gpa, step=25Hz')\n",
    "# plt.plot(cone_4_8_1.frequency_array, cone_4_8_1.absorption_frequency(), color='orange', label='cone, p=4, q=8, Young=0.014 Gpa, step=200Hz')\n",
    "# plt.plot(cone_4_8_5.frequency_array, cone_4_8_5.absorption_frequency(), '--', color='orange', label='cone, p=4, q=8, Young=0.014 Gpa, step=25Hz')\n",
    "# plt.plot(horn_1_11.frequency_array, horn_1_11.absorption_frequency(), label='horn, p=1, q=11')\n",
    "# legend_properties = {'weight':'regular', 'size':8}    \n",
    "# plt.legend(prop=legend_properties, loc='upper left') #, bbox_to_anchor=(1, 0.5))\n",
    "# plt.legend()"
   ]
  },
  {
   "cell_type": "code",
   "execution_count": null,
   "metadata": {},
   "outputs": [],
   "source": []
  }
 ],
 "metadata": {
  "anaconda-cloud": {},
  "kernelspec": {
   "display_name": "Python 3 (ipykernel)",
   "language": "python",
   "name": "python3"
  },
  "language_info": {
   "codemirror_mode": {
    "name": "ipython",
    "version": 3
   },
   "file_extension": ".py",
   "mimetype": "text/x-python",
   "name": "python",
   "nbconvert_exporter": "python",
   "pygments_lexer": "ipython3",
   "version": "3.12.2"
  }
 },
 "nbformat": 4,
 "nbformat_minor": 4
}
