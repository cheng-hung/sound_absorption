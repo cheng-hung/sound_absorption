{
 "cells": [
  {
   "cell_type": "code",
   "execution_count": 1,
   "metadata": {
    "collapsed": false,
    "jupyter": {
     "outputs_hidden": false
    }
   },
   "outputs": [],
   "source": [
    "import numpy as np\n",
    "import matplotlib.pyplot as plt\n",
    "import pandas as pd"
   ]
  },
  {
   "cell_type": "code",
   "execution_count": 2,
   "metadata": {},
   "outputs": [],
   "source": [
    "%matplotlib widget"
   ]
  },
  {
   "cell_type": "code",
   "execution_count": 3,
   "metadata": {},
   "outputs": [],
   "source": [
    "import warnings\n",
    "warnings.filterwarnings(\"ignore\", category=RuntimeWarning)"
   ]
  },
  {
   "cell_type": "markdown",
   "metadata": {},
   "source": [
    "### Reference: Influence of hole shape on sound absorption of underwater anechoic layers\n",
    "#### https://www.sciencedirect.com/science/article/abs/pii/S0022460X1830227X"
   ]
  },
  {
   "cell_type": "markdown",
   "metadata": {},
   "source": [
    "### Import pre-defined class and function"
   ]
  },
  {
   "cell_type": "code",
   "execution_count": 4,
   "metadata": {},
   "outputs": [],
   "source": [
    "%run -i hole_shape_sound_absorption.py"
   ]
  },
  {
   "cell_type": "markdown",
   "metadata": {},
   "source": [
    "### Define the determinant of the coefficient matrix of eq(14) in the paper"
   ]
  },
  {
   "cell_type": "code",
   "execution_count": 5,
   "metadata": {},
   "outputs": [
    {
     "data": {
      "text/latex": [
       "$\\displaystyle \\left[\\begin{matrix}- \\sqrt{- kz^{2} + \\frac{\\omega^{2}}{cl^{2}}} J_{1}\\left(b \\sqrt{- kz^{2} + \\frac{\\omega^{2}}{cl^{2}}}\\right) & - \\sqrt{- kz^{2} + \\frac{\\omega^{2}}{cl^{2}}} Y_{1}\\left(b \\sqrt{- kz^{2} + \\frac{\\omega^{2}}{cl^{2}}}\\right) & - i kz \\sqrt{- kz^{2} + \\frac{\\omega^{2}}{ct^{2}}} J_{1}\\left(b \\sqrt{- kz^{2} + \\frac{\\omega^{2}}{ct^{2}}}\\right) & - i kz \\sqrt{- kz^{2} + \\frac{\\omega^{2}}{ct^{2}}} Y_{1}\\left(b \\sqrt{- kz^{2} + \\frac{\\omega^{2}}{ct^{2}}}\\right)\\\\\\left(- 2 \\mu \\left(- kz^{2} + \\frac{\\omega^{2}}{cl^{2}}\\right) - \\frac{\\lambda \\omega^{2}}{cl^{2}}\\right) J_{0}\\left(a \\sqrt{- kz^{2} + \\frac{\\omega^{2}}{cl^{2}}}\\right) + \\frac{2 \\mu \\sqrt{- kz^{2} + \\frac{\\omega^{2}}{cl^{2}}} J_{1}\\left(a \\sqrt{- kz^{2} + \\frac{\\omega^{2}}{cl^{2}}}\\right)}{a} & \\left(- 2 \\mu \\left(- kz^{2} + \\frac{\\omega^{2}}{cl^{2}}\\right) - \\frac{\\lambda \\omega^{2}}{cl^{2}}\\right) Y_{0}\\left(a \\sqrt{- kz^{2} + \\frac{\\omega^{2}}{cl^{2}}}\\right) + \\frac{2 \\mu \\sqrt{- kz^{2} + \\frac{\\omega^{2}}{cl^{2}}} Y_{1}\\left(a \\sqrt{- kz^{2} + \\frac{\\omega^{2}}{cl^{2}}}\\right)}{a} & 2 i kz \\mu \\sqrt{- kz^{2} + \\frac{\\omega^{2}}{ct^{2}}} \\left(- \\sqrt{- kz^{2} + \\frac{\\omega^{2}}{ct^{2}}} J_{0}\\left(a \\sqrt{- kz^{2} + \\frac{\\omega^{2}}{ct^{2}}}\\right) + \\frac{J_{1}\\left(a \\sqrt{- kz^{2} + \\frac{\\omega^{2}}{ct^{2}}}\\right)}{a}\\right) & 2 i kz \\mu \\sqrt{- kz^{2} + \\frac{\\omega^{2}}{ct^{2}}} \\left(- \\sqrt{- kz^{2} + \\frac{\\omega^{2}}{ct^{2}}} Y_{0}\\left(a \\sqrt{- kz^{2} + \\frac{\\omega^{2}}{ct^{2}}}\\right) + \\frac{Y_{1}\\left(a \\sqrt{- kz^{2} + \\frac{\\omega^{2}}{ct^{2}}}\\right)}{a}\\right)\\\\- 2 i kz \\mu \\sqrt{- kz^{2} + \\frac{\\omega^{2}}{cl^{2}}} J_{1}\\left(a \\sqrt{- kz^{2} + \\frac{\\omega^{2}}{cl^{2}}}\\right) & - 2 i kz \\mu \\sqrt{- kz^{2} + \\frac{\\omega^{2}}{cl^{2}}} Y_{1}\\left(a \\sqrt{- kz^{2} + \\frac{\\omega^{2}}{cl^{2}}}\\right) & \\mu \\sqrt{- kz^{2} + \\frac{\\omega^{2}}{ct^{2}}} \\left(2 kz^{2} - \\frac{\\omega^{2}}{ct^{2}}\\right) J_{1}\\left(a \\sqrt{- kz^{2} + \\frac{\\omega^{2}}{ct^{2}}}\\right) & \\mu \\sqrt{- kz^{2} + \\frac{\\omega^{2}}{ct^{2}}} \\left(2 kz^{2} - \\frac{\\omega^{2}}{ct^{2}}\\right) Y_{1}\\left(a \\sqrt{- kz^{2} + \\frac{\\omega^{2}}{ct^{2}}}\\right)\\\\- 2 i kz \\mu \\sqrt{- kz^{2} + \\frac{\\omega^{2}}{cl^{2}}} J_{1}\\left(b \\sqrt{- kz^{2} + \\frac{\\omega^{2}}{cl^{2}}}\\right) & - 2 i kz \\mu \\sqrt{- kz^{2} + \\frac{\\omega^{2}}{cl^{2}}} Y_{1}\\left(b \\sqrt{- kz^{2} + \\frac{\\omega^{2}}{cl^{2}}}\\right) & \\mu \\sqrt{- kz^{2} + \\frac{\\omega^{2}}{ct^{2}}} \\left(2 kz^{2} - \\frac{\\omega^{2}}{ct^{2}}\\right) J_{1}\\left(b \\sqrt{- kz^{2} + \\frac{\\omega^{2}}{ct^{2}}}\\right) & \\mu \\sqrt{- kz^{2} + \\frac{\\omega^{2}}{ct^{2}}} \\left(2 kz^{2} - \\frac{\\omega^{2}}{ct^{2}}\\right) Y_{1}\\left(b \\sqrt{- kz^{2} + \\frac{\\omega^{2}}{ct^{2}}}\\right)\\end{matrix}\\right]$"
      ],
      "text/plain": [
       "Matrix([\n",
       "[                                                                                                              -sqrt(-kz**2 + omega**2/cl**2)*besselj(1, b*sqrt(-kz**2 + omega**2/cl**2)),                                                                                                               -sqrt(-kz**2 + omega**2/cl**2)*bessely(1, b*sqrt(-kz**2 + omega**2/cl**2)),                                                                                      -I*kz*sqrt(-kz**2 + omega**2/ct**2)*besselj(1, b*sqrt(-kz**2 + omega**2/ct**2)),                                                                                      -I*kz*sqrt(-kz**2 + omega**2/ct**2)*bessely(1, b*sqrt(-kz**2 + omega**2/ct**2))],\n",
       "[(-2*mu*(-kz**2 + omega**2/cl**2) - lambda*omega**2/cl**2)*besselj(0, a*sqrt(-kz**2 + omega**2/cl**2)) + 2*mu*sqrt(-kz**2 + omega**2/cl**2)*besselj(1, a*sqrt(-kz**2 + omega**2/cl**2))/a, (-2*mu*(-kz**2 + omega**2/cl**2) - lambda*omega**2/cl**2)*bessely(0, a*sqrt(-kz**2 + omega**2/cl**2)) + 2*mu*sqrt(-kz**2 + omega**2/cl**2)*bessely(1, a*sqrt(-kz**2 + omega**2/cl**2))/a, 2*I*kz*mu*sqrt(-kz**2 + omega**2/ct**2)*(-sqrt(-kz**2 + omega**2/ct**2)*besselj(0, a*sqrt(-kz**2 + omega**2/ct**2)) + besselj(1, a*sqrt(-kz**2 + omega**2/ct**2))/a), 2*I*kz*mu*sqrt(-kz**2 + omega**2/ct**2)*(-sqrt(-kz**2 + omega**2/ct**2)*bessely(0, a*sqrt(-kz**2 + omega**2/ct**2)) + bessely(1, a*sqrt(-kz**2 + omega**2/ct**2))/a)],\n",
       "[                                                                                                    -2*I*kz*mu*sqrt(-kz**2 + omega**2/cl**2)*besselj(1, a*sqrt(-kz**2 + omega**2/cl**2)),                                                                                                     -2*I*kz*mu*sqrt(-kz**2 + omega**2/cl**2)*bessely(1, a*sqrt(-kz**2 + omega**2/cl**2)),                                                              mu*sqrt(-kz**2 + omega**2/ct**2)*(2*kz**2 - omega**2/ct**2)*besselj(1, a*sqrt(-kz**2 + omega**2/ct**2)),                                                              mu*sqrt(-kz**2 + omega**2/ct**2)*(2*kz**2 - omega**2/ct**2)*bessely(1, a*sqrt(-kz**2 + omega**2/ct**2))],\n",
       "[                                                                                                    -2*I*kz*mu*sqrt(-kz**2 + omega**2/cl**2)*besselj(1, b*sqrt(-kz**2 + omega**2/cl**2)),                                                                                                     -2*I*kz*mu*sqrt(-kz**2 + omega**2/cl**2)*bessely(1, b*sqrt(-kz**2 + omega**2/cl**2)),                                                              mu*sqrt(-kz**2 + omega**2/ct**2)*(2*kz**2 - omega**2/ct**2)*besselj(1, b*sqrt(-kz**2 + omega**2/ct**2)),                                                              mu*sqrt(-kz**2 + omega**2/ct**2)*(2*kz**2 - omega**2/ct**2)*bessely(1, b*sqrt(-kz**2 + omega**2/ct**2))]])"
      ]
     },
     "execution_count": 5,
     "metadata": {},
     "output_type": "execute_result"
    }
   ],
   "source": [
    "determinant, mat = determinant_from_matrix()\n",
    "mat"
   ]
  },
  {
   "cell_type": "code",
   "execution_count": null,
   "metadata": {},
   "outputs": [],
   "source": []
  },
  {
   "cell_type": "markdown",
   "metadata": {},
   "source": [
    "### Define the frequency array by np.arange"
   ]
  },
  {
   "cell_type": "code",
   "execution_count": 6,
   "metadata": {},
   "outputs": [
    {
     "data": {
      "text/plain": [
       "\u001b[0;31mDocstring:\u001b[0m\n",
       "arange([start,] stop[, step,], dtype=None, *, like=None)\n",
       "\n",
       "Return evenly spaced values within a given interval.\n",
       "\n",
       "Values are generated within the half-open interval ``[start, stop)``\n",
       "(in other words, the interval including `start` but excluding `stop`).\n",
       "For integer arguments the function is equivalent to the Python built-in\n",
       "`range` function, but returns an ndarray rather than a list.\n",
       "\n",
       "When using a non-integer step, such as 0.1, the results will often not\n",
       "be consistent.  It is better to use `numpy.linspace` for these cases.\n",
       "\n",
       "Parameters\n",
       "----------\n",
       "start : integer or real, optional\n",
       "    Start of interval.  The interval includes this value.  The default\n",
       "    start value is 0.\n",
       "stop : integer or real\n",
       "    End of interval.  The interval does not include this value, except\n",
       "    in some cases where `step` is not an integer and floating point\n",
       "    round-off affects the length of `out`.\n",
       "step : integer or real, optional\n",
       "    Spacing between values.  For any output `out`, this is the distance\n",
       "    between two adjacent values, ``out[i+1] - out[i]``.  The default\n",
       "    step size is 1.  If `step` is specified as a position argument,\n",
       "    `start` must also be given.\n",
       "dtype : dtype\n",
       "    The type of the output array.  If `dtype` is not given, infer the data\n",
       "    type from the other input arguments.\n",
       "like : array_like\n",
       "    Reference object to allow the creation of arrays which are not\n",
       "    NumPy arrays. If an array-like passed in as ``like`` supports\n",
       "    the ``__array_function__`` protocol, the result will be defined\n",
       "    by it. In this case, it ensures the creation of an array object\n",
       "    compatible with that passed in via this argument.\n",
       "\n",
       "    .. note::\n",
       "        The ``like`` keyword is an experimental feature pending on\n",
       "        acceptance of :ref:`NEP 35 <NEP35>`.\n",
       "\n",
       "    .. versionadded:: 1.20.0\n",
       "\n",
       "Returns\n",
       "-------\n",
       "arange : ndarray\n",
       "    Array of evenly spaced values.\n",
       "\n",
       "    For floating point arguments, the length of the result is\n",
       "    ``ceil((stop - start)/step)``.  Because of floating point overflow,\n",
       "    this rule may result in the last element of `out` being greater\n",
       "    than `stop`.\n",
       "\n",
       "See Also\n",
       "--------\n",
       "numpy.linspace : Evenly spaced numbers with careful handling of endpoints.\n",
       "numpy.ogrid: Arrays of evenly spaced numbers in N-dimensions.\n",
       "numpy.mgrid: Grid-shaped arrays of evenly spaced numbers in N-dimensions.\n",
       "\n",
       "Examples\n",
       "--------\n",
       ">>> np.arange(3)\n",
       "array([0, 1, 2])\n",
       ">>> np.arange(3.0)\n",
       "array([ 0.,  1.,  2.])\n",
       ">>> np.arange(3,7)\n",
       "array([3, 4, 5, 6])\n",
       ">>> np.arange(3,7,2)\n",
       "array([3, 5])\n",
       "\u001b[0;31mType:\u001b[0m      builtin_function_or_method\n"
      ]
     },
     "metadata": {},
     "output_type": "display_data"
    }
   ],
   "source": [
    "np.arange?"
   ]
  },
  {
   "cell_type": "code",
   "execution_count": 7,
   "metadata": {},
   "outputs": [
    {
     "data": {
      "text/plain": [
       "array([   20,   120,   220,   320,   420,   520,   620,   720,   820,\n",
       "         920,  1020,  1120,  1220,  1320,  1420,  1520,  1620,  1720,\n",
       "        1820,  1920,  2020,  2120,  2220,  2320,  2420,  2520,  2620,\n",
       "        2720,  2820,  2920,  3020,  3120,  3220,  3320,  3420,  3520,\n",
       "        3620,  3720,  3820,  3920,  4020,  4120,  4220,  4320,  4420,\n",
       "        4520,  4620,  4720,  4820,  4920,  5020,  5120,  5220,  5320,\n",
       "        5420,  5520,  5620,  5720,  5820,  5920,  6020,  6120,  6220,\n",
       "        6320,  6420,  6520,  6620,  6720,  6820,  6920,  7020,  7120,\n",
       "        7220,  7320,  7420,  7520,  7620,  7720,  7820,  7920,  8020,\n",
       "        8120,  8220,  8320,  8420,  8520,  8620,  8720,  8820,  8920,\n",
       "        9020,  9120,  9220,  9320,  9420,  9520,  9620,  9720,  9820,\n",
       "        9920, 10020])"
      ]
     },
     "execution_count": 7,
     "metadata": {},
     "output_type": "execute_result"
    }
   ],
   "source": [
    "frequency_array = np.arange(20, 10021, 100)\n",
    "frequency_array"
   ]
  },
  {
   "cell_type": "markdown",
   "metadata": {
    "tags": []
   },
   "source": [
    "## Define an object of sound_performance for calculating sound absorption\n",
    "### The default values are listed as below (all in SI units)\n",
    "\n",
    "Material of anechoic layer: rubber\n",
    "\n",
    "Young's modulus of rubber (GPa): 0.14\n",
    "\n",
    "Loss factor of rubber 0.23\n",
    "\n",
    "Poisson ratio of rubber 0.49\n",
    "\n",
    "Density of rubber (kg/m3): 1100\n",
    "\n",
    "Density of air (kg/m3): 1.21\n",
    "\n",
    "Shape: cone\n",
    "\n",
    "p = 4 mm\n",
    "\n",
    "q = 8 mm\n",
    "\n",
    "lh = 40 mm\n",
    "\n",
    "cell_radius = 15 mm\n",
    "\n",
    "num_segments = 100\n",
    "\n",
    "Density of water (kg/m3): 998\n",
    "\n",
    "Sound speed of water (m/s): 1483\n",
    "\n",
    "#### https://en.wikipedia.org/wiki/Lam%C3%A9_parameters"
   ]
  },
  {
   "cell_type": "code",
   "execution_count": null,
   "metadata": {},
   "outputs": [],
   "source": []
  },
  {
   "cell_type": "markdown",
   "metadata": {},
   "source": [
    "### Example 01: default case"
   ]
  },
  {
   "cell_type": "code",
   "execution_count": 8,
   "metadata": {},
   "outputs": [],
   "source": [
    "# frequency_array = np.asarray([20, 4620])\n",
    "cone_4_8 = sound_performance(determinant, frequency_array)\n",
    "cone_4_8_1 = sound_performance(determinant, frequency_array)"
   ]
  },
  {
   "cell_type": "code",
   "execution_count": null,
   "metadata": {},
   "outputs": [],
   "source": [
    "cone_4_8.material"
   ]
  },
  {
   "cell_type": "code",
   "execution_count": null,
   "metadata": {},
   "outputs": [],
   "source": [
    "cone_4_8.shape"
   ]
  },
  {
   "cell_type": "code",
   "execution_count": null,
   "metadata": {},
   "outputs": [],
   "source": [
    "cone_4_8.p_hole"
   ]
  },
  {
   "cell_type": "code",
   "execution_count": null,
   "metadata": {
    "tags": []
   },
   "outputs": [],
   "source": [
    "cone_4_8.h_hole"
   ]
  },
  {
   "cell_type": "code",
   "execution_count": null,
   "metadata": {},
   "outputs": [],
   "source": [
    "cone_4_8.segments"
   ]
  },
  {
   "cell_type": "code",
   "execution_count": 9,
   "metadata": {},
   "outputs": [],
   "source": [
    "cone_4_8_1.Young = 1.4e7"
   ]
  },
  {
   "cell_type": "code",
   "execution_count": null,
   "metadata": {},
   "outputs": [],
   "source": [
    "# cone_4_8.frequency_array = np.asarray([3420, 3620])\n",
    "# cone_4_8.omega_array()"
   ]
  },
  {
   "cell_type": "code",
   "execution_count": 10,
   "metadata": {},
   "outputs": [
    {
     "name": "stdout",
     "output_type": "stream",
     "text": [
      "Solving determinant at frequency = 20 is done.\n",
      "Solving determinant at frequency = 120 is done.\n",
      "Solving determinant at frequency = 220 is done.\n",
      "Solving determinant at frequency = 320 is done.\n",
      "Solving determinant at frequency = 420 is done.\n",
      "Solving determinant at frequency = 520 is done.\n",
      "Solving determinant at frequency = 620 is done.\n",
      "Solving determinant at frequency = 720 is done.\n",
      "Solving determinant at frequency = 820 is done.\n",
      "Solving determinant at frequency = 920 is done.\n",
      "Solving determinant at frequency = 1020 is done.\n",
      "Solving determinant at frequency = 1120 is done.\n",
      "Solving determinant at frequency = 1220 is done.\n",
      "Solving determinant at frequency = 1320 is done.\n",
      "Solving determinant at frequency = 1420 is done.\n",
      "Solving determinant at frequency = 1520 is done.\n",
      "Solving determinant at frequency = 1620 is done.\n",
      "Solving determinant at frequency = 1720 is done.\n",
      "Solving determinant at frequency = 1820 is done.\n",
      "Solving determinant at frequency = 1920 is done.\n",
      "Solving determinant at frequency = 2020 is done.\n",
      "Solving determinant at frequency = 2120 is done.\n",
      "Solving determinant at frequency = 2220 is done.\n",
      "Solving determinant at frequency = 2320 is done.\n",
      "Solving determinant at frequency = 2420 is done.\n",
      "Solving determinant at frequency = 2520 is done.\n",
      "Solving determinant at frequency = 2620 is done.\n",
      "Solving determinant at frequency = 2720 is done.\n",
      "Solving determinant at frequency = 2820 is done.\n",
      "Solving determinant at frequency = 2920 is done.\n",
      "Solving determinant at frequency = 3020 is done.\n",
      "Solving determinant at frequency = 3120 is done.\n",
      "Solving determinant at frequency = 3220 is done.\n",
      "Solving determinant at frequency = 3320 is done.\n",
      "Solving determinant at frequency = 3420 is done.\n",
      "Solving determinant at frequency = 3520 is done.\n",
      "Solving determinant at frequency = 3620 is done.\n",
      "Solving determinant at frequency = 3720 is done.\n",
      "Solving determinant at frequency = 3820 is done.\n",
      "Solving determinant at frequency = 3920 is done.\n",
      "Solving determinant at frequency = 4020 is done.\n",
      "Solving determinant at frequency = 4120 is done.\n",
      "Solving determinant at frequency = 4220 is done.\n",
      "Solving determinant at frequency = 4320 is done.\n",
      "Solving determinant at frequency = 4420 is done.\n",
      "Solving determinant at frequency = 4520 is done.\n",
      "Solving determinant at frequency = 4620 is done.\n",
      "Solving determinant at frequency = 4720 is done.\n",
      "Solving determinant at frequency = 4820 is done.\n",
      "Solving determinant at frequency = 4920 is done.\n",
      "Solving determinant at frequency = 5020 is done.\n",
      "Solving determinant at frequency = 5120 is done.\n",
      "Solving determinant at frequency = 5220 is done.\n",
      "Solving determinant at frequency = 5320 is done.\n",
      "Solving determinant at frequency = 5420 is done.\n",
      "Solving determinant at frequency = 5520 is done.\n",
      "Solving determinant at frequency = 5620 is done.\n",
      "Solving determinant at frequency = 5720 is done.\n",
      "Solving determinant at frequency = 5820 is done.\n",
      "Solving determinant at frequency = 5920 is done.\n",
      "Solving determinant at frequency = 6020 is done.\n",
      "Solving determinant at frequency = 6120 is done.\n",
      "Solving determinant at frequency = 6220 is done.\n",
      "Solving determinant at frequency = 6320 is done.\n",
      "Solving determinant at frequency = 6420 is done.\n",
      "Solving determinant at frequency = 6520 is done.\n",
      "Solving determinant at frequency = 6620 is done.\n",
      "Solving determinant at frequency = 6720 is done.\n",
      "Solving determinant at frequency = 6820 is done.\n",
      "Solving determinant at frequency = 6920 is done.\n",
      "Solving determinant at frequency = 7020 is done.\n",
      "Solving determinant at frequency = 7120 is done.\n",
      "Solving determinant at frequency = 7220 is done.\n",
      "Solving determinant at frequency = 7320 is done.\n",
      "Solving determinant at frequency = 7420 is done.\n",
      "Solving determinant at frequency = 7520 is done.\n",
      "Solving determinant at frequency = 7620 is done.\n",
      "Solving determinant at frequency = 7720 is done.\n",
      "Solving determinant at frequency = 7820 is done.\n",
      "Solving determinant at frequency = 7920 is done.\n",
      "Solving determinant at frequency = 8020 is done.\n",
      "Solving determinant at frequency = 8120 is done.\n",
      "Solving determinant at frequency = 8220 is done.\n",
      "Solving determinant at frequency = 8320 is done.\n",
      "Solving determinant at frequency = 8420 is done.\n",
      "Solving determinant at frequency = 8520 is done.\n",
      "Solving determinant at frequency = 8620 is done.\n",
      "Solving determinant at frequency = 8720 is done.\n",
      "Solving determinant at frequency = 8820 is done.\n",
      "Solving determinant at frequency = 8920 is done.\n",
      "Solving determinant at frequency = 9020 is done.\n",
      "Solving determinant at frequency = 9120 is done.\n",
      "Solving determinant at frequency = 9220 is done.\n",
      "Solving determinant at frequency = 9320 is done.\n",
      "Solving determinant at frequency = 9420 is done.\n",
      "Solving determinant at frequency = 9520 is done.\n",
      "Solving determinant at frequency = 9620 is done.\n",
      "Solving determinant at frequency = 9720 is done.\n",
      "Solving determinant at frequency = 9820 is done.\n",
      "Solving determinant at frequency = 9920 is done.\n",
      "Solving determinant at frequency = 10020 is done.\n",
      "Solving determinant at frequency = 20 is done.\n",
      "Solving determinant at frequency = 120 is done.\n",
      "Solving determinant at frequency = 220 is done.\n",
      "Solving determinant at frequency = 320 is done.\n",
      "Solving determinant at frequency = 420 is done.\n",
      "Solving determinant at frequency = 520 is done.\n",
      "Solving determinant at frequency = 620 is done.\n",
      "Solving determinant at frequency = 720 is done.\n",
      "Solving determinant at frequency = 820 is done.\n",
      "Solving determinant at frequency = 920 is done.\n",
      "Solving determinant at frequency = 1020 is done.\n",
      "Solving determinant at frequency = 1120 is done.\n",
      "Solving determinant at frequency = 1220 is done.\n",
      "Solving determinant at frequency = 1320 is done.\n",
      "Solving determinant at frequency = 1420 is done.\n",
      "Solving determinant at frequency = 1520 is done.\n",
      "Solving determinant at frequency = 1620 is done.\n",
      "Solving determinant at frequency = 1720 is done.\n",
      "Solving determinant at frequency = 1820 is done.\n",
      "Solving determinant at frequency = 1920 is done.\n",
      "Solving determinant at frequency = 2020 is done.\n",
      "Solving determinant at frequency = 2120 is done.\n",
      "Solving determinant at frequency = 2220 is done.\n",
      "Solving determinant at frequency = 2320 is done.\n",
      "Solving determinant at frequency = 2420 is done.\n",
      "Solving determinant at frequency = 2520 is done.\n",
      "Solving determinant at frequency = 2620 is done.\n",
      "Solving determinant at frequency = 2720 is done.\n",
      "Solving determinant at frequency = 2820 is done.\n",
      "Solving determinant at frequency = 2920 is done.\n",
      "Solving determinant at frequency = 3020 is done.\n",
      "Solving determinant at frequency = 3120 is done.\n",
      "Solving determinant at frequency = 3220 is done.\n",
      "Solving determinant at frequency = 3320 is done.\n",
      "Solving determinant at frequency = 3420 is done.\n",
      "Solving determinant at frequency = 3520 is done.\n",
      "Solving determinant at frequency = 3620 is done.\n",
      "Solving determinant at frequency = 3720 is done.\n",
      "Solving determinant at frequency = 3820 is done.\n",
      "Solving determinant at frequency = 3920 is done.\n",
      "Solving determinant at frequency = 4020 is done.\n",
      "Solving determinant at frequency = 4120 is done.\n",
      "Solving determinant at frequency = 4220 is done.\n",
      "Solving determinant at frequency = 4320 is done.\n",
      "Solving determinant at frequency = 4420 is done.\n",
      "Solving determinant at frequency = 4520 is done.\n",
      "Solving determinant at frequency = 4620 is done.\n",
      "Solving determinant at frequency = 4720 is done.\n",
      "Solving determinant at frequency = 4820 is done.\n",
      "Solving determinant at frequency = 4920 is done.\n",
      "Solving determinant at frequency = 5020 is done.\n",
      "Solving determinant at frequency = 5120 is done.\n",
      "Solving determinant at frequency = 5220 is done.\n",
      "Solving determinant at frequency = 5320 is done.\n",
      "Solving determinant at frequency = 5420 is done.\n",
      "Solving determinant at frequency = 5520 is done.\n",
      "Solving determinant at frequency = 5620 is done.\n",
      "Solving determinant at frequency = 5720 is done.\n",
      "Solving determinant at frequency = 5820 is done.\n",
      "Solving determinant at frequency = 5920 is done.\n",
      "Solving determinant at frequency = 6020 is done.\n",
      "Solving determinant at frequency = 6120 is done.\n",
      "Solving determinant at frequency = 6220 is done.\n",
      "Solving determinant at frequency = 6320 is done.\n",
      "Solving determinant at frequency = 6420 is done.\n",
      "Solving determinant at frequency = 6520 is done.\n",
      "Solving determinant at frequency = 6620 is done.\n",
      "Solving determinant at frequency = 6720 is done.\n",
      "Solving determinant at frequency = 6820 is done.\n",
      "Solving determinant at frequency = 6920 is done.\n",
      "Solving determinant at frequency = 7020 is done.\n",
      "Solving determinant at frequency = 7120 is done.\n",
      "Solving determinant at frequency = 7220 is done.\n",
      "Solving determinant at frequency = 7320 is done.\n",
      "Solving determinant at frequency = 7420 is done.\n",
      "Solving determinant at frequency = 7520 is done.\n",
      "Solving determinant at frequency = 7620 is done.\n",
      "Solving determinant at frequency = 7720 is done.\n",
      "Solving determinant at frequency = 7820 is done.\n",
      "Solving determinant at frequency = 7920 is done.\n",
      "Solving determinant at frequency = 8020 is done.\n",
      "Solving determinant at frequency = 8120 is done.\n",
      "Solving determinant at frequency = 8220 is done.\n",
      "Solving determinant at frequency = 8320 is done.\n",
      "Solving determinant at frequency = 8420 is done.\n",
      "Solving determinant at frequency = 8520 is done.\n",
      "Solving determinant at frequency = 8620 is done.\n",
      "Solving determinant at frequency = 8720 is done.\n",
      "Solving determinant at frequency = 8820 is done.\n",
      "Solving determinant at frequency = 8920 is done.\n",
      "Solving determinant at frequency = 9020 is done.\n",
      "Solving determinant at frequency = 9120 is done.\n",
      "Solving determinant at frequency = 9220 is done.\n",
      "Solving determinant at frequency = 9320 is done.\n",
      "Solving determinant at frequency = 9420 is done.\n",
      "Solving determinant at frequency = 9520 is done.\n",
      "Solving determinant at frequency = 9620 is done.\n",
      "Solving determinant at frequency = 9720 is done.\n",
      "Solving determinant at frequency = 9820 is done.\n",
      "Solving determinant at frequency = 9920 is done.\n",
      "Solving determinant at frequency = 10020 is done.\n"
     ]
    }
   ],
   "source": [
    "## Find roots of wavenumber in the equation of determinant\n",
    "cone_4_8.wavenumer_array, cone_4_8.failed_root = cone_4_8.axial_wavenumber_array()\n",
    "cone_4_8_1.wavenumer_array, cone_4_8_1.failed_root = cone_4_8_1.axial_wavenumber_array()"
   ]
  },
  {
   "cell_type": "code",
   "execution_count": null,
   "metadata": {},
   "outputs": [],
   "source": []
  },
  {
   "cell_type": "code",
   "execution_count": 11,
   "metadata": {},
   "outputs": [
    {
     "name": "stdout",
     "output_type": "stream",
     "text": [
      "self.frequency_array.shape[0] = 101 is same as self.wavenumer_array.shape[0] = 101\n"
     ]
    },
    {
     "data": {
      "text/plain": [
       "array([0.01640976, 0.0936698 , 0.1616465 , 0.21940429, 0.26690127,\n",
       "       0.3047384 , 0.33390387, 0.35556109, 0.3708973 , 0.38102941,\n",
       "       0.3869547 , 0.38953251, 0.38948497, 0.38740807, 0.38378726,\n",
       "       0.37901423, 0.37340279, 0.3672031 , 0.36061385, 0.35379252,\n",
       "       0.34686371, 0.339926  , 0.3330575 , 0.3263202 , 0.31976359,\n",
       "       0.31342746, 0.3073442 , 0.30154063, 0.29603944, 0.29086046,\n",
       "       0.28602158, 0.28153959, 0.27743085, 0.27371192, 0.27040001,\n",
       "       0.26751344, 0.26507212, 0.26309785, 0.26161477, 0.26064966,\n",
       "       0.26023237, 0.26039615, 0.26117801, 0.26261916, 0.26476535,\n",
       "       0.26766727, 0.27138096, 0.27596814, 0.28149655, 0.28804021,\n",
       "       0.29567962, 0.30450169, 0.31459965, 0.32607247, 0.33902405,\n",
       "       0.35356178, 0.36979451, 0.38782958, 0.40776893, 0.42970384,\n",
       "       0.4537083 , 0.47983075, 0.5080842 , 0.53843478, 0.57078909,\n",
       "       0.60498105, 0.64075935, 0.67777706, 0.71558538, 0.75363387,\n",
       "       0.79127917, 0.82780409, 0.86244737, 0.89444322, 0.92306744,\n",
       "       0.94768544, 0.96779632, 0.98306706, 0.99335239, 0.9986979 ,\n",
       "       0.99932689, 0.99561385, 0.98804911, 0.97719991, 0.96367242,\n",
       "       0.94807841, 0.93100863, 0.91301368, 0.89459203, 0.87618417,\n",
       "       0.85817178, 0.84088024, 0.82458373, 0.80951168, 0.79585628,\n",
       "       0.78378056, 0.77342692, 0.76492563, 0.75840159, 0.75397694,\n",
       "       0.75176633])"
      ]
     },
     "execution_count": 11,
     "metadata": {},
     "output_type": "execute_result"
    }
   ],
   "source": [
    "## Calculate sound absorption of cone_4_8\n",
    "cone_4_8.absorption_frequency()"
   ]
  },
  {
   "cell_type": "code",
   "execution_count": 12,
   "metadata": {},
   "outputs": [
    {
     "name": "stdout",
     "output_type": "stream",
     "text": [
      "self.frequency_array.shape[0] = 101 is same as self.wavenumer_array.shape[0] = 101\n"
     ]
    },
    {
     "data": {
      "text/plain": [
       "array([0.1482568 , 0.36706241, 0.30478681, 0.24255377, 0.19829768,\n",
       "       0.16697023, 0.14418373, 0.12721713, 0.11443668, 0.1048664 ,\n",
       "       0.09794706, 0.09341152, 0.09123097, 0.09161136, 0.09503636,\n",
       "       0.10236687, 0.11502204, 0.13528277, 0.16676348, 0.21502188,\n",
       "       0.28785528, 0.39331467, 0.53019817, 0.66780017, 0.74326099,\n",
       "       0.72134289, 0.636513  , 0.54096198, 0.46159419, 0.4046361 ,\n",
       "       0.36883534, 0.35226848, 0.3548035 , 0.37714492, 0.41668331,\n",
       "       0.46408917, 0.50400981, 0.52222828, 0.51507635, 0.49043979,\n",
       "       0.46006293, 0.43293292, 0.42339304, 0.41054357, 0.405982  ,\n",
       "       0.40783732, 0.4133223 , 0.41866072, 0.4204633 , 0.41762728,\n",
       "       0.41120102, 0.40311651, 0.39476454, 0.38632523, 0.37704695,\n",
       "       0.36611777, 0.35343093, 0.33961347, 0.32527389, 0.01282789,\n",
       "       0.0122666 , 0.01267876, 0.01440817, 0.01766737, 0.02250764,\n",
       "       0.02882982, 0.03642898, 0.04505306, 0.05445477, 0.06442511,\n",
       "       0.07480793, 0.0855007 , 0.09644768, 0.1076305 , 0.11905883,\n",
       "       0.13076237, 0.14278472, 0.15517874, 0.16800334, 0.18132119,\n",
       "       0.19519716, 0.20969727, 0.22488783, 0.2408348 , 0.2576031 ,\n",
       "       0.27525588, 0.29385367, 0.31345331, 0.33410662, 0.35585876,\n",
       "       0.37874631, 0.40279491, 0.4280166 , 0.45440668, 0.48194035,\n",
       "       0.51056894, 0.54021613, 0.57077412, 0.60210012, 0.63401359,\n",
       "       0.6662944 ])"
      ]
     },
     "execution_count": 12,
     "metadata": {},
     "output_type": "execute_result"
    }
   ],
   "source": [
    "## Calculate sound absorption of cone_4_8\n",
    "cone_4_8_1.absorption_frequency()"
   ]
  },
  {
   "cell_type": "code",
   "execution_count": 13,
   "metadata": {},
   "outputs": [
    {
     "name": "stdout",
     "output_type": "stream",
     "text": [
      "self.frequency_array.shape[0] = 101 is same as self.wavenumer_array.shape[0] = 101\n"
     ]
    },
    {
     "name": "stderr",
     "output_type": "stream",
     "text": [
      "/Users/chenghunglin/Documents/Git_BNL/sound_absorption/hole_shape_sound_absorption.py:271: PerformanceWarning: DataFrame is highly fragmented.  This is usually the result of calling `frame.insert` many times, which has poor performance.  Consider joining all columns at once using pd.concat(axis=1) instead.  To get a de-fragmented frame, use `newframe = frame.copy()`\n",
      "  df_wave[frequency] = self.wavenumer_array[i][:]\n"
     ]
    },
    {
     "name": "stdout",
     "output_type": "stream",
     "text": [
      "Save file to /Users/chenghunglin/Documents/cone_4_8.xlsx\n",
      "self.frequency_array.shape[0] = 101 is same as self.wavenumer_array.shape[0] = 101\n",
      "Save file to /Users/chenghunglin/Documents/cone_4_8_1.xlsx\n"
     ]
    }
   ],
   "source": [
    "## Save the data\n",
    "fp = '/Users/chenghunglin/Documents/'\n",
    "fn = 'cone_4_8.xlsx'\n",
    "fn1 = 'cone_4_8_1.xlsx'\n",
    "cone_4_8.save_data(fp, fn)\n",
    "cone_4_8_1.save_data(fp, fn1)"
   ]
  },
  {
   "cell_type": "code",
   "execution_count": null,
   "metadata": {},
   "outputs": [],
   "source": []
  },
  {
   "cell_type": "markdown",
   "metadata": {},
   "source": [
    "### Example 02: change shape, p, q"
   ]
  },
  {
   "cell_type": "code",
   "execution_count": 14,
   "metadata": {},
   "outputs": [],
   "source": [
    "horn_1_11 = sound_performance(determinant, frequency_array)"
   ]
  },
  {
   "cell_type": "code",
   "execution_count": 15,
   "metadata": {},
   "outputs": [],
   "source": [
    "horn_1_11.shape = 'horn'\n",
    "horn_1_11.p_hole = 1e-3\n",
    "horn_1_11.q_hole = 11e-3"
   ]
  },
  {
   "cell_type": "code",
   "execution_count": 16,
   "metadata": {},
   "outputs": [
    {
     "name": "stdout",
     "output_type": "stream",
     "text": [
      "Solving determinant at frequency = 20 is done.\n",
      "Solving determinant at frequency = 120 is done.\n",
      "Solving determinant at frequency = 220 is done.\n",
      "Solving determinant at frequency = 320 is done.\n",
      "Solving determinant at frequency = 420 is done.\n",
      "Solving determinant at frequency = 520 is done.\n",
      "Solving determinant at frequency = 620 is done.\n",
      "Solving determinant at frequency = 720 is done.\n",
      "Solving determinant at frequency = 820 is done.\n",
      "Solving determinant at frequency = 920 is done.\n",
      "Solving determinant at frequency = 1020 is done.\n",
      "Solving determinant at frequency = 1120 is done.\n",
      "Solving determinant at frequency = 1220 is done.\n",
      "Solving determinant at frequency = 1320 is done.\n",
      "Solving determinant at frequency = 1420 is done.\n",
      "Solving determinant at frequency = 1520 is done.\n",
      "Solving determinant at frequency = 1620 is done.\n",
      "Solving determinant at frequency = 1720 is done.\n",
      "Solving determinant at frequency = 1820 is done.\n",
      "Solving determinant at frequency = 1920 is done.\n",
      "Solving determinant at frequency = 2020 is done.\n",
      "Solving determinant at frequency = 2120 is done.\n",
      "Solving determinant at frequency = 2220 is done.\n",
      "Solving determinant at frequency = 2320 is done.\n",
      "Solving determinant at frequency = 2420 is done.\n",
      "Solving determinant at frequency = 2520 is done.\n",
      "Solving determinant at frequency = 2620 is done.\n",
      "Solving determinant at frequency = 2720 is done.\n",
      "Solving determinant at frequency = 2820 is done.\n",
      "Solving determinant at frequency = 2920 is done.\n",
      "Solving determinant at frequency = 3020 is done.\n",
      "Solving determinant at frequency = 3120 is done.\n",
      "Solving determinant at frequency = 3220 is done.\n",
      "Solving determinant at frequency = 3320 is done.\n",
      "Solving determinant at frequency = 3420 is done.\n",
      "Solving determinant at frequency = 3520 is done.\n",
      "Solving determinant at frequency = 3620 is done.\n",
      "Solving determinant at frequency = 3720 is done.\n",
      "Solving determinant at frequency = 3820 is done.\n",
      "Solving determinant at frequency = 3920 is done.\n",
      "Solving determinant at frequency = 4020 is done.\n",
      "Solving determinant at frequency = 4120 is done.\n",
      "Solving determinant at frequency = 4220 is done.\n",
      "Solving determinant at frequency = 4320 is done.\n",
      "Solving determinant at frequency = 4420 is done.\n",
      "Solving determinant at frequency = 4520 is done.\n",
      "Solving determinant at frequency = 4620 is done.\n",
      "Solving determinant at frequency = 4720 is done.\n",
      "Solving determinant at frequency = 4820 is done.\n",
      "Solving determinant at frequency = 4920 is done.\n",
      "Solving determinant at frequency = 5020 is done.\n",
      "Solving determinant at frequency = 5120 is done.\n",
      "Solving determinant at frequency = 5220 is done.\n",
      "Solving determinant at frequency = 5320 is done.\n",
      "Solving determinant at frequency = 5420 is done.\n",
      "Solving determinant at frequency = 5520 is done.\n",
      "Solving determinant at frequency = 5620 is done.\n",
      "Solving determinant at frequency = 5720 is done.\n",
      "Solving determinant at frequency = 5820 is done.\n",
      "Solving determinant at frequency = 5920 is done.\n",
      "Solving determinant at frequency = 6020 is done.\n",
      "Solving determinant at frequency = 6120 is done.\n",
      "Solving determinant at frequency = 6220 is done.\n",
      "Solving determinant at frequency = 6320 is done.\n",
      "Solving determinant at frequency = 6420 is done.\n",
      "Solving determinant at frequency = 6520 is done.\n",
      "Solving determinant at frequency = 6620 is done.\n",
      "Solving determinant at frequency = 6720 is done.\n",
      "Solving determinant at frequency = 6820 is done.\n",
      "Solving determinant at frequency = 6920 is done.\n",
      "Solving determinant at frequency = 7020 is done.\n",
      "Solving determinant at frequency = 7120 is done.\n",
      "Solving determinant at frequency = 7220 is done.\n",
      "Solving determinant at frequency = 7320 is done.\n",
      "Solving determinant at frequency = 7420 is done.\n",
      "Solving determinant at frequency = 7520 is done.\n",
      "Solving determinant at frequency = 7620 is done.\n",
      "Solving determinant at frequency = 7720 is done.\n",
      "Solving determinant at frequency = 7820 is done.\n",
      "Solving determinant at frequency = 7920 is done.\n",
      "Solving determinant at frequency = 8020 is done.\n",
      "Solving determinant at frequency = 8120 is done.\n",
      "Solving determinant at frequency = 8220 is done.\n",
      "Solving determinant at frequency = 8320 is done.\n",
      "Solving determinant at frequency = 8420 is done.\n",
      "Solving determinant at frequency = 8520 is done.\n",
      "Solving determinant at frequency = 8620 is done.\n",
      "Solving determinant at frequency = 8720 is done.\n",
      "Solving determinant at frequency = 8820 is done.\n",
      "Solving determinant at frequency = 8920 is done.\n",
      "Solving determinant at frequency = 9020 is done.\n",
      "Solving determinant at frequency = 9120 is done.\n",
      "Solving determinant at frequency = 9220 is done.\n",
      "Solving determinant at frequency = 9320 is done.\n",
      "Solving determinant at frequency = 9420 is done.\n",
      "Solving determinant at frequency = 9520 is done.\n",
      "Solving determinant at frequency = 9620 is done.\n",
      "Solving determinant at frequency = 9720 is done.\n",
      "Solving determinant at frequency = 9820 is done.\n",
      "Solving determinant at frequency = 9920 is done.\n",
      "Solving determinant at frequency = 10020 is done.\n"
     ]
    }
   ],
   "source": [
    "## Find roots of wavenumber in the equation of determinant\n",
    "horn_1_11.wavenumer_array, horn_1_11.failed_root = horn_1_11.axial_wavenumber_array()"
   ]
  },
  {
   "cell_type": "code",
   "execution_count": 17,
   "metadata": {},
   "outputs": [
    {
     "name": "stdout",
     "output_type": "stream",
     "text": [
      "self.frequency_array.shape[0] = 101 is same as self.wavenumer_array.shape[0] = 101\n",
      "Save file to /Users/chenghunglin/Documents/horn_1_11.xlsx\n"
     ]
    },
    {
     "name": "stderr",
     "output_type": "stream",
     "text": [
      "/Users/chenghunglin/Documents/Git_BNL/sound_absorption/hole_shape_sound_absorption.py:271: PerformanceWarning: DataFrame is highly fragmented.  This is usually the result of calling `frame.insert` many times, which has poor performance.  Consider joining all columns at once using pd.concat(axis=1) instead.  To get a de-fragmented frame, use `newframe = frame.copy()`\n",
      "  df_wave[frequency] = self.wavenumer_array[i][:]\n"
     ]
    }
   ],
   "source": [
    "## Save the data\n",
    "fp = '/Users/chenghunglin/Documents/'\n",
    "fn = 'horn_1_11.xlsx'\n",
    "horn_1_11.save_data(fp, fn)"
   ]
  },
  {
   "cell_type": "code",
   "execution_count": null,
   "metadata": {},
   "outputs": [],
   "source": []
  },
  {
   "cell_type": "markdown",
   "metadata": {},
   "source": [
    "## Plot data to compare with the paper"
   ]
  },
  {
   "cell_type": "code",
   "execution_count": 20,
   "metadata": {},
   "outputs": [
    {
     "name": "stdout",
     "output_type": "stream",
     "text": [
      "self.frequency_array.shape[0] = 101 is same as self.wavenumer_array.shape[0] = 101\n",
      "self.frequency_array.shape[0] = 101 is same as self.wavenumer_array.shape[0] = 101\n",
      "self.frequency_array.shape[0] = 101 is same as self.wavenumer_array.shape[0] = 101\n"
     ]
    },
    {
     "data": {
      "text/plain": [
       "<matplotlib.legend.Legend at 0x7f7c317aca30>"
      ]
     },
     "execution_count": 20,
     "metadata": {},
     "output_type": "execute_result"
    },
    {
     "data": {
      "application/vnd.jupyter.widget-view+json": {
       "model_id": "413c5dc249844e2f81085f21838195a6",
       "version_major": 2,
       "version_minor": 0
      },
      "image/png": "[encoded data removed]",
      "text/html": [
       "\n",
       "            <div style=\"display: inline-block;\">\n",
       "                <div class=\"jupyter-widgets widget-label\" style=\"text-align: center;\">\n",
       "                    Figure\n",
       "                </div>\n",
       "                <img src='data:image/png;base64,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' width=640.0/>\n",
       "            </div>\n",
       "        "
      ],
      "text/plain": [
       "Canvas(toolbar=Toolbar(toolitems=[('Home', 'Reset original view', 'home', 'home'), ('Back', 'Back to previous …"
      ]
     },
     "metadata": {},
     "output_type": "display_data"
    }
   ],
   "source": [
    "plt.figure()\n",
    "plt.plot(cone_4_8.frequency_array, cone_4_8.absorption_frequency(), label='cone, p=4, q=8, Young=0.14 Gpa')\n",
    "plt.plot(cone_4_8_1.frequency_array, cone_4_8_1.absorption_frequency(), label='cone, p=4, q=8, Young=0.014 Gpa')\n",
    "plt.plot(horn_1_11.frequency_array, horn_1_11.absorption_frequency(), label='horn, p=1, q=11')\n",
    "plt.legend()"
   ]
  },
  {
   "cell_type": "code",
   "execution_count": null,
   "metadata": {},
   "outputs": [],
   "source": []
  },
  {
   "cell_type": "code",
   "execution_count": null,
   "metadata": {},
   "outputs": [],
   "source": []
  }
 ],
 "metadata": {
  "anaconda-cloud": {},
  "kernelspec": {
   "display_name": "Python 3 (ipykernel)",
   "language": "python",
   "name": "python3"
  },
  "language_info": {
   "codemirror_mode": {
    "name": "ipython",
    "version": 3
   },
   "file_extension": ".py",
   "mimetype": "text/x-python",
   "name": "python",
   "nbconvert_exporter": "python",
   "pygments_lexer": "ipython3",
   "version": "3.9.7"
  }
 },
 "nbformat": 4,
 "nbformat_minor": 4
}
