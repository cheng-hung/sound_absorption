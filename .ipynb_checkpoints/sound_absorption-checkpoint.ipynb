{
 "cells": [
  {
   "cell_type": "code",
   "execution_count": 1,
   "metadata": {
    "collapsed": false,
    "jupyter": {
     "outputs_hidden": false
    }
   },
   "outputs": [],
   "source": [
    "import numpy as np\n",
    "import matplotlib.pyplot as plt\n",
    "import pandas as pd"
   ]
  },
  {
   "cell_type": "code",
   "execution_count": 2,
   "metadata": {},
   "outputs": [],
   "source": [
    "%matplotlib widget"
   ]
  },
  {
   "cell_type": "code",
   "execution_count": 3,
   "metadata": {},
   "outputs": [],
   "source": [
    "import warnings\n",
    "warnings.filterwarnings(\"ignore\", category=RuntimeWarning)\n",
    "warnings.filterwarnings(\"ignore\", category=pd.errors.PerformanceWarning)"
   ]
  },
  {
   "cell_type": "markdown",
   "metadata": {
    "tags": []
   },
   "source": [
    "### Reference: Influence of hole shape on sound absorption of underwater anechoic layers\n",
    "#### https://www.sciencedirect.com/science/article/abs/pii/S0022460X1830227X"
   ]
  },
  {
   "cell_type": "markdown",
   "metadata": {},
   "source": [
    "### Import pre-defined class and function"
   ]
  },
  {
   "cell_type": "code",
   "execution_count": 4,
   "metadata": {},
   "outputs": [],
   "source": [
    "%run -i hole_shape_sound_absorption.py"
   ]
  },
  {
   "cell_type": "markdown",
   "metadata": {},
   "source": [
    "### Define the determinant of the coefficient matrix of eq(14) in the paper"
   ]
  },
  {
   "cell_type": "code",
   "execution_count": 5,
   "metadata": {},
   "outputs": [
    {
     "data": {
      "text/latex": [
       "$\\displaystyle \\left[\\begin{matrix}- \\sqrt{- kz^{2} + \\frac{\\omega^{2}}{cl^{2}}} J_{1}\\left(b \\sqrt{- kz^{2} + \\frac{\\omega^{2}}{cl^{2}}}\\right) & - \\sqrt{- kz^{2} + \\frac{\\omega^{2}}{cl^{2}}} Y_{1}\\left(b \\sqrt{- kz^{2} + \\frac{\\omega^{2}}{cl^{2}}}\\right) & - i kz \\sqrt{- kz^{2} + \\frac{\\omega^{2}}{ct^{2}}} J_{1}\\left(b \\sqrt{- kz^{2} + \\frac{\\omega^{2}}{ct^{2}}}\\right) & - i kz \\sqrt{- kz^{2} + \\frac{\\omega^{2}}{ct^{2}}} Y_{1}\\left(b \\sqrt{- kz^{2} + \\frac{\\omega^{2}}{ct^{2}}}\\right)\\\\\\left(- 2 \\mu \\left(- kz^{2} + \\frac{\\omega^{2}}{cl^{2}}\\right) - \\frac{\\lambda \\omega^{2}}{cl^{2}}\\right) J_{0}\\left(a \\sqrt{- kz^{2} + \\frac{\\omega^{2}}{cl^{2}}}\\right) + \\frac{2 \\mu \\sqrt{- kz^{2} + \\frac{\\omega^{2}}{cl^{2}}} J_{1}\\left(a \\sqrt{- kz^{2} + \\frac{\\omega^{2}}{cl^{2}}}\\right)}{a} & \\left(- 2 \\mu \\left(- kz^{2} + \\frac{\\omega^{2}}{cl^{2}}\\right) - \\frac{\\lambda \\omega^{2}}{cl^{2}}\\right) Y_{0}\\left(a \\sqrt{- kz^{2} + \\frac{\\omega^{2}}{cl^{2}}}\\right) + \\frac{2 \\mu \\sqrt{- kz^{2} + \\frac{\\omega^{2}}{cl^{2}}} Y_{1}\\left(a \\sqrt{- kz^{2} + \\frac{\\omega^{2}}{cl^{2}}}\\right)}{a} & 2 i kz \\mu \\sqrt{- kz^{2} + \\frac{\\omega^{2}}{ct^{2}}} \\left(- \\sqrt{- kz^{2} + \\frac{\\omega^{2}}{ct^{2}}} J_{0}\\left(a \\sqrt{- kz^{2} + \\frac{\\omega^{2}}{ct^{2}}}\\right) + \\frac{J_{1}\\left(a \\sqrt{- kz^{2} + \\frac{\\omega^{2}}{ct^{2}}}\\right)}{a}\\right) & 2 i kz \\mu \\sqrt{- kz^{2} + \\frac{\\omega^{2}}{ct^{2}}} \\left(- \\sqrt{- kz^{2} + \\frac{\\omega^{2}}{ct^{2}}} Y_{0}\\left(a \\sqrt{- kz^{2} + \\frac{\\omega^{2}}{ct^{2}}}\\right) + \\frac{Y_{1}\\left(a \\sqrt{- kz^{2} + \\frac{\\omega^{2}}{ct^{2}}}\\right)}{a}\\right)\\\\- 2 i kz \\mu \\sqrt{- kz^{2} + \\frac{\\omega^{2}}{cl^{2}}} J_{1}\\left(a \\sqrt{- kz^{2} + \\frac{\\omega^{2}}{cl^{2}}}\\right) & - 2 i kz \\mu \\sqrt{- kz^{2} + \\frac{\\omega^{2}}{cl^{2}}} Y_{1}\\left(a \\sqrt{- kz^{2} + \\frac{\\omega^{2}}{cl^{2}}}\\right) & \\mu \\sqrt{- kz^{2} + \\frac{\\omega^{2}}{ct^{2}}} \\left(2 kz^{2} - \\frac{\\omega^{2}}{ct^{2}}\\right) J_{1}\\left(a \\sqrt{- kz^{2} + \\frac{\\omega^{2}}{ct^{2}}}\\right) & \\mu \\sqrt{- kz^{2} + \\frac{\\omega^{2}}{ct^{2}}} \\left(2 kz^{2} - \\frac{\\omega^{2}}{ct^{2}}\\right) Y_{1}\\left(a \\sqrt{- kz^{2} + \\frac{\\omega^{2}}{ct^{2}}}\\right)\\\\- 2 i kz \\mu \\sqrt{- kz^{2} + \\frac{\\omega^{2}}{cl^{2}}} J_{1}\\left(b \\sqrt{- kz^{2} + \\frac{\\omega^{2}}{cl^{2}}}\\right) & - 2 i kz \\mu \\sqrt{- kz^{2} + \\frac{\\omega^{2}}{cl^{2}}} Y_{1}\\left(b \\sqrt{- kz^{2} + \\frac{\\omega^{2}}{cl^{2}}}\\right) & \\mu \\sqrt{- kz^{2} + \\frac{\\omega^{2}}{ct^{2}}} \\left(2 kz^{2} - \\frac{\\omega^{2}}{ct^{2}}\\right) J_{1}\\left(b \\sqrt{- kz^{2} + \\frac{\\omega^{2}}{ct^{2}}}\\right) & \\mu \\sqrt{- kz^{2} + \\frac{\\omega^{2}}{ct^{2}}} \\left(2 kz^{2} - \\frac{\\omega^{2}}{ct^{2}}\\right) Y_{1}\\left(b \\sqrt{- kz^{2} + \\frac{\\omega^{2}}{ct^{2}}}\\right)\\end{matrix}\\right]$"
      ],
      "text/plain": [
       "Matrix([\n",
       "[                                                                                                              -sqrt(-kz**2 + omega**2/cl**2)*besselj(1, b*sqrt(-kz**2 + omega**2/cl**2)),                                                                                                               -sqrt(-kz**2 + omega**2/cl**2)*bessely(1, b*sqrt(-kz**2 + omega**2/cl**2)),                                                                                      -I*kz*sqrt(-kz**2 + omega**2/ct**2)*besselj(1, b*sqrt(-kz**2 + omega**2/ct**2)),                                                                                      -I*kz*sqrt(-kz**2 + omega**2/ct**2)*bessely(1, b*sqrt(-kz**2 + omega**2/ct**2))],\n",
       "[(-2*mu*(-kz**2 + omega**2/cl**2) - lambda*omega**2/cl**2)*besselj(0, a*sqrt(-kz**2 + omega**2/cl**2)) + 2*mu*sqrt(-kz**2 + omega**2/cl**2)*besselj(1, a*sqrt(-kz**2 + omega**2/cl**2))/a, (-2*mu*(-kz**2 + omega**2/cl**2) - lambda*omega**2/cl**2)*bessely(0, a*sqrt(-kz**2 + omega**2/cl**2)) + 2*mu*sqrt(-kz**2 + omega**2/cl**2)*bessely(1, a*sqrt(-kz**2 + omega**2/cl**2))/a, 2*I*kz*mu*sqrt(-kz**2 + omega**2/ct**2)*(-sqrt(-kz**2 + omega**2/ct**2)*besselj(0, a*sqrt(-kz**2 + omega**2/ct**2)) + besselj(1, a*sqrt(-kz**2 + omega**2/ct**2))/a), 2*I*kz*mu*sqrt(-kz**2 + omega**2/ct**2)*(-sqrt(-kz**2 + omega**2/ct**2)*bessely(0, a*sqrt(-kz**2 + omega**2/ct**2)) + bessely(1, a*sqrt(-kz**2 + omega**2/ct**2))/a)],\n",
       "[                                                                                                    -2*I*kz*mu*sqrt(-kz**2 + omega**2/cl**2)*besselj(1, a*sqrt(-kz**2 + omega**2/cl**2)),                                                                                                     -2*I*kz*mu*sqrt(-kz**2 + omega**2/cl**2)*bessely(1, a*sqrt(-kz**2 + omega**2/cl**2)),                                                              mu*sqrt(-kz**2 + omega**2/ct**2)*(2*kz**2 - omega**2/ct**2)*besselj(1, a*sqrt(-kz**2 + omega**2/ct**2)),                                                              mu*sqrt(-kz**2 + omega**2/ct**2)*(2*kz**2 - omega**2/ct**2)*bessely(1, a*sqrt(-kz**2 + omega**2/ct**2))],\n",
       "[                                                                                                    -2*I*kz*mu*sqrt(-kz**2 + omega**2/cl**2)*besselj(1, b*sqrt(-kz**2 + omega**2/cl**2)),                                                                                                     -2*I*kz*mu*sqrt(-kz**2 + omega**2/cl**2)*bessely(1, b*sqrt(-kz**2 + omega**2/cl**2)),                                                              mu*sqrt(-kz**2 + omega**2/ct**2)*(2*kz**2 - omega**2/ct**2)*besselj(1, b*sqrt(-kz**2 + omega**2/ct**2)),                                                              mu*sqrt(-kz**2 + omega**2/ct**2)*(2*kz**2 - omega**2/ct**2)*bessely(1, b*sqrt(-kz**2 + omega**2/ct**2))]])"
      ]
     },
     "execution_count": 5,
     "metadata": {},
     "output_type": "execute_result"
    }
   ],
   "source": [
    "determinant, mat = determinant_from_matrix()\n",
    "mat"
   ]
  },
  {
   "cell_type": "code",
   "execution_count": null,
   "metadata": {},
   "outputs": [],
   "source": []
  },
  {
   "cell_type": "markdown",
   "metadata": {
    "tags": []
   },
   "source": [
    "## Define an object of sound_performance for calculating sound absorption\n",
    "### The default values are listed as below (all in SI units)\n",
    "\n",
    "Material of anechoic layer: rubber\n",
    "\n",
    "Young's modulus of rubber (GPa): 0.14\n",
    "\n",
    "Loss factor of rubber 0.23\n",
    "\n",
    "Poisson ratio of rubber 0.49\n",
    "\n",
    "Density of rubber (kg/m3): 1100\n",
    "\n",
    "Density of air (kg/m3): 1.21\n",
    "\n",
    "Shape: cone\n",
    "\n",
    "p = 4 mm\n",
    "\n",
    "q = 8 mm\n",
    "\n",
    "lh = 40 mm\n",
    "\n",
    "cell_radius = 15 mm\n",
    "\n",
    "num_segments = 100\n",
    "\n",
    "Density of water (kg/m3): 998\n",
    "\n",
    "Sound speed of water (m/s): 1483\n",
    "\n",
    "#### https://en.wikipedia.org/wiki/Lam%C3%A9_parameters"
   ]
  },
  {
   "cell_type": "markdown",
   "metadata": {},
   "source": [
    "### Define the frequency array by np.arange"
   ]
  },
  {
   "cell_type": "code",
   "execution_count": 6,
   "metadata": {},
   "outputs": [
    {
     "data": {
      "text/plain": [
       "(101,)"
      ]
     },
     "execution_count": 6,
     "metadata": {},
     "output_type": "execute_result"
    }
   ],
   "source": [
    "frequency_array = np.arange(2, 10052, 100)\n",
    "# frequency_array2 = np.arange(2, 10022, 20)\n",
    "frequency_array.shape"
   ]
  },
  {
   "cell_type": "markdown",
   "metadata": {},
   "source": [
    "### Example 01: define all parameters by anechoic_sound_absorption()"
   ]
  },
  {
   "cell_type": "code",
   "execution_count": 8,
   "metadata": {},
   "outputs": [
    {
     "data": {
      "application/vnd.jupyter.widget-view+json": {
       "model_id": "358d5398337d4a35b34becd336e9a0ab",
       "version_major": 2,
       "version_minor": 0
      },
      "image/png": "[encoded data removed]",
      "text/html": [
       "\n",
       "            <div style=\"display: inline-block;\">\n",
       "                <div class=\"jupyter-widgets widget-label\" style=\"text-align: center;\">\n",
       "                    Figure\n",
       "                </div>\n",
       "                <img src='data:image/png;base64,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' width=640.0/>\n",
       "            </div>\n",
       "        "
      ],
      "text/plain": [
       "Canvas(toolbar=Toolbar(toolitems=[('Home', 'Reset original view', 'home', 'home'), ('Back', 'Back to previous …"
      ]
     },
     "metadata": {},
     "output_type": "display_data"
    },
    {
     "name": "stdout",
     "output_type": "stream",
     "text": [
      "Solving wavenumber in determinant for shape = sin, p = 0.003, q = 0.004, Young's = 140000000.0\n"
     ]
    },
    {
     "data": {
      "application/vnd.jupyter.widget-view+json": {
       "model_id": "5fd708ae85ba47f0987579fc470dc5f8",
       "version_major": 2,
       "version_minor": 0
      },
      "text/plain": [
       "Solving for all frequencies:   0%|          | 0/101 [00:00<?, ?it/s]"
      ]
     },
     "metadata": {},
     "output_type": "display_data"
    },
    {
     "data": {
      "application/vnd.jupyter.widget-view+json": {
       "model_id": "",
       "version_major": 2,
       "version_minor": 0
      },
      "text/plain": [
       "  ... working at frequency = 2.0 Hz:   0%|          | 0/100 [00:00<?, ?it/s]"
      ]
     },
     "metadata": {},
     "output_type": "display_data"
    },
    {
     "data": {
      "application/vnd.jupyter.widget-view+json": {
       "model_id": "",
       "version_major": 2,
       "version_minor": 0
      },
      "text/plain": [
       "  ... working at frequency = 102.0 Hz:   0%|          | 0/100 [00:00<?, ?it/s]"
      ]
     },
     "metadata": {},
     "output_type": "display_data"
    },
    {
     "data": {
      "application/vnd.jupyter.widget-view+json": {
       "model_id": "",
       "version_major": 2,
       "version_minor": 0
      },
      "text/plain": [
       "  ... working at frequency = 202.0 Hz:   0%|          | 0/100 [00:00<?, ?it/s]"
      ]
     },
     "metadata": {},
     "output_type": "display_data"
    },
    {
     "data": {
      "application/vnd.jupyter.widget-view+json": {
       "model_id": "",
       "version_major": 2,
       "version_minor": 0
      },
      "text/plain": [
       "  ... working at frequency = 302.0 Hz:   0%|          | 0/100 [00:00<?, ?it/s]"
      ]
     },
     "metadata": {},
     "output_type": "display_data"
    },
    {
     "data": {
      "application/vnd.jupyter.widget-view+json": {
       "model_id": "",
       "version_major": 2,
       "version_minor": 0
      },
      "text/plain": [
       "  ... working at frequency = 402.0 Hz:   0%|          | 0/100 [00:00<?, ?it/s]"
      ]
     },
     "metadata": {},
     "output_type": "display_data"
    },
    {
     "data": {
      "application/vnd.jupyter.widget-view+json": {
       "model_id": "",
       "version_major": 2,
       "version_minor": 0
      },
      "text/plain": [
       "  ... working at frequency = 502.0 Hz:   0%|          | 0/100 [00:00<?, ?it/s]"
      ]
     },
     "metadata": {},
     "output_type": "display_data"
    },
    {
     "data": {
      "application/vnd.jupyter.widget-view+json": {
       "model_id": "",
       "version_major": 2,
       "version_minor": 0
      },
      "text/plain": [
       "  ... working at frequency = 602.0 Hz:   0%|          | 0/100 [00:00<?, ?it/s]"
      ]
     },
     "metadata": {},
     "output_type": "display_data"
    },
    {
     "data": {
      "application/vnd.jupyter.widget-view+json": {
       "model_id": "",
       "version_major": 2,
       "version_minor": 0
      },
      "text/plain": [
       "  ... working at frequency = 702.0 Hz:   0%|          | 0/100 [00:00<?, ?it/s]"
      ]
     },
     "metadata": {},
     "output_type": "display_data"
    },
    {
     "data": {
      "application/vnd.jupyter.widget-view+json": {
       "model_id": "",
       "version_major": 2,
       "version_minor": 0
      },
      "text/plain": [
       "  ... working at frequency = 802.0 Hz:   0%|          | 0/100 [00:00<?, ?it/s]"
      ]
     },
     "metadata": {},
     "output_type": "display_data"
    },
    {
     "data": {
      "application/vnd.jupyter.widget-view+json": {
       "model_id": "",
       "version_major": 2,
       "version_minor": 0
      },
      "text/plain": [
       "  ... working at frequency = 902.0 Hz:   0%|          | 0/100 [00:00<?, ?it/s]"
      ]
     },
     "metadata": {},
     "output_type": "display_data"
    },
    {
     "data": {
      "application/vnd.jupyter.widget-view+json": {
       "model_id": "",
       "version_major": 2,
       "version_minor": 0
      },
      "text/plain": [
       "  ... working at frequency = 1002.0 Hz:   0%|          | 0/100 [00:00<?, ?it/s]"
      ]
     },
     "metadata": {},
     "output_type": "display_data"
    },
    {
     "data": {
      "application/vnd.jupyter.widget-view+json": {
       "model_id": "",
       "version_major": 2,
       "version_minor": 0
      },
      "text/plain": [
       "  ... working at frequency = 1102.0 Hz:   0%|          | 0/100 [00:00<?, ?it/s]"
      ]
     },
     "metadata": {},
     "output_type": "display_data"
    },
    {
     "data": {
      "application/vnd.jupyter.widget-view+json": {
       "model_id": "",
       "version_major": 2,
       "version_minor": 0
      },
      "text/plain": [
       "  ... working at frequency = 1202.0 Hz:   0%|          | 0/100 [00:00<?, ?it/s]"
      ]
     },
     "metadata": {},
     "output_type": "display_data"
    },
    {
     "data": {
      "application/vnd.jupyter.widget-view+json": {
       "model_id": "",
       "version_major": 2,
       "version_minor": 0
      },
      "text/plain": [
       "  ... working at frequency = 1302.0 Hz:   0%|          | 0/100 [00:00<?, ?it/s]"
      ]
     },
     "metadata": {},
     "output_type": "display_data"
    },
    {
     "data": {
      "application/vnd.jupyter.widget-view+json": {
       "model_id": "",
       "version_major": 2,
       "version_minor": 0
      },
      "text/plain": [
       "  ... working at frequency = 1402.0 Hz:   0%|          | 0/100 [00:00<?, ?it/s]"
      ]
     },
     "metadata": {},
     "output_type": "display_data"
    },
    {
     "data": {
      "application/vnd.jupyter.widget-view+json": {
       "model_id": "",
       "version_major": 2,
       "version_minor": 0
      },
      "text/plain": [
       "  ... working at frequency = 1502.0 Hz:   0%|          | 0/100 [00:00<?, ?it/s]"
      ]
     },
     "metadata": {},
     "output_type": "display_data"
    },
    {
     "data": {
      "application/vnd.jupyter.widget-view+json": {
       "model_id": "",
       "version_major": 2,
       "version_minor": 0
      },
      "text/plain": [
       "  ... working at frequency = 1602.0 Hz:   0%|          | 0/100 [00:00<?, ?it/s]"
      ]
     },
     "metadata": {},
     "output_type": "display_data"
    },
    {
     "data": {
      "application/vnd.jupyter.widget-view+json": {
       "model_id": "",
       "version_major": 2,
       "version_minor": 0
      },
      "text/plain": [
       "  ... working at frequency = 1702.0 Hz:   0%|          | 0/100 [00:00<?, ?it/s]"
      ]
     },
     "metadata": {},
     "output_type": "display_data"
    },
    {
     "data": {
      "application/vnd.jupyter.widget-view+json": {
       "model_id": "",
       "version_major": 2,
       "version_minor": 0
      },
      "text/plain": [
       "  ... working at frequency = 1802.0 Hz:   0%|          | 0/100 [00:00<?, ?it/s]"
      ]
     },
     "metadata": {},
     "output_type": "display_data"
    },
    {
     "data": {
      "application/vnd.jupyter.widget-view+json": {
       "model_id": "",
       "version_major": 2,
       "version_minor": 0
      },
      "text/plain": [
       "  ... working at frequency = 1902.0 Hz:   0%|          | 0/100 [00:00<?, ?it/s]"
      ]
     },
     "metadata": {},
     "output_type": "display_data"
    },
    {
     "data": {
      "application/vnd.jupyter.widget-view+json": {
       "model_id": "",
       "version_major": 2,
       "version_minor": 0
      },
      "text/plain": [
       "  ... working at frequency = 2002.0 Hz:   0%|          | 0/100 [00:00<?, ?it/s]"
      ]
     },
     "metadata": {},
     "output_type": "display_data"
    },
    {
     "data": {
      "application/vnd.jupyter.widget-view+json": {
       "model_id": "",
       "version_major": 2,
       "version_minor": 0
      },
      "text/plain": [
       "  ... working at frequency = 2102.0 Hz:   0%|          | 0/100 [00:00<?, ?it/s]"
      ]
     },
     "metadata": {},
     "output_type": "display_data"
    },
    {
     "data": {
      "application/vnd.jupyter.widget-view+json": {
       "model_id": "",
       "version_major": 2,
       "version_minor": 0
      },
      "text/plain": [
       "  ... working at frequency = 2202.0 Hz:   0%|          | 0/100 [00:00<?, ?it/s]"
      ]
     },
     "metadata": {},
     "output_type": "display_data"
    },
    {
     "data": {
      "application/vnd.jupyter.widget-view+json": {
       "model_id": "",
       "version_major": 2,
       "version_minor": 0
      },
      "text/plain": [
       "  ... working at frequency = 2302.0 Hz:   0%|          | 0/100 [00:00<?, ?it/s]"
      ]
     },
     "metadata": {},
     "output_type": "display_data"
    },
    {
     "data": {
      "application/vnd.jupyter.widget-view+json": {
       "model_id": "",
       "version_major": 2,
       "version_minor": 0
      },
      "text/plain": [
       "  ... working at frequency = 2402.0 Hz:   0%|          | 0/100 [00:00<?, ?it/s]"
      ]
     },
     "metadata": {},
     "output_type": "display_data"
    },
    {
     "data": {
      "application/vnd.jupyter.widget-view+json": {
       "model_id": "",
       "version_major": 2,
       "version_minor": 0
      },
      "text/plain": [
       "  ... working at frequency = 2502.0 Hz:   0%|          | 0/100 [00:00<?, ?it/s]"
      ]
     },
     "metadata": {},
     "output_type": "display_data"
    },
    {
     "data": {
      "application/vnd.jupyter.widget-view+json": {
       "model_id": "",
       "version_major": 2,
       "version_minor": 0
      },
      "text/plain": [
       "  ... working at frequency = 2602.0 Hz:   0%|          | 0/100 [00:00<?, ?it/s]"
      ]
     },
     "metadata": {},
     "output_type": "display_data"
    },
    {
     "data": {
      "application/vnd.jupyter.widget-view+json": {
       "model_id": "",
       "version_major": 2,
       "version_minor": 0
      },
      "text/plain": [
       "  ... working at frequency = 2702.0 Hz:   0%|          | 0/100 [00:00<?, ?it/s]"
      ]
     },
     "metadata": {},
     "output_type": "display_data"
    },
    {
     "data": {
      "application/vnd.jupyter.widget-view+json": {
       "model_id": "",
       "version_major": 2,
       "version_minor": 0
      },
      "text/plain": [
       "  ... working at frequency = 2802.0 Hz:   0%|          | 0/100 [00:00<?, ?it/s]"
      ]
     },
     "metadata": {},
     "output_type": "display_data"
    },
    {
     "data": {
      "application/vnd.jupyter.widget-view+json": {
       "model_id": "",
       "version_major": 2,
       "version_minor": 0
      },
      "text/plain": [
       "  ... working at frequency = 2902.0 Hz:   0%|          | 0/100 [00:00<?, ?it/s]"
      ]
     },
     "metadata": {},
     "output_type": "display_data"
    },
    {
     "data": {
      "application/vnd.jupyter.widget-view+json": {
       "model_id": "",
       "version_major": 2,
       "version_minor": 0
      },
      "text/plain": [
       "  ... working at frequency = 3002.0 Hz:   0%|          | 0/100 [00:00<?, ?it/s]"
      ]
     },
     "metadata": {},
     "output_type": "display_data"
    },
    {
     "data": {
      "application/vnd.jupyter.widget-view+json": {
       "model_id": "",
       "version_major": 2,
       "version_minor": 0
      },
      "text/plain": [
       "  ... working at frequency = 3102.0 Hz:   0%|          | 0/100 [00:00<?, ?it/s]"
      ]
     },
     "metadata": {},
     "output_type": "display_data"
    },
    {
     "data": {
      "application/vnd.jupyter.widget-view+json": {
       "model_id": "",
       "version_major": 2,
       "version_minor": 0
      },
      "text/plain": [
       "  ... working at frequency = 3202.0 Hz:   0%|          | 0/100 [00:00<?, ?it/s]"
      ]
     },
     "metadata": {},
     "output_type": "display_data"
    },
    {
     "data": {
      "application/vnd.jupyter.widget-view+json": {
       "model_id": "",
       "version_major": 2,
       "version_minor": 0
      },
      "text/plain": [
       "  ... working at frequency = 3302.0 Hz:   0%|          | 0/100 [00:00<?, ?it/s]"
      ]
     },
     "metadata": {},
     "output_type": "display_data"
    },
    {
     "data": {
      "application/vnd.jupyter.widget-view+json": {
       "model_id": "",
       "version_major": 2,
       "version_minor": 0
      },
      "text/plain": [
       "  ... working at frequency = 3402.0 Hz:   0%|          | 0/100 [00:00<?, ?it/s]"
      ]
     },
     "metadata": {},
     "output_type": "display_data"
    },
    {
     "data": {
      "application/vnd.jupyter.widget-view+json": {
       "model_id": "",
       "version_major": 2,
       "version_minor": 0
      },
      "text/plain": [
       "  ... working at frequency = 3502.0 Hz:   0%|          | 0/100 [00:00<?, ?it/s]"
      ]
     },
     "metadata": {},
     "output_type": "display_data"
    },
    {
     "data": {
      "application/vnd.jupyter.widget-view+json": {
       "model_id": "",
       "version_major": 2,
       "version_minor": 0
      },
      "text/plain": [
       "  ... working at frequency = 3602.0 Hz:   0%|          | 0/100 [00:00<?, ?it/s]"
      ]
     },
     "metadata": {},
     "output_type": "display_data"
    },
    {
     "data": {
      "application/vnd.jupyter.widget-view+json": {
       "model_id": "",
       "version_major": 2,
       "version_minor": 0
      },
      "text/plain": [
       "  ... working at frequency = 3702.0 Hz:   0%|          | 0/100 [00:00<?, ?it/s]"
      ]
     },
     "metadata": {},
     "output_type": "display_data"
    },
    {
     "data": {
      "application/vnd.jupyter.widget-view+json": {
       "model_id": "",
       "version_major": 2,
       "version_minor": 0
      },
      "text/plain": [
       "  ... working at frequency = 3802.0 Hz:   0%|          | 0/100 [00:00<?, ?it/s]"
      ]
     },
     "metadata": {},
     "output_type": "display_data"
    },
    {
     "data": {
      "application/vnd.jupyter.widget-view+json": {
       "model_id": "",
       "version_major": 2,
       "version_minor": 0
      },
      "text/plain": [
       "  ... working at frequency = 3902.0 Hz:   0%|          | 0/100 [00:00<?, ?it/s]"
      ]
     },
     "metadata": {},
     "output_type": "display_data"
    },
    {
     "data": {
      "application/vnd.jupyter.widget-view+json": {
       "model_id": "",
       "version_major": 2,
       "version_minor": 0
      },
      "text/plain": [
       "  ... working at frequency = 4002.0 Hz:   0%|          | 0/100 [00:00<?, ?it/s]"
      ]
     },
     "metadata": {},
     "output_type": "display_data"
    },
    {
     "data": {
      "application/vnd.jupyter.widget-view+json": {
       "model_id": "",
       "version_major": 2,
       "version_minor": 0
      },
      "text/plain": [
       "  ... working at frequency = 4102.0 Hz:   0%|          | 0/100 [00:00<?, ?it/s]"
      ]
     },
     "metadata": {},
     "output_type": "display_data"
    },
    {
     "data": {
      "application/vnd.jupyter.widget-view+json": {
       "model_id": "",
       "version_major": 2,
       "version_minor": 0
      },
      "text/plain": [
       "  ... working at frequency = 4202.0 Hz:   0%|          | 0/100 [00:00<?, ?it/s]"
      ]
     },
     "metadata": {},
     "output_type": "display_data"
    },
    {
     "data": {
      "application/vnd.jupyter.widget-view+json": {
       "model_id": "",
       "version_major": 2,
       "version_minor": 0
      },
      "text/plain": [
       "  ... working at frequency = 4302.0 Hz:   0%|          | 0/100 [00:00<?, ?it/s]"
      ]
     },
     "metadata": {},
     "output_type": "display_data"
    },
    {
     "data": {
      "application/vnd.jupyter.widget-view+json": {
       "model_id": "",
       "version_major": 2,
       "version_minor": 0
      },
      "text/plain": [
       "  ... working at frequency = 4402.0 Hz:   0%|          | 0/100 [00:00<?, ?it/s]"
      ]
     },
     "metadata": {},
     "output_type": "display_data"
    },
    {
     "data": {
      "application/vnd.jupyter.widget-view+json": {
       "model_id": "",
       "version_major": 2,
       "version_minor": 0
      },
      "text/plain": [
       "  ... working at frequency = 4502.0 Hz:   0%|          | 0/100 [00:00<?, ?it/s]"
      ]
     },
     "metadata": {},
     "output_type": "display_data"
    },
    {
     "data": {
      "application/vnd.jupyter.widget-view+json": {
       "model_id": "",
       "version_major": 2,
       "version_minor": 0
      },
      "text/plain": [
       "  ... working at frequency = 4602.0 Hz:   0%|          | 0/100 [00:00<?, ?it/s]"
      ]
     },
     "metadata": {},
     "output_type": "display_data"
    },
    {
     "data": {
      "application/vnd.jupyter.widget-view+json": {
       "model_id": "",
       "version_major": 2,
       "version_minor": 0
      },
      "text/plain": [
       "  ... working at frequency = 4702.0 Hz:   0%|          | 0/100 [00:00<?, ?it/s]"
      ]
     },
     "metadata": {},
     "output_type": "display_data"
    },
    {
     "data": {
      "application/vnd.jupyter.widget-view+json": {
       "model_id": "",
       "version_major": 2,
       "version_minor": 0
      },
      "text/plain": [
       "  ... working at frequency = 4802.0 Hz:   0%|          | 0/100 [00:00<?, ?it/s]"
      ]
     },
     "metadata": {},
     "output_type": "display_data"
    },
    {
     "data": {
      "application/vnd.jupyter.widget-view+json": {
       "model_id": "",
       "version_major": 2,
       "version_minor": 0
      },
      "text/plain": [
       "  ... working at frequency = 4902.0 Hz:   0%|          | 0/100 [00:00<?, ?it/s]"
      ]
     },
     "metadata": {},
     "output_type": "display_data"
    },
    {
     "data": {
      "application/vnd.jupyter.widget-view+json": {
       "model_id": "",
       "version_major": 2,
       "version_minor": 0
      },
      "text/plain": [
       "  ... working at frequency = 5002.0 Hz:   0%|          | 0/100 [00:00<?, ?it/s]"
      ]
     },
     "metadata": {},
     "output_type": "display_data"
    },
    {
     "data": {
      "application/vnd.jupyter.widget-view+json": {
       "model_id": "",
       "version_major": 2,
       "version_minor": 0
      },
      "text/plain": [
       "  ... working at frequency = 5102.0 Hz:   0%|          | 0/100 [00:00<?, ?it/s]"
      ]
     },
     "metadata": {},
     "output_type": "display_data"
    },
    {
     "data": {
      "application/vnd.jupyter.widget-view+json": {
       "model_id": "",
       "version_major": 2,
       "version_minor": 0
      },
      "text/plain": [
       "  ... working at frequency = 5202.0 Hz:   0%|          | 0/100 [00:00<?, ?it/s]"
      ]
     },
     "metadata": {},
     "output_type": "display_data"
    },
    {
     "data": {
      "application/vnd.jupyter.widget-view+json": {
       "model_id": "",
       "version_major": 2,
       "version_minor": 0
      },
      "text/plain": [
       "  ... working at frequency = 5302.0 Hz:   0%|          | 0/100 [00:00<?, ?it/s]"
      ]
     },
     "metadata": {},
     "output_type": "display_data"
    },
    {
     "data": {
      "application/vnd.jupyter.widget-view+json": {
       "model_id": "",
       "version_major": 2,
       "version_minor": 0
      },
      "text/plain": [
       "  ... working at frequency = 5402.0 Hz:   0%|          | 0/100 [00:00<?, ?it/s]"
      ]
     },
     "metadata": {},
     "output_type": "display_data"
    },
    {
     "data": {
      "application/vnd.jupyter.widget-view+json": {
       "model_id": "",
       "version_major": 2,
       "version_minor": 0
      },
      "text/plain": [
       "  ... working at frequency = 5502.0 Hz:   0%|          | 0/100 [00:00<?, ?it/s]"
      ]
     },
     "metadata": {},
     "output_type": "display_data"
    },
    {
     "data": {
      "application/vnd.jupyter.widget-view+json": {
       "model_id": "",
       "version_major": 2,
       "version_minor": 0
      },
      "text/plain": [
       "  ... working at frequency = 5602.0 Hz:   0%|          | 0/100 [00:00<?, ?it/s]"
      ]
     },
     "metadata": {},
     "output_type": "display_data"
    },
    {
     "data": {
      "application/vnd.jupyter.widget-view+json": {
       "model_id": "",
       "version_major": 2,
       "version_minor": 0
      },
      "text/plain": [
       "  ... working at frequency = 5702.0 Hz:   0%|          | 0/100 [00:00<?, ?it/s]"
      ]
     },
     "metadata": {},
     "output_type": "display_data"
    },
    {
     "data": {
      "application/vnd.jupyter.widget-view+json": {
       "model_id": "",
       "version_major": 2,
       "version_minor": 0
      },
      "text/plain": [
       "  ... working at frequency = 5802.0 Hz:   0%|          | 0/100 [00:00<?, ?it/s]"
      ]
     },
     "metadata": {},
     "output_type": "display_data"
    },
    {
     "data": {
      "application/vnd.jupyter.widget-view+json": {
       "model_id": "",
       "version_major": 2,
       "version_minor": 0
      },
      "text/plain": [
       "  ... working at frequency = 5902.0 Hz:   0%|          | 0/100 [00:00<?, ?it/s]"
      ]
     },
     "metadata": {},
     "output_type": "display_data"
    },
    {
     "data": {
      "application/vnd.jupyter.widget-view+json": {
       "model_id": "",
       "version_major": 2,
       "version_minor": 0
      },
      "text/plain": [
       "  ... working at frequency = 6002.0 Hz:   0%|          | 0/100 [00:00<?, ?it/s]"
      ]
     },
     "metadata": {},
     "output_type": "display_data"
    },
    {
     "data": {
      "application/vnd.jupyter.widget-view+json": {
       "model_id": "",
       "version_major": 2,
       "version_minor": 0
      },
      "text/plain": [
       "  ... working at frequency = 6102.0 Hz:   0%|          | 0/100 [00:00<?, ?it/s]"
      ]
     },
     "metadata": {},
     "output_type": "display_data"
    },
    {
     "data": {
      "application/vnd.jupyter.widget-view+json": {
       "model_id": "",
       "version_major": 2,
       "version_minor": 0
      },
      "text/plain": [
       "  ... working at frequency = 6202.0 Hz:   0%|          | 0/100 [00:00<?, ?it/s]"
      ]
     },
     "metadata": {},
     "output_type": "display_data"
    },
    {
     "data": {
      "application/vnd.jupyter.widget-view+json": {
       "model_id": "",
       "version_major": 2,
       "version_minor": 0
      },
      "text/plain": [
       "  ... working at frequency = 6302.0 Hz:   0%|          | 0/100 [00:00<?, ?it/s]"
      ]
     },
     "metadata": {},
     "output_type": "display_data"
    },
    {
     "data": {
      "application/vnd.jupyter.widget-view+json": {
       "model_id": "",
       "version_major": 2,
       "version_minor": 0
      },
      "text/plain": [
       "  ... working at frequency = 6402.0 Hz:   0%|          | 0/100 [00:00<?, ?it/s]"
      ]
     },
     "metadata": {},
     "output_type": "display_data"
    },
    {
     "data": {
      "application/vnd.jupyter.widget-view+json": {
       "model_id": "",
       "version_major": 2,
       "version_minor": 0
      },
      "text/plain": [
       "  ... working at frequency = 6502.0 Hz:   0%|          | 0/100 [00:00<?, ?it/s]"
      ]
     },
     "metadata": {},
     "output_type": "display_data"
    },
    {
     "data": {
      "application/vnd.jupyter.widget-view+json": {
       "model_id": "",
       "version_major": 2,
       "version_minor": 0
      },
      "text/plain": [
       "  ... working at frequency = 6602.0 Hz:   0%|          | 0/100 [00:00<?, ?it/s]"
      ]
     },
     "metadata": {},
     "output_type": "display_data"
    },
    {
     "data": {
      "application/vnd.jupyter.widget-view+json": {
       "model_id": "",
       "version_major": 2,
       "version_minor": 0
      },
      "text/plain": [
       "  ... working at frequency = 6702.0 Hz:   0%|          | 0/100 [00:00<?, ?it/s]"
      ]
     },
     "metadata": {},
     "output_type": "display_data"
    },
    {
     "data": {
      "application/vnd.jupyter.widget-view+json": {
       "model_id": "",
       "version_major": 2,
       "version_minor": 0
      },
      "text/plain": [
       "  ... working at frequency = 6802.0 Hz:   0%|          | 0/100 [00:00<?, ?it/s]"
      ]
     },
     "metadata": {},
     "output_type": "display_data"
    },
    {
     "data": {
      "application/vnd.jupyter.widget-view+json": {
       "model_id": "",
       "version_major": 2,
       "version_minor": 0
      },
      "text/plain": [
       "  ... working at frequency = 6902.0 Hz:   0%|          | 0/100 [00:00<?, ?it/s]"
      ]
     },
     "metadata": {},
     "output_type": "display_data"
    },
    {
     "data": {
      "application/vnd.jupyter.widget-view+json": {
       "model_id": "",
       "version_major": 2,
       "version_minor": 0
      },
      "text/plain": [
       "  ... working at frequency = 7002.0 Hz:   0%|          | 0/100 [00:00<?, ?it/s]"
      ]
     },
     "metadata": {},
     "output_type": "display_data"
    },
    {
     "data": {
      "application/vnd.jupyter.widget-view+json": {
       "model_id": "",
       "version_major": 2,
       "version_minor": 0
      },
      "text/plain": [
       "  ... working at frequency = 7102.0 Hz:   0%|          | 0/100 [00:00<?, ?it/s]"
      ]
     },
     "metadata": {},
     "output_type": "display_data"
    },
    {
     "data": {
      "application/vnd.jupyter.widget-view+json": {
       "model_id": "",
       "version_major": 2,
       "version_minor": 0
      },
      "text/plain": [
       "  ... working at frequency = 7202.0 Hz:   0%|          | 0/100 [00:00<?, ?it/s]"
      ]
     },
     "metadata": {},
     "output_type": "display_data"
    },
    {
     "data": {
      "application/vnd.jupyter.widget-view+json": {
       "model_id": "",
       "version_major": 2,
       "version_minor": 0
      },
      "text/plain": [
       "  ... working at frequency = 7302.0 Hz:   0%|          | 0/100 [00:00<?, ?it/s]"
      ]
     },
     "metadata": {},
     "output_type": "display_data"
    },
    {
     "data": {
      "application/vnd.jupyter.widget-view+json": {
       "model_id": "",
       "version_major": 2,
       "version_minor": 0
      },
      "text/plain": [
       "  ... working at frequency = 7402.0 Hz:   0%|          | 0/100 [00:00<?, ?it/s]"
      ]
     },
     "metadata": {},
     "output_type": "display_data"
    },
    {
     "data": {
      "application/vnd.jupyter.widget-view+json": {
       "model_id": "",
       "version_major": 2,
       "version_minor": 0
      },
      "text/plain": [
       "  ... working at frequency = 7502.0 Hz:   0%|          | 0/100 [00:00<?, ?it/s]"
      ]
     },
     "metadata": {},
     "output_type": "display_data"
    },
    {
     "data": {
      "application/vnd.jupyter.widget-view+json": {
       "model_id": "",
       "version_major": 2,
       "version_minor": 0
      },
      "text/plain": [
       "  ... working at frequency = 7602.0 Hz:   0%|          | 0/100 [00:00<?, ?it/s]"
      ]
     },
     "metadata": {},
     "output_type": "display_data"
    },
    {
     "data": {
      "application/vnd.jupyter.widget-view+json": {
       "model_id": "",
       "version_major": 2,
       "version_minor": 0
      },
      "text/plain": [
       "  ... working at frequency = 7702.0 Hz:   0%|          | 0/100 [00:00<?, ?it/s]"
      ]
     },
     "metadata": {},
     "output_type": "display_data"
    },
    {
     "data": {
      "application/vnd.jupyter.widget-view+json": {
       "model_id": "",
       "version_major": 2,
       "version_minor": 0
      },
      "text/plain": [
       "  ... working at frequency = 7802.0 Hz:   0%|          | 0/100 [00:00<?, ?it/s]"
      ]
     },
     "metadata": {},
     "output_type": "display_data"
    },
    {
     "data": {
      "application/vnd.jupyter.widget-view+json": {
       "model_id": "",
       "version_major": 2,
       "version_minor": 0
      },
      "text/plain": [
       "  ... working at frequency = 7902.0 Hz:   0%|          | 0/100 [00:00<?, ?it/s]"
      ]
     },
     "metadata": {},
     "output_type": "display_data"
    },
    {
     "data": {
      "application/vnd.jupyter.widget-view+json": {
       "model_id": "",
       "version_major": 2,
       "version_minor": 0
      },
      "text/plain": [
       "  ... working at frequency = 8002.0 Hz:   0%|          | 0/100 [00:00<?, ?it/s]"
      ]
     },
     "metadata": {},
     "output_type": "display_data"
    },
    {
     "data": {
      "application/vnd.jupyter.widget-view+json": {
       "model_id": "",
       "version_major": 2,
       "version_minor": 0
      },
      "text/plain": [
       "  ... working at frequency = 8102.0 Hz:   0%|          | 0/100 [00:00<?, ?it/s]"
      ]
     },
     "metadata": {},
     "output_type": "display_data"
    },
    {
     "data": {
      "application/vnd.jupyter.widget-view+json": {
       "model_id": "",
       "version_major": 2,
       "version_minor": 0
      },
      "text/plain": [
       "  ... working at frequency = 8202.0 Hz:   0%|          | 0/100 [00:00<?, ?it/s]"
      ]
     },
     "metadata": {},
     "output_type": "display_data"
    },
    {
     "data": {
      "application/vnd.jupyter.widget-view+json": {
       "model_id": "",
       "version_major": 2,
       "version_minor": 0
      },
      "text/plain": [
       "  ... working at frequency = 8302.0 Hz:   0%|          | 0/100 [00:00<?, ?it/s]"
      ]
     },
     "metadata": {},
     "output_type": "display_data"
    },
    {
     "data": {
      "application/vnd.jupyter.widget-view+json": {
       "model_id": "",
       "version_major": 2,
       "version_minor": 0
      },
      "text/plain": [
       "  ... working at frequency = 8402.0 Hz:   0%|          | 0/100 [00:00<?, ?it/s]"
      ]
     },
     "metadata": {},
     "output_type": "display_data"
    },
    {
     "data": {
      "application/vnd.jupyter.widget-view+json": {
       "model_id": "",
       "version_major": 2,
       "version_minor": 0
      },
      "text/plain": [
       "  ... working at frequency = 8502.0 Hz:   0%|          | 0/100 [00:00<?, ?it/s]"
      ]
     },
     "metadata": {},
     "output_type": "display_data"
    },
    {
     "data": {
      "application/vnd.jupyter.widget-view+json": {
       "model_id": "",
       "version_major": 2,
       "version_minor": 0
      },
      "text/plain": [
       "  ... working at frequency = 8602.0 Hz:   0%|          | 0/100 [00:00<?, ?it/s]"
      ]
     },
     "metadata": {},
     "output_type": "display_data"
    },
    {
     "data": {
      "application/vnd.jupyter.widget-view+json": {
       "model_id": "",
       "version_major": 2,
       "version_minor": 0
      },
      "text/plain": [
       "  ... working at frequency = 8702.0 Hz:   0%|          | 0/100 [00:00<?, ?it/s]"
      ]
     },
     "metadata": {},
     "output_type": "display_data"
    },
    {
     "data": {
      "application/vnd.jupyter.widget-view+json": {
       "model_id": "",
       "version_major": 2,
       "version_minor": 0
      },
      "text/plain": [
       "  ... working at frequency = 8802.0 Hz:   0%|          | 0/100 [00:00<?, ?it/s]"
      ]
     },
     "metadata": {},
     "output_type": "display_data"
    },
    {
     "data": {
      "application/vnd.jupyter.widget-view+json": {
       "model_id": "",
       "version_major": 2,
       "version_minor": 0
      },
      "text/plain": [
       "  ... working at frequency = 8902.0 Hz:   0%|          | 0/100 [00:00<?, ?it/s]"
      ]
     },
     "metadata": {},
     "output_type": "display_data"
    },
    {
     "data": {
      "application/vnd.jupyter.widget-view+json": {
       "model_id": "",
       "version_major": 2,
       "version_minor": 0
      },
      "text/plain": [
       "  ... working at frequency = 9002.0 Hz:   0%|          | 0/100 [00:00<?, ?it/s]"
      ]
     },
     "metadata": {},
     "output_type": "display_data"
    },
    {
     "data": {
      "application/vnd.jupyter.widget-view+json": {
       "model_id": "",
       "version_major": 2,
       "version_minor": 0
      },
      "text/plain": [
       "  ... working at frequency = 9102.0 Hz:   0%|          | 0/100 [00:00<?, ?it/s]"
      ]
     },
     "metadata": {},
     "output_type": "display_data"
    },
    {
     "data": {
      "application/vnd.jupyter.widget-view+json": {
       "model_id": "",
       "version_major": 2,
       "version_minor": 0
      },
      "text/plain": [
       "  ... working at frequency = 9202.0 Hz:   0%|          | 0/100 [00:00<?, ?it/s]"
      ]
     },
     "metadata": {},
     "output_type": "display_data"
    },
    {
     "data": {
      "application/vnd.jupyter.widget-view+json": {
       "model_id": "",
       "version_major": 2,
       "version_minor": 0
      },
      "text/plain": [
       "  ... working at frequency = 9302.0 Hz:   0%|          | 0/100 [00:00<?, ?it/s]"
      ]
     },
     "metadata": {},
     "output_type": "display_data"
    },
    {
     "data": {
      "application/vnd.jupyter.widget-view+json": {
       "model_id": "",
       "version_major": 2,
       "version_minor": 0
      },
      "text/plain": [
       "  ... working at frequency = 9402.0 Hz:   0%|          | 0/100 [00:00<?, ?it/s]"
      ]
     },
     "metadata": {},
     "output_type": "display_data"
    },
    {
     "data": {
      "application/vnd.jupyter.widget-view+json": {
       "model_id": "",
       "version_major": 2,
       "version_minor": 0
      },
      "text/plain": [
       "  ... working at frequency = 9502.0 Hz:   0%|          | 0/100 [00:00<?, ?it/s]"
      ]
     },
     "metadata": {},
     "output_type": "display_data"
    },
    {
     "data": {
      "application/vnd.jupyter.widget-view+json": {
       "model_id": "",
       "version_major": 2,
       "version_minor": 0
      },
      "text/plain": [
       "  ... working at frequency = 9602.0 Hz:   0%|          | 0/100 [00:00<?, ?it/s]"
      ]
     },
     "metadata": {},
     "output_type": "display_data"
    },
    {
     "data": {
      "application/vnd.jupyter.widget-view+json": {
       "model_id": "",
       "version_major": 2,
       "version_minor": 0
      },
      "text/plain": [
       "  ... working at frequency = 9702.0 Hz:   0%|          | 0/100 [00:00<?, ?it/s]"
      ]
     },
     "metadata": {},
     "output_type": "display_data"
    },
    {
     "data": {
      "application/vnd.jupyter.widget-view+json": {
       "model_id": "",
       "version_major": 2,
       "version_minor": 0
      },
      "text/plain": [
       "  ... working at frequency = 9802.0 Hz:   0%|          | 0/100 [00:00<?, ?it/s]"
      ]
     },
     "metadata": {},
     "output_type": "display_data"
    },
    {
     "data": {
      "application/vnd.jupyter.widget-view+json": {
       "model_id": "",
       "version_major": 2,
       "version_minor": 0
      },
      "text/plain": [
       "  ... working at frequency = 9902.0 Hz:   0%|          | 0/100 [00:00<?, ?it/s]"
      ]
     },
     "metadata": {},
     "output_type": "display_data"
    },
    {
     "data": {
      "application/vnd.jupyter.widget-view+json": {
       "model_id": "4a4bec473a92474c8d20c6edf3b6ee57",
       "version_major": 2,
       "version_minor": 0
      },
      "text/plain": [
       "  ... working at frequency = 10002.0 Hz:   0%|          | 0/100 [00:00<?, ?it/s]"
      ]
     },
     "metadata": {},
     "output_type": "display_data"
    },
    {
     "name": "stdout",
     "output_type": "stream",
     "text": [
      "\n",
      "\n",
      "self.frequency_array.shape[0] = 101 is same as self.wavenumer_array.shape[0] = 101\n",
      "Save file to /Users/chenghunglin/Documents/sin_3_4_05_vol.xlsx\n"
     ]
    }
   ],
   "source": [
    "sin_3_4_05_vol = anechoic_sound_absorption(determinant, frequency_array,\n",
    "                              fp = '/Users/chenghunglin/Documents/', \n",
    "                              fn = 'sin_3_4_05_vol.xlsx', \n",
    "                              material='rubber', shape='sin', \n",
    "                              p=3e-3, q=4e-3, lh=40e-3, cell_radius=15e-3, \n",
    "                              theta=0.5, phi=3e-3, length_unit='m',\n",
    "                              num_segments=100, layer_density=1100, air_density=1.21, \n",
    "                              Young_modulus=0.14e9, Poisson_ratio=0.49, loss_factor=0.23, \n",
    "                              medium_density=998, sound_speed_medium=1483, \n",
    "                              use_volume=True)"
   ]
  },
  {
   "cell_type": "code",
   "execution_count": null,
   "metadata": {},
   "outputs": [],
   "source": []
  },
  {
   "cell_type": "code",
   "execution_count": 10,
   "metadata": {},
   "outputs": [
    {
     "name": "stdout",
     "output_type": "stream",
     "text": [
      "self.frequency_array.shape[0] = 101 is same as self.wavenumer_array.shape[0] = 101\n"
     ]
    },
    {
     "data": {
      "text/plain": [
       "<matplotlib.legend.Legend at 0x1532cbcb0>"
      ]
     },
     "execution_count": 10,
     "metadata": {},
     "output_type": "execute_result"
    },
    {
     "data": {
      "application/vnd.jupyter.widget-view+json": {
       "model_id": "f895d0b71d364c6b8ea448c36588bbb3",
       "version_major": 2,
       "version_minor": 0
      },
      "image/png": "[encoded data removed]",
      "text/html": [
       "\n",
       "            <div style=\"display: inline-block;\">\n",
       "                <div class=\"jupyter-widgets widget-label\" style=\"text-align: center;\">\n",
       "                    Figure\n",
       "                </div>\n",
       "                <img src='data:image/png;base64,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' width=640.0/>\n",
       "            </div>\n",
       "        "
      ],
      "text/plain": [
       "Canvas(toolbar=Toolbar(toolitems=[('Home', 'Reset original view', 'home', 'home'), ('Back', 'Back to previous …"
      ]
     },
     "metadata": {},
     "output_type": "display_data"
    }
   ],
   "source": [
    "plt.figure()\n",
    "plt.plot(sin_3_4_05_vol.frequency_array, sin_3_4_05_vol.absorption_frequency(), label='sin, p=3, q=4, fr100, seg100, vol')\n",
    "# plt.plot(cone_4_8.frequency_array, cone_4_8.absorption_frequency(), label='cone, p=4, q=8, Young=0.14 Gpa')\n",
    "# plt.plot(cone_4_8_3.frequency_array, cone_4_8_3.absorption_frequency(), '--', color='orange', label='cone, p=4, q=8, Young=0.014 Gpa')\n",
    "# plt.plot(horn_1_11.frequency_array, horn_1_11.absorption_frequency(), label='horn, p=1, q=11, seg=50, fr=50')\n",
    "# plt.plot(horn_1_11_seg100.frequency_array, horn_1_11_seg100.absorption_frequency(), label='horn, p=1, q=11, seg=100, fr=50')\n",
    "# plt.plot(horn_1_11_fr20.frequency_array, horn_1_11_fr20.absorption_frequency(), label='horn, p=1, q=11, seg=100, fr=20')\n",
    "plt.legend()"
   ]
  },
  {
   "cell_type": "code",
   "execution_count": null,
   "metadata": {},
   "outputs": [],
   "source": []
  },
  {
   "cell_type": "markdown",
   "metadata": {},
   "source": [
    "### Example 01-1: compare using effective radius"
   ]
  },
  {
   "cell_type": "code",
   "execution_count": 11,
   "metadata": {},
   "outputs": [
    {
     "data": {
      "application/vnd.jupyter.widget-view+json": {
       "model_id": "009594e5969749b3910da417c4e0259b",
       "version_major": 2,
       "version_minor": 0
      },
      "image/png": "[encoded data removed]",
      "text/html": [
       "\n",
       "            <div style=\"display: inline-block;\">\n",
       "                <div class=\"jupyter-widgets widget-label\" style=\"text-align: center;\">\n",
       "                    Figure\n",
       "                </div>\n",
       "                <img src='data:image/png;base64,iVBORw0KGgoAAAANSUhEUgAAAoAAAAHgCAYAAAA10dzkAAAAOXRFWHRTb2Z0d2FyZQBNYXRwbG90bGliIHZlcnNpb24zLjkuMSwgaHR0cHM6Ly9tYXRwbG90bGliLm9yZy/TGe4hAAAACXBIWXMAAA9hAAAPYQGoP6dpAABhu0lEQVR4nO3deXhTVcI/8G/2dEu6J20pbWmhpewUKUWgqFAQFdefuAyvOjOOvMy8CsyMivoK6gjoOG6D6KviMjOO+r6DOC5sRQXRtqwtlLaUrUBpm+5NuiZtcn5/VCKhCy20Tcr9fp4nz9Pce+7NuadN8805954rE0IIEBEREZFkyN1dASIiIiIaWAyARERERBLDAEhEREQkMQyARERERBLDAEhEREQkMQyARERERBLDAEhEREQkMQyARERERBLDAEhEREQkMQyARERERBLDAEhEREQkMQyARERERBLDAEhEREQkMQyARERERBLDAEhEREQkMQyARERERBLDAEhEREQkMQyARERERBLDAEhEREQkMQyARERERBLDAEhEREQkMQyARERERBLDAEhEREQkMQyARERERBLDAEhEREQkMQyARERERBLDAEhEREQkMQyARERERBLDAEhEREQkMQyARERERBLDAEhEREQkMQyARERERBLDAEg0CJw6dQoymcz5mDlzZqflPvjgA5dyK1eu7JPXX7lypct+T5061Sf7vZj6+nqsXr0aU6ZMgb+/P1QqFUJCQpCQkIDrr78ey5cvx7Zt2zpsd35d77///gGpq9TNnDnT2ebR0dHurg4RXYTS3RUgIupMcXExZs6ciZMnT7osr6qqQlVVFQoLC7FlyxZkZmYiLS3NTbUkIhqcGACJyCP95je/cQl/MTExiI+Ph0KhwJkzZ1BQUIC2tjY31pDOl5qaiuDgYABAaGiom2tDRBfDAEhEHqeiogJbt251Pl+6dClefvlllzJmsxlfffUVDh8+PNDVo04888wz7q4CEfUCzwEkkpiWlhasW7cO1157LYKDg6FSqRAUFIQZM2bg1VdfRVNT0yXtt6CgAIsXL0ZCQgJ8fX3h5eWFhIQELF26FGfPnu3Vvk6ePAkhhPP5jBkzOpTR6/W49957sXr16ovur66uDkuXLsXQoUOh0WgwYsQIvPTSSy6vAbSfc/inP/0Jt956KxISEhASEgKVSgWdToexY8fikUce6TAkDQA7duxwOe/wgw8+QE5ODm655RYEBQXB29sbKSkp+Pzzz7usY3FxMf74xz9i3Lhx0Ol00Gq1GDZsGB588EEUFhZe9Bh7Uqfe2Lt3L+69914MGzYMXl5e8PLywtChQzFt2jQsXbq0w7mX3Z0DeP/997vURQiBd999F0lJSfDy8kJwcDDuvfdelJaW9vo4iegSCSLyeEVFRQKA85Gamtppuffff9+l3IoVK1zWFxcXizFjxriUufARHx8vTp486bLdihUrXMoUFRW5rH/rrbeESqXqcp/+/v7iu+++6/Hx7tu3z2X74cOHi48++khUVFT0aPvzt73uuutEbGxsp/V6+umnXbY7duxYt20DQPj4+IgffvjBZbvvvvvOpcyCBQuEWq3udPtXXnmlQ33//e9/C19f3y5fU6PRiI8//rjH7ddZnd5///0eb7tt2zahVCq7bYfrrrvOZZvU1FTnuqioKJd19913n8u2d955Z5d/e83Nzb06TiK6NBwCJhqE8vLycMcdd3RYfvr06S63EULgtttuQ25urnOZ0WjE2LFjkZ+f7+ylKywsxPz585GdnQ2l8uL/IrZt24b//M//dPam+fj4ICUlBQCwa9cuWK1W1NXV4dZbb0Vubi6GDBly0X2OHj0aOp0OFosFAHDs2DHce++9AICoqChMnToV8+bNw2233QZvb+9u9/XNN98AAJKSkiCXy7F3717nupdeegl//OMf4evr67KNwWBAVFQUQkJCAABnzpzB4cOHIYRAY2Mjfv3rXyM/Px8ymazT1/z000/h5eWFa665BpWVlS7D1H/84x8xa9YsjB49GgCQm5uLBQsWoKWlBQCgVquRkpICrVaLjIwM1NfXw2q14r777kN8fDwmTJhw0fa7XC+88ILz/EqFQoEpU6YgMDAQpaWlKCoqQk1NzWXt/3//938RFhaGUaNGITMzE42NjQDa//b++c9/4pe//OVlHwMRXYSbAygR9cCFPYA9fZzfA/j555+7rJs2bZpoaGgQQgjR3NwsZs+e7bL+o48+cm7bXQ/gpEmTnMvj4uJEeXm5c11+fr7QarXO9UuWLOnxMb/88ssXPT6j0Si++uqrDtteWO711193rvvNb37jsu78nsnGxkZRUFDQaX3WrVvnst3hw4ed6y7sbfPx8RG5ubnO9Y8++qjL+t/85jfOdXfccYdzeWBgoDh69KhzXVlZmTAYDM71t9xyS4/b73J6ABMSEpzbPf/88y7rHA6HyMrK6tAj2ZsewOnTp4vGxkYhhBAZGRku6+67774e15OILh17AIkkYvPmzS7Pn376afj4+AAAtFotnnnmGaSnpzvXb9myBffcc0+3+6yoqMC+ffucz2UyGRYvXuxSRqVSOXu3Nm/ejFdeeaVH9V26dCkCAwPx5JNPoqSkpNMyJpMJt912Gw4cOIBRo0Z1WiYqKgq//e1vnc/nzZuHt99+2/m8rKzM+bO3tzccDgcWL16MXbt24fTp02hsbITD4eiw36NHj3b5mvfee6+zhw8AnnrqKbz22muwWq0AgO+++w4A4HA4sGXLFmc5Ly8vLF++3GVf5/cypqenw263Q6FQdPq655s5c2aHcxx7Ki4uDkeOHAEA/OMf/4C/vz9GjhyJhIQEhIWFITk5GcnJyZe0b6B9XslzPbcpKSnw9/dHXV0dANffBxH1HwZAokEoNTUVO3bs6LD8gw8+wAMPPNDpNmfOnHF5fmF4ufB5d8PJ51w4IfSxY8dw7NixLstfWIeLue+++/CLX/wCu3btwrfffotdu3YhIyMDNpvNWcZms+Htt9/Ga6+91uk+xo0bB7n85+vdLhzuPRfKAGDr1q2YP3++y/67cm54ujMXtqWfnx+GDh3qbJvi4mIA7XMaNjQ0OMuVlJRgw4YNXe63sbER1dXV/T7NyuOPP47NmzfDbrejoKDAJUCHh4fjpptuwhNPPIGhQ4de0v4vHMb29fV1BsDzfx9E1H94FTCRRFzYG9TV+WuXs8+LaW5u7vVrKBQKzJw5E88++yy+++47VFZWYtGiRS5ljh492uX2AQEBHfbXlUceecQl/MXExODGG2/E7bff3uFK5O6O/WJte279pfTQXepV2r1x9dVXY8+ePfjlL3+J6Ohol+MpLS3F//zP/yA1NbXbENyd3vxOiKh/MAASSURUVJTL87y8vG6f96R358J9/uY3v4EQottHT7S0tMBsNne6TqfT4emnn3ZZ1pOLVS6mpqbGZbqVm266CSdOnMCXX36Jf/3rX/jP//zPHu/rwrZsaGhw9voBcF4IExwc7ByGB4C0tLSLtt9A3WZt4sSJWL9+PYqKitDQ0IDc3FyXuf5OnTqFTZs2DUhdiKjvMQASScTcuXNdnj/33HPO3iSr1dphIt8Ly3fGaDS6DOf94x//6HRo+vjx43juuefw1ltv9aiuJpMJ0dHRWL58eadz4G3cuNHleUJCQo/2253W1laX515eXs6er+rqaqxZs6bH+/roo4+Qn5/vfL5q1SrneZAAnPdyVigULrex2759Oz7++OMO+yspKcErr7yC5557rsd1uJx5AN9//318++23sNvtANrPjRw9erTzSuxzenKaABF5Jp4DSCQR8+fPx8SJE3HgwAEAwPfff4+4uDjnNDDn91AlJibizjvv7NF+n3vuOdx0000QQqCpqQnXXHMNxo4di6ioKDQ3N6OwsNC57xUrVvS4vnV1dVizZg3WrFmDiIgIJCQkwNvbGydOnHAJVzKZDL/4xS96vN+uGAwGDB061Hme4v/+7//i6NGjMBgM2L17d5c9kp1paGjAVVddhSlTpqCystJl6h2FQoH/+q//cj5/+umn8fXXX8Nms8HhcOCee+7BypUrMXz4cLS1teH48ePOibHvu+++yz7OntiwYQO+/vpr6HQ6REdHIyIiAna7HVlZWS7l4uLiBqQ+RNT3GACJJEIul2Pjxo2YN2+ec4iyrKysw1WXw4cPxxdffAGVStWj/d5www1Yu3YtlixZ4uxFO3ToEA4dOtShbE/P9brwHLqSkpJOrwSWyWT485//jHHjxvVovxezZs0alyufc3JyALTPzffUU0/1uAfuV7/6Ff75z3/i22+/7fQ1xowZ43w+fvx4fPzxx7jvvvucF4QcPXq00/MaB/pcOYvF0uXvcvr06bj55psHtD5E1Hc4BEwkIUOHDsXevXvx17/+FampqQgMDIRSqURAQACuvvpq/OUvf8GBAwcQGxvbq/0uXrwYubm5ePjhhzFmzBj4+flBoVAgICAASUlJ+O1vf4vNmzfjiSee6NH+oqKicPz4cbz55pv4f//v/2HcuHEICwuDSqWCt7c3RowYgfvvvx9ZWVn4/e9/fylN0am7774bn3/+OSZPngyNRgO9Xo85c+Zg165duPbaa3u8n2nTpmHv3r249dZbERgYCC8vLyQnJ2PDhg34wx/+0KH8bbfdhoKCAixfvhyTJk2CXq+HQqFw3oLul7/8Jf71r3/hzTff7LNj7c7TTz+N//7v/8Y111yD6Oho+Pr6QqlUIjg4GDNmzMBrr72G9PT0Pjn3kojcQyYudaIoIiIC0H6+3TXXXON8/v777+P+++93X4WIiC6CPYBEREREEsMASERERCQxDIBEREREEjNoAuC6desQExMDrVaLpKQk7Nq1q9vyO3fuRFJSErRaLYYNG9Zh/rHPPvsMkyZNgr+/P3x8fDB+/Hj8/e9/789DIKIr1Ln77p578Pw/IvJ0gyIAfvrpp1iyZAmefPJJZGdnY/r06bj++uu7vK9oUVER5s2bh+nTpyM7OxtPPPEEHn74YZd7bJ67yXxmZiYOHTqEBx54AA888AC2bt06UIdFRERE5BaD4irg5ORkTJw40WUKhJEjR+KWW27B6tWrO5R/7LHH8MUXX6CgoMC5bNGiRTh48CAyMzO7fJ2JEyfihhtu6NVs+0RERESDjcf3ANpsNuzfv9/ldklA+z0zMzIyOt0mMzOzQ/k5c+Zg3759HW73BLTfkP2bb75BYWFhhxu+ExEREV1pPH4Wz6qqKtjtdhgMBpflBoMBJpOp021MJlOn5dva2lBVVYWwsDAAgNlsRkREBKxWKxQKBdatW4fZs2d3WRer1Qqr1ep87nA4UFNTg6CgoA53LiAiIiLPJIRAfX09wsPDIZd7fF9Yv/D4AHjOhQFLCNFt6Oqs/IXL/fz8kJOTg4aGBnzzzTdYtmwZhg0b5rxR+4VWr16NZ5555hKPgIiIiDxJcXExhgwZ4u5quIXHB8Dg4GAoFIoOvX0VFRUdevnOMRqNnZZXKpUICgpyLpPL5c6bmY8fPx4FBQVYvXp1lwFw+fLlWLZsmfO52WzG0KFDUVxcDJ1OdymHR0RERAPMYrEgMjISfn5+7q6K23h8AFSr1UhKSkJ6ejpuvfVW5/L09PQub0SekpKCL7/80mXZtm3bMGnSpG5vcC+EcBnivZBGo4FGo+mwXKfTMQASERENMlI+fcvjAyAALFu2DAsXLsSkSZOQkpKCt99+G2fOnMGiRYsAtPfMlZSU4G9/+xuA9it+165di2XLluHBBx9EZmYm1q9fj48//ti5z9WrV2PSpEmIjY2FzWbDpk2b8Le//W3AbrZORERE5C6DIgAuWLAA1dXVePbZZ1FWVobRo0dj06ZNiIqKAgCUlZW5zAkYExODTZs2YenSpXjjjTcQHh6O119/HbfffruzTGNjIxYvXoyzZ8/Cy8sLCQkJ+Mc//oEFCxYM+PERERERDaRBMQ+gp7JYLNDr9TCbzRwCJiIiGiT4+T1IegCJiDyN3W7vdF5RInI/hUIBpVIp6XP8LoYBkIiolxoaGnD27FlwAIXIc3l7eyMsLAxqtdrdVfFIDIBERL1gt9tx9uxZeHt7IyQkhD0MRB5GCAGbzYbKykoUFRVh+PDhkp3suTsMgEREvdDa2gohBEJCQuDl5eXu6hBRJ7y8vKBSqXD69GnYbDZotVp3V8njMBITEV0C9vwReTb2+nWPrUNEREQkMQyARERERBLDAEhEREQkMQyAREREdFGvvfYaYmJi4O3tjVtuuQVms9ndVaLLwABIRER9Zt26dYiJiYFWq0VSUhJ27drVJ9tdbP2bb76JsWPHQqfTQafTISUlBZs3b+6z47oc7mqT861evRoymQxLliy5pGN44oknsHbtWnz44Yf44YcfkJ2djWeeeeaS9gX0vk1WrlwJmUzm8jAajZf8+gRA0CUzm80CgDCbze6uChENkObmZpGfny+am5vdXRWP88knnwiVSiXeeecdkZ+fLx555BHh4+MjTp8+fVnb9WS/X3zxhfj6669FYWGhKCwsFE888YRQqVTi8OHD/XrMF+PONjlnz549Ijo6WowdO1Y88sgjvT6GPXv2CLlcLvbv3+9c9vzzz4vhw4f3el+9rfs5K1asEKNGjRJlZWXOR0VFRbev0917lZ/fQjAAXgb+ARFJz2AOgKmpqeK3v/2t+O1vfyv0er0IDAwUTz75pHA4HH2y/8mTJ4tFixa5LEtISBCPP/74ZW13qfsNCAgQ7777bk+rL4QQoqGhQSxcuFD4+PgIo9EoXnrpJZGamnpJwUkI97dJfX29GD58uEhPT7/k47jzzjvFrFmzXJa9/fbbIiAgoNf7EuLS2mTFihVi3LhxvXodBsDucQiYiOgyCCHQZGtzy0Ncwq3oPvzwQyiVSuzevRuvv/46XnnlFbz77rsAgFWrVsHX17fbR1dDdTabDfv370daWprL8rS0NGRkZHRZn4ttdyn7tdvt+OSTT9DY2IiUlJSLtsn5/vjHP+K7777Dxo0bsW3bNuzYsQP79+93KdPTdvKENvntb3+LG264AbNmzepVO5xjtVrx5Zdf4tZbb3VZ3tzcDL1eD6B3fzeX2iYAcOzYMYSHhyMmJgZ33XUXTp48eUnHRO14JxAiosvQ3GpH4tNb3fLa+c/Ogbe6d//GIyMj8corr0AmkyE+Ph65ubl45ZVX8OCDD2LRokW48847u90+IiKi0+VVVVWw2+0wGAwuyw0GA0wmU5f7u9h2vdlvbm4uUlJS0NLSAl9fX2zcuBGJiYndHs/5GhoasH79evztb3/D7NmzAbQH5iFDhriU62k7ubtNPvnkExw4cAB79+7ttq7dOXDgAJqbm/H73/8ejz76qHN5a2srrrnmGgA9b4+eHFtXkpOT8be//Q0jRoxAeXk5/vSnP2Hq1KnIy8tDUFDQpR6epDEAEhFJyJQpU1zuYpKSkoK//OUvsNvtCAwMRGBg4GXt/8I7pAghenTXlItt15P9xsfHIycnB3V1ddiwYQPuu+8+7Ny5s8ch8MSJE7DZbC69hoGBgYiPj3cp19N2qq2t7XHdO3M5bVJcXIxHHnkE27Ztu6zboB09ehRarRa5ubkuy+fPn4+rr74aQM/b43y9bZPrr7/e+fOYMWOQkpKC2NhYfPjhh1i2bFmvXpvaMQASEV0GL5UC+c/Ocdtr96VVq1Zh1apV3ZbZvHkzpk+f3mF5cHAwFApFh16cioqKDr09vdmuN/tVq9WIi4sDAEyaNAl79+7Fa6+9hv/5n//p9pjO6emQek/bKTk52W1tsn//flRUVCApKcm53m634/vvv8fatWthtVqhUFz878disSA0NNTZrgBw5swZHDlyBLfffjuA3v3dXOrfyYV8fHwwZswYHDt2rMfbkCsGQCKiyyCTyXo9DOtOWVlZHZ4PHz4cCoXisoaA1Wo1kpKSkJ6e7nK+WHp6Om6++eYu93ex7S51v0B7oLNard2WOV9cXBxUKhWysrIwdOhQAO29eEePHkVqaqqzXE/byZ1tct1113XotXvggQeQkJCAxx57rEfhD2gPoxaLxaWH7vnnn8e8efOcPau9+bu5nN/n+axWKwoKCjr9MkI95J5rT64MvIqISHoG+1XAvr6+YunSpeLIkSPin//8p/Dx8RFvvfVWn+z/3PQe69evF/n5+WLJkiXCx8dHnDp1ylnmr3/9q7j22mt7tV1P9rt8+XLx/fffi6KiInHo0CHxxBNPCLlcLrZt29arY1i0aJEYOnSo2L59u8jNzRXz588Xvr6+l3wVsDvb5EKXchWwyWQSWq1WrFq1ShQVFYnnn39eGI1GcebMmV7tpzfHJkTHNvn9738vduzYIU6ePCmysrLEjTfeKPz8/Lo9Xl4F3D0GwMvAPyAi6RnsAXDx4sVi0aJFQqfTiYCAAPH444/32TQwQgjxxhtviKioKKFWq8XEiRPFzp07XdavWLFCREVF9Xq7i63/5S9/6VwfEhIirrvuug7h7/333xcX6/eor68Xv/jFL4S3t7cwGAzixRdfvKxpYHpS9/5qkwt1dhw9aZNPPvlEREZGCi8vL3HDDTeI48ePd1u+J3rbJgsWLBBhYWFCpVKJ8PBwcdttt4m8vLxuX4MBsHsyIS5hHgEC0H5uhF6vh9lshk6nc3d1iGgAtLS0oKioyHkXg8Fk5syZGD9+PF599VV3V8UtVq5ciR07dmDHjh292u5KbrdLbZPBoLv3Kj+/eQ4gERFJxNatW/Haa6+5uxoehW0iXQyAREQkCZmZme6ugsdhm0gXAyARkURcicN8A4HtRlci3gqOiIiISGIYAImIiIgkhgGQiIiISGIYAImIiIgkhgGQiOgScApVIs/G92j3GACJiHrh3D1UbTabm2tCRN1pamoCAKhUKjfXxDNxGhgiol5QKpXw9vZGZWUlVCoV5HJ+jybyJEIINDU1oaKiAv7+/s4vbeSKAZCIqBdkMhnCwsJQVFSE06dPu7s6RNQFf39/GI1Gd1fDYzEAEhH1klqtxvDhwzkMTOShVCoVe/4uggGQiOgSyOXyDjeYJyIaLHjyChEREZHEMAASERERSQwDIBEREZHEMAASERERSQwDIBEREZHEMAASERERSQwDIBEREZHEMAASERERSQwDIBEREZHEMAASERERSQwDIBEREZHEMAASERERSQwDIBEREZHEMAASERERSQwDIBEREZHEMAASERERSQwDIBEREZHEMAASERERScygCYDr1q1DTEwMtFotkpKSsGvXrm7L79y5E0lJSdBqtRg2bBjeeustl/XvvPMOpk+fjoCAAAQEBGDWrFnYs2dPfx4CERERkUcYFAHw008/xZIlS/Dkk08iOzsb06dPx/XXX48zZ850Wr6oqAjz5s3D9OnTkZ2djSeeeAIPP/wwNmzY4CyzY8cO3H333fjuu++QmZmJoUOHIi0tDSUlJQN1WERERERuIRNCCHdX4mKSk5MxceJEvPnmm85lI0eOxC233ILVq1d3KP/YY4/hiy++QEFBgXPZokWLcPDgQWRmZnb6Gna7HQEBAVi7di3+4z/+o0f1slgs0Ov1MJvN0Ol0vTwqIiIicgd+fg+CHkCbzYb9+/cjLS3NZXlaWhoyMjI63SYzM7ND+Tlz5mDfvn1obW3tdJumpia0trYiMDCwy7pYrVZYLBaXBxEREdFg4/EBsKqqCna7HQaDwWW5wWCAyWTqdBuTydRp+ba2NlRVVXW6zeOPP46IiAjMmjWry7qsXr0aer3e+YiMjOzl0RARERG5n8cHwHNkMpnLcyFEh2UXK9/ZcgB48cUX8fHHH+Ozzz6DVqvtcp/Lly+H2Wx2PoqLi3tzCEREREQeQenuClxMcHAwFApFh96+ioqKDr185xiNxk7LK5VKBAUFuSx/6aWXsGrVKmzfvh1jx47tti4ajQYajeYSjoKIiIjIc3h8D6BarUZSUhLS09Ndlqenp2Pq1KmdbpOSktKh/LZt2zBp0iSoVCrnsj//+c947rnnsGXLFkyaNKnvK09ERETkgTw+AALAsmXL8O677+K9995DQUEBli5dijNnzmDRokUA2odmz79yd9GiRTh9+jSWLVuGgoICvPfee1i/fj3+8Ic/OMu8+OKLeOqpp/Dee+8hOjoaJpMJJpMJDQ0NA358RERERAPJ44eAAWDBggWorq7Gs88+i7KyMowePRqbNm1CVFQUAKCsrMxlTsCYmBhs2rQJS5cuxRtvvIHw8HC8/vrruP32251l1q1bB5vNhjvuuMPltVasWIGVK1cOyHERERERucOgmAfQU3EeISIiosGHn9+DZAiYiIiIiPoOAyARERGRxDAAEhEREUkMAyARERGRxDAAEhEREUkMAyARERGRxDAAEhEREUkMAyARERGRxDAAEhEREUkMAyARERGRxDAAEhEREUkMAyARERGRxDAAEhEREUkMAyARERGRxDAAEhEREUkMAyARERGRxDAAEhEREUkMAyARERGRxDAAEhEREUkMAyARERGRxDAAEhEREUkMAyARERGRxCjdXQHqWpOtzd1VICIichtvNWNKf2HLerDEp7e6uwpERERuc2rNDe6uwhWLQ8AeqMnWhujHv3Z3NYiIiNwq+vGvORrWT9gD6OH2PXUdu8D7id1uR2ZGJgAgZWoKFAqFm2tERERAe0fIpD994+5qXNGYLDyct1rJANhP7HYZNEoZgPZ2ZgAkIiKp4BAwERERkcQwABIRERFJDAMgERERkcQwABIRERFJDAMgERERkcTw8lKSLLlcjsTEROfPREREUsEASJIlk8kQEhLi7moQERENOHZ7EBEREUkMewBJsoQQqKqqAgAEBwdDJpO5uUZEREQDgz2AJFkOhwP5+fnIz8+Hw+Fwd3WIiIgGDAMgERERkcQwABIRERFJDAMgERERkcQwABIRERFJDAMgERERkcQwABIRERFJDOcBJMmSyWSIj493/kxERCQVDIAkWXK5HEaj0d3VICIiGnAcAiYiIiKSGPYAkmQJIVBTUwMACAwM5DAwERFJBnsASbIcDgcOHz6Mw4cP81ZwREQkKQyARERERBLDAEhEREQkMYMmAK5btw4xMTHQarVISkrCrl27ui2/c+dOJCUlQavVYtiwYXjrrbdc1ufl5eH2229HdHQ0ZDIZXn311X6sPREREZHnGBQB8NNPP8WSJUvw5JNPIjs7G9OnT8f111+PM2fOdFq+qKgI8+bNw/Tp05GdnY0nnngCDz/8MDZs2OAs09TUhGHDhmHNmjWcCoSIiIgkZVAEwJdffhm/+tWv8Otf/xojR47Eq6++isjISLz55pudln/rrbcwdOhQvPrqqxg5ciR+/etf45e//CVeeuklZ5mrrroKf/7zn3HXXXdBo9EM1KEQERERuZ3HB0CbzYb9+/cjLS3NZXlaWhoyMjI63SYzM7ND+Tlz5mDfvn1obW3tt7oSERERDQYePw9gVVUV7HY7DAaDy3KDwQCTydTpNiaTqdPybW1tqKqqQlhY2CXVxWq1wmq1Op9bLJZL2g95BplMhri4OOfPREREUuHxPYDnXPgBLYTo9kO7s/KdLe+N1atXQ6/XOx+RkZGXvC9yP7lcjoiICEREREAuHzRvBSIiosvm8Z96wcHBUCgUHXr7KioqOvTynWM0Gjstr1QqERQUdMl1Wb58Ocxms/NRXFx8yfsiIiIichePD4BqtRpJSUlIT093WZ6eno6pU6d2uk1KSkqH8tu2bcOkSZOgUqkuuS4ajQY6nc7lQYOXEAJ1dXWoq6tz9hATERFJgccHQABYtmwZ3n33Xbz33nsoKCjA0qVLcebMGSxatAhAe8/cf/zHfzjLL1q0CKdPn8ayZctQUFCA9957D+vXr8cf/vAHZxmbzYacnBzk5OTAZrOhpKQEOTk5OH78+IAfH7mHw+HAwYMHcfDgQd4KjoiIJMXjLwIBgAULFqC6uhrPPvssysrKMHr0aGzatAlRUVEAgLKyMpc5AWNiYrBp0yYsXboUb7zxBsLDw/H666/j9ttvd5YpLS3FhAkTnM9feuklvPTSS0hNTcWOHTsG7NiIiIiIBtqgCIAAsHjxYixevLjTdR988EGHZampqThw4ECX+4uOjuawHxEREUnSoBgCJiIiIqK+wwBIREREJDEMgEREREQSwwBIREREJDGD5iIQor4mk8kwbNgw589ERERSwQBIkiWXy3k7PyIikiQOARMRERFJDHsASbKEEKivrwcA+Pn5cRiYiIgkgz2AJFkOhwPZ2dnIzs7mreCIiEhSGACJiIiIJIYBkIiIiEhiGACJiIiIJIYBkIiIiEhiGACJiIiIJIYBkIiIiEhiOA8gSZZMJkNUVJTzZyIiIqlgACTJksvliI6Odnc1iIiIBhyHgImIiIgkhj2AJFlCCDQ1NQEAvL29OQxMRESSwR5AkiyHw4F9+/Zh3759vBUcERFJCgMgERERkcQwABIRERFJDAMgERERkcQwABIRERFJDAMgERERkcQwABIRERFJDOcBJMmSyWQYMmSI82ciIiKpYAAkyZLL5YiNjXV3NYiIiAYch4CJiIiIJIY9gCRZQghYrVYAgEaj6fNh4Da7A9WNNlTWW1Hf0oZWuwO2NgfaHA5olAp4qRXwVivgp1XBqNPCS63o09eny2Nts6O0rgWldc2obbKhoaUN9S1taLLZoZADcrkMSrkM3molgnzUCPLVIMhXjQh/L2hV/F26W6vdgTM1TThV1YiKeiuqG6yoarDB0tyKNoeAXQjY7QJqpRx+WiX8tCrovJSI8PfCkABvRAZ6IcS37/8vUM8IIZw/n6pqQmK4zo21uTIxAJJkORwO7N69GwAwbdo0KBSX9qFd1WDFobN1OFregBMVDThR2YDT1U2oabLhvP9hF+Xv3R4EY4J9MMLgh3hj+yMmyAdyOT+E+ovdIXCsoh55JRYUlFmQX2bBicoGlFusl7Q/uQyICPDCsGBfxIX6YuwQPSZEBiAy0Ithop+0tNqRW2JGzpk65BTX4YjJgtPVTWhz9OIN2AlfjRKJYTqMitBhVLgek6ICEBXE+4b3h7omG/YU1WBPUQ1yS8zIKzU716XnlzMA9gMGQKJeEELgRGUDfjxejb2napBTXIeztc1dlpfLgGBfDfy0SqiVCqgVMigVcljb7Giy2dFis6OuuRVNNjvqmlpR19SKI6Z6bD5scu7D31uFiUMDkBQVgMkxgRgf6Q+VgmdvXCqHQ+BwqRmZJ6qxp6gGe0/VwNLS1mlZL5UCEQFeCPJRw0+rhK9GCS+1EkII2B0CbQ6BRmsbqhttqG6worLeikabHcU1zSiuacbOo5XOfQV4qzApOhBXxwZh2vBgxIb4Mkhcoja7AwfPmvHDsSrsOlaJnOK6TsOel0qBmGAfhOm1CPJVI9hXA72XCkqFHEq5DHK5DNZWO+pb2tBgbUNtkw0ltc04W9uMMnMzGqxt2HOqBntO1Tj3adRpMWVYIFJig3BNfChCddqBPPQrRqvdgf2na/HtkQp8f7QSheX1XX5h9tUyqvQHtirRRZibW7HzaCV2HKnAjyeqOvQMyWRAbIgvRobpEBfii9hQH8QE+8Cg0yLAWw3FRXrvhBCwtLTBZG4fbjxR2YBCUz2OltejsLwedU2t+PZIBb49UgEA8NMokRIbhOkjQnBtQigi/L367divFObmVnx/tBLfFVZgZ2ElqhttLut91AqMitAjMUyHxDAdRhj9MDTQGwHeql6FNCEEqhpsOFnZgJNVjThSZkHOWTMKSi2obWpFen450vPLAQAGnQbXJoRidqIBU2ODOWx8EY3WNuw8Won0/HJ8U1DeIbSH+GkwIdIfE4YGYHSEDrEhvjDqtJfce25rc+BkVQPySizIK7Xg0Nk6HDxbB5OlBZ/nlOLznFIAwNghelybEIq0RCNGhvkx1HejpdWOHYUV2JRrwo7Cig6/w9gQHyQPC8KESH/EhvjitjczAAB3T450R3WveDIhejNIReezWCzQ6/Uwm83Q6fque7rJ1obEp7cCAPKfnQNvNXN6f7Db7fjhhx8AdBwCLqlrxpbDJmzPL8feUzUuvQtqpRxXRQcgZVgQJgwNwJgheui0qn6pY6vdgfxSC/afrsX+07XIPFmNmgvCy+gIHdISjUgbZUC8gR9A51Q3WJGeX47Nh03IOFGFVvvPv0NfjRJThgVhyrBATI4JRGKYDsp+7FW1ttmRX2pB5slqZByvxp5TNbC1OZzrvVQKpI4IwQ1jw3DdyFC+53/SaG3D9oJyfHmwDN8fq3RpM72XClfHBWFaXAimxQUPyBB7s82O7DPt78Pvj1XhYHGdy/phwT6YNyYMN4wNQ4KR70WgPUjvKKzAV4fKsL2gHE02u3NdgLcK18SHYmZCKKYMC0So38+9qf39Odhfn9+DCQPgZWAAHNwuDIClZis25ZZh02FTh3/scaG+uG5kKFKHh2BiVIDbemvODV/uOlaFHYUV2He61mXYZFiID2746QNIimHQ3NSKrXkmfHmoFD8er8L5o4Jxob64LiEUM+NDkRQVALXSfcPoLa127C6qwfb8cmwvKEeZucW5TquS47oEA24aF4aZ8aGS6xk8Fxj+fbAU3xSUo6X159AXFeSNOaOMSEs0YMLQgIv2rve3ivoW7DhSifSCcuw86hpQRxh8cfP4CNw8PhxDArzdWMuBJ4TAgTO12Jhdgq8OlaGuqdW5LsLfC/PGGDF3tBHjI7v+HTIA9j8GwMvAADi4nR8AX89TYP+Zn086lsmAq6ICkTbKgNmJBkQF+birmt2qarDi24IKbMs34ftjVS4fQLEhPpg/LgLzx4cjJtgz698Xmmxt2F5QgS9ySrDzaKVLT9/oCB2uHx2GOaOMiAv1dWMtuyaEQF6pBZsPl+GrQ2U4Xd3kXOenUWLuaCNuHh+BlNggtwee/uJwCOz/KTB8fagM5uafA0N0kDduGhfu8V9qGqxt+KagHF8fKsOOwkrY7D+/FydHB+K2iRGYNzas30YLPEFxTRM+O1CCz7LPuvwdh/ppcNO4cNw4NgzjI/179DtkAOx/DICXgQFwcPsoswhDbGcAAA9ua0CbA0iOCcK8sWGYM8rgMhwxGNS3tJ8r+NWhMuy84ANodIQON41t/xC9EnojbG0O7DpWiS8OliI933VYKcHo5/yw8dTg3pVzYfDLg6X48mApSs/rGTz3IXrL+AiMjtB5bBDqjeMVDfg8uwSf55S4XExl0Gkwf1w4bh4fgVHhg+9Yzc2t2HK4DBuzS7C7qMbZS69RyjE70YDbJkZg+vCQK+JirvqWVmw+bMKG/Wexu+jni2W81QrMHW3ErRMiMDU2uNdfXhgA+x8D4GVgABzcDpyqxm1vZQEAnpqXgPkTIgZd6OuKpaUV6Xnl+OJgKX44XgX7eWOhE4f648ax4Zg72ojwQXQBSavdgayT1fjqYBm25JlceomGBnrj5vHhuGlcOEYY/NxYy77jcAjsO12Lz3NKsCnXdRhtWLAPbhwXjvnjwhAXOriOt7SuGV8eLMUXB0uRV2pxLvf9qbfz1gkRmDLsyuntLK1rxr9zSvHZgbM4VtHgXB7oo8ZNY8Nwy4SIHveKeYpWuwM/HKvC5zkl2Jpncg7Ty2TA1Ngg3D5xCOaONl7WZxcDYP9jALwMDICDW6O1FaNWbANwZbdzTaMNm3LL8NWhUpfeCAAYF+mP60e3n1M1LMTzhkhbWu3IOFGFzbkmpBeUu4SgED8NbhgThpvHhw+6D9DesrU5sPNoJf6dU4L0/HJYzxvqTzD64frRYZg72ogRBs+cWqakrhlbD5uw+XAZ9p6qdS5XymVIHRGCWyZEYNZIwxU9GboQAodLLPgs+yy+PFiKqoafL+aKDPTCDWPae609tcfT7hDYd6oGXxwsxabcMtSe/4UkxAe3TxyCWyZE9NmsBAyA/Y8B8DIwAA5uUmzncksLvj5Uhs2HyzpcQBId5I1rEwy4JiEEk6IC3fZhXFLXjB2FFfjuSAV+PF6N5tafh3cDfdSYM8qAm8aFIznmyukl6o0Gaxu255fjy4Ol+P6Y6zmP0UHemJ1owMz4UEyKDoBG6d6LlXYUVmJ7QTkOnTW7rJ8cE4j548Ixb0wYAn3UbqmjO7XZHfjheBU2ZpdgW165y994VJA3Zo00YNZIA66KDujXq9MvxtpmR8bxamzLNyE9v9wltAb7qjFvTBhumzgE44bo+zy0MgD2PwbAy8AAOLid3wOY90wafDRX7snZnamwtGBrfjm2HjZhd1G1S5BQK+QYH+mPKbFBuCo6AGMi9PD37vsPaodD4HRNE/afrsXuk9XYXVSDMzVNLmUMOg3mjGq/anBydKBbPxA9TV2TDdvyy7Etr+NFQF4qBVJi26e6SYoKxOgIXb8FQodD4HhlA/aear+Tw65jVS7TFclkwFXRgZj70+9xMJ160N+abfafzt0txbdHKlx6d/VeKkyNDcLUuGBMjQ3CsGCffu0ddDgEjlU0YNexSvxwvAq7T9a4hFM/rRJzRhkxf1w4psYG9et7kQGw/zFZkGQ5HI5Of5aKUJ0WC6dEYeGUKDRY2/DDsUp8e6QCu45Voczc0uEOCJGBXhgdrkdsiC+igrwRFeSDiAAvBHir4KVSdPnB5HAINNjaJ7ourmlCcU0TTlU3Ib+0/bZrDVbXyWDlMmDC0ABcmxCKmfEhSAzzzCExT+DvrcadkyJx56RINFjbsLPwp8muj1aist7qMoG4WinH2Ag9EsL8MMLQ/ogO8kGIn6bHPalCCNQ2teJsbZNzsvIjpnocOmt2OScTaD+n7+q4IMyMD8WskQaE+Gn6/PivBF5qBW4Y2z51U6O1DbuOVSI9vwLfHilHbVP7BRbn7gwU7KvBuCF6jBmix9ghegwP9UOYXntJQezcvZJPVDS030avuA4Hi+s6TM5s0GkwO9GAOaOMmDIs6Iq4cIXaMQAS0U8n4Idh7ugwCCFwuroJmSerkXWyGgeL63Cqusl5e7POqJVyBHiroFLIIZfJIJO1nzNU39KG+pZWdHdLVo1SjsRwHZJjgpA8LBCTogLgdwVPldFffDVKZ5AQQuCIqR7fH63E3lO1OHCmFjWNNuw7XYt9p2tdtpPL2s+nNOi08FEroVXJoVUpIJfJ0NJqR0ubHc02OyobrCi3WF16Gc/npVJgfKQ/JkUHYFpcMCZGBTAs9JLPee/D9tvd1SHjeDUyTlRj/5laVDVY8c2RCnzzU6gH2s+jjAz0xpAAL/h7q6H3UsLfSw21Ug4hAMdPty00N7eipsmG2kYbyswtOFPT5HJx2DlalRyTY4IwPS4Y04YHc0LrKxgDIBG5kMlkiA72QXSwD+6ePBRA+7QWeSVm5JdZcKq6Eaerm1BU1YhySwta7QK2NkeHW+RdyE+rxNBAb+cj3uiHUeF6xIb4cFi3j8lkMowM02FkmA4Ppbb33J2sasShs3U4Wt6Ao6b22wyWmVtgdwiUW6wX/f2dL9hXjeGhfog3tvckjo5ofy0Gvr6jVMiRFNU+fP9f1w1HS6sdeaVmHDprRm6JGYdLzDhV1QSb3YGiqkYUVTX2+jW81QpEB/kgMVyHcZH+mBDpj3ijH3+PEsEASEQXpfdStZ+HFBfsslwIgUabHbWNNpibW9Fqd/zU2ycAyKD3UkLnpYJOq5LcHS08iUwmQ2yIL2IvuNLb7hCoarDCZG5BRb0Vza12tLTaYW21w+4Q0KoUPz3kCPLVwKjTIlSncdvFJVKmVSmcgfAch0PAZGnBqepGlNa1oK7JBktzK8zNrbDZBWSy9h5euUwGfy8VAnzUCPRRI8RPg2HBvjDoNOzdkzAGQCK6ZDKZDL4aJXw1SvB27YOPQi6DQaeFQXdlzH8pNXK5DOH+Xryohi4J+3mJiIiIJIYBkIiIiEhiGABJss4/94XnwRARkZQwAJJkyeXyTn8mIiK60vFTj4iIiEhiBk0AXLduHWJiYqDVapGUlIRdu3Z1W37nzp1ISkqCVqvFsGHD8NZbb3Uos2HDBiQmJkKj0SAxMREbN27sr+qTBzr/Loi8IyIREUnJoAiAn376KZYsWYInn3wS2dnZmD59Oq6//nqcOXOm0/JFRUWYN28epk+fjuzsbDzxxBN4+OGHsWHDBmeZzMxMLFiwAAsXLsTBgwexcOFC3Hnnndi9e/dAHRa5mdRvBUdERNIlE4Og6yM5ORkTJ07Em2++6Vw2cuRI3HLLLVi9enWH8o899hi++OILFBQUOJctWrQIBw8eRGZmJgBgwYIFsFgs2Lx5s7PM3LlzERAQgI8//rhH9eqvm0mfuwm2WgHsf2pWpzfBlslkLuet2e32DmXOp1D8PHHrlVzW4XB025t3fllzYzPGPfctACDnqWvh56V2KSuXy50Xh1xsvyzbsawQottgff7fMMv2vizQ/XuD/yM6L9ub/xGe8D66kst29/feZGvD+Ge3wy6A/GfndPo5eDn66/N7MPH4iaBtNhv279+Pxx9/3GV5WloaMjIyOt0mMzMTaWlpLsvmzJmD9evXo7W1FSqVCpmZmVi6dGmHMq+++mqXdbFarbBaf75dksVi6eXR9M47ab44sCer03WBgYEYM2aM83lGRkaXbyS9Xo/x48c7n+/evRutra2dlvXz88PEiROdz/fu3etyzOfz9vbGVVdd5Xx+4MABNDU1dVpWo9FgypQpzucHDx5EfX19p2VVKhWmTp3qfJ6bmwuz2dxpWblcjunTpzuf5+XloaamptOyAJCamur8+dixY86f9+zeDY3S9UrgadOmOT8Mjh49ivLy8i73m5KSArW6PUCeOHECpaWlXZZNTk6GVts+8W5RURHOnj3bZdlJkybBx8cHAHDmzBmcPn26y7ITJkxw/iMrKSnByZMnuyw7btw4+Pv7AwDKyspw/PjxLsuOHj0aQUFBAICKigoUFhZ2WTYxMREhISEAgKqqKuTn53dZNj4+HkajEQBQU1ODw4cPd1k2Li4OERERAACz2YyDBw92WXbYsGGIjGyflrq+vh7Z2dldlo2KikJ0dDQAoKmpCfv27euy7JAhQxAbGwug/X9Bd6MF4eHhGD58OACgtbXV+cWzMwaDAQkJCQDaPzx/+OGHLssGBwdj1KhRzufdleX/iHaX8z+ioKAAVVVVXZbl/4h2/fU/IiVciR9K2rpcT5fH44eAq6qqYLfbYTAYXJYbDAaYTKZOtzGZTJ2Wb2trc76ZuyrT1T4BYPXq1dDr9c7HuQ8ZIiIiosHE44eAS0tLERERgYyMDKSkpDiXP//88/j73/+OI0eOdNhmxIgReOCBB7B8+XLnsh9//BHTpk1DWVkZjEYj1Go1PvzwQ9x9993OMh999BF+9atfoaWlpdO6dNYDGBkZySFgDyrLIWDPKesJw6RXclmAQ8CXUpZDwJ5TlkPA7uXxQ8DBwcFQKBQdeuYqKio69OCdYzQaOy2vVCqd3dRdlelqn0D7EIVGo7mUw7gkNnv7P6Pz/yF1pSdlpFC2N/P5nV9WoZB3+zqXul8pl5XJZD3+3bFs78sCnvGeG2xlPeG9wbLtuvt7VygE7B7dPTX4efwQsFqtRlJSEtLT012Wp6enu5wDcr6UlJQO5bdt24ZJkyZBpVJ1W6arfRIRERFdKTy+BxAAli1bhoULF2LSpElISUnB22+/jTNnzmDRokUAgOXLl6OkpAR/+9vfALRf8bt27VosW7YMDz74IDIzM7F+/XqXq3sfeeQRzJgxAy+88AJuvvlm/Pvf/8b27du7Pamariy8FRwREUnVoAiACxYsQHV1NZ599lmUlZVh9OjR2LRpE6KiogC0X6F0/pyAMTEx2LRpE5YuXYo33ngD4eHheP3113H77bc7y0ydOhWffPIJnnrqKfz3f/83YmNj8emnnyI5OXnAj4/cg7eCIyIiqRoUARAAFi9ejMWLF3e67oMPPuiwLDU1FQcOHOh2n3fccQfuuOOOvqgeERER0aDBbg8iIiIiiWEAJMk6f+qIi00jQUREdCVhACQiIiKSGAZAIiIiIokZNBeBEJFnqWuyoczcgtomG2obW1HXbEObXbTP7i8AhVwGP60Sei8VdF4qhPhqEO7vBbWS3zs9QV2TDcU1zTBZWmCytKCy3oomaxta2uxoaXXAIQS0KgW0SgW81HIE+mhg1Glh1Lf/Ho06LadPcqMmWxtOVTXhTE0jTlc3obSuGXXNrTD/9LC1OSCXySCXAXK5DHovFQK91QjwUSPUT4OYYB8MC/HB0EAfvicligGQiLplbmrF4VIzckvMyC+14FR1I05VNcLS0vubtMtlQJjeC5GBXkgw6jAqXIdR4XoMN/hCpeCHUH8QQuBsbTP2n67FobNmHC2vR2F5PSrrrRffuBt+GiWGG3wRb/TDqHA9JkUHYESoH+RyhsK+ZncI5JWasf90LXLPmnGoxIwTlQ3oixu5KuQyxIX4YnykP8ZF+mPCUH/EG/h7lAIGQCJyUVHfgqyTNcg8UY3dJ6txsqqxy7KBPmoEeKsQ4K2Gv7cKGqUCkAFymQwOh4ClpRWWn3okyswtsLY5UFLXjJK6ZmSdrHHuR6uSIykqAMkxQZgyLAjjI/3ZK3EZTOYWfH+0Et8fq8TeUzUot3Qe9kL9NDDqtTDotAj108BXo4RGpYBWJYdcJkNLa3tvYLOtDVUNtvbeQnMLyi0tqLe24cCZOhw4UwegGADgp1UiKSoA0+KCkToiBHGhvuwlvESnqxvx7ZEKZJyoRtbJatR38oUrwFuFoUE+iAr0xpAALwR4q5097hqVHBCAgECbXaCuuRW1jTbUNNlQWteCU1WNOFnZgEabHYU/fSn4dF/77zHIR42pccGYHheMGSNCYNRrB/rwaQAwABJJnN0hkH2mFt8eqcC3RypwxFTfoUxkoBfGRvhjVIQOsSG+iA7ywdBAb3ipe34PViEEKhusKK5pwqmqJuSXWXC4xIz8MgvqW9rw4/Fq/Hi8GgDgo1Zg2vBgXBMfimsSQmHQ8QOoOw6HQM7ZOmzNM2HHkUoUlrv+DpVyGUaF6zBhaAASw3QYYfTD8FBf+Ggu7SPA1uZAUVVje3AwWZBTXIfsM3Wob2nDjsJK7CisxJ++LkC4XovU+FDMHW1EyrAghvpuCCGQU1yH9PxypOeX41hFg8t6P60Sk6MDMXaIP8YO0WN0hB4hfpd3b3ohBMotVhw6W4eDZ+ucv8fqRhu+PFiKLw+WAgDGRfojLdGAOaOMiAv1vazXJM/BAEiSJeVbwVnb7Mg4Xo3Nh8uQnl+O2qZW5zqZDBhp1CElNggpw4KQFBWAAB/1Zb+mTCZDqJ8WoX5aJEUF4tx9eRwOgeOVDdh9shpZRTXYfbIaVQ02bM0rx9a8cgDA+Eh/XD/aiOtHh2FokPdl1+VKYHcI7D1Vg68PlWFbvsmll08mA8YN8ceMESFI+alHtTdh/WLUSjnijX6IN/oB48IBAG12BwrK6rG7qBrfH6tC1slqlJpb8PGeM/h4zxn4aZWYNdKAeWPCMGNEcHtvscQJIXC4xIKvDpXiq0NlKKlrdq5TyGWYHB2I6SOCcXVsMEaF66Ds49MkZDIZjHotjHoj0kYZAbSH+5ziOvxwrBLfH6vCwbN1OFjc/vjz1kLEG/wwf3w45o8LR2Qg34uDmUyIvjiLQJosFgv0ej3MZjN0Ol2f7bfJ1obEp7cCAPKfnQNvNXN6f5BaO9vaHPjheCW+Otge+uqtPw8p6bRKpMaH4rqEUMwYEYLAPgh8l8rhEMgrteDbIxX4rrACB8/WuZzrNDpCh5vGhuPGceGI8PdyWz3dQQiB7OI6fHmwFF8fKkPFeefx+WqUuCYhFLMTDZgeF9wnof1yNNvsyCqqxvb89iBf1fBzXXVaJa4fHYb548MxZVgQFBI736y4pgkbs0vweXaJyykW3moFrkkIRVqiATNHhELvrXJjLdtV1Ldge34FtuaZkHGiCq32n9+ME4b647YJEbhxbHif/7319//n/vr8HkwYAC8DA+DgVt/SijErtwG4ctvZ7hDIOlmNLw+WYvNhE8zNP/f0hfppMGeUEdePNmJyTGCf9y70lQpLC7bmmbD5sAm7i2pgd/z8L2tSVADmjw/HvDFhCPa9vOEwT3aisgH/zi7Bvw+W4nR1k3O5TqvEnFFGzBsThqlxQR7bq3buNINNuSZ8nVvq0ltp0Glw8/gI3DI+AiPD/K7Y3nhzUyu+zi3DZwfOYt/pWudyjVKO60aG4sax4bgmPrRPe2r7mrmpFVvyyvDFwVJknqjGubeiSiHDtQmhuG3iEFwTH9onQ/0MgP2PAfAyMAAObjsKK3D/+3sBALeMD8ctEyJwdVzwoL8a1eEQOHCmtr2XKNfk0vMS4qfBDWPCcMPYMCQNDRh0V/pVN1ixJc+ELw+WYndRjbNnUCGXYVpcMOaPC0faKAP8tO7vOblc5ZYWfHmwFP/OKUVuidm53FutwKyRBswfF47pg3Ao1e4Q2FNUgy8OlmJTbpnLl5J4gx9umRCBm8eHI/wK6N21tTmw82glNmafxfb8CtjsDgDtV8NfHReMW8ZHYM5oI3wv8VxMd6qwtOCLg6X47EAJ8ssszuWBPmrMHxeOO5KGYFS47pIDPQNg/2MAvAwMgIPbpkMlUFUdgxDA775thM0O+HurkJZowPVjwnB1bPCgOWn93NDgVwfLsCm3DCZLi3Odv7cK148Ow03jwpAcc+UMt5VbWvDVofbeiIPFdc7laqUc18SH4KZx4bg2IXRQvX+qG6zYmleOrw6VIvNktUvAnTE8GLdMiMDsRMOgOqbu2Noc2FFYgc9zSrC9oAK2NodzXXJMIG4eH4G5o41uPSWht859AduYXYKvc8tQd975tQlGP9w2MQLzx0VcUVfWFpRZsDG7BBuzS1ymFxoe6otbJ0bg5vERvT5dgwGw/zEAXgYGwMHNbrfjhx9+AAB8WxuIrw+bUNVgc6730ypxXUIorhtpQGp8CHQe1qtka3Mg62Q1tuWbsD2/wiX0+WqUSEs04Kbx4Zh2BfRqXsypqkZ8cbAUXxwsxfHzrp7UquRIHRGCuaONuDbBAL2XZ/0OgfaelPSCcmw5bELGieoOQ9w3/zTEHXQFD3EDgLm5FVsOl2FjdonLFEHnendvHBuGWSMNbj+3sTPnvoB9fagMm3PLUGr++b0Y6qfB/HHhuG3iECSGX9lBo83uwK7jVdiw/yy25Ze7BPrJ0YG4cVwY5o42ItTv4uGXAbD/MQBeBgbAwe38ADht2jQIyLCnqAabD5uwJc/k8k1WKZdhckwgpg8PwdVxQRgVrndLT1pxTRN2Hq3ErmOVyDhe7XIhh49agdmJBtwwNhzThwdDqxpcQ4N9QQiBI6b69iksDpWiuObnqyqVchmuig7ENQkhmBkfiuFumqPO7hDIL7Vg59EKpBdUuPReAsCYCD3mjQnDjWPDJHuVZUldM748WIqvDpXicMnPw4tyGTA5JhBpiUZcmxCKqCBvt50z2NJqR+aJanxzpBzfFFSg7LzQ56NWYO7oMNw6IQIpsVdOr3tvWFpasSXX1B7oi37uzZbJ2nt354wy4roEQ5dX9TMA9j8GwMvAADi4XRgAFYqfA5P9p2Gc7fnl2F5QjhOVrpMh671USI4JxIShARgXqcfYIf59fh5Pq92B4xUN2He6FgdO12Lf6RqXQAMAwb4azE40IG2UAVNjPfciAHcQQiC/zIIth03YctjUYV41o06LyTGBmBwTiOSYQMSG+PbLOZG2NgcKTfXILq5F5olqZJ6sdhkWBNqnuZmdaMANY8IQHezT53UYzE5WNuCrQ2XYfNiEgvPONQOAIQFemD48GFfHBWNSVGC/Dqu22R04XGpB1slqZJ6oxp6iGjS32p3rfdQKzPrpdzhjRIgkv4B1pbSuGZtyy/DVoTLkXPCFJy7UF9fEh2BqbDAmRQc4z99lAOx/DICXgQFwcOsuAF7oVNW5WfmrkHWyBg1W11n55TJgaKA3YkN8ERvqi5hgHxh1WoT4aRDip4GfVgm1Qg6FXAbZT3fJaG61o7nVjrqmVpjMLSgzN6PM3ILjFQ04Wl6PE5UNLlMuAO29WBOHBmDGiGBMHx6CMRH6QXchh7ucqmrEjsIKfFdYicyT1S7DU0D7xRUJRj8khusQb/DDkEBvRAZ4IcL/4hNeCyFQb21DZb0Vp6sbcbKyEScqG1FosuBwqaXDa/lqlJgyLBDXJhgwa2QoQjnRdY8U1zRhW3450vNN2H+6tsP7w6jTYsJQf4yO0CM2xBdxob2/160QAjWNNhTXNuNoeT3ySy3IKzUjr9SCJpvdpWyYXotrE0Ixa6QBKbFBDH09UFzThC2HTfj2SAX2nHK9ql8uA0aF6zFxqD/iQn3x3//OA8AA2F8YAC8DA+Dg1psAeL42uwOHSszYd6oGOcV1yDlT53LOT3dkMkAllzuvBrwYX40S4yP9kRQVgKSoAEwY6n9FXOHqbs02O7KLa7GnqAZ7impw4EwtWlq7/p14qxXw1Sjhq1XCW62AwwE4hECbQ6DR2obqBlu3v1O9lwrjIv0xKSoAV8cFY9wQvcdOuzNYNFrbsKeoBruOVSHzZDUKTRY4Ovk0k8uAIF8NgnzUCPHTQOelgkoug1wug1IuQ0urAw3WNjS0tKG2yYaSuuYOQe+ccz3/U4YFISU2CAnGK3famoFgbm7F90cr8cOxKuwuqsap86Y4Ot9DM4Zh+byRffraDIC8EwhRrykVckwcGoCJQwOcyyrqW3C8vAEnKhtworIRp6obUVlvRWW9FdWNNue3XCHQISj4aZQ/zcavhVGnRUyID+INfhhh8EOEvxd7+PqBl1qBqbHBmBobDKA91J+qbkReqQX5ZRacqGjA2dpmlNQ2o97ahiabHU02u8vEy53xUSsQ+VNP8LAQH8SG+GJcpD+i3Xiu2pXK56eJr69JCAXQHghzS8zIKa5Doam9B/1ERfu9bs+9Fzu7zWFnZDLA4KdFdLA3RofrMSpCh1HhesT102kCUqX3UuGmceG46ae7yZjMLdhdVI28Ugtyz5qRebL91pBBHnjhz5WAAZAkTa/X98l+zt3ibGpccId154Z7W+0O2NocaHUIaJRyeKsV0CoV/EDxAEqFHHGhfogL9cPN4yNc1pmbW2FuakW9tRX1LW1ottkhl8ugkMmgkMvgrVYg2K+9h4lDgO7jo1FiyrAgTBkW5FwmhEBlvRUVP30Rq26wwtzcCrtDwO5o78HVKOXw0yrhp1VBp1Uh3F+LiAAvnk/rBka9FjePb5825vyRsBvHhru5ZlcmBkCSLIVCgfHjx/f768jlMvgMwoleqZ3eS+WR08fQxclkMoTqtDzHcpDz9+H7rz/wJBQiIiIiiWEAJCIiIpIYjkuRZNntduzevRsAkJyc3OOrgImIiAY7BkCStNbW1osXIiIiusJwCJiIiIhIYhgAiYiIiCSGAZCIiIhIYhgAiYiIiCSGAZCIiIhIYngVMEman5+fu6tAREQ04BgASbIUCgUmTpzo7moQERENOA4BExEREUkMAyARERGRxHAImCTLbrdj7969AICrrrqKt4IjIiLJYAAkSbNare6uAhER0YDjEDARERGRxDAAEhEREUkMAyARERGRxDAAEhEREUkMAyARERGRxPAqYJI0b29vd1eBiIhowDEAkmQpFApcddVV7q4GERHRgOMQMBEREZHEMAASERERSQyHgEmy7HY7Dhw4AACYOHEibwVHRESSwQBIktbU1OTuKhAREQ04DgETERERSQwDIBEREZHEMAASERERSQwDIBEREZHEeHwArK2txcKFC6HX66HX67Fw4ULU1dV1u40QAitXrkR4eDi8vLwwc+ZM5OXluZR5++23MXPmTOh0Oshksovuk4iIiOhK4fEB8J577kFOTg62bNmCLVu2ICcnBwsXLux2mxdffBEvv/wy1q5di71798JoNGL27Nmor693lmlqasLcuXPxxBNP9PchkAfTaDTQaDTurgYREdGA8uhpYAoKCrBlyxZkZWUhOTkZAPDOO+8gJSUFhYWFiI+P77CNEAKvvvoqnnzySdx2220AgA8//BAGgwH//Oc/8dBDDwEAlixZAgDYsWPHgBwLeR6FQoEpU6a4uxpEREQDzqN7ADMzM6HX653hDwCmTJkCvV6PjIyMTrcpKiqCyWRCWlqac5lGo0FqamqX2/SU1WqFxWJxeRARERENNh4dAE0mE0JDQzssDw0Nhclk6nIbADAYDC7LDQZDl9v01OrVq53nIur1ekRGRl7W/oiIiIjcwS0BcOXKlZDJZN0+9u3bBwCQyWQdthdCdLr8fBeu78k2F7N8+XKYzWbno7i4+LL2R+517lZwBw4cgN1ud3d1iIiIBoxbzgH83e9+h7vuuqvbMtHR0Th06BDKy8s7rKusrOzQw3eO0WgE0N4TGBYW5lxeUVHR5TY9xQsGrjznXxhEREQkFW4JgMHBwQgODr5ouZSUFJjNZuzZsweTJ08GAOzevRtmsxlTp07tdJuYmBgYjUakp6djwoQJAACbzYadO3fihRde6LuDICIiIhqkPPocwJEjR2Lu3Ll48MEHkZWVhaysLDz44IO48cYbXa4ATkhIwMaNGwG0D/0uWbIEq1atwsaNG3H48GHcf//98Pb2xj333OPcxmQyIScnB8ePHwcA5ObmIicnBzU1NQN7kEREREQDzKOngQGAjz76CA8//LDzqt758+dj7dq1LmUKCwthNpudzx999FE0Nzdj8eLFqK2tRXJyMrZt2wY/Pz9nmbfeegvPPPOM8/mMGTMAAO+//z7uv//+fjwiIiIiIveSCSGEuysxWFksFuj1epjNZuh0uj7bb5OtDYlPbwUA5D87B95qj8/pg5LdbscPP/wAAJg2bRoUCoWba0RERED/fw721+f3YOLRQ8BERERE1PfYtUSSplKp3F0FIiKiAccASJKlUCi6vJqciIjoSsYhYCIiIiKJYQAkIiIikhgOAZNk2e125ObmAgDGjBnDq4CJiEgyGABJ0s6fP5KIiEgqOARMREREJDEMgEREREQSwwBIREREJDEMgEREREQSwwBIREREJDG8CpgkTS7ndyAiIpIeBkCSLIVCgenTp7u7GkRERAOO3R9EREREEsMASERERCQxHAImyXI4HMjLywMAjBo1iucDEhGRZDAAkmQJIVBTU+P8mYiISCrY5UFEREQkMQyARERERBLDAEhEREQkMQyARERERBLDi0A8XJOtzd1VuGLZ7XZY29ov/miytUGh4IUgRESegJ99/Y8B0MNN+tM37q6CNKRvd3cNiIiIBgyHgD2Qt1qJU2tucHc1iIiI3OrUmhvgrWZfVX9gq3qw/GfnuLsKREREdAViAPRg/NZDRERE/YFDwEREREQSwwBIREREJDEMgEREREQSwwBIREREJDEMgEREREQSwwBIREREJDEMgEREREQSwwBIREREJDEMgEREREQSwwBIREREJDEMgEREREQSwwBIREREJDEMgEREREQSwwBIREREJDEMgEREREQSwwBIREREJDEMgEREREQSwwBIREREJDEMgEREREQSwwBIREREJDEMgEREREQSwwBIREREJDEMgEREREQS4/EBsLa2FgsXLoRer4der8fChQtRV1fX7TZCCKxcuRLh4eHw8vLCzJkzkZeX51xfU1OD//qv/0J8fDy8vb0xdOhQPPzwwzCbzf18NERERETu5/EB8J577kFOTg62bNmCLVu2ICcnBwsXLux2mxdffBEvv/wy1q5di71798JoNGL27Nmor68HAJSWlqK0tBQvvfQScnNz8cEHH2DLli341a9+NRCHRERERORWMiGEcHclulJQUIDExERkZWUhOTkZAJCVlYWUlBQcOXIE8fHxHbYRQiA8PBxLlizBY489BgCwWq0wGAx44YUX8NBDD3X6Wv/3f/+HX/ziF2hsbIRSqexR/SwWC/R6PcxmM3Q63SUeJREREQ0kfn57eA9gZmYm9Hq9M/wBwJQpU6DX65GRkdHpNkVFRTCZTEhLS3Mu02g0SE1N7XIbAM4/gp6GPyIiIqLByqPTjslkQmhoaIfloaGhMJlMXW4DAAaDwWW5wWDA6dOnO92muroazz33XJe9g+dYrVZYrVbnc4vF0m15IiIiIk/klh7AlStXQiaTdfvYt28fAEAmk3XYXgjR6fLzXbi+q20sFgtuuOEGJCYmYsWKFd3uc/Xq1c6LUfR6PSIjIy92qEREREQexy09gL/73e9w1113dVsmOjoahw4dQnl5eYd1lZWVHXr4zjEajQDaewLDwsKcyysqKjpsU19fj7lz58LX1xcbN26ESqXqtk7Lly/HsmXLnM8tFgtDIBEREQ06bgmAwcHBCA4Ovmi5lJQUmM1m7NmzB5MnTwYA7N69G2azGVOnTu10m5iYGBiNRqSnp2PChAkAAJvNhp07d+KFF15wlrNYLJgzZw40Gg2++OILaLXai9ZHo9FAo9H05BCJiIiIPJZHXwQycuRIzJ07Fw8++CCysrKQlZWFBx98EDfeeKPLFcAJCQnYuHEjgPah3yVLlmDVqlXYuHEjDh8+jPvvvx/e3t645557ALT3/KWlpaGxsRHr16+HxWKByWSCyWSC3W53y7ESERERDRSPvggEAD766CM8/PDDzqt658+fj7Vr17qUKSwsdJnE+dFHH0VzczMWL16M2tpaJCcnY9u2bfDz8wMA7N+/H7t37wYAxMXFueyrqKgI0dHR/XhERERERO7l0fMAejrOI0RERDT48PPbw4eAiYiIiKjvMQASERERSQwDIBEREZHEMAASERERSQwDIBEREZHEMAASERERSQwDIBEREZHEMAASERERSQwDIBEREZHEMAASERERSQwDIBEREZHEMAASERERSQwDIBEREZHEMAASERERSQwDIBEREZHEMAASERERSQwDIBEREZHEMAASERERSQwDIBEREZHEMAASERERSQwDIBEREZHEMAASERERSQwDIBEREZHEMAASERERSQwDIBEREZHEMAASERERSQwDIBEREZHEMAASERERSQwDIBEREZHEMAASERERSQwDIBEREZHEMAASERERSQwDIBEREZHEMAASERERSQwDIBEREZHEMAASERERSQwDIBEREZHEMAASERERSQwDIBEREZHEMAASERERSQwDIBEREZHEMAASERERSQwDIBEREZHEMAASERERSQwDIBEREZHEMAASERERSQwDIBEREZHEMAASERERSQwDIBEREZHEMAASERERSQwDIBEREZHEeHwArK2txcKFC6HX66HX67Fw4ULU1dV1u40QAitXrkR4eDi8vLwwc+ZM5OXluZR56KGHEBsbCy8vL4SEhODmm2/GkSNH+vFIiIiIiDyDxwfAe+65Bzk5OdiyZQu2bNmCnJwcLFy4sNttXnzxRbz88stYu3Yt9u7dC6PRiNmzZ6O+vt5ZJikpCe+//z4KCgqwdetWCCGQlpYGu93e34dERERE5FYyIYRwdyW6UlBQgMTERGRlZSE5ORkAkJWVhZSUFBw5cgTx8fEdthFCIDw8HEuWLMFjjz0GALBarTAYDHjhhRfw0EMPdfpahw4dwrhx43D8+HHExsb2qH4WiwV6vR5msxk6ne4Sj5KIiIgGEj+/AaW7K9CdzMxM6PV6Z/gDgClTpkCv1yMjI6PTAFhUVASTyYS0tDTnMo1Gg9TUVGRkZHQaABsbG/H+++8jJiYGkZGRXdbHarXCarU6n5vNZgDtf0hEREQ0OJz73PbgPrB+59EB0GQyITQ0tMPy0NBQmEymLrcBAIPB4LLcYDDg9OnTLsvWrVuHRx99FI2NjUhISEB6ejrUanWX9Vm9ejWeeeaZDsu7C41ERETkmerr66HX691dDbdwSwBcuXJlp0HqfHv37gUAyGSyDuuEEJ0uP9+F6zvb5t5778Xs2bNRVlaGl156CXfeeSd+/PFHaLXaTve5fPlyLFu2zPnc4XCgpqYGQUFBF61Pb1ksFkRGRqK4uFiy3dMDge08MNjOA4PtPDDYzgOjP9tZCIH6+nqEh4f36X4HE7cEwN/97ne46667ui0THR2NQ4cOoby8vMO6ysrKDj185xiNRgDtPYFhYWHO5RUVFR22OXdl8fDhwzFlyhQEBARg48aNuPvuuzvdt0ajgUajcVnm7+/f7XFcLp1Ox38wA4DtPDDYzgOD7Tww2M4Do7/aWao9f+e4JQAGBwcjODj4ouVSUlJgNpuxZ88eTJ48GQCwe/dumM1mTJ06tdNtYmJiYDQakZ6ejgkTJgAAbDYbdu7ciRdeeKHb1xNCuJzjR0RERHQl8uhpYEaOHIm5c+fiwQcfRFZWFrKysvDggw/ixhtvdLkAJCEhARs3bgTQPvS7ZMkSrFq1Chs3bsThw4dx//33w9vbG/fccw8A4OTJk1i9ejX279+PM2fOIDMzE3feeSe8vLwwb948txwrERER0UDx6ItAAOCjjz7Cww8/7Lyqd/78+Vi7dq1LmcLCQucVuQDw6KOPorm5GYsXL0ZtbS2Sk5Oxbds2+Pn5AQC0Wi127dqFV199FbW1tTAYDJgxYwYyMjI6vejEHTQaDVasWNFhyJn6Ftt5YLCdBwbbeWCwnQcG27l/efQ8gERERETU9zx6CJiIiIiI+h4DIBEREZHEMAASERERSQwDIBEREZHEMAC6SW1tLRYuXOicjHrhwoWoq6vrdhshBFauXInw8HB4eXlh5syZyMvLcynz9ttvY+bMmdDpdJDJZBfd55Vm3bp1iImJgVarRVJSEnbt2tVt+Z07dyIpKQlarRbDhg3DW2+91aHMhg0bkJiYCI1Gg8TEROeUQ1LW1+2cl5eH22+/HdHR0ZDJZHj11Vf7sfaDR1+38zvvvIPp06cjICAAAQEBmDVrFvbs2dOfhzBo9HVbf/bZZ5g0aRL8/f3h4+OD8ePH4+9//3t/HsKg0B//o8/55JNPIJPJcMstt/Rxra9Qgtxi7ty5YvTo0SIjI0NkZGSI0aNHixtvvLHbbdasWSP8/PzEhg0bRG5urliwYIEICwsTFovFWeaVV14Rq1evFqtXrxYARG1tbT8fief45JNPhEqlEu+8847Iz88XjzzyiPDx8RGnT5/utPzJkyeFt7e3eOSRR0R+fr545513hEqlEv/617+cZTIyMoRCoRCrVq0SBQUFYtWqVUKpVIqsrKyBOiyP0x/tvGfPHvGHP/xBfPzxx8JoNIpXXnllgI7Gc/VHO99zzz3ijTfeENnZ2aKgoEA88MADQq/Xi7Nnzw7UYXmk/mjr7777Tnz22WciPz9fHD9+XLz66qtCoVCILVu2DNRheZz+aOdzTp06JSIiIsT06dPFzTff3M9HcmVgAHSD/Px8AcAlRGRmZgoA4siRI51u43A4hNFoFGvWrHEua2lpEXq9Xrz11lsdyn/33XeSC4CTJ08WixYtclmWkJAgHn/88U7LP/rooyIhIcFl2UMPPSSmTJnifH7nnXeKuXPnupSZM2eOuOuuu/qo1oNPf7Tz+aKiohgARf+3sxBCtLW1CT8/P/Hhhx9efoUHsYFoayGEmDBhgnjqqacur7KDWH+1c1tbm7j66qvFu+++K+677z4GwB7iELAbZGZmQq/XIzk52blsypQp0Ov1yMjI6HSboqIimEwm54TYQPskmampqV1uIyU2mw379+93aR8ASEtL67J9MjMzO5SfM2cO9u3bh9bW1m7LSLXN+6udydVAtXNTUxNaW1sRGBjYNxUfhAairYUQ+Oabb1BYWIgZM2b0XeUHkf5s52effRYhISH41a9+1fcVv4IxALqByWTq9I4joaGhMJlMXW4DAAaDwWW5wWDochspqaqqgt1u71X7mEymTsu3tbWhqqqq2zJSbfP+amdyNVDt/PjjjyMiIgKzZs3qm4oPQv3Z1mazGb6+vlCr1bjhhhvw17/+FbNnz+77gxgE+qudf/zxR6xfvx7vvPNO/1T8CsYA2IdWrlwJmUzW7WPfvn0A2u9ZfCEhRKfLz3fh+p5sIyW9bZ/Oyl+4nG3eUX+0M3XUn+384osv4uOPP8Znn30GrVbbB7Ud3Pqjrf38/JCTk4O9e/fi+eefx7Jly7Bjx46+q/Qg1JftXF9fj1/84hd45513EBwc3PeVvcJ5/L2AB5Pf/e53uOuuu7otEx0djUOHDqG8vLzDusrKyg7fds4xGo0A2r8RhYWFOZdXVFR0uY2UBAcHQ6FQdPgm2V37GI3GTssrlUoEBQV1W0aqbd5f7Uyu+rudX3rpJaxatQrbt2/H2LFj+7byg0x/trVcLkdcXBwAYPz48SgoKMDq1asxc+bMvj2IQaA/2jkvLw+nTp3CTTfd5FzvcDgAAEqlEoWFhYiNje3jI7lysAewDwUHByMhIaHbh1arRUpKCsxms8v0C7t374bZbMbUqVM73XdMTAyMRiPS09Ody2w2G3bu3NnlNlKiVquRlJTk0j4AkJ6e3mX7pKSkdCi/bds2TJo0CSqVqtsyUm3z/mpnctWf7fznP/8Zzz33HLZs2YJJkyb1feUHmYH8mxZCwGq1Xn6lB6H+aOeEhATk5uYiJyfH+Zg/fz6uueYa5OTkIDIyst+O54rghgtPSLRPAzN27FiRmZkpMjMzxZgxYzpMAxMfHy8+++wz5/M1a9YIvV4vPvvsM5GbmyvuvvvuDtPAlJWViezsbPHOO+8IAOL7778X2dnZorq6esCOzV3OTTGwfv16kZ+fL5YsWSJ8fHzEqVOnhBBCPP7442LhwoXO8uemGFi6dKnIz88X69ev7zDFwI8//igUCoVYs2aNKCgoEGvWrOE0MP3QzlarVWRnZ4vs7GwRFhYm/vCHP4js7Gxx7NixAT8+T9Ef7fzCCy8ItVot/vWvf4mysjLno76+fsCPz5P0R1uvWrVKbNu2TZw4cUIUFBSIv/zlL0KpVIp33nlnwI/PU/RHO1+IVwH3HAOgm1RXV4t7771X+Pn5CT8/P3Hvvfd2mLIFgHj//fedzx0Oh1ixYoUwGo1Co9GIGTNmiNzcXJdtVqxYIQB0eJy/nyvZG2+8IaKiooRarRYTJ04UO3fudK677777RGpqqkv5HTt2iAkTJgi1Wi2io6PFm2++2WGf//d//yfi4+OFSqUSCQkJYsOGDf19GB6vr9u5qKio07/bC/cjNX3dzlFRUZ2284oVKwbgaDxbX7f1k08+KeLi4oRWqxUBAQEiJSVFfPLJJwNxKB6tP/5Hn48BsOdkQvx0RiURERERSQLPASQiIiKSGAZAIiIiIolhACQiIiKSGAZAIiIiIolhACQiIiKSGAZAIiIiIolhACQiIiKSGAZAIiIiIolhACQiIiKSGAZAIiIiIolhACQiIiKSGAZAIiIiIolhACQiIiKSGAZAIiIiIolhACQiIiKSGAZAIiIiIolhACQiIiKSGAZAIiIiIolhACQiIiKSGAZAIiIiIolhACQiIiKSGAZAIiIiIolhACQiIiKSGAZAIiIiIolhACQiIiKSGAZAIiIiIolhACQiIiKSGAZAIiIiIolhACQiIiKSGAZAIiIiIolhACQiIiKSmP8PC8cjvO0hHNYAAAAASUVORK5CYII=' width=640.0/>\n",
       "            </div>\n",
       "        "
      ],
      "text/plain": [
       "Canvas(toolbar=Toolbar(toolitems=[('Home', 'Reset original view', 'home', 'home'), ('Back', 'Back to previous …"
      ]
     },
     "metadata": {},
     "output_type": "display_data"
    },
    {
     "name": "stdout",
     "output_type": "stream",
     "text": [
      "Solving wavenumber in determinant for shape = sin, p = 0.003, q = 0.004, Young's = 140000000.0\n"
     ]
    },
    {
     "data": {
      "application/vnd.jupyter.widget-view+json": {
       "model_id": "fc80a1c9a5f14a57a4bae73c01ddba26",
       "version_major": 2,
       "version_minor": 0
      },
      "text/plain": [
       "Solving for all frequencies:   0%|          | 0/101 [00:00<?, ?it/s]"
      ]
     },
     "metadata": {},
     "output_type": "display_data"
    },
    {
     "data": {
      "application/vnd.jupyter.widget-view+json": {
       "model_id": "",
       "version_major": 2,
       "version_minor": 0
      },
      "text/plain": [
       "  ... working at frequency = 2.0 Hz:   0%|          | 0/100 [00:00<?, ?it/s]"
      ]
     },
     "metadata": {},
     "output_type": "display_data"
    },
    {
     "data": {
      "application/vnd.jupyter.widget-view+json": {
       "model_id": "",
       "version_major": 2,
       "version_minor": 0
      },
      "text/plain": [
       "  ... working at frequency = 102.0 Hz:   0%|          | 0/100 [00:00<?, ?it/s]"
      ]
     },
     "metadata": {},
     "output_type": "display_data"
    },
    {
     "data": {
      "application/vnd.jupyter.widget-view+json": {
       "model_id": "",
       "version_major": 2,
       "version_minor": 0
      },
      "text/plain": [
       "  ... working at frequency = 202.0 Hz:   0%|          | 0/100 [00:00<?, ?it/s]"
      ]
     },
     "metadata": {},
     "output_type": "display_data"
    },
    {
     "data": {
      "application/vnd.jupyter.widget-view+json": {
       "model_id": "",
       "version_major": 2,
       "version_minor": 0
      },
      "text/plain": [
       "  ... working at frequency = 302.0 Hz:   0%|          | 0/100 [00:00<?, ?it/s]"
      ]
     },
     "metadata": {},
     "output_type": "display_data"
    },
    {
     "data": {
      "application/vnd.jupyter.widget-view+json": {
       "model_id": "",
       "version_major": 2,
       "version_minor": 0
      },
      "text/plain": [
       "  ... working at frequency = 402.0 Hz:   0%|          | 0/100 [00:00<?, ?it/s]"
      ]
     },
     "metadata": {},
     "output_type": "display_data"
    },
    {
     "data": {
      "application/vnd.jupyter.widget-view+json": {
       "model_id": "",
       "version_major": 2,
       "version_minor": 0
      },
      "text/plain": [
       "  ... working at frequency = 502.0 Hz:   0%|          | 0/100 [00:00<?, ?it/s]"
      ]
     },
     "metadata": {},
     "output_type": "display_data"
    },
    {
     "data": {
      "application/vnd.jupyter.widget-view+json": {
       "model_id": "",
       "version_major": 2,
       "version_minor": 0
      },
      "text/plain": [
       "  ... working at frequency = 602.0 Hz:   0%|          | 0/100 [00:00<?, ?it/s]"
      ]
     },
     "metadata": {},
     "output_type": "display_data"
    },
    {
     "data": {
      "application/vnd.jupyter.widget-view+json": {
       "model_id": "",
       "version_major": 2,
       "version_minor": 0
      },
      "text/plain": [
       "  ... working at frequency = 702.0 Hz:   0%|          | 0/100 [00:00<?, ?it/s]"
      ]
     },
     "metadata": {},
     "output_type": "display_data"
    },
    {
     "data": {
      "application/vnd.jupyter.widget-view+json": {
       "model_id": "",
       "version_major": 2,
       "version_minor": 0
      },
      "text/plain": [
       "  ... working at frequency = 802.0 Hz:   0%|          | 0/100 [00:00<?, ?it/s]"
      ]
     },
     "metadata": {},
     "output_type": "display_data"
    },
    {
     "data": {
      "application/vnd.jupyter.widget-view+json": {
       "model_id": "",
       "version_major": 2,
       "version_minor": 0
      },
      "text/plain": [
       "  ... working at frequency = 902.0 Hz:   0%|          | 0/100 [00:00<?, ?it/s]"
      ]
     },
     "metadata": {},
     "output_type": "display_data"
    },
    {
     "data": {
      "application/vnd.jupyter.widget-view+json": {
       "model_id": "",
       "version_major": 2,
       "version_minor": 0
      },
      "text/plain": [
       "  ... working at frequency = 1002.0 Hz:   0%|          | 0/100 [00:00<?, ?it/s]"
      ]
     },
     "metadata": {},
     "output_type": "display_data"
    },
    {
     "data": {
      "application/vnd.jupyter.widget-view+json": {
       "model_id": "",
       "version_major": 2,
       "version_minor": 0
      },
      "text/plain": [
       "  ... working at frequency = 1102.0 Hz:   0%|          | 0/100 [00:00<?, ?it/s]"
      ]
     },
     "metadata": {},
     "output_type": "display_data"
    },
    {
     "data": {
      "application/vnd.jupyter.widget-view+json": {
       "model_id": "",
       "version_major": 2,
       "version_minor": 0
      },
      "text/plain": [
       "  ... working at frequency = 1202.0 Hz:   0%|          | 0/100 [00:00<?, ?it/s]"
      ]
     },
     "metadata": {},
     "output_type": "display_data"
    },
    {
     "data": {
      "application/vnd.jupyter.widget-view+json": {
       "model_id": "",
       "version_major": 2,
       "version_minor": 0
      },
      "text/plain": [
       "  ... working at frequency = 1302.0 Hz:   0%|          | 0/100 [00:00<?, ?it/s]"
      ]
     },
     "metadata": {},
     "output_type": "display_data"
    },
    {
     "data": {
      "application/vnd.jupyter.widget-view+json": {
       "model_id": "",
       "version_major": 2,
       "version_minor": 0
      },
      "text/plain": [
       "  ... working at frequency = 1402.0 Hz:   0%|          | 0/100 [00:00<?, ?it/s]"
      ]
     },
     "metadata": {},
     "output_type": "display_data"
    },
    {
     "data": {
      "application/vnd.jupyter.widget-view+json": {
       "model_id": "",
       "version_major": 2,
       "version_minor": 0
      },
      "text/plain": [
       "  ... working at frequency = 1502.0 Hz:   0%|          | 0/100 [00:00<?, ?it/s]"
      ]
     },
     "metadata": {},
     "output_type": "display_data"
    },
    {
     "data": {
      "application/vnd.jupyter.widget-view+json": {
       "model_id": "",
       "version_major": 2,
       "version_minor": 0
      },
      "text/plain": [
       "  ... working at frequency = 1602.0 Hz:   0%|          | 0/100 [00:00<?, ?it/s]"
      ]
     },
     "metadata": {},
     "output_type": "display_data"
    },
    {
     "data": {
      "application/vnd.jupyter.widget-view+json": {
       "model_id": "",
       "version_major": 2,
       "version_minor": 0
      },
      "text/plain": [
       "  ... working at frequency = 1702.0 Hz:   0%|          | 0/100 [00:00<?, ?it/s]"
      ]
     },
     "metadata": {},
     "output_type": "display_data"
    },
    {
     "data": {
      "application/vnd.jupyter.widget-view+json": {
       "model_id": "",
       "version_major": 2,
       "version_minor": 0
      },
      "text/plain": [
       "  ... working at frequency = 1802.0 Hz:   0%|          | 0/100 [00:00<?, ?it/s]"
      ]
     },
     "metadata": {},
     "output_type": "display_data"
    },
    {
     "data": {
      "application/vnd.jupyter.widget-view+json": {
       "model_id": "",
       "version_major": 2,
       "version_minor": 0
      },
      "text/plain": [
       "  ... working at frequency = 1902.0 Hz:   0%|          | 0/100 [00:00<?, ?it/s]"
      ]
     },
     "metadata": {},
     "output_type": "display_data"
    },
    {
     "data": {
      "application/vnd.jupyter.widget-view+json": {
       "model_id": "",
       "version_major": 2,
       "version_minor": 0
      },
      "text/plain": [
       "  ... working at frequency = 2002.0 Hz:   0%|          | 0/100 [00:00<?, ?it/s]"
      ]
     },
     "metadata": {},
     "output_type": "display_data"
    },
    {
     "data": {
      "application/vnd.jupyter.widget-view+json": {
       "model_id": "",
       "version_major": 2,
       "version_minor": 0
      },
      "text/plain": [
       "  ... working at frequency = 2102.0 Hz:   0%|          | 0/100 [00:00<?, ?it/s]"
      ]
     },
     "metadata": {},
     "output_type": "display_data"
    },
    {
     "data": {
      "application/vnd.jupyter.widget-view+json": {
       "model_id": "",
       "version_major": 2,
       "version_minor": 0
      },
      "text/plain": [
       "  ... working at frequency = 2202.0 Hz:   0%|          | 0/100 [00:00<?, ?it/s]"
      ]
     },
     "metadata": {},
     "output_type": "display_data"
    },
    {
     "data": {
      "application/vnd.jupyter.widget-view+json": {
       "model_id": "",
       "version_major": 2,
       "version_minor": 0
      },
      "text/plain": [
       "  ... working at frequency = 2302.0 Hz:   0%|          | 0/100 [00:00<?, ?it/s]"
      ]
     },
     "metadata": {},
     "output_type": "display_data"
    },
    {
     "data": {
      "application/vnd.jupyter.widget-view+json": {
       "model_id": "",
       "version_major": 2,
       "version_minor": 0
      },
      "text/plain": [
       "  ... working at frequency = 2402.0 Hz:   0%|          | 0/100 [00:00<?, ?it/s]"
      ]
     },
     "metadata": {},
     "output_type": "display_data"
    },
    {
     "data": {
      "application/vnd.jupyter.widget-view+json": {
       "model_id": "",
       "version_major": 2,
       "version_minor": 0
      },
      "text/plain": [
       "  ... working at frequency = 2502.0 Hz:   0%|          | 0/100 [00:00<?, ?it/s]"
      ]
     },
     "metadata": {},
     "output_type": "display_data"
    },
    {
     "data": {
      "application/vnd.jupyter.widget-view+json": {
       "model_id": "",
       "version_major": 2,
       "version_minor": 0
      },
      "text/plain": [
       "  ... working at frequency = 2602.0 Hz:   0%|          | 0/100 [00:00<?, ?it/s]"
      ]
     },
     "metadata": {},
     "output_type": "display_data"
    },
    {
     "data": {
      "application/vnd.jupyter.widget-view+json": {
       "model_id": "",
       "version_major": 2,
       "version_minor": 0
      },
      "text/plain": [
       "  ... working at frequency = 2702.0 Hz:   0%|          | 0/100 [00:00<?, ?it/s]"
      ]
     },
     "metadata": {},
     "output_type": "display_data"
    },
    {
     "data": {
      "application/vnd.jupyter.widget-view+json": {
       "model_id": "",
       "version_major": 2,
       "version_minor": 0
      },
      "text/plain": [
       "  ... working at frequency = 2802.0 Hz:   0%|          | 0/100 [00:00<?, ?it/s]"
      ]
     },
     "metadata": {},
     "output_type": "display_data"
    },
    {
     "data": {
      "application/vnd.jupyter.widget-view+json": {
       "model_id": "",
       "version_major": 2,
       "version_minor": 0
      },
      "text/plain": [
       "  ... working at frequency = 2902.0 Hz:   0%|          | 0/100 [00:00<?, ?it/s]"
      ]
     },
     "metadata": {},
     "output_type": "display_data"
    },
    {
     "data": {
      "application/vnd.jupyter.widget-view+json": {
       "model_id": "",
       "version_major": 2,
       "version_minor": 0
      },
      "text/plain": [
       "  ... working at frequency = 3002.0 Hz:   0%|          | 0/100 [00:00<?, ?it/s]"
      ]
     },
     "metadata": {},
     "output_type": "display_data"
    },
    {
     "data": {
      "application/vnd.jupyter.widget-view+json": {
       "model_id": "",
       "version_major": 2,
       "version_minor": 0
      },
      "text/plain": [
       "  ... working at frequency = 3102.0 Hz:   0%|          | 0/100 [00:00<?, ?it/s]"
      ]
     },
     "metadata": {},
     "output_type": "display_data"
    },
    {
     "data": {
      "application/vnd.jupyter.widget-view+json": {
       "model_id": "",
       "version_major": 2,
       "version_minor": 0
      },
      "text/plain": [
       "  ... working at frequency = 3202.0 Hz:   0%|          | 0/100 [00:00<?, ?it/s]"
      ]
     },
     "metadata": {},
     "output_type": "display_data"
    },
    {
     "data": {
      "application/vnd.jupyter.widget-view+json": {
       "model_id": "",
       "version_major": 2,
       "version_minor": 0
      },
      "text/plain": [
       "  ... working at frequency = 3302.0 Hz:   0%|          | 0/100 [00:00<?, ?it/s]"
      ]
     },
     "metadata": {},
     "output_type": "display_data"
    },
    {
     "data": {
      "application/vnd.jupyter.widget-view+json": {
       "model_id": "",
       "version_major": 2,
       "version_minor": 0
      },
      "text/plain": [
       "  ... working at frequency = 3402.0 Hz:   0%|          | 0/100 [00:00<?, ?it/s]"
      ]
     },
     "metadata": {},
     "output_type": "display_data"
    },
    {
     "data": {
      "application/vnd.jupyter.widget-view+json": {
       "model_id": "",
       "version_major": 2,
       "version_minor": 0
      },
      "text/plain": [
       "  ... working at frequency = 3502.0 Hz:   0%|          | 0/100 [00:00<?, ?it/s]"
      ]
     },
     "metadata": {},
     "output_type": "display_data"
    },
    {
     "data": {
      "application/vnd.jupyter.widget-view+json": {
       "model_id": "",
       "version_major": 2,
       "version_minor": 0
      },
      "text/plain": [
       "  ... working at frequency = 3602.0 Hz:   0%|          | 0/100 [00:00<?, ?it/s]"
      ]
     },
     "metadata": {},
     "output_type": "display_data"
    },
    {
     "data": {
      "application/vnd.jupyter.widget-view+json": {
       "model_id": "",
       "version_major": 2,
       "version_minor": 0
      },
      "text/plain": [
       "  ... working at frequency = 3702.0 Hz:   0%|          | 0/100 [00:00<?, ?it/s]"
      ]
     },
     "metadata": {},
     "output_type": "display_data"
    },
    {
     "data": {
      "application/vnd.jupyter.widget-view+json": {
       "model_id": "",
       "version_major": 2,
       "version_minor": 0
      },
      "text/plain": [
       "  ... working at frequency = 3802.0 Hz:   0%|          | 0/100 [00:00<?, ?it/s]"
      ]
     },
     "metadata": {},
     "output_type": "display_data"
    },
    {
     "data": {
      "application/vnd.jupyter.widget-view+json": {
       "model_id": "",
       "version_major": 2,
       "version_minor": 0
      },
      "text/plain": [
       "  ... working at frequency = 3902.0 Hz:   0%|          | 0/100 [00:00<?, ?it/s]"
      ]
     },
     "metadata": {},
     "output_type": "display_data"
    },
    {
     "data": {
      "application/vnd.jupyter.widget-view+json": {
       "model_id": "",
       "version_major": 2,
       "version_minor": 0
      },
      "text/plain": [
       "  ... working at frequency = 4002.0 Hz:   0%|          | 0/100 [00:00<?, ?it/s]"
      ]
     },
     "metadata": {},
     "output_type": "display_data"
    },
    {
     "data": {
      "application/vnd.jupyter.widget-view+json": {
       "model_id": "",
       "version_major": 2,
       "version_minor": 0
      },
      "text/plain": [
       "  ... working at frequency = 4102.0 Hz:   0%|          | 0/100 [00:00<?, ?it/s]"
      ]
     },
     "metadata": {},
     "output_type": "display_data"
    },
    {
     "data": {
      "application/vnd.jupyter.widget-view+json": {
       "model_id": "",
       "version_major": 2,
       "version_minor": 0
      },
      "text/plain": [
       "  ... working at frequency = 4202.0 Hz:   0%|          | 0/100 [00:00<?, ?it/s]"
      ]
     },
     "metadata": {},
     "output_type": "display_data"
    },
    {
     "data": {
      "application/vnd.jupyter.widget-view+json": {
       "model_id": "",
       "version_major": 2,
       "version_minor": 0
      },
      "text/plain": [
       "  ... working at frequency = 4302.0 Hz:   0%|          | 0/100 [00:00<?, ?it/s]"
      ]
     },
     "metadata": {},
     "output_type": "display_data"
    },
    {
     "data": {
      "application/vnd.jupyter.widget-view+json": {
       "model_id": "",
       "version_major": 2,
       "version_minor": 0
      },
      "text/plain": [
       "  ... working at frequency = 4402.0 Hz:   0%|          | 0/100 [00:00<?, ?it/s]"
      ]
     },
     "metadata": {},
     "output_type": "display_data"
    },
    {
     "data": {
      "application/vnd.jupyter.widget-view+json": {
       "model_id": "",
       "version_major": 2,
       "version_minor": 0
      },
      "text/plain": [
       "  ... working at frequency = 4502.0 Hz:   0%|          | 0/100 [00:00<?, ?it/s]"
      ]
     },
     "metadata": {},
     "output_type": "display_data"
    },
    {
     "data": {
      "application/vnd.jupyter.widget-view+json": {
       "model_id": "",
       "version_major": 2,
       "version_minor": 0
      },
      "text/plain": [
       "  ... working at frequency = 4602.0 Hz:   0%|          | 0/100 [00:00<?, ?it/s]"
      ]
     },
     "metadata": {},
     "output_type": "display_data"
    },
    {
     "data": {
      "application/vnd.jupyter.widget-view+json": {
       "model_id": "",
       "version_major": 2,
       "version_minor": 0
      },
      "text/plain": [
       "  ... working at frequency = 4702.0 Hz:   0%|          | 0/100 [00:00<?, ?it/s]"
      ]
     },
     "metadata": {},
     "output_type": "display_data"
    },
    {
     "data": {
      "application/vnd.jupyter.widget-view+json": {
       "model_id": "",
       "version_major": 2,
       "version_minor": 0
      },
      "text/plain": [
       "  ... working at frequency = 4802.0 Hz:   0%|          | 0/100 [00:00<?, ?it/s]"
      ]
     },
     "metadata": {},
     "output_type": "display_data"
    },
    {
     "data": {
      "application/vnd.jupyter.widget-view+json": {
       "model_id": "",
       "version_major": 2,
       "version_minor": 0
      },
      "text/plain": [
       "  ... working at frequency = 4902.0 Hz:   0%|          | 0/100 [00:00<?, ?it/s]"
      ]
     },
     "metadata": {},
     "output_type": "display_data"
    },
    {
     "data": {
      "application/vnd.jupyter.widget-view+json": {
       "model_id": "",
       "version_major": 2,
       "version_minor": 0
      },
      "text/plain": [
       "  ... working at frequency = 5002.0 Hz:   0%|          | 0/100 [00:00<?, ?it/s]"
      ]
     },
     "metadata": {},
     "output_type": "display_data"
    },
    {
     "data": {
      "application/vnd.jupyter.widget-view+json": {
       "model_id": "",
       "version_major": 2,
       "version_minor": 0
      },
      "text/plain": [
       "  ... working at frequency = 5102.0 Hz:   0%|          | 0/100 [00:00<?, ?it/s]"
      ]
     },
     "metadata": {},
     "output_type": "display_data"
    },
    {
     "data": {
      "application/vnd.jupyter.widget-view+json": {
       "model_id": "",
       "version_major": 2,
       "version_minor": 0
      },
      "text/plain": [
       "  ... working at frequency = 5202.0 Hz:   0%|          | 0/100 [00:00<?, ?it/s]"
      ]
     },
     "metadata": {},
     "output_type": "display_data"
    },
    {
     "data": {
      "application/vnd.jupyter.widget-view+json": {
       "model_id": "",
       "version_major": 2,
       "version_minor": 0
      },
      "text/plain": [
       "  ... working at frequency = 5302.0 Hz:   0%|          | 0/100 [00:00<?, ?it/s]"
      ]
     },
     "metadata": {},
     "output_type": "display_data"
    },
    {
     "data": {
      "application/vnd.jupyter.widget-view+json": {
       "model_id": "",
       "version_major": 2,
       "version_minor": 0
      },
      "text/plain": [
       "  ... working at frequency = 5402.0 Hz:   0%|          | 0/100 [00:00<?, ?it/s]"
      ]
     },
     "metadata": {},
     "output_type": "display_data"
    },
    {
     "data": {
      "application/vnd.jupyter.widget-view+json": {
       "model_id": "",
       "version_major": 2,
       "version_minor": 0
      },
      "text/plain": [
       "  ... working at frequency = 5502.0 Hz:   0%|          | 0/100 [00:00<?, ?it/s]"
      ]
     },
     "metadata": {},
     "output_type": "display_data"
    },
    {
     "data": {
      "application/vnd.jupyter.widget-view+json": {
       "model_id": "",
       "version_major": 2,
       "version_minor": 0
      },
      "text/plain": [
       "  ... working at frequency = 5602.0 Hz:   0%|          | 0/100 [00:00<?, ?it/s]"
      ]
     },
     "metadata": {},
     "output_type": "display_data"
    },
    {
     "data": {
      "application/vnd.jupyter.widget-view+json": {
       "model_id": "",
       "version_major": 2,
       "version_minor": 0
      },
      "text/plain": [
       "  ... working at frequency = 5702.0 Hz:   0%|          | 0/100 [00:00<?, ?it/s]"
      ]
     },
     "metadata": {},
     "output_type": "display_data"
    },
    {
     "data": {
      "application/vnd.jupyter.widget-view+json": {
       "model_id": "",
       "version_major": 2,
       "version_minor": 0
      },
      "text/plain": [
       "  ... working at frequency = 5802.0 Hz:   0%|          | 0/100 [00:00<?, ?it/s]"
      ]
     },
     "metadata": {},
     "output_type": "display_data"
    },
    {
     "data": {
      "application/vnd.jupyter.widget-view+json": {
       "model_id": "",
       "version_major": 2,
       "version_minor": 0
      },
      "text/plain": [
       "  ... working at frequency = 5902.0 Hz:   0%|          | 0/100 [00:00<?, ?it/s]"
      ]
     },
     "metadata": {},
     "output_type": "display_data"
    },
    {
     "data": {
      "application/vnd.jupyter.widget-view+json": {
       "model_id": "",
       "version_major": 2,
       "version_minor": 0
      },
      "text/plain": [
       "  ... working at frequency = 6002.0 Hz:   0%|          | 0/100 [00:00<?, ?it/s]"
      ]
     },
     "metadata": {},
     "output_type": "display_data"
    },
    {
     "data": {
      "application/vnd.jupyter.widget-view+json": {
       "model_id": "",
       "version_major": 2,
       "version_minor": 0
      },
      "text/plain": [
       "  ... working at frequency = 6102.0 Hz:   0%|          | 0/100 [00:00<?, ?it/s]"
      ]
     },
     "metadata": {},
     "output_type": "display_data"
    },
    {
     "data": {
      "application/vnd.jupyter.widget-view+json": {
       "model_id": "",
       "version_major": 2,
       "version_minor": 0
      },
      "text/plain": [
       "  ... working at frequency = 6202.0 Hz:   0%|          | 0/100 [00:00<?, ?it/s]"
      ]
     },
     "metadata": {},
     "output_type": "display_data"
    },
    {
     "data": {
      "application/vnd.jupyter.widget-view+json": {
       "model_id": "",
       "version_major": 2,
       "version_minor": 0
      },
      "text/plain": [
       "  ... working at frequency = 6302.0 Hz:   0%|          | 0/100 [00:00<?, ?it/s]"
      ]
     },
     "metadata": {},
     "output_type": "display_data"
    },
    {
     "data": {
      "application/vnd.jupyter.widget-view+json": {
       "model_id": "",
       "version_major": 2,
       "version_minor": 0
      },
      "text/plain": [
       "  ... working at frequency = 6402.0 Hz:   0%|          | 0/100 [00:00<?, ?it/s]"
      ]
     },
     "metadata": {},
     "output_type": "display_data"
    },
    {
     "data": {
      "application/vnd.jupyter.widget-view+json": {
       "model_id": "",
       "version_major": 2,
       "version_minor": 0
      },
      "text/plain": [
       "  ... working at frequency = 6502.0 Hz:   0%|          | 0/100 [00:00<?, ?it/s]"
      ]
     },
     "metadata": {},
     "output_type": "display_data"
    },
    {
     "data": {
      "application/vnd.jupyter.widget-view+json": {
       "model_id": "",
       "version_major": 2,
       "version_minor": 0
      },
      "text/plain": [
       "  ... working at frequency = 6602.0 Hz:   0%|          | 0/100 [00:00<?, ?it/s]"
      ]
     },
     "metadata": {},
     "output_type": "display_data"
    },
    {
     "data": {
      "application/vnd.jupyter.widget-view+json": {
       "model_id": "",
       "version_major": 2,
       "version_minor": 0
      },
      "text/plain": [
       "  ... working at frequency = 6702.0 Hz:   0%|          | 0/100 [00:00<?, ?it/s]"
      ]
     },
     "metadata": {},
     "output_type": "display_data"
    },
    {
     "data": {
      "application/vnd.jupyter.widget-view+json": {
       "model_id": "",
       "version_major": 2,
       "version_minor": 0
      },
      "text/plain": [
       "  ... working at frequency = 6802.0 Hz:   0%|          | 0/100 [00:00<?, ?it/s]"
      ]
     },
     "metadata": {},
     "output_type": "display_data"
    },
    {
     "data": {
      "application/vnd.jupyter.widget-view+json": {
       "model_id": "",
       "version_major": 2,
       "version_minor": 0
      },
      "text/plain": [
       "  ... working at frequency = 6902.0 Hz:   0%|          | 0/100 [00:00<?, ?it/s]"
      ]
     },
     "metadata": {},
     "output_type": "display_data"
    },
    {
     "data": {
      "application/vnd.jupyter.widget-view+json": {
       "model_id": "",
       "version_major": 2,
       "version_minor": 0
      },
      "text/plain": [
       "  ... working at frequency = 7002.0 Hz:   0%|          | 0/100 [00:00<?, ?it/s]"
      ]
     },
     "metadata": {},
     "output_type": "display_data"
    },
    {
     "data": {
      "application/vnd.jupyter.widget-view+json": {
       "model_id": "",
       "version_major": 2,
       "version_minor": 0
      },
      "text/plain": [
       "  ... working at frequency = 7102.0 Hz:   0%|          | 0/100 [00:00<?, ?it/s]"
      ]
     },
     "metadata": {},
     "output_type": "display_data"
    },
    {
     "data": {
      "application/vnd.jupyter.widget-view+json": {
       "model_id": "",
       "version_major": 2,
       "version_minor": 0
      },
      "text/plain": [
       "  ... working at frequency = 7202.0 Hz:   0%|          | 0/100 [00:00<?, ?it/s]"
      ]
     },
     "metadata": {},
     "output_type": "display_data"
    },
    {
     "data": {
      "application/vnd.jupyter.widget-view+json": {
       "model_id": "",
       "version_major": 2,
       "version_minor": 0
      },
      "text/plain": [
       "  ... working at frequency = 7302.0 Hz:   0%|          | 0/100 [00:00<?, ?it/s]"
      ]
     },
     "metadata": {},
     "output_type": "display_data"
    },
    {
     "data": {
      "application/vnd.jupyter.widget-view+json": {
       "model_id": "",
       "version_major": 2,
       "version_minor": 0
      },
      "text/plain": [
       "  ... working at frequency = 7402.0 Hz:   0%|          | 0/100 [00:00<?, ?it/s]"
      ]
     },
     "metadata": {},
     "output_type": "display_data"
    },
    {
     "data": {
      "application/vnd.jupyter.widget-view+json": {
       "model_id": "",
       "version_major": 2,
       "version_minor": 0
      },
      "text/plain": [
       "  ... working at frequency = 7502.0 Hz:   0%|          | 0/100 [00:00<?, ?it/s]"
      ]
     },
     "metadata": {},
     "output_type": "display_data"
    },
    {
     "data": {
      "application/vnd.jupyter.widget-view+json": {
       "model_id": "",
       "version_major": 2,
       "version_minor": 0
      },
      "text/plain": [
       "  ... working at frequency = 7602.0 Hz:   0%|          | 0/100 [00:00<?, ?it/s]"
      ]
     },
     "metadata": {},
     "output_type": "display_data"
    },
    {
     "data": {
      "application/vnd.jupyter.widget-view+json": {
       "model_id": "",
       "version_major": 2,
       "version_minor": 0
      },
      "text/plain": [
       "  ... working at frequency = 7702.0 Hz:   0%|          | 0/100 [00:00<?, ?it/s]"
      ]
     },
     "metadata": {},
     "output_type": "display_data"
    },
    {
     "data": {
      "application/vnd.jupyter.widget-view+json": {
       "model_id": "",
       "version_major": 2,
       "version_minor": 0
      },
      "text/plain": [
       "  ... working at frequency = 7802.0 Hz:   0%|          | 0/100 [00:00<?, ?it/s]"
      ]
     },
     "metadata": {},
     "output_type": "display_data"
    },
    {
     "data": {
      "application/vnd.jupyter.widget-view+json": {
       "model_id": "",
       "version_major": 2,
       "version_minor": 0
      },
      "text/plain": [
       "  ... working at frequency = 7902.0 Hz:   0%|          | 0/100 [00:00<?, ?it/s]"
      ]
     },
     "metadata": {},
     "output_type": "display_data"
    },
    {
     "data": {
      "application/vnd.jupyter.widget-view+json": {
       "model_id": "",
       "version_major": 2,
       "version_minor": 0
      },
      "text/plain": [
       "  ... working at frequency = 8002.0 Hz:   0%|          | 0/100 [00:00<?, ?it/s]"
      ]
     },
     "metadata": {},
     "output_type": "display_data"
    },
    {
     "data": {
      "application/vnd.jupyter.widget-view+json": {
       "model_id": "",
       "version_major": 2,
       "version_minor": 0
      },
      "text/plain": [
       "  ... working at frequency = 8102.0 Hz:   0%|          | 0/100 [00:00<?, ?it/s]"
      ]
     },
     "metadata": {},
     "output_type": "display_data"
    },
    {
     "data": {
      "application/vnd.jupyter.widget-view+json": {
       "model_id": "",
       "version_major": 2,
       "version_minor": 0
      },
      "text/plain": [
       "  ... working at frequency = 8202.0 Hz:   0%|          | 0/100 [00:00<?, ?it/s]"
      ]
     },
     "metadata": {},
     "output_type": "display_data"
    },
    {
     "data": {
      "application/vnd.jupyter.widget-view+json": {
       "model_id": "",
       "version_major": 2,
       "version_minor": 0
      },
      "text/plain": [
       "  ... working at frequency = 8302.0 Hz:   0%|          | 0/100 [00:00<?, ?it/s]"
      ]
     },
     "metadata": {},
     "output_type": "display_data"
    },
    {
     "data": {
      "application/vnd.jupyter.widget-view+json": {
       "model_id": "",
       "version_major": 2,
       "version_minor": 0
      },
      "text/plain": [
       "  ... working at frequency = 8402.0 Hz:   0%|          | 0/100 [00:00<?, ?it/s]"
      ]
     },
     "metadata": {},
     "output_type": "display_data"
    },
    {
     "data": {
      "application/vnd.jupyter.widget-view+json": {
       "model_id": "",
       "version_major": 2,
       "version_minor": 0
      },
      "text/plain": [
       "  ... working at frequency = 8502.0 Hz:   0%|          | 0/100 [00:00<?, ?it/s]"
      ]
     },
     "metadata": {},
     "output_type": "display_data"
    },
    {
     "data": {
      "application/vnd.jupyter.widget-view+json": {
       "model_id": "",
       "version_major": 2,
       "version_minor": 0
      },
      "text/plain": [
       "  ... working at frequency = 8602.0 Hz:   0%|          | 0/100 [00:00<?, ?it/s]"
      ]
     },
     "metadata": {},
     "output_type": "display_data"
    },
    {
     "data": {
      "application/vnd.jupyter.widget-view+json": {
       "model_id": "",
       "version_major": 2,
       "version_minor": 0
      },
      "text/plain": [
       "  ... working at frequency = 8702.0 Hz:   0%|          | 0/100 [00:00<?, ?it/s]"
      ]
     },
     "metadata": {},
     "output_type": "display_data"
    },
    {
     "data": {
      "application/vnd.jupyter.widget-view+json": {
       "model_id": "",
       "version_major": 2,
       "version_minor": 0
      },
      "text/plain": [
       "  ... working at frequency = 8802.0 Hz:   0%|          | 0/100 [00:00<?, ?it/s]"
      ]
     },
     "metadata": {},
     "output_type": "display_data"
    },
    {
     "data": {
      "application/vnd.jupyter.widget-view+json": {
       "model_id": "",
       "version_major": 2,
       "version_minor": 0
      },
      "text/plain": [
       "  ... working at frequency = 8902.0 Hz:   0%|          | 0/100 [00:00<?, ?it/s]"
      ]
     },
     "metadata": {},
     "output_type": "display_data"
    },
    {
     "data": {
      "application/vnd.jupyter.widget-view+json": {
       "model_id": "",
       "version_major": 2,
       "version_minor": 0
      },
      "text/plain": [
       "  ... working at frequency = 9002.0 Hz:   0%|          | 0/100 [00:00<?, ?it/s]"
      ]
     },
     "metadata": {},
     "output_type": "display_data"
    },
    {
     "data": {
      "application/vnd.jupyter.widget-view+json": {
       "model_id": "",
       "version_major": 2,
       "version_minor": 0
      },
      "text/plain": [
       "  ... working at frequency = 9102.0 Hz:   0%|          | 0/100 [00:00<?, ?it/s]"
      ]
     },
     "metadata": {},
     "output_type": "display_data"
    },
    {
     "data": {
      "application/vnd.jupyter.widget-view+json": {
       "model_id": "",
       "version_major": 2,
       "version_minor": 0
      },
      "text/plain": [
       "  ... working at frequency = 9202.0 Hz:   0%|          | 0/100 [00:00<?, ?it/s]"
      ]
     },
     "metadata": {},
     "output_type": "display_data"
    },
    {
     "data": {
      "application/vnd.jupyter.widget-view+json": {
       "model_id": "",
       "version_major": 2,
       "version_minor": 0
      },
      "text/plain": [
       "  ... working at frequency = 9302.0 Hz:   0%|          | 0/100 [00:00<?, ?it/s]"
      ]
     },
     "metadata": {},
     "output_type": "display_data"
    },
    {
     "data": {
      "application/vnd.jupyter.widget-view+json": {
       "model_id": "",
       "version_major": 2,
       "version_minor": 0
      },
      "text/plain": [
       "  ... working at frequency = 9402.0 Hz:   0%|          | 0/100 [00:00<?, ?it/s]"
      ]
     },
     "metadata": {},
     "output_type": "display_data"
    },
    {
     "data": {
      "application/vnd.jupyter.widget-view+json": {
       "model_id": "",
       "version_major": 2,
       "version_minor": 0
      },
      "text/plain": [
       "  ... working at frequency = 9502.0 Hz:   0%|          | 0/100 [00:00<?, ?it/s]"
      ]
     },
     "metadata": {},
     "output_type": "display_data"
    },
    {
     "data": {
      "application/vnd.jupyter.widget-view+json": {
       "model_id": "",
       "version_major": 2,
       "version_minor": 0
      },
      "text/plain": [
       "  ... working at frequency = 9602.0 Hz:   0%|          | 0/100 [00:00<?, ?it/s]"
      ]
     },
     "metadata": {},
     "output_type": "display_data"
    },
    {
     "data": {
      "application/vnd.jupyter.widget-view+json": {
       "model_id": "",
       "version_major": 2,
       "version_minor": 0
      },
      "text/plain": [
       "  ... working at frequency = 9702.0 Hz:   0%|          | 0/100 [00:00<?, ?it/s]"
      ]
     },
     "metadata": {},
     "output_type": "display_data"
    },
    {
     "data": {
      "application/vnd.jupyter.widget-view+json": {
       "model_id": "",
       "version_major": 2,
       "version_minor": 0
      },
      "text/plain": [
       "  ... working at frequency = 9802.0 Hz:   0%|          | 0/100 [00:00<?, ?it/s]"
      ]
     },
     "metadata": {},
     "output_type": "display_data"
    },
    {
     "data": {
      "application/vnd.jupyter.widget-view+json": {
       "model_id": "",
       "version_major": 2,
       "version_minor": 0
      },
      "text/plain": [
       "  ... working at frequency = 9902.0 Hz:   0%|          | 0/100 [00:00<?, ?it/s]"
      ]
     },
     "metadata": {},
     "output_type": "display_data"
    },
    {
     "data": {
      "application/vnd.jupyter.widget-view+json": {
       "model_id": "891ba1b548374dc29e1482f3dc5d7889",
       "version_major": 2,
       "version_minor": 0
      },
      "text/plain": [
       "  ... working at frequency = 10002.0 Hz:   0%|          | 0/100 [00:00<?, ?it/s]"
      ]
     },
     "metadata": {},
     "output_type": "display_data"
    },
    {
     "name": "stdout",
     "output_type": "stream",
     "text": [
      "\n",
      "\n",
      "self.frequency_array.shape[0] = 101 is same as self.wavenumer_array.shape[0] = 101\n",
      "Save file to /Users/chenghunglin/Documents/sin_3_4_05_rad.xlsx\n"
     ]
    }
   ],
   "source": [
    "sin_3_4_05_rad = anechoic_sound_absorption(determinant, frequency_array,\n",
    "                              fp = '/Users/chenghunglin/Documents/', \n",
    "                              fn = 'sin_3_4_05_rad.xlsx', \n",
    "                              material='rubber', shape='sin', \n",
    "                              p=3e-3, q=4e-3, lh=40e-3, cell_radius=15e-3, \n",
    "                              theta=0.5, phi=3e-3, length_unit='m',\n",
    "                              num_segments=100, layer_density=1100, air_density=1.21, \n",
    "                              Young_modulus=0.14e9, Poisson_ratio=0.49, loss_factor=0.23, \n",
    "                              medium_density=998, sound_speed_medium=1483, \n",
    "                              use_volume=False)"
   ]
  },
  {
   "cell_type": "code",
   "execution_count": 12,
   "metadata": {},
   "outputs": [
    {
     "name": "stdout",
     "output_type": "stream",
     "text": [
      "self.frequency_array.shape[0] = 101 is same as self.wavenumer_array.shape[0] = 101\n",
      "self.frequency_array.shape[0] = 101 is same as self.wavenumer_array.shape[0] = 101\n"
     ]
    },
    {
     "data": {
      "text/plain": [
       "<matplotlib.legend.Legend at 0x153ae8350>"
      ]
     },
     "execution_count": 12,
     "metadata": {},
     "output_type": "execute_result"
    },
    {
     "data": {
      "application/vnd.jupyter.widget-view+json": {
       "model_id": "13e7e58cc6754a5a90889ada1520f5e4",
       "version_major": 2,
       "version_minor": 0
      },
      "image/png": "[encoded data removed]",
      "text/html": [
       "\n",
       "            <div style=\"display: inline-block;\">\n",
       "                <div class=\"jupyter-widgets widget-label\" style=\"text-align: center;\">\n",
       "                    Figure\n",
       "                </div>\n",
       "                <img src='data:image/png;base64,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' width=640.0/>\n",
       "            </div>\n",
       "        "
      ],
      "text/plain": [
       "Canvas(toolbar=Toolbar(toolitems=[('Home', 'Reset original view', 'home', 'home'), ('Back', 'Back to previous …"
      ]
     },
     "metadata": {},
     "output_type": "display_data"
    }
   ],
   "source": [
    "plt.figure()\n",
    "plt.plot(sin_3_4_05_vol.frequency_array, sin_3_4_05_vol.absorption_frequency(), label='sin, p=3, q=4, fr100, seg100, vol')\n",
    "plt.plot(sin_3_4_05_rad.frequency_array, sin_3_4_05_rad.absorption_frequency(), label='sin, p=3, q=4, fr100, seg100, rad')\n",
    "# plt.plot(horn_1_11.frequency_array, horn_1_11.absorption_frequency(), label='horn, p=1, q=11, volume')\n",
    "plt.legend()"
   ]
  },
  {
   "cell_type": "code",
   "execution_count": null,
   "metadata": {},
   "outputs": [],
   "source": []
  },
  {
   "cell_type": "markdown",
   "metadata": {},
   "source": [
    "### Example 01-2: compare finer frequency & segment steps"
   ]
  },
  {
   "cell_type": "code",
   "execution_count": 14,
   "metadata": {},
   "outputs": [],
   "source": [
    "frequency_array = np.arange(2, 10052, 50)"
   ]
  },
  {
   "cell_type": "code",
   "execution_count": 15,
   "metadata": {},
   "outputs": [
    {
     "data": {
      "application/vnd.jupyter.widget-view+json": {
       "model_id": "33e981a1514349399b51574c47bf1d54",
       "version_major": 2,
       "version_minor": 0
      },
      "image/png": "[encoded data removed]",
      "text/html": [
       "\n",
       "            <div style=\"display: inline-block;\">\n",
       "                <div class=\"jupyter-widgets widget-label\" style=\"text-align: center;\">\n",
       "                    Figure\n",
       "                </div>\n",
       "                <img src='data:image/png;base64,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' width=640.0/>\n",
       "            </div>\n",
       "        "
      ],
      "text/plain": [
       "Canvas(toolbar=Toolbar(toolitems=[('Home', 'Reset original view', 'home', 'home'), ('Back', 'Back to previous …"
      ]
     },
     "metadata": {},
     "output_type": "display_data"
    },
    {
     "name": "stdout",
     "output_type": "stream",
     "text": [
      "Solving wavenumber in determinant for shape = sin, p = 0.003, q = 0.004, Young's = 140000000.0\n"
     ]
    },
    {
     "data": {
      "application/vnd.jupyter.widget-view+json": {
       "model_id": "6a46f4695e4e4c73a8cde0ea30ef321a",
       "version_major": 2,
       "version_minor": 0
      },
      "text/plain": [
       "Solving for all frequencies:   0%|          | 0/201 [00:00<?, ?it/s]"
      ]
     },
     "metadata": {},
     "output_type": "display_data"
    },
    {
     "data": {
      "application/vnd.jupyter.widget-view+json": {
       "model_id": "",
       "version_major": 2,
       "version_minor": 0
      },
      "text/plain": [
       "  ... working at frequency = 2.0 Hz:   0%|          | 0/200 [00:00<?, ?it/s]"
      ]
     },
     "metadata": {},
     "output_type": "display_data"
    },
    {
     "data": {
      "application/vnd.jupyter.widget-view+json": {
       "model_id": "",
       "version_major": 2,
       "version_minor": 0
      },
      "text/plain": [
       "  ... working at frequency = 52.0 Hz:   0%|          | 0/200 [00:00<?, ?it/s]"
      ]
     },
     "metadata": {},
     "output_type": "display_data"
    },
    {
     "data": {
      "application/vnd.jupyter.widget-view+json": {
       "model_id": "",
       "version_major": 2,
       "version_minor": 0
      },
      "text/plain": [
       "  ... working at frequency = 102.0 Hz:   0%|          | 0/200 [00:00<?, ?it/s]"
      ]
     },
     "metadata": {},
     "output_type": "display_data"
    },
    {
     "data": {
      "application/vnd.jupyter.widget-view+json": {
       "model_id": "",
       "version_major": 2,
       "version_minor": 0
      },
      "text/plain": [
       "  ... working at frequency = 152.0 Hz:   0%|          | 0/200 [00:00<?, ?it/s]"
      ]
     },
     "metadata": {},
     "output_type": "display_data"
    },
    {
     "data": {
      "application/vnd.jupyter.widget-view+json": {
       "model_id": "",
       "version_major": 2,
       "version_minor": 0
      },
      "text/plain": [
       "  ... working at frequency = 202.0 Hz:   0%|          | 0/200 [00:00<?, ?it/s]"
      ]
     },
     "metadata": {},
     "output_type": "display_data"
    },
    {
     "data": {
      "application/vnd.jupyter.widget-view+json": {
       "model_id": "",
       "version_major": 2,
       "version_minor": 0
      },
      "text/plain": [
       "  ... working at frequency = 252.0 Hz:   0%|          | 0/200 [00:00<?, ?it/s]"
      ]
     },
     "metadata": {},
     "output_type": "display_data"
    },
    {
     "data": {
      "application/vnd.jupyter.widget-view+json": {
       "model_id": "",
       "version_major": 2,
       "version_minor": 0
      },
      "text/plain": [
       "  ... working at frequency = 302.0 Hz:   0%|          | 0/200 [00:00<?, ?it/s]"
      ]
     },
     "metadata": {},
     "output_type": "display_data"
    },
    {
     "data": {
      "application/vnd.jupyter.widget-view+json": {
       "model_id": "",
       "version_major": 2,
       "version_minor": 0
      },
      "text/plain": [
       "  ... working at frequency = 352.0 Hz:   0%|          | 0/200 [00:00<?, ?it/s]"
      ]
     },
     "metadata": {},
     "output_type": "display_data"
    },
    {
     "data": {
      "application/vnd.jupyter.widget-view+json": {
       "model_id": "",
       "version_major": 2,
       "version_minor": 0
      },
      "text/plain": [
       "  ... working at frequency = 402.0 Hz:   0%|          | 0/200 [00:00<?, ?it/s]"
      ]
     },
     "metadata": {},
     "output_type": "display_data"
    },
    {
     "data": {
      "application/vnd.jupyter.widget-view+json": {
       "model_id": "",
       "version_major": 2,
       "version_minor": 0
      },
      "text/plain": [
       "  ... working at frequency = 452.0 Hz:   0%|          | 0/200 [00:00<?, ?it/s]"
      ]
     },
     "metadata": {},
     "output_type": "display_data"
    },
    {
     "data": {
      "application/vnd.jupyter.widget-view+json": {
       "model_id": "",
       "version_major": 2,
       "version_minor": 0
      },
      "text/plain": [
       "  ... working at frequency = 502.0 Hz:   0%|          | 0/200 [00:00<?, ?it/s]"
      ]
     },
     "metadata": {},
     "output_type": "display_data"
    },
    {
     "data": {
      "application/vnd.jupyter.widget-view+json": {
       "model_id": "",
       "version_major": 2,
       "version_minor": 0
      },
      "text/plain": [
       "  ... working at frequency = 552.0 Hz:   0%|          | 0/200 [00:00<?, ?it/s]"
      ]
     },
     "metadata": {},
     "output_type": "display_data"
    },
    {
     "data": {
      "application/vnd.jupyter.widget-view+json": {
       "model_id": "",
       "version_major": 2,
       "version_minor": 0
      },
      "text/plain": [
       "  ... working at frequency = 602.0 Hz:   0%|          | 0/200 [00:00<?, ?it/s]"
      ]
     },
     "metadata": {},
     "output_type": "display_data"
    },
    {
     "data": {
      "application/vnd.jupyter.widget-view+json": {
       "model_id": "",
       "version_major": 2,
       "version_minor": 0
      },
      "text/plain": [
       "  ... working at frequency = 652.0 Hz:   0%|          | 0/200 [00:00<?, ?it/s]"
      ]
     },
     "metadata": {},
     "output_type": "display_data"
    },
    {
     "data": {
      "application/vnd.jupyter.widget-view+json": {
       "model_id": "",
       "version_major": 2,
       "version_minor": 0
      },
      "text/plain": [
       "  ... working at frequency = 702.0 Hz:   0%|          | 0/200 [00:00<?, ?it/s]"
      ]
     },
     "metadata": {},
     "output_type": "display_data"
    },
    {
     "data": {
      "application/vnd.jupyter.widget-view+json": {
       "model_id": "",
       "version_major": 2,
       "version_minor": 0
      },
      "text/plain": [
       "  ... working at frequency = 752.0 Hz:   0%|          | 0/200 [00:00<?, ?it/s]"
      ]
     },
     "metadata": {},
     "output_type": "display_data"
    },
    {
     "data": {
      "application/vnd.jupyter.widget-view+json": {
       "model_id": "",
       "version_major": 2,
       "version_minor": 0
      },
      "text/plain": [
       "  ... working at frequency = 802.0 Hz:   0%|          | 0/200 [00:00<?, ?it/s]"
      ]
     },
     "metadata": {},
     "output_type": "display_data"
    },
    {
     "data": {
      "application/vnd.jupyter.widget-view+json": {
       "model_id": "",
       "version_major": 2,
       "version_minor": 0
      },
      "text/plain": [
       "  ... working at frequency = 852.0 Hz:   0%|          | 0/200 [00:00<?, ?it/s]"
      ]
     },
     "metadata": {},
     "output_type": "display_data"
    },
    {
     "data": {
      "application/vnd.jupyter.widget-view+json": {
       "model_id": "",
       "version_major": 2,
       "version_minor": 0
      },
      "text/plain": [
       "  ... working at frequency = 902.0 Hz:   0%|          | 0/200 [00:00<?, ?it/s]"
      ]
     },
     "metadata": {},
     "output_type": "display_data"
    },
    {
     "data": {
      "application/vnd.jupyter.widget-view+json": {
       "model_id": "",
       "version_major": 2,
       "version_minor": 0
      },
      "text/plain": [
       "  ... working at frequency = 952.0 Hz:   0%|          | 0/200 [00:00<?, ?it/s]"
      ]
     },
     "metadata": {},
     "output_type": "display_data"
    },
    {
     "data": {
      "application/vnd.jupyter.widget-view+json": {
       "model_id": "",
       "version_major": 2,
       "version_minor": 0
      },
      "text/plain": [
       "  ... working at frequency = 1002.0 Hz:   0%|          | 0/200 [00:00<?, ?it/s]"
      ]
     },
     "metadata": {},
     "output_type": "display_data"
    },
    {
     "data": {
      "application/vnd.jupyter.widget-view+json": {
       "model_id": "",
       "version_major": 2,
       "version_minor": 0
      },
      "text/plain": [
       "  ... working at frequency = 1052.0 Hz:   0%|          | 0/200 [00:00<?, ?it/s]"
      ]
     },
     "metadata": {},
     "output_type": "display_data"
    },
    {
     "data": {
      "application/vnd.jupyter.widget-view+json": {
       "model_id": "",
       "version_major": 2,
       "version_minor": 0
      },
      "text/plain": [
       "  ... working at frequency = 1102.0 Hz:   0%|          | 0/200 [00:00<?, ?it/s]"
      ]
     },
     "metadata": {},
     "output_type": "display_data"
    },
    {
     "data": {
      "application/vnd.jupyter.widget-view+json": {
       "model_id": "",
       "version_major": 2,
       "version_minor": 0
      },
      "text/plain": [
       "  ... working at frequency = 1152.0 Hz:   0%|          | 0/200 [00:00<?, ?it/s]"
      ]
     },
     "metadata": {},
     "output_type": "display_data"
    },
    {
     "data": {
      "application/vnd.jupyter.widget-view+json": {
       "model_id": "",
       "version_major": 2,
       "version_minor": 0
      },
      "text/plain": [
       "  ... working at frequency = 1202.0 Hz:   0%|          | 0/200 [00:00<?, ?it/s]"
      ]
     },
     "metadata": {},
     "output_type": "display_data"
    },
    {
     "data": {
      "application/vnd.jupyter.widget-view+json": {
       "model_id": "",
       "version_major": 2,
       "version_minor": 0
      },
      "text/plain": [
       "  ... working at frequency = 1252.0 Hz:   0%|          | 0/200 [00:00<?, ?it/s]"
      ]
     },
     "metadata": {},
     "output_type": "display_data"
    },
    {
     "data": {
      "application/vnd.jupyter.widget-view+json": {
       "model_id": "",
       "version_major": 2,
       "version_minor": 0
      },
      "text/plain": [
       "  ... working at frequency = 1302.0 Hz:   0%|          | 0/200 [00:00<?, ?it/s]"
      ]
     },
     "metadata": {},
     "output_type": "display_data"
    },
    {
     "data": {
      "application/vnd.jupyter.widget-view+json": {
       "model_id": "",
       "version_major": 2,
       "version_minor": 0
      },
      "text/plain": [
       "  ... working at frequency = 1352.0 Hz:   0%|          | 0/200 [00:00<?, ?it/s]"
      ]
     },
     "metadata": {},
     "output_type": "display_data"
    },
    {
     "data": {
      "application/vnd.jupyter.widget-view+json": {
       "model_id": "",
       "version_major": 2,
       "version_minor": 0
      },
      "text/plain": [
       "  ... working at frequency = 1402.0 Hz:   0%|          | 0/200 [00:00<?, ?it/s]"
      ]
     },
     "metadata": {},
     "output_type": "display_data"
    },
    {
     "data": {
      "application/vnd.jupyter.widget-view+json": {
       "model_id": "",
       "version_major": 2,
       "version_minor": 0
      },
      "text/plain": [
       "  ... working at frequency = 1452.0 Hz:   0%|          | 0/200 [00:00<?, ?it/s]"
      ]
     },
     "metadata": {},
     "output_type": "display_data"
    },
    {
     "data": {
      "application/vnd.jupyter.widget-view+json": {
       "model_id": "",
       "version_major": 2,
       "version_minor": 0
      },
      "text/plain": [
       "  ... working at frequency = 1502.0 Hz:   0%|          | 0/200 [00:00<?, ?it/s]"
      ]
     },
     "metadata": {},
     "output_type": "display_data"
    },
    {
     "data": {
      "application/vnd.jupyter.widget-view+json": {
       "model_id": "",
       "version_major": 2,
       "version_minor": 0
      },
      "text/plain": [
       "  ... working at frequency = 1552.0 Hz:   0%|          | 0/200 [00:00<?, ?it/s]"
      ]
     },
     "metadata": {},
     "output_type": "display_data"
    },
    {
     "data": {
      "application/vnd.jupyter.widget-view+json": {
       "model_id": "",
       "version_major": 2,
       "version_minor": 0
      },
      "text/plain": [
       "  ... working at frequency = 1602.0 Hz:   0%|          | 0/200 [00:00<?, ?it/s]"
      ]
     },
     "metadata": {},
     "output_type": "display_data"
    },
    {
     "data": {
      "application/vnd.jupyter.widget-view+json": {
       "model_id": "",
       "version_major": 2,
       "version_minor": 0
      },
      "text/plain": [
       "  ... working at frequency = 1652.0 Hz:   0%|          | 0/200 [00:00<?, ?it/s]"
      ]
     },
     "metadata": {},
     "output_type": "display_data"
    },
    {
     "data": {
      "application/vnd.jupyter.widget-view+json": {
       "model_id": "",
       "version_major": 2,
       "version_minor": 0
      },
      "text/plain": [
       "  ... working at frequency = 1702.0 Hz:   0%|          | 0/200 [00:00<?, ?it/s]"
      ]
     },
     "metadata": {},
     "output_type": "display_data"
    },
    {
     "data": {
      "application/vnd.jupyter.widget-view+json": {
       "model_id": "",
       "version_major": 2,
       "version_minor": 0
      },
      "text/plain": [
       "  ... working at frequency = 1752.0 Hz:   0%|          | 0/200 [00:00<?, ?it/s]"
      ]
     },
     "metadata": {},
     "output_type": "display_data"
    },
    {
     "data": {
      "application/vnd.jupyter.widget-view+json": {
       "model_id": "",
       "version_major": 2,
       "version_minor": 0
      },
      "text/plain": [
       "  ... working at frequency = 1802.0 Hz:   0%|          | 0/200 [00:00<?, ?it/s]"
      ]
     },
     "metadata": {},
     "output_type": "display_data"
    },
    {
     "data": {
      "application/vnd.jupyter.widget-view+json": {
       "model_id": "",
       "version_major": 2,
       "version_minor": 0
      },
      "text/plain": [
       "  ... working at frequency = 1852.0 Hz:   0%|          | 0/200 [00:00<?, ?it/s]"
      ]
     },
     "metadata": {},
     "output_type": "display_data"
    },
    {
     "data": {
      "application/vnd.jupyter.widget-view+json": {
       "model_id": "",
       "version_major": 2,
       "version_minor": 0
      },
      "text/plain": [
       "  ... working at frequency = 1902.0 Hz:   0%|          | 0/200 [00:00<?, ?it/s]"
      ]
     },
     "metadata": {},
     "output_type": "display_data"
    },
    {
     "data": {
      "application/vnd.jupyter.widget-view+json": {
       "model_id": "",
       "version_major": 2,
       "version_minor": 0
      },
      "text/plain": [
       "  ... working at frequency = 1952.0 Hz:   0%|          | 0/200 [00:00<?, ?it/s]"
      ]
     },
     "metadata": {},
     "output_type": "display_data"
    },
    {
     "data": {
      "application/vnd.jupyter.widget-view+json": {
       "model_id": "",
       "version_major": 2,
       "version_minor": 0
      },
      "text/plain": [
       "  ... working at frequency = 2002.0 Hz:   0%|          | 0/200 [00:00<?, ?it/s]"
      ]
     },
     "metadata": {},
     "output_type": "display_data"
    },
    {
     "data": {
      "application/vnd.jupyter.widget-view+json": {
       "model_id": "",
       "version_major": 2,
       "version_minor": 0
      },
      "text/plain": [
       "  ... working at frequency = 2052.0 Hz:   0%|          | 0/200 [00:00<?, ?it/s]"
      ]
     },
     "metadata": {},
     "output_type": "display_data"
    },
    {
     "data": {
      "application/vnd.jupyter.widget-view+json": {
       "model_id": "",
       "version_major": 2,
       "version_minor": 0
      },
      "text/plain": [
       "  ... working at frequency = 2102.0 Hz:   0%|          | 0/200 [00:00<?, ?it/s]"
      ]
     },
     "metadata": {},
     "output_type": "display_data"
    },
    {
     "data": {
      "application/vnd.jupyter.widget-view+json": {
       "model_id": "",
       "version_major": 2,
       "version_minor": 0
      },
      "text/plain": [
       "  ... working at frequency = 2152.0 Hz:   0%|          | 0/200 [00:00<?, ?it/s]"
      ]
     },
     "metadata": {},
     "output_type": "display_data"
    },
    {
     "data": {
      "application/vnd.jupyter.widget-view+json": {
       "model_id": "",
       "version_major": 2,
       "version_minor": 0
      },
      "text/plain": [
       "  ... working at frequency = 2202.0 Hz:   0%|          | 0/200 [00:00<?, ?it/s]"
      ]
     },
     "metadata": {},
     "output_type": "display_data"
    },
    {
     "data": {
      "application/vnd.jupyter.widget-view+json": {
       "model_id": "",
       "version_major": 2,
       "version_minor": 0
      },
      "text/plain": [
       "  ... working at frequency = 2252.0 Hz:   0%|          | 0/200 [00:00<?, ?it/s]"
      ]
     },
     "metadata": {},
     "output_type": "display_data"
    },
    {
     "data": {
      "application/vnd.jupyter.widget-view+json": {
       "model_id": "",
       "version_major": 2,
       "version_minor": 0
      },
      "text/plain": [
       "  ... working at frequency = 2302.0 Hz:   0%|          | 0/200 [00:00<?, ?it/s]"
      ]
     },
     "metadata": {},
     "output_type": "display_data"
    },
    {
     "data": {
      "application/vnd.jupyter.widget-view+json": {
       "model_id": "",
       "version_major": 2,
       "version_minor": 0
      },
      "text/plain": [
       "  ... working at frequency = 2352.0 Hz:   0%|          | 0/200 [00:00<?, ?it/s]"
      ]
     },
     "metadata": {},
     "output_type": "display_data"
    },
    {
     "data": {
      "application/vnd.jupyter.widget-view+json": {
       "model_id": "",
       "version_major": 2,
       "version_minor": 0
      },
      "text/plain": [
       "  ... working at frequency = 2402.0 Hz:   0%|          | 0/200 [00:00<?, ?it/s]"
      ]
     },
     "metadata": {},
     "output_type": "display_data"
    },
    {
     "data": {
      "application/vnd.jupyter.widget-view+json": {
       "model_id": "",
       "version_major": 2,
       "version_minor": 0
      },
      "text/plain": [
       "  ... working at frequency = 2452.0 Hz:   0%|          | 0/200 [00:00<?, ?it/s]"
      ]
     },
     "metadata": {},
     "output_type": "display_data"
    },
    {
     "data": {
      "application/vnd.jupyter.widget-view+json": {
       "model_id": "",
       "version_major": 2,
       "version_minor": 0
      },
      "text/plain": [
       "  ... working at frequency = 2502.0 Hz:   0%|          | 0/200 [00:00<?, ?it/s]"
      ]
     },
     "metadata": {},
     "output_type": "display_data"
    },
    {
     "data": {
      "application/vnd.jupyter.widget-view+json": {
       "model_id": "",
       "version_major": 2,
       "version_minor": 0
      },
      "text/plain": [
       "  ... working at frequency = 2552.0 Hz:   0%|          | 0/200 [00:00<?, ?it/s]"
      ]
     },
     "metadata": {},
     "output_type": "display_data"
    },
    {
     "data": {
      "application/vnd.jupyter.widget-view+json": {
       "model_id": "",
       "version_major": 2,
       "version_minor": 0
      },
      "text/plain": [
       "  ... working at frequency = 2602.0 Hz:   0%|          | 0/200 [00:00<?, ?it/s]"
      ]
     },
     "metadata": {},
     "output_type": "display_data"
    },
    {
     "data": {
      "application/vnd.jupyter.widget-view+json": {
       "model_id": "",
       "version_major": 2,
       "version_minor": 0
      },
      "text/plain": [
       "  ... working at frequency = 2652.0 Hz:   0%|          | 0/200 [00:00<?, ?it/s]"
      ]
     },
     "metadata": {},
     "output_type": "display_data"
    },
    {
     "data": {
      "application/vnd.jupyter.widget-view+json": {
       "model_id": "",
       "version_major": 2,
       "version_minor": 0
      },
      "text/plain": [
       "  ... working at frequency = 2702.0 Hz:   0%|          | 0/200 [00:00<?, ?it/s]"
      ]
     },
     "metadata": {},
     "output_type": "display_data"
    },
    {
     "data": {
      "application/vnd.jupyter.widget-view+json": {
       "model_id": "",
       "version_major": 2,
       "version_minor": 0
      },
      "text/plain": [
       "  ... working at frequency = 2752.0 Hz:   0%|          | 0/200 [00:00<?, ?it/s]"
      ]
     },
     "metadata": {},
     "output_type": "display_data"
    },
    {
     "data": {
      "application/vnd.jupyter.widget-view+json": {
       "model_id": "",
       "version_major": 2,
       "version_minor": 0
      },
      "text/plain": [
       "  ... working at frequency = 2802.0 Hz:   0%|          | 0/200 [00:00<?, ?it/s]"
      ]
     },
     "metadata": {},
     "output_type": "display_data"
    },
    {
     "data": {
      "application/vnd.jupyter.widget-view+json": {
       "model_id": "",
       "version_major": 2,
       "version_minor": 0
      },
      "text/plain": [
       "  ... working at frequency = 2852.0 Hz:   0%|          | 0/200 [00:00<?, ?it/s]"
      ]
     },
     "metadata": {},
     "output_type": "display_data"
    },
    {
     "data": {
      "application/vnd.jupyter.widget-view+json": {
       "model_id": "",
       "version_major": 2,
       "version_minor": 0
      },
      "text/plain": [
       "  ... working at frequency = 2902.0 Hz:   0%|          | 0/200 [00:00<?, ?it/s]"
      ]
     },
     "metadata": {},
     "output_type": "display_data"
    },
    {
     "data": {
      "application/vnd.jupyter.widget-view+json": {
       "model_id": "",
       "version_major": 2,
       "version_minor": 0
      },
      "text/plain": [
       "  ... working at frequency = 2952.0 Hz:   0%|          | 0/200 [00:00<?, ?it/s]"
      ]
     },
     "metadata": {},
     "output_type": "display_data"
    },
    {
     "data": {
      "application/vnd.jupyter.widget-view+json": {
       "model_id": "",
       "version_major": 2,
       "version_minor": 0
      },
      "text/plain": [
       "  ... working at frequency = 3002.0 Hz:   0%|          | 0/200 [00:00<?, ?it/s]"
      ]
     },
     "metadata": {},
     "output_type": "display_data"
    },
    {
     "data": {
      "application/vnd.jupyter.widget-view+json": {
       "model_id": "",
       "version_major": 2,
       "version_minor": 0
      },
      "text/plain": [
       "  ... working at frequency = 3052.0 Hz:   0%|          | 0/200 [00:00<?, ?it/s]"
      ]
     },
     "metadata": {},
     "output_type": "display_data"
    },
    {
     "data": {
      "application/vnd.jupyter.widget-view+json": {
       "model_id": "",
       "version_major": 2,
       "version_minor": 0
      },
      "text/plain": [
       "  ... working at frequency = 3102.0 Hz:   0%|          | 0/200 [00:00<?, ?it/s]"
      ]
     },
     "metadata": {},
     "output_type": "display_data"
    },
    {
     "data": {
      "application/vnd.jupyter.widget-view+json": {
       "model_id": "",
       "version_major": 2,
       "version_minor": 0
      },
      "text/plain": [
       "  ... working at frequency = 3152.0 Hz:   0%|          | 0/200 [00:00<?, ?it/s]"
      ]
     },
     "metadata": {},
     "output_type": "display_data"
    },
    {
     "data": {
      "application/vnd.jupyter.widget-view+json": {
       "model_id": "",
       "version_major": 2,
       "version_minor": 0
      },
      "text/plain": [
       "  ... working at frequency = 3202.0 Hz:   0%|          | 0/200 [00:00<?, ?it/s]"
      ]
     },
     "metadata": {},
     "output_type": "display_data"
    },
    {
     "data": {
      "application/vnd.jupyter.widget-view+json": {
       "model_id": "",
       "version_major": 2,
       "version_minor": 0
      },
      "text/plain": [
       "  ... working at frequency = 3252.0 Hz:   0%|          | 0/200 [00:00<?, ?it/s]"
      ]
     },
     "metadata": {},
     "output_type": "display_data"
    },
    {
     "data": {
      "application/vnd.jupyter.widget-view+json": {
       "model_id": "",
       "version_major": 2,
       "version_minor": 0
      },
      "text/plain": [
       "  ... working at frequency = 3302.0 Hz:   0%|          | 0/200 [00:00<?, ?it/s]"
      ]
     },
     "metadata": {},
     "output_type": "display_data"
    },
    {
     "data": {
      "application/vnd.jupyter.widget-view+json": {
       "model_id": "",
       "version_major": 2,
       "version_minor": 0
      },
      "text/plain": [
       "  ... working at frequency = 3352.0 Hz:   0%|          | 0/200 [00:00<?, ?it/s]"
      ]
     },
     "metadata": {},
     "output_type": "display_data"
    },
    {
     "data": {
      "application/vnd.jupyter.widget-view+json": {
       "model_id": "",
       "version_major": 2,
       "version_minor": 0
      },
      "text/plain": [
       "  ... working at frequency = 3402.0 Hz:   0%|          | 0/200 [00:00<?, ?it/s]"
      ]
     },
     "metadata": {},
     "output_type": "display_data"
    },
    {
     "data": {
      "application/vnd.jupyter.widget-view+json": {
       "model_id": "",
       "version_major": 2,
       "version_minor": 0
      },
      "text/plain": [
       "  ... working at frequency = 3452.0 Hz:   0%|          | 0/200 [00:00<?, ?it/s]"
      ]
     },
     "metadata": {},
     "output_type": "display_data"
    },
    {
     "data": {
      "application/vnd.jupyter.widget-view+json": {
       "model_id": "",
       "version_major": 2,
       "version_minor": 0
      },
      "text/plain": [
       "  ... working at frequency = 3502.0 Hz:   0%|          | 0/200 [00:00<?, ?it/s]"
      ]
     },
     "metadata": {},
     "output_type": "display_data"
    },
    {
     "data": {
      "application/vnd.jupyter.widget-view+json": {
       "model_id": "",
       "version_major": 2,
       "version_minor": 0
      },
      "text/plain": [
       "  ... working at frequency = 3552.0 Hz:   0%|          | 0/200 [00:00<?, ?it/s]"
      ]
     },
     "metadata": {},
     "output_type": "display_data"
    },
    {
     "data": {
      "application/vnd.jupyter.widget-view+json": {
       "model_id": "",
       "version_major": 2,
       "version_minor": 0
      },
      "text/plain": [
       "  ... working at frequency = 3602.0 Hz:   0%|          | 0/200 [00:00<?, ?it/s]"
      ]
     },
     "metadata": {},
     "output_type": "display_data"
    },
    {
     "data": {
      "application/vnd.jupyter.widget-view+json": {
       "model_id": "",
       "version_major": 2,
       "version_minor": 0
      },
      "text/plain": [
       "  ... working at frequency = 3652.0 Hz:   0%|          | 0/200 [00:00<?, ?it/s]"
      ]
     },
     "metadata": {},
     "output_type": "display_data"
    },
    {
     "data": {
      "application/vnd.jupyter.widget-view+json": {
       "model_id": "",
       "version_major": 2,
       "version_minor": 0
      },
      "text/plain": [
       "  ... working at frequency = 3702.0 Hz:   0%|          | 0/200 [00:00<?, ?it/s]"
      ]
     },
     "metadata": {},
     "output_type": "display_data"
    },
    {
     "data": {
      "application/vnd.jupyter.widget-view+json": {
       "model_id": "",
       "version_major": 2,
       "version_minor": 0
      },
      "text/plain": [
       "  ... working at frequency = 3752.0 Hz:   0%|          | 0/200 [00:00<?, ?it/s]"
      ]
     },
     "metadata": {},
     "output_type": "display_data"
    },
    {
     "data": {
      "application/vnd.jupyter.widget-view+json": {
       "model_id": "",
       "version_major": 2,
       "version_minor": 0
      },
      "text/plain": [
       "  ... working at frequency = 3802.0 Hz:   0%|          | 0/200 [00:00<?, ?it/s]"
      ]
     },
     "metadata": {},
     "output_type": "display_data"
    },
    {
     "data": {
      "application/vnd.jupyter.widget-view+json": {
       "model_id": "",
       "version_major": 2,
       "version_minor": 0
      },
      "text/plain": [
       "  ... working at frequency = 3852.0 Hz:   0%|          | 0/200 [00:00<?, ?it/s]"
      ]
     },
     "metadata": {},
     "output_type": "display_data"
    },
    {
     "data": {
      "application/vnd.jupyter.widget-view+json": {
       "model_id": "",
       "version_major": 2,
       "version_minor": 0
      },
      "text/plain": [
       "  ... working at frequency = 3902.0 Hz:   0%|          | 0/200 [00:00<?, ?it/s]"
      ]
     },
     "metadata": {},
     "output_type": "display_data"
    },
    {
     "data": {
      "application/vnd.jupyter.widget-view+json": {
       "model_id": "",
       "version_major": 2,
       "version_minor": 0
      },
      "text/plain": [
       "  ... working at frequency = 3952.0 Hz:   0%|          | 0/200 [00:00<?, ?it/s]"
      ]
     },
     "metadata": {},
     "output_type": "display_data"
    },
    {
     "data": {
      "application/vnd.jupyter.widget-view+json": {
       "model_id": "",
       "version_major": 2,
       "version_minor": 0
      },
      "text/plain": [
       "  ... working at frequency = 4002.0 Hz:   0%|          | 0/200 [00:00<?, ?it/s]"
      ]
     },
     "metadata": {},
     "output_type": "display_data"
    },
    {
     "data": {
      "application/vnd.jupyter.widget-view+json": {
       "model_id": "",
       "version_major": 2,
       "version_minor": 0
      },
      "text/plain": [
       "  ... working at frequency = 4052.0 Hz:   0%|          | 0/200 [00:00<?, ?it/s]"
      ]
     },
     "metadata": {},
     "output_type": "display_data"
    },
    {
     "data": {
      "application/vnd.jupyter.widget-view+json": {
       "model_id": "",
       "version_major": 2,
       "version_minor": 0
      },
      "text/plain": [
       "  ... working at frequency = 4102.0 Hz:   0%|          | 0/200 [00:00<?, ?it/s]"
      ]
     },
     "metadata": {},
     "output_type": "display_data"
    },
    {
     "data": {
      "application/vnd.jupyter.widget-view+json": {
       "model_id": "",
       "version_major": 2,
       "version_minor": 0
      },
      "text/plain": [
       "  ... working at frequency = 4152.0 Hz:   0%|          | 0/200 [00:00<?, ?it/s]"
      ]
     },
     "metadata": {},
     "output_type": "display_data"
    },
    {
     "data": {
      "application/vnd.jupyter.widget-view+json": {
       "model_id": "",
       "version_major": 2,
       "version_minor": 0
      },
      "text/plain": [
       "  ... working at frequency = 4202.0 Hz:   0%|          | 0/200 [00:00<?, ?it/s]"
      ]
     },
     "metadata": {},
     "output_type": "display_data"
    },
    {
     "data": {
      "application/vnd.jupyter.widget-view+json": {
       "model_id": "",
       "version_major": 2,
       "version_minor": 0
      },
      "text/plain": [
       "  ... working at frequency = 4252.0 Hz:   0%|          | 0/200 [00:00<?, ?it/s]"
      ]
     },
     "metadata": {},
     "output_type": "display_data"
    },
    {
     "data": {
      "application/vnd.jupyter.widget-view+json": {
       "model_id": "",
       "version_major": 2,
       "version_minor": 0
      },
      "text/plain": [
       "  ... working at frequency = 4302.0 Hz:   0%|          | 0/200 [00:00<?, ?it/s]"
      ]
     },
     "metadata": {},
     "output_type": "display_data"
    },
    {
     "data": {
      "application/vnd.jupyter.widget-view+json": {
       "model_id": "",
       "version_major": 2,
       "version_minor": 0
      },
      "text/plain": [
       "  ... working at frequency = 4352.0 Hz:   0%|          | 0/200 [00:00<?, ?it/s]"
      ]
     },
     "metadata": {},
     "output_type": "display_data"
    },
    {
     "data": {
      "application/vnd.jupyter.widget-view+json": {
       "model_id": "",
       "version_major": 2,
       "version_minor": 0
      },
      "text/plain": [
       "  ... working at frequency = 4402.0 Hz:   0%|          | 0/200 [00:00<?, ?it/s]"
      ]
     },
     "metadata": {},
     "output_type": "display_data"
    },
    {
     "data": {
      "application/vnd.jupyter.widget-view+json": {
       "model_id": "",
       "version_major": 2,
       "version_minor": 0
      },
      "text/plain": [
       "  ... working at frequency = 4452.0 Hz:   0%|          | 0/200 [00:00<?, ?it/s]"
      ]
     },
     "metadata": {},
     "output_type": "display_data"
    },
    {
     "data": {
      "application/vnd.jupyter.widget-view+json": {
       "model_id": "",
       "version_major": 2,
       "version_minor": 0
      },
      "text/plain": [
       "  ... working at frequency = 4502.0 Hz:   0%|          | 0/200 [00:00<?, ?it/s]"
      ]
     },
     "metadata": {},
     "output_type": "display_data"
    },
    {
     "data": {
      "application/vnd.jupyter.widget-view+json": {
       "model_id": "",
       "version_major": 2,
       "version_minor": 0
      },
      "text/plain": [
       "  ... working at frequency = 4552.0 Hz:   0%|          | 0/200 [00:00<?, ?it/s]"
      ]
     },
     "metadata": {},
     "output_type": "display_data"
    },
    {
     "data": {
      "application/vnd.jupyter.widget-view+json": {
       "model_id": "",
       "version_major": 2,
       "version_minor": 0
      },
      "text/plain": [
       "  ... working at frequency = 4602.0 Hz:   0%|          | 0/200 [00:00<?, ?it/s]"
      ]
     },
     "metadata": {},
     "output_type": "display_data"
    },
    {
     "data": {
      "application/vnd.jupyter.widget-view+json": {
       "model_id": "",
       "version_major": 2,
       "version_minor": 0
      },
      "text/plain": [
       "  ... working at frequency = 4652.0 Hz:   0%|          | 0/200 [00:00<?, ?it/s]"
      ]
     },
     "metadata": {},
     "output_type": "display_data"
    },
    {
     "data": {
      "application/vnd.jupyter.widget-view+json": {
       "model_id": "",
       "version_major": 2,
       "version_minor": 0
      },
      "text/plain": [
       "  ... working at frequency = 4702.0 Hz:   0%|          | 0/200 [00:00<?, ?it/s]"
      ]
     },
     "metadata": {},
     "output_type": "display_data"
    },
    {
     "data": {
      "application/vnd.jupyter.widget-view+json": {
       "model_id": "",
       "version_major": 2,
       "version_minor": 0
      },
      "text/plain": [
       "  ... working at frequency = 4752.0 Hz:   0%|          | 0/200 [00:00<?, ?it/s]"
      ]
     },
     "metadata": {},
     "output_type": "display_data"
    },
    {
     "data": {
      "application/vnd.jupyter.widget-view+json": {
       "model_id": "",
       "version_major": 2,
       "version_minor": 0
      },
      "text/plain": [
       "  ... working at frequency = 4802.0 Hz:   0%|          | 0/200 [00:00<?, ?it/s]"
      ]
     },
     "metadata": {},
     "output_type": "display_data"
    },
    {
     "data": {
      "application/vnd.jupyter.widget-view+json": {
       "model_id": "",
       "version_major": 2,
       "version_minor": 0
      },
      "text/plain": [
       "  ... working at frequency = 4852.0 Hz:   0%|          | 0/200 [00:00<?, ?it/s]"
      ]
     },
     "metadata": {},
     "output_type": "display_data"
    },
    {
     "data": {
      "application/vnd.jupyter.widget-view+json": {
       "model_id": "",
       "version_major": 2,
       "version_minor": 0
      },
      "text/plain": [
       "  ... working at frequency = 4902.0 Hz:   0%|          | 0/200 [00:00<?, ?it/s]"
      ]
     },
     "metadata": {},
     "output_type": "display_data"
    },
    {
     "data": {
      "application/vnd.jupyter.widget-view+json": {
       "model_id": "",
       "version_major": 2,
       "version_minor": 0
      },
      "text/plain": [
       "  ... working at frequency = 4952.0 Hz:   0%|          | 0/200 [00:00<?, ?it/s]"
      ]
     },
     "metadata": {},
     "output_type": "display_data"
    },
    {
     "data": {
      "application/vnd.jupyter.widget-view+json": {
       "model_id": "",
       "version_major": 2,
       "version_minor": 0
      },
      "text/plain": [
       "  ... working at frequency = 5002.0 Hz:   0%|          | 0/200 [00:00<?, ?it/s]"
      ]
     },
     "metadata": {},
     "output_type": "display_data"
    },
    {
     "data": {
      "application/vnd.jupyter.widget-view+json": {
       "model_id": "",
       "version_major": 2,
       "version_minor": 0
      },
      "text/plain": [
       "  ... working at frequency = 5052.0 Hz:   0%|          | 0/200 [00:00<?, ?it/s]"
      ]
     },
     "metadata": {},
     "output_type": "display_data"
    },
    {
     "data": {
      "application/vnd.jupyter.widget-view+json": {
       "model_id": "",
       "version_major": 2,
       "version_minor": 0
      },
      "text/plain": [
       "  ... working at frequency = 5102.0 Hz:   0%|          | 0/200 [00:00<?, ?it/s]"
      ]
     },
     "metadata": {},
     "output_type": "display_data"
    },
    {
     "data": {
      "application/vnd.jupyter.widget-view+json": {
       "model_id": "",
       "version_major": 2,
       "version_minor": 0
      },
      "text/plain": [
       "  ... working at frequency = 5152.0 Hz:   0%|          | 0/200 [00:00<?, ?it/s]"
      ]
     },
     "metadata": {},
     "output_type": "display_data"
    },
    {
     "data": {
      "application/vnd.jupyter.widget-view+json": {
       "model_id": "",
       "version_major": 2,
       "version_minor": 0
      },
      "text/plain": [
       "  ... working at frequency = 5202.0 Hz:   0%|          | 0/200 [00:00<?, ?it/s]"
      ]
     },
     "metadata": {},
     "output_type": "display_data"
    },
    {
     "data": {
      "application/vnd.jupyter.widget-view+json": {
       "model_id": "",
       "version_major": 2,
       "version_minor": 0
      },
      "text/plain": [
       "  ... working at frequency = 5252.0 Hz:   0%|          | 0/200 [00:00<?, ?it/s]"
      ]
     },
     "metadata": {},
     "output_type": "display_data"
    },
    {
     "data": {
      "application/vnd.jupyter.widget-view+json": {
       "model_id": "",
       "version_major": 2,
       "version_minor": 0
      },
      "text/plain": [
       "  ... working at frequency = 5302.0 Hz:   0%|          | 0/200 [00:00<?, ?it/s]"
      ]
     },
     "metadata": {},
     "output_type": "display_data"
    },
    {
     "data": {
      "application/vnd.jupyter.widget-view+json": {
       "model_id": "",
       "version_major": 2,
       "version_minor": 0
      },
      "text/plain": [
       "  ... working at frequency = 5352.0 Hz:   0%|          | 0/200 [00:00<?, ?it/s]"
      ]
     },
     "metadata": {},
     "output_type": "display_data"
    },
    {
     "data": {
      "application/vnd.jupyter.widget-view+json": {
       "model_id": "",
       "version_major": 2,
       "version_minor": 0
      },
      "text/plain": [
       "  ... working at frequency = 5402.0 Hz:   0%|          | 0/200 [00:00<?, ?it/s]"
      ]
     },
     "metadata": {},
     "output_type": "display_data"
    },
    {
     "data": {
      "application/vnd.jupyter.widget-view+json": {
       "model_id": "",
       "version_major": 2,
       "version_minor": 0
      },
      "text/plain": [
       "  ... working at frequency = 5452.0 Hz:   0%|          | 0/200 [00:00<?, ?it/s]"
      ]
     },
     "metadata": {},
     "output_type": "display_data"
    },
    {
     "data": {
      "application/vnd.jupyter.widget-view+json": {
       "model_id": "",
       "version_major": 2,
       "version_minor": 0
      },
      "text/plain": [
       "  ... working at frequency = 5502.0 Hz:   0%|          | 0/200 [00:00<?, ?it/s]"
      ]
     },
     "metadata": {},
     "output_type": "display_data"
    },
    {
     "data": {
      "application/vnd.jupyter.widget-view+json": {
       "model_id": "",
       "version_major": 2,
       "version_minor": 0
      },
      "text/plain": [
       "  ... working at frequency = 5552.0 Hz:   0%|          | 0/200 [00:00<?, ?it/s]"
      ]
     },
     "metadata": {},
     "output_type": "display_data"
    },
    {
     "data": {
      "application/vnd.jupyter.widget-view+json": {
       "model_id": "",
       "version_major": 2,
       "version_minor": 0
      },
      "text/plain": [
       "  ... working at frequency = 5602.0 Hz:   0%|          | 0/200 [00:00<?, ?it/s]"
      ]
     },
     "metadata": {},
     "output_type": "display_data"
    },
    {
     "data": {
      "application/vnd.jupyter.widget-view+json": {
       "model_id": "",
       "version_major": 2,
       "version_minor": 0
      },
      "text/plain": [
       "  ... working at frequency = 5652.0 Hz:   0%|          | 0/200 [00:00<?, ?it/s]"
      ]
     },
     "metadata": {},
     "output_type": "display_data"
    },
    {
     "data": {
      "application/vnd.jupyter.widget-view+json": {
       "model_id": "",
       "version_major": 2,
       "version_minor": 0
      },
      "text/plain": [
       "  ... working at frequency = 5702.0 Hz:   0%|          | 0/200 [00:00<?, ?it/s]"
      ]
     },
     "metadata": {},
     "output_type": "display_data"
    },
    {
     "data": {
      "application/vnd.jupyter.widget-view+json": {
       "model_id": "",
       "version_major": 2,
       "version_minor": 0
      },
      "text/plain": [
       "  ... working at frequency = 5752.0 Hz:   0%|          | 0/200 [00:00<?, ?it/s]"
      ]
     },
     "metadata": {},
     "output_type": "display_data"
    },
    {
     "data": {
      "application/vnd.jupyter.widget-view+json": {
       "model_id": "",
       "version_major": 2,
       "version_minor": 0
      },
      "text/plain": [
       "  ... working at frequency = 5802.0 Hz:   0%|          | 0/200 [00:00<?, ?it/s]"
      ]
     },
     "metadata": {},
     "output_type": "display_data"
    },
    {
     "data": {
      "application/vnd.jupyter.widget-view+json": {
       "model_id": "",
       "version_major": 2,
       "version_minor": 0
      },
      "text/plain": [
       "  ... working at frequency = 5852.0 Hz:   0%|          | 0/200 [00:00<?, ?it/s]"
      ]
     },
     "metadata": {},
     "output_type": "display_data"
    },
    {
     "data": {
      "application/vnd.jupyter.widget-view+json": {
       "model_id": "",
       "version_major": 2,
       "version_minor": 0
      },
      "text/plain": [
       "  ... working at frequency = 5902.0 Hz:   0%|          | 0/200 [00:00<?, ?it/s]"
      ]
     },
     "metadata": {},
     "output_type": "display_data"
    },
    {
     "data": {
      "application/vnd.jupyter.widget-view+json": {
       "model_id": "",
       "version_major": 2,
       "version_minor": 0
      },
      "text/plain": [
       "  ... working at frequency = 5952.0 Hz:   0%|          | 0/200 [00:00<?, ?it/s]"
      ]
     },
     "metadata": {},
     "output_type": "display_data"
    },
    {
     "data": {
      "application/vnd.jupyter.widget-view+json": {
       "model_id": "",
       "version_major": 2,
       "version_minor": 0
      },
      "text/plain": [
       "  ... working at frequency = 6002.0 Hz:   0%|          | 0/200 [00:00<?, ?it/s]"
      ]
     },
     "metadata": {},
     "output_type": "display_data"
    },
    {
     "data": {
      "application/vnd.jupyter.widget-view+json": {
       "model_id": "",
       "version_major": 2,
       "version_minor": 0
      },
      "text/plain": [
       "  ... working at frequency = 6052.0 Hz:   0%|          | 0/200 [00:00<?, ?it/s]"
      ]
     },
     "metadata": {},
     "output_type": "display_data"
    },
    {
     "data": {
      "application/vnd.jupyter.widget-view+json": {
       "model_id": "",
       "version_major": 2,
       "version_minor": 0
      },
      "text/plain": [
       "  ... working at frequency = 6102.0 Hz:   0%|          | 0/200 [00:00<?, ?it/s]"
      ]
     },
     "metadata": {},
     "output_type": "display_data"
    },
    {
     "data": {
      "application/vnd.jupyter.widget-view+json": {
       "model_id": "",
       "version_major": 2,
       "version_minor": 0
      },
      "text/plain": [
       "  ... working at frequency = 6152.0 Hz:   0%|          | 0/200 [00:00<?, ?it/s]"
      ]
     },
     "metadata": {},
     "output_type": "display_data"
    },
    {
     "data": {
      "application/vnd.jupyter.widget-view+json": {
       "model_id": "",
       "version_major": 2,
       "version_minor": 0
      },
      "text/plain": [
       "  ... working at frequency = 6202.0 Hz:   0%|          | 0/200 [00:00<?, ?it/s]"
      ]
     },
     "metadata": {},
     "output_type": "display_data"
    },
    {
     "data": {
      "application/vnd.jupyter.widget-view+json": {
       "model_id": "",
       "version_major": 2,
       "version_minor": 0
      },
      "text/plain": [
       "  ... working at frequency = 6252.0 Hz:   0%|          | 0/200 [00:00<?, ?it/s]"
      ]
     },
     "metadata": {},
     "output_type": "display_data"
    },
    {
     "data": {
      "application/vnd.jupyter.widget-view+json": {
       "model_id": "",
       "version_major": 2,
       "version_minor": 0
      },
      "text/plain": [
       "  ... working at frequency = 6302.0 Hz:   0%|          | 0/200 [00:00<?, ?it/s]"
      ]
     },
     "metadata": {},
     "output_type": "display_data"
    },
    {
     "data": {
      "application/vnd.jupyter.widget-view+json": {
       "model_id": "",
       "version_major": 2,
       "version_minor": 0
      },
      "text/plain": [
       "  ... working at frequency = 6352.0 Hz:   0%|          | 0/200 [00:00<?, ?it/s]"
      ]
     },
     "metadata": {},
     "output_type": "display_data"
    },
    {
     "data": {
      "application/vnd.jupyter.widget-view+json": {
       "model_id": "",
       "version_major": 2,
       "version_minor": 0
      },
      "text/plain": [
       "  ... working at frequency = 6402.0 Hz:   0%|          | 0/200 [00:00<?, ?it/s]"
      ]
     },
     "metadata": {},
     "output_type": "display_data"
    },
    {
     "data": {
      "application/vnd.jupyter.widget-view+json": {
       "model_id": "",
       "version_major": 2,
       "version_minor": 0
      },
      "text/plain": [
       "  ... working at frequency = 6452.0 Hz:   0%|          | 0/200 [00:00<?, ?it/s]"
      ]
     },
     "metadata": {},
     "output_type": "display_data"
    },
    {
     "data": {
      "application/vnd.jupyter.widget-view+json": {
       "model_id": "",
       "version_major": 2,
       "version_minor": 0
      },
      "text/plain": [
       "  ... working at frequency = 6502.0 Hz:   0%|          | 0/200 [00:00<?, ?it/s]"
      ]
     },
     "metadata": {},
     "output_type": "display_data"
    },
    {
     "data": {
      "application/vnd.jupyter.widget-view+json": {
       "model_id": "",
       "version_major": 2,
       "version_minor": 0
      },
      "text/plain": [
       "  ... working at frequency = 6552.0 Hz:   0%|          | 0/200 [00:00<?, ?it/s]"
      ]
     },
     "metadata": {},
     "output_type": "display_data"
    },
    {
     "data": {
      "application/vnd.jupyter.widget-view+json": {
       "model_id": "",
       "version_major": 2,
       "version_minor": 0
      },
      "text/plain": [
       "  ... working at frequency = 6602.0 Hz:   0%|          | 0/200 [00:00<?, ?it/s]"
      ]
     },
     "metadata": {},
     "output_type": "display_data"
    },
    {
     "data": {
      "application/vnd.jupyter.widget-view+json": {
       "model_id": "",
       "version_major": 2,
       "version_minor": 0
      },
      "text/plain": [
       "  ... working at frequency = 6652.0 Hz:   0%|          | 0/200 [00:00<?, ?it/s]"
      ]
     },
     "metadata": {},
     "output_type": "display_data"
    },
    {
     "data": {
      "application/vnd.jupyter.widget-view+json": {
       "model_id": "",
       "version_major": 2,
       "version_minor": 0
      },
      "text/plain": [
       "  ... working at frequency = 6702.0 Hz:   0%|          | 0/200 [00:00<?, ?it/s]"
      ]
     },
     "metadata": {},
     "output_type": "display_data"
    },
    {
     "data": {
      "application/vnd.jupyter.widget-view+json": {
       "model_id": "",
       "version_major": 2,
       "version_minor": 0
      },
      "text/plain": [
       "  ... working at frequency = 6752.0 Hz:   0%|          | 0/200 [00:00<?, ?it/s]"
      ]
     },
     "metadata": {},
     "output_type": "display_data"
    },
    {
     "data": {
      "application/vnd.jupyter.widget-view+json": {
       "model_id": "",
       "version_major": 2,
       "version_minor": 0
      },
      "text/plain": [
       "  ... working at frequency = 6802.0 Hz:   0%|          | 0/200 [00:00<?, ?it/s]"
      ]
     },
     "metadata": {},
     "output_type": "display_data"
    },
    {
     "data": {
      "application/vnd.jupyter.widget-view+json": {
       "model_id": "",
       "version_major": 2,
       "version_minor": 0
      },
      "text/plain": [
       "  ... working at frequency = 6852.0 Hz:   0%|          | 0/200 [00:00<?, ?it/s]"
      ]
     },
     "metadata": {},
     "output_type": "display_data"
    },
    {
     "data": {
      "application/vnd.jupyter.widget-view+json": {
       "model_id": "",
       "version_major": 2,
       "version_minor": 0
      },
      "text/plain": [
       "  ... working at frequency = 6902.0 Hz:   0%|          | 0/200 [00:00<?, ?it/s]"
      ]
     },
     "metadata": {},
     "output_type": "display_data"
    },
    {
     "data": {
      "application/vnd.jupyter.widget-view+json": {
       "model_id": "",
       "version_major": 2,
       "version_minor": 0
      },
      "text/plain": [
       "  ... working at frequency = 6952.0 Hz:   0%|          | 0/200 [00:00<?, ?it/s]"
      ]
     },
     "metadata": {},
     "output_type": "display_data"
    },
    {
     "data": {
      "application/vnd.jupyter.widget-view+json": {
       "model_id": "",
       "version_major": 2,
       "version_minor": 0
      },
      "text/plain": [
       "  ... working at frequency = 7002.0 Hz:   0%|          | 0/200 [00:00<?, ?it/s]"
      ]
     },
     "metadata": {},
     "output_type": "display_data"
    },
    {
     "data": {
      "application/vnd.jupyter.widget-view+json": {
       "model_id": "",
       "version_major": 2,
       "version_minor": 0
      },
      "text/plain": [
       "  ... working at frequency = 7052.0 Hz:   0%|          | 0/200 [00:00<?, ?it/s]"
      ]
     },
     "metadata": {},
     "output_type": "display_data"
    },
    {
     "data": {
      "application/vnd.jupyter.widget-view+json": {
       "model_id": "",
       "version_major": 2,
       "version_minor": 0
      },
      "text/plain": [
       "  ... working at frequency = 7102.0 Hz:   0%|          | 0/200 [00:00<?, ?it/s]"
      ]
     },
     "metadata": {},
     "output_type": "display_data"
    },
    {
     "data": {
      "application/vnd.jupyter.widget-view+json": {
       "model_id": "",
       "version_major": 2,
       "version_minor": 0
      },
      "text/plain": [
       "  ... working at frequency = 7152.0 Hz:   0%|          | 0/200 [00:00<?, ?it/s]"
      ]
     },
     "metadata": {},
     "output_type": "display_data"
    },
    {
     "data": {
      "application/vnd.jupyter.widget-view+json": {
       "model_id": "",
       "version_major": 2,
       "version_minor": 0
      },
      "text/plain": [
       "  ... working at frequency = 7202.0 Hz:   0%|          | 0/200 [00:00<?, ?it/s]"
      ]
     },
     "metadata": {},
     "output_type": "display_data"
    },
    {
     "data": {
      "application/vnd.jupyter.widget-view+json": {
       "model_id": "",
       "version_major": 2,
       "version_minor": 0
      },
      "text/plain": [
       "  ... working at frequency = 7252.0 Hz:   0%|          | 0/200 [00:00<?, ?it/s]"
      ]
     },
     "metadata": {},
     "output_type": "display_data"
    },
    {
     "data": {
      "application/vnd.jupyter.widget-view+json": {
       "model_id": "",
       "version_major": 2,
       "version_minor": 0
      },
      "text/plain": [
       "  ... working at frequency = 7302.0 Hz:   0%|          | 0/200 [00:00<?, ?it/s]"
      ]
     },
     "metadata": {},
     "output_type": "display_data"
    },
    {
     "data": {
      "application/vnd.jupyter.widget-view+json": {
       "model_id": "",
       "version_major": 2,
       "version_minor": 0
      },
      "text/plain": [
       "  ... working at frequency = 7352.0 Hz:   0%|          | 0/200 [00:00<?, ?it/s]"
      ]
     },
     "metadata": {},
     "output_type": "display_data"
    },
    {
     "data": {
      "application/vnd.jupyter.widget-view+json": {
       "model_id": "",
       "version_major": 2,
       "version_minor": 0
      },
      "text/plain": [
       "  ... working at frequency = 7402.0 Hz:   0%|          | 0/200 [00:00<?, ?it/s]"
      ]
     },
     "metadata": {},
     "output_type": "display_data"
    },
    {
     "data": {
      "application/vnd.jupyter.widget-view+json": {
       "model_id": "",
       "version_major": 2,
       "version_minor": 0
      },
      "text/plain": [
       "  ... working at frequency = 7452.0 Hz:   0%|          | 0/200 [00:00<?, ?it/s]"
      ]
     },
     "metadata": {},
     "output_type": "display_data"
    },
    {
     "data": {
      "application/vnd.jupyter.widget-view+json": {
       "model_id": "",
       "version_major": 2,
       "version_minor": 0
      },
      "text/plain": [
       "  ... working at frequency = 7502.0 Hz:   0%|          | 0/200 [00:00<?, ?it/s]"
      ]
     },
     "metadata": {},
     "output_type": "display_data"
    },
    {
     "data": {
      "application/vnd.jupyter.widget-view+json": {
       "model_id": "",
       "version_major": 2,
       "version_minor": 0
      },
      "text/plain": [
       "  ... working at frequency = 7552.0 Hz:   0%|          | 0/200 [00:00<?, ?it/s]"
      ]
     },
     "metadata": {},
     "output_type": "display_data"
    },
    {
     "data": {
      "application/vnd.jupyter.widget-view+json": {
       "model_id": "",
       "version_major": 2,
       "version_minor": 0
      },
      "text/plain": [
       "  ... working at frequency = 7602.0 Hz:   0%|          | 0/200 [00:00<?, ?it/s]"
      ]
     },
     "metadata": {},
     "output_type": "display_data"
    },
    {
     "data": {
      "application/vnd.jupyter.widget-view+json": {
       "model_id": "",
       "version_major": 2,
       "version_minor": 0
      },
      "text/plain": [
       "  ... working at frequency = 7652.0 Hz:   0%|          | 0/200 [00:00<?, ?it/s]"
      ]
     },
     "metadata": {},
     "output_type": "display_data"
    },
    {
     "data": {
      "application/vnd.jupyter.widget-view+json": {
       "model_id": "",
       "version_major": 2,
       "version_minor": 0
      },
      "text/plain": [
       "  ... working at frequency = 7702.0 Hz:   0%|          | 0/200 [00:00<?, ?it/s]"
      ]
     },
     "metadata": {},
     "output_type": "display_data"
    },
    {
     "data": {
      "application/vnd.jupyter.widget-view+json": {
       "model_id": "",
       "version_major": 2,
       "version_minor": 0
      },
      "text/plain": [
       "  ... working at frequency = 7752.0 Hz:   0%|          | 0/200 [00:00<?, ?it/s]"
      ]
     },
     "metadata": {},
     "output_type": "display_data"
    },
    {
     "data": {
      "application/vnd.jupyter.widget-view+json": {
       "model_id": "",
       "version_major": 2,
       "version_minor": 0
      },
      "text/plain": [
       "  ... working at frequency = 7802.0 Hz:   0%|          | 0/200 [00:00<?, ?it/s]"
      ]
     },
     "metadata": {},
     "output_type": "display_data"
    },
    {
     "data": {
      "application/vnd.jupyter.widget-view+json": {
       "model_id": "",
       "version_major": 2,
       "version_minor": 0
      },
      "text/plain": [
       "  ... working at frequency = 7852.0 Hz:   0%|          | 0/200 [00:00<?, ?it/s]"
      ]
     },
     "metadata": {},
     "output_type": "display_data"
    },
    {
     "data": {
      "application/vnd.jupyter.widget-view+json": {
       "model_id": "",
       "version_major": 2,
       "version_minor": 0
      },
      "text/plain": [
       "  ... working at frequency = 7902.0 Hz:   0%|          | 0/200 [00:00<?, ?it/s]"
      ]
     },
     "metadata": {},
     "output_type": "display_data"
    },
    {
     "data": {
      "application/vnd.jupyter.widget-view+json": {
       "model_id": "",
       "version_major": 2,
       "version_minor": 0
      },
      "text/plain": [
       "  ... working at frequency = 7952.0 Hz:   0%|          | 0/200 [00:00<?, ?it/s]"
      ]
     },
     "metadata": {},
     "output_type": "display_data"
    },
    {
     "data": {
      "application/vnd.jupyter.widget-view+json": {
       "model_id": "",
       "version_major": 2,
       "version_minor": 0
      },
      "text/plain": [
       "  ... working at frequency = 8002.0 Hz:   0%|          | 0/200 [00:00<?, ?it/s]"
      ]
     },
     "metadata": {},
     "output_type": "display_data"
    },
    {
     "data": {
      "application/vnd.jupyter.widget-view+json": {
       "model_id": "",
       "version_major": 2,
       "version_minor": 0
      },
      "text/plain": [
       "  ... working at frequency = 8052.0 Hz:   0%|          | 0/200 [00:00<?, ?it/s]"
      ]
     },
     "metadata": {},
     "output_type": "display_data"
    },
    {
     "data": {
      "application/vnd.jupyter.widget-view+json": {
       "model_id": "",
       "version_major": 2,
       "version_minor": 0
      },
      "text/plain": [
       "  ... working at frequency = 8102.0 Hz:   0%|          | 0/200 [00:00<?, ?it/s]"
      ]
     },
     "metadata": {},
     "output_type": "display_data"
    },
    {
     "data": {
      "application/vnd.jupyter.widget-view+json": {
       "model_id": "",
       "version_major": 2,
       "version_minor": 0
      },
      "text/plain": [
       "  ... working at frequency = 8152.0 Hz:   0%|          | 0/200 [00:00<?, ?it/s]"
      ]
     },
     "metadata": {},
     "output_type": "display_data"
    },
    {
     "data": {
      "application/vnd.jupyter.widget-view+json": {
       "model_id": "",
       "version_major": 2,
       "version_minor": 0
      },
      "text/plain": [
       "  ... working at frequency = 8202.0 Hz:   0%|          | 0/200 [00:00<?, ?it/s]"
      ]
     },
     "metadata": {},
     "output_type": "display_data"
    },
    {
     "data": {
      "application/vnd.jupyter.widget-view+json": {
       "model_id": "",
       "version_major": 2,
       "version_minor": 0
      },
      "text/plain": [
       "  ... working at frequency = 8252.0 Hz:   0%|          | 0/200 [00:00<?, ?it/s]"
      ]
     },
     "metadata": {},
     "output_type": "display_data"
    },
    {
     "data": {
      "application/vnd.jupyter.widget-view+json": {
       "model_id": "",
       "version_major": 2,
       "version_minor": 0
      },
      "text/plain": [
       "  ... working at frequency = 8302.0 Hz:   0%|          | 0/200 [00:00<?, ?it/s]"
      ]
     },
     "metadata": {},
     "output_type": "display_data"
    },
    {
     "data": {
      "application/vnd.jupyter.widget-view+json": {
       "model_id": "",
       "version_major": 2,
       "version_minor": 0
      },
      "text/plain": [
       "  ... working at frequency = 8352.0 Hz:   0%|          | 0/200 [00:00<?, ?it/s]"
      ]
     },
     "metadata": {},
     "output_type": "display_data"
    },
    {
     "data": {
      "application/vnd.jupyter.widget-view+json": {
       "model_id": "",
       "version_major": 2,
       "version_minor": 0
      },
      "text/plain": [
       "  ... working at frequency = 8402.0 Hz:   0%|          | 0/200 [00:00<?, ?it/s]"
      ]
     },
     "metadata": {},
     "output_type": "display_data"
    },
    {
     "data": {
      "application/vnd.jupyter.widget-view+json": {
       "model_id": "",
       "version_major": 2,
       "version_minor": 0
      },
      "text/plain": [
       "  ... working at frequency = 8452.0 Hz:   0%|          | 0/200 [00:00<?, ?it/s]"
      ]
     },
     "metadata": {},
     "output_type": "display_data"
    },
    {
     "data": {
      "application/vnd.jupyter.widget-view+json": {
       "model_id": "",
       "version_major": 2,
       "version_minor": 0
      },
      "text/plain": [
       "  ... working at frequency = 8502.0 Hz:   0%|          | 0/200 [00:00<?, ?it/s]"
      ]
     },
     "metadata": {},
     "output_type": "display_data"
    },
    {
     "data": {
      "application/vnd.jupyter.widget-view+json": {
       "model_id": "",
       "version_major": 2,
       "version_minor": 0
      },
      "text/plain": [
       "  ... working at frequency = 8552.0 Hz:   0%|          | 0/200 [00:00<?, ?it/s]"
      ]
     },
     "metadata": {},
     "output_type": "display_data"
    },
    {
     "data": {
      "application/vnd.jupyter.widget-view+json": {
       "model_id": "",
       "version_major": 2,
       "version_minor": 0
      },
      "text/plain": [
       "  ... working at frequency = 8602.0 Hz:   0%|          | 0/200 [00:00<?, ?it/s]"
      ]
     },
     "metadata": {},
     "output_type": "display_data"
    },
    {
     "data": {
      "application/vnd.jupyter.widget-view+json": {
       "model_id": "",
       "version_major": 2,
       "version_minor": 0
      },
      "text/plain": [
       "  ... working at frequency = 8652.0 Hz:   0%|          | 0/200 [00:00<?, ?it/s]"
      ]
     },
     "metadata": {},
     "output_type": "display_data"
    },
    {
     "data": {
      "application/vnd.jupyter.widget-view+json": {
       "model_id": "",
       "version_major": 2,
       "version_minor": 0
      },
      "text/plain": [
       "  ... working at frequency = 8702.0 Hz:   0%|          | 0/200 [00:00<?, ?it/s]"
      ]
     },
     "metadata": {},
     "output_type": "display_data"
    },
    {
     "data": {
      "application/vnd.jupyter.widget-view+json": {
       "model_id": "",
       "version_major": 2,
       "version_minor": 0
      },
      "text/plain": [
       "  ... working at frequency = 8752.0 Hz:   0%|          | 0/200 [00:00<?, ?it/s]"
      ]
     },
     "metadata": {},
     "output_type": "display_data"
    },
    {
     "data": {
      "application/vnd.jupyter.widget-view+json": {
       "model_id": "",
       "version_major": 2,
       "version_minor": 0
      },
      "text/plain": [
       "  ... working at frequency = 8802.0 Hz:   0%|          | 0/200 [00:00<?, ?it/s]"
      ]
     },
     "metadata": {},
     "output_type": "display_data"
    },
    {
     "data": {
      "application/vnd.jupyter.widget-view+json": {
       "model_id": "",
       "version_major": 2,
       "version_minor": 0
      },
      "text/plain": [
       "  ... working at frequency = 8852.0 Hz:   0%|          | 0/200 [00:00<?, ?it/s]"
      ]
     },
     "metadata": {},
     "output_type": "display_data"
    },
    {
     "data": {
      "application/vnd.jupyter.widget-view+json": {
       "model_id": "",
       "version_major": 2,
       "version_minor": 0
      },
      "text/plain": [
       "  ... working at frequency = 8902.0 Hz:   0%|          | 0/200 [00:00<?, ?it/s]"
      ]
     },
     "metadata": {},
     "output_type": "display_data"
    },
    {
     "data": {
      "application/vnd.jupyter.widget-view+json": {
       "model_id": "",
       "version_major": 2,
       "version_minor": 0
      },
      "text/plain": [
       "  ... working at frequency = 8952.0 Hz:   0%|          | 0/200 [00:00<?, ?it/s]"
      ]
     },
     "metadata": {},
     "output_type": "display_data"
    },
    {
     "data": {
      "application/vnd.jupyter.widget-view+json": {
       "model_id": "",
       "version_major": 2,
       "version_minor": 0
      },
      "text/plain": [
       "  ... working at frequency = 9002.0 Hz:   0%|          | 0/200 [00:00<?, ?it/s]"
      ]
     },
     "metadata": {},
     "output_type": "display_data"
    },
    {
     "data": {
      "application/vnd.jupyter.widget-view+json": {
       "model_id": "",
       "version_major": 2,
       "version_minor": 0
      },
      "text/plain": [
       "  ... working at frequency = 9052.0 Hz:   0%|          | 0/200 [00:00<?, ?it/s]"
      ]
     },
     "metadata": {},
     "output_type": "display_data"
    },
    {
     "data": {
      "application/vnd.jupyter.widget-view+json": {
       "model_id": "",
       "version_major": 2,
       "version_minor": 0
      },
      "text/plain": [
       "  ... working at frequency = 9102.0 Hz:   0%|          | 0/200 [00:00<?, ?it/s]"
      ]
     },
     "metadata": {},
     "output_type": "display_data"
    },
    {
     "data": {
      "application/vnd.jupyter.widget-view+json": {
       "model_id": "",
       "version_major": 2,
       "version_minor": 0
      },
      "text/plain": [
       "  ... working at frequency = 9152.0 Hz:   0%|          | 0/200 [00:00<?, ?it/s]"
      ]
     },
     "metadata": {},
     "output_type": "display_data"
    },
    {
     "data": {
      "application/vnd.jupyter.widget-view+json": {
       "model_id": "",
       "version_major": 2,
       "version_minor": 0
      },
      "text/plain": [
       "  ... working at frequency = 9202.0 Hz:   0%|          | 0/200 [00:00<?, ?it/s]"
      ]
     },
     "metadata": {},
     "output_type": "display_data"
    },
    {
     "data": {
      "application/vnd.jupyter.widget-view+json": {
       "model_id": "",
       "version_major": 2,
       "version_minor": 0
      },
      "text/plain": [
       "  ... working at frequency = 9252.0 Hz:   0%|          | 0/200 [00:00<?, ?it/s]"
      ]
     },
     "metadata": {},
     "output_type": "display_data"
    },
    {
     "data": {
      "application/vnd.jupyter.widget-view+json": {
       "model_id": "",
       "version_major": 2,
       "version_minor": 0
      },
      "text/plain": [
       "  ... working at frequency = 9302.0 Hz:   0%|          | 0/200 [00:00<?, ?it/s]"
      ]
     },
     "metadata": {},
     "output_type": "display_data"
    },
    {
     "data": {
      "application/vnd.jupyter.widget-view+json": {
       "model_id": "",
       "version_major": 2,
       "version_minor": 0
      },
      "text/plain": [
       "  ... working at frequency = 9352.0 Hz:   0%|          | 0/200 [00:00<?, ?it/s]"
      ]
     },
     "metadata": {},
     "output_type": "display_data"
    },
    {
     "data": {
      "application/vnd.jupyter.widget-view+json": {
       "model_id": "",
       "version_major": 2,
       "version_minor": 0
      },
      "text/plain": [
       "  ... working at frequency = 9402.0 Hz:   0%|          | 0/200 [00:00<?, ?it/s]"
      ]
     },
     "metadata": {},
     "output_type": "display_data"
    },
    {
     "data": {
      "application/vnd.jupyter.widget-view+json": {
       "model_id": "",
       "version_major": 2,
       "version_minor": 0
      },
      "text/plain": [
       "  ... working at frequency = 9452.0 Hz:   0%|          | 0/200 [00:00<?, ?it/s]"
      ]
     },
     "metadata": {},
     "output_type": "display_data"
    },
    {
     "data": {
      "application/vnd.jupyter.widget-view+json": {
       "model_id": "",
       "version_major": 2,
       "version_minor": 0
      },
      "text/plain": [
       "  ... working at frequency = 9502.0 Hz:   0%|          | 0/200 [00:00<?, ?it/s]"
      ]
     },
     "metadata": {},
     "output_type": "display_data"
    },
    {
     "data": {
      "application/vnd.jupyter.widget-view+json": {
       "model_id": "",
       "version_major": 2,
       "version_minor": 0
      },
      "text/plain": [
       "  ... working at frequency = 9552.0 Hz:   0%|          | 0/200 [00:00<?, ?it/s]"
      ]
     },
     "metadata": {},
     "output_type": "display_data"
    },
    {
     "data": {
      "application/vnd.jupyter.widget-view+json": {
       "model_id": "",
       "version_major": 2,
       "version_minor": 0
      },
      "text/plain": [
       "  ... working at frequency = 9602.0 Hz:   0%|          | 0/200 [00:00<?, ?it/s]"
      ]
     },
     "metadata": {},
     "output_type": "display_data"
    },
    {
     "data": {
      "application/vnd.jupyter.widget-view+json": {
       "model_id": "",
       "version_major": 2,
       "version_minor": 0
      },
      "text/plain": [
       "  ... working at frequency = 9652.0 Hz:   0%|          | 0/200 [00:00<?, ?it/s]"
      ]
     },
     "metadata": {},
     "output_type": "display_data"
    },
    {
     "data": {
      "application/vnd.jupyter.widget-view+json": {
       "model_id": "",
       "version_major": 2,
       "version_minor": 0
      },
      "text/plain": [
       "  ... working at frequency = 9702.0 Hz:   0%|          | 0/200 [00:00<?, ?it/s]"
      ]
     },
     "metadata": {},
     "output_type": "display_data"
    },
    {
     "data": {
      "application/vnd.jupyter.widget-view+json": {
       "model_id": "",
       "version_major": 2,
       "version_minor": 0
      },
      "text/plain": [
       "  ... working at frequency = 9752.0 Hz:   0%|          | 0/200 [00:00<?, ?it/s]"
      ]
     },
     "metadata": {},
     "output_type": "display_data"
    },
    {
     "data": {
      "application/vnd.jupyter.widget-view+json": {
       "model_id": "",
       "version_major": 2,
       "version_minor": 0
      },
      "text/plain": [
       "  ... working at frequency = 9802.0 Hz:   0%|          | 0/200 [00:00<?, ?it/s]"
      ]
     },
     "metadata": {},
     "output_type": "display_data"
    },
    {
     "data": {
      "application/vnd.jupyter.widget-view+json": {
       "model_id": "",
       "version_major": 2,
       "version_minor": 0
      },
      "text/plain": [
       "  ... working at frequency = 9852.0 Hz:   0%|          | 0/200 [00:00<?, ?it/s]"
      ]
     },
     "metadata": {},
     "output_type": "display_data"
    },
    {
     "data": {
      "application/vnd.jupyter.widget-view+json": {
       "model_id": "",
       "version_major": 2,
       "version_minor": 0
      },
      "text/plain": [
       "  ... working at frequency = 9902.0 Hz:   0%|          | 0/200 [00:00<?, ?it/s]"
      ]
     },
     "metadata": {},
     "output_type": "display_data"
    },
    {
     "data": {
      "application/vnd.jupyter.widget-view+json": {
       "model_id": "",
       "version_major": 2,
       "version_minor": 0
      },
      "text/plain": [
       "  ... working at frequency = 9952.0 Hz:   0%|          | 0/200 [00:00<?, ?it/s]"
      ]
     },
     "metadata": {},
     "output_type": "display_data"
    },
    {
     "data": {
      "application/vnd.jupyter.widget-view+json": {
       "model_id": "9f1892e3b0514b1e9324266f380f52e8",
       "version_major": 2,
       "version_minor": 0
      },
      "text/plain": [
       "  ... working at frequency = 10002.0 Hz:   0%|          | 0/200 [00:00<?, ?it/s]"
      ]
     },
     "metadata": {},
     "output_type": "display_data"
    },
    {
     "name": "stdout",
     "output_type": "stream",
     "text": [
      "\n",
      "\n",
      "self.frequency_array.shape[0] = 201 is same as self.wavenumer_array.shape[0] = 201\n",
      "Save file to /Users/chenghunglin/Documents/sin_3_4_05_vol_2.xlsx\n"
     ]
    }
   ],
   "source": [
    "sin_3_4_05_vol_2 = anechoic_sound_absorption(determinant, frequency_array,\n",
    "                              fp = '/Users/chenghunglin/Documents/', \n",
    "                              fn = 'sin_3_4_05_vol_2.xlsx', \n",
    "                              material='rubber', shape='sin', \n",
    "                              p=3e-3, q=4e-3, lh=40e-3, cell_radius=15e-3, \n",
    "                              theta=0.5, phi=3e-3, length_unit='m',\n",
    "                              num_segments=200, layer_density=1100, air_density=1.21, \n",
    "                              Young_modulus=0.14e9, Poisson_ratio=0.49, loss_factor=0.23, \n",
    "                              medium_density=998, sound_speed_medium=1483, \n",
    "                              use_volume=True)"
   ]
  },
  {
   "cell_type": "code",
   "execution_count": 16,
   "metadata": {},
   "outputs": [
    {
     "name": "stdout",
     "output_type": "stream",
     "text": [
      "self.frequency_array.shape[0] = 101 is same as self.wavenumer_array.shape[0] = 101\n",
      "self.frequency_array.shape[0] = 101 is same as self.wavenumer_array.shape[0] = 101\n",
      "self.frequency_array.shape[0] = 201 is same as self.wavenumer_array.shape[0] = 201\n"
     ]
    },
    {
     "data": {
      "text/plain": [
       "<matplotlib.legend.Legend at 0x15397bb00>"
      ]
     },
     "execution_count": 16,
     "metadata": {},
     "output_type": "execute_result"
    },
    {
     "data": {
      "application/vnd.jupyter.widget-view+json": {
       "model_id": "4fd5261f29c8489099ac0bfe959ff0a1",
       "version_major": 2,
       "version_minor": 0
      },
      "image/png": "[encoded data removed]",
      "text/html": [
       "\n",
       "            <div style=\"display: inline-block;\">\n",
       "                <div class=\"jupyter-widgets widget-label\" style=\"text-align: center;\">\n",
       "                    Figure\n",
       "                </div>\n",
       "                <img src='data:image/png;base64,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' width=640.0/>\n",
       "            </div>\n",
       "        "
      ],
      "text/plain": [
       "Canvas(toolbar=Toolbar(toolitems=[('Home', 'Reset original view', 'home', 'home'), ('Back', 'Back to previous …"
      ]
     },
     "metadata": {},
     "output_type": "display_data"
    }
   ],
   "source": [
    "plt.figure()\n",
    "plt.plot(sin_3_4_05_vol.frequency_array, sin_3_4_05_vol.absorption_frequency(), label='sin, p=3, q=4, fr100, seg100, vol')\n",
    "plt.plot(sin_3_4_05_rad.frequency_array, sin_3_4_05_rad.absorption_frequency(), label='sin, p=3, q=4, fr100, seg100, rad')\n",
    "plt.plot(sin_3_4_05_vol_2.frequency_array, sin_3_4_05_vol_2.absorption_frequency(), label='sin, p=3, q=4, fr50, seg200, vol')\n",
    "# plt.plot(horn_1_11.frequency_array, horn_1_11.absorption_frequency(), label='horn, p=1, q=11, volume')\n",
    "plt.legend()"
   ]
  },
  {
   "cell_type": "code",
   "execution_count": 17,
   "metadata": {},
   "outputs": [],
   "source": [
    "frequency_array = np.arange(2, 10052, 50)"
   ]
  },
  {
   "cell_type": "code",
   "execution_count": 18,
   "metadata": {},
   "outputs": [
    {
     "data": {
      "application/vnd.jupyter.widget-view+json": {
       "model_id": "3cee4dac0a984cbc95538ca0acff58aa",
       "version_major": 2,
       "version_minor": 0
      },
      "image/png": "[encoded data removed]",
      "text/html": [
       "\n",
       "            <div style=\"display: inline-block;\">\n",
       "                <div class=\"jupyter-widgets widget-label\" style=\"text-align: center;\">\n",
       "                    Figure\n",
       "                </div>\n",
       "                <img src='data:image/png;base64,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' width=640.0/>\n",
       "            </div>\n",
       "        "
      ],
      "text/plain": [
       "Canvas(toolbar=Toolbar(toolitems=[('Home', 'Reset original view', 'home', 'home'), ('Back', 'Back to previous …"
      ]
     },
     "metadata": {},
     "output_type": "display_data"
    },
    {
     "name": "stdout",
     "output_type": "stream",
     "text": [
      "Solving wavenumber in determinant for shape = sin, p = 0.003, q = 0.004, Young's = 140000000.0\n"
     ]
    },
    {
     "data": {
      "application/vnd.jupyter.widget-view+json": {
       "model_id": "1d6442ea61764c65be1d24e0cc357508",
       "version_major": 2,
       "version_minor": 0
      },
      "text/plain": [
       "Solving for all frequencies:   0%|          | 0/201 [00:00<?, ?it/s]"
      ]
     },
     "metadata": {},
     "output_type": "display_data"
    },
    {
     "data": {
      "application/vnd.jupyter.widget-view+json": {
       "model_id": "",
       "version_major": 2,
       "version_minor": 0
      },
      "text/plain": [
       "  ... working at frequency = 2.0 Hz:   0%|          | 0/100 [00:00<?, ?it/s]"
      ]
     },
     "metadata": {},
     "output_type": "display_data"
    },
    {
     "data": {
      "application/vnd.jupyter.widget-view+json": {
       "model_id": "",
       "version_major": 2,
       "version_minor": 0
      },
      "text/plain": [
       "  ... working at frequency = 52.0 Hz:   0%|          | 0/100 [00:00<?, ?it/s]"
      ]
     },
     "metadata": {},
     "output_type": "display_data"
    },
    {
     "data": {
      "application/vnd.jupyter.widget-view+json": {
       "model_id": "",
       "version_major": 2,
       "version_minor": 0
      },
      "text/plain": [
       "  ... working at frequency = 102.0 Hz:   0%|          | 0/100 [00:00<?, ?it/s]"
      ]
     },
     "metadata": {},
     "output_type": "display_data"
    },
    {
     "data": {
      "application/vnd.jupyter.widget-view+json": {
       "model_id": "",
       "version_major": 2,
       "version_minor": 0
      },
      "text/plain": [
       "  ... working at frequency = 152.0 Hz:   0%|          | 0/100 [00:00<?, ?it/s]"
      ]
     },
     "metadata": {},
     "output_type": "display_data"
    },
    {
     "data": {
      "application/vnd.jupyter.widget-view+json": {
       "model_id": "",
       "version_major": 2,
       "version_minor": 0
      },
      "text/plain": [
       "  ... working at frequency = 202.0 Hz:   0%|          | 0/100 [00:00<?, ?it/s]"
      ]
     },
     "metadata": {},
     "output_type": "display_data"
    },
    {
     "data": {
      "application/vnd.jupyter.widget-view+json": {
       "model_id": "",
       "version_major": 2,
       "version_minor": 0
      },
      "text/plain": [
       "  ... working at frequency = 252.0 Hz:   0%|          | 0/100 [00:00<?, ?it/s]"
      ]
     },
     "metadata": {},
     "output_type": "display_data"
    },
    {
     "data": {
      "application/vnd.jupyter.widget-view+json": {
       "model_id": "",
       "version_major": 2,
       "version_minor": 0
      },
      "text/plain": [
       "  ... working at frequency = 302.0 Hz:   0%|          | 0/100 [00:00<?, ?it/s]"
      ]
     },
     "metadata": {},
     "output_type": "display_data"
    },
    {
     "data": {
      "application/vnd.jupyter.widget-view+json": {
       "model_id": "",
       "version_major": 2,
       "version_minor": 0
      },
      "text/plain": [
       "  ... working at frequency = 352.0 Hz:   0%|          | 0/100 [00:00<?, ?it/s]"
      ]
     },
     "metadata": {},
     "output_type": "display_data"
    },
    {
     "data": {
      "application/vnd.jupyter.widget-view+json": {
       "model_id": "",
       "version_major": 2,
       "version_minor": 0
      },
      "text/plain": [
       "  ... working at frequency = 402.0 Hz:   0%|          | 0/100 [00:00<?, ?it/s]"
      ]
     },
     "metadata": {},
     "output_type": "display_data"
    },
    {
     "data": {
      "application/vnd.jupyter.widget-view+json": {
       "model_id": "",
       "version_major": 2,
       "version_minor": 0
      },
      "text/plain": [
       "  ... working at frequency = 452.0 Hz:   0%|          | 0/100 [00:00<?, ?it/s]"
      ]
     },
     "metadata": {},
     "output_type": "display_data"
    },
    {
     "data": {
      "application/vnd.jupyter.widget-view+json": {
       "model_id": "",
       "version_major": 2,
       "version_minor": 0
      },
      "text/plain": [
       "  ... working at frequency = 502.0 Hz:   0%|          | 0/100 [00:00<?, ?it/s]"
      ]
     },
     "metadata": {},
     "output_type": "display_data"
    },
    {
     "data": {
      "application/vnd.jupyter.widget-view+json": {
       "model_id": "",
       "version_major": 2,
       "version_minor": 0
      },
      "text/plain": [
       "  ... working at frequency = 552.0 Hz:   0%|          | 0/100 [00:00<?, ?it/s]"
      ]
     },
     "metadata": {},
     "output_type": "display_data"
    },
    {
     "data": {
      "application/vnd.jupyter.widget-view+json": {
       "model_id": "",
       "version_major": 2,
       "version_minor": 0
      },
      "text/plain": [
       "  ... working at frequency = 602.0 Hz:   0%|          | 0/100 [00:00<?, ?it/s]"
      ]
     },
     "metadata": {},
     "output_type": "display_data"
    },
    {
     "data": {
      "application/vnd.jupyter.widget-view+json": {
       "model_id": "",
       "version_major": 2,
       "version_minor": 0
      },
      "text/plain": [
       "  ... working at frequency = 652.0 Hz:   0%|          | 0/100 [00:00<?, ?it/s]"
      ]
     },
     "metadata": {},
     "output_type": "display_data"
    },
    {
     "data": {
      "application/vnd.jupyter.widget-view+json": {
       "model_id": "",
       "version_major": 2,
       "version_minor": 0
      },
      "text/plain": [
       "  ... working at frequency = 702.0 Hz:   0%|          | 0/100 [00:00<?, ?it/s]"
      ]
     },
     "metadata": {},
     "output_type": "display_data"
    },
    {
     "data": {
      "application/vnd.jupyter.widget-view+json": {
       "model_id": "",
       "version_major": 2,
       "version_minor": 0
      },
      "text/plain": [
       "  ... working at frequency = 752.0 Hz:   0%|          | 0/100 [00:00<?, ?it/s]"
      ]
     },
     "metadata": {},
     "output_type": "display_data"
    },
    {
     "data": {
      "application/vnd.jupyter.widget-view+json": {
       "model_id": "",
       "version_major": 2,
       "version_minor": 0
      },
      "text/plain": [
       "  ... working at frequency = 802.0 Hz:   0%|          | 0/100 [00:00<?, ?it/s]"
      ]
     },
     "metadata": {},
     "output_type": "display_data"
    },
    {
     "data": {
      "application/vnd.jupyter.widget-view+json": {
       "model_id": "",
       "version_major": 2,
       "version_minor": 0
      },
      "text/plain": [
       "  ... working at frequency = 852.0 Hz:   0%|          | 0/100 [00:00<?, ?it/s]"
      ]
     },
     "metadata": {},
     "output_type": "display_data"
    },
    {
     "data": {
      "application/vnd.jupyter.widget-view+json": {
       "model_id": "",
       "version_major": 2,
       "version_minor": 0
      },
      "text/plain": [
       "  ... working at frequency = 902.0 Hz:   0%|          | 0/100 [00:00<?, ?it/s]"
      ]
     },
     "metadata": {},
     "output_type": "display_data"
    },
    {
     "data": {
      "application/vnd.jupyter.widget-view+json": {
       "model_id": "",
       "version_major": 2,
       "version_minor": 0
      },
      "text/plain": [
       "  ... working at frequency = 952.0 Hz:   0%|          | 0/100 [00:00<?, ?it/s]"
      ]
     },
     "metadata": {},
     "output_type": "display_data"
    },
    {
     "data": {
      "application/vnd.jupyter.widget-view+json": {
       "model_id": "",
       "version_major": 2,
       "version_minor": 0
      },
      "text/plain": [
       "  ... working at frequency = 1002.0 Hz:   0%|          | 0/100 [00:00<?, ?it/s]"
      ]
     },
     "metadata": {},
     "output_type": "display_data"
    },
    {
     "data": {
      "application/vnd.jupyter.widget-view+json": {
       "model_id": "",
       "version_major": 2,
       "version_minor": 0
      },
      "text/plain": [
       "  ... working at frequency = 1052.0 Hz:   0%|          | 0/100 [00:00<?, ?it/s]"
      ]
     },
     "metadata": {},
     "output_type": "display_data"
    },
    {
     "data": {
      "application/vnd.jupyter.widget-view+json": {
       "model_id": "",
       "version_major": 2,
       "version_minor": 0
      },
      "text/plain": [
       "  ... working at frequency = 1102.0 Hz:   0%|          | 0/100 [00:00<?, ?it/s]"
      ]
     },
     "metadata": {},
     "output_type": "display_data"
    },
    {
     "data": {
      "application/vnd.jupyter.widget-view+json": {
       "model_id": "",
       "version_major": 2,
       "version_minor": 0
      },
      "text/plain": [
       "  ... working at frequency = 1152.0 Hz:   0%|          | 0/100 [00:00<?, ?it/s]"
      ]
     },
     "metadata": {},
     "output_type": "display_data"
    },
    {
     "data": {
      "application/vnd.jupyter.widget-view+json": {
       "model_id": "",
       "version_major": 2,
       "version_minor": 0
      },
      "text/plain": [
       "  ... working at frequency = 1202.0 Hz:   0%|          | 0/100 [00:00<?, ?it/s]"
      ]
     },
     "metadata": {},
     "output_type": "display_data"
    },
    {
     "data": {
      "application/vnd.jupyter.widget-view+json": {
       "model_id": "",
       "version_major": 2,
       "version_minor": 0
      },
      "text/plain": [
       "  ... working at frequency = 1252.0 Hz:   0%|          | 0/100 [00:00<?, ?it/s]"
      ]
     },
     "metadata": {},
     "output_type": "display_data"
    },
    {
     "data": {
      "application/vnd.jupyter.widget-view+json": {
       "model_id": "",
       "version_major": 2,
       "version_minor": 0
      },
      "text/plain": [
       "  ... working at frequency = 1302.0 Hz:   0%|          | 0/100 [00:00<?, ?it/s]"
      ]
     },
     "metadata": {},
     "output_type": "display_data"
    },
    {
     "data": {
      "application/vnd.jupyter.widget-view+json": {
       "model_id": "",
       "version_major": 2,
       "version_minor": 0
      },
      "text/plain": [
       "  ... working at frequency = 1352.0 Hz:   0%|          | 0/100 [00:00<?, ?it/s]"
      ]
     },
     "metadata": {},
     "output_type": "display_data"
    },
    {
     "data": {
      "application/vnd.jupyter.widget-view+json": {
       "model_id": "",
       "version_major": 2,
       "version_minor": 0
      },
      "text/plain": [
       "  ... working at frequency = 1402.0 Hz:   0%|          | 0/100 [00:00<?, ?it/s]"
      ]
     },
     "metadata": {},
     "output_type": "display_data"
    },
    {
     "data": {
      "application/vnd.jupyter.widget-view+json": {
       "model_id": "",
       "version_major": 2,
       "version_minor": 0
      },
      "text/plain": [
       "  ... working at frequency = 1452.0 Hz:   0%|          | 0/100 [00:00<?, ?it/s]"
      ]
     },
     "metadata": {},
     "output_type": "display_data"
    },
    {
     "data": {
      "application/vnd.jupyter.widget-view+json": {
       "model_id": "",
       "version_major": 2,
       "version_minor": 0
      },
      "text/plain": [
       "  ... working at frequency = 1502.0 Hz:   0%|          | 0/100 [00:00<?, ?it/s]"
      ]
     },
     "metadata": {},
     "output_type": "display_data"
    },
    {
     "data": {
      "application/vnd.jupyter.widget-view+json": {
       "model_id": "",
       "version_major": 2,
       "version_minor": 0
      },
      "text/plain": [
       "  ... working at frequency = 1552.0 Hz:   0%|          | 0/100 [00:00<?, ?it/s]"
      ]
     },
     "metadata": {},
     "output_type": "display_data"
    },
    {
     "data": {
      "application/vnd.jupyter.widget-view+json": {
       "model_id": "",
       "version_major": 2,
       "version_minor": 0
      },
      "text/plain": [
       "  ... working at frequency = 1602.0 Hz:   0%|          | 0/100 [00:00<?, ?it/s]"
      ]
     },
     "metadata": {},
     "output_type": "display_data"
    },
    {
     "data": {
      "application/vnd.jupyter.widget-view+json": {
       "model_id": "",
       "version_major": 2,
       "version_minor": 0
      },
      "text/plain": [
       "  ... working at frequency = 1652.0 Hz:   0%|          | 0/100 [00:00<?, ?it/s]"
      ]
     },
     "metadata": {},
     "output_type": "display_data"
    },
    {
     "data": {
      "application/vnd.jupyter.widget-view+json": {
       "model_id": "",
       "version_major": 2,
       "version_minor": 0
      },
      "text/plain": [
       "  ... working at frequency = 1702.0 Hz:   0%|          | 0/100 [00:00<?, ?it/s]"
      ]
     },
     "metadata": {},
     "output_type": "display_data"
    },
    {
     "data": {
      "application/vnd.jupyter.widget-view+json": {
       "model_id": "",
       "version_major": 2,
       "version_minor": 0
      },
      "text/plain": [
       "  ... working at frequency = 1752.0 Hz:   0%|          | 0/100 [00:00<?, ?it/s]"
      ]
     },
     "metadata": {},
     "output_type": "display_data"
    },
    {
     "data": {
      "application/vnd.jupyter.widget-view+json": {
       "model_id": "",
       "version_major": 2,
       "version_minor": 0
      },
      "text/plain": [
       "  ... working at frequency = 1802.0 Hz:   0%|          | 0/100 [00:00<?, ?it/s]"
      ]
     },
     "metadata": {},
     "output_type": "display_data"
    },
    {
     "data": {
      "application/vnd.jupyter.widget-view+json": {
       "model_id": "",
       "version_major": 2,
       "version_minor": 0
      },
      "text/plain": [
       "  ... working at frequency = 1852.0 Hz:   0%|          | 0/100 [00:00<?, ?it/s]"
      ]
     },
     "metadata": {},
     "output_type": "display_data"
    },
    {
     "data": {
      "application/vnd.jupyter.widget-view+json": {
       "model_id": "",
       "version_major": 2,
       "version_minor": 0
      },
      "text/plain": [
       "  ... working at frequency = 1902.0 Hz:   0%|          | 0/100 [00:00<?, ?it/s]"
      ]
     },
     "metadata": {},
     "output_type": "display_data"
    },
    {
     "data": {
      "application/vnd.jupyter.widget-view+json": {
       "model_id": "",
       "version_major": 2,
       "version_minor": 0
      },
      "text/plain": [
       "  ... working at frequency = 1952.0 Hz:   0%|          | 0/100 [00:00<?, ?it/s]"
      ]
     },
     "metadata": {},
     "output_type": "display_data"
    },
    {
     "data": {
      "application/vnd.jupyter.widget-view+json": {
       "model_id": "",
       "version_major": 2,
       "version_minor": 0
      },
      "text/plain": [
       "  ... working at frequency = 2002.0 Hz:   0%|          | 0/100 [00:00<?, ?it/s]"
      ]
     },
     "metadata": {},
     "output_type": "display_data"
    },
    {
     "data": {
      "application/vnd.jupyter.widget-view+json": {
       "model_id": "",
       "version_major": 2,
       "version_minor": 0
      },
      "text/plain": [
       "  ... working at frequency = 2052.0 Hz:   0%|          | 0/100 [00:00<?, ?it/s]"
      ]
     },
     "metadata": {},
     "output_type": "display_data"
    },
    {
     "data": {
      "application/vnd.jupyter.widget-view+json": {
       "model_id": "",
       "version_major": 2,
       "version_minor": 0
      },
      "text/plain": [
       "  ... working at frequency = 2102.0 Hz:   0%|          | 0/100 [00:00<?, ?it/s]"
      ]
     },
     "metadata": {},
     "output_type": "display_data"
    },
    {
     "data": {
      "application/vnd.jupyter.widget-view+json": {
       "model_id": "",
       "version_major": 2,
       "version_minor": 0
      },
      "text/plain": [
       "  ... working at frequency = 2152.0 Hz:   0%|          | 0/100 [00:00<?, ?it/s]"
      ]
     },
     "metadata": {},
     "output_type": "display_data"
    },
    {
     "data": {
      "application/vnd.jupyter.widget-view+json": {
       "model_id": "",
       "version_major": 2,
       "version_minor": 0
      },
      "text/plain": [
       "  ... working at frequency = 2202.0 Hz:   0%|          | 0/100 [00:00<?, ?it/s]"
      ]
     },
     "metadata": {},
     "output_type": "display_data"
    },
    {
     "data": {
      "application/vnd.jupyter.widget-view+json": {
       "model_id": "",
       "version_major": 2,
       "version_minor": 0
      },
      "text/plain": [
       "  ... working at frequency = 2252.0 Hz:   0%|          | 0/100 [00:00<?, ?it/s]"
      ]
     },
     "metadata": {},
     "output_type": "display_data"
    },
    {
     "data": {
      "application/vnd.jupyter.widget-view+json": {
       "model_id": "",
       "version_major": 2,
       "version_minor": 0
      },
      "text/plain": [
       "  ... working at frequency = 2302.0 Hz:   0%|          | 0/100 [00:00<?, ?it/s]"
      ]
     },
     "metadata": {},
     "output_type": "display_data"
    },
    {
     "data": {
      "application/vnd.jupyter.widget-view+json": {
       "model_id": "",
       "version_major": 2,
       "version_minor": 0
      },
      "text/plain": [
       "  ... working at frequency = 2352.0 Hz:   0%|          | 0/100 [00:00<?, ?it/s]"
      ]
     },
     "metadata": {},
     "output_type": "display_data"
    },
    {
     "data": {
      "application/vnd.jupyter.widget-view+json": {
       "model_id": "",
       "version_major": 2,
       "version_minor": 0
      },
      "text/plain": [
       "  ... working at frequency = 2402.0 Hz:   0%|          | 0/100 [00:00<?, ?it/s]"
      ]
     },
     "metadata": {},
     "output_type": "display_data"
    },
    {
     "data": {
      "application/vnd.jupyter.widget-view+json": {
       "model_id": "",
       "version_major": 2,
       "version_minor": 0
      },
      "text/plain": [
       "  ... working at frequency = 2452.0 Hz:   0%|          | 0/100 [00:00<?, ?it/s]"
      ]
     },
     "metadata": {},
     "output_type": "display_data"
    },
    {
     "data": {
      "application/vnd.jupyter.widget-view+json": {
       "model_id": "",
       "version_major": 2,
       "version_minor": 0
      },
      "text/plain": [
       "  ... working at frequency = 2502.0 Hz:   0%|          | 0/100 [00:00<?, ?it/s]"
      ]
     },
     "metadata": {},
     "output_type": "display_data"
    },
    {
     "data": {
      "application/vnd.jupyter.widget-view+json": {
       "model_id": "",
       "version_major": 2,
       "version_minor": 0
      },
      "text/plain": [
       "  ... working at frequency = 2552.0 Hz:   0%|          | 0/100 [00:00<?, ?it/s]"
      ]
     },
     "metadata": {},
     "output_type": "display_data"
    },
    {
     "data": {
      "application/vnd.jupyter.widget-view+json": {
       "model_id": "",
       "version_major": 2,
       "version_minor": 0
      },
      "text/plain": [
       "  ... working at frequency = 2602.0 Hz:   0%|          | 0/100 [00:00<?, ?it/s]"
      ]
     },
     "metadata": {},
     "output_type": "display_data"
    },
    {
     "data": {
      "application/vnd.jupyter.widget-view+json": {
       "model_id": "",
       "version_major": 2,
       "version_minor": 0
      },
      "text/plain": [
       "  ... working at frequency = 2652.0 Hz:   0%|          | 0/100 [00:00<?, ?it/s]"
      ]
     },
     "metadata": {},
     "output_type": "display_data"
    },
    {
     "data": {
      "application/vnd.jupyter.widget-view+json": {
       "model_id": "",
       "version_major": 2,
       "version_minor": 0
      },
      "text/plain": [
       "  ... working at frequency = 2702.0 Hz:   0%|          | 0/100 [00:00<?, ?it/s]"
      ]
     },
     "metadata": {},
     "output_type": "display_data"
    },
    {
     "data": {
      "application/vnd.jupyter.widget-view+json": {
       "model_id": "",
       "version_major": 2,
       "version_minor": 0
      },
      "text/plain": [
       "  ... working at frequency = 2752.0 Hz:   0%|          | 0/100 [00:00<?, ?it/s]"
      ]
     },
     "metadata": {},
     "output_type": "display_data"
    },
    {
     "data": {
      "application/vnd.jupyter.widget-view+json": {
       "model_id": "",
       "version_major": 2,
       "version_minor": 0
      },
      "text/plain": [
       "  ... working at frequency = 2802.0 Hz:   0%|          | 0/100 [00:00<?, ?it/s]"
      ]
     },
     "metadata": {},
     "output_type": "display_data"
    },
    {
     "data": {
      "application/vnd.jupyter.widget-view+json": {
       "model_id": "",
       "version_major": 2,
       "version_minor": 0
      },
      "text/plain": [
       "  ... working at frequency = 2852.0 Hz:   0%|          | 0/100 [00:00<?, ?it/s]"
      ]
     },
     "metadata": {},
     "output_type": "display_data"
    },
    {
     "data": {
      "application/vnd.jupyter.widget-view+json": {
       "model_id": "",
       "version_major": 2,
       "version_minor": 0
      },
      "text/plain": [
       "  ... working at frequency = 2902.0 Hz:   0%|          | 0/100 [00:00<?, ?it/s]"
      ]
     },
     "metadata": {},
     "output_type": "display_data"
    },
    {
     "data": {
      "application/vnd.jupyter.widget-view+json": {
       "model_id": "",
       "version_major": 2,
       "version_minor": 0
      },
      "text/plain": [
       "  ... working at frequency = 2952.0 Hz:   0%|          | 0/100 [00:00<?, ?it/s]"
      ]
     },
     "metadata": {},
     "output_type": "display_data"
    },
    {
     "data": {
      "application/vnd.jupyter.widget-view+json": {
       "model_id": "",
       "version_major": 2,
       "version_minor": 0
      },
      "text/plain": [
       "  ... working at frequency = 3002.0 Hz:   0%|          | 0/100 [00:00<?, ?it/s]"
      ]
     },
     "metadata": {},
     "output_type": "display_data"
    },
    {
     "data": {
      "application/vnd.jupyter.widget-view+json": {
       "model_id": "",
       "version_major": 2,
       "version_minor": 0
      },
      "text/plain": [
       "  ... working at frequency = 3052.0 Hz:   0%|          | 0/100 [00:00<?, ?it/s]"
      ]
     },
     "metadata": {},
     "output_type": "display_data"
    },
    {
     "data": {
      "application/vnd.jupyter.widget-view+json": {
       "model_id": "",
       "version_major": 2,
       "version_minor": 0
      },
      "text/plain": [
       "  ... working at frequency = 3102.0 Hz:   0%|          | 0/100 [00:00<?, ?it/s]"
      ]
     },
     "metadata": {},
     "output_type": "display_data"
    },
    {
     "data": {
      "application/vnd.jupyter.widget-view+json": {
       "model_id": "",
       "version_major": 2,
       "version_minor": 0
      },
      "text/plain": [
       "  ... working at frequency = 3152.0 Hz:   0%|          | 0/100 [00:00<?, ?it/s]"
      ]
     },
     "metadata": {},
     "output_type": "display_data"
    },
    {
     "data": {
      "application/vnd.jupyter.widget-view+json": {
       "model_id": "",
       "version_major": 2,
       "version_minor": 0
      },
      "text/plain": [
       "  ... working at frequency = 3202.0 Hz:   0%|          | 0/100 [00:00<?, ?it/s]"
      ]
     },
     "metadata": {},
     "output_type": "display_data"
    },
    {
     "data": {
      "application/vnd.jupyter.widget-view+json": {
       "model_id": "",
       "version_major": 2,
       "version_minor": 0
      },
      "text/plain": [
       "  ... working at frequency = 3252.0 Hz:   0%|          | 0/100 [00:00<?, ?it/s]"
      ]
     },
     "metadata": {},
     "output_type": "display_data"
    },
    {
     "data": {
      "application/vnd.jupyter.widget-view+json": {
       "model_id": "",
       "version_major": 2,
       "version_minor": 0
      },
      "text/plain": [
       "  ... working at frequency = 3302.0 Hz:   0%|          | 0/100 [00:00<?, ?it/s]"
      ]
     },
     "metadata": {},
     "output_type": "display_data"
    },
    {
     "data": {
      "application/vnd.jupyter.widget-view+json": {
       "model_id": "",
       "version_major": 2,
       "version_minor": 0
      },
      "text/plain": [
       "  ... working at frequency = 3352.0 Hz:   0%|          | 0/100 [00:00<?, ?it/s]"
      ]
     },
     "metadata": {},
     "output_type": "display_data"
    },
    {
     "data": {
      "application/vnd.jupyter.widget-view+json": {
       "model_id": "",
       "version_major": 2,
       "version_minor": 0
      },
      "text/plain": [
       "  ... working at frequency = 3402.0 Hz:   0%|          | 0/100 [00:00<?, ?it/s]"
      ]
     },
     "metadata": {},
     "output_type": "display_data"
    },
    {
     "data": {
      "application/vnd.jupyter.widget-view+json": {
       "model_id": "",
       "version_major": 2,
       "version_minor": 0
      },
      "text/plain": [
       "  ... working at frequency = 3452.0 Hz:   0%|          | 0/100 [00:00<?, ?it/s]"
      ]
     },
     "metadata": {},
     "output_type": "display_data"
    },
    {
     "data": {
      "application/vnd.jupyter.widget-view+json": {
       "model_id": "",
       "version_major": 2,
       "version_minor": 0
      },
      "text/plain": [
       "  ... working at frequency = 3502.0 Hz:   0%|          | 0/100 [00:00<?, ?it/s]"
      ]
     },
     "metadata": {},
     "output_type": "display_data"
    },
    {
     "data": {
      "application/vnd.jupyter.widget-view+json": {
       "model_id": "",
       "version_major": 2,
       "version_minor": 0
      },
      "text/plain": [
       "  ... working at frequency = 3552.0 Hz:   0%|          | 0/100 [00:00<?, ?it/s]"
      ]
     },
     "metadata": {},
     "output_type": "display_data"
    },
    {
     "data": {
      "application/vnd.jupyter.widget-view+json": {
       "model_id": "",
       "version_major": 2,
       "version_minor": 0
      },
      "text/plain": [
       "  ... working at frequency = 3602.0 Hz:   0%|          | 0/100 [00:00<?, ?it/s]"
      ]
     },
     "metadata": {},
     "output_type": "display_data"
    },
    {
     "data": {
      "application/vnd.jupyter.widget-view+json": {
       "model_id": "",
       "version_major": 2,
       "version_minor": 0
      },
      "text/plain": [
       "  ... working at frequency = 3652.0 Hz:   0%|          | 0/100 [00:00<?, ?it/s]"
      ]
     },
     "metadata": {},
     "output_type": "display_data"
    },
    {
     "data": {
      "application/vnd.jupyter.widget-view+json": {
       "model_id": "",
       "version_major": 2,
       "version_minor": 0
      },
      "text/plain": [
       "  ... working at frequency = 3702.0 Hz:   0%|          | 0/100 [00:00<?, ?it/s]"
      ]
     },
     "metadata": {},
     "output_type": "display_data"
    },
    {
     "data": {
      "application/vnd.jupyter.widget-view+json": {
       "model_id": "",
       "version_major": 2,
       "version_minor": 0
      },
      "text/plain": [
       "  ... working at frequency = 3752.0 Hz:   0%|          | 0/100 [00:00<?, ?it/s]"
      ]
     },
     "metadata": {},
     "output_type": "display_data"
    },
    {
     "data": {
      "application/vnd.jupyter.widget-view+json": {
       "model_id": "",
       "version_major": 2,
       "version_minor": 0
      },
      "text/plain": [
       "  ... working at frequency = 3802.0 Hz:   0%|          | 0/100 [00:00<?, ?it/s]"
      ]
     },
     "metadata": {},
     "output_type": "display_data"
    },
    {
     "data": {
      "application/vnd.jupyter.widget-view+json": {
       "model_id": "",
       "version_major": 2,
       "version_minor": 0
      },
      "text/plain": [
       "  ... working at frequency = 3852.0 Hz:   0%|          | 0/100 [00:00<?, ?it/s]"
      ]
     },
     "metadata": {},
     "output_type": "display_data"
    },
    {
     "data": {
      "application/vnd.jupyter.widget-view+json": {
       "model_id": "",
       "version_major": 2,
       "version_minor": 0
      },
      "text/plain": [
       "  ... working at frequency = 3902.0 Hz:   0%|          | 0/100 [00:00<?, ?it/s]"
      ]
     },
     "metadata": {},
     "output_type": "display_data"
    },
    {
     "data": {
      "application/vnd.jupyter.widget-view+json": {
       "model_id": "",
       "version_major": 2,
       "version_minor": 0
      },
      "text/plain": [
       "  ... working at frequency = 3952.0 Hz:   0%|          | 0/100 [00:00<?, ?it/s]"
      ]
     },
     "metadata": {},
     "output_type": "display_data"
    },
    {
     "data": {
      "application/vnd.jupyter.widget-view+json": {
       "model_id": "",
       "version_major": 2,
       "version_minor": 0
      },
      "text/plain": [
       "  ... working at frequency = 4002.0 Hz:   0%|          | 0/100 [00:00<?, ?it/s]"
      ]
     },
     "metadata": {},
     "output_type": "display_data"
    },
    {
     "data": {
      "application/vnd.jupyter.widget-view+json": {
       "model_id": "",
       "version_major": 2,
       "version_minor": 0
      },
      "text/plain": [
       "  ... working at frequency = 4052.0 Hz:   0%|          | 0/100 [00:00<?, ?it/s]"
      ]
     },
     "metadata": {},
     "output_type": "display_data"
    },
    {
     "data": {
      "application/vnd.jupyter.widget-view+json": {
       "model_id": "",
       "version_major": 2,
       "version_minor": 0
      },
      "text/plain": [
       "  ... working at frequency = 4102.0 Hz:   0%|          | 0/100 [00:00<?, ?it/s]"
      ]
     },
     "metadata": {},
     "output_type": "display_data"
    },
    {
     "data": {
      "application/vnd.jupyter.widget-view+json": {
       "model_id": "",
       "version_major": 2,
       "version_minor": 0
      },
      "text/plain": [
       "  ... working at frequency = 4152.0 Hz:   0%|          | 0/100 [00:00<?, ?it/s]"
      ]
     },
     "metadata": {},
     "output_type": "display_data"
    },
    {
     "data": {
      "application/vnd.jupyter.widget-view+json": {
       "model_id": "",
       "version_major": 2,
       "version_minor": 0
      },
      "text/plain": [
       "  ... working at frequency = 4202.0 Hz:   0%|          | 0/100 [00:00<?, ?it/s]"
      ]
     },
     "metadata": {},
     "output_type": "display_data"
    },
    {
     "data": {
      "application/vnd.jupyter.widget-view+json": {
       "model_id": "",
       "version_major": 2,
       "version_minor": 0
      },
      "text/plain": [
       "  ... working at frequency = 4252.0 Hz:   0%|          | 0/100 [00:00<?, ?it/s]"
      ]
     },
     "metadata": {},
     "output_type": "display_data"
    },
    {
     "data": {
      "application/vnd.jupyter.widget-view+json": {
       "model_id": "",
       "version_major": 2,
       "version_minor": 0
      },
      "text/plain": [
       "  ... working at frequency = 4302.0 Hz:   0%|          | 0/100 [00:00<?, ?it/s]"
      ]
     },
     "metadata": {},
     "output_type": "display_data"
    },
    {
     "data": {
      "application/vnd.jupyter.widget-view+json": {
       "model_id": "",
       "version_major": 2,
       "version_minor": 0
      },
      "text/plain": [
       "  ... working at frequency = 4352.0 Hz:   0%|          | 0/100 [00:00<?, ?it/s]"
      ]
     },
     "metadata": {},
     "output_type": "display_data"
    },
    {
     "data": {
      "application/vnd.jupyter.widget-view+json": {
       "model_id": "",
       "version_major": 2,
       "version_minor": 0
      },
      "text/plain": [
       "  ... working at frequency = 4402.0 Hz:   0%|          | 0/100 [00:00<?, ?it/s]"
      ]
     },
     "metadata": {},
     "output_type": "display_data"
    },
    {
     "data": {
      "application/vnd.jupyter.widget-view+json": {
       "model_id": "",
       "version_major": 2,
       "version_minor": 0
      },
      "text/plain": [
       "  ... working at frequency = 4452.0 Hz:   0%|          | 0/100 [00:00<?, ?it/s]"
      ]
     },
     "metadata": {},
     "output_type": "display_data"
    },
    {
     "data": {
      "application/vnd.jupyter.widget-view+json": {
       "model_id": "",
       "version_major": 2,
       "version_minor": 0
      },
      "text/plain": [
       "  ... working at frequency = 4502.0 Hz:   0%|          | 0/100 [00:00<?, ?it/s]"
      ]
     },
     "metadata": {},
     "output_type": "display_data"
    },
    {
     "data": {
      "application/vnd.jupyter.widget-view+json": {
       "model_id": "",
       "version_major": 2,
       "version_minor": 0
      },
      "text/plain": [
       "  ... working at frequency = 4552.0 Hz:   0%|          | 0/100 [00:00<?, ?it/s]"
      ]
     },
     "metadata": {},
     "output_type": "display_data"
    },
    {
     "data": {
      "application/vnd.jupyter.widget-view+json": {
       "model_id": "",
       "version_major": 2,
       "version_minor": 0
      },
      "text/plain": [
       "  ... working at frequency = 4602.0 Hz:   0%|          | 0/100 [00:00<?, ?it/s]"
      ]
     },
     "metadata": {},
     "output_type": "display_data"
    },
    {
     "data": {
      "application/vnd.jupyter.widget-view+json": {
       "model_id": "",
       "version_major": 2,
       "version_minor": 0
      },
      "text/plain": [
       "  ... working at frequency = 4652.0 Hz:   0%|          | 0/100 [00:00<?, ?it/s]"
      ]
     },
     "metadata": {},
     "output_type": "display_data"
    },
    {
     "data": {
      "application/vnd.jupyter.widget-view+json": {
       "model_id": "",
       "version_major": 2,
       "version_minor": 0
      },
      "text/plain": [
       "  ... working at frequency = 4702.0 Hz:   0%|          | 0/100 [00:00<?, ?it/s]"
      ]
     },
     "metadata": {},
     "output_type": "display_data"
    },
    {
     "data": {
      "application/vnd.jupyter.widget-view+json": {
       "model_id": "",
       "version_major": 2,
       "version_minor": 0
      },
      "text/plain": [
       "  ... working at frequency = 4752.0 Hz:   0%|          | 0/100 [00:00<?, ?it/s]"
      ]
     },
     "metadata": {},
     "output_type": "display_data"
    },
    {
     "data": {
      "application/vnd.jupyter.widget-view+json": {
       "model_id": "",
       "version_major": 2,
       "version_minor": 0
      },
      "text/plain": [
       "  ... working at frequency = 4802.0 Hz:   0%|          | 0/100 [00:00<?, ?it/s]"
      ]
     },
     "metadata": {},
     "output_type": "display_data"
    },
    {
     "data": {
      "application/vnd.jupyter.widget-view+json": {
       "model_id": "",
       "version_major": 2,
       "version_minor": 0
      },
      "text/plain": [
       "  ... working at frequency = 4852.0 Hz:   0%|          | 0/100 [00:00<?, ?it/s]"
      ]
     },
     "metadata": {},
     "output_type": "display_data"
    },
    {
     "data": {
      "application/vnd.jupyter.widget-view+json": {
       "model_id": "",
       "version_major": 2,
       "version_minor": 0
      },
      "text/plain": [
       "  ... working at frequency = 4902.0 Hz:   0%|          | 0/100 [00:00<?, ?it/s]"
      ]
     },
     "metadata": {},
     "output_type": "display_data"
    },
    {
     "data": {
      "application/vnd.jupyter.widget-view+json": {
       "model_id": "",
       "version_major": 2,
       "version_minor": 0
      },
      "text/plain": [
       "  ... working at frequency = 4952.0 Hz:   0%|          | 0/100 [00:00<?, ?it/s]"
      ]
     },
     "metadata": {},
     "output_type": "display_data"
    },
    {
     "data": {
      "application/vnd.jupyter.widget-view+json": {
       "model_id": "",
       "version_major": 2,
       "version_minor": 0
      },
      "text/plain": [
       "  ... working at frequency = 5002.0 Hz:   0%|          | 0/100 [00:00<?, ?it/s]"
      ]
     },
     "metadata": {},
     "output_type": "display_data"
    },
    {
     "data": {
      "application/vnd.jupyter.widget-view+json": {
       "model_id": "",
       "version_major": 2,
       "version_minor": 0
      },
      "text/plain": [
       "  ... working at frequency = 5052.0 Hz:   0%|          | 0/100 [00:00<?, ?it/s]"
      ]
     },
     "metadata": {},
     "output_type": "display_data"
    },
    {
     "data": {
      "application/vnd.jupyter.widget-view+json": {
       "model_id": "",
       "version_major": 2,
       "version_minor": 0
      },
      "text/plain": [
       "  ... working at frequency = 5102.0 Hz:   0%|          | 0/100 [00:00<?, ?it/s]"
      ]
     },
     "metadata": {},
     "output_type": "display_data"
    },
    {
     "data": {
      "application/vnd.jupyter.widget-view+json": {
       "model_id": "",
       "version_major": 2,
       "version_minor": 0
      },
      "text/plain": [
       "  ... working at frequency = 5152.0 Hz:   0%|          | 0/100 [00:00<?, ?it/s]"
      ]
     },
     "metadata": {},
     "output_type": "display_data"
    },
    {
     "data": {
      "application/vnd.jupyter.widget-view+json": {
       "model_id": "",
       "version_major": 2,
       "version_minor": 0
      },
      "text/plain": [
       "  ... working at frequency = 5202.0 Hz:   0%|          | 0/100 [00:00<?, ?it/s]"
      ]
     },
     "metadata": {},
     "output_type": "display_data"
    },
    {
     "data": {
      "application/vnd.jupyter.widget-view+json": {
       "model_id": "",
       "version_major": 2,
       "version_minor": 0
      },
      "text/plain": [
       "  ... working at frequency = 5252.0 Hz:   0%|          | 0/100 [00:00<?, ?it/s]"
      ]
     },
     "metadata": {},
     "output_type": "display_data"
    },
    {
     "data": {
      "application/vnd.jupyter.widget-view+json": {
       "model_id": "",
       "version_major": 2,
       "version_minor": 0
      },
      "text/plain": [
       "  ... working at frequency = 5302.0 Hz:   0%|          | 0/100 [00:00<?, ?it/s]"
      ]
     },
     "metadata": {},
     "output_type": "display_data"
    },
    {
     "data": {
      "application/vnd.jupyter.widget-view+json": {
       "model_id": "",
       "version_major": 2,
       "version_minor": 0
      },
      "text/plain": [
       "  ... working at frequency = 5352.0 Hz:   0%|          | 0/100 [00:00<?, ?it/s]"
      ]
     },
     "metadata": {},
     "output_type": "display_data"
    },
    {
     "data": {
      "application/vnd.jupyter.widget-view+json": {
       "model_id": "",
       "version_major": 2,
       "version_minor": 0
      },
      "text/plain": [
       "  ... working at frequency = 5402.0 Hz:   0%|          | 0/100 [00:00<?, ?it/s]"
      ]
     },
     "metadata": {},
     "output_type": "display_data"
    },
    {
     "data": {
      "application/vnd.jupyter.widget-view+json": {
       "model_id": "",
       "version_major": 2,
       "version_minor": 0
      },
      "text/plain": [
       "  ... working at frequency = 5452.0 Hz:   0%|          | 0/100 [00:00<?, ?it/s]"
      ]
     },
     "metadata": {},
     "output_type": "display_data"
    },
    {
     "data": {
      "application/vnd.jupyter.widget-view+json": {
       "model_id": "",
       "version_major": 2,
       "version_minor": 0
      },
      "text/plain": [
       "  ... working at frequency = 5502.0 Hz:   0%|          | 0/100 [00:00<?, ?it/s]"
      ]
     },
     "metadata": {},
     "output_type": "display_data"
    },
    {
     "data": {
      "application/vnd.jupyter.widget-view+json": {
       "model_id": "",
       "version_major": 2,
       "version_minor": 0
      },
      "text/plain": [
       "  ... working at frequency = 5552.0 Hz:   0%|          | 0/100 [00:00<?, ?it/s]"
      ]
     },
     "metadata": {},
     "output_type": "display_data"
    },
    {
     "data": {
      "application/vnd.jupyter.widget-view+json": {
       "model_id": "",
       "version_major": 2,
       "version_minor": 0
      },
      "text/plain": [
       "  ... working at frequency = 5602.0 Hz:   0%|          | 0/100 [00:00<?, ?it/s]"
      ]
     },
     "metadata": {},
     "output_type": "display_data"
    },
    {
     "data": {
      "application/vnd.jupyter.widget-view+json": {
       "model_id": "",
       "version_major": 2,
       "version_minor": 0
      },
      "text/plain": [
       "  ... working at frequency = 5652.0 Hz:   0%|          | 0/100 [00:00<?, ?it/s]"
      ]
     },
     "metadata": {},
     "output_type": "display_data"
    },
    {
     "data": {
      "application/vnd.jupyter.widget-view+json": {
       "model_id": "",
       "version_major": 2,
       "version_minor": 0
      },
      "text/plain": [
       "  ... working at frequency = 5702.0 Hz:   0%|          | 0/100 [00:00<?, ?it/s]"
      ]
     },
     "metadata": {},
     "output_type": "display_data"
    },
    {
     "data": {
      "application/vnd.jupyter.widget-view+json": {
       "model_id": "",
       "version_major": 2,
       "version_minor": 0
      },
      "text/plain": [
       "  ... working at frequency = 5752.0 Hz:   0%|          | 0/100 [00:00<?, ?it/s]"
      ]
     },
     "metadata": {},
     "output_type": "display_data"
    },
    {
     "data": {
      "application/vnd.jupyter.widget-view+json": {
       "model_id": "",
       "version_major": 2,
       "version_minor": 0
      },
      "text/plain": [
       "  ... working at frequency = 5802.0 Hz:   0%|          | 0/100 [00:00<?, ?it/s]"
      ]
     },
     "metadata": {},
     "output_type": "display_data"
    },
    {
     "data": {
      "application/vnd.jupyter.widget-view+json": {
       "model_id": "",
       "version_major": 2,
       "version_minor": 0
      },
      "text/plain": [
       "  ... working at frequency = 5852.0 Hz:   0%|          | 0/100 [00:00<?, ?it/s]"
      ]
     },
     "metadata": {},
     "output_type": "display_data"
    },
    {
     "data": {
      "application/vnd.jupyter.widget-view+json": {
       "model_id": "",
       "version_major": 2,
       "version_minor": 0
      },
      "text/plain": [
       "  ... working at frequency = 5902.0 Hz:   0%|          | 0/100 [00:00<?, ?it/s]"
      ]
     },
     "metadata": {},
     "output_type": "display_data"
    },
    {
     "data": {
      "application/vnd.jupyter.widget-view+json": {
       "model_id": "",
       "version_major": 2,
       "version_minor": 0
      },
      "text/plain": [
       "  ... working at frequency = 5952.0 Hz:   0%|          | 0/100 [00:00<?, ?it/s]"
      ]
     },
     "metadata": {},
     "output_type": "display_data"
    },
    {
     "data": {
      "application/vnd.jupyter.widget-view+json": {
       "model_id": "",
       "version_major": 2,
       "version_minor": 0
      },
      "text/plain": [
       "  ... working at frequency = 6002.0 Hz:   0%|          | 0/100 [00:00<?, ?it/s]"
      ]
     },
     "metadata": {},
     "output_type": "display_data"
    },
    {
     "data": {
      "application/vnd.jupyter.widget-view+json": {
       "model_id": "",
       "version_major": 2,
       "version_minor": 0
      },
      "text/plain": [
       "  ... working at frequency = 6052.0 Hz:   0%|          | 0/100 [00:00<?, ?it/s]"
      ]
     },
     "metadata": {},
     "output_type": "display_data"
    },
    {
     "data": {
      "application/vnd.jupyter.widget-view+json": {
       "model_id": "",
       "version_major": 2,
       "version_minor": 0
      },
      "text/plain": [
       "  ... working at frequency = 6102.0 Hz:   0%|          | 0/100 [00:00<?, ?it/s]"
      ]
     },
     "metadata": {},
     "output_type": "display_data"
    },
    {
     "data": {
      "application/vnd.jupyter.widget-view+json": {
       "model_id": "",
       "version_major": 2,
       "version_minor": 0
      },
      "text/plain": [
       "  ... working at frequency = 6152.0 Hz:   0%|          | 0/100 [00:00<?, ?it/s]"
      ]
     },
     "metadata": {},
     "output_type": "display_data"
    },
    {
     "data": {
      "application/vnd.jupyter.widget-view+json": {
       "model_id": "",
       "version_major": 2,
       "version_minor": 0
      },
      "text/plain": [
       "  ... working at frequency = 6202.0 Hz:   0%|          | 0/100 [00:00<?, ?it/s]"
      ]
     },
     "metadata": {},
     "output_type": "display_data"
    },
    {
     "data": {
      "application/vnd.jupyter.widget-view+json": {
       "model_id": "",
       "version_major": 2,
       "version_minor": 0
      },
      "text/plain": [
       "  ... working at frequency = 6252.0 Hz:   0%|          | 0/100 [00:00<?, ?it/s]"
      ]
     },
     "metadata": {},
     "output_type": "display_data"
    },
    {
     "data": {
      "application/vnd.jupyter.widget-view+json": {
       "model_id": "",
       "version_major": 2,
       "version_minor": 0
      },
      "text/plain": [
       "  ... working at frequency = 6302.0 Hz:   0%|          | 0/100 [00:00<?, ?it/s]"
      ]
     },
     "metadata": {},
     "output_type": "display_data"
    },
    {
     "data": {
      "application/vnd.jupyter.widget-view+json": {
       "model_id": "",
       "version_major": 2,
       "version_minor": 0
      },
      "text/plain": [
       "  ... working at frequency = 6352.0 Hz:   0%|          | 0/100 [00:00<?, ?it/s]"
      ]
     },
     "metadata": {},
     "output_type": "display_data"
    },
    {
     "data": {
      "application/vnd.jupyter.widget-view+json": {
       "model_id": "",
       "version_major": 2,
       "version_minor": 0
      },
      "text/plain": [
       "  ... working at frequency = 6402.0 Hz:   0%|          | 0/100 [00:00<?, ?it/s]"
      ]
     },
     "metadata": {},
     "output_type": "display_data"
    },
    {
     "data": {
      "application/vnd.jupyter.widget-view+json": {
       "model_id": "",
       "version_major": 2,
       "version_minor": 0
      },
      "text/plain": [
       "  ... working at frequency = 6452.0 Hz:   0%|          | 0/100 [00:00<?, ?it/s]"
      ]
     },
     "metadata": {},
     "output_type": "display_data"
    },
    {
     "data": {
      "application/vnd.jupyter.widget-view+json": {
       "model_id": "",
       "version_major": 2,
       "version_minor": 0
      },
      "text/plain": [
       "  ... working at frequency = 6502.0 Hz:   0%|          | 0/100 [00:00<?, ?it/s]"
      ]
     },
     "metadata": {},
     "output_type": "display_data"
    },
    {
     "data": {
      "application/vnd.jupyter.widget-view+json": {
       "model_id": "",
       "version_major": 2,
       "version_minor": 0
      },
      "text/plain": [
       "  ... working at frequency = 6552.0 Hz:   0%|          | 0/100 [00:00<?, ?it/s]"
      ]
     },
     "metadata": {},
     "output_type": "display_data"
    },
    {
     "data": {
      "application/vnd.jupyter.widget-view+json": {
       "model_id": "",
       "version_major": 2,
       "version_minor": 0
      },
      "text/plain": [
       "  ... working at frequency = 6602.0 Hz:   0%|          | 0/100 [00:00<?, ?it/s]"
      ]
     },
     "metadata": {},
     "output_type": "display_data"
    },
    {
     "data": {
      "application/vnd.jupyter.widget-view+json": {
       "model_id": "",
       "version_major": 2,
       "version_minor": 0
      },
      "text/plain": [
       "  ... working at frequency = 6652.0 Hz:   0%|          | 0/100 [00:00<?, ?it/s]"
      ]
     },
     "metadata": {},
     "output_type": "display_data"
    },
    {
     "data": {
      "application/vnd.jupyter.widget-view+json": {
       "model_id": "",
       "version_major": 2,
       "version_minor": 0
      },
      "text/plain": [
       "  ... working at frequency = 6702.0 Hz:   0%|          | 0/100 [00:00<?, ?it/s]"
      ]
     },
     "metadata": {},
     "output_type": "display_data"
    },
    {
     "data": {
      "application/vnd.jupyter.widget-view+json": {
       "model_id": "",
       "version_major": 2,
       "version_minor": 0
      },
      "text/plain": [
       "  ... working at frequency = 6752.0 Hz:   0%|          | 0/100 [00:00<?, ?it/s]"
      ]
     },
     "metadata": {},
     "output_type": "display_data"
    },
    {
     "data": {
      "application/vnd.jupyter.widget-view+json": {
       "model_id": "",
       "version_major": 2,
       "version_minor": 0
      },
      "text/plain": [
       "  ... working at frequency = 6802.0 Hz:   0%|          | 0/100 [00:00<?, ?it/s]"
      ]
     },
     "metadata": {},
     "output_type": "display_data"
    },
    {
     "data": {
      "application/vnd.jupyter.widget-view+json": {
       "model_id": "",
       "version_major": 2,
       "version_minor": 0
      },
      "text/plain": [
       "  ... working at frequency = 6852.0 Hz:   0%|          | 0/100 [00:00<?, ?it/s]"
      ]
     },
     "metadata": {},
     "output_type": "display_data"
    },
    {
     "data": {
      "application/vnd.jupyter.widget-view+json": {
       "model_id": "",
       "version_major": 2,
       "version_minor": 0
      },
      "text/plain": [
       "  ... working at frequency = 6902.0 Hz:   0%|          | 0/100 [00:00<?, ?it/s]"
      ]
     },
     "metadata": {},
     "output_type": "display_data"
    },
    {
     "data": {
      "application/vnd.jupyter.widget-view+json": {
       "model_id": "",
       "version_major": 2,
       "version_minor": 0
      },
      "text/plain": [
       "  ... working at frequency = 6952.0 Hz:   0%|          | 0/100 [00:00<?, ?it/s]"
      ]
     },
     "metadata": {},
     "output_type": "display_data"
    },
    {
     "data": {
      "application/vnd.jupyter.widget-view+json": {
       "model_id": "",
       "version_major": 2,
       "version_minor": 0
      },
      "text/plain": [
       "  ... working at frequency = 7002.0 Hz:   0%|          | 0/100 [00:00<?, ?it/s]"
      ]
     },
     "metadata": {},
     "output_type": "display_data"
    },
    {
     "data": {
      "application/vnd.jupyter.widget-view+json": {
       "model_id": "",
       "version_major": 2,
       "version_minor": 0
      },
      "text/plain": [
       "  ... working at frequency = 7052.0 Hz:   0%|          | 0/100 [00:00<?, ?it/s]"
      ]
     },
     "metadata": {},
     "output_type": "display_data"
    },
    {
     "data": {
      "application/vnd.jupyter.widget-view+json": {
       "model_id": "",
       "version_major": 2,
       "version_minor": 0
      },
      "text/plain": [
       "  ... working at frequency = 7102.0 Hz:   0%|          | 0/100 [00:00<?, ?it/s]"
      ]
     },
     "metadata": {},
     "output_type": "display_data"
    },
    {
     "data": {
      "application/vnd.jupyter.widget-view+json": {
       "model_id": "",
       "version_major": 2,
       "version_minor": 0
      },
      "text/plain": [
       "  ... working at frequency = 7152.0 Hz:   0%|          | 0/100 [00:00<?, ?it/s]"
      ]
     },
     "metadata": {},
     "output_type": "display_data"
    },
    {
     "data": {
      "application/vnd.jupyter.widget-view+json": {
       "model_id": "",
       "version_major": 2,
       "version_minor": 0
      },
      "text/plain": [
       "  ... working at frequency = 7202.0 Hz:   0%|          | 0/100 [00:00<?, ?it/s]"
      ]
     },
     "metadata": {},
     "output_type": "display_data"
    },
    {
     "data": {
      "application/vnd.jupyter.widget-view+json": {
       "model_id": "",
       "version_major": 2,
       "version_minor": 0
      },
      "text/plain": [
       "  ... working at frequency = 7252.0 Hz:   0%|          | 0/100 [00:00<?, ?it/s]"
      ]
     },
     "metadata": {},
     "output_type": "display_data"
    },
    {
     "data": {
      "application/vnd.jupyter.widget-view+json": {
       "model_id": "",
       "version_major": 2,
       "version_minor": 0
      },
      "text/plain": [
       "  ... working at frequency = 7302.0 Hz:   0%|          | 0/100 [00:00<?, ?it/s]"
      ]
     },
     "metadata": {},
     "output_type": "display_data"
    },
    {
     "data": {
      "application/vnd.jupyter.widget-view+json": {
       "model_id": "",
       "version_major": 2,
       "version_minor": 0
      },
      "text/plain": [
       "  ... working at frequency = 7352.0 Hz:   0%|          | 0/100 [00:00<?, ?it/s]"
      ]
     },
     "metadata": {},
     "output_type": "display_data"
    },
    {
     "data": {
      "application/vnd.jupyter.widget-view+json": {
       "model_id": "",
       "version_major": 2,
       "version_minor": 0
      },
      "text/plain": [
       "  ... working at frequency = 7402.0 Hz:   0%|          | 0/100 [00:00<?, ?it/s]"
      ]
     },
     "metadata": {},
     "output_type": "display_data"
    },
    {
     "data": {
      "application/vnd.jupyter.widget-view+json": {
       "model_id": "",
       "version_major": 2,
       "version_minor": 0
      },
      "text/plain": [
       "  ... working at frequency = 7452.0 Hz:   0%|          | 0/100 [00:00<?, ?it/s]"
      ]
     },
     "metadata": {},
     "output_type": "display_data"
    },
    {
     "data": {
      "application/vnd.jupyter.widget-view+json": {
       "model_id": "",
       "version_major": 2,
       "version_minor": 0
      },
      "text/plain": [
       "  ... working at frequency = 7502.0 Hz:   0%|          | 0/100 [00:00<?, ?it/s]"
      ]
     },
     "metadata": {},
     "output_type": "display_data"
    },
    {
     "data": {
      "application/vnd.jupyter.widget-view+json": {
       "model_id": "",
       "version_major": 2,
       "version_minor": 0
      },
      "text/plain": [
       "  ... working at frequency = 7552.0 Hz:   0%|          | 0/100 [00:00<?, ?it/s]"
      ]
     },
     "metadata": {},
     "output_type": "display_data"
    },
    {
     "data": {
      "application/vnd.jupyter.widget-view+json": {
       "model_id": "",
       "version_major": 2,
       "version_minor": 0
      },
      "text/plain": [
       "  ... working at frequency = 7602.0 Hz:   0%|          | 0/100 [00:00<?, ?it/s]"
      ]
     },
     "metadata": {},
     "output_type": "display_data"
    },
    {
     "data": {
      "application/vnd.jupyter.widget-view+json": {
       "model_id": "",
       "version_major": 2,
       "version_minor": 0
      },
      "text/plain": [
       "  ... working at frequency = 7652.0 Hz:   0%|          | 0/100 [00:00<?, ?it/s]"
      ]
     },
     "metadata": {},
     "output_type": "display_data"
    },
    {
     "data": {
      "application/vnd.jupyter.widget-view+json": {
       "model_id": "",
       "version_major": 2,
       "version_minor": 0
      },
      "text/plain": [
       "  ... working at frequency = 7702.0 Hz:   0%|          | 0/100 [00:00<?, ?it/s]"
      ]
     },
     "metadata": {},
     "output_type": "display_data"
    },
    {
     "data": {
      "application/vnd.jupyter.widget-view+json": {
       "model_id": "",
       "version_major": 2,
       "version_minor": 0
      },
      "text/plain": [
       "  ... working at frequency = 7752.0 Hz:   0%|          | 0/100 [00:00<?, ?it/s]"
      ]
     },
     "metadata": {},
     "output_type": "display_data"
    },
    {
     "data": {
      "application/vnd.jupyter.widget-view+json": {
       "model_id": "",
       "version_major": 2,
       "version_minor": 0
      },
      "text/plain": [
       "  ... working at frequency = 7802.0 Hz:   0%|          | 0/100 [00:00<?, ?it/s]"
      ]
     },
     "metadata": {},
     "output_type": "display_data"
    },
    {
     "data": {
      "application/vnd.jupyter.widget-view+json": {
       "model_id": "",
       "version_major": 2,
       "version_minor": 0
      },
      "text/plain": [
       "  ... working at frequency = 7852.0 Hz:   0%|          | 0/100 [00:00<?, ?it/s]"
      ]
     },
     "metadata": {},
     "output_type": "display_data"
    },
    {
     "data": {
      "application/vnd.jupyter.widget-view+json": {
       "model_id": "",
       "version_major": 2,
       "version_minor": 0
      },
      "text/plain": [
       "  ... working at frequency = 7902.0 Hz:   0%|          | 0/100 [00:00<?, ?it/s]"
      ]
     },
     "metadata": {},
     "output_type": "display_data"
    },
    {
     "data": {
      "application/vnd.jupyter.widget-view+json": {
       "model_id": "",
       "version_major": 2,
       "version_minor": 0
      },
      "text/plain": [
       "  ... working at frequency = 7952.0 Hz:   0%|          | 0/100 [00:00<?, ?it/s]"
      ]
     },
     "metadata": {},
     "output_type": "display_data"
    },
    {
     "data": {
      "application/vnd.jupyter.widget-view+json": {
       "model_id": "",
       "version_major": 2,
       "version_minor": 0
      },
      "text/plain": [
       "  ... working at frequency = 8002.0 Hz:   0%|          | 0/100 [00:00<?, ?it/s]"
      ]
     },
     "metadata": {},
     "output_type": "display_data"
    },
    {
     "data": {
      "application/vnd.jupyter.widget-view+json": {
       "model_id": "",
       "version_major": 2,
       "version_minor": 0
      },
      "text/plain": [
       "  ... working at frequency = 8052.0 Hz:   0%|          | 0/100 [00:00<?, ?it/s]"
      ]
     },
     "metadata": {},
     "output_type": "display_data"
    },
    {
     "data": {
      "application/vnd.jupyter.widget-view+json": {
       "model_id": "",
       "version_major": 2,
       "version_minor": 0
      },
      "text/plain": [
       "  ... working at frequency = 8102.0 Hz:   0%|          | 0/100 [00:00<?, ?it/s]"
      ]
     },
     "metadata": {},
     "output_type": "display_data"
    },
    {
     "data": {
      "application/vnd.jupyter.widget-view+json": {
       "model_id": "",
       "version_major": 2,
       "version_minor": 0
      },
      "text/plain": [
       "  ... working at frequency = 8152.0 Hz:   0%|          | 0/100 [00:00<?, ?it/s]"
      ]
     },
     "metadata": {},
     "output_type": "display_data"
    },
    {
     "data": {
      "application/vnd.jupyter.widget-view+json": {
       "model_id": "",
       "version_major": 2,
       "version_minor": 0
      },
      "text/plain": [
       "  ... working at frequency = 8202.0 Hz:   0%|          | 0/100 [00:00<?, ?it/s]"
      ]
     },
     "metadata": {},
     "output_type": "display_data"
    },
    {
     "data": {
      "application/vnd.jupyter.widget-view+json": {
       "model_id": "",
       "version_major": 2,
       "version_minor": 0
      },
      "text/plain": [
       "  ... working at frequency = 8252.0 Hz:   0%|          | 0/100 [00:00<?, ?it/s]"
      ]
     },
     "metadata": {},
     "output_type": "display_data"
    },
    {
     "data": {
      "application/vnd.jupyter.widget-view+json": {
       "model_id": "",
       "version_major": 2,
       "version_minor": 0
      },
      "text/plain": [
       "  ... working at frequency = 8302.0 Hz:   0%|          | 0/100 [00:00<?, ?it/s]"
      ]
     },
     "metadata": {},
     "output_type": "display_data"
    },
    {
     "data": {
      "application/vnd.jupyter.widget-view+json": {
       "model_id": "",
       "version_major": 2,
       "version_minor": 0
      },
      "text/plain": [
       "  ... working at frequency = 8352.0 Hz:   0%|          | 0/100 [00:00<?, ?it/s]"
      ]
     },
     "metadata": {},
     "output_type": "display_data"
    },
    {
     "data": {
      "application/vnd.jupyter.widget-view+json": {
       "model_id": "",
       "version_major": 2,
       "version_minor": 0
      },
      "text/plain": [
       "  ... working at frequency = 8402.0 Hz:   0%|          | 0/100 [00:00<?, ?it/s]"
      ]
     },
     "metadata": {},
     "output_type": "display_data"
    },
    {
     "data": {
      "application/vnd.jupyter.widget-view+json": {
       "model_id": "",
       "version_major": 2,
       "version_minor": 0
      },
      "text/plain": [
       "  ... working at frequency = 8452.0 Hz:   0%|          | 0/100 [00:00<?, ?it/s]"
      ]
     },
     "metadata": {},
     "output_type": "display_data"
    },
    {
     "data": {
      "application/vnd.jupyter.widget-view+json": {
       "model_id": "",
       "version_major": 2,
       "version_minor": 0
      },
      "text/plain": [
       "  ... working at frequency = 8502.0 Hz:   0%|          | 0/100 [00:00<?, ?it/s]"
      ]
     },
     "metadata": {},
     "output_type": "display_data"
    },
    {
     "data": {
      "application/vnd.jupyter.widget-view+json": {
       "model_id": "",
       "version_major": 2,
       "version_minor": 0
      },
      "text/plain": [
       "  ... working at frequency = 8552.0 Hz:   0%|          | 0/100 [00:00<?, ?it/s]"
      ]
     },
     "metadata": {},
     "output_type": "display_data"
    },
    {
     "data": {
      "application/vnd.jupyter.widget-view+json": {
       "model_id": "",
       "version_major": 2,
       "version_minor": 0
      },
      "text/plain": [
       "  ... working at frequency = 8602.0 Hz:   0%|          | 0/100 [00:00<?, ?it/s]"
      ]
     },
     "metadata": {},
     "output_type": "display_data"
    },
    {
     "data": {
      "application/vnd.jupyter.widget-view+json": {
       "model_id": "",
       "version_major": 2,
       "version_minor": 0
      },
      "text/plain": [
       "  ... working at frequency = 8652.0 Hz:   0%|          | 0/100 [00:00<?, ?it/s]"
      ]
     },
     "metadata": {},
     "output_type": "display_data"
    },
    {
     "data": {
      "application/vnd.jupyter.widget-view+json": {
       "model_id": "",
       "version_major": 2,
       "version_minor": 0
      },
      "text/plain": [
       "  ... working at frequency = 8702.0 Hz:   0%|          | 0/100 [00:00<?, ?it/s]"
      ]
     },
     "metadata": {},
     "output_type": "display_data"
    },
    {
     "data": {
      "application/vnd.jupyter.widget-view+json": {
       "model_id": "",
       "version_major": 2,
       "version_minor": 0
      },
      "text/plain": [
       "  ... working at frequency = 8752.0 Hz:   0%|          | 0/100 [00:00<?, ?it/s]"
      ]
     },
     "metadata": {},
     "output_type": "display_data"
    },
    {
     "data": {
      "application/vnd.jupyter.widget-view+json": {
       "model_id": "",
       "version_major": 2,
       "version_minor": 0
      },
      "text/plain": [
       "  ... working at frequency = 8802.0 Hz:   0%|          | 0/100 [00:00<?, ?it/s]"
      ]
     },
     "metadata": {},
     "output_type": "display_data"
    },
    {
     "data": {
      "application/vnd.jupyter.widget-view+json": {
       "model_id": "",
       "version_major": 2,
       "version_minor": 0
      },
      "text/plain": [
       "  ... working at frequency = 8852.0 Hz:   0%|          | 0/100 [00:00<?, ?it/s]"
      ]
     },
     "metadata": {},
     "output_type": "display_data"
    },
    {
     "data": {
      "application/vnd.jupyter.widget-view+json": {
       "model_id": "",
       "version_major": 2,
       "version_minor": 0
      },
      "text/plain": [
       "  ... working at frequency = 8902.0 Hz:   0%|          | 0/100 [00:00<?, ?it/s]"
      ]
     },
     "metadata": {},
     "output_type": "display_data"
    },
    {
     "data": {
      "application/vnd.jupyter.widget-view+json": {
       "model_id": "",
       "version_major": 2,
       "version_minor": 0
      },
      "text/plain": [
       "  ... working at frequency = 8952.0 Hz:   0%|          | 0/100 [00:00<?, ?it/s]"
      ]
     },
     "metadata": {},
     "output_type": "display_data"
    },
    {
     "data": {
      "application/vnd.jupyter.widget-view+json": {
       "model_id": "",
       "version_major": 2,
       "version_minor": 0
      },
      "text/plain": [
       "  ... working at frequency = 9002.0 Hz:   0%|          | 0/100 [00:00<?, ?it/s]"
      ]
     },
     "metadata": {},
     "output_type": "display_data"
    },
    {
     "data": {
      "application/vnd.jupyter.widget-view+json": {
       "model_id": "",
       "version_major": 2,
       "version_minor": 0
      },
      "text/plain": [
       "  ... working at frequency = 9052.0 Hz:   0%|          | 0/100 [00:00<?, ?it/s]"
      ]
     },
     "metadata": {},
     "output_type": "display_data"
    },
    {
     "data": {
      "application/vnd.jupyter.widget-view+json": {
       "model_id": "",
       "version_major": 2,
       "version_minor": 0
      },
      "text/plain": [
       "  ... working at frequency = 9102.0 Hz:   0%|          | 0/100 [00:00<?, ?it/s]"
      ]
     },
     "metadata": {},
     "output_type": "display_data"
    },
    {
     "data": {
      "application/vnd.jupyter.widget-view+json": {
       "model_id": "",
       "version_major": 2,
       "version_minor": 0
      },
      "text/plain": [
       "  ... working at frequency = 9152.0 Hz:   0%|          | 0/100 [00:00<?, ?it/s]"
      ]
     },
     "metadata": {},
     "output_type": "display_data"
    },
    {
     "data": {
      "application/vnd.jupyter.widget-view+json": {
       "model_id": "",
       "version_major": 2,
       "version_minor": 0
      },
      "text/plain": [
       "  ... working at frequency = 9202.0 Hz:   0%|          | 0/100 [00:00<?, ?it/s]"
      ]
     },
     "metadata": {},
     "output_type": "display_data"
    },
    {
     "data": {
      "application/vnd.jupyter.widget-view+json": {
       "model_id": "",
       "version_major": 2,
       "version_minor": 0
      },
      "text/plain": [
       "  ... working at frequency = 9252.0 Hz:   0%|          | 0/100 [00:00<?, ?it/s]"
      ]
     },
     "metadata": {},
     "output_type": "display_data"
    },
    {
     "data": {
      "application/vnd.jupyter.widget-view+json": {
       "model_id": "",
       "version_major": 2,
       "version_minor": 0
      },
      "text/plain": [
       "  ... working at frequency = 9302.0 Hz:   0%|          | 0/100 [00:00<?, ?it/s]"
      ]
     },
     "metadata": {},
     "output_type": "display_data"
    },
    {
     "data": {
      "application/vnd.jupyter.widget-view+json": {
       "model_id": "",
       "version_major": 2,
       "version_minor": 0
      },
      "text/plain": [
       "  ... working at frequency = 9352.0 Hz:   0%|          | 0/100 [00:00<?, ?it/s]"
      ]
     },
     "metadata": {},
     "output_type": "display_data"
    },
    {
     "data": {
      "application/vnd.jupyter.widget-view+json": {
       "model_id": "",
       "version_major": 2,
       "version_minor": 0
      },
      "text/plain": [
       "  ... working at frequency = 9402.0 Hz:   0%|          | 0/100 [00:00<?, ?it/s]"
      ]
     },
     "metadata": {},
     "output_type": "display_data"
    },
    {
     "data": {
      "application/vnd.jupyter.widget-view+json": {
       "model_id": "",
       "version_major": 2,
       "version_minor": 0
      },
      "text/plain": [
       "  ... working at frequency = 9452.0 Hz:   0%|          | 0/100 [00:00<?, ?it/s]"
      ]
     },
     "metadata": {},
     "output_type": "display_data"
    },
    {
     "data": {
      "application/vnd.jupyter.widget-view+json": {
       "model_id": "",
       "version_major": 2,
       "version_minor": 0
      },
      "text/plain": [
       "  ... working at frequency = 9502.0 Hz:   0%|          | 0/100 [00:00<?, ?it/s]"
      ]
     },
     "metadata": {},
     "output_type": "display_data"
    },
    {
     "data": {
      "application/vnd.jupyter.widget-view+json": {
       "model_id": "",
       "version_major": 2,
       "version_minor": 0
      },
      "text/plain": [
       "  ... working at frequency = 9552.0 Hz:   0%|          | 0/100 [00:00<?, ?it/s]"
      ]
     },
     "metadata": {},
     "output_type": "display_data"
    },
    {
     "data": {
      "application/vnd.jupyter.widget-view+json": {
       "model_id": "",
       "version_major": 2,
       "version_minor": 0
      },
      "text/plain": [
       "  ... working at frequency = 9602.0 Hz:   0%|          | 0/100 [00:00<?, ?it/s]"
      ]
     },
     "metadata": {},
     "output_type": "display_data"
    },
    {
     "data": {
      "application/vnd.jupyter.widget-view+json": {
       "model_id": "",
       "version_major": 2,
       "version_minor": 0
      },
      "text/plain": [
       "  ... working at frequency = 9652.0 Hz:   0%|          | 0/100 [00:00<?, ?it/s]"
      ]
     },
     "metadata": {},
     "output_type": "display_data"
    },
    {
     "data": {
      "application/vnd.jupyter.widget-view+json": {
       "model_id": "",
       "version_major": 2,
       "version_minor": 0
      },
      "text/plain": [
       "  ... working at frequency = 9702.0 Hz:   0%|          | 0/100 [00:00<?, ?it/s]"
      ]
     },
     "metadata": {},
     "output_type": "display_data"
    },
    {
     "data": {
      "application/vnd.jupyter.widget-view+json": {
       "model_id": "",
       "version_major": 2,
       "version_minor": 0
      },
      "text/plain": [
       "  ... working at frequency = 9752.0 Hz:   0%|          | 0/100 [00:00<?, ?it/s]"
      ]
     },
     "metadata": {},
     "output_type": "display_data"
    },
    {
     "data": {
      "application/vnd.jupyter.widget-view+json": {
       "model_id": "",
       "version_major": 2,
       "version_minor": 0
      },
      "text/plain": [
       "  ... working at frequency = 9802.0 Hz:   0%|          | 0/100 [00:00<?, ?it/s]"
      ]
     },
     "metadata": {},
     "output_type": "display_data"
    },
    {
     "data": {
      "application/vnd.jupyter.widget-view+json": {
       "model_id": "",
       "version_major": 2,
       "version_minor": 0
      },
      "text/plain": [
       "  ... working at frequency = 9852.0 Hz:   0%|          | 0/100 [00:00<?, ?it/s]"
      ]
     },
     "metadata": {},
     "output_type": "display_data"
    },
    {
     "data": {
      "application/vnd.jupyter.widget-view+json": {
       "model_id": "",
       "version_major": 2,
       "version_minor": 0
      },
      "text/plain": [
       "  ... working at frequency = 9902.0 Hz:   0%|          | 0/100 [00:00<?, ?it/s]"
      ]
     },
     "metadata": {},
     "output_type": "display_data"
    },
    {
     "data": {
      "application/vnd.jupyter.widget-view+json": {
       "model_id": "",
       "version_major": 2,
       "version_minor": 0
      },
      "text/plain": [
       "  ... working at frequency = 9952.0 Hz:   0%|          | 0/100 [00:00<?, ?it/s]"
      ]
     },
     "metadata": {},
     "output_type": "display_data"
    },
    {
     "data": {
      "application/vnd.jupyter.widget-view+json": {
       "model_id": "2668b720d0774618846c9e8481ea8033",
       "version_major": 2,
       "version_minor": 0
      },
      "text/plain": [
       "  ... working at frequency = 10002.0 Hz:   0%|          | 0/100 [00:00<?, ?it/s]"
      ]
     },
     "metadata": {},
     "output_type": "display_data"
    },
    {
     "name": "stdout",
     "output_type": "stream",
     "text": [
      "\n",
      "\n",
      "self.frequency_array.shape[0] = 201 is same as self.wavenumer_array.shape[0] = 201\n",
      "Save file to /Users/chenghunglin/Documents/sin_3_4_05_vol_3.xlsx\n"
     ]
    }
   ],
   "source": [
    "sin_3_4_05_vol_3 = anechoic_sound_absorption(determinant, frequency_array,\n",
    "                              fp = '/Users/chenghunglin/Documents/', \n",
    "                              fn = 'sin_3_4_05_vol_3.xlsx', \n",
    "                              material='rubber', shape='sin', \n",
    "                              p=3e-3, q=4e-3, lh=40e-3, cell_radius=15e-3, \n",
    "                              theta=0.5, phi=3e-3, length_unit='m',\n",
    "                              num_segments=100, layer_density=1100, air_density=1.21, \n",
    "                              Young_modulus=0.14e9, Poisson_ratio=0.49, loss_factor=0.23, \n",
    "                              medium_density=998, sound_speed_medium=1483, \n",
    "                              use_volume=True)"
   ]
  },
  {
   "cell_type": "code",
   "execution_count": 19,
   "metadata": {},
   "outputs": [
    {
     "name": "stdout",
     "output_type": "stream",
     "text": [
      "self.frequency_array.shape[0] = 101 is same as self.wavenumer_array.shape[0] = 101\n",
      "self.frequency_array.shape[0] = 201 is same as self.wavenumer_array.shape[0] = 201\n",
      "self.frequency_array.shape[0] = 201 is same as self.wavenumer_array.shape[0] = 201\n"
     ]
    },
    {
     "data": {
      "text/plain": [
       "<matplotlib.legend.Legend at 0x154862570>"
      ]
     },
     "execution_count": 19,
     "metadata": {},
     "output_type": "execute_result"
    },
    {
     "data": {
      "application/vnd.jupyter.widget-view+json": {
       "model_id": "3c69085d202d4cb59153d931c6cac2da",
       "version_major": 2,
       "version_minor": 0
      },
      "image/png": "[encoded data removed]",
      "text/html": [
       "\n",
       "            <div style=\"display: inline-block;\">\n",
       "                <div class=\"jupyter-widgets widget-label\" style=\"text-align: center;\">\n",
       "                    Figure\n",
       "                </div>\n",
       "                <img src='data:image/png;base64,iVBORw0KGgoAAAANSUhEUgAAAoAAAAHgCAYAAAA10dzkAAAAOXRFWHRTb2Z0d2FyZQBNYXRwbG90bGliIHZlcnNpb24zLjkuMSwgaHR0cHM6Ly9tYXRwbG90bGliLm9yZy/TGe4hAAAACXBIWXMAAA9hAAAPYQGoP6dpAABt0UlEQVR4nO3deVhU1f8H8PcszIAII4hsIoi7gqaIJu6mgqZmWa6Ia5rlrlmp5VZGpa2Wmi1qpWlm9jUzFLdKRSSUXCBXFBUQRWRnhpk5vz/M+TUCCgpcmHm/euZ54t5z537umZF5c+7cc2VCCAEiIiIishpyqQsgIiIiosrFAEhERERkZRgAiYiIiKwMAyARERGRlWEAJCIiIrIyDIBEREREVoYBkIiIiMjKMAASERERWRkGQCIiIiIrwwBIREREZGUYAImIiIisDAMgERERkZVhACQiIiKyMgyARERERFaGAZCIiIjIyjAAEhEREVkZBkAiIiIiK8MASERERGRlGACJiIiIrAwDIBEREZGVYQAkIiIisjIMgERERERWhgGQiIiIyMowABIRERFZGQZAIiIiIivDAEhERERkZRgAiYiIiKwMAyARERGRlWEAJCIiIrIyDIBEREREVoYBkIiIiMjKMAASERERWRkGQCIiIiIrwwBIREREZGUYAImIiIisDAMgERERkZVhACQiIiKyMgyARERERFaGAZCIiIjIyjAAEhEREVkZBkAiIiIiK8MASERERGRlGACJiIiIrAwDIBEREZGVYQAkIiIisjIMgERERERWhgGQiIiIyMowABIRERFZGQZAIiIiIivDAEhERERkZRgAiYiIiKwMAyARERGRlWEAJCIiIrIyDIBEREREVoYBkIiIiMjKMAASERERWRml1AVUZ0ajEcnJyXBwcIBMJpO6HCIiIioFIQSys7Ph6ekJudw6x8IYAB9BcnIy6tWrJ3UZRERE9BCuXLkCLy8vqcuQBAPgI3BwcABw5w3k6OgocTVERERUGllZWahXr57pc9waMQA+grunfR0dHRkAiYiIqhlr/vqWdZ74JiIiIrJiDIBEREREVoYBkIiIiMjK8DuAFUwIAb1eD4PBIHUpRGRBFAoFlEqlVX+HiYgeHgNgBdLpdEhJSUFeXp7UpRCRBapRowY8PDygUqmkLoWIqhkGwApiNBqRmJgIhUIBT09PqFQq/qVOROVCCAGdTocbN24gMTERjRs3ttrJbIno4TAAVhCdTgej0Yh69eqhRo0aUpdDRBbGzs4ONjY2uHz5MnQ6HWxtbaUuiYiqEf7JWMH4VzkRVRT+fiGih8XfHkRERERWhgGQSm3MmDF4+umnpS7D6gkhMHHiRDg7O0MmkyEuLk7qkqiCyGQy/Pzzz1KXQUQWiAGQSu3jjz/GunXrpC7jgX766ScEBgaiVq1asLe3R+vWrfHtt99KXZaZ8+fPw8HBAbVq1SrzthEREVi3bh127NiBlJQU+Pv7l9h2zZo16N69OxwdHSGTyXD79u0ibTIyMhAWFgaNRgONRoOwsLAi7ZKSkjBgwADY29vDxcUF06ZNg06nK3PtFW3p0qXo2LEjatSoUWLfluZYTp48iW7dusHOzg5169bFkiVLIISohCMgIqocvAiESk2j0UhdQqk4Oztj/vz5aNasGVQqFXbs2IGxY8fC1dUVISEhUpeHwsJCDB8+HF26dMHhw4fLvP2FCxfg4eGBjh07lthGp9NBpVIhLy8Pffr0QZ8+fTB37txi244YMQJXr15FREQEAGDixIkICwvDL7/8AgAwGAzo168f6tSpg4MHDyI9PR2jR4+GEAIrVqwoc/0VSafTYfDgwQgKCsJXX31VZH1pjiUrKwu9e/dGjx49EBMTg7Nnz2LMmDGwt7fH7NmzK/uQiIgqhqCHlpmZKQCIzMzMIuvy8/NFfHy8yM/Pl6Cyh7dlyxbh7+8vbG1thbOzs+jZs6fIyckRQggxevRoMXDgQFPbbt26ialTp4o5c+YIJycn4ebmJhYuXFim/e3fv18AEDt27BCtWrUSarVatG/fXpw4caIcj0qINm3aiNdff71M25w9e1Z06dJFqNVq0bx5c7F7924BQGzbtu2RannllVfEyJEjxdq1a4VGoynTtqNHjxYATA8fHx8hxJ3XYvLkyWLmzJmidu3aomvXrmbb3e3njIwMs+Xx8fECgDhy5IhpWVRUlAAg/vnnHyGEEDt37hRyuVxcu3bN1Ob7778XarW62Pd+Sfbv3y/atWsnatSoITQajejYsaO4dOmSaf327dtFQECAUKvVwtfXVyxatEgUFhaa1ickJIhOnTqZXo/IyMgSX4+S+rY0x7Jy5Uqh0WhEQUGBqU14eLjw9PQURqOxVMe6evVq4enpKQwGg9nyAQMGiFGjRpl+XrlypWjQoIGwsbERTZo0Ed98841Z+we936rr7xmiBzmRkiTm/PqR6PdliPj2z+/L/fnv9/ltLXgKuBIJIZCn01f6Q5Ty1FVKSgqGDx+OcePGISEhAQcOHMCgQYPuu/369ethb2+P6OhovPfee1iyZAkiIyPL3Ddz5szB8uXLERMTA1dXVzz11FMoLCwEcOeUXc2aNe/7mDRpUol9vnfvXpw5cwZdu3YtdT1GoxGDBg2CQqHAkSNHsHr1arz66qtF2vn5+d23Lj8/P7P2+/btw5YtW/DZZ5+VoXf+38cff4wlS5bAy8sLKSkpiImJMa1bv349lEolDh06hM8//7xUzxcVFQWNRoPHH3/ctKxDhw7QaDSm0cmoqCj4+/vD09PT1CYkJARarRaxsbGl2o9er8fTTz+Nbt264cSJE4iKisLEiRNNc2Pu2rULI0eOxLRp0xAfH4/PP/8c69atw9KlSwHceT2efvpp1KhRA9HR0VizZg3mz59fqn3fe7wPOpaoqCh069YNarXarE1ycjIuXbpUqv0MHjwYN2/exP79+03LMjIysGvXLoSGhgIAtm3bhunTp2P27Nk4deoUXnjhBYwdO9ZsGyJrcSsvB1/G7MTo76ehxxedERrxJH678SUuK6/h0NkNUpdnkXgKuBLlFxrQYsGuSt9v/JIQ1FA9+KVOSUmBXq/HoEGD4OPjAwBo2bLlfbdp1aoVFi5cCABo3LgxPv30U+zduxe9e/cuU40LFy40bbN+/Xp4eXlh27ZtGDJkCDw9PR94oYOjo6PZz5mZmahbty60Wi0UCgVWrlxZppr27NmDhIQEXLp0CV5eXgCAt99+G3379jVrt3PnTlNQLY6NjY3p/9PT0zFmzBh89913ReotLY1GAwcHBygUCri7u5uta9SoEd57770yPV9qaipcXV2LLHd1dUVqaqqpjZubm9l6JycnqFQqU5sHycrKQmZmJvr374+GDRsCAJo3b25av3TpUrz22msYPXo0AKBBgwZ488038corr2DhwoXYvXs3Lly4gAMHDpiOe+nSpWV+n5XmWFJTU1G/fn2zNne3SU1Nha+v7wP34+zsjD59+mDjxo3o2bMnAGDLli1wdnY2/bx8+XKMGTMGL730EgBg1qxZOHLkCJYvX44ePXqU6biIqhO9wYCYq+ewPzEWp5OPIDXvNG4qb8B4914J/97YpmWBFh0K1ejYJEiyWi0ZAyCZPPbYY+jZsydatmyJkJAQBAcH47nnnoOTk1OJ27Rq1crsZw8PD6SlpZV530FB//8P3NnZGU2bNkVCQgIAQKlUolGjRmV6PgcHB8TFxSEnJwd79+7FrFmz0KBBA3Tv3r1U2yckJMDb29sU/u6t8a67Qbk0JkyYgBEjRpRpJLIsAgMDH2q74u5QI4QwW16aNvfj7OyMMWPGICQkBL1790avXr0wZMgQeHh4AABiY2MRExNjGvED7nxfr6CgAHl5eThz5gzq1atnFnrbt29f6mP8r4c53ruj4GW5m09oaCgmTpyIlStXQq1WY8OGDRg2bBgUCgWAO++xiRMnmm3TqVMnfPzxx6XeB1FVlqMtwF/XzuF46lmcvXke12/H47buCjLlt6BTGP6/4b9/J7vr9Wifr4O/0h2dG/RCvdbDgTpNAd5Fq0IwAFYiOxsF4pdU/kUIdjaKUrVTKBSIjIzE4cOHsXv3bqxYsQLz589HdHR0iaMe/x3hAu58QBqNxkeu+e5zAXdOAbdo0eK+bUeOHInVq1ebfpbL5abQ2Lp1ayQkJCA8PLzUAbC4097Fffj7+fnh8uXLJT6Pj48PTp8+DeDO6d/t27dj+fLlpn0YjUYolUqsWbMG48aNK1VtJbG3ty/zNu7u7rh+/XqR5Tdu3DCNerm7uyM6OtpsfUZGBgoLC4uMpt3P2rVrMW3aNERERGDz5s14/fXXERkZiQ4dOsBoNGLx4sUYNGhQke1sbW3LFDbvpzTH4u7uXmRk8+4fNWU53gEDBsBoNOLXX39Fu3bt8Oeff+KDDz4wa1Nc0OQtI6k6KTQYEHvtImKvncM/6ReQnHkemQUXkYs05CryIO59O//7kaE2GtFUV4jmOj18FbUR4N4eTf0HQl6/E6Aq++8yKjsGwEokk8lKdSpWSjKZDJ06dUKnTp2wYMEC+Pj4YNu2bZg1a1aF7vfIkSPw9vYGcOcD+ezZs2jWrBkAPNQp4HsJIaDVaktdT4sWLZCUlITk5GTT98WioqKKtCvLKeCoqCgYDP//V+///vc/vPvuuzh8+DDq1q1b6trKU1BQEDIzM3H06FHTiFp0dDQyMzNNVxkHBQVh6dKlSElJMY3Y7d69G2q1Gm3bti3T/tq0aYM2bdpg7ty5CAoKwsaNG9GhQwcEBATgzJkzJY70NmvWDElJSbh+/bophP33+49lOd4HHUtQUBDmzZtnupL6bhtPT88ip4bvx87ODoMGDcKGDRtw/vx5NGnSxKy/mjdvjoMHD2LUqFGmZYcPHzY7NU5UlWj1hdh97m/svRiD87eOIUN3Bjny2zDK7/mD+T8fc/ZGI+oXFqJ+oR5eesDdxgW+mobwa9AFtvUeB9z9AaUaVPmqdhqhShUdHY29e/ciODgYrq6uiI6Oxo0bNyrlA2nJkiWoXbs23NzcMH/+fLi4uJgmnS7rKeDw8HAEBgaiYcOG0Ol02LlzJ7755husWrWq1M/Rq1cvNG3aFKNGjcL777+PrKysYi86KMsp4Hv78a+//oJcLr/vPH6PKjU1FampqTh//jyAO/PbOTg4wNvbG87OzmjevDn69OmDCRMmmC4cmThxIvr374+mTZsCAIKDg9GiRQuEhYVh2bJluHXrFl5++WVMmDCh1N9lTExMxJo1a/DUU0/B09MTZ86cwdmzZ03hZ8GCBejfvz/q1auHwYMHQy6X48SJEzh58iTeeust9O7dGw0bNsTo0aPx3nvvITs72/R6/HfELCkpCbdu3UJSUhIMBoPpD4dGjRqhZs2apTqWESNGYPHixRgzZgzmzZuHc+fO4e2338aCBQvKPDoXGhqKAQMG4PTp0xg5cqTZujlz5mDIkCEICAhAz5498csvv+Cnn37Cnj17yrQPoop09Mo5bDz1G05e3490kQiD/D+nbv9NEEoh4F2oh8+/Qc8DdvCw80TD2s1Qt+5jkLs2BVyaAA4ePJ1blUhy7bGFsLRpYOLj40VISIioU6eOUKvVokmTJmLFihWm9cVNAzN9+nSz5xg4cKAYPXq02TbdunUrcZ93pyf55ZdfhJ+fn1CpVKJdu3YiLi7uoY9j/vz5olGjRsLW1lY4OTmJoKAgsWnTJrM2a9euFQ96+585c0Z07txZqFQq0aRJExEREVEu08D8t4Z7pypJTEwUAMT+/ftL3O7DDz80Tf9yV3GvhRBCLFy40GzamLuPtWvXmtqkp6eL0NBQ4eDgIBwcHERoaGiR6WIuX74s+vXrJ+zs7ISzs7OYMmWK2TQpQogiz/tfqamp4umnnxYeHh5CpVIJHx8fsWDBArNpUiIiIkTHjh2FnZ2dcHR0FO3btxdr1qwxrb87DYxKpRLNmjUTv/zyiwAgIiIiTG3unSbn7uO//VmaYzlx4oRpCiB3d3exaNEisylgSvM6CSGEXq8XHh4eAoC4cOFCkfWcBoaqovS8TDFvz2rR+asQ4b/O3+zx+NctxPhVjcTHH9UTOz9uJc5885zQRS4W4u8fhLh2TIiCLKnLLxVOAyOETAhOb/+wsrKyoNFokJmZWWQkpKCgAImJifD19YWtra1EFUqve/fu6N69OxYtWlTs+gMHDqBHjx7IyMh4qLtiPKxFixbhwIEDOHDgQJm2k8lk2LZtW4XdEu/AgQN45plncPHixftefFPVXLp0CY0bN0Z8fDwaN25cKfs8dOgQOnfujPPnz5uuLK4sVeV14u8ZKk9/p1zCW398ivN5e6GX6wEAciEQWKBF53wt2tg3hr9vNyh9OgBegUANZ4krfnj3+/y2FjwFTBUmOzsbFy5cwI4dO6QupYhdu3ZVyastIyIiMG/evGoV/oA7dU+cOLFCw9+2bdtQs2ZNNG7cGOfPn8f06dPRqVOnSg9/QPV9nYiKk5J9A7N3LcPpnAgYZQKQA766QgzKyUdPl/ao1yUUaPgEYGudQclSMQBShXFwcMCVK1ekLqNYxV3QURW88847UpfwUEqaiLs8ZWdn45VXXsGVK1fg4uKCXr164f3336/w/Ranur5ORP9lMBqw5MBa/HJ5JQrlhYAMCMwvQFiBEl3avgibtmHVepSP7o8BkCTVvXv3Ut+ppCqoTrVamlGjRpldMUtED+/vlERM+W0qbisuA3KgmVaHl3Ll6NZtAeSPDQcUjAeWjq8wERGRFVl1dBu+OPUmChWFsDMa8dLtXAxt/RLsOk8DbPhdUmvBAEhERGQFDEYDJm1fiCOZ/wMUd261tkReH41GrQJqV/53aUlaDIBEREQW7nZ+Dob+8AKScQIAMPp2Nl5sOQn23V8B5HKJqyMpMAASERFZsLTc23h203DcVl6FjRCYn1GAQc98B1n9zlKXRhJiACQiIrJQabkZeHbzUNxWpsDBYMSyHBt0Gr0bcG4gdWkkMQZAIiIiC5Sen4lnfxiM24rrqGUw4OOCWgh4fgendiEAAE/8U6mNGTOmwu6AQaUnhMDEiRPh7OwMmUxmut8tVS/169fHRx99JHUZZKGytfl4blMobsuvw9lgwAqtCwLG/cbwRyYMgFRqH3/8MdatWyd1GQ/0008/ITAwELVq1YK9vT1at26Nb7/9VuqyzJw/fx4ODg4Pdfu7iIgIrFu3Djt27EBKSgr8/f1LbNu9e3fIZDKzx7Bhw8zaZGRkICwsDBqNBhqNBmFhYbh9+3aZ66pIt27dwtSpU9G0aVPUqFED3t7emDZtGjIzM83aleZYkpKSMGDAANjb28PFxQXTpk2DTqerxKMhqlg6vR7Pfj8WN+WXYW804v0CZ7Qe9ytgq5G6NKpCeAqYSk2jqR6/PJydnTF//nw0a9YMKpUKO3bswNixY+Hq6oqQkBCpy0NhYSGGDx+OLl264PDhw2Xe/sKFC/Dw8EDHjh1LbKPT6aBSqQAAEyZMwJIlS0zr7OzszNqOGDECV69eRUREBABg4sSJCAsLwy+//FLm2ipKcnIykpOTsXz5crRo0QKXL1/GpEmTkJycjB9//NHU7kHHYjAY0K9fP9SpUwcHDx5Eeno6Ro8eDSEEVqxYIcmxEZW3sVtfQ4rsNFRGgfdy1Agcvx1QO0hdFlU1gh5aZmamACAyMzOLrMvPzxfx8fEiPz9fgsoe3pYtW4S/v7+wtbUVzs7OomfPniInJ0cIIcTo0aPFwIEDTW27desmpk6dKubMmSOcnJyEm5ubWLhwYZn2t3//fgFA7NixQ7Rq1Uqo1WrRvn17ceLEiXI8KiHatGkjXn/99TJtc/bsWdGlSxehVqtF8+bNxe7duwUAsW3btkeq5ZVXXhEjR44Ua9euFRqNpkzbjh49WgAwPXx8fIQQd16LyZMni5kzZ4ratWuLrl27mpZPnz69xOeLj48XAMSRI0dMy6KiogQA8c8//5S6rri4ONG9e3dRs2ZN4eDgIAICAkRMTIxp/aFDh0SXLl2Era2t8PLyElOnTjW9r4QQIjk5WTz55JPC1tZW1K9fX2zYsEH4+PiIDz/8sMR9/vDDD0KlUonCwsJSH8vOnTuFXC4X165dM7X5/vvvhVqtLvbfcXEiIiKEWq0WGRkZZsunTp1q6nchhPjxxx9FixYthEqlEj4+PmL58uVm7R90fKVRXX/PUMVZuv9r4b/OX/iv8xc/f9RMiNtXpS6pSrrf57e14CngyiQEoMut/Ecpb1+WkpKC4cOHY9y4cUhISMCBAwcwaNCg+97+bP369bC3t0d0dDTee+89LFmyBJGRkWXumjlz5mD58uWIiYmBq6srnnrqKRQWFgK4c8quZs2a932UdC9aIQT27t2LM2fOoGvXrqWux2g0YtCgQVAoFDhy5AhWr16NV199tUg7Pz+/+9bl5+dn1n7fvn3YsmULPvvsszL0zv/7+OOPsWTJEnh5eSElJQUxMTGmdevXr4dSqcShQ4fw+eefm5Zv2LABLi4u8PPzw8svv4zs7GzTuqioKGg0Gjz++OOmZR06dIBGoynT6GRoaCi8vLwQExOD2NhYvPbaa7CxsQEAnDx5EiEhIRg0aBBOnDiBzZs34+DBg5gyZYpp+1GjRiE5ORkHDhzA1q1bsWbNGqSlpd13n5mZmXB0dIRSqSz1sURFRcHf3x+enp6mNiEhIdBqtYiNjS3Vsfbq1Qu1atXC1q1bTcsMBgN++OEHhIaGAgBiY2MxZMgQDBs2DCdPnsSiRYvwxhtvVIuvUFD1tfPsEfxw6UMAwPO3czFw6BZAU1fiqqiq4ingylSYB7zt+eB25W1eMqCyf2CzlJQU6PV6DBo0CD4+PgCAli1b3nebVq1aYeHChQCAxo0b49NPP8XevXvRu3fvMpW4cOFC0zbr16+Hl5cXtm3bhiFDhsDT0/OBFzo4Ojqa/ZyZmYm6detCq9VCoVBg5cqVZappz549SEhIwKVLl+Dl5QUAePvtt9G3b1+zdjt37jQF1eLcDUEAkJ6ejjFjxuC7774rUm9paTQaODg4QKFQwN3d3Wxdo0aN8N5775ktCw0Nha+vL9zd3XHq1CnMnTsXf//9tymkp6amwtXVtch+XF1dkZqaWuq6kpKSMGfOHDRr1gzAnffCXcuWLcOIESMwY8YM07pPPvkE3bp1w6pVq3Dp0iXs2bMHMTExCAwMBAB8+eWXZs9xr/T0dLz55pt44YUXTMtKcyypqalwc3MzW+/k5ASVSlXq41UoFBg6dCg2btyI8ePHAwD27t2LjIwMDB48GADwwQcfoGfPnnjjjTcAAE2aNEF8fDyWLVuGMWPGlGo/RGWRnJWOxQenwaAQ6JmbhxefeB9wL/n7wUQMgGTy2GOPoWfPnmjZsiVCQkIQHByM5557Dk5OTiVu06pVK7OfPTw8HjhyU5ygoCDT/zs7O6Np06ZISEgAACiVSjRq1KhMz+fg4IC4uDjk5ORg7969mDVrFho0aIDu3buXavuEhAR4e3ubwt+9Nd51NyiXxoQJEzBixIgyjUSWxd3wdO8+7/L390fjxo0RGBiIY8eOISAgAAAgk8mKbCeEKHZ5SWbNmoXnn38e3377LXr16oXBgwejYcM7t5aKjY3F+fPnsWHDBrPnNxqNSExMxNmzZ6FUKk31AHfCbEnvu6ysLPTr1w8tWrQw/fFxV2mOpTyONzQ0FEFBQUhOToanpyc2bNiAJ5980lRzQkICBg4caLZNp06d8NFHH8FgMEChUJR6X0QPYjQaMeanichT5MO7sBDz6o+AquUzUpdFVRwDYGWyqXFnNE6K/ZaCQqFAZGQkDh8+jN27d2PFihWYP38+oqOj4evrW/xT/2eEC7jz4Wo0Gh+55LvPBdwZXWrRosV9244cORKrV682/SyXy02hsXXr1khISEB4eHipA2Bxp72LCwh+fn64fPlyic/j4+OD06dPA7hz+nf79u1Yvny5aR9GoxFKpRJr1qzBuHHjSlVbSeztHzzKGxAQABsbG5w7dw4BAQFwd3fH9evXi7S7ceNGkZGy+1m0aBFGjBiBX3/9Fb/99hsWLlyITZs24ZlnnoHRaMQLL7yAadOmFdnO29sbZ86cKfY5i3sNsrOz0adPH9SsWRPbtm0ze/+V5ljc3d0RHR1ttj4jIwOFhYVlOt727dujYcOG2LRpE1588UVs27YNa9euNav93vfL/b5KQfQopu1YjhTZWaiMAouNXnDts0jqkqgaYACsTDJZqU7FSkkmk6FTp07o1KkTFixYAB8fH2zbtg2zZs2q0P0eOXIE3t7eAO58IJ89e9Z0OvFhTgHfSwgBrVZb6npatGiBpKQk0wgPcOf7Y/cqyyngqKgoGAwG08//+9//8O677+Lw4cOoW7dyvqdz+vRpFBYWwsPDA8CdUc3MzEwcPXoU7du3BwBER0cjMzPzvlcZF6dJkyZo0qQJZs6cieHDh2Pt2rV45plnEBAQgNOnT5c4itusWTPo9XocP34cbdu2BXBnmpx7p2/JyspCSEgI1Go1tm/fDltbW7P1pTmWoKAgLF26FCkpKaY+2L17N9RqtWnfpTVixAhs2LABXl5ekMvl6Nevn2ldixYtcPDgQbP2hw8fRpMmTTj6R+Vq74U4HLz1HSADZmTpEDh+IyDne4wejAGQTKKjo7F3714EBwfD1dUV0dHRuHHjBpo3b17h+16yZAlq164NNzc3zJ8/Hy4uLqZJp8t6Cjg8PByBgYFo2LAhdDoddu7ciW+++QarVq0q9XP06tULTZs2xahRo/D+++8jKysL8+fPL9KuLKeA7+3Hv/76C3K5/L7z+D2KCxcumE5Nuri4ID4+HrNnz0abNm3QqVMnU019+vTBhAkTTBeOTJw4Ef3790fTpk1LtZ/8/HzMmTMHzz33HHx9fXH16lXExMTg2WefBQC8+uqr6NChAyZPnowJEybA3t4eCQkJiIyMxIoVK9CsWTP06tULEydOxKpVq2BjY4PZs2fDzs7ONIqWnZ2N4OBg5OXl4bvvvkNWVhaysrIAAHXq1IFCoSjVsQQHB6NFixYICwvDsmXLcOvWLbz88suYMGFCmb+XGRoaisWLF2Pp0qV47rnnzALp7Nmz0a5dO7z55psYOnQooqKi8Omnn2LlypVl2gfR/eQXarHowHQYlALdc/MQ2u9LoGbR78ESFUuai48tg6VNAxMfHy9CQkJEnTp1hFqtFk2aNBErVqwwrS9uGph7pxgZOHCgGD16tNk23bp1K3Gfd6eB+eWXX4Sfn59QqVSiXbt2Ii4u7qGPY/78+aJRo0bC1tZWODk5iaCgILFp0yazNmvXrhUPevufOXNGdO7cWahUKtGkSRMRERFRLtPA/LeGe6eBSUxMFADE/v37S9zuww8/NE3/cldxr0VSUpLo2rWrcHZ2FiqVSjRs2FBMmzZNpKenm7VLT08XoaGhwsHBQTg4OIjQ0NAiU5z4+PiUOMWPVqsVw4YNE/Xq1RMqlUp4enqKKVOmmL33jx49Knr37i1q1qwp7O3tRatWrcTSpUtN65OTk0Xfvn2FWq0WPj4+YuPGjcLV1VWsXr1aCPH/75PiHomJiWU6lsuXL4t+/foJOzs74ezsLKZMmSIKCgrM2gAQa9euLfZ4/6tdu3YCgNi3b1+RdXengbGxsRHe3t5i2bJlRfqU08DQoxi/9TXhv85fdPmqubj801Spy6lWOA2MEDIh+MWUh5WVlQWNRmOajuK/CgoKkJiYCF9f3yKnqqxJ9+7d0b17dyxatKjY9QcOHECPHj2QkZHxUHfFeFiLFi3CgQMHcODAgTJtJ5PJsG3btgq7Jd6BAwfwzDPP4OLFi/e9+KYy5efnw9nZGTt37kSPHj0qZZ9Xr15FvXr1sGfPHvTs2bNS9nnXpUuX0LhxY8THx9/3SuSqgL9nrNeu839hzsGxEDLg7dtyDHjpCGBj9+ANCcD9P7+tBU8BU4XJzs7GhQsXsGPHDqlLKWLXrl34+OOPpS6jiIiICMybN6/KhD8A+P333/HEE09UaPjbt28fcnJy0LJlS6SkpOCVV15B/fr1K+yK6fuJiIjAxIkTq3z4I+tVoNdh6e+zIZRAn5w89H/2B4Y/KjMGQKowDg4OuHLlitRlFKu4CzqqgnfeeUfqEoro06cP+vTpU6H7KCwsxLx583Dx4kU4ODigY8eO2LBhQ5GrzCtDSZOKE1UVs35dhgzlLWgMBkzxehoyr7JdwEQEMACSxLp3716tpseoTrVWJyEhIVXiPs1EVV100llE3doMyIGpOTL4jHxT6pKommIAJCIiqiYW7HkFeoXA4/kFGPzk54CqdPO8Et2L9wImIiKqBlYe+RnJigtQCoHpDm0hb/SE1CVRNcYASEREVMVla/PwzelwAEBoVj5aDvhQ4oqoumMAJCIiquJe+e195Crz4KbXY1yL8YCjh9QlUTXHAEhERFSFnb15DdEZPwIAXsqRw7lbxd6ak6wDLwIhIiKqwl77bREK5Ua0LNDiqd7vAzac9JseHUcAqdTGjBlTYXfAoNITQmDixIlwdnaGTCZDXFyc1CXRQ6hfvz4++ugjqcugKi7iTBzOG44AACbJ6kHZvL/EFZGlYACkUvv444+xbt06qct4oJ9++gmBgYGoVasW7O3t0bp1a3z77bdSl2Xm/PnzcHBweKjb30VERGDdunXYsWMHUlJS4O/vX2Lb7t27QyaTmT2GDRtm1iYjIwNhYWHQaDTQaDQICwvD7du3y1xXRVuzZg26d+8OR0dHyGSyYmsszbEkJSVhwIABsLe3h4uLC6ZNmwadTlc5B0FUBkIIfPjn6xAy4IncfHR9+lNAJpO6LLIQDIBUahqNplLv1/uwnJ2dMX/+fERFReHEiRMYO3Ysxo4di127dkldGoA7d70YPnw4unTp8lDbX7hwAR4eHujYsSPc3d2hVBb9Jsd/A82ECROQkpJienz++edmbUeMGIG4uDhEREQgIiICcXFxCAsLe6jaKlJeXh769OmDefPmldjmQcdiMBjQr18/5Obm4uDBg9i0aRO2bt2K2bNnV8YhEJXJlzG7kWxzGUoh8IJbT8C1udQlkSUR9NAyMzMFAJGZmVlkXX5+voiPjxf5+fkSVPbwtmzZIvz9/YWtra1wdnYWPXv2FDk5OUIIIUaPHi0GDhxoatutWzcxdepUMWfOHOHk5CTc3NzEwoULy7S//fv3CwBix44dolWrVkKtVov27duLEydOlONRCdGmTRvx+uuvl2mbs2fPii5dugi1Wi2aN28udu/eLQCIbdu2PVItr7zyihg5cqRYu3at0Gg0Zdp29OjRAoDp4ePjI4S481pMnjxZzJw5U9SuXVt07drVtHz69OklPl98fLwAII4cOWJaFhUVJQCIf/75p9R1xcXFie7du4uaNWsKBwcHERAQIGJiYkzrDx06JLp06SJsbW2Fl5eXmDp1qul9JYQQycnJ4sknnxS2traifv36YsOGDcLHx0d8+OGHRfZ19z2TkZFR5mPZuXOnkMvl4tq1a6Y233//vVCr1cX+Oy5ORESEUKvVRfY/depUU78LIcSPP/4oWrRoIVQqlfDx8RHLly83a1/S8ZVFdf09Qw9WqNeLrl90Ef7r/MWSFQ2FyE2XuiSLcr/Pb2vBEcBKJIRAXmFepT9EKW9flpKSguHDh2PcuHFISEjAgQMHMGjQoPtuv379etjb2yM6OhrvvfcelixZgsjIyDL3zZw5c7B8+XLExMTA1dUVTz31FAoLCwHcOWVXs2bN+z5Kun+rEAJ79+7FmTNn0LVr11LXYzQaMWjQICgUChw5cgSrV6/Gq6++WqSdn5/ffevy8/Mza79v3z5s2bIFn332WRl65/99/PHHWLJkCby8vJCSkoKYmBjTuvXr10OpVOLQoUNmo3wbNmyAi4sL/Pz88PLLLyM7O9u0LioqChqNBo8//rhpWYcOHaDRaHD48OFS1xUaGgovLy/ExMQgNjYWr732muk+vidPnkRISAgGDRqEEydOYPPmzTh48CCmTJli2n7UqFFITk7GgQMHsHXrVqxZswZpaWll6pvSHEtUVBT8/f3h6elpahMSEgKtVovY2NhS7adXr16oVasWtm7dalpmMBjwww8/IDQ0FAAQGxuLIUOGYNiwYTh58iQWLVqEN954o1p8hYKqhnf++Ba3bDJQ02jEuEahQA1nqUsiC8OrgCtRvj4fj298/MENy1n0iGjUsHnw7YJSUlKg1+sxaNAg+Pj4AABatmx5321atWqFhQsXAgAaN26MTz/9FHv37kXv3r3LVOPChQtN26xfvx5eXl7Ytm0bhgwZAk9Pzwde6ODo6Gj2c2ZmJurWrQutVguFQoGVK1eWqaY9e/YgISEBly5dgpeXFwDg7bffRt++fc3a7dy50xRUi3M3BAFAeno6xowZg++++65IvaWl0Wjg4OAAhUIBd3d3s3WNGjXCe++9Z7YsNDQUvr6+cHd3x6lTpzB37lz8/fffppCempoKV1fXIvtxdXVFampqqetKSkrCnDlz0KxZMwB33gt3LVu2DCNGjMCMGTNM6z755BN069YNq1atwqVLl7Bnzx7ExMQgMDAQAPDll1+aPUdplOZYUlNT4ebmZrbeyckJKpWq1MerUCgwdOhQbNy4EePHjwcA7N27FxkZGRg8eDAA4IMPPkDPnj3xxhtvAACaNGmC+Ph4LFu2DGPGjCnTcZH1ydMVYMfFzwAlMCq7EHVHzJG6JLJADIBk8thjj6Fnz55o2bIlQkJCEBwcjOeeew5OTk4lbtOqVSuznz08PMo8cgMAQUFBpv93dnZG06ZNkZCQAABQKpVo1KhRmZ7PwcEBcXFxyMnJwd69ezFr1iw0aNAA3bt3L9X2CQkJ8Pb2NoW/e2u8625QLo0JEyZgxIgRZRqJLIu74enefd7l7++Pxo0bIzAwEMeOHUNAQAAAQFbMl8qFEMUuL8msWbPw/PPP49tvv0WvXr0wePBgNGzYEMCd0bDz589jw4YNZs9vNBqRmJiIs2fPQqlUmuoB7oTZ+73vSlKaYymP4w0NDUVQUBCSk5Ph6emJDRs24MknnzTVnJCQgIEDB5pt06lTJ3z00UcwGAxQKBSl3hdZn0V7VyNXWQBXvR4jWk8G1DWlLoksEANgJbJT2iF6RLQk+y0NhUKByMhIHD58GLt378aKFSswf/58REdHw9fXt9ht/jvCBdz5cDUajY9c893nAu6MLrVo0eK+bUeOHInVq1ebfpbL5abQ2Lp1ayQkJCA8PLzUAbC4097FBQQ/Pz9cvny5xOfx8fHB6dOnAdw5/bt9+3YsX77ctA+j0QilUok1a9Zg3LhxpaqtJPb29g9sExAQABsbG5w7dw4BAQFwd3fH9evXi7S7ceNGkZGy+1m0aBFGjBiBX3/9Fb/99hsWLlyITZs24ZlnnoHRaMQLL7yAadOmFdnO29sbZ86cKfY5S/vVhbtKcyzu7u6Ijjb/N5iRkYHCwsIyHW/79u3RsGFDbNq0CS+++CK2bduGtWvXmtV+7/ulrMdD1ul2fi5+T/72zuhfrgyajsV/vYXoUTEAViKZTFaqU7FSkslk6NSpEzp16oQFCxbAx8cH27Ztw6xZFTvz/JEjR+Dt7Q3gzgfy2bNnTacTH+YU8L2EENBqtaWup0WLFkhKSjKN8AB3vj92r7KcAo6KioLBYDD9/L///Q/vvvsuDh8+jLp165a6tkdx+vRpFBYWwsPjzm2kgoKCkJmZiaNHj6J9+/YAgOjoaGRmZqJjx45leu4mTZqgSZMmmDlzJoYPH461a9fimWeeQUBAAE6fPl3iKG6zZs2g1+tx/PhxtG3bFsCdaXLKOhVNaY4lKCgIS5cuRUpKiqkPdu/eDbVabdp3aY0YMQIbNmyAl5cX5HI5+vXrZ1rXokULHDx40Kz94cOH0aRJE47+0X0t2PUp8pQ6eOj1eK7DK4BSLXVJZKEYAMkkOjoae/fuRXBwMFxdXREdHY0bN26gefOKn3pgyZIlqF27Ntzc3DB//ny4uLiYJp0u6yng8PBwBAYGomHDhtDpdNi5cye++eYbrFq1qtTP0atXLzRt2hSjRo3C+++/j6ysLMyfP79Iu7KcAr63H//66y/I5fL7zuP3KC5cuGA6Neni4oL4+HjMnj0bbdq0QadOnUw19enTBxMmTDBdODJx4kT0798fTZs2LdV+8vPzMWfOHDz33HPw9fXF1atXERMTg2effRYA8Oqrr6JDhw6YPHkyJkyYAHt7eyQkJCAyMhIrVqxAs2bN0KtXL0ycOBGrVq2CjY0NZs+eDTs7O7NRtNTUVKSmpuL8+fMA7lxc4uDgAG9vbzg7O5fqWIKDg9GiRQuEhYVh2bJluHXrFl5++WVMmDChzN/LDA0NxeLFi7F06VI899xzsLX9/7szzJ49G+3atcObb76JoUOHIioqCp9++ilWrlxZpn2QdUnLycKRW5sABRCWr4J94CipSyJLJsWlx5bC0qaBiY+PFyEhIaJOnTpCrVaLJk2aiBUrVpjWFzcNzL1TjAwcOFCMHj3abJtu3bqVuM+7U3r88ssvws/PT6hUKtGuXTsRFxf30Mcxf/580ahRI2FrayucnJxEUFCQ2LRpk1mbtWvXige9/c+cOSM6d+4sVCqVaNKkiYiIiCiXaWD+W8O908AkJiYKAGL//v0lbvfhhx+apn+5q7jXIikpSXTt2lU4OzsLlUolGjZsKKZNmybS082nk0hPTxehoaHCwcFBODg4iNDQ0CJTnPj4+JQ4xY9WqxXDhg0T9erVEyqVSnh6eoopU6aYvfePHj0qevfuLWrWrCns7e1Fq1atxNKlS03rk5OTRd++fYVarRY+Pj5i48aNwtXVVaxevdrUZuHChWZT4Nx9rF27tkzHcvnyZdGvXz9hZ2cnnJ2dxZQpU0RBQYFZm3uftyTt2rUTAMS+ffuKrLs7DYyNjY3w9vYWy5YtM1vPaWDoXpO2LBL+6/xFyBfNRP6JrVKXY9E4DYwQFhUAP/vsM1G/fn2hVqtFQECA+OOPP+7b/rvvvhOtWrUSdnZ2wt3dXYwZM0bcvHmz1PuztABYEbp163bfuQFLmtOtoi1cuPC+wbQk5RkAi7N//35Rq1YtcevWrQrbR1nl5eUJW1vbYkNORbly5YoAIPbs2VNp+7wrMTFRKJVKcfbs2Urfd1nx94zlSM2+LQK/ekz4r/MXGz4LFMJolLoki8YAaEHzAG7evBkzZszA/Pnzcfz4cXTp0gV9+/ZFUlJSse0PHjyIUaNGYfz48Th9+jS2bNmCmJgYPP/885VcueXKzs7GhQsX8PLLL0tdShG7du0qMmVKVRAREYF58+Y91BWwFeX333/HE088gR49elTYPu5eIJOYmIjDhw9j2LBhqF+/foVdMX0/ERERmDhxYpmnoSF6FAt2fYgChQE+hYV4tsci3vKNKpzFfAfwgw8+wPjx400B7qOPPsKuXbuwatUqhIeHF2l/5MgR1K9f33Rloq+vL1544YUqGQqqKwcHB1y5ckXqMopV3AUdVcE777wjdQlF9OnTB3369KnQfRQWFmLevHm4ePEiHBwc0LFjR2zYsKHIVeaVoaRJxYkqyvXsDMRm/nznu3/amlA3e1LqksgKWMQIoE6nQ2xsLIKDg82WBwcHl3g3g44dO+Lq1avYuXMnhBC4fv06fvzxR7Mr+ajide/eHUKIanGPYeDO1cR3L06h8hMSEoJTp04hLy8P169fx7Zt28p0gQ1RdbYg8iNoFQY00BXime4LOPpHlcIiAuDNmzdhMBiKzOPl5uZW4uz+d0cYhg4dCpVKBXd3d9SqVQsrVqwocT9arRZZWVlmDyIiood1Ky8bx29vBwCM1NaAqsUAiSsia2ERAfCu4iZeLWl2//j4eEybNg0LFixAbGwsIiIikJiYeN/TP+Hh4dBoNKZHvXr1yrV+IiKyLosjVyNfoUfdQj2e6vY6R/+o0lhEAHRxcYFCoSgy2peWllbi7P7h4eHo1KkT5syZg1atWiEkJAQrV67E119/jZSUlGK3mTt3LjIzM02P0ny/TXD2fyKqIPz9Ur1lFxQg5uYmAMBQrS3Ufk9LWxBZFYsIgCqVCm3btjXd4P6uyMjIEu9mkJeXB7nc/PDvztBf0i9VtVoNR0dHs0dJ7n55PS8vr9THQURUFnd/v0hxsQw9urf2fI1spQ7OBgMGd34NkFvERzJVExZzFfCsWbMQFhaGwMBABAUFYc2aNUhKSjKd0p07dy6uXbuGb775BgAwYMAATJgwAatWrUJISAhSUlIwY8YMtG/f3nTrr0ehUChQq1YtpKWlAQBq1KhRppvNExGVRAiBvLw8pKWloVatWry9XDWUX1iIIynrARXwXL4NarYcLHVJZGUsJgAOHToU6enpWLJkCVJSUuDv74+dO3eariRMSUkxmxNwzJgxyM7OxqefforZs2ejVq1aeOKJJ/Duu++WW03u7u4AYAqBRETlqVatWqbfM1S9vL9/M26p8mBvNCK0w8sc/aNKJxP8EslDy8rKgkajQWZm5n1PBxsMBhQWFlZiZURk6WxsbDjyV03pDUaEfNUVaepMhOYIvDYpDlBYzHhMtVDaz29LxndcJVAoFPxFTUREAIBVUb8hTZ0JlVEgrNXzDH8kCY45ExERVRIhBH6N/wgA0C9Pj7odXpC2ILJaDIBERESVZMPxKFxTp0IuBEY2eg6wsZO6JLJSDIBERESVZNNfdy407JmnQ5OuL0tcDVkzBkAiIqJK8GvCKSSpLgIARnr2BuxqSVsQWTUGQCIiokrw5aFwCBnQMb8AAU+8LnU5ZOUYAImIiCrY4cRLuKQ4AQAYoQkEHD0kroisHQMgERFRBfvkj3ehlwOtCrTo2muJ1OUQMQASERFVpH+up+G84RAAYLhtY8jqNJa4IiIGQCIiogr17t4PoVUINNAV4smei6UuhwgAAyAREVGFScnKRkJ+BABgGFwh9wqUuCKiOxgAiYiIKsjSyNXIVerhrtfj2W688peqDgZAIiKiCpBVUIDjGZsBAEN0NaBq3Fviioj+HwMgERFRBXh333fIstGilsGA4R1fAWQyqUsiMmEAJCIiKmc6vQEHr30FAHg2X4GaLZ+TuCIicwyARERE5WzFof/hlioHdkYjQtu8AMgVUpdEZIYBkIiIqBwJIRBx9lMAwMBcA+q0e17iioiKYgAkIiIqR+v+2o9U1Q0ohUBo0+GAja3UJREVwQBIRERUjrb8/T4AoG+uFvW7zJC2GKISMAASERGVk50Jx3HFJgkyITDcqy9gq5G6JKJiMQASERGVkzVH3gEA9MjTouUT8ySuhqhkDIBERETl4OiVC0iUxQMAhjp1ABzcJa6IqGQMgEREROXgg/3vwCgD2ucXoGPwIqnLIbovBkAiIqJHdO5mKs4aogEAQ2ybAbUbSlwR0f0xABIRET2i8D3vo1Au0FyrQ+/ei6Uuh+iBGACJiIgeQVpOFk7m7QYADIEH5HUDJK6I6MEYAImIiB7BW3tWoEBhhE9hIQb2WCB1OUSlwgBIRET0kHK0BYhJ3woAGKKrCZtGPSSuiKh0GACJiIgeUvi+r5CjLEQdvR7Pdp4LyGRSl0RUKgyARERED6HQYMAf174BAAzOt4G9/zMSV0RUegyARERED+GjP3/AbZs8OBiMGBI4DZDzI5WqD75biYiIyshoNOK3858BAAblCdRuN1riiojKhgGQiIiojL6I+RU3bDJhZzRimP84QGEjdUlEZcIASEREVEZbT30IABiYWwivji9JXA1R2TEAEhERlcHmEweQorwBGyEwtOEwQFVD6pKIyowBkIiIqAzW//UuAKB/TgEadZ8lcTVED4cBkIiIqJQizsbgiuIq5EJgsGc/wK6W1CURPRQGQCIiolJaeehtAEBIbgFaBs+XuBqih8cASEREVAp/Jp7CJdl5AMCQ2l2Bmq4SV0T08BgAiYiISuGDP96GkAE9cvMRGLJQ6nKIHgkDIBER0QPEXjuPi+IkAGBozQDAyUfiiogeDQMgERHRA7y7LxxGGdAxLx+d+iyWuhyiR8YASEREdB/x16/grOEoAGCouhng2lziiogeHQMgERHRfYTvDYdBBrQpKED3PkulLoeoXDAAEhERleDires4rT0IABiiaAi552MSV0RUPhgAiYiISvDmrnAUygWaa3V4su/bUpdDVG4YAImIiIpx8dZ1nCjYBwAYLvOGvG6AxBURlR8GQCIiomIs3vU2dP+O/g3s+47U5RCVKwZAIiKie1xIT8Wpgv0AgFBZPci92kpcEVH5YgAkIiK6x+Ld4dDJBVpotRgQwu/+keVhACQiIvqPczdTTKN/I+EFuXd7iSsiKn8MgERERP/x5u63USgX8Ndq0a8Pv/tHlokBkIiI6F/nbqbglPZ3AMAIeX2O/pHFYgAkIiL615u7lqBQLtCyQIt+T74ndTlEFYYBkIiICMCp1CSc1N2568dwm8aQe7aWtiCiCsQASEREBODN3QuglwNtCrTo12+51OUQVSgGQCIisnqHLifgH2MsAGCsXSvI3ZpLXBFRxWIAJCIiq/fuvgUwyoDOeQXo0X+Z1OUQVTgGQCIismq//hODRPk/AICxtToCzr4SV0RU8RgAiYjIqn16aBEAoE9OPto/ybt+kHVgACQiIqv13bG9uKpMglIIjPHoC2jqSl0SUaWwqAC4cuVK+Pr6wtbWFm3btsWff/553/ZarRbz58+Hj48P1Go1GjZsiK+//rqSqiUiIikZjUasP/YmAGBAjg5+fZdIXBFR5VFKXUB52bx5M2bMmIGVK1eiU6dO+Pzzz9G3b1/Ex8fD29u72G2GDBmC69ev46uvvkKjRo2QlpYGvV5fyZUTEZEUPj30I1Jt0qE2GjGm6WjAzknqkogqjUwIIaQuojw8/vjjCAgIwKpVq0zLmjdvjqeffhrh4eFF2kdERGDYsGG4ePEinJ2dH2qfWVlZ0Gg0yMzMhKOj40PXTkRElSuvUIs+67sgwyYfodkGvDbpOKBUS10WVRJ+flvIKWCdTofY2FgEBwebLQ8ODsbhw4eL3Wb79u0IDAzEe++9h7p166JJkyZ4+eWXkZ+fXxklExGRhN747SNk2OTD2WDA+PZzGP7I6ljEKeCbN2/CYDDAzc3NbLmbmxtSU1OL3ebixYs4ePAgbG1tsW3bNty8eRMvvfQSbt26VeL3ALVaLbRarennrKys8jsIIiKqFFczb+HPm98DCmBMvi3qBI6WuiSiSmcRI4B3yWQys5+FEEWW3WU0GiGTybBhwwa0b98eTz75JD744AOsW7euxFHA8PBwaDQa06NevXrlfgxERFSx5v26EPkKAxrqdBgR/B4gt6iPQqJSsYh3vYuLCxQKRZHRvrS0tCKjgnd5eHigbt260Gg0pmXNmzeHEAJXr14tdpu5c+ciMzPT9Lhy5Ur5HQQREVW4mKvncUJ3AAAwEV5QN+4lbUFEErGIAKhSqdC2bVtERkaaLY+MjETHjh2L3aZTp05ITk5GTk6OadnZs2chl8vh5eVV7DZqtRqOjo5mDyIiqj7einwFBhnQIb8AfQZ8LHU5RJKxiAAIALNmzcKXX36Jr7/+GgkJCZg5cyaSkpIwadIkAHdG70aNGmVqP2LECNSuXRtjx45FfHw8/vjjD8yZMwfjxo2DnZ2dVIdBREQVZFPcflyUn4NMCEx06gq5u7/UJRFJxiIuAgGAoUOHIj09HUuWLEFKSgr8/f2xc+dO+Pj4AABSUlKQlJRkal+zZk1ERkZi6tSpCAwMRO3atTFkyBC89dZbUh0CERFVEL3BgC//WgDYAANyC9FuyDKpSyKSlMXMAygFziNERFQ9vP7bJ/hf2hewNxqxqf441O8xW+qSSEL8/LagU8BERETFSbp9A5Epd6b3GpNng/rdZkhbEFEVYDGngImIiIoz55dXkacwoJFOh9EhnwNyhdQlEUmOI4BERGSxfomPRoIhBgAwRdkUdo26S1sQURXBAEhERBZJbzDgw8OvQsiAkJx89HzmU6lLIqoyGACJiMgiLdm9Cjds0lHDaMRLjUKBWt5Sl0RUZTAAEhGRxblyOx27U74EAIzOVaJBz/kSV0RUtfAiECIisjiz/zcVuQoDGugKMfbJLwClSuqSiKoUjgASEZFFWXt0JxJwEgAwza4N7Bp0kbgioqqHAZCIiCxGRl4Ovjq5EAAwKEeHnoM+k7gioqqJAZCIiCzG9J/nIlNZADe9HlPazQVqOEtdElGVxABIREQW4X+njyBOdwAAMF3vhjrtRktbEFEVxgBIRETVXl6hFh9GzYKQAb1zCzBg8NeATCZ1WURVFgMgERFVe3N+XoR0m2xoDAbMaDEJcG4gdUlEVRoDIBERVWsR//yFw7k7AAAv6GrDu+tMiSsiqvoYAImIqNrK1ubjnYNToZcBXfK0CB3yLSDnRxvRg/BfCRERVVuTt85Buk0OnA0GvNpiMuTO9aUuiahaYAAkIqJqaX3sbsTpfgcAzNK7w6frNIkrIqo+GACJiKjaSc66hc/j5kLIgIHZBRg49Fte9UtUBgyARERU7Uz76UVkK3XwKizEzKBFgKau1CURVSsMgEREVK28u+cLnJHFQy4EXrFtjdptQ6UuiajaYQAkIqJq48/E09hyZQUAIDRXjh5Dvpa4IqLqSSl1AURERKVxOz8Xr+99Hlobgbb5WkwbuBlQ1ZC6LKJqiSOARERULYz/4UXc+nfKl4VNJsDWq43UJRFVWwyARERU5S3etRJncRwyIfA6fODb42WpSyKq1hgAiYioStt37ji2J68CAIzNEeg9fCOnfCF6RPwOIBERVVlXM29h8e8TobMBHs/XYvKgHwE7J6nLIqr2OAJIRERVkk6vx8Qfh+OWTQHc9Hq80XouVJ6tpC6LyCIwABIRUZU0fvMUXFEmw9ZoxBLHrvDpMFbqkogsBgMgERFVOW/89gni9IcAAK/oXNBx0GcSV0RkWRgAiYioStl0LBK/XP8CADA224jBI38CFPzKOlF54r8oIiKqMv66cg4fx70MgwLokavFtOe2Afa1pS6LyOJwBJCIiKqEC+mpmL1rOHIURjTVFmJxj0+gdPeTuiwii8QASEREkruRk4UJ257DLRstPPR6hDefDqfmfaQui8hiMQASEZGkcrVahG0eghs2mahlMOCdOgPQuMuLUpdFZNEYAImISDJ6gwFhG0NxTXkNdkYjlqoeQ8CAd6Uui8jiMQASEZEkjEYjxm0Yj3PyM1AKgYVGb3Qd/i1v80ZUCRgAiYio0hmNRozd+AKOi1gAwGytC/qN/h+neyGqJAyARERUqYxGI8Z8/yKOGY4AAKblO2DkuN8ApUriyoisBwMgERFVGqPRiLHfv4Tj+sMAgBm5NTBh7G7Axk7iyoisC8faiYioUhiNRozbOBHHDNEAgJk5aowbvxtQ15S4MiLrwwBIREQVTqfXY+yG0TiBEwCAGXn2GDd+F2CrkbgyIuvEAEhERBUqsyAPozYOxUXFJciEwDStM8aPjwBUNaQujchqMQASEVGFuZp5C+O3PItkm5uwEQKv6uti6PjtgFItdWlEVo0XgRARUYU4nXoZo7f0RbLNTdQ0GhEua4qhY39l+COqAhgAiYio3O04dRCTfh2INJs8uOgN+MDxCYSEbeE8f0RVBP8lEhFRuXon8nNsufopdErAR6dHeKMX0LLHDKnLIqL/YAAkIqJyodPr8eIPU3G08CAgB4LyC7G464fwaNFX6tKI6B4MgERE9MiuZNzElK1DcdEmDQAwIkdg9uD/QeXaVOLKiKg4DIBERPRIvo/9DSvj5uK2jQFqoxEz9XUROn4L5/gjqsIYAImI6KHo9HpM3/oKDufvhlEpQ71CPV5zewZd+y8FZDKpyyOi+2AAJCKiMjuRfAGv7RyDKza3AZkMIbl6vNpzJeo07SF1aURUCgyARERUakajEYt3vIuImxuRZwPUMBoxWe+BUaM3AfYuUpdHRKXEAEhERKUSffkfLImchCSbdEABNNfqMbfRC2jTYzpP+RJVMwyARER0XwWFOiz4+XXszfkNOhvA1mhEmLYWJg3dCJWTj9TlEdFDYAAkIqISfX1oC75PeAepNjpADrTNL8SsRmPRqucrHPUjqsYYAImIqIhDF0/g/X2zcc4mFbABNAYDRor6mBi6FnIHN6nLI6JHxABIJCG93oDs3FvIzr0Frb4QhXoDAAEZABkAuQyQKxRwrOmMWjVdoFKpJa6YLN2Z61fw/m8vIwanobeRQSkEBuQp8EK3Zajr10fq8oionDAAEpWzfG0uTp6PxblrsUi5dQ7p+deQpc9CjjEXuTIdcuR65MkFCmRAgUwGUYbTaGqjgK0QUAtAbZTBTshhL2xgB1vYK+xRU+kIR7Uzatm5wtXJB74efmhUrzXs7GpU4BGTJTh3Ixnv/fYqjhnioJMDgAwd8vV4wXckAnu9Cij4cUFkSfgvmughGQx6xMTvw7Hz+3EpIx6phSlIVeThuhIw/jfUyQGo/rvl3fG9ksmEMP3/fwOiVi6D1mxbAUD37yMLQMr//5gJ4BKgOCzgbBBwMiigEbbQyB3hpKqDOjXrwsulKVr4doBv3RaQKxQP0w1UzZ1OuYjPds/HUeMpaOUA5ICfVo/BTj3x7PD3ABX/eCCyRDIh/vNJQ2WSlZUFjUaDzMxMODo6Sl0OVbDMnAzsOvo94pL247I2ERdt8pGjkBfbVm0UcDUAzgYVaskc4aishVq2ztDYucKppgecHNzh7OCCWg514FizNhxrukBlo4KsmNFAg0GPrNxbyMy+iazcDGTnZSAz7xZycjNxO/8msvNvIFt7C9mFmcg15CIX+ciFDpkKA9IVgKEUI4z2RiPcCuWoLezgrHCCq109eNdugqbe7eDXsANUartH7j+qWraf+B2bYt5BvOKK6T3SQluIITU74JmBH0Bu7yxxhUQVh5/fDICPhG8gy3ck/gB2xa7HmbyTOKMqgE5uHqbURgHvQjk8oIFXDR80qBMA/4ad0ax+ABRK6QfY9XodLiX/gwvJJ3D15jlcz0rCrYLruK3PxG3kIl2hx03l/QOiyijgoQdcjTVQR+kCj5oN0NCtNVo36Y56no0q6UioPGRr8/HlvpXYf3ULElW5puWtCvToX6srhvYPZ/Ajq8DPbwsLgCtXrsSyZcuQkpICPz8/fPTRR+jSpcsDtzt06BC6desGf39/xMXFlXp/fANZHiEE9h//DRF/f46/DReRbGO+3kVvREN9TTSyb4I2vr3QJeBZ1LCrKU2x5SQzNwMnzx/B+WvHcS3jHNLyryHdmIF0eQGuKwUK7zOC6Kw3wkNvgzoyR7jZ1oW3c3P41Q9Cy8adOWpYhfx68gB+jv0Up4xnkPPvmX6lEOieJzDA5zk8EfwaYMPXi6wHP78tKABu3rwZYWFhWLlyJTp16oTPP/8cX375JeLj4+Ht7V3idpmZmQgICECjRo1w/fp1BkArdeZyHDb+sRyxBSdwWfX//ySUQqCZVokWdk3RrfkwdA54yqq+K6fX63Hi/FGcvnQIl2+eRmrBFdwwZiBVocOt+4wcqowCnv+OGrrauMLLoQEae7ZF22Y9ULt2yf8eqfwcPH8M26NX4WReLK6qCk3LXfUGdNG7YHjgVDRt8ywgL/5rDESWjJ/fFhQAH3/8cQQEBGDVqlWmZc2bN8fTTz+N8PDwErcbNmwYGjduDIVCgZ9//pkB0IoYDEZs3r8Guy+uR5wq2/Q9KKUQeEyrRjunLhjUdRo83BtIXGnVlJaRjGP/HMDZ5FhcyzqPtMLrSJPlIsXm/qOGLnoj3A02cJXVgqddPdSv449WvkFo0uBxKJSc5uZh6Q0G7D65H3tOrMcp3Wmk2Px/6LMRAh3zZeheuzOeCnkdKk1dCSslkh4/vy3kKmCdTofY2Fi89tprZsuDg4Nx+PDhErdbu3YtLly4gO+++w5vvfXWA/ej1Wqh1WpNP2dlZT180SSZnPwsrPplPn7P/P3OaJ8aAGRoUSBDu5qBGPbEHHh5NJe6zCrP1ckTfYJGoA9GmC3XFeoQdz4K8ZeicPlmPK7nX8FN3EaqQocMpRw3lXLcVBoApAOGdCA1Dkj9DupDRnjq5XATNeBm4wYvTSM08WiLNs16wMnJU5JjrOoSks/jl6Pf4tTNw7ggT0XW3cFpmzt/yLQuMKKNnR+e7TgFdRt35Z07iMjEIgLgzZs3YTAY4OZmPju9m5sbUlNTi93m3LlzeO211/Dnn39CWcov64eHh2Px4sWPXC9J41b2bXy6fQ72FUQhXSkDVHfuadqxsDaeeWwyuj8+VOoSLYLKRoX2zbuhffNuZsuFELicdhnH//kdF1JjkZJzETf1N5Amz0OqjYBWLkeiCkhEHoBEIDsRyI4Ezr4DV70RdQw2cIYDXFR14OFQH/VdW8CvweOo5+EHmRWcxtTp9TiQ8AeO/PMrLmb+jStIQ5rNvydw/v2uqp3RiFZaBdra+2Ngu3HwbPIET/ESUbEsIgDede8UGkKIEqbVMGDEiBFYvHgxmjRpUurnnzt3LmbNmmX6OSsrC/Xq1Xv4gqlS5Bbk4KNtLyMy7+Cd4KeUwVVvRDeFH8b1eRNeHk2lLtEqyGQy1Herj/pu9QGMNluXnZeHY2cP4UxSNK5mxCNNew03kYlUZSEyFXKkKeVIUxoA3L7zyDkH5EQCF++EeDe9DLWFLZzlTqijdoerY33Urd0IDer6wbeuH1Sq6nOBg9FoxNnrl/D3uT+QkHwUV3Mu4Lq4gRSlDtq7V6H/G/hkQqCpzojmqINA907o2XEC7F18pSueiKoNiwiALi4uUCgURUb70tLSiowKAkB2djb++usvHD9+HFOmTAFw55euEAJKpRK7d+/GE088UWQ7tVoNtZrfUaoujEYjPt+xBD/e+BFp/wa/Onoj+toG4oVBH8DRobbUJdK/HGrUQLfWvdGtdW+z5UIIXL5+EXFnD+By2mmkZl/GrcI03EIO0hWFuKkACuRyXFYBl6EFkAoYU4HbcXey4gVALgScDAK1jAo4CjU0sppwVDqhlm0dONaog9oO7nCt5QX32vVR17Uh7O0cKuw4jUYj0nNuISn1PC7fOI9rty4hPTsJtwtSkKG/hZuyXNxQ6pH/3+mGTFeiy1DDaERTnQwN5K5oXicQXR4bDM/6gTy1S0RlZhEBUKVSoW3btoiMjMQzzzxjWh4ZGYmBAwcWae/o6IiTJ0+aLVu5ciX27duHH3/8Eb6+/Au6uttz7FesiVmABFsdoJTBRW9EH1UApgz9CPY1GfyqC5lMhvruDVHfvWGx629lZ+Lk+SNITP4bybfP4mb+Ndwy3EKmrAC3FXpkKGQwyGRIV8qQDgGg4N/HTUB37s4dU24DuPL/z2lnFKhhFFAJGdRCDpWQQwUFVEIJG5kN5DI55JD9+5/837MMMggB6KGHAXoUCj0KYYAeBhTKjCiAEXlyI7IVgL64sKb493HnqCEXAu56I+oaVPCS14aPY2O0rN8Vrf37QmXvVG79S0TWyyICIADMmjULYWFhCAwMRFBQENasWYOkpCRMmjQJwJ3Tt9euXcM333wDuVwOf39/s+1dXV1ha2tbZDlVLzdup+KtrWPxu+IKDLYyqIwCfYw+mPH0F6hTmxcSWBpnBw26tQlBtzYhxa7P12px4WoCLqWcQmr6edzMuYrb2jRk6jOQK/KRJytErtyAbLlAtlwGo0yGfLnsPyNwAoDh34fuEav9/+CnMgo4G4xwNshRS6jhKHeAk7oO6jn6orF7S/g17gyH2vU5skdEFcZiAuDQoUORnp6OJUuWICUlBf7+/ti5cyd8fHwAACkpKUhKSpK4SqpI30V+iq+TVuOG8s6ITLsCFWZ2eRctW/SSujSSiJ1aDf+GreHfsPUD2+p0WlxPT0LqzUu4nXMD2Xm3kVtwG3m6bGh1OSjQ50Krz4OAEUajAUIIGGGEEEYImREyAEqZCkq5Giq5CrZKW6iUtlDb1EBNtQa1HeuijrM3vOo0gKaWO+RKmwfWRERUUSxmHkApcB6hquFm5k0s+GEE/lSlAAA8Co0Y5TYMI/u/zhEUIiIqgp/fFjQCSNZpx+Fv8Un8e0hR3fm5p9YJ857dANfavDqbiIioJAyAVC0ZDQYs/n48/qf/CwabO1f3vugZisF950ldGhERUZXHAEjVzrWbyZj703M4rs4GZDJ0zK+BNwZ+Cy+P0s/pSEREZM0YAKla+ePvXXg75mVcU9+51dUIRQBmT1gLuULx4I2JiIgIAAMgVSNf7VyKz69/j/x/T/m+2mgaQrq9IHVZRERE1Q4DIFV5Qgi89f0L2KI7DCGXoWWBHEv7fAtfn9ZSl0ZERFQtMQBSlVao1+PldYOwzyYRkMnQo0CD8LCdsK9hnZftExERlQcGQKqycgtyMPWbvohR3wYADDY2xOvP/wi5gm9bIiKiR8FPUqqSbmXdwIub+iJerYVSCEyw64KXhq6SuiwiIiKLwABIVU5aZhpe2twHZ9SFqGE0YlqdYQjt/4bUZREREVkMBkCqUlIyrmPqlr44oy6EvdGIuT6TMfCJl6Qui4iIyKIwAFKVcSMzzSz8LWwwDX05zQsREVG5YwCkKuFW1g28+O9pX3ujEUsaTUdwl4lSl0VERGSR5FIXQJRXkIeXNv3/yN+CBtMY/oiIiCoQAyBJSq/XY+o3fXBarYWd0YjXvCfjSZ72JSIiqlAMgCQZIQRmrR+Eo+oMKIXANJcheLonL/ggIiKqaAyAJJklGydivzIRAPC8XWeMHLBQ4oqIiIisAwMgSeLzXxZha2EUAGCwsQEmD10tcUVERETWgwGQKl1E9CasufkjhEyGngVOeH3UVqlLIiIisioMgFSpziTF491Tb0EnlyGgwAbvjP6N9/YlIiKqZAyAVGmy83IxL2IkbiplqKcz4p2BP8LW1l7qsoiIiKwOAyBVmlc3PIOzd+/y0fZteLg3kLokIiIiq8QASJVi+ZaZ+FOVAgCY6vI0Hg8YKHFFRERE1osBkCrc7qObsDE3EgDwjN4HoQOWSlwRERGRdWMApAqVeusa3jv5FgplMgTm22ABr/glIiKSHAMgVRij0Yh5Pw7DdaUM7oVGLHnqByht1FKXRUREZPUYAKnCLP/xZcSob0MhBKY3eAn1PBtJXRIRERGBAZAqyKGT+/Fj7m4AwCDREP2fmCxxRURERHQXAyCVu7yCPLx3ZAby5TL4a+WYF7pJ6pKIiIjoP3gLBip3b3w/DBdVRjgajHij+yooVXZSl0RERET/wRFAKlc///k1ImUXAQBjNE+iRZPOEldERERE92IApHJzOycDq858CCGToUuBAyY8u0zqkoiIiKgYDIBUbhZvDkOyDeCiN2LeU+ukLoeIiIhKwABI5WLbn99hn+ISAGBsnUHw8mgibUFERERUIgZAemTZ+dn44p93YZTJ0ElbA6MGLJG6JCIiIroPBkB6ZG9tHosrKqCWwYj5/b8CZDKpSyIiIqL7YACkR/L78e3YhX8AAGGaENTz9Je4IiIiInoQBkB6aAaDHh/9tQAGmQztCtR4/mle9UtERFQdMADSQ/vop9k4rzKghtGImd1XQK5QSF0SERERlQIDID2Uy9cvY1v2HgBAf7kfWjYNkrgiIiIiKi0GQHoo725/HpkKObx1ArOHfCl1OURERFQGDIBUZr9F/YhDNikAgOfrj0UNO0eJKyIiIqKyYACkMjEY9Pji5FswymQI0trhmd6zpS6JiIiIyogBkMpkxc+v4JzaADujETO7fyh1OURERPQQGACp1G5kJGNr5m4AQD80Q/MmnSSuiIiIiB4GAyCV2rKfX8JthQxehUbMGswLP4iIiKorBkAqlVMXj2EfzgMABtV+Cg41nSSuiIiIiB4WAyCVyid7ZkErl6GFVobxT70pdTlERET0CBgA6YF2Hf0ZR1Q3AQBjmk6BXKGUuCIiIiJ6FAyAdF9CCKw/vhRCJkOHAjv07TZR6pKIiIjoETEA0n1t3PMpTtoWQCkEXuzEU79ERESWgAGQSmQw6LH50hcAgB6FdRDgHyJxRURERFQeGACpRKt/eR2JKgF7oxFTQj6WuhwiIiIqJwyAVKwCXT5+vrkDANBbNEED71YSV0RERETlhQGQivXZz68i1UYGJ4MRUwZ+KnU5REREVI4YAKmI3II8/Ja1DwDQW+EHt9p1Ja6IiIiIyhMDIBWx4uc5uG4jg7PeiClP8bt/REREloYBkMxk5+Vgd+7vAIAQ1WNwcvKQuCIiIiIqbwyAZObTn+fghvLf0b+nOfpHRERkiRgAySQnLxuR+X8CAPqoWsPRoY7EFREREVFFYAAkk0+3v4wbShlc9Ea8OPAjqcshIiKiCmJRAXDlypXw9fWFra0t2rZtiz///LPEtj/99BN69+6NOnXqwNHREUFBQdi1a1clVlu15OVnY1fuIQBAsCoAtRw5+kdERGSpLCYAbt68GTNmzMD8+fNx/PhxdOnSBX379kVSUlKx7f/44w/07t0bO3fuRGxsLHr06IEBAwbg+PHjlVx51bDql9dw89/Rv0kDP5C6HCIiIqpAMiGEkLqI8vD4448jICAAq1atMi1r3rw5nn76aYSHh5fqOfz8/DB06FAsWLCgVO2zsrKg0WiQmZkJR0fHh6q7KtAV6tB/fQBSbGQYDH8sGP291CURERFVGEv5/H4UFjECqNPpEBsbi+DgYLPlwcHBOHz4cKmew2g0Ijs7G87OziW20Wq1yMrKMntYgi9/XYIUGxkcDEa80O89qcshIiKiCmYRAfDmzZswGAxwc3MzW+7m5obU1NRSPcf777+P3NxcDBkypMQ24eHh0Gg0pke9evUeqe6qwKA3YFfadgBADzSAm0v1PyYiIiK6P4sIgHfJZDKzn4UQRZYV5/vvv8eiRYuwefNmuLq6lthu7ty5yMzMND2uXLnyyDVL7ds9K3BRLaA2CrwQ/I7U5RAREVElUEpdQHlwcXGBQqEoMtqXlpZWZFTwXps3b8b48eOxZcsW9OrV675t1Wo11Gr1I9dblfx2+RvAFuhmcIO3l5/U5RAREVElsIgRQJVKhbZt2yIyMtJseWRkJDp27Fjidt9//z3GjBmDjRs3ol+/fhVdZpXzy+GNiLcthEIIjO2yUOpyiIiIqJJYxAggAMyaNQthYWEIDAxEUFAQ1qxZg6SkJEyaNAnAndO3165dwzfffAPgTvgbNWoUPv74Y3To0ME0emhnZweNRiPZcVSmradWAGqgg84R/k27Sl0OERERVRKLCYBDhw5Feno6lixZgpSUFPj7+2Pnzp3w8fEBAKSkpJjNCfj5559Dr9dj8uTJmDx5smn56NGjsW7dusouv9IdPb0Xx1TZAGQY1mam1OUQERFRJbKYeQClUJ3nEZr85RP4w+YGAgpUWP9CrNTlEBERVZrq/PldXiziO4BUNpdTziNakQYA6N9gtMTVEBERUWVjALRCX+yeD61choZa4NknJj94AyIiIrIoDIBWJjc/Fwf1pwAAT2i6Q65QSFwRERERVTYGQCvzxa+LkK6Uw1lvxPj+b0ldDhEREUmAAdCKGI1GHLi1GwDQTd4Y9vbWMd0NERERmWMAtCI//7EOF9RG2AiB8T2XSF0OERERSYQB0IrsOPslAKCDrhZ8vFtJXA0RERFJhQHQSpy68BeOqbIAAINb8cpfIiIia8YAaCW++X0xDDIZ/AoU6NFhuNTlEBERkYQYAK1AZk46DuEiAOAJ134SV0NERERSYwC0Al//thhZCjncC40Y9eTrUpdDREREEmMAtAK/Z/wOAOioaAFbtZ3E1RAREZHUGAAtXETUJlxQG6EUAmE9F0hdDhEREVUBDIAW7n8nVwMAArU10ci7pcTVEBERUVXAAGjBrqQl4S+bmwCAfo1GSlwNERERVRUMgBZs3e5FKJDL4KMTeKr7i1KXQ0RERFUEA6CFMhoMiMqPAQB0qdEWcoVC4oqIiIioqmAAtFA//fElrqgAW6MRY4IXSV0OERERVSEMgBYq4tw3AID2hbXhVsdX4mqIiIioKmEAtECXkhMQq8oEAAzwGy9xNURERFTVMABaoHV7l0Avk6GRVoaQoDCpyyEiIqIqhgHQwhgNBkRpTwIAOjoEQSbnS0xERETmmA4szM9/rkGyjQw1jEaEBb8hdTlERERUBTEAWpiIsxsBAG0LneFe20viaoiIiKgqYgC0IMk3ruCYTQYAIKQJv/tHRERExWMAtCDf7HkLWrkM9XQCA7rw6l8iIiIqHgOgBYnOPgIACFK35J0/iIiIqEQMgBZib+x2nFcboRQCI3u8JnU5REREVIUxAFqIHcdXAgBa6+zgW+8xiashIiKiqowB0ALk5uUgRn4FANDds7/E1RAREVFVxwBoATZEvotMhRy19UYM7fWy1OUQERFRFccAaAH+uB4BAGgPb9ja2ktcDREREVV1DIDV3NnLx3FSlQ8AGBgwVeJqiIiIqDpgAKzmNv2xDEaZDE21cnRq86TU5RAREVE1wABYjQkhEF1wEgDQvmZ7iashIiKi6oIBsBrbc3QLklSAyigw4gnO/UdERESlwwBYje08+RUA4DGdPbzcG0pcDREREVUXDIDVVF5BPmJlVwEAXT37SlwNERERVScMgNXU5r0fI0Mph8ZgxNDenPuPiIiISo8BsJo6eHU7ACDQ4A4725oSV0NERETVCQNgNZSSfg1/q7IAAH1ajJK4GiIiIqpuGACroe/3vAOtXAavQoHgDiOlLoeIiIiqGQbAaig68yAAIFDZDHKFQuJqiIiIqLphAKxmTp2PRoKqEAAwqMMMaYshIiKiaokBsJrZcvgDCJkMzbUKtGnWWepyiIiIqBpiAKxm/tLGAwDaOXSQuBIiIiKqrhgAq5E/jm1DkgqwEQJDe7widTlERERUTTEAViM74u7c+q2V1g7e7g0kroaIiIiqKwbAasJoMOC48RIAoH2d7pLWQkRERNUbA2A18cuhdUi1kaGG0YjhT8yRuhwiIiKqxhgAq4l9Z74HADxWqIFTLVeJqyEiIqLqjAGwGsjKzUOcPAUA0LluX4mrISIiouqOAbAaWLPjI9xSyuFgMGLwEzOkLoeIiIiqOQbAKu52ng4nbvwKAOgod4OdnYPEFREREVF1xwBYxa3adwrnatwGADzXcpi0xRAREZFFYACswtKyCnD85BfIUcjhYhBo99gYqUsiIiIiC8AAWIWt2HceSodYAECfmr5QKFUSV0RERESWQCl1AVS8pPQ8bP8rDqqGeQBkeNIvTOqSiIiIyEJwBLCK+uy3XfD2fhcFchl8DIB/8+ekLomIiIgsBEcAq6A/j0fgWMHrSFXL4WwQeK/jm5DJmdWJiIiofDAAVkFrYxYhVS2Hp17gy+DPUa9eJ6lLIiIiIgtiUcNKK1euhK+vL2xtbdG2bVv8+eef923/+++/o23btrC1tUWDBg2wevXqSqr0/hY99T266JzwTpdvGf6IiIio3FlMANy8eTNmzJiB+fPn4/jx4+jSpQv69u2LpKSkYtsnJibiySefRJcuXXD8+HHMmzcP06ZNw9atWyu58qK83X2xcsIfaNOkjdSlEBERkQWSCSGE1EWUh8cffxwBAQFYtWqVaVnz5s3x9NNPIzw8vEj7V199Fdu3b0dCQoJp2aRJk/D3338jKiqqVPvMysqCRqNBZmYmHB0dH/0giIiIqMLx89tCRgB1Oh1iY2MRHBxstjw4OBiHDx8udpuoqKgi7UNCQvDXX3+hsLCw2G20Wi2ysrLMHkRERETVjUUEwJs3b8JgMMDNzc1suZubG1JTU4vdJjU1tdj2er0eN2/eLHab8PBwaDQa06NevXrlcwBERERElcgiAuBdMpnM7GchRJFlD2pf3PK75s6di8zMTNPjypUrj1gxERERUeWziGlgXFxcoFAoioz2paWlFRnlu8vd3b3Y9kqlErVr1y52G7VaDbVaXT5FExEREUnEIkYAVSoV2rZti8jISLPlkZGR6NixY7HbBAUFFWm/e/duBAYGwsbGpsJqJSIiIpKaRQRAAJg1axa+/PJLfP3110hISMDMmTORlJSESZMmAbhz+nbUqFGm9pMmTcLly5cxa9YsJCQk4Ouvv8ZXX32Fl19+WapDICIiIqoUFnEKGACGDh2K9PR0LFmyBCkpKfD398fOnTvh4+MDAEhJSTGbE9DX1xc7d+7EzJkz8dlnn8HT0xOffPIJnn32WakOgYiIiKhSWMw8gFLgPEJERETVDz+/LegUMBERERGVDgMgERERkZVhACQiIiKyMgyARERERFbGYq4ClsLd62d4T2AiIqLq4+7ntjVfB8sA+Aiys7MBgPcEJiIiqoays7Oh0WikLkMSnAbmERiNRiQnJ8PBweG+9xwuq6ysLNSrVw9Xrlyx2svTKwv7unKwnysH+7lysJ8rR0X2sxAC2dnZ8PT0hFxund+G4wjgI5DL5fDy8qqw53d0dOQvl0rCvq4c7OfKwX6uHOznylFR/WytI393WWfsJSIiIrJiDIBEREREVoYBsApSq9VYuHAh1Gq11KVYPPZ15WA/Vw72c+VgP1cO9nPF4kUgRERERFaGI4BEREREVoYBkIiIiMjKMAASERERWRkGQCIiIiIrwwBYBa1cuRK+vr6wtbVF27Zt8eeff0pdUpUVHh6Odu3awcHBAa6urnj66adx5swZszZCCCxatAienp6ws7ND9+7dcfr0abM2Wq0WU6dOhYuLC+zt7fHUU0/h6tWrZm0yMjIQFhYGjUYDjUaDsLAw3L59u6IPsUoKDw+HTCbDjBkzTMvYz+Xj2rVrGDlyJGrXro0aNWqgdevWiI2NNa1nPz86vV6P119/Hb6+vrCzs0ODBg2wZMkSGI1GUxv288P5448/MGDAAHh6ekImk+Hnn382W1+Z/ZqUlIQBAwbA3t4eLi4umDZtGnQ6XUUcdvUkqErZtGmTsLGxEV988YWIj48X06dPF/b29uLy5ctSl1YlhYSEiLVr14pTp06JuLg40a9fP+Ht7S1ycnJMbd555x3h4OAgtm7dKk6ePCmGDh0qPDw8RFZWlqnNpEmTRN26dUVkZKQ4duyY6NGjh3jssceEXq83tenTp4/w9/cXhw8fFocPHxb+/v6if//+lXq8VcHRo0dF/fr1RatWrcT06dNNy9nPj+7WrVvCx8dHjBkzRkRHR4vExESxZ88ecf78eVMb9vOje+utt0Tt2rXFjh07RGJiotiyZYuoWbOm+Oijj0xt2M8PZ+fOnWL+/Pli69atAoDYtm2b2frK6le9Xi/8/f1Fjx49xLFjx0RkZKTw9PQUU6ZMqfA+qC4YAKuY9u3bi0mTJpkta9asmXjttdckqqh6SUtLEwDE77//LoQQwmg0Cnd3d/HOO++Y2hQUFAiNRiNWr14thBDi9u3bwsbGRmzatMnU5tq1a0Iul4uIiAghhBDx8fECgDhy5IipTVRUlAAg/vnnn8o4tCohOztbNG7cWERGRopu3bqZAiD7uXy8+uqronPnziWuZz+Xj379+olx48aZLRs0aJAYOXKkEIL9XF7uDYCV2a87d+4UcrlcXLt2zdTm+++/F2q1WmRmZlbI8VY3PAVcheh0OsTGxiI4ONhseXBwMA4fPixRVdVLZmYmAMDZ2RkAkJiYiNTUVLM+VavV6Natm6lPY2NjUVhYaNbG09MT/v7+pjZRUVHQaDR4/PHHTW06dOgAjUZjVa/N5MmT0a9fP/Tq1ctsOfu5fGzfvh2BgYEYPHgwXF1d0aZNG3zxxRem9ezn8tG5c2fs3bsXZ8+eBQD8/fffOHjwIJ588kkA7OeKUpn9GhUVBX9/f3h6eprahISEQKvVmn2lwpoppS6A/t/NmzdhMBjg5uZmttzNzQ2pqakSVVV9CCEwa9YsdO7cGf7+/gBg6rfi+vTy5cumNiqVCk5OTkXa3N0+NTUVrq6uRfbp6upqNa/Npk2bcOzYMcTExBRZx34uHxcvXsSqVaswa9YszJs3D0ePHsW0adOgVqsxatQo9nM5efXVV5GZmYlmzZpBoVDAYDBg6dKlGD58OAC+nytKZfZrampqkf04OTlBpVJZZd8XhwGwCpLJZGY/CyGKLKOipkyZghMnTuDgwYNF1j1Mn97bprj21vLaXLlyBdOnT8fu3btha2tbYjv286MxGo0IDAzE22+/DQBo06YNTp8+jVWrVmHUqFGmduznR7N582Z899132LhxI/z8/BAXF4cZM2bA09MTo0ePNrVjP1eMyupX9v398RRwFeLi4gKFQlHkr5O0tLQif8mQualTp2L79u3Yv38/vLy8TMvd3d0B4L596u7uDp1Oh4yMjPu2uX79epH93rhxwypem9jYWKSlpaFt27ZQKpVQKpX4/fff8cknn0CpVJr6gP38aDw8PNCiRQuzZc2bN0dSUhIAvp/Ly5w5c/Daa69h2LBhaNmyJcLCwjBz5kyEh4cDYD9XlMrsV3d39yL7ycjIQGFhoVX2fXEYAKsQlUqFtm3bIjIy0mx5ZGQkOnbsKFFVVZsQAlOmTMFPP/2Effv2wdfX12y9r68v3N3dzfpUp9Ph999/N/Vp27ZtYWNjY9YmJSUFp06dMrUJCgpCZmYmjh49amoTHR2NzMxMq3htevbsiZMnTyIuLs70CAwMRGhoKOLi4tCgQQP2czno1KlTkWmMzp49Cx8fHwB8P5eXvLw8yOXmH38KhcI0DQz7uWJUZr8GBQXh1KlTSElJMbXZvXs31Go12rZtW6HHWW1U8kUn9AB3p4H56quvRHx8vJgxY4awt7cXly5dkrq0KunFF18UGo1GHDhwQKSkpJgeeXl5pjbvvPOO0Gg04qeffhInT54Uw4cPL3baAS8vL7Fnzx5x7Ngx8cQTTxQ77UCrVq1EVFSUiIqKEi1btrTo6Rwe5L9XAQvBfi4PR48eFUqlUixdulScO3dObNiwQdSoUUN89913pjbs50c3evRoUbduXdM0MD/99JNwcXERr7zyiqkN+/nhZGdni+PHj4vjx48LAOKDDz4Qx48fN01lVln9encamJ49e4pjx46JPXv2CC8vL04D8x8MgFXQZ599Jnx8fIRKpRIBAQGmKU2oKADFPtauXWtqYzQaxcKFC4W7u7tQq9Wia9eu4uTJk2bPk5+fL6ZMmSKcnZ2FnZ2d6N+/v0hKSjJrk56eLkJDQ4WDg4NwcHAQoaGhIiMjoxKOsmq6NwCyn8vHL7/8Ivz9/YVarRbNmjUTa9asMVvPfn50WVlZYvr06cLb21vY2tqKBg0aiPnz5wutVmtqw35+OPv37y/2d/Lo0aOFEJXbr5cvXxb9+vUTdnZ2wtnZWUyZMkUUFBRU5OFXKzIhhJBm7JGIiIiIpMDvABIRERFZGQZAIiIiIivDAEhERERkZRgAiYiIiKwMAyARERGRlWEAJCIiIrIyDIBEREREVoYBkIiIiMjKMAASERERWRkGQCIiIiIrwwBIREREZGUYAImIiIisDAMgERERkZVhACQiIiKyMgyARERERFaGAZCIiIjIyjAAEhEREVkZBkAiIiIiK8MASERERGRlGACJiIiIrAwDIBEREZGVYQAkIiIisjIMgERERERWhgGQiIiIyMowABIRERFZGQZAIiIiIivDAEhERERkZRgAiYiIiKwMAyARERGRlWEAJCIiIrIyDIBEREREVub/AKb3rdvqyCJkAAAAAElFTkSuQmCC' width=640.0/>\n",
       "            </div>\n",
       "        "
      ],
      "text/plain": [
       "Canvas(toolbar=Toolbar(toolitems=[('Home', 'Reset original view', 'home', 'home'), ('Back', 'Back to previous …"
      ]
     },
     "metadata": {},
     "output_type": "display_data"
    }
   ],
   "source": [
    "plt.figure()\n",
    "plt.plot(sin_3_4_05_vol.frequency_array, sin_3_4_05_vol.absorption_frequency(), label='sin, p=3, q=4, fr100, seg100, vol')\n",
    "# plt.plot(sin_3_4_05_rad.frequency_array, sin_3_4_05_rad.absorption_frequency(), label='sin, p=3, q=4, fr100, seg100, rad')\n",
    "plt.plot(sin_3_4_05_vol_2.frequency_array, sin_3_4_05_vol_2.absorption_frequency(), label='sin, p=3, q=4, fr50, seg200, vol')\n",
    "plt.plot(sin_3_4_05_vol_3.frequency_array, sin_3_4_05_vol_3.absorption_frequency(), label='sin, p=3, q=4, fr50, seg100, vol')\n",
    "plt.legend()"
   ]
  },
  {
   "cell_type": "code",
   "execution_count": 20,
   "metadata": {},
   "outputs": [],
   "source": [
    "frequency_array = np.arange(2, 10052, 100)"
   ]
  },
  {
   "cell_type": "code",
   "execution_count": 21,
   "metadata": {},
   "outputs": [
    {
     "data": {
      "application/vnd.jupyter.widget-view+json": {
       "model_id": "48750e3aceab42a19efa4ca8bb006c36",
       "version_major": 2,
       "version_minor": 0
      },
      "image/png": "[encoded data removed]",
      "text/html": [
       "\n",
       "            <div style=\"display: inline-block;\">\n",
       "                <div class=\"jupyter-widgets widget-label\" style=\"text-align: center;\">\n",
       "                    Figure\n",
       "                </div>\n",
       "                <img src='data:image/png;base64,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' width=640.0/>\n",
       "            </div>\n",
       "        "
      ],
      "text/plain": [
       "Canvas(toolbar=Toolbar(toolitems=[('Home', 'Reset original view', 'home', 'home'), ('Back', 'Back to previous …"
      ]
     },
     "metadata": {},
     "output_type": "display_data"
    },
    {
     "name": "stdout",
     "output_type": "stream",
     "text": [
      "Solving wavenumber in determinant for shape = sin, p = 0.003, q = 0.004, Young's = 140000000.0\n"
     ]
    },
    {
     "data": {
      "application/vnd.jupyter.widget-view+json": {
       "model_id": "368defc6f1454ba3b9ee1afc0664df9b",
       "version_major": 2,
       "version_minor": 0
      },
      "text/plain": [
       "Solving for all frequencies:   0%|          | 0/101 [00:00<?, ?it/s]"
      ]
     },
     "metadata": {},
     "output_type": "display_data"
    },
    {
     "data": {
      "application/vnd.jupyter.widget-view+json": {
       "model_id": "",
       "version_major": 2,
       "version_minor": 0
      },
      "text/plain": [
       "  ... working at frequency = 2.0 Hz:   0%|          | 0/200 [00:00<?, ?it/s]"
      ]
     },
     "metadata": {},
     "output_type": "display_data"
    },
    {
     "data": {
      "application/vnd.jupyter.widget-view+json": {
       "model_id": "",
       "version_major": 2,
       "version_minor": 0
      },
      "text/plain": [
       "  ... working at frequency = 102.0 Hz:   0%|          | 0/200 [00:00<?, ?it/s]"
      ]
     },
     "metadata": {},
     "output_type": "display_data"
    },
    {
     "data": {
      "application/vnd.jupyter.widget-view+json": {
       "model_id": "",
       "version_major": 2,
       "version_minor": 0
      },
      "text/plain": [
       "  ... working at frequency = 202.0 Hz:   0%|          | 0/200 [00:00<?, ?it/s]"
      ]
     },
     "metadata": {},
     "output_type": "display_data"
    },
    {
     "data": {
      "application/vnd.jupyter.widget-view+json": {
       "model_id": "",
       "version_major": 2,
       "version_minor": 0
      },
      "text/plain": [
       "  ... working at frequency = 302.0 Hz:   0%|          | 0/200 [00:00<?, ?it/s]"
      ]
     },
     "metadata": {},
     "output_type": "display_data"
    },
    {
     "data": {
      "application/vnd.jupyter.widget-view+json": {
       "model_id": "",
       "version_major": 2,
       "version_minor": 0
      },
      "text/plain": [
       "  ... working at frequency = 402.0 Hz:   0%|          | 0/200 [00:00<?, ?it/s]"
      ]
     },
     "metadata": {},
     "output_type": "display_data"
    },
    {
     "data": {
      "application/vnd.jupyter.widget-view+json": {
       "model_id": "",
       "version_major": 2,
       "version_minor": 0
      },
      "text/plain": [
       "  ... working at frequency = 502.0 Hz:   0%|          | 0/200 [00:00<?, ?it/s]"
      ]
     },
     "metadata": {},
     "output_type": "display_data"
    },
    {
     "data": {
      "application/vnd.jupyter.widget-view+json": {
       "model_id": "",
       "version_major": 2,
       "version_minor": 0
      },
      "text/plain": [
       "  ... working at frequency = 602.0 Hz:   0%|          | 0/200 [00:00<?, ?it/s]"
      ]
     },
     "metadata": {},
     "output_type": "display_data"
    },
    {
     "data": {
      "application/vnd.jupyter.widget-view+json": {
       "model_id": "",
       "version_major": 2,
       "version_minor": 0
      },
      "text/plain": [
       "  ... working at frequency = 702.0 Hz:   0%|          | 0/200 [00:00<?, ?it/s]"
      ]
     },
     "metadata": {},
     "output_type": "display_data"
    },
    {
     "data": {
      "application/vnd.jupyter.widget-view+json": {
       "model_id": "",
       "version_major": 2,
       "version_minor": 0
      },
      "text/plain": [
       "  ... working at frequency = 802.0 Hz:   0%|          | 0/200 [00:00<?, ?it/s]"
      ]
     },
     "metadata": {},
     "output_type": "display_data"
    },
    {
     "data": {
      "application/vnd.jupyter.widget-view+json": {
       "model_id": "",
       "version_major": 2,
       "version_minor": 0
      },
      "text/plain": [
       "  ... working at frequency = 902.0 Hz:   0%|          | 0/200 [00:00<?, ?it/s]"
      ]
     },
     "metadata": {},
     "output_type": "display_data"
    },
    {
     "data": {
      "application/vnd.jupyter.widget-view+json": {
       "model_id": "",
       "version_major": 2,
       "version_minor": 0
      },
      "text/plain": [
       "  ... working at frequency = 1002.0 Hz:   0%|          | 0/200 [00:00<?, ?it/s]"
      ]
     },
     "metadata": {},
     "output_type": "display_data"
    },
    {
     "data": {
      "application/vnd.jupyter.widget-view+json": {
       "model_id": "",
       "version_major": 2,
       "version_minor": 0
      },
      "text/plain": [
       "  ... working at frequency = 1102.0 Hz:   0%|          | 0/200 [00:00<?, ?it/s]"
      ]
     },
     "metadata": {},
     "output_type": "display_data"
    },
    {
     "data": {
      "application/vnd.jupyter.widget-view+json": {
       "model_id": "",
       "version_major": 2,
       "version_minor": 0
      },
      "text/plain": [
       "  ... working at frequency = 1202.0 Hz:   0%|          | 0/200 [00:00<?, ?it/s]"
      ]
     },
     "metadata": {},
     "output_type": "display_data"
    },
    {
     "data": {
      "application/vnd.jupyter.widget-view+json": {
       "model_id": "",
       "version_major": 2,
       "version_minor": 0
      },
      "text/plain": [
       "  ... working at frequency = 1302.0 Hz:   0%|          | 0/200 [00:00<?, ?it/s]"
      ]
     },
     "metadata": {},
     "output_type": "display_data"
    },
    {
     "data": {
      "application/vnd.jupyter.widget-view+json": {
       "model_id": "",
       "version_major": 2,
       "version_minor": 0
      },
      "text/plain": [
       "  ... working at frequency = 1402.0 Hz:   0%|          | 0/200 [00:00<?, ?it/s]"
      ]
     },
     "metadata": {},
     "output_type": "display_data"
    },
    {
     "data": {
      "application/vnd.jupyter.widget-view+json": {
       "model_id": "",
       "version_major": 2,
       "version_minor": 0
      },
      "text/plain": [
       "  ... working at frequency = 1502.0 Hz:   0%|          | 0/200 [00:00<?, ?it/s]"
      ]
     },
     "metadata": {},
     "output_type": "display_data"
    },
    {
     "data": {
      "application/vnd.jupyter.widget-view+json": {
       "model_id": "",
       "version_major": 2,
       "version_minor": 0
      },
      "text/plain": [
       "  ... working at frequency = 1602.0 Hz:   0%|          | 0/200 [00:00<?, ?it/s]"
      ]
     },
     "metadata": {},
     "output_type": "display_data"
    },
    {
     "data": {
      "application/vnd.jupyter.widget-view+json": {
       "model_id": "",
       "version_major": 2,
       "version_minor": 0
      },
      "text/plain": [
       "  ... working at frequency = 1702.0 Hz:   0%|          | 0/200 [00:00<?, ?it/s]"
      ]
     },
     "metadata": {},
     "output_type": "display_data"
    },
    {
     "data": {
      "application/vnd.jupyter.widget-view+json": {
       "model_id": "",
       "version_major": 2,
       "version_minor": 0
      },
      "text/plain": [
       "  ... working at frequency = 1802.0 Hz:   0%|          | 0/200 [00:00<?, ?it/s]"
      ]
     },
     "metadata": {},
     "output_type": "display_data"
    },
    {
     "data": {
      "application/vnd.jupyter.widget-view+json": {
       "model_id": "",
       "version_major": 2,
       "version_minor": 0
      },
      "text/plain": [
       "  ... working at frequency = 1902.0 Hz:   0%|          | 0/200 [00:00<?, ?it/s]"
      ]
     },
     "metadata": {},
     "output_type": "display_data"
    },
    {
     "data": {
      "application/vnd.jupyter.widget-view+json": {
       "model_id": "",
       "version_major": 2,
       "version_minor": 0
      },
      "text/plain": [
       "  ... working at frequency = 2002.0 Hz:   0%|          | 0/200 [00:00<?, ?it/s]"
      ]
     },
     "metadata": {},
     "output_type": "display_data"
    },
    {
     "data": {
      "application/vnd.jupyter.widget-view+json": {
       "model_id": "",
       "version_major": 2,
       "version_minor": 0
      },
      "text/plain": [
       "  ... working at frequency = 2102.0 Hz:   0%|          | 0/200 [00:00<?, ?it/s]"
      ]
     },
     "metadata": {},
     "output_type": "display_data"
    },
    {
     "data": {
      "application/vnd.jupyter.widget-view+json": {
       "model_id": "",
       "version_major": 2,
       "version_minor": 0
      },
      "text/plain": [
       "  ... working at frequency = 2202.0 Hz:   0%|          | 0/200 [00:00<?, ?it/s]"
      ]
     },
     "metadata": {},
     "output_type": "display_data"
    },
    {
     "data": {
      "application/vnd.jupyter.widget-view+json": {
       "model_id": "",
       "version_major": 2,
       "version_minor": 0
      },
      "text/plain": [
       "  ... working at frequency = 2302.0 Hz:   0%|          | 0/200 [00:00<?, ?it/s]"
      ]
     },
     "metadata": {},
     "output_type": "display_data"
    },
    {
     "data": {
      "application/vnd.jupyter.widget-view+json": {
       "model_id": "",
       "version_major": 2,
       "version_minor": 0
      },
      "text/plain": [
       "  ... working at frequency = 2402.0 Hz:   0%|          | 0/200 [00:00<?, ?it/s]"
      ]
     },
     "metadata": {},
     "output_type": "display_data"
    },
    {
     "data": {
      "application/vnd.jupyter.widget-view+json": {
       "model_id": "",
       "version_major": 2,
       "version_minor": 0
      },
      "text/plain": [
       "  ... working at frequency = 2502.0 Hz:   0%|          | 0/200 [00:00<?, ?it/s]"
      ]
     },
     "metadata": {},
     "output_type": "display_data"
    },
    {
     "data": {
      "application/vnd.jupyter.widget-view+json": {
       "model_id": "",
       "version_major": 2,
       "version_minor": 0
      },
      "text/plain": [
       "  ... working at frequency = 2602.0 Hz:   0%|          | 0/200 [00:00<?, ?it/s]"
      ]
     },
     "metadata": {},
     "output_type": "display_data"
    },
    {
     "data": {
      "application/vnd.jupyter.widget-view+json": {
       "model_id": "",
       "version_major": 2,
       "version_minor": 0
      },
      "text/plain": [
       "  ... working at frequency = 2702.0 Hz:   0%|          | 0/200 [00:00<?, ?it/s]"
      ]
     },
     "metadata": {},
     "output_type": "display_data"
    },
    {
     "data": {
      "application/vnd.jupyter.widget-view+json": {
       "model_id": "",
       "version_major": 2,
       "version_minor": 0
      },
      "text/plain": [
       "  ... working at frequency = 2802.0 Hz:   0%|          | 0/200 [00:00<?, ?it/s]"
      ]
     },
     "metadata": {},
     "output_type": "display_data"
    },
    {
     "data": {
      "application/vnd.jupyter.widget-view+json": {
       "model_id": "",
       "version_major": 2,
       "version_minor": 0
      },
      "text/plain": [
       "  ... working at frequency = 2902.0 Hz:   0%|          | 0/200 [00:00<?, ?it/s]"
      ]
     },
     "metadata": {},
     "output_type": "display_data"
    },
    {
     "data": {
      "application/vnd.jupyter.widget-view+json": {
       "model_id": "",
       "version_major": 2,
       "version_minor": 0
      },
      "text/plain": [
       "  ... working at frequency = 3002.0 Hz:   0%|          | 0/200 [00:00<?, ?it/s]"
      ]
     },
     "metadata": {},
     "output_type": "display_data"
    },
    {
     "data": {
      "application/vnd.jupyter.widget-view+json": {
       "model_id": "",
       "version_major": 2,
       "version_minor": 0
      },
      "text/plain": [
       "  ... working at frequency = 3102.0 Hz:   0%|          | 0/200 [00:00<?, ?it/s]"
      ]
     },
     "metadata": {},
     "output_type": "display_data"
    },
    {
     "data": {
      "application/vnd.jupyter.widget-view+json": {
       "model_id": "",
       "version_major": 2,
       "version_minor": 0
      },
      "text/plain": [
       "  ... working at frequency = 3202.0 Hz:   0%|          | 0/200 [00:00<?, ?it/s]"
      ]
     },
     "metadata": {},
     "output_type": "display_data"
    },
    {
     "data": {
      "application/vnd.jupyter.widget-view+json": {
       "model_id": "",
       "version_major": 2,
       "version_minor": 0
      },
      "text/plain": [
       "  ... working at frequency = 3302.0 Hz:   0%|          | 0/200 [00:00<?, ?it/s]"
      ]
     },
     "metadata": {},
     "output_type": "display_data"
    },
    {
     "data": {
      "application/vnd.jupyter.widget-view+json": {
       "model_id": "",
       "version_major": 2,
       "version_minor": 0
      },
      "text/plain": [
       "  ... working at frequency = 3402.0 Hz:   0%|          | 0/200 [00:00<?, ?it/s]"
      ]
     },
     "metadata": {},
     "output_type": "display_data"
    },
    {
     "data": {
      "application/vnd.jupyter.widget-view+json": {
       "model_id": "",
       "version_major": 2,
       "version_minor": 0
      },
      "text/plain": [
       "  ... working at frequency = 3502.0 Hz:   0%|          | 0/200 [00:00<?, ?it/s]"
      ]
     },
     "metadata": {},
     "output_type": "display_data"
    },
    {
     "data": {
      "application/vnd.jupyter.widget-view+json": {
       "model_id": "",
       "version_major": 2,
       "version_minor": 0
      },
      "text/plain": [
       "  ... working at frequency = 3602.0 Hz:   0%|          | 0/200 [00:00<?, ?it/s]"
      ]
     },
     "metadata": {},
     "output_type": "display_data"
    },
    {
     "data": {
      "application/vnd.jupyter.widget-view+json": {
       "model_id": "",
       "version_major": 2,
       "version_minor": 0
      },
      "text/plain": [
       "  ... working at frequency = 3702.0 Hz:   0%|          | 0/200 [00:00<?, ?it/s]"
      ]
     },
     "metadata": {},
     "output_type": "display_data"
    },
    {
     "data": {
      "application/vnd.jupyter.widget-view+json": {
       "model_id": "",
       "version_major": 2,
       "version_minor": 0
      },
      "text/plain": [
       "  ... working at frequency = 3802.0 Hz:   0%|          | 0/200 [00:00<?, ?it/s]"
      ]
     },
     "metadata": {},
     "output_type": "display_data"
    },
    {
     "data": {
      "application/vnd.jupyter.widget-view+json": {
       "model_id": "",
       "version_major": 2,
       "version_minor": 0
      },
      "text/plain": [
       "  ... working at frequency = 3902.0 Hz:   0%|          | 0/200 [00:00<?, ?it/s]"
      ]
     },
     "metadata": {},
     "output_type": "display_data"
    },
    {
     "data": {
      "application/vnd.jupyter.widget-view+json": {
       "model_id": "",
       "version_major": 2,
       "version_minor": 0
      },
      "text/plain": [
       "  ... working at frequency = 4002.0 Hz:   0%|          | 0/200 [00:00<?, ?it/s]"
      ]
     },
     "metadata": {},
     "output_type": "display_data"
    },
    {
     "data": {
      "application/vnd.jupyter.widget-view+json": {
       "model_id": "",
       "version_major": 2,
       "version_minor": 0
      },
      "text/plain": [
       "  ... working at frequency = 4102.0 Hz:   0%|          | 0/200 [00:00<?, ?it/s]"
      ]
     },
     "metadata": {},
     "output_type": "display_data"
    },
    {
     "data": {
      "application/vnd.jupyter.widget-view+json": {
       "model_id": "",
       "version_major": 2,
       "version_minor": 0
      },
      "text/plain": [
       "  ... working at frequency = 4202.0 Hz:   0%|          | 0/200 [00:00<?, ?it/s]"
      ]
     },
     "metadata": {},
     "output_type": "display_data"
    },
    {
     "data": {
      "application/vnd.jupyter.widget-view+json": {
       "model_id": "",
       "version_major": 2,
       "version_minor": 0
      },
      "text/plain": [
       "  ... working at frequency = 4302.0 Hz:   0%|          | 0/200 [00:00<?, ?it/s]"
      ]
     },
     "metadata": {},
     "output_type": "display_data"
    },
    {
     "data": {
      "application/vnd.jupyter.widget-view+json": {
       "model_id": "",
       "version_major": 2,
       "version_minor": 0
      },
      "text/plain": [
       "  ... working at frequency = 4402.0 Hz:   0%|          | 0/200 [00:00<?, ?it/s]"
      ]
     },
     "metadata": {},
     "output_type": "display_data"
    },
    {
     "data": {
      "application/vnd.jupyter.widget-view+json": {
       "model_id": "",
       "version_major": 2,
       "version_minor": 0
      },
      "text/plain": [
       "  ... working at frequency = 4502.0 Hz:   0%|          | 0/200 [00:00<?, ?it/s]"
      ]
     },
     "metadata": {},
     "output_type": "display_data"
    },
    {
     "data": {
      "application/vnd.jupyter.widget-view+json": {
       "model_id": "",
       "version_major": 2,
       "version_minor": 0
      },
      "text/plain": [
       "  ... working at frequency = 4602.0 Hz:   0%|          | 0/200 [00:00<?, ?it/s]"
      ]
     },
     "metadata": {},
     "output_type": "display_data"
    },
    {
     "data": {
      "application/vnd.jupyter.widget-view+json": {
       "model_id": "",
       "version_major": 2,
       "version_minor": 0
      },
      "text/plain": [
       "  ... working at frequency = 4702.0 Hz:   0%|          | 0/200 [00:00<?, ?it/s]"
      ]
     },
     "metadata": {},
     "output_type": "display_data"
    },
    {
     "data": {
      "application/vnd.jupyter.widget-view+json": {
       "model_id": "",
       "version_major": 2,
       "version_minor": 0
      },
      "text/plain": [
       "  ... working at frequency = 4802.0 Hz:   0%|          | 0/200 [00:00<?, ?it/s]"
      ]
     },
     "metadata": {},
     "output_type": "display_data"
    },
    {
     "data": {
      "application/vnd.jupyter.widget-view+json": {
       "model_id": "",
       "version_major": 2,
       "version_minor": 0
      },
      "text/plain": [
       "  ... working at frequency = 4902.0 Hz:   0%|          | 0/200 [00:00<?, ?it/s]"
      ]
     },
     "metadata": {},
     "output_type": "display_data"
    },
    {
     "data": {
      "application/vnd.jupyter.widget-view+json": {
       "model_id": "",
       "version_major": 2,
       "version_minor": 0
      },
      "text/plain": [
       "  ... working at frequency = 5002.0 Hz:   0%|          | 0/200 [00:00<?, ?it/s]"
      ]
     },
     "metadata": {},
     "output_type": "display_data"
    },
    {
     "data": {
      "application/vnd.jupyter.widget-view+json": {
       "model_id": "",
       "version_major": 2,
       "version_minor": 0
      },
      "text/plain": [
       "  ... working at frequency = 5102.0 Hz:   0%|          | 0/200 [00:00<?, ?it/s]"
      ]
     },
     "metadata": {},
     "output_type": "display_data"
    },
    {
     "data": {
      "application/vnd.jupyter.widget-view+json": {
       "model_id": "",
       "version_major": 2,
       "version_minor": 0
      },
      "text/plain": [
       "  ... working at frequency = 5202.0 Hz:   0%|          | 0/200 [00:00<?, ?it/s]"
      ]
     },
     "metadata": {},
     "output_type": "display_data"
    },
    {
     "data": {
      "application/vnd.jupyter.widget-view+json": {
       "model_id": "",
       "version_major": 2,
       "version_minor": 0
      },
      "text/plain": [
       "  ... working at frequency = 5302.0 Hz:   0%|          | 0/200 [00:00<?, ?it/s]"
      ]
     },
     "metadata": {},
     "output_type": "display_data"
    },
    {
     "data": {
      "application/vnd.jupyter.widget-view+json": {
       "model_id": "",
       "version_major": 2,
       "version_minor": 0
      },
      "text/plain": [
       "  ... working at frequency = 5402.0 Hz:   0%|          | 0/200 [00:00<?, ?it/s]"
      ]
     },
     "metadata": {},
     "output_type": "display_data"
    },
    {
     "data": {
      "application/vnd.jupyter.widget-view+json": {
       "model_id": "",
       "version_major": 2,
       "version_minor": 0
      },
      "text/plain": [
       "  ... working at frequency = 5502.0 Hz:   0%|          | 0/200 [00:00<?, ?it/s]"
      ]
     },
     "metadata": {},
     "output_type": "display_data"
    },
    {
     "data": {
      "application/vnd.jupyter.widget-view+json": {
       "model_id": "",
       "version_major": 2,
       "version_minor": 0
      },
      "text/plain": [
       "  ... working at frequency = 5602.0 Hz:   0%|          | 0/200 [00:00<?, ?it/s]"
      ]
     },
     "metadata": {},
     "output_type": "display_data"
    },
    {
     "data": {
      "application/vnd.jupyter.widget-view+json": {
       "model_id": "",
       "version_major": 2,
       "version_minor": 0
      },
      "text/plain": [
       "  ... working at frequency = 5702.0 Hz:   0%|          | 0/200 [00:00<?, ?it/s]"
      ]
     },
     "metadata": {},
     "output_type": "display_data"
    },
    {
     "data": {
      "application/vnd.jupyter.widget-view+json": {
       "model_id": "",
       "version_major": 2,
       "version_minor": 0
      },
      "text/plain": [
       "  ... working at frequency = 5802.0 Hz:   0%|          | 0/200 [00:00<?, ?it/s]"
      ]
     },
     "metadata": {},
     "output_type": "display_data"
    },
    {
     "data": {
      "application/vnd.jupyter.widget-view+json": {
       "model_id": "",
       "version_major": 2,
       "version_minor": 0
      },
      "text/plain": [
       "  ... working at frequency = 5902.0 Hz:   0%|          | 0/200 [00:00<?, ?it/s]"
      ]
     },
     "metadata": {},
     "output_type": "display_data"
    },
    {
     "data": {
      "application/vnd.jupyter.widget-view+json": {
       "model_id": "",
       "version_major": 2,
       "version_minor": 0
      },
      "text/plain": [
       "  ... working at frequency = 6002.0 Hz:   0%|          | 0/200 [00:00<?, ?it/s]"
      ]
     },
     "metadata": {},
     "output_type": "display_data"
    },
    {
     "data": {
      "application/vnd.jupyter.widget-view+json": {
       "model_id": "",
       "version_major": 2,
       "version_minor": 0
      },
      "text/plain": [
       "  ... working at frequency = 6102.0 Hz:   0%|          | 0/200 [00:00<?, ?it/s]"
      ]
     },
     "metadata": {},
     "output_type": "display_data"
    },
    {
     "data": {
      "application/vnd.jupyter.widget-view+json": {
       "model_id": "",
       "version_major": 2,
       "version_minor": 0
      },
      "text/plain": [
       "  ... working at frequency = 6202.0 Hz:   0%|          | 0/200 [00:00<?, ?it/s]"
      ]
     },
     "metadata": {},
     "output_type": "display_data"
    },
    {
     "data": {
      "application/vnd.jupyter.widget-view+json": {
       "model_id": "",
       "version_major": 2,
       "version_minor": 0
      },
      "text/plain": [
       "  ... working at frequency = 6302.0 Hz:   0%|          | 0/200 [00:00<?, ?it/s]"
      ]
     },
     "metadata": {},
     "output_type": "display_data"
    },
    {
     "data": {
      "application/vnd.jupyter.widget-view+json": {
       "model_id": "",
       "version_major": 2,
       "version_minor": 0
      },
      "text/plain": [
       "  ... working at frequency = 6402.0 Hz:   0%|          | 0/200 [00:00<?, ?it/s]"
      ]
     },
     "metadata": {},
     "output_type": "display_data"
    },
    {
     "data": {
      "application/vnd.jupyter.widget-view+json": {
       "model_id": "",
       "version_major": 2,
       "version_minor": 0
      },
      "text/plain": [
       "  ... working at frequency = 6502.0 Hz:   0%|          | 0/200 [00:00<?, ?it/s]"
      ]
     },
     "metadata": {},
     "output_type": "display_data"
    },
    {
     "data": {
      "application/vnd.jupyter.widget-view+json": {
       "model_id": "",
       "version_major": 2,
       "version_minor": 0
      },
      "text/plain": [
       "  ... working at frequency = 6602.0 Hz:   0%|          | 0/200 [00:00<?, ?it/s]"
      ]
     },
     "metadata": {},
     "output_type": "display_data"
    },
    {
     "data": {
      "application/vnd.jupyter.widget-view+json": {
       "model_id": "",
       "version_major": 2,
       "version_minor": 0
      },
      "text/plain": [
       "  ... working at frequency = 6702.0 Hz:   0%|          | 0/200 [00:00<?, ?it/s]"
      ]
     },
     "metadata": {},
     "output_type": "display_data"
    },
    {
     "data": {
      "application/vnd.jupyter.widget-view+json": {
       "model_id": "",
       "version_major": 2,
       "version_minor": 0
      },
      "text/plain": [
       "  ... working at frequency = 6802.0 Hz:   0%|          | 0/200 [00:00<?, ?it/s]"
      ]
     },
     "metadata": {},
     "output_type": "display_data"
    },
    {
     "data": {
      "application/vnd.jupyter.widget-view+json": {
       "model_id": "",
       "version_major": 2,
       "version_minor": 0
      },
      "text/plain": [
       "  ... working at frequency = 6902.0 Hz:   0%|          | 0/200 [00:00<?, ?it/s]"
      ]
     },
     "metadata": {},
     "output_type": "display_data"
    },
    {
     "data": {
      "application/vnd.jupyter.widget-view+json": {
       "model_id": "",
       "version_major": 2,
       "version_minor": 0
      },
      "text/plain": [
       "  ... working at frequency = 7002.0 Hz:   0%|          | 0/200 [00:00<?, ?it/s]"
      ]
     },
     "metadata": {},
     "output_type": "display_data"
    },
    {
     "data": {
      "application/vnd.jupyter.widget-view+json": {
       "model_id": "",
       "version_major": 2,
       "version_minor": 0
      },
      "text/plain": [
       "  ... working at frequency = 7102.0 Hz:   0%|          | 0/200 [00:00<?, ?it/s]"
      ]
     },
     "metadata": {},
     "output_type": "display_data"
    },
    {
     "data": {
      "application/vnd.jupyter.widget-view+json": {
       "model_id": "",
       "version_major": 2,
       "version_minor": 0
      },
      "text/plain": [
       "  ... working at frequency = 7202.0 Hz:   0%|          | 0/200 [00:00<?, ?it/s]"
      ]
     },
     "metadata": {},
     "output_type": "display_data"
    },
    {
     "data": {
      "application/vnd.jupyter.widget-view+json": {
       "model_id": "",
       "version_major": 2,
       "version_minor": 0
      },
      "text/plain": [
       "  ... working at frequency = 7302.0 Hz:   0%|          | 0/200 [00:00<?, ?it/s]"
      ]
     },
     "metadata": {},
     "output_type": "display_data"
    },
    {
     "data": {
      "application/vnd.jupyter.widget-view+json": {
       "model_id": "",
       "version_major": 2,
       "version_minor": 0
      },
      "text/plain": [
       "  ... working at frequency = 7402.0 Hz:   0%|          | 0/200 [00:00<?, ?it/s]"
      ]
     },
     "metadata": {},
     "output_type": "display_data"
    },
    {
     "data": {
      "application/vnd.jupyter.widget-view+json": {
       "model_id": "",
       "version_major": 2,
       "version_minor": 0
      },
      "text/plain": [
       "  ... working at frequency = 7502.0 Hz:   0%|          | 0/200 [00:00<?, ?it/s]"
      ]
     },
     "metadata": {},
     "output_type": "display_data"
    },
    {
     "data": {
      "application/vnd.jupyter.widget-view+json": {
       "model_id": "",
       "version_major": 2,
       "version_minor": 0
      },
      "text/plain": [
       "  ... working at frequency = 7602.0 Hz:   0%|          | 0/200 [00:00<?, ?it/s]"
      ]
     },
     "metadata": {},
     "output_type": "display_data"
    },
    {
     "data": {
      "application/vnd.jupyter.widget-view+json": {
       "model_id": "",
       "version_major": 2,
       "version_minor": 0
      },
      "text/plain": [
       "  ... working at frequency = 7702.0 Hz:   0%|          | 0/200 [00:00<?, ?it/s]"
      ]
     },
     "metadata": {},
     "output_type": "display_data"
    },
    {
     "data": {
      "application/vnd.jupyter.widget-view+json": {
       "model_id": "",
       "version_major": 2,
       "version_minor": 0
      },
      "text/plain": [
       "  ... working at frequency = 7802.0 Hz:   0%|          | 0/200 [00:00<?, ?it/s]"
      ]
     },
     "metadata": {},
     "output_type": "display_data"
    },
    {
     "data": {
      "application/vnd.jupyter.widget-view+json": {
       "model_id": "",
       "version_major": 2,
       "version_minor": 0
      },
      "text/plain": [
       "  ... working at frequency = 7902.0 Hz:   0%|          | 0/200 [00:00<?, ?it/s]"
      ]
     },
     "metadata": {},
     "output_type": "display_data"
    },
    {
     "data": {
      "application/vnd.jupyter.widget-view+json": {
       "model_id": "",
       "version_major": 2,
       "version_minor": 0
      },
      "text/plain": [
       "  ... working at frequency = 8002.0 Hz:   0%|          | 0/200 [00:00<?, ?it/s]"
      ]
     },
     "metadata": {},
     "output_type": "display_data"
    },
    {
     "data": {
      "application/vnd.jupyter.widget-view+json": {
       "model_id": "",
       "version_major": 2,
       "version_minor": 0
      },
      "text/plain": [
       "  ... working at frequency = 8102.0 Hz:   0%|          | 0/200 [00:00<?, ?it/s]"
      ]
     },
     "metadata": {},
     "output_type": "display_data"
    },
    {
     "data": {
      "application/vnd.jupyter.widget-view+json": {
       "model_id": "",
       "version_major": 2,
       "version_minor": 0
      },
      "text/plain": [
       "  ... working at frequency = 8202.0 Hz:   0%|          | 0/200 [00:00<?, ?it/s]"
      ]
     },
     "metadata": {},
     "output_type": "display_data"
    },
    {
     "data": {
      "application/vnd.jupyter.widget-view+json": {
       "model_id": "",
       "version_major": 2,
       "version_minor": 0
      },
      "text/plain": [
       "  ... working at frequency = 8302.0 Hz:   0%|          | 0/200 [00:00<?, ?it/s]"
      ]
     },
     "metadata": {},
     "output_type": "display_data"
    },
    {
     "data": {
      "application/vnd.jupyter.widget-view+json": {
       "model_id": "",
       "version_major": 2,
       "version_minor": 0
      },
      "text/plain": [
       "  ... working at frequency = 8402.0 Hz:   0%|          | 0/200 [00:00<?, ?it/s]"
      ]
     },
     "metadata": {},
     "output_type": "display_data"
    },
    {
     "data": {
      "application/vnd.jupyter.widget-view+json": {
       "model_id": "",
       "version_major": 2,
       "version_minor": 0
      },
      "text/plain": [
       "  ... working at frequency = 8502.0 Hz:   0%|          | 0/200 [00:00<?, ?it/s]"
      ]
     },
     "metadata": {},
     "output_type": "display_data"
    },
    {
     "data": {
      "application/vnd.jupyter.widget-view+json": {
       "model_id": "",
       "version_major": 2,
       "version_minor": 0
      },
      "text/plain": [
       "  ... working at frequency = 8602.0 Hz:   0%|          | 0/200 [00:00<?, ?it/s]"
      ]
     },
     "metadata": {},
     "output_type": "display_data"
    },
    {
     "data": {
      "application/vnd.jupyter.widget-view+json": {
       "model_id": "",
       "version_major": 2,
       "version_minor": 0
      },
      "text/plain": [
       "  ... working at frequency = 8702.0 Hz:   0%|          | 0/200 [00:00<?, ?it/s]"
      ]
     },
     "metadata": {},
     "output_type": "display_data"
    },
    {
     "data": {
      "application/vnd.jupyter.widget-view+json": {
       "model_id": "",
       "version_major": 2,
       "version_minor": 0
      },
      "text/plain": [
       "  ... working at frequency = 8802.0 Hz:   0%|          | 0/200 [00:00<?, ?it/s]"
      ]
     },
     "metadata": {},
     "output_type": "display_data"
    },
    {
     "data": {
      "application/vnd.jupyter.widget-view+json": {
       "model_id": "",
       "version_major": 2,
       "version_minor": 0
      },
      "text/plain": [
       "  ... working at frequency = 8902.0 Hz:   0%|          | 0/200 [00:00<?, ?it/s]"
      ]
     },
     "metadata": {},
     "output_type": "display_data"
    },
    {
     "data": {
      "application/vnd.jupyter.widget-view+json": {
       "model_id": "",
       "version_major": 2,
       "version_minor": 0
      },
      "text/plain": [
       "  ... working at frequency = 9002.0 Hz:   0%|          | 0/200 [00:00<?, ?it/s]"
      ]
     },
     "metadata": {},
     "output_type": "display_data"
    },
    {
     "data": {
      "application/vnd.jupyter.widget-view+json": {
       "model_id": "",
       "version_major": 2,
       "version_minor": 0
      },
      "text/plain": [
       "  ... working at frequency = 9102.0 Hz:   0%|          | 0/200 [00:00<?, ?it/s]"
      ]
     },
     "metadata": {},
     "output_type": "display_data"
    },
    {
     "data": {
      "application/vnd.jupyter.widget-view+json": {
       "model_id": "",
       "version_major": 2,
       "version_minor": 0
      },
      "text/plain": [
       "  ... working at frequency = 9202.0 Hz:   0%|          | 0/200 [00:00<?, ?it/s]"
      ]
     },
     "metadata": {},
     "output_type": "display_data"
    },
    {
     "data": {
      "application/vnd.jupyter.widget-view+json": {
       "model_id": "",
       "version_major": 2,
       "version_minor": 0
      },
      "text/plain": [
       "  ... working at frequency = 9302.0 Hz:   0%|          | 0/200 [00:00<?, ?it/s]"
      ]
     },
     "metadata": {},
     "output_type": "display_data"
    },
    {
     "data": {
      "application/vnd.jupyter.widget-view+json": {
       "model_id": "",
       "version_major": 2,
       "version_minor": 0
      },
      "text/plain": [
       "  ... working at frequency = 9402.0 Hz:   0%|          | 0/200 [00:00<?, ?it/s]"
      ]
     },
     "metadata": {},
     "output_type": "display_data"
    },
    {
     "data": {
      "application/vnd.jupyter.widget-view+json": {
       "model_id": "",
       "version_major": 2,
       "version_minor": 0
      },
      "text/plain": [
       "  ... working at frequency = 9502.0 Hz:   0%|          | 0/200 [00:00<?, ?it/s]"
      ]
     },
     "metadata": {},
     "output_type": "display_data"
    },
    {
     "data": {
      "application/vnd.jupyter.widget-view+json": {
       "model_id": "",
       "version_major": 2,
       "version_minor": 0
      },
      "text/plain": [
       "  ... working at frequency = 9602.0 Hz:   0%|          | 0/200 [00:00<?, ?it/s]"
      ]
     },
     "metadata": {},
     "output_type": "display_data"
    },
    {
     "data": {
      "application/vnd.jupyter.widget-view+json": {
       "model_id": "",
       "version_major": 2,
       "version_minor": 0
      },
      "text/plain": [
       "  ... working at frequency = 9702.0 Hz:   0%|          | 0/200 [00:00<?, ?it/s]"
      ]
     },
     "metadata": {},
     "output_type": "display_data"
    },
    {
     "data": {
      "application/vnd.jupyter.widget-view+json": {
       "model_id": "",
       "version_major": 2,
       "version_minor": 0
      },
      "text/plain": [
       "  ... working at frequency = 9802.0 Hz:   0%|          | 0/200 [00:00<?, ?it/s]"
      ]
     },
     "metadata": {},
     "output_type": "display_data"
    },
    {
     "data": {
      "application/vnd.jupyter.widget-view+json": {
       "model_id": "",
       "version_major": 2,
       "version_minor": 0
      },
      "text/plain": [
       "  ... working at frequency = 9902.0 Hz:   0%|          | 0/200 [00:00<?, ?it/s]"
      ]
     },
     "metadata": {},
     "output_type": "display_data"
    },
    {
     "data": {
      "application/vnd.jupyter.widget-view+json": {
       "model_id": "aef5f1408a7e4961ac56e2c2c7f04e50",
       "version_major": 2,
       "version_minor": 0
      },
      "text/plain": [
       "  ... working at frequency = 10002.0 Hz:   0%|          | 0/200 [00:00<?, ?it/s]"
      ]
     },
     "metadata": {},
     "output_type": "display_data"
    },
    {
     "name": "stdout",
     "output_type": "stream",
     "text": [
      "\n",
      "\n",
      "self.frequency_array.shape[0] = 101 is same as self.wavenumer_array.shape[0] = 101\n",
      "Save file to /Users/chenghunglin/Documents/sin_3_4_05_vol_4.xlsx\n"
     ]
    }
   ],
   "source": [
    "sin_3_4_05_vol_4 = anechoic_sound_absorption(determinant, frequency_array,\n",
    "                              fp = '/Users/chenghunglin/Documents/', \n",
    "                              fn = 'sin_3_4_05_vol_4.xlsx', \n",
    "                              material='rubber', shape='sin', \n",
    "                              p=3e-3, q=4e-3, lh=40e-3, cell_radius=15e-3, \n",
    "                              theta=0.5, phi=3e-3, length_unit='m',\n",
    "                              num_segments=200, layer_density=1100, air_density=1.21, \n",
    "                              Young_modulus=0.14e9, Poisson_ratio=0.49, loss_factor=0.23, \n",
    "                              medium_density=998, sound_speed_medium=1483, \n",
    "                              use_volume=True)"
   ]
  },
  {
   "cell_type": "code",
   "execution_count": 22,
   "metadata": {},
   "outputs": [
    {
     "name": "stdout",
     "output_type": "stream",
     "text": [
      "self.frequency_array.shape[0] = 101 is same as self.wavenumer_array.shape[0] = 101\n",
      "self.frequency_array.shape[0] = 201 is same as self.wavenumer_array.shape[0] = 201\n",
      "self.frequency_array.shape[0] = 201 is same as self.wavenumer_array.shape[0] = 201\n",
      "self.frequency_array.shape[0] = 101 is same as self.wavenumer_array.shape[0] = 101\n"
     ]
    },
    {
     "data": {
      "text/plain": [
       "<matplotlib.legend.Legend at 0x154c425d0>"
      ]
     },
     "execution_count": 22,
     "metadata": {},
     "output_type": "execute_result"
    },
    {
     "data": {
      "application/vnd.jupyter.widget-view+json": {
       "model_id": "a98b26bb6e9a44faa23fbfd43009574b",
       "version_major": 2,
       "version_minor": 0
      },
      "image/png": "[encoded data removed]",
      "text/html": [
       "\n",
       "            <div style=\"display: inline-block;\">\n",
       "                <div class=\"jupyter-widgets widget-label\" style=\"text-align: center;\">\n",
       "                    Figure\n",
       "                </div>\n",
       "                <img src='data:image/png;base64,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' width=640.0/>\n",
       "            </div>\n",
       "        "
      ],
      "text/plain": [
       "Canvas(toolbar=Toolbar(toolitems=[('Home', 'Reset original view', 'home', 'home'), ('Back', 'Back to previous …"
      ]
     },
     "metadata": {},
     "output_type": "display_data"
    }
   ],
   "source": [
    "plt.figure()\n",
    "plt.plot(sin_3_4_05_vol.frequency_array, sin_3_4_05_vol.absorption_frequency(), label='sin, p=3, q=4, fr100, seg100, vol')\n",
    "# plt.plot(sin_3_4_05_rad.frequency_array, sin_3_4_05_rad.absorption_frequency(), label='sin, p=3, q=4, fr100, seg100, rad')\n",
    "plt.plot(sin_3_4_05_vol_2.frequency_array, sin_3_4_05_vol_2.absorption_frequency(), label='sin, p=3, q=4, fr50, seg200, vol')\n",
    "plt.plot(sin_3_4_05_vol_3.frequency_array, sin_3_4_05_vol_3.absorption_frequency(), label='sin, p=3, q=4, fr50, seg100, vol')\n",
    "plt.plot(sin_3_4_05_vol_4.frequency_array, sin_3_4_05_vol_4.absorption_frequency(), label='sin, p=3, q=4, fr100, seg200, vol')\n",
    "plt.legend()"
   ]
  },
  {
   "cell_type": "code",
   "execution_count": null,
   "metadata": {},
   "outputs": [],
   "source": []
  },
  {
   "cell_type": "markdown",
   "metadata": {},
   "source": [
    "### Example 02: change parameters through sound_performance() objects"
   ]
  },
  {
   "cell_type": "code",
   "execution_count": null,
   "metadata": {},
   "outputs": [],
   "source": [
    "horn_1_11 = sound_performance(determinant, frequency_array)"
   ]
  },
  {
   "cell_type": "code",
   "execution_count": null,
   "metadata": {},
   "outputs": [],
   "source": [
    "horn_1_11.shape = 'horn'\n",
    "horn_1_11.p_hole = 1e-3\n",
    "horn_1_11.q_hole = 11e-3"
   ]
  },
  {
   "cell_type": "code",
   "execution_count": null,
   "metadata": {},
   "outputs": [],
   "source": [
    "## Find roots of wavenumber in the equation of determinant\n",
    "horn_1_11.wavenumer_array, horn_1_11.failed_root = horn_1_11.axial_wavenumber_array()"
   ]
  },
  {
   "cell_type": "code",
   "execution_count": null,
   "metadata": {},
   "outputs": [],
   "source": [
    "## Save the data\n",
    "fp = '/Users/chenghunglin/Documents/'\n",
    "fn = 'horn_1_11.xlsx'\n",
    "horn_1_11.save_data(fp, fn)"
   ]
  },
  {
   "cell_type": "code",
   "execution_count": null,
   "metadata": {},
   "outputs": [],
   "source": []
  },
  {
   "cell_type": "markdown",
   "metadata": {},
   "source": [
    "## Plot data to compare with the paper"
   ]
  },
  {
   "cell_type": "code",
   "execution_count": null,
   "metadata": {},
   "outputs": [],
   "source": [
    "plt.figure()\n",
    "# plt.plot(cone_4_8.frequency_array, cone_4_8.absorption_frequency(), label='cone, p=4, q=8, Young=0.14 Gpa')\n",
    "# plt.plot(cone_4_8_1.frequency_array, cone_4_8_1.absorption_frequency(), label='cone, p=4, q=8, Young=0.014 Gpa')\n",
    "# plt.plot(cone_4_8_3.frequency_array, cone_4_8_3.absorption_frequency(), '--', color='orange', label='cone, p=4, q=8, Young=0.014 Gpa')\n",
    "plt.plot(horn_1_11.frequency_array, horn_1_11.absorption_frequency(), label='horn, p=1, q=11')\n",
    "plt.legend()"
   ]
  },
  {
   "cell_type": "code",
   "execution_count": null,
   "metadata": {},
   "outputs": [],
   "source": [
    "# plt.figure()\n",
    "# plt.plot(cone_4_8.frequency_array, cone_4_8.absorption_frequency(), color='blue', label='cone, p=4, q=8, Young=0.14 Gpa, step=200Hz')\n",
    "# plt.plot(cone_4_8_4.frequency_array, cone_4_8_4.absorption_frequency(), '--', color='blue',label='cone, p=4, q=8, Young=0.14 Gpa, step=25Hz')\n",
    "# plt.plot(cone_4_8_1.frequency_array, cone_4_8_1.absorption_frequency(), color='orange', label='cone, p=4, q=8, Young=0.014 Gpa, step=200Hz')\n",
    "# plt.plot(cone_4_8_5.frequency_array, cone_4_8_5.absorption_frequency(), '--', color='orange', label='cone, p=4, q=8, Young=0.014 Gpa, step=25Hz')\n",
    "# plt.plot(horn_1_11.frequency_array, horn_1_11.absorption_frequency(), label='horn, p=1, q=11')\n",
    "# legend_properties = {'weight':'regular', 'size':8}    \n",
    "# plt.legend(prop=legend_properties, loc='upper left') #, bbox_to_anchor=(1, 0.5))\n",
    "# plt.legend()"
   ]
  },
  {
   "cell_type": "code",
   "execution_count": null,
   "metadata": {},
   "outputs": [],
   "source": []
  }
 ],
 "metadata": {
  "anaconda-cloud": {},
  "kernelspec": {
   "display_name": "Python 3 (ipykernel)",
   "language": "python",
   "name": "python3"
  },
  "language_info": {
   "codemirror_mode": {
    "name": "ipython",
    "version": 3
   },
   "file_extension": ".py",
   "mimetype": "text/x-python",
   "name": "python",
   "nbconvert_exporter": "python",
   "pygments_lexer": "ipython3",
   "version": "3.12.2"
  }
 },
 "nbformat": 4,
 "nbformat_minor": 4
}
